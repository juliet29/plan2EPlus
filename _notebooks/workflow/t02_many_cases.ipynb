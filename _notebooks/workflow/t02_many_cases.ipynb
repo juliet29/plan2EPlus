{
 "cells": [
  {
   "cell_type": "code",
   "execution_count": 1,
   "metadata": {},
   "outputs": [],
   "source": [
    "import sys\n",
    "sys.path.append(\"/Users/julietnwagwuume-ezeoke/_UILCode/gqe-phd/geomeppy/_scripts\")\n",
    "\n",
    "from recipes.two_zone import input\n",
    "# from recipes.tests import input as input2\n",
    "from case_edits.ezcase import EzCase, EzCaseInput\n",
    "\n",
    "from operator import attrgetter\n",
    "from dataclasses import dataclass\n",
    "import dataclasses\n",
    "\n",
    "from pprint import pprint, pformat\n",
    "from copy import deepcopy\n",
    "\n",
    "import hashlib\n",
    "\n",
    "import os\n",
    "\n",
    "from geometry.wall import WallNormal\n",
    "\n",
    "from workflow.projects import ProjectManager\n",
    "\n",
    "import pickle\n",
    "from deepdiff import DeepDiff\n",
    "import filecmp"
   ]
  },
  {
   "cell_type": "code",
   "execution_count": 2,
   "metadata": {},
   "outputs": [
    {
     "name": "stdout",
     "output_type": "stream",
     "text": [
      "Added 5 walls \n",
      "Added 4 walls \n",
      "out.idf exists\n",
      "idf has not changed - no run\n",
      "looking for sql\n",
      "IDF did not change, so not re-running analysis\n"
     ]
    }
   ],
   "source": [
    "pm = ProjectManager(\"test0\", input)"
   ]
  },
  {
   "cell_type": "code",
   "execution_count": 3,
   "metadata": {},
   "outputs": [],
   "source": [
    "pm.create_project_directory()"
   ]
  },
  {
   "cell_type": "code",
   "execution_count": 4,
   "metadata": {},
   "outputs": [
    {
     "name": "stdout",
     "output_type": "stream",
     "text": [
      "Added 5 walls \n",
      "Added 4 walls \n",
      "out.idf exists\n",
      "idf has not changed - no run\n",
      "looking for sql\n",
      "IDF did not change, so not re-running analysis\n"
     ]
    }
   ],
   "source": [
    "pm.create_base_case()"
   ]
  },
  {
   "cell_type": "code",
   "execution_count": 5,
   "metadata": {},
   "outputs": [
    {
     "name": "stdout",
     "output_type": "stream",
     "text": [
      "Added 5 walls \n",
      "Added 4 walls \n",
      "out.idf exists\n",
      "idf has not changed - no run\n",
      "looking for sql\n",
      "IDF did not change, so not re-running analysis\n"
     ]
    }
   ],
   "source": [
    "def mod(input:EzCaseInput):\n",
    "    input.window_pairs.append((0,WallNormal.WEST))\n",
    "    return input\n",
    "\n",
    "\n",
    "\n",
    "pm.generate_new_case(mod, \"more_windows\", prefix=\"a02\")"
   ]
  },
  {
   "cell_type": "code",
   "execution_count": 6,
   "metadata": {},
   "outputs": [
    {
     "name": "stdout",
     "output_type": "stream",
     "text": [
      "Added 5 walls \n",
      "Added 4 walls \n",
      "out.idf exists\n",
      "idf has not changed - no run\n",
      "looking for sql\n",
      "IDF did not change, so not re-running analysis\n"
     ]
    }
   ],
   "source": [
    "def mod(input:EzCaseInput):\n",
    "    input.window_pairs.append((1,WallNormal.WEST))\n",
    "    return input\n",
    "\n",
    "\n",
    "\n",
    "pm.generate_new_case(mod, \"test\", prefix=\"a03\")"
   ]
  },
  {
   "cell_type": "code",
   "execution_count": 7,
   "metadata": {},
   "outputs": [
    {
     "name": "stdout",
     "output_type": "stream",
     "text": [
      "Added 5 walls \n",
      "Added 4 walls \n",
      "out.idf exists\n",
      "idf has not changed - no run\n",
      "looking for sql\n",
      "IDF did not change, so not re-running analysis\n"
     ]
    }
   ],
   "source": [
    "def mod(input:EzCaseInput):\n",
    "    input.window_pairs.append((1,WallNormal.EAST))\n",
    "    return input\n",
    "\n",
    "\n",
    "\n",
    "pm.generate_new_case(mod, \"test2\", prefix=\"a04\")"
   ]
  }
 ],
 "metadata": {
  "kernelspec": {
   "display_name": "gqenv",
   "language": "python",
   "name": "python3"
  },
  "language_info": {
   "codemirror_mode": {
    "name": "ipython",
    "version": 3
   },
   "file_extension": ".py",
   "mimetype": "text/x-python",
   "name": "python",
   "nbconvert_exporter": "python",
   "pygments_lexer": "ipython3",
   "version": "3.10.14"
  }
 },
 "nbformat": 4,
 "nbformat_minor": 2
}
