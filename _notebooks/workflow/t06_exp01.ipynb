{
 "cells": [
  {
   "cell_type": "code",
   "execution_count": 1,
   "metadata": {},
   "outputs": [],
   "source": [
    "import sys\n",
    "sys.path.append(\"/Users/julietnwagwuume-ezeoke/_UILCode/gqe-phd/geomeppy/_scripts\")\n",
    "\n",
    "from copy import deepcopy\n",
    "\n",
    "\n",
    "from gplan.room_class import GPLANRoomAccess\n",
    "from case_edits.ezcase import EzCaseInput, EzCase\n",
    "from geometry.wall_normal import WallNormal\n",
    "from outputs.variables import OutputVars as ov\n",
    "from methods.subsurfaces.pairs import SubsurfacePair as SSP\n",
    "from methods.subsurfaces.pairs import DEFAULT_DOOR\n",
    "\n",
    "from recipes.two_zone import output_reqs\n",
    "from workflow.projects import ProjectManager\n",
    "\n",
    "from methods.subsurfaces.pairs import SubsurfacePair as SSP\n",
    "from methods.subsurfaces.pairs import SubsurfaceObjects"
   ]
  },
  {
   "cell_type": "code",
   "execution_count": 2,
   "metadata": {},
   "outputs": [
    {
     "name": "stdout",
     "output_type": "stream",
     "text": [
      "a00-base_case\n",
      "Added 4 walls \n",
      "Added 6 walls \n",
      "Added 4 walls \n",
      "Added 4 walls \n",
      "Added 6 walls \n",
      "Added 4 walls \n",
      "out.idf does not exist\n",
      "idf has changed - running case\n",
      "\n",
      "/Applications/EnergyPlus-22-2-0/energyplus --weather /Users/julietnwagwuume-ezeoke/_UILCode/gqe-phd/geomeppy/weather_data/PALO_ALTO/CA_PALO-ALTO-AP_724937_23.EPW --output-directory /Users/julietnwagwuume-ezeoke/_UILCode/gqe-phd/geomeppy/cases/projects/test1/a00-base_case/results --idd /Applications/EnergyPlus-22-2-0/Energy+.idd /Users/julietnwagwuume-ezeoke/_UILCode/gqe-phd/geomeppy/cases/base/01example/Minimal_AP_7362de.idf\n",
      "\n",
      "EnergyPlus Starting\n",
      "EnergyPlus, Version 22.2.0-c249759bad, YMD=2024.08.07 02:14\n",
      "Adjusting Air System Sizing\n",
      "Adjusting Standard 62.1 Ventilation Sizing\n",
      "Initializing Simulation\n",
      "Reporting Surfaces\n",
      "Beginning Primary Simulation\n",
      "Initializing New Environment Parameters\n",
      "Warming up {1}\n",
      "Warming up {2}\n",
      "Warming up {3}\n",
      "Warming up {4}\n",
      "Warming up {5}\n",
      "Warming up {6}\n",
      "Starting Simulation at 07/01/2017 for SUMMERDAY\n",
      "Writing tabular output file results using HTML format.\n",
      "Writing final SQL reports\n",
      "EnergyPlus Run Time=00hr 00min  0.27sec\n",
      "looking for sql\n",
      "running analysis\n"
     ]
    },
    {
     "name": "stderr",
     "output_type": "stream",
     "text": [
      "EnergyPlus Completed Successfully.\n",
      "/Users/julietnwagwuume-ezeoke/_UILCode/gqe-phd/geomeppy/_scripts/outputs/sql.py:39: UserWarning:\n",
      "\n",
      "AFN Zone Ventilation Air Change Rate not in ('Surface Outside Face Incident Solar Radiation Rate per Area', 'Surface Outside Face Temperature', 'Surface Inside Face Temperature', 'Site Direct Solar Radiation Rate per Area', 'Zone Mean Air Temperature', 'Site Outdoor Air Drybulb Temperature', 'Site Outdoor Air Dewpoint Temperature', 'Site Solar Altitude Angle', 'Surface Outside Face Net Thermal Radiation Heat Gain Rate per Area', 'Site Wind Speed', 'Site Outdoor Air Wetbulb Temperature', 'Site Wind Direction', 'Site Diffuse Solar Radiation Rate per Area', 'Site Solar Azimuth Angle')\n",
      "\n",
      "/Users/julietnwagwuume-ezeoke/_UILCode/gqe-phd/geomeppy/_scripts/outputs/sql.py:39: UserWarning:\n",
      "\n",
      "AFN Zone Ventilation Sensible Heat Gain Rate not in ('Surface Outside Face Incident Solar Radiation Rate per Area', 'Surface Outside Face Temperature', 'Surface Inside Face Temperature', 'Site Direct Solar Radiation Rate per Area', 'Zone Mean Air Temperature', 'Site Outdoor Air Drybulb Temperature', 'Site Outdoor Air Dewpoint Temperature', 'Site Solar Altitude Angle', 'Surface Outside Face Net Thermal Radiation Heat Gain Rate per Area', 'Site Wind Speed', 'Site Outdoor Air Wetbulb Temperature', 'Site Wind Direction', 'Site Diffuse Solar Radiation Rate per Area', 'Site Solar Azimuth Angle')\n",
      "\n",
      "/Users/julietnwagwuume-ezeoke/_UILCode/gqe-phd/geomeppy/_scripts/outputs/sql.py:39: UserWarning:\n",
      "\n",
      "AFN Zone Ventilation Sensible Heat Loss Rate not in ('Surface Outside Face Incident Solar Radiation Rate per Area', 'Surface Outside Face Temperature', 'Surface Inside Face Temperature', 'Site Direct Solar Radiation Rate per Area', 'Zone Mean Air Temperature', 'Site Outdoor Air Drybulb Temperature', 'Site Outdoor Air Dewpoint Temperature', 'Site Solar Altitude Angle', 'Surface Outside Face Net Thermal Radiation Heat Gain Rate per Area', 'Site Wind Speed', 'Site Outdoor Air Wetbulb Temperature', 'Site Wind Direction', 'Site Diffuse Solar Radiation Rate per Area', 'Site Solar Azimuth Angle')\n",
      "\n",
      "/Users/julietnwagwuume-ezeoke/_UILCode/gqe-phd/geomeppy/_scripts/outputs/sql.py:39: UserWarning:\n",
      "\n",
      "AFN Linkage Node 1 to Node 2 Volume Flow Rate not in ('Surface Outside Face Incident Solar Radiation Rate per Area', 'Surface Outside Face Temperature', 'Surface Inside Face Temperature', 'Site Direct Solar Radiation Rate per Area', 'Zone Mean Air Temperature', 'Site Outdoor Air Drybulb Temperature', 'Site Outdoor Air Dewpoint Temperature', 'Site Solar Altitude Angle', 'Surface Outside Face Net Thermal Radiation Heat Gain Rate per Area', 'Site Wind Speed', 'Site Outdoor Air Wetbulb Temperature', 'Site Wind Direction', 'Site Diffuse Solar Radiation Rate per Area', 'Site Solar Azimuth Angle')\n",
      "\n",
      "/Users/julietnwagwuume-ezeoke/_UILCode/gqe-phd/geomeppy/_scripts/outputs/sql.py:39: UserWarning:\n",
      "\n",
      "AFN Linkage Node 2 to Node 1 Volume Flow Rate not in ('Surface Outside Face Incident Solar Radiation Rate per Area', 'Surface Outside Face Temperature', 'Surface Inside Face Temperature', 'Site Direct Solar Radiation Rate per Area', 'Zone Mean Air Temperature', 'Site Outdoor Air Drybulb Temperature', 'Site Outdoor Air Dewpoint Temperature', 'Site Solar Altitude Angle', 'Surface Outside Face Net Thermal Radiation Heat Gain Rate per Area', 'Site Wind Speed', 'Site Outdoor Air Wetbulb Temperature', 'Site Wind Direction', 'Site Diffuse Solar Radiation Rate per Area', 'Site Solar Azimuth Angle')\n",
      "\n",
      "/Users/julietnwagwuume-ezeoke/_UILCode/gqe-phd/geomeppy/_scripts/analysis/post_process.py:28: UserWarning:\n",
      "\n",
      "Output variables are not appropriate for this case\n",
      "\n"
     ]
    }
   ],
   "source": [
    "TEST_CASE = \"tests/test17_exp01\"\n",
    "PLAN_PATH = \"GPLANs/ostwald_plans.json\"\n",
    "PLAN_INDEX = 0\n",
    "\n",
    "input = EzCaseInput(\n",
    "    case_name=TEST_CASE,\n",
    "    geometry=GPLANRoomAccess(PLAN_PATH, PLAN_INDEX),\n",
    "    subsurface_pairs=[],\n",
    "    output_variables=output_reqs,\n",
    ")\n",
    "\n",
    "pm = ProjectManager(\"test1\", input, RUN_CASE=True)"
   ]
  },
  {
   "cell_type": "code",
   "execution_count": 3,
   "metadata": {},
   "outputs": [],
   "source": [
    "def ns_axis(input:EzCaseInput):\n",
    "    input.subsurface_pairs.extend([\n",
    "        SSP(1,WallNormal.NORTH, SubsurfaceObjects.DOOR), \n",
    "        SSP(5,WallNormal.NORTH, SubsurfaceObjects.DOOR), \n",
    "        SSP(4,WallNormal.NORTH, SubsurfaceObjects.DOOR), \n",
    "        SSP(4,WallNormal.SOUTH, SubsurfaceObjects.DOOR)])\n",
    "\n",
    "    return input\n",
    "\n",
    "\n",
    "def ew_axis(input:EzCaseInput):\n",
    "    input.subsurface_pairs.extend([\n",
    "        SSP(5,WallNormal.WEST, SubsurfaceObjects.DOOR), \n",
    "        SSP(5,WallNormal.EAST, SubsurfaceObjects.DOOR), \n",
    "        SSP(2,WallNormal.EAST, SubsurfaceObjects.DOOR)])\n",
    "\n",
    "    return input\n",
    "\n",
    "def cross_axis(input:EzCaseInput):\n",
    "    input = ns_axis(input)\n",
    "    input = ew_axis(input)\n",
    "    return input\n",
    "\n",
    "shaded_door = deepcopy(DEFAULT_DOOR)\n",
    "shaded_door.SHADING = True\n",
    "\n",
    "def shaded_exterior(input:EzCaseInput):\n",
    "    input.subsurface_pairs.extend([\n",
    "    SSP(1,WallNormal.NORTH, shaded_door), \n",
    "    SSP(5,WallNormal.NORTH, SubsurfaceObjects.DOOR), \n",
    "    SSP(4,WallNormal.NORTH, SubsurfaceObjects.DOOR), \n",
    "    SSP(4,WallNormal.SOUTH, shaded_door)])\n",
    "    input.subsurface_pairs.extend([\n",
    "    SSP(5,WallNormal.WEST, shaded_door), \n",
    "    SSP(5,WallNormal.EAST, SubsurfaceObjects.DOOR),\n",
    "    SSP(2,WallNormal.EAST, shaded_door)])\n",
    "    return input\n"
   ]
  },
  {
   "cell_type": "code",
   "execution_count": 4,
   "metadata": {},
   "outputs": [
    {
     "name": "stdout",
     "output_type": "stream",
     "text": [
      "a02-ns_axis\n",
      "Added 4 walls \n",
      "Added 6 walls \n",
      "Added 4 walls \n",
      "Added 4 walls \n",
      "Added 6 walls \n",
      "Added 4 walls \n",
      "out.idf does not exist\n",
      "idf has changed - running case\n",
      "\n",
      "/Applications/EnergyPlus-22-2-0/energyplus --weather /Users/julietnwagwuume-ezeoke/_UILCode/gqe-phd/geomeppy/weather_data/PALO_ALTO/CA_PALO-ALTO-AP_724937_23.EPW --output-directory /Users/julietnwagwuume-ezeoke/_UILCode/gqe-phd/geomeppy/cases/projects/test1/a02-ns_axis/results --idd /Applications/EnergyPlus-22-2-0/Energy+.idd /Users/julietnwagwuume-ezeoke/_UILCode/gqe-phd/geomeppy/cases/base/01example/Minimal_AP_52e7cc.idf\n",
      "\n",
      "EnergyPlus Starting\n",
      "EnergyPlus, Version 22.2.0-c249759bad, YMD=2024.08.07 02:14\n",
      "Adjusting Air System Sizing\n",
      "Adjusting Standard 62.1 Ventilation Sizing\n",
      "Initializing Simulation\n"
     ]
    },
    {
     "name": "stderr",
     "output_type": "stream",
     "text": [
      "Program terminated: EnergyPlus Terminated--Error(s) Detected.\n"
     ]
    },
    {
     "name": "stdout",
     "output_type": "stream",
     "text": [
      "Simulation for case `a02-ns_axis` failed - see error logs\n",
      "looking for sql\n",
      "running analysis\n"
     ]
    },
    {
     "ename": "IndexError",
     "evalue": "list index out of range",
     "output_type": "error",
     "traceback": [
      "\u001b[0;31m---------------------------------------------------------------------------\u001b[0m",
      "\u001b[0;31mIndexError\u001b[0m                                Traceback (most recent call last)",
      "Cell \u001b[0;32mIn[4], line 1\u001b[0m\n\u001b[0;32m----> 1\u001b[0m \u001b[43mpm\u001b[49m\u001b[38;5;241;43m.\u001b[39;49m\u001b[43mgenerate_new_case\u001b[49m\u001b[43m(\u001b[49m\u001b[43mns_axis\u001b[49m\u001b[43m,\u001b[49m\u001b[43m \u001b[49m\u001b[38;5;124;43m\"\u001b[39;49m\u001b[38;5;124;43mns_axis\u001b[39;49m\u001b[38;5;124;43m\"\u001b[39;49m\u001b[43m,\u001b[49m\u001b[43m \u001b[49m\u001b[43mprefix\u001b[49m\u001b[38;5;241;43m=\u001b[39;49m\u001b[38;5;124;43m\"\u001b[39;49m\u001b[38;5;124;43ma02\u001b[39;49m\u001b[38;5;124;43m\"\u001b[39;49m\u001b[43m)\u001b[49m\n\u001b[1;32m      2\u001b[0m pm\u001b[38;5;241m.\u001b[39mgenerate_new_case(ew_axis, \u001b[38;5;124m\"\u001b[39m\u001b[38;5;124mew_axis\u001b[39m\u001b[38;5;124m\"\u001b[39m, prefix\u001b[38;5;241m=\u001b[39m\u001b[38;5;124m\"\u001b[39m\u001b[38;5;124ma03\u001b[39m\u001b[38;5;124m\"\u001b[39m)\n\u001b[1;32m      3\u001b[0m pm\u001b[38;5;241m.\u001b[39mgenerate_new_case(cross_axis, \u001b[38;5;124m\"\u001b[39m\u001b[38;5;124mcross_axis\u001b[39m\u001b[38;5;124m\"\u001b[39m, prefix\u001b[38;5;241m=\u001b[39m\u001b[38;5;124m\"\u001b[39m\u001b[38;5;124ma04\u001b[39m\u001b[38;5;124m\"\u001b[39m)\n",
      "File \u001b[0;32m~/_UILCode/gqe-phd/geomeppy/_scripts/workflow/projects.py:58\u001b[0m, in \u001b[0;36mProjectManager.generate_new_case\u001b[0;34m(self, mod_fx, name, prefix, letter)\u001b[0m\n\u001b[1;32m     55\u001b[0m case_name \u001b[38;5;241m=\u001b[39m \u001b[38;5;124mf\u001b[39m\u001b[38;5;124m\"\u001b[39m\u001b[38;5;132;01m{\u001b[39;00mprefix\u001b[38;5;132;01m}\u001b[39;00m\u001b[38;5;124m-\u001b[39m\u001b[38;5;132;01m{\u001b[39;00mname\u001b[38;5;132;01m}\u001b[39;00m\u001b[38;5;124m\"\u001b[39m\n\u001b[1;32m     56\u001b[0m \u001b[38;5;28mself\u001b[39m\u001b[38;5;241m.\u001b[39mnew_input\u001b[38;5;241m.\u001b[39mcase_name \u001b[38;5;241m=\u001b[39m case_name\n\u001b[0;32m---> 58\u001b[0m \u001b[38;5;28mself\u001b[39m\u001b[38;5;241m.\u001b[39mnew_ezcase \u001b[38;5;241m=\u001b[39m \u001b[43mEzCase\u001b[49m\u001b[43m(\u001b[49m\u001b[38;5;28;43mself\u001b[39;49m\u001b[38;5;241;43m.\u001b[39;49m\u001b[43mnew_input\u001b[49m\u001b[43m,\u001b[49m\u001b[43m \u001b[49m\u001b[38;5;28;43mself\u001b[39;49m\u001b[38;5;241;43m.\u001b[39;49m\u001b[43mRUN_CASE\u001b[49m\u001b[43m)\u001b[49m\n\u001b[1;32m     59\u001b[0m \u001b[38;5;28mself\u001b[39m\u001b[38;5;241m.\u001b[39msave_input_pkl(\u001b[38;5;28mself\u001b[39m\u001b[38;5;241m.\u001b[39mnew_input, \u001b[38;5;28mself\u001b[39m\u001b[38;5;241m.\u001b[39mnew_ezcase\u001b[38;5;241m.\u001b[39mcase\u001b[38;5;241m.\u001b[39mpath)\n\u001b[1;32m     60\u001b[0m \u001b[38;5;28mself\u001b[39m\u001b[38;5;241m.\u001b[39msave_diff_input_txt()\n",
      "File \u001b[0;32m~/_UILCode/gqe-phd/geomeppy/_scripts/case_edits/ezcase.py:47\u001b[0m, in \u001b[0;36mEzCase.__init__\u001b[0;34m(self, input, RUN_CASE)\u001b[0m\n\u001b[1;32m     45\u001b[0m \u001b[38;5;28mself\u001b[39m\u001b[38;5;241m.\u001b[39mRUN_CASE \u001b[38;5;241m=\u001b[39m RUN_CASE\n\u001b[1;32m     46\u001b[0m \u001b[38;5;28mself\u001b[39m\u001b[38;5;241m.\u001b[39mformat_inputs()\n\u001b[0;32m---> 47\u001b[0m \u001b[38;5;28;43mself\u001b[39;49m\u001b[38;5;241;43m.\u001b[39;49m\u001b[43mrun\u001b[49m\u001b[43m(\u001b[49m\u001b[43m)\u001b[49m\n\u001b[1;32m     49\u001b[0m \u001b[38;5;28mself\u001b[39m\u001b[38;5;241m.\u001b[39msql \u001b[38;5;241m=\u001b[39m \u001b[38;5;28;01mNone\u001b[39;00m\n\u001b[1;32m     50\u001b[0m \u001b[38;5;28mself\u001b[39m\u001b[38;5;241m.\u001b[39mplt \u001b[38;5;241m=\u001b[39m \u001b[38;5;28;01mNone\u001b[39;00m\n",
      "File \u001b[0;32m~/_UILCode/gqe-phd/geomeppy/_scripts/case_edits/ezcase.py:67\u001b[0m, in \u001b[0;36mEzCase.run\u001b[0;34m(self)\u001b[0m\n\u001b[1;32m     65\u001b[0m \u001b[38;5;28mself\u001b[39m\u001b[38;5;241m.\u001b[39mprepare_plotter()\n\u001b[1;32m     66\u001b[0m \u001b[38;5;28;01mif\u001b[39;00m \u001b[38;5;28mself\u001b[39m\u001b[38;5;241m.\u001b[39mRUN_CASE:\n\u001b[0;32m---> 67\u001b[0m     \u001b[38;5;28;43mself\u001b[39;49m\u001b[38;5;241;43m.\u001b[39;49m\u001b[43mrun_analysis\u001b[49m\u001b[43m(\u001b[49m\u001b[43m)\u001b[49m\n\u001b[1;32m     68\u001b[0m     \u001b[38;5;28mself\u001b[39m\u001b[38;5;241m.\u001b[39mpost_process_variables()\n",
      "File \u001b[0;32m~/_UILCode/gqe-phd/geomeppy/_scripts/case_edits/ezcase.py:166\u001b[0m, in \u001b[0;36mEzCase.run_analysis\u001b[0;34m(self)\u001b[0m\n\u001b[1;32m    158\u001b[0m     \u001b[38;5;28mprint\u001b[39m(\u001b[38;5;124m\"\u001b[39m\u001b[38;5;124mrunning analysis\u001b[39m\u001b[38;5;124m\"\u001b[39m)\n\u001b[1;32m    159\u001b[0m     inputs \u001b[38;5;241m=\u001b[39m AutoAnalysisInputs(\n\u001b[1;32m    160\u001b[0m         \u001b[38;5;28mself\u001b[39m\u001b[38;5;241m.\u001b[39meligible_vars,\n\u001b[1;32m    161\u001b[0m         \u001b[38;5;28mself\u001b[39m\u001b[38;5;241m.\u001b[39mplt,\n\u001b[0;32m   (...)\u001b[0m\n\u001b[1;32m    164\u001b[0m         \u001b[38;5;28mself\u001b[39m\u001b[38;5;241m.\u001b[39mcase\u001b[38;5;241m.\u001b[39mpath,\n\u001b[1;32m    165\u001b[0m     )\n\u001b[0;32m--> 166\u001b[0m     \u001b[38;5;28mself\u001b[39m\u001b[38;5;241m.\u001b[39manalysis \u001b[38;5;241m=\u001b[39m \u001b[43mAutoAnalysis\u001b[49m\u001b[43m(\u001b[49m\u001b[43minputs\u001b[49m\u001b[43m)\u001b[49m\n\u001b[1;32m    167\u001b[0m \u001b[38;5;28;01melse\u001b[39;00m:\n\u001b[1;32m    168\u001b[0m     \u001b[38;5;28mprint\u001b[39m(\u001b[38;5;124m\"\u001b[39m\u001b[38;5;124mIDF did not change, so not re-running analysis\u001b[39m\u001b[38;5;124m\"\u001b[39m)\n",
      "File \u001b[0;32m~/_UILCode/gqe-phd/geomeppy/_scripts/workflow/auto_analysis.py:29\u001b[0m, in \u001b[0;36mAutoAnalysis.__init__\u001b[0;34m(self, inputs)\u001b[0m\n\u001b[1;32m     27\u001b[0m \u001b[38;5;28mself\u001b[39m\u001b[38;5;241m.\u001b[39mvars \u001b[38;5;241m=\u001b[39m inputs\u001b[38;5;241m.\u001b[39mvariable_names\n\u001b[1;32m     28\u001b[0m \u001b[38;5;28mself\u001b[39m\u001b[38;5;241m.\u001b[39mplt \u001b[38;5;241m=\u001b[39m inputs\u001b[38;5;241m.\u001b[39mplotter\n\u001b[0;32m---> 29\u001b[0m \u001b[38;5;28;43mself\u001b[39;49m\u001b[38;5;241;43m.\u001b[39;49m\u001b[43mrun\u001b[49m\u001b[43m(\u001b[49m\u001b[43m)\u001b[49m\n",
      "File \u001b[0;32m~/_UILCode/gqe-phd/geomeppy/_scripts/workflow/auto_analysis.py:33\u001b[0m, in \u001b[0;36mAutoAnalysis.run\u001b[0;34m(self)\u001b[0m\n\u001b[1;32m     32\u001b[0m \u001b[38;5;28;01mdef\u001b[39;00m \u001b[38;5;21mrun\u001b[39m(\u001b[38;5;28mself\u001b[39m):\n\u001b[0;32m---> 33\u001b[0m     \u001b[38;5;28;43mself\u001b[39;49m\u001b[38;5;241;43m.\u001b[39;49m\u001b[43minitialize_plotter\u001b[49m\u001b[43m(\u001b[49m\u001b[43m)\u001b[49m\n\u001b[1;32m     34\u001b[0m     \u001b[38;5;28mself\u001b[39m\u001b[38;5;241m.\u001b[39mcreate_variable_groups()\n\u001b[1;32m     35\u001b[0m     \u001b[38;5;28mself\u001b[39m\u001b[38;5;241m.\u001b[39mcreate_jinja_data()\n",
      "File \u001b[0;32m~/_UILCode/gqe-phd/geomeppy/_scripts/workflow/auto_analysis.py:63\u001b[0m, in \u001b[0;36mAutoAnalysis.initialize_plotter\u001b[0;34m(self)\u001b[0m\n\u001b[1;32m     62\u001b[0m \u001b[38;5;28;01mdef\u001b[39;00m \u001b[38;5;21minitialize_plotter\u001b[39m(\u001b[38;5;28mself\u001b[39m):\n\u001b[0;32m---> 63\u001b[0m     \u001b[38;5;28;43mself\u001b[39;49m\u001b[38;5;241;43m.\u001b[39;49m\u001b[43mplt\u001b[49m\u001b[38;5;241;43m.\u001b[39;49m\u001b[43mget_collection_for_variable\u001b[49m\u001b[43m(\u001b[49m\u001b[38;5;28;43mself\u001b[39;49m\u001b[38;5;241;43m.\u001b[39;49m\u001b[43mvars\u001b[49m\u001b[38;5;241;43m.\u001b[39;49m\u001b[43mzone_mean_air_temp\u001b[49m\u001b[43m)\u001b[49m\n\u001b[1;32m     64\u001b[0m     \u001b[38;5;28mself\u001b[39m\u001b[38;5;241m.\u001b[39mplt\u001b[38;5;241m.\u001b[39mset_analysis_period(\u001b[38;5;241m0\u001b[39m)\n",
      "File \u001b[0;32m~/_UILCode/gqe-phd/geomeppy/_scripts/outputs/sql.py:28\u001b[0m, in \u001b[0;36mSQLReader.get_collection_for_variable\u001b[0;34m(self, output_var)\u001b[0m\n\u001b[1;32m     26\u001b[0m \u001b[38;5;28mself\u001b[39m\u001b[38;5;241m.\u001b[39mcurr_output \u001b[38;5;241m=\u001b[39m output_var\n\u001b[1;32m     27\u001b[0m \u001b[38;5;28;01mif\u001b[39;00m \u001b[38;5;28mself\u001b[39m\u001b[38;5;241m.\u001b[39mvalidate_request():\n\u001b[0;32m---> 28\u001b[0m     \u001b[38;5;28mself\u001b[39m\u001b[38;5;241m.\u001b[39mcollection \u001b[38;5;241m=\u001b[39m \u001b[38;5;28;43mself\u001b[39;49m\u001b[38;5;241;43m.\u001b[39;49m\u001b[43msqld\u001b[49m\u001b[38;5;241;43m.\u001b[39;49m\u001b[43mdata_collections_by_output_name\u001b[49m\u001b[43m(\u001b[49m\n\u001b[1;32m     29\u001b[0m \u001b[43m        \u001b[49m\u001b[38;5;28;43mself\u001b[39;49m\u001b[38;5;241;43m.\u001b[39;49m\u001b[43mcurr_output\u001b[49m\u001b[38;5;241;43m.\u001b[39;49m\u001b[43mvalue\u001b[49m\n\u001b[1;32m     30\u001b[0m \u001b[43m    \u001b[49m\u001b[43m)\u001b[49m\n\u001b[1;32m     31\u001b[0m     \u001b[38;5;28mself\u001b[39m\u001b[38;5;241m.\u001b[39msplit_collection_by_ap()\n",
      "File \u001b[0;32m~/_UILCode/gqe-phd/gqenv/lib/python3.10/site-packages/ladybug/sql.py:324\u001b[0m, in \u001b[0;36mSQLiteResult.data_collections_by_output_name\u001b[0;34m(self, output_name)\u001b[0m\n\u001b[1;32m    321\u001b[0m     \u001b[38;5;28;01mraise\u001b[39;00m \u001b[38;5;167;01mException\u001b[39;00m(\u001b[38;5;28mstr\u001b[39m(e))\n\u001b[1;32m    323\u001b[0m \u001b[38;5;66;03m# get the analysis period and the reporting frequency from the time table\u001b[39;00m\n\u001b[0;32m--> 324\u001b[0m st_time, end_time \u001b[38;5;241m=\u001b[39m \u001b[43mdata\u001b[49m\u001b[43m[\u001b[49m\u001b[38;5;241;43m0\u001b[39;49m\u001b[43m]\u001b[49m[\u001b[38;5;241m1\u001b[39m], data[\u001b[38;5;241m-\u001b[39m\u001b[38;5;241m1\u001b[39m][\u001b[38;5;241m1\u001b[39m]\n\u001b[1;32m    325\u001b[0m run_period, report_frequency, mult \u001b[38;5;241m=\u001b[39m \u001b[38;5;28mself\u001b[39m\u001b[38;5;241m.\u001b[39m_extract_run_period(st_time, end_time)\n\u001b[1;32m    326\u001b[0m \u001b[38;5;28;01mif\u001b[39;00m mult:  \u001b[38;5;66;03m# there are multiple analysis periods; get them all\u001b[39;00m\n",
      "\u001b[0;31mIndexError\u001b[0m: list index out of range"
     ]
    }
   ],
   "source": [
    "pm.generate_new_case(ns_axis, \"ns_axis\", prefix=\"a02\")\n",
    "pm.generate_new_case(ew_axis, \"ew_axis\", prefix=\"a03\")\n",
    "pm.generate_new_case(cross_axis, \"cross_axis\", prefix=\"a04\")\n",
    "pm.generate_new_case(shaded_exterior, \"shaded_ext\", prefix=\"a05\")\n",
    "pm.save_project_fig()"
   ]
  },
  {
   "cell_type": "code",
   "execution_count": null,
   "metadata": {},
   "outputs": [],
   "source": []
  },
  {
   "cell_type": "code",
   "execution_count": null,
   "metadata": {},
   "outputs": [],
   "source": []
  }
 ],
 "metadata": {
  "kernelspec": {
   "display_name": "gqenv",
   "language": "python",
   "name": "python3"
  },
  "language_info": {
   "codemirror_mode": {
    "name": "ipython",
    "version": 3
   },
   "file_extension": ".py",
   "mimetype": "text/x-python",
   "name": "python",
   "nbconvert_exporter": "python",
   "pygments_lexer": "ipython3",
   "version": "3.10.14"
  }
 },
 "nbformat": 4,
 "nbformat_minor": 2
}
