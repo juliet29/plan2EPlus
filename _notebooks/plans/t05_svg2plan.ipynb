{
 "cells": [
  {
   "cell_type": "code",
   "execution_count": 1,
   "metadata": {},
   "outputs": [],
   "source": [
    "%load_ext autoreload\n",
    "%autoreload 2"
   ]
  },
  {
   "cell_type": "code",
   "execution_count": 2,
   "metadata": {},
   "outputs": [],
   "source": [
    "from pathlib import Path\n",
    "import sys\n",
    "sys.path.append(str(Path.cwd() / \"_scripts\"))"
   ]
  },
  {
   "cell_type": "code",
   "execution_count": 3,
   "metadata": {},
   "outputs": [],
   "source": [
    "from case_edits.ezcase_new import *\n",
    "from helpers.ep_helpers import *\n",
    "from helpers.helpers import *\n"
   ]
  },
  {
   "cell_type": "code",
   "execution_count": 4,
   "metadata": {},
   "outputs": [],
   "source": [
    "\n",
    "inputs_dir = \"case_red_d3\"\n",
    "outputs_dir = \"tests/test22_svg2plan\"\n",
    "\n",
    "case = initialize_case(outputs_dir)\n",
    "path_to_inputs = get_path_to_inputs(inputs_dir)\n",
    "pairs = get_subsurface_pairs_from_case(path_to_inputs)\n",
    "\n",
    "\n"
   ]
  },
  {
   "cell_type": "code",
   "execution_count": 5,
   "metadata": {},
   "outputs": [
    {
     "name": "stdout",
     "output_type": "stream",
     "text": [
      "width: 0.57 NOT GREATER THAN 0.81\n",
      "Editing (2, 6) \n",
      "\n",
      "width: 0.66 NOT GREATER THAN 0.81\n",
      "Editing (2, 7) \n",
      "\n",
      "width: 0.71 NOT GREATER THAN 0.81\n",
      "Editing (6, 4) \n",
      "\n",
      "width: 0.71 NOT GREATER THAN 0.81\n",
      "Editing (3, 6) \n",
      "\n"
     ]
    }
   ],
   "source": [
    "idf = create_ezcase(outputs_dir, inputs_dir)"
   ]
  },
  {
   "cell_type": "code",
   "execution_count": 6,
   "metadata": {},
   "outputs": [
    {
     "data": {
      "text/plain": [
       "['Block 00 Storey 0',\n",
       " 'Block 01 Storey 0',\n",
       " 'Block 02 Storey 0',\n",
       " 'Block 03 Storey 0',\n",
       " 'Block 04 Storey 0',\n",
       " 'Block 05 Storey 0',\n",
       " 'Block 06 Storey 0',\n",
       " 'Block 07 Storey 0']"
      ]
     },
     "execution_count": 6,
     "metadata": {},
     "output_type": "execute_result"
    }
   ],
   "source": [
    "zone_names = [i.Name for i in get_zones(idf)]\n",
    "zone_names"
   ]
  },
  {
   "cell_type": "code",
   "execution_count": 7,
   "metadata": {},
   "outputs": [],
   "source": [
    "def find_matching_zone(subsurface:EpBunch):\n",
    "    for i in zone_names:\n",
    "        if i in subsurface.Building_Surface_Name:\n",
    "            return i"
   ]
  },
  {
   "cell_type": "code",
   "execution_count": 8,
   "metadata": {},
   "outputs": [
    {
     "data": {
      "text/plain": [
       "\n",
       "WINDOW,\n",
       "    Block 04 Storey 0 Wall 0001 Window,    !- Name\n",
       "    Project External Window,    !- Construction Name\n",
       "    Block 04 Storey 0 Wall 0001,    !- Building Surface Name\n",
       "    ,                         !- Frame and Divider Name\n",
       "    1.0,                      !- Multiplier\n",
       "    2.12,                     !- Starting X Coordinate\n",
       "    1.4994999999999998,       !- Starting Z Coordinate\n",
       "    0.71,                     !- Length\n",
       "    1.52;                     !- Height"
      ]
     },
     "execution_count": 8,
     "metadata": {},
     "output_type": "execute_result"
    }
   ],
   "source": [
    "original_subsurfaces = [i for i in idf.getsubsurfaces() if \"Partner\" not in i.Name]\n",
    "original_subsurfaces[0]"
   ]
  },
  {
   "cell_type": "code",
   "execution_count": 9,
   "metadata": {},
   "outputs": [
    {
     "data": {
      "text/plain": [
       "[('Block 04 Storey 0', 'Block 04 Storey 0 Wall 0001 Window'),\n",
       " ('Block 04 Storey 0', 'Block 04 Storey 0 Wall 0002 Window'),\n",
       " ('Block 00 Storey 0', 'Block 00 Storey 0 Wall 0003 Window'),\n",
       " ('Block 01 Storey 0', 'Block 01 Storey 0 Wall 0003 Window'),\n",
       " ('Block 00 Storey 0', 'Block 00 Storey 0 Wall 0002 Window'),\n",
       " ('Block 01 Storey 0', 'Block 01 Storey 0 Wall 0004 Window'),\n",
       " ('Block 03 Storey 0', 'Block 03 Storey 0 Wall 0004 Window'),\n",
       " ('Block 01 Storey 0', 'Block 01 Storey 0 Wall 0001_1 Door'),\n",
       " ('Block 01 Storey 0', 'Block 01 Storey 0 Wall 0002_1 Door'),\n",
       " ('Block 02 Storey 0', 'Block 02 Storey 0 Wall 0001_2 Door'),\n",
       " ('Block 02 Storey 0', 'Block 02 Storey 0 Wall 0001_1 Door'),\n",
       " ('Block 02 Storey 0', 'Block 02 Storey 0 Wall 0002_2 Door'),\n",
       " ('Block 06 Storey 0', 'Block 06 Storey 0 Wall 0002_1 Door'),\n",
       " ('Block 03 Storey 0', 'Block 03 Storey 0 Wall 0002_2 Door')]"
      ]
     },
     "execution_count": 9,
     "metadata": {},
     "output_type": "execute_result"
    }
   ],
   "source": [
    "zone_pairs = [(find_matching_zone(i), i.Name) for i in original_subsurfaces]\n",
    "zone_pairs"
   ]
  },
  {
   "cell_type": "code",
   "execution_count": 25,
   "metadata": {},
   "outputs": [],
   "source": [
    "d = {}\n",
    "\n",
    "for zone, subsurf in zone_pairs:\n",
    "    if zone not in d.keys():\n",
    "        d[zone] = []\n",
    "    d[zone].append(subsurf)\n"
   ]
  },
  {
   "cell_type": "code",
   "execution_count": 28,
   "metadata": {},
   "outputs": [
    {
     "data": {
      "text/plain": [
       "{'Block 04 Storey 0': ['Block 04 Storey 0 Wall 0001 Window',\n",
       "  'Block 04 Storey 0 Wall 0002 Window'],\n",
       " 'Block 00 Storey 0': ['Block 00 Storey 0 Wall 0003 Window',\n",
       "  'Block 00 Storey 0 Wall 0002 Window'],\n",
       " 'Block 01 Storey 0': ['Block 01 Storey 0 Wall 0003 Window',\n",
       "  'Block 01 Storey 0 Wall 0004 Window',\n",
       "  'Block 01 Storey 0 Wall 0001_1 Door',\n",
       "  'Block 01 Storey 0 Wall 0002_1 Door'],\n",
       " 'Block 03 Storey 0': ['Block 03 Storey 0 Wall 0004 Window',\n",
       "  'Block 03 Storey 0 Wall 0002_2 Door'],\n",
       " 'Block 02 Storey 0': ['Block 02 Storey 0 Wall 0001_2 Door',\n",
       "  'Block 02 Storey 0 Wall 0001_1 Door',\n",
       "  'Block 02 Storey 0 Wall 0002_2 Door']}"
      ]
     },
     "execution_count": 28,
     "metadata": {},
     "output_type": "execute_result"
    }
   ],
   "source": [
    "# filter zones w less than one subsurface\n",
    "afn_zones = {k:v for k,v in d.items() if len(v) >= 2}\n",
    "afn_zones\n"
   ]
  },
  {
   "cell_type": "code",
   "execution_count": 26,
   "metadata": {},
   "outputs": [
    {
     "data": {
      "text/plain": [
       "{'Block 04 Storey 0': ['Block 04 Storey 0 Wall 0001 Window',\n",
       "  'Block 04 Storey 0 Wall 0002 Window'],\n",
       " 'Block 00 Storey 0': ['Block 00 Storey 0 Wall 0003 Window',\n",
       "  'Block 00 Storey 0 Wall 0002 Window'],\n",
       " 'Block 01 Storey 0': ['Block 01 Storey 0 Wall 0003 Window',\n",
       "  'Block 01 Storey 0 Wall 0004 Window',\n",
       "  'Block 01 Storey 0 Wall 0001_1 Door',\n",
       "  'Block 01 Storey 0 Wall 0002_1 Door'],\n",
       " 'Block 03 Storey 0': ['Block 03 Storey 0 Wall 0004 Window',\n",
       "  'Block 03 Storey 0 Wall 0002_2 Door'],\n",
       " 'Block 02 Storey 0': ['Block 02 Storey 0 Wall 0001_2 Door',\n",
       "  'Block 02 Storey 0 Wall 0001_1 Door',\n",
       "  'Block 02 Storey 0 Wall 0002_2 Door'],\n",
       " 'Block 06 Storey 0': ['Block 06 Storey 0 Wall 0002_1 Door']}"
      ]
     },
     "execution_count": 26,
     "metadata": {},
     "output_type": "execute_result"
    }
   ],
   "source": [
    "d"
   ]
  },
  {
   "cell_type": "code",
   "execution_count": 24,
   "metadata": {},
   "outputs": [
    {
     "data": {
      "text/plain": [
       "(['Block 00 Storey 0',\n",
       "  'Block 01 Storey 0',\n",
       "  'Block 02 Storey 0',\n",
       "  'Block 03 Storey 0',\n",
       "  'Block 04 Storey 0',\n",
       "  'Block 06 Storey 0'],\n",
       " [[('Block 00 Storey 0', 'Block 00 Storey 0 Wall 0003 Window'),\n",
       "   ('Block 00 Storey 0', 'Block 00 Storey 0 Wall 0002 Window')],\n",
       "  [('Block 01 Storey 0', 'Block 01 Storey 0 Wall 0003 Window'),\n",
       "   ('Block 01 Storey 0', 'Block 01 Storey 0 Wall 0004 Window'),\n",
       "   ('Block 01 Storey 0', 'Block 01 Storey 0 Wall 0001_1 Door'),\n",
       "   ('Block 01 Storey 0', 'Block 01 Storey 0 Wall 0002_1 Door')],\n",
       "  [('Block 02 Storey 0', 'Block 02 Storey 0 Wall 0001_2 Door'),\n",
       "   ('Block 02 Storey 0', 'Block 02 Storey 0 Wall 0001_1 Door'),\n",
       "   ('Block 02 Storey 0', 'Block 02 Storey 0 Wall 0002_2 Door')],\n",
       "  [('Block 03 Storey 0', 'Block 03 Storey 0 Wall 0004 Window'),\n",
       "   ('Block 03 Storey 0', 'Block 03 Storey 0 Wall 0002_2 Door')],\n",
       "  [('Block 04 Storey 0', 'Block 04 Storey 0 Wall 0001 Window'),\n",
       "   ('Block 04 Storey 0', 'Block 04 Storey 0 Wall 0002 Window')],\n",
       "  [('Block 06 Storey 0', 'Block 06 Storey 0 Wall 0002_1 Door')]])"
      ]
     },
     "execution_count": 24,
     "metadata": {},
     "output_type": "execute_result"
    }
   ],
   "source": [
    "sort_and_group_objects_dict(zone_pairs, fx=lambda x: x[0])"
   ]
  }
 ],
 "metadata": {
  "kernelspec": {
   "display_name": "gqenv",
   "language": "python",
   "name": "python3"
  },
  "language_info": {
   "codemirror_mode": {
    "name": "ipython",
    "version": 3
   },
   "file_extension": ".py",
   "mimetype": "text/x-python",
   "name": "python",
   "nbconvert_exporter": "python",
   "pygments_lexer": "ipython3",
   "version": "3.10.14"
  }
 },
 "nbformat": 4,
 "nbformat_minor": 2
}
