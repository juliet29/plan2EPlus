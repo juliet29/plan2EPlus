{
 "cells": [
  {
   "cell_type": "code",
   "execution_count": 1,
   "metadata": {},
   "outputs": [],
   "source": [
    "%load_ext autoreload\n",
    "%autoreload 2"
   ]
  },
  {
   "cell_type": "code",
   "execution_count": 2,
   "metadata": {},
   "outputs": [],
   "source": [
    "from pathlib import Path\n",
    "import sys\n",
    "sys.path.append(str(Path.cwd() / \"_scripts\"))"
   ]
  },
  {
   "cell_type": "code",
   "execution_count": 3,
   "metadata": {},
   "outputs": [],
   "source": [
    "from shapely import Polygon\n",
    "from functools import partial\n",
    "\n",
    "\n",
    "from case_edits.ezcase_new import *\n",
    "from new_subsurfaces.preparation import *\n",
    "from geometry.wall_normal import WallNormal\n",
    "from new_subsurfaces.interfaces import SubsurfaceType"
   ]
  },
  {
   "cell_type": "code",
   "execution_count": 4,
   "metadata": {},
   "outputs": [],
   "source": [
    "\n",
    "inputs_dir = \"case_red_d3\"\n",
    "outputs_dir = \"tests/test22_svg2plan\"\n",
    "\n",
    "idf = create_ezcase(outputs_dir, inputs_dir)\n",
    "case_path = get_case_inputs_path(inputs_dir)\n",
    "pairs = add_subsurfaces(case_path)\n"
   ]
  },
  {
   "cell_type": "code",
   "execution_count": 5,
   "metadata": {},
   "outputs": [
    {
     "name": "stdout",
     "output_type": "stream",
     "text": [
      "0.00\n"
     ]
    }
   ],
   "source": [
    "print(f\"{0.00045678:.2f}\")"
   ]
  },
  {
   "cell_type": "code",
   "execution_count": 6,
   "metadata": {},
   "outputs": [
    {
     "name": "stdout",
     "output_type": "stream",
     "text": [
      "width: 0.57 NOT GREATER THAN 0.81\n",
      "Editing (2, 6) \n",
      "\n",
      "width: 0.66 NOT GREATER THAN 0.81\n",
      "Editing (2, 7) \n",
      "\n",
      "width: 0.71 NOT GREATER THAN 0.81\n",
      "Editing (6, 4) \n",
      "\n",
      "width: 0.71 NOT GREATER THAN 0.81\n",
      "Editing (3, 6) \n",
      "\n"
     ]
    }
   ],
   "source": [
    "for p in pairs:\n",
    "    surf, pair = get_approp_surface_and_attrs(idf, p)"
   ]
  },
  {
   "cell_type": "code",
   "execution_count": 15,
   "metadata": {},
   "outputs": [
    {
     "data": {
      "text/plain": [
       "[('Block 00 Storey 0 Wall 0002', <WallNormal.NORTH: 0.0>),\n",
       " ('Block 00 Storey 0 Wall 0003', <WallNormal.WEST: 270.0>),\n",
       " ('Block 00 Storey 0 Wall 0001_1', <WallNormal.EAST: 90.0>),\n",
       " ('Block 00 Storey 0 Wall 0001_2', <WallNormal.EAST: 90.0>),\n",
       " ('Block 00 Storey 0 Wall 0004_1', <WallNormal.SOUTH: 180.0>)]"
      ]
     },
     "execution_count": 15,
     "metadata": {},
     "output_type": "execute_result"
    }
   ],
   "source": [
    "surfs = [i for i in  get_zone_walls(idf,0)]\n",
    "[(i.Name, WallNormal(i.azimuth)) for i in  get_zone_walls(idf,0)]"
   ]
  },
  {
   "cell_type": "code",
   "execution_count": null,
   "metadata": {},
   "outputs": [],
   "source": []
  },
  {
   "cell_type": "code",
   "execution_count": 17,
   "metadata": {},
   "outputs": [],
   "source": [
    "north_wall = surfs[0]\n",
    "west_wall = surfs[1]"
   ]
  },
  {
   "cell_type": "code",
   "execution_count": 20,
   "metadata": {},
   "outputs": [
    {
     "data": {
      "text/plain": [
       "\n",
       "BUILDINGSURFACE:DETAILED,\n",
       "    Block 00 Storey 0 Wall 0001_1,    !- Name\n",
       "    wall,                     !- Surface Type\n",
       "    Project Partition,        !- Construction Name\n",
       "    Block 00 Storey 0,        !- Zone Name\n",
       "    ,                         !- Space Name\n",
       "    surface,                  !- Outside Boundary Condition\n",
       "    Block 02 Storey 0 Wall 0003_1,    !- Outside Boundary Condition Object\n",
       "    NoSun,                    !- Sun Exposure\n",
       "    NoWind,                   !- Wind Exposure\n",
       "    autocalculate,            !- View Factor to Ground\n",
       "    autocalculate,            !- Number of Vertices\n",
       "    1.7,                      !- Vertex 1 Xcoordinate\n",
       "    1.779999999795109,        !- Vertex 1 Ycoordinate\n",
       "    3.0499999998137355,       !- Vertex 1 Zcoordinate\n",
       "    1.7,                      !- Vertex 2 Xcoordinate\n",
       "    1.779999999795109,        !- Vertex 2 Ycoordinate\n",
       "    0,                        !- Vertex 2 Zcoordinate\n",
       "    1.7,                      !- Vertex 3 Xcoordinate\n",
       "    1.7999999998137355,       !- Vertex 3 Ycoordinate\n",
       "    0,                        !- Vertex 3 Zcoordinate\n",
       "    1.7,                      !- Vertex 4 Xcoordinate\n",
       "    1.7999999998137355,       !- Vertex 4 Ycoordinate\n",
       "    3.0499999998137355;       !- Vertex 4 Zcoordinate"
      ]
     },
     "execution_count": 20,
     "metadata": {},
     "output_type": "execute_result"
    }
   ],
   "source": [
    "surfs[2]"
   ]
  },
  {
   "cell_type": "code",
   "execution_count": 14,
   "metadata": {},
   "outputs": [
    {
     "data": {
      "text/plain": [
       "Domain(width=Range(min=1.78, max=3.15), height=Range(min=0.0, max=3.05))"
      ]
     },
     "execution_count": 14,
     "metadata": {},
     "output_type": "execute_result"
    }
   ],
   "source": [
    "from new_subsurfaces.ep_helpers import create_domain_for_rectangular_wall\n",
    "\n",
    "\n",
    "d = create_domain_for_rectangular_wall(west_wall)\n",
    "d"
   ]
  },
  {
   "cell_type": "code",
   "execution_count": null,
   "metadata": {},
   "outputs": [],
   "source": []
  },
  {
   "cell_type": "code",
   "execution_count": null,
   "metadata": {},
   "outputs": [],
   "source": []
  },
  {
   "cell_type": "code",
   "execution_count": 18,
   "metadata": {},
   "outputs": [
    {
     "data": {
      "text/plain": [
       "1.7937"
      ]
     },
     "execution_count": 18,
     "metadata": {},
     "output_type": "execute_result"
    }
   ],
   "source": [
    "d.width.buffered_min(0.01)"
   ]
  },
  {
   "cell_type": "code",
   "execution_count": 22,
   "metadata": {},
   "outputs": [],
   "source": [
    "BUFFER = 0.01\n"
   ]
  },
  {
   "cell_type": "code",
   "execution_count": 9,
   "metadata": {},
   "outputs": [
    {
     "data": {
      "text/plain": [
       "[Coordinates(x=1.7, y=3.15, z=3.05),\n",
       " Coordinates(x=1.7, y=3.15, z=0.0),\n",
       " Coordinates(x=0.0, y=3.15, z=0.0),\n",
       " Coordinates(x=0.0, y=3.15, z=3.05)]"
      ]
     },
     "execution_count": 9,
     "metadata": {},
     "output_type": "execute_result"
    }
   ],
   "source": [
    "cs = [Coordinate3D(*i) for i in north_wall.coords]\n",
    "cs"
   ]
  },
  {
   "cell_type": "code",
   "execution_count": null,
   "metadata": {},
   "outputs": [],
   "source": []
  },
  {
   "cell_type": "code",
   "execution_count": 14,
   "metadata": {},
   "outputs": [
    {
     "data": {
      "text/plain": [
       "[0.0, 1.7]"
      ]
     },
     "execution_count": 14,
     "metadata": {},
     "output_type": "execute_result"
    }
   ],
   "source": [
    "xs = sorted(set([i.x for i in cs]))\n",
    "xs"
   ]
  },
  {
   "cell_type": "code",
   "execution_count": 17,
   "metadata": {},
   "outputs": [
    {
     "data": {
      "text/plain": [
       "[3.15]"
      ]
     },
     "execution_count": 17,
     "metadata": {},
     "output_type": "execute_result"
    }
   ],
   "source": [
    "ys = sorted(set([i.y for i in cs]))\n",
    "ys"
   ]
  },
  {
   "cell_type": "code",
   "execution_count": 18,
   "metadata": {},
   "outputs": [
    {
     "data": {
      "text/plain": [
       "Range(min=0.0, max=1.7)"
      ]
     },
     "execution_count": 18,
     "metadata": {},
     "output_type": "execute_result"
    }
   ],
   "source": [
    "width = Range(*ys) if len(ys) > 1 else Range(*xs)\n",
    "width"
   ]
  },
  {
   "cell_type": "code",
   "execution_count": 15,
   "metadata": {},
   "outputs": [
    {
     "data": {
      "text/plain": [
       "0.0"
      ]
     },
     "execution_count": 15,
     "metadata": {},
     "output_type": "execute_result"
    }
   ],
   "source": []
  }
 ],
 "metadata": {
  "kernelspec": {
   "display_name": "gqenv",
   "language": "python",
   "name": "python3"
  },
  "language_info": {
   "codemirror_mode": {
    "name": "ipython",
    "version": 3
   },
   "file_extension": ".py",
   "mimetype": "text/x-python",
   "name": "python",
   "nbconvert_exporter": "python",
   "pygments_lexer": "ipython3",
   "version": "3.10.14"
  }
 },
 "nbformat": 4,
 "nbformat_minor": 2
}
