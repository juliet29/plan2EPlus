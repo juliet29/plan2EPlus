{
 "cells": [
  {
   "cell_type": "code",
   "execution_count": 1,
   "metadata": {},
   "outputs": [],
   "source": [
    "%load_ext autoreload\n",
    "%autoreload 2"
   ]
  },
  {
   "cell_type": "code",
   "execution_count": 2,
   "metadata": {},
   "outputs": [],
   "source": [
    "from pathlib import Path\n",
    "import sys\n",
    "sys.path.append(str(Path.cwd() / \"_scripts\"))"
   ]
  },
  {
   "cell_type": "code",
   "execution_count": 3,
   "metadata": {},
   "outputs": [],
   "source": [
    "from case_edits.ezcase_new import *\n",
    "from helpers.ep_helpers import *\n",
    "from helpers.helpers import *\n",
    "from eppy.bunch_subclass import EpBunch\n",
    "from airflow_network.logic import pair_zone_and_subsurfaces\n"
   ]
  },
  {
   "cell_type": "code",
   "execution_count": 4,
   "metadata": {},
   "outputs": [],
   "source": [
    "\n",
    "inputs_dir = \"case_red_d3\"\n",
    "outputs_dir = \"tests/test22_svg2plan\"\n",
    "\n",
    "case = initialize_case(outputs_dir)\n",
    "path_to_inputs = get_path_to_inputs(inputs_dir)\n",
    "pairs = get_subsurface_pairs_from_case(path_to_inputs)\n",
    "\n",
    "\n"
   ]
  },
  {
   "cell_type": "code",
   "execution_count": 5,
   "metadata": {},
   "outputs": [
    {
     "name": "stdout",
     "output_type": "stream",
     "text": [
      "width: 0.57 NOT GREATER THAN 0.81\n",
      "Editing (2, 6) \n",
      "\n",
      "width: 0.66 NOT GREATER THAN 0.81\n",
      "Editing (2, 7) \n",
      "\n",
      "width: 0.71 NOT GREATER THAN 0.81\n",
      "Editing (6, 4) \n",
      "\n",
      "width: 0.71 NOT GREATER THAN 0.81\n",
      "Editing (3, 6) \n",
      "\n"
     ]
    }
   ],
   "source": [
    "idf = create_ezcase(outputs_dir, inputs_dir)"
   ]
  },
  {
   "cell_type": "code",
   "execution_count": 7,
   "metadata": {},
   "outputs": [
    {
     "data": {
      "text/plain": [
       "[\n",
       "AIRFLOWNETWORK:MULTIZONE:SURFACE,\n",
       "    Block 01 Storey 0 Wall 0003 Window,    !- Surface Name\n",
       "    Block 01 Storey 0 Wall 0003 Window SimpleOpening,    !- Leakage Component Name\n",
       "    ,                         !- External Node Name\n",
       "    1,                        !- WindowDoor Opening Factor or Crack Factor\n",
       "    ZoneLevel,                !- Ventilation Control Mode\n",
       "    ,                         !- Ventilation Control Zone Temperature Setpoint Schedule Name\n",
       "    0,                        !- Minimum Venting Open Factor\n",
       "    0,                        !- Indoor and Outdoor Temperature Difference Lower Limit For Maximum Venting Open Factor\n",
       "    100,                      !- Indoor and Outdoor Temperature Difference Upper Limit for Minimum Venting Open Factor\n",
       "    0,                        !- Indoor and Outdoor Enthalpy Difference Lower Limit For Maximum Venting Open Factor\n",
       "    300000,                   !- Indoor and Outdoor Enthalpy Difference Upper Limit for Minimum Venting Open Factor\n",
       "    ,                         !- Venting Availability Schedule Name\n",
       "    ,                         !- Occupant Ventilation Control Name\n",
       "    PolygonHeight,            !- Equivalent Rectangle Method\n",
       "    1;                        !- Equivalent Rectangle Aspect Ratio\n",
       ", \n",
       "AIRFLOWNETWORK:MULTIZONE:SURFACE,\n",
       "    Block 01 Storey 0 Wall 0004 Window,    !- Surface Name\n",
       "    Block 01 Storey 0 Wall 0004 Window SimpleOpening,    !- Leakage Component Name\n",
       "    ,                         !- External Node Name\n",
       "    1,                        !- WindowDoor Opening Factor or Crack Factor\n",
       "    ZoneLevel,                !- Ventilation Control Mode\n",
       "    ,                         !- Ventilation Control Zone Temperature Setpoint Schedule Name\n",
       "    0,                        !- Minimum Venting Open Factor\n",
       "    0,                        !- Indoor and Outdoor Temperature Difference Lower Limit For Maximum Venting Open Factor\n",
       "    100,                      !- Indoor and Outdoor Temperature Difference Upper Limit for Minimum Venting Open Factor\n",
       "    0,                        !- Indoor and Outdoor Enthalpy Difference Lower Limit For Maximum Venting Open Factor\n",
       "    300000,                   !- Indoor and Outdoor Enthalpy Difference Upper Limit for Minimum Venting Open Factor\n",
       "    ,                         !- Venting Availability Schedule Name\n",
       "    ,                         !- Occupant Ventilation Control Name\n",
       "    PolygonHeight,            !- Equivalent Rectangle Method\n",
       "    1;                        !- Equivalent Rectangle Aspect Ratio\n",
       ", \n",
       "AIRFLOWNETWORK:MULTIZONE:SURFACE,\n",
       "    Block 03 Storey 0 Wall 0002_2 Door,    !- Surface Name\n",
       "    Block 03 Storey 0 Wall 0002_2 Door SimpleOpening,    !- Leakage Component Name\n",
       "    ,                         !- External Node Name\n",
       "    1,                        !- WindowDoor Opening Factor or Crack Factor\n",
       "    ZoneLevel,                !- Ventilation Control Mode\n",
       "    ,                         !- Ventilation Control Zone Temperature Setpoint Schedule Name\n",
       "    0,                        !- Minimum Venting Open Factor\n",
       "    0,                        !- Indoor and Outdoor Temperature Difference Lower Limit For Maximum Venting Open Factor\n",
       "    100,                      !- Indoor and Outdoor Temperature Difference Upper Limit for Minimum Venting Open Factor\n",
       "    0,                        !- Indoor and Outdoor Enthalpy Difference Lower Limit For Maximum Venting Open Factor\n",
       "    300000,                   !- Indoor and Outdoor Enthalpy Difference Upper Limit for Minimum Venting Open Factor\n",
       "    ,                         !- Venting Availability Schedule Name\n",
       "    ,                         !- Occupant Ventilation Control Name\n",
       "    PolygonHeight,            !- Equivalent Rectangle Method\n",
       "    1;                        !- Equivalent Rectangle Aspect Ratio\n",
       ", \n",
       "AIRFLOWNETWORK:MULTIZONE:SURFACE,\n",
       "    Block 03 Storey 0 Wall 0004 Window,    !- Surface Name\n",
       "    Block 03 Storey 0 Wall 0004 Window SimpleOpening,    !- Leakage Component Name\n",
       "    ,                         !- External Node Name\n",
       "    1,                        !- WindowDoor Opening Factor or Crack Factor\n",
       "    ZoneLevel,                !- Ventilation Control Mode\n",
       "    ,                         !- Ventilation Control Zone Temperature Setpoint Schedule Name\n",
       "    0,                        !- Minimum Venting Open Factor\n",
       "    0,                        !- Indoor and Outdoor Temperature Difference Lower Limit For Maximum Venting Open Factor\n",
       "    100,                      !- Indoor and Outdoor Temperature Difference Upper Limit for Minimum Venting Open Factor\n",
       "    0,                        !- Indoor and Outdoor Enthalpy Difference Lower Limit For Maximum Venting Open Factor\n",
       "    300000,                   !- Indoor and Outdoor Enthalpy Difference Upper Limit for Minimum Venting Open Factor\n",
       "    ,                         !- Venting Availability Schedule Name\n",
       "    ,                         !- Occupant Ventilation Control Name\n",
       "    PolygonHeight,            !- Equivalent Rectangle Method\n",
       "    1;                        !- Equivalent Rectangle Aspect Ratio\n",
       ", \n",
       "AIRFLOWNETWORK:MULTIZONE:SURFACE,\n",
       "    Block 02 Storey 0 Wall 0002_2 Door,    !- Surface Name\n",
       "    Block 02 Storey 0 Wall 0002_2 Door SimpleOpening,    !- Leakage Component Name\n",
       "    ,                         !- External Node Name\n",
       "    1,                        !- WindowDoor Opening Factor or Crack Factor\n",
       "    ZoneLevel,                !- Ventilation Control Mode\n",
       "    ,                         !- Ventilation Control Zone Temperature Setpoint Schedule Name\n",
       "    0,                        !- Minimum Venting Open Factor\n",
       "    0,                        !- Indoor and Outdoor Temperature Difference Lower Limit For Maximum Venting Open Factor\n",
       "    100,                      !- Indoor and Outdoor Temperature Difference Upper Limit for Minimum Venting Open Factor\n",
       "    0,                        !- Indoor and Outdoor Enthalpy Difference Lower Limit For Maximum Venting Open Factor\n",
       "    300000,                   !- Indoor and Outdoor Enthalpy Difference Upper Limit for Minimum Venting Open Factor\n",
       "    ,                         !- Venting Availability Schedule Name\n",
       "    ,                         !- Occupant Ventilation Control Name\n",
       "    PolygonHeight,            !- Equivalent Rectangle Method\n",
       "    1;                        !- Equivalent Rectangle Aspect Ratio\n",
       ", \n",
       "AIRFLOWNETWORK:MULTIZONE:SURFACE,\n",
       "    Block 04 Storey 0 Wall 0002 Window,    !- Surface Name\n",
       "    Block 04 Storey 0 Wall 0002 Window SimpleOpening,    !- Leakage Component Name\n",
       "    ,                         !- External Node Name\n",
       "    1,                        !- WindowDoor Opening Factor or Crack Factor\n",
       "    ZoneLevel,                !- Ventilation Control Mode\n",
       "    ,                         !- Ventilation Control Zone Temperature Setpoint Schedule Name\n",
       "    0,                        !- Minimum Venting Open Factor\n",
       "    0,                        !- Indoor and Outdoor Temperature Difference Lower Limit For Maximum Venting Open Factor\n",
       "    100,                      !- Indoor and Outdoor Temperature Difference Upper Limit for Minimum Venting Open Factor\n",
       "    0,                        !- Indoor and Outdoor Enthalpy Difference Lower Limit For Maximum Venting Open Factor\n",
       "    300000,                   !- Indoor and Outdoor Enthalpy Difference Upper Limit for Minimum Venting Open Factor\n",
       "    ,                         !- Venting Availability Schedule Name\n",
       "    ,                         !- Occupant Ventilation Control Name\n",
       "    PolygonHeight,            !- Equivalent Rectangle Method\n",
       "    1;                        !- Equivalent Rectangle Aspect Ratio\n",
       ", \n",
       "AIRFLOWNETWORK:MULTIZONE:SURFACE,\n",
       "    Block 02 Storey 0 Wall 0001_1 Door,    !- Surface Name\n",
       "    Block 02 Storey 0 Wall 0001_1 Door SimpleOpening,    !- Leakage Component Name\n",
       "    ,                         !- External Node Name\n",
       "    1,                        !- WindowDoor Opening Factor or Crack Factor\n",
       "    ZoneLevel,                !- Ventilation Control Mode\n",
       "    ,                         !- Ventilation Control Zone Temperature Setpoint Schedule Name\n",
       "    0,                        !- Minimum Venting Open Factor\n",
       "    0,                        !- Indoor and Outdoor Temperature Difference Lower Limit For Maximum Venting Open Factor\n",
       "    100,                      !- Indoor and Outdoor Temperature Difference Upper Limit for Minimum Venting Open Factor\n",
       "    0,                        !- Indoor and Outdoor Enthalpy Difference Lower Limit For Maximum Venting Open Factor\n",
       "    300000,                   !- Indoor and Outdoor Enthalpy Difference Upper Limit for Minimum Venting Open Factor\n",
       "    ,                         !- Venting Availability Schedule Name\n",
       "    ,                         !- Occupant Ventilation Control Name\n",
       "    PolygonHeight,            !- Equivalent Rectangle Method\n",
       "    1;                        !- Equivalent Rectangle Aspect Ratio\n",
       ", \n",
       "AIRFLOWNETWORK:MULTIZONE:SURFACE,\n",
       "    Block 01 Storey 0 Wall 0001_1 Door,    !- Surface Name\n",
       "    Block 01 Storey 0 Wall 0001_1 Door SimpleOpening,    !- Leakage Component Name\n",
       "    ,                         !- External Node Name\n",
       "    1,                        !- WindowDoor Opening Factor or Crack Factor\n",
       "    ZoneLevel,                !- Ventilation Control Mode\n",
       "    ,                         !- Ventilation Control Zone Temperature Setpoint Schedule Name\n",
       "    0,                        !- Minimum Venting Open Factor\n",
       "    0,                        !- Indoor and Outdoor Temperature Difference Lower Limit For Maximum Venting Open Factor\n",
       "    100,                      !- Indoor and Outdoor Temperature Difference Upper Limit for Minimum Venting Open Factor\n",
       "    0,                        !- Indoor and Outdoor Enthalpy Difference Lower Limit For Maximum Venting Open Factor\n",
       "    300000,                   !- Indoor and Outdoor Enthalpy Difference Upper Limit for Minimum Venting Open Factor\n",
       "    ,                         !- Venting Availability Schedule Name\n",
       "    ,                         !- Occupant Ventilation Control Name\n",
       "    PolygonHeight,            !- Equivalent Rectangle Method\n",
       "    1;                        !- Equivalent Rectangle Aspect Ratio\n",
       ", \n",
       "AIRFLOWNETWORK:MULTIZONE:SURFACE,\n",
       "    Block 01 Storey 0 Wall 0002_1 Door,    !- Surface Name\n",
       "    Block 01 Storey 0 Wall 0002_1 Door SimpleOpening,    !- Leakage Component Name\n",
       "    ,                         !- External Node Name\n",
       "    1,                        !- WindowDoor Opening Factor or Crack Factor\n",
       "    ZoneLevel,                !- Ventilation Control Mode\n",
       "    ,                         !- Ventilation Control Zone Temperature Setpoint Schedule Name\n",
       "    0,                        !- Minimum Venting Open Factor\n",
       "    0,                        !- Indoor and Outdoor Temperature Difference Lower Limit For Maximum Venting Open Factor\n",
       "    100,                      !- Indoor and Outdoor Temperature Difference Upper Limit for Minimum Venting Open Factor\n",
       "    0,                        !- Indoor and Outdoor Enthalpy Difference Lower Limit For Maximum Venting Open Factor\n",
       "    300000,                   !- Indoor and Outdoor Enthalpy Difference Upper Limit for Minimum Venting Open Factor\n",
       "    ,                         !- Venting Availability Schedule Name\n",
       "    ,                         !- Occupant Ventilation Control Name\n",
       "    PolygonHeight,            !- Equivalent Rectangle Method\n",
       "    1;                        !- Equivalent Rectangle Aspect Ratio\n",
       ", \n",
       "AIRFLOWNETWORK:MULTIZONE:SURFACE,\n",
       "    Block 00 Storey 0 Wall 0003 Window,    !- Surface Name\n",
       "    Block 00 Storey 0 Wall 0003 Window SimpleOpening,    !- Leakage Component Name\n",
       "    ,                         !- External Node Name\n",
       "    1,                        !- WindowDoor Opening Factor or Crack Factor\n",
       "    ZoneLevel,                !- Ventilation Control Mode\n",
       "    ,                         !- Ventilation Control Zone Temperature Setpoint Schedule Name\n",
       "    0,                        !- Minimum Venting Open Factor\n",
       "    0,                        !- Indoor and Outdoor Temperature Difference Lower Limit For Maximum Venting Open Factor\n",
       "    100,                      !- Indoor and Outdoor Temperature Difference Upper Limit for Minimum Venting Open Factor\n",
       "    0,                        !- Indoor and Outdoor Enthalpy Difference Lower Limit For Maximum Venting Open Factor\n",
       "    300000,                   !- Indoor and Outdoor Enthalpy Difference Upper Limit for Minimum Venting Open Factor\n",
       "    ,                         !- Venting Availability Schedule Name\n",
       "    ,                         !- Occupant Ventilation Control Name\n",
       "    PolygonHeight,            !- Equivalent Rectangle Method\n",
       "    1;                        !- Equivalent Rectangle Aspect Ratio\n",
       ", \n",
       "AIRFLOWNETWORK:MULTIZONE:SURFACE,\n",
       "    Block 02 Storey 0 Wall 0001_2 Door,    !- Surface Name\n",
       "    Block 02 Storey 0 Wall 0001_2 Door SimpleOpening,    !- Leakage Component Name\n",
       "    ,                         !- External Node Name\n",
       "    1,                        !- WindowDoor Opening Factor or Crack Factor\n",
       "    ZoneLevel,                !- Ventilation Control Mode\n",
       "    ,                         !- Ventilation Control Zone Temperature Setpoint Schedule Name\n",
       "    0,                        !- Minimum Venting Open Factor\n",
       "    0,                        !- Indoor and Outdoor Temperature Difference Lower Limit For Maximum Venting Open Factor\n",
       "    100,                      !- Indoor and Outdoor Temperature Difference Upper Limit for Minimum Venting Open Factor\n",
       "    0,                        !- Indoor and Outdoor Enthalpy Difference Lower Limit For Maximum Venting Open Factor\n",
       "    300000,                   !- Indoor and Outdoor Enthalpy Difference Upper Limit for Minimum Venting Open Factor\n",
       "    ,                         !- Venting Availability Schedule Name\n",
       "    ,                         !- Occupant Ventilation Control Name\n",
       "    PolygonHeight,            !- Equivalent Rectangle Method\n",
       "    1;                        !- Equivalent Rectangle Aspect Ratio\n",
       ", \n",
       "AIRFLOWNETWORK:MULTIZONE:SURFACE,\n",
       "    Block 00 Storey 0 Wall 0002 Window,    !- Surface Name\n",
       "    Block 00 Storey 0 Wall 0002 Window SimpleOpening,    !- Leakage Component Name\n",
       "    ,                         !- External Node Name\n",
       "    1,                        !- WindowDoor Opening Factor or Crack Factor\n",
       "    ZoneLevel,                !- Ventilation Control Mode\n",
       "    ,                         !- Ventilation Control Zone Temperature Setpoint Schedule Name\n",
       "    0,                        !- Minimum Venting Open Factor\n",
       "    0,                        !- Indoor and Outdoor Temperature Difference Lower Limit For Maximum Venting Open Factor\n",
       "    100,                      !- Indoor and Outdoor Temperature Difference Upper Limit for Minimum Venting Open Factor\n",
       "    0,                        !- Indoor and Outdoor Enthalpy Difference Lower Limit For Maximum Venting Open Factor\n",
       "    300000,                   !- Indoor and Outdoor Enthalpy Difference Upper Limit for Minimum Venting Open Factor\n",
       "    ,                         !- Venting Availability Schedule Name\n",
       "    ,                         !- Occupant Ventilation Control Name\n",
       "    PolygonHeight,            !- Equivalent Rectangle Method\n",
       "    1;                        !- Equivalent Rectangle Aspect Ratio\n",
       ", \n",
       "AIRFLOWNETWORK:MULTIZONE:SURFACE,\n",
       "    Block 04 Storey 0 Wall 0001 Window,    !- Surface Name\n",
       "    Block 04 Storey 0 Wall 0001 Window SimpleOpening,    !- Leakage Component Name\n",
       "    ,                         !- External Node Name\n",
       "    1,                        !- WindowDoor Opening Factor or Crack Factor\n",
       "    ZoneLevel,                !- Ventilation Control Mode\n",
       "    ,                         !- Ventilation Control Zone Temperature Setpoint Schedule Name\n",
       "    0,                        !- Minimum Venting Open Factor\n",
       "    0,                        !- Indoor and Outdoor Temperature Difference Lower Limit For Maximum Venting Open Factor\n",
       "    100,                      !- Indoor and Outdoor Temperature Difference Upper Limit for Minimum Venting Open Factor\n",
       "    0,                        !- Indoor and Outdoor Enthalpy Difference Lower Limit For Maximum Venting Open Factor\n",
       "    300000,                   !- Indoor and Outdoor Enthalpy Difference Upper Limit for Minimum Venting Open Factor\n",
       "    ,                         !- Venting Availability Schedule Name\n",
       "    ,                         !- Occupant Ventilation Control Name\n",
       "    PolygonHeight,            !- Equivalent Rectangle Method\n",
       "    1;                        !- Equivalent Rectangle Aspect Ratio\n",
       "]"
      ]
     },
     "execution_count": 7,
     "metadata": {},
     "output_type": "execute_result"
    }
   ],
   "source": [
    "idf.idfobjects[\"AIRFLOWNETWORK:MULTIZONE:SURFACE\"]"
   ]
  },
  {
   "cell_type": "code",
   "execution_count": 10,
   "metadata": {},
   "outputs": [
    {
     "ename": "AttributeError",
     "evalue": "'NoneType' object has no attribute 'values'",
     "output_type": "error",
     "traceback": [
      "\u001b[0;31m---------------------------------------------------------------------------\u001b[0m",
      "\u001b[0;31mAttributeError\u001b[0m                            Traceback (most recent call last)",
      "Cell \u001b[0;32mIn[10], line 1\u001b[0m\n\u001b[0;32m----> 1\u001b[0m subsurfaces \u001b[38;5;241m=\u001b[39m chain_flatten(\u001b[43mpair_zone_and_subsurfaces\u001b[49m\u001b[43m(\u001b[49m\u001b[43midf\u001b[49m\u001b[43m)\u001b[49m\u001b[38;5;241;43m.\u001b[39;49m\u001b[43mvalues\u001b[49m())\n\u001b[1;32m      2\u001b[0m \u001b[38;5;28mlen\u001b[39m(subsurfaces), \u001b[38;5;28mlen\u001b[39m(\u001b[38;5;28mset\u001b[39m(subsurfaces))\n",
      "\u001b[0;31mAttributeError\u001b[0m: 'NoneType' object has no attribute 'values'"
     ]
    }
   ],
   "source": [
    "subsurfaces = chain_flatten(pair_zone_and_subsurfaces(idf).values())\n",
    "len(subsurfaces), len(set(subsurfaces))"
   ]
  },
  {
   "cell_type": "code",
   "execution_count": null,
   "metadata": {},
   "outputs": [],
   "source": []
  },
  {
   "cell_type": "code",
   "execution_count": 38,
   "metadata": {},
   "outputs": [
    {
     "data": {
      "text/plain": [
       "dict_values([['ZONE', 'Block 00 Storey 0', 0.0, 0.0, 0.0, 0.0, 1, 1, 'autocalculate', 'autocalculate', 'autocalculate', '', '', 'Yes'], ['key', 'Name', 'Direction_of_Relative_North', 'X_Origin', 'Y_Origin', 'Z_Origin', 'Type', 'Multiplier', 'Ceiling_Height', 'Volume', 'Floor_Area', 'Zone_Inside_Convection_Algorithm', 'Zone_Outside_Convection_Algorithm', 'Part_of_Total_Floor_Area'], [{'memo': ['Defines a thermal zone of the building. Every zone contains one or more Spaces.', 'Space is an optional input.', 'If a Zone has no Space(s) specified in input then a default Space named <Zone Name> will be created.', 'If some surfaces in a Zone are assigned to a space and some are not, then a default Space', 'named <Zone Name>-Remainder will be created.', 'Input references to Space Names must have a matching Space object', '(default space names may not be referenced except in output variable keys).'], 'format': ['vertices'], 'group': 'Thermal Zones and Surfaces', 'idfobj': 'Zone'}, {'field': ['Name'], 'note': ['Name of the Zone.', 'This name must be unique across Zone, Space, ZoneList, and SpaceList names.'], 'required-field': [''], 'type': ['alpha'], 'reference': ['ZoneNames', 'OutFaceEnvNames', 'ZoneAndZoneListNames', 'ZoneAndZoneListAndSpaceAndSpaceListNames', 'AirflowNetworkNodeAndZoneNames']}, {'field': ['Direction of Relative North'], 'units': ['deg'], 'type': ['real'], 'default': ['0']}, {'field': ['X Origin'], 'units': ['m'], 'type': ['real'], 'default': ['0']}, {'field': ['Y Origin'], 'units': ['m'], 'type': ['real'], 'default': ['0']}, {'field': ['Z Origin'], 'units': ['m'], 'type': ['real'], 'default': ['0']}, {'field': ['Type'], 'type': ['integer'], 'maximum': ['1'], 'minimum': ['1'], 'default': ['1']}, {'field': ['Multiplier'], 'type': ['integer'], 'minimum': ['1'], 'default': ['1']}, {'field': ['Ceiling Height'], 'note': ['If this field is 0.0, negative or autocalculate, then the average height', 'of the zone is automatically calculated and used in subsequent calculations.', 'If this field is positive, then the number entered here will be used.', 'Note that the Zone Ceiling Height is the distance from the Floor to', 'the Ceiling in the Zone, not an absolute height from the ground.'], 'units': ['m'], 'type': ['real'], 'autocalculatable': [''], 'default': ['autocalculate']}, {'field': ['Volume'], 'note': ['If this field is 0.0, negative or autocalculate, then the volume of the zone', 'is automatically calculated and used in subsequent calculations.', 'If this field is positive, then the number entered here will be used.'], 'units': ['m3'], 'type': ['real'], 'autocalculatable': [''], 'default': ['autocalculate']}, {'field': ['Floor Area'], 'note': ['If this field is 0.0, negative or autocalculate, then the floor area of the zone', 'is automatically calculated and used in subsequent calculations.', 'If this field is positive, then the number entered here will be used.'], 'units': ['m2'], 'type': ['real'], 'autocalculatable': [''], 'default': ['autocalculate']}, {'field': ['Zone Inside Convection Algorithm'], 'type': ['choice'], 'key': ['Simple', 'TARP', 'CeilingDiffuser', 'AdaptiveConvectionAlgorithm', 'TrombeWall', 'ASTMC1340'], 'note': ['Will default to same value as SurfaceConvectionAlgorithm:Inside object', 'setting this field overrides the default SurfaceConvectionAlgorithm:Inside for this zone', 'Simple = constant natural convection (ASHRAE)', 'TARP = variable natural convection based on temperature difference (ASHRAE)', 'CeilingDiffuser = ACH based forced and mixed convection correlations', 'for ceiling diffuser configuration with simple natural convection limit', 'AdaptiveConvectionAlgorithm = dynamic selection of convection models based on conditions', 'TrombeWall = variable natural convection in an enclosed rectangular cavity', 'ASTMC1340 = mixed convection correlations specified for attic zone']}, {'field': ['Zone Outside Convection Algorithm'], 'note': ['Will default to same value as SurfaceConvectionAlgorithm:Outside object', 'setting this field overrides the default SurfaceConvectionAlgorithm:Outside for this zone', 'SimpleCombined = Combined radiation and convection coefficient using simple ASHRAE model', 'TARP = correlation from models developed by ASHRAE, Walton, and Sparrow et. al.', 'MoWiTT = correlation from measurements by Klems and Yazdanian for smooth surfaces', 'DOE-2 = correlation from measurements by Klems and Yazdanian for rough surfaces', 'AdaptiveConvectionAlgorithm = dynamic selection of correlations based on conditions'], 'type': ['choice'], 'key': ['SimpleCombined', 'TARP', 'DOE-2', 'MoWiTT', 'AdaptiveConvectionAlgorithm']}, {'field': ['Part of Total Floor Area'], 'type': ['choice'], 'key': ['Yes', 'No'], 'default': ['Yes']}], <geomeppy.idf.IDF object at 0x11aaec250>, {'zonesurfaces': <function zonesurfaces at 0x10a1a6290>}])"
      ]
     },
     "execution_count": 38,
     "metadata": {},
     "output_type": "execute_result"
    }
   ],
   "source": [
    "res: list[EpBunch] = [i for i in get_zones(idf)]\n",
    "res[0].values()"
   ]
  },
  {
   "cell_type": "code",
   "execution_count": 6,
   "metadata": {},
   "outputs": [
    {
     "data": {
      "text/plain": [
       "['Block 00 Storey 0',\n",
       " 'Block 01 Storey 0',\n",
       " 'Block 02 Storey 0',\n",
       " 'Block 03 Storey 0',\n",
       " 'Block 04 Storey 0',\n",
       " 'Block 05 Storey 0',\n",
       " 'Block 06 Storey 0',\n",
       " 'Block 07 Storey 0']"
      ]
     },
     "execution_count": 6,
     "metadata": {},
     "output_type": "execute_result"
    }
   ],
   "source": [
    "zone_names = [i.Name for i in get_zones(idf)]\n",
    "zone_names"
   ]
  },
  {
   "cell_type": "code",
   "execution_count": 7,
   "metadata": {},
   "outputs": [],
   "source": [
    "def find_matching_zone(subsurface:EpBunch):\n",
    "    for i in zone_names:\n",
    "        if i in subsurface.Building_Surface_Name:\n",
    "            return i"
   ]
  },
  {
   "cell_type": "code",
   "execution_count": 8,
   "metadata": {},
   "outputs": [
    {
     "data": {
      "text/plain": [
       "\n",
       "WINDOW,\n",
       "    Block 04 Storey 0 Wall 0001 Window,    !- Name\n",
       "    Project External Window,    !- Construction Name\n",
       "    Block 04 Storey 0 Wall 0001,    !- Building Surface Name\n",
       "    ,                         !- Frame and Divider Name\n",
       "    1.0,                      !- Multiplier\n",
       "    2.12,                     !- Starting X Coordinate\n",
       "    1.4994999999999998,       !- Starting Z Coordinate\n",
       "    0.71,                     !- Length\n",
       "    1.52;                     !- Height"
      ]
     },
     "execution_count": 8,
     "metadata": {},
     "output_type": "execute_result"
    }
   ],
   "source": [
    "original_subsurfaces = [i for i in idf.getsubsurfaces() if \"Partner\" not in i.Name]\n",
    "original_subsurfaces[0]"
   ]
  },
  {
   "cell_type": "code",
   "execution_count": 9,
   "metadata": {},
   "outputs": [
    {
     "data": {
      "text/plain": [
       "[('Block 04 Storey 0', 'Block 04 Storey 0 Wall 0001 Window'),\n",
       " ('Block 04 Storey 0', 'Block 04 Storey 0 Wall 0002 Window'),\n",
       " ('Block 00 Storey 0', 'Block 00 Storey 0 Wall 0003 Window'),\n",
       " ('Block 01 Storey 0', 'Block 01 Storey 0 Wall 0003 Window'),\n",
       " ('Block 00 Storey 0', 'Block 00 Storey 0 Wall 0002 Window'),\n",
       " ('Block 01 Storey 0', 'Block 01 Storey 0 Wall 0004 Window'),\n",
       " ('Block 03 Storey 0', 'Block 03 Storey 0 Wall 0004 Window'),\n",
       " ('Block 01 Storey 0', 'Block 01 Storey 0 Wall 0001_1 Door'),\n",
       " ('Block 01 Storey 0', 'Block 01 Storey 0 Wall 0002_1 Door'),\n",
       " ('Block 02 Storey 0', 'Block 02 Storey 0 Wall 0001_2 Door'),\n",
       " ('Block 02 Storey 0', 'Block 02 Storey 0 Wall 0001_1 Door'),\n",
       " ('Block 02 Storey 0', 'Block 02 Storey 0 Wall 0002_2 Door'),\n",
       " ('Block 06 Storey 0', 'Block 06 Storey 0 Wall 0002_1 Door'),\n",
       " ('Block 03 Storey 0', 'Block 03 Storey 0 Wall 0002_2 Door')]"
      ]
     },
     "execution_count": 9,
     "metadata": {},
     "output_type": "execute_result"
    }
   ],
   "source": [
    "zone_pairs = [(find_matching_zone(i), i.Name) for i in original_subsurfaces]\n",
    "zone_pairs"
   ]
  },
  {
   "cell_type": "code",
   "execution_count": 25,
   "metadata": {},
   "outputs": [],
   "source": [
    "d = {}\n",
    "\n",
    "for zone, subsurf in zone_pairs:\n",
    "    if zone not in d.keys():\n",
    "        d[zone] = []\n",
    "    d[zone].append(subsurf)\n"
   ]
  },
  {
   "cell_type": "code",
   "execution_count": 28,
   "metadata": {},
   "outputs": [
    {
     "data": {
      "text/plain": [
       "{'Block 04 Storey 0': ['Block 04 Storey 0 Wall 0001 Window',\n",
       "  'Block 04 Storey 0 Wall 0002 Window'],\n",
       " 'Block 00 Storey 0': ['Block 00 Storey 0 Wall 0003 Window',\n",
       "  'Block 00 Storey 0 Wall 0002 Window'],\n",
       " 'Block 01 Storey 0': ['Block 01 Storey 0 Wall 0003 Window',\n",
       "  'Block 01 Storey 0 Wall 0004 Window',\n",
       "  'Block 01 Storey 0 Wall 0001_1 Door',\n",
       "  'Block 01 Storey 0 Wall 0002_1 Door'],\n",
       " 'Block 03 Storey 0': ['Block 03 Storey 0 Wall 0004 Window',\n",
       "  'Block 03 Storey 0 Wall 0002_2 Door'],\n",
       " 'Block 02 Storey 0': ['Block 02 Storey 0 Wall 0001_2 Door',\n",
       "  'Block 02 Storey 0 Wall 0001_1 Door',\n",
       "  'Block 02 Storey 0 Wall 0002_2 Door']}"
      ]
     },
     "execution_count": 28,
     "metadata": {},
     "output_type": "execute_result"
    }
   ],
   "source": [
    "# filter zones w less than one subsurface\n",
    "afn_zones = {k:v for k,v in d.items() if len(v) >= 2}\n",
    "afn_zones\n"
   ]
  },
  {
   "cell_type": "code",
   "execution_count": 26,
   "metadata": {},
   "outputs": [
    {
     "data": {
      "text/plain": [
       "{'Block 04 Storey 0': ['Block 04 Storey 0 Wall 0001 Window',\n",
       "  'Block 04 Storey 0 Wall 0002 Window'],\n",
       " 'Block 00 Storey 0': ['Block 00 Storey 0 Wall 0003 Window',\n",
       "  'Block 00 Storey 0 Wall 0002 Window'],\n",
       " 'Block 01 Storey 0': ['Block 01 Storey 0 Wall 0003 Window',\n",
       "  'Block 01 Storey 0 Wall 0004 Window',\n",
       "  'Block 01 Storey 0 Wall 0001_1 Door',\n",
       "  'Block 01 Storey 0 Wall 0002_1 Door'],\n",
       " 'Block 03 Storey 0': ['Block 03 Storey 0 Wall 0004 Window',\n",
       "  'Block 03 Storey 0 Wall 0002_2 Door'],\n",
       " 'Block 02 Storey 0': ['Block 02 Storey 0 Wall 0001_2 Door',\n",
       "  'Block 02 Storey 0 Wall 0001_1 Door',\n",
       "  'Block 02 Storey 0 Wall 0002_2 Door'],\n",
       " 'Block 06 Storey 0': ['Block 06 Storey 0 Wall 0002_1 Door']}"
      ]
     },
     "execution_count": 26,
     "metadata": {},
     "output_type": "execute_result"
    }
   ],
   "source": [
    "d"
   ]
  },
  {
   "cell_type": "code",
   "execution_count": 24,
   "metadata": {},
   "outputs": [
    {
     "data": {
      "text/plain": [
       "(['Block 00 Storey 0',\n",
       "  'Block 01 Storey 0',\n",
       "  'Block 02 Storey 0',\n",
       "  'Block 03 Storey 0',\n",
       "  'Block 04 Storey 0',\n",
       "  'Block 06 Storey 0'],\n",
       " [[('Block 00 Storey 0', 'Block 00 Storey 0 Wall 0003 Window'),\n",
       "   ('Block 00 Storey 0', 'Block 00 Storey 0 Wall 0002 Window')],\n",
       "  [('Block 01 Storey 0', 'Block 01 Storey 0 Wall 0003 Window'),\n",
       "   ('Block 01 Storey 0', 'Block 01 Storey 0 Wall 0004 Window'),\n",
       "   ('Block 01 Storey 0', 'Block 01 Storey 0 Wall 0001_1 Door'),\n",
       "   ('Block 01 Storey 0', 'Block 01 Storey 0 Wall 0002_1 Door')],\n",
       "  [('Block 02 Storey 0', 'Block 02 Storey 0 Wall 0001_2 Door'),\n",
       "   ('Block 02 Storey 0', 'Block 02 Storey 0 Wall 0001_1 Door'),\n",
       "   ('Block 02 Storey 0', 'Block 02 Storey 0 Wall 0002_2 Door')],\n",
       "  [('Block 03 Storey 0', 'Block 03 Storey 0 Wall 0004 Window'),\n",
       "   ('Block 03 Storey 0', 'Block 03 Storey 0 Wall 0002_2 Door')],\n",
       "  [('Block 04 Storey 0', 'Block 04 Storey 0 Wall 0001 Window'),\n",
       "   ('Block 04 Storey 0', 'Block 04 Storey 0 Wall 0002 Window')],\n",
       "  [('Block 06 Storey 0', 'Block 06 Storey 0 Wall 0002_1 Door')]])"
      ]
     },
     "execution_count": 24,
     "metadata": {},
     "output_type": "execute_result"
    }
   ],
   "source": [
    "sort_and_group_objects_dict(zone_pairs, fx=lambda x: x[0])"
   ]
  }
 ],
 "metadata": {
  "kernelspec": {
   "display_name": "gqenv",
   "language": "python",
   "name": "python3"
  },
  "language_info": {
   "codemirror_mode": {
    "name": "ipython",
    "version": 3
   },
   "file_extension": ".py",
   "mimetype": "text/x-python",
   "name": "python",
   "nbconvert_exporter": "python",
   "pygments_lexer": "ipython3",
   "version": "3.10.14"
  }
 },
 "nbformat": 4,
 "nbformat_minor": 2
}
