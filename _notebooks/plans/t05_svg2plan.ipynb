{
 "cells": [
  {
   "cell_type": "code",
   "execution_count": 1,
   "metadata": {},
   "outputs": [],
   "source": [
    "%load_ext autoreload\n",
    "%autoreload 2"
   ]
  },
  {
   "cell_type": "code",
   "execution_count": 2,
   "metadata": {},
   "outputs": [],
   "source": [
    "from pathlib import Path\n",
    "import sys\n",
    "sys.path.append(str(Path.cwd() / \"_scripts\"))"
   ]
  },
  {
   "cell_type": "code",
   "execution_count": 3,
   "metadata": {},
   "outputs": [],
   "source": [
    "from case_edits.ezcase_new import *\n",
    "from new_subsurfaces.subsurfaces import *\n",
    "from geometry.wall_normal import WallNormal\n",
    "from new_subsurfaces.interfaces import SubsurfaceType"
   ]
  },
  {
   "cell_type": "code",
   "execution_count": 4,
   "metadata": {},
   "outputs": [],
   "source": [
    "\n",
    "inputs_dir = \"case_red_d3\"\n",
    "outputs_dir = \"tests/test22_svg2plan\"\n",
    "\n",
    "idf = create_ezcase(outputs_dir, inputs_dir)\n",
    "case_path = get_case_inputs_path(inputs_dir)\n",
    "pairs = add_subsurfaces(case_path)\n"
   ]
  }
 ],
 "metadata": {
  "kernelspec": {
   "display_name": "gqenv",
   "language": "python",
   "name": "python3"
  },
  "language_info": {
   "codemirror_mode": {
    "name": "ipython",
    "version": 3
   },
   "file_extension": ".py",
   "mimetype": "text/x-python",
   "name": "python",
   "nbconvert_exporter": "python",
   "pygments_lexer": "ipython3",
   "version": "3.10.14"
  }
 },
 "nbformat": 4,
 "nbformat_minor": 2
}
