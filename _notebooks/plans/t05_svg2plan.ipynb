{
 "cells": [
  {
   "cell_type": "code",
   "execution_count": 1,
   "metadata": {},
   "outputs": [],
   "source": [
    "%load_ext autoreload\n",
    "%autoreload 2"
   ]
  },
  {
   "cell_type": "code",
   "execution_count": 7,
   "metadata": {},
   "outputs": [],
   "source": [
    "from pathlib import Path\n",
    "import sys\n",
    "sys.path.append(str(Path.cwd() / \"_scripts\"))"
   ]
  },
  {
   "cell_type": "code",
   "execution_count": 21,
   "metadata": {},
   "outputs": [],
   "source": [
    "from recipes.svg2plan import initialize_case\n",
    "from plan.subsurface_translator import SubsurfaceTranslator"
   ]
  },
  {
   "cell_type": "code",
   "execution_count": 23,
   "metadata": {},
   "outputs": [],
   "source": [
    "path = initialize_case(\"case_red_d3\")\n",
    "\n"
   ]
  },
  {
   "cell_type": "code",
   "execution_count": 56,
   "metadata": {},
   "outputs": [],
   "source": [
    "st = SubsurfaceTranslator(path)\n",
    "st.get_data()\n",
    "st.create_room_map()\n",
    "st.create_subsurfaces()"
   ]
  },
  {
   "cell_type": "code",
   "execution_count": 57,
   "metadata": {},
   "outputs": [
    {
     "data": {
      "text/plain": [
       "[SSP(pair=(1, 2), type=DOOR, dims=(0.81, 2.03),\n",
       " SSP(pair=(1, 0), type=DOOR, dims=(0.81, 2.03),\n",
       " SSP(pair=(2, 6), type=DOOR, dims=(0.81, 2.03),\n",
       " SSP(pair=(2, 3), type=DOOR, dims=(0.81, 2.03),\n",
       " SSP(pair=(2, 7), type=DOOR, dims=(0.81, 2.03),\n",
       " SSP(pair=(6, 4), type=DOOR, dims=(0.81, 2.03),\n",
       " SSP(pair=(3, 6), type=DOOR, dims=(0.81, 2.03),\n",
       " SSP(pair=(4, <WallNormal.EAST: 90.0>), type=WINDOW, dims=(0.71, 1.52),\n",
       " SSP(pair=(4, <WallNormal.NORTH: 0.0>), type=WINDOW, dims=(0.71, 1.52),\n",
       " SSP(pair=(0, <WallNormal.WEST: 270.0>), type=WINDOW, dims=(0.71, 1.52),\n",
       " SSP(pair=(1, <WallNormal.WEST: 270.0>), type=WINDOW, dims=(0.71, 1.52),\n",
       " SSP(pair=(0, <WallNormal.NORTH: 0.0>), type=WINDOW, dims=(0.71, 1.52),\n",
       " SSP(pair=(1, <WallNormal.SOUTH: 180.0>), type=WINDOW, dims=(0.71, 1.52),\n",
       " SSP(pair=(3, <WallNormal.SOUTH: 180.0>), type=WINDOW, dims=(0.71, 1.52)]"
      ]
     },
     "execution_count": 57,
     "metadata": {},
     "output_type": "execute_result"
    }
   ],
   "source": [
    "st.pairs"
   ]
  },
  {
   "cell_type": "code",
   "execution_count": 41,
   "metadata": {},
   "outputs": [
    {
     "data": {
      "text/plain": [
       "{0: 'kitchen',\n",
       " 1: 'living',\n",
       " 2: 'transit',\n",
       " 3: 'bedroom_2',\n",
       " 4: 'bedroom',\n",
       " 5: 'closet',\n",
       " 6: 'transit_2',\n",
       " 7: 'bath'}"
      ]
     },
     "execution_count": 41,
     "metadata": {},
     "output_type": "execute_result"
    }
   ],
   "source": [
    "st.room_map"
   ]
  },
  {
   "cell_type": "code",
   "execution_count": 51,
   "metadata": {},
   "outputs": [
    {
     "data": {
      "text/plain": [
       "['kitchen',\n",
       " 'living',\n",
       " 'transit',\n",
       " 'bedroom_2',\n",
       " 'bedroom',\n",
       " 'closet',\n",
       " 'transit_2',\n",
       " 'bath']"
      ]
     },
     "execution_count": 51,
     "metadata": {},
     "output_type": "execute_result"
    }
   ],
   "source": [
    "list(st.room_map.values())"
   ]
  },
  {
   "cell_type": "code",
   "execution_count": 55,
   "metadata": {},
   "outputs": [
    {
     "name": "stdout",
     "output_type": "stream",
     "text": [
      "living transit\n",
      "living kitchen\n",
      "transit transit_2\n",
      "transit bedroom_2\n",
      "transit bath\n",
      "transit_2 bedroom\n",
      "bedroom_2 transit_2\n",
      "bedroom EAST\n",
      "bedroom NORTH\n",
      "kitchen WEST\n",
      "living WEST\n",
      "kitchen NORTH\n",
      "living SOUTH\n",
      "bedroom_2 SOUTH\n"
     ]
    }
   ],
   "source": [
    "edges = st.graph_data[\"links\"]\n",
    "for e in edges:\n",
    "    source, target = sorted([e[\"source\"], e[\"target\"]], key=lambda x: x not in st.room_map.values())\n",
    "    # print(e[\"source\"], e[\"target\"])\n",
    "    print(source, target)"
   ]
  },
  {
   "cell_type": "code",
   "execution_count": 32,
   "metadata": {},
   "outputs": [
    {
     "data": {
      "text/plain": [
       "{'0': SubsurfaceAttributes(object_type=<SubsurfaceObjects.DOOR: 0>, construction=None, dimensions=Dimensions(width=0.81, height=2.03), location_in_wall=<NinePointsLocator.bottom_middle: 7>, FRACTIONAL=False, SHADING=False),\n",
       " '1': SubsurfaceAttributes(object_type=<SubsurfaceObjects.DOOR: 0>, construction=None, dimensions=Dimensions(width=0.81, height=2.03), location_in_wall=<NinePointsLocator.bottom_middle: 7>, FRACTIONAL=False, SHADING=False)}"
      ]
     },
     "execution_count": 32,
     "metadata": {},
     "output_type": "execute_result"
    }
   ],
   "source": [
    "st.doors_db"
   ]
  },
  {
   "cell_type": "code",
   "execution_count": 30,
   "metadata": {},
   "outputs": [
    {
     "data": {
      "text/plain": [
       "{'directed': True,\n",
       " 'multigraph': False,\n",
       " 'graph': {},\n",
       " 'nodes': [{'id': 'living'},\n",
       "  {'id': 'transit'},\n",
       "  {'id': 'transit_2'},\n",
       "  {'id': 'bedroom_2'},\n",
       "  {'id': 'bedroom'},\n",
       "  {'id': 'EAST'},\n",
       "  {'id': 'WEST'},\n",
       "  {'id': 'kitchen'},\n",
       "  {'id': 'bath'},\n",
       "  {'id': 'NORTH'},\n",
       "  {'id': 'SOUTH'}],\n",
       " 'links': [{'details': {'external': False, 'id': 0},\n",
       "   'source': 'living',\n",
       "   'target': 'transit'},\n",
       "  {'details': {'external': False, 'id': 0},\n",
       "   'source': 'living',\n",
       "   'target': 'kitchen'},\n",
       "  {'details': {'external': False, 'id': 0},\n",
       "   'source': 'transit',\n",
       "   'target': 'transit_2'},\n",
       "  {'details': {'external': False, 'id': 1},\n",
       "   'source': 'transit',\n",
       "   'target': 'bedroom_2'},\n",
       "  {'details': {'external': False, 'id': 1},\n",
       "   'source': 'transit',\n",
       "   'target': 'bath'},\n",
       "  {'details': {'external': False, 'id': 1},\n",
       "   'source': 'transit_2',\n",
       "   'target': 'bedroom'},\n",
       "  {'details': {'external': False, 'id': 1},\n",
       "   'source': 'bedroom_2',\n",
       "   'target': 'transit_2'},\n",
       "  {'details': {'external': True, 'id': 1},\n",
       "   'source': 'bedroom',\n",
       "   'target': 'EAST'},\n",
       "  {'details': {'external': True, 'id': 1},\n",
       "   'source': 'bedroom',\n",
       "   'target': 'NORTH'},\n",
       "  {'details': {'external': True, 'id': 1},\n",
       "   'source': 'WEST',\n",
       "   'target': 'kitchen'},\n",
       "  {'details': {'external': True, 'id': 1},\n",
       "   'source': 'WEST',\n",
       "   'target': 'living'},\n",
       "  {'details': {'external': True, 'id': 1},\n",
       "   'source': 'kitchen',\n",
       "   'target': 'NORTH'},\n",
       "  {'details': {'external': True, 'id': 1},\n",
       "   'source': 'SOUTH',\n",
       "   'target': 'living'},\n",
       "  {'details': {'external': True, 'id': 1},\n",
       "   'source': 'SOUTH',\n",
       "   'target': 'bedroom_2'}]}"
      ]
     },
     "execution_count": 30,
     "metadata": {},
     "output_type": "execute_result"
    }
   ],
   "source": [
    "st.graph_data"
   ]
  }
 ],
 "metadata": {
  "kernelspec": {
   "display_name": "gqenv",
   "language": "python",
   "name": "python3"
  },
  "language_info": {
   "codemirror_mode": {
    "name": "ipython",
    "version": 3
   },
   "file_extension": ".py",
   "mimetype": "text/x-python",
   "name": "python",
   "nbconvert_exporter": "python",
   "pygments_lexer": "ipython3",
   "version": "3.10.14"
  }
 },
 "nbformat": 4,
 "nbformat_minor": 2
}
