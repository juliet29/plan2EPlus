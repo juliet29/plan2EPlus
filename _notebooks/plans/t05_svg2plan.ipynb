{
 "cells": [
  {
   "cell_type": "code",
   "execution_count": 9,
   "metadata": {},
   "outputs": [
    {
     "name": "stdout",
     "output_type": "stream",
     "text": [
      "The autoreload extension is already loaded. To reload it, use:\n",
      "  %reload_ext autoreload\n"
     ]
    }
   ],
   "source": [
    "%load_ext autoreload\n",
    "%autoreload 2"
   ]
  },
  {
   "cell_type": "code",
   "execution_count": 10,
   "metadata": {},
   "outputs": [],
   "source": [
    "from pathlib import Path\n",
    "import sys\n",
    "sys.path.append(str(Path.cwd() / \"_scripts\"))"
   ]
  },
  {
   "cell_type": "code",
   "execution_count": 11,
   "metadata": {},
   "outputs": [],
   "source": [
    "from case_edits.ezcase_new import *\n",
    "from helpers.ep_helpers import *\n",
    "from helpers.helpers import *\n",
    "from eppy.bunch_subclass import EpBunch\n",
    "from airflow_network.logic import pair_zone_and_subsurfaces\n",
    "\n",
    "from helpers.plots import plot_many_shapes, plot_one_shape\n",
    "from new_subsurfaces.visuals import plot_subsurface_and_surface"
   ]
  },
  {
   "cell_type": "code",
   "execution_count": 12,
   "metadata": {},
   "outputs": [],
   "source": [
    "\n",
    "inputs_dir = \"case_red_d3\"\n",
    "outputs_dir = \"tests/test22_svg2plan\"\n",
    "\n",
    "case = initialize_case(outputs_dir)\n",
    "path_to_inputs = get_path_to_inputs(inputs_dir)\n",
    "pairs = get_subsurface_pairs_from_case(path_to_inputs)\n",
    "\n",
    "\n"
   ]
  },
  {
   "cell_type": "code",
   "execution_count": 17,
   "metadata": {},
   "outputs": [
    {
     "name": "stdout",
     "output_type": "stream",
     "text": [
      "width: 0.57 NOT GREATER THAN 0.81\n",
      "Editing (2, 6) \n",
      "\n",
      "width: 0.66 NOT GREATER THAN 0.81\n",
      "Editing (2, 7) \n",
      "\n",
      "width: 0.71 NOT GREATER THAN 0.81\n",
      "Editing (6, 4) \n",
      "\n",
      "width: 0.71 NOT GREATER THAN 0.81\n",
      "Editing (3, 6) \n",
      "\n",
      "out.idf exists\n",
      "IDF has changed: True\n"
     ]
    }
   ],
   "source": [
    "case = create_ezcase(outputs_dir, inputs_dir)"
   ]
  },
  {
   "cell_type": "code",
   "execution_count": 18,
   "metadata": {},
   "outputs": [],
   "source": [
    "idf = case.idf"
   ]
  },
  {
   "cell_type": "code",
   "execution_count": 19,
   "metadata": {},
   "outputs": [
    {
     "name": "stdout",
     "output_type": "stream",
     "text": [
      "idf has changed - running case\n",
      "\n",
      "/Applications/EnergyPlus-22-2-0/energyplus --weather /Users/julietnwagwuume-ezeoke/_UILCode/gqe-phd/geomeppy/weather_data/PALO_ALTO/CA_PALO-ALTO-AP_724937_23.EPW --output-directory /Users/julietnwagwuume-ezeoke/_UILCode/gqe-phd/geomeppy/cases/tests/test22_svg2plan/results --idd /Applications/EnergyPlus-22-2-0/Energy+.idd /Users/julietnwagwuume-ezeoke/_UILCode/gqe-phd/geomeppy/cases/base/01example/Minimal_AP_9654f5.idf\n",
      "\n",
      "EnergyPlus Starting\n",
      "EnergyPlus, Version 22.2.0-c249759bad, YMD=2024.10.20 12:39\n",
      "Adjusting Air System Sizing\n",
      "Adjusting Standard 62.1 Ventilation Sizing\n",
      "Initializing Simulation\n",
      "Simulation for case `tests/test22_svg2plan` failed - see error logs\n",
      "cases/tests/test22_svg2plan/results/eplusout.err\n"
     ]
    },
    {
     "name": "stderr",
     "output_type": "stream",
     "text": [
      "Program terminated: EnergyPlus Terminated--Error(s) Detected.\n"
     ]
    }
   ],
   "source": [
    "case.run_idf(force_run=True)"
   ]
  },
  {
   "cell_type": "code",
   "execution_count": 15,
   "metadata": {},
   "outputs": [
    {
     "data": {
      "text/plain": [
       "[\n",
       " DOOR:INTERZONE,\n",
       "     Block 01 Storey 0 Wall 0001_1 Door,    !- Name\n",
       "     Project Door,             !- Construction Name\n",
       "     Block 01 Storey 0 Wall 0001_1,    !- Building Surface Name\n",
       "     Block 01 Storey 0 Wall 0001_1 Door Partner,    !- Outside Boundary Condition Object\n",
       "     1.0,                      !- Multiplier\n",
       "     0.4849999998975545,       !- Starting X Coordinate\n",
       "     3.050000e-02,             !- Starting Z Coordinate\n",
       "     0.81,                     !- Length\n",
       "     2.03;                     !- Height,\n",
       " \n",
       " DOOR:INTERZONE,\n",
       "     Block 01 Storey 0 Wall 0001_1 Door Partner,    !- Name\n",
       "     Project Door,             !- Construction Name\n",
       "     Block 02 Storey 0 Wall 0003_2,    !- Building Surface Name\n",
       "     Block 01 Storey 0 Wall 0001_1 Door,    !- Outside Boundary Condition Object\n",
       "     1.0,                      !- Multiplier\n",
       "     0.4849999998975545,       !- Starting X Coordinate\n",
       "     3.050000e-02,             !- Starting Z Coordinate\n",
       "     0.81,                     !- Length\n",
       "     2.03;                     !- Height,\n",
       " \n",
       " DOOR:INTERZONE,\n",
       "     Block 01 Storey 0 Wall 0002_1 Door,    !- Name\n",
       "     Project Door,             !- Construction Name\n",
       "     Block 01 Storey 0 Wall 0002_1,    !- Building Surface Name\n",
       "     Block 01 Storey 0 Wall 0002_1 Door Partner,    !- Outside Boundary Condition Object\n",
       "     1.0,                      !- Multiplier\n",
       "     0.4449999998603016,       !- Starting X Coordinate\n",
       "     3.050000e-02,             !- Starting Z Coordinate\n",
       "     0.81,                     !- Length\n",
       "     2.03;                     !- Height,\n",
       " \n",
       " DOOR:INTERZONE,\n",
       "     Block 01 Storey 0 Wall 0002_1 Door Partner,    !- Name\n",
       "     Project Door,             !- Construction Name\n",
       "     Block 00 Storey 0 Wall 0004_1,    !- Building Surface Name\n",
       "     Block 01 Storey 0 Wall 0002_1 Door,    !- Outside Boundary Condition Object\n",
       "     1.0,                      !- Multiplier\n",
       "     0.4449999998603016,       !- Starting X Coordinate\n",
       "     3.050000e-02,             !- Starting Z Coordinate\n",
       "     0.81,                     !- Length\n",
       "     2.03;                     !- Height,\n",
       " \n",
       " DOOR:INTERZONE,\n",
       "     Block 02 Storey 0 Wall 0001_2 Door,    !- Name\n",
       "     Project Door,             !- Construction Name\n",
       "     Block 02 Storey 0 Wall 0001_2,    !- Building Surface Name\n",
       "     Block 02 Storey 0 Wall 0001_2 Door Partner,    !- Outside Boundary Condition Object\n",
       "     1.0,                      !- Multiplier\n",
       "     2.850000e-02,             !- Starting X Coordinate\n",
       "     3.050000e-02,             !- Starting Z Coordinate\n",
       "     0.5129999998491258,       !- Length\n",
       "     2.744999999832362;        !- Height,\n",
       " \n",
       " DOOR:INTERZONE,\n",
       "     Block 02 Storey 0 Wall 0001_2 Door Partner,    !- Name\n",
       "     Project Door,             !- Construction Name\n",
       "     Block 06 Storey 0 Wall 0003_1,    !- Building Surface Name\n",
       "     Block 02 Storey 0 Wall 0001_2 Door,    !- Outside Boundary Condition Object\n",
       "     1.0,                      !- Multiplier\n",
       "     2.850000e-02,             !- Starting X Coordinate\n",
       "     3.050000e-02,             !- Starting Z Coordinate\n",
       "     0.5129999998491258,       !- Length\n",
       "     2.744999999832362;        !- Height,\n",
       " \n",
       " DOOR:INTERZONE,\n",
       "     Block 02 Storey 0 Wall 0001_1 Door,    !- Name\n",
       "     Project Door,             !- Construction Name\n",
       "     Block 02 Storey 0 Wall 0001_1,    !- Building Surface Name\n",
       "     Block 02 Storey 0 Wall 0001_1 Door Partner,    !- Outside Boundary Condition Object\n",
       "     1.0,                      !- Multiplier\n",
       "     2.100000e-01,             !- Starting X Coordinate\n",
       "     3.050000e-02,             !- Starting Z Coordinate\n",
       "     0.81,                     !- Length\n",
       "     2.03;                     !- Height,\n",
       " \n",
       " DOOR:INTERZONE,\n",
       "     Block 02 Storey 0 Wall 0001_1 Door Partner,    !- Name\n",
       "     Project Door,             !- Construction Name\n",
       "     Block 03 Storey 0 Wall 0003_1,    !- Building Surface Name\n",
       "     Block 02 Storey 0 Wall 0001_1 Door,    !- Outside Boundary Condition Object\n",
       "     1.0,                      !- Multiplier\n",
       "     2.100000e-01,             !- Starting X Coordinate\n",
       "     3.050000e-02,             !- Starting Z Coordinate\n",
       "     0.81,                     !- Length\n",
       "     2.03;                     !- Height,\n",
       " \n",
       " DOOR:INTERZONE,\n",
       "     Block 02 Storey 0 Wall 0002_2 Door,    !- Name\n",
       "     Project Door,             !- Construction Name\n",
       "     Block 02 Storey 0 Wall 0002_2,    !- Building Surface Name\n",
       "     Block 02 Storey 0 Wall 0002_2 Door Partner,    !- Outside Boundary Condition Object\n",
       "     1.0,                      !- Multiplier\n",
       "     3.300000e-02,             !- Starting X Coordinate\n",
       "     3.050000e-02,             !- Starting Z Coordinate\n",
       "     0.5940000001341105,       !- Length\n",
       "     2.744999999832362;        !- Height,\n",
       " \n",
       " DOOR:INTERZONE,\n",
       "     Block 02 Storey 0 Wall 0002_2 Door Partner,    !- Name\n",
       "     Project Door,             !- Construction Name\n",
       "     Block 07 Storey 0 Wall 0004_1,    !- Building Surface Name\n",
       "     Block 02 Storey 0 Wall 0002_2 Door,    !- Outside Boundary Condition Object\n",
       "     1.0,                      !- Multiplier\n",
       "     3.300000e-02,             !- Starting X Coordinate\n",
       "     3.050000e-02,             !- Starting Z Coordinate\n",
       "     0.5940000001341105,       !- Length\n",
       "     2.744999999832362;        !- Height,\n",
       " \n",
       " DOOR:INTERZONE,\n",
       "     Block 06 Storey 0 Wall 0002_1 Door,    !- Name\n",
       "     Project Door,             !- Construction Name\n",
       "     Block 06 Storey 0 Wall 0002_1,    !- Building Surface Name\n",
       "     Block 06 Storey 0 Wall 0002_1 Door Partner,    !- Outside Boundary Condition Object\n",
       "     1.0,                      !- Multiplier\n",
       "     0.0355000000214204,       !- Starting X Coordinate\n",
       "     3.050000e-02,             !- Starting Z Coordinate\n",
       "     0.6390000003855676,       !- Length\n",
       "     2.744999999832362;        !- Height,\n",
       " \n",
       " DOOR:INTERZONE,\n",
       "     Block 06 Storey 0 Wall 0002_1 Door Partner,    !- Name\n",
       "     Project Door,             !- Construction Name\n",
       "     Block 04 Storey 0 Wall 0004_2,    !- Building Surface Name\n",
       "     Block 06 Storey 0 Wall 0002_1 Door,    !- Outside Boundary Condition Object\n",
       "     1.0,                      !- Multiplier\n",
       "     0.0355000000214204,       !- Starting X Coordinate\n",
       "     3.050000e-02,             !- Starting Z Coordinate\n",
       "     0.6390000003855676,       !- Length\n",
       "     2.744999999832362;        !- Height,\n",
       " \n",
       " DOOR:INTERZONE,\n",
       "     Block 03 Storey 0 Wall 0002_2 Door,    !- Name\n",
       "     Project Door,             !- Construction Name\n",
       "     Block 03 Storey 0 Wall 0002_2,    !- Building Surface Name\n",
       "     Block 03 Storey 0 Wall 0002_2 Door Partner,    !- Outside Boundary Condition Object\n",
       "     1.0,                      !- Multiplier\n",
       "     0.0355000000214204,       !- Starting X Coordinate\n",
       "     3.050000e-02,             !- Starting Z Coordinate\n",
       "     0.6390000003855676,       !- Length\n",
       "     2.744999999832362;        !- Height,\n",
       " \n",
       " DOOR:INTERZONE,\n",
       "     Block 03 Storey 0 Wall 0002_2 Door Partner,    !- Name\n",
       "     Project Door,             !- Construction Name\n",
       "     Block 06 Storey 0 Wall 0004_1,    !- Building Surface Name\n",
       "     Block 03 Storey 0 Wall 0002_2 Door,    !- Outside Boundary Condition Object\n",
       "     1.0,                      !- Multiplier\n",
       "     0.0355000000214204,       !- Starting X Coordinate\n",
       "     3.050000e-02,             !- Starting Z Coordinate\n",
       "     0.6390000003855676,       !- Length\n",
       "     2.744999999832362;        !- Height,\n",
       " \n",
       " WINDOW,\n",
       "     Block 04 Storey 0 Wall 0001 Window,    !- Name\n",
       "     Project External Window,    !- Construction Name\n",
       "     Block 04 Storey 0 Wall 0001,    !- Building Surface Name\n",
       "     ,                         !- Frame and Divider Name\n",
       "     1.0,                      !- Multiplier\n",
       "     3.200000e-01,             !- Starting X Coordinate\n",
       "     1.4994999999999998,       !- Starting Z Coordinate\n",
       "     0.71,                     !- Length\n",
       "     1.52;                     !- Height,\n",
       " \n",
       " WINDOW,\n",
       "     Block 04 Storey 0 Wall 0002 Window,    !- Name\n",
       "     Project External Window,    !- Construction Name\n",
       "     Block 04 Storey 0 Wall 0002,    !- Building Surface Name\n",
       "     ,                         !- Frame and Divider Name\n",
       "     1.0,                      !- Multiplier\n",
       "     0.3500000000000001,       !- Starting X Coordinate\n",
       "     1.4994999999999998,       !- Starting Z Coordinate\n",
       "     0.71,                     !- Length\n",
       "     1.52;                     !- Height,\n",
       " \n",
       " WINDOW,\n",
       "     Block 00 Storey 0 Wall 0003 Window,    !- Name\n",
       "     Project External Window,    !- Construction Name\n",
       "     Block 00 Storey 0 Wall 0003,    !- Building Surface Name\n",
       "     ,                         !- Frame and Divider Name\n",
       "     1.0,                      !- Multiplier\n",
       "     3.300000e-01,             !- Starting X Coordinate\n",
       "     1.4994999999999998,       !- Starting Z Coordinate\n",
       "     0.71,                     !- Length\n",
       "     1.52;                     !- Height,\n",
       " \n",
       " WINDOW,\n",
       "     Block 01 Storey 0 Wall 0003 Window,    !- Name\n",
       "     Project External Window,    !- Construction Name\n",
       "     Block 01 Storey 0 Wall 0003,    !- Building Surface Name\n",
       "     ,                         !- Frame and Divider Name\n",
       "     1.0,                      !- Multiplier\n",
       "     0.535,                    !- Starting X Coordinate\n",
       "     1.4994999999999998,       !- Starting Z Coordinate\n",
       "     0.71,                     !- Length\n",
       "     1.52;                     !- Height,\n",
       " \n",
       " WINDOW,\n",
       "     Block 00 Storey 0 Wall 0002 Window,    !- Name\n",
       "     Project External Window,    !- Construction Name\n",
       "     Block 00 Storey 0 Wall 0002,    !- Building Surface Name\n",
       "     ,                         !- Frame and Divider Name\n",
       "     1.0,                      !- Multiplier\n",
       "     0.495,                    !- Starting X Coordinate\n",
       "     1.4994999999999998,       !- Starting Z Coordinate\n",
       "     0.71,                     !- Length\n",
       "     1.52;                     !- Height,\n",
       " \n",
       " WINDOW,\n",
       "     Block 01 Storey 0 Wall 0004 Window,    !- Name\n",
       "     Project External Window,    !- Construction Name\n",
       "     Block 01 Storey 0 Wall 0004,    !- Building Surface Name\n",
       "     ,                         !- Frame and Divider Name\n",
       "     1.0,                      !- Multiplier\n",
       "     0.495,                    !- Starting X Coordinate\n",
       "     1.4994999999999998,       !- Starting Z Coordinate\n",
       "     0.71,                     !- Length\n",
       "     1.52;                     !- Height,\n",
       " \n",
       " WINDOW,\n",
       "     Block 03 Storey 0 Wall 0004 Window,    !- Name\n",
       "     Project External Window,    !- Construction Name\n",
       "     Block 03 Storey 0 Wall 0004,    !- Building Surface Name\n",
       "     ,                         !- Frame and Divider Name\n",
       "     1.0,                      !- Multiplier\n",
       "     0.26,                     !- Starting X Coordinate\n",
       "     1.4994999999999998,       !- Starting Z Coordinate\n",
       "     0.71,                     !- Length\n",
       "     1.52;                     !- Height]"
      ]
     },
     "execution_count": 15,
     "metadata": {},
     "output_type": "execute_result"
    }
   ],
   "source": [
    "idf.getsubsurfaces()"
   ]
  },
  {
   "cell_type": "code",
   "execution_count": 8,
   "metadata": {},
   "outputs": [],
   "source": [
    "walls = get_zone_walls(idf, 0)[0]\n"
   ]
  },
  {
   "cell_type": "code",
   "execution_count": 81,
   "metadata": {},
   "outputs": [],
   "source": [
    "ss = [i for i in idf.getsubsurfaces() if \"Block 00 Storey 0 Wall 0003 Window\" in i.Name][0]"
   ]
  },
  {
   "cell_type": "code",
   "execution_count": 83,
   "metadata": {},
   "outputs": [
    {
     "data": {
      "text/plain": [
       "\n",
       "WINDOW,\n",
       "    Block 00 Storey 0 Wall 0003 Window,    !- Name\n",
       "    Project External Window,    !- Construction Name\n",
       "    Block 00 Storey 0 Wall 0003,    !- Building Surface Name\n",
       "    ,                         !- Frame and Divider Name\n",
       "    1.0,                      !- Multiplier\n",
       "    2.11,                     !- Starting X Coordinate\n",
       "    1.4994999999999998,       !- Starting Z Coordinate\n",
       "    0.71,                     !- Length\n",
       "    1.52;                     !- Height"
      ]
     },
     "execution_count": 83,
     "metadata": {},
     "output_type": "execute_result"
    }
   ],
   "source": [
    "ss"
   ]
  },
  {
   "cell_type": "code",
   "execution_count": 85,
   "metadata": {},
   "outputs": [
    {
     "data": {
      "text/plain": [
       "[(0.0, 3.15, 3.05), (0.0, 3.15, 0.0), (0.0, 1.78, 0.0), (0.0, 1.78, 3.05)]"
      ]
     },
     "execution_count": 85,
     "metadata": {},
     "output_type": "execute_result"
    }
   ],
   "source": [
    "get_surface_of_subsurface(idf, ss).coords"
   ]
  },
  {
   "cell_type": "code",
   "execution_count": 82,
   "metadata": {},
   "outputs": [
    {
     "data": {
      "application/vnd.plotly.v1+json": {
       "config": {
        "plotlyServerURL": "https://plotly.com"
       },
       "data": [],
       "layout": {
        "shapes": [
         {
          "fillcolor": "rgba(26,150,65,0.5)",
          "label": {
           "text": ""
          },
          "type": "rect",
          "x0": 1.78,
          "x1": 3.15,
          "xref": "x",
          "y0": 0,
          "y1": 3.05,
          "yref": "y"
         },
         {
          "fillcolor": "rgba(26,90,65,0.5)",
          "label": {
           "text": ""
          },
          "type": "rect",
          "x0": 2.11,
          "x1": 2.82,
          "xref": "x",
          "y0": 1.4994999999999998,
          "y1": 3.0195,
          "yref": "y"
         }
        ],
        "template": {
         "data": {
          "bar": [
           {
            "error_x": {
             "color": "#2a3f5f"
            },
            "error_y": {
             "color": "#2a3f5f"
            },
            "marker": {
             "line": {
              "color": "#E5ECF6",
              "width": 0.5
             },
             "pattern": {
              "fillmode": "overlay",
              "size": 10,
              "solidity": 0.2
             }
            },
            "type": "bar"
           }
          ],
          "barpolar": [
           {
            "marker": {
             "line": {
              "color": "#E5ECF6",
              "width": 0.5
             },
             "pattern": {
              "fillmode": "overlay",
              "size": 10,
              "solidity": 0.2
             }
            },
            "type": "barpolar"
           }
          ],
          "carpet": [
           {
            "aaxis": {
             "endlinecolor": "#2a3f5f",
             "gridcolor": "white",
             "linecolor": "white",
             "minorgridcolor": "white",
             "startlinecolor": "#2a3f5f"
            },
            "baxis": {
             "endlinecolor": "#2a3f5f",
             "gridcolor": "white",
             "linecolor": "white",
             "minorgridcolor": "white",
             "startlinecolor": "#2a3f5f"
            },
            "type": "carpet"
           }
          ],
          "choropleth": [
           {
            "colorbar": {
             "outlinewidth": 0,
             "ticks": ""
            },
            "type": "choropleth"
           }
          ],
          "contour": [
           {
            "colorbar": {
             "outlinewidth": 0,
             "ticks": ""
            },
            "colorscale": [
             [
              0,
              "#0d0887"
             ],
             [
              0.1111111111111111,
              "#46039f"
             ],
             [
              0.2222222222222222,
              "#7201a8"
             ],
             [
              0.3333333333333333,
              "#9c179e"
             ],
             [
              0.4444444444444444,
              "#bd3786"
             ],
             [
              0.5555555555555556,
              "#d8576b"
             ],
             [
              0.6666666666666666,
              "#ed7953"
             ],
             [
              0.7777777777777778,
              "#fb9f3a"
             ],
             [
              0.8888888888888888,
              "#fdca26"
             ],
             [
              1,
              "#f0f921"
             ]
            ],
            "type": "contour"
           }
          ],
          "contourcarpet": [
           {
            "colorbar": {
             "outlinewidth": 0,
             "ticks": ""
            },
            "type": "contourcarpet"
           }
          ],
          "heatmap": [
           {
            "colorbar": {
             "outlinewidth": 0,
             "ticks": ""
            },
            "colorscale": [
             [
              0,
              "#0d0887"
             ],
             [
              0.1111111111111111,
              "#46039f"
             ],
             [
              0.2222222222222222,
              "#7201a8"
             ],
             [
              0.3333333333333333,
              "#9c179e"
             ],
             [
              0.4444444444444444,
              "#bd3786"
             ],
             [
              0.5555555555555556,
              "#d8576b"
             ],
             [
              0.6666666666666666,
              "#ed7953"
             ],
             [
              0.7777777777777778,
              "#fb9f3a"
             ],
             [
              0.8888888888888888,
              "#fdca26"
             ],
             [
              1,
              "#f0f921"
             ]
            ],
            "type": "heatmap"
           }
          ],
          "heatmapgl": [
           {
            "colorbar": {
             "outlinewidth": 0,
             "ticks": ""
            },
            "colorscale": [
             [
              0,
              "#0d0887"
             ],
             [
              0.1111111111111111,
              "#46039f"
             ],
             [
              0.2222222222222222,
              "#7201a8"
             ],
             [
              0.3333333333333333,
              "#9c179e"
             ],
             [
              0.4444444444444444,
              "#bd3786"
             ],
             [
              0.5555555555555556,
              "#d8576b"
             ],
             [
              0.6666666666666666,
              "#ed7953"
             ],
             [
              0.7777777777777778,
              "#fb9f3a"
             ],
             [
              0.8888888888888888,
              "#fdca26"
             ],
             [
              1,
              "#f0f921"
             ]
            ],
            "type": "heatmapgl"
           }
          ],
          "histogram": [
           {
            "marker": {
             "pattern": {
              "fillmode": "overlay",
              "size": 10,
              "solidity": 0.2
             }
            },
            "type": "histogram"
           }
          ],
          "histogram2d": [
           {
            "colorbar": {
             "outlinewidth": 0,
             "ticks": ""
            },
            "colorscale": [
             [
              0,
              "#0d0887"
             ],
             [
              0.1111111111111111,
              "#46039f"
             ],
             [
              0.2222222222222222,
              "#7201a8"
             ],
             [
              0.3333333333333333,
              "#9c179e"
             ],
             [
              0.4444444444444444,
              "#bd3786"
             ],
             [
              0.5555555555555556,
              "#d8576b"
             ],
             [
              0.6666666666666666,
              "#ed7953"
             ],
             [
              0.7777777777777778,
              "#fb9f3a"
             ],
             [
              0.8888888888888888,
              "#fdca26"
             ],
             [
              1,
              "#f0f921"
             ]
            ],
            "type": "histogram2d"
           }
          ],
          "histogram2dcontour": [
           {
            "colorbar": {
             "outlinewidth": 0,
             "ticks": ""
            },
            "colorscale": [
             [
              0,
              "#0d0887"
             ],
             [
              0.1111111111111111,
              "#46039f"
             ],
             [
              0.2222222222222222,
              "#7201a8"
             ],
             [
              0.3333333333333333,
              "#9c179e"
             ],
             [
              0.4444444444444444,
              "#bd3786"
             ],
             [
              0.5555555555555556,
              "#d8576b"
             ],
             [
              0.6666666666666666,
              "#ed7953"
             ],
             [
              0.7777777777777778,
              "#fb9f3a"
             ],
             [
              0.8888888888888888,
              "#fdca26"
             ],
             [
              1,
              "#f0f921"
             ]
            ],
            "type": "histogram2dcontour"
           }
          ],
          "mesh3d": [
           {
            "colorbar": {
             "outlinewidth": 0,
             "ticks": ""
            },
            "type": "mesh3d"
           }
          ],
          "parcoords": [
           {
            "line": {
             "colorbar": {
              "outlinewidth": 0,
              "ticks": ""
             }
            },
            "type": "parcoords"
           }
          ],
          "pie": [
           {
            "automargin": true,
            "type": "pie"
           }
          ],
          "scatter": [
           {
            "fillpattern": {
             "fillmode": "overlay",
             "size": 10,
             "solidity": 0.2
            },
            "type": "scatter"
           }
          ],
          "scatter3d": [
           {
            "line": {
             "colorbar": {
              "outlinewidth": 0,
              "ticks": ""
             }
            },
            "marker": {
             "colorbar": {
              "outlinewidth": 0,
              "ticks": ""
             }
            },
            "type": "scatter3d"
           }
          ],
          "scattercarpet": [
           {
            "marker": {
             "colorbar": {
              "outlinewidth": 0,
              "ticks": ""
             }
            },
            "type": "scattercarpet"
           }
          ],
          "scattergeo": [
           {
            "marker": {
             "colorbar": {
              "outlinewidth": 0,
              "ticks": ""
             }
            },
            "type": "scattergeo"
           }
          ],
          "scattergl": [
           {
            "marker": {
             "colorbar": {
              "outlinewidth": 0,
              "ticks": ""
             }
            },
            "type": "scattergl"
           }
          ],
          "scattermapbox": [
           {
            "marker": {
             "colorbar": {
              "outlinewidth": 0,
              "ticks": ""
             }
            },
            "type": "scattermapbox"
           }
          ],
          "scatterpolar": [
           {
            "marker": {
             "colorbar": {
              "outlinewidth": 0,
              "ticks": ""
             }
            },
            "type": "scatterpolar"
           }
          ],
          "scatterpolargl": [
           {
            "marker": {
             "colorbar": {
              "outlinewidth": 0,
              "ticks": ""
             }
            },
            "type": "scatterpolargl"
           }
          ],
          "scatterternary": [
           {
            "marker": {
             "colorbar": {
              "outlinewidth": 0,
              "ticks": ""
             }
            },
            "type": "scatterternary"
           }
          ],
          "surface": [
           {
            "colorbar": {
             "outlinewidth": 0,
             "ticks": ""
            },
            "colorscale": [
             [
              0,
              "#0d0887"
             ],
             [
              0.1111111111111111,
              "#46039f"
             ],
             [
              0.2222222222222222,
              "#7201a8"
             ],
             [
              0.3333333333333333,
              "#9c179e"
             ],
             [
              0.4444444444444444,
              "#bd3786"
             ],
             [
              0.5555555555555556,
              "#d8576b"
             ],
             [
              0.6666666666666666,
              "#ed7953"
             ],
             [
              0.7777777777777778,
              "#fb9f3a"
             ],
             [
              0.8888888888888888,
              "#fdca26"
             ],
             [
              1,
              "#f0f921"
             ]
            ],
            "type": "surface"
           }
          ],
          "table": [
           {
            "cells": {
             "fill": {
              "color": "#EBF0F8"
             },
             "line": {
              "color": "white"
             }
            },
            "header": {
             "fill": {
              "color": "#C8D4E3"
             },
             "line": {
              "color": "white"
             }
            },
            "type": "table"
           }
          ]
         },
         "layout": {
          "annotationdefaults": {
           "arrowcolor": "#2a3f5f",
           "arrowhead": 0,
           "arrowwidth": 1
          },
          "autotypenumbers": "strict",
          "coloraxis": {
           "colorbar": {
            "outlinewidth": 0,
            "ticks": ""
           }
          },
          "colorscale": {
           "diverging": [
            [
             0,
             "#8e0152"
            ],
            [
             0.1,
             "#c51b7d"
            ],
            [
             0.2,
             "#de77ae"
            ],
            [
             0.3,
             "#f1b6da"
            ],
            [
             0.4,
             "#fde0ef"
            ],
            [
             0.5,
             "#f7f7f7"
            ],
            [
             0.6,
             "#e6f5d0"
            ],
            [
             0.7,
             "#b8e186"
            ],
            [
             0.8,
             "#7fbc41"
            ],
            [
             0.9,
             "#4d9221"
            ],
            [
             1,
             "#276419"
            ]
           ],
           "sequential": [
            [
             0,
             "#0d0887"
            ],
            [
             0.1111111111111111,
             "#46039f"
            ],
            [
             0.2222222222222222,
             "#7201a8"
            ],
            [
             0.3333333333333333,
             "#9c179e"
            ],
            [
             0.4444444444444444,
             "#bd3786"
            ],
            [
             0.5555555555555556,
             "#d8576b"
            ],
            [
             0.6666666666666666,
             "#ed7953"
            ],
            [
             0.7777777777777778,
             "#fb9f3a"
            ],
            [
             0.8888888888888888,
             "#fdca26"
            ],
            [
             1,
             "#f0f921"
            ]
           ],
           "sequentialminus": [
            [
             0,
             "#0d0887"
            ],
            [
             0.1111111111111111,
             "#46039f"
            ],
            [
             0.2222222222222222,
             "#7201a8"
            ],
            [
             0.3333333333333333,
             "#9c179e"
            ],
            [
             0.4444444444444444,
             "#bd3786"
            ],
            [
             0.5555555555555556,
             "#d8576b"
            ],
            [
             0.6666666666666666,
             "#ed7953"
            ],
            [
             0.7777777777777778,
             "#fb9f3a"
            ],
            [
             0.8888888888888888,
             "#fdca26"
            ],
            [
             1,
             "#f0f921"
            ]
           ]
          },
          "colorway": [
           "#636efa",
           "#EF553B",
           "#00cc96",
           "#ab63fa",
           "#FFA15A",
           "#19d3f3",
           "#FF6692",
           "#B6E880",
           "#FF97FF",
           "#FECB52"
          ],
          "font": {
           "color": "#2a3f5f"
          },
          "geo": {
           "bgcolor": "white",
           "lakecolor": "white",
           "landcolor": "#E5ECF6",
           "showlakes": true,
           "showland": true,
           "subunitcolor": "white"
          },
          "hoverlabel": {
           "align": "left"
          },
          "hovermode": "closest",
          "mapbox": {
           "style": "light"
          },
          "paper_bgcolor": "white",
          "plot_bgcolor": "#E5ECF6",
          "polar": {
           "angularaxis": {
            "gridcolor": "white",
            "linecolor": "white",
            "ticks": ""
           },
           "bgcolor": "#E5ECF6",
           "radialaxis": {
            "gridcolor": "white",
            "linecolor": "white",
            "ticks": ""
           }
          },
          "scene": {
           "xaxis": {
            "backgroundcolor": "#E5ECF6",
            "gridcolor": "white",
            "gridwidth": 2,
            "linecolor": "white",
            "showbackground": true,
            "ticks": "",
            "zerolinecolor": "white"
           },
           "yaxis": {
            "backgroundcolor": "#E5ECF6",
            "gridcolor": "white",
            "gridwidth": 2,
            "linecolor": "white",
            "showbackground": true,
            "ticks": "",
            "zerolinecolor": "white"
           },
           "zaxis": {
            "backgroundcolor": "#E5ECF6",
            "gridcolor": "white",
            "gridwidth": 2,
            "linecolor": "white",
            "showbackground": true,
            "ticks": "",
            "zerolinecolor": "white"
           }
          },
          "shapedefaults": {
           "line": {
            "color": "#2a3f5f"
           }
          },
          "ternary": {
           "aaxis": {
            "gridcolor": "white",
            "linecolor": "white",
            "ticks": ""
           },
           "baxis": {
            "gridcolor": "white",
            "linecolor": "white",
            "ticks": ""
           },
           "bgcolor": "#E5ECF6",
           "caxis": {
            "gridcolor": "white",
            "linecolor": "white",
            "ticks": ""
           }
          },
          "title": {
           "x": 0.05
          },
          "xaxis": {
           "automargin": true,
           "gridcolor": "white",
           "linecolor": "white",
           "ticks": "",
           "title": {
            "standoff": 15
           },
           "zerolinecolor": "white",
           "zerolinewidth": 2
          },
          "yaxis": {
           "automargin": true,
           "gridcolor": "white",
           "linecolor": "white",
           "ticks": "",
           "title": {
            "standoff": 15
           },
           "zerolinecolor": "white",
           "zerolinewidth": 2
          }
         }
        }
       }
      }
     },
     "metadata": {},
     "output_type": "display_data"
    }
   ],
   "source": [
    "plot_subsurface_and_surface(idf, ss)"
   ]
  },
  {
   "cell_type": "code",
   "execution_count": 52,
   "metadata": {},
   "outputs": [],
   "source": [
    "ss = idf.getsubsurfaces()[0]\n",
    "ss.Building_Surface_Name\n",
    "s = idf.getobject(\"BUILDINGSURFACE:DETAILED\", \"Block 01 Storey 0 Wall 0001_1\")"
   ]
  },
  {
   "cell_type": "code",
   "execution_count": 60,
   "metadata": {},
   "outputs": [],
   "source": [
    "ssd = create_domain_for_subsurface(ss).get_dict_for_plotting(color=\"rgba(26,150,65,0.5)\")\n",
    "sd = create_domain_for_rectangular_wall(s).get_dict_for_plotting(color=\"rgba(26,90,65,0.5)\", label=\"surface\")"
   ]
  },
  {
   "cell_type": "code",
   "execution_count": 69,
   "metadata": {},
   "outputs": [
    {
     "data": {
      "application/vnd.plotly.v1+json": {
       "config": {
        "plotlyServerURL": "https://plotly.com"
       },
       "data": [],
       "layout": {
        "autosize": false,
        "height": 500,
        "shapes": [
         {
          "fillcolor": "rgba(26,90,65,0.5)",
          "label": {
           "text": "surface"
          },
          "type": "rect",
          "x0": 0,
          "x1": 1.779999999795109,
          "xref": "x",
          "y0": 0,
          "y1": 3.0499999998137355,
          "yref": "y"
         },
         {
          "fillcolor": "rgba(26,150,65,0.5)",
          "label": {
           "text": ""
          },
          "type": "rect",
          "x0": 0.4849999998975545,
          "x1": 1.2949999998975545,
          "xref": "x",
          "y0": 0.030499999998137354,
          "y1": 2.0604999999981373,
          "yref": "y"
         }
        ],
        "template": {
         "data": {
          "bar": [
           {
            "error_x": {
             "color": "#2a3f5f"
            },
            "error_y": {
             "color": "#2a3f5f"
            },
            "marker": {
             "line": {
              "color": "#E5ECF6",
              "width": 0.5
             },
             "pattern": {
              "fillmode": "overlay",
              "size": 10,
              "solidity": 0.2
             }
            },
            "type": "bar"
           }
          ],
          "barpolar": [
           {
            "marker": {
             "line": {
              "color": "#E5ECF6",
              "width": 0.5
             },
             "pattern": {
              "fillmode": "overlay",
              "size": 10,
              "solidity": 0.2
             }
            },
            "type": "barpolar"
           }
          ],
          "carpet": [
           {
            "aaxis": {
             "endlinecolor": "#2a3f5f",
             "gridcolor": "white",
             "linecolor": "white",
             "minorgridcolor": "white",
             "startlinecolor": "#2a3f5f"
            },
            "baxis": {
             "endlinecolor": "#2a3f5f",
             "gridcolor": "white",
             "linecolor": "white",
             "minorgridcolor": "white",
             "startlinecolor": "#2a3f5f"
            },
            "type": "carpet"
           }
          ],
          "choropleth": [
           {
            "colorbar": {
             "outlinewidth": 0,
             "ticks": ""
            },
            "type": "choropleth"
           }
          ],
          "contour": [
           {
            "colorbar": {
             "outlinewidth": 0,
             "ticks": ""
            },
            "colorscale": [
             [
              0,
              "#0d0887"
             ],
             [
              0.1111111111111111,
              "#46039f"
             ],
             [
              0.2222222222222222,
              "#7201a8"
             ],
             [
              0.3333333333333333,
              "#9c179e"
             ],
             [
              0.4444444444444444,
              "#bd3786"
             ],
             [
              0.5555555555555556,
              "#d8576b"
             ],
             [
              0.6666666666666666,
              "#ed7953"
             ],
             [
              0.7777777777777778,
              "#fb9f3a"
             ],
             [
              0.8888888888888888,
              "#fdca26"
             ],
             [
              1,
              "#f0f921"
             ]
            ],
            "type": "contour"
           }
          ],
          "contourcarpet": [
           {
            "colorbar": {
             "outlinewidth": 0,
             "ticks": ""
            },
            "type": "contourcarpet"
           }
          ],
          "heatmap": [
           {
            "colorbar": {
             "outlinewidth": 0,
             "ticks": ""
            },
            "colorscale": [
             [
              0,
              "#0d0887"
             ],
             [
              0.1111111111111111,
              "#46039f"
             ],
             [
              0.2222222222222222,
              "#7201a8"
             ],
             [
              0.3333333333333333,
              "#9c179e"
             ],
             [
              0.4444444444444444,
              "#bd3786"
             ],
             [
              0.5555555555555556,
              "#d8576b"
             ],
             [
              0.6666666666666666,
              "#ed7953"
             ],
             [
              0.7777777777777778,
              "#fb9f3a"
             ],
             [
              0.8888888888888888,
              "#fdca26"
             ],
             [
              1,
              "#f0f921"
             ]
            ],
            "type": "heatmap"
           }
          ],
          "heatmapgl": [
           {
            "colorbar": {
             "outlinewidth": 0,
             "ticks": ""
            },
            "colorscale": [
             [
              0,
              "#0d0887"
             ],
             [
              0.1111111111111111,
              "#46039f"
             ],
             [
              0.2222222222222222,
              "#7201a8"
             ],
             [
              0.3333333333333333,
              "#9c179e"
             ],
             [
              0.4444444444444444,
              "#bd3786"
             ],
             [
              0.5555555555555556,
              "#d8576b"
             ],
             [
              0.6666666666666666,
              "#ed7953"
             ],
             [
              0.7777777777777778,
              "#fb9f3a"
             ],
             [
              0.8888888888888888,
              "#fdca26"
             ],
             [
              1,
              "#f0f921"
             ]
            ],
            "type": "heatmapgl"
           }
          ],
          "histogram": [
           {
            "marker": {
             "pattern": {
              "fillmode": "overlay",
              "size": 10,
              "solidity": 0.2
             }
            },
            "type": "histogram"
           }
          ],
          "histogram2d": [
           {
            "colorbar": {
             "outlinewidth": 0,
             "ticks": ""
            },
            "colorscale": [
             [
              0,
              "#0d0887"
             ],
             [
              0.1111111111111111,
              "#46039f"
             ],
             [
              0.2222222222222222,
              "#7201a8"
             ],
             [
              0.3333333333333333,
              "#9c179e"
             ],
             [
              0.4444444444444444,
              "#bd3786"
             ],
             [
              0.5555555555555556,
              "#d8576b"
             ],
             [
              0.6666666666666666,
              "#ed7953"
             ],
             [
              0.7777777777777778,
              "#fb9f3a"
             ],
             [
              0.8888888888888888,
              "#fdca26"
             ],
             [
              1,
              "#f0f921"
             ]
            ],
            "type": "histogram2d"
           }
          ],
          "histogram2dcontour": [
           {
            "colorbar": {
             "outlinewidth": 0,
             "ticks": ""
            },
            "colorscale": [
             [
              0,
              "#0d0887"
             ],
             [
              0.1111111111111111,
              "#46039f"
             ],
             [
              0.2222222222222222,
              "#7201a8"
             ],
             [
              0.3333333333333333,
              "#9c179e"
             ],
             [
              0.4444444444444444,
              "#bd3786"
             ],
             [
              0.5555555555555556,
              "#d8576b"
             ],
             [
              0.6666666666666666,
              "#ed7953"
             ],
             [
              0.7777777777777778,
              "#fb9f3a"
             ],
             [
              0.8888888888888888,
              "#fdca26"
             ],
             [
              1,
              "#f0f921"
             ]
            ],
            "type": "histogram2dcontour"
           }
          ],
          "mesh3d": [
           {
            "colorbar": {
             "outlinewidth": 0,
             "ticks": ""
            },
            "type": "mesh3d"
           }
          ],
          "parcoords": [
           {
            "line": {
             "colorbar": {
              "outlinewidth": 0,
              "ticks": ""
             }
            },
            "type": "parcoords"
           }
          ],
          "pie": [
           {
            "automargin": true,
            "type": "pie"
           }
          ],
          "scatter": [
           {
            "fillpattern": {
             "fillmode": "overlay",
             "size": 10,
             "solidity": 0.2
            },
            "type": "scatter"
           }
          ],
          "scatter3d": [
           {
            "line": {
             "colorbar": {
              "outlinewidth": 0,
              "ticks": ""
             }
            },
            "marker": {
             "colorbar": {
              "outlinewidth": 0,
              "ticks": ""
             }
            },
            "type": "scatter3d"
           }
          ],
          "scattercarpet": [
           {
            "marker": {
             "colorbar": {
              "outlinewidth": 0,
              "ticks": ""
             }
            },
            "type": "scattercarpet"
           }
          ],
          "scattergeo": [
           {
            "marker": {
             "colorbar": {
              "outlinewidth": 0,
              "ticks": ""
             }
            },
            "type": "scattergeo"
           }
          ],
          "scattergl": [
           {
            "marker": {
             "colorbar": {
              "outlinewidth": 0,
              "ticks": ""
             }
            },
            "type": "scattergl"
           }
          ],
          "scattermapbox": [
           {
            "marker": {
             "colorbar": {
              "outlinewidth": 0,
              "ticks": ""
             }
            },
            "type": "scattermapbox"
           }
          ],
          "scatterpolar": [
           {
            "marker": {
             "colorbar": {
              "outlinewidth": 0,
              "ticks": ""
             }
            },
            "type": "scatterpolar"
           }
          ],
          "scatterpolargl": [
           {
            "marker": {
             "colorbar": {
              "outlinewidth": 0,
              "ticks": ""
             }
            },
            "type": "scatterpolargl"
           }
          ],
          "scatterternary": [
           {
            "marker": {
             "colorbar": {
              "outlinewidth": 0,
              "ticks": ""
             }
            },
            "type": "scatterternary"
           }
          ],
          "surface": [
           {
            "colorbar": {
             "outlinewidth": 0,
             "ticks": ""
            },
            "colorscale": [
             [
              0,
              "#0d0887"
             ],
             [
              0.1111111111111111,
              "#46039f"
             ],
             [
              0.2222222222222222,
              "#7201a8"
             ],
             [
              0.3333333333333333,
              "#9c179e"
             ],
             [
              0.4444444444444444,
              "#bd3786"
             ],
             [
              0.5555555555555556,
              "#d8576b"
             ],
             [
              0.6666666666666666,
              "#ed7953"
             ],
             [
              0.7777777777777778,
              "#fb9f3a"
             ],
             [
              0.8888888888888888,
              "#fdca26"
             ],
             [
              1,
              "#f0f921"
             ]
            ],
            "type": "surface"
           }
          ],
          "table": [
           {
            "cells": {
             "fill": {
              "color": "#EBF0F8"
             },
             "line": {
              "color": "white"
             }
            },
            "header": {
             "fill": {
              "color": "#C8D4E3"
             },
             "line": {
              "color": "white"
             }
            },
            "type": "table"
           }
          ]
         },
         "layout": {
          "annotationdefaults": {
           "arrowcolor": "#2a3f5f",
           "arrowhead": 0,
           "arrowwidth": 1
          },
          "autotypenumbers": "strict",
          "coloraxis": {
           "colorbar": {
            "outlinewidth": 0,
            "ticks": ""
           }
          },
          "colorscale": {
           "diverging": [
            [
             0,
             "#8e0152"
            ],
            [
             0.1,
             "#c51b7d"
            ],
            [
             0.2,
             "#de77ae"
            ],
            [
             0.3,
             "#f1b6da"
            ],
            [
             0.4,
             "#fde0ef"
            ],
            [
             0.5,
             "#f7f7f7"
            ],
            [
             0.6,
             "#e6f5d0"
            ],
            [
             0.7,
             "#b8e186"
            ],
            [
             0.8,
             "#7fbc41"
            ],
            [
             0.9,
             "#4d9221"
            ],
            [
             1,
             "#276419"
            ]
           ],
           "sequential": [
            [
             0,
             "#0d0887"
            ],
            [
             0.1111111111111111,
             "#46039f"
            ],
            [
             0.2222222222222222,
             "#7201a8"
            ],
            [
             0.3333333333333333,
             "#9c179e"
            ],
            [
             0.4444444444444444,
             "#bd3786"
            ],
            [
             0.5555555555555556,
             "#d8576b"
            ],
            [
             0.6666666666666666,
             "#ed7953"
            ],
            [
             0.7777777777777778,
             "#fb9f3a"
            ],
            [
             0.8888888888888888,
             "#fdca26"
            ],
            [
             1,
             "#f0f921"
            ]
           ],
           "sequentialminus": [
            [
             0,
             "#0d0887"
            ],
            [
             0.1111111111111111,
             "#46039f"
            ],
            [
             0.2222222222222222,
             "#7201a8"
            ],
            [
             0.3333333333333333,
             "#9c179e"
            ],
            [
             0.4444444444444444,
             "#bd3786"
            ],
            [
             0.5555555555555556,
             "#d8576b"
            ],
            [
             0.6666666666666666,
             "#ed7953"
            ],
            [
             0.7777777777777778,
             "#fb9f3a"
            ],
            [
             0.8888888888888888,
             "#fdca26"
            ],
            [
             1,
             "#f0f921"
            ]
           ]
          },
          "colorway": [
           "#636efa",
           "#EF553B",
           "#00cc96",
           "#ab63fa",
           "#FFA15A",
           "#19d3f3",
           "#FF6692",
           "#B6E880",
           "#FF97FF",
           "#FECB52"
          ],
          "font": {
           "color": "#2a3f5f"
          },
          "geo": {
           "bgcolor": "white",
           "lakecolor": "white",
           "landcolor": "#E5ECF6",
           "showlakes": true,
           "showland": true,
           "subunitcolor": "white"
          },
          "hoverlabel": {
           "align": "left"
          },
          "hovermode": "closest",
          "mapbox": {
           "style": "light"
          },
          "paper_bgcolor": "white",
          "plot_bgcolor": "#E5ECF6",
          "polar": {
           "angularaxis": {
            "gridcolor": "white",
            "linecolor": "white",
            "ticks": ""
           },
           "bgcolor": "#E5ECF6",
           "radialaxis": {
            "gridcolor": "white",
            "linecolor": "white",
            "ticks": ""
           }
          },
          "scene": {
           "xaxis": {
            "backgroundcolor": "#E5ECF6",
            "gridcolor": "white",
            "gridwidth": 2,
            "linecolor": "white",
            "showbackground": true,
            "ticks": "",
            "zerolinecolor": "white"
           },
           "yaxis": {
            "backgroundcolor": "#E5ECF6",
            "gridcolor": "white",
            "gridwidth": 2,
            "linecolor": "white",
            "showbackground": true,
            "ticks": "",
            "zerolinecolor": "white"
           },
           "zaxis": {
            "backgroundcolor": "#E5ECF6",
            "gridcolor": "white",
            "gridwidth": 2,
            "linecolor": "white",
            "showbackground": true,
            "ticks": "",
            "zerolinecolor": "white"
           }
          },
          "shapedefaults": {
           "line": {
            "color": "#2a3f5f"
           }
          },
          "ternary": {
           "aaxis": {
            "gridcolor": "white",
            "linecolor": "white",
            "ticks": ""
           },
           "baxis": {
            "gridcolor": "white",
            "linecolor": "white",
            "ticks": ""
           },
           "bgcolor": "#E5ECF6",
           "caxis": {
            "gridcolor": "white",
            "linecolor": "white",
            "ticks": ""
           }
          },
          "title": {
           "x": 0.05
          },
          "xaxis": {
           "automargin": true,
           "gridcolor": "white",
           "linecolor": "white",
           "ticks": "",
           "title": {
            "standoff": 15
           },
           "zerolinecolor": "white",
           "zerolinewidth": 2
          },
          "yaxis": {
           "automargin": true,
           "gridcolor": "white",
           "linecolor": "white",
           "ticks": "",
           "title": {
            "standoff": 15
           },
           "zerolinecolor": "white",
           "zerolinewidth": 2
          }
         }
        },
        "width": 300
       }
      }
     },
     "metadata": {},
     "output_type": "display_data"
    }
   ],
   "source": [
    "fig = plot_one_shape(sd)\n",
    "fig = plot_one_shape(ssd, fig=fig)\n",
    "\n",
    "# fig.update_layout(\n",
    "#     autosize=False,\n",
    "#     width=300.0,\n",
    "#     height=500.0)\n"
   ]
  },
  {
   "cell_type": "code",
   "execution_count": 33,
   "metadata": {},
   "outputs": [
    {
     "data": {
      "text/plain": [
       "['key',\n",
       " 'Name',\n",
       " 'Construction_Name',\n",
       " 'Building_Surface_Name',\n",
       " 'Outside_Boundary_Condition_Object',\n",
       " 'Multiplier',\n",
       " 'Starting_X_Coordinate',\n",
       " 'Starting_Z_Coordinate',\n",
       " 'Length',\n",
       " 'Height']"
      ]
     },
     "execution_count": 33,
     "metadata": {},
     "output_type": "execute_result"
    }
   ],
   "source": [
    "ss.fieldnames"
   ]
  },
  {
   "cell_type": "code",
   "execution_count": 28,
   "metadata": {},
   "outputs": [
    {
     "data": {
      "text/plain": [
       "'Block 01 Storey 0 Wall 0001_1'"
      ]
     },
     "execution_count": 28,
     "metadata": {},
     "output_type": "execute_result"
    }
   ],
   "source": [
    "ss.Building_Surface_Name"
   ]
  },
  {
   "cell_type": "code",
   "execution_count": 13,
   "metadata": {},
   "outputs": [
    {
     "name": "stdout",
     "output_type": "stream",
     "text": [
      "idf has changed - running case\n",
      "\n",
      "/Applications/EnergyPlus-22-2-0/energyplus --weather /Users/julietnwagwuume-ezeoke/_UILCode/gqe-phd/geomeppy/weather_data/PALO_ALTO/CA_PALO-ALTO-AP_724937_23.EPW --output-directory /Users/julietnwagwuume-ezeoke/_UILCode/gqe-phd/geomeppy/cases/tests/test22_svg2plan/results --idd /Applications/EnergyPlus-22-2-0/Energy+.idd /Users/julietnwagwuume-ezeoke/_UILCode/gqe-phd/geomeppy/cases/base/01example/Minimal_AP_626f4f.idf\n",
      "\n",
      "EnergyPlus Starting\n",
      "EnergyPlus, Version 22.2.0-c249759bad, YMD=2024.10.20 10:47\n",
      "Adjusting Air System Sizing\n",
      "Adjusting Standard 62.1 Ventilation Sizing\n",
      "Initializing Simulation\n",
      "Reporting Surfaces\n",
      "Beginning Primary Simulation\n",
      "Initializing New Environment Parameters\n",
      "Warming up {1}\n",
      "Warming up {2}\n",
      "Warming up {3}\n",
      "Warming up {4}\n",
      "Warming up {5}\n",
      "Warming up {6}\n",
      "Starting Simulation at 07/01/2017 for SUMMERDAY\n",
      "Writing tabular output file results using HTML format.\n",
      "EnergyPlus Run Time=00hr 00min  0.28sec\n"
     ]
    },
    {
     "name": "stderr",
     "output_type": "stream",
     "text": [
      "EnergyPlus Completed Successfully.\n"
     ]
    }
   ],
   "source": [
    "# case.run_idf()"
   ]
  },
  {
   "cell_type": "code",
   "execution_count": 7,
   "metadata": {},
   "outputs": [
    {
     "data": {
      "text/plain": [
       "[\n",
       "AIRFLOWNETWORK:MULTIZONE:SURFACE,\n",
       "    Block 01 Storey 0 Wall 0003 Window,    !- Surface Name\n",
       "    Block 01 Storey 0 Wall 0003 Window SimpleOpening,    !- Leakage Component Name\n",
       "    ,                         !- External Node Name\n",
       "    1,                        !- WindowDoor Opening Factor or Crack Factor\n",
       "    ZoneLevel,                !- Ventilation Control Mode\n",
       "    ,                         !- Ventilation Control Zone Temperature Setpoint Schedule Name\n",
       "    0,                        !- Minimum Venting Open Factor\n",
       "    0,                        !- Indoor and Outdoor Temperature Difference Lower Limit For Maximum Venting Open Factor\n",
       "    100,                      !- Indoor and Outdoor Temperature Difference Upper Limit for Minimum Venting Open Factor\n",
       "    0,                        !- Indoor and Outdoor Enthalpy Difference Lower Limit For Maximum Venting Open Factor\n",
       "    300000,                   !- Indoor and Outdoor Enthalpy Difference Upper Limit for Minimum Venting Open Factor\n",
       "    ,                         !- Venting Availability Schedule Name\n",
       "    ,                         !- Occupant Ventilation Control Name\n",
       "    PolygonHeight,            !- Equivalent Rectangle Method\n",
       "    1;                        !- Equivalent Rectangle Aspect Ratio\n",
       ", \n",
       "AIRFLOWNETWORK:MULTIZONE:SURFACE,\n",
       "    Block 01 Storey 0 Wall 0004 Window,    !- Surface Name\n",
       "    Block 01 Storey 0 Wall 0004 Window SimpleOpening,    !- Leakage Component Name\n",
       "    ,                         !- External Node Name\n",
       "    1,                        !- WindowDoor Opening Factor or Crack Factor\n",
       "    ZoneLevel,                !- Ventilation Control Mode\n",
       "    ,                         !- Ventilation Control Zone Temperature Setpoint Schedule Name\n",
       "    0,                        !- Minimum Venting Open Factor\n",
       "    0,                        !- Indoor and Outdoor Temperature Difference Lower Limit For Maximum Venting Open Factor\n",
       "    100,                      !- Indoor and Outdoor Temperature Difference Upper Limit for Minimum Venting Open Factor\n",
       "    0,                        !- Indoor and Outdoor Enthalpy Difference Lower Limit For Maximum Venting Open Factor\n",
       "    300000,                   !- Indoor and Outdoor Enthalpy Difference Upper Limit for Minimum Venting Open Factor\n",
       "    ,                         !- Venting Availability Schedule Name\n",
       "    ,                         !- Occupant Ventilation Control Name\n",
       "    PolygonHeight,            !- Equivalent Rectangle Method\n",
       "    1;                        !- Equivalent Rectangle Aspect Ratio\n",
       ", \n",
       "AIRFLOWNETWORK:MULTIZONE:SURFACE,\n",
       "    Block 03 Storey 0 Wall 0002_2 Door,    !- Surface Name\n",
       "    Block 03 Storey 0 Wall 0002_2 Door SimpleOpening,    !- Leakage Component Name\n",
       "    ,                         !- External Node Name\n",
       "    1,                        !- WindowDoor Opening Factor or Crack Factor\n",
       "    ZoneLevel,                !- Ventilation Control Mode\n",
       "    ,                         !- Ventilation Control Zone Temperature Setpoint Schedule Name\n",
       "    0,                        !- Minimum Venting Open Factor\n",
       "    0,                        !- Indoor and Outdoor Temperature Difference Lower Limit For Maximum Venting Open Factor\n",
       "    100,                      !- Indoor and Outdoor Temperature Difference Upper Limit for Minimum Venting Open Factor\n",
       "    0,                        !- Indoor and Outdoor Enthalpy Difference Lower Limit For Maximum Venting Open Factor\n",
       "    300000,                   !- Indoor and Outdoor Enthalpy Difference Upper Limit for Minimum Venting Open Factor\n",
       "    ,                         !- Venting Availability Schedule Name\n",
       "    ,                         !- Occupant Ventilation Control Name\n",
       "    PolygonHeight,            !- Equivalent Rectangle Method\n",
       "    1;                        !- Equivalent Rectangle Aspect Ratio\n",
       ", \n",
       "AIRFLOWNETWORK:MULTIZONE:SURFACE,\n",
       "    Block 03 Storey 0 Wall 0004 Window,    !- Surface Name\n",
       "    Block 03 Storey 0 Wall 0004 Window SimpleOpening,    !- Leakage Component Name\n",
       "    ,                         !- External Node Name\n",
       "    1,                        !- WindowDoor Opening Factor or Crack Factor\n",
       "    ZoneLevel,                !- Ventilation Control Mode\n",
       "    ,                         !- Ventilation Control Zone Temperature Setpoint Schedule Name\n",
       "    0,                        !- Minimum Venting Open Factor\n",
       "    0,                        !- Indoor and Outdoor Temperature Difference Lower Limit For Maximum Venting Open Factor\n",
       "    100,                      !- Indoor and Outdoor Temperature Difference Upper Limit for Minimum Venting Open Factor\n",
       "    0,                        !- Indoor and Outdoor Enthalpy Difference Lower Limit For Maximum Venting Open Factor\n",
       "    300000,                   !- Indoor and Outdoor Enthalpy Difference Upper Limit for Minimum Venting Open Factor\n",
       "    ,                         !- Venting Availability Schedule Name\n",
       "    ,                         !- Occupant Ventilation Control Name\n",
       "    PolygonHeight,            !- Equivalent Rectangle Method\n",
       "    1;                        !- Equivalent Rectangle Aspect Ratio\n",
       ", \n",
       "AIRFLOWNETWORK:MULTIZONE:SURFACE,\n",
       "    Block 02 Storey 0 Wall 0002_2 Door,    !- Surface Name\n",
       "    Block 02 Storey 0 Wall 0002_2 Door SimpleOpening,    !- Leakage Component Name\n",
       "    ,                         !- External Node Name\n",
       "    1,                        !- WindowDoor Opening Factor or Crack Factor\n",
       "    ZoneLevel,                !- Ventilation Control Mode\n",
       "    ,                         !- Ventilation Control Zone Temperature Setpoint Schedule Name\n",
       "    0,                        !- Minimum Venting Open Factor\n",
       "    0,                        !- Indoor and Outdoor Temperature Difference Lower Limit For Maximum Venting Open Factor\n",
       "    100,                      !- Indoor and Outdoor Temperature Difference Upper Limit for Minimum Venting Open Factor\n",
       "    0,                        !- Indoor and Outdoor Enthalpy Difference Lower Limit For Maximum Venting Open Factor\n",
       "    300000,                   !- Indoor and Outdoor Enthalpy Difference Upper Limit for Minimum Venting Open Factor\n",
       "    ,                         !- Venting Availability Schedule Name\n",
       "    ,                         !- Occupant Ventilation Control Name\n",
       "    PolygonHeight,            !- Equivalent Rectangle Method\n",
       "    1;                        !- Equivalent Rectangle Aspect Ratio\n",
       ", \n",
       "AIRFLOWNETWORK:MULTIZONE:SURFACE,\n",
       "    Block 04 Storey 0 Wall 0002 Window,    !- Surface Name\n",
       "    Block 04 Storey 0 Wall 0002 Window SimpleOpening,    !- Leakage Component Name\n",
       "    ,                         !- External Node Name\n",
       "    1,                        !- WindowDoor Opening Factor or Crack Factor\n",
       "    ZoneLevel,                !- Ventilation Control Mode\n",
       "    ,                         !- Ventilation Control Zone Temperature Setpoint Schedule Name\n",
       "    0,                        !- Minimum Venting Open Factor\n",
       "    0,                        !- Indoor and Outdoor Temperature Difference Lower Limit For Maximum Venting Open Factor\n",
       "    100,                      !- Indoor and Outdoor Temperature Difference Upper Limit for Minimum Venting Open Factor\n",
       "    0,                        !- Indoor and Outdoor Enthalpy Difference Lower Limit For Maximum Venting Open Factor\n",
       "    300000,                   !- Indoor and Outdoor Enthalpy Difference Upper Limit for Minimum Venting Open Factor\n",
       "    ,                         !- Venting Availability Schedule Name\n",
       "    ,                         !- Occupant Ventilation Control Name\n",
       "    PolygonHeight,            !- Equivalent Rectangle Method\n",
       "    1;                        !- Equivalent Rectangle Aspect Ratio\n",
       ", \n",
       "AIRFLOWNETWORK:MULTIZONE:SURFACE,\n",
       "    Block 02 Storey 0 Wall 0001_1 Door,    !- Surface Name\n",
       "    Block 02 Storey 0 Wall 0001_1 Door SimpleOpening,    !- Leakage Component Name\n",
       "    ,                         !- External Node Name\n",
       "    1,                        !- WindowDoor Opening Factor or Crack Factor\n",
       "    ZoneLevel,                !- Ventilation Control Mode\n",
       "    ,                         !- Ventilation Control Zone Temperature Setpoint Schedule Name\n",
       "    0,                        !- Minimum Venting Open Factor\n",
       "    0,                        !- Indoor and Outdoor Temperature Difference Lower Limit For Maximum Venting Open Factor\n",
       "    100,                      !- Indoor and Outdoor Temperature Difference Upper Limit for Minimum Venting Open Factor\n",
       "    0,                        !- Indoor and Outdoor Enthalpy Difference Lower Limit For Maximum Venting Open Factor\n",
       "    300000,                   !- Indoor and Outdoor Enthalpy Difference Upper Limit for Minimum Venting Open Factor\n",
       "    ,                         !- Venting Availability Schedule Name\n",
       "    ,                         !- Occupant Ventilation Control Name\n",
       "    PolygonHeight,            !- Equivalent Rectangle Method\n",
       "    1;                        !- Equivalent Rectangle Aspect Ratio\n",
       ", \n",
       "AIRFLOWNETWORK:MULTIZONE:SURFACE,\n",
       "    Block 01 Storey 0 Wall 0001_1 Door,    !- Surface Name\n",
       "    Block 01 Storey 0 Wall 0001_1 Door SimpleOpening,    !- Leakage Component Name\n",
       "    ,                         !- External Node Name\n",
       "    1,                        !- WindowDoor Opening Factor or Crack Factor\n",
       "    ZoneLevel,                !- Ventilation Control Mode\n",
       "    ,                         !- Ventilation Control Zone Temperature Setpoint Schedule Name\n",
       "    0,                        !- Minimum Venting Open Factor\n",
       "    0,                        !- Indoor and Outdoor Temperature Difference Lower Limit For Maximum Venting Open Factor\n",
       "    100,                      !- Indoor and Outdoor Temperature Difference Upper Limit for Minimum Venting Open Factor\n",
       "    0,                        !- Indoor and Outdoor Enthalpy Difference Lower Limit For Maximum Venting Open Factor\n",
       "    300000,                   !- Indoor and Outdoor Enthalpy Difference Upper Limit for Minimum Venting Open Factor\n",
       "    ,                         !- Venting Availability Schedule Name\n",
       "    ,                         !- Occupant Ventilation Control Name\n",
       "    PolygonHeight,            !- Equivalent Rectangle Method\n",
       "    1;                        !- Equivalent Rectangle Aspect Ratio\n",
       ", \n",
       "AIRFLOWNETWORK:MULTIZONE:SURFACE,\n",
       "    Block 01 Storey 0 Wall 0002_1 Door,    !- Surface Name\n",
       "    Block 01 Storey 0 Wall 0002_1 Door SimpleOpening,    !- Leakage Component Name\n",
       "    ,                         !- External Node Name\n",
       "    1,                        !- WindowDoor Opening Factor or Crack Factor\n",
       "    ZoneLevel,                !- Ventilation Control Mode\n",
       "    ,                         !- Ventilation Control Zone Temperature Setpoint Schedule Name\n",
       "    0,                        !- Minimum Venting Open Factor\n",
       "    0,                        !- Indoor and Outdoor Temperature Difference Lower Limit For Maximum Venting Open Factor\n",
       "    100,                      !- Indoor and Outdoor Temperature Difference Upper Limit for Minimum Venting Open Factor\n",
       "    0,                        !- Indoor and Outdoor Enthalpy Difference Lower Limit For Maximum Venting Open Factor\n",
       "    300000,                   !- Indoor and Outdoor Enthalpy Difference Upper Limit for Minimum Venting Open Factor\n",
       "    ,                         !- Venting Availability Schedule Name\n",
       "    ,                         !- Occupant Ventilation Control Name\n",
       "    PolygonHeight,            !- Equivalent Rectangle Method\n",
       "    1;                        !- Equivalent Rectangle Aspect Ratio\n",
       ", \n",
       "AIRFLOWNETWORK:MULTIZONE:SURFACE,\n",
       "    Block 00 Storey 0 Wall 0003 Window,    !- Surface Name\n",
       "    Block 00 Storey 0 Wall 0003 Window SimpleOpening,    !- Leakage Component Name\n",
       "    ,                         !- External Node Name\n",
       "    1,                        !- WindowDoor Opening Factor or Crack Factor\n",
       "    ZoneLevel,                !- Ventilation Control Mode\n",
       "    ,                         !- Ventilation Control Zone Temperature Setpoint Schedule Name\n",
       "    0,                        !- Minimum Venting Open Factor\n",
       "    0,                        !- Indoor and Outdoor Temperature Difference Lower Limit For Maximum Venting Open Factor\n",
       "    100,                      !- Indoor and Outdoor Temperature Difference Upper Limit for Minimum Venting Open Factor\n",
       "    0,                        !- Indoor and Outdoor Enthalpy Difference Lower Limit For Maximum Venting Open Factor\n",
       "    300000,                   !- Indoor and Outdoor Enthalpy Difference Upper Limit for Minimum Venting Open Factor\n",
       "    ,                         !- Venting Availability Schedule Name\n",
       "    ,                         !- Occupant Ventilation Control Name\n",
       "    PolygonHeight,            !- Equivalent Rectangle Method\n",
       "    1;                        !- Equivalent Rectangle Aspect Ratio\n",
       ", \n",
       "AIRFLOWNETWORK:MULTIZONE:SURFACE,\n",
       "    Block 02 Storey 0 Wall 0001_2 Door,    !- Surface Name\n",
       "    Block 02 Storey 0 Wall 0001_2 Door SimpleOpening,    !- Leakage Component Name\n",
       "    ,                         !- External Node Name\n",
       "    1,                        !- WindowDoor Opening Factor or Crack Factor\n",
       "    ZoneLevel,                !- Ventilation Control Mode\n",
       "    ,                         !- Ventilation Control Zone Temperature Setpoint Schedule Name\n",
       "    0,                        !- Minimum Venting Open Factor\n",
       "    0,                        !- Indoor and Outdoor Temperature Difference Lower Limit For Maximum Venting Open Factor\n",
       "    100,                      !- Indoor and Outdoor Temperature Difference Upper Limit for Minimum Venting Open Factor\n",
       "    0,                        !- Indoor and Outdoor Enthalpy Difference Lower Limit For Maximum Venting Open Factor\n",
       "    300000,                   !- Indoor and Outdoor Enthalpy Difference Upper Limit for Minimum Venting Open Factor\n",
       "    ,                         !- Venting Availability Schedule Name\n",
       "    ,                         !- Occupant Ventilation Control Name\n",
       "    PolygonHeight,            !- Equivalent Rectangle Method\n",
       "    1;                        !- Equivalent Rectangle Aspect Ratio\n",
       ", \n",
       "AIRFLOWNETWORK:MULTIZONE:SURFACE,\n",
       "    Block 00 Storey 0 Wall 0002 Window,    !- Surface Name\n",
       "    Block 00 Storey 0 Wall 0002 Window SimpleOpening,    !- Leakage Component Name\n",
       "    ,                         !- External Node Name\n",
       "    1,                        !- WindowDoor Opening Factor or Crack Factor\n",
       "    ZoneLevel,                !- Ventilation Control Mode\n",
       "    ,                         !- Ventilation Control Zone Temperature Setpoint Schedule Name\n",
       "    0,                        !- Minimum Venting Open Factor\n",
       "    0,                        !- Indoor and Outdoor Temperature Difference Lower Limit For Maximum Venting Open Factor\n",
       "    100,                      !- Indoor and Outdoor Temperature Difference Upper Limit for Minimum Venting Open Factor\n",
       "    0,                        !- Indoor and Outdoor Enthalpy Difference Lower Limit For Maximum Venting Open Factor\n",
       "    300000,                   !- Indoor and Outdoor Enthalpy Difference Upper Limit for Minimum Venting Open Factor\n",
       "    ,                         !- Venting Availability Schedule Name\n",
       "    ,                         !- Occupant Ventilation Control Name\n",
       "    PolygonHeight,            !- Equivalent Rectangle Method\n",
       "    1;                        !- Equivalent Rectangle Aspect Ratio\n",
       ", \n",
       "AIRFLOWNETWORK:MULTIZONE:SURFACE,\n",
       "    Block 04 Storey 0 Wall 0001 Window,    !- Surface Name\n",
       "    Block 04 Storey 0 Wall 0001 Window SimpleOpening,    !- Leakage Component Name\n",
       "    ,                         !- External Node Name\n",
       "    1,                        !- WindowDoor Opening Factor or Crack Factor\n",
       "    ZoneLevel,                !- Ventilation Control Mode\n",
       "    ,                         !- Ventilation Control Zone Temperature Setpoint Schedule Name\n",
       "    0,                        !- Minimum Venting Open Factor\n",
       "    0,                        !- Indoor and Outdoor Temperature Difference Lower Limit For Maximum Venting Open Factor\n",
       "    100,                      !- Indoor and Outdoor Temperature Difference Upper Limit for Minimum Venting Open Factor\n",
       "    0,                        !- Indoor and Outdoor Enthalpy Difference Lower Limit For Maximum Venting Open Factor\n",
       "    300000,                   !- Indoor and Outdoor Enthalpy Difference Upper Limit for Minimum Venting Open Factor\n",
       "    ,                         !- Venting Availability Schedule Name\n",
       "    ,                         !- Occupant Ventilation Control Name\n",
       "    PolygonHeight,            !- Equivalent Rectangle Method\n",
       "    1;                        !- Equivalent Rectangle Aspect Ratio\n",
       "]"
      ]
     },
     "execution_count": 7,
     "metadata": {},
     "output_type": "execute_result"
    }
   ],
   "source": [
    "idf.idfobjects[\"AIRFLOWNETWORK:MULTIZONE:SURFACE\"]"
   ]
  },
  {
   "cell_type": "code",
   "execution_count": 10,
   "metadata": {},
   "outputs": [
    {
     "ename": "AttributeError",
     "evalue": "'NoneType' object has no attribute 'values'",
     "output_type": "error",
     "traceback": [
      "\u001b[0;31m---------------------------------------------------------------------------\u001b[0m",
      "\u001b[0;31mAttributeError\u001b[0m                            Traceback (most recent call last)",
      "Cell \u001b[0;32mIn[10], line 1\u001b[0m\n\u001b[0;32m----> 1\u001b[0m subsurfaces \u001b[38;5;241m=\u001b[39m chain_flatten(\u001b[43mpair_zone_and_subsurfaces\u001b[49m\u001b[43m(\u001b[49m\u001b[43midf\u001b[49m\u001b[43m)\u001b[49m\u001b[38;5;241;43m.\u001b[39;49m\u001b[43mvalues\u001b[49m())\n\u001b[1;32m      2\u001b[0m \u001b[38;5;28mlen\u001b[39m(subsurfaces), \u001b[38;5;28mlen\u001b[39m(\u001b[38;5;28mset\u001b[39m(subsurfaces))\n",
      "\u001b[0;31mAttributeError\u001b[0m: 'NoneType' object has no attribute 'values'"
     ]
    }
   ],
   "source": [
    "subsurfaces = chain_flatten(pair_zone_and_subsurfaces(idf).values())\n",
    "len(subsurfaces), len(set(subsurfaces))"
   ]
  },
  {
   "cell_type": "code",
   "execution_count": null,
   "metadata": {},
   "outputs": [],
   "source": []
  },
  {
   "cell_type": "code",
   "execution_count": 38,
   "metadata": {},
   "outputs": [
    {
     "data": {
      "text/plain": [
       "dict_values([['ZONE', 'Block 00 Storey 0', 0.0, 0.0, 0.0, 0.0, 1, 1, 'autocalculate', 'autocalculate', 'autocalculate', '', '', 'Yes'], ['key', 'Name', 'Direction_of_Relative_North', 'X_Origin', 'Y_Origin', 'Z_Origin', 'Type', 'Multiplier', 'Ceiling_Height', 'Volume', 'Floor_Area', 'Zone_Inside_Convection_Algorithm', 'Zone_Outside_Convection_Algorithm', 'Part_of_Total_Floor_Area'], [{'memo': ['Defines a thermal zone of the building. Every zone contains one or more Spaces.', 'Space is an optional input.', 'If a Zone has no Space(s) specified in input then a default Space named <Zone Name> will be created.', 'If some surfaces in a Zone are assigned to a space and some are not, then a default Space', 'named <Zone Name>-Remainder will be created.', 'Input references to Space Names must have a matching Space object', '(default space names may not be referenced except in output variable keys).'], 'format': ['vertices'], 'group': 'Thermal Zones and Surfaces', 'idfobj': 'Zone'}, {'field': ['Name'], 'note': ['Name of the Zone.', 'This name must be unique across Zone, Space, ZoneList, and SpaceList names.'], 'required-field': [''], 'type': ['alpha'], 'reference': ['ZoneNames', 'OutFaceEnvNames', 'ZoneAndZoneListNames', 'ZoneAndZoneListAndSpaceAndSpaceListNames', 'AirflowNetworkNodeAndZoneNames']}, {'field': ['Direction of Relative North'], 'units': ['deg'], 'type': ['real'], 'default': ['0']}, {'field': ['X Origin'], 'units': ['m'], 'type': ['real'], 'default': ['0']}, {'field': ['Y Origin'], 'units': ['m'], 'type': ['real'], 'default': ['0']}, {'field': ['Z Origin'], 'units': ['m'], 'type': ['real'], 'default': ['0']}, {'field': ['Type'], 'type': ['integer'], 'maximum': ['1'], 'minimum': ['1'], 'default': ['1']}, {'field': ['Multiplier'], 'type': ['integer'], 'minimum': ['1'], 'default': ['1']}, {'field': ['Ceiling Height'], 'note': ['If this field is 0.0, negative or autocalculate, then the average height', 'of the zone is automatically calculated and used in subsequent calculations.', 'If this field is positive, then the number entered here will be used.', 'Note that the Zone Ceiling Height is the distance from the Floor to', 'the Ceiling in the Zone, not an absolute height from the ground.'], 'units': ['m'], 'type': ['real'], 'autocalculatable': [''], 'default': ['autocalculate']}, {'field': ['Volume'], 'note': ['If this field is 0.0, negative or autocalculate, then the volume of the zone', 'is automatically calculated and used in subsequent calculations.', 'If this field is positive, then the number entered here will be used.'], 'units': ['m3'], 'type': ['real'], 'autocalculatable': [''], 'default': ['autocalculate']}, {'field': ['Floor Area'], 'note': ['If this field is 0.0, negative or autocalculate, then the floor area of the zone', 'is automatically calculated and used in subsequent calculations.', 'If this field is positive, then the number entered here will be used.'], 'units': ['m2'], 'type': ['real'], 'autocalculatable': [''], 'default': ['autocalculate']}, {'field': ['Zone Inside Convection Algorithm'], 'type': ['choice'], 'key': ['Simple', 'TARP', 'CeilingDiffuser', 'AdaptiveConvectionAlgorithm', 'TrombeWall', 'ASTMC1340'], 'note': ['Will default to same value as SurfaceConvectionAlgorithm:Inside object', 'setting this field overrides the default SurfaceConvectionAlgorithm:Inside for this zone', 'Simple = constant natural convection (ASHRAE)', 'TARP = variable natural convection based on temperature difference (ASHRAE)', 'CeilingDiffuser = ACH based forced and mixed convection correlations', 'for ceiling diffuser configuration with simple natural convection limit', 'AdaptiveConvectionAlgorithm = dynamic selection of convection models based on conditions', 'TrombeWall = variable natural convection in an enclosed rectangular cavity', 'ASTMC1340 = mixed convection correlations specified for attic zone']}, {'field': ['Zone Outside Convection Algorithm'], 'note': ['Will default to same value as SurfaceConvectionAlgorithm:Outside object', 'setting this field overrides the default SurfaceConvectionAlgorithm:Outside for this zone', 'SimpleCombined = Combined radiation and convection coefficient using simple ASHRAE model', 'TARP = correlation from models developed by ASHRAE, Walton, and Sparrow et. al.', 'MoWiTT = correlation from measurements by Klems and Yazdanian for smooth surfaces', 'DOE-2 = correlation from measurements by Klems and Yazdanian for rough surfaces', 'AdaptiveConvectionAlgorithm = dynamic selection of correlations based on conditions'], 'type': ['choice'], 'key': ['SimpleCombined', 'TARP', 'DOE-2', 'MoWiTT', 'AdaptiveConvectionAlgorithm']}, {'field': ['Part of Total Floor Area'], 'type': ['choice'], 'key': ['Yes', 'No'], 'default': ['Yes']}], <geomeppy.idf.IDF object at 0x11aaec250>, {'zonesurfaces': <function zonesurfaces at 0x10a1a6290>}])"
      ]
     },
     "execution_count": 38,
     "metadata": {},
     "output_type": "execute_result"
    }
   ],
   "source": [
    "res: list[EpBunch] = [i for i in get_zones(idf)]\n",
    "res[0].values()"
   ]
  },
  {
   "cell_type": "code",
   "execution_count": 6,
   "metadata": {},
   "outputs": [
    {
     "data": {
      "text/plain": [
       "['Block 00 Storey 0',\n",
       " 'Block 01 Storey 0',\n",
       " 'Block 02 Storey 0',\n",
       " 'Block 03 Storey 0',\n",
       " 'Block 04 Storey 0',\n",
       " 'Block 05 Storey 0',\n",
       " 'Block 06 Storey 0',\n",
       " 'Block 07 Storey 0']"
      ]
     },
     "execution_count": 6,
     "metadata": {},
     "output_type": "execute_result"
    }
   ],
   "source": [
    "zone_names = [i.Name for i in get_zones(idf)]\n",
    "zone_names"
   ]
  },
  {
   "cell_type": "code",
   "execution_count": 7,
   "metadata": {},
   "outputs": [],
   "source": [
    "def find_matching_zone(subsurface:EpBunch):\n",
    "    for i in zone_names:\n",
    "        if i in subsurface.Building_Surface_Name:\n",
    "            return i"
   ]
  },
  {
   "cell_type": "code",
   "execution_count": 8,
   "metadata": {},
   "outputs": [
    {
     "data": {
      "text/plain": [
       "\n",
       "WINDOW,\n",
       "    Block 04 Storey 0 Wall 0001 Window,    !- Name\n",
       "    Project External Window,    !- Construction Name\n",
       "    Block 04 Storey 0 Wall 0001,    !- Building Surface Name\n",
       "    ,                         !- Frame and Divider Name\n",
       "    1.0,                      !- Multiplier\n",
       "    2.12,                     !- Starting X Coordinate\n",
       "    1.4994999999999998,       !- Starting Z Coordinate\n",
       "    0.71,                     !- Length\n",
       "    1.52;                     !- Height"
      ]
     },
     "execution_count": 8,
     "metadata": {},
     "output_type": "execute_result"
    }
   ],
   "source": [
    "original_subsurfaces = [i for i in idf.getsubsurfaces() if \"Partner\" not in i.Name]\n",
    "original_subsurfaces[0]"
   ]
  },
  {
   "cell_type": "code",
   "execution_count": 9,
   "metadata": {},
   "outputs": [
    {
     "data": {
      "text/plain": [
       "[('Block 04 Storey 0', 'Block 04 Storey 0 Wall 0001 Window'),\n",
       " ('Block 04 Storey 0', 'Block 04 Storey 0 Wall 0002 Window'),\n",
       " ('Block 00 Storey 0', 'Block 00 Storey 0 Wall 0003 Window'),\n",
       " ('Block 01 Storey 0', 'Block 01 Storey 0 Wall 0003 Window'),\n",
       " ('Block 00 Storey 0', 'Block 00 Storey 0 Wall 0002 Window'),\n",
       " ('Block 01 Storey 0', 'Block 01 Storey 0 Wall 0004 Window'),\n",
       " ('Block 03 Storey 0', 'Block 03 Storey 0 Wall 0004 Window'),\n",
       " ('Block 01 Storey 0', 'Block 01 Storey 0 Wall 0001_1 Door'),\n",
       " ('Block 01 Storey 0', 'Block 01 Storey 0 Wall 0002_1 Door'),\n",
       " ('Block 02 Storey 0', 'Block 02 Storey 0 Wall 0001_2 Door'),\n",
       " ('Block 02 Storey 0', 'Block 02 Storey 0 Wall 0001_1 Door'),\n",
       " ('Block 02 Storey 0', 'Block 02 Storey 0 Wall 0002_2 Door'),\n",
       " ('Block 06 Storey 0', 'Block 06 Storey 0 Wall 0002_1 Door'),\n",
       " ('Block 03 Storey 0', 'Block 03 Storey 0 Wall 0002_2 Door')]"
      ]
     },
     "execution_count": 9,
     "metadata": {},
     "output_type": "execute_result"
    }
   ],
   "source": [
    "zone_pairs = [(find_matching_zone(i), i.Name) for i in original_subsurfaces]\n",
    "zone_pairs"
   ]
  },
  {
   "cell_type": "code",
   "execution_count": 25,
   "metadata": {},
   "outputs": [],
   "source": [
    "d = {}\n",
    "\n",
    "for zone, subsurf in zone_pairs:\n",
    "    if zone not in d.keys():\n",
    "        d[zone] = []\n",
    "    d[zone].append(subsurf)\n"
   ]
  },
  {
   "cell_type": "code",
   "execution_count": 28,
   "metadata": {},
   "outputs": [
    {
     "data": {
      "text/plain": [
       "{'Block 04 Storey 0': ['Block 04 Storey 0 Wall 0001 Window',\n",
       "  'Block 04 Storey 0 Wall 0002 Window'],\n",
       " 'Block 00 Storey 0': ['Block 00 Storey 0 Wall 0003 Window',\n",
       "  'Block 00 Storey 0 Wall 0002 Window'],\n",
       " 'Block 01 Storey 0': ['Block 01 Storey 0 Wall 0003 Window',\n",
       "  'Block 01 Storey 0 Wall 0004 Window',\n",
       "  'Block 01 Storey 0 Wall 0001_1 Door',\n",
       "  'Block 01 Storey 0 Wall 0002_1 Door'],\n",
       " 'Block 03 Storey 0': ['Block 03 Storey 0 Wall 0004 Window',\n",
       "  'Block 03 Storey 0 Wall 0002_2 Door'],\n",
       " 'Block 02 Storey 0': ['Block 02 Storey 0 Wall 0001_2 Door',\n",
       "  'Block 02 Storey 0 Wall 0001_1 Door',\n",
       "  'Block 02 Storey 0 Wall 0002_2 Door']}"
      ]
     },
     "execution_count": 28,
     "metadata": {},
     "output_type": "execute_result"
    }
   ],
   "source": [
    "# filter zones w less than one subsurface\n",
    "afn_zones = {k:v for k,v in d.items() if len(v) >= 2}\n",
    "afn_zones\n"
   ]
  },
  {
   "cell_type": "code",
   "execution_count": 26,
   "metadata": {},
   "outputs": [
    {
     "data": {
      "text/plain": [
       "{'Block 04 Storey 0': ['Block 04 Storey 0 Wall 0001 Window',\n",
       "  'Block 04 Storey 0 Wall 0002 Window'],\n",
       " 'Block 00 Storey 0': ['Block 00 Storey 0 Wall 0003 Window',\n",
       "  'Block 00 Storey 0 Wall 0002 Window'],\n",
       " 'Block 01 Storey 0': ['Block 01 Storey 0 Wall 0003 Window',\n",
       "  'Block 01 Storey 0 Wall 0004 Window',\n",
       "  'Block 01 Storey 0 Wall 0001_1 Door',\n",
       "  'Block 01 Storey 0 Wall 0002_1 Door'],\n",
       " 'Block 03 Storey 0': ['Block 03 Storey 0 Wall 0004 Window',\n",
       "  'Block 03 Storey 0 Wall 0002_2 Door'],\n",
       " 'Block 02 Storey 0': ['Block 02 Storey 0 Wall 0001_2 Door',\n",
       "  'Block 02 Storey 0 Wall 0001_1 Door',\n",
       "  'Block 02 Storey 0 Wall 0002_2 Door'],\n",
       " 'Block 06 Storey 0': ['Block 06 Storey 0 Wall 0002_1 Door']}"
      ]
     },
     "execution_count": 26,
     "metadata": {},
     "output_type": "execute_result"
    }
   ],
   "source": [
    "d"
   ]
  },
  {
   "cell_type": "code",
   "execution_count": 24,
   "metadata": {},
   "outputs": [
    {
     "data": {
      "text/plain": [
       "(['Block 00 Storey 0',\n",
       "  'Block 01 Storey 0',\n",
       "  'Block 02 Storey 0',\n",
       "  'Block 03 Storey 0',\n",
       "  'Block 04 Storey 0',\n",
       "  'Block 06 Storey 0'],\n",
       " [[('Block 00 Storey 0', 'Block 00 Storey 0 Wall 0003 Window'),\n",
       "   ('Block 00 Storey 0', 'Block 00 Storey 0 Wall 0002 Window')],\n",
       "  [('Block 01 Storey 0', 'Block 01 Storey 0 Wall 0003 Window'),\n",
       "   ('Block 01 Storey 0', 'Block 01 Storey 0 Wall 0004 Window'),\n",
       "   ('Block 01 Storey 0', 'Block 01 Storey 0 Wall 0001_1 Door'),\n",
       "   ('Block 01 Storey 0', 'Block 01 Storey 0 Wall 0002_1 Door')],\n",
       "  [('Block 02 Storey 0', 'Block 02 Storey 0 Wall 0001_2 Door'),\n",
       "   ('Block 02 Storey 0', 'Block 02 Storey 0 Wall 0001_1 Door'),\n",
       "   ('Block 02 Storey 0', 'Block 02 Storey 0 Wall 0002_2 Door')],\n",
       "  [('Block 03 Storey 0', 'Block 03 Storey 0 Wall 0004 Window'),\n",
       "   ('Block 03 Storey 0', 'Block 03 Storey 0 Wall 0002_2 Door')],\n",
       "  [('Block 04 Storey 0', 'Block 04 Storey 0 Wall 0001 Window'),\n",
       "   ('Block 04 Storey 0', 'Block 04 Storey 0 Wall 0002 Window')],\n",
       "  [('Block 06 Storey 0', 'Block 06 Storey 0 Wall 0002_1 Door')]])"
      ]
     },
     "execution_count": 24,
     "metadata": {},
     "output_type": "execute_result"
    }
   ],
   "source": [
    "sort_and_group_objects_dict(zone_pairs, fx=lambda x: x[0])"
   ]
  }
 ],
 "metadata": {
  "kernelspec": {
   "display_name": "gqenv",
   "language": "python",
   "name": "python3"
  },
  "language_info": {
   "codemirror_mode": {
    "name": "ipython",
    "version": 3
   },
   "file_extension": ".py",
   "mimetype": "text/x-python",
   "name": "python",
   "nbconvert_exporter": "python",
   "pygments_lexer": "ipython3",
   "version": "3.10.14"
  }
 },
 "nbformat": 4,
 "nbformat_minor": 2
}
