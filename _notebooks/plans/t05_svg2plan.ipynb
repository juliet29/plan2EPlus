{
 "cells": [
  {
   "cell_type": "code",
   "execution_count": 7,
   "metadata": {},
   "outputs": [
    {
     "name": "stdout",
     "output_type": "stream",
     "text": [
      "The autoreload extension is already loaded. To reload it, use:\n",
      "  %reload_ext autoreload\n"
     ]
    }
   ],
   "source": [
    "%load_ext autoreload\n",
    "%autoreload 2"
   ]
  },
  {
   "cell_type": "code",
   "execution_count": 8,
   "metadata": {},
   "outputs": [],
   "source": [
    "from pathlib import Path\n",
    "import sys\n",
    "sys.path.append(str(Path.cwd() / \"_scripts\"))"
   ]
  },
  {
   "cell_type": "code",
   "execution_count": 9,
   "metadata": {},
   "outputs": [],
   "source": [
    "from shapely import Polygon\n",
    "from functools import partial\n",
    "\n",
    "\n",
    "from case_edits.ezcase_new import *\n",
    "from new_subsurfaces.preparation import *\n",
    "from geometry.wall_normal import WallNormal\n"
   ]
  },
  {
   "cell_type": "code",
   "execution_count": 10,
   "metadata": {},
   "outputs": [
    {
     "name": "stdout",
     "output_type": "stream",
     "text": [
      "width: 0.57 NOT GREATER THAN 0.81\n",
      "Editing (2, 6) \n",
      "\n",
      "width: 0.66 NOT GREATER THAN 0.81\n",
      "Editing (2, 7) \n",
      "\n",
      "width: 0.71 NOT GREATER THAN 0.81\n",
      "Editing (6, 4) \n",
      "\n",
      "width: 0.71 NOT GREATER THAN 0.81\n",
      "Editing (3, 6) \n",
      "\n"
     ]
    }
   ],
   "source": [
    "\n",
    "inputs_dir = \"case_red_d3\"\n",
    "outputs_dir = \"tests/test22_svg2plan\"\n",
    "\n",
    "case_path = get_case_inputs_path(inputs_dir)\n",
    "idf = create_ezcase(outputs_dir, inputs_dir)\n",
    "\n"
   ]
  },
  {
   "cell_type": "code",
   "execution_count": 11,
   "metadata": {},
   "outputs": [
    {
     "data": {
      "text/plain": [
       "{'top_left': PlacementPoint(point=Coord(x=1.8135000000000001, y=3.0195), functions=[<function push_down at 0x10f560670>]),\n",
       " 'top_middle': PlacementPoint(point=Coord(x=2.475, y=3.0195), functions=[<function push_down at 0x10f560670>, <function push_left_half at 0x10f560b80>]),\n",
       " 'top_right': PlacementPoint(point=Coord(x=3.1365, y=3.0195), functions=[<function push_down at 0x10f560670>, <function push_left at 0x10f560a60>]),\n",
       " 'middle_left': PlacementPoint(point=Coord(x=1.8135000000000001, y=1.525), functions=[<function push_down_half at 0x10f560af0>]),\n",
       " 'middle_middle': PlacementPoint(point=Coord(x=2.475, y=1.525), functions=[<function push_down_half at 0x10f560af0>, <function push_left_half at 0x10f560b80>]),\n",
       " 'middle_right': PlacementPoint(point=Coord(x=3.1365, y=1.525), functions=[<function push_down_half at 0x10f560af0>, <function push_left at 0x10f560a60>]),\n",
       " 'bottom_left': PlacementPoint(point=Coord(x=1.8135000000000001, y=0.0305), functions=[]),\n",
       " 'bottom_middle': PlacementPoint(point=Coord(x=2.475, y=0.0305), functions=[<function push_left_half at 0x10f560b80>]),\n",
       " 'bottom_right': PlacementPoint(point=Coord(x=3.1365, y=0.0305), functions=[<function push_left at 0x10f560a60>])}"
      ]
     },
     "execution_count": 11,
     "metadata": {},
     "output_type": "execute_result"
    }
   ],
   "source": [
    "dom = create_domain_for_rectangular_wall(get_zone_walls(idf, 4)[0])\n",
    "create_nine_points_for_domain(dom)"
   ]
  },
  {
   "cell_type": "code",
   "execution_count": 12,
   "metadata": {},
   "outputs": [
    {
     "data": {
      "text/plain": [
       "[\n",
       "WINDOW,\n",
       "    Block 04 Storey 0 Wall 0001 Window,    !- Name\n",
       "    ,                         !- Construction Name\n",
       "    Block 04 Storey 0 Wall 0001,    !- Building Surface Name\n",
       "    ,                         !- Frame and Divider Name\n",
       "    1.0,                      !- Multiplier\n",
       "    2.12,                     !- Starting X Coordinate\n",
       "    0.0305,                   !- Starting Z Coordinate\n",
       "    0.71,                     !- Length\n",
       "    1.52;                     !- Height\n",
       ", \n",
       "WINDOW,\n",
       "    Block 04 Storey 0 Wall 0002 Window,    !- Name\n",
       "    ,                         !- Construction Name\n",
       "    Block 04 Storey 0 Wall 0002,    !- Building Surface Name\n",
       "    ,                         !- Frame and Divider Name\n",
       "    1.0,                      !- Multiplier\n",
       "    2.71,                     !- Starting X Coordinate\n",
       "    0.0305,                   !- Starting Z Coordinate\n",
       "    0.71,                     !- Length\n",
       "    1.52;                     !- Height\n",
       ", \n",
       "WINDOW,\n",
       "    Block 00 Storey 0 Wall 0003 Window,    !- Name\n",
       "    ,                         !- Construction Name\n",
       "    Block 00 Storey 0 Wall 0003,    !- Building Surface Name\n",
       "    ,                         !- Frame and Divider Name\n",
       "    1.0,                      !- Multiplier\n",
       "    2.11,                     !- Starting X Coordinate\n",
       "    0.0305,                   !- Starting Z Coordinate\n",
       "    0.71,                     !- Length\n",
       "    1.52;                     !- Height\n",
       ", \n",
       "WINDOW,\n",
       "    Block 01 Storey 0 Wall 0003 Window,    !- Name\n",
       "    ,                         !- Construction Name\n",
       "    Block 01 Storey 0 Wall 0003,    !- Building Surface Name\n",
       "    ,                         !- Frame and Divider Name\n",
       "    1.0,                      !- Multiplier\n",
       "    0.535,                    !- Starting X Coordinate\n",
       "    0.0305,                   !- Starting Z Coordinate\n",
       "    0.71,                     !- Length\n",
       "    1.52;                     !- Height\n",
       ", \n",
       "WINDOW,\n",
       "    Block 00 Storey 0 Wall 0002 Window,    !- Name\n",
       "    ,                         !- Construction Name\n",
       "    Block 00 Storey 0 Wall 0002,    !- Building Surface Name\n",
       "    ,                         !- Frame and Divider Name\n",
       "    1.0,                      !- Multiplier\n",
       "    0.495,                    !- Starting X Coordinate\n",
       "    0.0305,                   !- Starting Z Coordinate\n",
       "    0.71,                     !- Length\n",
       "    1.52;                     !- Height\n",
       ", \n",
       "WINDOW,\n",
       "    Block 01 Storey 0 Wall 0004 Window,    !- Name\n",
       "    ,                         !- Construction Name\n",
       "    Block 01 Storey 0 Wall 0004,    !- Building Surface Name\n",
       "    ,                         !- Frame and Divider Name\n",
       "    1.0,                      !- Multiplier\n",
       "    0.495,                    !- Starting X Coordinate\n",
       "    0.0305,                   !- Starting Z Coordinate\n",
       "    0.71,                     !- Length\n",
       "    1.52;                     !- Height\n",
       ", \n",
       "WINDOW,\n",
       "    Block 03 Storey 0 Wall 0004 Window,    !- Name\n",
       "    ,                         !- Construction Name\n",
       "    Block 03 Storey 0 Wall 0004,    !- Building Surface Name\n",
       "    ,                         !- Frame and Divider Name\n",
       "    1.0,                      !- Multiplier\n",
       "    2.8000000000000003,       !- Starting X Coordinate\n",
       "    0.0305,                   !- Starting Z Coordinate\n",
       "    0.71,                     !- Length\n",
       "    1.52;                     !- Height\n",
       "]"
      ]
     },
     "execution_count": 12,
     "metadata": {},
     "output_type": "execute_result"
    }
   ],
   "source": [
    "idf.idfobjects[\"WINDOW\"]"
   ]
  },
  {
   "cell_type": "code",
   "execution_count": 9,
   "metadata": {},
   "outputs": [],
   "source": [
    "# path_to_inputs = get_case_inputs_path(inputs_dir)\n",
    "# case = initialize_case(outputs_dir)\n",
    "# case.idf = add_rooms(case.idf, path_to_inputs)\n",
    "# pairs = get_subsurface_pairs_from_case(case_path)"
   ]
  },
  {
   "cell_type": "code",
   "execution_count": 8,
   "metadata": {},
   "outputs": [
    {
     "data": {
      "text/plain": [
       "<geomeppy.idf.IDF at 0x10e6da320>"
      ]
     },
     "execution_count": 8,
     "metadata": {},
     "output_type": "execute_result"
    }
   ],
   "source": [
    "case.idf"
   ]
  },
  {
   "cell_type": "code",
   "execution_count": 16,
   "metadata": {},
   "outputs": [],
   "source": [
    "from new_subsurfaces.creator import SubsurfaceCreator\n",
    "\n",
    "\n",
    "sc = SubsurfaceCreator(case.idf, pairs[0])\n"
   ]
  },
  {
   "cell_type": "code",
   "execution_count": 19,
   "metadata": {},
   "outputs": [],
   "source": [
    "sc.get_surface()\n",
    "sc.get_start_location()\n",
    "sc.gather_details()\n",
    "sc.initialize_object()\n",
    "sc.update_attributes()"
   ]
  },
  {
   "cell_type": "code",
   "execution_count": 20,
   "metadata": {},
   "outputs": [
    {
     "data": {
      "text/plain": [
       "\n",
       "DOOR:INTERZONE,\n",
       "    Block 01 Storey 0 Wall 0001_1 Door,    !- Name\n",
       "    ,                         !- Construction Name\n",
       "    Block 01 Storey 0 Wall 0001_1,    !- Building Surface Name\n",
       "    ,                         !- Outside Boundary Condition Object\n",
       "    1.0,                      !- Multiplier\n",
       "    0.4849999998975545,       !- Starting X Coordinate\n",
       "    3.050000e-02,             !- Starting Z Coordinate\n",
       "    0.81,                     !- Length\n",
       "    2.03;                     !- Height"
      ]
     },
     "execution_count": 20,
     "metadata": {},
     "output_type": "execute_result"
    }
   ],
   "source": [
    "sc.obj0"
   ]
  },
  {
   "cell_type": "code",
   "execution_count": 25,
   "metadata": {},
   "outputs": [
    {
     "data": {
      "text/plain": [
       "''"
      ]
     },
     "execution_count": 25,
     "metadata": {},
     "output_type": "execute_result"
    }
   ],
   "source": [
    "sc.obj0.Building_Surface_Name"
   ]
  },
  {
   "cell_type": "code",
   "execution_count": 10,
   "metadata": {},
   "outputs": [
    {
     "data": {
      "text/plain": [
       "\n",
       "BUILDINGSURFACE:DETAILED,\n",
       "    Block 01 Storey 0 Wall 0003,    !- Name\n",
       "    wall,                     !- Surface Type\n",
       "    Project Wall,             !- Construction Name\n",
       "    Block 01 Storey 0,        !- Zone Name\n",
       "    ,                         !- Space Name\n",
       "    outdoors,                 !- Outside Boundary Condition\n",
       "    ,                         !- Outside Boundary Condition Object\n",
       "    SunExposed,               !- Sun Exposure\n",
       "    WindExposed,              !- Wind Exposure\n",
       "    autocalculate,            !- View Factor to Ground\n",
       "    autocalculate,            !- Number of Vertices\n",
       "    0,                        !- Vertex 1 Xcoordinate\n",
       "    1.78,                     !- Vertex 1 Ycoordinate\n",
       "    3.05,                     !- Vertex 1 Zcoordinate\n",
       "    0,                        !- Vertex 2 Xcoordinate\n",
       "    1.78,                     !- Vertex 2 Ycoordinate\n",
       "    0,                        !- Vertex 2 Zcoordinate\n",
       "    0,                        !- Vertex 3 Xcoordinate\n",
       "    0,                        !- Vertex 3 Ycoordinate\n",
       "    0,                        !- Vertex 3 Zcoordinate\n",
       "    0,                        !- Vertex 4 Xcoordinate\n",
       "    0,                        !- Vertex 4 Ycoordinate\n",
       "    3.05;                     !- Vertex 4 Zcoordinate"
      ]
     },
     "execution_count": 10,
     "metadata": {},
     "output_type": "execute_result"
    }
   ],
   "source": [
    "get_zone_walls(case.idf, 1)[0]"
   ]
  },
  {
   "cell_type": "code",
   "execution_count": 5,
   "metadata": {},
   "outputs": [
    {
     "name": "stdout",
     "output_type": "stream",
     "text": [
      "0.00\n"
     ]
    }
   ],
   "source": [
    "print(f\"{0.00045678:.2f}\")"
   ]
  },
  {
   "cell_type": "code",
   "execution_count": 6,
   "metadata": {},
   "outputs": [
    {
     "name": "stdout",
     "output_type": "stream",
     "text": [
      "width: 0.57 NOT GREATER THAN 0.81\n",
      "Editing (2, 6) \n",
      "\n",
      "width: 0.66 NOT GREATER THAN 0.81\n",
      "Editing (2, 7) \n",
      "\n",
      "width: 0.71 NOT GREATER THAN 0.81\n",
      "Editing (6, 4) \n",
      "\n",
      "width: 0.71 NOT GREATER THAN 0.81\n",
      "Editing (3, 6) \n",
      "\n"
     ]
    }
   ],
   "source": [
    "for p in pairs:\n",
    "    surf, pair = get_approp_surface_and_attrs(idf, p)"
   ]
  },
  {
   "cell_type": "code",
   "execution_count": 15,
   "metadata": {},
   "outputs": [
    {
     "data": {
      "text/plain": [
       "[('Block 00 Storey 0 Wall 0002', <WallNormal.NORTH: 0.0>),\n",
       " ('Block 00 Storey 0 Wall 0003', <WallNormal.WEST: 270.0>),\n",
       " ('Block 00 Storey 0 Wall 0001_1', <WallNormal.EAST: 90.0>),\n",
       " ('Block 00 Storey 0 Wall 0001_2', <WallNormal.EAST: 90.0>),\n",
       " ('Block 00 Storey 0 Wall 0004_1', <WallNormal.SOUTH: 180.0>)]"
      ]
     },
     "execution_count": 15,
     "metadata": {},
     "output_type": "execute_result"
    }
   ],
   "source": [
    "surfs = [i for i in  get_zone_walls(idf,0)]\n",
    "[(i.Name, WallNormal(i.azimuth)) for i in  get_zone_walls(idf,0)]"
   ]
  },
  {
   "cell_type": "code",
   "execution_count": null,
   "metadata": {},
   "outputs": [],
   "source": []
  },
  {
   "cell_type": "code",
   "execution_count": 17,
   "metadata": {},
   "outputs": [],
   "source": [
    "north_wall = surfs[0]\n",
    "west_wall = surfs[1]"
   ]
  },
  {
   "cell_type": "code",
   "execution_count": 20,
   "metadata": {},
   "outputs": [
    {
     "data": {
      "text/plain": [
       "\n",
       "BUILDINGSURFACE:DETAILED,\n",
       "    Block 00 Storey 0 Wall 0001_1,    !- Name\n",
       "    wall,                     !- Surface Type\n",
       "    Project Partition,        !- Construction Name\n",
       "    Block 00 Storey 0,        !- Zone Name\n",
       "    ,                         !- Space Name\n",
       "    surface,                  !- Outside Boundary Condition\n",
       "    Block 02 Storey 0 Wall 0003_1,    !- Outside Boundary Condition Object\n",
       "    NoSun,                    !- Sun Exposure\n",
       "    NoWind,                   !- Wind Exposure\n",
       "    autocalculate,            !- View Factor to Ground\n",
       "    autocalculate,            !- Number of Vertices\n",
       "    1.7,                      !- Vertex 1 Xcoordinate\n",
       "    1.779999999795109,        !- Vertex 1 Ycoordinate\n",
       "    3.0499999998137355,       !- Vertex 1 Zcoordinate\n",
       "    1.7,                      !- Vertex 2 Xcoordinate\n",
       "    1.779999999795109,        !- Vertex 2 Ycoordinate\n",
       "    0,                        !- Vertex 2 Zcoordinate\n",
       "    1.7,                      !- Vertex 3 Xcoordinate\n",
       "    1.7999999998137355,       !- Vertex 3 Ycoordinate\n",
       "    0,                        !- Vertex 3 Zcoordinate\n",
       "    1.7,                      !- Vertex 4 Xcoordinate\n",
       "    1.7999999998137355,       !- Vertex 4 Ycoordinate\n",
       "    3.0499999998137355;       !- Vertex 4 Zcoordinate"
      ]
     },
     "execution_count": 20,
     "metadata": {},
     "output_type": "execute_result"
    }
   ],
   "source": [
    "surfs[2]"
   ]
  },
  {
   "cell_type": "code",
   "execution_count": 14,
   "metadata": {},
   "outputs": [
    {
     "data": {
      "text/plain": [
       "Domain(width=Range(min=1.78, max=3.15), height=Range(min=0.0, max=3.05))"
      ]
     },
     "execution_count": 14,
     "metadata": {},
     "output_type": "execute_result"
    }
   ],
   "source": [
    "from new_subsurfaces.ep_helpers import create_domain_for_rectangular_wall\n",
    "\n",
    "\n",
    "d = create_domain_for_rectangular_wall(west_wall)\n",
    "d"
   ]
  },
  {
   "cell_type": "code",
   "execution_count": null,
   "metadata": {},
   "outputs": [],
   "source": []
  },
  {
   "cell_type": "code",
   "execution_count": null,
   "metadata": {},
   "outputs": [],
   "source": []
  },
  {
   "cell_type": "code",
   "execution_count": 18,
   "metadata": {},
   "outputs": [
    {
     "data": {
      "text/plain": [
       "1.7937"
      ]
     },
     "execution_count": 18,
     "metadata": {},
     "output_type": "execute_result"
    }
   ],
   "source": [
    "d.width.buffered_min(0.01)"
   ]
  },
  {
   "cell_type": "code",
   "execution_count": 22,
   "metadata": {},
   "outputs": [],
   "source": [
    "BUFFER = 0.01\n"
   ]
  },
  {
   "cell_type": "code",
   "execution_count": 9,
   "metadata": {},
   "outputs": [
    {
     "data": {
      "text/plain": [
       "[Coordinates(x=1.7, y=3.15, z=3.05),\n",
       " Coordinates(x=1.7, y=3.15, z=0.0),\n",
       " Coordinates(x=0.0, y=3.15, z=0.0),\n",
       " Coordinates(x=0.0, y=3.15, z=3.05)]"
      ]
     },
     "execution_count": 9,
     "metadata": {},
     "output_type": "execute_result"
    }
   ],
   "source": [
    "cs = [Coordinate3D(*i) for i in north_wall.coords]\n",
    "cs"
   ]
  },
  {
   "cell_type": "code",
   "execution_count": null,
   "metadata": {},
   "outputs": [],
   "source": []
  },
  {
   "cell_type": "code",
   "execution_count": 14,
   "metadata": {},
   "outputs": [
    {
     "data": {
      "text/plain": [
       "[0.0, 1.7]"
      ]
     },
     "execution_count": 14,
     "metadata": {},
     "output_type": "execute_result"
    }
   ],
   "source": [
    "xs = sorted(set([i.x for i in cs]))\n",
    "xs"
   ]
  },
  {
   "cell_type": "code",
   "execution_count": 17,
   "metadata": {},
   "outputs": [
    {
     "data": {
      "text/plain": [
       "[3.15]"
      ]
     },
     "execution_count": 17,
     "metadata": {},
     "output_type": "execute_result"
    }
   ],
   "source": [
    "ys = sorted(set([i.y for i in cs]))\n",
    "ys"
   ]
  },
  {
   "cell_type": "code",
   "execution_count": 18,
   "metadata": {},
   "outputs": [
    {
     "data": {
      "text/plain": [
       "Range(min=0.0, max=1.7)"
      ]
     },
     "execution_count": 18,
     "metadata": {},
     "output_type": "execute_result"
    }
   ],
   "source": [
    "width = Range(*ys) if len(ys) > 1 else Range(*xs)\n",
    "width"
   ]
  },
  {
   "cell_type": "code",
   "execution_count": 15,
   "metadata": {},
   "outputs": [
    {
     "data": {
      "text/plain": [
       "0.0"
      ]
     },
     "execution_count": 15,
     "metadata": {},
     "output_type": "execute_result"
    }
   ],
   "source": []
  }
 ],
 "metadata": {
  "kernelspec": {
   "display_name": "gqenv",
   "language": "python",
   "name": "python3"
  },
  "language_info": {
   "codemirror_mode": {
    "name": "ipython",
    "version": 3
   },
   "file_extension": ".py",
   "mimetype": "text/x-python",
   "name": "python",
   "nbconvert_exporter": "python",
   "pygments_lexer": "ipython3",
   "version": "3.10.14"
  }
 },
 "nbformat": 4,
 "nbformat_minor": 2
}
