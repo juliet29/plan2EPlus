{
 "cells": [
  {
   "cell_type": "code",
   "execution_count": 7,
   "metadata": {},
   "outputs": [],
   "source": [
    "import sys\n",
    "sys.path.append(\"/Users/julietnwagwuume-ezeoke/_UILCode/gqe-phd/geomeppy/_scripts\")\n",
    "\n",
    "from copy import deepcopy\n",
    "from pprint import pprint\n",
    "\n",
    "import numpy as np\n",
    "import plotly.express as px\n",
    "\n",
    "from aenum import Enum\n",
    "from munch import Munch\n",
    "from ladybug.dt import Time\n",
    "\n",
    "from case_edits.ezcase import EzCase\n",
    "from workflow.exp_01 import input, ns_axis\n",
    "from outputs.variables import OutputVars as ov\n",
    "from analysis.bar_plot import BarPlotAnalysis\n",
    "\n",
    "# from helpers.dynamic_outputs import DynamicOutputVariables"
   ]
  },
  {
   "cell_type": "code",
   "execution_count": 2,
   "metadata": {},
   "outputs": [],
   "source": [
    "qois = [ov.inside_face_convection_heat_gain, ov.inside_face_net_surface_thermal_radiation_heat_gain, ov.inside_face_solar_radiation_heat_gain, ov.inside_face_internal_gains_radiation]"
   ]
  },
  {
   "cell_type": "code",
   "execution_count": 3,
   "metadata": {},
   "outputs": [
    {
     "name": "stdout",
     "output_type": "stream",
     "text": [
      "tests/test18_ns\n",
      "Added 4 walls \n",
      "Added 6 walls \n",
      "Added 4 walls \n",
      "Added 4 walls \n",
      "Added 6 walls \n",
      "Added 4 walls \n",
      "out.idf exists\n",
      "IDF has changed: False\n",
      "looking for sql\n"
     ]
    }
   ],
   "source": [
    "input.output_variables.extend(qois)\n",
    "\n",
    "input2 = deepcopy(input)\n",
    "input2.case_name = \"tests/test18_ns\"\n",
    "ez2 = EzCase(ns_axis(input2), RUN_CASE=False)"
   ]
  },
  {
   "cell_type": "code",
   "execution_count": 4,
   "metadata": {},
   "outputs": [
    {
     "name": "stderr",
     "output_type": "stream",
     "text": [
      "/Users/julietnwagwuume-ezeoke/_UILCode/gqe-phd/geomeppy/_scripts/outputs/sql.py:39: UserWarning:\n",
      "\n",
      "Surface Inside Face Internal Gains Radiation Rate per Area not in available_outputs\n",
      "\n"
     ]
    }
   ],
   "source": [
    "bp = BarPlotAnalysis(ez2, qois)\n",
    "bp.run()"
   ]
  },
  {
   "cell_type": "code",
   "execution_count": 6,
   "metadata": {},
   "outputs": [
    {
     "data": {
      "text/html": [
       "<div>\n",
       "<style scoped>\n",
       "    .dataframe tbody tr th:only-of-type {\n",
       "        vertical-align: middle;\n",
       "    }\n",
       "\n",
       "    .dataframe tbody tr th {\n",
       "        vertical-align: top;\n",
       "    }\n",
       "\n",
       "    .dataframe thead th {\n",
       "        text-align: right;\n",
       "    }\n",
       "</style>\n",
       "<table border=\"1\" class=\"dataframe\">\n",
       "  <thead>\n",
       "    <tr style=\"text-align: right;\">\n",
       "      <th></th>\n",
       "      <th>room</th>\n",
       "      <th>qoi</th>\n",
       "      <th>value</th>\n",
       "    </tr>\n",
       "  </thead>\n",
       "  <tbody>\n",
       "    <tr>\n",
       "      <th>0</th>\n",
       "      <td>B_01</td>\n",
       "      <td>inside_face_convection_heat_gain</td>\n",
       "      <td>35.448166</td>\n",
       "    </tr>\n",
       "    <tr>\n",
       "      <th>1</th>\n",
       "      <td>B_02</td>\n",
       "      <td>inside_face_convection_heat_gain</td>\n",
       "      <td>-5.555429</td>\n",
       "    </tr>\n",
       "    <tr>\n",
       "      <th>2</th>\n",
       "      <td>B_03</td>\n",
       "      <td>inside_face_convection_heat_gain</td>\n",
       "      <td>-1.794731</td>\n",
       "    </tr>\n",
       "    <tr>\n",
       "      <th>3</th>\n",
       "      <td>B_04</td>\n",
       "      <td>inside_face_convection_heat_gain</td>\n",
       "      <td>35.097289</td>\n",
       "    </tr>\n",
       "    <tr>\n",
       "      <th>4</th>\n",
       "      <td>B_05</td>\n",
       "      <td>inside_face_convection_heat_gain</td>\n",
       "      <td>42.992473</td>\n",
       "    </tr>\n",
       "    <tr>\n",
       "      <th>5</th>\n",
       "      <td>B_06</td>\n",
       "      <td>inside_face_convection_heat_gain</td>\n",
       "      <td>-1.557263</td>\n",
       "    </tr>\n",
       "    <tr>\n",
       "      <th>6</th>\n",
       "      <td>B_01</td>\n",
       "      <td>inside_face_net_surface_thermal_radiation_heat...</td>\n",
       "      <td>1.923116</td>\n",
       "    </tr>\n",
       "    <tr>\n",
       "      <th>7</th>\n",
       "      <td>B_02</td>\n",
       "      <td>inside_face_net_surface_thermal_radiation_heat...</td>\n",
       "      <td>2.964968</td>\n",
       "    </tr>\n",
       "    <tr>\n",
       "      <th>8</th>\n",
       "      <td>B_03</td>\n",
       "      <td>inside_face_net_surface_thermal_radiation_heat...</td>\n",
       "      <td>3.747790</td>\n",
       "    </tr>\n",
       "    <tr>\n",
       "      <th>9</th>\n",
       "      <td>B_04</td>\n",
       "      <td>inside_face_net_surface_thermal_radiation_heat...</td>\n",
       "      <td>6.214637</td>\n",
       "    </tr>\n",
       "    <tr>\n",
       "      <th>10</th>\n",
       "      <td>B_05</td>\n",
       "      <td>inside_face_net_surface_thermal_radiation_heat...</td>\n",
       "      <td>7.461703</td>\n",
       "    </tr>\n",
       "    <tr>\n",
       "      <th>11</th>\n",
       "      <td>B_06</td>\n",
       "      <td>inside_face_net_surface_thermal_radiation_heat...</td>\n",
       "      <td>4.731517</td>\n",
       "    </tr>\n",
       "    <tr>\n",
       "      <th>12</th>\n",
       "      <td>B_01</td>\n",
       "      <td>inside_face_solar_radiation_heat_gain</td>\n",
       "      <td>0.000000</td>\n",
       "    </tr>\n",
       "    <tr>\n",
       "      <th>13</th>\n",
       "      <td>B_02</td>\n",
       "      <td>inside_face_solar_radiation_heat_gain</td>\n",
       "      <td>0.000000</td>\n",
       "    </tr>\n",
       "    <tr>\n",
       "      <th>14</th>\n",
       "      <td>B_03</td>\n",
       "      <td>inside_face_solar_radiation_heat_gain</td>\n",
       "      <td>0.000000</td>\n",
       "    </tr>\n",
       "    <tr>\n",
       "      <th>15</th>\n",
       "      <td>B_04</td>\n",
       "      <td>inside_face_solar_radiation_heat_gain</td>\n",
       "      <td>0.000000</td>\n",
       "    </tr>\n",
       "    <tr>\n",
       "      <th>16</th>\n",
       "      <td>B_05</td>\n",
       "      <td>inside_face_solar_radiation_heat_gain</td>\n",
       "      <td>0.000000</td>\n",
       "    </tr>\n",
       "    <tr>\n",
       "      <th>17</th>\n",
       "      <td>B_06</td>\n",
       "      <td>inside_face_solar_radiation_heat_gain</td>\n",
       "      <td>0.000000</td>\n",
       "    </tr>\n",
       "    <tr>\n",
       "      <th>18</th>\n",
       "      <td>B_01</td>\n",
       "      <td>inside_face_internal_gains_radiation</td>\n",
       "      <td>0.000000</td>\n",
       "    </tr>\n",
       "    <tr>\n",
       "      <th>19</th>\n",
       "      <td>B_02</td>\n",
       "      <td>inside_face_internal_gains_radiation</td>\n",
       "      <td>0.000000</td>\n",
       "    </tr>\n",
       "    <tr>\n",
       "      <th>20</th>\n",
       "      <td>B_03</td>\n",
       "      <td>inside_face_internal_gains_radiation</td>\n",
       "      <td>0.000000</td>\n",
       "    </tr>\n",
       "    <tr>\n",
       "      <th>21</th>\n",
       "      <td>B_04</td>\n",
       "      <td>inside_face_internal_gains_radiation</td>\n",
       "      <td>0.000000</td>\n",
       "    </tr>\n",
       "    <tr>\n",
       "      <th>22</th>\n",
       "      <td>B_05</td>\n",
       "      <td>inside_face_internal_gains_radiation</td>\n",
       "      <td>0.000000</td>\n",
       "    </tr>\n",
       "    <tr>\n",
       "      <th>23</th>\n",
       "      <td>B_06</td>\n",
       "      <td>inside_face_internal_gains_radiation</td>\n",
       "      <td>0.000000</td>\n",
       "    </tr>\n",
       "  </tbody>\n",
       "</table>\n",
       "</div>"
      ],
      "text/plain": [
       "    room                                                qoi      value\n",
       "0   B_01                   inside_face_convection_heat_gain  35.448166\n",
       "1   B_02                   inside_face_convection_heat_gain  -5.555429\n",
       "2   B_03                   inside_face_convection_heat_gain  -1.794731\n",
       "3   B_04                   inside_face_convection_heat_gain  35.097289\n",
       "4   B_05                   inside_face_convection_heat_gain  42.992473\n",
       "5   B_06                   inside_face_convection_heat_gain  -1.557263\n",
       "6   B_01  inside_face_net_surface_thermal_radiation_heat...   1.923116\n",
       "7   B_02  inside_face_net_surface_thermal_radiation_heat...   2.964968\n",
       "8   B_03  inside_face_net_surface_thermal_radiation_heat...   3.747790\n",
       "9   B_04  inside_face_net_surface_thermal_radiation_heat...   6.214637\n",
       "10  B_05  inside_face_net_surface_thermal_radiation_heat...   7.461703\n",
       "11  B_06  inside_face_net_surface_thermal_radiation_heat...   4.731517\n",
       "12  B_01              inside_face_solar_radiation_heat_gain   0.000000\n",
       "13  B_02              inside_face_solar_radiation_heat_gain   0.000000\n",
       "14  B_03              inside_face_solar_radiation_heat_gain   0.000000\n",
       "15  B_04              inside_face_solar_radiation_heat_gain   0.000000\n",
       "16  B_05              inside_face_solar_radiation_heat_gain   0.000000\n",
       "17  B_06              inside_face_solar_radiation_heat_gain   0.000000\n",
       "18  B_01               inside_face_internal_gains_radiation   0.000000\n",
       "19  B_02               inside_face_internal_gains_radiation   0.000000\n",
       "20  B_03               inside_face_internal_gains_radiation   0.000000\n",
       "21  B_04               inside_face_internal_gains_radiation   0.000000\n",
       "22  B_05               inside_face_internal_gains_radiation   0.000000\n",
       "23  B_06               inside_face_internal_gains_radiation   0.000000"
      ]
     },
     "execution_count": 6,
     "metadata": {},
     "output_type": "execute_result"
    }
   ],
   "source": [
    "bp.df"
   ]
  },
  {
   "cell_type": "code",
   "execution_count": 10,
   "metadata": {},
   "outputs": [
    {
     "data": {
      "application/vnd.plotly.v1+json": {
       "config": {
        "plotlyServerURL": "https://plotly.com"
       },
       "data": [
        {
         "alignmentgroup": "True",
         "hovertemplate": "qoi=inside_face_convection_heat_gain<br>room=%{x}<br>value=%{y}<extra></extra>",
         "legendgroup": "inside_face_convection_heat_gain",
         "marker": {
          "color": "#636efa",
          "pattern": {
           "shape": ""
          }
         },
         "name": "inside_face_convection_heat_gain",
         "offsetgroup": "inside_face_convection_heat_gain",
         "orientation": "v",
         "showlegend": true,
         "textposition": "auto",
         "type": "bar",
         "x": [
          "B_01",
          "B_02",
          "B_03",
          "B_04",
          "B_05",
          "B_06"
         ],
         "xaxis": "x",
         "y": [
          35.448165803371836,
          -5.555429273412513,
          -1.7947307122466774,
          35.09728906347717,
          42.99247264470536,
          -1.5572628802638935
         ],
         "yaxis": "y"
        },
        {
         "alignmentgroup": "True",
         "hovertemplate": "qoi=inside_face_net_surface_thermal_radiation_heat_gain<br>room=%{x}<br>value=%{y}<extra></extra>",
         "legendgroup": "inside_face_net_surface_thermal_radiation_heat_gain",
         "marker": {
          "color": "#EF553B",
          "pattern": {
           "shape": ""
          }
         },
         "name": "inside_face_net_surface_thermal_radiation_heat_gain",
         "offsetgroup": "inside_face_net_surface_thermal_radiation_heat_gain",
         "orientation": "v",
         "showlegend": true,
         "textposition": "auto",
         "type": "bar",
         "x": [
          "B_01",
          "B_02",
          "B_03",
          "B_04",
          "B_05",
          "B_06"
         ],
         "xaxis": "x",
         "y": [
          1.9231164104430964,
          2.9649676567929353,
          3.7477904180333548,
          6.214637421477365,
          7.4617031212575045,
          4.7315167887648775
         ],
         "yaxis": "y"
        },
        {
         "alignmentgroup": "True",
         "hovertemplate": "qoi=inside_face_solar_radiation_heat_gain<br>room=%{x}<br>value=%{y}<extra></extra>",
         "legendgroup": "inside_face_solar_radiation_heat_gain",
         "marker": {
          "color": "#00cc96",
          "pattern": {
           "shape": ""
          }
         },
         "name": "inside_face_solar_radiation_heat_gain",
         "offsetgroup": "inside_face_solar_radiation_heat_gain",
         "orientation": "v",
         "showlegend": true,
         "textposition": "auto",
         "type": "bar",
         "x": [
          "B_01",
          "B_02",
          "B_03",
          "B_04",
          "B_05",
          "B_06"
         ],
         "xaxis": "x",
         "y": [
          0,
          0,
          0,
          0,
          0,
          0
         ],
         "yaxis": "y"
        },
        {
         "alignmentgroup": "True",
         "hovertemplate": "qoi=inside_face_internal_gains_radiation<br>room=%{x}<br>value=%{y}<extra></extra>",
         "legendgroup": "inside_face_internal_gains_radiation",
         "marker": {
          "color": "#ab63fa",
          "pattern": {
           "shape": ""
          }
         },
         "name": "inside_face_internal_gains_radiation",
         "offsetgroup": "inside_face_internal_gains_radiation",
         "orientation": "v",
         "showlegend": true,
         "textposition": "auto",
         "type": "bar",
         "x": [
          "B_01",
          "B_02",
          "B_03",
          "B_04",
          "B_05",
          "B_06"
         ],
         "xaxis": "x",
         "y": [
          0,
          0,
          0,
          0,
          0,
          0
         ],
         "yaxis": "y"
        }
       ],
       "layout": {
        "barmode": "relative",
        "legend": {
         "title": {
          "text": "qoi"
         },
         "tracegroupgap": 0
        },
        "template": {
         "data": {
          "bar": [
           {
            "error_x": {
             "color": "#2a3f5f"
            },
            "error_y": {
             "color": "#2a3f5f"
            },
            "marker": {
             "line": {
              "color": "#E5ECF6",
              "width": 0.5
             },
             "pattern": {
              "fillmode": "overlay",
              "size": 10,
              "solidity": 0.2
             }
            },
            "type": "bar"
           }
          ],
          "barpolar": [
           {
            "marker": {
             "line": {
              "color": "#E5ECF6",
              "width": 0.5
             },
             "pattern": {
              "fillmode": "overlay",
              "size": 10,
              "solidity": 0.2
             }
            },
            "type": "barpolar"
           }
          ],
          "carpet": [
           {
            "aaxis": {
             "endlinecolor": "#2a3f5f",
             "gridcolor": "white",
             "linecolor": "white",
             "minorgridcolor": "white",
             "startlinecolor": "#2a3f5f"
            },
            "baxis": {
             "endlinecolor": "#2a3f5f",
             "gridcolor": "white",
             "linecolor": "white",
             "minorgridcolor": "white",
             "startlinecolor": "#2a3f5f"
            },
            "type": "carpet"
           }
          ],
          "choropleth": [
           {
            "colorbar": {
             "outlinewidth": 0,
             "ticks": ""
            },
            "type": "choropleth"
           }
          ],
          "contour": [
           {
            "colorbar": {
             "outlinewidth": 0,
             "ticks": ""
            },
            "colorscale": [
             [
              0,
              "#0d0887"
             ],
             [
              0.1111111111111111,
              "#46039f"
             ],
             [
              0.2222222222222222,
              "#7201a8"
             ],
             [
              0.3333333333333333,
              "#9c179e"
             ],
             [
              0.4444444444444444,
              "#bd3786"
             ],
             [
              0.5555555555555556,
              "#d8576b"
             ],
             [
              0.6666666666666666,
              "#ed7953"
             ],
             [
              0.7777777777777778,
              "#fb9f3a"
             ],
             [
              0.8888888888888888,
              "#fdca26"
             ],
             [
              1,
              "#f0f921"
             ]
            ],
            "type": "contour"
           }
          ],
          "contourcarpet": [
           {
            "colorbar": {
             "outlinewidth": 0,
             "ticks": ""
            },
            "type": "contourcarpet"
           }
          ],
          "heatmap": [
           {
            "colorbar": {
             "outlinewidth": 0,
             "ticks": ""
            },
            "colorscale": [
             [
              0,
              "#0d0887"
             ],
             [
              0.1111111111111111,
              "#46039f"
             ],
             [
              0.2222222222222222,
              "#7201a8"
             ],
             [
              0.3333333333333333,
              "#9c179e"
             ],
             [
              0.4444444444444444,
              "#bd3786"
             ],
             [
              0.5555555555555556,
              "#d8576b"
             ],
             [
              0.6666666666666666,
              "#ed7953"
             ],
             [
              0.7777777777777778,
              "#fb9f3a"
             ],
             [
              0.8888888888888888,
              "#fdca26"
             ],
             [
              1,
              "#f0f921"
             ]
            ],
            "type": "heatmap"
           }
          ],
          "heatmapgl": [
           {
            "colorbar": {
             "outlinewidth": 0,
             "ticks": ""
            },
            "colorscale": [
             [
              0,
              "#0d0887"
             ],
             [
              0.1111111111111111,
              "#46039f"
             ],
             [
              0.2222222222222222,
              "#7201a8"
             ],
             [
              0.3333333333333333,
              "#9c179e"
             ],
             [
              0.4444444444444444,
              "#bd3786"
             ],
             [
              0.5555555555555556,
              "#d8576b"
             ],
             [
              0.6666666666666666,
              "#ed7953"
             ],
             [
              0.7777777777777778,
              "#fb9f3a"
             ],
             [
              0.8888888888888888,
              "#fdca26"
             ],
             [
              1,
              "#f0f921"
             ]
            ],
            "type": "heatmapgl"
           }
          ],
          "histogram": [
           {
            "marker": {
             "pattern": {
              "fillmode": "overlay",
              "size": 10,
              "solidity": 0.2
             }
            },
            "type": "histogram"
           }
          ],
          "histogram2d": [
           {
            "colorbar": {
             "outlinewidth": 0,
             "ticks": ""
            },
            "colorscale": [
             [
              0,
              "#0d0887"
             ],
             [
              0.1111111111111111,
              "#46039f"
             ],
             [
              0.2222222222222222,
              "#7201a8"
             ],
             [
              0.3333333333333333,
              "#9c179e"
             ],
             [
              0.4444444444444444,
              "#bd3786"
             ],
             [
              0.5555555555555556,
              "#d8576b"
             ],
             [
              0.6666666666666666,
              "#ed7953"
             ],
             [
              0.7777777777777778,
              "#fb9f3a"
             ],
             [
              0.8888888888888888,
              "#fdca26"
             ],
             [
              1,
              "#f0f921"
             ]
            ],
            "type": "histogram2d"
           }
          ],
          "histogram2dcontour": [
           {
            "colorbar": {
             "outlinewidth": 0,
             "ticks": ""
            },
            "colorscale": [
             [
              0,
              "#0d0887"
             ],
             [
              0.1111111111111111,
              "#46039f"
             ],
             [
              0.2222222222222222,
              "#7201a8"
             ],
             [
              0.3333333333333333,
              "#9c179e"
             ],
             [
              0.4444444444444444,
              "#bd3786"
             ],
             [
              0.5555555555555556,
              "#d8576b"
             ],
             [
              0.6666666666666666,
              "#ed7953"
             ],
             [
              0.7777777777777778,
              "#fb9f3a"
             ],
             [
              0.8888888888888888,
              "#fdca26"
             ],
             [
              1,
              "#f0f921"
             ]
            ],
            "type": "histogram2dcontour"
           }
          ],
          "mesh3d": [
           {
            "colorbar": {
             "outlinewidth": 0,
             "ticks": ""
            },
            "type": "mesh3d"
           }
          ],
          "parcoords": [
           {
            "line": {
             "colorbar": {
              "outlinewidth": 0,
              "ticks": ""
             }
            },
            "type": "parcoords"
           }
          ],
          "pie": [
           {
            "automargin": true,
            "type": "pie"
           }
          ],
          "scatter": [
           {
            "fillpattern": {
             "fillmode": "overlay",
             "size": 10,
             "solidity": 0.2
            },
            "type": "scatter"
           }
          ],
          "scatter3d": [
           {
            "line": {
             "colorbar": {
              "outlinewidth": 0,
              "ticks": ""
             }
            },
            "marker": {
             "colorbar": {
              "outlinewidth": 0,
              "ticks": ""
             }
            },
            "type": "scatter3d"
           }
          ],
          "scattercarpet": [
           {
            "marker": {
             "colorbar": {
              "outlinewidth": 0,
              "ticks": ""
             }
            },
            "type": "scattercarpet"
           }
          ],
          "scattergeo": [
           {
            "marker": {
             "colorbar": {
              "outlinewidth": 0,
              "ticks": ""
             }
            },
            "type": "scattergeo"
           }
          ],
          "scattergl": [
           {
            "marker": {
             "colorbar": {
              "outlinewidth": 0,
              "ticks": ""
             }
            },
            "type": "scattergl"
           }
          ],
          "scattermapbox": [
           {
            "marker": {
             "colorbar": {
              "outlinewidth": 0,
              "ticks": ""
             }
            },
            "type": "scattermapbox"
           }
          ],
          "scatterpolar": [
           {
            "marker": {
             "colorbar": {
              "outlinewidth": 0,
              "ticks": ""
             }
            },
            "type": "scatterpolar"
           }
          ],
          "scatterpolargl": [
           {
            "marker": {
             "colorbar": {
              "outlinewidth": 0,
              "ticks": ""
             }
            },
            "type": "scatterpolargl"
           }
          ],
          "scatterternary": [
           {
            "marker": {
             "colorbar": {
              "outlinewidth": 0,
              "ticks": ""
             }
            },
            "type": "scatterternary"
           }
          ],
          "surface": [
           {
            "colorbar": {
             "outlinewidth": 0,
             "ticks": ""
            },
            "colorscale": [
             [
              0,
              "#0d0887"
             ],
             [
              0.1111111111111111,
              "#46039f"
             ],
             [
              0.2222222222222222,
              "#7201a8"
             ],
             [
              0.3333333333333333,
              "#9c179e"
             ],
             [
              0.4444444444444444,
              "#bd3786"
             ],
             [
              0.5555555555555556,
              "#d8576b"
             ],
             [
              0.6666666666666666,
              "#ed7953"
             ],
             [
              0.7777777777777778,
              "#fb9f3a"
             ],
             [
              0.8888888888888888,
              "#fdca26"
             ],
             [
              1,
              "#f0f921"
             ]
            ],
            "type": "surface"
           }
          ],
          "table": [
           {
            "cells": {
             "fill": {
              "color": "#EBF0F8"
             },
             "line": {
              "color": "white"
             }
            },
            "header": {
             "fill": {
              "color": "#C8D4E3"
             },
             "line": {
              "color": "white"
             }
            },
            "type": "table"
           }
          ]
         },
         "layout": {
          "annotationdefaults": {
           "arrowcolor": "#2a3f5f",
           "arrowhead": 0,
           "arrowwidth": 1
          },
          "autotypenumbers": "strict",
          "coloraxis": {
           "colorbar": {
            "outlinewidth": 0,
            "ticks": ""
           }
          },
          "colorscale": {
           "diverging": [
            [
             0,
             "#8e0152"
            ],
            [
             0.1,
             "#c51b7d"
            ],
            [
             0.2,
             "#de77ae"
            ],
            [
             0.3,
             "#f1b6da"
            ],
            [
             0.4,
             "#fde0ef"
            ],
            [
             0.5,
             "#f7f7f7"
            ],
            [
             0.6,
             "#e6f5d0"
            ],
            [
             0.7,
             "#b8e186"
            ],
            [
             0.8,
             "#7fbc41"
            ],
            [
             0.9,
             "#4d9221"
            ],
            [
             1,
             "#276419"
            ]
           ],
           "sequential": [
            [
             0,
             "#0d0887"
            ],
            [
             0.1111111111111111,
             "#46039f"
            ],
            [
             0.2222222222222222,
             "#7201a8"
            ],
            [
             0.3333333333333333,
             "#9c179e"
            ],
            [
             0.4444444444444444,
             "#bd3786"
            ],
            [
             0.5555555555555556,
             "#d8576b"
            ],
            [
             0.6666666666666666,
             "#ed7953"
            ],
            [
             0.7777777777777778,
             "#fb9f3a"
            ],
            [
             0.8888888888888888,
             "#fdca26"
            ],
            [
             1,
             "#f0f921"
            ]
           ],
           "sequentialminus": [
            [
             0,
             "#0d0887"
            ],
            [
             0.1111111111111111,
             "#46039f"
            ],
            [
             0.2222222222222222,
             "#7201a8"
            ],
            [
             0.3333333333333333,
             "#9c179e"
            ],
            [
             0.4444444444444444,
             "#bd3786"
            ],
            [
             0.5555555555555556,
             "#d8576b"
            ],
            [
             0.6666666666666666,
             "#ed7953"
            ],
            [
             0.7777777777777778,
             "#fb9f3a"
            ],
            [
             0.8888888888888888,
             "#fdca26"
            ],
            [
             1,
             "#f0f921"
            ]
           ]
          },
          "colorway": [
           "#636efa",
           "#EF553B",
           "#00cc96",
           "#ab63fa",
           "#FFA15A",
           "#19d3f3",
           "#FF6692",
           "#B6E880",
           "#FF97FF",
           "#FECB52"
          ],
          "font": {
           "color": "#2a3f5f"
          },
          "geo": {
           "bgcolor": "white",
           "lakecolor": "white",
           "landcolor": "#E5ECF6",
           "showlakes": true,
           "showland": true,
           "subunitcolor": "white"
          },
          "hoverlabel": {
           "align": "left"
          },
          "hovermode": "closest",
          "mapbox": {
           "style": "light"
          },
          "paper_bgcolor": "white",
          "plot_bgcolor": "#E5ECF6",
          "polar": {
           "angularaxis": {
            "gridcolor": "white",
            "linecolor": "white",
            "ticks": ""
           },
           "bgcolor": "#E5ECF6",
           "radialaxis": {
            "gridcolor": "white",
            "linecolor": "white",
            "ticks": ""
           }
          },
          "scene": {
           "xaxis": {
            "backgroundcolor": "#E5ECF6",
            "gridcolor": "white",
            "gridwidth": 2,
            "linecolor": "white",
            "showbackground": true,
            "ticks": "",
            "zerolinecolor": "white"
           },
           "yaxis": {
            "backgroundcolor": "#E5ECF6",
            "gridcolor": "white",
            "gridwidth": 2,
            "linecolor": "white",
            "showbackground": true,
            "ticks": "",
            "zerolinecolor": "white"
           },
           "zaxis": {
            "backgroundcolor": "#E5ECF6",
            "gridcolor": "white",
            "gridwidth": 2,
            "linecolor": "white",
            "showbackground": true,
            "ticks": "",
            "zerolinecolor": "white"
           }
          },
          "shapedefaults": {
           "line": {
            "color": "#2a3f5f"
           }
          },
          "ternary": {
           "aaxis": {
            "gridcolor": "white",
            "linecolor": "white",
            "ticks": ""
           },
           "baxis": {
            "gridcolor": "white",
            "linecolor": "white",
            "ticks": ""
           },
           "bgcolor": "#E5ECF6",
           "caxis": {
            "gridcolor": "white",
            "linecolor": "white",
            "ticks": ""
           }
          },
          "title": {
           "x": 0.05
          },
          "xaxis": {
           "automargin": true,
           "gridcolor": "white",
           "linecolor": "white",
           "ticks": "",
           "title": {
            "standoff": 15
           },
           "zerolinecolor": "white",
           "zerolinewidth": 2
          },
          "yaxis": {
           "automargin": true,
           "gridcolor": "white",
           "linecolor": "white",
           "ticks": "",
           "title": {
            "standoff": 15
           },
           "zerolinecolor": "white",
           "zerolinewidth": 2
          }
         }
        },
        "title": {
         "text": "tests/test18_ns at (12, 0)"
        },
        "xaxis": {
         "anchor": "y",
         "domain": [
          0,
          1
         ],
         "title": {
          "text": "room"
         }
        },
        "yaxis": {
         "anchor": "x",
         "domain": [
          0,
          1
         ],
         "title": {
          "text": "value"
         }
        }
       }
      }
     },
     "metadata": {},
     "output_type": "display_data"
    }
   ],
   "source": [
    "fig = px.bar(bp.df, x=\"room\", y=\"value\", color=\"qoi\", title=f\"{ez2.case.case_name} at {bp.time}\")\n",
    "fig.show()"
   ]
  },
  {
   "cell_type": "code",
   "execution_count": 6,
   "metadata": {},
   "outputs": [
    {
     "data": {
      "text/plain": [
       "[15 Minute Continuous Data Collection\n",
       " 7/1 to 7/1 between 0 and 23 @4\n",
       " Energy Flux (W/m2)\n",
       " ...96 values...,\n",
       " 15 Minute Continuous Data Collection\n",
       " 7/1 to 7/1 between 0 and 23 @4\n",
       " Energy Flux (W/m2)\n",
       " ...96 values...,\n",
       " 15 Minute Continuous Data Collection\n",
       " 7/1 to 7/1 between 0 and 23 @4\n",
       " Energy Flux (W/m2)\n",
       " ...96 values...,\n",
       " 15 Minute Continuous Data Collection\n",
       " 7/1 to 7/1 between 0 and 23 @4\n",
       " Energy Flux (W/m2)\n",
       " ...96 values...,\n",
       " 15 Minute Continuous Data Collection\n",
       " 7/1 to 7/1 between 0 and 23 @4\n",
       " Energy Flux (W/m2)\n",
       " ...96 values...,\n",
       " 15 Minute Continuous Data Collection\n",
       " 7/1 to 7/1 between 0 and 23 @4\n",
       " Energy Flux (W/m2)\n",
       " ...96 values...,\n",
       " 15 Minute Continuous Data Collection\n",
       " 7/1 to 7/1 between 0 and 23 @4\n",
       " Energy Flux (W/m2)\n",
       " ...96 values...,\n",
       " 15 Minute Continuous Data Collection\n",
       " 7/1 to 7/1 between 0 and 23 @4\n",
       " Energy Flux (W/m2)\n",
       " ...96 values...,\n",
       " 15 Minute Continuous Data Collection\n",
       " 7/1 to 7/1 between 0 and 23 @4\n",
       " Energy Flux (W/m2)\n",
       " ...96 values...,\n",
       " 15 Minute Continuous Data Collection\n",
       " 7/1 to 7/1 between 0 and 23 @4\n",
       " Energy Flux (W/m2)\n",
       " ...96 values...,\n",
       " 15 Minute Continuous Data Collection\n",
       " 7/1 to 7/1 between 0 and 23 @4\n",
       " Energy Flux (W/m2)\n",
       " ...96 values...,\n",
       " 15 Minute Continuous Data Collection\n",
       " 7/1 to 7/1 between 0 and 23 @4\n",
       " Energy Flux (W/m2)\n",
       " ...96 values...,\n",
       " 15 Minute Continuous Data Collection\n",
       " 7/1 to 7/1 between 0 and 23 @4\n",
       " Energy Flux (W/m2)\n",
       " ...96 values...,\n",
       " 15 Minute Continuous Data Collection\n",
       " 7/1 to 7/1 between 0 and 23 @4\n",
       " Energy Flux (W/m2)\n",
       " ...96 values...,\n",
       " 15 Minute Continuous Data Collection\n",
       " 7/1 to 7/1 between 0 and 23 @4\n",
       " Energy Flux (W/m2)\n",
       " ...96 values...,\n",
       " 15 Minute Continuous Data Collection\n",
       " 7/1 to 7/1 between 0 and 23 @4\n",
       " Energy Flux (W/m2)\n",
       " ...96 values...,\n",
       " 15 Minute Continuous Data Collection\n",
       " 7/1 to 7/1 between 0 and 23 @4\n",
       " Energy Flux (W/m2)\n",
       " ...96 values...,\n",
       " 15 Minute Continuous Data Collection\n",
       " 7/1 to 7/1 between 0 and 23 @4\n",
       " Energy Flux (W/m2)\n",
       " ...96 values...,\n",
       " 15 Minute Continuous Data Collection\n",
       " 7/1 to 7/1 between 0 and 23 @4\n",
       " Energy Flux (W/m2)\n",
       " ...96 values...,\n",
       " 15 Minute Continuous Data Collection\n",
       " 7/1 to 7/1 between 0 and 23 @4\n",
       " Energy Flux (W/m2)\n",
       " ...96 values...,\n",
       " 15 Minute Continuous Data Collection\n",
       " 7/1 to 7/1 between 0 and 23 @4\n",
       " Energy Flux (W/m2)\n",
       " ...96 values...,\n",
       " 15 Minute Continuous Data Collection\n",
       " 7/1 to 7/1 between 0 and 23 @4\n",
       " Energy Flux (W/m2)\n",
       " ...96 values...,\n",
       " 15 Minute Continuous Data Collection\n",
       " 7/1 to 7/1 between 0 and 23 @4\n",
       " Energy Flux (W/m2)\n",
       " ...96 values...,\n",
       " 15 Minute Continuous Data Collection\n",
       " 7/1 to 7/1 between 0 and 23 @4\n",
       " Energy Flux (W/m2)\n",
       " ...96 values...,\n",
       " 15 Minute Continuous Data Collection\n",
       " 7/1 to 7/1 between 0 and 23 @4\n",
       " Energy Flux (W/m2)\n",
       " ...96 values...,\n",
       " 15 Minute Continuous Data Collection\n",
       " 7/1 to 7/1 between 0 and 23 @4\n",
       " Energy Flux (W/m2)\n",
       " ...96 values...,\n",
       " 15 Minute Continuous Data Collection\n",
       " 7/1 to 7/1 between 0 and 23 @4\n",
       " Energy Flux (W/m2)\n",
       " ...96 values...,\n",
       " 15 Minute Continuous Data Collection\n",
       " 7/1 to 7/1 between 0 and 23 @4\n",
       " Energy Flux (W/m2)\n",
       " ...96 values...,\n",
       " 15 Minute Continuous Data Collection\n",
       " 7/1 to 7/1 between 0 and 23 @4\n",
       " Energy Flux (W/m2)\n",
       " ...96 values...,\n",
       " 15 Minute Continuous Data Collection\n",
       " 7/1 to 7/1 between 0 and 23 @4\n",
       " Energy Flux (W/m2)\n",
       " ...96 values...,\n",
       " 15 Minute Continuous Data Collection\n",
       " 7/1 to 7/1 between 0 and 23 @4\n",
       " Energy Flux (W/m2)\n",
       " ...96 values...,\n",
       " 15 Minute Continuous Data Collection\n",
       " 7/1 to 7/1 between 0 and 23 @4\n",
       " Energy Flux (W/m2)\n",
       " ...96 values...,\n",
       " 15 Minute Continuous Data Collection\n",
       " 7/1 to 7/1 between 0 and 23 @4\n",
       " Energy Flux (W/m2)\n",
       " ...96 values...,\n",
       " 15 Minute Continuous Data Collection\n",
       " 7/1 to 7/1 between 0 and 23 @4\n",
       " Energy Flux (W/m2)\n",
       " ...96 values...,\n",
       " 15 Minute Continuous Data Collection\n",
       " 7/1 to 7/1 between 0 and 23 @4\n",
       " Energy Flux (W/m2)\n",
       " ...96 values...,\n",
       " 15 Minute Continuous Data Collection\n",
       " 7/1 to 7/1 between 0 and 23 @4\n",
       " Energy Flux (W/m2)\n",
       " ...96 values...,\n",
       " 15 Minute Continuous Data Collection\n",
       " 7/1 to 7/1 between 0 and 23 @4\n",
       " Energy Flux (W/m2)\n",
       " ...96 values...,\n",
       " 15 Minute Continuous Data Collection\n",
       " 7/1 to 7/1 between 0 and 23 @4\n",
       " Energy Flux (W/m2)\n",
       " ...96 values...,\n",
       " 15 Minute Continuous Data Collection\n",
       " 7/1 to 7/1 between 0 and 23 @4\n",
       " Energy Flux (W/m2)\n",
       " ...96 values...,\n",
       " 15 Minute Continuous Data Collection\n",
       " 7/1 to 7/1 between 0 and 23 @4\n",
       " Energy Flux (W/m2)\n",
       " ...96 values...,\n",
       " 15 Minute Continuous Data Collection\n",
       " 7/1 to 7/1 between 0 and 23 @4\n",
       " Energy Flux (W/m2)\n",
       " ...96 values...,\n",
       " 15 Minute Continuous Data Collection\n",
       " 7/1 to 7/1 between 0 and 23 @4\n",
       " Energy Flux (W/m2)\n",
       " ...96 values...,\n",
       " 15 Minute Continuous Data Collection\n",
       " 7/1 to 7/1 between 0 and 23 @4\n",
       " Energy Flux (W/m2)\n",
       " ...96 values...,\n",
       " 15 Minute Continuous Data Collection\n",
       " 7/1 to 7/1 between 0 and 23 @4\n",
       " Energy Flux (W/m2)\n",
       " ...96 values...,\n",
       " 15 Minute Continuous Data Collection\n",
       " 7/1 to 7/1 between 0 and 23 @4\n",
       " Energy Flux (W/m2)\n",
       " ...96 values...,\n",
       " 15 Minute Continuous Data Collection\n",
       " 7/1 to 7/1 between 0 and 23 @4\n",
       " Energy Flux (W/m2)\n",
       " ...96 values...]"
      ]
     },
     "execution_count": 6,
     "metadata": {},
     "output_type": "execute_result"
    }
   ],
   "source": [
    "bp.curr_collection"
   ]
  },
  {
   "cell_type": "code",
   "execution_count": null,
   "metadata": {},
   "outputs": [],
   "source": [
    "datetimes = list(val2[0].datetimes)\n",
    "i = filter(lambda x: x.time == Time(12,0), datetimes)\n",
    "time_ix = datetimes.index(next(i))\n",
    "time_ix"
   ]
  },
  {
   "cell_type": "code",
   "execution_count": 8,
   "metadata": {},
   "outputs": [],
   "source": [
    "ez2.plt.get_collection_for_variable(ov.inside_face_solar_radiation_heat_gain)\n",
    "ez2.plt.filter_collections()\n",
    "val1 = ez2.plt.filtered_collection"
   ]
  },
  {
   "cell_type": "code",
   "execution_count": 11,
   "metadata": {},
   "outputs": [],
   "source": [
    "ez2.plt.get_collection_for_variable(ov.inside_face_convection_heat_gain)\n",
    "ez2.plt.filter_collections()\n",
    "val2 = ez2.plt.filtered_collection"
   ]
  },
  {
   "cell_type": "code",
   "execution_count": 24,
   "metadata": {},
   "outputs": [
    {
     "name": "stdout",
     "output_type": "stream",
     "text": [
      "BLOCK 01 STOREY 0 WALL 0002\n",
      "BLOCK 01 STOREY 0 WALL 0003\n",
      "BLOCK 01 STOREY 0 WALL 0001_1\n",
      "BLOCK 01 STOREY 0 WALL 0004_1\n",
      "BLOCK 01 STOREY 0 FLOOR 0001\n",
      "BLOCK 01 STOREY 0 ROOF 0001\n",
      "BLOCK 01 STOREY 0 WALL 0002 DOOR\n"
     ]
    }
   ],
   "source": [
    "curr_zone = ez2.case.geometry.zones[\"B_01\"]\n",
    "surf_values = []\n",
    "for surface in val2:\n",
    "    if curr_zone.name.upper() in surface.header.metadata[\"Surface\"]:\n",
    "        print(surface.header.metadata[\"Surface\"])\n",
    "        surf_values.append(np.array(surface.values))\n",
    "\n",
    "block_values = sum(surf_values)\n",
    "block_values"
   ]
  },
  {
   "cell_type": "code",
   "execution_count": 38,
   "metadata": {},
   "outputs": [
    {
     "data": {
      "text/plain": [
       "True"
      ]
     },
     "execution_count": 38,
     "metadata": {},
     "output_type": "execute_result"
    }
   ],
   "source": [
    "list(val2[0].datetimes)[1].time == Time(0, 15)"
   ]
  },
  {
   "cell_type": "code",
   "execution_count": 52,
   "metadata": {},
   "outputs": [
    {
     "data": {
      "text/plain": [
       "48"
      ]
     },
     "execution_count": 52,
     "metadata": {},
     "output_type": "execute_result"
    }
   ],
   "source": []
  },
  {
   "cell_type": "code",
   "execution_count": 53,
   "metadata": {},
   "outputs": [
    {
     "data": {
      "text/plain": [
       "np.float64(35.448165803371836)"
      ]
     },
     "execution_count": 53,
     "metadata": {},
     "output_type": "execute_result"
    }
   ],
   "source": [
    "block_values[time_ix]"
   ]
  }
 ],
 "metadata": {
  "kernelspec": {
   "display_name": "gqenv",
   "language": "python",
   "name": "python3"
  },
  "language_info": {
   "codemirror_mode": {
    "name": "ipython",
    "version": 3
   },
   "file_extension": ".py",
   "mimetype": "text/x-python",
   "name": "python",
   "nbconvert_exporter": "python",
   "pygments_lexer": "ipython3",
   "version": "3.10.14"
  }
 },
 "nbformat": 4,
 "nbformat_minor": 2
}
