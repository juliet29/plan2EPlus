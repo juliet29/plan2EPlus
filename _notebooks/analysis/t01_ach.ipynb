{
 "cells": [
  {
   "cell_type": "code",
   "execution_count": 1,
   "metadata": {},
   "outputs": [],
   "source": [
    "import sys\n",
    "sys.path.append(\"/Users/julietnwagwuume-ezeoke/_UILCode/gqe-phd/geomeppy/_scripts\")\n",
    "\n",
    "from analysis.bivariable import BiVariableAnalysis\n",
    "from outputs.variables import OutputVars, PostProcessedOutputVars\n",
    "\n",
    "from copy import copy, deepcopy\n",
    "\n",
    "import pandas as pd\n",
    "\n",
    "import seaborn as sns\n",
    "import seaborn.objects as so\n",
    "\n",
    "from ladybug.datacollection import HourlyContinuousCollection\n",
    "from ladybug.header import Header\n",
    "# Apply the default theme\n",
    "sns.set_theme()\n",
    "\n",
    "import numpy as np"
   ]
  },
  {
   "cell_type": "code",
   "execution_count": 2,
   "metadata": {},
   "outputs": [],
   "source": [
    "bv = BiVariableAnalysis(\"test0\")\n",
    "# bv.update_qois(OutputVars.site_wind_speed, OutputVars.zone_ach)\n",
    "# bv.run()\n"
   ]
  },
  {
   "cell_type": "code",
   "execution_count": 3,
   "metadata": {},
   "outputs": [
    {
     "name": "stdout",
     "output_type": "stream",
     "text": [
      "cases/projects/test0/a00-base_case\n",
      "cases/projects/test0/a00-base_case/results/eplusout.sql\n",
      "cases/projects/test0/a02-more_windows\n",
      "cases/projects/test0/a02-more_windows/results/eplusout.sql\n",
      "cases/projects/test0/a03-test\n",
      "cases/projects/test0/a03-test/results/eplusout.sql\n",
      "cases/projects/test0/a04-test2\n",
      "cases/projects/test0/a04-test2/results/eplusout.sql\n"
     ]
    },
    {
     "ename": "TypeError",
     "evalue": "'SQLReader' object is not subscriptable",
     "output_type": "error",
     "traceback": [
      "\u001b[0;31m---------------------------------------------------------------------------\u001b[0m",
      "\u001b[0;31mTypeError\u001b[0m                                 Traceback (most recent call last)",
      "Cell \u001b[0;32mIn[3], line 3\u001b[0m\n\u001b[1;32m      1\u001b[0m bv\u001b[38;5;241m.\u001b[39mupdate_qois(OutputVars\u001b[38;5;241m.\u001b[39msite_wind_speed, PostProcessedOutputVars\u001b[38;5;241m.\u001b[39mzone_vent_net_heat_loss)\n\u001b[1;32m      2\u001b[0m bv\u001b[38;5;241m.\u001b[39mupdate_is_post_process_qoi(qoi2_bool\u001b[38;5;241m=\u001b[39m\u001b[38;5;28;01mTrue\u001b[39;00m)\n\u001b[0;32m----> 3\u001b[0m \u001b[43mbv\u001b[49m\u001b[38;5;241;43m.\u001b[39;49m\u001b[43mrun\u001b[49m\u001b[43m(\u001b[49m\u001b[43m)\u001b[49m\n",
      "File \u001b[0;32m~/_UILCode/gqe-phd/geomeppy/_scripts/analysis/bivariable.py:44\u001b[0m, in \u001b[0;36mBiVariableAnalysis.run\u001b[0;34m(self)\u001b[0m\n\u001b[1;32m     42\u001b[0m     \u001b[38;5;28mself\u001b[39m\u001b[38;5;241m.\u001b[39mprepare_cases()\n\u001b[1;32m     43\u001b[0m     \u001b[38;5;28mself\u001b[39m\u001b[38;5;241m.\u001b[39mget_case_sqls()\n\u001b[0;32m---> 44\u001b[0m \u001b[38;5;28;43mself\u001b[39;49m\u001b[38;5;241;43m.\u001b[39;49m\u001b[43mcreate_long_data\u001b[49m\u001b[43m(\u001b[49m\u001b[43m)\u001b[49m\n\u001b[1;32m     45\u001b[0m \u001b[38;5;28mself\u001b[39m\u001b[38;5;241m.\u001b[39mmake_bivariable_plot()\n\u001b[1;32m     46\u001b[0m \u001b[38;5;28mself\u001b[39m\u001b[38;5;241m.\u001b[39mfig\u001b[38;5;241m.\u001b[39mshow()\n",
      "File \u001b[0;32m~/_UILCode/gqe-phd/geomeppy/_scripts/analysis/bivariable.py:70\u001b[0m, in \u001b[0;36mBiVariableAnalysis.create_long_data\u001b[0;34m(self)\u001b[0m\n\u001b[1;32m     68\u001b[0m \u001b[38;5;28;01mfor\u001b[39;00m case \u001b[38;5;129;01min\u001b[39;00m \u001b[38;5;28mself\u001b[39m\u001b[38;5;241m.\u001b[39mcase_names:\n\u001b[1;32m     69\u001b[0m     \u001b[38;5;28mself\u001b[39m\u001b[38;5;241m.\u001b[39mcurr_case \u001b[38;5;241m=\u001b[39m case\n\u001b[0;32m---> 70\u001b[0m     \u001b[38;5;28;43mself\u001b[39;49m\u001b[38;5;241;43m.\u001b[39;49m\u001b[43mpull_data\u001b[49m\u001b[43m(\u001b[49m\u001b[43m)\u001b[49m\n\u001b[1;32m     71\u001b[0m     \u001b[38;5;28mself\u001b[39m\u001b[38;5;241m.\u001b[39mlong_data\u001b[38;5;241m.\u001b[39mextend(\u001b[38;5;28mself\u001b[39m\u001b[38;5;241m.\u001b[39mget_zone_data(\u001b[38;5;241m0\u001b[39m))\n\u001b[1;32m     72\u001b[0m     \u001b[38;5;28mself\u001b[39m\u001b[38;5;241m.\u001b[39mlong_data\u001b[38;5;241m.\u001b[39mextend(\u001b[38;5;28mself\u001b[39m\u001b[38;5;241m.\u001b[39mget_zone_data(\u001b[38;5;241m1\u001b[39m))\n",
      "File \u001b[0;32m~/_UILCode/gqe-phd/geomeppy/_scripts/analysis/bivariable.py:80\u001b[0m, in \u001b[0;36mBiVariableAnalysis.pull_data\u001b[0;34m(self)\u001b[0m\n\u001b[1;32m     78\u001b[0m     \u001b[38;5;28mself\u001b[39m\u001b[38;5;241m.\u001b[39mppd \u001b[38;5;241m=\u001b[39m \u001b[38;5;28mself\u001b[39m\u001b[38;5;241m.\u001b[39mcase_sqls[\u001b[38;5;28mself\u001b[39m\u001b[38;5;241m.\u001b[39mcurr_case]\n\u001b[1;32m     79\u001b[0m     \u001b[38;5;28mself\u001b[39m\u001b[38;5;241m.\u001b[39mvar1 \u001b[38;5;241m=\u001b[39m \u001b[38;5;28mself\u001b[39m\u001b[38;5;241m.\u001b[39mget_var_data(\u001b[38;5;28mself\u001b[39m\u001b[38;5;241m.\u001b[39mqoi1, \u001b[38;5;28mself\u001b[39m\u001b[38;5;241m.\u001b[39mis_post_processed_qois[\u001b[38;5;241m0\u001b[39m])\n\u001b[0;32m---> 80\u001b[0m     \u001b[38;5;28mself\u001b[39m\u001b[38;5;241m.\u001b[39mvar2 \u001b[38;5;241m=\u001b[39m \u001b[38;5;28;43mself\u001b[39;49m\u001b[38;5;241;43m.\u001b[39;49m\u001b[43mget_var_data\u001b[49m\u001b[43m(\u001b[49m\u001b[38;5;28;43mself\u001b[39;49m\u001b[38;5;241;43m.\u001b[39;49m\u001b[43mqoi2\u001b[49m\u001b[43m,\u001b[49m\u001b[43m \u001b[49m\u001b[38;5;28;43mself\u001b[39;49m\u001b[38;5;241;43m.\u001b[39;49m\u001b[43mis_post_processed_qois\u001b[49m\u001b[43m[\u001b[49m\u001b[38;5;241;43m1\u001b[39;49m\u001b[43m]\u001b[49m\u001b[43m)\u001b[49m\n\u001b[1;32m     81\u001b[0m \u001b[38;5;28;01melse\u001b[39;00m:\n\u001b[1;32m     82\u001b[0m     \u001b[38;5;28;01mraise\u001b[39;00m \u001b[38;5;167;01mException\u001b[39;00m(\u001b[38;5;124mf\u001b[39m\u001b[38;5;124m\"\u001b[39m\u001b[38;5;124mInvalide QOIs:\u001b[39m\u001b[38;5;132;01m{\u001b[39;00m\u001b[38;5;28mself\u001b[39m\u001b[38;5;241m.\u001b[39mqoi1\u001b[38;5;132;01m}\u001b[39;00m\u001b[38;5;124m, \u001b[39m\u001b[38;5;132;01m{\u001b[39;00m\u001b[38;5;28mself\u001b[39m\u001b[38;5;241m.\u001b[39mqoi2\u001b[38;5;132;01m}\u001b[39;00m\u001b[38;5;124m\"\u001b[39m)\n",
      "File \u001b[0;32m~/_UILCode/gqe-phd/geomeppy/_scripts/analysis/bivariable.py:100\u001b[0m, in \u001b[0;36mBiVariableAnalysis.get_var_data\u001b[0;34m(self, var, POST_PROCESS_DATA)\u001b[0m\n\u001b[1;32m     97\u001b[0m \u001b[38;5;28;01mdef\u001b[39;00m \u001b[38;5;21mget_var_data\u001b[39m(\u001b[38;5;28mself\u001b[39m, var: VariableType, POST_PROCESS_DATA\u001b[38;5;241m=\u001b[39m\u001b[38;5;28;01mFalse\u001b[39;00m):\n\u001b[1;32m     98\u001b[0m     \u001b[38;5;28;01mif\u001b[39;00m POST_PROCESS_DATA:\n\u001b[1;32m     99\u001b[0m         \u001b[38;5;66;03m# assume for now that only one analysis period in post process data, so it is already a \"filtered_collection..\"\u001b[39;00m\n\u001b[0;32m--> 100\u001b[0m         \u001b[38;5;28;01mreturn\u001b[39;00m \u001b[38;5;28;43mself\u001b[39;49m\u001b[38;5;241;43m.\u001b[39;49m\u001b[43mppd\u001b[49m\u001b[43m[\u001b[49m\u001b[43mvar\u001b[49m\u001b[43m]\u001b[49m\n\u001b[1;32m    101\u001b[0m     \u001b[38;5;28;01melse\u001b[39;00m:\n\u001b[1;32m    102\u001b[0m         \u001b[38;5;28mself\u001b[39m\u001b[38;5;241m.\u001b[39msql\u001b[38;5;241m.\u001b[39mget_collection_for_variable(var)\n",
      "\u001b[0;31mTypeError\u001b[0m: 'SQLReader' object is not subscriptable"
     ]
    }
   ],
   "source": [
    "bv.update_qois(OutputVars.site_wind_speed, PostProcessedOutputVars.zone_vent_net_heat_loss)\n",
    "bv.update_is_post_process_qoi(qoi2_bool=True)\n",
    "bv.run()"
   ]
  },
  {
   "cell_type": "code",
   "execution_count": 65,
   "metadata": {},
   "outputs": [],
   "source": [
    "# bv.update_qois(OutputVars.site_db_temp , OutputVars.zone_mean_air_temp)\n",
    "# bv.run()"
   ]
  },
  {
   "cell_type": "code",
   "execution_count": 66,
   "metadata": {},
   "outputs": [],
   "source": [
    "# bv.update_qois(OutputVars.site_direct_solar_rad , OutputVars.zone_mean_air_temp)\n",
    "# bv.run()"
   ]
  },
  {
   "cell_type": "code",
   "execution_count": 67,
   "metadata": {},
   "outputs": [],
   "source": [
    "# bv.update_qois(OutputVars.site_diffuse_solar_rad , OutputVars.zone_mean_air_temp)\n",
    "# bv.run()"
   ]
  },
  {
   "cell_type": "code",
   "execution_count": 60,
   "metadata": {},
   "outputs": [
    {
     "data": {
      "text/plain": [
       "'BLOCK 00 STOREY 0'"
      ]
     },
     "execution_count": 60,
     "metadata": {},
     "output_type": "execute_result"
    }
   ],
   "source": [
    "sql = bv.case_sqls[\"a00-base_case\"]\n",
    "heat_loss = bv.get_var_data(sql, OutputVars.zone_vent_heat_loss)\n",
    "heat_gain = bv.get_var_data(sql, OutputVars.zone_vent_heat_gain)\n",
    "heat_loss[0].header.metadata[\"System\"]"
   ]
  },
  {
   "cell_type": "code",
   "execution_count": 61,
   "metadata": {},
   "outputs": [],
   "source": [
    "new_header = deepcopy(heat_loss[0].header)\n",
    "new_header.metadata[\"type\"] = \"AFN Zone Ventilation Sensible Net Heat Loss Rate\"\n",
    "\n",
    "net_heat_loss = []\n",
    "for ix, (loss, gain) in enumerate(zip(heat_loss, heat_gain)):\n",
    "    np_val = np.array(heat_loss[ix].values) - np.array(heat_gain[ix].values)\n",
    "    new_vals = tuple(np_val.tolist())\n",
    "    net_heat_loss.append(HourlyContinuousCollection(new_header, new_vals))\n",
    "\n",
    "# here assuming just one analysis period.. \n"
   ]
  },
  {
   "cell_type": "code",
   "execution_count": 62,
   "metadata": {},
   "outputs": [
    {
     "data": {
      "text/plain": [
       "[15 Minute Continuous Data Collection\n",
       " 7/1 to 7/1 between 0 and 23 @4\n",
       " Power (W)\n",
       " ...96 values...,\n",
       " 15 Minute Continuous Data Collection\n",
       " 7/1 to 7/1 between 0 and 23 @4\n",
       " Power (W)\n",
       " ...96 values...]"
      ]
     },
     "execution_count": 62,
     "metadata": {},
     "output_type": "execute_result"
    }
   ],
   "source": [
    "net_heat_loss"
   ]
  },
  {
   "cell_type": "code",
   "execution_count": 63,
   "metadata": {},
   "outputs": [
    {
     "data": {
      "text/plain": [
       "Power (W)\n",
       "7/1 to 7/1 between 0 and 23 @4\n",
       "type: AFN Zone Ventilation Sensible Net Heat Loss Rate\n",
       "System: BLOCK 00 STOREY 0"
      ]
     },
     "execution_count": 63,
     "metadata": {},
     "output_type": "execute_result"
    }
   ],
   "source": [
    "net_heat_loss[0].header"
   ]
  }
 ],
 "metadata": {
  "kernelspec": {
   "display_name": "Python 3",
   "language": "python",
   "name": "python3"
  },
  "language_info": {
   "codemirror_mode": {
    "name": "ipython",
    "version": 3
   },
   "file_extension": ".py",
   "mimetype": "text/x-python",
   "name": "python",
   "nbconvert_exporter": "python",
   "pygments_lexer": "ipython3",
   "version": "3.10.14"
  }
 },
 "nbformat": 4,
 "nbformat_minor": 2
}
