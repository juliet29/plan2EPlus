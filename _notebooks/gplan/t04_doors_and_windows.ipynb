{
 "cells": [
  {
   "cell_type": "code",
   "execution_count": 1,
   "metadata": {},
   "outputs": [],
   "source": [
    "import sys\n",
    "sys.path.append(\"/Users/julietnwagwuume-ezeoke/_UILCode/gqe-phd/geomeppy/_scripts\")\n",
    "\n",
    "from gplan.subsurface_translator import SubsurfaceTranslator\n",
    "\n"
   ]
  },
  {
   "cell_type": "code",
   "execution_count": 2,
   "metadata": {},
   "outputs": [],
   "source": [
    "st = SubsurfaceTranslator(\"amber_a\")\n",
    "st.run()"
   ]
  },
  {
   "cell_type": "code",
   "execution_count": 3,
   "metadata": {},
   "outputs": [
    {
     "data": {
      "text/plain": [
       "[[{'id': 0,\n",
       "   'label': 'bedroom_1',\n",
       "   'left': 0.0,\n",
       "   'top': 0.0,\n",
       "   'width': 3.22,\n",
       "   'height': 2.8,\n",
       "   'color': ''},\n",
       "  {'id': 1,\n",
       "   'label': 'kitchen',\n",
       "   'left': 3.22,\n",
       "   'top': 3.53,\n",
       "   'width': 1.8,\n",
       "   'height': 2.42,\n",
       "   'color': ''},\n",
       "  {'id': 2,\n",
       "   'label': 'm_bath',\n",
       "   'left': 5.02,\n",
       "   'top': 0.0,\n",
       "   'width': 3.36,\n",
       "   'height': 1.3,\n",
       "   'color': ''},\n",
       "  {'id': 3,\n",
       "   'label': 'm_bedroom',\n",
       "   'left': 8.38,\n",
       "   'top': 0.0,\n",
       "   'width': 2.13,\n",
       "   'height': 2.74,\n",
       "   'color': ''},\n",
       "  {'id': 4,\n",
       "   'label': 'm_closet',\n",
       "   'left': 8.375,\n",
       "   'top': 2.74,\n",
       "   'width': 2.135,\n",
       "   'height': 0.6,\n",
       "   'color': ''},\n",
       "  {'id': 5,\n",
       "   'label': 'bath',\n",
       "   'left': 5.02,\n",
       "   'top': 1.3,\n",
       "   'width': 3.36,\n",
       "   'height': 1.23,\n",
       "   'color': ''},\n",
       "  {'id': 6,\n",
       "   'label': 'dining',\n",
       "   'left': 5.02,\n",
       "   'top': 2.53,\n",
       "   'width': 3.36,\n",
       "   'height': 3.42,\n",
       "   'color': ''},\n",
       "  {'id': 7,\n",
       "   'label': 'transit_space',\n",
       "   'left': 3.22,\n",
       "   'top': 1.75,\n",
       "   'width': 1.8,\n",
       "   'height': 1.78,\n",
       "   'color': ''},\n",
       "  {'id': 8,\n",
       "   'label': 'closet',\n",
       "   'left': 8.38,\n",
       "   'top': 3.34,\n",
       "   'width': 2.13,\n",
       "   'height': 2.61,\n",
       "   'color': ''},\n",
       "  {'id': 9,\n",
       "   'label': 'bedroom_2',\n",
       "   'left': 0.0,\n",
       "   'top': 2.8,\n",
       "   'width': 3.22,\n",
       "   'height': 3.15,\n",
       "   'color': ''},\n",
       "  {'id': 10,\n",
       "   'label': 'laundry',\n",
       "   'left': 3.22,\n",
       "   'top': 0.0,\n",
       "   'width': 1.8,\n",
       "   'height': 1.75,\n",
       "   'color': ''}]]"
      ]
     },
     "execution_count": 3,
     "metadata": {},
     "output_type": "execute_result"
    }
   ],
   "source": [
    "st.plan_data"
   ]
  },
  {
   "cell_type": "code",
   "execution_count": 3,
   "metadata": {},
   "outputs": [
    {
     "data": {
      "text/plain": [
       "[SSP(pair=(0, 7), type=DOOR, dims=(0.81, 2.03),\n",
       " SSP(pair=(0, <WallNormal.NORTH: 0.0>), type=WINDOW, dims=(0.72, 2.13),\n",
       " SSP(pair=(1, 6), type=DOOR, dims=(1.38, 2.03),\n",
       " SSP(pair=(1, <WallNormal.SOUTH: 180.0>), type=WINDOW, dims=(0.72, 1.22),\n",
       " SSP(pair=(2, 3), type=DOOR, dims=(0.76, 2.03),\n",
       " SSP(pair=(2, <WallNormal.NORTH: 0.0>), type=WINDOW, dims=(0.72, 1.51),\n",
       " SSP(pair=(3, 4), type=DOOR, dims=(0.81, 2.03),\n",
       " SSP(pair=(3, 6), type=DOOR, dims=(0.81, 2.03),\n",
       " SSP(pair=(3, <WallNormal.NORTH: 0.0>), type=WINDOW, dims=(0.72, 1.51),\n",
       " SSP(pair=(5, 7), type=DOOR, dims=(0.76, 2.03),\n",
       " SSP(pair=(6, 7), type=DOOR, dims=(0.81, 2.03),\n",
       " SSP(pair=(6, 8), type=DOOR, dims=(0.81, 2.03),\n",
       " SSP(pair=(6, <WallNormal.SOUTH: 180.0>), type=WINDOW, dims=(0.72, 2.13),\n",
       " SSP(pair=(7, 9), type=DOOR, dims=(0.81, 2.03),\n",
       " SSP(pair=(7, 10), type=DOOR, dims=(0.81, 2.03),\n",
       " SSP(pair=(8, <WallNormal.SOUTH: 180.0>), type=WINDOW, dims=(0.72, 2.13),\n",
       " SSP(pair=(9, <WallNormal.SOUTH: 180.0>), type=WINDOW, dims=(0.72, 2.13),\n",
       " SSP(pair=(10, <WallNormal.NORTH: 0.0>), type=WINDOW, dims=(0.72, 2.13)]"
      ]
     },
     "execution_count": 3,
     "metadata": {},
     "output_type": "execute_result"
    }
   ],
   "source": [
    "st.pairs"
   ]
  },
  {
   "cell_type": "code",
   "execution_count": 5,
   "metadata": {},
   "outputs": [
    {
     "data": {
      "text/plain": [
       "Dimensions(width=0.81, height=2.03)"
      ]
     },
     "execution_count": 5,
     "metadata": {},
     "output_type": "execute_result"
    }
   ],
   "source": [
    "st.pairs[0].attrs.dimensions"
   ]
  }
 ],
 "metadata": {
  "kernelspec": {
   "display_name": "gqenv",
   "language": "python",
   "name": "python3"
  },
  "language_info": {
   "codemirror_mode": {
    "name": "ipython",
    "version": 3
   },
   "file_extension": ".py",
   "mimetype": "text/x-python",
   "name": "python",
   "nbconvert_exporter": "python",
   "pygments_lexer": "ipython3",
   "version": "3.10.14"
  }
 },
 "nbformat": 4,
 "nbformat_minor": 2
}
