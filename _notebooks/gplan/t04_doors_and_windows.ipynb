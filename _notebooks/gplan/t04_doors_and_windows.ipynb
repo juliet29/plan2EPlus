{
 "cells": [
  {
   "cell_type": "code",
   "execution_count": 1,
   "metadata": {},
   "outputs": [],
   "source": [
    "import sys\n",
    "sys.path.append(\"/Users/julietnwagwuume-ezeoke/_UILCode/gqe-phd/geomeppy/_scripts\")\n",
    "\n",
    "from gplan.subsurface_translator import SubsurfaceTranslator\n",
    "\n"
   ]
  },
  {
   "cell_type": "code",
   "execution_count": 4,
   "metadata": {},
   "outputs": [],
   "source": [
    "st = SubsurfaceTranslator(\"amber_a\")\n",
    "st.run()"
   ]
  },
  {
   "cell_type": "code",
   "execution_count": 5,
   "metadata": {},
   "outputs": [
    {
     "data": {
      "text/plain": [
       "[SubsurfacePair(pair=(0, 7), type=SubsurfaceObjects.DOOR),\n",
       " SubsurfacePair(pair=(0, <WallNormal.NORTH: 0.0>), type=SubsurfaceObjects.WINDOW),\n",
       " SubsurfacePair(pair=(1, 6), type=SubsurfaceObjects.DOOR),\n",
       " SubsurfacePair(pair=(1, <WallNormal.SOUTH: 180.0>), type=SubsurfaceObjects.WINDOW),\n",
       " SubsurfacePair(pair=(2, 3), type=SubsurfaceObjects.DOOR),\n",
       " SubsurfacePair(pair=(2, <WallNormal.NORTH: 0.0>), type=SubsurfaceObjects.WINDOW),\n",
       " SubsurfacePair(pair=(3, 4), type=SubsurfaceObjects.DOOR),\n",
       " SubsurfacePair(pair=(3, 6), type=SubsurfaceObjects.DOOR),\n",
       " SubsurfacePair(pair=(3, <WallNormal.NORTH: 0.0>), type=SubsurfaceObjects.WINDOW),\n",
       " SubsurfacePair(pair=(5, 7), type=SubsurfaceObjects.DOOR),\n",
       " SubsurfacePair(pair=(6, 7), type=SubsurfaceObjects.DOOR),\n",
       " SubsurfacePair(pair=(6, 8), type=SubsurfaceObjects.DOOR),\n",
       " SubsurfacePair(pair=(6, <WallNormal.SOUTH: 180.0>), type=SubsurfaceObjects.WINDOW),\n",
       " SubsurfacePair(pair=(7, 9), type=SubsurfaceObjects.DOOR),\n",
       " SubsurfacePair(pair=(7, 10), type=SubsurfaceObjects.DOOR),\n",
       " SubsurfacePair(pair=(8, <WallNormal.SOUTH: 180.0>), type=SubsurfaceObjects.WINDOW),\n",
       " SubsurfacePair(pair=(9, <WallNormal.SOUTH: 180.0>), type=SubsurfaceObjects.WINDOW),\n",
       " SubsurfacePair(pair=(10, <WallNormal.NORTH: 0.0>), type=SubsurfaceObjects.WINDOW)]"
      ]
     },
     "execution_count": 5,
     "metadata": {},
     "output_type": "execute_result"
    }
   ],
   "source": [
    "st.pairs"
   ]
  }
 ],
 "metadata": {
  "kernelspec": {
   "display_name": "gqenv",
   "language": "python",
   "name": "python3"
  },
  "language_info": {
   "codemirror_mode": {
    "name": "ipython",
    "version": 3
   },
   "file_extension": ".py",
   "mimetype": "text/x-python",
   "name": "python",
   "nbconvert_exporter": "python",
   "pygments_lexer": "ipython3",
   "version": "3.10.14"
  }
 },
 "nbformat": 4,
 "nbformat_minor": 2
}
