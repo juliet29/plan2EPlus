{
 "cells": [
  {
   "cell_type": "code",
   "execution_count": 1,
   "metadata": {},
   "outputs": [],
   "source": [
    "import sys\n",
    "sys.path.append(\"/Users/julietnwagwuume-ezeoke/_UILCode/gqe-phd/geomeppy/_scripts\")\n",
    "\n",
    "from datetime import time\n",
    "\n",
    "from case_edits.epcase import EneryPlusCaseReader\n",
    "\n",
    "from outputs.variables import OutputVars as ov\n",
    "from outputs.zone_space_time import SpaceTimePlot\n",
    "from outputs.zone_time import TimePlot\n",
    "from outputs.surface_data import SurfaceData\n",
    "\n",
    "from outputs.plotter import Plotter\n"
   ]
  },
  {
   "cell_type": "code",
   "execution_count": 7,
   "metadata": {},
   "outputs": [],
   "source": [
    "GPLAN_PATH = \"GPLANs/ostwald_plans.json\"\n",
    "plan_index = 10\n",
    "CASE_NAME=\"gplan/t03_ostwald\"\n",
    "outputs = [ov.surf_incident_solar_rad, ov.surf_net_thermal_rad, ov.zone_mean_air_temp]\n",
    "output_names = [o.value for o in outputs]\n",
    "# e = create_case(CASE_NAME, output_names, GPLAN_PATH, plan_index)"
   ]
  },
  {
   "cell_type": "code",
   "execution_count": 8,
   "metadata": {},
   "outputs": [
    {
     "data": {
      "application/vnd.plotly.v1+json": {
       "config": {
        "plotlyServerURL": "https://plotly.com"
       },
       "data": [
        {
         "fill": "toself",
         "fillcolor": "rgb(48, 18, 59)",
         "line": {
          "width": 0
         },
         "marker": {
          "color": "rgb(48, 18, 59)"
         },
         "name": "Block 01 Storey 0",
         "opacity": 0.5,
         "type": "scatter",
         "x": [
          40,
          40,
          0,
          0,
          40
         ],
         "y": [
          40,
          0,
          0,
          40,
          40
         ]
        },
        {
         "line": {
          "color": "rgb(48, 18, 59)",
          "width": 3
         },
         "marker": {
          "color": "rgb(48, 18, 59)"
         },
         "mode": "markers+lines",
         "name": "Block 01 - West",
         "type": "scatter",
         "x": [
          40,
          40
         ],
         "y": [
          40,
          0
         ]
        },
        {
         "line": {
          "color": "rgb(48, 18, 59)",
          "width": 3
         },
         "marker": {
          "color": "rgb(48, 18, 59)"
         },
         "mode": "markers+lines",
         "name": "Block 01 - North",
         "type": "scatter",
         "x": [
          40,
          0
         ],
         "y": [
          0,
          0
         ]
        },
        {
         "line": {
          "color": "rgb(48, 18, 59)",
          "width": 3
         },
         "marker": {
          "color": "rgb(48, 18, 59)"
         },
         "mode": "markers+lines",
         "name": "Block 01 - East",
         "type": "scatter",
         "x": [
          0,
          0
         ],
         "y": [
          0,
          40
         ]
        },
        {
         "line": {
          "color": "rgb(48, 18, 59)",
          "width": 3
         },
         "marker": {
          "color": "rgb(48, 18, 59)"
         },
         "mode": "markers+lines",
         "name": "Block 01 - South",
         "type": "scatter",
         "x": [
          0,
          40
         ],
         "y": [
          40,
          40
         ]
        },
        {
         "fill": "toself",
         "fillcolor": "rgb(68, 96, 208)",
         "line": {
          "width": 0
         },
         "marker": {
          "color": "rgb(68, 96, 208)"
         },
         "name": "Block 02 Storey 0",
         "opacity": 0.5,
         "type": "scatter",
         "x": [
          120,
          120,
          40,
          40,
          120
         ],
         "y": [
          40,
          0,
          0,
          40,
          40
         ]
        },
        {
         "line": {
          "color": "rgb(68, 96, 208)",
          "width": 3
         },
         "marker": {
          "color": "rgb(68, 96, 208)"
         },
         "mode": "markers+lines",
         "name": "Block 02 - West",
         "type": "scatter",
         "x": [
          120,
          120
         ],
         "y": [
          40,
          0
         ]
        },
        {
         "line": {
          "color": "rgb(68, 96, 208)",
          "width": 3
         },
         "marker": {
          "color": "rgb(68, 96, 208)"
         },
         "mode": "markers+lines",
         "name": "Block 02 - North",
         "type": "scatter",
         "x": [
          120,
          40
         ],
         "y": [
          0,
          0
         ]
        },
        {
         "line": {
          "color": "rgb(68, 96, 208)",
          "width": 3
         },
         "marker": {
          "color": "rgb(68, 96, 208)"
         },
         "mode": "markers+lines",
         "name": "Block 02 - East",
         "type": "scatter",
         "x": [
          40,
          40
         ],
         "y": [
          0,
          40
         ]
        },
        {
         "line": {
          "color": "rgb(68, 96, 208)",
          "width": 3
         },
         "marker": {
          "color": "rgb(68, 96, 208)"
         },
         "mode": "markers+lines",
         "name": "Block 02 - South",
         "type": "scatter",
         "x": [
          40,
          120
         ],
         "y": [
          40,
          40
         ]
        },
        {
         "fill": "toself",
         "fillcolor": "rgb(54, 167, 248)",
         "line": {
          "width": 0
         },
         "marker": {
          "color": "rgb(54, 167, 248)"
         },
         "name": "Block 03 Storey 0",
         "opacity": 0.5,
         "type": "scatter",
         "x": [
          160,
          160,
          120,
          120,
          160
         ],
         "y": [
          120,
          0,
          0,
          120,
          120
         ]
        },
        {
         "line": {
          "color": "rgb(54, 167, 248)",
          "width": 3
         },
         "marker": {
          "color": "rgb(54, 167, 248)"
         },
         "mode": "markers+lines",
         "name": "Block 03 - West",
         "type": "scatter",
         "x": [
          160,
          160
         ],
         "y": [
          120,
          0
         ]
        },
        {
         "line": {
          "color": "rgb(54, 167, 248)",
          "width": 3
         },
         "marker": {
          "color": "rgb(54, 167, 248)"
         },
         "mode": "markers+lines",
         "name": "Block 03 - North",
         "type": "scatter",
         "x": [
          160,
          120
         ],
         "y": [
          0,
          0
         ]
        },
        {
         "line": {
          "color": "rgb(54, 167, 248)",
          "width": 3
         },
         "marker": {
          "color": "rgb(54, 167, 248)"
         },
         "mode": "markers+lines",
         "name": "Block 03 - East",
         "type": "scatter",
         "x": [
          120,
          120
         ],
         "y": [
          0,
          120
         ]
        },
        {
         "line": {
          "color": "rgb(54, 167, 248)",
          "width": 3
         },
         "marker": {
          "color": "rgb(54, 167, 248)"
         },
         "mode": "markers+lines",
         "name": "Block 03 - South",
         "type": "scatter",
         "x": [
          120,
          160
         ],
         "y": [
          120,
          120
         ]
        },
        {
         "fill": "toself",
         "fillcolor": "rgb(33, 226, 181)",
         "line": {
          "width": 0
         },
         "marker": {
          "color": "rgb(33, 226, 181)"
         },
         "name": "Block 04 Storey 0",
         "opacity": 0.5,
         "type": "scatter",
         "x": [
          120,
          120,
          80,
          80,
          120
         ],
         "y": [
          120,
          80,
          80,
          120,
          120
         ]
        },
        {
         "line": {
          "color": "rgb(33, 226, 181)",
          "width": 3
         },
         "marker": {
          "color": "rgb(33, 226, 181)"
         },
         "mode": "markers+lines",
         "name": "Block 04 - West",
         "type": "scatter",
         "x": [
          120,
          120
         ],
         "y": [
          120,
          80
         ]
        },
        {
         "line": {
          "color": "rgb(33, 226, 181)",
          "width": 3
         },
         "marker": {
          "color": "rgb(33, 226, 181)"
         },
         "mode": "markers+lines",
         "name": "Block 04 - North",
         "type": "scatter",
         "x": [
          120,
          80
         ],
         "y": [
          80,
          80
         ]
        },
        {
         "line": {
          "color": "rgb(33, 226, 181)",
          "width": 3
         },
         "marker": {
          "color": "rgb(33, 226, 181)"
         },
         "mode": "markers+lines",
         "name": "Block 04 - East",
         "type": "scatter",
         "x": [
          80,
          80
         ],
         "y": [
          80,
          120
         ]
        },
        {
         "line": {
          "color": "rgb(33, 226, 181)",
          "width": 3
         },
         "marker": {
          "color": "rgb(33, 226, 181)"
         },
         "mode": "markers+lines",
         "name": "Block 04 - South",
         "type": "scatter",
         "x": [
          80,
          120
         ],
         "y": [
          120,
          120
         ]
        },
        {
         "fill": "toself",
         "fillcolor": "rgb(112, 252, 97)",
         "line": {
          "width": 0
         },
         "marker": {
          "color": "rgb(112, 252, 97)"
         },
         "name": "Block 05 Storey 0",
         "opacity": 0.5,
         "type": "scatter",
         "x": [
          120,
          120,
          0,
          0,
          120
         ],
         "y": [
          80,
          40,
          40,
          80,
          80
         ]
        },
        {
         "line": {
          "color": "rgb(112, 252, 97)",
          "width": 3
         },
         "marker": {
          "color": "rgb(112, 252, 97)"
         },
         "mode": "markers+lines",
         "name": "Block 05 - West",
         "type": "scatter",
         "x": [
          120,
          120
         ],
         "y": [
          80,
          40
         ]
        },
        {
         "line": {
          "color": "rgb(112, 252, 97)",
          "width": 3
         },
         "marker": {
          "color": "rgb(112, 252, 97)"
         },
         "mode": "markers+lines",
         "name": "Block 05 - North",
         "type": "scatter",
         "x": [
          120,
          0
         ],
         "y": [
          40,
          40
         ]
        },
        {
         "line": {
          "color": "rgb(112, 252, 97)",
          "width": 3
         },
         "marker": {
          "color": "rgb(112, 252, 97)"
         },
         "mode": "markers+lines",
         "name": "Block 05 - East",
         "type": "scatter",
         "x": [
          0,
          0
         ],
         "y": [
          40,
          80
         ]
        },
        {
         "line": {
          "color": "rgb(112, 252, 97)",
          "width": 3
         },
         "marker": {
          "color": "rgb(112, 252, 97)"
         },
         "mode": "markers+lines",
         "name": "Block 05 - South",
         "type": "scatter",
         "x": [
          0,
          120
         ],
         "y": [
          80,
          80
         ]
        },
        {
         "fill": "toself",
         "fillcolor": "rgb(199, 236, 54)",
         "line": {
          "width": 0
         },
         "marker": {
          "color": "rgb(199, 236, 54)"
         },
         "name": "Block 06 Storey 0",
         "opacity": 0.5,
         "type": "scatter",
         "x": [
          80,
          80,
          0,
          0,
          80
         ],
         "y": [
          120,
          80,
          80,
          120,
          120
         ]
        },
        {
         "line": {
          "color": "rgb(199, 236, 54)",
          "width": 3
         },
         "marker": {
          "color": "rgb(199, 236, 54)"
         },
         "mode": "markers+lines",
         "name": "Block 06 - West",
         "type": "scatter",
         "x": [
          80,
          80
         ],
         "y": [
          120,
          80
         ]
        },
        {
         "line": {
          "color": "rgb(199, 236, 54)",
          "width": 3
         },
         "marker": {
          "color": "rgb(199, 236, 54)"
         },
         "mode": "markers+lines",
         "name": "Block 06 - North",
         "type": "scatter",
         "x": [
          80,
          0
         ],
         "y": [
          80,
          80
         ]
        },
        {
         "line": {
          "color": "rgb(199, 236, 54)",
          "width": 3
         },
         "marker": {
          "color": "rgb(199, 236, 54)"
         },
         "mode": "markers+lines",
         "name": "Block 06 - East",
         "type": "scatter",
         "x": [
          0,
          0
         ],
         "y": [
          80,
          120
         ]
        },
        {
         "line": {
          "color": "rgb(199, 236, 54)",
          "width": 3
         },
         "marker": {
          "color": "rgb(199, 236, 54)"
         },
         "mode": "markers+lines",
         "name": "Block 06 - South",
         "type": "scatter",
         "x": [
          0,
          80
         ],
         "y": [
          120,
          120
         ]
        }
       ],
       "layout": {
        "template": {
         "data": {
          "bar": [
           {
            "error_x": {
             "color": "#2a3f5f"
            },
            "error_y": {
             "color": "#2a3f5f"
            },
            "marker": {
             "line": {
              "color": "#E5ECF6",
              "width": 0.5
             },
             "pattern": {
              "fillmode": "overlay",
              "size": 10,
              "solidity": 0.2
             }
            },
            "type": "bar"
           }
          ],
          "barpolar": [
           {
            "marker": {
             "line": {
              "color": "#E5ECF6",
              "width": 0.5
             },
             "pattern": {
              "fillmode": "overlay",
              "size": 10,
              "solidity": 0.2
             }
            },
            "type": "barpolar"
           }
          ],
          "carpet": [
           {
            "aaxis": {
             "endlinecolor": "#2a3f5f",
             "gridcolor": "white",
             "linecolor": "white",
             "minorgridcolor": "white",
             "startlinecolor": "#2a3f5f"
            },
            "baxis": {
             "endlinecolor": "#2a3f5f",
             "gridcolor": "white",
             "linecolor": "white",
             "minorgridcolor": "white",
             "startlinecolor": "#2a3f5f"
            },
            "type": "carpet"
           }
          ],
          "choropleth": [
           {
            "colorbar": {
             "outlinewidth": 0,
             "ticks": ""
            },
            "type": "choropleth"
           }
          ],
          "contour": [
           {
            "colorbar": {
             "outlinewidth": 0,
             "ticks": ""
            },
            "colorscale": [
             [
              0,
              "#0d0887"
             ],
             [
              0.1111111111111111,
              "#46039f"
             ],
             [
              0.2222222222222222,
              "#7201a8"
             ],
             [
              0.3333333333333333,
              "#9c179e"
             ],
             [
              0.4444444444444444,
              "#bd3786"
             ],
             [
              0.5555555555555556,
              "#d8576b"
             ],
             [
              0.6666666666666666,
              "#ed7953"
             ],
             [
              0.7777777777777778,
              "#fb9f3a"
             ],
             [
              0.8888888888888888,
              "#fdca26"
             ],
             [
              1,
              "#f0f921"
             ]
            ],
            "type": "contour"
           }
          ],
          "contourcarpet": [
           {
            "colorbar": {
             "outlinewidth": 0,
             "ticks": ""
            },
            "type": "contourcarpet"
           }
          ],
          "heatmap": [
           {
            "colorbar": {
             "outlinewidth": 0,
             "ticks": ""
            },
            "colorscale": [
             [
              0,
              "#0d0887"
             ],
             [
              0.1111111111111111,
              "#46039f"
             ],
             [
              0.2222222222222222,
              "#7201a8"
             ],
             [
              0.3333333333333333,
              "#9c179e"
             ],
             [
              0.4444444444444444,
              "#bd3786"
             ],
             [
              0.5555555555555556,
              "#d8576b"
             ],
             [
              0.6666666666666666,
              "#ed7953"
             ],
             [
              0.7777777777777778,
              "#fb9f3a"
             ],
             [
              0.8888888888888888,
              "#fdca26"
             ],
             [
              1,
              "#f0f921"
             ]
            ],
            "type": "heatmap"
           }
          ],
          "heatmapgl": [
           {
            "colorbar": {
             "outlinewidth": 0,
             "ticks": ""
            },
            "colorscale": [
             [
              0,
              "#0d0887"
             ],
             [
              0.1111111111111111,
              "#46039f"
             ],
             [
              0.2222222222222222,
              "#7201a8"
             ],
             [
              0.3333333333333333,
              "#9c179e"
             ],
             [
              0.4444444444444444,
              "#bd3786"
             ],
             [
              0.5555555555555556,
              "#d8576b"
             ],
             [
              0.6666666666666666,
              "#ed7953"
             ],
             [
              0.7777777777777778,
              "#fb9f3a"
             ],
             [
              0.8888888888888888,
              "#fdca26"
             ],
             [
              1,
              "#f0f921"
             ]
            ],
            "type": "heatmapgl"
           }
          ],
          "histogram": [
           {
            "marker": {
             "pattern": {
              "fillmode": "overlay",
              "size": 10,
              "solidity": 0.2
             }
            },
            "type": "histogram"
           }
          ],
          "histogram2d": [
           {
            "colorbar": {
             "outlinewidth": 0,
             "ticks": ""
            },
            "colorscale": [
             [
              0,
              "#0d0887"
             ],
             [
              0.1111111111111111,
              "#46039f"
             ],
             [
              0.2222222222222222,
              "#7201a8"
             ],
             [
              0.3333333333333333,
              "#9c179e"
             ],
             [
              0.4444444444444444,
              "#bd3786"
             ],
             [
              0.5555555555555556,
              "#d8576b"
             ],
             [
              0.6666666666666666,
              "#ed7953"
             ],
             [
              0.7777777777777778,
              "#fb9f3a"
             ],
             [
              0.8888888888888888,
              "#fdca26"
             ],
             [
              1,
              "#f0f921"
             ]
            ],
            "type": "histogram2d"
           }
          ],
          "histogram2dcontour": [
           {
            "colorbar": {
             "outlinewidth": 0,
             "ticks": ""
            },
            "colorscale": [
             [
              0,
              "#0d0887"
             ],
             [
              0.1111111111111111,
              "#46039f"
             ],
             [
              0.2222222222222222,
              "#7201a8"
             ],
             [
              0.3333333333333333,
              "#9c179e"
             ],
             [
              0.4444444444444444,
              "#bd3786"
             ],
             [
              0.5555555555555556,
              "#d8576b"
             ],
             [
              0.6666666666666666,
              "#ed7953"
             ],
             [
              0.7777777777777778,
              "#fb9f3a"
             ],
             [
              0.8888888888888888,
              "#fdca26"
             ],
             [
              1,
              "#f0f921"
             ]
            ],
            "type": "histogram2dcontour"
           }
          ],
          "mesh3d": [
           {
            "colorbar": {
             "outlinewidth": 0,
             "ticks": ""
            },
            "type": "mesh3d"
           }
          ],
          "parcoords": [
           {
            "line": {
             "colorbar": {
              "outlinewidth": 0,
              "ticks": ""
             }
            },
            "type": "parcoords"
           }
          ],
          "pie": [
           {
            "automargin": true,
            "type": "pie"
           }
          ],
          "scatter": [
           {
            "fillpattern": {
             "fillmode": "overlay",
             "size": 10,
             "solidity": 0.2
            },
            "type": "scatter"
           }
          ],
          "scatter3d": [
           {
            "line": {
             "colorbar": {
              "outlinewidth": 0,
              "ticks": ""
             }
            },
            "marker": {
             "colorbar": {
              "outlinewidth": 0,
              "ticks": ""
             }
            },
            "type": "scatter3d"
           }
          ],
          "scattercarpet": [
           {
            "marker": {
             "colorbar": {
              "outlinewidth": 0,
              "ticks": ""
             }
            },
            "type": "scattercarpet"
           }
          ],
          "scattergeo": [
           {
            "marker": {
             "colorbar": {
              "outlinewidth": 0,
              "ticks": ""
             }
            },
            "type": "scattergeo"
           }
          ],
          "scattergl": [
           {
            "marker": {
             "colorbar": {
              "outlinewidth": 0,
              "ticks": ""
             }
            },
            "type": "scattergl"
           }
          ],
          "scattermapbox": [
           {
            "marker": {
             "colorbar": {
              "outlinewidth": 0,
              "ticks": ""
             }
            },
            "type": "scattermapbox"
           }
          ],
          "scatterpolar": [
           {
            "marker": {
             "colorbar": {
              "outlinewidth": 0,
              "ticks": ""
             }
            },
            "type": "scatterpolar"
           }
          ],
          "scatterpolargl": [
           {
            "marker": {
             "colorbar": {
              "outlinewidth": 0,
              "ticks": ""
             }
            },
            "type": "scatterpolargl"
           }
          ],
          "scatterternary": [
           {
            "marker": {
             "colorbar": {
              "outlinewidth": 0,
              "ticks": ""
             }
            },
            "type": "scatterternary"
           }
          ],
          "surface": [
           {
            "colorbar": {
             "outlinewidth": 0,
             "ticks": ""
            },
            "colorscale": [
             [
              0,
              "#0d0887"
             ],
             [
              0.1111111111111111,
              "#46039f"
             ],
             [
              0.2222222222222222,
              "#7201a8"
             ],
             [
              0.3333333333333333,
              "#9c179e"
             ],
             [
              0.4444444444444444,
              "#bd3786"
             ],
             [
              0.5555555555555556,
              "#d8576b"
             ],
             [
              0.6666666666666666,
              "#ed7953"
             ],
             [
              0.7777777777777778,
              "#fb9f3a"
             ],
             [
              0.8888888888888888,
              "#fdca26"
             ],
             [
              1,
              "#f0f921"
             ]
            ],
            "type": "surface"
           }
          ],
          "table": [
           {
            "cells": {
             "fill": {
              "color": "#EBF0F8"
             },
             "line": {
              "color": "white"
             }
            },
            "header": {
             "fill": {
              "color": "#C8D4E3"
             },
             "line": {
              "color": "white"
             }
            },
            "type": "table"
           }
          ]
         },
         "layout": {
          "annotationdefaults": {
           "arrowcolor": "#2a3f5f",
           "arrowhead": 0,
           "arrowwidth": 1
          },
          "autotypenumbers": "strict",
          "coloraxis": {
           "colorbar": {
            "outlinewidth": 0,
            "ticks": ""
           }
          },
          "colorscale": {
           "diverging": [
            [
             0,
             "#8e0152"
            ],
            [
             0.1,
             "#c51b7d"
            ],
            [
             0.2,
             "#de77ae"
            ],
            [
             0.3,
             "#f1b6da"
            ],
            [
             0.4,
             "#fde0ef"
            ],
            [
             0.5,
             "#f7f7f7"
            ],
            [
             0.6,
             "#e6f5d0"
            ],
            [
             0.7,
             "#b8e186"
            ],
            [
             0.8,
             "#7fbc41"
            ],
            [
             0.9,
             "#4d9221"
            ],
            [
             1,
             "#276419"
            ]
           ],
           "sequential": [
            [
             0,
             "#0d0887"
            ],
            [
             0.1111111111111111,
             "#46039f"
            ],
            [
             0.2222222222222222,
             "#7201a8"
            ],
            [
             0.3333333333333333,
             "#9c179e"
            ],
            [
             0.4444444444444444,
             "#bd3786"
            ],
            [
             0.5555555555555556,
             "#d8576b"
            ],
            [
             0.6666666666666666,
             "#ed7953"
            ],
            [
             0.7777777777777778,
             "#fb9f3a"
            ],
            [
             0.8888888888888888,
             "#fdca26"
            ],
            [
             1,
             "#f0f921"
            ]
           ],
           "sequentialminus": [
            [
             0,
             "#0d0887"
            ],
            [
             0.1111111111111111,
             "#46039f"
            ],
            [
             0.2222222222222222,
             "#7201a8"
            ],
            [
             0.3333333333333333,
             "#9c179e"
            ],
            [
             0.4444444444444444,
             "#bd3786"
            ],
            [
             0.5555555555555556,
             "#d8576b"
            ],
            [
             0.6666666666666666,
             "#ed7953"
            ],
            [
             0.7777777777777778,
             "#fb9f3a"
            ],
            [
             0.8888888888888888,
             "#fdca26"
            ],
            [
             1,
             "#f0f921"
            ]
           ]
          },
          "colorway": [
           "#636efa",
           "#EF553B",
           "#00cc96",
           "#ab63fa",
           "#FFA15A",
           "#19d3f3",
           "#FF6692",
           "#B6E880",
           "#FF97FF",
           "#FECB52"
          ],
          "font": {
           "color": "#2a3f5f"
          },
          "geo": {
           "bgcolor": "white",
           "lakecolor": "white",
           "landcolor": "#E5ECF6",
           "showlakes": true,
           "showland": true,
           "subunitcolor": "white"
          },
          "hoverlabel": {
           "align": "left"
          },
          "hovermode": "closest",
          "mapbox": {
           "style": "light"
          },
          "paper_bgcolor": "white",
          "plot_bgcolor": "#E5ECF6",
          "polar": {
           "angularaxis": {
            "gridcolor": "white",
            "linecolor": "white",
            "ticks": ""
           },
           "bgcolor": "#E5ECF6",
           "radialaxis": {
            "gridcolor": "white",
            "linecolor": "white",
            "ticks": ""
           }
          },
          "scene": {
           "xaxis": {
            "backgroundcolor": "#E5ECF6",
            "gridcolor": "white",
            "gridwidth": 2,
            "linecolor": "white",
            "showbackground": true,
            "ticks": "",
            "zerolinecolor": "white"
           },
           "yaxis": {
            "backgroundcolor": "#E5ECF6",
            "gridcolor": "white",
            "gridwidth": 2,
            "linecolor": "white",
            "showbackground": true,
            "ticks": "",
            "zerolinecolor": "white"
           },
           "zaxis": {
            "backgroundcolor": "#E5ECF6",
            "gridcolor": "white",
            "gridwidth": 2,
            "linecolor": "white",
            "showbackground": true,
            "ticks": "",
            "zerolinecolor": "white"
           }
          },
          "shapedefaults": {
           "line": {
            "color": "#2a3f5f"
           }
          },
          "ternary": {
           "aaxis": {
            "gridcolor": "white",
            "linecolor": "white",
            "ticks": ""
           },
           "baxis": {
            "gridcolor": "white",
            "linecolor": "white",
            "ticks": ""
           },
           "bgcolor": "#E5ECF6",
           "caxis": {
            "gridcolor": "white",
            "linecolor": "white",
            "ticks": ""
           }
          },
          "title": {
           "x": 0.05
          },
          "xaxis": {
           "automargin": true,
           "gridcolor": "white",
           "linecolor": "white",
           "ticks": "",
           "title": {
            "standoff": 15
           },
           "zerolinecolor": "white",
           "zerolinewidth": 2
          },
          "yaxis": {
           "automargin": true,
           "gridcolor": "white",
           "linecolor": "white",
           "ticks": "",
           "title": {
            "standoff": 15
           },
           "zerolinecolor": "white",
           "zerolinewidth": 2
          }
         }
        }
       }
      }
     },
     "metadata": {},
     "output_type": "display_data"
    }
   ],
   "source": [
    "e = EneryPlusCaseReader(CASE_NAME)\n",
    "e.geometry.plot_zones()"
   ]
  },
  {
   "cell_type": "code",
   "execution_count": 9,
   "metadata": {},
   "outputs": [
    {
     "data": {
      "text/plain": [
       "['surf_incident_solar_rad12-21',\n",
       " 'surf_incident_solar_rad7-21',\n",
       " 'surf_net_thermal_rad12-21',\n",
       " 'surf_net_thermal_rad7-21',\n",
       " 'zone_mean_air_temp12-21',\n",
       " 'zone_mean_air_temp7-21']"
      ]
     },
     "execution_count": 9,
     "metadata": {},
     "output_type": "execute_result"
    }
   ],
   "source": [
    "plt = Plotter(CASE_NAME)\n",
    "for o in outputs:\n",
    "    plt.request_output(o)\n",
    "\n",
    "plt.dataset_names"
   ]
  },
  {
   "cell_type": "code",
   "execution_count": 10,
   "metadata": {},
   "outputs": [
    {
     "name": "stdout",
     "output_type": "stream",
     "text": [
      "No data for Block 04 - North\n",
      "No data for Block 05 - North\n",
      "No data for Block 06 - North\n",
      "No data for Block 02 - East\n",
      "No data for Block 03 - East\n",
      "No data for Block 04 - East\n",
      "No data for Block 01 - South\n",
      "No data for Block 02 - South\n",
      "No data for Block 05 - South\n",
      "No data for Block 01 - West\n",
      "No data for Block 02 - West\n",
      "No data for Block 04 - West\n",
      "No data for Block 05 - West\n",
      "No data for Block 06 - West\n"
     ]
    },
    {
     "data": {
      "application/vnd.plotly.v1+json": {
       "config": {
        "plotlyServerURL": "https://plotly.com"
       },
       "data": [
        {
         "legendgroup": "01",
         "line": {
          "color": "rgb(99, 110, 250)"
         },
         "name": "01 Block",
         "type": "scatter",
         "x": [
          "2017-07-21T00:00:00",
          "2017-07-21T00:15:00",
          "2017-07-21T00:30:00",
          "2017-07-21T00:45:00",
          "2017-07-21T01:00:00",
          "2017-07-21T01:15:00",
          "2017-07-21T01:30:00",
          "2017-07-21T01:45:00",
          "2017-07-21T02:00:00",
          "2017-07-21T02:15:00",
          "2017-07-21T02:30:00",
          "2017-07-21T02:45:00",
          "2017-07-21T03:00:00",
          "2017-07-21T03:15:00",
          "2017-07-21T03:30:00",
          "2017-07-21T03:45:00",
          "2017-07-21T04:00:00",
          "2017-07-21T04:15:00",
          "2017-07-21T04:30:00",
          "2017-07-21T04:45:00",
          "2017-07-21T05:00:00",
          "2017-07-21T05:15:00",
          "2017-07-21T05:30:00",
          "2017-07-21T05:45:00",
          "2017-07-21T06:00:00",
          "2017-07-21T06:15:00",
          "2017-07-21T06:30:00",
          "2017-07-21T06:45:00",
          "2017-07-21T07:00:00",
          "2017-07-21T07:15:00",
          "2017-07-21T07:30:00",
          "2017-07-21T07:45:00",
          "2017-07-21T08:00:00",
          "2017-07-21T08:15:00",
          "2017-07-21T08:30:00",
          "2017-07-21T08:45:00",
          "2017-07-21T09:00:00",
          "2017-07-21T09:15:00",
          "2017-07-21T09:30:00",
          "2017-07-21T09:45:00",
          "2017-07-21T10:00:00",
          "2017-07-21T10:15:00",
          "2017-07-21T10:30:00",
          "2017-07-21T10:45:00",
          "2017-07-21T11:00:00",
          "2017-07-21T11:15:00",
          "2017-07-21T11:30:00",
          "2017-07-21T11:45:00",
          "2017-07-21T12:00:00",
          "2017-07-21T12:15:00",
          "2017-07-21T12:30:00",
          "2017-07-21T12:45:00",
          "2017-07-21T13:00:00",
          "2017-07-21T13:15:00",
          "2017-07-21T13:30:00",
          "2017-07-21T13:45:00",
          "2017-07-21T14:00:00",
          "2017-07-21T14:15:00",
          "2017-07-21T14:30:00",
          "2017-07-21T14:45:00",
          "2017-07-21T15:00:00",
          "2017-07-21T15:15:00",
          "2017-07-21T15:30:00",
          "2017-07-21T15:45:00",
          "2017-07-21T16:00:00",
          "2017-07-21T16:15:00",
          "2017-07-21T16:30:00",
          "2017-07-21T16:45:00",
          "2017-07-21T17:00:00",
          "2017-07-21T17:15:00",
          "2017-07-21T17:30:00",
          "2017-07-21T17:45:00",
          "2017-07-21T18:00:00",
          "2017-07-21T18:15:00",
          "2017-07-21T18:30:00",
          "2017-07-21T18:45:00",
          "2017-07-21T19:00:00",
          "2017-07-21T19:15:00",
          "2017-07-21T19:30:00",
          "2017-07-21T19:45:00",
          "2017-07-21T20:00:00",
          "2017-07-21T20:15:00",
          "2017-07-21T20:30:00",
          "2017-07-21T20:45:00",
          "2017-07-21T21:00:00",
          "2017-07-21T21:15:00",
          "2017-07-21T21:30:00",
          "2017-07-21T21:45:00",
          "2017-07-21T22:00:00",
          "2017-07-21T22:15:00",
          "2017-07-21T22:30:00",
          "2017-07-21T22:45:00",
          "2017-07-21T23:00:00",
          "2017-07-21T23:15:00",
          "2017-07-21T23:30:00",
          "2017-07-21T23:45:00"
         ],
         "xaxis": "x",
         "y": [
          113.53491760764264,
          125.10929368941756,
          136.94907400575653,
          144.39968898684984,
          146.10284739466152,
          140.3698964906058,
          125.31734795523705,
          99.6592213453751,
          68.29710475184302,
          32.9569916512734,
          6.225914368362535,
          0.00009617387640094372,
          0,
          0,
          0,
          0,
          0,
          0,
          0,
          0,
          0,
          0,
          0,
          0,
          0,
          0,
          0,
          0,
          0,
          0,
          0,
          0,
          0,
          0,
          0,
          0,
          0,
          0,
          0,
          0,
          0,
          0,
          0,
          0,
          0,
          0,
          0,
          0,
          0,
          0,
          0,
          0.3008727626053818,
          46.31723263582401,
          110.9690886200644,
          158.4577570563355,
          182.21258377299634,
          191.64648386231826,
          190.93001210577194,
          182.59979272992905,
          168.8004908553309,
          151.11634280151074,
          130.7317576949013,
          112.16601092171193,
          97.85694555426392,
          101.95644191861221,
          105.66060759958663,
          108.98752678182903,
          115.81284397231087,
          118.50578522190443,
          120.81456580179963,
          122.75207185852122,
          124.33265453580691,
          125.57382976807253,
          126.49834630757621,
          127.13667750599045,
          127.5297012338155,
          127.73055186598255,
          127.80314075149427,
          127.81345629756295,
          127.81185653779501,
          127.81337466906275,
          127.79079863426358,
          127.68684752336247,
          127.43467484272426,
          126.97309415412549,
          126.2527104440548,
          125.2360303948472,
          123.89517988590211,
          122.20922230737267,
          120.16178889631959,
          117.73913275682712,
          111.09949556097997,
          108.02859714896366,
          104.59012286038305,
          100.76957843609352,
          96.5470161621189
         ],
         "yaxis": "y"
        },
        {
         "legendgroup": "02",
         "line": {
          "color": "rgb(48, 180, 132)"
         },
         "name": "02 Block",
         "type": "scatter",
         "x": [
          "2017-07-21T00:00:00",
          "2017-07-21T00:15:00",
          "2017-07-21T00:30:00",
          "2017-07-21T00:45:00",
          "2017-07-21T01:00:00",
          "2017-07-21T01:15:00",
          "2017-07-21T01:30:00",
          "2017-07-21T01:45:00",
          "2017-07-21T02:00:00",
          "2017-07-21T02:15:00",
          "2017-07-21T02:30:00",
          "2017-07-21T02:45:00",
          "2017-07-21T03:00:00",
          "2017-07-21T03:15:00",
          "2017-07-21T03:30:00",
          "2017-07-21T03:45:00",
          "2017-07-21T04:00:00",
          "2017-07-21T04:15:00",
          "2017-07-21T04:30:00",
          "2017-07-21T04:45:00",
          "2017-07-21T05:00:00",
          "2017-07-21T05:15:00",
          "2017-07-21T05:30:00",
          "2017-07-21T05:45:00",
          "2017-07-21T06:00:00",
          "2017-07-21T06:15:00",
          "2017-07-21T06:30:00",
          "2017-07-21T06:45:00",
          "2017-07-21T07:00:00",
          "2017-07-21T07:15:00",
          "2017-07-21T07:30:00",
          "2017-07-21T07:45:00",
          "2017-07-21T08:00:00",
          "2017-07-21T08:15:00",
          "2017-07-21T08:30:00",
          "2017-07-21T08:45:00",
          "2017-07-21T09:00:00",
          "2017-07-21T09:15:00",
          "2017-07-21T09:30:00",
          "2017-07-21T09:45:00",
          "2017-07-21T10:00:00",
          "2017-07-21T10:15:00",
          "2017-07-21T10:30:00",
          "2017-07-21T10:45:00",
          "2017-07-21T11:00:00",
          "2017-07-21T11:15:00",
          "2017-07-21T11:30:00",
          "2017-07-21T11:45:00",
          "2017-07-21T12:00:00",
          "2017-07-21T12:15:00",
          "2017-07-21T12:30:00",
          "2017-07-21T12:45:00",
          "2017-07-21T13:00:00",
          "2017-07-21T13:15:00",
          "2017-07-21T13:30:00",
          "2017-07-21T13:45:00",
          "2017-07-21T14:00:00",
          "2017-07-21T14:15:00",
          "2017-07-21T14:30:00",
          "2017-07-21T14:45:00",
          "2017-07-21T15:00:00",
          "2017-07-21T15:15:00",
          "2017-07-21T15:30:00",
          "2017-07-21T15:45:00",
          "2017-07-21T16:00:00",
          "2017-07-21T16:15:00",
          "2017-07-21T16:30:00",
          "2017-07-21T16:45:00",
          "2017-07-21T17:00:00",
          "2017-07-21T17:15:00",
          "2017-07-21T17:30:00",
          "2017-07-21T17:45:00",
          "2017-07-21T18:00:00",
          "2017-07-21T18:15:00",
          "2017-07-21T18:30:00",
          "2017-07-21T18:45:00",
          "2017-07-21T19:00:00",
          "2017-07-21T19:15:00",
          "2017-07-21T19:30:00",
          "2017-07-21T19:45:00",
          "2017-07-21T20:00:00",
          "2017-07-21T20:15:00",
          "2017-07-21T20:30:00",
          "2017-07-21T20:45:00",
          "2017-07-21T21:00:00",
          "2017-07-21T21:15:00",
          "2017-07-21T21:30:00",
          "2017-07-21T21:45:00",
          "2017-07-21T22:00:00",
          "2017-07-21T22:15:00",
          "2017-07-21T22:30:00",
          "2017-07-21T22:45:00",
          "2017-07-21T23:00:00",
          "2017-07-21T23:15:00",
          "2017-07-21T23:30:00",
          "2017-07-21T23:45:00"
         ],
         "xaxis": "x",
         "y": [
          126.08671050378072,
          143.64416756899408,
          163.1184153332218,
          179.5011054750651,
          191.48740460761348,
          197.32506215661382,
          194.89600156770348,
          180.18180364748707,
          146.36879200497683,
          83.75959730534026,
          15.688260493201323,
          0.0001656297051833255,
          0,
          0,
          0,
          0,
          0,
          0,
          0,
          0,
          0,
          0,
          0,
          0,
          0,
          0,
          0,
          0,
          0,
          0,
          0,
          0,
          0,
          0,
          0,
          0,
          0,
          0,
          0,
          0,
          0,
          0,
          0,
          0,
          0,
          0,
          0,
          0,
          0,
          0,
          0,
          0.20995232217743234,
          33.500275426258334,
          103.38855328218285,
          158.8534445999557,
          186.29493426993085,
          196.51200951589402,
          196.3467446994523,
          188.44805897604,
          174.9827713505397,
          157.55253274452735,
          137.3555738052674,
          119.45019992412948,
          105.20378640456131,
          109.32004134677368,
          113.00206091066502,
          116.27387574265894,
          122.83628903530906,
          125.35988702630178,
          127.47539757147725,
          129.20080493736947,
          130.5556844092815,
          131.56320782199745,
          132.2525969546745,
          132.6620896054107,
          132.84213497758134,
          132.85760050860077,
          132.7859907005209,
          132.70701931030504,
          132.68139395200643,
          132.72722248214328,
          132.81172270210013,
          132.86580911418446,
          132.8086559435035,
          132.56594032201906,
          132.07719402411118,
          131.29594522179116,
          130.18699685594856,
          128.7232302238761,
          126.88278656844454,
          124.64676170021812,
          118.33043383261271,
          115.33461105213956,
          111.94193016626133,
          108.13253171903641,
          103.88023669389864
         ],
         "yaxis": "y"
        },
        {
         "legendgroup": "03",
         "line": {
          "color": "rgb(221, 136, 154)"
         },
         "name": "03 Block",
         "type": "scatter",
         "x": [
          "2017-07-21T00:00:00",
          "2017-07-21T00:15:00",
          "2017-07-21T00:30:00",
          "2017-07-21T00:45:00",
          "2017-07-21T01:00:00",
          "2017-07-21T01:15:00",
          "2017-07-21T01:30:00",
          "2017-07-21T01:45:00",
          "2017-07-21T02:00:00",
          "2017-07-21T02:15:00",
          "2017-07-21T02:30:00",
          "2017-07-21T02:45:00",
          "2017-07-21T03:00:00",
          "2017-07-21T03:15:00",
          "2017-07-21T03:30:00",
          "2017-07-21T03:45:00",
          "2017-07-21T04:00:00",
          "2017-07-21T04:15:00",
          "2017-07-21T04:30:00",
          "2017-07-21T04:45:00",
          "2017-07-21T05:00:00",
          "2017-07-21T05:15:00",
          "2017-07-21T05:30:00",
          "2017-07-21T05:45:00",
          "2017-07-21T06:00:00",
          "2017-07-21T06:15:00",
          "2017-07-21T06:30:00",
          "2017-07-21T06:45:00",
          "2017-07-21T07:00:00",
          "2017-07-21T07:15:00",
          "2017-07-21T07:30:00",
          "2017-07-21T07:45:00",
          "2017-07-21T08:00:00",
          "2017-07-21T08:15:00",
          "2017-07-21T08:30:00",
          "2017-07-21T08:45:00",
          "2017-07-21T09:00:00",
          "2017-07-21T09:15:00",
          "2017-07-21T09:30:00",
          "2017-07-21T09:45:00",
          "2017-07-21T10:00:00",
          "2017-07-21T10:15:00",
          "2017-07-21T10:30:00",
          "2017-07-21T10:45:00",
          "2017-07-21T11:00:00",
          "2017-07-21T11:15:00",
          "2017-07-21T11:30:00",
          "2017-07-21T11:45:00",
          "2017-07-21T12:00:00",
          "2017-07-21T12:15:00",
          "2017-07-21T12:30:00",
          "2017-07-21T12:45:00",
          "2017-07-21T13:00:00",
          "2017-07-21T13:15:00",
          "2017-07-21T13:30:00",
          "2017-07-21T13:45:00",
          "2017-07-21T14:00:00",
          "2017-07-21T14:15:00",
          "2017-07-21T14:30:00",
          "2017-07-21T14:45:00",
          "2017-07-21T15:00:00",
          "2017-07-21T15:15:00",
          "2017-07-21T15:30:00",
          "2017-07-21T15:45:00",
          "2017-07-21T16:00:00",
          "2017-07-21T16:15:00",
          "2017-07-21T16:30:00",
          "2017-07-21T16:45:00",
          "2017-07-21T17:00:00",
          "2017-07-21T17:15:00",
          "2017-07-21T17:30:00",
          "2017-07-21T17:45:00",
          "2017-07-21T18:00:00",
          "2017-07-21T18:15:00",
          "2017-07-21T18:30:00",
          "2017-07-21T18:45:00",
          "2017-07-21T19:00:00",
          "2017-07-21T19:15:00",
          "2017-07-21T19:30:00",
          "2017-07-21T19:45:00",
          "2017-07-21T20:00:00",
          "2017-07-21T20:15:00",
          "2017-07-21T20:30:00",
          "2017-07-21T20:45:00",
          "2017-07-21T21:00:00",
          "2017-07-21T21:15:00",
          "2017-07-21T21:30:00",
          "2017-07-21T21:45:00",
          "2017-07-21T22:00:00",
          "2017-07-21T22:15:00",
          "2017-07-21T22:30:00",
          "2017-07-21T22:45:00",
          "2017-07-21T23:00:00",
          "2017-07-21T23:15:00",
          "2017-07-21T23:30:00",
          "2017-07-21T23:45:00"
         ],
         "xaxis": "x",
         "y": [
          118.83145682841531,
          137.0703623271992,
          156.7508398794121,
          173.40986521877971,
          185.75740448376257,
          192.05990455179844,
          190.20468100046858,
          176.75893208033224,
          147.95534713618008,
          93.87615140312255,
          24.088988662364127,
          0.00021520578275938292,
          0,
          0,
          0,
          0,
          0,
          0,
          0,
          0,
          0,
          0,
          0,
          0,
          0,
          0,
          0,
          0,
          0,
          0,
          0,
          0,
          0,
          0,
          0,
          0,
          0,
          0,
          0,
          0,
          0,
          0,
          0,
          0,
          0,
          0,
          0,
          0,
          0,
          0,
          0,
          0.10154848283473271,
          12.709920519605818,
          42.5955993377755,
          78.09348380604834,
          108.15778533821658,
          130.8582092164949,
          142.9841946396636,
          146.28892581000602,
          142.70079955352148,
          133.80500247487333,
          120.87122802928174,
          108.58664844345411,
          97.85694519351026,
          101.95644155279773,
          105.66060723085606,
          108.98752641205148,
          115.81284365517853,
          118.50578491379778,
          120.81456550404992,
          122.75207157218718,
          124.3326542616649,
          125.57382950659063,
          126.49834605886767,
          127.13667726974118,
          127.52970100918358,
          127.73055165147814,
          127.80314054487648,
          127.81345609583231,
          127.8118563373799,
          127.81337446622159,
          127.7907984255627,
          127.68684730602072,
          127.4346746147331,
          126.9730939142021,
          126.25271019152764,
          125.23603012953964,
          123.89517960804011,
          122.20922201752063,
          120.16178859534048,
          117.73913244586176,
          111.0994951914486,
          108.02859677931906,
          104.5901224923188,
          100.76957807155816,
          96.5470158033461
         ],
         "yaxis": "y"
        },
        {
         "legendgroup": "01",
         "line": {
          "color": "rgb(99, 110, 250)"
         },
         "name": "01 Block",
         "type": "scatter",
         "x": [
          "2017-07-21T00:00:00",
          "2017-07-21T00:15:00",
          "2017-07-21T00:30:00",
          "2017-07-21T00:45:00",
          "2017-07-21T01:00:00",
          "2017-07-21T01:15:00",
          "2017-07-21T01:30:00",
          "2017-07-21T01:45:00",
          "2017-07-21T02:00:00",
          "2017-07-21T02:15:00",
          "2017-07-21T02:30:00",
          "2017-07-21T02:45:00",
          "2017-07-21T03:00:00",
          "2017-07-21T03:15:00",
          "2017-07-21T03:30:00",
          "2017-07-21T03:45:00",
          "2017-07-21T04:00:00",
          "2017-07-21T04:15:00",
          "2017-07-21T04:30:00",
          "2017-07-21T04:45:00",
          "2017-07-21T05:00:00",
          "2017-07-21T05:15:00",
          "2017-07-21T05:30:00",
          "2017-07-21T05:45:00",
          "2017-07-21T06:00:00",
          "2017-07-21T06:15:00",
          "2017-07-21T06:30:00",
          "2017-07-21T06:45:00",
          "2017-07-21T07:00:00",
          "2017-07-21T07:15:00",
          "2017-07-21T07:30:00",
          "2017-07-21T07:45:00",
          "2017-07-21T08:00:00",
          "2017-07-21T08:15:00",
          "2017-07-21T08:30:00",
          "2017-07-21T08:45:00",
          "2017-07-21T09:00:00",
          "2017-07-21T09:15:00",
          "2017-07-21T09:30:00",
          "2017-07-21T09:45:00",
          "2017-07-21T10:00:00",
          "2017-07-21T10:15:00",
          "2017-07-21T10:30:00",
          "2017-07-21T10:45:00",
          "2017-07-21T11:00:00",
          "2017-07-21T11:15:00",
          "2017-07-21T11:30:00",
          "2017-07-21T11:45:00",
          "2017-07-21T12:00:00",
          "2017-07-21T12:15:00",
          "2017-07-21T12:30:00",
          "2017-07-21T12:45:00",
          "2017-07-21T13:00:00",
          "2017-07-21T13:15:00",
          "2017-07-21T13:30:00",
          "2017-07-21T13:45:00",
          "2017-07-21T14:00:00",
          "2017-07-21T14:15:00",
          "2017-07-21T14:30:00",
          "2017-07-21T14:45:00",
          "2017-07-21T15:00:00",
          "2017-07-21T15:15:00",
          "2017-07-21T15:30:00",
          "2017-07-21T15:45:00",
          "2017-07-21T16:00:00",
          "2017-07-21T16:15:00",
          "2017-07-21T16:30:00",
          "2017-07-21T16:45:00",
          "2017-07-21T17:00:00",
          "2017-07-21T17:15:00",
          "2017-07-21T17:30:00",
          "2017-07-21T17:45:00",
          "2017-07-21T18:00:00",
          "2017-07-21T18:15:00",
          "2017-07-21T18:30:00",
          "2017-07-21T18:45:00",
          "2017-07-21T19:00:00",
          "2017-07-21T19:15:00",
          "2017-07-21T19:30:00",
          "2017-07-21T19:45:00",
          "2017-07-21T20:00:00",
          "2017-07-21T20:15:00",
          "2017-07-21T20:30:00",
          "2017-07-21T20:45:00",
          "2017-07-21T21:00:00",
          "2017-07-21T21:15:00",
          "2017-07-21T21:30:00",
          "2017-07-21T21:45:00",
          "2017-07-21T22:00:00",
          "2017-07-21T22:15:00",
          "2017-07-21T22:30:00",
          "2017-07-21T22:45:00",
          "2017-07-21T23:00:00",
          "2017-07-21T23:15:00",
          "2017-07-21T23:30:00",
          "2017-07-21T23:45:00"
         ],
         "xaxis": "x2",
         "y": [
          91.89458661726938,
          82.87357245804537,
          77.28176572961837,
          71.14049673774959,
          64.35390148108061,
          56.787532479414466,
          48.27369670912351,
          38.546290181266585,
          27.38416907820947,
          13.987986147690323,
          3.1989310084147675,
          0.00007633507499119912,
          0,
          0,
          0,
          0,
          0,
          0,
          0,
          0,
          0,
          0,
          0,
          0,
          0,
          0,
          0,
          0,
          0,
          0,
          0,
          0,
          0,
          0,
          0,
          0,
          0,
          0,
          0,
          0,
          0,
          0,
          0,
          0,
          0,
          0,
          0,
          0,
          0,
          0,
          0,
          0.6399409780050399,
          102.287297689749,
          266.764225924451,
          414.0644587533557,
          522.1109816408535,
          605.9056801821097,
          670.979531218017,
          719.5955849623431,
          754.4752270999147,
          777.7099020498556,
          790.9019418399661,
          788.4757090169,
          784.3477868315869,
          770.50006586455,
          751.098713485949,
          726.640342504657,
          685.8276481776517,
          653.3079098301274,
          617.031046157625,
          577.3230298201461,
          534.502043268004,
          488.8839246199901,
          440.787187593577,
          390.53803163162985,
          338.4754794391391,
          284.95614646879693,
          230.35615707494537,
          175.0654693598427,
          127.81185638875688,
          127.81337451850384,
          127.79079848003049,
          127.68684736370864,
          127.43467467638483,
          126.97309398028831,
          126.2527102622891,
          125.23603020503123,
          123.89517968816598,
          122.20922210205859,
          120.16178868395767,
          117.73913253812324,
          111.09949532001322,
          108.02859690651252,
          104.5901226174772,
          100.7695781939362,
          96.54701592211187
         ],
         "yaxis": "y2"
        },
        {
         "legendgroup": "05",
         "line": {
          "color": "rgb(197, 216, 153)"
         },
         "name": "05 Block",
         "type": "scatter",
         "x": [
          "2017-07-21T00:00:00",
          "2017-07-21T00:15:00",
          "2017-07-21T00:30:00",
          "2017-07-21T00:45:00",
          "2017-07-21T01:00:00",
          "2017-07-21T01:15:00",
          "2017-07-21T01:30:00",
          "2017-07-21T01:45:00",
          "2017-07-21T02:00:00",
          "2017-07-21T02:15:00",
          "2017-07-21T02:30:00",
          "2017-07-21T02:45:00",
          "2017-07-21T03:00:00",
          "2017-07-21T03:15:00",
          "2017-07-21T03:30:00",
          "2017-07-21T03:45:00",
          "2017-07-21T04:00:00",
          "2017-07-21T04:15:00",
          "2017-07-21T04:30:00",
          "2017-07-21T04:45:00",
          "2017-07-21T05:00:00",
          "2017-07-21T05:15:00",
          "2017-07-21T05:30:00",
          "2017-07-21T05:45:00",
          "2017-07-21T06:00:00",
          "2017-07-21T06:15:00",
          "2017-07-21T06:30:00",
          "2017-07-21T06:45:00",
          "2017-07-21T07:00:00",
          "2017-07-21T07:15:00",
          "2017-07-21T07:30:00",
          "2017-07-21T07:45:00",
          "2017-07-21T08:00:00",
          "2017-07-21T08:15:00",
          "2017-07-21T08:30:00",
          "2017-07-21T08:45:00",
          "2017-07-21T09:00:00",
          "2017-07-21T09:15:00",
          "2017-07-21T09:30:00",
          "2017-07-21T09:45:00",
          "2017-07-21T10:00:00",
          "2017-07-21T10:15:00",
          "2017-07-21T10:30:00",
          "2017-07-21T10:45:00",
          "2017-07-21T11:00:00",
          "2017-07-21T11:15:00",
          "2017-07-21T11:30:00",
          "2017-07-21T11:45:00",
          "2017-07-21T12:00:00",
          "2017-07-21T12:15:00",
          "2017-07-21T12:30:00",
          "2017-07-21T12:45:00",
          "2017-07-21T13:00:00",
          "2017-07-21T13:15:00",
          "2017-07-21T13:30:00",
          "2017-07-21T13:45:00",
          "2017-07-21T14:00:00",
          "2017-07-21T14:15:00",
          "2017-07-21T14:30:00",
          "2017-07-21T14:45:00",
          "2017-07-21T15:00:00",
          "2017-07-21T15:15:00",
          "2017-07-21T15:30:00",
          "2017-07-21T15:45:00",
          "2017-07-21T16:00:00",
          "2017-07-21T16:15:00",
          "2017-07-21T16:30:00",
          "2017-07-21T16:45:00",
          "2017-07-21T17:00:00",
          "2017-07-21T17:15:00",
          "2017-07-21T17:30:00",
          "2017-07-21T17:45:00",
          "2017-07-21T18:00:00",
          "2017-07-21T18:15:00",
          "2017-07-21T18:30:00",
          "2017-07-21T18:45:00",
          "2017-07-21T19:00:00",
          "2017-07-21T19:15:00",
          "2017-07-21T19:30:00",
          "2017-07-21T19:45:00",
          "2017-07-21T20:00:00",
          "2017-07-21T20:15:00",
          "2017-07-21T20:30:00",
          "2017-07-21T20:45:00",
          "2017-07-21T21:00:00",
          "2017-07-21T21:15:00",
          "2017-07-21T21:30:00",
          "2017-07-21T21:45:00",
          "2017-07-21T22:00:00",
          "2017-07-21T22:15:00",
          "2017-07-21T22:30:00",
          "2017-07-21T22:45:00",
          "2017-07-21T23:00:00",
          "2017-07-21T23:15:00",
          "2017-07-21T23:30:00",
          "2017-07-21T23:45:00"
         ],
         "xaxis": "x2",
         "y": [
          98.53390264205736,
          88.88821127992911,
          83.11152353357035,
          76.7210266725077,
          69.60709521223734,
          61.61782378233957,
          52.579475498333366,
          42.16865952771826,
          30.13739243822338,
          15.350617486835548,
          3.549281237834708,
          0.00008545661477790262,
          0,
          0,
          0,
          0,
          0,
          0,
          0,
          0,
          0,
          0,
          0,
          0,
          0,
          0,
          0,
          0,
          0,
          0,
          0,
          0,
          0,
          0,
          0,
          0,
          0,
          0,
          0,
          0,
          0,
          0,
          0,
          0,
          0,
          0,
          0,
          0,
          0,
          0,
          0,
          0.5343638520877504,
          100.35104734407561,
          268.42614895054277,
          417.10062634291944,
          525.9557675866995,
          610.3712709455043,
          675.947894223408,
          724.9560951020435,
          760.1380060029211,
          783.6013106327051,
          796.9611785281336,
          795.1405177046282,
          792.5281132137054,
          782.7565749037396,
          766.5139395057915,
          744.3895803596546,
          704.6969838336059,
          673.0195873363855,
          637.0045379826947,
          597.0439988184453,
          553.5185213779242,
          506.8036814423451,
          457.2761144451262,
          405.3195059237458,
          351.3307322786561,
          295.72538285794894,
          238.9398346569758,
          181.4244507370644,
          132.29278946231878,
          132.33465268480944,
          132.40957276425559,
          132.44952500635634,
          132.3749397652914,
          132.112674367843,
          131.60325508567394,
          130.8010159431703,
          129.6714163880776,
          128.18789090216936,
          126.3290705832492,
          124.07650958511749,
          117.70213311980429,
          114.70243992522418,
          111.30857344896515,
          107.50112669977203,
          103.25443837646445
         ],
         "yaxis": "y2"
        },
        {
         "legendgroup": "06",
         "line": {
          "color": "rgb(254, 203, 82)"
         },
         "name": "06 Block",
         "type": "scatter",
         "x": [
          "2017-07-21T00:00:00",
          "2017-07-21T00:15:00",
          "2017-07-21T00:30:00",
          "2017-07-21T00:45:00",
          "2017-07-21T01:00:00",
          "2017-07-21T01:15:00",
          "2017-07-21T01:30:00",
          "2017-07-21T01:45:00",
          "2017-07-21T02:00:00",
          "2017-07-21T02:15:00",
          "2017-07-21T02:30:00",
          "2017-07-21T02:45:00",
          "2017-07-21T03:00:00",
          "2017-07-21T03:15:00",
          "2017-07-21T03:30:00",
          "2017-07-21T03:45:00",
          "2017-07-21T04:00:00",
          "2017-07-21T04:15:00",
          "2017-07-21T04:30:00",
          "2017-07-21T04:45:00",
          "2017-07-21T05:00:00",
          "2017-07-21T05:15:00",
          "2017-07-21T05:30:00",
          "2017-07-21T05:45:00",
          "2017-07-21T06:00:00",
          "2017-07-21T06:15:00",
          "2017-07-21T06:30:00",
          "2017-07-21T06:45:00",
          "2017-07-21T07:00:00",
          "2017-07-21T07:15:00",
          "2017-07-21T07:30:00",
          "2017-07-21T07:45:00",
          "2017-07-21T08:00:00",
          "2017-07-21T08:15:00",
          "2017-07-21T08:30:00",
          "2017-07-21T08:45:00",
          "2017-07-21T09:00:00",
          "2017-07-21T09:15:00",
          "2017-07-21T09:30:00",
          "2017-07-21T09:45:00",
          "2017-07-21T10:00:00",
          "2017-07-21T10:15:00",
          "2017-07-21T10:30:00",
          "2017-07-21T10:45:00",
          "2017-07-21T11:00:00",
          "2017-07-21T11:15:00",
          "2017-07-21T11:30:00",
          "2017-07-21T11:45:00",
          "2017-07-21T12:00:00",
          "2017-07-21T12:15:00",
          "2017-07-21T12:30:00",
          "2017-07-21T12:45:00",
          "2017-07-21T13:00:00",
          "2017-07-21T13:15:00",
          "2017-07-21T13:30:00",
          "2017-07-21T13:45:00",
          "2017-07-21T14:00:00",
          "2017-07-21T14:15:00",
          "2017-07-21T14:30:00",
          "2017-07-21T14:45:00",
          "2017-07-21T15:00:00",
          "2017-07-21T15:15:00",
          "2017-07-21T15:30:00",
          "2017-07-21T15:45:00",
          "2017-07-21T16:00:00",
          "2017-07-21T16:15:00",
          "2017-07-21T16:30:00",
          "2017-07-21T16:45:00",
          "2017-07-21T17:00:00",
          "2017-07-21T17:15:00",
          "2017-07-21T17:30:00",
          "2017-07-21T17:45:00",
          "2017-07-21T18:00:00",
          "2017-07-21T18:15:00",
          "2017-07-21T18:30:00",
          "2017-07-21T18:45:00",
          "2017-07-21T19:00:00",
          "2017-07-21T19:15:00",
          "2017-07-21T19:30:00",
          "2017-07-21T19:45:00",
          "2017-07-21T20:00:00",
          "2017-07-21T20:15:00",
          "2017-07-21T20:30:00",
          "2017-07-21T20:45:00",
          "2017-07-21T21:00:00",
          "2017-07-21T21:15:00",
          "2017-07-21T21:30:00",
          "2017-07-21T21:45:00",
          "2017-07-21T22:00:00",
          "2017-07-21T22:15:00",
          "2017-07-21T22:30:00",
          "2017-07-21T22:45:00",
          "2017-07-21T23:00:00",
          "2017-07-21T23:15:00",
          "2017-07-21T23:30:00",
          "2017-07-21T23:45:00"
         ],
         "xaxis": "x2",
         "y": [
          91.89458690394572,
          82.87357271913896,
          77.28176597778877,
          71.14049697046671,
          64.3539016955011,
          56.78753267238841,
          48.27369687866718,
          38.54629032261861,
          27.384169186916594,
          13.987986195973322,
          3.198931021815083,
          0.0000763350753520194,
          0,
          0,
          0,
          0,
          0,
          0,
          0,
          0,
          0,
          0,
          0,
          0,
          0,
          0,
          0,
          0,
          0,
          0,
          0,
          0,
          0,
          0,
          0,
          0,
          0,
          0,
          0,
          0,
          0,
          0,
          0,
          0,
          0,
          0,
          0,
          0,
          0,
          0,
          0,
          0.22200649503061473,
          44.23520557033291,
          179.62062844022853,
          327.87603624571653,
          447.84449194759986,
          545.1171931239226,
          623.0335285579486,
          683.2845671737985,
          728.3754224561677,
          760.3984578996012,
          781.0412541650124,
          784.8962659858522,
          785.8091696389793,
          776.02532453621,
          759.8057950737574,
          737.73450463816,
          698.2540311635424,
          666.7309988510375,
          630.8920841616838,
          591.124803522095,
          547.8049492208108,
          501.3029462855799,
          451.989536721977,
          400.2413379950388,
          346.4465144347558,
          291.0099762184543,
          234.35572849370135,
          176.92164232180485,
          127.81185655034209,
          127.81337468209291,
          127.7907986484594,
          127.686847539274,
          127.43467486074469,
          126.9730941745009,
          126.25271046690743,
          125.23603042019937,
          123.89517991369527,
          122.20922233748095,
          120.16178892855848,
          117.7391327909586,
          111.09949562366329,
          108.02859721001741,
          104.59012291943264,
          100.76957849272968,
          96.54701621589864
         ],
         "yaxis": "y2"
        },
        {
         "legendgroup": "03",
         "line": {
          "color": "rgb(221, 136, 154)"
         },
         "name": "03 Block",
         "type": "scatter",
         "x": [
          "2017-07-21T00:00:00",
          "2017-07-21T00:15:00",
          "2017-07-21T00:30:00",
          "2017-07-21T00:45:00",
          "2017-07-21T01:00:00",
          "2017-07-21T01:15:00",
          "2017-07-21T01:30:00",
          "2017-07-21T01:45:00",
          "2017-07-21T02:00:00",
          "2017-07-21T02:15:00",
          "2017-07-21T02:30:00",
          "2017-07-21T02:45:00",
          "2017-07-21T03:00:00",
          "2017-07-21T03:15:00",
          "2017-07-21T03:30:00",
          "2017-07-21T03:45:00",
          "2017-07-21T04:00:00",
          "2017-07-21T04:15:00",
          "2017-07-21T04:30:00",
          "2017-07-21T04:45:00",
          "2017-07-21T05:00:00",
          "2017-07-21T05:15:00",
          "2017-07-21T05:30:00",
          "2017-07-21T05:45:00",
          "2017-07-21T06:00:00",
          "2017-07-21T06:15:00",
          "2017-07-21T06:30:00",
          "2017-07-21T06:45:00",
          "2017-07-21T07:00:00",
          "2017-07-21T07:15:00",
          "2017-07-21T07:30:00",
          "2017-07-21T07:45:00",
          "2017-07-21T08:00:00",
          "2017-07-21T08:15:00",
          "2017-07-21T08:30:00",
          "2017-07-21T08:45:00",
          "2017-07-21T09:00:00",
          "2017-07-21T09:15:00",
          "2017-07-21T09:30:00",
          "2017-07-21T09:45:00",
          "2017-07-21T10:00:00",
          "2017-07-21T10:15:00",
          "2017-07-21T10:30:00",
          "2017-07-21T10:45:00",
          "2017-07-21T11:00:00",
          "2017-07-21T11:15:00",
          "2017-07-21T11:30:00",
          "2017-07-21T11:45:00",
          "2017-07-21T12:00:00",
          "2017-07-21T12:15:00",
          "2017-07-21T12:30:00",
          "2017-07-21T12:45:00",
          "2017-07-21T13:00:00",
          "2017-07-21T13:15:00",
          "2017-07-21T13:30:00",
          "2017-07-21T13:45:00",
          "2017-07-21T14:00:00",
          "2017-07-21T14:15:00",
          "2017-07-21T14:30:00",
          "2017-07-21T14:45:00",
          "2017-07-21T15:00:00",
          "2017-07-21T15:15:00",
          "2017-07-21T15:30:00",
          "2017-07-21T15:45:00",
          "2017-07-21T16:00:00",
          "2017-07-21T16:15:00",
          "2017-07-21T16:30:00",
          "2017-07-21T16:45:00",
          "2017-07-21T17:00:00",
          "2017-07-21T17:15:00",
          "2017-07-21T17:30:00",
          "2017-07-21T17:45:00",
          "2017-07-21T18:00:00",
          "2017-07-21T18:15:00",
          "2017-07-21T18:30:00",
          "2017-07-21T18:45:00",
          "2017-07-21T19:00:00",
          "2017-07-21T19:15:00",
          "2017-07-21T19:30:00",
          "2017-07-21T19:45:00",
          "2017-07-21T20:00:00",
          "2017-07-21T20:15:00",
          "2017-07-21T20:30:00",
          "2017-07-21T20:45:00",
          "2017-07-21T21:00:00",
          "2017-07-21T21:15:00",
          "2017-07-21T21:30:00",
          "2017-07-21T21:45:00",
          "2017-07-21T22:00:00",
          "2017-07-21T22:15:00",
          "2017-07-21T22:30:00",
          "2017-07-21T22:45:00",
          "2017-07-21T23:00:00",
          "2017-07-21T23:15:00",
          "2017-07-21T23:30:00",
          "2017-07-21T23:45:00"
         ],
         "xaxis": "x3",
         "y": [
          91.8945865030377,
          82.87357235344068,
          77.28176563217826,
          71.14049664838093,
          64.35390140070056,
          56.78753240887981,
          48.27369664824431,
          38.54629013108367,
          27.38416903904258,
          13.98798613275571,
          3.19893100377971,
          0.00007633507486089799,
          0,
          0,
          0,
          0,
          0,
          0,
          0,
          0,
          0,
          0,
          0,
          0,
          0,
          0,
          0,
          0,
          0,
          0,
          0,
          0,
          0,
          0,
          0,
          0,
          0,
          0,
          0,
          0,
          0,
          0,
          0,
          0,
          0,
          0,
          0,
          0,
          0,
          0,
          0,
          0.06832776960476121,
          6.009784189708122,
          17.569189893107666,
          30.889850209569012,
          41.60483243572502,
          50.929465224617076,
          59.14828227526237,
          66.46392329353338,
          73.0448683697941,
          79.0127603738226,
          84.45405281744397,
          93.33693721724781,
          104.98247975624723,
          132.6212291779515,
          160.4914127169031,
          188.15527446602846,
          216.34640786548573,
          241.9104507913429,
          266.24052942237586,
          289.0941511365163,
          310.25791077591094,
          329.5453259155695,
          346.79578756171196,
          361.87452110498737,
          374.6730357412224,
          385.1096653891347,
          393.1275222287546,
          398.6878206250417,
          401.4284896151257,
          399.7857209808418,
          395.60665021614216,
          388.8769199944549,
          379.591753021585,
          367.7670539555876,
          353.4440223494574,
          336.68959964807135,
          317.5954590049801,
          296.277058519439,
          272.87337254905214,
          247.54752874791467,
          219.53096558632686,
          190.36127053543882,
          159.97661951427904,
          128.68999485581315,
          96.87007516077169
         ],
         "yaxis": "y3"
        },
        {
         "legendgroup": "04",
         "line": {
          "color": "rgb(117, 167, 204)"
         },
         "name": "04 Block",
         "type": "scatter",
         "x": [
          "2017-07-21T00:00:00",
          "2017-07-21T00:15:00",
          "2017-07-21T00:30:00",
          "2017-07-21T00:45:00",
          "2017-07-21T01:00:00",
          "2017-07-21T01:15:00",
          "2017-07-21T01:30:00",
          "2017-07-21T01:45:00",
          "2017-07-21T02:00:00",
          "2017-07-21T02:15:00",
          "2017-07-21T02:30:00",
          "2017-07-21T02:45:00",
          "2017-07-21T03:00:00",
          "2017-07-21T03:15:00",
          "2017-07-21T03:30:00",
          "2017-07-21T03:45:00",
          "2017-07-21T04:00:00",
          "2017-07-21T04:15:00",
          "2017-07-21T04:30:00",
          "2017-07-21T04:45:00",
          "2017-07-21T05:00:00",
          "2017-07-21T05:15:00",
          "2017-07-21T05:30:00",
          "2017-07-21T05:45:00",
          "2017-07-21T06:00:00",
          "2017-07-21T06:15:00",
          "2017-07-21T06:30:00",
          "2017-07-21T06:45:00",
          "2017-07-21T07:00:00",
          "2017-07-21T07:15:00",
          "2017-07-21T07:30:00",
          "2017-07-21T07:45:00",
          "2017-07-21T08:00:00",
          "2017-07-21T08:15:00",
          "2017-07-21T08:30:00",
          "2017-07-21T08:45:00",
          "2017-07-21T09:00:00",
          "2017-07-21T09:15:00",
          "2017-07-21T09:30:00",
          "2017-07-21T09:45:00",
          "2017-07-21T10:00:00",
          "2017-07-21T10:15:00",
          "2017-07-21T10:30:00",
          "2017-07-21T10:45:00",
          "2017-07-21T11:00:00",
          "2017-07-21T11:15:00",
          "2017-07-21T11:30:00",
          "2017-07-21T11:45:00",
          "2017-07-21T12:00:00",
          "2017-07-21T12:15:00",
          "2017-07-21T12:30:00",
          "2017-07-21T12:45:00",
          "2017-07-21T13:00:00",
          "2017-07-21T13:15:00",
          "2017-07-21T13:30:00",
          "2017-07-21T13:45:00",
          "2017-07-21T14:00:00",
          "2017-07-21T14:15:00",
          "2017-07-21T14:30:00",
          "2017-07-21T14:45:00",
          "2017-07-21T15:00:00",
          "2017-07-21T15:15:00",
          "2017-07-21T15:30:00",
          "2017-07-21T15:45:00",
          "2017-07-21T16:00:00",
          "2017-07-21T16:15:00",
          "2017-07-21T16:30:00",
          "2017-07-21T16:45:00",
          "2017-07-21T17:00:00",
          "2017-07-21T17:15:00",
          "2017-07-21T17:30:00",
          "2017-07-21T17:45:00",
          "2017-07-21T18:00:00",
          "2017-07-21T18:15:00",
          "2017-07-21T18:30:00",
          "2017-07-21T18:45:00",
          "2017-07-21T19:00:00",
          "2017-07-21T19:15:00",
          "2017-07-21T19:30:00",
          "2017-07-21T19:45:00",
          "2017-07-21T20:00:00",
          "2017-07-21T20:15:00",
          "2017-07-21T20:30:00",
          "2017-07-21T20:45:00",
          "2017-07-21T21:00:00",
          "2017-07-21T21:15:00",
          "2017-07-21T21:30:00",
          "2017-07-21T21:45:00",
          "2017-07-21T22:00:00",
          "2017-07-21T22:15:00",
          "2017-07-21T22:30:00",
          "2017-07-21T22:45:00",
          "2017-07-21T23:00:00",
          "2017-07-21T23:15:00",
          "2017-07-21T23:30:00",
          "2017-07-21T23:45:00"
         ],
         "xaxis": "x3",
         "y": [
          99.14984014675495,
          89.44737756650441,
          83.6493410583538,
          77.23173687842493,
          70.08390150005216,
          62.052689991350846,
          52.96501719566926,
          42.49191939160717,
          30.384169516277904,
          15.468064529360744,
          3.580316184728594,
          0.00008627476571459693,
          0,
          0,
          0,
          0,
          0,
          0,
          0,
          0,
          0,
          0,
          0,
          0,
          0,
          0,
          0,
          0,
          0,
          0,
          0,
          0,
          0,
          0,
          0,
          0,
          0,
          0,
          0,
          0,
          0,
          0,
          0,
          0,
          0,
          0,
          0,
          0,
          0,
          0,
          0,
          0.07706946922056492,
          6.699709949868866,
          19.373573726881922,
          34.19746690530888,
          45.792885038759316,
          55.794991074245175,
          64.56501509143328,
          72.31218978481736,
          79.22714912943576,
          85.44895059746466,
          91.07786922191218,
          100.62112654107946,
          113.79077355889837,
          145.51013310917546,
          176.540021063245,
          206.535872460524,
          235.79628596085828,
          262.18768480583185,
          286.76244027677166,
          309.34467460512025,
          329.78385404934727,
          347.9537352604241,
          363.75240075287286,
          377.1032387186441,
          387.95651860473544,
          396.290534771419,
          402.1099339174653,
          405.43755374562323,
          406.29802720978495,
          404.69956897659245,
          400.62757447201625,
          394.05588178122906,
          384.9657343280702,
          373.3599003401148,
          359.26850615768893,
          342.74951471489237,
          323.887276226397,
          302.7910666982876,
          279.5943704937051,
          254.45515797297026,
          226.76190419520756,
          197.66728477577703,
          167.32842715567836,
          136.05294847084846,
          104.2032960191694
         ],
         "yaxis": "y3"
        },
        {
         "legendgroup": "06",
         "line": {
          "color": "rgb(254, 203, 82)"
         },
         "name": "06 Block",
         "type": "scatter",
         "x": [
          "2017-07-21T00:00:00",
          "2017-07-21T00:15:00",
          "2017-07-21T00:30:00",
          "2017-07-21T00:45:00",
          "2017-07-21T01:00:00",
          "2017-07-21T01:15:00",
          "2017-07-21T01:30:00",
          "2017-07-21T01:45:00",
          "2017-07-21T02:00:00",
          "2017-07-21T02:15:00",
          "2017-07-21T02:30:00",
          "2017-07-21T02:45:00",
          "2017-07-21T03:00:00",
          "2017-07-21T03:15:00",
          "2017-07-21T03:30:00",
          "2017-07-21T03:45:00",
          "2017-07-21T04:00:00",
          "2017-07-21T04:15:00",
          "2017-07-21T04:30:00",
          "2017-07-21T04:45:00",
          "2017-07-21T05:00:00",
          "2017-07-21T05:15:00",
          "2017-07-21T05:30:00",
          "2017-07-21T05:45:00",
          "2017-07-21T06:00:00",
          "2017-07-21T06:15:00",
          "2017-07-21T06:30:00",
          "2017-07-21T06:45:00",
          "2017-07-21T07:00:00",
          "2017-07-21T07:15:00",
          "2017-07-21T07:30:00",
          "2017-07-21T07:45:00",
          "2017-07-21T08:00:00",
          "2017-07-21T08:15:00",
          "2017-07-21T08:30:00",
          "2017-07-21T08:45:00",
          "2017-07-21T09:00:00",
          "2017-07-21T09:15:00",
          "2017-07-21T09:30:00",
          "2017-07-21T09:45:00",
          "2017-07-21T10:00:00",
          "2017-07-21T10:15:00",
          "2017-07-21T10:30:00",
          "2017-07-21T10:45:00",
          "2017-07-21T11:00:00",
          "2017-07-21T11:15:00",
          "2017-07-21T11:30:00",
          "2017-07-21T11:45:00",
          "2017-07-21T12:00:00",
          "2017-07-21T12:15:00",
          "2017-07-21T12:30:00",
          "2017-07-21T12:45:00",
          "2017-07-21T13:00:00",
          "2017-07-21T13:15:00",
          "2017-07-21T13:30:00",
          "2017-07-21T13:45:00",
          "2017-07-21T14:00:00",
          "2017-07-21T14:15:00",
          "2017-07-21T14:30:00",
          "2017-07-21T14:45:00",
          "2017-07-21T15:00:00",
          "2017-07-21T15:15:00",
          "2017-07-21T15:30:00",
          "2017-07-21T15:45:00",
          "2017-07-21T16:00:00",
          "2017-07-21T16:15:00",
          "2017-07-21T16:30:00",
          "2017-07-21T16:45:00",
          "2017-07-21T17:00:00",
          "2017-07-21T17:15:00",
          "2017-07-21T17:30:00",
          "2017-07-21T17:45:00",
          "2017-07-21T18:00:00",
          "2017-07-21T18:15:00",
          "2017-07-21T18:30:00",
          "2017-07-21T18:45:00",
          "2017-07-21T19:00:00",
          "2017-07-21T19:15:00",
          "2017-07-21T19:30:00",
          "2017-07-21T19:45:00",
          "2017-07-21T20:00:00",
          "2017-07-21T20:15:00",
          "2017-07-21T20:30:00",
          "2017-07-21T20:45:00",
          "2017-07-21T21:00:00",
          "2017-07-21T21:15:00",
          "2017-07-21T21:30:00",
          "2017-07-21T21:45:00",
          "2017-07-21T22:00:00",
          "2017-07-21T22:15:00",
          "2017-07-21T22:30:00",
          "2017-07-21T22:45:00",
          "2017-07-21T23:00:00",
          "2017-07-21T23:15:00",
          "2017-07-21T23:30:00",
          "2017-07-21T23:45:00"
         ],
         "xaxis": "x3",
         "y": [
          95.52221331943784,
          86.16047495546808,
          80.46555333934812,
          74.18611675620318,
          67.21890144212668,
          59.420111191203716,
          50.61935691322843,
          40.51910475359625,
          28.88416927217311,
          14.728025326593853,
          3.3896235934187784,
          0.00008130492026978043,
          0,
          0,
          0,
          0,
          0,
          0,
          0,
          0,
          0,
          0,
          0,
          0,
          0,
          0,
          0,
          0,
          0,
          0,
          0,
          0,
          0,
          0,
          0,
          0,
          0,
          0,
          0,
          0,
          0,
          0,
          0,
          0,
          0,
          0,
          0,
          0,
          0,
          0,
          0,
          0.07269861939693818,
          6.3547470680875175,
          18.471381804257955,
          32.543658551130974,
          43.69885872907624,
          53.362228140410025,
          61.85664867458171,
          69.38805653120824,
          76.13600874278067,
          82.23085548013924,
          87.76596101561282,
          96.97903187408626,
          110.11735296568568,
          141.82833322583915,
          172.86929423819333,
          202.89269781114143,
          232.28456327398365,
          258.760633752267,
          283.4320242451531,
          306.1203079239592,
          326.6723389762478,
          344.95904610267064,
          360.87527530414565,
          374.34053254922384,
          385.30030161823555,
          393.72701033992917,
          399.6185088362236,
          402.99077213466217,
          403.6991226207772,
          400.9899063403867,
          395.80351814080205,
          388.1437203378275,
          378.0226631342491,
          365.4736948044714,
          350.556694817522,
          333.3588752076522,
          313.99368520163813,
          292.599928899575,
          269.34153959085126,
          244.40843980465704,
          216.9786766540191,
          188.78581324918827,
          159.7324263101785,
          130.1697967246954,
          100.50827483728087
         ],
         "yaxis": "y3"
        },
        {
         "legendgroup": "03",
         "line": {
          "color": "rgb(221, 136, 154)"
         },
         "name": "03 Block",
         "type": "scatter",
         "x": [
          "2017-07-21T00:00:00",
          "2017-07-21T00:15:00",
          "2017-07-21T00:30:00",
          "2017-07-21T00:45:00",
          "2017-07-21T01:00:00",
          "2017-07-21T01:15:00",
          "2017-07-21T01:30:00",
          "2017-07-21T01:45:00",
          "2017-07-21T02:00:00",
          "2017-07-21T02:15:00",
          "2017-07-21T02:30:00",
          "2017-07-21T02:45:00",
          "2017-07-21T03:00:00",
          "2017-07-21T03:15:00",
          "2017-07-21T03:30:00",
          "2017-07-21T03:45:00",
          "2017-07-21T04:00:00",
          "2017-07-21T04:15:00",
          "2017-07-21T04:30:00",
          "2017-07-21T04:45:00",
          "2017-07-21T05:00:00",
          "2017-07-21T05:15:00",
          "2017-07-21T05:30:00",
          "2017-07-21T05:45:00",
          "2017-07-21T06:00:00",
          "2017-07-21T06:15:00",
          "2017-07-21T06:30:00",
          "2017-07-21T06:45:00",
          "2017-07-21T07:00:00",
          "2017-07-21T07:15:00",
          "2017-07-21T07:30:00",
          "2017-07-21T07:45:00",
          "2017-07-21T08:00:00",
          "2017-07-21T08:15:00",
          "2017-07-21T08:30:00",
          "2017-07-21T08:45:00",
          "2017-07-21T09:00:00",
          "2017-07-21T09:15:00",
          "2017-07-21T09:30:00",
          "2017-07-21T09:45:00",
          "2017-07-21T10:00:00",
          "2017-07-21T10:15:00",
          "2017-07-21T10:30:00",
          "2017-07-21T10:45:00",
          "2017-07-21T11:00:00",
          "2017-07-21T11:15:00",
          "2017-07-21T11:30:00",
          "2017-07-21T11:45:00",
          "2017-07-21T12:00:00",
          "2017-07-21T12:15:00",
          "2017-07-21T12:30:00",
          "2017-07-21T12:45:00",
          "2017-07-21T13:00:00",
          "2017-07-21T13:15:00",
          "2017-07-21T13:30:00",
          "2017-07-21T13:45:00",
          "2017-07-21T14:00:00",
          "2017-07-21T14:15:00",
          "2017-07-21T14:30:00",
          "2017-07-21T14:45:00",
          "2017-07-21T15:00:00",
          "2017-07-21T15:15:00",
          "2017-07-21T15:30:00",
          "2017-07-21T15:45:00",
          "2017-07-21T16:00:00",
          "2017-07-21T16:15:00",
          "2017-07-21T16:30:00",
          "2017-07-21T16:45:00",
          "2017-07-21T17:00:00",
          "2017-07-21T17:15:00",
          "2017-07-21T17:30:00",
          "2017-07-21T17:45:00",
          "2017-07-21T18:00:00",
          "2017-07-21T18:15:00",
          "2017-07-21T18:30:00",
          "2017-07-21T18:45:00",
          "2017-07-21T19:00:00",
          "2017-07-21T19:15:00",
          "2017-07-21T19:30:00",
          "2017-07-21T19:45:00",
          "2017-07-21T20:00:00",
          "2017-07-21T20:15:00",
          "2017-07-21T20:30:00",
          "2017-07-21T20:45:00",
          "2017-07-21T21:00:00",
          "2017-07-21T21:15:00",
          "2017-07-21T21:30:00",
          "2017-07-21T21:45:00",
          "2017-07-21T22:00:00",
          "2017-07-21T22:15:00",
          "2017-07-21T22:30:00",
          "2017-07-21T22:45:00",
          "2017-07-21T23:00:00",
          "2017-07-21T23:15:00",
          "2017-07-21T23:30:00",
          "2017-07-21T23:45:00"
         ],
         "xaxis": "x4",
         "y": [
          788.2183543876866,
          785.9385455959638,
          767.2042642053256,
          737.5126630627898,
          695.1020563278697,
          637.715396261738,
          563.3406635038276,
          467.5085114159362,
          347.8686408955691,
          192.4440539812003,
          41.22869425633678,
          0.00030465206570681893,
          0,
          0,
          0,
          0,
          0,
          0,
          0,
          0,
          0,
          0,
          0,
          0,
          0,
          0,
          0,
          0,
          0,
          0,
          0,
          0,
          0,
          0,
          0,
          0,
          0,
          0,
          0,
          0,
          0,
          0,
          0,
          0,
          0,
          0,
          0,
          0,
          0,
          0,
          0,
          0.07100175925677503,
          6.221200259027675,
          18.12316420534101,
          31.901906025226673,
          42.886427690523526,
          52.41799540959933,
          60.80440320185696,
          68.25075992809644,
          74.93246125697506,
          80.97656315369281,
          86.47379829941863,
          95.55854002333656,
          100.09659306185283,
          104.20019168876037,
          107.89665539143475,
          111.2058850053226,
          117.96049453306294,
          120.60198106265278,
          122.85205009717934,
          124.72513665601848,
          126.23717829790223,
          127.4074078747915,
          128.26053861457538,
          128.82939989269315,
          129.15777360266304,
          129.30235384242937,
          129.33117590958958,
          129.3143922106893,
          137.86548248276165,
          194.87335399119098,
          251.44507322506195,
          307.1549386124568,
          361.5797379378915,
          414.3130835176322,
          464.96837045343915,
          513.175248233529,
          558.574167411243,
          600.810840792743,
          639.5306456568682,
          674.3730051210993,
          717.1661148497798,
          743.6753430084033,
          764.9355490850452,
          780.4402352655161,
          789.6073593399798
         ],
         "yaxis": "y4"
        }
       ],
       "layout": {
        "annotations": [
         {
          "font": {
           "size": 16
          },
          "showarrow": false,
          "text": "North Walls",
          "x": 0.5,
          "xanchor": "center",
          "xref": "paper",
          "y": 1,
          "yanchor": "bottom",
          "yref": "paper"
         },
         {
          "font": {
           "size": 16
          },
          "showarrow": false,
          "text": "East Walls",
          "x": 0.5,
          "xanchor": "center",
          "xref": "paper",
          "y": 0.71875,
          "yanchor": "bottom",
          "yref": "paper"
         },
         {
          "font": {
           "size": 16
          },
          "showarrow": false,
          "text": "South Walls",
          "x": 0.5,
          "xanchor": "center",
          "xref": "paper",
          "y": 0.4375,
          "yanchor": "bottom",
          "yref": "paper"
         },
         {
          "font": {
           "size": 16
          },
          "showarrow": false,
          "text": "West Walls",
          "x": 0.5,
          "xanchor": "center",
          "xref": "paper",
          "y": 0.15625,
          "yanchor": "bottom",
          "yref": "paper"
         }
        ],
        "template": {
         "data": {
          "bar": [
           {
            "error_x": {
             "color": "#2a3f5f"
            },
            "error_y": {
             "color": "#2a3f5f"
            },
            "marker": {
             "line": {
              "color": "#E5ECF6",
              "width": 0.5
             },
             "pattern": {
              "fillmode": "overlay",
              "size": 10,
              "solidity": 0.2
             }
            },
            "type": "bar"
           }
          ],
          "barpolar": [
           {
            "marker": {
             "line": {
              "color": "#E5ECF6",
              "width": 0.5
             },
             "pattern": {
              "fillmode": "overlay",
              "size": 10,
              "solidity": 0.2
             }
            },
            "type": "barpolar"
           }
          ],
          "carpet": [
           {
            "aaxis": {
             "endlinecolor": "#2a3f5f",
             "gridcolor": "white",
             "linecolor": "white",
             "minorgridcolor": "white",
             "startlinecolor": "#2a3f5f"
            },
            "baxis": {
             "endlinecolor": "#2a3f5f",
             "gridcolor": "white",
             "linecolor": "white",
             "minorgridcolor": "white",
             "startlinecolor": "#2a3f5f"
            },
            "type": "carpet"
           }
          ],
          "choropleth": [
           {
            "colorbar": {
             "outlinewidth": 0,
             "ticks": ""
            },
            "type": "choropleth"
           }
          ],
          "contour": [
           {
            "colorbar": {
             "outlinewidth": 0,
             "ticks": ""
            },
            "colorscale": [
             [
              0,
              "#0d0887"
             ],
             [
              0.1111111111111111,
              "#46039f"
             ],
             [
              0.2222222222222222,
              "#7201a8"
             ],
             [
              0.3333333333333333,
              "#9c179e"
             ],
             [
              0.4444444444444444,
              "#bd3786"
             ],
             [
              0.5555555555555556,
              "#d8576b"
             ],
             [
              0.6666666666666666,
              "#ed7953"
             ],
             [
              0.7777777777777778,
              "#fb9f3a"
             ],
             [
              0.8888888888888888,
              "#fdca26"
             ],
             [
              1,
              "#f0f921"
             ]
            ],
            "type": "contour"
           }
          ],
          "contourcarpet": [
           {
            "colorbar": {
             "outlinewidth": 0,
             "ticks": ""
            },
            "type": "contourcarpet"
           }
          ],
          "heatmap": [
           {
            "colorbar": {
             "outlinewidth": 0,
             "ticks": ""
            },
            "colorscale": [
             [
              0,
              "#0d0887"
             ],
             [
              0.1111111111111111,
              "#46039f"
             ],
             [
              0.2222222222222222,
              "#7201a8"
             ],
             [
              0.3333333333333333,
              "#9c179e"
             ],
             [
              0.4444444444444444,
              "#bd3786"
             ],
             [
              0.5555555555555556,
              "#d8576b"
             ],
             [
              0.6666666666666666,
              "#ed7953"
             ],
             [
              0.7777777777777778,
              "#fb9f3a"
             ],
             [
              0.8888888888888888,
              "#fdca26"
             ],
             [
              1,
              "#f0f921"
             ]
            ],
            "type": "heatmap"
           }
          ],
          "heatmapgl": [
           {
            "colorbar": {
             "outlinewidth": 0,
             "ticks": ""
            },
            "colorscale": [
             [
              0,
              "#0d0887"
             ],
             [
              0.1111111111111111,
              "#46039f"
             ],
             [
              0.2222222222222222,
              "#7201a8"
             ],
             [
              0.3333333333333333,
              "#9c179e"
             ],
             [
              0.4444444444444444,
              "#bd3786"
             ],
             [
              0.5555555555555556,
              "#d8576b"
             ],
             [
              0.6666666666666666,
              "#ed7953"
             ],
             [
              0.7777777777777778,
              "#fb9f3a"
             ],
             [
              0.8888888888888888,
              "#fdca26"
             ],
             [
              1,
              "#f0f921"
             ]
            ],
            "type": "heatmapgl"
           }
          ],
          "histogram": [
           {
            "marker": {
             "pattern": {
              "fillmode": "overlay",
              "size": 10,
              "solidity": 0.2
             }
            },
            "type": "histogram"
           }
          ],
          "histogram2d": [
           {
            "colorbar": {
             "outlinewidth": 0,
             "ticks": ""
            },
            "colorscale": [
             [
              0,
              "#0d0887"
             ],
             [
              0.1111111111111111,
              "#46039f"
             ],
             [
              0.2222222222222222,
              "#7201a8"
             ],
             [
              0.3333333333333333,
              "#9c179e"
             ],
             [
              0.4444444444444444,
              "#bd3786"
             ],
             [
              0.5555555555555556,
              "#d8576b"
             ],
             [
              0.6666666666666666,
              "#ed7953"
             ],
             [
              0.7777777777777778,
              "#fb9f3a"
             ],
             [
              0.8888888888888888,
              "#fdca26"
             ],
             [
              1,
              "#f0f921"
             ]
            ],
            "type": "histogram2d"
           }
          ],
          "histogram2dcontour": [
           {
            "colorbar": {
             "outlinewidth": 0,
             "ticks": ""
            },
            "colorscale": [
             [
              0,
              "#0d0887"
             ],
             [
              0.1111111111111111,
              "#46039f"
             ],
             [
              0.2222222222222222,
              "#7201a8"
             ],
             [
              0.3333333333333333,
              "#9c179e"
             ],
             [
              0.4444444444444444,
              "#bd3786"
             ],
             [
              0.5555555555555556,
              "#d8576b"
             ],
             [
              0.6666666666666666,
              "#ed7953"
             ],
             [
              0.7777777777777778,
              "#fb9f3a"
             ],
             [
              0.8888888888888888,
              "#fdca26"
             ],
             [
              1,
              "#f0f921"
             ]
            ],
            "type": "histogram2dcontour"
           }
          ],
          "mesh3d": [
           {
            "colorbar": {
             "outlinewidth": 0,
             "ticks": ""
            },
            "type": "mesh3d"
           }
          ],
          "parcoords": [
           {
            "line": {
             "colorbar": {
              "outlinewidth": 0,
              "ticks": ""
             }
            },
            "type": "parcoords"
           }
          ],
          "pie": [
           {
            "automargin": true,
            "type": "pie"
           }
          ],
          "scatter": [
           {
            "fillpattern": {
             "fillmode": "overlay",
             "size": 10,
             "solidity": 0.2
            },
            "type": "scatter"
           }
          ],
          "scatter3d": [
           {
            "line": {
             "colorbar": {
              "outlinewidth": 0,
              "ticks": ""
             }
            },
            "marker": {
             "colorbar": {
              "outlinewidth": 0,
              "ticks": ""
             }
            },
            "type": "scatter3d"
           }
          ],
          "scattercarpet": [
           {
            "marker": {
             "colorbar": {
              "outlinewidth": 0,
              "ticks": ""
             }
            },
            "type": "scattercarpet"
           }
          ],
          "scattergeo": [
           {
            "marker": {
             "colorbar": {
              "outlinewidth": 0,
              "ticks": ""
             }
            },
            "type": "scattergeo"
           }
          ],
          "scattergl": [
           {
            "marker": {
             "colorbar": {
              "outlinewidth": 0,
              "ticks": ""
             }
            },
            "type": "scattergl"
           }
          ],
          "scattermapbox": [
           {
            "marker": {
             "colorbar": {
              "outlinewidth": 0,
              "ticks": ""
             }
            },
            "type": "scattermapbox"
           }
          ],
          "scatterpolar": [
           {
            "marker": {
             "colorbar": {
              "outlinewidth": 0,
              "ticks": ""
             }
            },
            "type": "scatterpolar"
           }
          ],
          "scatterpolargl": [
           {
            "marker": {
             "colorbar": {
              "outlinewidth": 0,
              "ticks": ""
             }
            },
            "type": "scatterpolargl"
           }
          ],
          "scatterternary": [
           {
            "marker": {
             "colorbar": {
              "outlinewidth": 0,
              "ticks": ""
             }
            },
            "type": "scatterternary"
           }
          ],
          "surface": [
           {
            "colorbar": {
             "outlinewidth": 0,
             "ticks": ""
            },
            "colorscale": [
             [
              0,
              "#0d0887"
             ],
             [
              0.1111111111111111,
              "#46039f"
             ],
             [
              0.2222222222222222,
              "#7201a8"
             ],
             [
              0.3333333333333333,
              "#9c179e"
             ],
             [
              0.4444444444444444,
              "#bd3786"
             ],
             [
              0.5555555555555556,
              "#d8576b"
             ],
             [
              0.6666666666666666,
              "#ed7953"
             ],
             [
              0.7777777777777778,
              "#fb9f3a"
             ],
             [
              0.8888888888888888,
              "#fdca26"
             ],
             [
              1,
              "#f0f921"
             ]
            ],
            "type": "surface"
           }
          ],
          "table": [
           {
            "cells": {
             "fill": {
              "color": "#EBF0F8"
             },
             "line": {
              "color": "white"
             }
            },
            "header": {
             "fill": {
              "color": "#C8D4E3"
             },
             "line": {
              "color": "white"
             }
            },
            "type": "table"
           }
          ]
         },
         "layout": {
          "annotationdefaults": {
           "arrowcolor": "#2a3f5f",
           "arrowhead": 0,
           "arrowwidth": 1
          },
          "autotypenumbers": "strict",
          "coloraxis": {
           "colorbar": {
            "outlinewidth": 0,
            "ticks": ""
           }
          },
          "colorscale": {
           "diverging": [
            [
             0,
             "#8e0152"
            ],
            [
             0.1,
             "#c51b7d"
            ],
            [
             0.2,
             "#de77ae"
            ],
            [
             0.3,
             "#f1b6da"
            ],
            [
             0.4,
             "#fde0ef"
            ],
            [
             0.5,
             "#f7f7f7"
            ],
            [
             0.6,
             "#e6f5d0"
            ],
            [
             0.7,
             "#b8e186"
            ],
            [
             0.8,
             "#7fbc41"
            ],
            [
             0.9,
             "#4d9221"
            ],
            [
             1,
             "#276419"
            ]
           ],
           "sequential": [
            [
             0,
             "#0d0887"
            ],
            [
             0.1111111111111111,
             "#46039f"
            ],
            [
             0.2222222222222222,
             "#7201a8"
            ],
            [
             0.3333333333333333,
             "#9c179e"
            ],
            [
             0.4444444444444444,
             "#bd3786"
            ],
            [
             0.5555555555555556,
             "#d8576b"
            ],
            [
             0.6666666666666666,
             "#ed7953"
            ],
            [
             0.7777777777777778,
             "#fb9f3a"
            ],
            [
             0.8888888888888888,
             "#fdca26"
            ],
            [
             1,
             "#f0f921"
            ]
           ],
           "sequentialminus": [
            [
             0,
             "#0d0887"
            ],
            [
             0.1111111111111111,
             "#46039f"
            ],
            [
             0.2222222222222222,
             "#7201a8"
            ],
            [
             0.3333333333333333,
             "#9c179e"
            ],
            [
             0.4444444444444444,
             "#bd3786"
            ],
            [
             0.5555555555555556,
             "#d8576b"
            ],
            [
             0.6666666666666666,
             "#ed7953"
            ],
            [
             0.7777777777777778,
             "#fb9f3a"
            ],
            [
             0.8888888888888888,
             "#fdca26"
            ],
            [
             1,
             "#f0f921"
            ]
           ]
          },
          "colorway": [
           "#636efa",
           "#EF553B",
           "#00cc96",
           "#ab63fa",
           "#FFA15A",
           "#19d3f3",
           "#FF6692",
           "#B6E880",
           "#FF97FF",
           "#FECB52"
          ],
          "font": {
           "color": "#2a3f5f"
          },
          "geo": {
           "bgcolor": "white",
           "lakecolor": "white",
           "landcolor": "#E5ECF6",
           "showlakes": true,
           "showland": true,
           "subunitcolor": "white"
          },
          "hoverlabel": {
           "align": "left"
          },
          "hovermode": "closest",
          "mapbox": {
           "style": "light"
          },
          "paper_bgcolor": "white",
          "plot_bgcolor": "#E5ECF6",
          "polar": {
           "angularaxis": {
            "gridcolor": "white",
            "linecolor": "white",
            "ticks": ""
           },
           "bgcolor": "#E5ECF6",
           "radialaxis": {
            "gridcolor": "white",
            "linecolor": "white",
            "ticks": ""
           }
          },
          "scene": {
           "xaxis": {
            "backgroundcolor": "#E5ECF6",
            "gridcolor": "white",
            "gridwidth": 2,
            "linecolor": "white",
            "showbackground": true,
            "ticks": "",
            "zerolinecolor": "white"
           },
           "yaxis": {
            "backgroundcolor": "#E5ECF6",
            "gridcolor": "white",
            "gridwidth": 2,
            "linecolor": "white",
            "showbackground": true,
            "ticks": "",
            "zerolinecolor": "white"
           },
           "zaxis": {
            "backgroundcolor": "#E5ECF6",
            "gridcolor": "white",
            "gridwidth": 2,
            "linecolor": "white",
            "showbackground": true,
            "ticks": "",
            "zerolinecolor": "white"
           }
          },
          "shapedefaults": {
           "line": {
            "color": "#2a3f5f"
           }
          },
          "ternary": {
           "aaxis": {
            "gridcolor": "white",
            "linecolor": "white",
            "ticks": ""
           },
           "baxis": {
            "gridcolor": "white",
            "linecolor": "white",
            "ticks": ""
           },
           "bgcolor": "#E5ECF6",
           "caxis": {
            "gridcolor": "white",
            "linecolor": "white",
            "ticks": ""
           }
          },
          "title": {
           "x": 0.05
          },
          "xaxis": {
           "automargin": true,
           "gridcolor": "white",
           "linecolor": "white",
           "ticks": "",
           "title": {
            "standoff": 15
           },
           "zerolinecolor": "white",
           "zerolinewidth": 2
          },
          "yaxis": {
           "automargin": true,
           "gridcolor": "white",
           "linecolor": "white",
           "ticks": "",
           "title": {
            "standoff": 15
           },
           "zerolinecolor": "white",
           "zerolinewidth": 2
          }
         }
        },
        "title": {
         "text": "7-21 Surface Outside Face Incident Solar Radiation Rate per Area [W/m2]"
        },
        "xaxis": {
         "anchor": "y",
         "domain": [
          0,
          1
         ],
         "matches": "x4",
         "showticklabels": false
        },
        "xaxis2": {
         "anchor": "y2",
         "domain": [
          0,
          1
         ],
         "matches": "x4",
         "showticklabels": false
        },
        "xaxis3": {
         "anchor": "y3",
         "domain": [
          0,
          1
         ],
         "matches": "x4",
         "showticklabels": false
        },
        "xaxis4": {
         "anchor": "y4",
         "domain": [
          0,
          1
         ]
        },
        "yaxis": {
         "anchor": "x",
         "domain": [
          0.84375,
          1
         ]
        },
        "yaxis2": {
         "anchor": "x2",
         "domain": [
          0.5625,
          0.71875
         ]
        },
        "yaxis3": {
         "anchor": "x3",
         "domain": [
          0.28125,
          0.4375
         ]
        },
        "yaxis4": {
         "anchor": "x4",
         "domain": [
          0,
          0.15625
         ]
        }
       }
      }
     },
     "metadata": {},
     "output_type": "display_data"
    }
   ],
   "source": [
    "su = SurfaceData(plt)\n",
    "su.create_fig('surf_incident_solar_rad7-21')"
   ]
  },
  {
   "cell_type": "code",
   "execution_count": 11,
   "metadata": {},
   "outputs": [
    {
     "data": {
      "application/vnd.plotly.v1+json": {
       "config": {
        "plotlyServerURL": "https://plotly.com"
       },
       "data": [
        {
         "line": {
          "color": "black",
          "width": 3
         },
         "marker": {
          "color": "black"
         },
         "mode": "markers+lines",
         "name": "Wall 0001",
         "type": "scatter",
         "x": [
          40,
          40
         ],
         "xaxis": "x",
         "y": [
          40,
          0
         ],
         "yaxis": "y"
        },
        {
         "line": {
          "color": "black",
          "width": 3
         },
         "marker": {
          "color": "black"
         },
         "mode": "markers+lines",
         "name": "Wall 0002",
         "type": "scatter",
         "x": [
          40,
          0
         ],
         "xaxis": "x",
         "y": [
          0,
          0
         ],
         "yaxis": "y"
        },
        {
         "line": {
          "color": "black",
          "width": 3
         },
         "marker": {
          "color": "black"
         },
         "mode": "markers+lines",
         "name": "Wall 0003",
         "type": "scatter",
         "x": [
          0,
          0
         ],
         "xaxis": "x",
         "y": [
          0,
          40
         ],
         "yaxis": "y"
        },
        {
         "line": {
          "color": "black",
          "width": 3
         },
         "marker": {
          "color": "black"
         },
         "mode": "markers+lines",
         "name": "Wall 0004",
         "type": "scatter",
         "x": [
          0,
          40
         ],
         "xaxis": "x",
         "y": [
          40,
          40
         ],
         "yaxis": "y"
        },
        {
         "line": {
          "color": "black",
          "width": 3
         },
         "marker": {
          "color": "black"
         },
         "mode": "markers+lines",
         "name": "Wall 0001",
         "type": "scatter",
         "x": [
          120,
          120
         ],
         "xaxis": "x",
         "y": [
          40,
          0
         ],
         "yaxis": "y"
        },
        {
         "line": {
          "color": "black",
          "width": 3
         },
         "marker": {
          "color": "black"
         },
         "mode": "markers+lines",
         "name": "Wall 0002",
         "type": "scatter",
         "x": [
          120,
          40
         ],
         "xaxis": "x",
         "y": [
          0,
          0
         ],
         "yaxis": "y"
        },
        {
         "line": {
          "color": "black",
          "width": 3
         },
         "marker": {
          "color": "black"
         },
         "mode": "markers+lines",
         "name": "Wall 0003",
         "type": "scatter",
         "x": [
          40,
          40
         ],
         "xaxis": "x",
         "y": [
          0,
          40
         ],
         "yaxis": "y"
        },
        {
         "line": {
          "color": "black",
          "width": 3
         },
         "marker": {
          "color": "black"
         },
         "mode": "markers+lines",
         "name": "Wall 0004",
         "type": "scatter",
         "x": [
          40,
          120
         ],
         "xaxis": "x",
         "y": [
          40,
          40
         ],
         "yaxis": "y"
        },
        {
         "line": {
          "color": "black",
          "width": 3
         },
         "marker": {
          "color": "black"
         },
         "mode": "markers+lines",
         "name": "Wall 0001",
         "type": "scatter",
         "x": [
          160,
          160
         ],
         "xaxis": "x",
         "y": [
          120,
          0
         ],
         "yaxis": "y"
        },
        {
         "line": {
          "color": "black",
          "width": 3
         },
         "marker": {
          "color": "black"
         },
         "mode": "markers+lines",
         "name": "Wall 0002",
         "type": "scatter",
         "x": [
          160,
          120
         ],
         "xaxis": "x",
         "y": [
          0,
          0
         ],
         "yaxis": "y"
        },
        {
         "line": {
          "color": "black",
          "width": 3
         },
         "marker": {
          "color": "black"
         },
         "mode": "markers+lines",
         "name": "Wall 0003",
         "type": "scatter",
         "x": [
          120,
          120
         ],
         "xaxis": "x",
         "y": [
          0,
          120
         ],
         "yaxis": "y"
        },
        {
         "line": {
          "color": "black",
          "width": 3
         },
         "marker": {
          "color": "black"
         },
         "mode": "markers+lines",
         "name": "Wall 0004",
         "type": "scatter",
         "x": [
          120,
          160
         ],
         "xaxis": "x",
         "y": [
          120,
          120
         ],
         "yaxis": "y"
        },
        {
         "line": {
          "color": "black",
          "width": 3
         },
         "marker": {
          "color": "black"
         },
         "mode": "markers+lines",
         "name": "Wall 0001",
         "type": "scatter",
         "x": [
          120,
          120
         ],
         "xaxis": "x",
         "y": [
          120,
          80
         ],
         "yaxis": "y"
        },
        {
         "line": {
          "color": "black",
          "width": 3
         },
         "marker": {
          "color": "black"
         },
         "mode": "markers+lines",
         "name": "Wall 0002",
         "type": "scatter",
         "x": [
          120,
          80
         ],
         "xaxis": "x",
         "y": [
          80,
          80
         ],
         "yaxis": "y"
        },
        {
         "line": {
          "color": "black",
          "width": 3
         },
         "marker": {
          "color": "black"
         },
         "mode": "markers+lines",
         "name": "Wall 0003",
         "type": "scatter",
         "x": [
          80,
          80
         ],
         "xaxis": "x",
         "y": [
          80,
          120
         ],
         "yaxis": "y"
        },
        {
         "line": {
          "color": "black",
          "width": 3
         },
         "marker": {
          "color": "black"
         },
         "mode": "markers+lines",
         "name": "Wall 0004",
         "type": "scatter",
         "x": [
          80,
          120
         ],
         "xaxis": "x",
         "y": [
          120,
          120
         ],
         "yaxis": "y"
        },
        {
         "line": {
          "color": "black",
          "width": 3
         },
         "marker": {
          "color": "black"
         },
         "mode": "markers+lines",
         "name": "Wall 0001",
         "type": "scatter",
         "x": [
          120,
          120
         ],
         "xaxis": "x",
         "y": [
          80,
          40
         ],
         "yaxis": "y"
        },
        {
         "line": {
          "color": "black",
          "width": 3
         },
         "marker": {
          "color": "black"
         },
         "mode": "markers+lines",
         "name": "Wall 0002",
         "type": "scatter",
         "x": [
          120,
          0
         ],
         "xaxis": "x",
         "y": [
          40,
          40
         ],
         "yaxis": "y"
        },
        {
         "line": {
          "color": "black",
          "width": 3
         },
         "marker": {
          "color": "black"
         },
         "mode": "markers+lines",
         "name": "Wall 0003",
         "type": "scatter",
         "x": [
          0,
          0
         ],
         "xaxis": "x",
         "y": [
          40,
          80
         ],
         "yaxis": "y"
        },
        {
         "line": {
          "color": "black",
          "width": 3
         },
         "marker": {
          "color": "black"
         },
         "mode": "markers+lines",
         "name": "Wall 0004",
         "type": "scatter",
         "x": [
          0,
          120
         ],
         "xaxis": "x",
         "y": [
          80,
          80
         ],
         "yaxis": "y"
        },
        {
         "line": {
          "color": "black",
          "width": 3
         },
         "marker": {
          "color": "black"
         },
         "mode": "markers+lines",
         "name": "Wall 0001",
         "type": "scatter",
         "x": [
          80,
          80
         ],
         "xaxis": "x",
         "y": [
          120,
          80
         ],
         "yaxis": "y"
        },
        {
         "line": {
          "color": "black",
          "width": 3
         },
         "marker": {
          "color": "black"
         },
         "mode": "markers+lines",
         "name": "Wall 0002",
         "type": "scatter",
         "x": [
          80,
          0
         ],
         "xaxis": "x",
         "y": [
          80,
          80
         ],
         "yaxis": "y"
        },
        {
         "line": {
          "color": "black",
          "width": 3
         },
         "marker": {
          "color": "black"
         },
         "mode": "markers+lines",
         "name": "Wall 0003",
         "type": "scatter",
         "x": [
          0,
          0
         ],
         "xaxis": "x",
         "y": [
          80,
          120
         ],
         "yaxis": "y"
        },
        {
         "line": {
          "color": "black",
          "width": 3
         },
         "marker": {
          "color": "black"
         },
         "mode": "markers+lines",
         "name": "Wall 0004",
         "type": "scatter",
         "x": [
          0,
          80
         ],
         "xaxis": "x",
         "y": [
          120,
          120
         ],
         "yaxis": "y"
        },
        {
         "line": {
          "color": "black",
          "width": 3
         },
         "marker": {
          "color": "black"
         },
         "mode": "markers+lines",
         "name": "Wall 0001",
         "type": "scatter",
         "x": [
          40,
          40
         ],
         "xaxis": "x2",
         "y": [
          40,
          0
         ],
         "yaxis": "y2"
        },
        {
         "line": {
          "color": "black",
          "width": 3
         },
         "marker": {
          "color": "black"
         },
         "mode": "markers+lines",
         "name": "Wall 0002",
         "type": "scatter",
         "x": [
          40,
          0
         ],
         "xaxis": "x2",
         "y": [
          0,
          0
         ],
         "yaxis": "y2"
        },
        {
         "line": {
          "color": "black",
          "width": 3
         },
         "marker": {
          "color": "black"
         },
         "mode": "markers+lines",
         "name": "Wall 0003",
         "type": "scatter",
         "x": [
          0,
          0
         ],
         "xaxis": "x2",
         "y": [
          0,
          40
         ],
         "yaxis": "y2"
        },
        {
         "line": {
          "color": "black",
          "width": 3
         },
         "marker": {
          "color": "black"
         },
         "mode": "markers+lines",
         "name": "Wall 0004",
         "type": "scatter",
         "x": [
          0,
          40
         ],
         "xaxis": "x2",
         "y": [
          40,
          40
         ],
         "yaxis": "y2"
        },
        {
         "line": {
          "color": "black",
          "width": 3
         },
         "marker": {
          "color": "black"
         },
         "mode": "markers+lines",
         "name": "Wall 0001",
         "type": "scatter",
         "x": [
          120,
          120
         ],
         "xaxis": "x2",
         "y": [
          40,
          0
         ],
         "yaxis": "y2"
        },
        {
         "line": {
          "color": "black",
          "width": 3
         },
         "marker": {
          "color": "black"
         },
         "mode": "markers+lines",
         "name": "Wall 0002",
         "type": "scatter",
         "x": [
          120,
          40
         ],
         "xaxis": "x2",
         "y": [
          0,
          0
         ],
         "yaxis": "y2"
        },
        {
         "line": {
          "color": "black",
          "width": 3
         },
         "marker": {
          "color": "black"
         },
         "mode": "markers+lines",
         "name": "Wall 0003",
         "type": "scatter",
         "x": [
          40,
          40
         ],
         "xaxis": "x2",
         "y": [
          0,
          40
         ],
         "yaxis": "y2"
        },
        {
         "line": {
          "color": "black",
          "width": 3
         },
         "marker": {
          "color": "black"
         },
         "mode": "markers+lines",
         "name": "Wall 0004",
         "type": "scatter",
         "x": [
          40,
          120
         ],
         "xaxis": "x2",
         "y": [
          40,
          40
         ],
         "yaxis": "y2"
        },
        {
         "line": {
          "color": "black",
          "width": 3
         },
         "marker": {
          "color": "black"
         },
         "mode": "markers+lines",
         "name": "Wall 0001",
         "type": "scatter",
         "x": [
          160,
          160
         ],
         "xaxis": "x2",
         "y": [
          120,
          0
         ],
         "yaxis": "y2"
        },
        {
         "line": {
          "color": "black",
          "width": 3
         },
         "marker": {
          "color": "black"
         },
         "mode": "markers+lines",
         "name": "Wall 0002",
         "type": "scatter",
         "x": [
          160,
          120
         ],
         "xaxis": "x2",
         "y": [
          0,
          0
         ],
         "yaxis": "y2"
        },
        {
         "line": {
          "color": "black",
          "width": 3
         },
         "marker": {
          "color": "black"
         },
         "mode": "markers+lines",
         "name": "Wall 0003",
         "type": "scatter",
         "x": [
          120,
          120
         ],
         "xaxis": "x2",
         "y": [
          0,
          120
         ],
         "yaxis": "y2"
        },
        {
         "line": {
          "color": "black",
          "width": 3
         },
         "marker": {
          "color": "black"
         },
         "mode": "markers+lines",
         "name": "Wall 0004",
         "type": "scatter",
         "x": [
          120,
          160
         ],
         "xaxis": "x2",
         "y": [
          120,
          120
         ],
         "yaxis": "y2"
        },
        {
         "line": {
          "color": "black",
          "width": 3
         },
         "marker": {
          "color": "black"
         },
         "mode": "markers+lines",
         "name": "Wall 0001",
         "type": "scatter",
         "x": [
          120,
          120
         ],
         "xaxis": "x2",
         "y": [
          120,
          80
         ],
         "yaxis": "y2"
        },
        {
         "line": {
          "color": "black",
          "width": 3
         },
         "marker": {
          "color": "black"
         },
         "mode": "markers+lines",
         "name": "Wall 0002",
         "type": "scatter",
         "x": [
          120,
          80
         ],
         "xaxis": "x2",
         "y": [
          80,
          80
         ],
         "yaxis": "y2"
        },
        {
         "line": {
          "color": "black",
          "width": 3
         },
         "marker": {
          "color": "black"
         },
         "mode": "markers+lines",
         "name": "Wall 0003",
         "type": "scatter",
         "x": [
          80,
          80
         ],
         "xaxis": "x2",
         "y": [
          80,
          120
         ],
         "yaxis": "y2"
        },
        {
         "line": {
          "color": "black",
          "width": 3
         },
         "marker": {
          "color": "black"
         },
         "mode": "markers+lines",
         "name": "Wall 0004",
         "type": "scatter",
         "x": [
          80,
          120
         ],
         "xaxis": "x2",
         "y": [
          120,
          120
         ],
         "yaxis": "y2"
        },
        {
         "line": {
          "color": "black",
          "width": 3
         },
         "marker": {
          "color": "black"
         },
         "mode": "markers+lines",
         "name": "Wall 0001",
         "type": "scatter",
         "x": [
          120,
          120
         ],
         "xaxis": "x2",
         "y": [
          80,
          40
         ],
         "yaxis": "y2"
        },
        {
         "line": {
          "color": "black",
          "width": 3
         },
         "marker": {
          "color": "black"
         },
         "mode": "markers+lines",
         "name": "Wall 0002",
         "type": "scatter",
         "x": [
          120,
          0
         ],
         "xaxis": "x2",
         "y": [
          40,
          40
         ],
         "yaxis": "y2"
        },
        {
         "line": {
          "color": "black",
          "width": 3
         },
         "marker": {
          "color": "black"
         },
         "mode": "markers+lines",
         "name": "Wall 0003",
         "type": "scatter",
         "x": [
          0,
          0
         ],
         "xaxis": "x2",
         "y": [
          40,
          80
         ],
         "yaxis": "y2"
        },
        {
         "line": {
          "color": "black",
          "width": 3
         },
         "marker": {
          "color": "black"
         },
         "mode": "markers+lines",
         "name": "Wall 0004",
         "type": "scatter",
         "x": [
          0,
          120
         ],
         "xaxis": "x2",
         "y": [
          80,
          80
         ],
         "yaxis": "y2"
        },
        {
         "line": {
          "color": "black",
          "width": 3
         },
         "marker": {
          "color": "black"
         },
         "mode": "markers+lines",
         "name": "Wall 0001",
         "type": "scatter",
         "x": [
          80,
          80
         ],
         "xaxis": "x2",
         "y": [
          120,
          80
         ],
         "yaxis": "y2"
        },
        {
         "line": {
          "color": "black",
          "width": 3
         },
         "marker": {
          "color": "black"
         },
         "mode": "markers+lines",
         "name": "Wall 0002",
         "type": "scatter",
         "x": [
          80,
          0
         ],
         "xaxis": "x2",
         "y": [
          80,
          80
         ],
         "yaxis": "y2"
        },
        {
         "line": {
          "color": "black",
          "width": 3
         },
         "marker": {
          "color": "black"
         },
         "mode": "markers+lines",
         "name": "Wall 0003",
         "type": "scatter",
         "x": [
          0,
          0
         ],
         "xaxis": "x2",
         "y": [
          80,
          120
         ],
         "yaxis": "y2"
        },
        {
         "line": {
          "color": "black",
          "width": 3
         },
         "marker": {
          "color": "black"
         },
         "mode": "markers+lines",
         "name": "Wall 0004",
         "type": "scatter",
         "x": [
          0,
          80
         ],
         "xaxis": "x2",
         "y": [
          120,
          120
         ],
         "yaxis": "y2"
        },
        {
         "line": {
          "color": "black",
          "width": 3
         },
         "marker": {
          "color": "black"
         },
         "mode": "markers+lines",
         "name": "Wall 0001",
         "type": "scatter",
         "x": [
          40,
          40
         ],
         "xaxis": "x3",
         "y": [
          40,
          0
         ],
         "yaxis": "y3"
        },
        {
         "line": {
          "color": "black",
          "width": 3
         },
         "marker": {
          "color": "black"
         },
         "mode": "markers+lines",
         "name": "Wall 0002",
         "type": "scatter",
         "x": [
          40,
          0
         ],
         "xaxis": "x3",
         "y": [
          0,
          0
         ],
         "yaxis": "y3"
        },
        {
         "line": {
          "color": "black",
          "width": 3
         },
         "marker": {
          "color": "black"
         },
         "mode": "markers+lines",
         "name": "Wall 0003",
         "type": "scatter",
         "x": [
          0,
          0
         ],
         "xaxis": "x3",
         "y": [
          0,
          40
         ],
         "yaxis": "y3"
        },
        {
         "line": {
          "color": "black",
          "width": 3
         },
         "marker": {
          "color": "black"
         },
         "mode": "markers+lines",
         "name": "Wall 0004",
         "type": "scatter",
         "x": [
          0,
          40
         ],
         "xaxis": "x3",
         "y": [
          40,
          40
         ],
         "yaxis": "y3"
        },
        {
         "line": {
          "color": "black",
          "width": 3
         },
         "marker": {
          "color": "black"
         },
         "mode": "markers+lines",
         "name": "Wall 0001",
         "type": "scatter",
         "x": [
          120,
          120
         ],
         "xaxis": "x3",
         "y": [
          40,
          0
         ],
         "yaxis": "y3"
        },
        {
         "line": {
          "color": "black",
          "width": 3
         },
         "marker": {
          "color": "black"
         },
         "mode": "markers+lines",
         "name": "Wall 0002",
         "type": "scatter",
         "x": [
          120,
          40
         ],
         "xaxis": "x3",
         "y": [
          0,
          0
         ],
         "yaxis": "y3"
        },
        {
         "line": {
          "color": "black",
          "width": 3
         },
         "marker": {
          "color": "black"
         },
         "mode": "markers+lines",
         "name": "Wall 0003",
         "type": "scatter",
         "x": [
          40,
          40
         ],
         "xaxis": "x3",
         "y": [
          0,
          40
         ],
         "yaxis": "y3"
        },
        {
         "line": {
          "color": "black",
          "width": 3
         },
         "marker": {
          "color": "black"
         },
         "mode": "markers+lines",
         "name": "Wall 0004",
         "type": "scatter",
         "x": [
          40,
          120
         ],
         "xaxis": "x3",
         "y": [
          40,
          40
         ],
         "yaxis": "y3"
        },
        {
         "line": {
          "color": "black",
          "width": 3
         },
         "marker": {
          "color": "black"
         },
         "mode": "markers+lines",
         "name": "Wall 0001",
         "type": "scatter",
         "x": [
          160,
          160
         ],
         "xaxis": "x3",
         "y": [
          120,
          0
         ],
         "yaxis": "y3"
        },
        {
         "line": {
          "color": "black",
          "width": 3
         },
         "marker": {
          "color": "black"
         },
         "mode": "markers+lines",
         "name": "Wall 0002",
         "type": "scatter",
         "x": [
          160,
          120
         ],
         "xaxis": "x3",
         "y": [
          0,
          0
         ],
         "yaxis": "y3"
        },
        {
         "line": {
          "color": "black",
          "width": 3
         },
         "marker": {
          "color": "black"
         },
         "mode": "markers+lines",
         "name": "Wall 0003",
         "type": "scatter",
         "x": [
          120,
          120
         ],
         "xaxis": "x3",
         "y": [
          0,
          120
         ],
         "yaxis": "y3"
        },
        {
         "line": {
          "color": "black",
          "width": 3
         },
         "marker": {
          "color": "black"
         },
         "mode": "markers+lines",
         "name": "Wall 0004",
         "type": "scatter",
         "x": [
          120,
          160
         ],
         "xaxis": "x3",
         "y": [
          120,
          120
         ],
         "yaxis": "y3"
        },
        {
         "line": {
          "color": "black",
          "width": 3
         },
         "marker": {
          "color": "black"
         },
         "mode": "markers+lines",
         "name": "Wall 0001",
         "type": "scatter",
         "x": [
          120,
          120
         ],
         "xaxis": "x3",
         "y": [
          120,
          80
         ],
         "yaxis": "y3"
        },
        {
         "line": {
          "color": "black",
          "width": 3
         },
         "marker": {
          "color": "black"
         },
         "mode": "markers+lines",
         "name": "Wall 0002",
         "type": "scatter",
         "x": [
          120,
          80
         ],
         "xaxis": "x3",
         "y": [
          80,
          80
         ],
         "yaxis": "y3"
        },
        {
         "line": {
          "color": "black",
          "width": 3
         },
         "marker": {
          "color": "black"
         },
         "mode": "markers+lines",
         "name": "Wall 0003",
         "type": "scatter",
         "x": [
          80,
          80
         ],
         "xaxis": "x3",
         "y": [
          80,
          120
         ],
         "yaxis": "y3"
        },
        {
         "line": {
          "color": "black",
          "width": 3
         },
         "marker": {
          "color": "black"
         },
         "mode": "markers+lines",
         "name": "Wall 0004",
         "type": "scatter",
         "x": [
          80,
          120
         ],
         "xaxis": "x3",
         "y": [
          120,
          120
         ],
         "yaxis": "y3"
        },
        {
         "line": {
          "color": "black",
          "width": 3
         },
         "marker": {
          "color": "black"
         },
         "mode": "markers+lines",
         "name": "Wall 0001",
         "type": "scatter",
         "x": [
          120,
          120
         ],
         "xaxis": "x3",
         "y": [
          80,
          40
         ],
         "yaxis": "y3"
        },
        {
         "line": {
          "color": "black",
          "width": 3
         },
         "marker": {
          "color": "black"
         },
         "mode": "markers+lines",
         "name": "Wall 0002",
         "type": "scatter",
         "x": [
          120,
          0
         ],
         "xaxis": "x3",
         "y": [
          40,
          40
         ],
         "yaxis": "y3"
        },
        {
         "line": {
          "color": "black",
          "width": 3
         },
         "marker": {
          "color": "black"
         },
         "mode": "markers+lines",
         "name": "Wall 0003",
         "type": "scatter",
         "x": [
          0,
          0
         ],
         "xaxis": "x3",
         "y": [
          40,
          80
         ],
         "yaxis": "y3"
        },
        {
         "line": {
          "color": "black",
          "width": 3
         },
         "marker": {
          "color": "black"
         },
         "mode": "markers+lines",
         "name": "Wall 0004",
         "type": "scatter",
         "x": [
          0,
          120
         ],
         "xaxis": "x3",
         "y": [
          80,
          80
         ],
         "yaxis": "y3"
        },
        {
         "line": {
          "color": "black",
          "width": 3
         },
         "marker": {
          "color": "black"
         },
         "mode": "markers+lines",
         "name": "Wall 0001",
         "type": "scatter",
         "x": [
          80,
          80
         ],
         "xaxis": "x3",
         "y": [
          120,
          80
         ],
         "yaxis": "y3"
        },
        {
         "line": {
          "color": "black",
          "width": 3
         },
         "marker": {
          "color": "black"
         },
         "mode": "markers+lines",
         "name": "Wall 0002",
         "type": "scatter",
         "x": [
          80,
          0
         ],
         "xaxis": "x3",
         "y": [
          80,
          80
         ],
         "yaxis": "y3"
        },
        {
         "line": {
          "color": "black",
          "width": 3
         },
         "marker": {
          "color": "black"
         },
         "mode": "markers+lines",
         "name": "Wall 0003",
         "type": "scatter",
         "x": [
          0,
          0
         ],
         "xaxis": "x3",
         "y": [
          80,
          120
         ],
         "yaxis": "y3"
        },
        {
         "line": {
          "color": "black",
          "width": 3
         },
         "marker": {
          "color": "black"
         },
         "mode": "markers+lines",
         "name": "Wall 0004",
         "type": "scatter",
         "x": [
          0,
          80
         ],
         "xaxis": "x3",
         "y": [
          120,
          120
         ],
         "yaxis": "y3"
        },
        {
         "marker": {
          "cmax": 22.67,
          "cmin": 19.46,
          "colorbar": {
           "outlinewidth": 0,
           "thickness": 5,
           "ticktext": [
            19.46,
            22.67
           ],
           "tickvals": [
            19.46,
            20.262500000000003,
            21.065,
            21.8675,
            22.67
           ]
          },
          "colorscale": [
           [
            0,
            "rgb(5,48,97)"
           ],
           [
            0.1,
            "rgb(33,102,172)"
           ],
           [
            0.2,
            "rgb(67,147,195)"
           ],
           [
            0.3,
            "rgb(146,197,222)"
           ],
           [
            0.4,
            "rgb(209,229,240)"
           ],
           [
            0.5,
            "rgb(247,247,247)"
           ],
           [
            0.6,
            "rgb(253,219,199)"
           ],
           [
            0.7,
            "rgb(244,165,130)"
           ],
           [
            0.8,
            "rgb(214,96,77)"
           ],
           [
            0.9,
            "rgb(178,24,43)"
           ],
           [
            1,
            "rgb(103,0,31)"
           ]
          ],
          "showscale": true
         },
         "mode": "markers",
         "type": "scatter",
         "x": [
          null
         ],
         "y": [
          null
         ]
        }
       ],
       "layout": {
        "annotations": [
         {
          "font": {
           "size": 16
          },
          "showarrow": false,
          "text": "06:00",
          "x": 0.5,
          "xanchor": "center",
          "xref": "paper",
          "y": 1,
          "yanchor": "bottom",
          "yref": "paper"
         },
         {
          "font": {
           "size": 16
          },
          "showarrow": false,
          "text": "12:00",
          "x": 0.5,
          "xanchor": "center",
          "xref": "paper",
          "y": 0.6111111111111112,
          "yanchor": "bottom",
          "yref": "paper"
         },
         {
          "font": {
           "size": 16
          },
          "showarrow": false,
          "text": "22:00",
          "x": 0.5,
          "xanchor": "center",
          "xref": "paper",
          "y": 0.22222222222222224,
          "yanchor": "bottom",
          "yref": "paper"
         }
        ],
        "shapes": [
         {
          "fillcolor": "rgb(249, 237, 230)",
          "label": {
           "text": "Block 01: 21.18ºC"
          },
          "type": "rect",
          "x0": 40,
          "x1": 0,
          "xref": "x",
          "y0": 40,
          "y1": 0,
          "yref": "y"
         },
         {
          "fillcolor": "rgb(130, 187, 217)",
          "label": {
           "text": "Block 02: 20.36ºC"
          },
          "type": "rect",
          "x0": 120,
          "x1": 40,
          "xref": "x",
          "y0": 40,
          "y1": 0,
          "yref": "y"
         },
         {
          "fillcolor": "rgb(247, 183, 153)",
          "label": {
           "text": "Block 03: 21.6ºC"
          },
          "type": "rect",
          "x0": 160,
          "x1": 120,
          "xref": "x",
          "y0": 120,
          "y1": 0,
          "yref": "y"
         },
         {
          "fillcolor": "rgb(177, 213, 231)",
          "label": {
           "text": "Block 04: 20.58ºC"
          },
          "type": "rect",
          "x0": 120,
          "x1": 80,
          "xref": "x",
          "y0": 120,
          "y1": 80,
          "yref": "y"
         },
         {
          "fillcolor": "rgb(61, 140, 191)",
          "label": {
           "text": "Block 05: 20.05ºC"
          },
          "type": "rect",
          "x0": 120,
          "x1": 0,
          "xref": "x",
          "y0": 80,
          "y1": 40,
          "yref": "y"
         },
         {
          "fillcolor": "rgb(232, 240, 244)",
          "label": {
           "text": "Block 06: 20.94ºC"
          },
          "type": "rect",
          "x0": 80,
          "x1": 0,
          "xref": "x",
          "y0": 120,
          "y1": 80,
          "yref": "y"
         },
         {
          "fillcolor": "rgb(94, 164, 204)",
          "label": {
           "text": "Block 01: 20.21ºC"
          },
          "type": "rect",
          "x0": 40,
          "x1": 0,
          "xref": "x2",
          "y0": 40,
          "y1": 0,
          "yref": "y2"
         },
         {
          "fillcolor": "rgb(22, 82, 144)",
          "label": {
           "text": "Block 02: 19.66ºC"
          },
          "type": "rect",
          "x0": 120,
          "x1": 40,
          "xref": "x2",
          "y0": 40,
          "y1": 0,
          "yref": "y2"
         },
         {
          "fillcolor": "rgb(143, 195, 221)",
          "label": {
           "text": "Block 03: 20.41ºC"
          },
          "type": "rect",
          "x0": 160,
          "x1": 120,
          "xref": "x2",
          "y0": 120,
          "y1": 0,
          "yref": "y2"
         },
         {
          "fillcolor": "rgb(42, 114, 178)",
          "label": {
           "text": "Block 04: 19.87ºC"
          },
          "type": "rect",
          "x0": 120,
          "x1": 80,
          "xref": "x2",
          "y0": 120,
          "y1": 80,
          "yref": "y2"
         },
         {
          "fillcolor": "rgb(5, 48, 97)",
          "label": {
           "text": "Block 05: 19.46ºC"
          },
          "type": "rect",
          "x0": 120,
          "x1": 0,
          "xref": "x2",
          "y0": 80,
          "y1": 40,
          "yref": "y2"
         },
         {
          "fillcolor": "rgb(56, 133, 188)",
          "label": {
           "text": "Block 06: 20.0ºC"
          },
          "type": "rect",
          "x0": 80,
          "x1": 0,
          "xref": "x2",
          "y0": 120,
          "y1": 80,
          "yref": "y2"
         },
         {
          "fillcolor": "rgb(103, 0, 31)",
          "label": {
           "text": "Block 01: 22.67ºC"
          },
          "type": "rect",
          "x0": 40,
          "x1": 0,
          "xref": "x3",
          "y0": 40,
          "y1": 0,
          "yref": "y3"
         },
         {
          "fillcolor": "rgb(253, 221, 203)",
          "label": {
           "text": "Block 02: 21.36ºC"
          },
          "type": "rect",
          "x0": 120,
          "x1": 40,
          "xref": "x3",
          "y0": 40,
          "y1": 0,
          "yref": "y3"
         },
         {
          "fillcolor": "rgb(197, 62, 61)",
          "label": {
           "text": "Block 03: 22.18ºC"
          },
          "type": "rect",
          "x0": 160,
          "x1": 120,
          "xref": "x3",
          "y0": 120,
          "y1": 0,
          "yref": "y3"
         },
         {
          "fillcolor": "rgb(250, 202, 177)",
          "label": {
           "text": "Block 04: 21.49ºC"
          },
          "type": "rect",
          "x0": 120,
          "x1": 80,
          "xref": "x3",
          "y0": 120,
          "y1": 80,
          "yref": "y3"
         },
         {
          "fillcolor": "rgb(248, 244, 242)",
          "label": {
           "text": "Block 05: 21.1ºC"
          },
          "type": "rect",
          "x0": 120,
          "x1": 0,
          "xref": "x3",
          "y0": 80,
          "y1": 40,
          "yref": "y3"
         },
         {
          "fillcolor": "rgb(186, 39, 50)",
          "label": {
           "text": "Block 06: 22.28ºC"
          },
          "type": "rect",
          "x0": 80,
          "x1": 0,
          "xref": "x3",
          "y0": 120,
          "y1": 80,
          "yref": "y3"
         }
        ],
        "showlegend": false,
        "template": {
         "data": {
          "bar": [
           {
            "error_x": {
             "color": "#2a3f5f"
            },
            "error_y": {
             "color": "#2a3f5f"
            },
            "marker": {
             "line": {
              "color": "#E5ECF6",
              "width": 0.5
             },
             "pattern": {
              "fillmode": "overlay",
              "size": 10,
              "solidity": 0.2
             }
            },
            "type": "bar"
           }
          ],
          "barpolar": [
           {
            "marker": {
             "line": {
              "color": "#E5ECF6",
              "width": 0.5
             },
             "pattern": {
              "fillmode": "overlay",
              "size": 10,
              "solidity": 0.2
             }
            },
            "type": "barpolar"
           }
          ],
          "carpet": [
           {
            "aaxis": {
             "endlinecolor": "#2a3f5f",
             "gridcolor": "white",
             "linecolor": "white",
             "minorgridcolor": "white",
             "startlinecolor": "#2a3f5f"
            },
            "baxis": {
             "endlinecolor": "#2a3f5f",
             "gridcolor": "white",
             "linecolor": "white",
             "minorgridcolor": "white",
             "startlinecolor": "#2a3f5f"
            },
            "type": "carpet"
           }
          ],
          "choropleth": [
           {
            "colorbar": {
             "outlinewidth": 0,
             "ticks": ""
            },
            "type": "choropleth"
           }
          ],
          "contour": [
           {
            "colorbar": {
             "outlinewidth": 0,
             "ticks": ""
            },
            "colorscale": [
             [
              0,
              "#0d0887"
             ],
             [
              0.1111111111111111,
              "#46039f"
             ],
             [
              0.2222222222222222,
              "#7201a8"
             ],
             [
              0.3333333333333333,
              "#9c179e"
             ],
             [
              0.4444444444444444,
              "#bd3786"
             ],
             [
              0.5555555555555556,
              "#d8576b"
             ],
             [
              0.6666666666666666,
              "#ed7953"
             ],
             [
              0.7777777777777778,
              "#fb9f3a"
             ],
             [
              0.8888888888888888,
              "#fdca26"
             ],
             [
              1,
              "#f0f921"
             ]
            ],
            "type": "contour"
           }
          ],
          "contourcarpet": [
           {
            "colorbar": {
             "outlinewidth": 0,
             "ticks": ""
            },
            "type": "contourcarpet"
           }
          ],
          "heatmap": [
           {
            "colorbar": {
             "outlinewidth": 0,
             "ticks": ""
            },
            "colorscale": [
             [
              0,
              "#0d0887"
             ],
             [
              0.1111111111111111,
              "#46039f"
             ],
             [
              0.2222222222222222,
              "#7201a8"
             ],
             [
              0.3333333333333333,
              "#9c179e"
             ],
             [
              0.4444444444444444,
              "#bd3786"
             ],
             [
              0.5555555555555556,
              "#d8576b"
             ],
             [
              0.6666666666666666,
              "#ed7953"
             ],
             [
              0.7777777777777778,
              "#fb9f3a"
             ],
             [
              0.8888888888888888,
              "#fdca26"
             ],
             [
              1,
              "#f0f921"
             ]
            ],
            "type": "heatmap"
           }
          ],
          "heatmapgl": [
           {
            "colorbar": {
             "outlinewidth": 0,
             "ticks": ""
            },
            "colorscale": [
             [
              0,
              "#0d0887"
             ],
             [
              0.1111111111111111,
              "#46039f"
             ],
             [
              0.2222222222222222,
              "#7201a8"
             ],
             [
              0.3333333333333333,
              "#9c179e"
             ],
             [
              0.4444444444444444,
              "#bd3786"
             ],
             [
              0.5555555555555556,
              "#d8576b"
             ],
             [
              0.6666666666666666,
              "#ed7953"
             ],
             [
              0.7777777777777778,
              "#fb9f3a"
             ],
             [
              0.8888888888888888,
              "#fdca26"
             ],
             [
              1,
              "#f0f921"
             ]
            ],
            "type": "heatmapgl"
           }
          ],
          "histogram": [
           {
            "marker": {
             "pattern": {
              "fillmode": "overlay",
              "size": 10,
              "solidity": 0.2
             }
            },
            "type": "histogram"
           }
          ],
          "histogram2d": [
           {
            "colorbar": {
             "outlinewidth": 0,
             "ticks": ""
            },
            "colorscale": [
             [
              0,
              "#0d0887"
             ],
             [
              0.1111111111111111,
              "#46039f"
             ],
             [
              0.2222222222222222,
              "#7201a8"
             ],
             [
              0.3333333333333333,
              "#9c179e"
             ],
             [
              0.4444444444444444,
              "#bd3786"
             ],
             [
              0.5555555555555556,
              "#d8576b"
             ],
             [
              0.6666666666666666,
              "#ed7953"
             ],
             [
              0.7777777777777778,
              "#fb9f3a"
             ],
             [
              0.8888888888888888,
              "#fdca26"
             ],
             [
              1,
              "#f0f921"
             ]
            ],
            "type": "histogram2d"
           }
          ],
          "histogram2dcontour": [
           {
            "colorbar": {
             "outlinewidth": 0,
             "ticks": ""
            },
            "colorscale": [
             [
              0,
              "#0d0887"
             ],
             [
              0.1111111111111111,
              "#46039f"
             ],
             [
              0.2222222222222222,
              "#7201a8"
             ],
             [
              0.3333333333333333,
              "#9c179e"
             ],
             [
              0.4444444444444444,
              "#bd3786"
             ],
             [
              0.5555555555555556,
              "#d8576b"
             ],
             [
              0.6666666666666666,
              "#ed7953"
             ],
             [
              0.7777777777777778,
              "#fb9f3a"
             ],
             [
              0.8888888888888888,
              "#fdca26"
             ],
             [
              1,
              "#f0f921"
             ]
            ],
            "type": "histogram2dcontour"
           }
          ],
          "mesh3d": [
           {
            "colorbar": {
             "outlinewidth": 0,
             "ticks": ""
            },
            "type": "mesh3d"
           }
          ],
          "parcoords": [
           {
            "line": {
             "colorbar": {
              "outlinewidth": 0,
              "ticks": ""
             }
            },
            "type": "parcoords"
           }
          ],
          "pie": [
           {
            "automargin": true,
            "type": "pie"
           }
          ],
          "scatter": [
           {
            "fillpattern": {
             "fillmode": "overlay",
             "size": 10,
             "solidity": 0.2
            },
            "type": "scatter"
           }
          ],
          "scatter3d": [
           {
            "line": {
             "colorbar": {
              "outlinewidth": 0,
              "ticks": ""
             }
            },
            "marker": {
             "colorbar": {
              "outlinewidth": 0,
              "ticks": ""
             }
            },
            "type": "scatter3d"
           }
          ],
          "scattercarpet": [
           {
            "marker": {
             "colorbar": {
              "outlinewidth": 0,
              "ticks": ""
             }
            },
            "type": "scattercarpet"
           }
          ],
          "scattergeo": [
           {
            "marker": {
             "colorbar": {
              "outlinewidth": 0,
              "ticks": ""
             }
            },
            "type": "scattergeo"
           }
          ],
          "scattergl": [
           {
            "marker": {
             "colorbar": {
              "outlinewidth": 0,
              "ticks": ""
             }
            },
            "type": "scattergl"
           }
          ],
          "scattermapbox": [
           {
            "marker": {
             "colorbar": {
              "outlinewidth": 0,
              "ticks": ""
             }
            },
            "type": "scattermapbox"
           }
          ],
          "scatterpolar": [
           {
            "marker": {
             "colorbar": {
              "outlinewidth": 0,
              "ticks": ""
             }
            },
            "type": "scatterpolar"
           }
          ],
          "scatterpolargl": [
           {
            "marker": {
             "colorbar": {
              "outlinewidth": 0,
              "ticks": ""
             }
            },
            "type": "scatterpolargl"
           }
          ],
          "scatterternary": [
           {
            "marker": {
             "colorbar": {
              "outlinewidth": 0,
              "ticks": ""
             }
            },
            "type": "scatterternary"
           }
          ],
          "surface": [
           {
            "colorbar": {
             "outlinewidth": 0,
             "ticks": ""
            },
            "colorscale": [
             [
              0,
              "#0d0887"
             ],
             [
              0.1111111111111111,
              "#46039f"
             ],
             [
              0.2222222222222222,
              "#7201a8"
             ],
             [
              0.3333333333333333,
              "#9c179e"
             ],
             [
              0.4444444444444444,
              "#bd3786"
             ],
             [
              0.5555555555555556,
              "#d8576b"
             ],
             [
              0.6666666666666666,
              "#ed7953"
             ],
             [
              0.7777777777777778,
              "#fb9f3a"
             ],
             [
              0.8888888888888888,
              "#fdca26"
             ],
             [
              1,
              "#f0f921"
             ]
            ],
            "type": "surface"
           }
          ],
          "table": [
           {
            "cells": {
             "fill": {
              "color": "#EBF0F8"
             },
             "line": {
              "color": "white"
             }
            },
            "header": {
             "fill": {
              "color": "#C8D4E3"
             },
             "line": {
              "color": "white"
             }
            },
            "type": "table"
           }
          ]
         },
         "layout": {
          "annotationdefaults": {
           "arrowcolor": "#2a3f5f",
           "arrowhead": 0,
           "arrowwidth": 1
          },
          "autotypenumbers": "strict",
          "coloraxis": {
           "colorbar": {
            "outlinewidth": 0,
            "ticks": ""
           }
          },
          "colorscale": {
           "diverging": [
            [
             0,
             "#8e0152"
            ],
            [
             0.1,
             "#c51b7d"
            ],
            [
             0.2,
             "#de77ae"
            ],
            [
             0.3,
             "#f1b6da"
            ],
            [
             0.4,
             "#fde0ef"
            ],
            [
             0.5,
             "#f7f7f7"
            ],
            [
             0.6,
             "#e6f5d0"
            ],
            [
             0.7,
             "#b8e186"
            ],
            [
             0.8,
             "#7fbc41"
            ],
            [
             0.9,
             "#4d9221"
            ],
            [
             1,
             "#276419"
            ]
           ],
           "sequential": [
            [
             0,
             "#0d0887"
            ],
            [
             0.1111111111111111,
             "#46039f"
            ],
            [
             0.2222222222222222,
             "#7201a8"
            ],
            [
             0.3333333333333333,
             "#9c179e"
            ],
            [
             0.4444444444444444,
             "#bd3786"
            ],
            [
             0.5555555555555556,
             "#d8576b"
            ],
            [
             0.6666666666666666,
             "#ed7953"
            ],
            [
             0.7777777777777778,
             "#fb9f3a"
            ],
            [
             0.8888888888888888,
             "#fdca26"
            ],
            [
             1,
             "#f0f921"
            ]
           ],
           "sequentialminus": [
            [
             0,
             "#0d0887"
            ],
            [
             0.1111111111111111,
             "#46039f"
            ],
            [
             0.2222222222222222,
             "#7201a8"
            ],
            [
             0.3333333333333333,
             "#9c179e"
            ],
            [
             0.4444444444444444,
             "#bd3786"
            ],
            [
             0.5555555555555556,
             "#d8576b"
            ],
            [
             0.6666666666666666,
             "#ed7953"
            ],
            [
             0.7777777777777778,
             "#fb9f3a"
            ],
            [
             0.8888888888888888,
             "#fdca26"
            ],
            [
             1,
             "#f0f921"
            ]
           ]
          },
          "colorway": [
           "#636efa",
           "#EF553B",
           "#00cc96",
           "#ab63fa",
           "#FFA15A",
           "#19d3f3",
           "#FF6692",
           "#B6E880",
           "#FF97FF",
           "#FECB52"
          ],
          "font": {
           "color": "#2a3f5f"
          },
          "geo": {
           "bgcolor": "white",
           "lakecolor": "white",
           "landcolor": "#E5ECF6",
           "showlakes": true,
           "showland": true,
           "subunitcolor": "white"
          },
          "hoverlabel": {
           "align": "left"
          },
          "hovermode": "closest",
          "mapbox": {
           "style": "light"
          },
          "paper_bgcolor": "white",
          "plot_bgcolor": "#E5ECF6",
          "polar": {
           "angularaxis": {
            "gridcolor": "white",
            "linecolor": "white",
            "ticks": ""
           },
           "bgcolor": "#E5ECF6",
           "radialaxis": {
            "gridcolor": "white",
            "linecolor": "white",
            "ticks": ""
           }
          },
          "scene": {
           "xaxis": {
            "backgroundcolor": "#E5ECF6",
            "gridcolor": "white",
            "gridwidth": 2,
            "linecolor": "white",
            "showbackground": true,
            "ticks": "",
            "zerolinecolor": "white"
           },
           "yaxis": {
            "backgroundcolor": "#E5ECF6",
            "gridcolor": "white",
            "gridwidth": 2,
            "linecolor": "white",
            "showbackground": true,
            "ticks": "",
            "zerolinecolor": "white"
           },
           "zaxis": {
            "backgroundcolor": "#E5ECF6",
            "gridcolor": "white",
            "gridwidth": 2,
            "linecolor": "white",
            "showbackground": true,
            "ticks": "",
            "zerolinecolor": "white"
           }
          },
          "shapedefaults": {
           "line": {
            "color": "#2a3f5f"
           }
          },
          "ternary": {
           "aaxis": {
            "gridcolor": "white",
            "linecolor": "white",
            "ticks": ""
           },
           "baxis": {
            "gridcolor": "white",
            "linecolor": "white",
            "ticks": ""
           },
           "bgcolor": "#E5ECF6",
           "caxis": {
            "gridcolor": "white",
            "linecolor": "white",
            "ticks": ""
           }
          },
          "title": {
           "x": 0.05
          },
          "xaxis": {
           "automargin": true,
           "gridcolor": "white",
           "linecolor": "white",
           "ticks": "",
           "title": {
            "standoff": 15
           },
           "zerolinecolor": "white",
           "zerolinewidth": 2
          },
          "yaxis": {
           "automargin": true,
           "gridcolor": "white",
           "linecolor": "white",
           "ticks": "",
           "title": {
            "standoff": 15
           },
           "zerolinecolor": "white",
           "zerolinewidth": 2
          }
         }
        },
        "title": {
         "text": "zone_mean_air_temp7-21"
        },
        "xaxis": {
         "anchor": "y",
         "domain": [
          0,
          1
         ]
        },
        "xaxis2": {
         "anchor": "y2",
         "domain": [
          0,
          1
         ]
        },
        "xaxis3": {
         "anchor": "y3",
         "domain": [
          0,
          1
         ]
        },
        "yaxis": {
         "anchor": "x",
         "domain": [
          0.7777777777777778,
          1
         ]
        },
        "yaxis2": {
         "anchor": "x2",
         "domain": [
          0.3888888888888889,
          0.6111111111111112
         ]
        },
        "yaxis3": {
         "anchor": "x3",
         "domain": [
          0,
          0.22222222222222224
         ]
        }
       }
      }
     },
     "metadata": {},
     "output_type": "display_data"
    }
   ],
   "source": [
    "\n",
    "s = SpaceTimePlot(plt)\n",
    "times = [time(6), time(12), time(22)]\n",
    "s.extract_many_times(times, s.plotter.dataset_names[5])\n",
    "s.create_spatial_plots()"
   ]
  },
  {
   "cell_type": "code",
   "execution_count": 12,
   "metadata": {},
   "outputs": [
    {
     "data": {
      "application/vnd.plotly.v1+json": {
       "config": {
        "plotlyServerURL": "https://plotly.com"
       },
       "data": [
        {
         "name": "Block 01",
         "type": "scatter",
         "x": [
          "2017-07-21T00:00:00",
          "2017-07-21T00:15:00",
          "2017-07-21T00:30:00",
          "2017-07-21T00:45:00",
          "2017-07-21T01:00:00",
          "2017-07-21T01:15:00",
          "2017-07-21T01:30:00",
          "2017-07-21T01:45:00",
          "2017-07-21T02:00:00",
          "2017-07-21T02:15:00",
          "2017-07-21T02:30:00",
          "2017-07-21T02:45:00",
          "2017-07-21T03:00:00",
          "2017-07-21T03:15:00",
          "2017-07-21T03:30:00",
          "2017-07-21T03:45:00",
          "2017-07-21T04:00:00",
          "2017-07-21T04:15:00",
          "2017-07-21T04:30:00",
          "2017-07-21T04:45:00",
          "2017-07-21T05:00:00",
          "2017-07-21T05:15:00",
          "2017-07-21T05:30:00",
          "2017-07-21T05:45:00",
          "2017-07-21T06:00:00",
          "2017-07-21T06:15:00",
          "2017-07-21T06:30:00",
          "2017-07-21T06:45:00",
          "2017-07-21T07:00:00",
          "2017-07-21T07:15:00",
          "2017-07-21T07:30:00",
          "2017-07-21T07:45:00",
          "2017-07-21T08:00:00",
          "2017-07-21T08:15:00",
          "2017-07-21T08:30:00",
          "2017-07-21T08:45:00",
          "2017-07-21T09:00:00",
          "2017-07-21T09:15:00",
          "2017-07-21T09:30:00",
          "2017-07-21T09:45:00",
          "2017-07-21T10:00:00",
          "2017-07-21T10:15:00",
          "2017-07-21T10:30:00",
          "2017-07-21T10:45:00",
          "2017-07-21T11:00:00",
          "2017-07-21T11:15:00",
          "2017-07-21T11:30:00",
          "2017-07-21T11:45:00",
          "2017-07-21T12:00:00",
          "2017-07-21T12:15:00",
          "2017-07-21T12:30:00",
          "2017-07-21T12:45:00",
          "2017-07-21T13:00:00",
          "2017-07-21T13:15:00",
          "2017-07-21T13:30:00",
          "2017-07-21T13:45:00",
          "2017-07-21T14:00:00",
          "2017-07-21T14:15:00",
          "2017-07-21T14:30:00",
          "2017-07-21T14:45:00",
          "2017-07-21T15:00:00",
          "2017-07-21T15:15:00",
          "2017-07-21T15:30:00",
          "2017-07-21T15:45:00",
          "2017-07-21T16:00:00",
          "2017-07-21T16:15:00",
          "2017-07-21T16:30:00",
          "2017-07-21T16:45:00",
          "2017-07-21T17:00:00",
          "2017-07-21T17:15:00",
          "2017-07-21T17:30:00",
          "2017-07-21T17:45:00",
          "2017-07-21T18:00:00",
          "2017-07-21T18:15:00",
          "2017-07-21T18:30:00",
          "2017-07-21T18:45:00",
          "2017-07-21T19:00:00",
          "2017-07-21T19:15:00",
          "2017-07-21T19:30:00",
          "2017-07-21T19:45:00",
          "2017-07-21T20:00:00",
          "2017-07-21T20:15:00",
          "2017-07-21T20:30:00",
          "2017-07-21T20:45:00",
          "2017-07-21T21:00:00",
          "2017-07-21T21:15:00",
          "2017-07-21T21:30:00",
          "2017-07-21T21:45:00",
          "2017-07-21T22:00:00",
          "2017-07-21T22:15:00",
          "2017-07-21T22:30:00",
          "2017-07-21T22:45:00",
          "2017-07-21T23:00:00",
          "2017-07-21T23:15:00",
          "2017-07-21T23:30:00",
          "2017-07-21T23:45:00"
         ],
         "y": [
          22.54334750374565,
          22.51153852590217,
          22.47676443585289,
          22.43918917906217,
          22.398991093063366,
          22.356356722539193,
          22.310736922468795,
          22.263492224455266,
          22.214382138076186,
          22.16343324276519,
          22.110669557352654,
          22.056049129905446,
          21.999485642270574,
          21.940883704298468,
          21.880187257345053,
          21.8174075075931,
          21.752622676972315,
          21.685959386649866,
          21.617569261834895,
          21.547604878670505,
          21.476185238629483,
          21.40329654120226,
          21.32919058420233,
          21.2548959663733,
          21.182025585679675,
          21.10911181928174,
          21.036800623821623,
          20.965181903338905,
          20.89454153119769,
          20.825134087925804,
          20.75725914750906,
          20.691263222663864,
          20.627550203397664,
          20.566561934550293,
          20.508755853413366,
          20.454586248556186,
          20.404488201434052,
          20.358862734972373,
          20.318061565154245,
          20.28302980895496,
          20.25280168744288,
          20.22795729086803,
          20.208672604154607,
          20.194998451563674,
          20.186941901397688,
          20.184467080145893,
          20.187518102348083,
          20.195924504809515,
          20.20958948743077,
          20.228312745657718,
          20.251928589157707,
          20.280329779335247,
          20.313795545598044,
          20.35067113441325,
          20.39105404120514,
          20.433202031797993,
          20.47882730141105,
          20.528274040720895,
          20.581721988478918,
          20.640346368859642,
          20.707768993611033,
          20.781414687717938,
          20.861830967514393,
          20.948145695807845,
          21.039673622551366,
          21.13546465831986,
          21.234541420688224,
          21.335912449143247,
          21.43863496089131,
          21.541840964691588,
          21.64479631837067,
          21.74638794871599,
          21.842956363397196,
          21.937114803959602,
          22.02735454044573,
          22.11334971844246,
          22.194454646346582,
          22.27016620572104,
          22.33998411956023,
          22.403482086177913,
          22.460304956997145,
          22.510183266980857,
          22.552961030066005,
          22.588014842124533,
          22.616626240706697,
          22.63866546238091,
          22.65440811660121,
          22.66423340393768,
          22.668526314656365,
          22.667660124638036,
          22.662087296167634,
          22.65214711128128,
          22.637596600624466,
          22.619296583222322,
          22.597350602790165,
          22.571942689410292
         ]
        },
        {
         "name": "Block 02",
         "type": "scatter",
         "x": [
          "2017-07-21T00:00:00",
          "2017-07-21T00:15:00",
          "2017-07-21T00:30:00",
          "2017-07-21T00:45:00",
          "2017-07-21T01:00:00",
          "2017-07-21T01:15:00",
          "2017-07-21T01:30:00",
          "2017-07-21T01:45:00",
          "2017-07-21T02:00:00",
          "2017-07-21T02:15:00",
          "2017-07-21T02:30:00",
          "2017-07-21T02:45:00",
          "2017-07-21T03:00:00",
          "2017-07-21T03:15:00",
          "2017-07-21T03:30:00",
          "2017-07-21T03:45:00",
          "2017-07-21T04:00:00",
          "2017-07-21T04:15:00",
          "2017-07-21T04:30:00",
          "2017-07-21T04:45:00",
          "2017-07-21T05:00:00",
          "2017-07-21T05:15:00",
          "2017-07-21T05:30:00",
          "2017-07-21T05:45:00",
          "2017-07-21T06:00:00",
          "2017-07-21T06:15:00",
          "2017-07-21T06:30:00",
          "2017-07-21T06:45:00",
          "2017-07-21T07:00:00",
          "2017-07-21T07:15:00",
          "2017-07-21T07:30:00",
          "2017-07-21T07:45:00",
          "2017-07-21T08:00:00",
          "2017-07-21T08:15:00",
          "2017-07-21T08:30:00",
          "2017-07-21T08:45:00",
          "2017-07-21T09:00:00",
          "2017-07-21T09:15:00",
          "2017-07-21T09:30:00",
          "2017-07-21T09:45:00",
          "2017-07-21T10:00:00",
          "2017-07-21T10:15:00",
          "2017-07-21T10:30:00",
          "2017-07-21T10:45:00",
          "2017-07-21T11:00:00",
          "2017-07-21T11:15:00",
          "2017-07-21T11:30:00",
          "2017-07-21T11:45:00",
          "2017-07-21T12:00:00",
          "2017-07-21T12:15:00",
          "2017-07-21T12:30:00",
          "2017-07-21T12:45:00",
          "2017-07-21T13:00:00",
          "2017-07-21T13:15:00",
          "2017-07-21T13:30:00",
          "2017-07-21T13:45:00",
          "2017-07-21T14:00:00",
          "2017-07-21T14:15:00",
          "2017-07-21T14:30:00",
          "2017-07-21T14:45:00",
          "2017-07-21T15:00:00",
          "2017-07-21T15:15:00",
          "2017-07-21T15:30:00",
          "2017-07-21T15:45:00",
          "2017-07-21T16:00:00",
          "2017-07-21T16:15:00",
          "2017-07-21T16:30:00",
          "2017-07-21T16:45:00",
          "2017-07-21T17:00:00",
          "2017-07-21T17:15:00",
          "2017-07-21T17:30:00",
          "2017-07-21T17:45:00",
          "2017-07-21T18:00:00",
          "2017-07-21T18:15:00",
          "2017-07-21T18:30:00",
          "2017-07-21T18:45:00",
          "2017-07-21T19:00:00",
          "2017-07-21T19:15:00",
          "2017-07-21T19:30:00",
          "2017-07-21T19:45:00",
          "2017-07-21T20:00:00",
          "2017-07-21T20:15:00",
          "2017-07-21T20:30:00",
          "2017-07-21T20:45:00",
          "2017-07-21T21:00:00",
          "2017-07-21T21:15:00",
          "2017-07-21T21:30:00",
          "2017-07-21T21:45:00",
          "2017-07-21T22:00:00",
          "2017-07-21T22:15:00",
          "2017-07-21T22:30:00",
          "2017-07-21T22:45:00",
          "2017-07-21T23:00:00",
          "2017-07-21T23:15:00",
          "2017-07-21T23:30:00",
          "2017-07-21T23:45:00"
         ],
         "y": [
          21.309281828200362,
          21.291981376533453,
          21.272689129952774,
          21.25187678349327,
          21.228060498490233,
          21.1996586585225,
          21.169331928360307,
          21.137241118443843,
          21.103696467659287,
          21.068660747644028,
          21.032125396815363,
          20.99476344620062,
          20.95598561710097,
          20.915982933249243,
          20.874117504820582,
          20.830311347078553,
          20.7844648967762,
          20.736610395679378,
          20.686797655802643,
          20.634848837678973,
          20.58245100259961,
          20.529008961695283,
          20.47478059247277,
          20.419925558388623,
          20.364660738368258,
          20.30919701723852,
          20.253759214652085,
          20.198587884480954,
          20.143941662446597,
          20.090091270506186,
          20.037329242819727,
          19.985991343525143,
          19.936461467335324,
          19.88915624373278,
          19.84450451711683,
          19.802930500871422,
          19.76483900231406,
          19.730601727291287,
          19.700543197347034,
          19.675402172416735,
          19.65450475333698,
          19.638313974452206,
          19.626966729747764,
          19.62050363901154,
          19.61891905377677,
          19.622166668403185,
          19.629950006723693,
          19.642694344319633,
          19.659778528593467,
          19.681069700569154,
          19.706359910858474,
          19.735395585652878,
          19.767924869175985,
          19.80376197063644,
          19.8430631298161,
          19.881287159663493,
          19.918511976363607,
          19.964857994755988,
          20.013171946712404,
          20.066124727219396,
          20.123000843067288,
          20.181913064390873,
          20.24262171749423,
          20.305179391643758,
          20.368867979434704,
          20.433142852025522,
          20.497408230537346,
          20.561154241983765,
          20.623945618356323,
          20.685433280229876,
          20.745337615059807,
          20.80342828073602,
          20.85950659300197,
          20.913394885451474,
          20.96492321598256,
          21.013914026641906,
          21.060176178137805,
          21.103510772673722,
          21.14372819191191,
          21.18066880073372,
          21.21421453226715,
          21.24428996628612,
          21.270860277218496,
          21.293525351440987,
          21.31306515261044,
          21.329267605991667,
          21.34216866842302,
          21.35185056141954,
          21.3583987365816,
          21.36190047062643,
          21.362526132122614,
          21.36036512959219,
          21.355118670883158,
          21.34734597894805,
          21.337038715629365,
          21.3242813465041
         ]
        },
        {
         "name": "Block 03",
         "type": "scatter",
         "x": [
          "2017-07-21T00:00:00",
          "2017-07-21T00:15:00",
          "2017-07-21T00:30:00",
          "2017-07-21T00:45:00",
          "2017-07-21T01:00:00",
          "2017-07-21T01:15:00",
          "2017-07-21T01:30:00",
          "2017-07-21T01:45:00",
          "2017-07-21T02:00:00",
          "2017-07-21T02:15:00",
          "2017-07-21T02:30:00",
          "2017-07-21T02:45:00",
          "2017-07-21T03:00:00",
          "2017-07-21T03:15:00",
          "2017-07-21T03:30:00",
          "2017-07-21T03:45:00",
          "2017-07-21T04:00:00",
          "2017-07-21T04:15:00",
          "2017-07-21T04:30:00",
          "2017-07-21T04:45:00",
          "2017-07-21T05:00:00",
          "2017-07-21T05:15:00",
          "2017-07-21T05:30:00",
          "2017-07-21T05:45:00",
          "2017-07-21T06:00:00",
          "2017-07-21T06:15:00",
          "2017-07-21T06:30:00",
          "2017-07-21T06:45:00",
          "2017-07-21T07:00:00",
          "2017-07-21T07:15:00",
          "2017-07-21T07:30:00",
          "2017-07-21T07:45:00",
          "2017-07-21T08:00:00",
          "2017-07-21T08:15:00",
          "2017-07-21T08:30:00",
          "2017-07-21T08:45:00",
          "2017-07-21T09:00:00",
          "2017-07-21T09:15:00",
          "2017-07-21T09:30:00",
          "2017-07-21T09:45:00",
          "2017-07-21T10:00:00",
          "2017-07-21T10:15:00",
          "2017-07-21T10:30:00",
          "2017-07-21T10:45:00",
          "2017-07-21T11:00:00",
          "2017-07-21T11:15:00",
          "2017-07-21T11:30:00",
          "2017-07-21T11:45:00",
          "2017-07-21T12:00:00",
          "2017-07-21T12:15:00",
          "2017-07-21T12:30:00",
          "2017-07-21T12:45:00",
          "2017-07-21T13:00:00",
          "2017-07-21T13:15:00",
          "2017-07-21T13:30:00",
          "2017-07-21T13:45:00",
          "2017-07-21T14:00:00",
          "2017-07-21T14:15:00",
          "2017-07-21T14:30:00",
          "2017-07-21T14:45:00",
          "2017-07-21T15:00:00",
          "2017-07-21T15:15:00",
          "2017-07-21T15:30:00",
          "2017-07-21T15:45:00",
          "2017-07-21T16:00:00",
          "2017-07-21T16:15:00",
          "2017-07-21T16:30:00",
          "2017-07-21T16:45:00",
          "2017-07-21T17:00:00",
          "2017-07-21T17:15:00",
          "2017-07-21T17:30:00",
          "2017-07-21T17:45:00",
          "2017-07-21T18:00:00",
          "2017-07-21T18:15:00",
          "2017-07-21T18:30:00",
          "2017-07-21T18:45:00",
          "2017-07-21T19:00:00",
          "2017-07-21T19:15:00",
          "2017-07-21T19:30:00",
          "2017-07-21T19:45:00",
          "2017-07-21T20:00:00",
          "2017-07-21T20:15:00",
          "2017-07-21T20:30:00",
          "2017-07-21T20:45:00",
          "2017-07-21T21:00:00",
          "2017-07-21T21:15:00",
          "2017-07-21T21:30:00",
          "2017-07-21T21:45:00",
          "2017-07-21T22:00:00",
          "2017-07-21T22:15:00",
          "2017-07-21T22:30:00",
          "2017-07-21T22:45:00",
          "2017-07-21T23:00:00",
          "2017-07-21T23:15:00",
          "2017-07-21T23:30:00",
          "2017-07-21T23:45:00"
         ],
         "y": [
          22.27590616746817,
          22.283169713456292,
          22.2895097409864,
          22.29481018177791,
          22.298933369836014,
          22.301711804150848,
          22.302887875005634,
          22.30224189888473,
          22.299422172785277,
          22.293989419103163,
          22.285387513765478,
          22.27291157107188,
          22.25570968750742,
          22.232895554321498,
          22.203755326052338,
          22.16790480251443,
          22.125321243717952,
          22.07628248743317,
          22.02127379363798,
          21.960900314030454,
          21.89581753434475,
          21.826682705399836,
          21.754131810052048,
          21.678775188118117,
          21.601194149954594,
          21.521934386373097,
          21.441506977358035,
          21.360393666683258,
          21.279027188235045,
          21.197701594459787,
          21.11773996283551,
          21.03948199209995,
          20.963782555010468,
          20.89091753918749,
          20.821422648407378,
          20.755824629273544,
          20.69462906960966,
          20.638297894984593,
          20.587235459428662,
          20.542558907278774,
          20.503113183074063,
          20.469583012269496,
          20.44215896257884,
          20.420902570002863,
          20.405814999890364,
          20.396847970768526,
          20.39417879855431,
          20.396925994987615,
          20.40554436826326,
          20.419673241022473,
          20.439161270484192,
          20.46343141454806,
          20.492238153314435,
          20.52482557817029,
          20.561189449463924,
          20.600481794499668,
          20.64265960711825,
          20.687579794905893,
          20.734974823810067,
          20.78439895163154,
          20.833769015933125,
          20.886558972908926,
          20.94311793378589,
          21.001760009040268,
          21.06240225977285,
          21.12439522412549,
          21.18729735819629,
          21.250631866220182,
          21.313986614978386,
          21.376990961897047,
          21.43932200274049,
          21.500687548957004,
          21.560815876340204,
          21.619449270847763,
          21.676333132411823,
          21.731200887584436,
          21.783768812848354,
          21.833743883160505,
          21.880844287962784,
          21.924823962029475,
          21.965487376557032,
          22.00270242205128,
          22.03644076042691,
          22.066330966290952,
          22.093565430541418,
          22.118247714019706,
          22.140866109803586,
          22.162057331177937,
          22.18275963526417,
          22.200334599477326,
          22.213756406081295,
          22.22665760454937,
          22.238500243682278,
          22.249165966855838,
          22.258866414863,
          22.267762641370712
         ]
        },
        {
         "name": "Block 04",
         "type": "scatter",
         "x": [
          "2017-07-21T00:00:00",
          "2017-07-21T00:15:00",
          "2017-07-21T00:30:00",
          "2017-07-21T00:45:00",
          "2017-07-21T01:00:00",
          "2017-07-21T01:15:00",
          "2017-07-21T01:30:00",
          "2017-07-21T01:45:00",
          "2017-07-21T02:00:00",
          "2017-07-21T02:15:00",
          "2017-07-21T02:30:00",
          "2017-07-21T02:45:00",
          "2017-07-21T03:00:00",
          "2017-07-21T03:15:00",
          "2017-07-21T03:30:00",
          "2017-07-21T03:45:00",
          "2017-07-21T04:00:00",
          "2017-07-21T04:15:00",
          "2017-07-21T04:30:00",
          "2017-07-21T04:45:00",
          "2017-07-21T05:00:00",
          "2017-07-21T05:15:00",
          "2017-07-21T05:30:00",
          "2017-07-21T05:45:00",
          "2017-07-21T06:00:00",
          "2017-07-21T06:15:00",
          "2017-07-21T06:30:00",
          "2017-07-21T06:45:00",
          "2017-07-21T07:00:00",
          "2017-07-21T07:15:00",
          "2017-07-21T07:30:00",
          "2017-07-21T07:45:00",
          "2017-07-21T08:00:00",
          "2017-07-21T08:15:00",
          "2017-07-21T08:30:00",
          "2017-07-21T08:45:00",
          "2017-07-21T09:00:00",
          "2017-07-21T09:15:00",
          "2017-07-21T09:30:00",
          "2017-07-21T09:45:00",
          "2017-07-21T10:00:00",
          "2017-07-21T10:15:00",
          "2017-07-21T10:30:00",
          "2017-07-21T10:45:00",
          "2017-07-21T11:00:00",
          "2017-07-21T11:15:00",
          "2017-07-21T11:30:00",
          "2017-07-21T11:45:00",
          "2017-07-21T12:00:00",
          "2017-07-21T12:15:00",
          "2017-07-21T12:30:00",
          "2017-07-21T12:45:00",
          "2017-07-21T13:00:00",
          "2017-07-21T13:15:00",
          "2017-07-21T13:30:00",
          "2017-07-21T13:45:00",
          "2017-07-21T14:00:00",
          "2017-07-21T14:15:00",
          "2017-07-21T14:30:00",
          "2017-07-21T14:45:00",
          "2017-07-21T15:00:00",
          "2017-07-21T15:15:00",
          "2017-07-21T15:30:00",
          "2017-07-21T15:45:00",
          "2017-07-21T16:00:00",
          "2017-07-21T16:15:00",
          "2017-07-21T16:30:00",
          "2017-07-21T16:45:00",
          "2017-07-21T17:00:00",
          "2017-07-21T17:15:00",
          "2017-07-21T17:30:00",
          "2017-07-21T17:45:00",
          "2017-07-21T18:00:00",
          "2017-07-21T18:15:00",
          "2017-07-21T18:30:00",
          "2017-07-21T18:45:00",
          "2017-07-21T19:00:00",
          "2017-07-21T19:15:00",
          "2017-07-21T19:30:00",
          "2017-07-21T19:45:00",
          "2017-07-21T20:00:00",
          "2017-07-21T20:15:00",
          "2017-07-21T20:30:00",
          "2017-07-21T20:45:00",
          "2017-07-21T21:00:00",
          "2017-07-21T21:15:00",
          "2017-07-21T21:30:00",
          "2017-07-21T21:45:00",
          "2017-07-21T22:00:00",
          "2017-07-21T22:15:00",
          "2017-07-21T22:30:00",
          "2017-07-21T22:45:00",
          "2017-07-21T23:00:00",
          "2017-07-21T23:15:00",
          "2017-07-21T23:30:00",
          "2017-07-21T23:45:00"
         ],
         "y": [
          21.560112464903344,
          21.550697558328608,
          21.537230102176157,
          21.519885886105847,
          21.498773002374968,
          21.474063310162432,
          21.44548011441784,
          21.413960018319177,
          21.379486866980137,
          21.342224516680314,
          21.302354358926962,
          21.260025564022975,
          21.215350739804244,
          21.16838830417372,
          21.1190775586485,
          21.06698143097739,
          21.014998935794164,
          20.962426489551095,
          20.90899519486912,
          20.854837423362376,
          20.799951891316592,
          20.74415115860224,
          20.68927933733823,
          20.63411021759768,
          20.579118064602863,
          20.52431526522327,
          20.46987704967985,
          20.415958839340494,
          20.36275362440027,
          20.310467985115185,
          20.259335233469614,
          20.209632633063997,
          20.161685572200486,
          20.115852588300363,
          20.07250612360195,
          20.032016890882662,
          19.994740419827636,
          19.96100476769612,
          19.9310979516033,
          19.905731194877266,
          19.88422208253835,
          19.86700934675241,
          19.85423105715789,
          19.845928242672695,
          19.842103901420693,
          19.842723847310346,
          19.847620056000594,
          19.85694164250718,
          19.87033590989423,
          19.887652603852334,
          19.908707238692962,
          19.93329223296088,
          19.961233282213573,
          19.992881262404545,
          20.02562442428908,
          20.059476105068875,
          20.089902467751426,
          20.129845154401753,
          20.17110211884334,
          20.214998999445427,
          20.260809233897657,
          20.308967802059776,
          20.35726454522647,
          20.40707477372878,
          20.45765348175206,
          20.508894569770057,
          20.56049477328045,
          20.61225512088638,
          20.664002437037336,
          20.71561178201441,
          20.76698332062421,
          20.818027376492495,
          20.868651323887487,
          20.918753097791882,
          20.968211290512112,
          21.016872966969846,
          21.064550019484273,
          21.111026376378863,
          21.156075438737325,
          21.19948069745083,
          21.241047749582645,
          21.28060658076672,
          21.318011029390973,
          21.35258390398438,
          21.3851963553612,
          21.415424299401504,
          21.443128525877476,
          21.46823029417398,
          21.490648998883504,
          21.510309431781124,
          21.526681262308248,
          21.540608132118866,
          21.551969777281098,
          21.560287171662157,
          21.56619601414693,
          21.56549072002952
         ]
        },
        {
         "name": "Block 05",
         "type": "scatter",
         "x": [
          "2017-07-21T00:00:00",
          "2017-07-21T00:15:00",
          "2017-07-21T00:30:00",
          "2017-07-21T00:45:00",
          "2017-07-21T01:00:00",
          "2017-07-21T01:15:00",
          "2017-07-21T01:30:00",
          "2017-07-21T01:45:00",
          "2017-07-21T02:00:00",
          "2017-07-21T02:15:00",
          "2017-07-21T02:30:00",
          "2017-07-21T02:45:00",
          "2017-07-21T03:00:00",
          "2017-07-21T03:15:00",
          "2017-07-21T03:30:00",
          "2017-07-21T03:45:00",
          "2017-07-21T04:00:00",
          "2017-07-21T04:15:00",
          "2017-07-21T04:30:00",
          "2017-07-21T04:45:00",
          "2017-07-21T05:00:00",
          "2017-07-21T05:15:00",
          "2017-07-21T05:30:00",
          "2017-07-21T05:45:00",
          "2017-07-21T06:00:00",
          "2017-07-21T06:15:00",
          "2017-07-21T06:30:00",
          "2017-07-21T06:45:00",
          "2017-07-21T07:00:00",
          "2017-07-21T07:15:00",
          "2017-07-21T07:30:00",
          "2017-07-21T07:45:00",
          "2017-07-21T08:00:00",
          "2017-07-21T08:15:00",
          "2017-07-21T08:30:00",
          "2017-07-21T08:45:00",
          "2017-07-21T09:00:00",
          "2017-07-21T09:15:00",
          "2017-07-21T09:30:00",
          "2017-07-21T09:45:00",
          "2017-07-21T10:00:00",
          "2017-07-21T10:15:00",
          "2017-07-21T10:30:00",
          "2017-07-21T10:45:00",
          "2017-07-21T11:00:00",
          "2017-07-21T11:15:00",
          "2017-07-21T11:30:00",
          "2017-07-21T11:45:00",
          "2017-07-21T12:00:00",
          "2017-07-21T12:15:00",
          "2017-07-21T12:30:00",
          "2017-07-21T12:45:00",
          "2017-07-21T13:00:00",
          "2017-07-21T13:15:00",
          "2017-07-21T13:30:00",
          "2017-07-21T13:45:00",
          "2017-07-21T14:00:00",
          "2017-07-21T14:15:00",
          "2017-07-21T14:30:00",
          "2017-07-21T14:45:00",
          "2017-07-21T15:00:00",
          "2017-07-21T15:15:00",
          "2017-07-21T15:30:00",
          "2017-07-21T15:45:00",
          "2017-07-21T16:00:00",
          "2017-07-21T16:15:00",
          "2017-07-21T16:30:00",
          "2017-07-21T16:45:00",
          "2017-07-21T17:00:00",
          "2017-07-21T17:15:00",
          "2017-07-21T17:30:00",
          "2017-07-21T17:45:00",
          "2017-07-21T18:00:00",
          "2017-07-21T18:15:00",
          "2017-07-21T18:30:00",
          "2017-07-21T18:45:00",
          "2017-07-21T19:00:00",
          "2017-07-21T19:15:00",
          "2017-07-21T19:30:00",
          "2017-07-21T19:45:00",
          "2017-07-21T20:00:00",
          "2017-07-21T20:15:00",
          "2017-07-21T20:30:00",
          "2017-07-21T20:45:00",
          "2017-07-21T21:00:00",
          "2017-07-21T21:15:00",
          "2017-07-21T21:30:00",
          "2017-07-21T21:45:00",
          "2017-07-21T22:00:00",
          "2017-07-21T22:15:00",
          "2017-07-21T22:30:00",
          "2017-07-21T22:45:00",
          "2017-07-21T23:00:00",
          "2017-07-21T23:15:00",
          "2017-07-21T23:30:00",
          "2017-07-21T23:45:00"
         ],
         "y": [
          21.00816606983626,
          20.985598034442592,
          20.961058975542823,
          20.934641232282182,
          20.906426921210198,
          20.876478347017375,
          20.844197840574367,
          20.81179407861244,
          20.775389089544507,
          20.736692299223456,
          20.697089046975854,
          20.655696646549067,
          20.612675573608346,
          20.56868791256058,
          20.524556900757503,
          20.479466861130796,
          20.433765445364916,
          20.38743174034642,
          20.340571061434435,
          20.293246419739628,
          20.24553435171498,
          20.197505292975496,
          20.149235662877498,
          20.100815735709908,
          20.052353975668073,
          20.0039740608955,
          19.95581683249034,
          19.90804706115325,
          19.860853343776338,
          19.81444248914631,
          19.769047154757725,
          19.72494420861301,
          19.682458289343796,
          19.641947218972764,
          19.603782836687976,
          19.568335178923714,
          19.535958576671035,
          19.506978808952592,
          19.48168000531407,
          19.460691261224035,
          19.44344566694824,
          19.430338985387873,
          19.42148188431595,
          19.416902155720503,
          19.416582906658885,
          19.420468029956915,
          19.42823743904708,
          19.440336676147556,
          19.456100388393907,
          19.475365548835438,
          19.497862393785194,
          19.523205388650503,
          19.550829368309156,
          19.579508034423718,
          19.603515414142503,
          19.639557517217668,
          19.67578801744666,
          19.717149667267652,
          19.76264971013266,
          19.810924149015705,
          19.862968887557855,
          19.91869311790655,
          19.976304800181587,
          20.03650460829045,
          20.097550829706556,
          20.16036012997553,
          20.224058747881152,
          20.28834733827227,
          20.352710730419346,
          20.416705915854497,
          20.479875984923805,
          20.541788871638634,
          20.602033236815206,
          20.6602260476838,
          20.716006459555608,
          20.76902544920267,
          20.818941057437577,
          20.86542293406012,
          20.90816600685575,
          20.94690707338418,
          20.981433823511658,
          21.01158909544919,
          21.03728512127435,
          21.0581339543895,
          21.074950209598978,
          21.0876143187679,
          21.096285516433234,
          21.101177601345046,
          21.102508221516977,
          21.10048848541015,
          21.095540881566322,
          21.08761687314913,
          21.07642395230457,
          21.062852699522708,
          21.046857074636527,
          21.028549454046736
         ]
        },
        {
         "name": "Block 06",
         "type": "scatter",
         "x": [
          "2017-07-21T00:00:00",
          "2017-07-21T00:15:00",
          "2017-07-21T00:30:00",
          "2017-07-21T00:45:00",
          "2017-07-21T01:00:00",
          "2017-07-21T01:15:00",
          "2017-07-21T01:30:00",
          "2017-07-21T01:45:00",
          "2017-07-21T02:00:00",
          "2017-07-21T02:15:00",
          "2017-07-21T02:30:00",
          "2017-07-21T02:45:00",
          "2017-07-21T03:00:00",
          "2017-07-21T03:15:00",
          "2017-07-21T03:30:00",
          "2017-07-21T03:45:00",
          "2017-07-21T04:00:00",
          "2017-07-21T04:15:00",
          "2017-07-21T04:30:00",
          "2017-07-21T04:45:00",
          "2017-07-21T05:00:00",
          "2017-07-21T05:15:00",
          "2017-07-21T05:30:00",
          "2017-07-21T05:45:00",
          "2017-07-21T06:00:00",
          "2017-07-21T06:15:00",
          "2017-07-21T06:30:00",
          "2017-07-21T06:45:00",
          "2017-07-21T07:00:00",
          "2017-07-21T07:15:00",
          "2017-07-21T07:30:00",
          "2017-07-21T07:45:00",
          "2017-07-21T08:00:00",
          "2017-07-21T08:15:00",
          "2017-07-21T08:30:00",
          "2017-07-21T08:45:00",
          "2017-07-21T09:00:00",
          "2017-07-21T09:15:00",
          "2017-07-21T09:30:00",
          "2017-07-21T09:45:00",
          "2017-07-21T10:00:00",
          "2017-07-21T10:15:00",
          "2017-07-21T10:30:00",
          "2017-07-21T10:45:00",
          "2017-07-21T11:00:00",
          "2017-07-21T11:15:00",
          "2017-07-21T11:30:00",
          "2017-07-21T11:45:00",
          "2017-07-21T12:00:00",
          "2017-07-21T12:15:00",
          "2017-07-21T12:30:00",
          "2017-07-21T12:45:00",
          "2017-07-21T13:00:00",
          "2017-07-21T13:15:00",
          "2017-07-21T13:30:00",
          "2017-07-21T13:45:00",
          "2017-07-21T14:00:00",
          "2017-07-21T14:15:00",
          "2017-07-21T14:30:00",
          "2017-07-21T14:45:00",
          "2017-07-21T15:00:00",
          "2017-07-21T15:15:00",
          "2017-07-21T15:30:00",
          "2017-07-21T15:45:00",
          "2017-07-21T16:00:00",
          "2017-07-21T16:15:00",
          "2017-07-21T16:30:00",
          "2017-07-21T16:45:00",
          "2017-07-21T17:00:00",
          "2017-07-21T17:15:00",
          "2017-07-21T17:30:00",
          "2017-07-21T17:45:00",
          "2017-07-21T18:00:00",
          "2017-07-21T18:15:00",
          "2017-07-21T18:30:00",
          "2017-07-21T18:45:00",
          "2017-07-21T19:00:00",
          "2017-07-21T19:15:00",
          "2017-07-21T19:30:00",
          "2017-07-21T19:45:00",
          "2017-07-21T20:00:00",
          "2017-07-21T20:15:00",
          "2017-07-21T20:30:00",
          "2017-07-21T20:45:00",
          "2017-07-21T21:00:00",
          "2017-07-21T21:15:00",
          "2017-07-21T21:30:00",
          "2017-07-21T21:45:00",
          "2017-07-21T22:00:00",
          "2017-07-21T22:15:00",
          "2017-07-21T22:30:00",
          "2017-07-21T22:45:00",
          "2017-07-21T23:00:00",
          "2017-07-21T23:15:00",
          "2017-07-21T23:30:00",
          "2017-07-21T23:45:00"
         ],
         "y": [
          22.274478448685464,
          22.253539817994714,
          22.228341096530944,
          22.19895708424682,
          22.165508760873646,
          22.128159026538306,
          22.086439850669862,
          22.041624429009733,
          21.993610295500915,
          21.942575638916555,
          21.888730035621226,
          21.832264045717345,
          21.773349438694208,
          21.712146114903195,
          21.64881765728938,
          21.58353998427568,
          21.51649857332652,
          21.447877743528323,
          21.377847323848734,
          21.306541827985292,
          21.233976182604465,
          21.160657818263225,
          21.086928115308435,
          21.01302794276936,
          20.940239747780875,
          20.86770409284824,
          20.79584092459409,
          20.72477555994908,
          20.65477067964651,
          20.586077864796085,
          20.518990347226435,
          20.453851755660324,
          20.39106481786376,
          20.331072083312133,
          20.274332884891894,
          20.2213039698054,
          20.172422656309372,
          20.128091129640747,
          20.088660309139723,
          20.05504671731794,
          20.026314094564974,
          20.00303046802638,
          19.985349843645736,
          19.9733118524167,
          19.966906340020444,
          19.966079937232145,
          19.970702217719392,
          19.980723228439132,
          19.995908456656917,
          20.016041407249862,
          20.040917573897005,
          20.07034011147888,
          20.10423602322449,
          20.14256515885406,
          20.183231818979007,
          20.227055777675865,
          20.27221175953661,
          20.31887747608759,
          20.366199463757518,
          20.421477076693353,
          20.479692783896173,
          20.542649868605157,
          20.60951775749136,
          20.68022323906609,
          20.754278614947744,
          20.83120929813866,
          20.910462717766396,
          20.991493323040384,
          21.07377132694671,
          21.156793365344967,
          21.240076253291495,
          21.323152959629322,
          21.40557179573899,
          21.486896923280902,
          21.566701099706293,
          21.644553739637658,
          21.720018672001167,
          21.792666149298338,
          21.86210270115982,
          21.928026561276425,
          21.990412034979908,
          22.046121020595276,
          22.095703454934032,
          22.139499770204676,
          22.178520645332835,
          22.212488300169326,
          22.241405761888537,
          22.2654037154419,
          22.284591604833242,
          22.299072294061734,
          22.308499027205244,
          22.313825605307933,
          22.31487919674056,
          22.311323659910045,
          22.30335681784127,
          22.291039190661195
         ]
        }
       ],
       "layout": {
        "template": {
         "data": {
          "bar": [
           {
            "error_x": {
             "color": "#2a3f5f"
            },
            "error_y": {
             "color": "#2a3f5f"
            },
            "marker": {
             "line": {
              "color": "#E5ECF6",
              "width": 0.5
             },
             "pattern": {
              "fillmode": "overlay",
              "size": 10,
              "solidity": 0.2
             }
            },
            "type": "bar"
           }
          ],
          "barpolar": [
           {
            "marker": {
             "line": {
              "color": "#E5ECF6",
              "width": 0.5
             },
             "pattern": {
              "fillmode": "overlay",
              "size": 10,
              "solidity": 0.2
             }
            },
            "type": "barpolar"
           }
          ],
          "carpet": [
           {
            "aaxis": {
             "endlinecolor": "#2a3f5f",
             "gridcolor": "white",
             "linecolor": "white",
             "minorgridcolor": "white",
             "startlinecolor": "#2a3f5f"
            },
            "baxis": {
             "endlinecolor": "#2a3f5f",
             "gridcolor": "white",
             "linecolor": "white",
             "minorgridcolor": "white",
             "startlinecolor": "#2a3f5f"
            },
            "type": "carpet"
           }
          ],
          "choropleth": [
           {
            "colorbar": {
             "outlinewidth": 0,
             "ticks": ""
            },
            "type": "choropleth"
           }
          ],
          "contour": [
           {
            "colorbar": {
             "outlinewidth": 0,
             "ticks": ""
            },
            "colorscale": [
             [
              0,
              "#0d0887"
             ],
             [
              0.1111111111111111,
              "#46039f"
             ],
             [
              0.2222222222222222,
              "#7201a8"
             ],
             [
              0.3333333333333333,
              "#9c179e"
             ],
             [
              0.4444444444444444,
              "#bd3786"
             ],
             [
              0.5555555555555556,
              "#d8576b"
             ],
             [
              0.6666666666666666,
              "#ed7953"
             ],
             [
              0.7777777777777778,
              "#fb9f3a"
             ],
             [
              0.8888888888888888,
              "#fdca26"
             ],
             [
              1,
              "#f0f921"
             ]
            ],
            "type": "contour"
           }
          ],
          "contourcarpet": [
           {
            "colorbar": {
             "outlinewidth": 0,
             "ticks": ""
            },
            "type": "contourcarpet"
           }
          ],
          "heatmap": [
           {
            "colorbar": {
             "outlinewidth": 0,
             "ticks": ""
            },
            "colorscale": [
             [
              0,
              "#0d0887"
             ],
             [
              0.1111111111111111,
              "#46039f"
             ],
             [
              0.2222222222222222,
              "#7201a8"
             ],
             [
              0.3333333333333333,
              "#9c179e"
             ],
             [
              0.4444444444444444,
              "#bd3786"
             ],
             [
              0.5555555555555556,
              "#d8576b"
             ],
             [
              0.6666666666666666,
              "#ed7953"
             ],
             [
              0.7777777777777778,
              "#fb9f3a"
             ],
             [
              0.8888888888888888,
              "#fdca26"
             ],
             [
              1,
              "#f0f921"
             ]
            ],
            "type": "heatmap"
           }
          ],
          "heatmapgl": [
           {
            "colorbar": {
             "outlinewidth": 0,
             "ticks": ""
            },
            "colorscale": [
             [
              0,
              "#0d0887"
             ],
             [
              0.1111111111111111,
              "#46039f"
             ],
             [
              0.2222222222222222,
              "#7201a8"
             ],
             [
              0.3333333333333333,
              "#9c179e"
             ],
             [
              0.4444444444444444,
              "#bd3786"
             ],
             [
              0.5555555555555556,
              "#d8576b"
             ],
             [
              0.6666666666666666,
              "#ed7953"
             ],
             [
              0.7777777777777778,
              "#fb9f3a"
             ],
             [
              0.8888888888888888,
              "#fdca26"
             ],
             [
              1,
              "#f0f921"
             ]
            ],
            "type": "heatmapgl"
           }
          ],
          "histogram": [
           {
            "marker": {
             "pattern": {
              "fillmode": "overlay",
              "size": 10,
              "solidity": 0.2
             }
            },
            "type": "histogram"
           }
          ],
          "histogram2d": [
           {
            "colorbar": {
             "outlinewidth": 0,
             "ticks": ""
            },
            "colorscale": [
             [
              0,
              "#0d0887"
             ],
             [
              0.1111111111111111,
              "#46039f"
             ],
             [
              0.2222222222222222,
              "#7201a8"
             ],
             [
              0.3333333333333333,
              "#9c179e"
             ],
             [
              0.4444444444444444,
              "#bd3786"
             ],
             [
              0.5555555555555556,
              "#d8576b"
             ],
             [
              0.6666666666666666,
              "#ed7953"
             ],
             [
              0.7777777777777778,
              "#fb9f3a"
             ],
             [
              0.8888888888888888,
              "#fdca26"
             ],
             [
              1,
              "#f0f921"
             ]
            ],
            "type": "histogram2d"
           }
          ],
          "histogram2dcontour": [
           {
            "colorbar": {
             "outlinewidth": 0,
             "ticks": ""
            },
            "colorscale": [
             [
              0,
              "#0d0887"
             ],
             [
              0.1111111111111111,
              "#46039f"
             ],
             [
              0.2222222222222222,
              "#7201a8"
             ],
             [
              0.3333333333333333,
              "#9c179e"
             ],
             [
              0.4444444444444444,
              "#bd3786"
             ],
             [
              0.5555555555555556,
              "#d8576b"
             ],
             [
              0.6666666666666666,
              "#ed7953"
             ],
             [
              0.7777777777777778,
              "#fb9f3a"
             ],
             [
              0.8888888888888888,
              "#fdca26"
             ],
             [
              1,
              "#f0f921"
             ]
            ],
            "type": "histogram2dcontour"
           }
          ],
          "mesh3d": [
           {
            "colorbar": {
             "outlinewidth": 0,
             "ticks": ""
            },
            "type": "mesh3d"
           }
          ],
          "parcoords": [
           {
            "line": {
             "colorbar": {
              "outlinewidth": 0,
              "ticks": ""
             }
            },
            "type": "parcoords"
           }
          ],
          "pie": [
           {
            "automargin": true,
            "type": "pie"
           }
          ],
          "scatter": [
           {
            "fillpattern": {
             "fillmode": "overlay",
             "size": 10,
             "solidity": 0.2
            },
            "type": "scatter"
           }
          ],
          "scatter3d": [
           {
            "line": {
             "colorbar": {
              "outlinewidth": 0,
              "ticks": ""
             }
            },
            "marker": {
             "colorbar": {
              "outlinewidth": 0,
              "ticks": ""
             }
            },
            "type": "scatter3d"
           }
          ],
          "scattercarpet": [
           {
            "marker": {
             "colorbar": {
              "outlinewidth": 0,
              "ticks": ""
             }
            },
            "type": "scattercarpet"
           }
          ],
          "scattergeo": [
           {
            "marker": {
             "colorbar": {
              "outlinewidth": 0,
              "ticks": ""
             }
            },
            "type": "scattergeo"
           }
          ],
          "scattergl": [
           {
            "marker": {
             "colorbar": {
              "outlinewidth": 0,
              "ticks": ""
             }
            },
            "type": "scattergl"
           }
          ],
          "scattermapbox": [
           {
            "marker": {
             "colorbar": {
              "outlinewidth": 0,
              "ticks": ""
             }
            },
            "type": "scattermapbox"
           }
          ],
          "scatterpolar": [
           {
            "marker": {
             "colorbar": {
              "outlinewidth": 0,
              "ticks": ""
             }
            },
            "type": "scatterpolar"
           }
          ],
          "scatterpolargl": [
           {
            "marker": {
             "colorbar": {
              "outlinewidth": 0,
              "ticks": ""
             }
            },
            "type": "scatterpolargl"
           }
          ],
          "scatterternary": [
           {
            "marker": {
             "colorbar": {
              "outlinewidth": 0,
              "ticks": ""
             }
            },
            "type": "scatterternary"
           }
          ],
          "surface": [
           {
            "colorbar": {
             "outlinewidth": 0,
             "ticks": ""
            },
            "colorscale": [
             [
              0,
              "#0d0887"
             ],
             [
              0.1111111111111111,
              "#46039f"
             ],
             [
              0.2222222222222222,
              "#7201a8"
             ],
             [
              0.3333333333333333,
              "#9c179e"
             ],
             [
              0.4444444444444444,
              "#bd3786"
             ],
             [
              0.5555555555555556,
              "#d8576b"
             ],
             [
              0.6666666666666666,
              "#ed7953"
             ],
             [
              0.7777777777777778,
              "#fb9f3a"
             ],
             [
              0.8888888888888888,
              "#fdca26"
             ],
             [
              1,
              "#f0f921"
             ]
            ],
            "type": "surface"
           }
          ],
          "table": [
           {
            "cells": {
             "fill": {
              "color": "#EBF0F8"
             },
             "line": {
              "color": "white"
             }
            },
            "header": {
             "fill": {
              "color": "#C8D4E3"
             },
             "line": {
              "color": "white"
             }
            },
            "type": "table"
           }
          ]
         },
         "layout": {
          "annotationdefaults": {
           "arrowcolor": "#2a3f5f",
           "arrowhead": 0,
           "arrowwidth": 1
          },
          "autotypenumbers": "strict",
          "coloraxis": {
           "colorbar": {
            "outlinewidth": 0,
            "ticks": ""
           }
          },
          "colorscale": {
           "diverging": [
            [
             0,
             "#8e0152"
            ],
            [
             0.1,
             "#c51b7d"
            ],
            [
             0.2,
             "#de77ae"
            ],
            [
             0.3,
             "#f1b6da"
            ],
            [
             0.4,
             "#fde0ef"
            ],
            [
             0.5,
             "#f7f7f7"
            ],
            [
             0.6,
             "#e6f5d0"
            ],
            [
             0.7,
             "#b8e186"
            ],
            [
             0.8,
             "#7fbc41"
            ],
            [
             0.9,
             "#4d9221"
            ],
            [
             1,
             "#276419"
            ]
           ],
           "sequential": [
            [
             0,
             "#0d0887"
            ],
            [
             0.1111111111111111,
             "#46039f"
            ],
            [
             0.2222222222222222,
             "#7201a8"
            ],
            [
             0.3333333333333333,
             "#9c179e"
            ],
            [
             0.4444444444444444,
             "#bd3786"
            ],
            [
             0.5555555555555556,
             "#d8576b"
            ],
            [
             0.6666666666666666,
             "#ed7953"
            ],
            [
             0.7777777777777778,
             "#fb9f3a"
            ],
            [
             0.8888888888888888,
             "#fdca26"
            ],
            [
             1,
             "#f0f921"
            ]
           ],
           "sequentialminus": [
            [
             0,
             "#0d0887"
            ],
            [
             0.1111111111111111,
             "#46039f"
            ],
            [
             0.2222222222222222,
             "#7201a8"
            ],
            [
             0.3333333333333333,
             "#9c179e"
            ],
            [
             0.4444444444444444,
             "#bd3786"
            ],
            [
             0.5555555555555556,
             "#d8576b"
            ],
            [
             0.6666666666666666,
             "#ed7953"
            ],
            [
             0.7777777777777778,
             "#fb9f3a"
            ],
            [
             0.8888888888888888,
             "#fdca26"
            ],
            [
             1,
             "#f0f921"
            ]
           ]
          },
          "colorway": [
           "#636efa",
           "#EF553B",
           "#00cc96",
           "#ab63fa",
           "#FFA15A",
           "#19d3f3",
           "#FF6692",
           "#B6E880",
           "#FF97FF",
           "#FECB52"
          ],
          "font": {
           "color": "#2a3f5f"
          },
          "geo": {
           "bgcolor": "white",
           "lakecolor": "white",
           "landcolor": "#E5ECF6",
           "showlakes": true,
           "showland": true,
           "subunitcolor": "white"
          },
          "hoverlabel": {
           "align": "left"
          },
          "hovermode": "closest",
          "mapbox": {
           "style": "light"
          },
          "paper_bgcolor": "white",
          "plot_bgcolor": "#E5ECF6",
          "polar": {
           "angularaxis": {
            "gridcolor": "white",
            "linecolor": "white",
            "ticks": ""
           },
           "bgcolor": "#E5ECF6",
           "radialaxis": {
            "gridcolor": "white",
            "linecolor": "white",
            "ticks": ""
           }
          },
          "scene": {
           "xaxis": {
            "backgroundcolor": "#E5ECF6",
            "gridcolor": "white",
            "gridwidth": 2,
            "linecolor": "white",
            "showbackground": true,
            "ticks": "",
            "zerolinecolor": "white"
           },
           "yaxis": {
            "backgroundcolor": "#E5ECF6",
            "gridcolor": "white",
            "gridwidth": 2,
            "linecolor": "white",
            "showbackground": true,
            "ticks": "",
            "zerolinecolor": "white"
           },
           "zaxis": {
            "backgroundcolor": "#E5ECF6",
            "gridcolor": "white",
            "gridwidth": 2,
            "linecolor": "white",
            "showbackground": true,
            "ticks": "",
            "zerolinecolor": "white"
           }
          },
          "shapedefaults": {
           "line": {
            "color": "#2a3f5f"
           }
          },
          "ternary": {
           "aaxis": {
            "gridcolor": "white",
            "linecolor": "white",
            "ticks": ""
           },
           "baxis": {
            "gridcolor": "white",
            "linecolor": "white",
            "ticks": ""
           },
           "bgcolor": "#E5ECF6",
           "caxis": {
            "gridcolor": "white",
            "linecolor": "white",
            "ticks": ""
           }
          },
          "title": {
           "x": 0.05
          },
          "xaxis": {
           "automargin": true,
           "gridcolor": "white",
           "linecolor": "white",
           "ticks": "",
           "title": {
            "standoff": 15
           },
           "zerolinecolor": "white",
           "zerolinewidth": 2
          },
          "yaxis": {
           "automargin": true,
           "gridcolor": "white",
           "linecolor": "white",
           "ticks": "",
           "title": {
            "standoff": 15
           },
           "zerolinecolor": "white",
           "zerolinewidth": 2
          }
         }
        },
        "title": {
         "text": "zone_mean_air_temp7-21"
        }
       }
      }
     },
     "metadata": {},
     "output_type": "display_data"
    }
   ],
   "source": [
    "tp = TimePlot(plt)\n",
    "tp.make_time_plot(tp.plotter.dataset_names[5])"
   ]
  }
 ],
 "metadata": {
  "kernelspec": {
   "display_name": "gqenv",
   "language": "python",
   "name": "python3"
  },
  "language_info": {
   "codemirror_mode": {
    "name": "ipython",
    "version": 3
   },
   "file_extension": ".py",
   "mimetype": "text/x-python",
   "name": "python",
   "nbconvert_exporter": "python",
   "pygments_lexer": "ipython3",
   "version": "3.9.15"
  }
 },
 "nbformat": 4,
 "nbformat_minor": 2
}
