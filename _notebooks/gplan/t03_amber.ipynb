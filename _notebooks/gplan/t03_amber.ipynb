{
 "cells": [
  {
   "cell_type": "code",
   "execution_count": 1,
   "metadata": {},
   "outputs": [],
   "source": [
    "import sys\n",
    "sys.path.append(\"/Users/julietnwagwuume-ezeoke/_UILCode/gqe-phd/geomeppy/_scripts\")\n",
    "\n",
    "from typing import Union\n",
    "from dataclasses import dataclass\n",
    "\n",
    "from copy import deepcopy\n",
    "import json\n",
    "\n",
    "from case_edits.ezcase import EzCase\n",
    "\n",
    "from recipes.amber import input\n",
    "from recipes.exp_01 import input as input1, ns_axis\n",
    "from geometry.wall_normal import WallNormal\n",
    "from helpers.helpers import key_from_value\n",
    "from methods.subsurfaces.pairs import DEFAULT_WINDOW, SubsurfacePair, DEFAULT_DOOR\n",
    "from helpers.shapely_helpers import get_point_as_xy\n",
    "\n",
    "\n",
    "from gplan.subsurface_translator import SubsurfaceTranslator\n",
    "\n",
    "from helpers.plots import *\n",
    "\n",
    "import shapely as sp"
   ]
  },
  {
   "cell_type": "code",
   "execution_count": 2,
   "metadata": {},
   "outputs": [
    {
     "name": "stdout",
     "output_type": "stream",
     "text": [
      "tests/test21_amber\n"
     ]
    }
   ],
   "source": [
    "ez = EzCase(input, RUN_CASE=False)\n",
    "ez.create_case()"
   ]
  },
  {
   "cell_type": "code",
   "execution_count": 3,
   "metadata": {},
   "outputs": [
    {
     "name": "stdout",
     "output_type": "stream",
     "text": [
      "00\n",
      "Added 5 walls \n",
      "01\n",
      "Added 4 walls \n",
      "02\n",
      "Added 4 walls \n",
      "03\n",
      "Added 6 walls \n",
      "04\n",
      "Added 4 walls \n",
      "05\n",
      "Added 5 walls \n",
      "06\n",
      "Added 7 walls \n",
      "07\n",
      "Added 6 walls \n",
      "08\n",
      "Added 4 walls \n",
      "09\n",
      "Added 5 walls \n",
      "010\n",
      "Added 5 walls \n"
     ]
    }
   ],
   "source": [
    "ez.add_rooms()"
   ]
  },
  {
   "cell_type": "code",
   "execution_count": 6,
   "metadata": {},
   "outputs": [
    {
     "data": {
      "image/svg+xml": [
       "<svg xmlns=\"http://www.w3.org/2000/svg\" xmlns:xlink=\"http://www.w3.org/1999/xlink\" width=\"100.0\" height=\"100.0\" viewBox=\"-0.1288 3.0211999999068677 3.4776000000000002 3.0576000000931325\" preserveAspectRatio=\"xMinYMin meet\"><g transform=\"matrix(1,0,0,-1,0,9.099999999906867)\"><path fill-rule=\"evenodd\" fill=\"#66cc99\" stroke=\"#555555\" stroke-width=\"0.069552\" opacity=\"0.6\" d=\"M 3.22,3.1499999999068677 L 0.0,3.15 L 0.0,5.95 L 3.22,5.95 L 3.22,3.1499999999068677 z\" /></g></svg>"
      ],
      "text/plain": [
       "<POLYGON ((3.22 3.15, 0 3.15, 0 5.95, 3.22 5.95, 3.22 3.15))>"
      ]
     },
     "execution_count": 6,
     "metadata": {},
     "output_type": "execute_result"
    }
   ],
   "source": [
    "ez.case.geometry.zones[\"B_00\"].polygon"
   ]
  },
  {
   "cell_type": "code",
   "execution_count": 4,
   "metadata": {},
   "outputs": [
    {
     "data": {
      "text/plain": [
       "[(10.71, 0.0), (10.71, 2.61), (8.58, 2.61), (8.58, 0.0)]"
      ]
     },
     "execution_count": 4,
     "metadata": {},
     "output_type": "execute_result"
    }
   ],
   "source": [
    "c = ez.gplan_convert.blocks[8][\"coordinates\"]\n",
    "c"
   ]
  },
  {
   "cell_type": "code",
   "execution_count": 5,
   "metadata": {},
   "outputs": [
    {
     "data": {
      "text/plain": [
       "10.71"
      ]
     },
     "execution_count": 5,
     "metadata": {},
     "output_type": "execute_result"
    }
   ],
   "source": [
    "[(float(i[0]), float(i[1])) for i in c][0][0]"
   ]
  },
  {
   "cell_type": "code",
   "execution_count": 6,
   "metadata": {},
   "outputs": [
    {
     "data": {
      "text/plain": [
       "[\n",
       "BUILDINGSURFACE:DETAILED,\n",
       "    Block 00 Storey 0 Wall 0002,    !- Name\n",
       "    wall,                     !- Surface Type\n",
       "    Project Wall,             !- Construction Name\n",
       "    Block 00 Storey 0,        !- Zone Name\n",
       "    ,                         !- Space Name\n",
       "    outdoors,                 !- Outside Boundary Condition\n",
       "    ,                         !- Outside Boundary Condition Object\n",
       "    SunExposed,               !- Sun Exposure\n",
       "    WindExposed,              !- Wind Exposure\n",
       "    autocalculate,            !- View Factor to Ground\n",
       "    autocalculate,            !- Number of Vertices\n",
       "    3.22,                     !- Vertex 1 Xcoordinate\n",
       "    5.95,                     !- Vertex 1 Ycoordinate\n",
       "    10,                       !- Vertex 1 Zcoordinate\n",
       "    3.22,                     !- Vertex 2 Xcoordinate\n",
       "    5.95,                     !- Vertex 2 Ycoordinate\n",
       "    0,                        !- Vertex 2 Zcoordinate\n",
       "    0,                        !- Vertex 3 Xcoordinate\n",
       "    5.95,                     !- Vertex 3 Ycoordinate\n",
       "    0,                        !- Vertex 3 Zcoordinate\n",
       "    0,                        !- Vertex 4 Xcoordinate\n",
       "    5.95,                     !- Vertex 4 Ycoordinate\n",
       "    10;                       !- Vertex 4 Zcoordinate\n",
       ", \n",
       "BUILDINGSURFACE:DETAILED,\n",
       "    Block 00 Storey 0 Wall 0003,    !- Name\n",
       "    wall,                     !- Surface Type\n",
       "    Project Wall,             !- Construction Name\n",
       "    Block 00 Storey 0,        !- Zone Name\n",
       "    ,                         !- Space Name\n",
       "    outdoors,                 !- Outside Boundary Condition\n",
       "    ,                         !- Outside Boundary Condition Object\n",
       "    SunExposed,               !- Sun Exposure\n",
       "    WindExposed,              !- Wind Exposure\n",
       "    autocalculate,            !- View Factor to Ground\n",
       "    autocalculate,            !- Number of Vertices\n",
       "    0,                        !- Vertex 1 Xcoordinate\n",
       "    5.95,                     !- Vertex 1 Ycoordinate\n",
       "    10,                       !- Vertex 1 Zcoordinate\n",
       "    0,                        !- Vertex 2 Xcoordinate\n",
       "    5.95,                     !- Vertex 2 Ycoordinate\n",
       "    0,                        !- Vertex 2 Zcoordinate\n",
       "    0,                        !- Vertex 3 Xcoordinate\n",
       "    3.15,                     !- Vertex 3 Ycoordinate\n",
       "    0,                        !- Vertex 3 Zcoordinate\n",
       "    0,                        !- Vertex 4 Xcoordinate\n",
       "    3.15,                     !- Vertex 4 Ycoordinate\n",
       "    10;                       !- Vertex 4 Zcoordinate\n",
       ", \n",
       "BUILDINGSURFACE:DETAILED,\n",
       "    Block 00 Storey 0 Floor 0001,    !- Name\n",
       "    floor,                    !- Surface Type\n",
       "    Project Floor,            !- Construction Name\n",
       "    Block 00 Storey 0,        !- Zone Name\n",
       "    ,                         !- Space Name\n",
       "    ground,                   !- Outside Boundary Condition\n",
       "    ,                         !- Outside Boundary Condition Object\n",
       "    NoSun,                    !- Sun Exposure\n",
       "    NoWind,                   !- Wind Exposure\n",
       "    autocalculate,            !- View Factor to Ground\n",
       "    autocalculate,            !- Number of Vertices\n",
       "    3.22,                     !- Vertex 1 Xcoordinate\n",
       "    5.95,                     !- Vertex 1 Ycoordinate\n",
       "    0,                        !- Vertex 1 Zcoordinate\n",
       "    3.22,                     !- Vertex 2 Xcoordinate\n",
       "    3.15,                     !- Vertex 2 Ycoordinate\n",
       "    0,                        !- Vertex 2 Zcoordinate\n",
       "    0,                        !- Vertex 3 Xcoordinate\n",
       "    3.15,                     !- Vertex 3 Ycoordinate\n",
       "    0,                        !- Vertex 3 Zcoordinate\n",
       "    0,                        !- Vertex 4 Xcoordinate\n",
       "    5.95,                     !- Vertex 4 Ycoordinate\n",
       "    0;                        !- Vertex 4 Zcoordinate\n",
       ", \n",
       "BUILDINGSURFACE:DETAILED,\n",
       "    Block 00 Storey 0 Roof 0001,    !- Name\n",
       "    roof,                     !- Surface Type\n",
       "    Project Flat Roof,        !- Construction Name\n",
       "    Block 00 Storey 0,        !- Zone Name\n",
       "    ,                         !- Space Name\n",
       "    outdoors,                 !- Outside Boundary Condition\n",
       "    ,                         !- Outside Boundary Condition Object\n",
       "    SunExposed,               !- Sun Exposure\n",
       "    WindExposed,              !- Wind Exposure\n",
       "    autocalculate,            !- View Factor to Ground\n",
       "    autocalculate,            !- Number of Vertices\n",
       "    3.22,                     !- Vertex 1 Xcoordinate\n",
       "    3.15,                     !- Vertex 1 Ycoordinate\n",
       "    10,                       !- Vertex 1 Zcoordinate\n",
       "    3.22,                     !- Vertex 2 Xcoordinate\n",
       "    5.95,                     !- Vertex 2 Ycoordinate\n",
       "    10,                       !- Vertex 2 Zcoordinate\n",
       "    0,                        !- Vertex 3 Xcoordinate\n",
       "    5.95,                     !- Vertex 3 Ycoordinate\n",
       "    10,                       !- Vertex 3 Zcoordinate\n",
       "    0,                        !- Vertex 4 Xcoordinate\n",
       "    3.15,                     !- Vertex 4 Ycoordinate\n",
       "    10;                       !- Vertex 4 Zcoordinate\n",
       ", \n",
       "BUILDINGSURFACE:DETAILED,\n",
       "    Block 01 Storey 0 Wall 0004,    !- Name\n",
       "    wall,                     !- Surface Type\n",
       "    Project Wall,             !- Construction Name\n",
       "    Block 01 Storey 0,        !- Zone Name\n",
       "    ,                         !- Space Name\n",
       "    outdoors,                 !- Outside Boundary Condition\n",
       "    ,                         !- Outside Boundary Condition Object\n",
       "    SunExposed,               !- Sun Exposure\n",
       "    WindExposed,              !- Wind Exposure\n",
       "    autocalculate,            !- View Factor to Ground\n",
       "    autocalculate,            !- Number of Vertices\n",
       "    3.22,                     !- Vertex 1 Xcoordinate\n",
       "    0,                        !- Vertex 1 Ycoordinate\n",
       "    10,                       !- Vertex 1 Zcoordinate\n",
       "    3.22,                     !- Vertex 2 Xcoordinate\n",
       "    0,                        !- Vertex 2 Ycoordinate\n",
       "    0,                        !- Vertex 2 Zcoordinate\n",
       "    5.02,                     !- Vertex 3 Xcoordinate\n",
       "    0,                        !- Vertex 3 Ycoordinate\n",
       "    0,                        !- Vertex 3 Zcoordinate\n",
       "    5.02,                     !- Vertex 4 Xcoordinate\n",
       "    0,                        !- Vertex 4 Ycoordinate\n",
       "    10;                       !- Vertex 4 Zcoordinate\n",
       ", \n",
       "BUILDINGSURFACE:DETAILED,\n",
       "    Block 01 Storey 0 Floor 0001,    !- Name\n",
       "    floor,                    !- Surface Type\n",
       "    Project Floor,            !- Construction Name\n",
       "    Block 01 Storey 0,        !- Zone Name\n",
       "    ,                         !- Space Name\n",
       "    ground,                   !- Outside Boundary Condition\n",
       "    ,                         !- Outside Boundary Condition Object\n",
       "    NoSun,                    !- Sun Exposure\n",
       "    NoWind,                   !- Wind Exposure\n",
       "    autocalculate,            !- View Factor to Ground\n",
       "    autocalculate,            !- Number of Vertices\n",
       "    5.02,                     !- Vertex 1 Xcoordinate\n",
       "    2.42,                     !- Vertex 1 Ycoordinate\n",
       "    0,                        !- Vertex 1 Zcoordinate\n",
       "    5.02,                     !- Vertex 2 Xcoordinate\n",
       "    0,                        !- Vertex 2 Ycoordinate\n",
       "    0,                        !- Vertex 2 Zcoordinate\n",
       "    3.22,                     !- Vertex 3 Xcoordinate\n",
       "    0,                        !- Vertex 3 Ycoordinate\n",
       "    0,                        !- Vertex 3 Zcoordinate\n",
       "    3.22,                     !- Vertex 4 Xcoordinate\n",
       "    2.42,                     !- Vertex 4 Ycoordinate\n",
       "    0;                        !- Vertex 4 Zcoordinate\n",
       ", \n",
       "BUILDINGSURFACE:DETAILED,\n",
       "    Block 01 Storey 0 Roof 0001,    !- Name\n",
       "    roof,                     !- Surface Type\n",
       "    Project Flat Roof,        !- Construction Name\n",
       "    Block 01 Storey 0,        !- Zone Name\n",
       "    ,                         !- Space Name\n",
       "    outdoors,                 !- Outside Boundary Condition\n",
       "    ,                         !- Outside Boundary Condition Object\n",
       "    SunExposed,               !- Sun Exposure\n",
       "    WindExposed,              !- Wind Exposure\n",
       "    autocalculate,            !- View Factor to Ground\n",
       "    autocalculate,            !- Number of Vertices\n",
       "    5.02,                     !- Vertex 1 Xcoordinate\n",
       "    0,                        !- Vertex 1 Ycoordinate\n",
       "    10,                       !- Vertex 1 Zcoordinate\n",
       "    5.02,                     !- Vertex 2 Xcoordinate\n",
       "    2.42,                     !- Vertex 2 Ycoordinate\n",
       "    10,                       !- Vertex 2 Zcoordinate\n",
       "    3.22,                     !- Vertex 3 Xcoordinate\n",
       "    2.42,                     !- Vertex 3 Ycoordinate\n",
       "    10,                       !- Vertex 3 Zcoordinate\n",
       "    3.22,                     !- Vertex 4 Xcoordinate\n",
       "    0,                        !- Vertex 4 Ycoordinate\n",
       "    10;                       !- Vertex 4 Zcoordinate\n",
       ", \n",
       "BUILDINGSURFACE:DETAILED,\n",
       "    Block 02 Storey 0 Wall 0002,    !- Name\n",
       "    wall,                     !- Surface Type\n",
       "    Project Wall,             !- Construction Name\n",
       "    Block 02 Storey 0,        !- Zone Name\n",
       "    ,                         !- Space Name\n",
       "    outdoors,                 !- Outside Boundary Condition\n",
       "    ,                         !- Outside Boundary Condition Object\n",
       "    SunExposed,               !- Sun Exposure\n",
       "    WindExposed,              !- Wind Exposure\n",
       "    autocalculate,            !- View Factor to Ground\n",
       "    autocalculate,            !- Number of Vertices\n",
       "    8.58,                     !- Vertex 1 Xcoordinate\n",
       "    5.95,                     !- Vertex 1 Ycoordinate\n",
       "    10,                       !- Vertex 1 Zcoordinate\n",
       "    8.58,                     !- Vertex 2 Xcoordinate\n",
       "    5.95,                     !- Vertex 2 Ycoordinate\n",
       "    0,                        !- Vertex 2 Zcoordinate\n",
       "    5.02,                     !- Vertex 3 Xcoordinate\n",
       "    5.95,                     !- Vertex 3 Ycoordinate\n",
       "    0,                        !- Vertex 3 Zcoordinate\n",
       "    5.02,                     !- Vertex 4 Xcoordinate\n",
       "    5.95,                     !- Vertex 4 Ycoordinate\n",
       "    10;                       !- Vertex 4 Zcoordinate\n",
       ", \n",
       "BUILDINGSURFACE:DETAILED,\n",
       "    Block 02 Storey 0 Floor 0001,    !- Name\n",
       "    floor,                    !- Surface Type\n",
       "    Project Floor,            !- Construction Name\n",
       "    Block 02 Storey 0,        !- Zone Name\n",
       "    ,                         !- Space Name\n",
       "    ground,                   !- Outside Boundary Condition\n",
       "    ,                         !- Outside Boundary Condition Object\n",
       "    NoSun,                    !- Sun Exposure\n",
       "    NoWind,                   !- Wind Exposure\n",
       "    autocalculate,            !- View Factor to Ground\n",
       "    autocalculate,            !- Number of Vertices\n",
       "    8.58,                     !- Vertex 1 Xcoordinate\n",
       "    5.95,                     !- Vertex 1 Ycoordinate\n",
       "    0,                        !- Vertex 1 Zcoordinate\n",
       "    8.58,                     !- Vertex 2 Xcoordinate\n",
       "    4.65,                     !- Vertex 2 Ycoordinate\n",
       "    0,                        !- Vertex 2 Zcoordinate\n",
       "    5.02,                     !- Vertex 3 Xcoordinate\n",
       "    4.65,                     !- Vertex 3 Ycoordinate\n",
       "    0,                        !- Vertex 3 Zcoordinate\n",
       "    5.02,                     !- Vertex 4 Xcoordinate\n",
       "    5.95,                     !- Vertex 4 Ycoordinate\n",
       "    0;                        !- Vertex 4 Zcoordinate\n",
       ", \n",
       "BUILDINGSURFACE:DETAILED,\n",
       "    Block 02 Storey 0 Roof 0001,    !- Name\n",
       "    roof,                     !- Surface Type\n",
       "    Project Flat Roof,        !- Construction Name\n",
       "    Block 02 Storey 0,        !- Zone Name\n",
       "    ,                         !- Space Name\n",
       "    outdoors,                 !- Outside Boundary Condition\n",
       "    ,                         !- Outside Boundary Condition Object\n",
       "    SunExposed,               !- Sun Exposure\n",
       "    WindExposed,              !- Wind Exposure\n",
       "    autocalculate,            !- View Factor to Ground\n",
       "    autocalculate,            !- Number of Vertices\n",
       "    8.58,                     !- Vertex 1 Xcoordinate\n",
       "    4.65,                     !- Vertex 1 Ycoordinate\n",
       "    10,                       !- Vertex 1 Zcoordinate\n",
       "    8.58,                     !- Vertex 2 Xcoordinate\n",
       "    5.95,                     !- Vertex 2 Ycoordinate\n",
       "    10,                       !- Vertex 2 Zcoordinate\n",
       "    5.02,                     !- Vertex 3 Xcoordinate\n",
       "    5.95,                     !- Vertex 3 Ycoordinate\n",
       "    10,                       !- Vertex 3 Zcoordinate\n",
       "    5.02,                     !- Vertex 4 Xcoordinate\n",
       "    4.65,                     !- Vertex 4 Ycoordinate\n",
       "    10;                       !- Vertex 4 Zcoordinate\n",
       ", \n",
       "BUILDINGSURFACE:DETAILED,\n",
       "    Block 03 Storey 0 Wall 0001,    !- Name\n",
       "    wall,                     !- Surface Type\n",
       "    Project Wall,             !- Construction Name\n",
       "    Block 03 Storey 0,        !- Zone Name\n",
       "    ,                         !- Space Name\n",
       "    outdoors,                 !- Outside Boundary Condition\n",
       "    ,                         !- Outside Boundary Condition Object\n",
       "    SunExposed,               !- Sun Exposure\n",
       "    WindExposed,              !- Wind Exposure\n",
       "    autocalculate,            !- View Factor to Ground\n",
       "    autocalculate,            !- Number of Vertices\n",
       "    10.71,                    !- Vertex 1 Xcoordinate\n",
       "    3.21,                     !- Vertex 1 Ycoordinate\n",
       "    10,                       !- Vertex 1 Zcoordinate\n",
       "    10.71,                    !- Vertex 2 Xcoordinate\n",
       "    3.21,                     !- Vertex 2 Ycoordinate\n",
       "    0,                        !- Vertex 2 Zcoordinate\n",
       "    10.71,                    !- Vertex 3 Xcoordinate\n",
       "    5.95,                     !- Vertex 3 Ycoordinate\n",
       "    0,                        !- Vertex 3 Zcoordinate\n",
       "    10.71,                    !- Vertex 4 Xcoordinate\n",
       "    5.95,                     !- Vertex 4 Ycoordinate\n",
       "    10;                       !- Vertex 4 Zcoordinate\n",
       ", \n",
       "BUILDINGSURFACE:DETAILED,\n",
       "    Block 03 Storey 0 Wall 0002,    !- Name\n",
       "    wall,                     !- Surface Type\n",
       "    Project Wall,             !- Construction Name\n",
       "    Block 03 Storey 0,        !- Zone Name\n",
       "    ,                         !- Space Name\n",
       "    outdoors,                 !- Outside Boundary Condition\n",
       "    ,                         !- Outside Boundary Condition Object\n",
       "    SunExposed,               !- Sun Exposure\n",
       "    WindExposed,              !- Wind Exposure\n",
       "    autocalculate,            !- View Factor to Ground\n",
       "    autocalculate,            !- Number of Vertices\n",
       "    10.71,                    !- Vertex 1 Xcoordinate\n",
       "    5.95,                     !- Vertex 1 Ycoordinate\n",
       "    10,                       !- Vertex 1 Zcoordinate\n",
       "    10.71,                    !- Vertex 2 Xcoordinate\n",
       "    5.95,                     !- Vertex 2 Ycoordinate\n",
       "    0,                        !- Vertex 2 Zcoordinate\n",
       "    8.58,                     !- Vertex 3 Xcoordinate\n",
       "    5.95,                     !- Vertex 3 Ycoordinate\n",
       "    0,                        !- Vertex 3 Zcoordinate\n",
       "    8.58,                     !- Vertex 4 Xcoordinate\n",
       "    5.95,                     !- Vertex 4 Ycoordinate\n",
       "    10;                       !- Vertex 4 Zcoordinate\n",
       ", \n",
       "BUILDINGSURFACE:DETAILED,\n",
       "    Block 03 Storey 0 Floor 0001,    !- Name\n",
       "    floor,                    !- Surface Type\n",
       "    Project Floor,            !- Construction Name\n",
       "    Block 03 Storey 0,        !- Zone Name\n",
       "    ,                         !- Space Name\n",
       "    ground,                   !- Outside Boundary Condition\n",
       "    ,                         !- Outside Boundary Condition Object\n",
       "    NoSun,                    !- Sun Exposure\n",
       "    NoWind,                   !- Wind Exposure\n",
       "    autocalculate,            !- View Factor to Ground\n",
       "    autocalculate,            !- Number of Vertices\n",
       "    10.71,                    !- Vertex 1 Xcoordinate\n",
       "    5.95,                     !- Vertex 1 Ycoordinate\n",
       "    0,                        !- Vertex 1 Zcoordinate\n",
       "    10.71,                    !- Vertex 2 Xcoordinate\n",
       "    3.21,                     !- Vertex 2 Ycoordinate\n",
       "    0,                        !- Vertex 2 Zcoordinate\n",
       "    8.58,                     !- Vertex 3 Xcoordinate\n",
       "    3.21,                     !- Vertex 3 Ycoordinate\n",
       "    0,                        !- Vertex 3 Zcoordinate\n",
       "    8.58,                     !- Vertex 4 Xcoordinate\n",
       "    5.95,                     !- Vertex 4 Ycoordinate\n",
       "    0;                        !- Vertex 4 Zcoordinate\n",
       ", \n",
       "BUILDINGSURFACE:DETAILED,\n",
       "    Block 03 Storey 0 Roof 0001,    !- Name\n",
       "    roof,                     !- Surface Type\n",
       "    Project Flat Roof,        !- Construction Name\n",
       "    Block 03 Storey 0,        !- Zone Name\n",
       "    ,                         !- Space Name\n",
       "    outdoors,                 !- Outside Boundary Condition\n",
       "    ,                         !- Outside Boundary Condition Object\n",
       "    SunExposed,               !- Sun Exposure\n",
       "    WindExposed,              !- Wind Exposure\n",
       "    autocalculate,            !- View Factor to Ground\n",
       "    autocalculate,            !- Number of Vertices\n",
       "    10.71,                    !- Vertex 1 Xcoordinate\n",
       "    3.21,                     !- Vertex 1 Ycoordinate\n",
       "    10,                       !- Vertex 1 Zcoordinate\n",
       "    10.71,                    !- Vertex 2 Xcoordinate\n",
       "    5.95,                     !- Vertex 2 Ycoordinate\n",
       "    10,                       !- Vertex 2 Zcoordinate\n",
       "    8.58,                     !- Vertex 3 Xcoordinate\n",
       "    5.95,                     !- Vertex 3 Ycoordinate\n",
       "    10,                       !- Vertex 3 Zcoordinate\n",
       "    8.58,                     !- Vertex 4 Xcoordinate\n",
       "    3.21,                     !- Vertex 4 Ycoordinate\n",
       "    10;                       !- Vertex 4 Zcoordinate\n",
       ", \n",
       "BUILDINGSURFACE:DETAILED,\n",
       "    Block 04 Storey 0 Wall 0001,    !- Name\n",
       "    wall,                     !- Surface Type\n",
       "    Project Wall,             !- Construction Name\n",
       "    Block 04 Storey 0,        !- Zone Name\n",
       "    ,                         !- Space Name\n",
       "    outdoors,                 !- Outside Boundary Condition\n",
       "    ,                         !- Outside Boundary Condition Object\n",
       "    SunExposed,               !- Sun Exposure\n",
       "    WindExposed,              !- Wind Exposure\n",
       "    autocalculate,            !- View Factor to Ground\n",
       "    autocalculate,            !- Number of Vertices\n",
       "    10.71,                    !- Vertex 1 Xcoordinate\n",
       "    2.61,                     !- Vertex 1 Ycoordinate\n",
       "    10,                       !- Vertex 1 Zcoordinate\n",
       "    10.71,                    !- Vertex 2 Xcoordinate\n",
       "    2.61,                     !- Vertex 2 Ycoordinate\n",
       "    0,                        !- Vertex 2 Zcoordinate\n",
       "    10.71,                    !- Vertex 3 Xcoordinate\n",
       "    3.21,                     !- Vertex 3 Ycoordinate\n",
       "    0,                        !- Vertex 3 Zcoordinate\n",
       "    10.71,                    !- Vertex 4 Xcoordinate\n",
       "    3.21,                     !- Vertex 4 Ycoordinate\n",
       "    10;                       !- Vertex 4 Zcoordinate\n",
       ", \n",
       "BUILDINGSURFACE:DETAILED,\n",
       "    Block 04 Storey 0 Floor 0001,    !- Name\n",
       "    floor,                    !- Surface Type\n",
       "    Project Floor,            !- Construction Name\n",
       "    Block 04 Storey 0,        !- Zone Name\n",
       "    ,                         !- Space Name\n",
       "    ground,                   !- Outside Boundary Condition\n",
       "    ,                         !- Outside Boundary Condition Object\n",
       "    NoSun,                    !- Sun Exposure\n",
       "    NoWind,                   !- Wind Exposure\n",
       "    autocalculate,            !- View Factor to Ground\n",
       "    autocalculate,            !- Number of Vertices\n",
       "    10.71,                    !- Vertex 1 Xcoordinate\n",
       "    3.21,                     !- Vertex 1 Ycoordinate\n",
       "    0,                        !- Vertex 1 Zcoordinate\n",
       "    10.71,                    !- Vertex 2 Xcoordinate\n",
       "    2.61,                     !- Vertex 2 Ycoordinate\n",
       "    0,                        !- Vertex 2 Zcoordinate\n",
       "    8.58,                     !- Vertex 3 Xcoordinate\n",
       "    2.61,                     !- Vertex 3 Ycoordinate\n",
       "    0,                        !- Vertex 3 Zcoordinate\n",
       "    8.58,                     !- Vertex 4 Xcoordinate\n",
       "    3.21,                     !- Vertex 4 Ycoordinate\n",
       "    0;                        !- Vertex 4 Zcoordinate\n",
       ", \n",
       "BUILDINGSURFACE:DETAILED,\n",
       "    Block 04 Storey 0 Roof 0001,    !- Name\n",
       "    roof,                     !- Surface Type\n",
       "    Project Flat Roof,        !- Construction Name\n",
       "    Block 04 Storey 0,        !- Zone Name\n",
       "    ,                         !- Space Name\n",
       "    outdoors,                 !- Outside Boundary Condition\n",
       "    ,                         !- Outside Boundary Condition Object\n",
       "    SunExposed,               !- Sun Exposure\n",
       "    WindExposed,              !- Wind Exposure\n",
       "    autocalculate,            !- View Factor to Ground\n",
       "    autocalculate,            !- Number of Vertices\n",
       "    10.71,                    !- Vertex 1 Xcoordinate\n",
       "    2.61,                     !- Vertex 1 Ycoordinate\n",
       "    10,                       !- Vertex 1 Zcoordinate\n",
       "    10.71,                    !- Vertex 2 Xcoordinate\n",
       "    3.21,                     !- Vertex 2 Ycoordinate\n",
       "    10,                       !- Vertex 2 Zcoordinate\n",
       "    8.58,                     !- Vertex 3 Xcoordinate\n",
       "    3.21,                     !- Vertex 3 Ycoordinate\n",
       "    10,                       !- Vertex 3 Zcoordinate\n",
       "    8.58,                     !- Vertex 4 Xcoordinate\n",
       "    2.61,                     !- Vertex 4 Ycoordinate\n",
       "    10;                       !- Vertex 4 Zcoordinate\n",
       ", \n",
       "BUILDINGSURFACE:DETAILED,\n",
       "    Block 05 Storey 0 Floor 0001,    !- Name\n",
       "    floor,                    !- Surface Type\n",
       "    Project Floor,            !- Construction Name\n",
       "    Block 05 Storey 0,        !- Zone Name\n",
       "    ,                         !- Space Name\n",
       "    ground,                   !- Outside Boundary Condition\n",
       "    ,                         !- Outside Boundary Condition Object\n",
       "    NoSun,                    !- Sun Exposure\n",
       "    NoWind,                   !- Wind Exposure\n",
       "    autocalculate,            !- View Factor to Ground\n",
       "    autocalculate,            !- Number of Vertices\n",
       "    8.58,                     !- Vertex 1 Xcoordinate\n",
       "    4.65,                     !- Vertex 1 Ycoordinate\n",
       "    0,                        !- Vertex 1 Zcoordinate\n",
       "    8.58,                     !- Vertex 2 Xcoordinate\n",
       "    3.42,                     !- Vertex 2 Ycoordinate\n",
       "    0,                        !- Vertex 2 Zcoordinate\n",
       "    5.02,                     !- Vertex 3 Xcoordinate\n",
       "    3.42,                     !- Vertex 3 Ycoordinate\n",
       "    0,                        !- Vertex 3 Zcoordinate\n",
       "    5.02,                     !- Vertex 4 Xcoordinate\n",
       "    4.65,                     !- Vertex 4 Ycoordinate\n",
       "    0;                        !- Vertex 4 Zcoordinate\n",
       ", \n",
       "BUILDINGSURFACE:DETAILED,\n",
       "    Block 05 Storey 0 Roof 0001,    !- Name\n",
       "    roof,                     !- Surface Type\n",
       "    Project Flat Roof,        !- Construction Name\n",
       "    Block 05 Storey 0,        !- Zone Name\n",
       "    ,                         !- Space Name\n",
       "    outdoors,                 !- Outside Boundary Condition\n",
       "    ,                         !- Outside Boundary Condition Object\n",
       "    SunExposed,               !- Sun Exposure\n",
       "    WindExposed,              !- Wind Exposure\n",
       "    autocalculate,            !- View Factor to Ground\n",
       "    autocalculate,            !- Number of Vertices\n",
       "    8.58,                     !- Vertex 1 Xcoordinate\n",
       "    3.42,                     !- Vertex 1 Ycoordinate\n",
       "    10,                       !- Vertex 1 Zcoordinate\n",
       "    8.58,                     !- Vertex 2 Xcoordinate\n",
       "    4.65,                     !- Vertex 2 Ycoordinate\n",
       "    10,                       !- Vertex 2 Zcoordinate\n",
       "    5.02,                     !- Vertex 3 Xcoordinate\n",
       "    4.65,                     !- Vertex 3 Ycoordinate\n",
       "    10,                       !- Vertex 3 Zcoordinate\n",
       "    5.02,                     !- Vertex 4 Xcoordinate\n",
       "    3.42,                     !- Vertex 4 Ycoordinate\n",
       "    10;                       !- Vertex 4 Zcoordinate\n",
       ", \n",
       "BUILDINGSURFACE:DETAILED,\n",
       "    Block 06 Storey 0 Wall 0004,    !- Name\n",
       "    wall,                     !- Surface Type\n",
       "    Project Wall,             !- Construction Name\n",
       "    Block 06 Storey 0,        !- Zone Name\n",
       "    ,                         !- Space Name\n",
       "    outdoors,                 !- Outside Boundary Condition\n",
       "    ,                         !- Outside Boundary Condition Object\n",
       "    SunExposed,               !- Sun Exposure\n",
       "    WindExposed,              !- Wind Exposure\n",
       "    autocalculate,            !- View Factor to Ground\n",
       "    autocalculate,            !- Number of Vertices\n",
       "    5.02,                     !- Vertex 1 Xcoordinate\n",
       "    0,                        !- Vertex 1 Ycoordinate\n",
       "    10,                       !- Vertex 1 Zcoordinate\n",
       "    5.02,                     !- Vertex 2 Xcoordinate\n",
       "    0,                        !- Vertex 2 Ycoordinate\n",
       "    0,                        !- Vertex 2 Zcoordinate\n",
       "    8.58,                     !- Vertex 3 Xcoordinate\n",
       "    0,                        !- Vertex 3 Ycoordinate\n",
       "    0,                        !- Vertex 3 Zcoordinate\n",
       "    8.58,                     !- Vertex 4 Xcoordinate\n",
       "    0,                        !- Vertex 4 Ycoordinate\n",
       "    10;                       !- Vertex 4 Zcoordinate\n",
       ", \n",
       "BUILDINGSURFACE:DETAILED,\n",
       "    Block 06 Storey 0 Floor 0001,    !- Name\n",
       "    floor,                    !- Surface Type\n",
       "    Project Floor,            !- Construction Name\n",
       "    Block 06 Storey 0,        !- Zone Name\n",
       "    ,                         !- Space Name\n",
       "    ground,                   !- Outside Boundary Condition\n",
       "    ,                         !- Outside Boundary Condition Object\n",
       "    NoSun,                    !- Sun Exposure\n",
       "    NoWind,                   !- Wind Exposure\n",
       "    autocalculate,            !- View Factor to Ground\n",
       "    autocalculate,            !- Number of Vertices\n",
       "    8.58,                     !- Vertex 1 Xcoordinate\n",
       "    3.42,                     !- Vertex 1 Ycoordinate\n",
       "    0,                        !- Vertex 1 Zcoordinate\n",
       "    8.58,                     !- Vertex 2 Xcoordinate\n",
       "    0,                        !- Vertex 2 Ycoordinate\n",
       "    0,                        !- Vertex 2 Zcoordinate\n",
       "    5.02,                     !- Vertex 3 Xcoordinate\n",
       "    0,                        !- Vertex 3 Ycoordinate\n",
       "    0,                        !- Vertex 3 Zcoordinate\n",
       "    5.02,                     !- Vertex 4 Xcoordinate\n",
       "    3.42,                     !- Vertex 4 Ycoordinate\n",
       "    0;                        !- Vertex 4 Zcoordinate\n",
       ", \n",
       "BUILDINGSURFACE:DETAILED,\n",
       "    Block 06 Storey 0 Roof 0001,    !- Name\n",
       "    roof,                     !- Surface Type\n",
       "    Project Flat Roof,        !- Construction Name\n",
       "    Block 06 Storey 0,        !- Zone Name\n",
       "    ,                         !- Space Name\n",
       "    outdoors,                 !- Outside Boundary Condition\n",
       "    ,                         !- Outside Boundary Condition Object\n",
       "    SunExposed,               !- Sun Exposure\n",
       "    WindExposed,              !- Wind Exposure\n",
       "    autocalculate,            !- View Factor to Ground\n",
       "    autocalculate,            !- Number of Vertices\n",
       "    8.58,                     !- Vertex 1 Xcoordinate\n",
       "    0,                        !- Vertex 1 Ycoordinate\n",
       "    10,                       !- Vertex 1 Zcoordinate\n",
       "    8.58,                     !- Vertex 2 Xcoordinate\n",
       "    3.42,                     !- Vertex 2 Ycoordinate\n",
       "    10,                       !- Vertex 2 Zcoordinate\n",
       "    5.02,                     !- Vertex 3 Xcoordinate\n",
       "    3.42,                     !- Vertex 3 Ycoordinate\n",
       "    10,                       !- Vertex 3 Zcoordinate\n",
       "    5.02,                     !- Vertex 4 Xcoordinate\n",
       "    0,                        !- Vertex 4 Ycoordinate\n",
       "    10;                       !- Vertex 4 Zcoordinate\n",
       ", \n",
       "BUILDINGSURFACE:DETAILED,\n",
       "    Block 07 Storey 0 Floor 0001,    !- Name\n",
       "    floor,                    !- Surface Type\n",
       "    Project Floor,            !- Construction Name\n",
       "    Block 07 Storey 0,        !- Zone Name\n",
       "    ,                         !- Space Name\n",
       "    ground,                   !- Outside Boundary Condition\n",
       "    ,                         !- Outside Boundary Condition Object\n",
       "    NoSun,                    !- Sun Exposure\n",
       "    NoWind,                   !- Wind Exposure\n",
       "    autocalculate,            !- View Factor to Ground\n",
       "    autocalculate,            !- Number of Vertices\n",
       "    5.02,                     !- Vertex 1 Xcoordinate\n",
       "    4.2,                      !- Vertex 1 Ycoordinate\n",
       "    0,                        !- Vertex 1 Zcoordinate\n",
       "    5.02,                     !- Vertex 2 Xcoordinate\n",
       "    2.42,                     !- Vertex 2 Ycoordinate\n",
       "    0,                        !- Vertex 2 Zcoordinate\n",
       "    3.22,                     !- Vertex 3 Xcoordinate\n",
       "    2.42,                     !- Vertex 3 Ycoordinate\n",
       "    0,                        !- Vertex 3 Zcoordinate\n",
       "    3.22,                     !- Vertex 4 Xcoordinate\n",
       "    4.2,                      !- Vertex 4 Ycoordinate\n",
       "    0;                        !- Vertex 4 Zcoordinate\n",
       ", \n",
       "BUILDINGSURFACE:DETAILED,\n",
       "    Block 07 Storey 0 Roof 0001,    !- Name\n",
       "    roof,                     !- Surface Type\n",
       "    Project Flat Roof,        !- Construction Name\n",
       "    Block 07 Storey 0,        !- Zone Name\n",
       "    ,                         !- Space Name\n",
       "    outdoors,                 !- Outside Boundary Condition\n",
       "    ,                         !- Outside Boundary Condition Object\n",
       "    SunExposed,               !- Sun Exposure\n",
       "    WindExposed,              !- Wind Exposure\n",
       "    autocalculate,            !- View Factor to Ground\n",
       "    autocalculate,            !- Number of Vertices\n",
       "    5.02,                     !- Vertex 1 Xcoordinate\n",
       "    2.42,                     !- Vertex 1 Ycoordinate\n",
       "    10,                       !- Vertex 1 Zcoordinate\n",
       "    5.02,                     !- Vertex 2 Xcoordinate\n",
       "    4.2,                      !- Vertex 2 Ycoordinate\n",
       "    10,                       !- Vertex 2 Zcoordinate\n",
       "    3.22,                     !- Vertex 3 Xcoordinate\n",
       "    4.2,                      !- Vertex 3 Ycoordinate\n",
       "    10,                       !- Vertex 3 Zcoordinate\n",
       "    3.22,                     !- Vertex 4 Xcoordinate\n",
       "    2.42,                     !- Vertex 4 Ycoordinate\n",
       "    10;                       !- Vertex 4 Zcoordinate\n",
       ", \n",
       "BUILDINGSURFACE:DETAILED,\n",
       "    Block 08 Storey 0 Wall 0001,    !- Name\n",
       "    wall,                     !- Surface Type\n",
       "    Project Wall,             !- Construction Name\n",
       "    Block 08 Storey 0,        !- Zone Name\n",
       "    ,                         !- Space Name\n",
       "    outdoors,                 !- Outside Boundary Condition\n",
       "    ,                         !- Outside Boundary Condition Object\n",
       "    SunExposed,               !- Sun Exposure\n",
       "    WindExposed,              !- Wind Exposure\n",
       "    autocalculate,            !- View Factor to Ground\n",
       "    autocalculate,            !- Number of Vertices\n",
       "    10.71,                    !- Vertex 1 Xcoordinate\n",
       "    0,                        !- Vertex 1 Ycoordinate\n",
       "    10,                       !- Vertex 1 Zcoordinate\n",
       "    10.71,                    !- Vertex 2 Xcoordinate\n",
       "    0,                        !- Vertex 2 Ycoordinate\n",
       "    0,                        !- Vertex 2 Zcoordinate\n",
       "    10.71,                    !- Vertex 3 Xcoordinate\n",
       "    2.61,                     !- Vertex 3 Ycoordinate\n",
       "    0,                        !- Vertex 3 Zcoordinate\n",
       "    10.71,                    !- Vertex 4 Xcoordinate\n",
       "    2.61,                     !- Vertex 4 Ycoordinate\n",
       "    10;                       !- Vertex 4 Zcoordinate\n",
       ", \n",
       "BUILDINGSURFACE:DETAILED,\n",
       "    Block 08 Storey 0 Wall 0004,    !- Name\n",
       "    wall,                     !- Surface Type\n",
       "    Project Wall,             !- Construction Name\n",
       "    Block 08 Storey 0,        !- Zone Name\n",
       "    ,                         !- Space Name\n",
       "    outdoors,                 !- Outside Boundary Condition\n",
       "    ,                         !- Outside Boundary Condition Object\n",
       "    SunExposed,               !- Sun Exposure\n",
       "    WindExposed,              !- Wind Exposure\n",
       "    autocalculate,            !- View Factor to Ground\n",
       "    autocalculate,            !- Number of Vertices\n",
       "    8.58,                     !- Vertex 1 Xcoordinate\n",
       "    0,                        !- Vertex 1 Ycoordinate\n",
       "    10,                       !- Vertex 1 Zcoordinate\n",
       "    8.58,                     !- Vertex 2 Xcoordinate\n",
       "    0,                        !- Vertex 2 Ycoordinate\n",
       "    0,                        !- Vertex 2 Zcoordinate\n",
       "    10.71,                    !- Vertex 3 Xcoordinate\n",
       "    0,                        !- Vertex 3 Ycoordinate\n",
       "    0,                        !- Vertex 3 Zcoordinate\n",
       "    10.71,                    !- Vertex 4 Xcoordinate\n",
       "    0,                        !- Vertex 4 Ycoordinate\n",
       "    10;                       !- Vertex 4 Zcoordinate\n",
       ", \n",
       "BUILDINGSURFACE:DETAILED,\n",
       "    Block 08 Storey 0 Floor 0001,    !- Name\n",
       "    floor,                    !- Surface Type\n",
       "    Project Floor,            !- Construction Name\n",
       "    Block 08 Storey 0,        !- Zone Name\n",
       "    ,                         !- Space Name\n",
       "    ground,                   !- Outside Boundary Condition\n",
       "    ,                         !- Outside Boundary Condition Object\n",
       "    NoSun,                    !- Sun Exposure\n",
       "    NoWind,                   !- Wind Exposure\n",
       "    autocalculate,            !- View Factor to Ground\n",
       "    autocalculate,            !- Number of Vertices\n",
       "    10.71,                    !- Vertex 1 Xcoordinate\n",
       "    2.61,                     !- Vertex 1 Ycoordinate\n",
       "    0,                        !- Vertex 1 Zcoordinate\n",
       "    10.71,                    !- Vertex 2 Xcoordinate\n",
       "    0,                        !- Vertex 2 Ycoordinate\n",
       "    0,                        !- Vertex 2 Zcoordinate\n",
       "    8.58,                     !- Vertex 3 Xcoordinate\n",
       "    0,                        !- Vertex 3 Ycoordinate\n",
       "    0,                        !- Vertex 3 Zcoordinate\n",
       "    8.58,                     !- Vertex 4 Xcoordinate\n",
       "    2.61,                     !- Vertex 4 Ycoordinate\n",
       "    0;                        !- Vertex 4 Zcoordinate\n",
       ", \n",
       "BUILDINGSURFACE:DETAILED,\n",
       "    Block 08 Storey 0 Roof 0001,    !- Name\n",
       "    roof,                     !- Surface Type\n",
       "    Project Flat Roof,        !- Construction Name\n",
       "    Block 08 Storey 0,        !- Zone Name\n",
       "    ,                         !- Space Name\n",
       "    outdoors,                 !- Outside Boundary Condition\n",
       "    ,                         !- Outside Boundary Condition Object\n",
       "    SunExposed,               !- Sun Exposure\n",
       "    WindExposed,              !- Wind Exposure\n",
       "    autocalculate,            !- View Factor to Ground\n",
       "    autocalculate,            !- Number of Vertices\n",
       "    10.71,                    !- Vertex 1 Xcoordinate\n",
       "    0,                        !- Vertex 1 Ycoordinate\n",
       "    10,                       !- Vertex 1 Zcoordinate\n",
       "    10.71,                    !- Vertex 2 Xcoordinate\n",
       "    2.61,                     !- Vertex 2 Ycoordinate\n",
       "    10,                       !- Vertex 2 Zcoordinate\n",
       "    8.58,                     !- Vertex 3 Xcoordinate\n",
       "    2.61,                     !- Vertex 3 Ycoordinate\n",
       "    10,                       !- Vertex 3 Zcoordinate\n",
       "    8.58,                     !- Vertex 4 Xcoordinate\n",
       "    0,                        !- Vertex 4 Ycoordinate\n",
       "    10;                       !- Vertex 4 Zcoordinate\n",
       ", \n",
       "BUILDINGSURFACE:DETAILED,\n",
       "    Block 09 Storey 0 Wall 0003,    !- Name\n",
       "    wall,                     !- Surface Type\n",
       "    Project Wall,             !- Construction Name\n",
       "    Block 09 Storey 0,        !- Zone Name\n",
       "    ,                         !- Space Name\n",
       "    outdoors,                 !- Outside Boundary Condition\n",
       "    ,                         !- Outside Boundary Condition Object\n",
       "    SunExposed,               !- Sun Exposure\n",
       "    WindExposed,              !- Wind Exposure\n",
       "    autocalculate,            !- View Factor to Ground\n",
       "    autocalculate,            !- Number of Vertices\n",
       "    0,                        !- Vertex 1 Xcoordinate\n",
       "    3.15,                     !- Vertex 1 Ycoordinate\n",
       "    10,                       !- Vertex 1 Zcoordinate\n",
       "    0,                        !- Vertex 2 Xcoordinate\n",
       "    3.15,                     !- Vertex 2 Ycoordinate\n",
       "    0,                        !- Vertex 2 Zcoordinate\n",
       "    0,                        !- Vertex 3 Xcoordinate\n",
       "    0,                        !- Vertex 3 Ycoordinate\n",
       "    0,                        !- Vertex 3 Zcoordinate\n",
       "    0,                        !- Vertex 4 Xcoordinate\n",
       "    0,                        !- Vertex 4 Ycoordinate\n",
       "    10;                       !- Vertex 4 Zcoordinate\n",
       ", \n",
       "BUILDINGSURFACE:DETAILED,\n",
       "    Block 09 Storey 0 Wall 0004,    !- Name\n",
       "    wall,                     !- Surface Type\n",
       "    Project Wall,             !- Construction Name\n",
       "    Block 09 Storey 0,        !- Zone Name\n",
       "    ,                         !- Space Name\n",
       "    outdoors,                 !- Outside Boundary Condition\n",
       "    ,                         !- Outside Boundary Condition Object\n",
       "    SunExposed,               !- Sun Exposure\n",
       "    WindExposed,              !- Wind Exposure\n",
       "    autocalculate,            !- View Factor to Ground\n",
       "    autocalculate,            !- Number of Vertices\n",
       "    0,                        !- Vertex 1 Xcoordinate\n",
       "    0,                        !- Vertex 1 Ycoordinate\n",
       "    10,                       !- Vertex 1 Zcoordinate\n",
       "    0,                        !- Vertex 2 Xcoordinate\n",
       "    0,                        !- Vertex 2 Ycoordinate\n",
       "    0,                        !- Vertex 2 Zcoordinate\n",
       "    3.22,                     !- Vertex 3 Xcoordinate\n",
       "    0,                        !- Vertex 3 Ycoordinate\n",
       "    0,                        !- Vertex 3 Zcoordinate\n",
       "    3.22,                     !- Vertex 4 Xcoordinate\n",
       "    0,                        !- Vertex 4 Ycoordinate\n",
       "    10;                       !- Vertex 4 Zcoordinate\n",
       ", \n",
       "BUILDINGSURFACE:DETAILED,\n",
       "    Block 09 Storey 0 Floor 0001,    !- Name\n",
       "    floor,                    !- Surface Type\n",
       "    Project Floor,            !- Construction Name\n",
       "    Block 09 Storey 0,        !- Zone Name\n",
       "    ,                         !- Space Name\n",
       "    ground,                   !- Outside Boundary Condition\n",
       "    ,                         !- Outside Boundary Condition Object\n",
       "    NoSun,                    !- Sun Exposure\n",
       "    NoWind,                   !- Wind Exposure\n",
       "    autocalculate,            !- View Factor to Ground\n",
       "    autocalculate,            !- Number of Vertices\n",
       "    3.22,                     !- Vertex 1 Xcoordinate\n",
       "    3.15,                     !- Vertex 1 Ycoordinate\n",
       "    0,                        !- Vertex 1 Zcoordinate\n",
       "    3.22,                     !- Vertex 2 Xcoordinate\n",
       "    0,                        !- Vertex 2 Ycoordinate\n",
       "    0,                        !- Vertex 2 Zcoordinate\n",
       "    0,                        !- Vertex 3 Xcoordinate\n",
       "    0,                        !- Vertex 3 Ycoordinate\n",
       "    0,                        !- Vertex 3 Zcoordinate\n",
       "    0,                        !- Vertex 4 Xcoordinate\n",
       "    3.15,                     !- Vertex 4 Ycoordinate\n",
       "    0;                        !- Vertex 4 Zcoordinate\n",
       ", \n",
       "BUILDINGSURFACE:DETAILED,\n",
       "    Block 09 Storey 0 Roof 0001,    !- Name\n",
       "    roof,                     !- Surface Type\n",
       "    Project Flat Roof,        !- Construction Name\n",
       "    Block 09 Storey 0,        !- Zone Name\n",
       "    ,                         !- Space Name\n",
       "    outdoors,                 !- Outside Boundary Condition\n",
       "    ,                         !- Outside Boundary Condition Object\n",
       "    SunExposed,               !- Sun Exposure\n",
       "    WindExposed,              !- Wind Exposure\n",
       "    autocalculate,            !- View Factor to Ground\n",
       "    autocalculate,            !- Number of Vertices\n",
       "    3.22,                     !- Vertex 1 Xcoordinate\n",
       "    0,                        !- Vertex 1 Ycoordinate\n",
       "    10,                       !- Vertex 1 Zcoordinate\n",
       "    3.22,                     !- Vertex 2 Xcoordinate\n",
       "    3.15,                     !- Vertex 2 Ycoordinate\n",
       "    10,                       !- Vertex 2 Zcoordinate\n",
       "    0,                        !- Vertex 3 Xcoordinate\n",
       "    3.15,                     !- Vertex 3 Ycoordinate\n",
       "    10,                       !- Vertex 3 Zcoordinate\n",
       "    0,                        !- Vertex 4 Xcoordinate\n",
       "    0,                        !- Vertex 4 Ycoordinate\n",
       "    10;                       !- Vertex 4 Zcoordinate\n",
       ", \n",
       "BUILDINGSURFACE:DETAILED,\n",
       "    Block 010 Storey 0 Wall 0002,    !- Name\n",
       "    wall,                     !- Surface Type\n",
       "    Project Wall,             !- Construction Name\n",
       "    Block 010 Storey 0,       !- Zone Name\n",
       "    ,                         !- Space Name\n",
       "    outdoors,                 !- Outside Boundary Condition\n",
       "    ,                         !- Outside Boundary Condition Object\n",
       "    SunExposed,               !- Sun Exposure\n",
       "    WindExposed,              !- Wind Exposure\n",
       "    autocalculate,            !- View Factor to Ground\n",
       "    autocalculate,            !- Number of Vertices\n",
       "    5.02,                     !- Vertex 1 Xcoordinate\n",
       "    5.95,                     !- Vertex 1 Ycoordinate\n",
       "    10,                       !- Vertex 1 Zcoordinate\n",
       "    5.02,                     !- Vertex 2 Xcoordinate\n",
       "    5.95,                     !- Vertex 2 Ycoordinate\n",
       "    0,                        !- Vertex 2 Zcoordinate\n",
       "    3.22,                     !- Vertex 3 Xcoordinate\n",
       "    5.95,                     !- Vertex 3 Ycoordinate\n",
       "    0,                        !- Vertex 3 Zcoordinate\n",
       "    3.22,                     !- Vertex 4 Xcoordinate\n",
       "    5.95,                     !- Vertex 4 Ycoordinate\n",
       "    10;                       !- Vertex 4 Zcoordinate\n",
       ", \n",
       "BUILDINGSURFACE:DETAILED,\n",
       "    Block 010 Storey 0 Floor 0001,    !- Name\n",
       "    floor,                    !- Surface Type\n",
       "    Project Floor,            !- Construction Name\n",
       "    Block 010 Storey 0,       !- Zone Name\n",
       "    ,                         !- Space Name\n",
       "    ground,                   !- Outside Boundary Condition\n",
       "    ,                         !- Outside Boundary Condition Object\n",
       "    NoSun,                    !- Sun Exposure\n",
       "    NoWind,                   !- Wind Exposure\n",
       "    autocalculate,            !- View Factor to Ground\n",
       "    autocalculate,            !- Number of Vertices\n",
       "    5.02,                     !- Vertex 1 Xcoordinate\n",
       "    5.95,                     !- Vertex 1 Ycoordinate\n",
       "    0,                        !- Vertex 1 Zcoordinate\n",
       "    5.02,                     !- Vertex 2 Xcoordinate\n",
       "    4.2,                      !- Vertex 2 Ycoordinate\n",
       "    0,                        !- Vertex 2 Zcoordinate\n",
       "    3.22,                     !- Vertex 3 Xcoordinate\n",
       "    4.2,                      !- Vertex 3 Ycoordinate\n",
       "    0,                        !- Vertex 3 Zcoordinate\n",
       "    3.22,                     !- Vertex 4 Xcoordinate\n",
       "    5.95,                     !- Vertex 4 Ycoordinate\n",
       "    0;                        !- Vertex 4 Zcoordinate\n",
       ", \n",
       "BUILDINGSURFACE:DETAILED,\n",
       "    Block 010 Storey 0 Roof 0001,    !- Name\n",
       "    roof,                     !- Surface Type\n",
       "    Project Flat Roof,        !- Construction Name\n",
       "    Block 010 Storey 0,       !- Zone Name\n",
       "    ,                         !- Space Name\n",
       "    outdoors,                 !- Outside Boundary Condition\n",
       "    ,                         !- Outside Boundary Condition Object\n",
       "    SunExposed,               !- Sun Exposure\n",
       "    WindExposed,              !- Wind Exposure\n",
       "    autocalculate,            !- View Factor to Ground\n",
       "    autocalculate,            !- Number of Vertices\n",
       "    5.02,                     !- Vertex 1 Xcoordinate\n",
       "    4.2,                      !- Vertex 1 Ycoordinate\n",
       "    10,                       !- Vertex 1 Zcoordinate\n",
       "    5.02,                     !- Vertex 2 Xcoordinate\n",
       "    5.95,                     !- Vertex 2 Ycoordinate\n",
       "    10,                       !- Vertex 2 Zcoordinate\n",
       "    3.22,                     !- Vertex 3 Xcoordinate\n",
       "    5.95,                     !- Vertex 3 Ycoordinate\n",
       "    10,                       !- Vertex 3 Zcoordinate\n",
       "    3.22,                     !- Vertex 4 Xcoordinate\n",
       "    4.2,                      !- Vertex 4 Ycoordinate\n",
       "    10;                       !- Vertex 4 Zcoordinate\n",
       ", \n",
       "BUILDINGSURFACE:DETAILED,\n",
       "    Block 00 Storey 0 Wall 0001_1,    !- Name\n",
       "    wall,                     !- Surface Type\n",
       "    Project Partition,        !- Construction Name\n",
       "    Block 00 Storey 0,        !- Zone Name\n",
       "    ,                         !- Space Name\n",
       "    surface,                  !- Outside Boundary Condition\n",
       "    Block 07 Storey 0 Wall 0003_1,    !- Outside Boundary Condition Object\n",
       "    NoSun,                    !- Sun Exposure\n",
       "    NoWind,                   !- Wind Exposure\n",
       "    autocalculate,            !- View Factor to Ground\n",
       "    autocalculate,            !- Number of Vertices\n",
       "    3.22,                     !- Vertex 1 Xcoordinate\n",
       "    3.1499999999068677,       !- Vertex 1 Ycoordinate\n",
       "    10,                       !- Vertex 1 Zcoordinate\n",
       "    3.22,                     !- Vertex 2 Xcoordinate\n",
       "    3.1499999999068677,       !- Vertex 2 Ycoordinate\n",
       "    0,                        !- Vertex 2 Zcoordinate\n",
       "    3.22,                     !- Vertex 3 Xcoordinate\n",
       "    4.199999999720603,        !- Vertex 3 Ycoordinate\n",
       "    0,                        !- Vertex 3 Zcoordinate\n",
       "    3.22,                     !- Vertex 4 Xcoordinate\n",
       "    4.199999999720603,        !- Vertex 4 Ycoordinate\n",
       "    10;                       !- Vertex 4 Zcoordinate\n",
       ", \n",
       "BUILDINGSURFACE:DETAILED,\n",
       "    Block 00 Storey 0 Wall 0001_2,    !- Name\n",
       "    wall,                     !- Surface Type\n",
       "    Project Partition,        !- Construction Name\n",
       "    Block 00 Storey 0,        !- Zone Name\n",
       "    ,                         !- Space Name\n",
       "    surface,                  !- Outside Boundary Condition\n",
       "    Block 010 Storey 0 Wall 0003_1,    !- Outside Boundary Condition Object\n",
       "    NoSun,                    !- Sun Exposure\n",
       "    NoWind,                   !- Wind Exposure\n",
       "    autocalculate,            !- View Factor to Ground\n",
       "    autocalculate,            !- Number of Vertices\n",
       "    3.22,                     !- Vertex 1 Xcoordinate\n",
       "    4.199999999720603,        !- Vertex 1 Ycoordinate\n",
       "    10,                       !- Vertex 1 Zcoordinate\n",
       "    3.22,                     !- Vertex 2 Xcoordinate\n",
       "    4.199999999720603,        !- Vertex 2 Ycoordinate\n",
       "    0,                        !- Vertex 2 Zcoordinate\n",
       "    3.22,                     !- Vertex 3 Xcoordinate\n",
       "    5.949999999720603,        !- Vertex 3 Ycoordinate\n",
       "    0,                        !- Vertex 3 Zcoordinate\n",
       "    3.22,                     !- Vertex 4 Xcoordinate\n",
       "    5.949999999720603,        !- Vertex 4 Ycoordinate\n",
       "    10;                       !- Vertex 4 Zcoordinate\n",
       ", \n",
       "BUILDINGSURFACE:DETAILED,\n",
       "    Block 07 Storey 0 Wall 0003_1,    !- Name\n",
       "    wall,                     !- Surface Type\n",
       "    Project Partition,        !- Construction Name\n",
       "    Block 07 Storey 0,        !- Zone Name\n",
       "    ,                         !- Space Name\n",
       "    surface,                  !- Outside Boundary Condition\n",
       "    Block 00 Storey 0 Wall 0001_1,    !- Outside Boundary Condition Object\n",
       "    NoSun,                    !- Sun Exposure\n",
       "    NoWind,                   !- Wind Exposure\n",
       "    autocalculate,            !- View Factor to Ground\n",
       "    autocalculate,            !- Number of Vertices\n",
       "    3.22,                     !- Vertex 1 Xcoordinate\n",
       "    4.199999999720603,        !- Vertex 1 Ycoordinate\n",
       "    10,                       !- Vertex 1 Zcoordinate\n",
       "    3.22,                     !- Vertex 2 Xcoordinate\n",
       "    4.199999999720603,        !- Vertex 2 Ycoordinate\n",
       "    0,                        !- Vertex 2 Zcoordinate\n",
       "    3.22,                     !- Vertex 3 Xcoordinate\n",
       "    3.1499999999068677,       !- Vertex 3 Ycoordinate\n",
       "    0,                        !- Vertex 3 Zcoordinate\n",
       "    3.22,                     !- Vertex 4 Xcoordinate\n",
       "    3.1499999999068677,       !- Vertex 4 Ycoordinate\n",
       "    10;                       !- Vertex 4 Zcoordinate\n",
       ", \n",
       "BUILDINGSURFACE:DETAILED,\n",
       "    Block 07 Storey 0 Wall 0003_2,    !- Name\n",
       "    wall,                     !- Surface Type\n",
       "    Project Partition,        !- Construction Name\n",
       "    Block 07 Storey 0,        !- Zone Name\n",
       "    ,                         !- Space Name\n",
       "    surface,                  !- Outside Boundary Condition\n",
       "    Block 09 Storey 0 Wall 0001_2,    !- Outside Boundary Condition Object\n",
       "    NoSun,                    !- Sun Exposure\n",
       "    NoWind,                   !- Wind Exposure\n",
       "    autocalculate,            !- View Factor to Ground\n",
       "    autocalculate,            !- Number of Vertices\n",
       "    3.22,                     !- Vertex 1 Xcoordinate\n",
       "    3.1499999999068677,       !- Vertex 1 Ycoordinate\n",
       "    10,                       !- Vertex 1 Zcoordinate\n",
       "    3.22,                     !- Vertex 2 Xcoordinate\n",
       "    3.1499999999068677,       !- Vertex 2 Ycoordinate\n",
       "    0,                        !- Vertex 2 Zcoordinate\n",
       "    3.22,                     !- Vertex 3 Xcoordinate\n",
       "    2.419999999925494,        !- Vertex 3 Ycoordinate\n",
       "    0,                        !- Vertex 3 Zcoordinate\n",
       "    3.22,                     !- Vertex 4 Xcoordinate\n",
       "    2.419999999925494,        !- Vertex 4 Ycoordinate\n",
       "    10;                       !- Vertex 4 Zcoordinate\n",
       ", \n",
       "BUILDINGSURFACE:DETAILED,\n",
       "    Block 010 Storey 0 Wall 0003_1,    !- Name\n",
       "    wall,                     !- Surface Type\n",
       "    Project Partition,        !- Construction Name\n",
       "    Block 010 Storey 0,       !- Zone Name\n",
       "    ,                         !- Space Name\n",
       "    surface,                  !- Outside Boundary Condition\n",
       "    Block 00 Storey 0 Wall 0001_2,    !- Outside Boundary Condition Object\n",
       "    NoSun,                    !- Sun Exposure\n",
       "    NoWind,                   !- Wind Exposure\n",
       "    autocalculate,            !- View Factor to Ground\n",
       "    autocalculate,            !- Number of Vertices\n",
       "    3.22,                     !- Vertex 1 Xcoordinate\n",
       "    5.949999999720603,        !- Vertex 1 Ycoordinate\n",
       "    10,                       !- Vertex 1 Zcoordinate\n",
       "    3.22,                     !- Vertex 2 Xcoordinate\n",
       "    5.949999999720603,        !- Vertex 2 Ycoordinate\n",
       "    0,                        !- Vertex 2 Zcoordinate\n",
       "    3.22,                     !- Vertex 3 Xcoordinate\n",
       "    4.199999999720603,        !- Vertex 3 Ycoordinate\n",
       "    0,                        !- Vertex 3 Zcoordinate\n",
       "    3.22,                     !- Vertex 4 Xcoordinate\n",
       "    4.199999999720603,        !- Vertex 4 Ycoordinate\n",
       "    10;                       !- Vertex 4 Zcoordinate\n",
       ", \n",
       "BUILDINGSURFACE:DETAILED,\n",
       "    Block 00 Storey 0 Wall 0004_1,    !- Name\n",
       "    wall,                     !- Surface Type\n",
       "    Project Partition,        !- Construction Name\n",
       "    Block 00 Storey 0,        !- Zone Name\n",
       "    ,                         !- Space Name\n",
       "    surface,                  !- Outside Boundary Condition\n",
       "    Block 09 Storey 0 Wall 0002_1,    !- Outside Boundary Condition Object\n",
       "    NoSun,                    !- Sun Exposure\n",
       "    NoWind,                   !- Wind Exposure\n",
       "    autocalculate,            !- View Factor to Ground\n",
       "    autocalculate,            !- Number of Vertices\n",
       "    0,                        !- Vertex 1 Xcoordinate\n",
       "    3.15,                     !- Vertex 1 Ycoordinate\n",
       "    10,                       !- Vertex 1 Zcoordinate\n",
       "    0,                        !- Vertex 2 Xcoordinate\n",
       "    3.15,                     !- Vertex 2 Ycoordinate\n",
       "    0,                        !- Vertex 2 Zcoordinate\n",
       "    3.2199999997392297,       !- Vertex 3 Xcoordinate\n",
       "    3.15,                     !- Vertex 3 Ycoordinate\n",
       "    0,                        !- Vertex 3 Zcoordinate\n",
       "    3.2199999997392297,       !- Vertex 4 Xcoordinate\n",
       "    3.15,                     !- Vertex 4 Ycoordinate\n",
       "    10;                       !- Vertex 4 Zcoordinate\n",
       ", \n",
       "BUILDINGSURFACE:DETAILED,\n",
       "    Block 09 Storey 0 Wall 0002_1,    !- Name\n",
       "    wall,                     !- Surface Type\n",
       "    Project Partition,        !- Construction Name\n",
       "    Block 09 Storey 0,        !- Zone Name\n",
       "    ,                         !- Space Name\n",
       "    surface,                  !- Outside Boundary Condition\n",
       "    Block 00 Storey 0 Wall 0004_1,    !- Outside Boundary Condition Object\n",
       "    NoSun,                    !- Sun Exposure\n",
       "    NoWind,                   !- Wind Exposure\n",
       "    autocalculate,            !- View Factor to Ground\n",
       "    autocalculate,            !- Number of Vertices\n",
       "    3.2199999997392297,       !- Vertex 1 Xcoordinate\n",
       "    3.15,                     !- Vertex 1 Ycoordinate\n",
       "    10,                       !- Vertex 1 Zcoordinate\n",
       "    3.2199999997392297,       !- Vertex 2 Xcoordinate\n",
       "    3.15,                     !- Vertex 2 Ycoordinate\n",
       "    0,                        !- Vertex 2 Zcoordinate\n",
       "    0,                        !- Vertex 3 Xcoordinate\n",
       "    3.15,                     !- Vertex 3 Ycoordinate\n",
       "    0,                        !- Vertex 3 Zcoordinate\n",
       "    0,                        !- Vertex 4 Xcoordinate\n",
       "    3.15,                     !- Vertex 4 Ycoordinate\n",
       "    10;                       !- Vertex 4 Zcoordinate\n",
       ", \n",
       "BUILDINGSURFACE:DETAILED,\n",
       "    Block 01 Storey 0 Wall 0001_1,    !- Name\n",
       "    wall,                     !- Surface Type\n",
       "    Project Partition,        !- Construction Name\n",
       "    Block 01 Storey 0,        !- Zone Name\n",
       "    ,                         !- Space Name\n",
       "    surface,                  !- Outside Boundary Condition\n",
       "    Block 06 Storey 0 Wall 0003_1,    !- Outside Boundary Condition Object\n",
       "    NoSun,                    !- Sun Exposure\n",
       "    NoWind,                   !- Wind Exposure\n",
       "    autocalculate,            !- View Factor to Ground\n",
       "    autocalculate,            !- Number of Vertices\n",
       "    5.02,                     !- Vertex 1 Xcoordinate\n",
       "    0,                        !- Vertex 1 Ycoordinate\n",
       "    10,                       !- Vertex 1 Zcoordinate\n",
       "    5.02,                     !- Vertex 2 Xcoordinate\n",
       "    0,                        !- Vertex 2 Ycoordinate\n",
       "    0,                        !- Vertex 2 Zcoordinate\n",
       "    5.02,                     !- Vertex 3 Xcoordinate\n",
       "    2.419999999925494,        !- Vertex 3 Ycoordinate\n",
       "    0,                        !- Vertex 3 Zcoordinate\n",
       "    5.02,                     !- Vertex 4 Xcoordinate\n",
       "    2.419999999925494,        !- Vertex 4 Ycoordinate\n",
       "    10;                       !- Vertex 4 Zcoordinate\n",
       ", \n",
       "BUILDINGSURFACE:DETAILED,\n",
       "    Block 06 Storey 0 Wall 0003_1,    !- Name\n",
       "    wall,                     !- Surface Type\n",
       "    Project Partition,        !- Construction Name\n",
       "    Block 06 Storey 0,        !- Zone Name\n",
       "    ,                         !- Space Name\n",
       "    surface,                  !- Outside Boundary Condition\n",
       "    Block 01 Storey 0 Wall 0001_1,    !- Outside Boundary Condition Object\n",
       "    NoSun,                    !- Sun Exposure\n",
       "    NoWind,                   !- Wind Exposure\n",
       "    autocalculate,            !- View Factor to Ground\n",
       "    autocalculate,            !- Number of Vertices\n",
       "    5.02,                     !- Vertex 1 Xcoordinate\n",
       "    2.419999999925494,        !- Vertex 1 Ycoordinate\n",
       "    10,                       !- Vertex 1 Zcoordinate\n",
       "    5.02,                     !- Vertex 2 Xcoordinate\n",
       "    2.419999999925494,        !- Vertex 2 Ycoordinate\n",
       "    0,                        !- Vertex 2 Zcoordinate\n",
       "    5.02,                     !- Vertex 3 Xcoordinate\n",
       "    0,                        !- Vertex 3 Ycoordinate\n",
       "    0,                        !- Vertex 3 Zcoordinate\n",
       "    5.02,                     !- Vertex 4 Xcoordinate\n",
       "    0,                        !- Vertex 4 Ycoordinate\n",
       "    10;                       !- Vertex 4 Zcoordinate\n",
       ", \n",
       "BUILDINGSURFACE:DETAILED,\n",
       "    Block 06 Storey 0 Wall 0003_2,    !- Name\n",
       "    wall,                     !- Surface Type\n",
       "    Project Partition,        !- Construction Name\n",
       "    Block 06 Storey 0,        !- Zone Name\n",
       "    ,                         !- Space Name\n",
       "    surface,                  !- Outside Boundary Condition\n",
       "    Block 07 Storey 0 Wall 0001_2,    !- Outside Boundary Condition Object\n",
       "    NoSun,                    !- Sun Exposure\n",
       "    NoWind,                   !- Wind Exposure\n",
       "    autocalculate,            !- View Factor to Ground\n",
       "    autocalculate,            !- Number of Vertices\n",
       "    5.02,                     !- Vertex 1 Xcoordinate\n",
       "    3.419999999925494,        !- Vertex 1 Ycoordinate\n",
       "    10,                       !- Vertex 1 Zcoordinate\n",
       "    5.02,                     !- Vertex 2 Xcoordinate\n",
       "    3.419999999925494,        !- Vertex 2 Ycoordinate\n",
       "    0,                        !- Vertex 2 Zcoordinate\n",
       "    5.02,                     !- Vertex 3 Xcoordinate\n",
       "    2.419999999925494,        !- Vertex 3 Ycoordinate\n",
       "    0,                        !- Vertex 3 Zcoordinate\n",
       "    5.02,                     !- Vertex 4 Xcoordinate\n",
       "    2.419999999925494,        !- Vertex 4 Ycoordinate\n",
       "    10;                       !- Vertex 4 Zcoordinate\n",
       ", \n",
       "BUILDINGSURFACE:DETAILED,\n",
       "    Block 01 Storey 0 Wall 0002_1,    !- Name\n",
       "    wall,                     !- Surface Type\n",
       "    Project Partition,        !- Construction Name\n",
       "    Block 01 Storey 0,        !- Zone Name\n",
       "    ,                         !- Space Name\n",
       "    surface,                  !- Outside Boundary Condition\n",
       "    Block 07 Storey 0 Wall 0004_1,    !- Outside Boundary Condition Object\n",
       "    NoSun,                    !- Sun Exposure\n",
       "    NoWind,                   !- Wind Exposure\n",
       "    autocalculate,            !- View Factor to Ground\n",
       "    autocalculate,            !- Number of Vertices\n",
       "    5.019999999552965,        !- Vertex 1 Xcoordinate\n",
       "    2.42,                     !- Vertex 1 Ycoordinate\n",
       "    10,                       !- Vertex 1 Zcoordinate\n",
       "    5.019999999552965,        !- Vertex 2 Xcoordinate\n",
       "    2.42,                     !- Vertex 2 Ycoordinate\n",
       "    0,                        !- Vertex 2 Zcoordinate\n",
       "    3.2199999997392297,       !- Vertex 3 Xcoordinate\n",
       "    2.42,                     !- Vertex 3 Ycoordinate\n",
       "    0,                        !- Vertex 3 Zcoordinate\n",
       "    3.2199999997392297,       !- Vertex 4 Xcoordinate\n",
       "    2.42,                     !- Vertex 4 Ycoordinate\n",
       "    10;                       !- Vertex 4 Zcoordinate\n",
       ", \n",
       "BUILDINGSURFACE:DETAILED,\n",
       "    Block 07 Storey 0 Wall 0004_1,    !- Name\n",
       "    wall,                     !- Surface Type\n",
       "    Project Partition,        !- Construction Name\n",
       "    Block 07 Storey 0,        !- Zone Name\n",
       "    ,                         !- Space Name\n",
       "    surface,                  !- Outside Boundary Condition\n",
       "    Block 01 Storey 0 Wall 0002_1,    !- Outside Boundary Condition Object\n",
       "    NoSun,                    !- Sun Exposure\n",
       "    NoWind,                   !- Wind Exposure\n",
       "    autocalculate,            !- View Factor to Ground\n",
       "    autocalculate,            !- Number of Vertices\n",
       "    3.2199999997392297,       !- Vertex 1 Xcoordinate\n",
       "    2.42,                     !- Vertex 1 Ycoordinate\n",
       "    10,                       !- Vertex 1 Zcoordinate\n",
       "    3.2199999997392297,       !- Vertex 2 Xcoordinate\n",
       "    2.42,                     !- Vertex 2 Ycoordinate\n",
       "    0,                        !- Vertex 2 Zcoordinate\n",
       "    5.019999999552965,        !- Vertex 3 Xcoordinate\n",
       "    2.42,                     !- Vertex 3 Ycoordinate\n",
       "    0,                        !- Vertex 3 Zcoordinate\n",
       "    5.019999999552965,        !- Vertex 4 Xcoordinate\n",
       "    2.42,                     !- Vertex 4 Ycoordinate\n",
       "    10;                       !- Vertex 4 Zcoordinate\n",
       ", \n",
       "BUILDINGSURFACE:DETAILED,\n",
       "    Block 01 Storey 0 Wall 0003_1,    !- Name\n",
       "    wall,                     !- Surface Type\n",
       "    Project Partition,        !- Construction Name\n",
       "    Block 01 Storey 0,        !- Zone Name\n",
       "    ,                         !- Space Name\n",
       "    surface,                  !- Outside Boundary Condition\n",
       "    Block 09 Storey 0 Wall 0001_1,    !- Outside Boundary Condition Object\n",
       "    NoSun,                    !- Sun Exposure\n",
       "    NoWind,                   !- Wind Exposure\n",
       "    autocalculate,            !- View Factor to Ground\n",
       "    autocalculate,            !- Number of Vertices\n",
       "    3.22,                     !- Vertex 1 Xcoordinate\n",
       "    2.419999999925494,        !- Vertex 1 Ycoordinate\n",
       "    10,                       !- Vertex 1 Zcoordinate\n",
       "    3.22,                     !- Vertex 2 Xcoordinate\n",
       "    2.419999999925494,        !- Vertex 2 Ycoordinate\n",
       "    0,                        !- Vertex 2 Zcoordinate\n",
       "    3.22,                     !- Vertex 3 Xcoordinate\n",
       "    0,                        !- Vertex 3 Ycoordinate\n",
       "    0,                        !- Vertex 3 Zcoordinate\n",
       "    3.22,                     !- Vertex 4 Xcoordinate\n",
       "    0,                        !- Vertex 4 Ycoordinate\n",
       "    10;                       !- Vertex 4 Zcoordinate\n",
       ", \n",
       "BUILDINGSURFACE:DETAILED,\n",
       "    Block 09 Storey 0 Wall 0001_1,    !- Name\n",
       "    wall,                     !- Surface Type\n",
       "    Project Partition,        !- Construction Name\n",
       "    Block 09 Storey 0,        !- Zone Name\n",
       "    ,                         !- Space Name\n",
       "    surface,                  !- Outside Boundary Condition\n",
       "    Block 01 Storey 0 Wall 0003_1,    !- Outside Boundary Condition Object\n",
       "    NoSun,                    !- Sun Exposure\n",
       "    NoWind,                   !- Wind Exposure\n",
       "    autocalculate,            !- View Factor to Ground\n",
       "    autocalculate,            !- Number of Vertices\n",
       "    3.22,                     !- Vertex 1 Xcoordinate\n",
       "    0,                        !- Vertex 1 Ycoordinate\n",
       "    10,                       !- Vertex 1 Zcoordinate\n",
       "    3.22,                     !- Vertex 2 Xcoordinate\n",
       "    0,                        !- Vertex 2 Ycoordinate\n",
       "    0,                        !- Vertex 2 Zcoordinate\n",
       "    3.22,                     !- Vertex 3 Xcoordinate\n",
       "    2.419999999925494,        !- Vertex 3 Ycoordinate\n",
       "    0,                        !- Vertex 3 Zcoordinate\n",
       "    3.22,                     !- Vertex 4 Xcoordinate\n",
       "    2.419999999925494,        !- Vertex 4 Ycoordinate\n",
       "    10;                       !- Vertex 4 Zcoordinate\n",
       ", \n",
       "BUILDINGSURFACE:DETAILED,\n",
       "    Block 09 Storey 0 Wall 0001_2,    !- Name\n",
       "    wall,                     !- Surface Type\n",
       "    Project Partition,        !- Construction Name\n",
       "    Block 09 Storey 0,        !- Zone Name\n",
       "    ,                         !- Space Name\n",
       "    surface,                  !- Outside Boundary Condition\n",
       "    Block 07 Storey 0 Wall 0003_2,    !- Outside Boundary Condition Object\n",
       "    NoSun,                    !- Sun Exposure\n",
       "    NoWind,                   !- Wind Exposure\n",
       "    autocalculate,            !- View Factor to Ground\n",
       "    autocalculate,            !- Number of Vertices\n",
       "    3.22,                     !- Vertex 1 Xcoordinate\n",
       "    2.419999999925494,        !- Vertex 1 Ycoordinate\n",
       "    10,                       !- Vertex 1 Zcoordinate\n",
       "    3.22,                     !- Vertex 2 Xcoordinate\n",
       "    2.419999999925494,        !- Vertex 2 Ycoordinate\n",
       "    0,                        !- Vertex 2 Zcoordinate\n",
       "    3.22,                     !- Vertex 3 Xcoordinate\n",
       "    3.1499999999068677,       !- Vertex 3 Ycoordinate\n",
       "    0,                        !- Vertex 3 Zcoordinate\n",
       "    3.22,                     !- Vertex 4 Xcoordinate\n",
       "    3.1499999999068677,       !- Vertex 4 Ycoordinate\n",
       "    10;                       !- Vertex 4 Zcoordinate\n",
       ", \n",
       "BUILDINGSURFACE:DETAILED,\n",
       "    Block 02 Storey 0 Wall 0001_1,    !- Name\n",
       "    wall,                     !- Surface Type\n",
       "    Project Partition,        !- Construction Name\n",
       "    Block 02 Storey 0,        !- Zone Name\n",
       "    ,                         !- Space Name\n",
       "    surface,                  !- Outside Boundary Condition\n",
       "    Block 03 Storey 0 Wall 0003_1,    !- Outside Boundary Condition Object\n",
       "    NoSun,                    !- Sun Exposure\n",
       "    NoWind,                   !- Wind Exposure\n",
       "    autocalculate,            !- View Factor to Ground\n",
       "    autocalculate,            !- Number of Vertices\n",
       "    8.58,                     !- Vertex 1 Xcoordinate\n",
       "    4.649999999906868,        !- Vertex 1 Ycoordinate\n",
       "    10,                       !- Vertex 1 Zcoordinate\n",
       "    8.58,                     !- Vertex 2 Xcoordinate\n",
       "    4.649999999906868,        !- Vertex 2 Ycoordinate\n",
       "    0,                        !- Vertex 2 Zcoordinate\n",
       "    8.58,                     !- Vertex 3 Xcoordinate\n",
       "    5.949999999720603,        !- Vertex 3 Ycoordinate\n",
       "    0,                        !- Vertex 3 Zcoordinate\n",
       "    8.58,                     !- Vertex 4 Xcoordinate\n",
       "    5.949999999720603,        !- Vertex 4 Ycoordinate\n",
       "    10;                       !- Vertex 4 Zcoordinate\n",
       ", \n",
       "BUILDINGSURFACE:DETAILED,\n",
       "    Block 03 Storey 0 Wall 0003_1,    !- Name\n",
       "    wall,                     !- Surface Type\n",
       "    Project Partition,        !- Construction Name\n",
       "    Block 03 Storey 0,        !- Zone Name\n",
       "    ,                         !- Space Name\n",
       "    surface,                  !- Outside Boundary Condition\n",
       "    Block 02 Storey 0 Wall 0001_1,    !- Outside Boundary Condition Object\n",
       "    NoSun,                    !- Sun Exposure\n",
       "    NoWind,                   !- Wind Exposure\n",
       "    autocalculate,            !- View Factor to Ground\n",
       "    autocalculate,            !- Number of Vertices\n",
       "    8.58,                     !- Vertex 1 Xcoordinate\n",
       "    5.949999999720603,        !- Vertex 1 Ycoordinate\n",
       "    10,                       !- Vertex 1 Zcoordinate\n",
       "    8.58,                     !- Vertex 2 Xcoordinate\n",
       "    5.949999999720603,        !- Vertex 2 Ycoordinate\n",
       "    0,                        !- Vertex 2 Zcoordinate\n",
       "    8.58,                     !- Vertex 3 Xcoordinate\n",
       "    4.649999999906868,        !- Vertex 3 Ycoordinate\n",
       "    0,                        !- Vertex 3 Zcoordinate\n",
       "    8.58,                     !- Vertex 4 Xcoordinate\n",
       "    4.649999999906868,        !- Vertex 4 Ycoordinate\n",
       "    10;                       !- Vertex 4 Zcoordinate\n",
       ", \n",
       "BUILDINGSURFACE:DETAILED,\n",
       "    Block 03 Storey 0 Wall 0003_2,    !- Name\n",
       "    wall,                     !- Surface Type\n",
       "    Project Partition,        !- Construction Name\n",
       "    Block 03 Storey 0,        !- Zone Name\n",
       "    ,                         !- Space Name\n",
       "    surface,                  !- Outside Boundary Condition\n",
       "    Block 05 Storey 0 Wall 0001_1,    !- Outside Boundary Condition Object\n",
       "    NoSun,                    !- Sun Exposure\n",
       "    NoWind,                   !- Wind Exposure\n",
       "    autocalculate,            !- View Factor to Ground\n",
       "    autocalculate,            !- Number of Vertices\n",
       "    8.58,                     !- Vertex 1 Xcoordinate\n",
       "    4.649999999906868,        !- Vertex 1 Ycoordinate\n",
       "    10,                       !- Vertex 1 Zcoordinate\n",
       "    8.58,                     !- Vertex 2 Xcoordinate\n",
       "    4.649999999906868,        !- Vertex 2 Ycoordinate\n",
       "    0,                        !- Vertex 2 Zcoordinate\n",
       "    8.58,                     !- Vertex 3 Xcoordinate\n",
       "    3.419999999925494,        !- Vertex 3 Ycoordinate\n",
       "    0,                        !- Vertex 3 Zcoordinate\n",
       "    8.58,                     !- Vertex 4 Xcoordinate\n",
       "    3.419999999925494,        !- Vertex 4 Ycoordinate\n",
       "    10;                       !- Vertex 4 Zcoordinate\n",
       ", \n",
       "BUILDINGSURFACE:DETAILED,\n",
       "    Block 03 Storey 0 Wall 0003_3,    !- Name\n",
       "    wall,                     !- Surface Type\n",
       "    Project Partition,        !- Construction Name\n",
       "    Block 03 Storey 0,        !- Zone Name\n",
       "    ,                         !- Space Name\n",
       "    surface,                  !- Outside Boundary Condition\n",
       "    Block 06 Storey 0 Wall 0001_1,    !- Outside Boundary Condition Object\n",
       "    NoSun,                    !- Sun Exposure\n",
       "    NoWind,                   !- Wind Exposure\n",
       "    autocalculate,            !- View Factor to Ground\n",
       "    autocalculate,            !- Number of Vertices\n",
       "    8.58,                     !- Vertex 1 Xcoordinate\n",
       "    3.419999999925494,        !- Vertex 1 Ycoordinate\n",
       "    10,                       !- Vertex 1 Zcoordinate\n",
       "    8.58,                     !- Vertex 2 Xcoordinate\n",
       "    3.419999999925494,        !- Vertex 2 Ycoordinate\n",
       "    0,                        !- Vertex 2 Zcoordinate\n",
       "    8.58,                     !- Vertex 3 Xcoordinate\n",
       "    3.209999999962747,        !- Vertex 3 Ycoordinate\n",
       "    0,                        !- Vertex 3 Zcoordinate\n",
       "    8.58,                     !- Vertex 4 Xcoordinate\n",
       "    3.209999999962747,        !- Vertex 4 Ycoordinate\n",
       "    10;                       !- Vertex 4 Zcoordinate\n",
       ", \n",
       "BUILDINGSURFACE:DETAILED,\n",
       "    Block 02 Storey 0 Wall 0003_1,    !- Name\n",
       "    wall,                     !- Surface Type\n",
       "    Project Partition,        !- Construction Name\n",
       "    Block 02 Storey 0,        !- Zone Name\n",
       "    ,                         !- Space Name\n",
       "    surface,                  !- Outside Boundary Condition\n",
       "    Block 010 Storey 0 Wall 0001_1,    !- Outside Boundary Condition Object\n",
       "    NoSun,                    !- Sun Exposure\n",
       "    NoWind,                   !- Wind Exposure\n",
       "    autocalculate,            !- View Factor to Ground\n",
       "    autocalculate,            !- Number of Vertices\n",
       "    5.02,                     !- Vertex 1 Xcoordinate\n",
       "    5.949999999720603,        !- Vertex 1 Ycoordinate\n",
       "    10,                       !- Vertex 1 Zcoordinate\n",
       "    5.02,                     !- Vertex 2 Xcoordinate\n",
       "    5.949999999720603,        !- Vertex 2 Ycoordinate\n",
       "    0,                        !- Vertex 2 Zcoordinate\n",
       "    5.02,                     !- Vertex 3 Xcoordinate\n",
       "    4.649999999906868,        !- Vertex 3 Ycoordinate\n",
       "    0,                        !- Vertex 3 Zcoordinate\n",
       "    5.02,                     !- Vertex 4 Xcoordinate\n",
       "    4.649999999906868,        !- Vertex 4 Ycoordinate\n",
       "    10;                       !- Vertex 4 Zcoordinate\n",
       ", \n",
       "BUILDINGSURFACE:DETAILED,\n",
       "    Block 010 Storey 0 Wall 0001_1,    !- Name\n",
       "    wall,                     !- Surface Type\n",
       "    Project Partition,        !- Construction Name\n",
       "    Block 010 Storey 0,       !- Zone Name\n",
       "    ,                         !- Space Name\n",
       "    surface,                  !- Outside Boundary Condition\n",
       "    Block 02 Storey 0 Wall 0003_1,    !- Outside Boundary Condition Object\n",
       "    NoSun,                    !- Sun Exposure\n",
       "    NoWind,                   !- Wind Exposure\n",
       "    autocalculate,            !- View Factor to Ground\n",
       "    autocalculate,            !- Number of Vertices\n",
       "    5.02,                     !- Vertex 1 Xcoordinate\n",
       "    4.649999999906868,        !- Vertex 1 Ycoordinate\n",
       "    10,                       !- Vertex 1 Zcoordinate\n",
       "    5.02,                     !- Vertex 2 Xcoordinate\n",
       "    4.649999999906868,        !- Vertex 2 Ycoordinate\n",
       "    0,                        !- Vertex 2 Zcoordinate\n",
       "    5.02,                     !- Vertex 3 Xcoordinate\n",
       "    5.949999999720603,        !- Vertex 3 Ycoordinate\n",
       "    0,                        !- Vertex 3 Zcoordinate\n",
       "    5.02,                     !- Vertex 4 Xcoordinate\n",
       "    5.949999999720603,        !- Vertex 4 Ycoordinate\n",
       "    10;                       !- Vertex 4 Zcoordinate\n",
       ", \n",
       "BUILDINGSURFACE:DETAILED,\n",
       "    Block 010 Storey 0 Wall 0001_2,    !- Name\n",
       "    wall,                     !- Surface Type\n",
       "    Project Partition,        !- Construction Name\n",
       "    Block 010 Storey 0,       !- Zone Name\n",
       "    ,                         !- Space Name\n",
       "    surface,                  !- Outside Boundary Condition\n",
       "    Block 05 Storey 0 Wall 0003_2,    !- Outside Boundary Condition Object\n",
       "    NoSun,                    !- Sun Exposure\n",
       "    NoWind,                   !- Wind Exposure\n",
       "    autocalculate,            !- View Factor to Ground\n",
       "    autocalculate,            !- Number of Vertices\n",
       "    5.02,                     !- Vertex 1 Xcoordinate\n",
       "    4.199999999720603,        !- Vertex 1 Ycoordinate\n",
       "    10,                       !- Vertex 1 Zcoordinate\n",
       "    5.02,                     !- Vertex 2 Xcoordinate\n",
       "    4.199999999720603,        !- Vertex 2 Ycoordinate\n",
       "    0,                        !- Vertex 2 Zcoordinate\n",
       "    5.02,                     !- Vertex 3 Xcoordinate\n",
       "    4.649999999906868,        !- Vertex 3 Ycoordinate\n",
       "    0,                        !- Vertex 3 Zcoordinate\n",
       "    5.02,                     !- Vertex 4 Xcoordinate\n",
       "    4.649999999906868,        !- Vertex 4 Ycoordinate\n",
       "    10;                       !- Vertex 4 Zcoordinate\n",
       ", \n",
       "BUILDINGSURFACE:DETAILED,\n",
       "    Block 02 Storey 0 Wall 0004_1,    !- Name\n",
       "    wall,                     !- Surface Type\n",
       "    Project Partition,        !- Construction Name\n",
       "    Block 02 Storey 0,        !- Zone Name\n",
       "    ,                         !- Space Name\n",
       "    surface,                  !- Outside Boundary Condition\n",
       "    Block 05 Storey 0 Wall 0002_1,    !- Outside Boundary Condition Object\n",
       "    NoSun,                    !- Sun Exposure\n",
       "    NoWind,                   !- Wind Exposure\n",
       "    autocalculate,            !- View Factor to Ground\n",
       "    autocalculate,            !- Number of Vertices\n",
       "    5.019999999552965,        !- Vertex 1 Xcoordinate\n",
       "    4.65,                     !- Vertex 1 Ycoordinate\n",
       "    10,                       !- Vertex 1 Zcoordinate\n",
       "    5.019999999552965,        !- Vertex 2 Xcoordinate\n",
       "    4.65,                     !- Vertex 2 Ycoordinate\n",
       "    0,                        !- Vertex 2 Zcoordinate\n",
       "    8.579999999608845,        !- Vertex 3 Xcoordinate\n",
       "    4.65,                     !- Vertex 3 Ycoordinate\n",
       "    0,                        !- Vertex 3 Zcoordinate\n",
       "    8.579999999608845,        !- Vertex 4 Xcoordinate\n",
       "    4.65,                     !- Vertex 4 Ycoordinate\n",
       "    10;                       !- Vertex 4 Zcoordinate\n",
       ", \n",
       "BUILDINGSURFACE:DETAILED,\n",
       "    Block 05 Storey 0 Wall 0002_1,    !- Name\n",
       "    wall,                     !- Surface Type\n",
       "    Project Partition,        !- Construction Name\n",
       "    Block 05 Storey 0,        !- Zone Name\n",
       "    ,                         !- Space Name\n",
       "    surface,                  !- Outside Boundary Condition\n",
       "    Block 02 Storey 0 Wall 0004_1,    !- Outside Boundary Condition Object\n",
       "    NoSun,                    !- Sun Exposure\n",
       "    NoWind,                   !- Wind Exposure\n",
       "    autocalculate,            !- View Factor to Ground\n",
       "    autocalculate,            !- Number of Vertices\n",
       "    8.579999999608845,        !- Vertex 1 Xcoordinate\n",
       "    4.65,                     !- Vertex 1 Ycoordinate\n",
       "    10,                       !- Vertex 1 Zcoordinate\n",
       "    8.579999999608845,        !- Vertex 2 Xcoordinate\n",
       "    4.65,                     !- Vertex 2 Ycoordinate\n",
       "    0,                        !- Vertex 2 Zcoordinate\n",
       "    5.019999999552965,        !- Vertex 3 Xcoordinate\n",
       "    4.65,                     !- Vertex 3 Ycoordinate\n",
       "    0,                        !- Vertex 3 Zcoordinate\n",
       "    5.019999999552965,        !- Vertex 4 Xcoordinate\n",
       "    4.65,                     !- Vertex 4 Ycoordinate\n",
       "    10;                       !- Vertex 4 Zcoordinate\n",
       ", \n",
       "BUILDINGSURFACE:DETAILED,\n",
       "    Block 05 Storey 0 Wall 0001_1,    !- Name\n",
       "    wall,                     !- Surface Type\n",
       "    Project Partition,        !- Construction Name\n",
       "    Block 05 Storey 0,        !- Zone Name\n",
       "    ,                         !- Space Name\n",
       "    surface,                  !- Outside Boundary Condition\n",
       "    Block 03 Storey 0 Wall 0003_2,    !- Outside Boundary Condition Object\n",
       "    NoSun,                    !- Sun Exposure\n",
       "    NoWind,                   !- Wind Exposure\n",
       "    autocalculate,            !- View Factor to Ground\n",
       "    autocalculate,            !- Number of Vertices\n",
       "    8.58,                     !- Vertex 1 Xcoordinate\n",
       "    3.419999999925494,        !- Vertex 1 Ycoordinate\n",
       "    10,                       !- Vertex 1 Zcoordinate\n",
       "    8.58,                     !- Vertex 2 Xcoordinate\n",
       "    3.419999999925494,        !- Vertex 2 Ycoordinate\n",
       "    0,                        !- Vertex 2 Zcoordinate\n",
       "    8.58,                     !- Vertex 3 Xcoordinate\n",
       "    4.649999999906868,        !- Vertex 3 Ycoordinate\n",
       "    0,                        !- Vertex 3 Zcoordinate\n",
       "    8.58,                     !- Vertex 4 Xcoordinate\n",
       "    4.649999999906868,        !- Vertex 4 Ycoordinate\n",
       "    10;                       !- Vertex 4 Zcoordinate\n",
       ", \n",
       "BUILDINGSURFACE:DETAILED,\n",
       "    Block 06 Storey 0 Wall 0001_1,    !- Name\n",
       "    wall,                     !- Surface Type\n",
       "    Project Partition,        !- Construction Name\n",
       "    Block 06 Storey 0,        !- Zone Name\n",
       "    ,                         !- Space Name\n",
       "    surface,                  !- Outside Boundary Condition\n",
       "    Block 03 Storey 0 Wall 0003_3,    !- Outside Boundary Condition Object\n",
       "    NoSun,                    !- Sun Exposure\n",
       "    NoWind,                   !- Wind Exposure\n",
       "    autocalculate,            !- View Factor to Ground\n",
       "    autocalculate,            !- Number of Vertices\n",
       "    8.58,                     !- Vertex 1 Xcoordinate\n",
       "    3.209999999962747,        !- Vertex 1 Ycoordinate\n",
       "    10,                       !- Vertex 1 Zcoordinate\n",
       "    8.58,                     !- Vertex 2 Xcoordinate\n",
       "    3.209999999962747,        !- Vertex 2 Ycoordinate\n",
       "    0,                        !- Vertex 2 Zcoordinate\n",
       "    8.58,                     !- Vertex 3 Xcoordinate\n",
       "    3.419999999925494,        !- Vertex 3 Ycoordinate\n",
       "    0,                        !- Vertex 3 Zcoordinate\n",
       "    8.58,                     !- Vertex 4 Xcoordinate\n",
       "    3.419999999925494,        !- Vertex 4 Ycoordinate\n",
       "    10;                       !- Vertex 4 Zcoordinate\n",
       ", \n",
       "BUILDINGSURFACE:DETAILED,\n",
       "    Block 06 Storey 0 Wall 0001_2,    !- Name\n",
       "    wall,                     !- Surface Type\n",
       "    Project Partition,        !- Construction Name\n",
       "    Block 06 Storey 0,        !- Zone Name\n",
       "    ,                         !- Space Name\n",
       "    surface,                  !- Outside Boundary Condition\n",
       "    Block 04 Storey 0 Wall 0003_1,    !- Outside Boundary Condition Object\n",
       "    NoSun,                    !- Sun Exposure\n",
       "    NoWind,                   !- Wind Exposure\n",
       "    autocalculate,            !- View Factor to Ground\n",
       "    autocalculate,            !- Number of Vertices\n",
       "    8.58,                     !- Vertex 1 Xcoordinate\n",
       "    2.609999999869615,        !- Vertex 1 Ycoordinate\n",
       "    10,                       !- Vertex 1 Zcoordinate\n",
       "    8.58,                     !- Vertex 2 Xcoordinate\n",
       "    2.609999999869615,        !- Vertex 2 Ycoordinate\n",
       "    0,                        !- Vertex 2 Zcoordinate\n",
       "    8.58,                     !- Vertex 3 Xcoordinate\n",
       "    3.209999999962747,        !- Vertex 3 Ycoordinate\n",
       "    0,                        !- Vertex 3 Zcoordinate\n",
       "    8.58,                     !- Vertex 4 Xcoordinate\n",
       "    3.209999999962747,        !- Vertex 4 Ycoordinate\n",
       "    10;                       !- Vertex 4 Zcoordinate\n",
       ", \n",
       "BUILDINGSURFACE:DETAILED,\n",
       "    Block 06 Storey 0 Wall 0001_3,    !- Name\n",
       "    wall,                     !- Surface Type\n",
       "    Project Partition,        !- Construction Name\n",
       "    Block 06 Storey 0,        !- Zone Name\n",
       "    ,                         !- Space Name\n",
       "    surface,                  !- Outside Boundary Condition\n",
       "    Block 08 Storey 0 Wall 0003_1,    !- Outside Boundary Condition Object\n",
       "    NoSun,                    !- Sun Exposure\n",
       "    NoWind,                   !- Wind Exposure\n",
       "    autocalculate,            !- View Factor to Ground\n",
       "    autocalculate,            !- Number of Vertices\n",
       "    8.58,                     !- Vertex 1 Xcoordinate\n",
       "    0,                        !- Vertex 1 Ycoordinate\n",
       "    10,                       !- Vertex 1 Zcoordinate\n",
       "    8.58,                     !- Vertex 2 Xcoordinate\n",
       "    0,                        !- Vertex 2 Ycoordinate\n",
       "    0,                        !- Vertex 2 Zcoordinate\n",
       "    8.58,                     !- Vertex 3 Xcoordinate\n",
       "    2.609999999869615,        !- Vertex 3 Ycoordinate\n",
       "    0,                        !- Vertex 3 Zcoordinate\n",
       "    8.58,                     !- Vertex 4 Xcoordinate\n",
       "    2.609999999869615,        !- Vertex 4 Ycoordinate\n",
       "    10;                       !- Vertex 4 Zcoordinate\n",
       ", \n",
       "BUILDINGSURFACE:DETAILED,\n",
       "    Block 03 Storey 0 Wall 0004_1,    !- Name\n",
       "    wall,                     !- Surface Type\n",
       "    Project Partition,        !- Construction Name\n",
       "    Block 03 Storey 0,        !- Zone Name\n",
       "    ,                         !- Space Name\n",
       "    surface,                  !- Outside Boundary Condition\n",
       "    Block 04 Storey 0 Wall 0002_1,    !- Outside Boundary Condition Object\n",
       "    NoSun,                    !- Sun Exposure\n",
       "    NoWind,                   !- Wind Exposure\n",
       "    autocalculate,            !- View Factor to Ground\n",
       "    autocalculate,            !- Number of Vertices\n",
       "    8.579999999608845,        !- Vertex 1 Xcoordinate\n",
       "    3.21,                     !- Vertex 1 Ycoordinate\n",
       "    10,                       !- Vertex 1 Zcoordinate\n",
       "    8.579999999608845,        !- Vertex 2 Xcoordinate\n",
       "    3.21,                     !- Vertex 2 Ycoordinate\n",
       "    0,                        !- Vertex 2 Zcoordinate\n",
       "    10.709999999962747,       !- Vertex 3 Xcoordinate\n",
       "    3.21,                     !- Vertex 3 Ycoordinate\n",
       "    0,                        !- Vertex 3 Zcoordinate\n",
       "    10.709999999962747,       !- Vertex 4 Xcoordinate\n",
       "    3.21,                     !- Vertex 4 Ycoordinate\n",
       "    10;                       !- Vertex 4 Zcoordinate\n",
       ", \n",
       "BUILDINGSURFACE:DETAILED,\n",
       "    Block 04 Storey 0 Wall 0002_1,    !- Name\n",
       "    wall,                     !- Surface Type\n",
       "    Project Partition,        !- Construction Name\n",
       "    Block 04 Storey 0,        !- Zone Name\n",
       "    ,                         !- Space Name\n",
       "    surface,                  !- Outside Boundary Condition\n",
       "    Block 03 Storey 0 Wall 0004_1,    !- Outside Boundary Condition Object\n",
       "    NoSun,                    !- Sun Exposure\n",
       "    NoWind,                   !- Wind Exposure\n",
       "    autocalculate,            !- View Factor to Ground\n",
       "    autocalculate,            !- Number of Vertices\n",
       "    10.709999999962747,       !- Vertex 1 Xcoordinate\n",
       "    3.21,                     !- Vertex 1 Ycoordinate\n",
       "    10,                       !- Vertex 1 Zcoordinate\n",
       "    10.709999999962747,       !- Vertex 2 Xcoordinate\n",
       "    3.21,                     !- Vertex 2 Ycoordinate\n",
       "    0,                        !- Vertex 2 Zcoordinate\n",
       "    8.579999999608845,        !- Vertex 3 Xcoordinate\n",
       "    3.21,                     !- Vertex 3 Ycoordinate\n",
       "    0,                        !- Vertex 3 Zcoordinate\n",
       "    8.579999999608845,        !- Vertex 4 Xcoordinate\n",
       "    3.21,                     !- Vertex 4 Ycoordinate\n",
       "    10;                       !- Vertex 4 Zcoordinate\n",
       ", \n",
       "BUILDINGSURFACE:DETAILED,\n",
       "    Block 04 Storey 0 Wall 0003_1,    !- Name\n",
       "    wall,                     !- Surface Type\n",
       "    Project Partition,        !- Construction Name\n",
       "    Block 04 Storey 0,        !- Zone Name\n",
       "    ,                         !- Space Name\n",
       "    surface,                  !- Outside Boundary Condition\n",
       "    Block 06 Storey 0 Wall 0001_2,    !- Outside Boundary Condition Object\n",
       "    NoSun,                    !- Sun Exposure\n",
       "    NoWind,                   !- Wind Exposure\n",
       "    autocalculate,            !- View Factor to Ground\n",
       "    autocalculate,            !- Number of Vertices\n",
       "    8.58,                     !- Vertex 1 Xcoordinate\n",
       "    3.209999999962747,        !- Vertex 1 Ycoordinate\n",
       "    10,                       !- Vertex 1 Zcoordinate\n",
       "    8.58,                     !- Vertex 2 Xcoordinate\n",
       "    3.209999999962747,        !- Vertex 2 Ycoordinate\n",
       "    0,                        !- Vertex 2 Zcoordinate\n",
       "    8.58,                     !- Vertex 3 Xcoordinate\n",
       "    2.609999999869615,        !- Vertex 3 Ycoordinate\n",
       "    0,                        !- Vertex 3 Zcoordinate\n",
       "    8.58,                     !- Vertex 4 Xcoordinate\n",
       "    2.609999999869615,        !- Vertex 4 Ycoordinate\n",
       "    10;                       !- Vertex 4 Zcoordinate\n",
       ", \n",
       "BUILDINGSURFACE:DETAILED,\n",
       "    Block 04 Storey 0 Wall 0004_1,    !- Name\n",
       "    wall,                     !- Surface Type\n",
       "    Project Partition,        !- Construction Name\n",
       "    Block 04 Storey 0,        !- Zone Name\n",
       "    ,                         !- Space Name\n",
       "    surface,                  !- Outside Boundary Condition\n",
       "    Block 08 Storey 0 Wall 0002_1,    !- Outside Boundary Condition Object\n",
       "    NoSun,                    !- Sun Exposure\n",
       "    NoWind,                   !- Wind Exposure\n",
       "    autocalculate,            !- View Factor to Ground\n",
       "    autocalculate,            !- Number of Vertices\n",
       "    8.579999999608845,        !- Vertex 1 Xcoordinate\n",
       "    2.61,                     !- Vertex 1 Ycoordinate\n",
       "    10,                       !- Vertex 1 Zcoordinate\n",
       "    8.579999999608845,        !- Vertex 2 Xcoordinate\n",
       "    2.61,                     !- Vertex 2 Ycoordinate\n",
       "    0,                        !- Vertex 2 Zcoordinate\n",
       "    10.709999999962747,       !- Vertex 3 Xcoordinate\n",
       "    2.61,                     !- Vertex 3 Ycoordinate\n",
       "    0,                        !- Vertex 3 Zcoordinate\n",
       "    10.709999999962747,       !- Vertex 4 Xcoordinate\n",
       "    2.61,                     !- Vertex 4 Ycoordinate\n",
       "    10;                       !- Vertex 4 Zcoordinate\n",
       ", \n",
       "BUILDINGSURFACE:DETAILED,\n",
       "    Block 08 Storey 0 Wall 0002_1,    !- Name\n",
       "    wall,                     !- Surface Type\n",
       "    Project Partition,        !- Construction Name\n",
       "    Block 08 Storey 0,        !- Zone Name\n",
       "    ,                         !- Space Name\n",
       "    surface,                  !- Outside Boundary Condition\n",
       "    Block 04 Storey 0 Wall 0004_1,    !- Outside Boundary Condition Object\n",
       "    NoSun,                    !- Sun Exposure\n",
       "    NoWind,                   !- Wind Exposure\n",
       "    autocalculate,            !- View Factor to Ground\n",
       "    autocalculate,            !- Number of Vertices\n",
       "    10.709999999962747,       !- Vertex 1 Xcoordinate\n",
       "    2.61,                     !- Vertex 1 Ycoordinate\n",
       "    10,                       !- Vertex 1 Zcoordinate\n",
       "    10.709999999962747,       !- Vertex 2 Xcoordinate\n",
       "    2.61,                     !- Vertex 2 Ycoordinate\n",
       "    0,                        !- Vertex 2 Zcoordinate\n",
       "    8.579999999608845,        !- Vertex 3 Xcoordinate\n",
       "    2.61,                     !- Vertex 3 Ycoordinate\n",
       "    0,                        !- Vertex 3 Zcoordinate\n",
       "    8.579999999608845,        !- Vertex 4 Xcoordinate\n",
       "    2.61,                     !- Vertex 4 Ycoordinate\n",
       "    10;                       !- Vertex 4 Zcoordinate\n",
       ", \n",
       "BUILDINGSURFACE:DETAILED,\n",
       "    Block 05 Storey 0 Wall 0003_1,    !- Name\n",
       "    wall,                     !- Surface Type\n",
       "    Project Partition,        !- Construction Name\n",
       "    Block 05 Storey 0,        !- Zone Name\n",
       "    ,                         !- Space Name\n",
       "    surface,                  !- Outside Boundary Condition\n",
       "    Block 07 Storey 0 Wall 0001_1,    !- Outside Boundary Condition Object\n",
       "    NoSun,                    !- Sun Exposure\n",
       "    NoWind,                   !- Wind Exposure\n",
       "    autocalculate,            !- View Factor to Ground\n",
       "    autocalculate,            !- Number of Vertices\n",
       "    5.02,                     !- Vertex 1 Xcoordinate\n",
       "    4.199999999720603,        !- Vertex 1 Ycoordinate\n",
       "    10,                       !- Vertex 1 Zcoordinate\n",
       "    5.02,                     !- Vertex 2 Xcoordinate\n",
       "    4.199999999720603,        !- Vertex 2 Ycoordinate\n",
       "    0,                        !- Vertex 2 Zcoordinate\n",
       "    5.02,                     !- Vertex 3 Xcoordinate\n",
       "    3.419999999925494,        !- Vertex 3 Ycoordinate\n",
       "    0,                        !- Vertex 3 Zcoordinate\n",
       "    5.02,                     !- Vertex 4 Xcoordinate\n",
       "    3.419999999925494,        !- Vertex 4 Ycoordinate\n",
       "    10;                       !- Vertex 4 Zcoordinate\n",
       ", \n",
       "BUILDINGSURFACE:DETAILED,\n",
       "    Block 05 Storey 0 Wall 0003_2,    !- Name\n",
       "    wall,                     !- Surface Type\n",
       "    Project Partition,        !- Construction Name\n",
       "    Block 05 Storey 0,        !- Zone Name\n",
       "    ,                         !- Space Name\n",
       "    surface,                  !- Outside Boundary Condition\n",
       "    Block 010 Storey 0 Wall 0001_2,    !- Outside Boundary Condition Object\n",
       "    NoSun,                    !- Sun Exposure\n",
       "    NoWind,                   !- Wind Exposure\n",
       "    autocalculate,            !- View Factor to Ground\n",
       "    autocalculate,            !- Number of Vertices\n",
       "    5.02,                     !- Vertex 1 Xcoordinate\n",
       "    4.649999999906868,        !- Vertex 1 Ycoordinate\n",
       "    10,                       !- Vertex 1 Zcoordinate\n",
       "    5.02,                     !- Vertex 2 Xcoordinate\n",
       "    4.649999999906868,        !- Vertex 2 Ycoordinate\n",
       "    0,                        !- Vertex 2 Zcoordinate\n",
       "    5.02,                     !- Vertex 3 Xcoordinate\n",
       "    4.199999999720603,        !- Vertex 3 Ycoordinate\n",
       "    0,                        !- Vertex 3 Zcoordinate\n",
       "    5.02,                     !- Vertex 4 Xcoordinate\n",
       "    4.199999999720603,        !- Vertex 4 Ycoordinate\n",
       "    10;                       !- Vertex 4 Zcoordinate\n",
       ", \n",
       "BUILDINGSURFACE:DETAILED,\n",
       "    Block 07 Storey 0 Wall 0001_1,    !- Name\n",
       "    wall,                     !- Surface Type\n",
       "    Project Partition,        !- Construction Name\n",
       "    Block 07 Storey 0,        !- Zone Name\n",
       "    ,                         !- Space Name\n",
       "    surface,                  !- Outside Boundary Condition\n",
       "    Block 05 Storey 0 Wall 0003_1,    !- Outside Boundary Condition Object\n",
       "    NoSun,                    !- Sun Exposure\n",
       "    NoWind,                   !- Wind Exposure\n",
       "    autocalculate,            !- View Factor to Ground\n",
       "    autocalculate,            !- Number of Vertices\n",
       "    5.02,                     !- Vertex 1 Xcoordinate\n",
       "    3.419999999925494,        !- Vertex 1 Ycoordinate\n",
       "    10,                       !- Vertex 1 Zcoordinate\n",
       "    5.02,                     !- Vertex 2 Xcoordinate\n",
       "    3.419999999925494,        !- Vertex 2 Ycoordinate\n",
       "    0,                        !- Vertex 2 Zcoordinate\n",
       "    5.02,                     !- Vertex 3 Xcoordinate\n",
       "    4.199999999720603,        !- Vertex 3 Ycoordinate\n",
       "    0,                        !- Vertex 3 Zcoordinate\n",
       "    5.02,                     !- Vertex 4 Xcoordinate\n",
       "    4.199999999720603,        !- Vertex 4 Ycoordinate\n",
       "    10;                       !- Vertex 4 Zcoordinate\n",
       ", \n",
       "BUILDINGSURFACE:DETAILED,\n",
       "    Block 07 Storey 0 Wall 0001_2,    !- Name\n",
       "    wall,                     !- Surface Type\n",
       "    Project Partition,        !- Construction Name\n",
       "    Block 07 Storey 0,        !- Zone Name\n",
       "    ,                         !- Space Name\n",
       "    surface,                  !- Outside Boundary Condition\n",
       "    Block 06 Storey 0 Wall 0003_2,    !- Outside Boundary Condition Object\n",
       "    NoSun,                    !- Sun Exposure\n",
       "    NoWind,                   !- Wind Exposure\n",
       "    autocalculate,            !- View Factor to Ground\n",
       "    autocalculate,            !- Number of Vertices\n",
       "    5.02,                     !- Vertex 1 Xcoordinate\n",
       "    2.419999999925494,        !- Vertex 1 Ycoordinate\n",
       "    10,                       !- Vertex 1 Zcoordinate\n",
       "    5.02,                     !- Vertex 2 Xcoordinate\n",
       "    2.419999999925494,        !- Vertex 2 Ycoordinate\n",
       "    0,                        !- Vertex 2 Zcoordinate\n",
       "    5.02,                     !- Vertex 3 Xcoordinate\n",
       "    3.419999999925494,        !- Vertex 3 Ycoordinate\n",
       "    0,                        !- Vertex 3 Zcoordinate\n",
       "    5.02,                     !- Vertex 4 Xcoordinate\n",
       "    3.419999999925494,        !- Vertex 4 Ycoordinate\n",
       "    10;                       !- Vertex 4 Zcoordinate\n",
       ", \n",
       "BUILDINGSURFACE:DETAILED,\n",
       "    Block 05 Storey 0 Wall 0004_1,    !- Name\n",
       "    wall,                     !- Surface Type\n",
       "    Project Partition,        !- Construction Name\n",
       "    Block 05 Storey 0,        !- Zone Name\n",
       "    ,                         !- Space Name\n",
       "    surface,                  !- Outside Boundary Condition\n",
       "    Block 06 Storey 0 Wall 0002_1,    !- Outside Boundary Condition Object\n",
       "    NoSun,                    !- Sun Exposure\n",
       "    NoWind,                   !- Wind Exposure\n",
       "    autocalculate,            !- View Factor to Ground\n",
       "    autocalculate,            !- Number of Vertices\n",
       "    5.019999999552965,        !- Vertex 1 Xcoordinate\n",
       "    3.42,                     !- Vertex 1 Ycoordinate\n",
       "    10,                       !- Vertex 1 Zcoordinate\n",
       "    5.019999999552965,        !- Vertex 2 Xcoordinate\n",
       "    3.42,                     !- Vertex 2 Ycoordinate\n",
       "    0,                        !- Vertex 2 Zcoordinate\n",
       "    8.579999999608845,        !- Vertex 3 Xcoordinate\n",
       "    3.42,                     !- Vertex 3 Ycoordinate\n",
       "    0,                        !- Vertex 3 Zcoordinate\n",
       "    8.579999999608845,        !- Vertex 4 Xcoordinate\n",
       "    3.42,                     !- Vertex 4 Ycoordinate\n",
       "    10;                       !- Vertex 4 Zcoordinate\n",
       ", \n",
       "BUILDINGSURFACE:DETAILED,\n",
       "    Block 06 Storey 0 Wall 0002_1,    !- Name\n",
       "    wall,                     !- Surface Type\n",
       "    Project Partition,        !- Construction Name\n",
       "    Block 06 Storey 0,        !- Zone Name\n",
       "    ,                         !- Space Name\n",
       "    surface,                  !- Outside Boundary Condition\n",
       "    Block 05 Storey 0 Wall 0004_1,    !- Outside Boundary Condition Object\n",
       "    NoSun,                    !- Sun Exposure\n",
       "    NoWind,                   !- Wind Exposure\n",
       "    autocalculate,            !- View Factor to Ground\n",
       "    autocalculate,            !- Number of Vertices\n",
       "    8.579999999608845,        !- Vertex 1 Xcoordinate\n",
       "    3.42,                     !- Vertex 1 Ycoordinate\n",
       "    10,                       !- Vertex 1 Zcoordinate\n",
       "    8.579999999608845,        !- Vertex 2 Xcoordinate\n",
       "    3.42,                     !- Vertex 2 Ycoordinate\n",
       "    0,                        !- Vertex 2 Zcoordinate\n",
       "    5.019999999552965,        !- Vertex 3 Xcoordinate\n",
       "    3.42,                     !- Vertex 3 Ycoordinate\n",
       "    0,                        !- Vertex 3 Zcoordinate\n",
       "    5.019999999552965,        !- Vertex 4 Xcoordinate\n",
       "    3.42,                     !- Vertex 4 Ycoordinate\n",
       "    10;                       !- Vertex 4 Zcoordinate\n",
       ", \n",
       "BUILDINGSURFACE:DETAILED,\n",
       "    Block 08 Storey 0 Wall 0003_1,    !- Name\n",
       "    wall,                     !- Surface Type\n",
       "    Project Partition,        !- Construction Name\n",
       "    Block 08 Storey 0,        !- Zone Name\n",
       "    ,                         !- Space Name\n",
       "    surface,                  !- Outside Boundary Condition\n",
       "    Block 06 Storey 0 Wall 0001_3,    !- Outside Boundary Condition Object\n",
       "    NoSun,                    !- Sun Exposure\n",
       "    NoWind,                   !- Wind Exposure\n",
       "    autocalculate,            !- View Factor to Ground\n",
       "    autocalculate,            !- Number of Vertices\n",
       "    8.58,                     !- Vertex 1 Xcoordinate\n",
       "    2.609999999869615,        !- Vertex 1 Ycoordinate\n",
       "    10,                       !- Vertex 1 Zcoordinate\n",
       "    8.58,                     !- Vertex 2 Xcoordinate\n",
       "    2.609999999869615,        !- Vertex 2 Ycoordinate\n",
       "    0,                        !- Vertex 2 Zcoordinate\n",
       "    8.58,                     !- Vertex 3 Xcoordinate\n",
       "    0,                        !- Vertex 3 Ycoordinate\n",
       "    0,                        !- Vertex 3 Zcoordinate\n",
       "    8.58,                     !- Vertex 4 Xcoordinate\n",
       "    0,                        !- Vertex 4 Ycoordinate\n",
       "    10;                       !- Vertex 4 Zcoordinate\n",
       ", \n",
       "BUILDINGSURFACE:DETAILED,\n",
       "    Block 07 Storey 0 Wall 0002_1,    !- Name\n",
       "    wall,                     !- Surface Type\n",
       "    Project Partition,        !- Construction Name\n",
       "    Block 07 Storey 0,        !- Zone Name\n",
       "    ,                         !- Space Name\n",
       "    surface,                  !- Outside Boundary Condition\n",
       "    Block 010 Storey 0 Wall 0004_1,    !- Outside Boundary Condition Object\n",
       "    NoSun,                    !- Sun Exposure\n",
       "    NoWind,                   !- Wind Exposure\n",
       "    autocalculate,            !- View Factor to Ground\n",
       "    autocalculate,            !- Number of Vertices\n",
       "    5.019999999552965,        !- Vertex 1 Xcoordinate\n",
       "    4.2,                      !- Vertex 1 Ycoordinate\n",
       "    10,                       !- Vertex 1 Zcoordinate\n",
       "    5.019999999552965,        !- Vertex 2 Xcoordinate\n",
       "    4.2,                      !- Vertex 2 Ycoordinate\n",
       "    0,                        !- Vertex 2 Zcoordinate\n",
       "    3.2199999997392297,       !- Vertex 3 Xcoordinate\n",
       "    4.2,                      !- Vertex 3 Ycoordinate\n",
       "    0,                        !- Vertex 3 Zcoordinate\n",
       "    3.2199999997392297,       !- Vertex 4 Xcoordinate\n",
       "    4.2,                      !- Vertex 4 Ycoordinate\n",
       "    10;                       !- Vertex 4 Zcoordinate\n",
       ", \n",
       "BUILDINGSURFACE:DETAILED,\n",
       "    Block 010 Storey 0 Wall 0004_1,    !- Name\n",
       "    wall,                     !- Surface Type\n",
       "    Project Partition,        !- Construction Name\n",
       "    Block 010 Storey 0,       !- Zone Name\n",
       "    ,                         !- Space Name\n",
       "    surface,                  !- Outside Boundary Condition\n",
       "    Block 07 Storey 0 Wall 0002_1,    !- Outside Boundary Condition Object\n",
       "    NoSun,                    !- Sun Exposure\n",
       "    NoWind,                   !- Wind Exposure\n",
       "    autocalculate,            !- View Factor to Ground\n",
       "    autocalculate,            !- Number of Vertices\n",
       "    3.2199999997392297,       !- Vertex 1 Xcoordinate\n",
       "    4.2,                      !- Vertex 1 Ycoordinate\n",
       "    10,                       !- Vertex 1 Zcoordinate\n",
       "    3.2199999997392297,       !- Vertex 2 Xcoordinate\n",
       "    4.2,                      !- Vertex 2 Ycoordinate\n",
       "    0,                        !- Vertex 2 Zcoordinate\n",
       "    5.019999999552965,        !- Vertex 3 Xcoordinate\n",
       "    4.2,                      !- Vertex 3 Ycoordinate\n",
       "    0,                        !- Vertex 3 Zcoordinate\n",
       "    5.019999999552965,        !- Vertex 4 Xcoordinate\n",
       "    4.2,                      !- Vertex 4 Ycoordinate\n",
       "    10;                       !- Vertex 4 Zcoordinate\n",
       "]"
      ]
     },
     "execution_count": 6,
     "metadata": {},
     "output_type": "execute_result"
    }
   ],
   "source": [
    "surfs = ez.case.idf.idfobjects[\"BUILDINGSURFACE:DETAILED\"]\n",
    "surfs\n"
   ]
  },
  {
   "cell_type": "code",
   "execution_count": 7,
   "metadata": {},
   "outputs": [
    {
     "data": {
      "text/plain": [
       "\n",
       "BUILDINGSURFACE:DETAILED,\n",
       "    Block 07 Storey 0 Wall 0002_1,    !- Name\n",
       "    wall,                     !- Surface Type\n",
       "    Project Partition,        !- Construction Name\n",
       "    Block 07 Storey 0,        !- Zone Name\n",
       "    ,                         !- Space Name\n",
       "    surface,                  !- Outside Boundary Condition\n",
       "    Block 010 Storey 0 Wall 0004_1,    !- Outside Boundary Condition Object\n",
       "    NoSun,                    !- Sun Exposure\n",
       "    NoWind,                   !- Wind Exposure\n",
       "    autocalculate,            !- View Factor to Ground\n",
       "    autocalculate,            !- Number of Vertices\n",
       "    5.019999999552965,        !- Vertex 1 Xcoordinate\n",
       "    4.2,                      !- Vertex 1 Ycoordinate\n",
       "    10,                       !- Vertex 1 Zcoordinate\n",
       "    5.019999999552965,        !- Vertex 2 Xcoordinate\n",
       "    4.2,                      !- Vertex 2 Ycoordinate\n",
       "    0,                        !- Vertex 2 Zcoordinate\n",
       "    3.2199999997392297,       !- Vertex 3 Xcoordinate\n",
       "    4.2,                      !- Vertex 3 Ycoordinate\n",
       "    0,                        !- Vertex 3 Zcoordinate\n",
       "    3.2199999997392297,       !- Vertex 4 Xcoordinate\n",
       "    4.2,                      !- Vertex 4 Ycoordinate\n",
       "    10;                       !- Vertex 4 Zcoordinate"
      ]
     },
     "execution_count": 7,
     "metadata": {},
     "output_type": "execute_result"
    }
   ],
   "source": [
    "[j] = [i for i in surfs if i.Name in \"Block 07 Storey 0 Wall 0002_1\"]\n",
    "j\n"
   ]
  },
  {
   "cell_type": "code",
   "execution_count": 8,
   "metadata": {},
   "outputs": [
    {
     "data": {
      "text/plain": [
       "3.22"
      ]
     },
     "execution_count": 8,
     "metadata": {},
     "output_type": "execute_result"
    }
   ],
   "source": [
    "round(j.Vertex_4_Xcoordinate, 2)"
   ]
  },
  {
   "cell_type": "code",
   "execution_count": 9,
   "metadata": {},
   "outputs": [
    {
     "data": {
      "text/plain": [
       "{'B_08_East_W01': <LINESTRING (10.71 0, 10.71 2.61)>,\n",
       " 'B_08_South_W04': <LINESTRING (8.58 0, 10.71 0)>,\n",
       " 'B_08_North_W02_1': <LINESTRING (10.71 2.61, 8.58 2.61)>,\n",
       " 'B_08_West_W03_1': <LINESTRING (8.58 2.61, 8.58 0)>}"
      ]
     },
     "execution_count": 9,
     "metadata": {},
     "output_type": "execute_result"
    }
   ],
   "source": [
    "ld = {v.bunch_name:v.line for i,v in ez.case.geometry.zones[\"B_08\"].walls.items()}\n",
    "ld"
   ]
  },
  {
   "cell_type": "code",
   "execution_count": 31,
   "metadata": {},
   "outputs": [
    {
     "data": {
      "text/plain": [
       "[<LINESTRING (10.71 0, 10.71 2.61)>,\n",
       " <LINESTRING (8.58 0, 10.71 0)>,\n",
       " <LINESTRING (10.71 2.61, 8.58 2.61)>,\n",
       " <LINESTRING (8.58 2.61, 8.58 0)>]"
      ]
     },
     "execution_count": 31,
     "metadata": {},
     "output_type": "execute_result"
    }
   ],
   "source": [
    "[i.line for i in ez.case.geometry.zones[\"B_08\"].wall_list]"
   ]
  },
  {
   "cell_type": "code",
   "execution_count": 5,
   "metadata": {},
   "outputs": [
    {
     "data": {
      "text/plain": [
       "Munch({})"
      ]
     },
     "execution_count": 5,
     "metadata": {},
     "output_type": "execute_result"
    }
   ],
   "source": [
    "ez.case.geometry.zones"
   ]
  },
  {
   "cell_type": "code",
   "execution_count": 25,
   "metadata": {},
   "outputs": [
    {
     "data": {
      "text/plain": [
       "(array('d', [10.709999999962747, 8.579999999608845]), array('d', [2.61, 2.61]))"
      ]
     },
     "execution_count": 25,
     "metadata": {},
     "output_type": "execute_result"
    }
   ],
   "source": [
    "ldd = list(ld.values())\n",
    "ldd[2].xy"
   ]
  },
  {
   "cell_type": "code",
   "execution_count": 28,
   "metadata": {},
   "outputs": [
    {
     "data": {
      "text/plain": [
       "(array('d', [10.71, 8.579999999608845]), array('d', [2.61, 2.61]))"
      ]
     },
     "execution_count": 28,
     "metadata": {},
     "output_type": "execute_result"
    }
   ],
   "source": [
    "sp.snap(ldd[2], ldd[0], 0.1).xy"
   ]
  },
  {
   "cell_type": "code",
   "execution_count": null,
   "metadata": {},
   "outputs": [],
   "source": []
  },
  {
   "cell_type": "code",
   "execution_count": 17,
   "metadata": {},
   "outputs": [
    {
     "data": {
      "text/plain": [
       "[(8.58, 0.0),\n",
       " (8.579999999608845, 2.61),\n",
       " (10.71, 2.61),\n",
       " (10.71, 0.0),\n",
       " (8.58, 0.0)]"
      ]
     },
     "execution_count": 17,
     "metadata": {},
     "output_type": "execute_result"
    }
   ],
   "source": [
    "p = sp.convex_hull(sp.union_all(list(ld.values())))\n",
    "[c for c in p.exterior.coords]"
   ]
  },
  {
   "cell_type": "code",
   "execution_count": 20,
   "metadata": {},
   "outputs": [
    {
     "data": {
      "text/plain": [
       "[(8.58, 0.0),\n",
       " (8.579999999608845, 2.61),\n",
       " (10.71, 2.61),\n",
       " (10.71, 0.0),\n",
       " (8.58, 0.0)]"
      ]
     },
     "execution_count": 20,
     "metadata": {},
     "output_type": "execute_result"
    }
   ],
   "source": [
    "p1 = sp.simplify(p, tolerance=0.01)\n",
    "[c for c in p1.exterior.coords]"
   ]
  },
  {
   "cell_type": "code",
   "execution_count": 9,
   "metadata": {},
   "outputs": [
    {
     "data": {
      "text/plain": [
       "[(10.71, 1.305),\n",
       " (9.645, 0.0),\n",
       " (9.644999999785796, 2.61),\n",
       " (8.58, 1.3049999999348074)]"
      ]
     },
     "execution_count": 9,
     "metadata": {},
     "output_type": "execute_result"
    }
   ],
   "source": [
    "pts = [get_point_as_xy(v.line.centroid) for v in ez.case.geometry.zones[\"B_08\"].walls.values()]\n",
    "pts"
   ]
  },
  {
   "cell_type": "code",
   "execution_count": 8,
   "metadata": {},
   "outputs": [
    {
     "data": {
      "application/vnd.plotly.v1+json": {
       "config": {
        "plotlyServerURL": "https://plotly.com"
       },
       "data": [
        {
         "line": {
          "color": "blue",
          "width": 3
         },
         "marker": {
          "color": "blue"
         },
         "mode": "markers+lines",
         "name": "B_08_East_W01",
         "type": "scatter",
         "x": [
          10.71,
          10.71
         ],
         "y": [
          0,
          2.61
         ]
        },
        {
         "line": {
          "color": "blue",
          "width": 3
         },
         "marker": {
          "color": "blue"
         },
         "mode": "markers+lines",
         "name": "B_08_South_W04",
         "type": "scatter",
         "x": [
          8.58,
          10.71
         ],
         "y": [
          0,
          0
         ]
        },
        {
         "line": {
          "color": "blue",
          "width": 3
         },
         "marker": {
          "color": "blue"
         },
         "mode": "markers+lines",
         "name": "B_08_North_W02_1",
         "type": "scatter",
         "x": [
          10.709999999962747,
          8.579999999608845
         ],
         "y": [
          2.61,
          2.61
         ]
        },
        {
         "line": {
          "color": "blue",
          "width": 3
         },
         "marker": {
          "color": "blue"
         },
         "mode": "markers+lines",
         "name": "B_08_West_W03_1",
         "type": "scatter",
         "x": [
          8.58,
          8.58
         ],
         "y": [
          2.609999999869615,
          0
         ]
        }
       ],
       "layout": {
        "template": {
         "data": {
          "bar": [
           {
            "error_x": {
             "color": "#2a3f5f"
            },
            "error_y": {
             "color": "#2a3f5f"
            },
            "marker": {
             "line": {
              "color": "#E5ECF6",
              "width": 0.5
             },
             "pattern": {
              "fillmode": "overlay",
              "size": 10,
              "solidity": 0.2
             }
            },
            "type": "bar"
           }
          ],
          "barpolar": [
           {
            "marker": {
             "line": {
              "color": "#E5ECF6",
              "width": 0.5
             },
             "pattern": {
              "fillmode": "overlay",
              "size": 10,
              "solidity": 0.2
             }
            },
            "type": "barpolar"
           }
          ],
          "carpet": [
           {
            "aaxis": {
             "endlinecolor": "#2a3f5f",
             "gridcolor": "white",
             "linecolor": "white",
             "minorgridcolor": "white",
             "startlinecolor": "#2a3f5f"
            },
            "baxis": {
             "endlinecolor": "#2a3f5f",
             "gridcolor": "white",
             "linecolor": "white",
             "minorgridcolor": "white",
             "startlinecolor": "#2a3f5f"
            },
            "type": "carpet"
           }
          ],
          "choropleth": [
           {
            "colorbar": {
             "outlinewidth": 0,
             "ticks": ""
            },
            "type": "choropleth"
           }
          ],
          "contour": [
           {
            "colorbar": {
             "outlinewidth": 0,
             "ticks": ""
            },
            "colorscale": [
             [
              0,
              "#0d0887"
             ],
             [
              0.1111111111111111,
              "#46039f"
             ],
             [
              0.2222222222222222,
              "#7201a8"
             ],
             [
              0.3333333333333333,
              "#9c179e"
             ],
             [
              0.4444444444444444,
              "#bd3786"
             ],
             [
              0.5555555555555556,
              "#d8576b"
             ],
             [
              0.6666666666666666,
              "#ed7953"
             ],
             [
              0.7777777777777778,
              "#fb9f3a"
             ],
             [
              0.8888888888888888,
              "#fdca26"
             ],
             [
              1,
              "#f0f921"
             ]
            ],
            "type": "contour"
           }
          ],
          "contourcarpet": [
           {
            "colorbar": {
             "outlinewidth": 0,
             "ticks": ""
            },
            "type": "contourcarpet"
           }
          ],
          "heatmap": [
           {
            "colorbar": {
             "outlinewidth": 0,
             "ticks": ""
            },
            "colorscale": [
             [
              0,
              "#0d0887"
             ],
             [
              0.1111111111111111,
              "#46039f"
             ],
             [
              0.2222222222222222,
              "#7201a8"
             ],
             [
              0.3333333333333333,
              "#9c179e"
             ],
             [
              0.4444444444444444,
              "#bd3786"
             ],
             [
              0.5555555555555556,
              "#d8576b"
             ],
             [
              0.6666666666666666,
              "#ed7953"
             ],
             [
              0.7777777777777778,
              "#fb9f3a"
             ],
             [
              0.8888888888888888,
              "#fdca26"
             ],
             [
              1,
              "#f0f921"
             ]
            ],
            "type": "heatmap"
           }
          ],
          "heatmapgl": [
           {
            "colorbar": {
             "outlinewidth": 0,
             "ticks": ""
            },
            "colorscale": [
             [
              0,
              "#0d0887"
             ],
             [
              0.1111111111111111,
              "#46039f"
             ],
             [
              0.2222222222222222,
              "#7201a8"
             ],
             [
              0.3333333333333333,
              "#9c179e"
             ],
             [
              0.4444444444444444,
              "#bd3786"
             ],
             [
              0.5555555555555556,
              "#d8576b"
             ],
             [
              0.6666666666666666,
              "#ed7953"
             ],
             [
              0.7777777777777778,
              "#fb9f3a"
             ],
             [
              0.8888888888888888,
              "#fdca26"
             ],
             [
              1,
              "#f0f921"
             ]
            ],
            "type": "heatmapgl"
           }
          ],
          "histogram": [
           {
            "marker": {
             "pattern": {
              "fillmode": "overlay",
              "size": 10,
              "solidity": 0.2
             }
            },
            "type": "histogram"
           }
          ],
          "histogram2d": [
           {
            "colorbar": {
             "outlinewidth": 0,
             "ticks": ""
            },
            "colorscale": [
             [
              0,
              "#0d0887"
             ],
             [
              0.1111111111111111,
              "#46039f"
             ],
             [
              0.2222222222222222,
              "#7201a8"
             ],
             [
              0.3333333333333333,
              "#9c179e"
             ],
             [
              0.4444444444444444,
              "#bd3786"
             ],
             [
              0.5555555555555556,
              "#d8576b"
             ],
             [
              0.6666666666666666,
              "#ed7953"
             ],
             [
              0.7777777777777778,
              "#fb9f3a"
             ],
             [
              0.8888888888888888,
              "#fdca26"
             ],
             [
              1,
              "#f0f921"
             ]
            ],
            "type": "histogram2d"
           }
          ],
          "histogram2dcontour": [
           {
            "colorbar": {
             "outlinewidth": 0,
             "ticks": ""
            },
            "colorscale": [
             [
              0,
              "#0d0887"
             ],
             [
              0.1111111111111111,
              "#46039f"
             ],
             [
              0.2222222222222222,
              "#7201a8"
             ],
             [
              0.3333333333333333,
              "#9c179e"
             ],
             [
              0.4444444444444444,
              "#bd3786"
             ],
             [
              0.5555555555555556,
              "#d8576b"
             ],
             [
              0.6666666666666666,
              "#ed7953"
             ],
             [
              0.7777777777777778,
              "#fb9f3a"
             ],
             [
              0.8888888888888888,
              "#fdca26"
             ],
             [
              1,
              "#f0f921"
             ]
            ],
            "type": "histogram2dcontour"
           }
          ],
          "mesh3d": [
           {
            "colorbar": {
             "outlinewidth": 0,
             "ticks": ""
            },
            "type": "mesh3d"
           }
          ],
          "parcoords": [
           {
            "line": {
             "colorbar": {
              "outlinewidth": 0,
              "ticks": ""
             }
            },
            "type": "parcoords"
           }
          ],
          "pie": [
           {
            "automargin": true,
            "type": "pie"
           }
          ],
          "scatter": [
           {
            "fillpattern": {
             "fillmode": "overlay",
             "size": 10,
             "solidity": 0.2
            },
            "type": "scatter"
           }
          ],
          "scatter3d": [
           {
            "line": {
             "colorbar": {
              "outlinewidth": 0,
              "ticks": ""
             }
            },
            "marker": {
             "colorbar": {
              "outlinewidth": 0,
              "ticks": ""
             }
            },
            "type": "scatter3d"
           }
          ],
          "scattercarpet": [
           {
            "marker": {
             "colorbar": {
              "outlinewidth": 0,
              "ticks": ""
             }
            },
            "type": "scattercarpet"
           }
          ],
          "scattergeo": [
           {
            "marker": {
             "colorbar": {
              "outlinewidth": 0,
              "ticks": ""
             }
            },
            "type": "scattergeo"
           }
          ],
          "scattergl": [
           {
            "marker": {
             "colorbar": {
              "outlinewidth": 0,
              "ticks": ""
             }
            },
            "type": "scattergl"
           }
          ],
          "scattermapbox": [
           {
            "marker": {
             "colorbar": {
              "outlinewidth": 0,
              "ticks": ""
             }
            },
            "type": "scattermapbox"
           }
          ],
          "scatterpolar": [
           {
            "marker": {
             "colorbar": {
              "outlinewidth": 0,
              "ticks": ""
             }
            },
            "type": "scatterpolar"
           }
          ],
          "scatterpolargl": [
           {
            "marker": {
             "colorbar": {
              "outlinewidth": 0,
              "ticks": ""
             }
            },
            "type": "scatterpolargl"
           }
          ],
          "scatterternary": [
           {
            "marker": {
             "colorbar": {
              "outlinewidth": 0,
              "ticks": ""
             }
            },
            "type": "scatterternary"
           }
          ],
          "surface": [
           {
            "colorbar": {
             "outlinewidth": 0,
             "ticks": ""
            },
            "colorscale": [
             [
              0,
              "#0d0887"
             ],
             [
              0.1111111111111111,
              "#46039f"
             ],
             [
              0.2222222222222222,
              "#7201a8"
             ],
             [
              0.3333333333333333,
              "#9c179e"
             ],
             [
              0.4444444444444444,
              "#bd3786"
             ],
             [
              0.5555555555555556,
              "#d8576b"
             ],
             [
              0.6666666666666666,
              "#ed7953"
             ],
             [
              0.7777777777777778,
              "#fb9f3a"
             ],
             [
              0.8888888888888888,
              "#fdca26"
             ],
             [
              1,
              "#f0f921"
             ]
            ],
            "type": "surface"
           }
          ],
          "table": [
           {
            "cells": {
             "fill": {
              "color": "#EBF0F8"
             },
             "line": {
              "color": "white"
             }
            },
            "header": {
             "fill": {
              "color": "#C8D4E3"
             },
             "line": {
              "color": "white"
             }
            },
            "type": "table"
           }
          ]
         },
         "layout": {
          "annotationdefaults": {
           "arrowcolor": "#2a3f5f",
           "arrowhead": 0,
           "arrowwidth": 1
          },
          "autotypenumbers": "strict",
          "coloraxis": {
           "colorbar": {
            "outlinewidth": 0,
            "ticks": ""
           }
          },
          "colorscale": {
           "diverging": [
            [
             0,
             "#8e0152"
            ],
            [
             0.1,
             "#c51b7d"
            ],
            [
             0.2,
             "#de77ae"
            ],
            [
             0.3,
             "#f1b6da"
            ],
            [
             0.4,
             "#fde0ef"
            ],
            [
             0.5,
             "#f7f7f7"
            ],
            [
             0.6,
             "#e6f5d0"
            ],
            [
             0.7,
             "#b8e186"
            ],
            [
             0.8,
             "#7fbc41"
            ],
            [
             0.9,
             "#4d9221"
            ],
            [
             1,
             "#276419"
            ]
           ],
           "sequential": [
            [
             0,
             "#0d0887"
            ],
            [
             0.1111111111111111,
             "#46039f"
            ],
            [
             0.2222222222222222,
             "#7201a8"
            ],
            [
             0.3333333333333333,
             "#9c179e"
            ],
            [
             0.4444444444444444,
             "#bd3786"
            ],
            [
             0.5555555555555556,
             "#d8576b"
            ],
            [
             0.6666666666666666,
             "#ed7953"
            ],
            [
             0.7777777777777778,
             "#fb9f3a"
            ],
            [
             0.8888888888888888,
             "#fdca26"
            ],
            [
             1,
             "#f0f921"
            ]
           ],
           "sequentialminus": [
            [
             0,
             "#0d0887"
            ],
            [
             0.1111111111111111,
             "#46039f"
            ],
            [
             0.2222222222222222,
             "#7201a8"
            ],
            [
             0.3333333333333333,
             "#9c179e"
            ],
            [
             0.4444444444444444,
             "#bd3786"
            ],
            [
             0.5555555555555556,
             "#d8576b"
            ],
            [
             0.6666666666666666,
             "#ed7953"
            ],
            [
             0.7777777777777778,
             "#fb9f3a"
            ],
            [
             0.8888888888888888,
             "#fdca26"
            ],
            [
             1,
             "#f0f921"
            ]
           ]
          },
          "colorway": [
           "#636efa",
           "#EF553B",
           "#00cc96",
           "#ab63fa",
           "#FFA15A",
           "#19d3f3",
           "#FF6692",
           "#B6E880",
           "#FF97FF",
           "#FECB52"
          ],
          "font": {
           "color": "#2a3f5f"
          },
          "geo": {
           "bgcolor": "white",
           "lakecolor": "white",
           "landcolor": "#E5ECF6",
           "showlakes": true,
           "showland": true,
           "subunitcolor": "white"
          },
          "hoverlabel": {
           "align": "left"
          },
          "hovermode": "closest",
          "mapbox": {
           "style": "light"
          },
          "paper_bgcolor": "white",
          "plot_bgcolor": "#E5ECF6",
          "polar": {
           "angularaxis": {
            "gridcolor": "white",
            "linecolor": "white",
            "ticks": ""
           },
           "bgcolor": "#E5ECF6",
           "radialaxis": {
            "gridcolor": "white",
            "linecolor": "white",
            "ticks": ""
           }
          },
          "scene": {
           "xaxis": {
            "backgroundcolor": "#E5ECF6",
            "gridcolor": "white",
            "gridwidth": 2,
            "linecolor": "white",
            "showbackground": true,
            "ticks": "",
            "zerolinecolor": "white"
           },
           "yaxis": {
            "backgroundcolor": "#E5ECF6",
            "gridcolor": "white",
            "gridwidth": 2,
            "linecolor": "white",
            "showbackground": true,
            "ticks": "",
            "zerolinecolor": "white"
           },
           "zaxis": {
            "backgroundcolor": "#E5ECF6",
            "gridcolor": "white",
            "gridwidth": 2,
            "linecolor": "white",
            "showbackground": true,
            "ticks": "",
            "zerolinecolor": "white"
           }
          },
          "shapedefaults": {
           "line": {
            "color": "#2a3f5f"
           }
          },
          "ternary": {
           "aaxis": {
            "gridcolor": "white",
            "linecolor": "white",
            "ticks": ""
           },
           "baxis": {
            "gridcolor": "white",
            "linecolor": "white",
            "ticks": ""
           },
           "bgcolor": "#E5ECF6",
           "caxis": {
            "gridcolor": "white",
            "linecolor": "white",
            "ticks": ""
           }
          },
          "title": {
           "x": 0.05
          },
          "xaxis": {
           "automargin": true,
           "gridcolor": "white",
           "linecolor": "white",
           "ticks": "",
           "title": {
            "standoff": 15
           },
           "zerolinecolor": "white",
           "zerolinewidth": 2
          },
          "yaxis": {
           "automargin": true,
           "gridcolor": "white",
           "linecolor": "white",
           "ticks": "",
           "title": {
            "standoff": 15
           },
           "zerolinecolor": "white",
           "zerolinewidth": 2
          }
         }
        }
       }
      }
     },
     "metadata": {},
     "output_type": "display_data"
    }
   ],
   "source": [
    "td = {i: prepare_line_traces(v, color=\"blue\", label=i) for i,v in ld.items()}\n",
    "\n",
    "fig = go.Figure()\n",
    "for trace in td.values():\n",
    "    fig.add_trace(trace)\n",
    "\n",
    "fig.show()"
   ]
  },
  {
   "cell_type": "code",
   "execution_count": 74,
   "metadata": {},
   "outputs": [],
   "source": [
    "import math\n",
    "def sort_counterclockwise(points, lines, centre = None):\n",
    "  if centre:\n",
    "    centre_x, centre_y = centre\n",
    "  else:\n",
    "    centre_x, centre_y = sum([x for x,_ in points])/len(points), sum([y for _,y in points])/len(points)\n",
    "  angles = [math.atan2(y - centre_y, x - centre_x) for x,y in points]\n",
    "  counterclockwise_indices = sorted(range(len(points)), key=lambda i: angles[i])\n",
    "  counterclockwise_points = [points[i] for i in counterclockwise_indices]\n",
    "  ccw_lines = [lines[i] for i in counterclockwise_indices]\n",
    "  return counterclockwise_points, ccw_lines"
   ]
  },
  {
   "cell_type": "code",
   "execution_count": 78,
   "metadata": {},
   "outputs": [],
   "source": [
    "pts = [get_point_as_xy(v.line.centroid) for v in ez.case.geometry.zones[\"B_010\"].walls.values()]\n",
    "lines = [(k,v.line) for k, v in ez.case.geometry.zones[\"B_010\"].walls.items()]\n",
    "\n",
    "\n",
    "\n",
    "\n",
    "_, nl = sort_counterclockwise(pts, lines)"
   ]
  },
  {
   "cell_type": "code",
   "execution_count": 82,
   "metadata": {},
   "outputs": [
    {
     "data": {
      "text/plain": [
       "[('B_010_South_W04_1', <LINESTRING (3.22 4.2, 5.02 4.2)>),\n",
       " ('B_010_East_W01_2', <LINESTRING (5.02 4.2, 5.02 4.65)>),\n",
       " ('B_010_East_W01_1', <LINESTRING (5.02 4.65, 5.02 5.95)>),\n",
       " ('B_010_North_W02', <LINESTRING (5.02 5.95, 3.22 5.95)>),\n",
       " ('B_010_West_W03_1', <LINESTRING (3.22 5.95, 3.22 4.2)>)]"
      ]
     },
     "execution_count": 82,
     "metadata": {},
     "output_type": "execute_result"
    }
   ],
   "source": [
    "nl"
   ]
  },
  {
   "cell_type": "code",
   "execution_count": 81,
   "metadata": {},
   "outputs": [
    {
     "data": {
      "application/vnd.plotly.v1+json": {
       "config": {
        "plotlyServerURL": "https://plotly.com"
       },
       "data": [
        {
         "line": {
          "color": "blue",
          "width": 3
         },
         "marker": {
          "color": "blue"
         },
         "mode": "markers+lines",
         "name": "B_010_South_W04_1",
         "type": "scatter",
         "x": [
          3.2199999997392297,
          5.019999999552965
         ],
         "y": [
          4.2,
          4.2
         ]
        },
        {
         "line": {
          "color": "blue",
          "width": 3
         },
         "marker": {
          "color": "blue"
         },
         "mode": "markers+lines",
         "name": "B_010_East_W01_2",
         "type": "scatter",
         "x": [
          5.02,
          5.02
         ],
         "y": [
          4.199999999720603,
          4.649999999906868
         ]
        },
        {
         "line": {
          "color": "blue",
          "width": 3
         },
         "marker": {
          "color": "blue"
         },
         "mode": "markers+lines",
         "name": "B_010_East_W01_1",
         "type": "scatter",
         "x": [
          5.02,
          5.02
         ],
         "y": [
          4.649999999906868,
          5.949999999720603
         ]
        },
        {
         "line": {
          "color": "blue",
          "width": 3
         },
         "marker": {
          "color": "blue"
         },
         "mode": "markers+lines",
         "name": "B_010_North_W02",
         "type": "scatter",
         "x": [
          5.02,
          3.22
         ],
         "y": [
          5.95,
          5.95
         ]
        },
        {
         "line": {
          "color": "blue",
          "width": 3
         },
         "marker": {
          "color": "blue"
         },
         "mode": "markers+lines",
         "name": "B_010_West_W03_1",
         "type": "scatter",
         "x": [
          3.22,
          3.22
         ],
         "y": [
          5.949999999720603,
          4.199999999720603
         ]
        }
       ],
       "layout": {
        "template": {
         "data": {
          "bar": [
           {
            "error_x": {
             "color": "#2a3f5f"
            },
            "error_y": {
             "color": "#2a3f5f"
            },
            "marker": {
             "line": {
              "color": "#E5ECF6",
              "width": 0.5
             },
             "pattern": {
              "fillmode": "overlay",
              "size": 10,
              "solidity": 0.2
             }
            },
            "type": "bar"
           }
          ],
          "barpolar": [
           {
            "marker": {
             "line": {
              "color": "#E5ECF6",
              "width": 0.5
             },
             "pattern": {
              "fillmode": "overlay",
              "size": 10,
              "solidity": 0.2
             }
            },
            "type": "barpolar"
           }
          ],
          "carpet": [
           {
            "aaxis": {
             "endlinecolor": "#2a3f5f",
             "gridcolor": "white",
             "linecolor": "white",
             "minorgridcolor": "white",
             "startlinecolor": "#2a3f5f"
            },
            "baxis": {
             "endlinecolor": "#2a3f5f",
             "gridcolor": "white",
             "linecolor": "white",
             "minorgridcolor": "white",
             "startlinecolor": "#2a3f5f"
            },
            "type": "carpet"
           }
          ],
          "choropleth": [
           {
            "colorbar": {
             "outlinewidth": 0,
             "ticks": ""
            },
            "type": "choropleth"
           }
          ],
          "contour": [
           {
            "colorbar": {
             "outlinewidth": 0,
             "ticks": ""
            },
            "colorscale": [
             [
              0,
              "#0d0887"
             ],
             [
              0.1111111111111111,
              "#46039f"
             ],
             [
              0.2222222222222222,
              "#7201a8"
             ],
             [
              0.3333333333333333,
              "#9c179e"
             ],
             [
              0.4444444444444444,
              "#bd3786"
             ],
             [
              0.5555555555555556,
              "#d8576b"
             ],
             [
              0.6666666666666666,
              "#ed7953"
             ],
             [
              0.7777777777777778,
              "#fb9f3a"
             ],
             [
              0.8888888888888888,
              "#fdca26"
             ],
             [
              1,
              "#f0f921"
             ]
            ],
            "type": "contour"
           }
          ],
          "contourcarpet": [
           {
            "colorbar": {
             "outlinewidth": 0,
             "ticks": ""
            },
            "type": "contourcarpet"
           }
          ],
          "heatmap": [
           {
            "colorbar": {
             "outlinewidth": 0,
             "ticks": ""
            },
            "colorscale": [
             [
              0,
              "#0d0887"
             ],
             [
              0.1111111111111111,
              "#46039f"
             ],
             [
              0.2222222222222222,
              "#7201a8"
             ],
             [
              0.3333333333333333,
              "#9c179e"
             ],
             [
              0.4444444444444444,
              "#bd3786"
             ],
             [
              0.5555555555555556,
              "#d8576b"
             ],
             [
              0.6666666666666666,
              "#ed7953"
             ],
             [
              0.7777777777777778,
              "#fb9f3a"
             ],
             [
              0.8888888888888888,
              "#fdca26"
             ],
             [
              1,
              "#f0f921"
             ]
            ],
            "type": "heatmap"
           }
          ],
          "heatmapgl": [
           {
            "colorbar": {
             "outlinewidth": 0,
             "ticks": ""
            },
            "colorscale": [
             [
              0,
              "#0d0887"
             ],
             [
              0.1111111111111111,
              "#46039f"
             ],
             [
              0.2222222222222222,
              "#7201a8"
             ],
             [
              0.3333333333333333,
              "#9c179e"
             ],
             [
              0.4444444444444444,
              "#bd3786"
             ],
             [
              0.5555555555555556,
              "#d8576b"
             ],
             [
              0.6666666666666666,
              "#ed7953"
             ],
             [
              0.7777777777777778,
              "#fb9f3a"
             ],
             [
              0.8888888888888888,
              "#fdca26"
             ],
             [
              1,
              "#f0f921"
             ]
            ],
            "type": "heatmapgl"
           }
          ],
          "histogram": [
           {
            "marker": {
             "pattern": {
              "fillmode": "overlay",
              "size": 10,
              "solidity": 0.2
             }
            },
            "type": "histogram"
           }
          ],
          "histogram2d": [
           {
            "colorbar": {
             "outlinewidth": 0,
             "ticks": ""
            },
            "colorscale": [
             [
              0,
              "#0d0887"
             ],
             [
              0.1111111111111111,
              "#46039f"
             ],
             [
              0.2222222222222222,
              "#7201a8"
             ],
             [
              0.3333333333333333,
              "#9c179e"
             ],
             [
              0.4444444444444444,
              "#bd3786"
             ],
             [
              0.5555555555555556,
              "#d8576b"
             ],
             [
              0.6666666666666666,
              "#ed7953"
             ],
             [
              0.7777777777777778,
              "#fb9f3a"
             ],
             [
              0.8888888888888888,
              "#fdca26"
             ],
             [
              1,
              "#f0f921"
             ]
            ],
            "type": "histogram2d"
           }
          ],
          "histogram2dcontour": [
           {
            "colorbar": {
             "outlinewidth": 0,
             "ticks": ""
            },
            "colorscale": [
             [
              0,
              "#0d0887"
             ],
             [
              0.1111111111111111,
              "#46039f"
             ],
             [
              0.2222222222222222,
              "#7201a8"
             ],
             [
              0.3333333333333333,
              "#9c179e"
             ],
             [
              0.4444444444444444,
              "#bd3786"
             ],
             [
              0.5555555555555556,
              "#d8576b"
             ],
             [
              0.6666666666666666,
              "#ed7953"
             ],
             [
              0.7777777777777778,
              "#fb9f3a"
             ],
             [
              0.8888888888888888,
              "#fdca26"
             ],
             [
              1,
              "#f0f921"
             ]
            ],
            "type": "histogram2dcontour"
           }
          ],
          "mesh3d": [
           {
            "colorbar": {
             "outlinewidth": 0,
             "ticks": ""
            },
            "type": "mesh3d"
           }
          ],
          "parcoords": [
           {
            "line": {
             "colorbar": {
              "outlinewidth": 0,
              "ticks": ""
             }
            },
            "type": "parcoords"
           }
          ],
          "pie": [
           {
            "automargin": true,
            "type": "pie"
           }
          ],
          "scatter": [
           {
            "fillpattern": {
             "fillmode": "overlay",
             "size": 10,
             "solidity": 0.2
            },
            "type": "scatter"
           }
          ],
          "scatter3d": [
           {
            "line": {
             "colorbar": {
              "outlinewidth": 0,
              "ticks": ""
             }
            },
            "marker": {
             "colorbar": {
              "outlinewidth": 0,
              "ticks": ""
             }
            },
            "type": "scatter3d"
           }
          ],
          "scattercarpet": [
           {
            "marker": {
             "colorbar": {
              "outlinewidth": 0,
              "ticks": ""
             }
            },
            "type": "scattercarpet"
           }
          ],
          "scattergeo": [
           {
            "marker": {
             "colorbar": {
              "outlinewidth": 0,
              "ticks": ""
             }
            },
            "type": "scattergeo"
           }
          ],
          "scattergl": [
           {
            "marker": {
             "colorbar": {
              "outlinewidth": 0,
              "ticks": ""
             }
            },
            "type": "scattergl"
           }
          ],
          "scattermapbox": [
           {
            "marker": {
             "colorbar": {
              "outlinewidth": 0,
              "ticks": ""
             }
            },
            "type": "scattermapbox"
           }
          ],
          "scatterpolar": [
           {
            "marker": {
             "colorbar": {
              "outlinewidth": 0,
              "ticks": ""
             }
            },
            "type": "scatterpolar"
           }
          ],
          "scatterpolargl": [
           {
            "marker": {
             "colorbar": {
              "outlinewidth": 0,
              "ticks": ""
             }
            },
            "type": "scatterpolargl"
           }
          ],
          "scatterternary": [
           {
            "marker": {
             "colorbar": {
              "outlinewidth": 0,
              "ticks": ""
             }
            },
            "type": "scatterternary"
           }
          ],
          "surface": [
           {
            "colorbar": {
             "outlinewidth": 0,
             "ticks": ""
            },
            "colorscale": [
             [
              0,
              "#0d0887"
             ],
             [
              0.1111111111111111,
              "#46039f"
             ],
             [
              0.2222222222222222,
              "#7201a8"
             ],
             [
              0.3333333333333333,
              "#9c179e"
             ],
             [
              0.4444444444444444,
              "#bd3786"
             ],
             [
              0.5555555555555556,
              "#d8576b"
             ],
             [
              0.6666666666666666,
              "#ed7953"
             ],
             [
              0.7777777777777778,
              "#fb9f3a"
             ],
             [
              0.8888888888888888,
              "#fdca26"
             ],
             [
              1,
              "#f0f921"
             ]
            ],
            "type": "surface"
           }
          ],
          "table": [
           {
            "cells": {
             "fill": {
              "color": "#EBF0F8"
             },
             "line": {
              "color": "white"
             }
            },
            "header": {
             "fill": {
              "color": "#C8D4E3"
             },
             "line": {
              "color": "white"
             }
            },
            "type": "table"
           }
          ]
         },
         "layout": {
          "annotationdefaults": {
           "arrowcolor": "#2a3f5f",
           "arrowhead": 0,
           "arrowwidth": 1
          },
          "autotypenumbers": "strict",
          "coloraxis": {
           "colorbar": {
            "outlinewidth": 0,
            "ticks": ""
           }
          },
          "colorscale": {
           "diverging": [
            [
             0,
             "#8e0152"
            ],
            [
             0.1,
             "#c51b7d"
            ],
            [
             0.2,
             "#de77ae"
            ],
            [
             0.3,
             "#f1b6da"
            ],
            [
             0.4,
             "#fde0ef"
            ],
            [
             0.5,
             "#f7f7f7"
            ],
            [
             0.6,
             "#e6f5d0"
            ],
            [
             0.7,
             "#b8e186"
            ],
            [
             0.8,
             "#7fbc41"
            ],
            [
             0.9,
             "#4d9221"
            ],
            [
             1,
             "#276419"
            ]
           ],
           "sequential": [
            [
             0,
             "#0d0887"
            ],
            [
             0.1111111111111111,
             "#46039f"
            ],
            [
             0.2222222222222222,
             "#7201a8"
            ],
            [
             0.3333333333333333,
             "#9c179e"
            ],
            [
             0.4444444444444444,
             "#bd3786"
            ],
            [
             0.5555555555555556,
             "#d8576b"
            ],
            [
             0.6666666666666666,
             "#ed7953"
            ],
            [
             0.7777777777777778,
             "#fb9f3a"
            ],
            [
             0.8888888888888888,
             "#fdca26"
            ],
            [
             1,
             "#f0f921"
            ]
           ],
           "sequentialminus": [
            [
             0,
             "#0d0887"
            ],
            [
             0.1111111111111111,
             "#46039f"
            ],
            [
             0.2222222222222222,
             "#7201a8"
            ],
            [
             0.3333333333333333,
             "#9c179e"
            ],
            [
             0.4444444444444444,
             "#bd3786"
            ],
            [
             0.5555555555555556,
             "#d8576b"
            ],
            [
             0.6666666666666666,
             "#ed7953"
            ],
            [
             0.7777777777777778,
             "#fb9f3a"
            ],
            [
             0.8888888888888888,
             "#fdca26"
            ],
            [
             1,
             "#f0f921"
            ]
           ]
          },
          "colorway": [
           "#636efa",
           "#EF553B",
           "#00cc96",
           "#ab63fa",
           "#FFA15A",
           "#19d3f3",
           "#FF6692",
           "#B6E880",
           "#FF97FF",
           "#FECB52"
          ],
          "font": {
           "color": "#2a3f5f"
          },
          "geo": {
           "bgcolor": "white",
           "lakecolor": "white",
           "landcolor": "#E5ECF6",
           "showlakes": true,
           "showland": true,
           "subunitcolor": "white"
          },
          "hoverlabel": {
           "align": "left"
          },
          "hovermode": "closest",
          "mapbox": {
           "style": "light"
          },
          "paper_bgcolor": "white",
          "plot_bgcolor": "#E5ECF6",
          "polar": {
           "angularaxis": {
            "gridcolor": "white",
            "linecolor": "white",
            "ticks": ""
           },
           "bgcolor": "#E5ECF6",
           "radialaxis": {
            "gridcolor": "white",
            "linecolor": "white",
            "ticks": ""
           }
          },
          "scene": {
           "xaxis": {
            "backgroundcolor": "#E5ECF6",
            "gridcolor": "white",
            "gridwidth": 2,
            "linecolor": "white",
            "showbackground": true,
            "ticks": "",
            "zerolinecolor": "white"
           },
           "yaxis": {
            "backgroundcolor": "#E5ECF6",
            "gridcolor": "white",
            "gridwidth": 2,
            "linecolor": "white",
            "showbackground": true,
            "ticks": "",
            "zerolinecolor": "white"
           },
           "zaxis": {
            "backgroundcolor": "#E5ECF6",
            "gridcolor": "white",
            "gridwidth": 2,
            "linecolor": "white",
            "showbackground": true,
            "ticks": "",
            "zerolinecolor": "white"
           }
          },
          "shapedefaults": {
           "line": {
            "color": "#2a3f5f"
           }
          },
          "ternary": {
           "aaxis": {
            "gridcolor": "white",
            "linecolor": "white",
            "ticks": ""
           },
           "baxis": {
            "gridcolor": "white",
            "linecolor": "white",
            "ticks": ""
           },
           "bgcolor": "#E5ECF6",
           "caxis": {
            "gridcolor": "white",
            "linecolor": "white",
            "ticks": ""
           }
          },
          "title": {
           "x": 0.05
          },
          "xaxis": {
           "automargin": true,
           "gridcolor": "white",
           "linecolor": "white",
           "ticks": "",
           "title": {
            "standoff": 15
           },
           "zerolinecolor": "white",
           "zerolinewidth": 2
          },
          "yaxis": {
           "automargin": true,
           "gridcolor": "white",
           "linecolor": "white",
           "ticks": "",
           "title": {
            "standoff": 15
           },
           "zerolinecolor": "white",
           "zerolinewidth": 2
          }
         }
        }
       }
      }
     },
     "metadata": {},
     "output_type": "display_data"
    }
   ],
   "source": [
    "td = {i[0]: prepare_line_traces(i[1], color=\"blue\", label=i[0]) for i in nl}\n",
    "\n",
    "fig = go.Figure()\n",
    "for trace in td.values():\n",
    "    fig.add_trace(trace)\n",
    "\n",
    "fig.show()"
   ]
  },
  {
   "cell_type": "code",
   "execution_count": 83,
   "metadata": {},
   "outputs": [
    {
     "data": {
      "text/plain": [
       "[<LINESTRING (3.22 4.2, 5.02 4.2)>,\n",
       " <LINESTRING (5.02 4.2, 5.02 4.65)>,\n",
       " <LINESTRING (5.02 4.65, 5.02 5.95)>,\n",
       " <LINESTRING (5.02 5.95, 3.22 5.95)>,\n",
       " <LINESTRING (3.22 5.95, 3.22 4.2)>]"
      ]
     },
     "execution_count": 83,
     "metadata": {},
     "output_type": "execute_result"
    }
   ],
   "source": [
    "just_lines = [i[1] for i in nl]\n",
    "just_lines"
   ]
  },
  {
   "cell_type": "code",
   "execution_count": 92,
   "metadata": {},
   "outputs": [
    {
     "data": {
      "text/plain": [
       "[(3.2199999997392297, 4.2), (5.019999999552965, 4.2)]"
      ]
     },
     "execution_count": 92,
     "metadata": {},
     "output_type": "execute_result"
    }
   ],
   "source": [
    "[c for c in just_lines[0].coords]"
   ]
  },
  {
   "cell_type": "code",
   "execution_count": 89,
   "metadata": {},
   "outputs": [
    {
     "data": {
      "text/plain": [
       "[<LINESTRING (3.22 4.2, 3.22 4.2)>,\n",
       " <LINESTRING (3.22 4.2, 5.02 4.2)>,\n",
       " <LINESTRING (5.02 4.2, 5.02 4.65)>,\n",
       " <LINESTRING (5.02 4.65, 5.02 5.95)>,\n",
       " <LINESTRING (5.02 5.95, 3.22 5.95)>,\n",
       " <LINESTRING (3.22 5.95, 3.22 4.2)>,\n",
       " <LINESTRING (3.22 4.2, 3.22 4.2)>]"
      ]
     },
     "execution_count": 89,
     "metadata": {},
     "output_type": "execute_result"
    }
   ],
   "source": [
    "[g for g in sp.unary_union(just_lines).geoms]"
   ]
  },
  {
   "cell_type": "code",
   "execution_count": 84,
   "metadata": {},
   "outputs": [
    {
     "data": {
      "image/svg+xml": [
       "<svg xmlns=\"http://www.w3.org/2000/svg\" xmlns:xlink=\"http://www.w3.org/1999/xlink\" />"
      ],
      "text/plain": [
       "<GEOMETRYCOLLECTION EMPTY>"
      ]
     },
     "execution_count": 84,
     "metadata": {},
     "output_type": "execute_result"
    }
   ],
   "source": [
    "sp.polygonize(just_lines)"
   ]
  },
  {
   "cell_type": "code",
   "execution_count": 72,
   "metadata": {},
   "outputs": [
    {
     "data": {
      "text/plain": [
       "[<LINESTRING (0 0, 2 0)>, <LINESTRING (2 0, 1 1)>, <LINESTRING (1 1, 0 0)>]"
      ]
     },
     "execution_count": 72,
     "metadata": {},
     "output_type": "execute_result"
    }
   ],
   "source": [
    "a = (0,0)\n",
    "b = (2,0)\n",
    "c = (1,1)\n",
    "lines = [sp.LineString([a,b]), sp.LineString([b,c]), sp.LineString([c,a])]\n",
    "lines"
   ]
  },
  {
   "cell_type": "code",
   "execution_count": 73,
   "metadata": {},
   "outputs": [
    {
     "data": {
      "image/svg+xml": [
       "<svg xmlns=\"http://www.w3.org/2000/svg\" xmlns:xlink=\"http://www.w3.org/1999/xlink\" width=\"100.0\" height=\"100.0\" viewBox=\"-0.08 -0.08 2.16 1.1600000000000001\" preserveAspectRatio=\"xMinYMin meet\"><g transform=\"matrix(1,0,0,-1,0,1.0)\"><g><path fill-rule=\"evenodd\" fill=\"#66cc99\" stroke=\"#555555\" stroke-width=\"0.0432\" opacity=\"0.6\" d=\"M 2.0,0.0 L 0.0,0.0 L 1.0,1.0 L 2.0,0.0 z\" /></g></g></svg>"
      ],
      "text/plain": [
       "<GEOMETRYCOLLECTION (POLYGON ((2 0, 0 0, 1 1, 2 0)))>"
      ]
     },
     "execution_count": 73,
     "metadata": {},
     "output_type": "execute_result"
    }
   ],
   "source": [
    "sp.polygonize(lines)"
   ]
  }
 ],
 "metadata": {
  "kernelspec": {
   "display_name": "gqenv",
   "language": "python",
   "name": "python3"
  },
  "language_info": {
   "codemirror_mode": {
    "name": "ipython",
    "version": 3
   },
   "file_extension": ".py",
   "mimetype": "text/x-python",
   "name": "python",
   "nbconvert_exporter": "python",
   "pygments_lexer": "ipython3",
   "version": "3.10.14"
  }
 },
 "nbformat": 4,
 "nbformat_minor": 2
}
