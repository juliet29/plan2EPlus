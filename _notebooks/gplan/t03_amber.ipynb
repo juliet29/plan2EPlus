{
 "cells": [
  {
   "cell_type": "code",
   "execution_count": 1,
   "metadata": {},
   "outputs": [],
   "source": [
    "import sys\n",
    "sys.path.append(\"/Users/julietnwagwuume-ezeoke/_UILCode/gqe-phd/geomeppy/_scripts\")\n",
    "\n",
    "from typing import Union\n",
    "from dataclasses import dataclass\n",
    "\n",
    "from copy import deepcopy\n",
    "import json\n",
    "\n",
    "from case_edits.ezcase import EzCase\n",
    "\n",
    "from recipes.amber import input\n",
    "from recipes.exp_01 import input as input1, ns_axis\n",
    "from geometry.wall_normal import WallNormal\n",
    "from helpers.helpers import key_from_value\n",
    "from methods.subsurfaces.pairs import DEFAULT_WINDOW, SubsurfacePair, DEFAULT_DOOR\n",
    "\n",
    "\n",
    "from gplan.subsurface_translator import SubsurfaceTranslator"
   ]
  },
  {
   "cell_type": "code",
   "execution_count": 2,
   "metadata": {},
   "outputs": [],
   "source": [
    "# input_ns = ns_axis(input1)\n",
    "# input_ns.subsurface_pairs"
   ]
  },
  {
   "cell_type": "code",
   "execution_count": 2,
   "metadata": {},
   "outputs": [
    {
     "name": "stdout",
     "output_type": "stream",
     "text": [
      "tests/test21_amber\n"
     ]
    },
    {
     "ename": "IndexError",
     "evalue": "list index out of range",
     "output_type": "error",
     "traceback": [
      "\u001b[0;31m---------------------------------------------------------------------------\u001b[0m",
      "\u001b[0;31mIndexError\u001b[0m                                Traceback (most recent call last)",
      "Cell \u001b[0;32mIn[2], line 1\u001b[0m\n\u001b[0;32m----> 1\u001b[0m ez \u001b[38;5;241m=\u001b[39m \u001b[43mEzCase\u001b[49m\u001b[43m(\u001b[49m\u001b[38;5;28;43minput\u001b[39;49m\u001b[43m,\u001b[49m\u001b[43m \u001b[49m\u001b[43mRUN_CASE\u001b[49m\u001b[38;5;241;43m=\u001b[39;49m\u001b[38;5;28;43;01mTrue\u001b[39;49;00m\u001b[43m)\u001b[49m\n\u001b[1;32m      2\u001b[0m ez\n",
      "File \u001b[0;32m~/_UILCode/gqe-phd/geomeppy/_scripts/case_edits/ezcase.py:47\u001b[0m, in \u001b[0;36mEzCase.__init__\u001b[0;34m(self, input, RUN_CASE)\u001b[0m\n\u001b[1;32m     45\u001b[0m \u001b[38;5;28mself\u001b[39m\u001b[38;5;241m.\u001b[39mRUN_CASE \u001b[38;5;241m=\u001b[39m RUN_CASE\n\u001b[1;32m     46\u001b[0m \u001b[38;5;28mself\u001b[39m\u001b[38;5;241m.\u001b[39mformat_inputs()\n\u001b[0;32m---> 47\u001b[0m \u001b[38;5;28;43mself\u001b[39;49m\u001b[38;5;241;43m.\u001b[39;49m\u001b[43mrun\u001b[49m\u001b[43m(\u001b[49m\u001b[43m)\u001b[49m\n",
      "File \u001b[0;32m~/_UILCode/gqe-phd/geomeppy/_scripts/case_edits/ezcase.py:55\u001b[0m, in \u001b[0;36mEzCase.run\u001b[0;34m(self)\u001b[0m\n\u001b[1;32m     53\u001b[0m \u001b[38;5;28;01mdef\u001b[39;00m \u001b[38;5;21mrun\u001b[39m(\u001b[38;5;28mself\u001b[39m):\n\u001b[1;32m     54\u001b[0m     \u001b[38;5;28mself\u001b[39m\u001b[38;5;241m.\u001b[39mcreate_case()\n\u001b[0;32m---> 55\u001b[0m     \u001b[38;5;28;43mself\u001b[39;49m\u001b[38;5;241;43m.\u001b[39;49m\u001b[43madd_rooms\u001b[49m\u001b[43m(\u001b[49m\u001b[43m)\u001b[49m\n\u001b[1;32m     56\u001b[0m     \u001b[38;5;28mself\u001b[39m\u001b[38;5;241m.\u001b[39madd_subsurfaces()\n\u001b[1;32m     57\u001b[0m     \u001b[38;5;28mself\u001b[39m\u001b[38;5;241m.\u001b[39madd_airflownetwork()\n",
      "File \u001b[0;32m~/_UILCode/gqe-phd/geomeppy/_scripts/case_edits/ezcase.py:79\u001b[0m, in \u001b[0;36mEzCase.add_rooms\u001b[0;34m(self)\u001b[0m\n\u001b[1;32m     77\u001b[0m \u001b[38;5;28;01mdef\u001b[39;00m \u001b[38;5;21madd_rooms\u001b[39m(\u001b[38;5;28mself\u001b[39m):\n\u001b[1;32m     78\u001b[0m     \u001b[38;5;28mself\u001b[39m\u001b[38;5;241m.\u001b[39mgplan_convert \u001b[38;5;241m=\u001b[39m GPLANtoGeomeppy(\u001b[38;5;28mself\u001b[39m\u001b[38;5;241m.\u001b[39mcase, \u001b[38;5;28mself\u001b[39m\u001b[38;5;241m.\u001b[39minputs\u001b[38;5;241m.\u001b[39mgeometry)\n\u001b[0;32m---> 79\u001b[0m     \u001b[38;5;28;43mself\u001b[39;49m\u001b[38;5;241;43m.\u001b[39;49m\u001b[43mcase\u001b[49m\u001b[38;5;241;43m.\u001b[39;49m\u001b[43midf\u001b[49m\u001b[38;5;241;43m.\u001b[39;49m\u001b[43mintersect_match\u001b[49m\u001b[43m(\u001b[49m\u001b[43m)\u001b[49m\n\u001b[1;32m     80\u001b[0m     \u001b[38;5;28mself\u001b[39m\u001b[38;5;241m.\u001b[39mcase\u001b[38;5;241m.\u001b[39midf\u001b[38;5;241m.\u001b[39mset_default_constructions()\n\u001b[1;32m     81\u001b[0m     \u001b[38;5;28mself\u001b[39m\u001b[38;5;241m.\u001b[39mget_geometry()\n",
      "File \u001b[0;32m~/_UILCode/gqe-phd/gqenv/lib/python3.10/site-packages/geomeppy/idf.py:50\u001b[0m, in \u001b[0;36mIDF.intersect_match\u001b[0;34m(self)\u001b[0m\n\u001b[1;32m     47\u001b[0m \u001b[38;5;28;01mdef\u001b[39;00m \u001b[38;5;21mintersect_match\u001b[39m(\u001b[38;5;28mself\u001b[39m):\n\u001b[1;32m     48\u001b[0m     \u001b[38;5;66;03m# type: () -> None\u001b[39;00m\n\u001b[1;32m     49\u001b[0m \u001b[38;5;250m    \u001b[39m\u001b[38;5;124;03m\"\"\"Intersect all surfaces in the IDF, then set boundary conditions.\"\"\"\u001b[39;00m\n\u001b[0;32m---> 50\u001b[0m     \u001b[38;5;28;43mself\u001b[39;49m\u001b[38;5;241;43m.\u001b[39;49m\u001b[43mintersect\u001b[49m\u001b[43m(\u001b[49m\u001b[43m)\u001b[49m\n\u001b[1;32m     51\u001b[0m     \u001b[38;5;28mself\u001b[39m\u001b[38;5;241m.\u001b[39mmatch()\n",
      "File \u001b[0;32m~/_UILCode/gqe-phd/gqenv/lib/python3.10/site-packages/geomeppy/idf.py:56\u001b[0m, in \u001b[0;36mIDF.intersect\u001b[0;34m(self)\u001b[0m\n\u001b[1;32m     53\u001b[0m \u001b[38;5;28;01mdef\u001b[39;00m \u001b[38;5;21mintersect\u001b[39m(\u001b[38;5;28mself\u001b[39m):\n\u001b[1;32m     54\u001b[0m     \u001b[38;5;66;03m# type: () -> None\u001b[39;00m\n\u001b[1;32m     55\u001b[0m \u001b[38;5;250m    \u001b[39m\u001b[38;5;124;03m\"\"\"Intersect all surfaces in the IDF.\"\"\"\u001b[39;00m\n\u001b[0;32m---> 56\u001b[0m     \u001b[43mintersect_idf_surfaces\u001b[49m\u001b[43m(\u001b[49m\u001b[38;5;28;43mself\u001b[39;49m\u001b[43m)\u001b[49m\n",
      "File \u001b[0;32m~/_UILCode/gqe-phd/gqenv/lib/python3.10/site-packages/geomeppy/geom/intersect_match.py:30\u001b[0m, in \u001b[0;36mintersect_idf_surfaces\u001b[0;34m(idf)\u001b[0m\n\u001b[1;32m     28\u001b[0m     ggr \u001b[38;5;241m=\u001b[39m \u001b[38;5;28;01mNone\u001b[39;00m\n\u001b[1;32m     29\u001b[0m \u001b[38;5;66;03m# get all the intersected surfaces\u001b[39;00m\n\u001b[0;32m---> 30\u001b[0m adjacencies \u001b[38;5;241m=\u001b[39m \u001b[43mget_adjacencies\u001b[49m\u001b[43m(\u001b[49m\u001b[43msurfaces\u001b[49m\u001b[43m)\u001b[49m\n\u001b[1;32m     31\u001b[0m \u001b[38;5;28;01mfor\u001b[39;00m surface \u001b[38;5;129;01min\u001b[39;00m adjacencies:\n\u001b[1;32m     32\u001b[0m     key, name \u001b[38;5;241m=\u001b[39m surface\n",
      "File \u001b[0;32m~/_UILCode/gqe-phd/gqenv/lib/python3.10/site-packages/geomeppy/geom/surfaces.py:144\u001b[0m, in \u001b[0;36mget_adjacencies\u001b[0;34m(surfaces)\u001b[0m\n\u001b[1;32m    142\u001b[0m \u001b[38;5;66;03m# find all adjacent surfaces\u001b[39;00m\n\u001b[1;32m    143\u001b[0m \u001b[38;5;28;01mfor\u001b[39;00m s1, s2 \u001b[38;5;129;01min\u001b[39;00m combinations(surfaces, \u001b[38;5;241m2\u001b[39m):\n\u001b[0;32m--> 144\u001b[0m     adjacencies \u001b[38;5;241m=\u001b[39m \u001b[43mpopulate_adjacencies\u001b[49m\u001b[43m(\u001b[49m\u001b[43madjacencies\u001b[49m\u001b[43m,\u001b[49m\u001b[43m \u001b[49m\u001b[43ms1\u001b[49m\u001b[43m,\u001b[49m\u001b[43m \u001b[49m\u001b[43ms2\u001b[49m\u001b[43m)\u001b[49m\n\u001b[1;32m    145\u001b[0m \u001b[38;5;28;01mfor\u001b[39;00m adjacency, polys \u001b[38;5;129;01min\u001b[39;00m adjacencies\u001b[38;5;241m.\u001b[39mitems():\n\u001b[1;32m    146\u001b[0m     adjacencies[adjacency] \u001b[38;5;241m=\u001b[39m minimal_set(polys)\n",
      "File \u001b[0;32m~/_UILCode/gqe-phd/gqenv/lib/python3.10/site-packages/geomeppy/geom/surfaces.py:187\u001b[0m, in \u001b[0;36mpopulate_adjacencies\u001b[0;34m(adjacencies, s1, s2)\u001b[0m\n\u001b[1;32m    185\u001b[0m intersection \u001b[38;5;241m=\u001b[39m poly1\u001b[38;5;241m.\u001b[39mintersect(poly2)\n\u001b[1;32m    186\u001b[0m \u001b[38;5;28;01mif\u001b[39;00m intersection:\n\u001b[0;32m--> 187\u001b[0m     new_surfaces \u001b[38;5;241m=\u001b[39m \u001b[43mintersect\u001b[49m\u001b[43m(\u001b[49m\u001b[43mpoly1\u001b[49m\u001b[43m,\u001b[49m\u001b[43m \u001b[49m\u001b[43mpoly2\u001b[49m\u001b[43m)\u001b[49m\n\u001b[1;32m    188\u001b[0m     new_s1 \u001b[38;5;241m=\u001b[39m [\n\u001b[1;32m    189\u001b[0m         s\n\u001b[1;32m    190\u001b[0m         \u001b[38;5;28;01mfor\u001b[39;00m s \u001b[38;5;129;01min\u001b[39;00m new_surfaces\n\u001b[1;32m    191\u001b[0m         \u001b[38;5;28;01mif\u001b[39;00m almostequal(s\u001b[38;5;241m.\u001b[39mnormal_vector, poly1\u001b[38;5;241m.\u001b[39mnormal_vector, \u001b[38;5;241m4\u001b[39m)\n\u001b[1;32m    192\u001b[0m     ]\n\u001b[1;32m    193\u001b[0m     new_s2 \u001b[38;5;241m=\u001b[39m [\n\u001b[1;32m    194\u001b[0m         s\n\u001b[1;32m    195\u001b[0m         \u001b[38;5;28;01mfor\u001b[39;00m s \u001b[38;5;129;01min\u001b[39;00m new_surfaces\n\u001b[1;32m    196\u001b[0m         \u001b[38;5;28;01mif\u001b[39;00m almostequal(s\u001b[38;5;241m.\u001b[39mnormal_vector, poly2\u001b[38;5;241m.\u001b[39mnormal_vector, \u001b[38;5;241m4\u001b[39m)\n\u001b[1;32m    197\u001b[0m     ]\n",
      "File \u001b[0;32m~/_UILCode/gqe-phd/gqenv/lib/python3.10/site-packages/geomeppy/geom/polygons.py:642\u001b[0m, in \u001b[0;36mintersect\u001b[0;34m(poly1, poly2)\u001b[0m\n\u001b[1;32m    640\u001b[0m     polys\u001b[38;5;241m.\u001b[39mextend(break_polygons(poly1, poly2))\n\u001b[1;32m    641\u001b[0m \u001b[38;5;28;01melif\u001b[39;00m is_hole(poly2, poly1):\n\u001b[0;32m--> 642\u001b[0m     polys\u001b[38;5;241m.\u001b[39mextend(\u001b[43mbreak_polygons\u001b[49m\u001b[43m(\u001b[49m\u001b[43mpoly2\u001b[49m\u001b[43m,\u001b[49m\u001b[43m \u001b[49m\u001b[43mpoly1\u001b[49m\u001b[43m)\u001b[49m)\n\u001b[1;32m    643\u001b[0m \u001b[38;5;28;01melse\u001b[39;00m:\n\u001b[1;32m    644\u001b[0m     polys\u001b[38;5;241m.\u001b[39mextend(poly1\u001b[38;5;241m.\u001b[39mdifference(poly2))\n",
      "File \u001b[0;32m~/_UILCode/gqe-phd/gqenv/lib/python3.10/site-packages/geomeppy/geom/polygons.py:490\u001b[0m, in \u001b[0;36mbreak_polygons\u001b[0;34m(poly, hole)\u001b[0m\n\u001b[1;32m    488\u001b[0m new_poly \u001b[38;5;241m=\u001b[39m Polygon3D(new_poly)\n\u001b[1;32m    489\u001b[0m union \u001b[38;5;241m=\u001b[39m hole\u001b[38;5;241m.\u001b[39munion(new_poly)[\u001b[38;5;241m0\u001b[39m]\n\u001b[0;32m--> 490\u001b[0m new_poly2 \u001b[38;5;241m=\u001b[39m \u001b[43mpoly\u001b[49m\u001b[38;5;241;43m.\u001b[39;49m\u001b[43mdifference\u001b[49m\u001b[43m(\u001b[49m\u001b[43munion\u001b[49m\u001b[43m)\u001b[49m\u001b[43m[\u001b[49m\u001b[38;5;241;43m0\u001b[39;49m\u001b[43m]\u001b[49m\n\u001b[1;32m    491\u001b[0m \u001b[38;5;28;01mif\u001b[39;00m \u001b[38;5;129;01mnot\u001b[39;00m almostequal(new_poly\u001b[38;5;241m.\u001b[39mnormal_vector, poly\u001b[38;5;241m.\u001b[39mnormal_vector):\n\u001b[1;32m    492\u001b[0m     new_poly \u001b[38;5;241m=\u001b[39m new_poly\u001b[38;5;241m.\u001b[39minvert_orientation()\n",
      "\u001b[0;31mIndexError\u001b[0m: list index out of range"
     ]
    }
   ],
   "source": [
    "ez = EzCase(input, RUN_CASE=False)\n",
    "ez"
   ]
  },
  {
   "cell_type": "code",
   "execution_count": 7,
   "metadata": {},
   "outputs": [
    {
     "name": "stdout",
     "output_type": "stream",
     "text": [
      "Block 03 Storey 0 Wall 0004_1 Door\n",
      "Block 05 Storey 0 Wall 0003_1 Door\n"
     ]
    }
   ],
   "source": [
    "ineligible_zones = [k for k,v in ez.afn.cnt.items() if v < 2]\n",
    "for s  in ez.afn.subsurface_zones:\n",
    "    if s.zone in ineligible_zones or s.partner_zone in ineligible_zones:\n",
    "        print(s.subsurface.name)\n",
    "\n"
   ]
  },
  {
   "cell_type": "code",
   "execution_count": null,
   "metadata": {},
   "outputs": [],
   "source": []
  },
  {
   "cell_type": "code",
   "execution_count": 9,
   "metadata": {},
   "outputs": [
    {
     "data": {
      "text/plain": [
       "'Block 00 Storey 0 Wall 0001_1 Door'"
      ]
     },
     "execution_count": 9,
     "metadata": {},
     "output_type": "execute_result"
    }
   ],
   "source": [
    "ez.afn.subsurfaces[0].Name"
   ]
  },
  {
   "cell_type": "code",
   "execution_count": 12,
   "metadata": {},
   "outputs": [
    {
     "data": {
      "text/plain": [
       "False"
      ]
     },
     "execution_count": 12,
     "metadata": {},
     "output_type": "execute_result"
    }
   ],
   "source": [
    "'Block 05 Storey 0' in [z.Zone_Name for z in ez.case.idf.idfobjects[\"AIRFLOWNETWORK:MULTIZONE:ZONE\"]]"
   ]
  },
  {
   "cell_type": "code",
   "execution_count": 5,
   "metadata": {},
   "outputs": [
    {
     "data": {
      "application/vnd.plotly.v1+json": {
       "config": {
        "plotlyServerURL": "https://plotly.com"
       },
       "data": [],
       "layout": {
        "autosize": false,
        "height": 350,
        "margin": {
         "b": 50,
         "l": 50,
         "pad": 4,
         "r": 50,
         "t": 50
        },
        "shapes": [
         {
          "fillcolor": "#9dd1eb",
          "label": {
           "text": "Block 00"
          },
          "type": "rect",
          "x0": 0,
          "x1": 269,
          "xref": "x",
          "y0": 263,
          "y1": 497,
          "yref": "y"
         },
         {
          "fillcolor": "#9dd1eb",
          "label": {
           "text": "Block 01"
          },
          "type": "rect",
          "x0": 269,
          "x1": 419,
          "xref": "x",
          "y0": 0,
          "y1": 202,
          "yref": "y"
         },
         {
          "fillcolor": "#9dd1eb",
          "label": {
           "text": "Block 02"
          },
          "type": "rect",
          "x0": 419,
          "x1": 700,
          "xref": "x",
          "y0": 388,
          "y1": 497,
          "yref": "y"
         },
         {
          "fillcolor": "#9dd1eb",
          "label": {
           "text": "Block 03"
          },
          "type": "rect",
          "x0": 700,
          "x1": 878,
          "xref": "x",
          "y0": 268,
          "y1": 497,
          "yref": "y"
         },
         {
          "fillcolor": "#9dd1eb",
          "label": {
           "text": "Block 04"
          },
          "type": "rect",
          "x0": 700,
          "x1": 878,
          "xref": "x",
          "y0": 218,
          "y1": 268,
          "yref": "y"
         },
         {
          "fillcolor": "#9dd1eb",
          "label": {
           "text": "Block 05"
          },
          "type": "rect",
          "x0": 419,
          "x1": 700,
          "xref": "x",
          "y0": 285,
          "y1": 388,
          "yref": "y"
         },
         {
          "fillcolor": "#9dd1eb",
          "label": {
           "text": "Block 06"
          },
          "type": "rect",
          "x0": 419,
          "x1": 700,
          "xref": "x",
          "y0": 0,
          "y1": 285,
          "yref": "y"
         },
         {
          "fillcolor": "#9dd1eb",
          "label": {
           "text": "Block 07"
          },
          "type": "rect",
          "x0": 269,
          "x1": 419,
          "xref": "x",
          "y0": 202,
          "y1": 351,
          "yref": "y"
         },
         {
          "fillcolor": "#9dd1eb",
          "label": {
           "text": "Block 08"
          },
          "type": "rect",
          "x0": 700,
          "x1": 878,
          "xref": "x",
          "y0": 0,
          "y1": 218,
          "yref": "y"
         },
         {
          "fillcolor": "#9dd1eb",
          "label": {
           "text": "Block 09"
          },
          "type": "rect",
          "x0": 0,
          "x1": 269,
          "xref": "x",
          "y0": 0,
          "y1": 263,
          "yref": "y"
         },
         {
          "fillcolor": "#9dd1eb",
          "label": {
           "text": "Block 010"
          },
          "type": "rect",
          "x0": 269,
          "x1": 419,
          "xref": "x",
          "y0": 351,
          "y1": 497,
          "yref": "y"
         },
         {
          "fillcolor": "#a32c54",
          "label": {
           "font": {
            "color": "#a32c54",
            "size": 9
           },
           "text": "Window"
          },
          "line": {
           "color": "#a32c54",
           "width": 3
          },
          "type": "line",
          "x0": 94.44999999999996,
          "x1": 174.55,
          "xref": "x",
          "y0": 497,
          "y1": 497,
          "yref": "y"
         },
         {
          "fillcolor": "#a32c54",
          "label": {
           "font": {
            "color": "#a32c54",
            "size": 9
           },
           "text": "Door"
          },
          "line": {
           "color": "#a32c54",
           "width": 3
          },
          "type": "line",
          "x0": 269,
          "x1": 269,
          "xref": "x",
          "y0": 294.1,
          "y1": 319.90000000000003,
          "yref": "y"
         },
         {
          "fillcolor": "#a32c54",
          "label": {
           "font": {
            "color": "#a32c54",
            "size": 9
           },
           "text": "Window"
          },
          "line": {
           "color": "#a32c54",
           "width": 3
          },
          "type": "line",
          "x0": 321.8,
          "x1": 366.20000000000005,
          "xref": "x",
          "y0": 0,
          "y1": 0,
          "yref": "y"
         },
         {
          "fillcolor": "#a32c54",
          "label": {
           "font": {
            "color": "#a32c54",
            "size": 9
           },
           "text": "Door"
          },
          "line": {
           "color": "#a32c54",
           "width": 3
          },
          "type": "line",
          "x0": 419,
          "x1": 419,
          "xref": "x",
          "y0": 71,
          "y1": 131,
          "yref": "y"
         },
         {
          "fillcolor": "#a32c54",
          "label": {
           "font": {
            "color": "#a32c54",
            "size": 9
           },
           "text": "Window"
          },
          "line": {
           "color": "#a32c54",
           "width": 3
          },
          "type": "line",
          "x0": 517.6500000000001,
          "x1": 601.35,
          "xref": "x",
          "y0": 497,
          "y1": 497,
          "yref": "y"
         },
         {
          "fillcolor": "#a32c54",
          "label": {
           "font": {
            "color": "#a32c54",
            "size": 9
           },
           "text": "Door"
          },
          "line": {
           "color": "#a32c54",
           "width": 3
          },
          "type": "line",
          "x0": 700,
          "x1": 700,
          "xref": "x",
          "y0": 426.45,
          "y1": 458.54999999999995,
          "yref": "y"
         },
         {
          "fillcolor": "#a32c54",
          "label": {
           "font": {
            "color": "#a32c54",
            "size": 9
           },
           "text": "Window"
          },
          "line": {
           "color": "#a32c54",
           "width": 3
          },
          "type": "line",
          "x0": 762.6,
          "x1": 815.4,
          "xref": "x",
          "y0": 497,
          "y1": 497,
          "yref": "y"
         },
         {
          "fillcolor": "#a32c54",
          "label": {
           "font": {
            "color": "#a32c54",
            "size": 9
           },
           "text": "Door"
          },
          "line": {
           "color": "#a32c54",
           "width": 3
          },
          "type": "line",
          "x0": 700,
          "x1": 700,
          "xref": "x",
          "y0": 274.25,
          "y1": 278.75,
          "yref": "y"
         },
         {
          "fillcolor": "#a32c54",
          "label": {
           "font": {
            "color": "#a32c54",
            "size": 9
           },
           "text": "Door"
          },
          "line": {
           "color": "#a32c54",
           "width": 3
          },
          "type": "line",
          "x0": 762.6,
          "x1": 815.4,
          "xref": "x",
          "y0": 268,
          "y1": 268,
          "yref": "y"
         },
         {
          "fillcolor": "#a32c54",
          "label": {
           "font": {
            "color": "#a32c54",
            "size": 9
           },
           "text": "Door"
          },
          "line": {
           "color": "#a32c54",
           "width": 3
          },
          "type": "line",
          "x0": 419,
          "x1": 419,
          "xref": "x",
          "y0": 308.40000000000003,
          "y1": 327.6,
          "yref": "y"
         },
         {
          "fillcolor": "#a32c54",
          "label": {
           "font": {
            "color": "#a32c54",
            "size": 9
           },
           "text": "Window"
          },
          "line": {
           "color": "#a32c54",
           "width": 3
          },
          "type": "line",
          "x0": 517.65,
          "x1": 601.3499999999999,
          "xref": "x",
          "y0": 0,
          "y1": 0,
          "yref": "y"
         },
         {
          "fillcolor": "#a32c54",
          "label": {
           "font": {
            "color": "#a32c54",
            "size": 9
           },
           "text": "Door"
          },
          "line": {
           "color": "#a32c54",
           "width": 3
          },
          "type": "line",
          "x0": 419,
          "x1": 419,
          "xref": "x",
          "y0": 231.35000000000002,
          "y1": 255.65,
          "yref": "y"
         },
         {
          "fillcolor": "#a32c54",
          "label": {
           "font": {
            "color": "#a32c54",
            "size": 9
           },
           "text": "Door"
          },
          "line": {
           "color": "#a32c54",
           "width": 3
          },
          "type": "line",
          "x0": 700,
          "x1": 700,
          "xref": "x",
          "y0": 76.6,
          "y1": 141.39999999999998,
          "yref": "y"
         },
         {
          "fillcolor": "#a32c54",
          "label": {
           "font": {
            "color": "#a32c54",
            "size": 9
           },
           "text": "Door"
          },
          "line": {
           "color": "#a32c54",
           "width": 3
          },
          "type": "line",
          "x0": 269,
          "x1": 269,
          "xref": "x",
          "y0": 223.64999999999998,
          "y1": 241.35,
          "yref": "y"
         },
         {
          "fillcolor": "#a32c54",
          "label": {
           "font": {
            "color": "#a32c54",
            "size": 9
           },
           "text": "Door"
          },
          "line": {
           "color": "#a32c54",
           "width": 3
          },
          "type": "line",
          "x0": 321.79999999999995,
          "x1": 366.2,
          "xref": "x",
          "y0": 351,
          "y1": 351,
          "yref": "y"
         },
         {
          "fillcolor": "#a32c54",
          "label": {
           "font": {
            "color": "#a32c54",
            "size": 9
           },
           "text": "Window"
          },
          "line": {
           "color": "#a32c54",
           "width": 3
          },
          "type": "line",
          "x0": 762.6,
          "x1": 815.4,
          "xref": "x",
          "y0": 0,
          "y1": 0,
          "yref": "y"
         },
         {
          "fillcolor": "#a32c54",
          "label": {
           "font": {
            "color": "#a32c54",
            "size": 9
           },
           "text": "Window"
          },
          "line": {
           "color": "#a32c54",
           "width": 3
          },
          "type": "line",
          "x0": 94.45,
          "x1": 174.55000000000004,
          "xref": "x",
          "y0": 0,
          "y1": 0,
          "yref": "y"
         },
         {
          "fillcolor": "#a32c54",
          "label": {
           "font": {
            "color": "#a32c54",
            "size": 9
           },
           "text": "Window"
          },
          "line": {
           "color": "#a32c54",
           "width": 3
          },
          "type": "line",
          "x0": 321.79999999999995,
          "x1": 366.2,
          "xref": "x",
          "y0": 497,
          "y1": 497,
          "yref": "y"
         }
        ],
        "template": {
         "data": {
          "bar": [
           {
            "error_x": {
             "color": "#2a3f5f"
            },
            "error_y": {
             "color": "#2a3f5f"
            },
            "marker": {
             "line": {
              "color": "#E5ECF6",
              "width": 0.5
             },
             "pattern": {
              "fillmode": "overlay",
              "size": 10,
              "solidity": 0.2
             }
            },
            "type": "bar"
           }
          ],
          "barpolar": [
           {
            "marker": {
             "line": {
              "color": "#E5ECF6",
              "width": 0.5
             },
             "pattern": {
              "fillmode": "overlay",
              "size": 10,
              "solidity": 0.2
             }
            },
            "type": "barpolar"
           }
          ],
          "carpet": [
           {
            "aaxis": {
             "endlinecolor": "#2a3f5f",
             "gridcolor": "white",
             "linecolor": "white",
             "minorgridcolor": "white",
             "startlinecolor": "#2a3f5f"
            },
            "baxis": {
             "endlinecolor": "#2a3f5f",
             "gridcolor": "white",
             "linecolor": "white",
             "minorgridcolor": "white",
             "startlinecolor": "#2a3f5f"
            },
            "type": "carpet"
           }
          ],
          "choropleth": [
           {
            "colorbar": {
             "outlinewidth": 0,
             "ticks": ""
            },
            "type": "choropleth"
           }
          ],
          "contour": [
           {
            "colorbar": {
             "outlinewidth": 0,
             "ticks": ""
            },
            "colorscale": [
             [
              0,
              "#0d0887"
             ],
             [
              0.1111111111111111,
              "#46039f"
             ],
             [
              0.2222222222222222,
              "#7201a8"
             ],
             [
              0.3333333333333333,
              "#9c179e"
             ],
             [
              0.4444444444444444,
              "#bd3786"
             ],
             [
              0.5555555555555556,
              "#d8576b"
             ],
             [
              0.6666666666666666,
              "#ed7953"
             ],
             [
              0.7777777777777778,
              "#fb9f3a"
             ],
             [
              0.8888888888888888,
              "#fdca26"
             ],
             [
              1,
              "#f0f921"
             ]
            ],
            "type": "contour"
           }
          ],
          "contourcarpet": [
           {
            "colorbar": {
             "outlinewidth": 0,
             "ticks": ""
            },
            "type": "contourcarpet"
           }
          ],
          "heatmap": [
           {
            "colorbar": {
             "outlinewidth": 0,
             "ticks": ""
            },
            "colorscale": [
             [
              0,
              "#0d0887"
             ],
             [
              0.1111111111111111,
              "#46039f"
             ],
             [
              0.2222222222222222,
              "#7201a8"
             ],
             [
              0.3333333333333333,
              "#9c179e"
             ],
             [
              0.4444444444444444,
              "#bd3786"
             ],
             [
              0.5555555555555556,
              "#d8576b"
             ],
             [
              0.6666666666666666,
              "#ed7953"
             ],
             [
              0.7777777777777778,
              "#fb9f3a"
             ],
             [
              0.8888888888888888,
              "#fdca26"
             ],
             [
              1,
              "#f0f921"
             ]
            ],
            "type": "heatmap"
           }
          ],
          "heatmapgl": [
           {
            "colorbar": {
             "outlinewidth": 0,
             "ticks": ""
            },
            "colorscale": [
             [
              0,
              "#0d0887"
             ],
             [
              0.1111111111111111,
              "#46039f"
             ],
             [
              0.2222222222222222,
              "#7201a8"
             ],
             [
              0.3333333333333333,
              "#9c179e"
             ],
             [
              0.4444444444444444,
              "#bd3786"
             ],
             [
              0.5555555555555556,
              "#d8576b"
             ],
             [
              0.6666666666666666,
              "#ed7953"
             ],
             [
              0.7777777777777778,
              "#fb9f3a"
             ],
             [
              0.8888888888888888,
              "#fdca26"
             ],
             [
              1,
              "#f0f921"
             ]
            ],
            "type": "heatmapgl"
           }
          ],
          "histogram": [
           {
            "marker": {
             "pattern": {
              "fillmode": "overlay",
              "size": 10,
              "solidity": 0.2
             }
            },
            "type": "histogram"
           }
          ],
          "histogram2d": [
           {
            "colorbar": {
             "outlinewidth": 0,
             "ticks": ""
            },
            "colorscale": [
             [
              0,
              "#0d0887"
             ],
             [
              0.1111111111111111,
              "#46039f"
             ],
             [
              0.2222222222222222,
              "#7201a8"
             ],
             [
              0.3333333333333333,
              "#9c179e"
             ],
             [
              0.4444444444444444,
              "#bd3786"
             ],
             [
              0.5555555555555556,
              "#d8576b"
             ],
             [
              0.6666666666666666,
              "#ed7953"
             ],
             [
              0.7777777777777778,
              "#fb9f3a"
             ],
             [
              0.8888888888888888,
              "#fdca26"
             ],
             [
              1,
              "#f0f921"
             ]
            ],
            "type": "histogram2d"
           }
          ],
          "histogram2dcontour": [
           {
            "colorbar": {
             "outlinewidth": 0,
             "ticks": ""
            },
            "colorscale": [
             [
              0,
              "#0d0887"
             ],
             [
              0.1111111111111111,
              "#46039f"
             ],
             [
              0.2222222222222222,
              "#7201a8"
             ],
             [
              0.3333333333333333,
              "#9c179e"
             ],
             [
              0.4444444444444444,
              "#bd3786"
             ],
             [
              0.5555555555555556,
              "#d8576b"
             ],
             [
              0.6666666666666666,
              "#ed7953"
             ],
             [
              0.7777777777777778,
              "#fb9f3a"
             ],
             [
              0.8888888888888888,
              "#fdca26"
             ],
             [
              1,
              "#f0f921"
             ]
            ],
            "type": "histogram2dcontour"
           }
          ],
          "mesh3d": [
           {
            "colorbar": {
             "outlinewidth": 0,
             "ticks": ""
            },
            "type": "mesh3d"
           }
          ],
          "parcoords": [
           {
            "line": {
             "colorbar": {
              "outlinewidth": 0,
              "ticks": ""
             }
            },
            "type": "parcoords"
           }
          ],
          "pie": [
           {
            "automargin": true,
            "type": "pie"
           }
          ],
          "scatter": [
           {
            "fillpattern": {
             "fillmode": "overlay",
             "size": 10,
             "solidity": 0.2
            },
            "type": "scatter"
           }
          ],
          "scatter3d": [
           {
            "line": {
             "colorbar": {
              "outlinewidth": 0,
              "ticks": ""
             }
            },
            "marker": {
             "colorbar": {
              "outlinewidth": 0,
              "ticks": ""
             }
            },
            "type": "scatter3d"
           }
          ],
          "scattercarpet": [
           {
            "marker": {
             "colorbar": {
              "outlinewidth": 0,
              "ticks": ""
             }
            },
            "type": "scattercarpet"
           }
          ],
          "scattergeo": [
           {
            "marker": {
             "colorbar": {
              "outlinewidth": 0,
              "ticks": ""
             }
            },
            "type": "scattergeo"
           }
          ],
          "scattergl": [
           {
            "marker": {
             "colorbar": {
              "outlinewidth": 0,
              "ticks": ""
             }
            },
            "type": "scattergl"
           }
          ],
          "scattermapbox": [
           {
            "marker": {
             "colorbar": {
              "outlinewidth": 0,
              "ticks": ""
             }
            },
            "type": "scattermapbox"
           }
          ],
          "scatterpolar": [
           {
            "marker": {
             "colorbar": {
              "outlinewidth": 0,
              "ticks": ""
             }
            },
            "type": "scatterpolar"
           }
          ],
          "scatterpolargl": [
           {
            "marker": {
             "colorbar": {
              "outlinewidth": 0,
              "ticks": ""
             }
            },
            "type": "scatterpolargl"
           }
          ],
          "scatterternary": [
           {
            "marker": {
             "colorbar": {
              "outlinewidth": 0,
              "ticks": ""
             }
            },
            "type": "scatterternary"
           }
          ],
          "surface": [
           {
            "colorbar": {
             "outlinewidth": 0,
             "ticks": ""
            },
            "colorscale": [
             [
              0,
              "#0d0887"
             ],
             [
              0.1111111111111111,
              "#46039f"
             ],
             [
              0.2222222222222222,
              "#7201a8"
             ],
             [
              0.3333333333333333,
              "#9c179e"
             ],
             [
              0.4444444444444444,
              "#bd3786"
             ],
             [
              0.5555555555555556,
              "#d8576b"
             ],
             [
              0.6666666666666666,
              "#ed7953"
             ],
             [
              0.7777777777777778,
              "#fb9f3a"
             ],
             [
              0.8888888888888888,
              "#fdca26"
             ],
             [
              1,
              "#f0f921"
             ]
            ],
            "type": "surface"
           }
          ],
          "table": [
           {
            "cells": {
             "fill": {
              "color": "#EBF0F8"
             },
             "line": {
              "color": "white"
             }
            },
            "header": {
             "fill": {
              "color": "#C8D4E3"
             },
             "line": {
              "color": "white"
             }
            },
            "type": "table"
           }
          ]
         },
         "layout": {
          "annotationdefaults": {
           "arrowcolor": "#2a3f5f",
           "arrowhead": 0,
           "arrowwidth": 1
          },
          "autotypenumbers": "strict",
          "coloraxis": {
           "colorbar": {
            "outlinewidth": 0,
            "ticks": ""
           }
          },
          "colorscale": {
           "diverging": [
            [
             0,
             "#8e0152"
            ],
            [
             0.1,
             "#c51b7d"
            ],
            [
             0.2,
             "#de77ae"
            ],
            [
             0.3,
             "#f1b6da"
            ],
            [
             0.4,
             "#fde0ef"
            ],
            [
             0.5,
             "#f7f7f7"
            ],
            [
             0.6,
             "#e6f5d0"
            ],
            [
             0.7,
             "#b8e186"
            ],
            [
             0.8,
             "#7fbc41"
            ],
            [
             0.9,
             "#4d9221"
            ],
            [
             1,
             "#276419"
            ]
           ],
           "sequential": [
            [
             0,
             "#0d0887"
            ],
            [
             0.1111111111111111,
             "#46039f"
            ],
            [
             0.2222222222222222,
             "#7201a8"
            ],
            [
             0.3333333333333333,
             "#9c179e"
            ],
            [
             0.4444444444444444,
             "#bd3786"
            ],
            [
             0.5555555555555556,
             "#d8576b"
            ],
            [
             0.6666666666666666,
             "#ed7953"
            ],
            [
             0.7777777777777778,
             "#fb9f3a"
            ],
            [
             0.8888888888888888,
             "#fdca26"
            ],
            [
             1,
             "#f0f921"
            ]
           ],
           "sequentialminus": [
            [
             0,
             "#0d0887"
            ],
            [
             0.1111111111111111,
             "#46039f"
            ],
            [
             0.2222222222222222,
             "#7201a8"
            ],
            [
             0.3333333333333333,
             "#9c179e"
            ],
            [
             0.4444444444444444,
             "#bd3786"
            ],
            [
             0.5555555555555556,
             "#d8576b"
            ],
            [
             0.6666666666666666,
             "#ed7953"
            ],
            [
             0.7777777777777778,
             "#fb9f3a"
            ],
            [
             0.8888888888888888,
             "#fdca26"
            ],
            [
             1,
             "#f0f921"
            ]
           ]
          },
          "colorway": [
           "#636efa",
           "#EF553B",
           "#00cc96",
           "#ab63fa",
           "#FFA15A",
           "#19d3f3",
           "#FF6692",
           "#B6E880",
           "#FF97FF",
           "#FECB52"
          ],
          "font": {
           "color": "#2a3f5f"
          },
          "geo": {
           "bgcolor": "white",
           "lakecolor": "white",
           "landcolor": "#E5ECF6",
           "showlakes": true,
           "showland": true,
           "subunitcolor": "white"
          },
          "hoverlabel": {
           "align": "left"
          },
          "hovermode": "closest",
          "mapbox": {
           "style": "light"
          },
          "paper_bgcolor": "white",
          "plot_bgcolor": "#E5ECF6",
          "polar": {
           "angularaxis": {
            "gridcolor": "white",
            "linecolor": "white",
            "ticks": ""
           },
           "bgcolor": "#E5ECF6",
           "radialaxis": {
            "gridcolor": "white",
            "linecolor": "white",
            "ticks": ""
           }
          },
          "scene": {
           "xaxis": {
            "backgroundcolor": "#E5ECF6",
            "gridcolor": "white",
            "gridwidth": 2,
            "linecolor": "white",
            "showbackground": true,
            "ticks": "",
            "zerolinecolor": "white"
           },
           "yaxis": {
            "backgroundcolor": "#E5ECF6",
            "gridcolor": "white",
            "gridwidth": 2,
            "linecolor": "white",
            "showbackground": true,
            "ticks": "",
            "zerolinecolor": "white"
           },
           "zaxis": {
            "backgroundcolor": "#E5ECF6",
            "gridcolor": "white",
            "gridwidth": 2,
            "linecolor": "white",
            "showbackground": true,
            "ticks": "",
            "zerolinecolor": "white"
           }
          },
          "shapedefaults": {
           "line": {
            "color": "#2a3f5f"
           }
          },
          "ternary": {
           "aaxis": {
            "gridcolor": "white",
            "linecolor": "white",
            "ticks": ""
           },
           "baxis": {
            "gridcolor": "white",
            "linecolor": "white",
            "ticks": ""
           },
           "bgcolor": "#E5ECF6",
           "caxis": {
            "gridcolor": "white",
            "linecolor": "white",
            "ticks": ""
           }
          },
          "title": {
           "x": 0.05
          },
          "xaxis": {
           "automargin": true,
           "gridcolor": "white",
           "linecolor": "white",
           "ticks": "",
           "title": {
            "standoff": 15
           },
           "zerolinecolor": "white",
           "zerolinewidth": 2
          },
          "yaxis": {
           "automargin": true,
           "gridcolor": "white",
           "linecolor": "white",
           "ticks": "",
           "title": {
            "standoff": 15
           },
           "zerolinecolor": "white",
           "zerolinewidth": 2
          }
         }
        },
        "title": {
         "text": "tests/test21_amber"
        },
        "width": 598.3240223463688,
        "xaxis": {
         "range": [
          -20,
          898
         ]
        },
        "yaxis": {
         "range": [
          -20,
          517
         ]
        }
       }
      }
     },
     "metadata": {},
     "output_type": "display_data"
    }
   ],
   "source": [
    "ez.show_base_plot()"
   ]
  },
  {
   "cell_type": "code",
   "execution_count": 2,
   "metadata": {},
   "outputs": [],
   "source": [
    "st = SubsurfaceTranslator(\"amber_a\")\n",
    "st.run()"
   ]
  },
  {
   "cell_type": "code",
   "execution_count": 13,
   "metadata": {},
   "outputs": [
    {
     "data": {
      "text/plain": [
       "'10'"
      ]
     },
     "execution_count": 13,
     "metadata": {},
     "output_type": "execute_result"
    }
   ],
   "source": [
    "b1 = \"B_010\"\n",
    "nums= b1.split(\"_\")[1]\n",
    "\n",
    "nums[-2:]"
   ]
  },
  {
   "cell_type": "code",
   "execution_count": 14,
   "metadata": {},
   "outputs": [],
   "source": [
    "def convert_block_name_to_int(name):\n",
    "    nums = name.split(\"_\")[1]\n",
    "    match len(nums):\n",
    "        case 2:\n",
    "            return int(nums[-1])\n",
    "        case 3:\n",
    "            return int(nums[-2:])\n",
    "        case _:\n",
    "            raise Exception(\"invalid name length\")"
   ]
  },
  {
   "cell_type": "code",
   "execution_count": 21,
   "metadata": {},
   "outputs": [
    {
     "ename": "Exception",
     "evalue": "invalid name length",
     "output_type": "error",
     "traceback": [
      "\u001b[0;31m---------------------------------------------------------------------------\u001b[0m",
      "\u001b[0;31mException\u001b[0m                                 Traceback (most recent call last)",
      "Cell \u001b[0;32mIn[21], line 1\u001b[0m\n\u001b[0;32m----> 1\u001b[0m \u001b[43mconvert_block_name_to_int\u001b[49m\u001b[43m(\u001b[49m\u001b[38;5;124;43m\"\u001b[39;49m\u001b[38;5;124;43mB_0101\u001b[39;49m\u001b[38;5;124;43m\"\u001b[39;49m\u001b[43m)\u001b[49m\n",
      "Cell \u001b[0;32mIn[14], line 9\u001b[0m, in \u001b[0;36mconvert_block_name_to_int\u001b[0;34m(name)\u001b[0m\n\u001b[1;32m      7\u001b[0m     \u001b[38;5;28;01mreturn\u001b[39;00m \u001b[38;5;28mint\u001b[39m(nums[\u001b[38;5;241m-\u001b[39m\u001b[38;5;241m2\u001b[39m:])\n\u001b[1;32m      8\u001b[0m \u001b[38;5;28;01mcase\u001b[39;00m\u001b[38;5;250m \u001b[39m\u001b[38;5;28;01m_\u001b[39;00m:\n\u001b[0;32m----> 9\u001b[0m     \u001b[38;5;28;01mraise\u001b[39;00m \u001b[38;5;167;01mException\u001b[39;00m(\u001b[38;5;124m\"\u001b[39m\u001b[38;5;124minvalid name length\u001b[39m\u001b[38;5;124m\"\u001b[39m)\n",
      "\u001b[0;31mException\u001b[0m: invalid name length"
     ]
    }
   ],
   "source": [
    "convert_block_name_to_int(\"B_0101\")"
   ]
  },
  {
   "cell_type": "code",
   "execution_count": 6,
   "metadata": {},
   "outputs": [
    {
     "data": {
      "text/plain": [
       "[SubsurfacePair(pair=(0, 7), attrs = SubsurfaceAttributes(object_type=<SubsurfaceObjects.DOOR: 0>, construction=None, dimensions=Dimensions(width=0.3, height=0.9), location_in_wall=<NinePointsLocator.bottom_middle: 7>, FRACTIONAL=True, SHADING=False)),\n",
       " SubsurfacePair(pair=(1, 6), attrs = SubsurfaceAttributes(object_type=<SubsurfaceObjects.DOOR: 0>, construction=None, dimensions=Dimensions(width=0.3, height=0.9), location_in_wall=<NinePointsLocator.bottom_middle: 7>, FRACTIONAL=True, SHADING=False)),\n",
       " SubsurfacePair(pair=(2, 3), attrs = SubsurfaceAttributes(object_type=<SubsurfaceObjects.DOOR: 0>, construction=None, dimensions=Dimensions(width=0.3, height=0.9), location_in_wall=<NinePointsLocator.bottom_middle: 7>, FRACTIONAL=True, SHADING=False)),\n",
       " SubsurfacePair(pair=(3, 4), attrs = SubsurfaceAttributes(object_type=<SubsurfaceObjects.DOOR: 0>, construction=None, dimensions=Dimensions(width=0.3, height=0.9), location_in_wall=<NinePointsLocator.bottom_middle: 7>, FRACTIONAL=True, SHADING=False)),\n",
       " SubsurfacePair(pair=(3, 6), attrs = SubsurfaceAttributes(object_type=<SubsurfaceObjects.DOOR: 0>, construction=None, dimensions=Dimensions(width=0.3, height=0.9), location_in_wall=<NinePointsLocator.bottom_middle: 7>, FRACTIONAL=True, SHADING=False)),\n",
       " SubsurfacePair(pair=(5, 7), attrs = SubsurfaceAttributes(object_type=<SubsurfaceObjects.DOOR: 0>, construction=None, dimensions=Dimensions(width=0.3, height=0.9), location_in_wall=<NinePointsLocator.bottom_middle: 7>, FRACTIONAL=True, SHADING=False)),\n",
       " SubsurfacePair(pair=(6, 7), attrs = SubsurfaceAttributes(object_type=<SubsurfaceObjects.DOOR: 0>, construction=None, dimensions=Dimensions(width=0.3, height=0.9), location_in_wall=<NinePointsLocator.bottom_middle: 7>, FRACTIONAL=True, SHADING=False)),\n",
       " SubsurfacePair(pair=(6, 8), attrs = SubsurfaceAttributes(object_type=<SubsurfaceObjects.DOOR: 0>, construction=None, dimensions=Dimensions(width=0.3, height=0.9), location_in_wall=<NinePointsLocator.bottom_middle: 7>, FRACTIONAL=True, SHADING=False)),\n",
       " SubsurfacePair(pair=(7, 9), attrs = SubsurfaceAttributes(object_type=<SubsurfaceObjects.DOOR: 0>, construction=None, dimensions=Dimensions(width=0.3, height=0.9), location_in_wall=<NinePointsLocator.bottom_middle: 7>, FRACTIONAL=True, SHADING=False)),\n",
       " SubsurfacePair(pair=(7, 10), attrs = SubsurfaceAttributes(object_type=<SubsurfaceObjects.DOOR: 0>, construction=None, dimensions=Dimensions(width=0.3, height=0.9), location_in_wall=<NinePointsLocator.bottom_middle: 7>, FRACTIONAL=True, SHADING=False)),\n",
       " SubsurfacePair(pair=(0, <WallNormal.NORTH: 0.0>), attrs = SubsurfaceAttributes(object_type=<SubsurfaceObjects.WINDOW: 1>, construction=None, dimensions=Dimensions(width=0.3, height=0.3), location_in_wall=<NinePointsLocator.middle_middle: 4>, FRACTIONAL=True, SHADING=False)),\n",
       " SubsurfacePair(pair=(1, <WallNormal.SOUTH: 180.0>), attrs = SubsurfaceAttributes(object_type=<SubsurfaceObjects.WINDOW: 1>, construction=None, dimensions=Dimensions(width=0.3, height=0.3), location_in_wall=<NinePointsLocator.middle_middle: 4>, FRACTIONAL=True, SHADING=False)),\n",
       " SubsurfacePair(pair=(2, <WallNormal.NORTH: 0.0>), attrs = SubsurfaceAttributes(object_type=<SubsurfaceObjects.WINDOW: 1>, construction=None, dimensions=Dimensions(width=0.3, height=0.3), location_in_wall=<NinePointsLocator.middle_middle: 4>, FRACTIONAL=True, SHADING=False)),\n",
       " SubsurfacePair(pair=(3, <WallNormal.NORTH: 0.0>), attrs = SubsurfaceAttributes(object_type=<SubsurfaceObjects.WINDOW: 1>, construction=None, dimensions=Dimensions(width=0.3, height=0.3), location_in_wall=<NinePointsLocator.middle_middle: 4>, FRACTIONAL=True, SHADING=False)),\n",
       " SubsurfacePair(pair=(6, <WallNormal.SOUTH: 180.0>), attrs = SubsurfaceAttributes(object_type=<SubsurfaceObjects.WINDOW: 1>, construction=None, dimensions=Dimensions(width=0.3, height=0.3), location_in_wall=<NinePointsLocator.middle_middle: 4>, FRACTIONAL=True, SHADING=False)),\n",
       " SubsurfacePair(pair=(8, <WallNormal.SOUTH: 180.0>), attrs = SubsurfaceAttributes(object_type=<SubsurfaceObjects.WINDOW: 1>, construction=None, dimensions=Dimensions(width=0.3, height=0.3), location_in_wall=<NinePointsLocator.middle_middle: 4>, FRACTIONAL=True, SHADING=False)),\n",
       " SubsurfacePair(pair=(9, <WallNormal.SOUTH: 180.0>), attrs = SubsurfaceAttributes(object_type=<SubsurfaceObjects.WINDOW: 1>, construction=None, dimensions=Dimensions(width=0.3, height=0.3), location_in_wall=<NinePointsLocator.middle_middle: 4>, FRACTIONAL=True, SHADING=False)),\n",
       " SubsurfacePair(pair=(10, <WallNormal.NORTH: 0.0>), attrs = SubsurfaceAttributes(object_type=<SubsurfaceObjects.WINDOW: 1>, construction=None, dimensions=Dimensions(width=0.3, height=0.3), location_in_wall=<NinePointsLocator.middle_middle: 4>, FRACTIONAL=True, SHADING=False))]"
      ]
     },
     "execution_count": 6,
     "metadata": {},
     "output_type": "execute_result"
    }
   ],
   "source": [
    "st.door_pairs + st.window_pairs"
   ]
  },
  {
   "cell_type": "code",
   "execution_count": 29,
   "metadata": {},
   "outputs": [],
   "source": [
    "def create_numeric_name(block):\n",
    "    label = block[\"label\"]\n",
    "    id  = block[\"id\"]\n",
    "    try:\n",
    "        label = int(label) + 0\n",
    "        name = f\"0{label}\"\n",
    "    except ValueError:\n",
    "        name = f\"0{id}\"\n",
    "\n",
    "    return name"
   ]
  },
  {
   "cell_type": "code",
   "execution_count": 30,
   "metadata": {},
   "outputs": [],
   "source": [
    "block = {\"label\": 8, \"id\": 0}"
   ]
  },
  {
   "cell_type": "code",
   "execution_count": 31,
   "metadata": {},
   "outputs": [
    {
     "data": {
      "text/plain": [
       "'08'"
      ]
     },
     "execution_count": 31,
     "metadata": {},
     "output_type": "execute_result"
    }
   ],
   "source": [
    "create_numeric_name(block)"
   ]
  },
  {
   "cell_type": "code",
   "execution_count": 2,
   "metadata": {},
   "outputs": [],
   "source": [
    "with open(PLAN_PATH) as f:\n",
    "    plan_data = json.load(f)"
   ]
  },
  {
   "cell_type": "code",
   "execution_count": 3,
   "metadata": {},
   "outputs": [
    {
     "data": {
      "text/plain": [
       "{0: 'bedroom_1',\n",
       " 1: 'kitchen',\n",
       " 2: 'm_bath',\n",
       " 3: 'm_bedroom',\n",
       " 4: 'm_closet',\n",
       " 5: 'bath',\n",
       " 6: 'dining',\n",
       " 7: 'transit_space',\n",
       " 8: 'closet',\n",
       " 9: 'bedroom_2',\n",
       " 10: 'laundry'}"
      ]
     },
     "execution_count": 3,
     "metadata": {},
     "output_type": "execute_result"
    }
   ],
   "source": [
    "room_map = {}\n",
    "for item in plan_data[0]:\n",
    "    room_map[item[\"id\"]] = item[\"label\"]\n",
    "\n",
    "room_map"
   ]
  },
  {
   "cell_type": "code",
   "execution_count": 4,
   "metadata": {},
   "outputs": [],
   "source": [
    "CONNECTIVITY_PATH = \"/Users/julietnwagwuume-ezeoke/_UILCode/gqe-phd/svg2plan/outputs/amber_a/graph.json\""
   ]
  },
  {
   "cell_type": "code",
   "execution_count": 5,
   "metadata": {},
   "outputs": [],
   "source": [
    "with open(CONNECTIVITY_PATH) as f:\n",
    "    data = json.load(f)"
   ]
  },
  {
   "cell_type": "code",
   "execution_count": 6,
   "metadata": {},
   "outputs": [],
   "source": [
    "@dataclass\n",
    "class InputObject:\n",
    "    node: Union[str, int]\n",
    "    direction: str\n",
    "    object_type: str"
   ]
  },
  {
   "cell_type": "code",
   "execution_count": 7,
   "metadata": {},
   "outputs": [],
   "source": [
    "objects: list[InputObject] = []\n",
    "for node in data[\"nodes\"]:\n",
    "    for w in node[\"windows\"]:\n",
    "        objects.append(InputObject(node[\"id\"],\n",
    "                        w[\"direction\"],\n",
    "                         w[\"window_type\"]\n",
    "        ))"
   ]
  },
  {
   "cell_type": "code",
   "execution_count": 8,
   "metadata": {},
   "outputs": [
    {
     "data": {
      "text/plain": [
       "<WallNormal.NORTH: 0.0>"
      ]
     },
     "execution_count": 8,
     "metadata": {},
     "output_type": "execute_result"
    }
   ],
   "source": [
    "WallNormal[\"NORTH\"]"
   ]
  },
  {
   "cell_type": "code",
   "execution_count": 9,
   "metadata": {},
   "outputs": [],
   "source": [
    "window_pairs: list[SubsurfacePair] = []\n",
    "for o in objects:\n",
    "    node = key_from_value(room_map, o.node) \n",
    "    direction = WallNormal[str(o.direction)]\n",
    "    if o.object_type == \"A\":\n",
    "        object_type = DEFAULT_WINDOW\n",
    "\n",
    "    window_pairs.append(SubsurfacePair(node, direction, object_type))"
   ]
  },
  {
   "cell_type": "code",
   "execution_count": 11,
   "metadata": {},
   "outputs": [
    {
     "data": {
      "text/plain": [
       "[{'source': 'bedroom_1', 'target': 'transit_space'},\n",
       " {'source': 'kitchen', 'target': 'dining'},\n",
       " {'source': 'm_bath', 'target': 'm_bedroom'},\n",
       " {'source': 'm_bedroom', 'target': 'm_closet'},\n",
       " {'source': 'm_bedroom', 'target': 'dining'},\n",
       " {'source': 'bath', 'target': 'transit_space'},\n",
       " {'source': 'dining', 'target': 'transit_space'},\n",
       " {'source': 'dining', 'target': 'closet'},\n",
       " {'source': 'transit_space', 'target': 'bedroom_2'},\n",
       " {'source': 'transit_space', 'target': 'laundry'}]"
      ]
     },
     "execution_count": 11,
     "metadata": {},
     "output_type": "execute_result"
    }
   ],
   "source": [
    "doors = data[\"links\"]\n",
    "doors"
   ]
  },
  {
   "cell_type": "code",
   "execution_count": 14,
   "metadata": {},
   "outputs": [],
   "source": [
    "door_pairs: list[SubsurfacePair] = []\n",
    "for item in doors:\n",
    "    door_pairs.append(SubsurfacePair(\n",
    "        key_from_value(room_map, item[\"source\"]),\n",
    "        key_from_value(room_map, item[\"target\"]),\n",
    "        DEFAULT_DOOR\n",
    "    )\n",
    "    )"
   ]
  },
  {
   "cell_type": "code",
   "execution_count": 15,
   "metadata": {},
   "outputs": [
    {
     "data": {
      "text/plain": [
       "[SubsurfacePair(pair=(0, 7), attrs = SubsurfaceAttributes(object_type=<SubsurfaceObjects.DOOR: 0>, construction=None, dimensions=Dimensions(width=0.3, height=0.9), location_in_wall=<NinePointsLocator.bottom_middle: 7>, FRACTIONAL=True, SHADING=False)),\n",
       " SubsurfacePair(pair=(1, 6), attrs = SubsurfaceAttributes(object_type=<SubsurfaceObjects.DOOR: 0>, construction=None, dimensions=Dimensions(width=0.3, height=0.9), location_in_wall=<NinePointsLocator.bottom_middle: 7>, FRACTIONAL=True, SHADING=False)),\n",
       " SubsurfacePair(pair=(2, 3), attrs = SubsurfaceAttributes(object_type=<SubsurfaceObjects.DOOR: 0>, construction=None, dimensions=Dimensions(width=0.3, height=0.9), location_in_wall=<NinePointsLocator.bottom_middle: 7>, FRACTIONAL=True, SHADING=False)),\n",
       " SubsurfacePair(pair=(3, 4), attrs = SubsurfaceAttributes(object_type=<SubsurfaceObjects.DOOR: 0>, construction=None, dimensions=Dimensions(width=0.3, height=0.9), location_in_wall=<NinePointsLocator.bottom_middle: 7>, FRACTIONAL=True, SHADING=False)),\n",
       " SubsurfacePair(pair=(3, 6), attrs = SubsurfaceAttributes(object_type=<SubsurfaceObjects.DOOR: 0>, construction=None, dimensions=Dimensions(width=0.3, height=0.9), location_in_wall=<NinePointsLocator.bottom_middle: 7>, FRACTIONAL=True, SHADING=False)),\n",
       " SubsurfacePair(pair=(5, 7), attrs = SubsurfaceAttributes(object_type=<SubsurfaceObjects.DOOR: 0>, construction=None, dimensions=Dimensions(width=0.3, height=0.9), location_in_wall=<NinePointsLocator.bottom_middle: 7>, FRACTIONAL=True, SHADING=False)),\n",
       " SubsurfacePair(pair=(6, 7), attrs = SubsurfaceAttributes(object_type=<SubsurfaceObjects.DOOR: 0>, construction=None, dimensions=Dimensions(width=0.3, height=0.9), location_in_wall=<NinePointsLocator.bottom_middle: 7>, FRACTIONAL=True, SHADING=False)),\n",
       " SubsurfacePair(pair=(6, 8), attrs = SubsurfaceAttributes(object_type=<SubsurfaceObjects.DOOR: 0>, construction=None, dimensions=Dimensions(width=0.3, height=0.9), location_in_wall=<NinePointsLocator.bottom_middle: 7>, FRACTIONAL=True, SHADING=False)),\n",
       " SubsurfacePair(pair=(7, 9), attrs = SubsurfaceAttributes(object_type=<SubsurfaceObjects.DOOR: 0>, construction=None, dimensions=Dimensions(width=0.3, height=0.9), location_in_wall=<NinePointsLocator.bottom_middle: 7>, FRACTIONAL=True, SHADING=False)),\n",
       " SubsurfacePair(pair=(7, 10), attrs = SubsurfaceAttributes(object_type=<SubsurfaceObjects.DOOR: 0>, construction=None, dimensions=Dimensions(width=0.3, height=0.9), location_in_wall=<NinePointsLocator.bottom_middle: 7>, FRACTIONAL=True, SHADING=False))]"
      ]
     },
     "execution_count": 15,
     "metadata": {},
     "output_type": "execute_result"
    }
   ],
   "source": [
    "door_pairs"
   ]
  },
  {
   "cell_type": "code",
   "execution_count": 2,
   "metadata": {},
   "outputs": [
    {
     "name": "stdout",
     "output_type": "stream",
     "text": [
      "tests/test21_amber\n",
      "Added 5 walls \n",
      "Added 4 walls \n",
      "Added 4 walls \n",
      "Added 6 walls \n",
      "Added 4 walls \n",
      "Added 5 walls \n",
      "Added 7 walls \n",
      "Added 6 walls \n",
      "Added 4 walls \n",
      "Added 5 walls \n",
      "Added 5 walls \n"
     ]
    },
    {
     "ename": "AttributeError",
     "evalue": "'list' object has no attribute 'attrs'",
     "output_type": "error",
     "traceback": [
      "\u001b[0;31m---------------------------------------------------------------------------\u001b[0m",
      "\u001b[0;31mAttributeError\u001b[0m                            Traceback (most recent call last)",
      "Cell \u001b[0;32mIn[2], line 1\u001b[0m\n\u001b[0;32m----> 1\u001b[0m ez \u001b[38;5;241m=\u001b[39m \u001b[43mEzCase\u001b[49m\u001b[43m(\u001b[49m\u001b[38;5;28;43minput\u001b[39;49m\u001b[43m,\u001b[49m\u001b[43m \u001b[49m\u001b[43mRUN_CASE\u001b[49m\u001b[38;5;241;43m=\u001b[39;49m\u001b[38;5;28;43;01mFalse\u001b[39;49;00m\u001b[43m)\u001b[49m\n\u001b[1;32m      2\u001b[0m ez\n",
      "File \u001b[0;32m~/_UILCode/gqe-phd/geomeppy/_scripts/case_edits/ezcase.py:47\u001b[0m, in \u001b[0;36mEzCase.__init__\u001b[0;34m(self, input, RUN_CASE)\u001b[0m\n\u001b[1;32m     45\u001b[0m \u001b[38;5;28mself\u001b[39m\u001b[38;5;241m.\u001b[39mRUN_CASE \u001b[38;5;241m=\u001b[39m RUN_CASE\n\u001b[1;32m     46\u001b[0m \u001b[38;5;28mself\u001b[39m\u001b[38;5;241m.\u001b[39mformat_inputs()\n\u001b[0;32m---> 47\u001b[0m \u001b[38;5;28;43mself\u001b[39;49m\u001b[38;5;241;43m.\u001b[39;49m\u001b[43mrun\u001b[49m\u001b[43m(\u001b[49m\u001b[43m)\u001b[49m\n",
      "File \u001b[0;32m~/_UILCode/gqe-phd/geomeppy/_scripts/case_edits/ezcase.py:56\u001b[0m, in \u001b[0;36mEzCase.run\u001b[0;34m(self)\u001b[0m\n\u001b[1;32m     54\u001b[0m \u001b[38;5;28mself\u001b[39m\u001b[38;5;241m.\u001b[39mcreate_case()\n\u001b[1;32m     55\u001b[0m \u001b[38;5;28mself\u001b[39m\u001b[38;5;241m.\u001b[39madd_rooms()\n\u001b[0;32m---> 56\u001b[0m \u001b[38;5;28;43mself\u001b[39;49m\u001b[38;5;241;43m.\u001b[39;49m\u001b[43madd_subsurfaces\u001b[49m\u001b[43m(\u001b[49m\u001b[43m)\u001b[49m\n\u001b[1;32m     57\u001b[0m \u001b[38;5;28mself\u001b[39m\u001b[38;5;241m.\u001b[39madd_airflownetwork()\n\u001b[1;32m     58\u001b[0m \u001b[38;5;28mself\u001b[39m\u001b[38;5;241m.\u001b[39madd_output_variables()\n",
      "File \u001b[0;32m~/_UILCode/gqe-phd/geomeppy/_scripts/case_edits/ezcase.py:90\u001b[0m, in \u001b[0;36mEzCase.add_subsurfaces\u001b[0;34m(self)\u001b[0m\n\u001b[1;32m     88\u001b[0m \u001b[38;5;28;01mdef\u001b[39;00m \u001b[38;5;21madd_subsurfaces\u001b[39m(\u001b[38;5;28mself\u001b[39m):\n\u001b[1;32m     89\u001b[0m     \u001b[38;5;28;01mif\u001b[39;00m \u001b[38;5;28mself\u001b[39m\u001b[38;5;241m.\u001b[39minputs\u001b[38;5;241m.\u001b[39msubsurface_pairs:\n\u001b[0;32m---> 90\u001b[0m         \u001b[38;5;28;43mself\u001b[39;49m\u001b[38;5;241;43m.\u001b[39;49m\u001b[43mget_subsurface_constructions\u001b[49m\u001b[43m(\u001b[49m\u001b[43m)\u001b[49m\n\u001b[1;32m     91\u001b[0m         inputs \u001b[38;5;241m=\u001b[39m SubsurfaceCreatorInputs(\n\u001b[1;32m     92\u001b[0m             \u001b[38;5;28mself\u001b[39m\u001b[38;5;241m.\u001b[39mzones, \u001b[38;5;28mself\u001b[39m\u001b[38;5;241m.\u001b[39minputs\u001b[38;5;241m.\u001b[39msubsurface_pairs, \u001b[38;5;28mself\u001b[39m\u001b[38;5;241m.\u001b[39mcase\u001b[38;5;241m.\u001b[39midf\n\u001b[1;32m     93\u001b[0m         )\n\u001b[1;32m     94\u001b[0m         \u001b[38;5;28mself\u001b[39m\u001b[38;5;241m.\u001b[39mss \u001b[38;5;241m=\u001b[39m SubsurfaceCreator(inputs)\n",
      "File \u001b[0;32m~/_UILCode/gqe-phd/geomeppy/_scripts/case_edits/ezcase.py:195\u001b[0m, in \u001b[0;36mEzCase.get_subsurface_constructions\u001b[0;34m(self)\u001b[0m\n\u001b[1;32m    193\u001b[0m \u001b[38;5;66;03m# TODO temp - fix when do materials better.. ie make them importable from a default.. \u001b[39;00m\n\u001b[1;32m    194\u001b[0m \u001b[38;5;28;01mfor\u001b[39;00m p \u001b[38;5;129;01min\u001b[39;00m \u001b[38;5;28mself\u001b[39m\u001b[38;5;241m.\u001b[39minputs\u001b[38;5;241m.\u001b[39msubsurface_pairs:\n\u001b[0;32m--> 195\u001b[0m     \u001b[38;5;28;01massert\u001b[39;00m \u001b[38;5;28mtype\u001b[39m(\u001b[43mp\u001b[49m\u001b[38;5;241;43m.\u001b[39;49m\u001b[43mattrs\u001b[49m) \u001b[38;5;241m==\u001b[39m SubsurfaceAttributes\n\u001b[1;32m    196\u001b[0m     \u001b[38;5;28;01mif\u001b[39;00m p\u001b[38;5;241m.\u001b[39mattrs\u001b[38;5;241m.\u001b[39mobject_type \u001b[38;5;241m==\u001b[39m SubsurfaceObjects\u001b[38;5;241m.\u001b[39mDOOR:\n\u001b[1;32m    197\u001b[0m         p\u001b[38;5;241m.\u001b[39mattrs\u001b[38;5;241m.\u001b[39mconstruction \u001b[38;5;241m=\u001b[39m \u001b[38;5;28mself\u001b[39m\u001b[38;5;241m.\u001b[39mdoor_const \n",
      "\u001b[0;31mAttributeError\u001b[0m: 'list' object has no attribute 'attrs'"
     ]
    }
   ],
   "source": []
  },
  {
   "cell_type": "code",
   "execution_count": 5,
   "metadata": {},
   "outputs": [
    {
     "data": {
      "application/vnd.plotly.v1+json": {
       "config": {
        "plotlyServerURL": "https://plotly.com"
       },
       "data": [],
       "layout": {
        "autosize": false,
        "height": 350,
        "margin": {
         "b": 50,
         "l": 50,
         "pad": 4,
         "r": 50,
         "t": 50
        },
        "shapes": [
         {
          "fillcolor": "#9dd1eb",
          "label": {
           "text": "Block 0bedroom_1"
          },
          "type": "rect",
          "x0": 0,
          "x1": 269,
          "xref": "x",
          "y0": 263,
          "y1": 497,
          "yref": "y"
         },
         {
          "fillcolor": "#9dd1eb",
          "label": {
           "text": "Block 0kitchen"
          },
          "type": "rect",
          "x0": 269,
          "x1": 419,
          "xref": "x",
          "y0": 0,
          "y1": 202,
          "yref": "y"
         },
         {
          "fillcolor": "#9dd1eb",
          "label": {
           "text": "Block 0m_bath"
          },
          "type": "rect",
          "x0": 419,
          "x1": 700,
          "xref": "x",
          "y0": 388,
          "y1": 497,
          "yref": "y"
         },
         {
          "fillcolor": "#9dd1eb",
          "label": {
           "text": "Block 0m_bedroom"
          },
          "type": "rect",
          "x0": 700,
          "x1": 878,
          "xref": "x",
          "y0": 268,
          "y1": 497,
          "yref": "y"
         },
         {
          "fillcolor": "#9dd1eb",
          "label": {
           "text": "Block 0m_closet"
          },
          "type": "rect",
          "x0": 700,
          "x1": 878,
          "xref": "x",
          "y0": 218,
          "y1": 268,
          "yref": "y"
         },
         {
          "fillcolor": "#9dd1eb",
          "label": {
           "text": "Block 0bath"
          },
          "type": "rect",
          "x0": 419,
          "x1": 700,
          "xref": "x",
          "y0": 285,
          "y1": 388,
          "yref": "y"
         },
         {
          "fillcolor": "#9dd1eb",
          "label": {
           "text": "Block 0dining"
          },
          "type": "rect",
          "x0": 419,
          "x1": 700,
          "xref": "x",
          "y0": 0,
          "y1": 285,
          "yref": "y"
         },
         {
          "fillcolor": "#9dd1eb",
          "label": {
           "text": "Block 0transit_space"
          },
          "type": "rect",
          "x0": 269,
          "x1": 419,
          "xref": "x",
          "y0": 202,
          "y1": 351,
          "yref": "y"
         },
         {
          "fillcolor": "#9dd1eb",
          "label": {
           "text": "Block 0closet"
          },
          "type": "rect",
          "x0": 700,
          "x1": 878,
          "xref": "x",
          "y0": 0,
          "y1": 218,
          "yref": "y"
         },
         {
          "fillcolor": "#9dd1eb",
          "label": {
           "text": "Block 0bedroom_2"
          },
          "type": "rect",
          "x0": 0,
          "x1": 269,
          "xref": "x",
          "y0": 0,
          "y1": 263,
          "yref": "y"
         },
         {
          "fillcolor": "#9dd1eb",
          "label": {
           "text": "Block 0laundry"
          },
          "type": "rect",
          "x0": 269,
          "x1": 419,
          "xref": "x",
          "y0": 351,
          "y1": 497,
          "yref": "y"
         }
        ],
        "template": {
         "data": {
          "bar": [
           {
            "error_x": {
             "color": "#2a3f5f"
            },
            "error_y": {
             "color": "#2a3f5f"
            },
            "marker": {
             "line": {
              "color": "#E5ECF6",
              "width": 0.5
             },
             "pattern": {
              "fillmode": "overlay",
              "size": 10,
              "solidity": 0.2
             }
            },
            "type": "bar"
           }
          ],
          "barpolar": [
           {
            "marker": {
             "line": {
              "color": "#E5ECF6",
              "width": 0.5
             },
             "pattern": {
              "fillmode": "overlay",
              "size": 10,
              "solidity": 0.2
             }
            },
            "type": "barpolar"
           }
          ],
          "carpet": [
           {
            "aaxis": {
             "endlinecolor": "#2a3f5f",
             "gridcolor": "white",
             "linecolor": "white",
             "minorgridcolor": "white",
             "startlinecolor": "#2a3f5f"
            },
            "baxis": {
             "endlinecolor": "#2a3f5f",
             "gridcolor": "white",
             "linecolor": "white",
             "minorgridcolor": "white",
             "startlinecolor": "#2a3f5f"
            },
            "type": "carpet"
           }
          ],
          "choropleth": [
           {
            "colorbar": {
             "outlinewidth": 0,
             "ticks": ""
            },
            "type": "choropleth"
           }
          ],
          "contour": [
           {
            "colorbar": {
             "outlinewidth": 0,
             "ticks": ""
            },
            "colorscale": [
             [
              0,
              "#0d0887"
             ],
             [
              0.1111111111111111,
              "#46039f"
             ],
             [
              0.2222222222222222,
              "#7201a8"
             ],
             [
              0.3333333333333333,
              "#9c179e"
             ],
             [
              0.4444444444444444,
              "#bd3786"
             ],
             [
              0.5555555555555556,
              "#d8576b"
             ],
             [
              0.6666666666666666,
              "#ed7953"
             ],
             [
              0.7777777777777778,
              "#fb9f3a"
             ],
             [
              0.8888888888888888,
              "#fdca26"
             ],
             [
              1,
              "#f0f921"
             ]
            ],
            "type": "contour"
           }
          ],
          "contourcarpet": [
           {
            "colorbar": {
             "outlinewidth": 0,
             "ticks": ""
            },
            "type": "contourcarpet"
           }
          ],
          "heatmap": [
           {
            "colorbar": {
             "outlinewidth": 0,
             "ticks": ""
            },
            "colorscale": [
             [
              0,
              "#0d0887"
             ],
             [
              0.1111111111111111,
              "#46039f"
             ],
             [
              0.2222222222222222,
              "#7201a8"
             ],
             [
              0.3333333333333333,
              "#9c179e"
             ],
             [
              0.4444444444444444,
              "#bd3786"
             ],
             [
              0.5555555555555556,
              "#d8576b"
             ],
             [
              0.6666666666666666,
              "#ed7953"
             ],
             [
              0.7777777777777778,
              "#fb9f3a"
             ],
             [
              0.8888888888888888,
              "#fdca26"
             ],
             [
              1,
              "#f0f921"
             ]
            ],
            "type": "heatmap"
           }
          ],
          "heatmapgl": [
           {
            "colorbar": {
             "outlinewidth": 0,
             "ticks": ""
            },
            "colorscale": [
             [
              0,
              "#0d0887"
             ],
             [
              0.1111111111111111,
              "#46039f"
             ],
             [
              0.2222222222222222,
              "#7201a8"
             ],
             [
              0.3333333333333333,
              "#9c179e"
             ],
             [
              0.4444444444444444,
              "#bd3786"
             ],
             [
              0.5555555555555556,
              "#d8576b"
             ],
             [
              0.6666666666666666,
              "#ed7953"
             ],
             [
              0.7777777777777778,
              "#fb9f3a"
             ],
             [
              0.8888888888888888,
              "#fdca26"
             ],
             [
              1,
              "#f0f921"
             ]
            ],
            "type": "heatmapgl"
           }
          ],
          "histogram": [
           {
            "marker": {
             "pattern": {
              "fillmode": "overlay",
              "size": 10,
              "solidity": 0.2
             }
            },
            "type": "histogram"
           }
          ],
          "histogram2d": [
           {
            "colorbar": {
             "outlinewidth": 0,
             "ticks": ""
            },
            "colorscale": [
             [
              0,
              "#0d0887"
             ],
             [
              0.1111111111111111,
              "#46039f"
             ],
             [
              0.2222222222222222,
              "#7201a8"
             ],
             [
              0.3333333333333333,
              "#9c179e"
             ],
             [
              0.4444444444444444,
              "#bd3786"
             ],
             [
              0.5555555555555556,
              "#d8576b"
             ],
             [
              0.6666666666666666,
              "#ed7953"
             ],
             [
              0.7777777777777778,
              "#fb9f3a"
             ],
             [
              0.8888888888888888,
              "#fdca26"
             ],
             [
              1,
              "#f0f921"
             ]
            ],
            "type": "histogram2d"
           }
          ],
          "histogram2dcontour": [
           {
            "colorbar": {
             "outlinewidth": 0,
             "ticks": ""
            },
            "colorscale": [
             [
              0,
              "#0d0887"
             ],
             [
              0.1111111111111111,
              "#46039f"
             ],
             [
              0.2222222222222222,
              "#7201a8"
             ],
             [
              0.3333333333333333,
              "#9c179e"
             ],
             [
              0.4444444444444444,
              "#bd3786"
             ],
             [
              0.5555555555555556,
              "#d8576b"
             ],
             [
              0.6666666666666666,
              "#ed7953"
             ],
             [
              0.7777777777777778,
              "#fb9f3a"
             ],
             [
              0.8888888888888888,
              "#fdca26"
             ],
             [
              1,
              "#f0f921"
             ]
            ],
            "type": "histogram2dcontour"
           }
          ],
          "mesh3d": [
           {
            "colorbar": {
             "outlinewidth": 0,
             "ticks": ""
            },
            "type": "mesh3d"
           }
          ],
          "parcoords": [
           {
            "line": {
             "colorbar": {
              "outlinewidth": 0,
              "ticks": ""
             }
            },
            "type": "parcoords"
           }
          ],
          "pie": [
           {
            "automargin": true,
            "type": "pie"
           }
          ],
          "scatter": [
           {
            "fillpattern": {
             "fillmode": "overlay",
             "size": 10,
             "solidity": 0.2
            },
            "type": "scatter"
           }
          ],
          "scatter3d": [
           {
            "line": {
             "colorbar": {
              "outlinewidth": 0,
              "ticks": ""
             }
            },
            "marker": {
             "colorbar": {
              "outlinewidth": 0,
              "ticks": ""
             }
            },
            "type": "scatter3d"
           }
          ],
          "scattercarpet": [
           {
            "marker": {
             "colorbar": {
              "outlinewidth": 0,
              "ticks": ""
             }
            },
            "type": "scattercarpet"
           }
          ],
          "scattergeo": [
           {
            "marker": {
             "colorbar": {
              "outlinewidth": 0,
              "ticks": ""
             }
            },
            "type": "scattergeo"
           }
          ],
          "scattergl": [
           {
            "marker": {
             "colorbar": {
              "outlinewidth": 0,
              "ticks": ""
             }
            },
            "type": "scattergl"
           }
          ],
          "scattermapbox": [
           {
            "marker": {
             "colorbar": {
              "outlinewidth": 0,
              "ticks": ""
             }
            },
            "type": "scattermapbox"
           }
          ],
          "scatterpolar": [
           {
            "marker": {
             "colorbar": {
              "outlinewidth": 0,
              "ticks": ""
             }
            },
            "type": "scatterpolar"
           }
          ],
          "scatterpolargl": [
           {
            "marker": {
             "colorbar": {
              "outlinewidth": 0,
              "ticks": ""
             }
            },
            "type": "scatterpolargl"
           }
          ],
          "scatterternary": [
           {
            "marker": {
             "colorbar": {
              "outlinewidth": 0,
              "ticks": ""
             }
            },
            "type": "scatterternary"
           }
          ],
          "surface": [
           {
            "colorbar": {
             "outlinewidth": 0,
             "ticks": ""
            },
            "colorscale": [
             [
              0,
              "#0d0887"
             ],
             [
              0.1111111111111111,
              "#46039f"
             ],
             [
              0.2222222222222222,
              "#7201a8"
             ],
             [
              0.3333333333333333,
              "#9c179e"
             ],
             [
              0.4444444444444444,
              "#bd3786"
             ],
             [
              0.5555555555555556,
              "#d8576b"
             ],
             [
              0.6666666666666666,
              "#ed7953"
             ],
             [
              0.7777777777777778,
              "#fb9f3a"
             ],
             [
              0.8888888888888888,
              "#fdca26"
             ],
             [
              1,
              "#f0f921"
             ]
            ],
            "type": "surface"
           }
          ],
          "table": [
           {
            "cells": {
             "fill": {
              "color": "#EBF0F8"
             },
             "line": {
              "color": "white"
             }
            },
            "header": {
             "fill": {
              "color": "#C8D4E3"
             },
             "line": {
              "color": "white"
             }
            },
            "type": "table"
           }
          ]
         },
         "layout": {
          "annotationdefaults": {
           "arrowcolor": "#2a3f5f",
           "arrowhead": 0,
           "arrowwidth": 1
          },
          "autotypenumbers": "strict",
          "coloraxis": {
           "colorbar": {
            "outlinewidth": 0,
            "ticks": ""
           }
          },
          "colorscale": {
           "diverging": [
            [
             0,
             "#8e0152"
            ],
            [
             0.1,
             "#c51b7d"
            ],
            [
             0.2,
             "#de77ae"
            ],
            [
             0.3,
             "#f1b6da"
            ],
            [
             0.4,
             "#fde0ef"
            ],
            [
             0.5,
             "#f7f7f7"
            ],
            [
             0.6,
             "#e6f5d0"
            ],
            [
             0.7,
             "#b8e186"
            ],
            [
             0.8,
             "#7fbc41"
            ],
            [
             0.9,
             "#4d9221"
            ],
            [
             1,
             "#276419"
            ]
           ],
           "sequential": [
            [
             0,
             "#0d0887"
            ],
            [
             0.1111111111111111,
             "#46039f"
            ],
            [
             0.2222222222222222,
             "#7201a8"
            ],
            [
             0.3333333333333333,
             "#9c179e"
            ],
            [
             0.4444444444444444,
             "#bd3786"
            ],
            [
             0.5555555555555556,
             "#d8576b"
            ],
            [
             0.6666666666666666,
             "#ed7953"
            ],
            [
             0.7777777777777778,
             "#fb9f3a"
            ],
            [
             0.8888888888888888,
             "#fdca26"
            ],
            [
             1,
             "#f0f921"
            ]
           ],
           "sequentialminus": [
            [
             0,
             "#0d0887"
            ],
            [
             0.1111111111111111,
             "#46039f"
            ],
            [
             0.2222222222222222,
             "#7201a8"
            ],
            [
             0.3333333333333333,
             "#9c179e"
            ],
            [
             0.4444444444444444,
             "#bd3786"
            ],
            [
             0.5555555555555556,
             "#d8576b"
            ],
            [
             0.6666666666666666,
             "#ed7953"
            ],
            [
             0.7777777777777778,
             "#fb9f3a"
            ],
            [
             0.8888888888888888,
             "#fdca26"
            ],
            [
             1,
             "#f0f921"
            ]
           ]
          },
          "colorway": [
           "#636efa",
           "#EF553B",
           "#00cc96",
           "#ab63fa",
           "#FFA15A",
           "#19d3f3",
           "#FF6692",
           "#B6E880",
           "#FF97FF",
           "#FECB52"
          ],
          "font": {
           "color": "#2a3f5f"
          },
          "geo": {
           "bgcolor": "white",
           "lakecolor": "white",
           "landcolor": "#E5ECF6",
           "showlakes": true,
           "showland": true,
           "subunitcolor": "white"
          },
          "hoverlabel": {
           "align": "left"
          },
          "hovermode": "closest",
          "mapbox": {
           "style": "light"
          },
          "paper_bgcolor": "white",
          "plot_bgcolor": "#E5ECF6",
          "polar": {
           "angularaxis": {
            "gridcolor": "white",
            "linecolor": "white",
            "ticks": ""
           },
           "bgcolor": "#E5ECF6",
           "radialaxis": {
            "gridcolor": "white",
            "linecolor": "white",
            "ticks": ""
           }
          },
          "scene": {
           "xaxis": {
            "backgroundcolor": "#E5ECF6",
            "gridcolor": "white",
            "gridwidth": 2,
            "linecolor": "white",
            "showbackground": true,
            "ticks": "",
            "zerolinecolor": "white"
           },
           "yaxis": {
            "backgroundcolor": "#E5ECF6",
            "gridcolor": "white",
            "gridwidth": 2,
            "linecolor": "white",
            "showbackground": true,
            "ticks": "",
            "zerolinecolor": "white"
           },
           "zaxis": {
            "backgroundcolor": "#E5ECF6",
            "gridcolor": "white",
            "gridwidth": 2,
            "linecolor": "white",
            "showbackground": true,
            "ticks": "",
            "zerolinecolor": "white"
           }
          },
          "shapedefaults": {
           "line": {
            "color": "#2a3f5f"
           }
          },
          "ternary": {
           "aaxis": {
            "gridcolor": "white",
            "linecolor": "white",
            "ticks": ""
           },
           "baxis": {
            "gridcolor": "white",
            "linecolor": "white",
            "ticks": ""
           },
           "bgcolor": "#E5ECF6",
           "caxis": {
            "gridcolor": "white",
            "linecolor": "white",
            "ticks": ""
           }
          },
          "title": {
           "x": 0.05
          },
          "xaxis": {
           "automargin": true,
           "gridcolor": "white",
           "linecolor": "white",
           "ticks": "",
           "title": {
            "standoff": 15
           },
           "zerolinecolor": "white",
           "zerolinewidth": 2
          },
          "yaxis": {
           "automargin": true,
           "gridcolor": "white",
           "linecolor": "white",
           "ticks": "",
           "title": {
            "standoff": 15
           },
           "zerolinecolor": "white",
           "zerolinewidth": 2
          }
         }
        },
        "title": {
         "text": "tests/test21_amber"
        },
        "width": 598.3240223463688,
        "xaxis": {
         "range": [
          -20,
          898
         ]
        },
        "yaxis": {
         "range": [
          -20,
          517
         ]
        }
       }
      }
     },
     "metadata": {},
     "output_type": "display_data"
    }
   ],
   "source": [
    "ez.show_base_plot()"
   ]
  }
 ],
 "metadata": {
  "kernelspec": {
   "display_name": "gqenv",
   "language": "python",
   "name": "python3"
  },
  "language_info": {
   "codemirror_mode": {
    "name": "ipython",
    "version": 3
   },
   "file_extension": ".py",
   "mimetype": "text/x-python",
   "name": "python",
   "nbconvert_exporter": "python",
   "pygments_lexer": "ipython3",
   "version": "3.10.14"
  }
 },
 "nbformat": 4,
 "nbformat_minor": 2
}
