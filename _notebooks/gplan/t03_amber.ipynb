{
 "cells": [
  {
   "cell_type": "code",
   "execution_count": 13,
   "metadata": {},
   "outputs": [],
   "source": [
    "import sys\n",
    "sys.path.append(\"/Users/julietnwagwuume-ezeoke/_UILCode/gqe-phd/geomeppy/_scripts\")\n",
    "\n",
    "from typing import Union\n",
    "from dataclasses import dataclass\n",
    "\n",
    "from copy import deepcopy\n",
    "import json\n",
    "\n",
    "from case_edits.ezcase import EzCase\n",
    "\n",
    "from recipes.amber import input, PLAN_PATH\n",
    "from geometry.wall_normal import WallNormal\n",
    "from helpers.helpers import key_from_value\n",
    "from methods.subsurfaces.pairs import DEFAULT_WINDOW, SubsurfacePair, DEFAULT_DOOR\n",
    "\n",
    "\n"
   ]
  },
  {
   "cell_type": "code",
   "execution_count": 2,
   "metadata": {},
   "outputs": [],
   "source": [
    "with open(PLAN_PATH) as f:\n",
    "    plan_data = json.load(f)"
   ]
  },
  {
   "cell_type": "code",
   "execution_count": 3,
   "metadata": {},
   "outputs": [
    {
     "data": {
      "text/plain": [
       "{0: 'bedroom_1',\n",
       " 1: 'kitchen',\n",
       " 2: 'm_bath',\n",
       " 3: 'm_bedroom',\n",
       " 4: 'm_closet',\n",
       " 5: 'bath',\n",
       " 6: 'dining',\n",
       " 7: 'transit_space',\n",
       " 8: 'closet',\n",
       " 9: 'bedroom_2',\n",
       " 10: 'laundry'}"
      ]
     },
     "execution_count": 3,
     "metadata": {},
     "output_type": "execute_result"
    }
   ],
   "source": [
    "room_map = {}\n",
    "for item in plan_data[0]:\n",
    "    room_map[item[\"id\"]] = item[\"label\"]\n",
    "\n",
    "room_map"
   ]
  },
  {
   "cell_type": "code",
   "execution_count": 4,
   "metadata": {},
   "outputs": [],
   "source": [
    "CONNECTIVITY_PATH = \"/Users/julietnwagwuume-ezeoke/_UILCode/gqe-phd/svg2plan/outputs/amber_a/graph.json\""
   ]
  },
  {
   "cell_type": "code",
   "execution_count": 5,
   "metadata": {},
   "outputs": [],
   "source": [
    "with open(CONNECTIVITY_PATH) as f:\n",
    "    data = json.load(f)"
   ]
  },
  {
   "cell_type": "code",
   "execution_count": 6,
   "metadata": {},
   "outputs": [],
   "source": [
    "@dataclass\n",
    "class InputObject:\n",
    "    node: Union[str, int]\n",
    "    direction: str\n",
    "    object_type: str"
   ]
  },
  {
   "cell_type": "code",
   "execution_count": 7,
   "metadata": {},
   "outputs": [],
   "source": [
    "objects: list[InputObject] = []\n",
    "for node in data[\"nodes\"]:\n",
    "    for w in node[\"windows\"]:\n",
    "        objects.append(InputObject(node[\"id\"],\n",
    "                        w[\"direction\"],\n",
    "                         w[\"window_type\"]\n",
    "        ))"
   ]
  },
  {
   "cell_type": "code",
   "execution_count": 8,
   "metadata": {},
   "outputs": [
    {
     "data": {
      "text/plain": [
       "<WallNormal.NORTH: 0.0>"
      ]
     },
     "execution_count": 8,
     "metadata": {},
     "output_type": "execute_result"
    }
   ],
   "source": [
    "WallNormal[\"NORTH\"]"
   ]
  },
  {
   "cell_type": "code",
   "execution_count": 9,
   "metadata": {},
   "outputs": [],
   "source": [
    "window_pairs: list[SubsurfacePair] = []\n",
    "for o in objects:\n",
    "    node = key_from_value(room_map, o.node) \n",
    "    direction = WallNormal[str(o.direction)]\n",
    "    if o.object_type == \"A\":\n",
    "        object_type = DEFAULT_WINDOW\n",
    "\n",
    "    window_pairs.append(SubsurfacePair(node, direction, object_type))"
   ]
  },
  {
   "cell_type": "code",
   "execution_count": 11,
   "metadata": {},
   "outputs": [
    {
     "data": {
      "text/plain": [
       "[{'source': 'bedroom_1', 'target': 'transit_space'},\n",
       " {'source': 'kitchen', 'target': 'dining'},\n",
       " {'source': 'm_bath', 'target': 'm_bedroom'},\n",
       " {'source': 'm_bedroom', 'target': 'm_closet'},\n",
       " {'source': 'm_bedroom', 'target': 'dining'},\n",
       " {'source': 'bath', 'target': 'transit_space'},\n",
       " {'source': 'dining', 'target': 'transit_space'},\n",
       " {'source': 'dining', 'target': 'closet'},\n",
       " {'source': 'transit_space', 'target': 'bedroom_2'},\n",
       " {'source': 'transit_space', 'target': 'laundry'}]"
      ]
     },
     "execution_count": 11,
     "metadata": {},
     "output_type": "execute_result"
    }
   ],
   "source": [
    "doors = data[\"links\"]\n",
    "doors"
   ]
  },
  {
   "cell_type": "code",
   "execution_count": 14,
   "metadata": {},
   "outputs": [],
   "source": [
    "door_pairs: list[SubsurfacePair] = []\n",
    "for item in doors:\n",
    "    door_pairs.append(SubsurfacePair(\n",
    "        key_from_value(room_map, item[\"source\"]),\n",
    "        key_from_value(room_map, item[\"target\"]),\n",
    "        DEFAULT_DOOR\n",
    "    )\n",
    "    )"
   ]
  },
  {
   "cell_type": "code",
   "execution_count": 15,
   "metadata": {},
   "outputs": [
    {
     "data": {
      "text/plain": [
       "[SubsurfacePair(pair=(0, 7), attrs = SubsurfaceAttributes(object_type=<SubsurfaceObjects.DOOR: 0>, construction=None, dimensions=Dimensions(width=0.3, height=0.9), location_in_wall=<NinePointsLocator.bottom_middle: 7>, FRACTIONAL=True, SHADING=False)),\n",
       " SubsurfacePair(pair=(1, 6), attrs = SubsurfaceAttributes(object_type=<SubsurfaceObjects.DOOR: 0>, construction=None, dimensions=Dimensions(width=0.3, height=0.9), location_in_wall=<NinePointsLocator.bottom_middle: 7>, FRACTIONAL=True, SHADING=False)),\n",
       " SubsurfacePair(pair=(2, 3), attrs = SubsurfaceAttributes(object_type=<SubsurfaceObjects.DOOR: 0>, construction=None, dimensions=Dimensions(width=0.3, height=0.9), location_in_wall=<NinePointsLocator.bottom_middle: 7>, FRACTIONAL=True, SHADING=False)),\n",
       " SubsurfacePair(pair=(3, 4), attrs = SubsurfaceAttributes(object_type=<SubsurfaceObjects.DOOR: 0>, construction=None, dimensions=Dimensions(width=0.3, height=0.9), location_in_wall=<NinePointsLocator.bottom_middle: 7>, FRACTIONAL=True, SHADING=False)),\n",
       " SubsurfacePair(pair=(3, 6), attrs = SubsurfaceAttributes(object_type=<SubsurfaceObjects.DOOR: 0>, construction=None, dimensions=Dimensions(width=0.3, height=0.9), location_in_wall=<NinePointsLocator.bottom_middle: 7>, FRACTIONAL=True, SHADING=False)),\n",
       " SubsurfacePair(pair=(5, 7), attrs = SubsurfaceAttributes(object_type=<SubsurfaceObjects.DOOR: 0>, construction=None, dimensions=Dimensions(width=0.3, height=0.9), location_in_wall=<NinePointsLocator.bottom_middle: 7>, FRACTIONAL=True, SHADING=False)),\n",
       " SubsurfacePair(pair=(6, 7), attrs = SubsurfaceAttributes(object_type=<SubsurfaceObjects.DOOR: 0>, construction=None, dimensions=Dimensions(width=0.3, height=0.9), location_in_wall=<NinePointsLocator.bottom_middle: 7>, FRACTIONAL=True, SHADING=False)),\n",
       " SubsurfacePair(pair=(6, 8), attrs = SubsurfaceAttributes(object_type=<SubsurfaceObjects.DOOR: 0>, construction=None, dimensions=Dimensions(width=0.3, height=0.9), location_in_wall=<NinePointsLocator.bottom_middle: 7>, FRACTIONAL=True, SHADING=False)),\n",
       " SubsurfacePair(pair=(7, 9), attrs = SubsurfaceAttributes(object_type=<SubsurfaceObjects.DOOR: 0>, construction=None, dimensions=Dimensions(width=0.3, height=0.9), location_in_wall=<NinePointsLocator.bottom_middle: 7>, FRACTIONAL=True, SHADING=False)),\n",
       " SubsurfacePair(pair=(7, 10), attrs = SubsurfaceAttributes(object_type=<SubsurfaceObjects.DOOR: 0>, construction=None, dimensions=Dimensions(width=0.3, height=0.9), location_in_wall=<NinePointsLocator.bottom_middle: 7>, FRACTIONAL=True, SHADING=False))]"
      ]
     },
     "execution_count": 15,
     "metadata": {},
     "output_type": "execute_result"
    }
   ],
   "source": [
    "door_pairs"
   ]
  },
  {
   "cell_type": "code",
   "execution_count": 7,
   "metadata": {},
   "outputs": [
    {
     "name": "stdout",
     "output_type": "stream",
     "text": [
      "tests/test21_amber\n",
      "Added 5 walls \n",
      "Added 4 walls \n",
      "Added 4 walls \n",
      "Added 6 walls \n",
      "Added 4 walls \n",
      "Added 5 walls \n",
      "Added 7 walls \n",
      "Added 6 walls \n",
      "Added 4 walls \n",
      "Added 5 walls \n",
      "Added 5 walls \n",
      "out.idf does not exist\n",
      "idf has changed - running case\n",
      "\n",
      "/Applications/EnergyPlus-22-2-0/energyplus --weather /Users/julietnwagwuume-ezeoke/_UILCode/gqe-phd/geomeppy/weather_data/PALO_ALTO/CA_PALO-ALTO-AP_724937_23.EPW --output-directory /Users/julietnwagwuume-ezeoke/_UILCode/gqe-phd/geomeppy/cases/tests/test21_amber/results --idd /Applications/EnergyPlus-22-2-0/Energy+.idd /Users/julietnwagwuume-ezeoke/_UILCode/gqe-phd/geomeppy/cases/base/01example/Minimal_AP_6b2b8a.idf\n",
      "\n",
      "EnergyPlus Starting\n",
      "EnergyPlus, Version 22.2.0-c249759bad, YMD=2024.09.04 16:59\n",
      "Adjusting Air System Sizing\n",
      "Adjusting Standard 62.1 Ventilation Sizing\n",
      "Initializing Simulation\n",
      "Reporting Surfaces\n",
      "Beginning Primary Simulation\n",
      "Initializing New Environment Parameters\n",
      "Warming up {1}\n",
      "Warming up {2}\n",
      "Warming up {3}\n",
      "Warming up {4}\n",
      "Warming up {5}\n",
      "Warming up {6}\n",
      "Starting Simulation at 07/01/2017 for SUMMERDAY\n",
      "Writing tabular output file results using HTML format.\n",
      "Writing final SQL reports\n",
      "EnergyPlus Run Time=00hr 00min  0.19sec\n",
      "looking for sql\n"
     ]
    },
    {
     "name": "stderr",
     "output_type": "stream",
     "text": [
      "EnergyPlus Completed Successfully.\n",
      "/Users/julietnwagwuume-ezeoke/_UILCode/gqe-phd/geomeppy/_scripts/outputs/sql.py:39: UserWarning:\n",
      "\n",
      "AFN Zone Ventilation Sensible Heat Loss Rate not in available_outputs\n",
      "\n",
      "/Users/julietnwagwuume-ezeoke/_UILCode/gqe-phd/geomeppy/_scripts/analysis/post_process.py:28: UserWarning:\n",
      "\n",
      "Output variables are not appropriate for this case\n",
      "\n"
     ]
    },
    {
     "data": {
      "text/plain": [
       "{'case_name': 'tests/test21_amber',\n",
       " 'subsurface_pairs': [],\n",
       " 'geometry': GPLANRoomAccess(path='/Users/julietnwagwuume-ezeoke/_UILCode/gqe-phd/svg2plan/outputs/amber_a/gplan.json',\n",
       "                             index=0),\n",
       " 'starting_case': '',\n",
       " 'project_name': ''}"
      ]
     },
     "execution_count": 7,
     "metadata": {},
     "output_type": "execute_result"
    }
   ],
   "source": [
    "ez = EzCase(input, RUN_CASE=False)\n",
    "ez"
   ]
  },
  {
   "cell_type": "code",
   "execution_count": 5,
   "metadata": {},
   "outputs": [
    {
     "data": {
      "application/vnd.plotly.v1+json": {
       "config": {
        "plotlyServerURL": "https://plotly.com"
       },
       "data": [],
       "layout": {
        "autosize": false,
        "height": 350,
        "margin": {
         "b": 50,
         "l": 50,
         "pad": 4,
         "r": 50,
         "t": 50
        },
        "shapes": [
         {
          "fillcolor": "#9dd1eb",
          "label": {
           "text": "Block 0bedroom_1"
          },
          "type": "rect",
          "x0": 0,
          "x1": 269,
          "xref": "x",
          "y0": 263,
          "y1": 497,
          "yref": "y"
         },
         {
          "fillcolor": "#9dd1eb",
          "label": {
           "text": "Block 0kitchen"
          },
          "type": "rect",
          "x0": 269,
          "x1": 419,
          "xref": "x",
          "y0": 0,
          "y1": 202,
          "yref": "y"
         },
         {
          "fillcolor": "#9dd1eb",
          "label": {
           "text": "Block 0m_bath"
          },
          "type": "rect",
          "x0": 419,
          "x1": 700,
          "xref": "x",
          "y0": 388,
          "y1": 497,
          "yref": "y"
         },
         {
          "fillcolor": "#9dd1eb",
          "label": {
           "text": "Block 0m_bedroom"
          },
          "type": "rect",
          "x0": 700,
          "x1": 878,
          "xref": "x",
          "y0": 268,
          "y1": 497,
          "yref": "y"
         },
         {
          "fillcolor": "#9dd1eb",
          "label": {
           "text": "Block 0m_closet"
          },
          "type": "rect",
          "x0": 700,
          "x1": 878,
          "xref": "x",
          "y0": 218,
          "y1": 268,
          "yref": "y"
         },
         {
          "fillcolor": "#9dd1eb",
          "label": {
           "text": "Block 0bath"
          },
          "type": "rect",
          "x0": 419,
          "x1": 700,
          "xref": "x",
          "y0": 285,
          "y1": 388,
          "yref": "y"
         },
         {
          "fillcolor": "#9dd1eb",
          "label": {
           "text": "Block 0dining"
          },
          "type": "rect",
          "x0": 419,
          "x1": 700,
          "xref": "x",
          "y0": 0,
          "y1": 285,
          "yref": "y"
         },
         {
          "fillcolor": "#9dd1eb",
          "label": {
           "text": "Block 0transit_space"
          },
          "type": "rect",
          "x0": 269,
          "x1": 419,
          "xref": "x",
          "y0": 202,
          "y1": 351,
          "yref": "y"
         },
         {
          "fillcolor": "#9dd1eb",
          "label": {
           "text": "Block 0closet"
          },
          "type": "rect",
          "x0": 700,
          "x1": 878,
          "xref": "x",
          "y0": 0,
          "y1": 218,
          "yref": "y"
         },
         {
          "fillcolor": "#9dd1eb",
          "label": {
           "text": "Block 0bedroom_2"
          },
          "type": "rect",
          "x0": 0,
          "x1": 269,
          "xref": "x",
          "y0": 0,
          "y1": 263,
          "yref": "y"
         },
         {
          "fillcolor": "#9dd1eb",
          "label": {
           "text": "Block 0laundry"
          },
          "type": "rect",
          "x0": 269,
          "x1": 419,
          "xref": "x",
          "y0": 351,
          "y1": 497,
          "yref": "y"
         }
        ],
        "template": {
         "data": {
          "bar": [
           {
            "error_x": {
             "color": "#2a3f5f"
            },
            "error_y": {
             "color": "#2a3f5f"
            },
            "marker": {
             "line": {
              "color": "#E5ECF6",
              "width": 0.5
             },
             "pattern": {
              "fillmode": "overlay",
              "size": 10,
              "solidity": 0.2
             }
            },
            "type": "bar"
           }
          ],
          "barpolar": [
           {
            "marker": {
             "line": {
              "color": "#E5ECF6",
              "width": 0.5
             },
             "pattern": {
              "fillmode": "overlay",
              "size": 10,
              "solidity": 0.2
             }
            },
            "type": "barpolar"
           }
          ],
          "carpet": [
           {
            "aaxis": {
             "endlinecolor": "#2a3f5f",
             "gridcolor": "white",
             "linecolor": "white",
             "minorgridcolor": "white",
             "startlinecolor": "#2a3f5f"
            },
            "baxis": {
             "endlinecolor": "#2a3f5f",
             "gridcolor": "white",
             "linecolor": "white",
             "minorgridcolor": "white",
             "startlinecolor": "#2a3f5f"
            },
            "type": "carpet"
           }
          ],
          "choropleth": [
           {
            "colorbar": {
             "outlinewidth": 0,
             "ticks": ""
            },
            "type": "choropleth"
           }
          ],
          "contour": [
           {
            "colorbar": {
             "outlinewidth": 0,
             "ticks": ""
            },
            "colorscale": [
             [
              0,
              "#0d0887"
             ],
             [
              0.1111111111111111,
              "#46039f"
             ],
             [
              0.2222222222222222,
              "#7201a8"
             ],
             [
              0.3333333333333333,
              "#9c179e"
             ],
             [
              0.4444444444444444,
              "#bd3786"
             ],
             [
              0.5555555555555556,
              "#d8576b"
             ],
             [
              0.6666666666666666,
              "#ed7953"
             ],
             [
              0.7777777777777778,
              "#fb9f3a"
             ],
             [
              0.8888888888888888,
              "#fdca26"
             ],
             [
              1,
              "#f0f921"
             ]
            ],
            "type": "contour"
           }
          ],
          "contourcarpet": [
           {
            "colorbar": {
             "outlinewidth": 0,
             "ticks": ""
            },
            "type": "contourcarpet"
           }
          ],
          "heatmap": [
           {
            "colorbar": {
             "outlinewidth": 0,
             "ticks": ""
            },
            "colorscale": [
             [
              0,
              "#0d0887"
             ],
             [
              0.1111111111111111,
              "#46039f"
             ],
             [
              0.2222222222222222,
              "#7201a8"
             ],
             [
              0.3333333333333333,
              "#9c179e"
             ],
             [
              0.4444444444444444,
              "#bd3786"
             ],
             [
              0.5555555555555556,
              "#d8576b"
             ],
             [
              0.6666666666666666,
              "#ed7953"
             ],
             [
              0.7777777777777778,
              "#fb9f3a"
             ],
             [
              0.8888888888888888,
              "#fdca26"
             ],
             [
              1,
              "#f0f921"
             ]
            ],
            "type": "heatmap"
           }
          ],
          "heatmapgl": [
           {
            "colorbar": {
             "outlinewidth": 0,
             "ticks": ""
            },
            "colorscale": [
             [
              0,
              "#0d0887"
             ],
             [
              0.1111111111111111,
              "#46039f"
             ],
             [
              0.2222222222222222,
              "#7201a8"
             ],
             [
              0.3333333333333333,
              "#9c179e"
             ],
             [
              0.4444444444444444,
              "#bd3786"
             ],
             [
              0.5555555555555556,
              "#d8576b"
             ],
             [
              0.6666666666666666,
              "#ed7953"
             ],
             [
              0.7777777777777778,
              "#fb9f3a"
             ],
             [
              0.8888888888888888,
              "#fdca26"
             ],
             [
              1,
              "#f0f921"
             ]
            ],
            "type": "heatmapgl"
           }
          ],
          "histogram": [
           {
            "marker": {
             "pattern": {
              "fillmode": "overlay",
              "size": 10,
              "solidity": 0.2
             }
            },
            "type": "histogram"
           }
          ],
          "histogram2d": [
           {
            "colorbar": {
             "outlinewidth": 0,
             "ticks": ""
            },
            "colorscale": [
             [
              0,
              "#0d0887"
             ],
             [
              0.1111111111111111,
              "#46039f"
             ],
             [
              0.2222222222222222,
              "#7201a8"
             ],
             [
              0.3333333333333333,
              "#9c179e"
             ],
             [
              0.4444444444444444,
              "#bd3786"
             ],
             [
              0.5555555555555556,
              "#d8576b"
             ],
             [
              0.6666666666666666,
              "#ed7953"
             ],
             [
              0.7777777777777778,
              "#fb9f3a"
             ],
             [
              0.8888888888888888,
              "#fdca26"
             ],
             [
              1,
              "#f0f921"
             ]
            ],
            "type": "histogram2d"
           }
          ],
          "histogram2dcontour": [
           {
            "colorbar": {
             "outlinewidth": 0,
             "ticks": ""
            },
            "colorscale": [
             [
              0,
              "#0d0887"
             ],
             [
              0.1111111111111111,
              "#46039f"
             ],
             [
              0.2222222222222222,
              "#7201a8"
             ],
             [
              0.3333333333333333,
              "#9c179e"
             ],
             [
              0.4444444444444444,
              "#bd3786"
             ],
             [
              0.5555555555555556,
              "#d8576b"
             ],
             [
              0.6666666666666666,
              "#ed7953"
             ],
             [
              0.7777777777777778,
              "#fb9f3a"
             ],
             [
              0.8888888888888888,
              "#fdca26"
             ],
             [
              1,
              "#f0f921"
             ]
            ],
            "type": "histogram2dcontour"
           }
          ],
          "mesh3d": [
           {
            "colorbar": {
             "outlinewidth": 0,
             "ticks": ""
            },
            "type": "mesh3d"
           }
          ],
          "parcoords": [
           {
            "line": {
             "colorbar": {
              "outlinewidth": 0,
              "ticks": ""
             }
            },
            "type": "parcoords"
           }
          ],
          "pie": [
           {
            "automargin": true,
            "type": "pie"
           }
          ],
          "scatter": [
           {
            "fillpattern": {
             "fillmode": "overlay",
             "size": 10,
             "solidity": 0.2
            },
            "type": "scatter"
           }
          ],
          "scatter3d": [
           {
            "line": {
             "colorbar": {
              "outlinewidth": 0,
              "ticks": ""
             }
            },
            "marker": {
             "colorbar": {
              "outlinewidth": 0,
              "ticks": ""
             }
            },
            "type": "scatter3d"
           }
          ],
          "scattercarpet": [
           {
            "marker": {
             "colorbar": {
              "outlinewidth": 0,
              "ticks": ""
             }
            },
            "type": "scattercarpet"
           }
          ],
          "scattergeo": [
           {
            "marker": {
             "colorbar": {
              "outlinewidth": 0,
              "ticks": ""
             }
            },
            "type": "scattergeo"
           }
          ],
          "scattergl": [
           {
            "marker": {
             "colorbar": {
              "outlinewidth": 0,
              "ticks": ""
             }
            },
            "type": "scattergl"
           }
          ],
          "scattermapbox": [
           {
            "marker": {
             "colorbar": {
              "outlinewidth": 0,
              "ticks": ""
             }
            },
            "type": "scattermapbox"
           }
          ],
          "scatterpolar": [
           {
            "marker": {
             "colorbar": {
              "outlinewidth": 0,
              "ticks": ""
             }
            },
            "type": "scatterpolar"
           }
          ],
          "scatterpolargl": [
           {
            "marker": {
             "colorbar": {
              "outlinewidth": 0,
              "ticks": ""
             }
            },
            "type": "scatterpolargl"
           }
          ],
          "scatterternary": [
           {
            "marker": {
             "colorbar": {
              "outlinewidth": 0,
              "ticks": ""
             }
            },
            "type": "scatterternary"
           }
          ],
          "surface": [
           {
            "colorbar": {
             "outlinewidth": 0,
             "ticks": ""
            },
            "colorscale": [
             [
              0,
              "#0d0887"
             ],
             [
              0.1111111111111111,
              "#46039f"
             ],
             [
              0.2222222222222222,
              "#7201a8"
             ],
             [
              0.3333333333333333,
              "#9c179e"
             ],
             [
              0.4444444444444444,
              "#bd3786"
             ],
             [
              0.5555555555555556,
              "#d8576b"
             ],
             [
              0.6666666666666666,
              "#ed7953"
             ],
             [
              0.7777777777777778,
              "#fb9f3a"
             ],
             [
              0.8888888888888888,
              "#fdca26"
             ],
             [
              1,
              "#f0f921"
             ]
            ],
            "type": "surface"
           }
          ],
          "table": [
           {
            "cells": {
             "fill": {
              "color": "#EBF0F8"
             },
             "line": {
              "color": "white"
             }
            },
            "header": {
             "fill": {
              "color": "#C8D4E3"
             },
             "line": {
              "color": "white"
             }
            },
            "type": "table"
           }
          ]
         },
         "layout": {
          "annotationdefaults": {
           "arrowcolor": "#2a3f5f",
           "arrowhead": 0,
           "arrowwidth": 1
          },
          "autotypenumbers": "strict",
          "coloraxis": {
           "colorbar": {
            "outlinewidth": 0,
            "ticks": ""
           }
          },
          "colorscale": {
           "diverging": [
            [
             0,
             "#8e0152"
            ],
            [
             0.1,
             "#c51b7d"
            ],
            [
             0.2,
             "#de77ae"
            ],
            [
             0.3,
             "#f1b6da"
            ],
            [
             0.4,
             "#fde0ef"
            ],
            [
             0.5,
             "#f7f7f7"
            ],
            [
             0.6,
             "#e6f5d0"
            ],
            [
             0.7,
             "#b8e186"
            ],
            [
             0.8,
             "#7fbc41"
            ],
            [
             0.9,
             "#4d9221"
            ],
            [
             1,
             "#276419"
            ]
           ],
           "sequential": [
            [
             0,
             "#0d0887"
            ],
            [
             0.1111111111111111,
             "#46039f"
            ],
            [
             0.2222222222222222,
             "#7201a8"
            ],
            [
             0.3333333333333333,
             "#9c179e"
            ],
            [
             0.4444444444444444,
             "#bd3786"
            ],
            [
             0.5555555555555556,
             "#d8576b"
            ],
            [
             0.6666666666666666,
             "#ed7953"
            ],
            [
             0.7777777777777778,
             "#fb9f3a"
            ],
            [
             0.8888888888888888,
             "#fdca26"
            ],
            [
             1,
             "#f0f921"
            ]
           ],
           "sequentialminus": [
            [
             0,
             "#0d0887"
            ],
            [
             0.1111111111111111,
             "#46039f"
            ],
            [
             0.2222222222222222,
             "#7201a8"
            ],
            [
             0.3333333333333333,
             "#9c179e"
            ],
            [
             0.4444444444444444,
             "#bd3786"
            ],
            [
             0.5555555555555556,
             "#d8576b"
            ],
            [
             0.6666666666666666,
             "#ed7953"
            ],
            [
             0.7777777777777778,
             "#fb9f3a"
            ],
            [
             0.8888888888888888,
             "#fdca26"
            ],
            [
             1,
             "#f0f921"
            ]
           ]
          },
          "colorway": [
           "#636efa",
           "#EF553B",
           "#00cc96",
           "#ab63fa",
           "#FFA15A",
           "#19d3f3",
           "#FF6692",
           "#B6E880",
           "#FF97FF",
           "#FECB52"
          ],
          "font": {
           "color": "#2a3f5f"
          },
          "geo": {
           "bgcolor": "white",
           "lakecolor": "white",
           "landcolor": "#E5ECF6",
           "showlakes": true,
           "showland": true,
           "subunitcolor": "white"
          },
          "hoverlabel": {
           "align": "left"
          },
          "hovermode": "closest",
          "mapbox": {
           "style": "light"
          },
          "paper_bgcolor": "white",
          "plot_bgcolor": "#E5ECF6",
          "polar": {
           "angularaxis": {
            "gridcolor": "white",
            "linecolor": "white",
            "ticks": ""
           },
           "bgcolor": "#E5ECF6",
           "radialaxis": {
            "gridcolor": "white",
            "linecolor": "white",
            "ticks": ""
           }
          },
          "scene": {
           "xaxis": {
            "backgroundcolor": "#E5ECF6",
            "gridcolor": "white",
            "gridwidth": 2,
            "linecolor": "white",
            "showbackground": true,
            "ticks": "",
            "zerolinecolor": "white"
           },
           "yaxis": {
            "backgroundcolor": "#E5ECF6",
            "gridcolor": "white",
            "gridwidth": 2,
            "linecolor": "white",
            "showbackground": true,
            "ticks": "",
            "zerolinecolor": "white"
           },
           "zaxis": {
            "backgroundcolor": "#E5ECF6",
            "gridcolor": "white",
            "gridwidth": 2,
            "linecolor": "white",
            "showbackground": true,
            "ticks": "",
            "zerolinecolor": "white"
           }
          },
          "shapedefaults": {
           "line": {
            "color": "#2a3f5f"
           }
          },
          "ternary": {
           "aaxis": {
            "gridcolor": "white",
            "linecolor": "white",
            "ticks": ""
           },
           "baxis": {
            "gridcolor": "white",
            "linecolor": "white",
            "ticks": ""
           },
           "bgcolor": "#E5ECF6",
           "caxis": {
            "gridcolor": "white",
            "linecolor": "white",
            "ticks": ""
           }
          },
          "title": {
           "x": 0.05
          },
          "xaxis": {
           "automargin": true,
           "gridcolor": "white",
           "linecolor": "white",
           "ticks": "",
           "title": {
            "standoff": 15
           },
           "zerolinecolor": "white",
           "zerolinewidth": 2
          },
          "yaxis": {
           "automargin": true,
           "gridcolor": "white",
           "linecolor": "white",
           "ticks": "",
           "title": {
            "standoff": 15
           },
           "zerolinecolor": "white",
           "zerolinewidth": 2
          }
         }
        },
        "title": {
         "text": "tests/test21_amber"
        },
        "width": 598.3240223463688,
        "xaxis": {
         "range": [
          -20,
          898
         ]
        },
        "yaxis": {
         "range": [
          -20,
          517
         ]
        }
       }
      }
     },
     "metadata": {},
     "output_type": "display_data"
    }
   ],
   "source": [
    "ez.show_base_plot()"
   ]
  }
 ],
 "metadata": {
  "kernelspec": {
   "display_name": "gqenv",
   "language": "python",
   "name": "python3"
  },
  "language_info": {
   "codemirror_mode": {
    "name": "ipython",
    "version": 3
   },
   "file_extension": ".py",
   "mimetype": "text/x-python",
   "name": "python",
   "nbconvert_exporter": "python",
   "pygments_lexer": "ipython3",
   "version": "3.10.14"
  }
 },
 "nbformat": 4,
 "nbformat_minor": 2
}
