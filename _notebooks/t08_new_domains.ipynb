{
 "cells": [
  {
   "cell_type": "code",
   "execution_count": 1,
   "metadata": {},
   "outputs": [],
   "source": [
    "%load_ext autoreload\n",
    "%autoreload 2"
   ]
  },
  {
   "cell_type": "code",
   "execution_count": 2,
   "metadata": {},
   "outputs": [],
   "source": [
    "from pathlib import Path\n",
    "import sys\n",
    "sys.path.append(str(Path.cwd() / \"_scripts\"))"
   ]
  },
  {
   "cell_type": "code",
   "execution_count": null,
   "metadata": {},
   "outputs": [],
   "source": [
    "import seaborn as sns\n",
    "import seaborn.objects as so\n",
    "import polars as pl\n",
    "import numpy as np\n",
    "import matplotlib.pyplot as plt\n",
    "from matplotlib.axes import Axes\n",
    "\n",
    "from eppy.bunch_subclass import EpBunch\n",
    "\n",
    "from helpers.ep_helpers import PARTNER\n",
    "from helpers.variable_interfaces import all_variables as vars\n",
    "from setup.materials_setup import retrieve_cases\n",
    "from setup.data_wrangle2 import *\n",
    "from analysis.helpers import map_zone_names, extract_times\n",
    "from analysis.plot_helpers import set_axis_ticks\n",
    "# from analysis.dataframes import *\n",
    "# from analysis.volumes import *\n",
    "\n",
    "from analysis.plot_subsurfaces import *\n",
    "from analysis.plot_helpers import plot_zone_domains\n",
    "\n",
    "sns.set_style(\"darkgrid\")\n",
    "from datetime import datetime\n",
    "\n",
    "from experiments.retrieve import retrieve_comparison_groups"
   ]
  },
  {
   "cell_type": "code",
   "execution_count": null,
   "metadata": {},
   "outputs": [],
   "source": [
    "\n",
    "\n",
    "\n",
    "cases = retrieve_comparison_groups(\"windows\")\n",
    "cases"
   ]
  },
  {
   "cell_type": "code",
   "execution_count": 11,
   "metadata": {},
   "outputs": [
    {
     "data": {
      "text/plain": [
       "[CaseData(case_name='Light_case_amb_b1', idf=<geomeppy.idf.IDF object at 0x107acb5e0>, sql=Energy SQLiteResult: /Users/julietnwagwuume-ezeoke/_UILCode/gqe-phd/geomeppy/cases/material_exp/Light_case_amb_b1/results/eplusout.sql, path_to_input=PosixPath('/Users/julietnwagwuume-ezeoke/_UILCode/gqe-phd/svg2plan/outputs2/case_amb_b1'), path_to_output=PosixPath('/Users/julietnwagwuume-ezeoke/_UILCode/gqe-phd/geomeppy/cases/material_exp/Light_case_amb_b1')),\n",
       " CaseData(case_name='Light_case_bol_5', idf=<geomeppy.idf.IDF object at 0x171c381c0>, sql=Energy SQLiteResult: /Users/julietnwagwuume-ezeoke/_UILCode/gqe-phd/geomeppy/cases/material_exp/Light_case_bol_5/results/eplusout.sql, path_to_input=PosixPath('/Users/julietnwagwuume-ezeoke/_UILCode/gqe-phd/svg2plan/outputs2/case_bol_5'), path_to_output=PosixPath('/Users/julietnwagwuume-ezeoke/_UILCode/gqe-phd/geomeppy/cases/material_exp/Light_case_bol_5')),\n",
       " CaseData(case_name='Light_case_red_b1', idf=<geomeppy.idf.IDF object at 0x168eb3d60>, sql=Energy SQLiteResult: /Users/julietnwagwuume-ezeoke/_UILCode/gqe-phd/geomeppy/cases/material_exp/Light_case_red_b1/results/eplusout.sql, path_to_input=PosixPath('/Users/julietnwagwuume-ezeoke/_UILCode/gqe-phd/svg2plan/outputs2/case_red_b1'), path_to_output=PosixPath('/Users/julietnwagwuume-ezeoke/_UILCode/gqe-phd/geomeppy/cases/material_exp/Light_case_red_b1')),\n",
       " CaseData(case_name='Medium_case_amb_b1', idf=<geomeppy.idf.IDF object at 0x16935f8e0>, sql=Energy SQLiteResult: /Users/julietnwagwuume-ezeoke/_UILCode/gqe-phd/geomeppy/cases/material_exp/Medium_case_amb_b1/results/eplusout.sql, path_to_input=PosixPath('/Users/julietnwagwuume-ezeoke/_UILCode/gqe-phd/svg2plan/outputs2/case_amb_b1'), path_to_output=PosixPath('/Users/julietnwagwuume-ezeoke/_UILCode/gqe-phd/geomeppy/cases/material_exp/Medium_case_amb_b1')),\n",
       " CaseData(case_name='Medium_case_bol_5', idf=<geomeppy.idf.IDF object at 0x17210f460>, sql=Energy SQLiteResult: /Users/julietnwagwuume-ezeoke/_UILCode/gqe-phd/geomeppy/cases/material_exp/Medium_case_bol_5/results/eplusout.sql, path_to_input=PosixPath('/Users/julietnwagwuume-ezeoke/_UILCode/gqe-phd/svg2plan/outputs2/case_bol_5'), path_to_output=PosixPath('/Users/julietnwagwuume-ezeoke/_UILCode/gqe-phd/geomeppy/cases/material_exp/Medium_case_bol_5')),\n",
       " CaseData(case_name='Medium_case_red_b1', idf=<geomeppy.idf.IDF object at 0x172312fe0>, sql=Energy SQLiteResult: /Users/julietnwagwuume-ezeoke/_UILCode/gqe-phd/geomeppy/cases/material_exp/Medium_case_red_b1/results/eplusout.sql, path_to_input=PosixPath('/Users/julietnwagwuume-ezeoke/_UILCode/gqe-phd/svg2plan/outputs2/case_red_b1'), path_to_output=PosixPath('/Users/julietnwagwuume-ezeoke/_UILCode/gqe-phd/geomeppy/cases/material_exp/Medium_case_red_b1')),\n",
       " CaseData(case_name='Heavy_case_amb_b1', idf=<geomeppy.idf.IDF object at 0x1725cec20>, sql=Energy SQLiteResult: /Users/julietnwagwuume-ezeoke/_UILCode/gqe-phd/geomeppy/cases/material_exp/Heavy_case_amb_b1/results/eplusout.sql, path_to_input=PosixPath('/Users/julietnwagwuume-ezeoke/_UILCode/gqe-phd/svg2plan/outputs2/case_amb_b1'), path_to_output=PosixPath('/Users/julietnwagwuume-ezeoke/_UILCode/gqe-phd/geomeppy/cases/material_exp/Heavy_case_amb_b1')),\n",
       " CaseData(case_name='Heavy_case_bol_5', idf=<geomeppy.idf.IDF object at 0x1728be7a0>, sql=Energy SQLiteResult: /Users/julietnwagwuume-ezeoke/_UILCode/gqe-phd/geomeppy/cases/material_exp/Heavy_case_bol_5/results/eplusout.sql, path_to_input=PosixPath('/Users/julietnwagwuume-ezeoke/_UILCode/gqe-phd/svg2plan/outputs2/case_bol_5'), path_to_output=PosixPath('/Users/julietnwagwuume-ezeoke/_UILCode/gqe-phd/geomeppy/cases/material_exp/Heavy_case_bol_5')),\n",
       " CaseData(case_name='Heavy_case_red_b1', idf=<geomeppy.idf.IDF object at 0x172ad2320>, sql=Energy SQLiteResult: /Users/julietnwagwuume-ezeoke/_UILCode/gqe-phd/geomeppy/cases/material_exp/Heavy_case_red_b1/results/eplusout.sql, path_to_input=PosixPath('/Users/julietnwagwuume-ezeoke/_UILCode/gqe-phd/svg2plan/outputs2/case_red_b1'), path_to_output=PosixPath('/Users/julietnwagwuume-ezeoke/_UILCode/gqe-phd/geomeppy/cases/material_exp/Heavy_case_red_b1'))]"
      ]
     },
     "execution_count": 11,
     "metadata": {},
     "output_type": "execute_result"
    }
   ],
   "source": [
    "cases"
   ]
  },
  {
   "cell_type": "code",
   "execution_count": 12,
   "metadata": {},
   "outputs": [
    {
     "data": {
      "text/plain": [
       "CaseData(case_name='Medium_case_red_b1', idf=<geomeppy.idf.IDF object at 0x172312fe0>, sql=Energy SQLiteResult: /Users/julietnwagwuume-ezeoke/_UILCode/gqe-phd/geomeppy/cases/material_exp/Medium_case_red_b1/results/eplusout.sql, path_to_input=PosixPath('/Users/julietnwagwuume-ezeoke/_UILCode/gqe-phd/svg2plan/outputs2/case_red_b1'), path_to_output=PosixPath('/Users/julietnwagwuume-ezeoke/_UILCode/gqe-phd/geomeppy/cases/material_exp/Medium_case_red_b1'))"
      ]
     },
     "execution_count": 12,
     "metadata": {},
     "output_type": "execute_result"
    }
   ],
   "source": [
    "medium_cases = [i for i in cases if \"Medium\" in i.case_name]\n",
    "[case] = [i for i in medium_cases if \"red\" in i.case_name]\n",
    "case"
   ]
  },
  {
   "cell_type": "code",
   "execution_count": 20,
   "metadata": {},
   "outputs": [
    {
     "name": "stdout",
     "output_type": "stream",
     "text": [
      "Block 06 Storey 0 Wall 0002_1 Door NOT IN AFN.. \n"
     ]
    },
    {
     "data": {
      "image/png": "[encoded data removed]",
      "text/plain": [
       "<Figure size 700x600 with 1 Axes>"
      ]
     },
     "metadata": {},
     "output_type": "display_data"
    }
   ],
   "source": [
    "time = datetime(2017, 7, 1, 12, 0)\n",
    "fig, ax = plt.subplots(nrows=1, figsize=(7, 6))\n",
    "ax = plot_zone_domains(case.idf, ax)\n",
    "ax, data = plot_surfaces(case, time, ax)\n"
   ]
  },
  {
   "cell_type": "code",
   "execution_count": 19,
   "metadata": {},
   "outputs": [
    {
     "data": {
      "text/plain": [
       "['BLOCK 08 STOREY 0 WALL 0002_2 DOOR',\n",
       " 'BLOCK 05 STOREY 0 WALL 0002_1 DOOR',\n",
       " 'BLOCK 01 STOREY 0 WALL 0002 WINDOW',\n",
       " 'BLOCK 04 STOREY 0 WALL 0004 WINDOW',\n",
       " 'BLOCK 09 STOREY 0 WALL 0004 WINDOW',\n",
       " 'BLOCK 05 STOREY 0 WALL 0004 WINDOW',\n",
       " 'BLOCK 08 STOREY 0 WALL 0002_3 DOOR',\n",
       " 'BLOCK 04 STOREY 0 WALL 0001_1 DOOR',\n",
       " 'BLOCK 02 STOREY 0 WALL 0001 WINDOW',\n",
       " 'BLOCK 08 STOREY 0 WALL 0002_1',\n",
       " 'BLOCK 09 STOREY 0 WALL 0003 WINDOW',\n",
       " 'BLOCK 02 STOREY 0 WALL 0002 WINDOW',\n",
       " 'BLOCK 03 STOREY 0 WALL 0001 WINDOW',\n",
       " 'BLOCK 00 STOREY 0 WALL 0002 WINDOW',\n",
       " 'BLOCK 09 STOREY 0 WALL 0001_2',\n",
       " 'BLOCK 09 STOREY 0 WALL 0002_1',\n",
       " 'BLOCK 03 STOREY 0 WALL 0002_2 DOOR',\n",
       " 'BLOCK 03 STOREY 0 WALL 0004 WINDOW']"
      ]
     },
     "execution_count": 19,
     "metadata": {},
     "output_type": "execute_result"
    }
   ],
   "source": [
    "df = create_dataframe_for_case(case, vars.afn.surface[\"opening_factor\"])\n",
    "df[\"space_names\"].unique().to_list()"
   ]
  },
  {
   "cell_type": "code",
   "execution_count": 14,
   "metadata": {},
   "outputs": [
    {
     "data": {
      "text/plain": [
       "{'BLOCK 08 STOREY 0 WALL 0002_2 DOOR': 1.0,\n",
       " 'BLOCK 03 STOREY 0 WALL 0004 WINDOW': 1.0,\n",
       " 'BLOCK 05 STOREY 0 WALL 0002_1 DOOR': 1.0,\n",
       " 'BLOCK 04 STOREY 0 WALL 0001_1 DOOR': 1.0,\n",
       " 'BLOCK 05 STOREY 0 WALL 0004 WINDOW': 1.0,\n",
       " 'BLOCK 08 STOREY 0 WALL 0002_3 DOOR': 1.0,\n",
       " 'BLOCK 09 STOREY 0 WALL 0003 WINDOW': 1.0,\n",
       " 'BLOCK 09 STOREY 0 WALL 0004 WINDOW': 1.0,\n",
       " 'BLOCK 02 STOREY 0 WALL 0002 WINDOW': 1.0,\n",
       " 'BLOCK 01 STOREY 0 WALL 0002 WINDOW': 1.0,\n",
       " 'BLOCK 03 STOREY 0 WALL 0001 WINDOW': 1.0,\n",
       " 'BLOCK 04 STOREY 0 WALL 0004 WINDOW': 1.0,\n",
       " 'BLOCK 02 STOREY 0 WALL 0001 WINDOW': 1.0,\n",
       " 'BLOCK 03 STOREY 0 WALL 0002_2 DOOR': 1.0,\n",
       " 'BLOCK 00 STOREY 0 WALL 0002 WINDOW': 1.0}"
      ]
     },
     "execution_count": 14,
     "metadata": {},
     "output_type": "execute_result"
    }
   ],
   "source": [
    "get_opening_statuses(case, time)"
   ]
  },
  {
   "cell_type": "code",
   "execution_count": null,
   "metadata": {},
   "outputs": [],
   "source": [
    "# airboundaries do have opening surfaces.. "
   ]
  }
 ],
 "metadata": {
  "kernelspec": {
   "display_name": "gqenv",
   "language": "python",
   "name": "python3"
  },
  "language_info": {
   "codemirror_mode": {
    "name": "ipython",
    "version": 3
   },
   "file_extension": ".py",
   "mimetype": "text/x-python",
   "name": "python",
   "nbconvert_exporter": "python",
   "pygments_lexer": "ipython3",
   "version": "3.10.15"
  }
 },
 "nbformat": 4,
 "nbformat_minor": 2
}
