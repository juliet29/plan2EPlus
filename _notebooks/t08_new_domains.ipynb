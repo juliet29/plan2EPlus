{
 "cells": [
  {
   "cell_type": "code",
   "execution_count": 2,
   "metadata": {},
   "outputs": [],
   "source": [
    "%load_ext autoreload\n",
    "%autoreload 2"
   ]
  },
  {
   "cell_type": "code",
   "execution_count": 3,
   "metadata": {},
   "outputs": [],
   "source": [
    "from pathlib import Path\n",
    "import sys\n",
    "sys.path.append(str(Path.cwd() / \"_scripts\"))"
   ]
  },
  {
   "cell_type": "code",
   "execution_count": 4,
   "metadata": {},
   "outputs": [],
   "source": [
    "import seaborn as sns\n",
    "import seaborn.objects as so\n",
    "import polars as pl\n",
    "import numpy as np\n",
    "import matplotlib.pyplot as plt\n",
    "from matplotlib.axes import Axes\n",
    "\n",
    "from eppy.bunch_subclass import EpBunch\n",
    "\n",
    "from helpers.ep_helpers import PARTNER\n",
    "from helpers.variable_interfaces import all_variables as vars\n",
    "from setup.materials_setup import retrieve_cases\n",
    "from setup.data_wrangle2 import *\n",
    "from analysis.helpers import map_zone_names, extract_times\n",
    "from analysis.plot_helpers import set_axis_ticks\n",
    "# from analysis.dataframes import *\n",
    "# from analysis.volumes import *\n",
    "\n",
    "from analysis.plot_subsurfaces import *\n",
    "from analysis.plot_helpers import plot_zone_domains\n",
    "\n",
    "sns.set_style(\"darkgrid\")\n",
    "from datetime import datetime"
   ]
  },
  {
   "cell_type": "code",
   "execution_count": 5,
   "metadata": {},
   "outputs": [],
   "source": [
    "cases = retrieve_cases()"
   ]
  },
  {
   "cell_type": "code",
   "execution_count": 8,
   "metadata": {},
   "outputs": [
    {
     "data": {
      "text/plain": [
       "CaseData(case_name='Medium_case_bol_5', idf=<geomeppy.idf.IDF object at 0x152f758d0>, sql=Energy SQLiteResult: /Users/julietnwagwuume-ezeoke/_UILCode/gqe-phd/geomeppy/cases/material_exp/Medium_case_bol_5/results/eplusout.sql, path_to_input=PosixPath('/Users/julietnwagwuume-ezeoke/_UILCode/gqe-phd/svg2plan/outputs2/case_bol_5'), path_to_output=PosixPath('/Users/julietnwagwuume-ezeoke/_UILCode/gqe-phd/geomeppy/cases/material_exp/Medium_case_bol_5'))"
      ]
     },
     "execution_count": 8,
     "metadata": {},
     "output_type": "execute_result"
    }
   ],
   "source": [
    "medium_cases = [i for i in cases if \"Medium\" in i.case_name]\n",
    "[case] = [i for i in medium_cases if \"bol\" in i.case_name]\n",
    "case"
   ]
  },
  {
   "cell_type": "code",
   "execution_count": 9,
   "metadata": {},
   "outputs": [
    {
     "data": {
      "image/png": "[encoded data removed]",
      "text/plain": [
       "<Figure size 700x600 with 1 Axes>"
      ]
     },
     "metadata": {},
     "output_type": "display_data"
    }
   ],
   "source": [
    "time = datetime(2017, 7, 1, 12, 0)\n",
    "fig, ax = plt.subplots(nrows=1, figsize=(7, 6))\n",
    "ax = plot_zone_domains(case.idf, ax)\n",
    "ax, data = plot_surfaces(case, time, ax)\n"
   ]
  }
 ],
 "metadata": {
  "kernelspec": {
   "display_name": "gqenv",
   "language": "python",
   "name": "python3"
  },
  "language_info": {
   "codemirror_mode": {
    "name": "ipython",
    "version": 3
   },
   "file_extension": ".py",
   "mimetype": "text/x-python",
   "name": "python",
   "nbconvert_exporter": "python",
   "pygments_lexer": "ipython3",
   "version": "3.10.15"
  }
 },
 "nbformat": 4,
 "nbformat_minor": 2
}
