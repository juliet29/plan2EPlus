{
 "cells": [
  {
   "cell_type": "code",
   "execution_count": 1,
   "metadata": {},
   "outputs": [],
   "source": [
    "%load_ext autoreload\n",
    "%autoreload 2"
   ]
  },
  {
   "cell_type": "code",
   "execution_count": 2,
   "metadata": {},
   "outputs": [],
   "source": [
    "from pathlib import Path\n",
    "import sys\n",
    "sys.path.append(str(Path.cwd() / \"_scripts\"))"
   ]
  },
  {
   "cell_type": "code",
   "execution_count": 3,
   "metadata": {},
   "outputs": [],
   "source": [
    "import seaborn as sns\n",
    "import seaborn.objects as so\n",
    "import polars as pl\n",
    "import numpy as np\n",
    "import matplotlib.pyplot as plt\n",
    "from matplotlib.axes import Axes\n",
    "\n",
    "from eppy.bunch_subclass import EpBunch\n",
    "\n",
    "from helpers.ep_helpers import PARTNER\n",
    "from helpers.variable_interfaces import all_variables as vars\n",
    "from setup.materials_setup import retrieve_cases\n",
    "from setup.data_wrangle2 import *\n",
    "from analysis.helpers import map_zone_names, extract_times\n",
    "from analysis.plot_helpers import set_axis_ticks\n",
    "# from analysis.dataframes import *\n",
    "# from analysis.volumes import *\n",
    "\n",
    "from analysis.plot_subsurfaces import *\n",
    "from analysis.plot_helpers import plot_zone_domains\n",
    "\n",
    "sns.set_style(\"darkgrid\")"
   ]
  },
  {
   "cell_type": "code",
   "execution_count": 4,
   "metadata": {},
   "outputs": [],
   "source": [
    "cases = retrieve_cases()"
   ]
  },
  {
   "cell_type": "code",
   "execution_count": 5,
   "metadata": {},
   "outputs": [
    {
     "data": {
      "text/plain": [
       "CaseData(case_name='Medium_case_bol_5', idf=<geomeppy.idf.IDF object at 0x11cdb4eb0>, sql=Energy SQLiteResult: /Users/julietnwagwuume-ezeoke/_UILCode/gqe-phd/geomeppy/cases/material_exp/Medium_case_bol_5/results/eplusout.sql, path_to_input=PosixPath('/Users/julietnwagwuume-ezeoke/_UILCode/gqe-phd/svg2plan/outputs2/case_bol_5'), path_to_output=PosixPath('/Users/julietnwagwuume-ezeoke/_UILCode/gqe-phd/geomeppy/cases/material_exp/Medium_case_bol_5'))"
      ]
     },
     "execution_count": 5,
     "metadata": {},
     "output_type": "execute_result"
    }
   ],
   "source": [
    "medium_cases = [i for i in cases if \"Medium\" in i.case_name]\n",
    "[case] = [i for i in medium_cases if \"bol\" in i.case_name]\n",
    "case"
   ]
  },
  {
   "cell_type": "code",
   "execution_count": 24,
   "metadata": {},
   "outputs": [
    {
     "name": "stdout",
     "output_type": "stream",
     "text": [
      "SubsurfaceLocation(axis=1, location_in_other_axis=4.32) y\n",
      "SubsurfaceLocation(axis=0, location_in_other_axis=1.77) x\n",
      "SubsurfaceLocation(axis=1, location_in_other_axis=2.11) y\n",
      "SubsurfaceLocation(axis=1, location_in_other_axis=2.11) y\n",
      "SubsurfaceLocation(axis=1, location_in_other_axis=4.32) y\n",
      "SubsurfaceLocation(axis=0, location_in_other_axis=5.25) x\n",
      "SubsurfaceLocation(axis=1, location_in_other_axis=6.44) y\n",
      "SubsurfaceLocation(axis=0, location_in_other_axis=0.0) x\n",
      "SubsurfaceLocation(axis=0, location_in_other_axis=0.0) x\n",
      "SubsurfaceLocation(axis=1, location_in_other_axis=6.44) y\n",
      "SubsurfaceLocation(axis=1, location_in_other_axis=0.0) y\n",
      "SubsurfaceLocation(axis=1, location_in_other_axis=0.0) y\n"
     ]
    },
    {
     "data": {
      "text/plain": [
       "<Axes: >"
      ]
     },
     "execution_count": 24,
     "metadata": {},
     "output_type": "execute_result"
    },
    {
     "data": {
      "image/png": "[encoded data removed]",
      "text/plain": [
       "<Figure size 700x600 with 1 Axes>"
      ]
     },
     "metadata": {},
     "output_type": "display_data"
    }
   ],
   "source": [
    "fig, ax = plt.subplots(nrows=1, figsize=(7, 6))\n",
    "ax = plot_zone_domains(case.idf, ax)\n",
    "ax = plot_subsurfaces(case.idf, ax)\n",
    "ax"
   ]
  },
  {
   "cell_type": "code",
   "execution_count": 8,
   "metadata": {},
   "outputs": [
    {
     "name": "stdout",
     "output_type": "stream",
     "text": [
      "SubsurfaceLocation(axis=1, location_in_other_axis=4.32) y\n",
      "SubsurfaceLocation(axis=0, location_in_other_axis=1.77) x\n",
      "SubsurfaceLocation(axis=1, location_in_other_axis=2.11) y\n",
      "SubsurfaceLocation(axis=1, location_in_other_axis=2.11) y\n",
      "SubsurfaceLocation(axis=1, location_in_other_axis=4.32) y\n"
     ]
    },
    {
     "data": {
      "text/plain": [
       "<Axes: >"
      ]
     },
     "execution_count": 8,
     "metadata": {},
     "output_type": "execute_result"
    }
   ],
   "source": [
    "ax = plot_subsurfaces(case, ax)\n",
    "ax"
   ]
  },
  {
   "cell_type": "code",
   "execution_count": 15,
   "metadata": {},
   "outputs": [
    {
     "data": {
      "text/plain": [
       "['Door:Interzone',\n",
       " 'Door:Interzone',\n",
       " 'Door:Interzone',\n",
       " 'Door:Interzone',\n",
       " 'Door:Interzone',\n",
       " 'Door:Interzone',\n",
       " 'Door:Interzone',\n",
       " 'Door:Interzone',\n",
       " 'Door:Interzone',\n",
       " 'Door:Interzone',\n",
       " 'Window',\n",
       " 'Window',\n",
       " 'Window',\n",
       " 'Window',\n",
       " 'Window',\n",
       " 'Window',\n",
       " 'Window']"
      ]
     },
     "execution_count": 15,
     "metadata": {},
     "output_type": "execute_result"
    }
   ],
   "source": [
    "from helpers.ep_helpers import get_object_type\n",
    "\n",
    "\n",
    "[get_object_type(i) for i in case.idf.getsubsurfaces()]"
   ]
  },
  {
   "cell_type": "code",
   "execution_count": 16,
   "metadata": {},
   "outputs": [],
   "source": [
    "def get_original_subsurfaces(idf):\n",
    "    return [i for i in idf.getsubsurfaces() if PARTNER not in i.Name]"
   ]
  },
  {
   "cell_type": "code",
   "execution_count": 17,
   "metadata": {},
   "outputs": [
    {
     "data": {
      "text/plain": [
       "[\n",
       " DOOR:INTERZONE,\n",
       "     Block 06 Storey 0 Wall 0002_1 Door,    !- Name\n",
       "     Medium Furnishings,       !- Construction Name\n",
       "     Block 06 Storey 0 Wall 0002_1,    !- Building Surface Name\n",
       "     Block 06 Storey 0 Wall 0002_1 Door Partner,    !- Outside Boundary Condition Object\n",
       "     1.0,                      !- Multiplier\n",
       "     3.650000e-02,             !- Starting X Coordinate\n",
       "     3.050000e-02,             !- Starting Z Coordinate\n",
       "     0.6570000004023314,       !- Length\n",
       "     2.744999999832362;        !- Height,\n",
       " \n",
       " DOOR:INTERZONE,\n",
       "     Block 03 Storey 0 Wall 0001_1 Door,    !- Name\n",
       "     Medium Furnishings,       !- Construction Name\n",
       "     Block 03 Storey 0 Wall 0001_1,    !- Building Surface Name\n",
       "     Block 03 Storey 0 Wall 0001_1 Door Partner,    !- Outside Boundary Condition Object\n",
       "     1.0,                      !- Multiplier\n",
       "     1.000000e-01,             !- Starting X Coordinate\n",
       "     3.050000e-02,             !- Starting Z Coordinate\n",
       "     0.81,                     !- Length\n",
       "     2.03;                     !- Height,\n",
       " \n",
       " DOOR:INTERZONE,\n",
       "     Block 05 Storey 0 Wall 0002_2 Door,    !- Name\n",
       "     Medium Furnishings,       !- Construction Name\n",
       "     Block 05 Storey 0 Wall 0002_2,    !- Building Surface Name\n",
       "     Block 05 Storey 0 Wall 0002_2 Door Partner,    !- Outside Boundary Condition Object\n",
       "     1.0,                      !- Multiplier\n",
       "     3.650000e-02,             !- Starting X Coordinate\n",
       "     3.050000e-02,             !- Starting Z Coordinate\n",
       "     0.6570000004023314,       !- Length\n",
       "     2.744999999832362;        !- Height,\n",
       " \n",
       " DOOR:INTERZONE,\n",
       "     Block 05 Storey 0 Wall 0002_1 Door,    !- Name\n",
       "     Medium Furnishings,       !- Construction Name\n",
       "     Block 05 Storey 0 Wall 0002_1,    !- Building Surface Name\n",
       "     Block 05 Storey 0 Wall 0002_1 Door Partner,    !- Outside Boundary Condition Object\n",
       "     1.0,                      !- Multiplier\n",
       "     4.800000e-01,             !- Starting X Coordinate\n",
       "     3.050000e-02,             !- Starting Z Coordinate\n",
       "     0.81,                     !- Length\n",
       "     2.03;                     !- Height,\n",
       " \n",
       " DOOR:INTERZONE,\n",
       "     Block 02 Storey 0 Wall 0002_1 Door,    !- Name\n",
       "     Medium Furnishings,       !- Construction Name\n",
       "     Block 02 Storey 0 Wall 0002_1,    !- Building Surface Name\n",
       "     Block 02 Storey 0 Wall 0002_1 Door Partner,    !- Outside Boundary Condition Object\n",
       "     1.0,                      !- Multiplier\n",
       "     4.800000e-01,             !- Starting X Coordinate\n",
       "     3.050000e-02,             !- Starting Z Coordinate\n",
       "     0.81,                     !- Length\n",
       "     2.03;                     !- Height,\n",
       " \n",
       " WINDOW,\n",
       "     Block 01 Storey 0 Wall 0001 Window,    !- Name\n",
       "     Medium Window Sgl Clr 6mm,    !- Construction Name\n",
       "     Block 01 Storey 0 Wall 0001,    !- Building Surface Name\n",
       "     ,                         !- Frame and Divider Name\n",
       "     1.0,                      !- Multiplier\n",
       "     2.865,                    !- Starting X Coordinate\n",
       "     1.4994999999999998,       !- Starting Z Coordinate\n",
       "     0.71,                     !- Length\n",
       "     1.52;                     !- Height,\n",
       " \n",
       " WINDOW,\n",
       "     Block 01 Storey 0 Wall 0002 Window,    !- Name\n",
       "     Medium Window Sgl Clr 6mm,    !- Construction Name\n",
       "     Block 01 Storey 0 Wall 0002,    !- Building Surface Name\n",
       "     ,                         !- Frame and Divider Name\n",
       "     1.0,                      !- Multiplier\n",
       "     1.02,                     !- Starting X Coordinate\n",
       "     1.4994999999999998,       !- Starting Z Coordinate\n",
       "     0.71,                     !- Length\n",
       "     1.52;                     !- Height,\n",
       " \n",
       " WINDOW,\n",
       "     Block 00 Storey 0 Wall 0003 Window,    !- Name\n",
       "     Medium Window Sgl Clr 6mm,    !- Construction Name\n",
       "     Block 00 Storey 0 Wall 0003,    !- Building Surface Name\n",
       "     ,                         !- Frame and Divider Name\n",
       "     1.0,                      !- Multiplier\n",
       "     0.7050000000000001,       !- Starting X Coordinate\n",
       "     1.4994999999999998,       !- Starting Z Coordinate\n",
       "     0.71,                     !- Length\n",
       "     1.52;                     !- Height,\n",
       " \n",
       " WINDOW,\n",
       "     Block 05 Storey 0 Wall 0003 Window,    !- Name\n",
       "     Medium Window Sgl Clr 6mm,    !- Construction Name\n",
       "     Block 05 Storey 0 Wall 0003,    !- Building Surface Name\n",
       "     ,                         !- Frame and Divider Name\n",
       "     1.0,                      !- Multiplier\n",
       "     0.7,                      !- Starting X Coordinate\n",
       "     1.4994999999999998,       !- Starting Z Coordinate\n",
       "     0.71,                     !- Length\n",
       "     1.52;                     !- Height,\n",
       " \n",
       " WINDOW,\n",
       "     Block 00 Storey 0 Wall 0002 Window,    !- Name\n",
       "     Medium Window Sgl Clr 6mm,    !- Construction Name\n",
       "     Block 00 Storey 0 Wall 0002,    !- Building Surface Name\n",
       "     ,                         !- Frame and Divider Name\n",
       "     1.0,                      !- Multiplier\n",
       "     0.895,                    !- Starting X Coordinate\n",
       "     1.4994999999999998,       !- Starting Z Coordinate\n",
       "     0.71,                     !- Length\n",
       "     1.52;                     !- Height,\n",
       " \n",
       " WINDOW,\n",
       "     Block 05 Storey 0 Wall 0004 Window,    !- Name\n",
       "     Medium Window Sgl Clr 6mm,    !- Construction Name\n",
       "     Block 05 Storey 0 Wall 0004,    !- Building Surface Name\n",
       "     ,                         !- Frame and Divider Name\n",
       "     1.0,                      !- Multiplier\n",
       "     0.895,                    !- Starting X Coordinate\n",
       "     1.4994999999999998,       !- Starting Z Coordinate\n",
       "     0.71,                     !- Length\n",
       "     1.52;                     !- Height,\n",
       " \n",
       " WINDOW,\n",
       "     Block 01 Storey 0 Wall 0004 Window,    !- Name\n",
       "     Medium Window Sgl Clr 6mm,    !- Construction Name\n",
       "     Block 01 Storey 0 Wall 0004,    !- Building Surface Name\n",
       "     ,                         !- Frame and Divider Name\n",
       "     1.0,                      !- Multiplier\n",
       "     1.02,                     !- Starting X Coordinate\n",
       "     1.4994999999999998,       !- Starting Z Coordinate\n",
       "     0.71,                     !- Length\n",
       "     1.52;                     !- Height]"
      ]
     },
     "execution_count": 17,
     "metadata": {},
     "output_type": "execute_result"
    }
   ],
   "source": [
    "get_original_subsurfaces(case.idf)"
   ]
  }
 ],
 "metadata": {
  "kernelspec": {
   "display_name": "gqenv",
   "language": "python",
   "name": "python3"
  },
  "language_info": {
   "codemirror_mode": {
    "name": "ipython",
    "version": 3
   },
   "file_extension": ".py",
   "mimetype": "text/x-python",
   "name": "python",
   "nbconvert_exporter": "python",
   "pygments_lexer": "ipython3",
   "version": "3.10.15"
  }
 },
 "nbformat": 4,
 "nbformat_minor": 2
}
