{
 "cells": [
  {
   "cell_type": "code",
   "execution_count": 1,
   "metadata": {},
   "outputs": [
    {
     "name": "stdout",
     "output_type": "stream",
     "text": [
      "Added 5 walls \n",
      "Added 4 walls \n"
     ]
    }
   ],
   "source": [
    "import sys\n",
    "sys.path.append(\"/Users/julietnwagwuume-ezeoke/_UILCode/gqe-phd/geomeppy/_scripts\")\n",
    "\n",
    "\n",
    "from case_edits.recipes.two_zone import ezcase as ez\n",
    "from geometry.surface_geom import SurfaceGeometryExtractor\n",
    "\n",
    "from case_edits.object_getter import Getter"
   ]
  },
  {
   "cell_type": "code",
   "execution_count": 2,
   "metadata": {},
   "outputs": [],
   "source": [
    "case = ez.case"
   ]
  },
  {
   "cell_type": "code",
   "execution_count": 9,
   "metadata": {},
   "outputs": [
    {
     "data": {
      "text/plain": [
       "[]"
      ]
     },
     "execution_count": 9,
     "metadata": {},
     "output_type": "execute_result"
    }
   ],
   "source": [
    "case.geometry.zones.B_00.case_subsurfaces"
   ]
  },
  {
   "cell_type": "code",
   "execution_count": 7,
   "metadata": {},
   "outputs": [
    {
     "data": {
      "text/plain": [
       "[]"
      ]
     },
     "execution_count": 7,
     "metadata": {},
     "output_type": "execute_result"
    }
   ],
   "source": [
    "case.geometry.zones.B_01.get_subsurfaces()\n",
    "case.geometry.zones.B_01.zone_subsurfaces"
   ]
  },
  {
   "cell_type": "code",
   "execution_count": 5,
   "metadata": {},
   "outputs": [
    {
     "data": {
      "text/plain": [
       "[]"
      ]
     },
     "execution_count": 5,
     "metadata": {},
     "output_type": "execute_result"
    }
   ],
   "source": []
  },
  {
   "cell_type": "code",
   "execution_count": 3,
   "metadata": {},
   "outputs": [
    {
     "data": {
      "text/plain": [
       "4"
      ]
     },
     "execution_count": 3,
     "metadata": {},
     "output_type": "execute_result"
    }
   ],
   "source": [
    "g = Getter(case)\n",
    "ss = g.get_subsurfaces()\n",
    "len(ss)\n"
   ]
  },
  {
   "cell_type": "code",
   "execution_count": 6,
   "metadata": {},
   "outputs": [
    {
     "data": {
      "text/plain": [
       "[\n",
       " DOOR,\n",
       "     Block 00 Storey 0 Wall 0002 Door,    !- Name\n",
       "     Project Door,             !- Construction Name\n",
       "     Block 00 Storey 0 Wall 0002,    !- Building Surface Name\n",
       "     1.0,                      !- Multiplier\n",
       "     49.5,                     !- Starting X Coordinate\n",
       "     0.02,                     !- Starting Z Coordinate\n",
       "     1,                        !- Length\n",
       "     2;                        !- Height,\n",
       " \n",
       " DOOR:INTERZONE,\n",
       "     Block 00 Storey 0 Wall 0004_1 Door,    !- Name\n",
       "     Project Door,             !- Construction Name\n",
       "     Block 00 Storey 0 Wall 0004_1,    !- Building Surface Name\n",
       "     Block 00 Storey 0 Wall 0004_1 Door Partner,    !- Outside Boundary Condition Object\n",
       "     1.0,                      !- Multiplier\n",
       "     24.5,                     !- Starting X Coordinate\n",
       "     0.02,                     !- Starting Z Coordinate\n",
       "     1,                        !- Length\n",
       "     2;                        !- Height,\n",
       " \n",
       " WINDOW,\n",
       "     Block 01 Storey 0 Wall 0004 Window,    !- Name\n",
       "     Project External Window,    !- Construction Name\n",
       "     Block 01 Storey 0 Wall 0004,    !- Building Surface Name\n",
       "     ,                         !- Frame and Divider Name\n",
       "     1.0,                      !- Multiplier\n",
       "     24.75,                    !- Starting X Coordinate\n",
       "     0.02,                     !- Starting Z Coordinate\n",
       "     0.5,                      !- Length\n",
       "     0.5;                      !- Height]"
      ]
     },
     "execution_count": 6,
     "metadata": {},
     "output_type": "execute_result"
    }
   ],
   "source": [
    "g.get_original_subsurfaces()"
   ]
  }
 ],
 "metadata": {
  "kernelspec": {
   "display_name": "gqenv",
   "language": "python",
   "name": "python3"
  },
  "language_info": {
   "codemirror_mode": {
    "name": "ipython",
    "version": 3
   },
   "file_extension": ".py",
   "mimetype": "text/x-python",
   "name": "python",
   "nbconvert_exporter": "python",
   "pygments_lexer": "ipython3",
   "version": "3.9.15"
  }
 },
 "nbformat": 4,
 "nbformat_minor": 2
}
