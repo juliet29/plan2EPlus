{
 "cells": [
  {
   "cell_type": "code",
   "execution_count": 1,
   "metadata": {},
   "outputs": [
    {
     "name": "stdout",
     "output_type": "stream",
     "text": [
      "Added 5 walls \n",
      "Added 4 walls \n",
      "skipping Block 01 Storey 0 Wall 0002_1 Door\n"
     ]
    }
   ],
   "source": [
    "import sys\n",
    "sys.path.append(\"/Users/julietnwagwuume-ezeoke/_UILCode/gqe-phd/geomeppy/_scripts\")\n",
    "\n",
    "\n",
    "from case_edits.recipes.two_zone import ezcase as ez\n",
    "from geometry.surface_geom import SurfaceGeometryExtractor"
   ]
  },
  {
   "cell_type": "code",
   "execution_count": 2,
   "metadata": {},
   "outputs": [],
   "source": [
    "case = ez.case"
   ]
  },
  {
   "cell_type": "code",
   "execution_count": 3,
   "metadata": {},
   "outputs": [
    {
     "name": "stdout",
     "output_type": "stream",
     "text": [
      "Block 01 - East - W01 \n",
      " {'1': Coordinate(X=50.0, Y=0.0, Z=10.0),\n",
      " '2': Coordinate(X=50.0, Y=0.0, Z=0.0),\n",
      " '3': Coordinate(X=50.0, Y=70.0, Z=0.0),\n",
      " '4': Coordinate(X=50.0, Y=70.0, Z=10.0)}\n",
      "Block 01 - West - W03 \n",
      " {'1': Coordinate(X=0.0, Y=70.0, Z=10.0),\n",
      " '2': Coordinate(X=0.0, Y=70.0, Z=0.0),\n",
      " '3': Coordinate(X=0.0, Y=0.0, Z=0.0),\n",
      " '4': Coordinate(X=0.0, Y=0.0, Z=10.0)}\n",
      "Block 01 - South - W04 \n",
      " {'1': Coordinate(X=0.0, Y=0.0, Z=10.0),\n",
      " '2': Coordinate(X=0.0, Y=0.0, Z=0.0),\n",
      " '3': Coordinate(X=50.0, Y=0.0, Z=0.0),\n",
      " '4': Coordinate(X=50.0, Y=0.0, Z=10.0)}\n",
      "Block 01 - North - W02_1 \n",
      " {'1': Coordinate(X=50.0, Y=70.0, Z=10.0),\n",
      " '2': Coordinate(X=50.0, Y=70.0, Z=0.0),\n",
      " '3': Coordinate(X=0.0, Y=70.0, Z=0.0),\n",
      " '4': Coordinate(X=0.0, Y=70.0, Z=10.0)}\n"
     ]
    }
   ],
   "source": [
    "zone_walls = case.geometry.zones.B_01.walls\n",
    "for wall in zone_walls.values():\n",
    "    sg = SurfaceGeometryExtractor(wall)\n",
    "    print(sg)"
   ]
  },
  {
   "cell_type": "code",
   "execution_count": 4,
   "metadata": {},
   "outputs": [
    {
     "name": "stdout",
     "output_type": "stream",
     "text": [
      "Block 01 - East - W01\n",
      "('2', Coordinate(X=50.0, Y=0.0, Z=0.0))\n",
      "('3', Coordinate(X=50.0, Y=70.0, Z=0.0))\n",
      "Block 01 - West - W03\n",
      "('2', Coordinate(X=0.0, Y=70.0, Z=0.0))\n",
      "('3', Coordinate(X=0.0, Y=0.0, Z=0.0))\n",
      "Block 01 - South - W04\n",
      "('2', Coordinate(X=0.0, Y=0.0, Z=0.0))\n",
      "('3', Coordinate(X=50.0, Y=0.0, Z=0.0))\n",
      "Block 01 - North - W02_1\n",
      "('2', Coordinate(X=50.0, Y=70.0, Z=0.0))\n",
      "('3', Coordinate(X=0.0, Y=70.0, Z=0.0))\n"
     ]
    }
   ],
   "source": [
    "zone_walls = case.geometry.zones.B_01.walls\n",
    "for wall in zone_walls.values():\n",
    "    sg = SurfaceGeometryExtractor(wall)\n",
    "    print(wall.display_name)\n",
    "    for num, coord in sg.surface_geom.items():\n",
    "        if coord.Z == 0:\n",
    "            print((num, coord))"
   ]
  },
  {
   "cell_type": "code",
   "execution_count": 13,
   "metadata": {},
   "outputs": [
    {
     "data": {
      "text/plain": [
       "\n",
       "BUILDINGSURFACE:DETAILED,\n",
       "    Block 01 Storey 0 Wall 0003,    !- Name\n",
       "    wall,                     !- Surface Type\n",
       "    Project Wall,             !- Construction Name\n",
       "    Block 01 Storey 0,        !- Zone Name\n",
       "    ,                         !- Space Name\n",
       "    outdoors,                 !- Outside Boundary Condition\n",
       "    ,                         !- Outside Boundary Condition Object\n",
       "    SunExposed,               !- Sun Exposure\n",
       "    WindExposed,              !- Wind Exposure\n",
       "    autocalculate,            !- View Factor to Ground\n",
       "    autocalculate,            !- Number of Vertices\n",
       "    0,                        !- Vertex 1 Xcoordinate\n",
       "    70,                       !- Vertex 1 Ycoordinate\n",
       "    10,                       !- Vertex 1 Zcoordinate\n",
       "    0,                        !- Vertex 2 Xcoordinate\n",
       "    70,                       !- Vertex 2 Ycoordinate\n",
       "    0,                        !- Vertex 2 Zcoordinate\n",
       "    0,                        !- Vertex 3 Xcoordinate\n",
       "    0,                        !- Vertex 3 Ycoordinate\n",
       "    0,                        !- Vertex 3 Zcoordinate\n",
       "    0,                        !- Vertex 4 Xcoordinate\n",
       "    0,                        !- Vertex 4 Ycoordinate\n",
       "    10;                       !- Vertex 4 Zcoordinate"
      ]
     },
     "execution_count": 13,
     "metadata": {},
     "output_type": "execute_result"
    }
   ],
   "source": [
    "wall_obj = case.geometry.zones.B_01.walls.B_01_West_W03.data\n",
    "wall_obj"
   ]
  },
  {
   "cell_type": "code",
   "execution_count": 20,
   "metadata": {},
   "outputs": [
    {
     "data": {
      "text/plain": [
       "'8'"
      ]
     },
     "execution_count": 20,
     "metadata": {},
     "output_type": "execute_result"
    }
   ],
   "source": [
    "str(8)"
   ]
  },
  {
   "cell_type": "code",
   "execution_count": 21,
   "metadata": {},
   "outputs": [
    {
     "name": "stdout",
     "output_type": "stream",
     "text": [
      "Vertex_1_Xcoordinate 0.0\n",
      "Vertex_1_Ycoordinate 70.0\n",
      "Vertex_1_Zcoordinate 10.0\n",
      "Vertex_2_Xcoordinate 0.0\n",
      "Vertex_2_Ycoordinate 70.0\n",
      "Vertex_2_Zcoordinate 0.0\n",
      "Vertex_3_Xcoordinate 0.0\n",
      "Vertex_3_Ycoordinate 0.0\n",
      "Vertex_3_Zcoordinate 0.0\n",
      "Vertex_4_Xcoordinate 0.0\n",
      "Vertex_4_Ycoordinate 0.0\n",
      "Vertex_4_Zcoordinate 10.0\n",
      "Vertex_5_Xcoordinate <class 'str'>\n",
      "Vertex_5_Ycoordinate <class 'str'>\n",
      "Vertex_5_Zcoordinate <class 'str'>\n",
      "Vertex_6_Xcoordinate <class 'str'>\n",
      "Vertex_6_Ycoordinate <class 'str'>\n",
      "Vertex_6_Zcoordinate <class 'str'>\n",
      "Vertex_7_Xcoordinate <class 'str'>\n",
      "Vertex_7_Ycoordinate <class 'str'>\n",
      "Vertex_7_Zcoordinate <class 'str'>\n",
      "Vertex_8_Xcoordinate <class 'str'>\n",
      "Vertex_8_Ycoordinate <class 'str'>\n",
      "Vertex_8_Zcoordinate <class 'str'>\n",
      "Vertex_9_Xcoordinate <class 'str'>\n",
      "Vertex_9_Ycoordinate <class 'str'>\n",
      "Vertex_9_Zcoordinate <class 'str'>\n",
      "Vertex_10_Xcoordinate <class 'str'>\n",
      "Vertex_10_Ycoordinate <class 'str'>\n",
      "Vertex_10_Zcoordinate <class 'str'>\n",
      "Vertex_11_Xcoordinate <class 'str'>\n",
      "Vertex_11_Ycoordinate <class 'str'>\n",
      "Vertex_11_Zcoordinate <class 'str'>\n",
      "Vertex_12_Xcoordinate <class 'str'>\n",
      "Vertex_12_Ycoordinate <class 'str'>\n",
      "Vertex_12_Zcoordinate <class 'str'>\n",
      "Vertex_13_Xcoordinate <class 'str'>\n",
      "Vertex_13_Ycoordinate <class 'str'>\n",
      "Vertex_13_Zcoordinate <class 'str'>\n",
      "Vertex_14_Xcoordinate <class 'str'>\n",
      "Vertex_14_Ycoordinate <class 'str'>\n",
      "Vertex_14_Zcoordinate <class 'str'>\n",
      "Vertex_15_Xcoordinate <class 'str'>\n",
      "Vertex_15_Ycoordinate <class 'str'>\n",
      "Vertex_15_Zcoordinate <class 'str'>\n",
      "Vertex_16_Xcoordinate <class 'str'>\n",
      "Vertex_16_Ycoordinate <class 'str'>\n",
      "Vertex_16_Zcoordinate <class 'str'>\n",
      "Vertex_17_Xcoordinate <class 'str'>\n",
      "Vertex_17_Ycoordinate <class 'str'>\n",
      "Vertex_17_Zcoordinate <class 'str'>\n",
      "Vertex_18_Xcoordinate <class 'str'>\n",
      "Vertex_18_Ycoordinate <class 'str'>\n",
      "Vertex_18_Zcoordinate <class 'str'>\n",
      "Vertex_19_Xcoordinate <class 'str'>\n",
      "Vertex_19_Ycoordinate <class 'str'>\n",
      "Vertex_19_Zcoordinate <class 'str'>\n",
      "Vertex_20_Xcoordinate <class 'str'>\n",
      "Vertex_20_Ycoordinate <class 'str'>\n",
      "Vertex_20_Zcoordinate <class 'str'>\n",
      "Vertex_21_Xcoordinate <class 'str'>\n",
      "Vertex_21_Ycoordinate <class 'str'>\n",
      "Vertex_21_Zcoordinate <class 'str'>\n",
      "Vertex_22_Xcoordinate <class 'str'>\n",
      "Vertex_22_Ycoordinate <class 'str'>\n",
      "Vertex_22_Zcoordinate <class 'str'>\n",
      "Vertex_23_Xcoordinate <class 'str'>\n",
      "Vertex_23_Ycoordinate <class 'str'>\n",
      "Vertex_23_Zcoordinate <class 'str'>\n",
      "Vertex_24_Xcoordinate <class 'str'>\n",
      "Vertex_24_Ycoordinate <class 'str'>\n",
      "Vertex_24_Zcoordinate <class 'str'>\n",
      "Vertex_25_Xcoordinate <class 'str'>\n",
      "Vertex_25_Ycoordinate <class 'str'>\n",
      "Vertex_25_Zcoordinate <class 'str'>\n",
      "Vertex_26_Xcoordinate <class 'str'>\n",
      "Vertex_26_Ycoordinate <class 'str'>\n",
      "Vertex_26_Zcoordinate <class 'str'>\n",
      "Vertex_27_Xcoordinate <class 'str'>\n",
      "Vertex_27_Ycoordinate <class 'str'>\n",
      "Vertex_27_Zcoordinate <class 'str'>\n",
      "Vertex_28_Xcoordinate <class 'str'>\n",
      "Vertex_28_Ycoordinate <class 'str'>\n",
      "Vertex_28_Zcoordinate <class 'str'>\n",
      "Vertex_29_Xcoordinate <class 'str'>\n",
      "Vertex_29_Ycoordinate <class 'str'>\n",
      "Vertex_29_Zcoordinate <class 'str'>\n",
      "Vertex_30_Xcoordinate <class 'str'>\n",
      "Vertex_30_Ycoordinate <class 'str'>\n",
      "Vertex_30_Zcoordinate <class 'str'>\n",
      "Vertex_31_Xcoordinate <class 'str'>\n",
      "Vertex_31_Ycoordinate <class 'str'>\n",
      "Vertex_31_Zcoordinate <class 'str'>\n",
      "Vertex_32_Xcoordinate <class 'str'>\n",
      "Vertex_32_Ycoordinate <class 'str'>\n",
      "Vertex_32_Zcoordinate <class 'str'>\n",
      "Vertex_33_Xcoordinate <class 'str'>\n",
      "Vertex_33_Ycoordinate <class 'str'>\n",
      "Vertex_33_Zcoordinate <class 'str'>\n",
      "Vertex_34_Xcoordinate <class 'str'>\n",
      "Vertex_34_Ycoordinate <class 'str'>\n",
      "Vertex_34_Zcoordinate <class 'str'>\n",
      "Vertex_35_Xcoordinate <class 'str'>\n",
      "Vertex_35_Ycoordinate <class 'str'>\n",
      "Vertex_35_Zcoordinate <class 'str'>\n",
      "Vertex_36_Xcoordinate <class 'str'>\n",
      "Vertex_36_Ycoordinate <class 'str'>\n",
      "Vertex_36_Zcoordinate <class 'str'>\n",
      "Vertex_37_Xcoordinate <class 'str'>\n",
      "Vertex_37_Ycoordinate <class 'str'>\n",
      "Vertex_37_Zcoordinate <class 'str'>\n",
      "Vertex_38_Xcoordinate <class 'str'>\n",
      "Vertex_38_Ycoordinate <class 'str'>\n",
      "Vertex_38_Zcoordinate <class 'str'>\n",
      "Vertex_39_Xcoordinate <class 'str'>\n",
      "Vertex_39_Ycoordinate <class 'str'>\n",
      "Vertex_39_Zcoordinate <class 'str'>\n",
      "Vertex_40_Xcoordinate <class 'str'>\n",
      "Vertex_40_Ycoordinate <class 'str'>\n",
      "Vertex_40_Zcoordinate <class 'str'>\n",
      "Vertex_41_Xcoordinate <class 'str'>\n",
      "Vertex_41_Ycoordinate <class 'str'>\n",
      "Vertex_41_Zcoordinate <class 'str'>\n",
      "Vertex_42_Xcoordinate <class 'str'>\n",
      "Vertex_42_Ycoordinate <class 'str'>\n",
      "Vertex_42_Zcoordinate <class 'str'>\n",
      "Vertex_43_Xcoordinate <class 'str'>\n",
      "Vertex_43_Ycoordinate <class 'str'>\n",
      "Vertex_43_Zcoordinate <class 'str'>\n",
      "Vertex_44_Xcoordinate <class 'str'>\n",
      "Vertex_44_Ycoordinate <class 'str'>\n",
      "Vertex_44_Zcoordinate <class 'str'>\n",
      "Vertex_45_Xcoordinate <class 'str'>\n",
      "Vertex_45_Ycoordinate <class 'str'>\n",
      "Vertex_45_Zcoordinate <class 'str'>\n",
      "Vertex_46_Xcoordinate <class 'str'>\n",
      "Vertex_46_Ycoordinate <class 'str'>\n",
      "Vertex_46_Zcoordinate <class 'str'>\n",
      "Vertex_47_Xcoordinate <class 'str'>\n",
      "Vertex_47_Ycoordinate <class 'str'>\n",
      "Vertex_47_Zcoordinate <class 'str'>\n",
      "Vertex_48_Xcoordinate <class 'str'>\n",
      "Vertex_48_Ycoordinate <class 'str'>\n",
      "Vertex_48_Zcoordinate <class 'str'>\n",
      "Vertex_49_Xcoordinate <class 'str'>\n",
      "Vertex_49_Ycoordinate <class 'str'>\n",
      "Vertex_49_Zcoordinate <class 'str'>\n",
      "Vertex_50_Xcoordinate <class 'str'>\n",
      "Vertex_50_Ycoordinate <class 'str'>\n",
      "Vertex_50_Zcoordinate <class 'str'>\n",
      "Vertex_51_Xcoordinate <class 'str'>\n",
      "Vertex_51_Ycoordinate <class 'str'>\n",
      "Vertex_51_Zcoordinate <class 'str'>\n",
      "Vertex_52_Xcoordinate <class 'str'>\n",
      "Vertex_52_Ycoordinate <class 'str'>\n",
      "Vertex_52_Zcoordinate <class 'str'>\n",
      "Vertex_53_Xcoordinate <class 'str'>\n",
      "Vertex_53_Ycoordinate <class 'str'>\n",
      "Vertex_53_Zcoordinate <class 'str'>\n",
      "Vertex_54_Xcoordinate <class 'str'>\n",
      "Vertex_54_Ycoordinate <class 'str'>\n",
      "Vertex_54_Zcoordinate <class 'str'>\n",
      "Vertex_55_Xcoordinate <class 'str'>\n",
      "Vertex_55_Ycoordinate <class 'str'>\n",
      "Vertex_55_Zcoordinate <class 'str'>\n",
      "Vertex_56_Xcoordinate <class 'str'>\n",
      "Vertex_56_Ycoordinate <class 'str'>\n",
      "Vertex_56_Zcoordinate <class 'str'>\n",
      "Vertex_57_Xcoordinate <class 'str'>\n",
      "Vertex_57_Ycoordinate <class 'str'>\n",
      "Vertex_57_Zcoordinate <class 'str'>\n",
      "Vertex_58_Xcoordinate <class 'str'>\n",
      "Vertex_58_Ycoordinate <class 'str'>\n",
      "Vertex_58_Zcoordinate <class 'str'>\n",
      "Vertex_59_Xcoordinate <class 'str'>\n",
      "Vertex_59_Ycoordinate <class 'str'>\n",
      "Vertex_59_Zcoordinate <class 'str'>\n",
      "Vertex_60_Xcoordinate <class 'str'>\n",
      "Vertex_60_Ycoordinate <class 'str'>\n",
      "Vertex_60_Zcoordinate <class 'str'>\n",
      "Vertex_61_Xcoordinate <class 'str'>\n",
      "Vertex_61_Ycoordinate <class 'str'>\n",
      "Vertex_61_Zcoordinate <class 'str'>\n",
      "Vertex_62_Xcoordinate <class 'str'>\n",
      "Vertex_62_Ycoordinate <class 'str'>\n",
      "Vertex_62_Zcoordinate <class 'str'>\n",
      "Vertex_63_Xcoordinate <class 'str'>\n",
      "Vertex_63_Ycoordinate <class 'str'>\n",
      "Vertex_63_Zcoordinate <class 'str'>\n",
      "Vertex_64_Xcoordinate <class 'str'>\n",
      "Vertex_64_Ycoordinate <class 'str'>\n",
      "Vertex_64_Zcoordinate <class 'str'>\n",
      "Vertex_65_Xcoordinate <class 'str'>\n",
      "Vertex_65_Ycoordinate <class 'str'>\n",
      "Vertex_65_Zcoordinate <class 'str'>\n",
      "Vertex_66_Xcoordinate <class 'str'>\n",
      "Vertex_66_Ycoordinate <class 'str'>\n",
      "Vertex_66_Zcoordinate <class 'str'>\n",
      "Vertex_67_Xcoordinate <class 'str'>\n",
      "Vertex_67_Ycoordinate <class 'str'>\n",
      "Vertex_67_Zcoordinate <class 'str'>\n",
      "Vertex_68_Xcoordinate <class 'str'>\n",
      "Vertex_68_Ycoordinate <class 'str'>\n",
      "Vertex_68_Zcoordinate <class 'str'>\n",
      "Vertex_69_Xcoordinate <class 'str'>\n",
      "Vertex_69_Ycoordinate <class 'str'>\n",
      "Vertex_69_Zcoordinate <class 'str'>\n",
      "Vertex_70_Xcoordinate <class 'str'>\n",
      "Vertex_70_Ycoordinate <class 'str'>\n",
      "Vertex_70_Zcoordinate <class 'str'>\n",
      "Vertex_71_Xcoordinate <class 'str'>\n",
      "Vertex_71_Ycoordinate <class 'str'>\n",
      "Vertex_71_Zcoordinate <class 'str'>\n",
      "Vertex_72_Xcoordinate <class 'str'>\n",
      "Vertex_72_Ycoordinate <class 'str'>\n",
      "Vertex_72_Zcoordinate <class 'str'>\n",
      "Vertex_73_Xcoordinate <class 'str'>\n",
      "Vertex_73_Ycoordinate <class 'str'>\n",
      "Vertex_73_Zcoordinate <class 'str'>\n",
      "Vertex_74_Xcoordinate <class 'str'>\n",
      "Vertex_74_Ycoordinate <class 'str'>\n",
      "Vertex_74_Zcoordinate <class 'str'>\n",
      "Vertex_75_Xcoordinate <class 'str'>\n",
      "Vertex_75_Ycoordinate <class 'str'>\n",
      "Vertex_75_Zcoordinate <class 'str'>\n",
      "Vertex_76_Xcoordinate <class 'str'>\n",
      "Vertex_76_Ycoordinate <class 'str'>\n",
      "Vertex_76_Zcoordinate <class 'str'>\n",
      "Vertex_77_Xcoordinate <class 'str'>\n",
      "Vertex_77_Ycoordinate <class 'str'>\n",
      "Vertex_77_Zcoordinate <class 'str'>\n",
      "Vertex_78_Xcoordinate <class 'str'>\n",
      "Vertex_78_Ycoordinate <class 'str'>\n",
      "Vertex_78_Zcoordinate <class 'str'>\n",
      "Vertex_79_Xcoordinate <class 'str'>\n",
      "Vertex_79_Ycoordinate <class 'str'>\n",
      "Vertex_79_Zcoordinate <class 'str'>\n",
      "Vertex_80_Xcoordinate <class 'str'>\n",
      "Vertex_80_Ycoordinate <class 'str'>\n",
      "Vertex_80_Zcoordinate <class 'str'>\n",
      "Vertex_81_Xcoordinate <class 'str'>\n",
      "Vertex_81_Ycoordinate <class 'str'>\n",
      "Vertex_81_Zcoordinate <class 'str'>\n",
      "Vertex_82_Xcoordinate <class 'str'>\n",
      "Vertex_82_Ycoordinate <class 'str'>\n",
      "Vertex_82_Zcoordinate <class 'str'>\n",
      "Vertex_83_Xcoordinate <class 'str'>\n",
      "Vertex_83_Ycoordinate <class 'str'>\n",
      "Vertex_83_Zcoordinate <class 'str'>\n",
      "Vertex_84_Xcoordinate <class 'str'>\n",
      "Vertex_84_Ycoordinate <class 'str'>\n",
      "Vertex_84_Zcoordinate <class 'str'>\n",
      "Vertex_85_Xcoordinate <class 'str'>\n",
      "Vertex_85_Ycoordinate <class 'str'>\n",
      "Vertex_85_Zcoordinate <class 'str'>\n",
      "Vertex_86_Xcoordinate <class 'str'>\n",
      "Vertex_86_Ycoordinate <class 'str'>\n",
      "Vertex_86_Zcoordinate <class 'str'>\n",
      "Vertex_87_Xcoordinate <class 'str'>\n",
      "Vertex_87_Ycoordinate <class 'str'>\n",
      "Vertex_87_Zcoordinate <class 'str'>\n",
      "Vertex_88_Xcoordinate <class 'str'>\n",
      "Vertex_88_Ycoordinate <class 'str'>\n",
      "Vertex_88_Zcoordinate <class 'str'>\n",
      "Vertex_89_Xcoordinate <class 'str'>\n",
      "Vertex_89_Ycoordinate <class 'str'>\n",
      "Vertex_89_Zcoordinate <class 'str'>\n",
      "Vertex_90_Xcoordinate <class 'str'>\n",
      "Vertex_90_Ycoordinate <class 'str'>\n",
      "Vertex_90_Zcoordinate <class 'str'>\n",
      "Vertex_91_Xcoordinate <class 'str'>\n",
      "Vertex_91_Ycoordinate <class 'str'>\n",
      "Vertex_91_Zcoordinate <class 'str'>\n",
      "Vertex_92_Xcoordinate <class 'str'>\n",
      "Vertex_92_Ycoordinate <class 'str'>\n",
      "Vertex_92_Zcoordinate <class 'str'>\n",
      "Vertex_93_Xcoordinate <class 'str'>\n",
      "Vertex_93_Ycoordinate <class 'str'>\n",
      "Vertex_93_Zcoordinate <class 'str'>\n",
      "Vertex_94_Xcoordinate <class 'str'>\n",
      "Vertex_94_Ycoordinate <class 'str'>\n",
      "Vertex_94_Zcoordinate <class 'str'>\n",
      "Vertex_95_Xcoordinate <class 'str'>\n",
      "Vertex_95_Ycoordinate <class 'str'>\n",
      "Vertex_95_Zcoordinate <class 'str'>\n",
      "Vertex_96_Xcoordinate <class 'str'>\n",
      "Vertex_96_Ycoordinate <class 'str'>\n",
      "Vertex_96_Zcoordinate <class 'str'>\n",
      "Vertex_97_Xcoordinate <class 'str'>\n",
      "Vertex_97_Ycoordinate <class 'str'>\n",
      "Vertex_97_Zcoordinate <class 'str'>\n",
      "Vertex_98_Xcoordinate <class 'str'>\n",
      "Vertex_98_Ycoordinate <class 'str'>\n",
      "Vertex_98_Zcoordinate <class 'str'>\n",
      "Vertex_99_Xcoordinate <class 'str'>\n",
      "Vertex_99_Ycoordinate <class 'str'>\n",
      "Vertex_99_Zcoordinate <class 'str'>\n",
      "Vertex_100_Xcoordinate <class 'str'>\n",
      "Vertex_100_Ycoordinate <class 'str'>\n",
      "Vertex_100_Zcoordinate <class 'str'>\n",
      "Vertex_101_Xcoordinate <class 'str'>\n",
      "Vertex_101_Ycoordinate <class 'str'>\n",
      "Vertex_101_Zcoordinate <class 'str'>\n",
      "Vertex_102_Xcoordinate <class 'str'>\n",
      "Vertex_102_Ycoordinate <class 'str'>\n",
      "Vertex_102_Zcoordinate <class 'str'>\n",
      "Vertex_103_Xcoordinate <class 'str'>\n",
      "Vertex_103_Ycoordinate <class 'str'>\n",
      "Vertex_103_Zcoordinate <class 'str'>\n",
      "Vertex_104_Xcoordinate <class 'str'>\n",
      "Vertex_104_Ycoordinate <class 'str'>\n",
      "Vertex_104_Zcoordinate <class 'str'>\n",
      "Vertex_105_Xcoordinate <class 'str'>\n",
      "Vertex_105_Ycoordinate <class 'str'>\n",
      "Vertex_105_Zcoordinate <class 'str'>\n",
      "Vertex_106_Xcoordinate <class 'str'>\n",
      "Vertex_106_Ycoordinate <class 'str'>\n",
      "Vertex_106_Zcoordinate <class 'str'>\n",
      "Vertex_107_Xcoordinate <class 'str'>\n",
      "Vertex_107_Ycoordinate <class 'str'>\n",
      "Vertex_107_Zcoordinate <class 'str'>\n",
      "Vertex_108_Xcoordinate <class 'str'>\n",
      "Vertex_108_Ycoordinate <class 'str'>\n",
      "Vertex_108_Zcoordinate <class 'str'>\n",
      "Vertex_109_Xcoordinate <class 'str'>\n",
      "Vertex_109_Ycoordinate <class 'str'>\n",
      "Vertex_109_Zcoordinate <class 'str'>\n",
      "Vertex_110_Xcoordinate <class 'str'>\n",
      "Vertex_110_Ycoordinate <class 'str'>\n",
      "Vertex_110_Zcoordinate <class 'str'>\n",
      "Vertex_111_Xcoordinate <class 'str'>\n",
      "Vertex_111_Ycoordinate <class 'str'>\n",
      "Vertex_111_Zcoordinate <class 'str'>\n",
      "Vertex_112_Xcoordinate <class 'str'>\n",
      "Vertex_112_Ycoordinate <class 'str'>\n",
      "Vertex_112_Zcoordinate <class 'str'>\n",
      "Vertex_113_Xcoordinate <class 'str'>\n",
      "Vertex_113_Ycoordinate <class 'str'>\n",
      "Vertex_113_Zcoordinate <class 'str'>\n",
      "Vertex_114_Xcoordinate <class 'str'>\n",
      "Vertex_114_Ycoordinate <class 'str'>\n",
      "Vertex_114_Zcoordinate <class 'str'>\n",
      "Vertex_115_Xcoordinate <class 'str'>\n",
      "Vertex_115_Ycoordinate <class 'str'>\n",
      "Vertex_115_Zcoordinate <class 'str'>\n",
      "Vertex_116_Xcoordinate <class 'str'>\n",
      "Vertex_116_Ycoordinate <class 'str'>\n",
      "Vertex_116_Zcoordinate <class 'str'>\n",
      "Vertex_117_Xcoordinate <class 'str'>\n",
      "Vertex_117_Ycoordinate <class 'str'>\n",
      "Vertex_117_Zcoordinate <class 'str'>\n",
      "Vertex_118_Xcoordinate <class 'str'>\n",
      "Vertex_118_Ycoordinate <class 'str'>\n",
      "Vertex_118_Zcoordinate <class 'str'>\n",
      "Vertex_119_Xcoordinate <class 'str'>\n",
      "Vertex_119_Ycoordinate <class 'str'>\n",
      "Vertex_119_Zcoordinate <class 'str'>\n",
      "Vertex_120_Xcoordinate <class 'str'>\n",
      "Vertex_120_Ycoordinate <class 'str'>\n",
      "Vertex_120_Zcoordinate <class 'str'>\n"
     ]
    }
   ],
   "source": [
    "for fieldname in wall_obj.fieldnames:\n",
    "    if \"coordinate\" in fieldname:\n",
    "        if wall_obj[fieldname] != str():\n",
    "            print(fieldname, wall_obj[fieldname])\n",
    "        else:\n",
    "            print(fieldname, type(wall_obj[fieldname]))\n",
    "            assert wall_obj[fieldname] == str()"
   ]
  },
  {
   "cell_type": "code",
   "execution_count": 12,
   "metadata": {},
   "outputs": [
    {
     "data": {
      "text/plain": [
       "0"
      ]
     },
     "execution_count": 12,
     "metadata": {},
     "output_type": "execute_result"
    }
   ],
   "source": [
    "h = {\"a\": 0}\n",
    "h[\"a\"]"
   ]
  },
  {
   "cell_type": "code",
   "execution_count": 6,
   "metadata": {},
   "outputs": [],
   "source": [
    "wall = case.geometry.zones.B_00.walls.B_00_East_W01\n",
    "sg = SurfaceGeometryExtractor(wall)"
   ]
  },
  {
   "cell_type": "code",
   "execution_count": 7,
   "metadata": {},
   "outputs": [],
   "source": [
    "from shapely import LineString"
   ]
  },
  {
   "cell_type": "code",
   "execution_count": null,
   "metadata": {},
   "outputs": [],
   "source": []
  },
  {
   "cell_type": "code",
   "execution_count": 8,
   "metadata": {},
   "outputs": [
    {
     "data": {
      "text/plain": [
       "[[100.0, 70.0], [100.0, 100.0]]"
      ]
     },
     "execution_count": 8,
     "metadata": {},
     "output_type": "execute_result"
    }
   ],
   "source": [
    "# getting the line that defines the base of this wall..\n",
    "vertices = []\n",
    "for coord in sg.surface_geom.values():\n",
    "    if coord.Z == 0:\n",
    "        vertices.append([coord.X, coord.Y])\n",
    "\n",
    "vertices"
   ]
  },
  {
   "cell_type": "code",
   "execution_count": 9,
   "metadata": {},
   "outputs": [
    {
     "data": {
      "image/svg+xml": [
       "<svg xmlns=\"http://www.w3.org/2000/svg\" xmlns:xlink=\"http://www.w3.org/1999/xlink\" width=\"100.0\" height=\"100.0\" viewBox=\"98.8 68.8 2.4000000000000057 32.400000000000006\" preserveAspectRatio=\"xMinYMin meet\"><g transform=\"matrix(1,0,0,-1,0,170.0)\"><polyline fill=\"none\" stroke=\"#66cc99\" stroke-width=\"0.6480000000000001\" points=\"100.0,70.0 100.0,100.0\" opacity=\"0.8\" /></g></svg>"
      ],
      "text/plain": [
       "<LINESTRING (100 70, 100 100)>"
      ]
     },
     "execution_count": 9,
     "metadata": {},
     "output_type": "execute_result"
    }
   ],
   "source": [
    "LineString(vertices)"
   ]
  },
  {
   "cell_type": "code",
   "execution_count": 4,
   "metadata": {},
   "outputs": [
    {
     "data": {
      "text/plain": [
       "\n",
       "BUILDINGSURFACE:DETAILED,\n",
       "    Block 00 Storey 0 Wall 0001,    !- Name\n",
       "    wall,                     !- Surface Type\n",
       "    Project Wall,             !- Construction Name\n",
       "    Block 00 Storey 0,        !- Zone Name\n",
       "    ,                         !- Space Name\n",
       "    outdoors,                 !- Outside Boundary Condition\n",
       "    ,                         !- Outside Boundary Condition Object\n",
       "    SunExposed,               !- Sun Exposure\n",
       "    WindExposed,              !- Wind Exposure\n",
       "    autocalculate,            !- View Factor to Ground\n",
       "    autocalculate,            !- Number of Vertices\n",
       "    100,                      !- Vertex 1 Xcoordinate\n",
       "    70,                       !- Vertex 1 Ycoordinate\n",
       "    10,                       !- Vertex 1 Zcoordinate\n",
       "    100,                      !- Vertex 2 Xcoordinate\n",
       "    70,                       !- Vertex 2 Ycoordinate\n",
       "    0,                        !- Vertex 2 Zcoordinate\n",
       "    100,                      !- Vertex 3 Xcoordinate\n",
       "    100,                      !- Vertex 3 Ycoordinate\n",
       "    0,                        !- Vertex 3 Zcoordinate\n",
       "    100,                      !- Vertex 4 Xcoordinate\n",
       "    100,                      !- Vertex 4 Ycoordinate\n",
       "    10;                       !- Vertex 4 Zcoordinate"
      ]
     },
     "execution_count": 4,
     "metadata": {},
     "output_type": "execute_result"
    }
   ],
   "source": [
    "for wall in zone_walls.values():\n",
    "    geom = SurfaceGeometryExtractor(wall)\n",
    "    "
   ]
  },
  {
   "cell_type": "code",
   "execution_count": 5,
   "metadata": {},
   "outputs": [],
   "source": [
    "sge = SurfaceGeometryExtractor(wall)"
   ]
  },
  {
   "cell_type": "code",
   "execution_count": 6,
   "metadata": {},
   "outputs": [
    {
     "data": {
      "text/plain": [
       "Block 00 - East - W01 \n",
       " {'1': Coordinate(X=100.0, Y=70.0, Z=10.0),\n",
       " '2': Coordinate(X=100.0, Y=70.0, Z=0.0),\n",
       " '3': Coordinate(X=100.0, Y=100.0, Z=0.0),\n",
       " '4': Coordinate(X=100.0, Y=100.0, Z=10.0)}"
      ]
     },
     "execution_count": 6,
     "metadata": {},
     "output_type": "execute_result"
    }
   ],
   "source": [
    "sge"
   ]
  }
 ],
 "metadata": {
  "kernelspec": {
   "display_name": "gqenv",
   "language": "python",
   "name": "python3"
  },
  "language_info": {
   "codemirror_mode": {
    "name": "ipython",
    "version": 3
   },
   "file_extension": ".py",
   "mimetype": "text/x-python",
   "name": "python",
   "nbconvert_exporter": "python",
   "pygments_lexer": "ipython3",
   "version": "3.9.15"
  }
 },
 "nbformat": 4,
 "nbformat_minor": 2
}
