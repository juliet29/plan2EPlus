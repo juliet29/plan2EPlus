{
 "cells": [
  {
   "cell_type": "code",
   "execution_count": 1,
   "metadata": {},
   "outputs": [
    {
     "name": "stdout",
     "output_type": "stream",
     "text": [
      "Added 5 walls \n",
      "Added 4 walls \n",
      "skipping Block 01 Storey 0 Wall 0002_1 Door\n"
     ]
    }
   ],
   "source": [
    "import sys\n",
    "sys.path.append(\"/Users/julietnwagwuume-ezeoke/_UILCode/gqe-phd/geomeppy/_scripts\")\n",
    "\n",
    "\n",
    "from case_edits.recipes.two_zone import ezcase as ez\n",
    "from geometry.surface_geom import SurfaceGeometryExtractor"
   ]
  },
  {
   "cell_type": "code",
   "execution_count": 2,
   "metadata": {},
   "outputs": [],
   "source": [
    "case = ez.case"
   ]
  },
  {
   "cell_type": "code",
   "execution_count": 3,
   "metadata": {},
   "outputs": [],
   "source": [
    "wall = case.geometry.zones.B_00.walls.B_00_East_W01"
   ]
  },
  {
   "cell_type": "code",
   "execution_count": 4,
   "metadata": {},
   "outputs": [
    {
     "data": {
      "text/plain": [
       "\n",
       "BUILDINGSURFACE:DETAILED,\n",
       "    Block 00 Storey 0 Wall 0001,    !- Name\n",
       "    wall,                     !- Surface Type\n",
       "    Project Wall,             !- Construction Name\n",
       "    Block 00 Storey 0,        !- Zone Name\n",
       "    ,                         !- Space Name\n",
       "    outdoors,                 !- Outside Boundary Condition\n",
       "    ,                         !- Outside Boundary Condition Object\n",
       "    SunExposed,               !- Sun Exposure\n",
       "    WindExposed,              !- Wind Exposure\n",
       "    autocalculate,            !- View Factor to Ground\n",
       "    autocalculate,            !- Number of Vertices\n",
       "    100,                      !- Vertex 1 Xcoordinate\n",
       "    70,                       !- Vertex 1 Ycoordinate\n",
       "    10,                       !- Vertex 1 Zcoordinate\n",
       "    100,                      !- Vertex 2 Xcoordinate\n",
       "    70,                       !- Vertex 2 Ycoordinate\n",
       "    0,                        !- Vertex 2 Zcoordinate\n",
       "    100,                      !- Vertex 3 Xcoordinate\n",
       "    100,                      !- Vertex 3 Ycoordinate\n",
       "    0,                        !- Vertex 3 Zcoordinate\n",
       "    100,                      !- Vertex 4 Xcoordinate\n",
       "    100,                      !- Vertex 4 Ycoordinate\n",
       "    10;                       !- Vertex 4 Zcoordinate"
      ]
     },
     "execution_count": 4,
     "metadata": {},
     "output_type": "execute_result"
    }
   ],
   "source": [
    "wall_obj = case.geometry.zones.B_00.walls.B_00_East_W01.data\n",
    "wall_obj"
   ]
  },
  {
   "cell_type": "code",
   "execution_count": 5,
   "metadata": {},
   "outputs": [],
   "source": [
    "sge = SurfaceGeometryExtractor(wall)"
   ]
  },
  {
   "cell_type": "code",
   "execution_count": 6,
   "metadata": {},
   "outputs": [
    {
     "data": {
      "text/plain": [
       "Block 00 - East - W01 \n",
       " {'1': Coordinate(X=100.0, Y=70.0, Z=10.0),\n",
       " '2': Coordinate(X=100.0, Y=70.0, Z=0.0),\n",
       " '3': Coordinate(X=100.0, Y=100.0, Z=0.0),\n",
       " '4': Coordinate(X=100.0, Y=100.0, Z=10.0)}"
      ]
     },
     "execution_count": 6,
     "metadata": {},
     "output_type": "execute_result"
    }
   ],
   "source": [
    "sge"
   ]
  }
 ],
 "metadata": {
  "kernelspec": {
   "display_name": "gqenv",
   "language": "python",
   "name": "python3"
  },
  "language_info": {
   "codemirror_mode": {
    "name": "ipython",
    "version": 3
   },
   "file_extension": ".py",
   "mimetype": "text/x-python",
   "name": "python",
   "nbconvert_exporter": "python",
   "pygments_lexer": "ipython3",
   "version": "3.9.15"
  }
 },
 "nbformat": 4,
 "nbformat_minor": 2
}
