{
 "cells": [
  {
   "cell_type": "code",
   "execution_count": 1,
   "metadata": {},
   "outputs": [],
   "source": [
    "import sys\n",
    "sys.path.append(\"/Users/julietnwagwuume-ezeoke/_UILCode/gqe-phd/geomeppy/_scripts\")\n",
    "\n",
    "from ladybug.sql import SQLiteResult\n",
    "from ladybug.analysisperiod import AnalysisPeriod\n",
    "\n",
    "import plotly.graph_objects as go\n",
    "from plotly.subplots import make_subplots\n",
    "\n",
    "import plotly.express as px\n",
    "\n",
    "from outputs.sql import SQLReader\n",
    "\n",
    "from geomeppy import IDF\n",
    "from geometry.geometry_parser import GeometryParser\n",
    "from outputs.output_data import GeometryOutputData"
   ]
  },
  {
   "cell_type": "code",
   "execution_count": 2,
   "metadata": {},
   "outputs": [],
   "source": [
    "sql = SQLReader(\"test03\")"
   ]
  },
  {
   "cell_type": "code",
   "execution_count": 3,
   "metadata": {},
   "outputs": [],
   "source": [
    "sql.match_geom_sql()"
   ]
  },
  {
   "cell_type": "code",
   "execution_count": 10,
   "metadata": {},
   "outputs": [
    {
     "data": {
      "text/plain": [
       "-11.316936659309274"
      ]
     },
     "execution_count": 10,
     "metadata": {},
     "output_type": "execute_result"
    }
   ],
   "source": [
    "sql.zone_dict[\"BLOCK NORTH STOREY 0\"].output_data[\"zone_mean_air_temp12-21\"].dataset.values[0]"
   ]
  },
  {
   "cell_type": "code",
   "execution_count": 6,
   "metadata": {},
   "outputs": [],
   "source": [
    "sql.get_zone_level_data(2)"
   ]
  },
  {
   "cell_type": "code",
   "execution_count": 14,
   "metadata": {},
   "outputs": [
    {
     "data": {
      "text/plain": [
       "'BLOCK NORTH STOREY 0'"
      ]
     },
     "execution_count": 14,
     "metadata": {},
     "output_type": "execute_result"
    }
   ],
   "source": [
    "sql.zone_geoms[0].name.upper()"
   ]
  },
  {
   "cell_type": "code",
   "execution_count": 20,
   "metadata": {},
   "outputs": [
    {
     "data": {
      "text/plain": [
       "{'BLOCK NORTH STOREY 0': Zone(Block North Storey 0),\n",
       " 'BLOCK WEST STOREY 0': Zone(Block West Storey 0)}"
      ]
     },
     "execution_count": 20,
     "metadata": {},
     "output_type": "execute_result"
    }
   ],
   "source": [
    "geom_dict = {i.name.upper(): i  for i in sql.zone_geoms}\n",
    "geom_dict"
   ]
  },
  {
   "cell_type": "code",
   "execution_count": 17,
   "metadata": {},
   "outputs": [
    {
     "data": {
      "text/plain": [
       "['BLOCK NORTH STOREY 0', 'BLOCK WEST STOREY 0']"
      ]
     },
     "execution_count": 17,
     "metadata": {},
     "output_type": "execute_result"
    }
   ],
   "source": [
    "geom_names_upper = [i.name.upper() for i in sql.zone_geoms]\n",
    "geom_names_upper\n"
   ]
  },
  {
   "cell_type": "code",
   "execution_count": null,
   "metadata": {},
   "outputs": [],
   "source": []
  },
  {
   "cell_type": "code",
   "execution_count": 18,
   "metadata": {},
   "outputs": [
    {
     "name": "stdout",
     "output_type": "stream",
     "text": [
      "BLOCK NORTH STOREY 0\n",
      "BLOCK WEST STOREY 0\n",
      "BLOCK NORTH STOREY 0\n",
      "BLOCK WEST STOREY 0\n"
     ]
    }
   ],
   "source": [
    "for dataset in sql.collection:\n",
    "    zone_name = dataset.header.to_dict()[\"metadata\"][\"Zone\"] \n",
    "    geom_dict[zone_name].update_output_data(GeometryOutputData(dataset), \"out_var_ap\")"
   ]
  },
  {
   "cell_type": "code",
   "execution_count": 48,
   "metadata": {},
   "outputs": [
    {
     "data": {
      "text/plain": [
       "{'data_type': {'name': 'Temperature',\n",
       "  'data_type': 'Temperature',\n",
       "  'type': 'DataType'},\n",
       " 'unit': 'C',\n",
       " 'analysis_period': {'st_month': 12,\n",
       "  'st_day': 21,\n",
       "  'st_hour': 0,\n",
       "  'end_month': 12,\n",
       "  'end_day': 21,\n",
       "  'end_hour': 23,\n",
       "  'timestep': 4,\n",
       "  'is_leap_year': False,\n",
       "  'type': 'AnalysisPeriod'},\n",
       " 'metadata': {'type': 'Zone Mean Air Temperature',\n",
       "  'Zone': 'BLOCK NORTH STOREY 0'},\n",
       " 'type': 'Header'}"
      ]
     },
     "execution_count": 48,
     "metadata": {},
     "output_type": "execute_result"
    }
   ],
   "source": [
    "sql.collection[0].header.to_dict()"
   ]
  },
  {
   "cell_type": "code",
   "execution_count": 33,
   "metadata": {},
   "outputs": [
    {
     "ename": "TypeError",
     "evalue": "__init__() got an unexpected keyword argument 'type'",
     "output_type": "error",
     "traceback": [
      "\u001b[0;31m---------------------------------------------------------------------------\u001b[0m",
      "\u001b[0;31mTypeError\u001b[0m                                 Traceback (most recent call last)",
      "Cell \u001b[0;32mIn[33], line 1\u001b[0m\n\u001b[0;32m----> 1\u001b[0m \u001b[43mAnalysisPeriod\u001b[49m\u001b[43m(\u001b[49m\u001b[38;5;241;43m*\u001b[39;49m\u001b[38;5;241;43m*\u001b[39;49m\u001b[43msql\u001b[49m\u001b[38;5;241;43m.\u001b[39;49m\u001b[43mcollection\u001b[49m\u001b[43m[\u001b[49m\u001b[38;5;241;43m0\u001b[39;49m\u001b[43m]\u001b[49m\u001b[38;5;241;43m.\u001b[39;49m\u001b[43mheader\u001b[49m\u001b[38;5;241;43m.\u001b[39;49m\u001b[43mto_dict\u001b[49m\u001b[43m(\u001b[49m\u001b[43m)\u001b[49m\u001b[43m[\u001b[49m\u001b[38;5;124;43m\"\u001b[39;49m\u001b[38;5;124;43manalysis_period\u001b[39;49m\u001b[38;5;124;43m\"\u001b[39;49m\u001b[43m]\u001b[49m\u001b[43m)\u001b[49m\n",
      "\u001b[0;31mTypeError\u001b[0m: __init__() got an unexpected keyword argument 'type'"
     ]
    }
   ],
   "source": [
    "AnalysisPeriod(**sql.collection[0].header.to_dict()[\"analysis_period\"])"
   ]
  },
  {
   "cell_type": "code",
   "execution_count": 53,
   "metadata": {},
   "outputs": [],
   "source": [
    "def create_analysis_period(ap_dict):\n",
    "    ap_dict.pop(\"type\")\n",
    "    ap = AnalysisPeriod(**ap_dict)\n",
    "    ap_name = f\"{ap.st_month}-{ap.st_day}\"\n",
    "    return ap, ap_name"
   ]
  },
  {
   "cell_type": "code",
   "execution_count": 54,
   "metadata": {},
   "outputs": [
    {
     "data": {
      "text/plain": [
       "21"
      ]
     },
     "execution_count": 54,
     "metadata": {},
     "output_type": "execute_result"
    }
   ],
   "source": [
    "p, name = create_analysis_period(sql.collection[0].header.to_dict()[\"analysis_period\"])\n",
    "p.st_day"
   ]
  },
  {
   "cell_type": "code",
   "execution_count": 52,
   "metadata": {},
   "outputs": [
    {
     "data": {
      "text/plain": [
       "'12-21'"
      ]
     },
     "execution_count": 52,
     "metadata": {},
     "output_type": "execute_result"
    }
   ],
   "source": []
  },
  {
   "cell_type": "code",
   "execution_count": 49,
   "metadata": {},
   "outputs": [
    {
     "data": {
      "text/plain": [
       "12"
      ]
     },
     "execution_count": 49,
     "metadata": {},
     "output_type": "execute_result"
    }
   ],
   "source": []
  },
  {
   "cell_type": "code",
   "execution_count": 16,
   "metadata": {},
   "outputs": [
    {
     "data": {
      "text/plain": [
       "True"
      ]
     },
     "execution_count": 16,
     "metadata": {},
     "output_type": "execute_result"
    }
   ],
   "source": [
    "sql.collection[0].header.to_dict()[\"metadata\"][\"Zone\"] == sql.zone_geoms[0].name.upper()"
   ]
  },
  {
   "cell_type": "code",
   "execution_count": 44,
   "metadata": {},
   "outputs": [
    {
     "data": {
      "text/plain": [
       "'Temperature'"
      ]
     },
     "execution_count": 44,
     "metadata": {},
     "output_type": "execute_result"
    }
   ],
   "source": [
    "sql.collection[0].header.to_dict()[\"data_type\"][\"name\"]"
   ]
  },
  {
   "cell_type": "code",
   "execution_count": 21,
   "metadata": {},
   "outputs": [],
   "source": [
    "ENERGY_PLUS_LOCATION = \"../../../../../Applications/EnergyPlus-22-2-0\"\n",
    "IDD_FILE = f\"{ENERGY_PLUS_LOCATION}/Energy+.idd\"\n",
    "IDF.setiddname(IDD_FILE)"
   ]
  },
  {
   "cell_type": "code",
   "execution_count": 12,
   "metadata": {},
   "outputs": [
    {
     "data": {
      "text/plain": [
       "<outputs.sql.SQLReader at 0x12056dd30>"
      ]
     },
     "execution_count": 12,
     "metadata": {},
     "output_type": "execute_result"
    }
   ],
   "source": [
    "SQL_PATH = \"cases/test03/results/eplusout.sql\"\n",
    "sql = SQLReader(SQL_PATH)\n",
    "sql\n"
   ]
  },
  {
   "cell_type": "code",
   "execution_count": 13,
   "metadata": {},
   "outputs": [],
   "source": [
    "sql.get_zone_data(2)\n",
    "sql.get_zone_data(3)"
   ]
  },
  {
   "cell_type": "code",
   "execution_count": 14,
   "metadata": {},
   "outputs": [],
   "source": [
    "sql.prepare_spatial_data([4,8,12])"
   ]
  },
  {
   "cell_type": "code",
   "execution_count": 17,
   "metadata": {},
   "outputs": [
    {
     "data": {
      "text/plain": [
       "{4: [['BLOCK NORTH STOREY 0', 30.331, 'rgb(48, 18, 59)'],\n",
       "  ['BLOCK WEST STOREY 0', 31.073, 'rgb(252, 163, 47)']],\n",
       " 8: [['BLOCK NORTH STOREY 0', 30.479, 'rgb(70, 115, 234)'],\n",
       "  ['BLOCK WEST STOREY 0', 31.309, 'rgb(180, 27, 1)']],\n",
       " 12: [['BLOCK NORTH STOREY 0', 30.472, 'rgb(69, 110, 228)'],\n",
       "  ['BLOCK WEST STOREY 0', 31.39, 'rgb(122, 4, 2)']]}"
      ]
     },
     "execution_count": 17,
     "metadata": {},
     "output_type": "execute_result"
    }
   ],
   "source": [
    "sql.spatial_data"
   ]
  },
  {
   "cell_type": "code",
   "execution_count": 16,
   "metadata": {},
   "outputs": [],
   "source": [
    "sql.prepare_spatial_colors()"
   ]
  },
  {
   "cell_type": "code",
   "execution_count": null,
   "metadata": {},
   "outputs": [
    {
     "data": {
      "text/plain": [
       "[21 Jul 01:00, 21 Jul 02:00, 21 Jul 03:00]"
      ]
     },
     "execution_count": 7,
     "metadata": {},
     "output_type": "execute_result"
    }
   ],
   "source": [
    "sql.spatial_times"
   ]
  },
  {
   "cell_type": "code",
   "execution_count": 22,
   "metadata": {},
   "outputs": [],
   "source": [
    "IDF_PATH = \"/Users/julietnwagwuume-ezeoke/_UILCode/gqe-phd/geomeppy/cases/test03/out.idf\"\n",
    "idf = IDF(IDF_PATH)"
   ]
  },
  {
   "cell_type": "code",
   "execution_count": 23,
   "metadata": {},
   "outputs": [],
   "source": [
    "geo = GeometryParser(idf)"
   ]
  },
  {
   "cell_type": "code",
   "execution_count": 24,
   "metadata": {},
   "outputs": [],
   "source": [
    "geo.get_zones()"
   ]
  },
  {
   "cell_type": "code",
   "execution_count": 25,
   "metadata": {},
   "outputs": [
    {
     "data": {
      "text/plain": [
       "[Zone(Block North Storey 0), Zone(Block West Storey 0)]"
      ]
     },
     "execution_count": 25,
     "metadata": {},
     "output_type": "execute_result"
    }
   ],
   "source": [
    "geo.zones"
   ]
  }
 ],
 "metadata": {
  "kernelspec": {
   "display_name": "Python 3",
   "language": "python",
   "name": "python3"
  },
  "language_info": {
   "codemirror_mode": {
    "name": "ipython",
    "version": 3
   },
   "file_extension": ".py",
   "mimetype": "text/x-python",
   "name": "python",
   "nbconvert_exporter": "python",
   "pygments_lexer": "ipython3",
   "version": "3.9.15"
  }
 },
 "nbformat": 4,
 "nbformat_minor": 2
}
