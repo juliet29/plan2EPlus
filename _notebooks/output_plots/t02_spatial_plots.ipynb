{
 "cells": [
  {
   "cell_type": "code",
   "execution_count": 19,
   "metadata": {},
   "outputs": [],
   "source": [
    "import sys\n",
    "sys.path.append(\"/Users/julietnwagwuume-ezeoke/_UILCode/gqe-phd/geomeppy/_scripts\")\n",
    "\n",
    "from ladybug.sql import SQLiteResult\n",
    "\n",
    "import plotly.graph_objects as go\n",
    "from plotly.subplots import make_subplots\n",
    "\n",
    "import plotly.express as px\n",
    "\n",
    "from outputs.sql import SQLReader\n",
    "\n",
    "from geomeppy import IDF\n",
    "from geometry.geometry_parser import GeometryParser"
   ]
  },
  {
   "cell_type": "code",
   "execution_count": 21,
   "metadata": {},
   "outputs": [],
   "source": [
    "ENERGY_PLUS_LOCATION = \"../../../../../Applications/EnergyPlus-22-2-0\"\n",
    "IDD_FILE = f\"{ENERGY_PLUS_LOCATION}/Energy+.idd\"\n",
    "IDF.setiddname(IDD_FILE)"
   ]
  },
  {
   "cell_type": "code",
   "execution_count": 12,
   "metadata": {},
   "outputs": [
    {
     "data": {
      "text/plain": [
       "<outputs.sql.SQLReader at 0x12056dd30>"
      ]
     },
     "execution_count": 12,
     "metadata": {},
     "output_type": "execute_result"
    }
   ],
   "source": [
    "SQL_PATH = \"cases/test03/results/eplusout.sql\"\n",
    "sql = SQLReader(SQL_PATH)\n",
    "sql\n"
   ]
  },
  {
   "cell_type": "code",
   "execution_count": 13,
   "metadata": {},
   "outputs": [],
   "source": [
    "sql.get_zone_data(2)\n",
    "sql.get_zone_data(3)"
   ]
  },
  {
   "cell_type": "code",
   "execution_count": 14,
   "metadata": {},
   "outputs": [],
   "source": [
    "sql.prepare_spatial_data([4,8,12])"
   ]
  },
  {
   "cell_type": "code",
   "execution_count": 17,
   "metadata": {},
   "outputs": [
    {
     "data": {
      "text/plain": [
       "{4: [['BLOCK NORTH STOREY 0', 30.331, 'rgb(48, 18, 59)'],\n",
       "  ['BLOCK WEST STOREY 0', 31.073, 'rgb(252, 163, 47)']],\n",
       " 8: [['BLOCK NORTH STOREY 0', 30.479, 'rgb(70, 115, 234)'],\n",
       "  ['BLOCK WEST STOREY 0', 31.309, 'rgb(180, 27, 1)']],\n",
       " 12: [['BLOCK NORTH STOREY 0', 30.472, 'rgb(69, 110, 228)'],\n",
       "  ['BLOCK WEST STOREY 0', 31.39, 'rgb(122, 4, 2)']]}"
      ]
     },
     "execution_count": 17,
     "metadata": {},
     "output_type": "execute_result"
    }
   ],
   "source": [
    "sql.spatial_data"
   ]
  },
  {
   "cell_type": "code",
   "execution_count": 16,
   "metadata": {},
   "outputs": [],
   "source": [
    "sql.prepare_spatial_colors()"
   ]
  },
  {
   "cell_type": "code",
   "execution_count": null,
   "metadata": {},
   "outputs": [
    {
     "data": {
      "text/plain": [
       "[21 Jul 01:00, 21 Jul 02:00, 21 Jul 03:00]"
      ]
     },
     "execution_count": 7,
     "metadata": {},
     "output_type": "execute_result"
    }
   ],
   "source": [
    "sql.spatial_times"
   ]
  },
  {
   "cell_type": "code",
   "execution_count": 22,
   "metadata": {},
   "outputs": [],
   "source": [
    "IDF_PATH = \"/Users/julietnwagwuume-ezeoke/_UILCode/gqe-phd/geomeppy/cases/test03/out.idf\"\n",
    "idf = IDF(IDF_PATH)"
   ]
  },
  {
   "cell_type": "code",
   "execution_count": 23,
   "metadata": {},
   "outputs": [],
   "source": [
    "geo = GeometryParser(idf)"
   ]
  },
  {
   "cell_type": "code",
   "execution_count": 24,
   "metadata": {},
   "outputs": [],
   "source": [
    "geo.get_zones()"
   ]
  },
  {
   "cell_type": "code",
   "execution_count": 25,
   "metadata": {},
   "outputs": [
    {
     "data": {
      "text/plain": [
       "[Zone(Block North Storey 0), Zone(Block West Storey 0)]"
      ]
     },
     "execution_count": 25,
     "metadata": {},
     "output_type": "execute_result"
    }
   ],
   "source": [
    "geo.zones"
   ]
  }
 ],
 "metadata": {
  "kernelspec": {
   "display_name": "Python 3",
   "language": "python",
   "name": "python3"
  },
  "language_info": {
   "codemirror_mode": {
    "name": "ipython",
    "version": 3
   },
   "file_extension": ".py",
   "mimetype": "text/x-python",
   "name": "python",
   "nbconvert_exporter": "python",
   "pygments_lexer": "ipython3",
   "version": "3.9.15"
  }
 },
 "nbformat": 4,
 "nbformat_minor": 2
}
