{
 "cells": [
  {
   "cell_type": "code",
   "execution_count": 1,
   "metadata": {},
   "outputs": [],
   "source": [
    "import sys\n",
    "sys.path.append(\"/Users/julietnwagwuume-ezeoke/_UILCode/gqe-phd/geomeppy/_scripts\")\n",
    "\n",
    "from outputs.sql import SQLReader\n",
    "from outputs.variables import OutputVars\n",
    "# from case_edits.epcase import EneryPlusCaseEditor\n",
    "# from case_edits.recipes import add_output_variable, request_json, request_sql\n",
    "# from geometry.geometry_parser import GeometryParser"
   ]
  },
  {
   "cell_type": "code",
   "execution_count": 2,
   "metadata": {},
   "outputs": [],
   "source": [
    "case_name = \"tests/test04_surfaces\"\n",
    "sql = SQLReader(case_name)"
   ]
  },
  {
   "cell_type": "code",
   "execution_count": 4,
   "metadata": {},
   "outputs": [
    {
     "name": "stdout",
     "output_type": "stream",
     "text": [
      "No match in data structure for BLOCK NORTH STOREY 0 WALL 0004_2, trying to fit.. \n",
      "success!\n",
      "No match in data structure for BLOCK NORTH STOREY 0 WALL 0004_2, trying to fit.. \n",
      "success!\n",
      "No match in data structure for BLOCK NORTH STOREY 0 WALL 0004_2, trying to fit.. \n",
      "success!\n",
      "No match in data structure for BLOCK NORTH STOREY 0 WALL 0004_2, trying to fit.. \n",
      "success!\n"
     ]
    }
   ],
   "source": [
    "sql.request_output(OutputVars.zone_mean_air_temp)\n",
    "sql.request_output(OutputVars.surf_incident_solar_rad)\n",
    "sql.request_output(OutputVars.surf_net_thermal_rad)"
   ]
  },
  {
   "cell_type": "code",
   "execution_count": 5,
   "metadata": {},
   "outputs": [
    {
     "data": {
      "text/plain": [
       "{'surf_incident_solar_rad12-21': OutputData(surf_incident_solar_rad12-21),\n",
       " 'surf_incident_solar_rad7-21': OutputData(surf_incident_solar_rad7-21),\n",
       " 'surf_net_thermal_rad12-21': OutputData(surf_net_thermal_rad12-21),\n",
       " 'surf_net_thermal_rad7-21': OutputData(surf_net_thermal_rad7-21)}"
      ]
     },
     "execution_count": 5,
     "metadata": {},
     "output_type": "execute_result"
    }
   ],
   "source": [
    "sql.wall_dict[\"BLOCK NORTH STOREY 0 WALL 0001\"].output_data"
   ]
  },
  {
   "cell_type": "code",
   "execution_count": 6,
   "metadata": {},
   "outputs": [
    {
     "data": {
      "text/plain": [
       "['zone_mean_air_temp12-21',\n",
       " 'zone_mean_air_temp7-21',\n",
       " 'surf_incident_solar_rad12-21',\n",
       " 'surf_incident_solar_rad7-21',\n",
       " 'surf_net_thermal_rad12-21',\n",
       " 'surf_net_thermal_rad7-21']"
      ]
     },
     "execution_count": 6,
     "metadata": {},
     "output_type": "execute_result"
    }
   ],
   "source": [
    "sql.dataset_names"
   ]
  }
 ],
 "metadata": {
  "kernelspec": {
   "display_name": "gqenv",
   "language": "python",
   "name": "python3"
  },
  "language_info": {
   "codemirror_mode": {
    "name": "ipython",
    "version": 3
   },
   "file_extension": ".py",
   "mimetype": "text/x-python",
   "name": "python",
   "nbconvert_exporter": "python",
   "pygments_lexer": "ipython3",
   "version": "3.9.15"
  }
 },
 "nbformat": 4,
 "nbformat_minor": 2
}
