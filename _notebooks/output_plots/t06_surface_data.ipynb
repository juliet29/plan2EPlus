{
 "cells": [
  {
   "cell_type": "code",
   "execution_count": 3,
   "metadata": {},
   "outputs": [],
   "source": [
    "import sys\n",
    "sys.path.append(\"/Users/julietnwagwuume-ezeoke/_UILCode/gqe-phd/geomeppy/_scripts\")\n",
    "\n",
    "from plotly.subplots import make_subplots\n",
    "import plotly.graph_objects as go\n",
    "\n",
    "\n",
    "from geometry.wall import CardinalDirection\n",
    "from outputs.sql import SQLReader\n",
    "from outputs.variables import OutputVars"
   ]
  },
  {
   "cell_type": "code",
   "execution_count": 4,
   "metadata": {},
   "outputs": [],
   "source": [
    "case_name = \"tests/test04_surfaces\"\n",
    "sql = SQLReader(case_name)"
   ]
  },
  {
   "cell_type": "code",
   "execution_count": 5,
   "metadata": {},
   "outputs": [
    {
     "name": "stdout",
     "output_type": "stream",
     "text": [
      "No match in data structure for BLOCK NORTH STOREY 0 WALL 0004_2, trying to fit.. \n",
      "success!\n",
      "No match in data structure for BLOCK NORTH STOREY 0 WALL 0004_2, trying to fit.. \n",
      "success!\n",
      "No match in data structure for BLOCK NORTH STOREY 0 WALL 0004_2, trying to fit.. \n",
      "success!\n",
      "No match in data structure for BLOCK NORTH STOREY 0 WALL 0004_2, trying to fit.. \n",
      "success!\n"
     ]
    }
   ],
   "source": [
    "sql.request_output(OutputVars.zone_mean_air_temp)\n",
    "sql.request_output(OutputVars.surf_incident_solar_rad)\n",
    "sql.request_output(OutputVars.surf_net_thermal_rad)"
   ]
  },
  {
   "cell_type": "code",
   "execution_count": 6,
   "metadata": {},
   "outputs": [
    {
     "data": {
      "application/vnd.plotly.v1+json": {
       "config": {
        "plotlyServerURL": "https://plotly.com"
       },
       "data": [
        {
         "fill": "toself",
         "fillcolor": "rgb(48, 18, 59)",
         "line": {
          "width": 0
         },
         "marker": {
          "color": "rgb(48, 18, 59)"
         },
         "name": "Block North Storey 0",
         "opacity": 0.5,
         "type": "scatter",
         "x": [
          10,
          10,
          0,
          0,
          10
         ],
         "y": [
          11,
          7,
          7,
          11,
          11
         ]
        },
        {
         "line": {
          "color": "rgb(48, 18, 59)",
          "width": 3
         },
         "marker": {
          "color": "rgb(48, 18, 59)"
         },
         "mode": "markers+lines",
         "name": "Block North_East",
         "type": "scatter",
         "x": [
          10,
          10
         ],
         "y": [
          7,
          11
         ]
        },
        {
         "line": {
          "color": "rgb(48, 18, 59)",
          "width": 3
         },
         "marker": {
          "color": "rgb(48, 18, 59)"
         },
         "mode": "markers+lines",
         "name": "Block North_North",
         "type": "scatter",
         "x": [
          10,
          0
         ],
         "y": [
          11,
          11
         ]
        },
        {
         "line": {
          "color": "rgb(48, 18, 59)",
          "width": 3
         },
         "marker": {
          "color": "rgb(48, 18, 59)"
         },
         "mode": "markers+lines",
         "name": "Block North_West",
         "type": "scatter",
         "x": [
          0,
          0
         ],
         "y": [
          11,
          7
         ]
        },
        {
         "line": {
          "color": "rgb(48, 18, 59)",
          "width": 3
         },
         "marker": {
          "color": "rgb(48, 18, 59)"
         },
         "mode": "markers+lines",
         "name": "Block North_South",
         "type": "scatter",
         "x": [
          0,
          10
         ],
         "y": [
          7,
          7
         ]
        },
        {
         "fill": "toself",
         "fillcolor": "rgb(68, 96, 208)",
         "line": {
          "width": 0
         },
         "marker": {
          "color": "rgb(68, 96, 208)"
         },
         "name": "Block West Storey 0",
         "opacity": 0.5,
         "type": "scatter",
         "x": [
          5,
          5,
          0,
          0,
          5
         ],
         "y": [
          7,
          0,
          0,
          7,
          7
         ]
        },
        {
         "line": {
          "color": "rgb(68, 96, 208)",
          "width": 3
         },
         "marker": {
          "color": "rgb(68, 96, 208)"
         },
         "mode": "markers+lines",
         "name": "Block West_East",
         "type": "scatter",
         "x": [
          5,
          5
         ],
         "y": [
          0,
          7
         ]
        },
        {
         "line": {
          "color": "rgb(68, 96, 208)",
          "width": 3
         },
         "marker": {
          "color": "rgb(68, 96, 208)"
         },
         "mode": "markers+lines",
         "name": "Block West_North",
         "type": "scatter",
         "x": [
          5,
          0
         ],
         "y": [
          7,
          7
         ]
        },
        {
         "line": {
          "color": "rgb(68, 96, 208)",
          "width": 3
         },
         "marker": {
          "color": "rgb(68, 96, 208)"
         },
         "mode": "markers+lines",
         "name": "Block West_West",
         "type": "scatter",
         "x": [
          0,
          0
         ],
         "y": [
          7,
          0
         ]
        },
        {
         "line": {
          "color": "rgb(68, 96, 208)",
          "width": 3
         },
         "marker": {
          "color": "rgb(68, 96, 208)"
         },
         "mode": "markers+lines",
         "name": "Block West_South",
         "type": "scatter",
         "x": [
          0,
          5
         ],
         "y": [
          0,
          0
         ]
        }
       ],
       "layout": {
        "template": {
         "data": {
          "bar": [
           {
            "error_x": {
             "color": "#2a3f5f"
            },
            "error_y": {
             "color": "#2a3f5f"
            },
            "marker": {
             "line": {
              "color": "#E5ECF6",
              "width": 0.5
             },
             "pattern": {
              "fillmode": "overlay",
              "size": 10,
              "solidity": 0.2
             }
            },
            "type": "bar"
           }
          ],
          "barpolar": [
           {
            "marker": {
             "line": {
              "color": "#E5ECF6",
              "width": 0.5
             },
             "pattern": {
              "fillmode": "overlay",
              "size": 10,
              "solidity": 0.2
             }
            },
            "type": "barpolar"
           }
          ],
          "carpet": [
           {
            "aaxis": {
             "endlinecolor": "#2a3f5f",
             "gridcolor": "white",
             "linecolor": "white",
             "minorgridcolor": "white",
             "startlinecolor": "#2a3f5f"
            },
            "baxis": {
             "endlinecolor": "#2a3f5f",
             "gridcolor": "white",
             "linecolor": "white",
             "minorgridcolor": "white",
             "startlinecolor": "#2a3f5f"
            },
            "type": "carpet"
           }
          ],
          "choropleth": [
           {
            "colorbar": {
             "outlinewidth": 0,
             "ticks": ""
            },
            "type": "choropleth"
           }
          ],
          "contour": [
           {
            "colorbar": {
             "outlinewidth": 0,
             "ticks": ""
            },
            "colorscale": [
             [
              0,
              "#0d0887"
             ],
             [
              0.1111111111111111,
              "#46039f"
             ],
             [
              0.2222222222222222,
              "#7201a8"
             ],
             [
              0.3333333333333333,
              "#9c179e"
             ],
             [
              0.4444444444444444,
              "#bd3786"
             ],
             [
              0.5555555555555556,
              "#d8576b"
             ],
             [
              0.6666666666666666,
              "#ed7953"
             ],
             [
              0.7777777777777778,
              "#fb9f3a"
             ],
             [
              0.8888888888888888,
              "#fdca26"
             ],
             [
              1,
              "#f0f921"
             ]
            ],
            "type": "contour"
           }
          ],
          "contourcarpet": [
           {
            "colorbar": {
             "outlinewidth": 0,
             "ticks": ""
            },
            "type": "contourcarpet"
           }
          ],
          "heatmap": [
           {
            "colorbar": {
             "outlinewidth": 0,
             "ticks": ""
            },
            "colorscale": [
             [
              0,
              "#0d0887"
             ],
             [
              0.1111111111111111,
              "#46039f"
             ],
             [
              0.2222222222222222,
              "#7201a8"
             ],
             [
              0.3333333333333333,
              "#9c179e"
             ],
             [
              0.4444444444444444,
              "#bd3786"
             ],
             [
              0.5555555555555556,
              "#d8576b"
             ],
             [
              0.6666666666666666,
              "#ed7953"
             ],
             [
              0.7777777777777778,
              "#fb9f3a"
             ],
             [
              0.8888888888888888,
              "#fdca26"
             ],
             [
              1,
              "#f0f921"
             ]
            ],
            "type": "heatmap"
           }
          ],
          "heatmapgl": [
           {
            "colorbar": {
             "outlinewidth": 0,
             "ticks": ""
            },
            "colorscale": [
             [
              0,
              "#0d0887"
             ],
             [
              0.1111111111111111,
              "#46039f"
             ],
             [
              0.2222222222222222,
              "#7201a8"
             ],
             [
              0.3333333333333333,
              "#9c179e"
             ],
             [
              0.4444444444444444,
              "#bd3786"
             ],
             [
              0.5555555555555556,
              "#d8576b"
             ],
             [
              0.6666666666666666,
              "#ed7953"
             ],
             [
              0.7777777777777778,
              "#fb9f3a"
             ],
             [
              0.8888888888888888,
              "#fdca26"
             ],
             [
              1,
              "#f0f921"
             ]
            ],
            "type": "heatmapgl"
           }
          ],
          "histogram": [
           {
            "marker": {
             "pattern": {
              "fillmode": "overlay",
              "size": 10,
              "solidity": 0.2
             }
            },
            "type": "histogram"
           }
          ],
          "histogram2d": [
           {
            "colorbar": {
             "outlinewidth": 0,
             "ticks": ""
            },
            "colorscale": [
             [
              0,
              "#0d0887"
             ],
             [
              0.1111111111111111,
              "#46039f"
             ],
             [
              0.2222222222222222,
              "#7201a8"
             ],
             [
              0.3333333333333333,
              "#9c179e"
             ],
             [
              0.4444444444444444,
              "#bd3786"
             ],
             [
              0.5555555555555556,
              "#d8576b"
             ],
             [
              0.6666666666666666,
              "#ed7953"
             ],
             [
              0.7777777777777778,
              "#fb9f3a"
             ],
             [
              0.8888888888888888,
              "#fdca26"
             ],
             [
              1,
              "#f0f921"
             ]
            ],
            "type": "histogram2d"
           }
          ],
          "histogram2dcontour": [
           {
            "colorbar": {
             "outlinewidth": 0,
             "ticks": ""
            },
            "colorscale": [
             [
              0,
              "#0d0887"
             ],
             [
              0.1111111111111111,
              "#46039f"
             ],
             [
              0.2222222222222222,
              "#7201a8"
             ],
             [
              0.3333333333333333,
              "#9c179e"
             ],
             [
              0.4444444444444444,
              "#bd3786"
             ],
             [
              0.5555555555555556,
              "#d8576b"
             ],
             [
              0.6666666666666666,
              "#ed7953"
             ],
             [
              0.7777777777777778,
              "#fb9f3a"
             ],
             [
              0.8888888888888888,
              "#fdca26"
             ],
             [
              1,
              "#f0f921"
             ]
            ],
            "type": "histogram2dcontour"
           }
          ],
          "mesh3d": [
           {
            "colorbar": {
             "outlinewidth": 0,
             "ticks": ""
            },
            "type": "mesh3d"
           }
          ],
          "parcoords": [
           {
            "line": {
             "colorbar": {
              "outlinewidth": 0,
              "ticks": ""
             }
            },
            "type": "parcoords"
           }
          ],
          "pie": [
           {
            "automargin": true,
            "type": "pie"
           }
          ],
          "scatter": [
           {
            "fillpattern": {
             "fillmode": "overlay",
             "size": 10,
             "solidity": 0.2
            },
            "type": "scatter"
           }
          ],
          "scatter3d": [
           {
            "line": {
             "colorbar": {
              "outlinewidth": 0,
              "ticks": ""
             }
            },
            "marker": {
             "colorbar": {
              "outlinewidth": 0,
              "ticks": ""
             }
            },
            "type": "scatter3d"
           }
          ],
          "scattercarpet": [
           {
            "marker": {
             "colorbar": {
              "outlinewidth": 0,
              "ticks": ""
             }
            },
            "type": "scattercarpet"
           }
          ],
          "scattergeo": [
           {
            "marker": {
             "colorbar": {
              "outlinewidth": 0,
              "ticks": ""
             }
            },
            "type": "scattergeo"
           }
          ],
          "scattergl": [
           {
            "marker": {
             "colorbar": {
              "outlinewidth": 0,
              "ticks": ""
             }
            },
            "type": "scattergl"
           }
          ],
          "scattermapbox": [
           {
            "marker": {
             "colorbar": {
              "outlinewidth": 0,
              "ticks": ""
             }
            },
            "type": "scattermapbox"
           }
          ],
          "scatterpolar": [
           {
            "marker": {
             "colorbar": {
              "outlinewidth": 0,
              "ticks": ""
             }
            },
            "type": "scatterpolar"
           }
          ],
          "scatterpolargl": [
           {
            "marker": {
             "colorbar": {
              "outlinewidth": 0,
              "ticks": ""
             }
            },
            "type": "scatterpolargl"
           }
          ],
          "scatterternary": [
           {
            "marker": {
             "colorbar": {
              "outlinewidth": 0,
              "ticks": ""
             }
            },
            "type": "scatterternary"
           }
          ],
          "surface": [
           {
            "colorbar": {
             "outlinewidth": 0,
             "ticks": ""
            },
            "colorscale": [
             [
              0,
              "#0d0887"
             ],
             [
              0.1111111111111111,
              "#46039f"
             ],
             [
              0.2222222222222222,
              "#7201a8"
             ],
             [
              0.3333333333333333,
              "#9c179e"
             ],
             [
              0.4444444444444444,
              "#bd3786"
             ],
             [
              0.5555555555555556,
              "#d8576b"
             ],
             [
              0.6666666666666666,
              "#ed7953"
             ],
             [
              0.7777777777777778,
              "#fb9f3a"
             ],
             [
              0.8888888888888888,
              "#fdca26"
             ],
             [
              1,
              "#f0f921"
             ]
            ],
            "type": "surface"
           }
          ],
          "table": [
           {
            "cells": {
             "fill": {
              "color": "#EBF0F8"
             },
             "line": {
              "color": "white"
             }
            },
            "header": {
             "fill": {
              "color": "#C8D4E3"
             },
             "line": {
              "color": "white"
             }
            },
            "type": "table"
           }
          ]
         },
         "layout": {
          "annotationdefaults": {
           "arrowcolor": "#2a3f5f",
           "arrowhead": 0,
           "arrowwidth": 1
          },
          "autotypenumbers": "strict",
          "coloraxis": {
           "colorbar": {
            "outlinewidth": 0,
            "ticks": ""
           }
          },
          "colorscale": {
           "diverging": [
            [
             0,
             "#8e0152"
            ],
            [
             0.1,
             "#c51b7d"
            ],
            [
             0.2,
             "#de77ae"
            ],
            [
             0.3,
             "#f1b6da"
            ],
            [
             0.4,
             "#fde0ef"
            ],
            [
             0.5,
             "#f7f7f7"
            ],
            [
             0.6,
             "#e6f5d0"
            ],
            [
             0.7,
             "#b8e186"
            ],
            [
             0.8,
             "#7fbc41"
            ],
            [
             0.9,
             "#4d9221"
            ],
            [
             1,
             "#276419"
            ]
           ],
           "sequential": [
            [
             0,
             "#0d0887"
            ],
            [
             0.1111111111111111,
             "#46039f"
            ],
            [
             0.2222222222222222,
             "#7201a8"
            ],
            [
             0.3333333333333333,
             "#9c179e"
            ],
            [
             0.4444444444444444,
             "#bd3786"
            ],
            [
             0.5555555555555556,
             "#d8576b"
            ],
            [
             0.6666666666666666,
             "#ed7953"
            ],
            [
             0.7777777777777778,
             "#fb9f3a"
            ],
            [
             0.8888888888888888,
             "#fdca26"
            ],
            [
             1,
             "#f0f921"
            ]
           ],
           "sequentialminus": [
            [
             0,
             "#0d0887"
            ],
            [
             0.1111111111111111,
             "#46039f"
            ],
            [
             0.2222222222222222,
             "#7201a8"
            ],
            [
             0.3333333333333333,
             "#9c179e"
            ],
            [
             0.4444444444444444,
             "#bd3786"
            ],
            [
             0.5555555555555556,
             "#d8576b"
            ],
            [
             0.6666666666666666,
             "#ed7953"
            ],
            [
             0.7777777777777778,
             "#fb9f3a"
            ],
            [
             0.8888888888888888,
             "#fdca26"
            ],
            [
             1,
             "#f0f921"
            ]
           ]
          },
          "colorway": [
           "#636efa",
           "#EF553B",
           "#00cc96",
           "#ab63fa",
           "#FFA15A",
           "#19d3f3",
           "#FF6692",
           "#B6E880",
           "#FF97FF",
           "#FECB52"
          ],
          "font": {
           "color": "#2a3f5f"
          },
          "geo": {
           "bgcolor": "white",
           "lakecolor": "white",
           "landcolor": "#E5ECF6",
           "showlakes": true,
           "showland": true,
           "subunitcolor": "white"
          },
          "hoverlabel": {
           "align": "left"
          },
          "hovermode": "closest",
          "mapbox": {
           "style": "light"
          },
          "paper_bgcolor": "white",
          "plot_bgcolor": "#E5ECF6",
          "polar": {
           "angularaxis": {
            "gridcolor": "white",
            "linecolor": "white",
            "ticks": ""
           },
           "bgcolor": "#E5ECF6",
           "radialaxis": {
            "gridcolor": "white",
            "linecolor": "white",
            "ticks": ""
           }
          },
          "scene": {
           "xaxis": {
            "backgroundcolor": "#E5ECF6",
            "gridcolor": "white",
            "gridwidth": 2,
            "linecolor": "white",
            "showbackground": true,
            "ticks": "",
            "zerolinecolor": "white"
           },
           "yaxis": {
            "backgroundcolor": "#E5ECF6",
            "gridcolor": "white",
            "gridwidth": 2,
            "linecolor": "white",
            "showbackground": true,
            "ticks": "",
            "zerolinecolor": "white"
           },
           "zaxis": {
            "backgroundcolor": "#E5ECF6",
            "gridcolor": "white",
            "gridwidth": 2,
            "linecolor": "white",
            "showbackground": true,
            "ticks": "",
            "zerolinecolor": "white"
           }
          },
          "shapedefaults": {
           "line": {
            "color": "#2a3f5f"
           }
          },
          "ternary": {
           "aaxis": {
            "gridcolor": "white",
            "linecolor": "white",
            "ticks": ""
           },
           "baxis": {
            "gridcolor": "white",
            "linecolor": "white",
            "ticks": ""
           },
           "bgcolor": "#E5ECF6",
           "caxis": {
            "gridcolor": "white",
            "linecolor": "white",
            "ticks": ""
           }
          },
          "title": {
           "x": 0.05
          },
          "xaxis": {
           "automargin": true,
           "gridcolor": "white",
           "linecolor": "white",
           "ticks": "",
           "title": {
            "standoff": 15
           },
           "zerolinecolor": "white",
           "zerolinewidth": 2
          },
          "yaxis": {
           "automargin": true,
           "gridcolor": "white",
           "linecolor": "white",
           "ticks": "",
           "title": {
            "standoff": 15
           },
           "zerolinecolor": "white",
           "zerolinewidth": 2
          }
         }
        }
       }
      }
     },
     "metadata": {},
     "output_type": "display_data"
    }
   ],
   "source": [
    "sql.geo.plot_zones()"
   ]
  },
  {
   "cell_type": "code",
   "execution_count": 7,
   "metadata": {},
   "outputs": [
    {
     "name": "stdout",
     "output_type": "stream",
     "text": [
      "Block North_East\n",
      "{'surf_incident_solar_rad12-21': OutputData(surf_incident_solar_rad12-21), 'surf_incident_solar_rad7-21': OutputData(surf_incident_solar_rad7-21), 'surf_net_thermal_rad12-21': OutputData(surf_net_thermal_rad12-21), 'surf_net_thermal_rad7-21': OutputData(surf_net_thermal_rad7-21)}\n",
      "Block North_North\n",
      "{'surf_incident_solar_rad12-21': OutputData(surf_incident_solar_rad12-21), 'surf_incident_solar_rad7-21': OutputData(surf_incident_solar_rad7-21), 'surf_net_thermal_rad12-21': OutputData(surf_net_thermal_rad12-21), 'surf_net_thermal_rad7-21': OutputData(surf_net_thermal_rad7-21)}\n",
      "Block North_West\n",
      "{'surf_incident_solar_rad12-21': OutputData(surf_incident_solar_rad12-21), 'surf_incident_solar_rad7-21': OutputData(surf_incident_solar_rad7-21), 'surf_net_thermal_rad12-21': OutputData(surf_net_thermal_rad12-21), 'surf_net_thermal_rad7-21': OutputData(surf_net_thermal_rad7-21)}\n",
      "Block North_South\n",
      "{'surf_incident_solar_rad12-21': OutputData(surf_incident_solar_rad12-21), 'surf_incident_solar_rad7-21': OutputData(surf_incident_solar_rad7-21), 'surf_net_thermal_rad12-21': OutputData(surf_net_thermal_rad12-21), 'surf_net_thermal_rad7-21': OutputData(surf_net_thermal_rad7-21)}\n",
      "Block West_East\n",
      "{'surf_incident_solar_rad12-21': OutputData(surf_incident_solar_rad12-21), 'surf_incident_solar_rad7-21': OutputData(surf_incident_solar_rad7-21), 'surf_net_thermal_rad12-21': OutputData(surf_net_thermal_rad12-21), 'surf_net_thermal_rad7-21': OutputData(surf_net_thermal_rad7-21)}\n",
      "Block West_North\n",
      "{}\n",
      "Block West_West\n",
      "{'surf_incident_solar_rad12-21': OutputData(surf_incident_solar_rad12-21), 'surf_incident_solar_rad7-21': OutputData(surf_incident_solar_rad7-21), 'surf_net_thermal_rad12-21': OutputData(surf_net_thermal_rad12-21), 'surf_net_thermal_rad7-21': OutputData(surf_net_thermal_rad7-21)}\n",
      "Block West_South\n",
      "{'surf_incident_solar_rad12-21': OutputData(surf_incident_solar_rad12-21), 'surf_incident_solar_rad7-21': OutputData(surf_incident_solar_rad7-21), 'surf_net_thermal_rad12-21': OutputData(surf_net_thermal_rad12-21), 'surf_net_thermal_rad7-21': OutputData(surf_net_thermal_rad7-21)}\n"
     ]
    }
   ],
   "source": [
    "for wall in sql.wall_list:\n",
    "    print(wall.name2)\n",
    "    print(wall.output_data)"
   ]
  },
  {
   "cell_type": "code",
   "execution_count": 9,
   "metadata": {},
   "outputs": [
    {
     "data": {
      "text/plain": [
       "['NORTH WALLS', 'EAST WALLS', 'SOUTH WALLS', 'WEST WALLS']"
      ]
     },
     "execution_count": 9,
     "metadata": {},
     "output_type": "execute_result"
    }
   ],
   "source": [
    "\n",
    "direction_names = [CardinalDirection(i).name for i in [0,90,180,270]]\n",
    "direction_titles = [f\"{i} WALLS\" for i in direction_names]\n",
    "direction_names\n",
    "direction_titles"
   ]
  },
  {
   "cell_type": "code",
   "execution_count": 21,
   "metadata": {},
   "outputs": [
    {
     "name": "stdout",
     "output_type": "stream",
     "text": [
      "Block North Storey 0 Wall 0001\n",
      "Block West Storey 0 Wall 0001\n"
     ]
    }
   ],
   "source": [
    "# direction = CardinalDirection.EAST\n",
    "\n",
    "# for wall in sql.wall_list:\n",
    "#     if wall.direction == direction.name:\n",
    "#         print(wall.name)"
   ]
  },
  {
   "cell_type": "code",
   "execution_count": 11,
   "metadata": {},
   "outputs": [
    {
     "name": "stdout",
     "output_type": "stream",
     "text": [
      "(Wall(Block North_North), 'Block North Storey 0 Wall 0002')\n",
      "(Wall(Block West_North), 'Block West Storey 0 Wall 0002')\n",
      "(Wall(Block North_East), 'Block North Storey 0 Wall 0001')\n",
      "(Wall(Block West_East), 'Block West Storey 0 Wall 0001')\n",
      "(Wall(Block North_South), 'Block North Storey 0 Wall 0004')\n",
      "(Wall(Block West_South), 'Block West Storey 0 Wall 0004')\n",
      "(Wall(Block North_West), 'Block North Storey 0 Wall 0003')\n",
      "(Wall(Block West_West), 'Block West Storey 0 Wall 0003')\n"
     ]
    },
    {
     "data": {
      "application/vnd.plotly.v1+json": {
       "config": {
        "plotlyServerURL": "https://plotly.com"
       },
       "data": [
        {
         "name": "North Block",
         "type": "scatter",
         "x": [
          "2017-07-21T00:00:00",
          "2017-07-21T00:15:00",
          "2017-07-21T00:30:00",
          "2017-07-21T00:45:00",
          "2017-07-21T01:00:00",
          "2017-07-21T01:15:00",
          "2017-07-21T01:30:00",
          "2017-07-21T01:45:00",
          "2017-07-21T02:00:00",
          "2017-07-21T02:15:00",
          "2017-07-21T02:30:00",
          "2017-07-21T02:45:00",
          "2017-07-21T03:00:00",
          "2017-07-21T03:15:00",
          "2017-07-21T03:30:00",
          "2017-07-21T03:45:00",
          "2017-07-21T04:00:00",
          "2017-07-21T04:15:00",
          "2017-07-21T04:30:00",
          "2017-07-21T04:45:00",
          "2017-07-21T05:00:00",
          "2017-07-21T05:15:00",
          "2017-07-21T05:30:00",
          "2017-07-21T05:45:00",
          "2017-07-21T06:00:00",
          "2017-07-21T06:15:00",
          "2017-07-21T06:30:00",
          "2017-07-21T06:45:00",
          "2017-07-21T07:00:00",
          "2017-07-21T07:15:00",
          "2017-07-21T07:30:00",
          "2017-07-21T07:45:00",
          "2017-07-21T08:00:00",
          "2017-07-21T08:15:00",
          "2017-07-21T08:30:00",
          "2017-07-21T08:45:00",
          "2017-07-21T09:00:00",
          "2017-07-21T09:15:00",
          "2017-07-21T09:30:00",
          "2017-07-21T09:45:00",
          "2017-07-21T10:00:00",
          "2017-07-21T10:15:00",
          "2017-07-21T10:30:00",
          "2017-07-21T10:45:00",
          "2017-07-21T11:00:00",
          "2017-07-21T11:15:00",
          "2017-07-21T11:30:00",
          "2017-07-21T11:45:00",
          "2017-07-21T12:00:00",
          "2017-07-21T12:15:00",
          "2017-07-21T12:30:00",
          "2017-07-21T12:45:00",
          "2017-07-21T13:00:00",
          "2017-07-21T13:15:00",
          "2017-07-21T13:30:00",
          "2017-07-21T13:45:00",
          "2017-07-21T14:00:00",
          "2017-07-21T14:15:00",
          "2017-07-21T14:30:00",
          "2017-07-21T14:45:00",
          "2017-07-21T15:00:00",
          "2017-07-21T15:15:00",
          "2017-07-21T15:30:00",
          "2017-07-21T15:45:00",
          "2017-07-21T16:00:00",
          "2017-07-21T16:15:00",
          "2017-07-21T16:30:00",
          "2017-07-21T16:45:00",
          "2017-07-21T17:00:00",
          "2017-07-21T17:15:00",
          "2017-07-21T17:30:00",
          "2017-07-21T17:45:00",
          "2017-07-21T18:00:00",
          "2017-07-21T18:15:00",
          "2017-07-21T18:30:00",
          "2017-07-21T18:45:00",
          "2017-07-21T19:00:00",
          "2017-07-21T19:15:00",
          "2017-07-21T19:30:00",
          "2017-07-21T19:45:00",
          "2017-07-21T20:00:00",
          "2017-07-21T20:15:00",
          "2017-07-21T20:30:00",
          "2017-07-21T20:45:00",
          "2017-07-21T21:00:00",
          "2017-07-21T21:15:00",
          "2017-07-21T21:30:00",
          "2017-07-21T21:45:00",
          "2017-07-21T22:00:00",
          "2017-07-21T22:15:00",
          "2017-07-21T22:30:00",
          "2017-07-21T22:45:00",
          "2017-07-21T23:00:00",
          "2017-07-21T23:15:00",
          "2017-07-21T23:30:00",
          "2017-07-21T23:45:00"
         ],
         "xaxis": "x",
         "y": [
          126.70264810342286,
          144.20333394176285,
          163.6562329409079,
          180.01181575970645,
          191.9642109689263,
          197.75992843265814,
          195.28154332446923,
          181.02782127118374,
          151.20212474218965,
          95.4736768663915,
          25.92502210017891,
          0.0006869417692358031,
          0,
          0,
          0,
          0,
          0,
          0,
          0,
          0,
          0,
          0,
          0,
          0,
          0,
          0,
          0,
          0,
          0,
          0,
          0,
          0,
          0,
          0,
          0,
          0,
          0,
          0,
          0,
          0,
          0,
          0,
          0,
          0,
          0,
          0,
          0,
          0,
          0,
          0,
          0,
          0.5970656861372777,
          47.06326317115159,
          112.91593320121994,
          162.0368227248592,
          186.74390286529115,
          196.91194460055786,
          196.79511450577752,
          188.9358153196394,
          175.50227319536833,
          158.09731436961388,
          137.920153502013,
          120.06958054001471,
          105.83168368997329,
          109.95239041498338,
          113.63536979509877,
          116.90514898528644,
          123.4167814526101,
          125.92540036987378,
          128.02377554487492,
          129.7303427448541,
          131.0651421509251,
          132.05185074476677,
          132.72026990458033,
          133.1093338024335,
          133.27035090409626,
          133.26924253867793,
          133.1847345134681,
          133.09777393513414,
          133.06999848162874,
          133.11979231981925,
          133.21387268127134,
          133.2820932647917,
          133.24237216628615,
          133.0192063227747,
          132.55113301125243,
          131.79087455127308,
          130.70257737680276,
          129.25856960059656,
          127.43650261054205,
          125.2170138739203,
          118.95873460998799,
          115.96678224401956,
          112.57528694864396,
          108.76393680318664,
          104.50603507564254
         ],
         "yaxis": "y"
        },
        {
         "name": "North Block",
         "type": "scatter",
         "x": [
          "2017-07-21T00:00:00",
          "2017-07-21T00:15:00",
          "2017-07-21T00:30:00",
          "2017-07-21T00:45:00",
          "2017-07-21T01:00:00",
          "2017-07-21T01:15:00",
          "2017-07-21T01:30:00",
          "2017-07-21T01:45:00",
          "2017-07-21T02:00:00",
          "2017-07-21T02:15:00",
          "2017-07-21T02:30:00",
          "2017-07-21T02:45:00",
          "2017-07-21T03:00:00",
          "2017-07-21T03:15:00",
          "2017-07-21T03:30:00",
          "2017-07-21T03:45:00",
          "2017-07-21T04:00:00",
          "2017-07-21T04:15:00",
          "2017-07-21T04:30:00",
          "2017-07-21T04:45:00",
          "2017-07-21T05:00:00",
          "2017-07-21T05:15:00",
          "2017-07-21T05:30:00",
          "2017-07-21T05:45:00",
          "2017-07-21T06:00:00",
          "2017-07-21T06:15:00",
          "2017-07-21T06:30:00",
          "2017-07-21T06:45:00",
          "2017-07-21T07:00:00",
          "2017-07-21T07:15:00",
          "2017-07-21T07:30:00",
          "2017-07-21T07:45:00",
          "2017-07-21T08:00:00",
          "2017-07-21T08:15:00",
          "2017-07-21T08:30:00",
          "2017-07-21T08:45:00",
          "2017-07-21T09:00:00",
          "2017-07-21T09:15:00",
          "2017-07-21T09:30:00",
          "2017-07-21T09:45:00",
          "2017-07-21T10:00:00",
          "2017-07-21T10:15:00",
          "2017-07-21T10:30:00",
          "2017-07-21T10:45:00",
          "2017-07-21T11:00:00",
          "2017-07-21T11:15:00",
          "2017-07-21T11:30:00",
          "2017-07-21T11:45:00",
          "2017-07-21T12:00:00",
          "2017-07-21T12:15:00",
          "2017-07-21T12:30:00",
          "2017-07-21T12:45:00",
          "2017-07-21T13:00:00",
          "2017-07-21T13:15:00",
          "2017-07-21T13:30:00",
          "2017-07-21T13:45:00",
          "2017-07-21T14:00:00",
          "2017-07-21T14:15:00",
          "2017-07-21T14:30:00",
          "2017-07-21T14:45:00",
          "2017-07-21T15:00:00",
          "2017-07-21T15:15:00",
          "2017-07-21T15:30:00",
          "2017-07-21T15:45:00",
          "2017-07-21T16:00:00",
          "2017-07-21T16:15:00",
          "2017-07-21T16:30:00",
          "2017-07-21T16:45:00",
          "2017-07-21T17:00:00",
          "2017-07-21T17:15:00",
          "2017-07-21T17:30:00",
          "2017-07-21T17:45:00",
          "2017-07-21T18:00:00",
          "2017-07-21T18:15:00",
          "2017-07-21T18:30:00",
          "2017-07-21T18:45:00",
          "2017-07-21T19:00:00",
          "2017-07-21T19:15:00",
          "2017-07-21T19:30:00",
          "2017-07-21T19:45:00",
          "2017-07-21T20:00:00",
          "2017-07-21T20:15:00",
          "2017-07-21T20:30:00",
          "2017-07-21T20:45:00",
          "2017-07-21T21:00:00",
          "2017-07-21T21:15:00",
          "2017-07-21T21:30:00",
          "2017-07-21T21:45:00",
          "2017-07-21T22:00:00",
          "2017-07-21T22:15:00",
          "2017-07-21T22:30:00",
          "2017-07-21T22:45:00",
          "2017-07-21T23:00:00",
          "2017-07-21T23:15:00",
          "2017-07-21T23:30:00",
          "2017-07-21T23:45:00"
         ],
         "xaxis": "x2",
         "y": [
          99.76577777804526,
          90.0065439680043,
          84.18715869367406,
          77.74244718930767,
          70.56070788586429,
          62.487556289739516,
          53.35055897224494,
          42.815179321935176,
          30.63094664505216,
          15.585511596024654,
          3.611351138001047,
          0.00008709291681944457,
          0,
          0,
          0,
          0,
          0,
          0,
          0,
          0,
          0,
          0,
          0,
          0,
          0,
          0,
          0,
          0,
          0,
          0,
          0,
          0,
          0,
          0,
          0,
          0,
          0,
          0,
          0,
          0,
          0,
          0,
          0,
          0,
          0,
          0,
          0,
          0,
          0,
          0,
          0,
          1.1946575236631047,
          103.03290096604358,
          268.7110705602433,
          417.6435245259859,
          526.6423008647985,
          611.171141073733,
          676.8446337899819,
          725.9316077391184,
          761.1770096391922,
          784.6908738268942,
          798.0903378636061,
          796.3792788727485,
          793.783907720004,
          784.0212729751762,
          767.7805572095775,
          745.6521267800373,
          705.8579686085542,
          674.1506139654149,
          638.1012938731365,
          598.1030743789971,
          554.5374368088575,
          507.78096723766873,
          458.2114602968778,
          406.21399427183064,
          352.1871640876806,
          296.54866687580113,
          239.7373222418936,
          182.205959946567,
          133.06999848162874,
          133.11979231981925,
          133.21387268127134,
          133.2820932647917,
          133.24237216628615,
          133.0192063227747,
          132.55113301125243,
          131.79087455127308,
          130.70257737680276,
          129.25856960059656,
          127.43650261054205,
          125.2170138739203,
          118.95873460998799,
          115.96678224401956,
          112.57528694864396,
          108.76393680318664,
          104.50603507564254
         ],
         "yaxis": "y2"
        },
        {
         "name": "West Block",
         "type": "scatter",
         "x": [
          "2017-07-21T00:00:00",
          "2017-07-21T00:15:00",
          "2017-07-21T00:30:00",
          "2017-07-21T00:45:00",
          "2017-07-21T01:00:00",
          "2017-07-21T01:15:00",
          "2017-07-21T01:30:00",
          "2017-07-21T01:45:00",
          "2017-07-21T02:00:00",
          "2017-07-21T02:15:00",
          "2017-07-21T02:30:00",
          "2017-07-21T02:45:00",
          "2017-07-21T03:00:00",
          "2017-07-21T03:15:00",
          "2017-07-21T03:30:00",
          "2017-07-21T03:45:00",
          "2017-07-21T04:00:00",
          "2017-07-21T04:15:00",
          "2017-07-21T04:30:00",
          "2017-07-21T04:45:00",
          "2017-07-21T05:00:00",
          "2017-07-21T05:15:00",
          "2017-07-21T05:30:00",
          "2017-07-21T05:45:00",
          "2017-07-21T06:00:00",
          "2017-07-21T06:15:00",
          "2017-07-21T06:30:00",
          "2017-07-21T06:45:00",
          "2017-07-21T07:00:00",
          "2017-07-21T07:15:00",
          "2017-07-21T07:30:00",
          "2017-07-21T07:45:00",
          "2017-07-21T08:00:00",
          "2017-07-21T08:15:00",
          "2017-07-21T08:30:00",
          "2017-07-21T08:45:00",
          "2017-07-21T09:00:00",
          "2017-07-21T09:15:00",
          "2017-07-21T09:30:00",
          "2017-07-21T09:45:00",
          "2017-07-21T10:00:00",
          "2017-07-21T10:15:00",
          "2017-07-21T10:30:00",
          "2017-07-21T10:45:00",
          "2017-07-21T11:00:00",
          "2017-07-21T11:15:00",
          "2017-07-21T11:30:00",
          "2017-07-21T11:45:00",
          "2017-07-21T12:00:00",
          "2017-07-21T12:15:00",
          "2017-07-21T12:30:00",
          "2017-07-21T12:45:00",
          "2017-07-21T13:00:00",
          "2017-07-21T13:15:00",
          "2017-07-21T13:30:00",
          "2017-07-21T13:45:00",
          "2017-07-21T14:00:00",
          "2017-07-21T14:15:00",
          "2017-07-21T14:30:00",
          "2017-07-21T14:45:00",
          "2017-07-21T15:00:00",
          "2017-07-21T15:15:00",
          "2017-07-21T15:30:00",
          "2017-07-21T15:45:00",
          "2017-07-21T16:00:00",
          "2017-07-21T16:15:00",
          "2017-07-21T16:30:00",
          "2017-07-21T16:45:00",
          "2017-07-21T17:00:00",
          "2017-07-21T17:15:00",
          "2017-07-21T17:30:00",
          "2017-07-21T17:45:00",
          "2017-07-21T18:00:00",
          "2017-07-21T18:15:00",
          "2017-07-21T18:30:00",
          "2017-07-21T18:45:00",
          "2017-07-21T19:00:00",
          "2017-07-21T19:15:00",
          "2017-07-21T19:30:00",
          "2017-07-21T19:45:00",
          "2017-07-21T20:00:00",
          "2017-07-21T20:15:00",
          "2017-07-21T20:30:00",
          "2017-07-21T20:45:00",
          "2017-07-21T21:00:00",
          "2017-07-21T21:15:00",
          "2017-07-21T21:30:00",
          "2017-07-21T21:45:00",
          "2017-07-21T22:00:00",
          "2017-07-21T22:15:00",
          "2017-07-21T22:30:00",
          "2017-07-21T22:45:00",
          "2017-07-21T23:00:00",
          "2017-07-21T23:15:00",
          "2017-07-21T23:30:00",
          "2017-07-21T23:45:00"
         ],
         "xaxis": "x2",
         "y": [
          91.71336752442288,
          82.71786134067436,
          77.10104027857533,
          70.93802436677957,
          64.13503431963738,
          56.56082100722212,
          48.056539997101225,
          38.35580081027002,
          27.247118558249092,
          13.886577474920484,
          3.1788579088304507,
          0.0000758850931459093,
          0,
          0,
          0,
          0,
          0,
          0,
          0,
          0,
          0,
          0,
          0,
          0,
          0,
          0,
          0,
          0,
          0,
          0,
          0,
          0,
          0,
          0,
          0,
          0,
          0,
          0,
          0,
          0,
          0,
          0,
          0,
          0,
          0,
          0,
          0,
          0,
          0,
          0,
          0,
          0.8237755740246655,
          75.44992071902303,
          207.36878316025894,
          336.837105441608,
          441.28278690679895,
          529.4052828699519,
          603.5740586827638,
          664.0641097412572,
          712.02115291666,
          748.3787781871428,
          773.8586643463127,
          782.1654259295897,
          785.6585260590512,
          775.8980523906936,
          759.7013806403447,
          737.6522203313311,
          697.9547787572077,
          666.4312433776723,
          630.5914413310874,
          590.8229085247646,
          547.501474758,
          500.99762003361946,
          451.68216083504,
          399.9318129205283,
          346.1348683317334,
          290.6963982074248,
          234.04059681157366,
          176.60552747252564,
          127.49547447450988,
          127.4974845769875,
          127.47608136144964,
          127.37381814827559,
          127.12365292267056,
          126.66421707345857,
          125.94596465933125,
          124.93128404962647,
          123.59221053468237,
          121.9077392336792,
          119.86145174618778,
          117.43956888710287,
          111.03219559695475,
          107.9397622967088,
          104.47892239204691,
          100.63533931962208,
          96.38930970701735
         ],
         "yaxis": "y2"
        },
        {
         "name": "North Block",
         "type": "scatter",
         "x": [
          "2017-07-21T00:00:00",
          "2017-07-21T00:15:00",
          "2017-07-21T00:30:00",
          "2017-07-21T00:45:00",
          "2017-07-21T01:00:00",
          "2017-07-21T01:15:00",
          "2017-07-21T01:30:00",
          "2017-07-21T01:45:00",
          "2017-07-21T02:00:00",
          "2017-07-21T02:15:00",
          "2017-07-21T02:30:00",
          "2017-07-21T02:45:00",
          "2017-07-21T03:00:00",
          "2017-07-21T03:15:00",
          "2017-07-21T03:30:00",
          "2017-07-21T03:45:00",
          "2017-07-21T04:00:00",
          "2017-07-21T04:15:00",
          "2017-07-21T04:30:00",
          "2017-07-21T04:45:00",
          "2017-07-21T05:00:00",
          "2017-07-21T05:15:00",
          "2017-07-21T05:30:00",
          "2017-07-21T05:45:00",
          "2017-07-21T06:00:00",
          "2017-07-21T06:15:00",
          "2017-07-21T06:30:00",
          "2017-07-21T06:45:00",
          "2017-07-21T07:00:00",
          "2017-07-21T07:15:00",
          "2017-07-21T07:30:00",
          "2017-07-21T07:45:00",
          "2017-07-21T08:00:00",
          "2017-07-21T08:15:00",
          "2017-07-21T08:30:00",
          "2017-07-21T08:45:00",
          "2017-07-21T09:00:00",
          "2017-07-21T09:15:00",
          "2017-07-21T09:30:00",
          "2017-07-21T09:45:00",
          "2017-07-21T10:00:00",
          "2017-07-21T10:15:00",
          "2017-07-21T10:30:00",
          "2017-07-21T10:45:00",
          "2017-07-21T11:00:00",
          "2017-07-21T11:15:00",
          "2017-07-21T11:30:00",
          "2017-07-21T11:45:00",
          "2017-07-21T12:00:00",
          "2017-07-21T12:15:00",
          "2017-07-21T12:30:00",
          "2017-07-21T12:45:00",
          "2017-07-21T13:00:00",
          "2017-07-21T13:15:00",
          "2017-07-21T13:30:00",
          "2017-07-21T13:45:00",
          "2017-07-21T14:00:00",
          "2017-07-21T14:15:00",
          "2017-07-21T14:30:00",
          "2017-07-21T14:45:00",
          "2017-07-21T15:00:00",
          "2017-07-21T15:15:00",
          "2017-07-21T15:30:00",
          "2017-07-21T15:45:00",
          "2017-07-21T16:00:00",
          "2017-07-21T16:15:00",
          "2017-07-21T16:30:00",
          "2017-07-21T16:45:00",
          "2017-07-21T17:00:00",
          "2017-07-21T17:15:00",
          "2017-07-21T17:30:00",
          "2017-07-21T17:45:00",
          "2017-07-21T18:00:00",
          "2017-07-21T18:15:00",
          "2017-07-21T18:30:00",
          "2017-07-21T18:45:00",
          "2017-07-21T19:00:00",
          "2017-07-21T19:15:00",
          "2017-07-21T19:30:00",
          "2017-07-21T19:45:00",
          "2017-07-21T20:00:00",
          "2017-07-21T20:15:00",
          "2017-07-21T20:30:00",
          "2017-07-21T20:45:00",
          "2017-07-21T21:00:00",
          "2017-07-21T21:15:00",
          "2017-07-21T21:30:00",
          "2017-07-21T21:45:00",
          "2017-07-21T22:00:00",
          "2017-07-21T22:15:00",
          "2017-07-21T22:30:00",
          "2017-07-21T22:45:00",
          "2017-07-21T23:00:00",
          "2017-07-21T23:15:00",
          "2017-07-21T23:30:00",
          "2017-07-21T23:45:00"
         ],
         "xaxis": "x3",
         "y": [
          88.4924077737348,
          79.80239221532072,
          74.26659677322574,
          68.21625898857491,
          61.564768476858035,
          54.19013023708493,
          45.938935415111644,
          36.57205195083246,
          25.893589243583886,
          13.2070048396077,
          3.0058608664198694,
          0.00007140197003009641,
          0,
          0,
          0,
          0,
          0,
          0,
          0,
          0,
          0,
          0,
          0,
          0,
          0,
          0,
          0,
          0,
          0,
          0,
          0,
          0,
          0,
          0,
          0,
          0,
          0,
          0,
          0,
          0,
          0,
          0,
          0,
          0,
          0,
          0,
          0,
          0,
          0,
          0,
          0,
          0.06399122098015286,
          5.655596557224407,
          16.60945077233479,
          29.239729565514033,
          39.51083502713686,
          48.5088198022133,
          56.4865358522851,
          63.62897099810964,
          70.08919860997858,
          75.97748385010519,
          81.3717924746634,
          89.93164236185261,
          103.04314089288334,
          134.76997769693685,
          165.86248703188573,
          195.96728088250518,
          225.31231706913937,
          251.94608371633228,
          276.79702897542586,
          299.6819843854106,
          320.4429689662058,
          338.94569601773696,
          355.07905824978013,
          368.75543269446666,
          379.9115240293521,
          388.50900412296335,
          394.53326550807026,
          397.9877062392084,
          398.09455916182037,
          391.20787470845846,
          381.8915678935408,
          370.25179603517995,
          356.40398502083127,
          340.48522991285483,
          322.657234613484,
          303.1096633046986,
          282.05952983368815,
          259.75138861231204,
          236.45988751809773,
          212.49100264978213,
          186.68779327714137,
          161.96498665827005,
          137.81042322561848,
          114.73627615366605,
          93.32931183364222
         ],
         "yaxis": "y3"
        },
        {
         "name": "West Block",
         "type": "scatter",
         "x": [
          "2017-07-21T00:00:00",
          "2017-07-21T00:15:00",
          "2017-07-21T00:30:00",
          "2017-07-21T00:45:00",
          "2017-07-21T01:00:00",
          "2017-07-21T01:15:00",
          "2017-07-21T01:30:00",
          "2017-07-21T01:45:00",
          "2017-07-21T02:00:00",
          "2017-07-21T02:15:00",
          "2017-07-21T02:30:00",
          "2017-07-21T02:45:00",
          "2017-07-21T03:00:00",
          "2017-07-21T03:15:00",
          "2017-07-21T03:30:00",
          "2017-07-21T03:45:00",
          "2017-07-21T04:00:00",
          "2017-07-21T04:15:00",
          "2017-07-21T04:30:00",
          "2017-07-21T04:45:00",
          "2017-07-21T05:00:00",
          "2017-07-21T05:15:00",
          "2017-07-21T05:30:00",
          "2017-07-21T05:45:00",
          "2017-07-21T06:00:00",
          "2017-07-21T06:15:00",
          "2017-07-21T06:30:00",
          "2017-07-21T06:45:00",
          "2017-07-21T07:00:00",
          "2017-07-21T07:15:00",
          "2017-07-21T07:30:00",
          "2017-07-21T07:45:00",
          "2017-07-21T08:00:00",
          "2017-07-21T08:15:00",
          "2017-07-21T08:30:00",
          "2017-07-21T08:45:00",
          "2017-07-21T09:00:00",
          "2017-07-21T09:15:00",
          "2017-07-21T09:30:00",
          "2017-07-21T09:45:00",
          "2017-07-21T10:00:00",
          "2017-07-21T10:15:00",
          "2017-07-21T10:30:00",
          "2017-07-21T10:45:00",
          "2017-07-21T11:00:00",
          "2017-07-21T11:15:00",
          "2017-07-21T11:30:00",
          "2017-07-21T11:45:00",
          "2017-07-21T12:00:00",
          "2017-07-21T12:15:00",
          "2017-07-21T12:30:00",
          "2017-07-21T12:45:00",
          "2017-07-21T13:00:00",
          "2017-07-21T13:15:00",
          "2017-07-21T13:30:00",
          "2017-07-21T13:45:00",
          "2017-07-21T14:00:00",
          "2017-07-21T14:15:00",
          "2017-07-21T14:30:00",
          "2017-07-21T14:45:00",
          "2017-07-21T15:00:00",
          "2017-07-21T15:15:00",
          "2017-07-21T15:30:00",
          "2017-07-21T15:45:00",
          "2017-07-21T16:00:00",
          "2017-07-21T16:15:00",
          "2017-07-21T16:30:00",
          "2017-07-21T16:45:00",
          "2017-07-21T17:00:00",
          "2017-07-21T17:15:00",
          "2017-07-21T17:30:00",
          "2017-07-21T17:45:00",
          "2017-07-21T18:00:00",
          "2017-07-21T18:15:00",
          "2017-07-21T18:30:00",
          "2017-07-21T18:45:00",
          "2017-07-21T19:00:00",
          "2017-07-21T19:15:00",
          "2017-07-21T19:30:00",
          "2017-07-21T19:45:00",
          "2017-07-21T20:00:00",
          "2017-07-21T20:15:00",
          "2017-07-21T20:30:00",
          "2017-07-21T20:45:00",
          "2017-07-21T21:00:00",
          "2017-07-21T21:15:00",
          "2017-07-21T21:30:00",
          "2017-07-21T21:45:00",
          "2017-07-21T22:00:00",
          "2017-07-21T22:15:00",
          "2017-07-21T22:30:00",
          "2017-07-21T22:45:00",
          "2017-07-21T23:00:00",
          "2017-07-21T23:15:00",
          "2017-07-21T23:30:00",
          "2017-07-21T23:45:00"
         ],
         "xaxis": "x3",
         "y": [
          99.76577777804526,
          90.0065439680043,
          84.18715869367406,
          77.74244718930767,
          70.56070788586429,
          62.487556289739516,
          53.35055897224494,
          42.815179321935176,
          30.63094664505216,
          15.585511596024654,
          3.611351138001047,
          0.00008709291681944457,
          0,
          0,
          0,
          0,
          0,
          0,
          0,
          0,
          0,
          0,
          0,
          0,
          0,
          0,
          0,
          0,
          0,
          0,
          0,
          0,
          0,
          0,
          0,
          0,
          0,
          0,
          0,
          0,
          0,
          0,
          0,
          0,
          0,
          0,
          0,
          0,
          0,
          0,
          0,
          0.07778919954139578,
          6.755387473913532,
          19.516034546372055,
          34.468916024737375,
          46.13615171308435,
          56.19492617945854,
          65.01338492079665,
          72.79994615347873,
          79.7466510009575,
          85.99373225054325,
          91.64244894766708,
          101.24050718878978,
          114.41867087657303,
          146.1424822098766,
          177.1733299802195,
          207.1671457355876,
          236.37677840798625,
          262.7531981784611,
          287.3108182783461,
          309.87421243981373,
          330.29331181716793,
          348.44237820830097,
          364.2200737268087,
          377.5504829386472,
          388.384734553253,
          396.70217682264723,
          402.5086777509008,
          405.8283083905301,
          406.68663175937456,
          405.09213883443954,
          401.0297244718508,
          394.4721659532259,
          385.39945057313804,
          373.8131663641602,
          359.74244516918213,
          343.2444440698048,
          324.4028567737428,
          303.3264061025149,
          280.14808656425373,
          255.0254101759732,
          227.39020500486626,
          198.2994560001393,
          167.9617839706042,
          136.68435358744162,
          104.82909443306814
         ],
         "yaxis": "y3"
        },
        {
         "name": "North Block",
         "type": "scatter",
         "x": [
          "2017-07-21T00:00:00",
          "2017-07-21T00:15:00",
          "2017-07-21T00:30:00",
          "2017-07-21T00:45:00",
          "2017-07-21T01:00:00",
          "2017-07-21T01:15:00",
          "2017-07-21T01:30:00",
          "2017-07-21T01:45:00",
          "2017-07-21T02:00:00",
          "2017-07-21T02:15:00",
          "2017-07-21T02:30:00",
          "2017-07-21T02:45:00",
          "2017-07-21T03:00:00",
          "2017-07-21T03:15:00",
          "2017-07-21T03:30:00",
          "2017-07-21T03:45:00",
          "2017-07-21T04:00:00",
          "2017-07-21T04:15:00",
          "2017-07-21T04:30:00",
          "2017-07-21T04:45:00",
          "2017-07-21T05:00:00",
          "2017-07-21T05:15:00",
          "2017-07-21T05:30:00",
          "2017-07-21T05:45:00",
          "2017-07-21T06:00:00",
          "2017-07-21T06:15:00",
          "2017-07-21T06:30:00",
          "2017-07-21T06:45:00",
          "2017-07-21T07:00:00",
          "2017-07-21T07:15:00",
          "2017-07-21T07:30:00",
          "2017-07-21T07:45:00",
          "2017-07-21T08:00:00",
          "2017-07-21T08:15:00",
          "2017-07-21T08:30:00",
          "2017-07-21T08:45:00",
          "2017-07-21T09:00:00",
          "2017-07-21T09:15:00",
          "2017-07-21T09:30:00",
          "2017-07-21T09:45:00",
          "2017-07-21T10:00:00",
          "2017-07-21T10:15:00",
          "2017-07-21T10:30:00",
          "2017-07-21T10:45:00",
          "2017-07-21T11:00:00",
          "2017-07-21T11:15:00",
          "2017-07-21T11:30:00",
          "2017-07-21T11:45:00",
          "2017-07-21T12:00:00",
          "2017-07-21T12:15:00",
          "2017-07-21T12:30:00",
          "2017-07-21T12:45:00",
          "2017-07-21T13:00:00",
          "2017-07-21T13:15:00",
          "2017-07-21T13:30:00",
          "2017-07-21T13:45:00",
          "2017-07-21T14:00:00",
          "2017-07-21T14:15:00",
          "2017-07-21T14:30:00",
          "2017-07-21T14:45:00",
          "2017-07-21T15:00:00",
          "2017-07-21T15:15:00",
          "2017-07-21T15:30:00",
          "2017-07-21T15:45:00",
          "2017-07-21T16:00:00",
          "2017-07-21T16:15:00",
          "2017-07-21T16:30:00",
          "2017-07-21T16:45:00",
          "2017-07-21T17:00:00",
          "2017-07-21T17:15:00",
          "2017-07-21T17:30:00",
          "2017-07-21T17:45:00",
          "2017-07-21T18:00:00",
          "2017-07-21T18:15:00",
          "2017-07-21T18:30:00",
          "2017-07-21T18:45:00",
          "2017-07-21T19:00:00",
          "2017-07-21T19:15:00",
          "2017-07-21T19:30:00",
          "2017-07-21T19:45:00",
          "2017-07-21T20:00:00",
          "2017-07-21T20:15:00",
          "2017-07-21T20:30:00",
          "2017-07-21T20:45:00",
          "2017-07-21T21:00:00",
          "2017-07-21T21:15:00",
          "2017-07-21T21:30:00",
          "2017-07-21T21:45:00",
          "2017-07-21T22:00:00",
          "2017-07-21T22:15:00",
          "2017-07-21T22:30:00",
          "2017-07-21T22:45:00",
          "2017-07-21T23:00:00",
          "2017-07-21T23:15:00",
          "2017-07-21T23:30:00",
          "2017-07-21T23:45:00"
         ],
         "xaxis": "x4",
         "y": [
          795.6419943520559,
          795.0537087781292,
          778.7670553864444,
          751.9245397932292,
          712.7760347246356,
          659.0353893206513,
          588.6114450225834,
          496.6184507043007,
          379.80822303446473,
          221.62496240756113,
          55.23165738432407,
          0.0013384365456465515,
          0,
          0,
          0,
          0,
          0,
          0,
          0,
          0,
          0,
          0,
          0,
          0,
          0,
          0,
          0,
          0,
          0,
          0,
          0,
          0,
          0,
          0,
          0,
          0,
          0,
          0,
          0,
          0,
          0,
          0,
          0,
          0,
          0,
          0,
          0,
          0,
          0,
          0,
          0,
          0.07778919954139578,
          6.755387473913532,
          19.516034546372055,
          34.468916024737375,
          46.13615171308435,
          56.19492617945854,
          65.01338492079665,
          72.79994615347873,
          79.7466510009575,
          85.99373225054325,
          91.64244894766708,
          101.24050718878978,
          105.83168368997329,
          109.95239041498338,
          113.63536979509877,
          116.90514898528644,
          123.4167814526101,
          125.92540036987378,
          128.02377554487492,
          129.7303427448541,
          131.0651421509251,
          132.05185074476677,
          132.72026990458033,
          133.1093338024335,
          133.27035090409626,
          133.26924253867793,
          133.1847345134681,
          133.09777393513414,
          141.73940304251195,
          199.50783524836572,
          256.8709462676405,
          313.37774188357776,
          368.5780542210269,
          422.039193537898,
          473.3496518142887,
          522.1155358274669,
          567.9546018655893,
          610.4900485583642,
          649.344476940079,
          684.1336784158191,
          726.9363033763946,
          752.8745245248426,
          773.2945951194523,
          787.6584863110884,
          795.3494830557582
         ],
         "yaxis": "y4"
        },
        {
         "name": "West Block",
         "type": "scatter",
         "x": [
          "2017-07-21T00:00:00",
          "2017-07-21T00:15:00",
          "2017-07-21T00:30:00",
          "2017-07-21T00:45:00",
          "2017-07-21T01:00:00",
          "2017-07-21T01:15:00",
          "2017-07-21T01:30:00",
          "2017-07-21T01:45:00",
          "2017-07-21T02:00:00",
          "2017-07-21T02:15:00",
          "2017-07-21T02:30:00",
          "2017-07-21T02:45:00",
          "2017-07-21T03:00:00",
          "2017-07-21T03:15:00",
          "2017-07-21T03:30:00",
          "2017-07-21T03:45:00",
          "2017-07-21T04:00:00",
          "2017-07-21T04:15:00",
          "2017-07-21T04:30:00",
          "2017-07-21T04:45:00",
          "2017-07-21T05:00:00",
          "2017-07-21T05:15:00",
          "2017-07-21T05:30:00",
          "2017-07-21T05:45:00",
          "2017-07-21T06:00:00",
          "2017-07-21T06:15:00",
          "2017-07-21T06:30:00",
          "2017-07-21T06:45:00",
          "2017-07-21T07:00:00",
          "2017-07-21T07:15:00",
          "2017-07-21T07:30:00",
          "2017-07-21T07:45:00",
          "2017-07-21T08:00:00",
          "2017-07-21T08:15:00",
          "2017-07-21T08:30:00",
          "2017-07-21T08:45:00",
          "2017-07-21T09:00:00",
          "2017-07-21T09:15:00",
          "2017-07-21T09:30:00",
          "2017-07-21T09:45:00",
          "2017-07-21T10:00:00",
          "2017-07-21T10:15:00",
          "2017-07-21T10:30:00",
          "2017-07-21T10:45:00",
          "2017-07-21T11:00:00",
          "2017-07-21T11:15:00",
          "2017-07-21T11:30:00",
          "2017-07-21T11:45:00",
          "2017-07-21T12:00:00",
          "2017-07-21T12:15:00",
          "2017-07-21T12:30:00",
          "2017-07-21T12:45:00",
          "2017-07-21T13:00:00",
          "2017-07-21T13:15:00",
          "2017-07-21T13:30:00",
          "2017-07-21T13:45:00",
          "2017-07-21T14:00:00",
          "2017-07-21T14:15:00",
          "2017-07-21T14:30:00",
          "2017-07-21T14:45:00",
          "2017-07-21T15:00:00",
          "2017-07-21T15:15:00",
          "2017-07-21T15:30:00",
          "2017-07-21T15:45:00",
          "2017-07-21T16:00:00",
          "2017-07-21T16:15:00",
          "2017-07-21T16:30:00",
          "2017-07-21T16:45:00",
          "2017-07-21T17:00:00",
          "2017-07-21T17:15:00",
          "2017-07-21T17:30:00",
          "2017-07-21T17:45:00",
          "2017-07-21T18:00:00",
          "2017-07-21T18:15:00",
          "2017-07-21T18:30:00",
          "2017-07-21T18:45:00",
          "2017-07-21T19:00:00",
          "2017-07-21T19:15:00",
          "2017-07-21T19:30:00",
          "2017-07-21T19:45:00",
          "2017-07-21T20:00:00",
          "2017-07-21T20:15:00",
          "2017-07-21T20:30:00",
          "2017-07-21T20:45:00",
          "2017-07-21T21:00:00",
          "2017-07-21T21:15:00",
          "2017-07-21T21:30:00",
          "2017-07-21T21:45:00",
          "2017-07-21T22:00:00",
          "2017-07-21T22:15:00",
          "2017-07-21T22:30:00",
          "2017-07-21T22:45:00",
          "2017-07-21T23:00:00",
          "2017-07-21T23:15:00",
          "2017-07-21T23:30:00",
          "2017-07-21T23:45:00"
         ],
         "xaxis": "x4",
         "y": [
          795.6419943520559,
          795.0537087781292,
          778.7670553864444,
          751.9245397932292,
          712.7760347246356,
          659.0353893206513,
          588.6114450225834,
          496.6184507043007,
          379.80822303446473,
          221.62496240756113,
          55.23165738432407,
          0.0013384365456465515,
          0,
          0,
          0,
          0,
          0,
          0,
          0,
          0,
          0,
          0,
          0,
          0,
          0,
          0,
          0,
          0,
          0,
          0,
          0,
          0,
          0,
          0,
          0,
          0,
          0,
          0,
          0,
          0,
          0,
          0,
          0,
          0,
          0,
          0,
          0,
          0,
          0,
          0,
          0,
          0.07778919954139578,
          6.755387473913532,
          19.516034546372055,
          34.468916024737375,
          46.13615171308435,
          56.19492617945854,
          65.01338492079665,
          72.79994615347873,
          79.7466510009575,
          85.99373225054325,
          91.64244894766708,
          101.24050718878978,
          105.83168368997329,
          109.95239041498338,
          113.63536979509877,
          116.90514898528644,
          123.4167814526101,
          125.92540036987378,
          128.02377554487492,
          129.7303427448541,
          131.0651421509251,
          132.05185074476677,
          132.72026990458033,
          133.1093338024335,
          133.27035090409626,
          133.26924253867793,
          133.1847345134681,
          133.09777393513414,
          141.73940304251195,
          199.50783524836572,
          256.8709462676405,
          313.37774188357776,
          368.5780542210269,
          422.039193537898,
          473.3496518142887,
          522.1155358274669,
          567.9546018655893,
          610.4900485583642,
          649.344476940079,
          684.1336784158191,
          726.9363033763946,
          752.8745245248426,
          773.2945951194523,
          787.6584863110884,
          795.3494830557582
         ],
         "yaxis": "y4"
        }
       ],
       "layout": {
        "annotations": [
         {
          "font": {
           "size": 16
          },
          "showarrow": false,
          "text": "NORTH WALLS",
          "x": 0.5,
          "xanchor": "center",
          "xref": "paper",
          "y": 1,
          "yanchor": "bottom",
          "yref": "paper"
         },
         {
          "font": {
           "size": 16
          },
          "showarrow": false,
          "text": "EAST WALLS",
          "x": 0.5,
          "xanchor": "center",
          "xref": "paper",
          "y": 0.71875,
          "yanchor": "bottom",
          "yref": "paper"
         },
         {
          "font": {
           "size": 16
          },
          "showarrow": false,
          "text": "SOUTH WALLS",
          "x": 0.5,
          "xanchor": "center",
          "xref": "paper",
          "y": 0.4375,
          "yanchor": "bottom",
          "yref": "paper"
         },
         {
          "font": {
           "size": 16
          },
          "showarrow": false,
          "text": "WEST WALLS",
          "x": 0.5,
          "xanchor": "center",
          "xref": "paper",
          "y": 0.15625,
          "yanchor": "bottom",
          "yref": "paper"
         }
        ],
        "template": {
         "data": {
          "bar": [
           {
            "error_x": {
             "color": "#2a3f5f"
            },
            "error_y": {
             "color": "#2a3f5f"
            },
            "marker": {
             "line": {
              "color": "#E5ECF6",
              "width": 0.5
             },
             "pattern": {
              "fillmode": "overlay",
              "size": 10,
              "solidity": 0.2
             }
            },
            "type": "bar"
           }
          ],
          "barpolar": [
           {
            "marker": {
             "line": {
              "color": "#E5ECF6",
              "width": 0.5
             },
             "pattern": {
              "fillmode": "overlay",
              "size": 10,
              "solidity": 0.2
             }
            },
            "type": "barpolar"
           }
          ],
          "carpet": [
           {
            "aaxis": {
             "endlinecolor": "#2a3f5f",
             "gridcolor": "white",
             "linecolor": "white",
             "minorgridcolor": "white",
             "startlinecolor": "#2a3f5f"
            },
            "baxis": {
             "endlinecolor": "#2a3f5f",
             "gridcolor": "white",
             "linecolor": "white",
             "minorgridcolor": "white",
             "startlinecolor": "#2a3f5f"
            },
            "type": "carpet"
           }
          ],
          "choropleth": [
           {
            "colorbar": {
             "outlinewidth": 0,
             "ticks": ""
            },
            "type": "choropleth"
           }
          ],
          "contour": [
           {
            "colorbar": {
             "outlinewidth": 0,
             "ticks": ""
            },
            "colorscale": [
             [
              0,
              "#0d0887"
             ],
             [
              0.1111111111111111,
              "#46039f"
             ],
             [
              0.2222222222222222,
              "#7201a8"
             ],
             [
              0.3333333333333333,
              "#9c179e"
             ],
             [
              0.4444444444444444,
              "#bd3786"
             ],
             [
              0.5555555555555556,
              "#d8576b"
             ],
             [
              0.6666666666666666,
              "#ed7953"
             ],
             [
              0.7777777777777778,
              "#fb9f3a"
             ],
             [
              0.8888888888888888,
              "#fdca26"
             ],
             [
              1,
              "#f0f921"
             ]
            ],
            "type": "contour"
           }
          ],
          "contourcarpet": [
           {
            "colorbar": {
             "outlinewidth": 0,
             "ticks": ""
            },
            "type": "contourcarpet"
           }
          ],
          "heatmap": [
           {
            "colorbar": {
             "outlinewidth": 0,
             "ticks": ""
            },
            "colorscale": [
             [
              0,
              "#0d0887"
             ],
             [
              0.1111111111111111,
              "#46039f"
             ],
             [
              0.2222222222222222,
              "#7201a8"
             ],
             [
              0.3333333333333333,
              "#9c179e"
             ],
             [
              0.4444444444444444,
              "#bd3786"
             ],
             [
              0.5555555555555556,
              "#d8576b"
             ],
             [
              0.6666666666666666,
              "#ed7953"
             ],
             [
              0.7777777777777778,
              "#fb9f3a"
             ],
             [
              0.8888888888888888,
              "#fdca26"
             ],
             [
              1,
              "#f0f921"
             ]
            ],
            "type": "heatmap"
           }
          ],
          "heatmapgl": [
           {
            "colorbar": {
             "outlinewidth": 0,
             "ticks": ""
            },
            "colorscale": [
             [
              0,
              "#0d0887"
             ],
             [
              0.1111111111111111,
              "#46039f"
             ],
             [
              0.2222222222222222,
              "#7201a8"
             ],
             [
              0.3333333333333333,
              "#9c179e"
             ],
             [
              0.4444444444444444,
              "#bd3786"
             ],
             [
              0.5555555555555556,
              "#d8576b"
             ],
             [
              0.6666666666666666,
              "#ed7953"
             ],
             [
              0.7777777777777778,
              "#fb9f3a"
             ],
             [
              0.8888888888888888,
              "#fdca26"
             ],
             [
              1,
              "#f0f921"
             ]
            ],
            "type": "heatmapgl"
           }
          ],
          "histogram": [
           {
            "marker": {
             "pattern": {
              "fillmode": "overlay",
              "size": 10,
              "solidity": 0.2
             }
            },
            "type": "histogram"
           }
          ],
          "histogram2d": [
           {
            "colorbar": {
             "outlinewidth": 0,
             "ticks": ""
            },
            "colorscale": [
             [
              0,
              "#0d0887"
             ],
             [
              0.1111111111111111,
              "#46039f"
             ],
             [
              0.2222222222222222,
              "#7201a8"
             ],
             [
              0.3333333333333333,
              "#9c179e"
             ],
             [
              0.4444444444444444,
              "#bd3786"
             ],
             [
              0.5555555555555556,
              "#d8576b"
             ],
             [
              0.6666666666666666,
              "#ed7953"
             ],
             [
              0.7777777777777778,
              "#fb9f3a"
             ],
             [
              0.8888888888888888,
              "#fdca26"
             ],
             [
              1,
              "#f0f921"
             ]
            ],
            "type": "histogram2d"
           }
          ],
          "histogram2dcontour": [
           {
            "colorbar": {
             "outlinewidth": 0,
             "ticks": ""
            },
            "colorscale": [
             [
              0,
              "#0d0887"
             ],
             [
              0.1111111111111111,
              "#46039f"
             ],
             [
              0.2222222222222222,
              "#7201a8"
             ],
             [
              0.3333333333333333,
              "#9c179e"
             ],
             [
              0.4444444444444444,
              "#bd3786"
             ],
             [
              0.5555555555555556,
              "#d8576b"
             ],
             [
              0.6666666666666666,
              "#ed7953"
             ],
             [
              0.7777777777777778,
              "#fb9f3a"
             ],
             [
              0.8888888888888888,
              "#fdca26"
             ],
             [
              1,
              "#f0f921"
             ]
            ],
            "type": "histogram2dcontour"
           }
          ],
          "mesh3d": [
           {
            "colorbar": {
             "outlinewidth": 0,
             "ticks": ""
            },
            "type": "mesh3d"
           }
          ],
          "parcoords": [
           {
            "line": {
             "colorbar": {
              "outlinewidth": 0,
              "ticks": ""
             }
            },
            "type": "parcoords"
           }
          ],
          "pie": [
           {
            "automargin": true,
            "type": "pie"
           }
          ],
          "scatter": [
           {
            "fillpattern": {
             "fillmode": "overlay",
             "size": 10,
             "solidity": 0.2
            },
            "type": "scatter"
           }
          ],
          "scatter3d": [
           {
            "line": {
             "colorbar": {
              "outlinewidth": 0,
              "ticks": ""
             }
            },
            "marker": {
             "colorbar": {
              "outlinewidth": 0,
              "ticks": ""
             }
            },
            "type": "scatter3d"
           }
          ],
          "scattercarpet": [
           {
            "marker": {
             "colorbar": {
              "outlinewidth": 0,
              "ticks": ""
             }
            },
            "type": "scattercarpet"
           }
          ],
          "scattergeo": [
           {
            "marker": {
             "colorbar": {
              "outlinewidth": 0,
              "ticks": ""
             }
            },
            "type": "scattergeo"
           }
          ],
          "scattergl": [
           {
            "marker": {
             "colorbar": {
              "outlinewidth": 0,
              "ticks": ""
             }
            },
            "type": "scattergl"
           }
          ],
          "scattermapbox": [
           {
            "marker": {
             "colorbar": {
              "outlinewidth": 0,
              "ticks": ""
             }
            },
            "type": "scattermapbox"
           }
          ],
          "scatterpolar": [
           {
            "marker": {
             "colorbar": {
              "outlinewidth": 0,
              "ticks": ""
             }
            },
            "type": "scatterpolar"
           }
          ],
          "scatterpolargl": [
           {
            "marker": {
             "colorbar": {
              "outlinewidth": 0,
              "ticks": ""
             }
            },
            "type": "scatterpolargl"
           }
          ],
          "scatterternary": [
           {
            "marker": {
             "colorbar": {
              "outlinewidth": 0,
              "ticks": ""
             }
            },
            "type": "scatterternary"
           }
          ],
          "surface": [
           {
            "colorbar": {
             "outlinewidth": 0,
             "ticks": ""
            },
            "colorscale": [
             [
              0,
              "#0d0887"
             ],
             [
              0.1111111111111111,
              "#46039f"
             ],
             [
              0.2222222222222222,
              "#7201a8"
             ],
             [
              0.3333333333333333,
              "#9c179e"
             ],
             [
              0.4444444444444444,
              "#bd3786"
             ],
             [
              0.5555555555555556,
              "#d8576b"
             ],
             [
              0.6666666666666666,
              "#ed7953"
             ],
             [
              0.7777777777777778,
              "#fb9f3a"
             ],
             [
              0.8888888888888888,
              "#fdca26"
             ],
             [
              1,
              "#f0f921"
             ]
            ],
            "type": "surface"
           }
          ],
          "table": [
           {
            "cells": {
             "fill": {
              "color": "#EBF0F8"
             },
             "line": {
              "color": "white"
             }
            },
            "header": {
             "fill": {
              "color": "#C8D4E3"
             },
             "line": {
              "color": "white"
             }
            },
            "type": "table"
           }
          ]
         },
         "layout": {
          "annotationdefaults": {
           "arrowcolor": "#2a3f5f",
           "arrowhead": 0,
           "arrowwidth": 1
          },
          "autotypenumbers": "strict",
          "coloraxis": {
           "colorbar": {
            "outlinewidth": 0,
            "ticks": ""
           }
          },
          "colorscale": {
           "diverging": [
            [
             0,
             "#8e0152"
            ],
            [
             0.1,
             "#c51b7d"
            ],
            [
             0.2,
             "#de77ae"
            ],
            [
             0.3,
             "#f1b6da"
            ],
            [
             0.4,
             "#fde0ef"
            ],
            [
             0.5,
             "#f7f7f7"
            ],
            [
             0.6,
             "#e6f5d0"
            ],
            [
             0.7,
             "#b8e186"
            ],
            [
             0.8,
             "#7fbc41"
            ],
            [
             0.9,
             "#4d9221"
            ],
            [
             1,
             "#276419"
            ]
           ],
           "sequential": [
            [
             0,
             "#0d0887"
            ],
            [
             0.1111111111111111,
             "#46039f"
            ],
            [
             0.2222222222222222,
             "#7201a8"
            ],
            [
             0.3333333333333333,
             "#9c179e"
            ],
            [
             0.4444444444444444,
             "#bd3786"
            ],
            [
             0.5555555555555556,
             "#d8576b"
            ],
            [
             0.6666666666666666,
             "#ed7953"
            ],
            [
             0.7777777777777778,
             "#fb9f3a"
            ],
            [
             0.8888888888888888,
             "#fdca26"
            ],
            [
             1,
             "#f0f921"
            ]
           ],
           "sequentialminus": [
            [
             0,
             "#0d0887"
            ],
            [
             0.1111111111111111,
             "#46039f"
            ],
            [
             0.2222222222222222,
             "#7201a8"
            ],
            [
             0.3333333333333333,
             "#9c179e"
            ],
            [
             0.4444444444444444,
             "#bd3786"
            ],
            [
             0.5555555555555556,
             "#d8576b"
            ],
            [
             0.6666666666666666,
             "#ed7953"
            ],
            [
             0.7777777777777778,
             "#fb9f3a"
            ],
            [
             0.8888888888888888,
             "#fdca26"
            ],
            [
             1,
             "#f0f921"
            ]
           ]
          },
          "colorway": [
           "#636efa",
           "#EF553B",
           "#00cc96",
           "#ab63fa",
           "#FFA15A",
           "#19d3f3",
           "#FF6692",
           "#B6E880",
           "#FF97FF",
           "#FECB52"
          ],
          "font": {
           "color": "#2a3f5f"
          },
          "geo": {
           "bgcolor": "white",
           "lakecolor": "white",
           "landcolor": "#E5ECF6",
           "showlakes": true,
           "showland": true,
           "subunitcolor": "white"
          },
          "hoverlabel": {
           "align": "left"
          },
          "hovermode": "closest",
          "mapbox": {
           "style": "light"
          },
          "paper_bgcolor": "white",
          "plot_bgcolor": "#E5ECF6",
          "polar": {
           "angularaxis": {
            "gridcolor": "white",
            "linecolor": "white",
            "ticks": ""
           },
           "bgcolor": "#E5ECF6",
           "radialaxis": {
            "gridcolor": "white",
            "linecolor": "white",
            "ticks": ""
           }
          },
          "scene": {
           "xaxis": {
            "backgroundcolor": "#E5ECF6",
            "gridcolor": "white",
            "gridwidth": 2,
            "linecolor": "white",
            "showbackground": true,
            "ticks": "",
            "zerolinecolor": "white"
           },
           "yaxis": {
            "backgroundcolor": "#E5ECF6",
            "gridcolor": "white",
            "gridwidth": 2,
            "linecolor": "white",
            "showbackground": true,
            "ticks": "",
            "zerolinecolor": "white"
           },
           "zaxis": {
            "backgroundcolor": "#E5ECF6",
            "gridcolor": "white",
            "gridwidth": 2,
            "linecolor": "white",
            "showbackground": true,
            "ticks": "",
            "zerolinecolor": "white"
           }
          },
          "shapedefaults": {
           "line": {
            "color": "#2a3f5f"
           }
          },
          "ternary": {
           "aaxis": {
            "gridcolor": "white",
            "linecolor": "white",
            "ticks": ""
           },
           "baxis": {
            "gridcolor": "white",
            "linecolor": "white",
            "ticks": ""
           },
           "bgcolor": "#E5ECF6",
           "caxis": {
            "gridcolor": "white",
            "linecolor": "white",
            "ticks": ""
           }
          },
          "title": {
           "x": 0.05
          },
          "xaxis": {
           "automargin": true,
           "gridcolor": "white",
           "linecolor": "white",
           "ticks": "",
           "title": {
            "standoff": 15
           },
           "zerolinecolor": "white",
           "zerolinewidth": 2
          },
          "yaxis": {
           "automargin": true,
           "gridcolor": "white",
           "linecolor": "white",
           "ticks": "",
           "title": {
            "standoff": 15
           },
           "zerolinecolor": "white",
           "zerolinewidth": 2
          }
         }
        },
        "xaxis": {
         "anchor": "y",
         "domain": [
          0,
          1
         ]
        },
        "xaxis2": {
         "anchor": "y2",
         "domain": [
          0,
          1
         ]
        },
        "xaxis3": {
         "anchor": "y3",
         "domain": [
          0,
          1
         ]
        },
        "xaxis4": {
         "anchor": "y4",
         "domain": [
          0,
          1
         ]
        },
        "yaxis": {
         "anchor": "x",
         "domain": [
          0.84375,
          1
         ]
        },
        "yaxis2": {
         "anchor": "x2",
         "domain": [
          0.5625,
          0.71875
         ]
        },
        "yaxis3": {
         "anchor": "x3",
         "domain": [
          0.28125,
          0.4375
         ]
        },
        "yaxis4": {
         "anchor": "x4",
         "domain": [
          0,
          0.15625
         ]
        }
       }
      }
     },
     "metadata": {},
     "output_type": "display_data"
    }
   ],
   "source": [
    "fig = make_subplots(rows=len(direction_names), cols=1, subplot_titles=direction_titles)\n",
    "\n",
    "for ix, direction in enumerate(direction_names):\n",
    "    row = ix+1\n",
    "    for wall in sql.wall_list:\n",
    "        if wall.direction == direction:\n",
    "            print((wall, wall.name))\n",
    "            try:\n",
    "                data = wall.output_data[\"surf_incident_solar_rad7-21\"]\n",
    "            except:\n",
    "                print(\"No data for {wall.}\")\n",
    "                continue\n",
    "            dataset = data.dataset\n",
    "\n",
    "            fig.add_trace(go.Scatter(x=dataset.datetimes, y=dataset.values, name=f\"{wall.zone} Block\"), row=row, col=1)\n",
    "\n",
    "fig.show()\n"
   ]
  },
  {
   "cell_type": "code",
   "execution_count": 46,
   "metadata": {},
   "outputs": [
    {
     "data": {
      "text/plain": [
       "{}"
      ]
     },
     "execution_count": 46,
     "metadata": {},
     "output_type": "execute_result"
    }
   ],
   "source": [
    "sql.wall_dict[\"BLOCK WEST STOREY 0 WALL 0002\"].output_data"
   ]
  },
  {
   "cell_type": "code",
   "execution_count": 44,
   "metadata": {},
   "outputs": [
    {
     "data": {
      "text/plain": [
       "{'BLOCK NORTH STOREY 0 WALL 0001': Wall(North_EAST),\n",
       " 'BLOCK NORTH STOREY 0 WALL 0002': Wall(North_NORTH),\n",
       " 'BLOCK NORTH STOREY 0 WALL 0003': Wall(North_WEST),\n",
       " 'BLOCK NORTH STOREY 0 WALL 0004': Wall(North_SOUTH),\n",
       " 'BLOCK WEST STOREY 0 WALL 0001': Wall(West_EAST),\n",
       " 'BLOCK WEST STOREY 0 WALL 0002': Wall(West_NORTH),\n",
       " 'BLOCK WEST STOREY 0 WALL 0003': Wall(West_WEST),\n",
       " 'BLOCK WEST STOREY 0 WALL 0004': Wall(West_SOUTH)}"
      ]
     },
     "execution_count": 44,
     "metadata": {},
     "output_type": "execute_result"
    }
   ],
   "source": [
    "sql.wall_dict"
   ]
  },
  {
   "cell_type": "code",
   "execution_count": 43,
   "metadata": {},
   "outputs": [
    {
     "ename": "KeyError",
     "evalue": "'Block West Storey 0 Wall 0002'",
     "output_type": "error",
     "traceback": [
      "\u001b[0;31m---------------------------------------------------------------------------\u001b[0m",
      "\u001b[0;31mKeyError\u001b[0m                                  Traceback (most recent call last)",
      "Cell \u001b[0;32mIn[43], line 1\u001b[0m\n\u001b[0;32m----> 1\u001b[0m \u001b[43msql\u001b[49m\u001b[38;5;241;43m.\u001b[39;49m\u001b[43mwall_dict\u001b[49m\u001b[43m[\u001b[49m\u001b[38;5;124;43m\"\u001b[39;49m\u001b[38;5;124;43mBlock West Storey 0 Wall 0002\u001b[39;49m\u001b[38;5;124;43m\"\u001b[39;49m\u001b[43m]\u001b[49m\n",
      "\u001b[0;31mKeyError\u001b[0m: 'Block West Storey 0 Wall 0002'"
     ]
    }
   ],
   "source": [
    "sql.wall_dict[\"Block West Storey 0 Wall 0002\"]"
   ]
  },
  {
   "cell_type": "code",
   "execution_count": 14,
   "metadata": {},
   "outputs": [
    {
     "data": {
      "application/vnd.plotly.v1+json": {
       "config": {
        "plotlyServerURL": "https://plotly.com"
       },
       "data": [
        {
         "name": "North",
         "type": "scatter",
         "x": [
          "2017-12-21T00:00:00",
          "2017-12-21T00:15:00",
          "2017-12-21T00:30:00",
          "2017-12-21T00:45:00",
          "2017-12-21T01:00:00",
          "2017-12-21T01:15:00",
          "2017-12-21T01:30:00",
          "2017-12-21T01:45:00",
          "2017-12-21T02:00:00",
          "2017-12-21T02:15:00",
          "2017-12-21T02:30:00",
          "2017-12-21T02:45:00",
          "2017-12-21T03:00:00",
          "2017-12-21T03:15:00",
          "2017-12-21T03:30:00",
          "2017-12-21T03:45:00",
          "2017-12-21T04:00:00",
          "2017-12-21T04:15:00",
          "2017-12-21T04:30:00",
          "2017-12-21T04:45:00",
          "2017-12-21T05:00:00",
          "2017-12-21T05:15:00",
          "2017-12-21T05:30:00",
          "2017-12-21T05:45:00",
          "2017-12-21T06:00:00",
          "2017-12-21T06:15:00",
          "2017-12-21T06:30:00",
          "2017-12-21T06:45:00",
          "2017-12-21T07:00:00",
          "2017-12-21T07:15:00",
          "2017-12-21T07:30:00",
          "2017-12-21T07:45:00",
          "2017-12-21T08:00:00",
          "2017-12-21T08:15:00",
          "2017-12-21T08:30:00",
          "2017-12-21T08:45:00",
          "2017-12-21T09:00:00",
          "2017-12-21T09:15:00",
          "2017-12-21T09:30:00",
          "2017-12-21T09:45:00",
          "2017-12-21T10:00:00",
          "2017-12-21T10:15:00",
          "2017-12-21T10:30:00",
          "2017-12-21T10:45:00",
          "2017-12-21T11:00:00",
          "2017-12-21T11:15:00",
          "2017-12-21T11:30:00",
          "2017-12-21T11:45:00",
          "2017-12-21T12:00:00",
          "2017-12-21T12:15:00",
          "2017-12-21T12:30:00",
          "2017-12-21T12:45:00",
          "2017-12-21T13:00:00",
          "2017-12-21T13:15:00",
          "2017-12-21T13:30:00",
          "2017-12-21T13:45:00",
          "2017-12-21T14:00:00",
          "2017-12-21T14:15:00",
          "2017-12-21T14:30:00",
          "2017-12-21T14:45:00",
          "2017-12-21T15:00:00",
          "2017-12-21T15:15:00",
          "2017-12-21T15:30:00",
          "2017-12-21T15:45:00",
          "2017-12-21T16:00:00",
          "2017-12-21T16:15:00",
          "2017-12-21T16:30:00",
          "2017-12-21T16:45:00",
          "2017-12-21T17:00:00",
          "2017-12-21T17:15:00",
          "2017-12-21T17:30:00",
          "2017-12-21T17:45:00",
          "2017-12-21T18:00:00",
          "2017-12-21T18:15:00",
          "2017-12-21T18:30:00",
          "2017-12-21T18:45:00",
          "2017-12-21T19:00:00",
          "2017-12-21T19:15:00",
          "2017-12-21T19:30:00",
          "2017-12-21T19:45:00",
          "2017-12-21T20:00:00",
          "2017-12-21T20:15:00",
          "2017-12-21T20:30:00",
          "2017-12-21T20:45:00",
          "2017-12-21T21:00:00",
          "2017-12-21T21:15:00",
          "2017-12-21T21:30:00",
          "2017-12-21T21:45:00",
          "2017-12-21T22:00:00",
          "2017-12-21T22:15:00",
          "2017-12-21T22:30:00",
          "2017-12-21T22:45:00",
          "2017-12-21T23:00:00",
          "2017-12-21T23:15:00",
          "2017-12-21T23:30:00",
          "2017-12-21T23:45:00"
         ],
         "y": [
          0,
          0,
          0,
          0,
          0,
          0,
          0,
          0,
          0,
          0,
          0,
          0,
          0,
          0,
          0,
          0,
          0,
          0,
          0,
          0,
          0,
          0,
          0,
          0,
          0,
          0,
          0,
          0,
          0,
          0,
          0,
          0,
          0,
          0,
          0,
          0,
          0,
          0,
          0,
          0,
          0,
          0,
          0,
          0,
          0,
          0,
          0,
          0,
          0,
          0,
          0,
          0,
          0,
          0,
          0,
          0,
          0,
          0,
          0,
          0,
          0,
          0,
          0,
          0,
          0,
          0,
          0,
          0,
          0,
          0,
          0,
          0,
          0,
          0,
          0,
          0,
          0,
          0,
          0,
          0,
          0,
          0,
          0,
          0,
          0,
          0,
          0,
          0,
          0,
          0,
          0,
          0,
          0,
          0,
          0,
          0
         ]
        }
       ],
       "layout": {
        "template": {
         "data": {
          "bar": [
           {
            "error_x": {
             "color": "#2a3f5f"
            },
            "error_y": {
             "color": "#2a3f5f"
            },
            "marker": {
             "line": {
              "color": "#E5ECF6",
              "width": 0.5
             },
             "pattern": {
              "fillmode": "overlay",
              "size": 10,
              "solidity": 0.2
             }
            },
            "type": "bar"
           }
          ],
          "barpolar": [
           {
            "marker": {
             "line": {
              "color": "#E5ECF6",
              "width": 0.5
             },
             "pattern": {
              "fillmode": "overlay",
              "size": 10,
              "solidity": 0.2
             }
            },
            "type": "barpolar"
           }
          ],
          "carpet": [
           {
            "aaxis": {
             "endlinecolor": "#2a3f5f",
             "gridcolor": "white",
             "linecolor": "white",
             "minorgridcolor": "white",
             "startlinecolor": "#2a3f5f"
            },
            "baxis": {
             "endlinecolor": "#2a3f5f",
             "gridcolor": "white",
             "linecolor": "white",
             "minorgridcolor": "white",
             "startlinecolor": "#2a3f5f"
            },
            "type": "carpet"
           }
          ],
          "choropleth": [
           {
            "colorbar": {
             "outlinewidth": 0,
             "ticks": ""
            },
            "type": "choropleth"
           }
          ],
          "contour": [
           {
            "colorbar": {
             "outlinewidth": 0,
             "ticks": ""
            },
            "colorscale": [
             [
              0,
              "#0d0887"
             ],
             [
              0.1111111111111111,
              "#46039f"
             ],
             [
              0.2222222222222222,
              "#7201a8"
             ],
             [
              0.3333333333333333,
              "#9c179e"
             ],
             [
              0.4444444444444444,
              "#bd3786"
             ],
             [
              0.5555555555555556,
              "#d8576b"
             ],
             [
              0.6666666666666666,
              "#ed7953"
             ],
             [
              0.7777777777777778,
              "#fb9f3a"
             ],
             [
              0.8888888888888888,
              "#fdca26"
             ],
             [
              1,
              "#f0f921"
             ]
            ],
            "type": "contour"
           }
          ],
          "contourcarpet": [
           {
            "colorbar": {
             "outlinewidth": 0,
             "ticks": ""
            },
            "type": "contourcarpet"
           }
          ],
          "heatmap": [
           {
            "colorbar": {
             "outlinewidth": 0,
             "ticks": ""
            },
            "colorscale": [
             [
              0,
              "#0d0887"
             ],
             [
              0.1111111111111111,
              "#46039f"
             ],
             [
              0.2222222222222222,
              "#7201a8"
             ],
             [
              0.3333333333333333,
              "#9c179e"
             ],
             [
              0.4444444444444444,
              "#bd3786"
             ],
             [
              0.5555555555555556,
              "#d8576b"
             ],
             [
              0.6666666666666666,
              "#ed7953"
             ],
             [
              0.7777777777777778,
              "#fb9f3a"
             ],
             [
              0.8888888888888888,
              "#fdca26"
             ],
             [
              1,
              "#f0f921"
             ]
            ],
            "type": "heatmap"
           }
          ],
          "heatmapgl": [
           {
            "colorbar": {
             "outlinewidth": 0,
             "ticks": ""
            },
            "colorscale": [
             [
              0,
              "#0d0887"
             ],
             [
              0.1111111111111111,
              "#46039f"
             ],
             [
              0.2222222222222222,
              "#7201a8"
             ],
             [
              0.3333333333333333,
              "#9c179e"
             ],
             [
              0.4444444444444444,
              "#bd3786"
             ],
             [
              0.5555555555555556,
              "#d8576b"
             ],
             [
              0.6666666666666666,
              "#ed7953"
             ],
             [
              0.7777777777777778,
              "#fb9f3a"
             ],
             [
              0.8888888888888888,
              "#fdca26"
             ],
             [
              1,
              "#f0f921"
             ]
            ],
            "type": "heatmapgl"
           }
          ],
          "histogram": [
           {
            "marker": {
             "pattern": {
              "fillmode": "overlay",
              "size": 10,
              "solidity": 0.2
             }
            },
            "type": "histogram"
           }
          ],
          "histogram2d": [
           {
            "colorbar": {
             "outlinewidth": 0,
             "ticks": ""
            },
            "colorscale": [
             [
              0,
              "#0d0887"
             ],
             [
              0.1111111111111111,
              "#46039f"
             ],
             [
              0.2222222222222222,
              "#7201a8"
             ],
             [
              0.3333333333333333,
              "#9c179e"
             ],
             [
              0.4444444444444444,
              "#bd3786"
             ],
             [
              0.5555555555555556,
              "#d8576b"
             ],
             [
              0.6666666666666666,
              "#ed7953"
             ],
             [
              0.7777777777777778,
              "#fb9f3a"
             ],
             [
              0.8888888888888888,
              "#fdca26"
             ],
             [
              1,
              "#f0f921"
             ]
            ],
            "type": "histogram2d"
           }
          ],
          "histogram2dcontour": [
           {
            "colorbar": {
             "outlinewidth": 0,
             "ticks": ""
            },
            "colorscale": [
             [
              0,
              "#0d0887"
             ],
             [
              0.1111111111111111,
              "#46039f"
             ],
             [
              0.2222222222222222,
              "#7201a8"
             ],
             [
              0.3333333333333333,
              "#9c179e"
             ],
             [
              0.4444444444444444,
              "#bd3786"
             ],
             [
              0.5555555555555556,
              "#d8576b"
             ],
             [
              0.6666666666666666,
              "#ed7953"
             ],
             [
              0.7777777777777778,
              "#fb9f3a"
             ],
             [
              0.8888888888888888,
              "#fdca26"
             ],
             [
              1,
              "#f0f921"
             ]
            ],
            "type": "histogram2dcontour"
           }
          ],
          "mesh3d": [
           {
            "colorbar": {
             "outlinewidth": 0,
             "ticks": ""
            },
            "type": "mesh3d"
           }
          ],
          "parcoords": [
           {
            "line": {
             "colorbar": {
              "outlinewidth": 0,
              "ticks": ""
             }
            },
            "type": "parcoords"
           }
          ],
          "pie": [
           {
            "automargin": true,
            "type": "pie"
           }
          ],
          "scatter": [
           {
            "fillpattern": {
             "fillmode": "overlay",
             "size": 10,
             "solidity": 0.2
            },
            "type": "scatter"
           }
          ],
          "scatter3d": [
           {
            "line": {
             "colorbar": {
              "outlinewidth": 0,
              "ticks": ""
             }
            },
            "marker": {
             "colorbar": {
              "outlinewidth": 0,
              "ticks": ""
             }
            },
            "type": "scatter3d"
           }
          ],
          "scattercarpet": [
           {
            "marker": {
             "colorbar": {
              "outlinewidth": 0,
              "ticks": ""
             }
            },
            "type": "scattercarpet"
           }
          ],
          "scattergeo": [
           {
            "marker": {
             "colorbar": {
              "outlinewidth": 0,
              "ticks": ""
             }
            },
            "type": "scattergeo"
           }
          ],
          "scattergl": [
           {
            "marker": {
             "colorbar": {
              "outlinewidth": 0,
              "ticks": ""
             }
            },
            "type": "scattergl"
           }
          ],
          "scattermapbox": [
           {
            "marker": {
             "colorbar": {
              "outlinewidth": 0,
              "ticks": ""
             }
            },
            "type": "scattermapbox"
           }
          ],
          "scatterpolar": [
           {
            "marker": {
             "colorbar": {
              "outlinewidth": 0,
              "ticks": ""
             }
            },
            "type": "scatterpolar"
           }
          ],
          "scatterpolargl": [
           {
            "marker": {
             "colorbar": {
              "outlinewidth": 0,
              "ticks": ""
             }
            },
            "type": "scatterpolargl"
           }
          ],
          "scatterternary": [
           {
            "marker": {
             "colorbar": {
              "outlinewidth": 0,
              "ticks": ""
             }
            },
            "type": "scatterternary"
           }
          ],
          "surface": [
           {
            "colorbar": {
             "outlinewidth": 0,
             "ticks": ""
            },
            "colorscale": [
             [
              0,
              "#0d0887"
             ],
             [
              0.1111111111111111,
              "#46039f"
             ],
             [
              0.2222222222222222,
              "#7201a8"
             ],
             [
              0.3333333333333333,
              "#9c179e"
             ],
             [
              0.4444444444444444,
              "#bd3786"
             ],
             [
              0.5555555555555556,
              "#d8576b"
             ],
             [
              0.6666666666666666,
              "#ed7953"
             ],
             [
              0.7777777777777778,
              "#fb9f3a"
             ],
             [
              0.8888888888888888,
              "#fdca26"
             ],
             [
              1,
              "#f0f921"
             ]
            ],
            "type": "surface"
           }
          ],
          "table": [
           {
            "cells": {
             "fill": {
              "color": "#EBF0F8"
             },
             "line": {
              "color": "white"
             }
            },
            "header": {
             "fill": {
              "color": "#C8D4E3"
             },
             "line": {
              "color": "white"
             }
            },
            "type": "table"
           }
          ]
         },
         "layout": {
          "annotationdefaults": {
           "arrowcolor": "#2a3f5f",
           "arrowhead": 0,
           "arrowwidth": 1
          },
          "autotypenumbers": "strict",
          "coloraxis": {
           "colorbar": {
            "outlinewidth": 0,
            "ticks": ""
           }
          },
          "colorscale": {
           "diverging": [
            [
             0,
             "#8e0152"
            ],
            [
             0.1,
             "#c51b7d"
            ],
            [
             0.2,
             "#de77ae"
            ],
            [
             0.3,
             "#f1b6da"
            ],
            [
             0.4,
             "#fde0ef"
            ],
            [
             0.5,
             "#f7f7f7"
            ],
            [
             0.6,
             "#e6f5d0"
            ],
            [
             0.7,
             "#b8e186"
            ],
            [
             0.8,
             "#7fbc41"
            ],
            [
             0.9,
             "#4d9221"
            ],
            [
             1,
             "#276419"
            ]
           ],
           "sequential": [
            [
             0,
             "#0d0887"
            ],
            [
             0.1111111111111111,
             "#46039f"
            ],
            [
             0.2222222222222222,
             "#7201a8"
            ],
            [
             0.3333333333333333,
             "#9c179e"
            ],
            [
             0.4444444444444444,
             "#bd3786"
            ],
            [
             0.5555555555555556,
             "#d8576b"
            ],
            [
             0.6666666666666666,
             "#ed7953"
            ],
            [
             0.7777777777777778,
             "#fb9f3a"
            ],
            [
             0.8888888888888888,
             "#fdca26"
            ],
            [
             1,
             "#f0f921"
            ]
           ],
           "sequentialminus": [
            [
             0,
             "#0d0887"
            ],
            [
             0.1111111111111111,
             "#46039f"
            ],
            [
             0.2222222222222222,
             "#7201a8"
            ],
            [
             0.3333333333333333,
             "#9c179e"
            ],
            [
             0.4444444444444444,
             "#bd3786"
            ],
            [
             0.5555555555555556,
             "#d8576b"
            ],
            [
             0.6666666666666666,
             "#ed7953"
            ],
            [
             0.7777777777777778,
             "#fb9f3a"
            ],
            [
             0.8888888888888888,
             "#fdca26"
            ],
            [
             1,
             "#f0f921"
            ]
           ]
          },
          "colorway": [
           "#636efa",
           "#EF553B",
           "#00cc96",
           "#ab63fa",
           "#FFA15A",
           "#19d3f3",
           "#FF6692",
           "#B6E880",
           "#FF97FF",
           "#FECB52"
          ],
          "font": {
           "color": "#2a3f5f"
          },
          "geo": {
           "bgcolor": "white",
           "lakecolor": "white",
           "landcolor": "#E5ECF6",
           "showlakes": true,
           "showland": true,
           "subunitcolor": "white"
          },
          "hoverlabel": {
           "align": "left"
          },
          "hovermode": "closest",
          "mapbox": {
           "style": "light"
          },
          "paper_bgcolor": "white",
          "plot_bgcolor": "#E5ECF6",
          "polar": {
           "angularaxis": {
            "gridcolor": "white",
            "linecolor": "white",
            "ticks": ""
           },
           "bgcolor": "#E5ECF6",
           "radialaxis": {
            "gridcolor": "white",
            "linecolor": "white",
            "ticks": ""
           }
          },
          "scene": {
           "xaxis": {
            "backgroundcolor": "#E5ECF6",
            "gridcolor": "white",
            "gridwidth": 2,
            "linecolor": "white",
            "showbackground": true,
            "ticks": "",
            "zerolinecolor": "white"
           },
           "yaxis": {
            "backgroundcolor": "#E5ECF6",
            "gridcolor": "white",
            "gridwidth": 2,
            "linecolor": "white",
            "showbackground": true,
            "ticks": "",
            "zerolinecolor": "white"
           },
           "zaxis": {
            "backgroundcolor": "#E5ECF6",
            "gridcolor": "white",
            "gridwidth": 2,
            "linecolor": "white",
            "showbackground": true,
            "ticks": "",
            "zerolinecolor": "white"
           }
          },
          "shapedefaults": {
           "line": {
            "color": "#2a3f5f"
           }
          },
          "ternary": {
           "aaxis": {
            "gridcolor": "white",
            "linecolor": "white",
            "ticks": ""
           },
           "baxis": {
            "gridcolor": "white",
            "linecolor": "white",
            "ticks": ""
           },
           "bgcolor": "#E5ECF6",
           "caxis": {
            "gridcolor": "white",
            "linecolor": "white",
            "ticks": ""
           }
          },
          "title": {
           "x": 0.05
          },
          "xaxis": {
           "automargin": true,
           "gridcolor": "white",
           "linecolor": "white",
           "ticks": "",
           "title": {
            "standoff": 15
           },
           "zerolinecolor": "white",
           "zerolinewidth": 2
          },
          "yaxis": {
           "automargin": true,
           "gridcolor": "white",
           "linecolor": "white",
           "ticks": "",
           "title": {
            "standoff": 15
           },
           "zerolinecolor": "white",
           "zerolinewidth": 2
          }
         }
        },
        "title": {
         "text": "EAST"
        }
       }
      }
     },
     "metadata": {},
     "output_type": "display_data"
    }
   ],
   "source": [
    "fig = go.Figure()\n",
    "fig.add_trace(go.Scatter(x=dataset.datetimes, y=dataset.values, name=wall.zone))\n",
    "fig.update_layout(title_text=wall.direction)"
   ]
  },
  {
   "cell_type": "code",
   "execution_count": null,
   "metadata": {},
   "outputs": [],
   "source": []
  },
  {
   "cell_type": "code",
   "execution_count": 5,
   "metadata": {},
   "outputs": [
    {
     "data": {
      "text/plain": [
       "{'surf_incident_solar_rad12-21': OutputData(surf_incident_solar_rad12-21),\n",
       " 'surf_incident_solar_rad7-21': OutputData(surf_incident_solar_rad7-21),\n",
       " 'surf_net_thermal_rad12-21': OutputData(surf_net_thermal_rad12-21),\n",
       " 'surf_net_thermal_rad7-21': OutputData(surf_net_thermal_rad7-21)}"
      ]
     },
     "execution_count": 5,
     "metadata": {},
     "output_type": "execute_result"
    }
   ],
   "source": [
    "sql.wall_dict[\"BLOCK NORTH STOREY 0 WALL 0001\"].output_data"
   ]
  },
  {
   "cell_type": "code",
   "execution_count": 8,
   "metadata": {},
   "outputs": [],
   "source": [
    "dirs = {}\n",
    "for wall in sql.wall_list:\n",
    "    if wall.direction not in dirs.keys():\n",
    "        dirs[wall.direction] = []\n",
    "    dirs[wall.direction].append(wall.zone)\n"
   ]
  },
  {
   "cell_type": "code",
   "execution_count": 9,
   "metadata": {},
   "outputs": [
    {
     "data": {
      "text/plain": [
       "{'EAST': ['North', 'West'],\n",
       " 'NORTH': ['North', 'West'],\n",
       " 'WEST': ['North', 'West'],\n",
       " 'SOUTH': ['North', 'West']}"
      ]
     },
     "execution_count": 9,
     "metadata": {},
     "output_type": "execute_result"
    }
   ],
   "source": [
    "dirs"
   ]
  },
  {
   "cell_type": "code",
   "execution_count": 6,
   "metadata": {},
   "outputs": [
    {
     "data": {
      "text/plain": [
       "['zone_mean_air_temp12-21',\n",
       " 'zone_mean_air_temp7-21',\n",
       " 'surf_incident_solar_rad12-21',\n",
       " 'surf_incident_solar_rad7-21',\n",
       " 'surf_net_thermal_rad12-21',\n",
       " 'surf_net_thermal_rad7-21']"
      ]
     },
     "execution_count": 6,
     "metadata": {},
     "output_type": "execute_result"
    }
   ],
   "source": [
    "sql.dataset_names"
   ]
  }
 ],
 "metadata": {
  "kernelspec": {
   "display_name": "gqenv",
   "language": "python",
   "name": "python3"
  },
  "language_info": {
   "codemirror_mode": {
    "name": "ipython",
    "version": 3
   },
   "file_extension": ".py",
   "mimetype": "text/x-python",
   "name": "python",
   "nbconvert_exporter": "python",
   "pygments_lexer": "ipython3",
   "version": "3.9.15"
  }
 },
 "nbformat": 4,
 "nbformat_minor": 2
}
