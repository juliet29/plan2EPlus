{
 "cells": [
  {
   "cell_type": "code",
   "execution_count": 11,
   "metadata": {},
   "outputs": [],
   "source": [
    "import sys\n",
    "sys.path.append(\"/Users/julietnwagwuume-ezeoke/_UILCode/gqe-phd/geomeppy/_scripts\")\n",
    "\n",
    "from outputs.sql import SQLReader\n",
    "from outputs.variables import OutputVars\n",
    "# from case_edits.epcase import EneryPlusCaseEditor\n",
    "# from case_edits.recipes import add_output_variable, request_json, request_sql\n",
    "# from geometry.geometry_parser import GeometryParser"
   ]
  },
  {
   "cell_type": "code",
   "execution_count": 10,
   "metadata": {},
   "outputs": [],
   "source": [
    "case_name = \"tests/test04_surfaces\"\n",
    "sql = SQLReader(case_name)"
   ]
  },
  {
   "cell_type": "code",
   "execution_count": 14,
   "metadata": {},
   "outputs": [
    {
     "data": {
      "text/plain": [
       "Energy Flux (W/m2)\n",
       "12/21 to 12/21 between 0 and 23 @4\n",
       "type: Surface Outside Face Incident Solar Radiation Rate per Area\n",
       "Surface: BLOCK NORTH STOREY 0 WALL 0001"
      ]
     },
     "execution_count": 14,
     "metadata": {},
     "output_type": "execute_result"
    }
   ],
   "source": [
    "collection = sql.sqld.data_collections_by_output_name(OutputVars.surf_incident_solar_rad)\n",
    "collection[0].header"
   ]
  },
  {
   "cell_type": "code",
   "execution_count": 3,
   "metadata": {},
   "outputs": [],
   "source": [
    "# e = EneryPlusCaseEditor(case_name)\n",
    "# WEST_COORDS = [(5,0), (5,7), (0,7), (0,0)]\n",
    "# NORTH_COORDS = [(10,7), (10,11), (0,11), (0,7)]\n",
    "\n",
    "# e.idf.add_block(\n",
    "#       name='North',\n",
    "#       coordinates=NORTH_COORDS,\n",
    "#       height=3\n",
    "#     )\n",
    "# e.idf.add_block(\n",
    "#       name='West',\n",
    "#       coordinates=WEST_COORDS,\n",
    "#       height=3\n",
    "#     )\n",
    "\n",
    "# g = GeometryParser(e.idf)\n",
    "# g.get_zones()\n",
    "# g.plot_zones()\n",
    "\n",
    "# e.idf = add_output_variable(e.idf, OutputVars.zone_mean_air_temp.value)\n",
    "# e.idf = add_output_variable(e.idf,OutputVars.surf_incident_solar_rad.value)\n",
    "# e.idf = add_output_variable(e.idf,OutputVars.surf_net_thermal_rad.value)\n",
    "# e.idf = request_sql(e.idf)\n",
    "# e.save_idf()\n",
    "# e.prepare_to_run()\n",
    "# e.run_idf()"
   ]
  },
  {
   "cell_type": "code",
   "execution_count": 4,
   "metadata": {},
   "outputs": [],
   "source": []
  },
  {
   "cell_type": "code",
   "execution_count": 5,
   "metadata": {},
   "outputs": [],
   "source": []
  },
  {
   "cell_type": "code",
   "execution_count": 6,
   "metadata": {},
   "outputs": [
    {
     "name": "stdout",
     "output_type": "stream",
     "text": [
      "\n",
      "/Applications/EnergyPlus-22-2-0/energyplus --weather /Users/julietnwagwuume-ezeoke/_UILCode/gqe-phd/geomeppy/weather/CA_PALO-ALTO-AP_724937S_20.epw --output-directory /Users/julietnwagwuume-ezeoke/_UILCode/gqe-phd/geomeppy/cases/tests/test04_surfaces/results --idd /Applications/EnergyPlus-22-2-0/Energy+.idd /Users/julietnwagwuume-ezeoke/_UILCode/gqe-phd/geomeppy/base_idfs/Minimal_cbdbb3.idf\n",
      "\n",
      "EnergyPlus Starting\n",
      "EnergyPlus, Version 22.2.0-c249759bad, YMD=2024.06.05 13:13\n",
      "Adjusting Air System Sizing\n",
      "Adjusting Standard 62.1 Ventilation Sizing\n",
      "Initializing Simulation\n",
      "Reporting Surfaces\n",
      "Beginning Primary Simulation\n",
      "Initializing New Environment Parameters\n",
      "Warming up {1}\n",
      "Warming up {2}\n",
      "Warming up {3}\n",
      "Warming up {4}\n",
      "Warming up {5}\n",
      "Warming up {6}\n",
      "Starting Simulation at 12/21 for DENVER_STAPLETON ANN HTG 99.6% CONDNS DB\n",
      "Initializing New Environment Parameters\n",
      "Warming up {1}\n",
      "Warming up {2}\n",
      "Warming up {3}\n",
      "Warming up {4}\n",
      "Warming up {5}\n",
      "Warming up {6}\n",
      "Starting Simulation at 07/21 for DENVER_STAPLETON ANN CLG .4% CONDNS DB=>MWB\n",
      "Writing tabular output file results using HTML format.\n",
      "Writing final SQL reports\n",
      "EnergyPlus Run Time=00hr 00min  0.25sec\n"
     ]
    },
    {
     "name": "stderr",
     "output_type": "stream",
     "text": [
      "EnergyPlus Completed Successfully.\n"
     ]
    }
   ],
   "source": []
  }
 ],
 "metadata": {
  "kernelspec": {
   "display_name": "gqenv",
   "language": "python",
   "name": "python3"
  },
  "language_info": {
   "codemirror_mode": {
    "name": "ipython",
    "version": 3
   },
   "file_extension": ".py",
   "mimetype": "text/x-python",
   "name": "python",
   "nbconvert_exporter": "python",
   "pygments_lexer": "ipython3",
   "version": "3.9.15"
  }
 },
 "nbformat": 4,
 "nbformat_minor": 2
}
