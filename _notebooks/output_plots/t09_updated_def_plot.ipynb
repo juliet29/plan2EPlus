{
 "cells": [
  {
   "cell_type": "code",
   "execution_count": 41,
   "metadata": {},
   "outputs": [],
   "source": [
    "import sys\n",
    "sys.path.append(\"/Users/julietnwagwuume-ezeoke/_UILCode/gqe-phd/geomeppy/_scripts\")\n",
    "\n",
    "from case_edits.ezcase import EzCase\n",
    "from case_edits.recipes.two_zone import input\n",
    "\n",
    "from pprint import pprint\n",
    "\n",
    "import plotly.graph_objects as go"
   ]
  },
  {
   "cell_type": "code",
   "execution_count": 2,
   "metadata": {},
   "outputs": [
    {
     "name": "stdout",
     "output_type": "stream",
     "text": [
      "Added 5 walls \n",
      "Added 4 walls \n",
      "cases/tests/test16_ezcase/out.idf\n",
      "No match for BLOCK 00 STOREY 0\n",
      "No match for BLOCK 01 STOREY 0\n",
      "No match for ExtNode   1\n",
      "No match for ExtNode   2\n",
      "No match for BLOCK 00 STOREY 0\n",
      "No match for BLOCK 01 STOREY 0\n",
      "No match for ExtNode   1\n",
      "No match for ExtNode   2\n",
      "No match for BLOCK 00 STOREY 0\n",
      "No match for BLOCK 01 STOREY 0\n",
      "No match for ExtNode   1\n",
      "No match for ExtNode   2\n",
      "No match for BLOCK 00 STOREY 0\n",
      "No match for BLOCK 01 STOREY 0\n",
      "No match for ExtNode   1\n",
      "No match for ExtNode   2\n"
     ]
    }
   ],
   "source": [
    "ez = EzCase(input)"
   ]
  },
  {
   "cell_type": "code",
   "execution_count": 3,
   "metadata": {},
   "outputs": [
    {
     "data": {
      "application/vnd.plotly.v1+json": {
       "config": {
        "plotlyServerURL": "https://plotly.com"
       },
       "data": [],
       "layout": {
        "autosize": false,
        "height": 400,
        "margin": {
         "b": 50,
         "l": 50,
         "pad": 4,
         "r": 50,
         "t": 50
        },
        "shapes": [
         {
          "fillcolor": "#9dd1eb",
          "label": {
           "text": "Block 00"
          },
          "type": "rect",
          "x0": 0,
          "x1": 100,
          "xref": "x",
          "y0": 70,
          "y1": 100,
          "yref": "y"
         },
         {
          "fillcolor": "#9dd1eb",
          "label": {
           "text": "Block 01"
          },
          "type": "rect",
          "x0": 0,
          "x1": 50,
          "xref": "x",
          "y0": 0,
          "y1": 70,
          "yref": "y"
         },
         {
          "fillcolor": "#a32c54",
          "label": {
           "font": {
            "color": "#a32c54",
            "size": 9
           },
           "text": "Door"
          },
          "line": {
           "color": "#a32c54",
           "width": 3
          },
          "type": "line",
          "x0": 49.5,
          "x1": 50.5,
          "xref": "x",
          "y0": 100,
          "y1": 100,
          "yref": "y"
         },
         {
          "fillcolor": "#a32c54",
          "label": {
           "font": {
            "color": "#a32c54",
            "size": 9
           },
           "text": "Door"
          },
          "line": {
           "color": "#a32c54",
           "width": 3
          },
          "type": "line",
          "x0": 24.5,
          "x1": 25.5,
          "xref": "x",
          "y0": 70,
          "y1": 70,
          "yref": "y"
         },
         {
          "fillcolor": "#a32c54",
          "label": {
           "font": {
            "color": "#a32c54",
            "size": 9
           },
           "text": "Window"
          },
          "line": {
           "color": "#a32c54",
           "width": 3
          },
          "type": "line",
          "x0": 24.75,
          "x1": 25.25,
          "xref": "x",
          "y0": 0,
          "y1": 0,
          "yref": "y"
         }
        ],
        "template": {
         "data": {
          "bar": [
           {
            "error_x": {
             "color": "#2a3f5f"
            },
            "error_y": {
             "color": "#2a3f5f"
            },
            "marker": {
             "line": {
              "color": "#E5ECF6",
              "width": 0.5
             },
             "pattern": {
              "fillmode": "overlay",
              "size": 10,
              "solidity": 0.2
             }
            },
            "type": "bar"
           }
          ],
          "barpolar": [
           {
            "marker": {
             "line": {
              "color": "#E5ECF6",
              "width": 0.5
             },
             "pattern": {
              "fillmode": "overlay",
              "size": 10,
              "solidity": 0.2
             }
            },
            "type": "barpolar"
           }
          ],
          "carpet": [
           {
            "aaxis": {
             "endlinecolor": "#2a3f5f",
             "gridcolor": "white",
             "linecolor": "white",
             "minorgridcolor": "white",
             "startlinecolor": "#2a3f5f"
            },
            "baxis": {
             "endlinecolor": "#2a3f5f",
             "gridcolor": "white",
             "linecolor": "white",
             "minorgridcolor": "white",
             "startlinecolor": "#2a3f5f"
            },
            "type": "carpet"
           }
          ],
          "choropleth": [
           {
            "colorbar": {
             "outlinewidth": 0,
             "ticks": ""
            },
            "type": "choropleth"
           }
          ],
          "contour": [
           {
            "colorbar": {
             "outlinewidth": 0,
             "ticks": ""
            },
            "colorscale": [
             [
              0,
              "#0d0887"
             ],
             [
              0.1111111111111111,
              "#46039f"
             ],
             [
              0.2222222222222222,
              "#7201a8"
             ],
             [
              0.3333333333333333,
              "#9c179e"
             ],
             [
              0.4444444444444444,
              "#bd3786"
             ],
             [
              0.5555555555555556,
              "#d8576b"
             ],
             [
              0.6666666666666666,
              "#ed7953"
             ],
             [
              0.7777777777777778,
              "#fb9f3a"
             ],
             [
              0.8888888888888888,
              "#fdca26"
             ],
             [
              1,
              "#f0f921"
             ]
            ],
            "type": "contour"
           }
          ],
          "contourcarpet": [
           {
            "colorbar": {
             "outlinewidth": 0,
             "ticks": ""
            },
            "type": "contourcarpet"
           }
          ],
          "heatmap": [
           {
            "colorbar": {
             "outlinewidth": 0,
             "ticks": ""
            },
            "colorscale": [
             [
              0,
              "#0d0887"
             ],
             [
              0.1111111111111111,
              "#46039f"
             ],
             [
              0.2222222222222222,
              "#7201a8"
             ],
             [
              0.3333333333333333,
              "#9c179e"
             ],
             [
              0.4444444444444444,
              "#bd3786"
             ],
             [
              0.5555555555555556,
              "#d8576b"
             ],
             [
              0.6666666666666666,
              "#ed7953"
             ],
             [
              0.7777777777777778,
              "#fb9f3a"
             ],
             [
              0.8888888888888888,
              "#fdca26"
             ],
             [
              1,
              "#f0f921"
             ]
            ],
            "type": "heatmap"
           }
          ],
          "heatmapgl": [
           {
            "colorbar": {
             "outlinewidth": 0,
             "ticks": ""
            },
            "colorscale": [
             [
              0,
              "#0d0887"
             ],
             [
              0.1111111111111111,
              "#46039f"
             ],
             [
              0.2222222222222222,
              "#7201a8"
             ],
             [
              0.3333333333333333,
              "#9c179e"
             ],
             [
              0.4444444444444444,
              "#bd3786"
             ],
             [
              0.5555555555555556,
              "#d8576b"
             ],
             [
              0.6666666666666666,
              "#ed7953"
             ],
             [
              0.7777777777777778,
              "#fb9f3a"
             ],
             [
              0.8888888888888888,
              "#fdca26"
             ],
             [
              1,
              "#f0f921"
             ]
            ],
            "type": "heatmapgl"
           }
          ],
          "histogram": [
           {
            "marker": {
             "pattern": {
              "fillmode": "overlay",
              "size": 10,
              "solidity": 0.2
             }
            },
            "type": "histogram"
           }
          ],
          "histogram2d": [
           {
            "colorbar": {
             "outlinewidth": 0,
             "ticks": ""
            },
            "colorscale": [
             [
              0,
              "#0d0887"
             ],
             [
              0.1111111111111111,
              "#46039f"
             ],
             [
              0.2222222222222222,
              "#7201a8"
             ],
             [
              0.3333333333333333,
              "#9c179e"
             ],
             [
              0.4444444444444444,
              "#bd3786"
             ],
             [
              0.5555555555555556,
              "#d8576b"
             ],
             [
              0.6666666666666666,
              "#ed7953"
             ],
             [
              0.7777777777777778,
              "#fb9f3a"
             ],
             [
              0.8888888888888888,
              "#fdca26"
             ],
             [
              1,
              "#f0f921"
             ]
            ],
            "type": "histogram2d"
           }
          ],
          "histogram2dcontour": [
           {
            "colorbar": {
             "outlinewidth": 0,
             "ticks": ""
            },
            "colorscale": [
             [
              0,
              "#0d0887"
             ],
             [
              0.1111111111111111,
              "#46039f"
             ],
             [
              0.2222222222222222,
              "#7201a8"
             ],
             [
              0.3333333333333333,
              "#9c179e"
             ],
             [
              0.4444444444444444,
              "#bd3786"
             ],
             [
              0.5555555555555556,
              "#d8576b"
             ],
             [
              0.6666666666666666,
              "#ed7953"
             ],
             [
              0.7777777777777778,
              "#fb9f3a"
             ],
             [
              0.8888888888888888,
              "#fdca26"
             ],
             [
              1,
              "#f0f921"
             ]
            ],
            "type": "histogram2dcontour"
           }
          ],
          "mesh3d": [
           {
            "colorbar": {
             "outlinewidth": 0,
             "ticks": ""
            },
            "type": "mesh3d"
           }
          ],
          "parcoords": [
           {
            "line": {
             "colorbar": {
              "outlinewidth": 0,
              "ticks": ""
             }
            },
            "type": "parcoords"
           }
          ],
          "pie": [
           {
            "automargin": true,
            "type": "pie"
           }
          ],
          "scatter": [
           {
            "fillpattern": {
             "fillmode": "overlay",
             "size": 10,
             "solidity": 0.2
            },
            "type": "scatter"
           }
          ],
          "scatter3d": [
           {
            "line": {
             "colorbar": {
              "outlinewidth": 0,
              "ticks": ""
             }
            },
            "marker": {
             "colorbar": {
              "outlinewidth": 0,
              "ticks": ""
             }
            },
            "type": "scatter3d"
           }
          ],
          "scattercarpet": [
           {
            "marker": {
             "colorbar": {
              "outlinewidth": 0,
              "ticks": ""
             }
            },
            "type": "scattercarpet"
           }
          ],
          "scattergeo": [
           {
            "marker": {
             "colorbar": {
              "outlinewidth": 0,
              "ticks": ""
             }
            },
            "type": "scattergeo"
           }
          ],
          "scattergl": [
           {
            "marker": {
             "colorbar": {
              "outlinewidth": 0,
              "ticks": ""
             }
            },
            "type": "scattergl"
           }
          ],
          "scattermapbox": [
           {
            "marker": {
             "colorbar": {
              "outlinewidth": 0,
              "ticks": ""
             }
            },
            "type": "scattermapbox"
           }
          ],
          "scatterpolar": [
           {
            "marker": {
             "colorbar": {
              "outlinewidth": 0,
              "ticks": ""
             }
            },
            "type": "scatterpolar"
           }
          ],
          "scatterpolargl": [
           {
            "marker": {
             "colorbar": {
              "outlinewidth": 0,
              "ticks": ""
             }
            },
            "type": "scatterpolargl"
           }
          ],
          "scatterternary": [
           {
            "marker": {
             "colorbar": {
              "outlinewidth": 0,
              "ticks": ""
             }
            },
            "type": "scatterternary"
           }
          ],
          "surface": [
           {
            "colorbar": {
             "outlinewidth": 0,
             "ticks": ""
            },
            "colorscale": [
             [
              0,
              "#0d0887"
             ],
             [
              0.1111111111111111,
              "#46039f"
             ],
             [
              0.2222222222222222,
              "#7201a8"
             ],
             [
              0.3333333333333333,
              "#9c179e"
             ],
             [
              0.4444444444444444,
              "#bd3786"
             ],
             [
              0.5555555555555556,
              "#d8576b"
             ],
             [
              0.6666666666666666,
              "#ed7953"
             ],
             [
              0.7777777777777778,
              "#fb9f3a"
             ],
             [
              0.8888888888888888,
              "#fdca26"
             ],
             [
              1,
              "#f0f921"
             ]
            ],
            "type": "surface"
           }
          ],
          "table": [
           {
            "cells": {
             "fill": {
              "color": "#EBF0F8"
             },
             "line": {
              "color": "white"
             }
            },
            "header": {
             "fill": {
              "color": "#C8D4E3"
             },
             "line": {
              "color": "white"
             }
            },
            "type": "table"
           }
          ]
         },
         "layout": {
          "annotationdefaults": {
           "arrowcolor": "#2a3f5f",
           "arrowhead": 0,
           "arrowwidth": 1
          },
          "autotypenumbers": "strict",
          "coloraxis": {
           "colorbar": {
            "outlinewidth": 0,
            "ticks": ""
           }
          },
          "colorscale": {
           "diverging": [
            [
             0,
             "#8e0152"
            ],
            [
             0.1,
             "#c51b7d"
            ],
            [
             0.2,
             "#de77ae"
            ],
            [
             0.3,
             "#f1b6da"
            ],
            [
             0.4,
             "#fde0ef"
            ],
            [
             0.5,
             "#f7f7f7"
            ],
            [
             0.6,
             "#e6f5d0"
            ],
            [
             0.7,
             "#b8e186"
            ],
            [
             0.8,
             "#7fbc41"
            ],
            [
             0.9,
             "#4d9221"
            ],
            [
             1,
             "#276419"
            ]
           ],
           "sequential": [
            [
             0,
             "#0d0887"
            ],
            [
             0.1111111111111111,
             "#46039f"
            ],
            [
             0.2222222222222222,
             "#7201a8"
            ],
            [
             0.3333333333333333,
             "#9c179e"
            ],
            [
             0.4444444444444444,
             "#bd3786"
            ],
            [
             0.5555555555555556,
             "#d8576b"
            ],
            [
             0.6666666666666666,
             "#ed7953"
            ],
            [
             0.7777777777777778,
             "#fb9f3a"
            ],
            [
             0.8888888888888888,
             "#fdca26"
            ],
            [
             1,
             "#f0f921"
            ]
           ],
           "sequentialminus": [
            [
             0,
             "#0d0887"
            ],
            [
             0.1111111111111111,
             "#46039f"
            ],
            [
             0.2222222222222222,
             "#7201a8"
            ],
            [
             0.3333333333333333,
             "#9c179e"
            ],
            [
             0.4444444444444444,
             "#bd3786"
            ],
            [
             0.5555555555555556,
             "#d8576b"
            ],
            [
             0.6666666666666666,
             "#ed7953"
            ],
            [
             0.7777777777777778,
             "#fb9f3a"
            ],
            [
             0.8888888888888888,
             "#fdca26"
            ],
            [
             1,
             "#f0f921"
            ]
           ]
          },
          "colorway": [
           "#636efa",
           "#EF553B",
           "#00cc96",
           "#ab63fa",
           "#FFA15A",
           "#19d3f3",
           "#FF6692",
           "#B6E880",
           "#FF97FF",
           "#FECB52"
          ],
          "font": {
           "color": "#2a3f5f"
          },
          "geo": {
           "bgcolor": "white",
           "lakecolor": "white",
           "landcolor": "#E5ECF6",
           "showlakes": true,
           "showland": true,
           "subunitcolor": "white"
          },
          "hoverlabel": {
           "align": "left"
          },
          "hovermode": "closest",
          "mapbox": {
           "style": "light"
          },
          "paper_bgcolor": "white",
          "plot_bgcolor": "#E5ECF6",
          "polar": {
           "angularaxis": {
            "gridcolor": "white",
            "linecolor": "white",
            "ticks": ""
           },
           "bgcolor": "#E5ECF6",
           "radialaxis": {
            "gridcolor": "white",
            "linecolor": "white",
            "ticks": ""
           }
          },
          "scene": {
           "xaxis": {
            "backgroundcolor": "#E5ECF6",
            "gridcolor": "white",
            "gridwidth": 2,
            "linecolor": "white",
            "showbackground": true,
            "ticks": "",
            "zerolinecolor": "white"
           },
           "yaxis": {
            "backgroundcolor": "#E5ECF6",
            "gridcolor": "white",
            "gridwidth": 2,
            "linecolor": "white",
            "showbackground": true,
            "ticks": "",
            "zerolinecolor": "white"
           },
           "zaxis": {
            "backgroundcolor": "#E5ECF6",
            "gridcolor": "white",
            "gridwidth": 2,
            "linecolor": "white",
            "showbackground": true,
            "ticks": "",
            "zerolinecolor": "white"
           }
          },
          "shapedefaults": {
           "line": {
            "color": "#2a3f5f"
           }
          },
          "ternary": {
           "aaxis": {
            "gridcolor": "white",
            "linecolor": "white",
            "ticks": ""
           },
           "baxis": {
            "gridcolor": "white",
            "linecolor": "white",
            "ticks": ""
           },
           "bgcolor": "#E5ECF6",
           "caxis": {
            "gridcolor": "white",
            "linecolor": "white",
            "ticks": ""
           }
          },
          "title": {
           "x": 0.05
          },
          "xaxis": {
           "automargin": true,
           "gridcolor": "white",
           "linecolor": "white",
           "ticks": "",
           "title": {
            "standoff": 15
           },
           "zerolinecolor": "white",
           "zerolinewidth": 2
          },
          "yaxis": {
           "automargin": true,
           "gridcolor": "white",
           "linecolor": "white",
           "ticks": "",
           "title": {
            "standoff": 15
           },
           "zerolinecolor": "white",
           "zerolinewidth": 2
          }
         }
        },
        "width": 400,
        "xaxis": {
         "range": [
          -20,
          120
         ]
        },
        "yaxis": {
         "range": [
          -20,
          120
         ]
        }
       }
      }
     },
     "metadata": {},
     "output_type": "display_data"
    }
   ],
   "source": [
    "ez.plotter.plot_geometry()"
   ]
  },
  {
   "cell_type": "code",
   "execution_count": 4,
   "metadata": {},
   "outputs": [
    {
     "name": "stdout",
     "output_type": "stream",
     "text": [
      "dict_keys(['zone_ach12_21', 'zone_ach7_21', 'zone_mean_air_temp12_21', 'zone_mean_air_temp7_21', 'surf_net_thermal_rad12_21', 'surf_net_thermal_rad7_21', 'node_temp12_21', 'node_temp7_21', 'node_total_pressure12_21', 'node_total_pressure7_21', 'linkage_flow12_21', 'linkage_flow7_21', 'surface_venting12_21', 'surface_venting7_21'])\n"
     ]
    }
   ],
   "source": [
    "pprint(ez.plotter.dataset_names.keys())"
   ]
  },
  {
   "cell_type": "code",
   "execution_count": 16,
   "metadata": {},
   "outputs": [
    {
     "name": "stdout",
     "output_type": "stream",
     "text": [
      "BLOCK 00 STOREY 0\n",
      "BLOCK 01 STOREY 0\n",
      "ExtNode   1\n",
      "ExtNode   2\n"
     ]
    }
   ],
   "source": [
    "node_temp_datasets = ez.plotter.sqld.data_collections_by_output_name(\"AFN Node Temperature\")\n",
    "\n",
    "for dataset in node_temp_datasets:\n",
    "    if dataset.header.analysis_period.st_month == 7:\n",
    "        print(dataset.header.metadata[\"System\"])\n"
   ]
  },
  {
   "cell_type": "code",
   "execution_count": 19,
   "metadata": {},
   "outputs": [
    {
     "name": "stdout",
     "output_type": "stream",
     "text": [
      "BLOCK 00 STOREY 0 WALL 0002 DOOR\n",
      "BLOCK 00 STOREY 0 WALL 0004_1 DOOR\n",
      "BLOCK 01 STOREY 0 WALL 0004 WINDOW\n"
     ]
    }
   ],
   "source": [
    "linkage_datasets = ez.plotter.sqld.data_collections_by_output_name(\"AFN Linkage Node 1 to Node 2 Volume Flow Rate\")\n",
    "\n",
    "for dataset in linkage_datasets:\n",
    "    if dataset.header.analysis_period.st_month == 7:\n",
    "        print(dataset.header.metadata[\"System\"])\n",
    "# linkage_datasets\n"
   ]
  },
  {
   "cell_type": "code",
   "execution_count": 21,
   "metadata": {},
   "outputs": [
    {
     "name": "stdout",
     "output_type": "stream",
     "text": [
      "BLOCK 00 STOREY 0 WALL 0002 DOOR\n",
      "BLOCK 00 STOREY 0 WALL 0004_1 DOOR\n",
      "BLOCK 01 STOREY 0 WALL 0004 WINDOW\n"
     ]
    }
   ],
   "source": [
    "surface_venting_datasets = ez.plotter.sqld.data_collections_by_output_name(\"AFN Surface Venting Window or Door Opening Factor\")\n",
    "\n",
    "for dataset in surface_venting_datasets:\n",
    "    if dataset.header.analysis_period.st_month == 7:\n",
    "        print(dataset.header.metadata[\"Surface\"])\n",
    "# linkage_datasets"
   ]
  },
  {
   "cell_type": "code",
   "execution_count": null,
   "metadata": {},
   "outputs": [],
   "source": []
  },
  {
   "cell_type": "code",
   "execution_count": 38,
   "metadata": {},
   "outputs": [],
   "source": [
    "def create_plot_title(dataset):\n",
    "    variable = dataset.header.metadata[\"type\"]\n",
    "    unit = dataset.header.unit\n",
    "    analysis_period = str(dataset.header.analysis_period)\n",
    "    title = f\"{variable} [{unit}] <br><sup> {analysis_period} </sup>\"\n",
    "    return title"
   ]
  },
  {
   "cell_type": "code",
   "execution_count": 49,
   "metadata": {},
   "outputs": [
    {
     "name": "stdout",
     "output_type": "stream",
     "text": [
      "creating title\n"
     ]
    },
    {
     "data": {
      "application/vnd.plotly.v1+json": {
       "config": {
        "plotlyServerURL": "https://plotly.com"
       },
       "data": [
        {
         "name": "BLOCK 00 STOREY 0 WALL 0002 DOOR",
         "type": "scatter",
         "x": [
          "2017-07-21T00:00:00",
          "2017-07-21T00:15:00",
          "2017-07-21T00:30:00",
          "2017-07-21T00:45:00",
          "2017-07-21T01:00:00",
          "2017-07-21T01:15:00",
          "2017-07-21T01:30:00",
          "2017-07-21T01:45:00",
          "2017-07-21T02:00:00",
          "2017-07-21T02:15:00",
          "2017-07-21T02:30:00",
          "2017-07-21T02:45:00",
          "2017-07-21T03:00:00",
          "2017-07-21T03:15:00",
          "2017-07-21T03:30:00",
          "2017-07-21T03:45:00",
          "2017-07-21T04:00:00",
          "2017-07-21T04:15:00",
          "2017-07-21T04:30:00",
          "2017-07-21T04:45:00",
          "2017-07-21T05:00:00",
          "2017-07-21T05:15:00",
          "2017-07-21T05:30:00",
          "2017-07-21T05:45:00",
          "2017-07-21T06:00:00",
          "2017-07-21T06:15:00",
          "2017-07-21T06:30:00",
          "2017-07-21T06:45:00",
          "2017-07-21T07:00:00",
          "2017-07-21T07:15:00",
          "2017-07-21T07:30:00",
          "2017-07-21T07:45:00",
          "2017-07-21T08:00:00",
          "2017-07-21T08:15:00",
          "2017-07-21T08:30:00",
          "2017-07-21T08:45:00",
          "2017-07-21T09:00:00",
          "2017-07-21T09:15:00",
          "2017-07-21T09:30:00",
          "2017-07-21T09:45:00",
          "2017-07-21T10:00:00",
          "2017-07-21T10:15:00",
          "2017-07-21T10:30:00",
          "2017-07-21T10:45:00",
          "2017-07-21T11:00:00",
          "2017-07-21T11:15:00",
          "2017-07-21T11:30:00",
          "2017-07-21T11:45:00",
          "2017-07-21T12:00:00",
          "2017-07-21T12:15:00",
          "2017-07-21T12:30:00",
          "2017-07-21T12:45:00",
          "2017-07-21T13:00:00",
          "2017-07-21T13:15:00",
          "2017-07-21T13:30:00",
          "2017-07-21T13:45:00",
          "2017-07-21T14:00:00",
          "2017-07-21T14:15:00",
          "2017-07-21T14:30:00",
          "2017-07-21T14:45:00",
          "2017-07-21T15:00:00",
          "2017-07-21T15:15:00",
          "2017-07-21T15:30:00",
          "2017-07-21T15:45:00",
          "2017-07-21T16:00:00",
          "2017-07-21T16:15:00",
          "2017-07-21T16:30:00",
          "2017-07-21T16:45:00",
          "2017-07-21T17:00:00",
          "2017-07-21T17:15:00",
          "2017-07-21T17:30:00",
          "2017-07-21T17:45:00",
          "2017-07-21T18:00:00",
          "2017-07-21T18:15:00",
          "2017-07-21T18:30:00",
          "2017-07-21T18:45:00",
          "2017-07-21T19:00:00",
          "2017-07-21T19:15:00",
          "2017-07-21T19:30:00",
          "2017-07-21T19:45:00",
          "2017-07-21T20:00:00",
          "2017-07-21T20:15:00",
          "2017-07-21T20:30:00",
          "2017-07-21T20:45:00",
          "2017-07-21T21:00:00",
          "2017-07-21T21:15:00",
          "2017-07-21T21:30:00",
          "2017-07-21T21:45:00",
          "2017-07-21T22:00:00",
          "2017-07-21T22:15:00",
          "2017-07-21T22:30:00",
          "2017-07-21T22:45:00",
          "2017-07-21T23:00:00",
          "2017-07-21T23:15:00",
          "2017-07-21T23:30:00",
          "2017-07-21T23:45:00"
         ],
         "y": [
          0.6552692508487276,
          0.6662895935867384,
          0.6768560411870354,
          0.6869820282264332,
          0.6942209992752677,
          0.7011258296926421,
          0.7077052943092071,
          0.7139585932745066,
          0.7187066586382931,
          0.723152806442546,
          0.7272971968391482,
          0.7311363448129039,
          0.7346628097554317,
          0.737872198084671,
          0.7407581559216996,
          0.7433161256108435,
          0.7444169724968189,
          0.7452047622476999,
          0.7456886881464665,
          0.7458782414266539,
          0.7412665472888131,
          0.7363864030119606,
          0.7312673126630418,
          0.725917042692303,
          0.7144242793737619,
          0.702568365706155,
          0.6903663693220818,
          0.6778141721082482,
          0.651680124311517,
          0.6241640469104921,
          0.5950448747853341,
          0.5639129537381893,
          0.526667544596442,
          0.4853030353283294,
          0.438270384931602,
          0.38493273360244934,
          0.3707052340329083,
          0.37108370391250844,
          0.4139980584917075,
          0.4523985315914341,
          0.4825264535074339,
          0.5094874973831495,
          0.5338072574600888,
          0.5560015027010565,
          0.5706882968994227,
          0.5844733572691215,
          0.5974662415151872,
          0.6097428395950218,
          0.6193809465800468,
          0.6285487767039859,
          0.6372842530490622,
          0.645615273755314,
          0.650872973346229,
          0.6559042869966603,
          0.6607072563068349,
          0.6653639053873118,
          0.6655551511770064,
          0.5225508946014361,
          0.6651004328944073,
          0.6648081144746218,
          0.659593984951652,
          0.6543890622869065,
          0.6490633918920172,
          0.6435499810362967,
          0.6359489150324071,
          0.6280468686385783,
          0.6198072788764656,
          0.6111863373551336,
          0.6001100422545178,
          0.5885302440365624,
          0.5763615605177316,
          0.5634933332755123,
          0.543578437399375,
          0.34582510886376683,
          0.49784882633315775,
          0.2846869085328288,
          0.25690600900955796,
          0.2251871436170711,
          0.18766501713155356,
          0.139760682457416,
          0.07647178691205624,
          0.09255970110665292,
          0.38047664741377735,
          0.41098286846642124,
          0.44072230570248905,
          0.4681995532635336,
          0.4935581773922306,
          0.5172506672277702,
          0.5358760293156324,
          0.5536210448685245,
          0.5704479250387757,
          0.5864815262692528,
          0.6017843825530348,
          0.6164077400565152,
          0.6303953043114917,
          0.6437839294891797
         ]
        },
        {
         "name": "BLOCK 00 STOREY 0 WALL 0004_1 DOOR",
         "type": "scatter",
         "x": [
          "2017-07-21T00:00:00",
          "2017-07-21T00:15:00",
          "2017-07-21T00:30:00",
          "2017-07-21T00:45:00",
          "2017-07-21T01:00:00",
          "2017-07-21T01:15:00",
          "2017-07-21T01:30:00",
          "2017-07-21T01:45:00",
          "2017-07-21T02:00:00",
          "2017-07-21T02:15:00",
          "2017-07-21T02:30:00",
          "2017-07-21T02:45:00",
          "2017-07-21T03:00:00",
          "2017-07-21T03:15:00",
          "2017-07-21T03:30:00",
          "2017-07-21T03:45:00",
          "2017-07-21T04:00:00",
          "2017-07-21T04:15:00",
          "2017-07-21T04:30:00",
          "2017-07-21T04:45:00",
          "2017-07-21T05:00:00",
          "2017-07-21T05:15:00",
          "2017-07-21T05:30:00",
          "2017-07-21T05:45:00",
          "2017-07-21T06:00:00",
          "2017-07-21T06:15:00",
          "2017-07-21T06:30:00",
          "2017-07-21T06:45:00",
          "2017-07-21T07:00:00",
          "2017-07-21T07:15:00",
          "2017-07-21T07:30:00",
          "2017-07-21T07:45:00",
          "2017-07-21T08:00:00",
          "2017-07-21T08:15:00",
          "2017-07-21T08:30:00",
          "2017-07-21T08:45:00",
          "2017-07-21T09:00:00",
          "2017-07-21T09:15:00",
          "2017-07-21T09:30:00",
          "2017-07-21T09:45:00",
          "2017-07-21T10:00:00",
          "2017-07-21T10:15:00",
          "2017-07-21T10:30:00",
          "2017-07-21T10:45:00",
          "2017-07-21T11:00:00",
          "2017-07-21T11:15:00",
          "2017-07-21T11:30:00",
          "2017-07-21T11:45:00",
          "2017-07-21T12:00:00",
          "2017-07-21T12:15:00",
          "2017-07-21T12:30:00",
          "2017-07-21T12:45:00",
          "2017-07-21T13:00:00",
          "2017-07-21T13:15:00",
          "2017-07-21T13:30:00",
          "2017-07-21T13:45:00",
          "2017-07-21T14:00:00",
          "2017-07-21T14:15:00",
          "2017-07-21T14:30:00",
          "2017-07-21T14:45:00",
          "2017-07-21T15:00:00",
          "2017-07-21T15:15:00",
          "2017-07-21T15:30:00",
          "2017-07-21T15:45:00",
          "2017-07-21T16:00:00",
          "2017-07-21T16:15:00",
          "2017-07-21T16:30:00",
          "2017-07-21T16:45:00",
          "2017-07-21T17:00:00",
          "2017-07-21T17:15:00",
          "2017-07-21T17:30:00",
          "2017-07-21T17:45:00",
          "2017-07-21T18:00:00",
          "2017-07-21T18:15:00",
          "2017-07-21T18:30:00",
          "2017-07-21T18:45:00",
          "2017-07-21T19:00:00",
          "2017-07-21T19:15:00",
          "2017-07-21T19:30:00",
          "2017-07-21T19:45:00",
          "2017-07-21T20:00:00",
          "2017-07-21T20:15:00",
          "2017-07-21T20:30:00",
          "2017-07-21T20:45:00",
          "2017-07-21T21:00:00",
          "2017-07-21T21:15:00",
          "2017-07-21T21:30:00",
          "2017-07-21T21:45:00",
          "2017-07-21T22:00:00",
          "2017-07-21T22:15:00",
          "2017-07-21T22:30:00",
          "2017-07-21T22:45:00",
          "2017-07-21T23:00:00",
          "2017-07-21T23:15:00",
          "2017-07-21T23:30:00",
          "2017-07-21T23:45:00"
         ],
         "y": [
          0,
          0,
          0,
          0,
          0,
          0,
          0,
          0,
          0,
          0,
          0,
          0,
          0,
          0,
          0,
          0,
          0,
          0,
          0,
          0,
          0,
          0,
          0,
          0,
          0,
          0,
          0,
          0,
          0,
          0,
          0,
          0,
          0,
          0,
          0,
          0,
          0,
          0,
          0,
          0,
          0,
          0,
          0,
          0,
          0,
          0,
          0,
          0,
          0,
          0,
          0,
          0,
          0,
          0,
          0,
          0,
          0,
          0,
          0,
          0,
          0,
          0,
          0,
          0,
          0,
          0,
          0,
          0,
          0,
          0,
          0,
          0,
          0,
          0,
          0,
          0,
          0,
          0,
          0,
          0,
          0,
          0,
          0,
          0,
          0,
          0,
          0,
          0,
          0,
          0,
          0,
          0,
          0,
          0,
          0,
          0
         ]
        },
        {
         "name": "BLOCK 01 STOREY 0 WALL 0004 WINDOW",
         "type": "scatter",
         "x": [
          "2017-07-21T00:00:00",
          "2017-07-21T00:15:00",
          "2017-07-21T00:30:00",
          "2017-07-21T00:45:00",
          "2017-07-21T01:00:00",
          "2017-07-21T01:15:00",
          "2017-07-21T01:30:00",
          "2017-07-21T01:45:00",
          "2017-07-21T02:00:00",
          "2017-07-21T02:15:00",
          "2017-07-21T02:30:00",
          "2017-07-21T02:45:00",
          "2017-07-21T03:00:00",
          "2017-07-21T03:15:00",
          "2017-07-21T03:30:00",
          "2017-07-21T03:45:00",
          "2017-07-21T04:00:00",
          "2017-07-21T04:15:00",
          "2017-07-21T04:30:00",
          "2017-07-21T04:45:00",
          "2017-07-21T05:00:00",
          "2017-07-21T05:15:00",
          "2017-07-21T05:30:00",
          "2017-07-21T05:45:00",
          "2017-07-21T06:00:00",
          "2017-07-21T06:15:00",
          "2017-07-21T06:30:00",
          "2017-07-21T06:45:00",
          "2017-07-21T07:00:00",
          "2017-07-21T07:15:00",
          "2017-07-21T07:30:00",
          "2017-07-21T07:45:00",
          "2017-07-21T08:00:00",
          "2017-07-21T08:15:00",
          "2017-07-21T08:30:00",
          "2017-07-21T08:45:00",
          "2017-07-21T09:00:00",
          "2017-07-21T09:15:00",
          "2017-07-21T09:30:00",
          "2017-07-21T09:45:00",
          "2017-07-21T10:00:00",
          "2017-07-21T10:15:00",
          "2017-07-21T10:30:00",
          "2017-07-21T10:45:00",
          "2017-07-21T11:00:00",
          "2017-07-21T11:15:00",
          "2017-07-21T11:30:00",
          "2017-07-21T11:45:00",
          "2017-07-21T12:00:00",
          "2017-07-21T12:15:00",
          "2017-07-21T12:30:00",
          "2017-07-21T12:45:00",
          "2017-07-21T13:00:00",
          "2017-07-21T13:15:00",
          "2017-07-21T13:30:00",
          "2017-07-21T13:45:00",
          "2017-07-21T14:00:00",
          "2017-07-21T14:15:00",
          "2017-07-21T14:30:00",
          "2017-07-21T14:45:00",
          "2017-07-21T15:00:00",
          "2017-07-21T15:15:00",
          "2017-07-21T15:30:00",
          "2017-07-21T15:45:00",
          "2017-07-21T16:00:00",
          "2017-07-21T16:15:00",
          "2017-07-21T16:30:00",
          "2017-07-21T16:45:00",
          "2017-07-21T17:00:00",
          "2017-07-21T17:15:00",
          "2017-07-21T17:30:00",
          "2017-07-21T17:45:00",
          "2017-07-21T18:00:00",
          "2017-07-21T18:15:00",
          "2017-07-21T18:30:00",
          "2017-07-21T18:45:00",
          "2017-07-21T19:00:00",
          "2017-07-21T19:15:00",
          "2017-07-21T19:30:00",
          "2017-07-21T19:45:00",
          "2017-07-21T20:00:00",
          "2017-07-21T20:15:00",
          "2017-07-21T20:30:00",
          "2017-07-21T20:45:00",
          "2017-07-21T21:00:00",
          "2017-07-21T21:15:00",
          "2017-07-21T21:30:00",
          "2017-07-21T21:45:00",
          "2017-07-21T22:00:00",
          "2017-07-21T22:15:00",
          "2017-07-21T22:30:00",
          "2017-07-21T22:45:00",
          "2017-07-21T23:00:00",
          "2017-07-21T23:15:00",
          "2017-07-21T23:30:00",
          "2017-07-21T23:45:00"
         ],
         "y": [
          0,
          0,
          0,
          0,
          0,
          0,
          0,
          0,
          0,
          0,
          0,
          0,
          0,
          0,
          0,
          0,
          0,
          0,
          0,
          0,
          0,
          0,
          0,
          0,
          0,
          0,
          0,
          0,
          0,
          0,
          0,
          0,
          0,
          0,
          0,
          0,
          0,
          0,
          0,
          0,
          0,
          0,
          0,
          0,
          0,
          0,
          0,
          0,
          0,
          0,
          0,
          0,
          0,
          0,
          0,
          0,
          0,
          0.03051538714279224,
          0,
          0,
          0,
          0,
          0,
          0,
          0,
          0,
          0,
          0,
          0,
          0,
          0,
          0,
          0,
          0.019092430504730896,
          0,
          0.015176714992155702,
          0.013404089433524011,
          0.011396854838506804,
          0.009022302993872855,
          0.0059882513456899905,
          0.0020003894764211135,
          0.003267513885364266,
          0,
          0,
          0,
          0,
          0,
          0,
          0,
          0,
          0,
          0,
          0,
          0,
          0,
          0
         ]
        }
       ],
       "layout": {
        "template": {
         "data": {
          "bar": [
           {
            "error_x": {
             "color": "#2a3f5f"
            },
            "error_y": {
             "color": "#2a3f5f"
            },
            "marker": {
             "line": {
              "color": "#E5ECF6",
              "width": 0.5
             },
             "pattern": {
              "fillmode": "overlay",
              "size": 10,
              "solidity": 0.2
             }
            },
            "type": "bar"
           }
          ],
          "barpolar": [
           {
            "marker": {
             "line": {
              "color": "#E5ECF6",
              "width": 0.5
             },
             "pattern": {
              "fillmode": "overlay",
              "size": 10,
              "solidity": 0.2
             }
            },
            "type": "barpolar"
           }
          ],
          "carpet": [
           {
            "aaxis": {
             "endlinecolor": "#2a3f5f",
             "gridcolor": "white",
             "linecolor": "white",
             "minorgridcolor": "white",
             "startlinecolor": "#2a3f5f"
            },
            "baxis": {
             "endlinecolor": "#2a3f5f",
             "gridcolor": "white",
             "linecolor": "white",
             "minorgridcolor": "white",
             "startlinecolor": "#2a3f5f"
            },
            "type": "carpet"
           }
          ],
          "choropleth": [
           {
            "colorbar": {
             "outlinewidth": 0,
             "ticks": ""
            },
            "type": "choropleth"
           }
          ],
          "contour": [
           {
            "colorbar": {
             "outlinewidth": 0,
             "ticks": ""
            },
            "colorscale": [
             [
              0,
              "#0d0887"
             ],
             [
              0.1111111111111111,
              "#46039f"
             ],
             [
              0.2222222222222222,
              "#7201a8"
             ],
             [
              0.3333333333333333,
              "#9c179e"
             ],
             [
              0.4444444444444444,
              "#bd3786"
             ],
             [
              0.5555555555555556,
              "#d8576b"
             ],
             [
              0.6666666666666666,
              "#ed7953"
             ],
             [
              0.7777777777777778,
              "#fb9f3a"
             ],
             [
              0.8888888888888888,
              "#fdca26"
             ],
             [
              1,
              "#f0f921"
             ]
            ],
            "type": "contour"
           }
          ],
          "contourcarpet": [
           {
            "colorbar": {
             "outlinewidth": 0,
             "ticks": ""
            },
            "type": "contourcarpet"
           }
          ],
          "heatmap": [
           {
            "colorbar": {
             "outlinewidth": 0,
             "ticks": ""
            },
            "colorscale": [
             [
              0,
              "#0d0887"
             ],
             [
              0.1111111111111111,
              "#46039f"
             ],
             [
              0.2222222222222222,
              "#7201a8"
             ],
             [
              0.3333333333333333,
              "#9c179e"
             ],
             [
              0.4444444444444444,
              "#bd3786"
             ],
             [
              0.5555555555555556,
              "#d8576b"
             ],
             [
              0.6666666666666666,
              "#ed7953"
             ],
             [
              0.7777777777777778,
              "#fb9f3a"
             ],
             [
              0.8888888888888888,
              "#fdca26"
             ],
             [
              1,
              "#f0f921"
             ]
            ],
            "type": "heatmap"
           }
          ],
          "heatmapgl": [
           {
            "colorbar": {
             "outlinewidth": 0,
             "ticks": ""
            },
            "colorscale": [
             [
              0,
              "#0d0887"
             ],
             [
              0.1111111111111111,
              "#46039f"
             ],
             [
              0.2222222222222222,
              "#7201a8"
             ],
             [
              0.3333333333333333,
              "#9c179e"
             ],
             [
              0.4444444444444444,
              "#bd3786"
             ],
             [
              0.5555555555555556,
              "#d8576b"
             ],
             [
              0.6666666666666666,
              "#ed7953"
             ],
             [
              0.7777777777777778,
              "#fb9f3a"
             ],
             [
              0.8888888888888888,
              "#fdca26"
             ],
             [
              1,
              "#f0f921"
             ]
            ],
            "type": "heatmapgl"
           }
          ],
          "histogram": [
           {
            "marker": {
             "pattern": {
              "fillmode": "overlay",
              "size": 10,
              "solidity": 0.2
             }
            },
            "type": "histogram"
           }
          ],
          "histogram2d": [
           {
            "colorbar": {
             "outlinewidth": 0,
             "ticks": ""
            },
            "colorscale": [
             [
              0,
              "#0d0887"
             ],
             [
              0.1111111111111111,
              "#46039f"
             ],
             [
              0.2222222222222222,
              "#7201a8"
             ],
             [
              0.3333333333333333,
              "#9c179e"
             ],
             [
              0.4444444444444444,
              "#bd3786"
             ],
             [
              0.5555555555555556,
              "#d8576b"
             ],
             [
              0.6666666666666666,
              "#ed7953"
             ],
             [
              0.7777777777777778,
              "#fb9f3a"
             ],
             [
              0.8888888888888888,
              "#fdca26"
             ],
             [
              1,
              "#f0f921"
             ]
            ],
            "type": "histogram2d"
           }
          ],
          "histogram2dcontour": [
           {
            "colorbar": {
             "outlinewidth": 0,
             "ticks": ""
            },
            "colorscale": [
             [
              0,
              "#0d0887"
             ],
             [
              0.1111111111111111,
              "#46039f"
             ],
             [
              0.2222222222222222,
              "#7201a8"
             ],
             [
              0.3333333333333333,
              "#9c179e"
             ],
             [
              0.4444444444444444,
              "#bd3786"
             ],
             [
              0.5555555555555556,
              "#d8576b"
             ],
             [
              0.6666666666666666,
              "#ed7953"
             ],
             [
              0.7777777777777778,
              "#fb9f3a"
             ],
             [
              0.8888888888888888,
              "#fdca26"
             ],
             [
              1,
              "#f0f921"
             ]
            ],
            "type": "histogram2dcontour"
           }
          ],
          "mesh3d": [
           {
            "colorbar": {
             "outlinewidth": 0,
             "ticks": ""
            },
            "type": "mesh3d"
           }
          ],
          "parcoords": [
           {
            "line": {
             "colorbar": {
              "outlinewidth": 0,
              "ticks": ""
             }
            },
            "type": "parcoords"
           }
          ],
          "pie": [
           {
            "automargin": true,
            "type": "pie"
           }
          ],
          "scatter": [
           {
            "fillpattern": {
             "fillmode": "overlay",
             "size": 10,
             "solidity": 0.2
            },
            "type": "scatter"
           }
          ],
          "scatter3d": [
           {
            "line": {
             "colorbar": {
              "outlinewidth": 0,
              "ticks": ""
             }
            },
            "marker": {
             "colorbar": {
              "outlinewidth": 0,
              "ticks": ""
             }
            },
            "type": "scatter3d"
           }
          ],
          "scattercarpet": [
           {
            "marker": {
             "colorbar": {
              "outlinewidth": 0,
              "ticks": ""
             }
            },
            "type": "scattercarpet"
           }
          ],
          "scattergeo": [
           {
            "marker": {
             "colorbar": {
              "outlinewidth": 0,
              "ticks": ""
             }
            },
            "type": "scattergeo"
           }
          ],
          "scattergl": [
           {
            "marker": {
             "colorbar": {
              "outlinewidth": 0,
              "ticks": ""
             }
            },
            "type": "scattergl"
           }
          ],
          "scattermapbox": [
           {
            "marker": {
             "colorbar": {
              "outlinewidth": 0,
              "ticks": ""
             }
            },
            "type": "scattermapbox"
           }
          ],
          "scatterpolar": [
           {
            "marker": {
             "colorbar": {
              "outlinewidth": 0,
              "ticks": ""
             }
            },
            "type": "scatterpolar"
           }
          ],
          "scatterpolargl": [
           {
            "marker": {
             "colorbar": {
              "outlinewidth": 0,
              "ticks": ""
             }
            },
            "type": "scatterpolargl"
           }
          ],
          "scatterternary": [
           {
            "marker": {
             "colorbar": {
              "outlinewidth": 0,
              "ticks": ""
             }
            },
            "type": "scatterternary"
           }
          ],
          "surface": [
           {
            "colorbar": {
             "outlinewidth": 0,
             "ticks": ""
            },
            "colorscale": [
             [
              0,
              "#0d0887"
             ],
             [
              0.1111111111111111,
              "#46039f"
             ],
             [
              0.2222222222222222,
              "#7201a8"
             ],
             [
              0.3333333333333333,
              "#9c179e"
             ],
             [
              0.4444444444444444,
              "#bd3786"
             ],
             [
              0.5555555555555556,
              "#d8576b"
             ],
             [
              0.6666666666666666,
              "#ed7953"
             ],
             [
              0.7777777777777778,
              "#fb9f3a"
             ],
             [
              0.8888888888888888,
              "#fdca26"
             ],
             [
              1,
              "#f0f921"
             ]
            ],
            "type": "surface"
           }
          ],
          "table": [
           {
            "cells": {
             "fill": {
              "color": "#EBF0F8"
             },
             "line": {
              "color": "white"
             }
            },
            "header": {
             "fill": {
              "color": "#C8D4E3"
             },
             "line": {
              "color": "white"
             }
            },
            "type": "table"
           }
          ]
         },
         "layout": {
          "annotationdefaults": {
           "arrowcolor": "#2a3f5f",
           "arrowhead": 0,
           "arrowwidth": 1
          },
          "autotypenumbers": "strict",
          "coloraxis": {
           "colorbar": {
            "outlinewidth": 0,
            "ticks": ""
           }
          },
          "colorscale": {
           "diverging": [
            [
             0,
             "#8e0152"
            ],
            [
             0.1,
             "#c51b7d"
            ],
            [
             0.2,
             "#de77ae"
            ],
            [
             0.3,
             "#f1b6da"
            ],
            [
             0.4,
             "#fde0ef"
            ],
            [
             0.5,
             "#f7f7f7"
            ],
            [
             0.6,
             "#e6f5d0"
            ],
            [
             0.7,
             "#b8e186"
            ],
            [
             0.8,
             "#7fbc41"
            ],
            [
             0.9,
             "#4d9221"
            ],
            [
             1,
             "#276419"
            ]
           ],
           "sequential": [
            [
             0,
             "#0d0887"
            ],
            [
             0.1111111111111111,
             "#46039f"
            ],
            [
             0.2222222222222222,
             "#7201a8"
            ],
            [
             0.3333333333333333,
             "#9c179e"
            ],
            [
             0.4444444444444444,
             "#bd3786"
            ],
            [
             0.5555555555555556,
             "#d8576b"
            ],
            [
             0.6666666666666666,
             "#ed7953"
            ],
            [
             0.7777777777777778,
             "#fb9f3a"
            ],
            [
             0.8888888888888888,
             "#fdca26"
            ],
            [
             1,
             "#f0f921"
            ]
           ],
           "sequentialminus": [
            [
             0,
             "#0d0887"
            ],
            [
             0.1111111111111111,
             "#46039f"
            ],
            [
             0.2222222222222222,
             "#7201a8"
            ],
            [
             0.3333333333333333,
             "#9c179e"
            ],
            [
             0.4444444444444444,
             "#bd3786"
            ],
            [
             0.5555555555555556,
             "#d8576b"
            ],
            [
             0.6666666666666666,
             "#ed7953"
            ],
            [
             0.7777777777777778,
             "#fb9f3a"
            ],
            [
             0.8888888888888888,
             "#fdca26"
            ],
            [
             1,
             "#f0f921"
            ]
           ]
          },
          "colorway": [
           "#636efa",
           "#EF553B",
           "#00cc96",
           "#ab63fa",
           "#FFA15A",
           "#19d3f3",
           "#FF6692",
           "#B6E880",
           "#FF97FF",
           "#FECB52"
          ],
          "font": {
           "color": "#2a3f5f"
          },
          "geo": {
           "bgcolor": "white",
           "lakecolor": "white",
           "landcolor": "#E5ECF6",
           "showlakes": true,
           "showland": true,
           "subunitcolor": "white"
          },
          "hoverlabel": {
           "align": "left"
          },
          "hovermode": "closest",
          "mapbox": {
           "style": "light"
          },
          "paper_bgcolor": "white",
          "plot_bgcolor": "#E5ECF6",
          "polar": {
           "angularaxis": {
            "gridcolor": "white",
            "linecolor": "white",
            "ticks": ""
           },
           "bgcolor": "#E5ECF6",
           "radialaxis": {
            "gridcolor": "white",
            "linecolor": "white",
            "ticks": ""
           }
          },
          "scene": {
           "xaxis": {
            "backgroundcolor": "#E5ECF6",
            "gridcolor": "white",
            "gridwidth": 2,
            "linecolor": "white",
            "showbackground": true,
            "ticks": "",
            "zerolinecolor": "white"
           },
           "yaxis": {
            "backgroundcolor": "#E5ECF6",
            "gridcolor": "white",
            "gridwidth": 2,
            "linecolor": "white",
            "showbackground": true,
            "ticks": "",
            "zerolinecolor": "white"
           },
           "zaxis": {
            "backgroundcolor": "#E5ECF6",
            "gridcolor": "white",
            "gridwidth": 2,
            "linecolor": "white",
            "showbackground": true,
            "ticks": "",
            "zerolinecolor": "white"
           }
          },
          "shapedefaults": {
           "line": {
            "color": "#2a3f5f"
           }
          },
          "ternary": {
           "aaxis": {
            "gridcolor": "white",
            "linecolor": "white",
            "ticks": ""
           },
           "baxis": {
            "gridcolor": "white",
            "linecolor": "white",
            "ticks": ""
           },
           "bgcolor": "#E5ECF6",
           "caxis": {
            "gridcolor": "white",
            "linecolor": "white",
            "ticks": ""
           }
          },
          "title": {
           "x": 0.05
          },
          "xaxis": {
           "automargin": true,
           "gridcolor": "white",
           "linecolor": "white",
           "ticks": "",
           "title": {
            "standoff": 15
           },
           "zerolinecolor": "white",
           "zerolinewidth": 2
          },
          "yaxis": {
           "automargin": true,
           "gridcolor": "white",
           "linecolor": "white",
           "ticks": "",
           "title": {
            "standoff": 15
           },
           "zerolinecolor": "white",
           "zerolinewidth": 2
          }
         }
        },
        "title": {
         "text": "AFN Linkage Node 1 to Node 2 Volume Flow Rate [m3/s] <br><sup> 7/21 to 7/21 between 0 and 23 @4 </sup>"
        }
       }
      }
     },
     "metadata": {},
     "output_type": "display_data"
    }
   ],
   "source": [
    "fig = go.Figure()\n",
    "\n",
    "title = None\n",
    "for dataset in linkage_datasets:\n",
    "    if dataset.header.analysis_period.st_month == 7:\n",
    "\n",
    "        fig.add_trace(go.Scatter(\n",
    "            x=dataset.datetimes, y=dataset.values, name=dataset.header.metadata[\"System\"]))\n",
    "\n",
    "        if not title:\n",
    "            print(\"creating title\")\n",
    "            title = create_plot_title(dataset)\n",
    "            fig.update_layout(title_text=title)\n",
    "    \n",
    "\n",
    "        \n",
    "fig.show()"
   ]
  },
  {
   "cell_type": "code",
   "execution_count": 39,
   "metadata": {},
   "outputs": [
    {
     "data": {
      "text/plain": [
       "'AFN Linkage Node 1 to Node 2 Volume Flow Rate [m3/s] <br><sup> 7/21 to 7/21 between 0 and 23 @4 </sup>'"
      ]
     },
     "execution_count": 39,
     "metadata": {},
     "output_type": "execute_result"
    }
   ],
   "source": [
    "create_plot_title(linkage_datasets[-3])"
   ]
  },
  {
   "cell_type": "code",
   "execution_count": 37,
   "metadata": {},
   "outputs": [
    {
     "data": {
      "text/plain": [
       "'7/21 to 7/21 between 0 and 23 @4'"
      ]
     },
     "execution_count": 37,
     "metadata": {},
     "output_type": "execute_result"
    }
   ],
   "source": [
    "str(linkage_datasets[-3].header.analysis_period)"
   ]
  },
  {
   "cell_type": "code",
   "execution_count": 34,
   "metadata": {},
   "outputs": [
    {
     "data": {
      "text/plain": [
       "{'type': 'AFN Linkage Node 1 to Node 2 Volume Flow Rate',\n",
       " 'System': 'BLOCK 00 STOREY 0 WALL 0002 DOOR'}"
      ]
     },
     "execution_count": 34,
     "metadata": {},
     "output_type": "execute_result"
    }
   ],
   "source": [
    "linkage_datasets[-3].header.metadata"
   ]
  },
  {
   "cell_type": "code",
   "execution_count": 25,
   "metadata": {},
   "outputs": [
    {
     "data": {
      "text/plain": [
       "(1.0,\n",
       " 1.0,\n",
       " 1.0,\n",
       " 1.0,\n",
       " 1.0,\n",
       " 1.0,\n",
       " 1.0,\n",
       " 1.0,\n",
       " 1.0,\n",
       " 1.0,\n",
       " 1.0,\n",
       " 1.0,\n",
       " 1.0,\n",
       " 1.0,\n",
       " 1.0,\n",
       " 1.0,\n",
       " 1.0,\n",
       " 1.0,\n",
       " 1.0,\n",
       " 1.0,\n",
       " 1.0,\n",
       " 1.0,\n",
       " 1.0,\n",
       " 1.0,\n",
       " 1.0,\n",
       " 1.0,\n",
       " 1.0,\n",
       " 1.0,\n",
       " 1.0,\n",
       " 1.0,\n",
       " 1.0,\n",
       " 1.0,\n",
       " 1.0,\n",
       " 1.0,\n",
       " 1.0,\n",
       " 1.0,\n",
       " 1.0,\n",
       " 1.0,\n",
       " 1.0,\n",
       " 1.0,\n",
       " 1.0,\n",
       " 1.0,\n",
       " 1.0,\n",
       " 1.0,\n",
       " 1.0,\n",
       " 1.0,\n",
       " 1.0,\n",
       " 1.0,\n",
       " 1.0,\n",
       " 1.0,\n",
       " 1.0,\n",
       " 1.0,\n",
       " 1.0,\n",
       " 1.0,\n",
       " 1.0,\n",
       " 1.0,\n",
       " 1.0,\n",
       " 1.0,\n",
       " 1.0,\n",
       " 1.0,\n",
       " 1.0,\n",
       " 1.0,\n",
       " 1.0,\n",
       " 1.0,\n",
       " 1.0,\n",
       " 1.0,\n",
       " 1.0,\n",
       " 1.0,\n",
       " 1.0,\n",
       " 1.0,\n",
       " 1.0,\n",
       " 1.0,\n",
       " 1.0,\n",
       " 1.0,\n",
       " 1.0,\n",
       " 1.0,\n",
       " 1.0,\n",
       " 1.0,\n",
       " 1.0,\n",
       " 1.0,\n",
       " 1.0,\n",
       " 1.0,\n",
       " 1.0,\n",
       " 1.0,\n",
       " 1.0,\n",
       " 1.0,\n",
       " 1.0,\n",
       " 1.0,\n",
       " 1.0,\n",
       " 1.0,\n",
       " 1.0,\n",
       " 1.0,\n",
       " 1.0,\n",
       " 1.0,\n",
       " 1.0,\n",
       " 1.0)"
      ]
     },
     "execution_count": 25,
     "metadata": {},
     "output_type": "execute_result"
    }
   ],
   "source": [
    "surface_venting_datasets[-3].values"
   ]
  }
 ],
 "metadata": {
  "kernelspec": {
   "display_name": "gqenv",
   "language": "python",
   "name": "python3"
  },
  "language_info": {
   "codemirror_mode": {
    "name": "ipython",
    "version": 3
   },
   "file_extension": ".py",
   "mimetype": "text/x-python",
   "name": "python",
   "nbconvert_exporter": "python",
   "pygments_lexer": "ipython3",
   "version": "3.9.15"
  }
 },
 "nbformat": 4,
 "nbformat_minor": 2
}
