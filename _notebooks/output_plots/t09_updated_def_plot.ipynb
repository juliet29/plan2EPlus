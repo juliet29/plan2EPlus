{
 "cells": [
  {
   "cell_type": "code",
   "execution_count": 1,
   "metadata": {},
   "outputs": [],
   "source": [
    "import sys\n",
    "sys.path.append(\"/Users/julietnwagwuume-ezeoke/_UILCode/gqe-phd/geomeppy/_scripts\")\n",
    "\n",
    "from case_edits.ezcase import EzCase\n",
    "from case_edits.recipes.two_zone import input\n",
    "\n",
    "from pprint import pprint\n",
    "\n",
    "import plotly.graph_objects as go"
   ]
  },
  {
   "cell_type": "code",
   "execution_count": 2,
   "metadata": {},
   "outputs": [
    {
     "name": "stdout",
     "output_type": "stream",
     "text": [
      "Added 5 walls \n",
      "Added 4 walls \n",
      "cases/tests/test16_ezcase/out.idf\n",
      "\n",
      "/Applications/EnergyPlus-22-2-0/energyplus --weather /Users/julietnwagwuume-ezeoke/_UILCode/gqe-phd/geomeppy/weather/CA_PALO-ALTO-AP_724937S_20.epw --output-directory /Users/julietnwagwuume-ezeoke/_UILCode/gqe-phd/geomeppy/cases/tests/test16_ezcase/results --idd /Applications/EnergyPlus-22-2-0/Energy+.idd /Users/julietnwagwuume-ezeoke/_UILCode/gqe-phd/geomeppy/cases/base/01example/Minimal_df1c8e.idf\n",
      "\n",
      "EnergyPlus Starting\n",
      "EnergyPlus, Version 22.2.0-c249759bad, YMD=2024.07.04 21:08\n",
      "Adjusting Air System Sizing\n",
      "Adjusting Standard 62.1 Ventilation Sizing\n",
      "Initializing Simulation\n",
      "Reporting Surfaces\n",
      "Beginning Primary Simulation\n",
      "Initializing New Environment Parameters\n",
      "Warming up {1}\n",
      "Warming up {2}\n",
      "Warming up {3}\n",
      "Warming up {4}\n",
      "Warming up {5}\n",
      "Warming up {6}\n",
      "Starting Simulation at 12/21 for DENVER_STAPLETON ANN HTG 99.6% CONDNS DB\n",
      "Initializing New Environment Parameters\n",
      "Warming up {1}\n",
      "Warming up {2}\n",
      "Warming up {3}\n",
      "Warming up {4}\n",
      "Warming up {5}\n",
      "Warming up {6}\n",
      "Starting Simulation at 07/21 for DENVER_STAPLETON ANN CLG .4% CONDNS DB=>MWB\n",
      "Writing tabular output file results using HTML format.\n",
      "Writing final SQL reports\n",
      "EnergyPlus Run Time=00hr 00min  0.28sec\n",
      "No match for BLOCK 00 STOREY 0\n",
      "No match for BLOCK 01 STOREY 0\n",
      "No match for ExtNode   1\n",
      "No match for ExtNode   2\n",
      "No match for BLOCK 00 STOREY 0\n",
      "No match for BLOCK 01 STOREY 0\n",
      "No match for ExtNode   1\n",
      "No match for ExtNode   2\n",
      "No match for BLOCK 00 STOREY 0\n",
      "No match for BLOCK 01 STOREY 0\n",
      "No match for ExtNode   1\n",
      "No match for ExtNode   2\n",
      "No match for BLOCK 00 STOREY 0\n",
      "No match for BLOCK 01 STOREY 0\n",
      "No match for ExtNode   1\n",
      "No match for ExtNode   2\n",
      "No match for ExtNode   1\n",
      "No match for ExtNode   2\n",
      "No match for ExtNode   1\n",
      "No match for ExtNode   2\n"
     ]
    },
    {
     "name": "stderr",
     "output_type": "stream",
     "text": [
      "EnergyPlus Completed Successfully.\n"
     ]
    },
    {
     "ename": "KeyError",
     "evalue": "'System'",
     "output_type": "error",
     "traceback": [
      "\u001b[0;31m---------------------------------------------------------------------------\u001b[0m",
      "\u001b[0;31mKeyError\u001b[0m                                  Traceback (most recent call last)",
      "File \u001b[0;32m~/_UILCode/gqe-phd/geomeppy/_scripts/outputs/sql.py:103\u001b[0m, in \u001b[0;36mSQLReader.match_geom_sql\u001b[0;34m(self)\u001b[0m\n\u001b[1;32m    102\u001b[0m \u001b[38;5;28;01mtry\u001b[39;00m:\n\u001b[0;32m--> 103\u001b[0m     \u001b[38;5;28mself\u001b[39m\u001b[38;5;241m.\u001b[39mgeom_name \u001b[38;5;241m=\u001b[39m \u001b[38;5;28;43mself\u001b[39;49m\u001b[38;5;241;43m.\u001b[39;49m\u001b[43mheader\u001b[49m\u001b[43m[\u001b[49m\u001b[38;5;124;43m\"\u001b[39;49m\u001b[38;5;124;43mmetadata\u001b[39;49m\u001b[38;5;124;43m\"\u001b[39;49m\u001b[43m]\u001b[49m\u001b[43m[\u001b[49m\u001b[38;5;28;43mself\u001b[39;49m\u001b[38;5;241;43m.\u001b[39;49m\u001b[43mgeom_type\u001b[49m\u001b[43m]\u001b[49m\n\u001b[1;32m    104\u001b[0m \u001b[38;5;28;01mexcept\u001b[39;00m:  \u001b[38;5;66;03m# TODO quick hack...\u001b[39;00m\n",
      "\u001b[0;31mKeyError\u001b[0m: 'Surface'",
      "\nDuring handling of the above exception, another exception occurred:\n",
      "\u001b[0;31mKeyError\u001b[0m                                  Traceback (most recent call last)",
      "Cell \u001b[0;32mIn[2], line 1\u001b[0m\n\u001b[0;32m----> 1\u001b[0m ez \u001b[38;5;241m=\u001b[39m \u001b[43mEzCase\u001b[49m\u001b[43m(\u001b[49m\u001b[38;5;28;43minput\u001b[39;49m\u001b[43m,\u001b[49m\u001b[43m \u001b[49m\u001b[43mRUN_CASE\u001b[49m\u001b[38;5;241;43m=\u001b[39;49m\u001b[38;5;28;43;01mTrue\u001b[39;49;00m\u001b[43m)\u001b[49m\n",
      "File \u001b[0;32m~/_UILCode/gqe-phd/geomeppy/_scripts/case_edits/ezcase.py:35\u001b[0m, in \u001b[0;36mEzCase.__init__\u001b[0;34m(self, input, RUN_CASE)\u001b[0m\n\u001b[1;32m     33\u001b[0m \u001b[38;5;28mself\u001b[39m\u001b[38;5;241m.\u001b[39mcase \u001b[38;5;241m=\u001b[39m EneryPlusCaseEditor(\u001b[38;5;28mself\u001b[39m\u001b[38;5;241m.\u001b[39minput\u001b[38;5;241m.\u001b[39mcase_name, \u001b[38;5;28mself\u001b[39m\u001b[38;5;241m.\u001b[39minput\u001b[38;5;241m.\u001b[39mstarting_case)\n\u001b[1;32m     34\u001b[0m \u001b[38;5;28mself\u001b[39m\u001b[38;5;241m.\u001b[39mRUN_CASE \u001b[38;5;241m=\u001b[39m RUN_CASE\n\u001b[0;32m---> 35\u001b[0m \u001b[38;5;28;43mself\u001b[39;49m\u001b[38;5;241;43m.\u001b[39;49m\u001b[43mrun\u001b[49m\u001b[43m(\u001b[49m\u001b[43m)\u001b[49m\n",
      "File \u001b[0;32m~/_UILCode/gqe-phd/geomeppy/_scripts/case_edits/ezcase.py:49\u001b[0m, in \u001b[0;36mEzCase.run\u001b[0;34m(self)\u001b[0m\n\u001b[1;32m     47\u001b[0m \u001b[38;5;28;01mif\u001b[39;00m \u001b[38;5;28mself\u001b[39m\u001b[38;5;241m.\u001b[39mRUN_CASE:\n\u001b[1;32m     48\u001b[0m     \u001b[38;5;28mself\u001b[39m\u001b[38;5;241m.\u001b[39mcase\u001b[38;5;241m.\u001b[39mrun_idf()\n\u001b[0;32m---> 49\u001b[0m \u001b[38;5;28;43mself\u001b[39;49m\u001b[38;5;241;43m.\u001b[39;49m\u001b[43mprepare_plotter\u001b[49m\u001b[43m(\u001b[49m\u001b[43m)\u001b[49m\n",
      "File \u001b[0;32m~/_UILCode/gqe-phd/geomeppy/_scripts/case_edits/ezcase.py:101\u001b[0m, in \u001b[0;36mEzCase.prepare_plotter\u001b[0;34m(self)\u001b[0m\n\u001b[1;32m     99\u001b[0m \u001b[38;5;28;01mdef\u001b[39;00m \u001b[38;5;21mprepare_plotter\u001b[39m(\u001b[38;5;28mself\u001b[39m):\n\u001b[1;32m    100\u001b[0m     p \u001b[38;5;241m=\u001b[39m SQLInputs(\u001b[38;5;28mself\u001b[39m\u001b[38;5;241m.\u001b[39minput\u001b[38;5;241m.\u001b[39mcase_name, \u001b[38;5;28mself\u001b[39m\u001b[38;5;241m.\u001b[39mcase\u001b[38;5;241m.\u001b[39mgeometry, \u001b[38;5;28mself\u001b[39m\u001b[38;5;241m.\u001b[39minput\u001b[38;5;241m.\u001b[39moutput_variables)\n\u001b[0;32m--> 101\u001b[0m     \u001b[38;5;28mself\u001b[39m\u001b[38;5;241m.\u001b[39mplotter \u001b[38;5;241m=\u001b[39m \u001b[43mPlotter\u001b[49m\u001b[43m(\u001b[49m\u001b[43mp\u001b[49m\u001b[43m)\u001b[49m\n\u001b[1;32m    102\u001b[0m     \u001b[38;5;28mself\u001b[39m\u001b[38;5;241m.\u001b[39moutputs \u001b[38;5;241m=\u001b[39m \u001b[38;5;28mself\u001b[39m\u001b[38;5;241m.\u001b[39mplotter\u001b[38;5;241m.\u001b[39mdataset_names\n",
      "File \u001b[0;32m~/_UILCode/gqe-phd/geomeppy/_scripts/outputs/plotter.py:14\u001b[0m, in \u001b[0;36mPlotter.__init__\u001b[0;34m(self, inputs)\u001b[0m\n\u001b[1;32m     13\u001b[0m \u001b[38;5;28;01mdef\u001b[39;00m \u001b[38;5;21m__init__\u001b[39m(\u001b[38;5;28mself\u001b[39m, inputs: SQLInputs) \u001b[38;5;241m-\u001b[39m\u001b[38;5;241m>\u001b[39m \u001b[38;5;28;01mNone\u001b[39;00m:\n\u001b[0;32m---> 14\u001b[0m     \u001b[38;5;28;43msuper\u001b[39;49m\u001b[43m(\u001b[49m\u001b[43m)\u001b[49m\u001b[38;5;241;43m.\u001b[39;49m\u001b[38;5;21;43m__init__\u001b[39;49m\u001b[43m(\u001b[49m\u001b[43minputs\u001b[49m\u001b[43m)\u001b[49m\n",
      "File \u001b[0;32m~/_UILCode/gqe-phd/geomeppy/_scripts/outputs/sql.py:50\u001b[0m, in \u001b[0;36mSQLReader.__init__\u001b[0;34m(self, inputs)\u001b[0m\n\u001b[1;32m     48\u001b[0m \u001b[38;5;28mself\u001b[39m\u001b[38;5;241m.\u001b[39mrequested_outputs \u001b[38;5;241m=\u001b[39m []\n\u001b[1;32m     49\u001b[0m \u001b[38;5;28mself\u001b[39m\u001b[38;5;241m.\u001b[39mdataset_names \u001b[38;5;241m=\u001b[39m Munch()\n\u001b[0;32m---> 50\u001b[0m \u001b[38;5;28;43mself\u001b[39;49m\u001b[38;5;241;43m.\u001b[39;49m\u001b[43mrequest_output_variables\u001b[49m\u001b[43m(\u001b[49m\u001b[43m)\u001b[49m\n",
      "File \u001b[0;32m~/_UILCode/gqe-phd/geomeppy/_scripts/outputs/sql.py:56\u001b[0m, in \u001b[0;36mSQLReader.request_output_variables\u001b[0;34m(self)\u001b[0m\n\u001b[1;32m     53\u001b[0m \u001b[38;5;28;01mdef\u001b[39;00m \u001b[38;5;21mrequest_output_variables\u001b[39m(\u001b[38;5;28mself\u001b[39m):\n\u001b[1;32m     54\u001b[0m     \u001b[38;5;66;03m# TODO move down!\u001b[39;00m\n\u001b[1;32m     55\u001b[0m     \u001b[38;5;28;01mfor\u001b[39;00m output \u001b[38;5;129;01min\u001b[39;00m \u001b[38;5;28mself\u001b[39m\u001b[38;5;241m.\u001b[39minputs\u001b[38;5;241m.\u001b[39moutput_variables:\n\u001b[0;32m---> 56\u001b[0m         \u001b[38;5;28;43mself\u001b[39;49m\u001b[38;5;241;43m.\u001b[39;49m\u001b[43mrequest_output\u001b[49m\u001b[43m(\u001b[49m\u001b[43moutput\u001b[49m\u001b[43m)\u001b[49m\n",
      "File \u001b[0;32m~/_UILCode/gqe-phd/geomeppy/_scripts/outputs/sql.py:95\u001b[0m, in \u001b[0;36mSQLReader.request_output\u001b[0;34m(self, output_var)\u001b[0m\n\u001b[1;32m     92\u001b[0m     \u001b[38;5;28mself\u001b[39m\u001b[38;5;241m.\u001b[39mgeom_type \u001b[38;5;241m=\u001b[39m GeomType\u001b[38;5;241m.\u001b[39mSurface\u001b[38;5;241m.\u001b[39mname\n\u001b[1;32m     93\u001b[0m     \u001b[38;5;28mself\u001b[39m\u001b[38;5;241m.\u001b[39mdata_structure \u001b[38;5;241m=\u001b[39m \u001b[38;5;28mself\u001b[39m\u001b[38;5;241m.\u001b[39mwall_dict\n\u001b[0;32m---> 95\u001b[0m \u001b[38;5;28;43mself\u001b[39;49m\u001b[38;5;241;43m.\u001b[39;49m\u001b[43mmatch_geom_sql\u001b[49m\u001b[43m(\u001b[49m\u001b[43m)\u001b[49m\n",
      "File \u001b[0;32m~/_UILCode/gqe-phd/geomeppy/_scripts/outputs/sql.py:105\u001b[0m, in \u001b[0;36mSQLReader.match_geom_sql\u001b[0;34m(self)\u001b[0m\n\u001b[1;32m    103\u001b[0m     \u001b[38;5;28mself\u001b[39m\u001b[38;5;241m.\u001b[39mgeom_name \u001b[38;5;241m=\u001b[39m \u001b[38;5;28mself\u001b[39m\u001b[38;5;241m.\u001b[39mheader[\u001b[38;5;124m\"\u001b[39m\u001b[38;5;124mmetadata\u001b[39m\u001b[38;5;124m\"\u001b[39m][\u001b[38;5;28mself\u001b[39m\u001b[38;5;241m.\u001b[39mgeom_type]\n\u001b[1;32m    104\u001b[0m \u001b[38;5;28;01mexcept\u001b[39;00m:  \u001b[38;5;66;03m# TODO quick hack...\u001b[39;00m\n\u001b[0;32m--> 105\u001b[0m     \u001b[38;5;28mself\u001b[39m\u001b[38;5;241m.\u001b[39mgeom_name \u001b[38;5;241m=\u001b[39m \u001b[38;5;28;43mself\u001b[39;49m\u001b[38;5;241;43m.\u001b[39;49m\u001b[43mheader\u001b[49m\u001b[43m[\u001b[49m\u001b[38;5;124;43m\"\u001b[39;49m\u001b[38;5;124;43mmetadata\u001b[39;49m\u001b[38;5;124;43m\"\u001b[39;49m\u001b[43m]\u001b[49m\u001b[43m[\u001b[49m\u001b[38;5;124;43m\"\u001b[39;49m\u001b[38;5;124;43mSystem\u001b[39;49m\u001b[38;5;124;43m\"\u001b[39;49m\u001b[43m]\u001b[49m\n\u001b[1;32m    107\u001b[0m \u001b[38;5;28;01mif\u001b[39;00m \u001b[38;5;124m\"\u001b[39m\u001b[38;5;124mROOF\u001b[39m\u001b[38;5;124m\"\u001b[39m \u001b[38;5;129;01min\u001b[39;00m \u001b[38;5;28mself\u001b[39m\u001b[38;5;241m.\u001b[39mgeom_name:\n\u001b[1;32m    108\u001b[0m     \u001b[38;5;28;01mcontinue\u001b[39;00m\n",
      "\u001b[0;31mKeyError\u001b[0m: 'System'"
     ]
    }
   ],
   "source": [
    "ez = EzCase(input, RUN_CASE=True)"
   ]
  },
  {
   "cell_type": "code",
   "execution_count": 3,
   "metadata": {},
   "outputs": [
    {
     "data": {
      "application/vnd.plotly.v1+json": {
       "config": {
        "plotlyServerURL": "https://plotly.com"
       },
       "data": [],
       "layout": {
        "autosize": false,
        "height": 400,
        "margin": {
         "b": 50,
         "l": 50,
         "pad": 4,
         "r": 50,
         "t": 50
        },
        "shapes": [
         {
          "fillcolor": "#9dd1eb",
          "label": {
           "text": "Block 00"
          },
          "type": "rect",
          "x0": 0,
          "x1": 100,
          "xref": "x",
          "y0": 70,
          "y1": 100,
          "yref": "y"
         },
         {
          "fillcolor": "#9dd1eb",
          "label": {
           "text": "Block 01"
          },
          "type": "rect",
          "x0": 0,
          "x1": 50,
          "xref": "x",
          "y0": 0,
          "y1": 70,
          "yref": "y"
         },
         {
          "fillcolor": "#a32c54",
          "label": {
           "font": {
            "color": "#a32c54",
            "size": 9
           },
           "text": "Door"
          },
          "line": {
           "color": "#a32c54",
           "width": 3
          },
          "type": "line",
          "x0": 49.5,
          "x1": 50.5,
          "xref": "x",
          "y0": 100,
          "y1": 100,
          "yref": "y"
         },
         {
          "fillcolor": "#a32c54",
          "label": {
           "font": {
            "color": "#a32c54",
            "size": 9
           },
           "text": "Door"
          },
          "line": {
           "color": "#a32c54",
           "width": 3
          },
          "type": "line",
          "x0": 24.5,
          "x1": 25.5,
          "xref": "x",
          "y0": 70,
          "y1": 70,
          "yref": "y"
         },
         {
          "fillcolor": "#a32c54",
          "label": {
           "font": {
            "color": "#a32c54",
            "size": 9
           },
           "text": "Window"
          },
          "line": {
           "color": "#a32c54",
           "width": 3
          },
          "type": "line",
          "x0": 24.75,
          "x1": 25.25,
          "xref": "x",
          "y0": 0,
          "y1": 0,
          "yref": "y"
         }
        ],
        "template": {
         "data": {
          "bar": [
           {
            "error_x": {
             "color": "#2a3f5f"
            },
            "error_y": {
             "color": "#2a3f5f"
            },
            "marker": {
             "line": {
              "color": "#E5ECF6",
              "width": 0.5
             },
             "pattern": {
              "fillmode": "overlay",
              "size": 10,
              "solidity": 0.2
             }
            },
            "type": "bar"
           }
          ],
          "barpolar": [
           {
            "marker": {
             "line": {
              "color": "#E5ECF6",
              "width": 0.5
             },
             "pattern": {
              "fillmode": "overlay",
              "size": 10,
              "solidity": 0.2
             }
            },
            "type": "barpolar"
           }
          ],
          "carpet": [
           {
            "aaxis": {
             "endlinecolor": "#2a3f5f",
             "gridcolor": "white",
             "linecolor": "white",
             "minorgridcolor": "white",
             "startlinecolor": "#2a3f5f"
            },
            "baxis": {
             "endlinecolor": "#2a3f5f",
             "gridcolor": "white",
             "linecolor": "white",
             "minorgridcolor": "white",
             "startlinecolor": "#2a3f5f"
            },
            "type": "carpet"
           }
          ],
          "choropleth": [
           {
            "colorbar": {
             "outlinewidth": 0,
             "ticks": ""
            },
            "type": "choropleth"
           }
          ],
          "contour": [
           {
            "colorbar": {
             "outlinewidth": 0,
             "ticks": ""
            },
            "colorscale": [
             [
              0,
              "#0d0887"
             ],
             [
              0.1111111111111111,
              "#46039f"
             ],
             [
              0.2222222222222222,
              "#7201a8"
             ],
             [
              0.3333333333333333,
              "#9c179e"
             ],
             [
              0.4444444444444444,
              "#bd3786"
             ],
             [
              0.5555555555555556,
              "#d8576b"
             ],
             [
              0.6666666666666666,
              "#ed7953"
             ],
             [
              0.7777777777777778,
              "#fb9f3a"
             ],
             [
              0.8888888888888888,
              "#fdca26"
             ],
             [
              1,
              "#f0f921"
             ]
            ],
            "type": "contour"
           }
          ],
          "contourcarpet": [
           {
            "colorbar": {
             "outlinewidth": 0,
             "ticks": ""
            },
            "type": "contourcarpet"
           }
          ],
          "heatmap": [
           {
            "colorbar": {
             "outlinewidth": 0,
             "ticks": ""
            },
            "colorscale": [
             [
              0,
              "#0d0887"
             ],
             [
              0.1111111111111111,
              "#46039f"
             ],
             [
              0.2222222222222222,
              "#7201a8"
             ],
             [
              0.3333333333333333,
              "#9c179e"
             ],
             [
              0.4444444444444444,
              "#bd3786"
             ],
             [
              0.5555555555555556,
              "#d8576b"
             ],
             [
              0.6666666666666666,
              "#ed7953"
             ],
             [
              0.7777777777777778,
              "#fb9f3a"
             ],
             [
              0.8888888888888888,
              "#fdca26"
             ],
             [
              1,
              "#f0f921"
             ]
            ],
            "type": "heatmap"
           }
          ],
          "heatmapgl": [
           {
            "colorbar": {
             "outlinewidth": 0,
             "ticks": ""
            },
            "colorscale": [
             [
              0,
              "#0d0887"
             ],
             [
              0.1111111111111111,
              "#46039f"
             ],
             [
              0.2222222222222222,
              "#7201a8"
             ],
             [
              0.3333333333333333,
              "#9c179e"
             ],
             [
              0.4444444444444444,
              "#bd3786"
             ],
             [
              0.5555555555555556,
              "#d8576b"
             ],
             [
              0.6666666666666666,
              "#ed7953"
             ],
             [
              0.7777777777777778,
              "#fb9f3a"
             ],
             [
              0.8888888888888888,
              "#fdca26"
             ],
             [
              1,
              "#f0f921"
             ]
            ],
            "type": "heatmapgl"
           }
          ],
          "histogram": [
           {
            "marker": {
             "pattern": {
              "fillmode": "overlay",
              "size": 10,
              "solidity": 0.2
             }
            },
            "type": "histogram"
           }
          ],
          "histogram2d": [
           {
            "colorbar": {
             "outlinewidth": 0,
             "ticks": ""
            },
            "colorscale": [
             [
              0,
              "#0d0887"
             ],
             [
              0.1111111111111111,
              "#46039f"
             ],
             [
              0.2222222222222222,
              "#7201a8"
             ],
             [
              0.3333333333333333,
              "#9c179e"
             ],
             [
              0.4444444444444444,
              "#bd3786"
             ],
             [
              0.5555555555555556,
              "#d8576b"
             ],
             [
              0.6666666666666666,
              "#ed7953"
             ],
             [
              0.7777777777777778,
              "#fb9f3a"
             ],
             [
              0.8888888888888888,
              "#fdca26"
             ],
             [
              1,
              "#f0f921"
             ]
            ],
            "type": "histogram2d"
           }
          ],
          "histogram2dcontour": [
           {
            "colorbar": {
             "outlinewidth": 0,
             "ticks": ""
            },
            "colorscale": [
             [
              0,
              "#0d0887"
             ],
             [
              0.1111111111111111,
              "#46039f"
             ],
             [
              0.2222222222222222,
              "#7201a8"
             ],
             [
              0.3333333333333333,
              "#9c179e"
             ],
             [
              0.4444444444444444,
              "#bd3786"
             ],
             [
              0.5555555555555556,
              "#d8576b"
             ],
             [
              0.6666666666666666,
              "#ed7953"
             ],
             [
              0.7777777777777778,
              "#fb9f3a"
             ],
             [
              0.8888888888888888,
              "#fdca26"
             ],
             [
              1,
              "#f0f921"
             ]
            ],
            "type": "histogram2dcontour"
           }
          ],
          "mesh3d": [
           {
            "colorbar": {
             "outlinewidth": 0,
             "ticks": ""
            },
            "type": "mesh3d"
           }
          ],
          "parcoords": [
           {
            "line": {
             "colorbar": {
              "outlinewidth": 0,
              "ticks": ""
             }
            },
            "type": "parcoords"
           }
          ],
          "pie": [
           {
            "automargin": true,
            "type": "pie"
           }
          ],
          "scatter": [
           {
            "fillpattern": {
             "fillmode": "overlay",
             "size": 10,
             "solidity": 0.2
            },
            "type": "scatter"
           }
          ],
          "scatter3d": [
           {
            "line": {
             "colorbar": {
              "outlinewidth": 0,
              "ticks": ""
             }
            },
            "marker": {
             "colorbar": {
              "outlinewidth": 0,
              "ticks": ""
             }
            },
            "type": "scatter3d"
           }
          ],
          "scattercarpet": [
           {
            "marker": {
             "colorbar": {
              "outlinewidth": 0,
              "ticks": ""
             }
            },
            "type": "scattercarpet"
           }
          ],
          "scattergeo": [
           {
            "marker": {
             "colorbar": {
              "outlinewidth": 0,
              "ticks": ""
             }
            },
            "type": "scattergeo"
           }
          ],
          "scattergl": [
           {
            "marker": {
             "colorbar": {
              "outlinewidth": 0,
              "ticks": ""
             }
            },
            "type": "scattergl"
           }
          ],
          "scattermapbox": [
           {
            "marker": {
             "colorbar": {
              "outlinewidth": 0,
              "ticks": ""
             }
            },
            "type": "scattermapbox"
           }
          ],
          "scatterpolar": [
           {
            "marker": {
             "colorbar": {
              "outlinewidth": 0,
              "ticks": ""
             }
            },
            "type": "scatterpolar"
           }
          ],
          "scatterpolargl": [
           {
            "marker": {
             "colorbar": {
              "outlinewidth": 0,
              "ticks": ""
             }
            },
            "type": "scatterpolargl"
           }
          ],
          "scatterternary": [
           {
            "marker": {
             "colorbar": {
              "outlinewidth": 0,
              "ticks": ""
             }
            },
            "type": "scatterternary"
           }
          ],
          "surface": [
           {
            "colorbar": {
             "outlinewidth": 0,
             "ticks": ""
            },
            "colorscale": [
             [
              0,
              "#0d0887"
             ],
             [
              0.1111111111111111,
              "#46039f"
             ],
             [
              0.2222222222222222,
              "#7201a8"
             ],
             [
              0.3333333333333333,
              "#9c179e"
             ],
             [
              0.4444444444444444,
              "#bd3786"
             ],
             [
              0.5555555555555556,
              "#d8576b"
             ],
             [
              0.6666666666666666,
              "#ed7953"
             ],
             [
              0.7777777777777778,
              "#fb9f3a"
             ],
             [
              0.8888888888888888,
              "#fdca26"
             ],
             [
              1,
              "#f0f921"
             ]
            ],
            "type": "surface"
           }
          ],
          "table": [
           {
            "cells": {
             "fill": {
              "color": "#EBF0F8"
             },
             "line": {
              "color": "white"
             }
            },
            "header": {
             "fill": {
              "color": "#C8D4E3"
             },
             "line": {
              "color": "white"
             }
            },
            "type": "table"
           }
          ]
         },
         "layout": {
          "annotationdefaults": {
           "arrowcolor": "#2a3f5f",
           "arrowhead": 0,
           "arrowwidth": 1
          },
          "autotypenumbers": "strict",
          "coloraxis": {
           "colorbar": {
            "outlinewidth": 0,
            "ticks": ""
           }
          },
          "colorscale": {
           "diverging": [
            [
             0,
             "#8e0152"
            ],
            [
             0.1,
             "#c51b7d"
            ],
            [
             0.2,
             "#de77ae"
            ],
            [
             0.3,
             "#f1b6da"
            ],
            [
             0.4,
             "#fde0ef"
            ],
            [
             0.5,
             "#f7f7f7"
            ],
            [
             0.6,
             "#e6f5d0"
            ],
            [
             0.7,
             "#b8e186"
            ],
            [
             0.8,
             "#7fbc41"
            ],
            [
             0.9,
             "#4d9221"
            ],
            [
             1,
             "#276419"
            ]
           ],
           "sequential": [
            [
             0,
             "#0d0887"
            ],
            [
             0.1111111111111111,
             "#46039f"
            ],
            [
             0.2222222222222222,
             "#7201a8"
            ],
            [
             0.3333333333333333,
             "#9c179e"
            ],
            [
             0.4444444444444444,
             "#bd3786"
            ],
            [
             0.5555555555555556,
             "#d8576b"
            ],
            [
             0.6666666666666666,
             "#ed7953"
            ],
            [
             0.7777777777777778,
             "#fb9f3a"
            ],
            [
             0.8888888888888888,
             "#fdca26"
            ],
            [
             1,
             "#f0f921"
            ]
           ],
           "sequentialminus": [
            [
             0,
             "#0d0887"
            ],
            [
             0.1111111111111111,
             "#46039f"
            ],
            [
             0.2222222222222222,
             "#7201a8"
            ],
            [
             0.3333333333333333,
             "#9c179e"
            ],
            [
             0.4444444444444444,
             "#bd3786"
            ],
            [
             0.5555555555555556,
             "#d8576b"
            ],
            [
             0.6666666666666666,
             "#ed7953"
            ],
            [
             0.7777777777777778,
             "#fb9f3a"
            ],
            [
             0.8888888888888888,
             "#fdca26"
            ],
            [
             1,
             "#f0f921"
            ]
           ]
          },
          "colorway": [
           "#636efa",
           "#EF553B",
           "#00cc96",
           "#ab63fa",
           "#FFA15A",
           "#19d3f3",
           "#FF6692",
           "#B6E880",
           "#FF97FF",
           "#FECB52"
          ],
          "font": {
           "color": "#2a3f5f"
          },
          "geo": {
           "bgcolor": "white",
           "lakecolor": "white",
           "landcolor": "#E5ECF6",
           "showlakes": true,
           "showland": true,
           "subunitcolor": "white"
          },
          "hoverlabel": {
           "align": "left"
          },
          "hovermode": "closest",
          "mapbox": {
           "style": "light"
          },
          "paper_bgcolor": "white",
          "plot_bgcolor": "#E5ECF6",
          "polar": {
           "angularaxis": {
            "gridcolor": "white",
            "linecolor": "white",
            "ticks": ""
           },
           "bgcolor": "#E5ECF6",
           "radialaxis": {
            "gridcolor": "white",
            "linecolor": "white",
            "ticks": ""
           }
          },
          "scene": {
           "xaxis": {
            "backgroundcolor": "#E5ECF6",
            "gridcolor": "white",
            "gridwidth": 2,
            "linecolor": "white",
            "showbackground": true,
            "ticks": "",
            "zerolinecolor": "white"
           },
           "yaxis": {
            "backgroundcolor": "#E5ECF6",
            "gridcolor": "white",
            "gridwidth": 2,
            "linecolor": "white",
            "showbackground": true,
            "ticks": "",
            "zerolinecolor": "white"
           },
           "zaxis": {
            "backgroundcolor": "#E5ECF6",
            "gridcolor": "white",
            "gridwidth": 2,
            "linecolor": "white",
            "showbackground": true,
            "ticks": "",
            "zerolinecolor": "white"
           }
          },
          "shapedefaults": {
           "line": {
            "color": "#2a3f5f"
           }
          },
          "ternary": {
           "aaxis": {
            "gridcolor": "white",
            "linecolor": "white",
            "ticks": ""
           },
           "baxis": {
            "gridcolor": "white",
            "linecolor": "white",
            "ticks": ""
           },
           "bgcolor": "#E5ECF6",
           "caxis": {
            "gridcolor": "white",
            "linecolor": "white",
            "ticks": ""
           }
          },
          "title": {
           "x": 0.05
          },
          "xaxis": {
           "automargin": true,
           "gridcolor": "white",
           "linecolor": "white",
           "ticks": "",
           "title": {
            "standoff": 15
           },
           "zerolinecolor": "white",
           "zerolinewidth": 2
          },
          "yaxis": {
           "automargin": true,
           "gridcolor": "white",
           "linecolor": "white",
           "ticks": "",
           "title": {
            "standoff": 15
           },
           "zerolinecolor": "white",
           "zerolinewidth": 2
          }
         }
        },
        "width": 400,
        "xaxis": {
         "range": [
          -20,
          120
         ]
        },
        "yaxis": {
         "range": [
          -20,
          120
         ]
        }
       }
      }
     },
     "metadata": {},
     "output_type": "display_data"
    }
   ],
   "source": [
    "ez.plotter.plot_geometry()"
   ]
  },
  {
   "cell_type": "code",
   "execution_count": 4,
   "metadata": {},
   "outputs": [
    {
     "name": "stdout",
     "output_type": "stream",
     "text": [
      "dict_keys(['zone_ach12_21', 'zone_ach7_21', 'zone_mean_air_temp12_21', 'zone_mean_air_temp7_21', 'surf_net_thermal_rad12_21', 'surf_net_thermal_rad7_21', 'node_temp12_21', 'node_temp7_21', 'node_total_pressure12_21', 'node_total_pressure7_21', 'node_wind_pressure12_21', 'node_wind_pressure7_21', 'linkage_flow12_21', 'linkage_flow7_21', 'surface_venting12_21', 'surface_venting7_21'])\n"
     ]
    }
   ],
   "source": [
    "pprint(ez.plotter.dataset_names.keys())"
   ]
  },
  {
   "cell_type": "code",
   "execution_count": 10,
   "metadata": {},
   "outputs": [
    {
     "name": "stdout",
     "output_type": "stream",
     "text": [
      "ExtNode   1\n",
      "ExtNode   2\n"
     ]
    }
   ],
   "source": [
    "node_wind_pressure_datasets = ez.plotter.sqld.data_collections_by_output_name(\"AFN Node Wind Pressure\")\n",
    "\n",
    "for dataset in node_wind_pressure_datasets:\n",
    "    if dataset.header.analysis_period.st_month == 7:\n",
    "        print(dataset.header.metadata[\"System\"])"
   ]
  },
  {
   "cell_type": "code",
   "execution_count": 5,
   "metadata": {},
   "outputs": [
    {
     "name": "stdout",
     "output_type": "stream",
     "text": [
      "BLOCK 00 STOREY 0\n",
      "BLOCK 01 STOREY 0\n",
      "ExtNode   1\n",
      "ExtNode   2\n"
     ]
    }
   ],
   "source": [
    "node_pressure_datasets = ez.plotter.sqld.data_collections_by_output_name(\"AFN Node Total Pressure\")\n",
    "\n",
    "for dataset in node_pressure_datasets:\n",
    "    if dataset.header.analysis_period.st_month == 7:\n",
    "        print(dataset.header.metadata[\"System\"])"
   ]
  },
  {
   "cell_type": "code",
   "execution_count": 16,
   "metadata": {},
   "outputs": [
    {
     "name": "stdout",
     "output_type": "stream",
     "text": [
      "BLOCK 00 STOREY 0\n",
      "BLOCK 01 STOREY 0\n",
      "ExtNode   1\n",
      "ExtNode   2\n"
     ]
    }
   ],
   "source": [
    "node_temp_datasets = ez.plotter.sqld.data_collections_by_output_name(\"AFN Node Temperature\")\n",
    "\n",
    "for dataset in node_temp_datasets:\n",
    "    if dataset.header.analysis_period.st_month == 7:\n",
    "        print(dataset.header.metadata[\"System\"])\n"
   ]
  },
  {
   "cell_type": "code",
   "execution_count": 19,
   "metadata": {},
   "outputs": [
    {
     "name": "stdout",
     "output_type": "stream",
     "text": [
      "BLOCK 00 STOREY 0 WALL 0002 DOOR\n",
      "BLOCK 00 STOREY 0 WALL 0004_1 DOOR\n",
      "BLOCK 01 STOREY 0 WALL 0004 WINDOW\n"
     ]
    }
   ],
   "source": [
    "linkage_datasets = ez.plotter.sqld.data_collections_by_output_name(\"AFN Linkage Node 1 to Node 2 Volume Flow Rate\")\n",
    "\n",
    "for dataset in linkage_datasets:\n",
    "    if dataset.header.analysis_period.st_month == 7:\n",
    "        print(dataset.header.metadata[\"System\"])\n",
    "# linkage_datasets\n"
   ]
  },
  {
   "cell_type": "code",
   "execution_count": 21,
   "metadata": {},
   "outputs": [
    {
     "name": "stdout",
     "output_type": "stream",
     "text": [
      "BLOCK 00 STOREY 0 WALL 0002 DOOR\n",
      "BLOCK 00 STOREY 0 WALL 0004_1 DOOR\n",
      "BLOCK 01 STOREY 0 WALL 0004 WINDOW\n"
     ]
    }
   ],
   "source": [
    "surface_venting_datasets = ez.plotter.sqld.data_collections_by_output_name(\"AFN Surface Venting Window or Door Opening Factor\")\n",
    "\n",
    "for dataset in surface_venting_datasets:\n",
    "    if dataset.header.analysis_period.st_month == 7:\n",
    "        print(dataset.header.metadata[\"Surface\"])\n",
    "# linkage_datasets"
   ]
  },
  {
   "cell_type": "code",
   "execution_count": null,
   "metadata": {},
   "outputs": [],
   "source": []
  },
  {
   "cell_type": "code",
   "execution_count": 8,
   "metadata": {},
   "outputs": [],
   "source": [
    "def create_plot_title(dataset):\n",
    "    variable = dataset.header.metadata[\"type\"]\n",
    "    unit = dataset.header.unit\n",
    "    analysis_period = str(dataset.header.analysis_period)\n",
    "    title = f\"{variable} [{unit}] <br><sup> {analysis_period} </sup>\"\n",
    "    return title"
   ]
  },
  {
   "cell_type": "code",
   "execution_count": 11,
   "metadata": {},
   "outputs": [
    {
     "name": "stdout",
     "output_type": "stream",
     "text": [
      "creating title\n"
     ]
    },
    {
     "data": {
      "application/vnd.plotly.v1+json": {
       "config": {
        "plotlyServerURL": "https://plotly.com"
       },
       "data": [
        {
         "name": "ExtNode   1",
         "type": "scatter",
         "x": [
          "2017-07-21T00:00:00",
          "2017-07-21T00:15:00",
          "2017-07-21T00:30:00",
          "2017-07-21T00:45:00",
          "2017-07-21T01:00:00",
          "2017-07-21T01:15:00",
          "2017-07-21T01:30:00",
          "2017-07-21T01:45:00",
          "2017-07-21T02:00:00",
          "2017-07-21T02:15:00",
          "2017-07-21T02:30:00",
          "2017-07-21T02:45:00",
          "2017-07-21T03:00:00",
          "2017-07-21T03:15:00",
          "2017-07-21T03:30:00",
          "2017-07-21T03:45:00",
          "2017-07-21T04:00:00",
          "2017-07-21T04:15:00",
          "2017-07-21T04:30:00",
          "2017-07-21T04:45:00",
          "2017-07-21T05:00:00",
          "2017-07-21T05:15:00",
          "2017-07-21T05:30:00",
          "2017-07-21T05:45:00",
          "2017-07-21T06:00:00",
          "2017-07-21T06:15:00",
          "2017-07-21T06:30:00",
          "2017-07-21T06:45:00",
          "2017-07-21T07:00:00",
          "2017-07-21T07:15:00",
          "2017-07-21T07:30:00",
          "2017-07-21T07:45:00",
          "2017-07-21T08:00:00",
          "2017-07-21T08:15:00",
          "2017-07-21T08:30:00",
          "2017-07-21T08:45:00",
          "2017-07-21T09:00:00",
          "2017-07-21T09:15:00",
          "2017-07-21T09:30:00",
          "2017-07-21T09:45:00",
          "2017-07-21T10:00:00",
          "2017-07-21T10:15:00",
          "2017-07-21T10:30:00",
          "2017-07-21T10:45:00",
          "2017-07-21T11:00:00",
          "2017-07-21T11:15:00",
          "2017-07-21T11:30:00",
          "2017-07-21T11:45:00",
          "2017-07-21T12:00:00",
          "2017-07-21T12:15:00",
          "2017-07-21T12:30:00",
          "2017-07-21T12:45:00",
          "2017-07-21T13:00:00",
          "2017-07-21T13:15:00",
          "2017-07-21T13:30:00",
          "2017-07-21T13:45:00",
          "2017-07-21T14:00:00",
          "2017-07-21T14:15:00",
          "2017-07-21T14:30:00",
          "2017-07-21T14:45:00",
          "2017-07-21T15:00:00",
          "2017-07-21T15:15:00",
          "2017-07-21T15:30:00",
          "2017-07-21T15:45:00",
          "2017-07-21T16:00:00",
          "2017-07-21T16:15:00",
          "2017-07-21T16:30:00",
          "2017-07-21T16:45:00",
          "2017-07-21T17:00:00",
          "2017-07-21T17:15:00",
          "2017-07-21T17:30:00",
          "2017-07-21T17:45:00",
          "2017-07-21T18:00:00",
          "2017-07-21T18:15:00",
          "2017-07-21T18:30:00",
          "2017-07-21T18:45:00",
          "2017-07-21T19:00:00",
          "2017-07-21T19:15:00",
          "2017-07-21T19:30:00",
          "2017-07-21T19:45:00",
          "2017-07-21T20:00:00",
          "2017-07-21T20:15:00",
          "2017-07-21T20:30:00",
          "2017-07-21T20:45:00",
          "2017-07-21T21:00:00",
          "2017-07-21T21:15:00",
          "2017-07-21T21:30:00",
          "2017-07-21T21:45:00",
          "2017-07-21T22:00:00",
          "2017-07-21T22:15:00",
          "2017-07-21T22:30:00",
          "2017-07-21T22:45:00",
          "2017-07-21T23:00:00",
          "2017-07-21T23:15:00",
          "2017-07-21T23:30:00",
          "2017-07-21T23:45:00"
         ],
         "y": [
          -1.220128607422096,
          -1.221074320835096,
          -1.2220214995686638,
          -1.22297014673844,
          -1.223603403823251,
          -1.22423730455621,
          -1.2248718730550188,
          -1.2255070863795792,
          -1.2259839318732995,
          -1.2264611596382742,
          -1.2269387470986337,
          -1.2274167058740186,
          -1.2278950367578785,
          -1.22837373988649,
          -1.228852816123737,
          -1.2293322654146444,
          -1.229652110061492,
          -1.2299721208518384,
          -1.2302922859752892,
          -1.2306126292415793,
          -1.2302922859752892,
          -1.2299721208518384,
          -1.229652110061492,
          -1.2293322654146444,
          -1.2282141349784637,
          -1.227098021604382,
          -1.2259839318732995,
          -1.2248718730550188,
          -1.2221795132246696,
          -1.2194989354607229,
          -1.216830087471869,
          -1.2141728790083408,
          -1.2112167358088064,
          -1.2082749334494292,
          -1.2053473679912776,
          -1.202433935744027,
          -1.1998390805742971,
          -1.1972553742883887,
          -1.194682769193382,
          -1.1921211817992112,
          -1.1898700431753046,
          -1.1876273906339463,
          -1.1853931541022964,
          -1.1831673091732824,
          -1.1816880365291824,
          -1.1802124542996562,
          -1.17874055964352,
          -1.1772723152218647,
          -1.1761003611337908,
          -1.1749307122061141,
          -1.1737634078956884,
          -1.1725983940899012,
          -1.1718714392224163,
          -1.1711454067690283,
          -1.1704202485285544,
          -1.1696959878893791,
          -1.1696959878893791,
          -1.1696959878893791,
          -1.1696959878893791,
          -1.1696959878893791,
          -1.170565204094426,
          -1.1714357110351834,
          -1.172307513058915,
          -1.173180612331458,
          -1.1743467818467053,
          -1.175515246039145,
          -1.176686058148321,
          -1.1778591787859185,
          -1.1793288751678173,
          -1.180802249767492,
          -1.1822793065794102,
          -1.1837600470712175,
          -1.1859881338118907,
          -1.1882246014464226,
          -1.1904695206106666,
          -1.192722915780877,
          -1.1943808321103428,
          -1.1960433575131442,
          -1.1977105122426508,
          -1.1993823144531688,
          -1.2007536322837784,
          -1.2021280729293953,
          -1.203505660408357,
          -1.204886416408894,
          -1.2062703277363207,
          -1.20765741801079,
          -1.2090477093206846,
          -1.2104411894857454,
          -1.2115272352449862,
          -1.212615216346421,
          -1.2137051631642586,
          -1.2147970560828898,
          -1.2158909254471064,
          -1.2169867511522214,
          -1.218084563406861,
          -1.2191843557749409
         ]
        },
        {
         "name": "ExtNode   2",
         "type": "scatter",
         "x": [
          "2017-07-21T00:00:00",
          "2017-07-21T00:15:00",
          "2017-07-21T00:30:00",
          "2017-07-21T00:45:00",
          "2017-07-21T01:00:00",
          "2017-07-21T01:15:00",
          "2017-07-21T01:30:00",
          "2017-07-21T01:45:00",
          "2017-07-21T02:00:00",
          "2017-07-21T02:15:00",
          "2017-07-21T02:30:00",
          "2017-07-21T02:45:00",
          "2017-07-21T03:00:00",
          "2017-07-21T03:15:00",
          "2017-07-21T03:30:00",
          "2017-07-21T03:45:00",
          "2017-07-21T04:00:00",
          "2017-07-21T04:15:00",
          "2017-07-21T04:30:00",
          "2017-07-21T04:45:00",
          "2017-07-21T05:00:00",
          "2017-07-21T05:15:00",
          "2017-07-21T05:30:00",
          "2017-07-21T05:45:00",
          "2017-07-21T06:00:00",
          "2017-07-21T06:15:00",
          "2017-07-21T06:30:00",
          "2017-07-21T06:45:00",
          "2017-07-21T07:00:00",
          "2017-07-21T07:15:00",
          "2017-07-21T07:30:00",
          "2017-07-21T07:45:00",
          "2017-07-21T08:00:00",
          "2017-07-21T08:15:00",
          "2017-07-21T08:30:00",
          "2017-07-21T08:45:00",
          "2017-07-21T09:00:00",
          "2017-07-21T09:15:00",
          "2017-07-21T09:30:00",
          "2017-07-21T09:45:00",
          "2017-07-21T10:00:00",
          "2017-07-21T10:15:00",
          "2017-07-21T10:30:00",
          "2017-07-21T10:45:00",
          "2017-07-21T11:00:00",
          "2017-07-21T11:15:00",
          "2017-07-21T11:30:00",
          "2017-07-21T11:45:00",
          "2017-07-21T12:00:00",
          "2017-07-21T12:15:00",
          "2017-07-21T12:30:00",
          "2017-07-21T12:45:00",
          "2017-07-21T13:00:00",
          "2017-07-21T13:15:00",
          "2017-07-21T13:30:00",
          "2017-07-21T13:45:00",
          "2017-07-21T14:00:00",
          "2017-07-21T14:15:00",
          "2017-07-21T14:30:00",
          "2017-07-21T14:45:00",
          "2017-07-21T15:00:00",
          "2017-07-21T15:15:00",
          "2017-07-21T15:30:00",
          "2017-07-21T15:45:00",
          "2017-07-21T16:00:00",
          "2017-07-21T16:15:00",
          "2017-07-21T16:30:00",
          "2017-07-21T16:45:00",
          "2017-07-21T17:00:00",
          "2017-07-21T17:15:00",
          "2017-07-21T17:30:00",
          "2017-07-21T17:45:00",
          "2017-07-21T18:00:00",
          "2017-07-21T18:15:00",
          "2017-07-21T18:30:00",
          "2017-07-21T18:45:00",
          "2017-07-21T19:00:00",
          "2017-07-21T19:15:00",
          "2017-07-21T19:30:00",
          "2017-07-21T19:45:00",
          "2017-07-21T20:00:00",
          "2017-07-21T20:15:00",
          "2017-07-21T20:30:00",
          "2017-07-21T20:45:00",
          "2017-07-21T21:00:00",
          "2017-07-21T21:15:00",
          "2017-07-21T21:30:00",
          "2017-07-21T21:45:00",
          "2017-07-21T22:00:00",
          "2017-07-21T22:15:00",
          "2017-07-21T22:30:00",
          "2017-07-21T22:45:00",
          "2017-07-21T23:00:00",
          "2017-07-21T23:15:00",
          "2017-07-21T23:30:00",
          "2017-07-21T23:45:00"
         ],
         "y": [
          0.11869238989497168,
          0.11878438756182573,
          0.11887652777299769,
          0.11896881083157278,
          0.1190304131875514,
          0.11909207815671399,
          0.11915380808519654,
          0.11921560074141867,
          0.11926198759844014,
          0.11930841164227006,
          0.11935487067675964,
          0.1194013658322511,
          0.11944789718593019,
          0.11949446475105363,
          0.11954106861165885,
          0.11958770876239794,
          0.11961882279849095,
          0.11964995299678921,
          0.11968109820839411,
          0.1197122607494832,
          0.11968109820839411,
          0.11964995299678921,
          0.11961882279849095,
          0.11958770876239794,
          0.11947893861072925,
          0.11937036467601642,
          0.11926198759844014,
          0.11915380808519654,
          0.11889189911857004,
          0.11863113629474413,
          0.11837151452689398,
          0.11811302503564955,
          0.11782545559494459,
          0.11753928121094187,
          0.11725449177260867,
          0.11697107719309653,
          0.11671865334232126,
          0.11646731403923824,
          0.11621705464434748,
          0.11596786703585324,
          0.11574887944583118,
          0.11553071736994944,
          0.1153133739916211,
          0.11509684693656053,
          0.11495294538030945,
          0.11480940282238268,
          0.1146662189863938,
          0.11452339024006648,
          0.11440938419946181,
          0.11429560240160909,
          0.1141820486848154,
          0.11406871778508203,
          0.11399800064096893,
          0.11392737322799812,
          0.11385683085722646,
          0.11378637580384302,
          0.11378637580384302,
          0.11378637580384302,
          0.11378637580384302,
          0.11378637580384302,
          0.11387093193020942,
          0.11395561361752514,
          0.11404042128868577,
          0.114125355154381,
          0.11423879847990044,
          0.11435246502838044,
          0.11446635997888871,
          0.11458047949978557,
          0.11472344949075738,
          0.11486677729356613,
          0.11501046329678807,
          0.11515450764319367,
          0.11537125277853029,
          0.11558881319539993,
          0.11580719576515879,
          0.11602640286882236,
          0.1161876826308025,
          0.11634941075693546,
          0.11651158921744048,
          0.11667421977834286,
          0.11680761964261169,
          0.1169413232899196,
          0.11707533305673658,
          0.11720965105286307,
          0.11734427599473872,
          0.11747921018009864,
          0.11761445575766959,
          0.11775001154257304,
          0.1178556605421256,
          0.11796149780903689,
          0.11806752629806719,
          0.11817374410103759,
          0.1182801541698467,
          0.11838675454873897,
          0.11849354817636686,
          0.11860053442663715
         ]
        }
       ],
       "layout": {
        "template": {
         "data": {
          "bar": [
           {
            "error_x": {
             "color": "#2a3f5f"
            },
            "error_y": {
             "color": "#2a3f5f"
            },
            "marker": {
             "line": {
              "color": "#E5ECF6",
              "width": 0.5
             },
             "pattern": {
              "fillmode": "overlay",
              "size": 10,
              "solidity": 0.2
             }
            },
            "type": "bar"
           }
          ],
          "barpolar": [
           {
            "marker": {
             "line": {
              "color": "#E5ECF6",
              "width": 0.5
             },
             "pattern": {
              "fillmode": "overlay",
              "size": 10,
              "solidity": 0.2
             }
            },
            "type": "barpolar"
           }
          ],
          "carpet": [
           {
            "aaxis": {
             "endlinecolor": "#2a3f5f",
             "gridcolor": "white",
             "linecolor": "white",
             "minorgridcolor": "white",
             "startlinecolor": "#2a3f5f"
            },
            "baxis": {
             "endlinecolor": "#2a3f5f",
             "gridcolor": "white",
             "linecolor": "white",
             "minorgridcolor": "white",
             "startlinecolor": "#2a3f5f"
            },
            "type": "carpet"
           }
          ],
          "choropleth": [
           {
            "colorbar": {
             "outlinewidth": 0,
             "ticks": ""
            },
            "type": "choropleth"
           }
          ],
          "contour": [
           {
            "colorbar": {
             "outlinewidth": 0,
             "ticks": ""
            },
            "colorscale": [
             [
              0,
              "#0d0887"
             ],
             [
              0.1111111111111111,
              "#46039f"
             ],
             [
              0.2222222222222222,
              "#7201a8"
             ],
             [
              0.3333333333333333,
              "#9c179e"
             ],
             [
              0.4444444444444444,
              "#bd3786"
             ],
             [
              0.5555555555555556,
              "#d8576b"
             ],
             [
              0.6666666666666666,
              "#ed7953"
             ],
             [
              0.7777777777777778,
              "#fb9f3a"
             ],
             [
              0.8888888888888888,
              "#fdca26"
             ],
             [
              1,
              "#f0f921"
             ]
            ],
            "type": "contour"
           }
          ],
          "contourcarpet": [
           {
            "colorbar": {
             "outlinewidth": 0,
             "ticks": ""
            },
            "type": "contourcarpet"
           }
          ],
          "heatmap": [
           {
            "colorbar": {
             "outlinewidth": 0,
             "ticks": ""
            },
            "colorscale": [
             [
              0,
              "#0d0887"
             ],
             [
              0.1111111111111111,
              "#46039f"
             ],
             [
              0.2222222222222222,
              "#7201a8"
             ],
             [
              0.3333333333333333,
              "#9c179e"
             ],
             [
              0.4444444444444444,
              "#bd3786"
             ],
             [
              0.5555555555555556,
              "#d8576b"
             ],
             [
              0.6666666666666666,
              "#ed7953"
             ],
             [
              0.7777777777777778,
              "#fb9f3a"
             ],
             [
              0.8888888888888888,
              "#fdca26"
             ],
             [
              1,
              "#f0f921"
             ]
            ],
            "type": "heatmap"
           }
          ],
          "heatmapgl": [
           {
            "colorbar": {
             "outlinewidth": 0,
             "ticks": ""
            },
            "colorscale": [
             [
              0,
              "#0d0887"
             ],
             [
              0.1111111111111111,
              "#46039f"
             ],
             [
              0.2222222222222222,
              "#7201a8"
             ],
             [
              0.3333333333333333,
              "#9c179e"
             ],
             [
              0.4444444444444444,
              "#bd3786"
             ],
             [
              0.5555555555555556,
              "#d8576b"
             ],
             [
              0.6666666666666666,
              "#ed7953"
             ],
             [
              0.7777777777777778,
              "#fb9f3a"
             ],
             [
              0.8888888888888888,
              "#fdca26"
             ],
             [
              1,
              "#f0f921"
             ]
            ],
            "type": "heatmapgl"
           }
          ],
          "histogram": [
           {
            "marker": {
             "pattern": {
              "fillmode": "overlay",
              "size": 10,
              "solidity": 0.2
             }
            },
            "type": "histogram"
           }
          ],
          "histogram2d": [
           {
            "colorbar": {
             "outlinewidth": 0,
             "ticks": ""
            },
            "colorscale": [
             [
              0,
              "#0d0887"
             ],
             [
              0.1111111111111111,
              "#46039f"
             ],
             [
              0.2222222222222222,
              "#7201a8"
             ],
             [
              0.3333333333333333,
              "#9c179e"
             ],
             [
              0.4444444444444444,
              "#bd3786"
             ],
             [
              0.5555555555555556,
              "#d8576b"
             ],
             [
              0.6666666666666666,
              "#ed7953"
             ],
             [
              0.7777777777777778,
              "#fb9f3a"
             ],
             [
              0.8888888888888888,
              "#fdca26"
             ],
             [
              1,
              "#f0f921"
             ]
            ],
            "type": "histogram2d"
           }
          ],
          "histogram2dcontour": [
           {
            "colorbar": {
             "outlinewidth": 0,
             "ticks": ""
            },
            "colorscale": [
             [
              0,
              "#0d0887"
             ],
             [
              0.1111111111111111,
              "#46039f"
             ],
             [
              0.2222222222222222,
              "#7201a8"
             ],
             [
              0.3333333333333333,
              "#9c179e"
             ],
             [
              0.4444444444444444,
              "#bd3786"
             ],
             [
              0.5555555555555556,
              "#d8576b"
             ],
             [
              0.6666666666666666,
              "#ed7953"
             ],
             [
              0.7777777777777778,
              "#fb9f3a"
             ],
             [
              0.8888888888888888,
              "#fdca26"
             ],
             [
              1,
              "#f0f921"
             ]
            ],
            "type": "histogram2dcontour"
           }
          ],
          "mesh3d": [
           {
            "colorbar": {
             "outlinewidth": 0,
             "ticks": ""
            },
            "type": "mesh3d"
           }
          ],
          "parcoords": [
           {
            "line": {
             "colorbar": {
              "outlinewidth": 0,
              "ticks": ""
             }
            },
            "type": "parcoords"
           }
          ],
          "pie": [
           {
            "automargin": true,
            "type": "pie"
           }
          ],
          "scatter": [
           {
            "fillpattern": {
             "fillmode": "overlay",
             "size": 10,
             "solidity": 0.2
            },
            "type": "scatter"
           }
          ],
          "scatter3d": [
           {
            "line": {
             "colorbar": {
              "outlinewidth": 0,
              "ticks": ""
             }
            },
            "marker": {
             "colorbar": {
              "outlinewidth": 0,
              "ticks": ""
             }
            },
            "type": "scatter3d"
           }
          ],
          "scattercarpet": [
           {
            "marker": {
             "colorbar": {
              "outlinewidth": 0,
              "ticks": ""
             }
            },
            "type": "scattercarpet"
           }
          ],
          "scattergeo": [
           {
            "marker": {
             "colorbar": {
              "outlinewidth": 0,
              "ticks": ""
             }
            },
            "type": "scattergeo"
           }
          ],
          "scattergl": [
           {
            "marker": {
             "colorbar": {
              "outlinewidth": 0,
              "ticks": ""
             }
            },
            "type": "scattergl"
           }
          ],
          "scattermapbox": [
           {
            "marker": {
             "colorbar": {
              "outlinewidth": 0,
              "ticks": ""
             }
            },
            "type": "scattermapbox"
           }
          ],
          "scatterpolar": [
           {
            "marker": {
             "colorbar": {
              "outlinewidth": 0,
              "ticks": ""
             }
            },
            "type": "scatterpolar"
           }
          ],
          "scatterpolargl": [
           {
            "marker": {
             "colorbar": {
              "outlinewidth": 0,
              "ticks": ""
             }
            },
            "type": "scatterpolargl"
           }
          ],
          "scatterternary": [
           {
            "marker": {
             "colorbar": {
              "outlinewidth": 0,
              "ticks": ""
             }
            },
            "type": "scatterternary"
           }
          ],
          "surface": [
           {
            "colorbar": {
             "outlinewidth": 0,
             "ticks": ""
            },
            "colorscale": [
             [
              0,
              "#0d0887"
             ],
             [
              0.1111111111111111,
              "#46039f"
             ],
             [
              0.2222222222222222,
              "#7201a8"
             ],
             [
              0.3333333333333333,
              "#9c179e"
             ],
             [
              0.4444444444444444,
              "#bd3786"
             ],
             [
              0.5555555555555556,
              "#d8576b"
             ],
             [
              0.6666666666666666,
              "#ed7953"
             ],
             [
              0.7777777777777778,
              "#fb9f3a"
             ],
             [
              0.8888888888888888,
              "#fdca26"
             ],
             [
              1,
              "#f0f921"
             ]
            ],
            "type": "surface"
           }
          ],
          "table": [
           {
            "cells": {
             "fill": {
              "color": "#EBF0F8"
             },
             "line": {
              "color": "white"
             }
            },
            "header": {
             "fill": {
              "color": "#C8D4E3"
             },
             "line": {
              "color": "white"
             }
            },
            "type": "table"
           }
          ]
         },
         "layout": {
          "annotationdefaults": {
           "arrowcolor": "#2a3f5f",
           "arrowhead": 0,
           "arrowwidth": 1
          },
          "autotypenumbers": "strict",
          "coloraxis": {
           "colorbar": {
            "outlinewidth": 0,
            "ticks": ""
           }
          },
          "colorscale": {
           "diverging": [
            [
             0,
             "#8e0152"
            ],
            [
             0.1,
             "#c51b7d"
            ],
            [
             0.2,
             "#de77ae"
            ],
            [
             0.3,
             "#f1b6da"
            ],
            [
             0.4,
             "#fde0ef"
            ],
            [
             0.5,
             "#f7f7f7"
            ],
            [
             0.6,
             "#e6f5d0"
            ],
            [
             0.7,
             "#b8e186"
            ],
            [
             0.8,
             "#7fbc41"
            ],
            [
             0.9,
             "#4d9221"
            ],
            [
             1,
             "#276419"
            ]
           ],
           "sequential": [
            [
             0,
             "#0d0887"
            ],
            [
             0.1111111111111111,
             "#46039f"
            ],
            [
             0.2222222222222222,
             "#7201a8"
            ],
            [
             0.3333333333333333,
             "#9c179e"
            ],
            [
             0.4444444444444444,
             "#bd3786"
            ],
            [
             0.5555555555555556,
             "#d8576b"
            ],
            [
             0.6666666666666666,
             "#ed7953"
            ],
            [
             0.7777777777777778,
             "#fb9f3a"
            ],
            [
             0.8888888888888888,
             "#fdca26"
            ],
            [
             1,
             "#f0f921"
            ]
           ],
           "sequentialminus": [
            [
             0,
             "#0d0887"
            ],
            [
             0.1111111111111111,
             "#46039f"
            ],
            [
             0.2222222222222222,
             "#7201a8"
            ],
            [
             0.3333333333333333,
             "#9c179e"
            ],
            [
             0.4444444444444444,
             "#bd3786"
            ],
            [
             0.5555555555555556,
             "#d8576b"
            ],
            [
             0.6666666666666666,
             "#ed7953"
            ],
            [
             0.7777777777777778,
             "#fb9f3a"
            ],
            [
             0.8888888888888888,
             "#fdca26"
            ],
            [
             1,
             "#f0f921"
            ]
           ]
          },
          "colorway": [
           "#636efa",
           "#EF553B",
           "#00cc96",
           "#ab63fa",
           "#FFA15A",
           "#19d3f3",
           "#FF6692",
           "#B6E880",
           "#FF97FF",
           "#FECB52"
          ],
          "font": {
           "color": "#2a3f5f"
          },
          "geo": {
           "bgcolor": "white",
           "lakecolor": "white",
           "landcolor": "#E5ECF6",
           "showlakes": true,
           "showland": true,
           "subunitcolor": "white"
          },
          "hoverlabel": {
           "align": "left"
          },
          "hovermode": "closest",
          "mapbox": {
           "style": "light"
          },
          "paper_bgcolor": "white",
          "plot_bgcolor": "#E5ECF6",
          "polar": {
           "angularaxis": {
            "gridcolor": "white",
            "linecolor": "white",
            "ticks": ""
           },
           "bgcolor": "#E5ECF6",
           "radialaxis": {
            "gridcolor": "white",
            "linecolor": "white",
            "ticks": ""
           }
          },
          "scene": {
           "xaxis": {
            "backgroundcolor": "#E5ECF6",
            "gridcolor": "white",
            "gridwidth": 2,
            "linecolor": "white",
            "showbackground": true,
            "ticks": "",
            "zerolinecolor": "white"
           },
           "yaxis": {
            "backgroundcolor": "#E5ECF6",
            "gridcolor": "white",
            "gridwidth": 2,
            "linecolor": "white",
            "showbackground": true,
            "ticks": "",
            "zerolinecolor": "white"
           },
           "zaxis": {
            "backgroundcolor": "#E5ECF6",
            "gridcolor": "white",
            "gridwidth": 2,
            "linecolor": "white",
            "showbackground": true,
            "ticks": "",
            "zerolinecolor": "white"
           }
          },
          "shapedefaults": {
           "line": {
            "color": "#2a3f5f"
           }
          },
          "ternary": {
           "aaxis": {
            "gridcolor": "white",
            "linecolor": "white",
            "ticks": ""
           },
           "baxis": {
            "gridcolor": "white",
            "linecolor": "white",
            "ticks": ""
           },
           "bgcolor": "#E5ECF6",
           "caxis": {
            "gridcolor": "white",
            "linecolor": "white",
            "ticks": ""
           }
          },
          "title": {
           "x": 0.05
          },
          "xaxis": {
           "automargin": true,
           "gridcolor": "white",
           "linecolor": "white",
           "ticks": "",
           "title": {
            "standoff": 15
           },
           "zerolinecolor": "white",
           "zerolinewidth": 2
          },
          "yaxis": {
           "automargin": true,
           "gridcolor": "white",
           "linecolor": "white",
           "ticks": "",
           "title": {
            "standoff": 15
           },
           "zerolinecolor": "white",
           "zerolinewidth": 2
          }
         }
        },
        "title": {
         "text": "AFN Node Wind Pressure [Pa] <br><sup> 7/21 to 7/21 between 0 and 23 @4 </sup>"
        }
       }
      }
     },
     "metadata": {},
     "output_type": "display_data"
    }
   ],
   "source": [
    "fig = go.Figure()\n",
    "\n",
    "title = None\n",
    "for dataset in node_wind_pressure_datasets:\n",
    "    if dataset.header.analysis_period.st_month == 7:\n",
    "\n",
    "        fig.add_trace(go.Scatter(\n",
    "            x=dataset.datetimes, y=dataset.values, name=dataset.header.metadata[\"System\"]))\n",
    "\n",
    "        if not title:\n",
    "            print(\"creating title\")\n",
    "            title = create_plot_title(dataset)\n",
    "            fig.update_layout(title_text=title)\n",
    "    \n",
    "\n",
    "        \n",
    "fig.show()"
   ]
  },
  {
   "cell_type": "code",
   "execution_count": 54,
   "metadata": {},
   "outputs": [
    {
     "name": "stdout",
     "output_type": "stream",
     "text": [
      "creating title\n"
     ]
    },
    {
     "data": {
      "application/vnd.plotly.v1+json": {
       "config": {
        "plotlyServerURL": "https://plotly.com"
       },
       "data": [
        {
         "name": "BLOCK 00 STOREY 0",
         "type": "scatter",
         "x": [
          "2017-07-21T00:00:00",
          "2017-07-21T00:15:00",
          "2017-07-21T00:30:00",
          "2017-07-21T00:45:00",
          "2017-07-21T01:00:00",
          "2017-07-21T01:15:00",
          "2017-07-21T01:30:00",
          "2017-07-21T01:45:00",
          "2017-07-21T02:00:00",
          "2017-07-21T02:15:00",
          "2017-07-21T02:30:00",
          "2017-07-21T02:45:00",
          "2017-07-21T03:00:00",
          "2017-07-21T03:15:00",
          "2017-07-21T03:30:00",
          "2017-07-21T03:45:00",
          "2017-07-21T04:00:00",
          "2017-07-21T04:15:00",
          "2017-07-21T04:30:00",
          "2017-07-21T04:45:00",
          "2017-07-21T05:00:00",
          "2017-07-21T05:15:00",
          "2017-07-21T05:30:00",
          "2017-07-21T05:45:00",
          "2017-07-21T06:00:00",
          "2017-07-21T06:15:00",
          "2017-07-21T06:30:00",
          "2017-07-21T06:45:00",
          "2017-07-21T07:00:00",
          "2017-07-21T07:15:00",
          "2017-07-21T07:30:00",
          "2017-07-21T07:45:00",
          "2017-07-21T08:00:00",
          "2017-07-21T08:15:00",
          "2017-07-21T08:30:00",
          "2017-07-21T08:45:00",
          "2017-07-21T09:00:00",
          "2017-07-21T09:15:00",
          "2017-07-21T09:30:00",
          "2017-07-21T09:45:00",
          "2017-07-21T10:00:00",
          "2017-07-21T10:15:00",
          "2017-07-21T10:30:00",
          "2017-07-21T10:45:00",
          "2017-07-21T11:00:00",
          "2017-07-21T11:15:00",
          "2017-07-21T11:30:00",
          "2017-07-21T11:45:00",
          "2017-07-21T12:00:00",
          "2017-07-21T12:15:00",
          "2017-07-21T12:30:00",
          "2017-07-21T12:45:00",
          "2017-07-21T13:00:00",
          "2017-07-21T13:15:00",
          "2017-07-21T13:30:00",
          "2017-07-21T13:45:00",
          "2017-07-21T14:00:00",
          "2017-07-21T14:15:00",
          "2017-07-21T14:30:00",
          "2017-07-21T14:45:00",
          "2017-07-21T15:00:00",
          "2017-07-21T15:15:00",
          "2017-07-21T15:30:00",
          "2017-07-21T15:45:00",
          "2017-07-21T16:00:00",
          "2017-07-21T16:15:00",
          "2017-07-21T16:30:00",
          "2017-07-21T16:45:00",
          "2017-07-21T17:00:00",
          "2017-07-21T17:15:00",
          "2017-07-21T17:30:00",
          "2017-07-21T17:45:00",
          "2017-07-21T18:00:00",
          "2017-07-21T18:15:00",
          "2017-07-21T18:30:00",
          "2017-07-21T18:45:00",
          "2017-07-21T19:00:00",
          "2017-07-21T19:15:00",
          "2017-07-21T19:30:00",
          "2017-07-21T19:45:00",
          "2017-07-21T20:00:00",
          "2017-07-21T20:15:00",
          "2017-07-21T20:30:00",
          "2017-07-21T20:45:00",
          "2017-07-21T21:00:00",
          "2017-07-21T21:15:00",
          "2017-07-21T21:30:00",
          "2017-07-21T21:45:00",
          "2017-07-21T22:00:00",
          "2017-07-21T22:15:00",
          "2017-07-21T22:30:00",
          "2017-07-21T22:45:00",
          "2017-07-21T23:00:00",
          "2017-07-21T23:15:00",
          "2017-07-21T23:30:00",
          "2017-07-21T23:45:00"
         ],
         "y": [
          -1.6527519540530475,
          -1.6765497167271872,
          -1.6999150179387432,
          -1.7228153753878628,
          -1.7393702232110522,
          -1.755408168568122,
          -1.7709185222694124,
          -1.7858745331318413,
          -1.7973083804679706,
          -1.8081425686030868,
          -1.8183631763797292,
          -1.8279460874075493,
          -1.8368651365299853,
          -1.8450931539404174,
          -1.8526050715583284,
          -1.8593793624778934,
          -1.8624411255851225,
          -1.8647687054463873,
          -1.86638069177618,
          -1.867296432375248,
          -1.855696386882022,
          -1.8435656464262256,
          -1.83098948509731,
          -1.8180036158056982,
          -1.7898883359869584,
          -1.7615727600241338,
          -1.7331468560628434,
          -1.704652786558305,
          -1.6470190811053496,
          -1.5898581832963972,
          -1.5332565711436559,
          -1.4771413566774207,
          -1.4158916360833647,
          -1.3554036715713997,
          -1.29607488704092,
          -1.238889871242567,
          -1.183054893461995,
          -1.1170829295330766,
          -1.046305759871529,
          -0.9783121226706532,
          -0.9188296001448637,
          -0.8607990598660811,
          -0.8041644237597134,
          -0.7488594645132587,
          -0.7103579379496376,
          -0.6727401123787352,
          -0.6359433670798904,
          -0.5999503126890992,
          -0.5708207291517017,
          -0.5423811231550408,
          -0.5146046162438662,
          -0.487480244915744,
          -0.46993539884257024,
          -0.4528829346644669,
          -0.4362780079624994,
          -0.4200790068541153,
          -0.4190539929107494,
          -0.478175046493293,
          -0.4191170691686975,
          -0.4193958652369136,
          -0.43694288429455,
          -0.45444428542519755,
          -0.47217411341646637,
          -0.4902883301767525,
          -0.5148597637846732,
          -0.5399323986864939,
          -0.5655614483383274,
          -0.5917891505783471,
          -0.6246553602253344,
          -0.658054692155108,
          -0.6920912553240456,
          -0.7268945724246516,
          -0.7783292873618711,
          -0.8793075854509602,
          -0.8855303357097742,
          -0.9827778461343782,
          -1.0233596708209576,
          -1.0647226211733578,
          -1.1067285941057992,
          -1.1493097724540335,
          -1.1862582762757001,
          -1.2235262610645863,
          -1.2362057543152174,
          -1.2677015141006522,
          -1.3004281365417538,
          -1.3339345156236406,
          -1.3679271733052714,
          -1.4021698370048374,
          -1.4309449331943258,
          -1.459673615178738,
          -1.488333545868065,
          -1.5168567605300827,
          -1.5451896118844564,
          -1.5732815763843795,
          -1.6010872689222817,
          -1.6285640526132477
         ]
        },
        {
         "name": "BLOCK 01 STOREY 0",
         "type": "scatter",
         "x": [
          "2017-07-21T00:00:00",
          "2017-07-21T00:15:00",
          "2017-07-21T00:30:00",
          "2017-07-21T00:45:00",
          "2017-07-21T01:00:00",
          "2017-07-21T01:15:00",
          "2017-07-21T01:30:00",
          "2017-07-21T01:45:00",
          "2017-07-21T02:00:00",
          "2017-07-21T02:15:00",
          "2017-07-21T02:30:00",
          "2017-07-21T02:45:00",
          "2017-07-21T03:00:00",
          "2017-07-21T03:15:00",
          "2017-07-21T03:30:00",
          "2017-07-21T03:45:00",
          "2017-07-21T04:00:00",
          "2017-07-21T04:15:00",
          "2017-07-21T04:30:00",
          "2017-07-21T04:45:00",
          "2017-07-21T05:00:00",
          "2017-07-21T05:15:00",
          "2017-07-21T05:30:00",
          "2017-07-21T05:45:00",
          "2017-07-21T06:00:00",
          "2017-07-21T06:15:00",
          "2017-07-21T06:30:00",
          "2017-07-21T06:45:00",
          "2017-07-21T07:00:00",
          "2017-07-21T07:15:00",
          "2017-07-21T07:30:00",
          "2017-07-21T07:45:00",
          "2017-07-21T08:00:00",
          "2017-07-21T08:15:00",
          "2017-07-21T08:30:00",
          "2017-07-21T08:45:00",
          "2017-07-21T09:00:00",
          "2017-07-21T09:15:00",
          "2017-07-21T09:30:00",
          "2017-07-21T09:45:00",
          "2017-07-21T10:00:00",
          "2017-07-21T10:15:00",
          "2017-07-21T10:30:00",
          "2017-07-21T10:45:00",
          "2017-07-21T11:00:00",
          "2017-07-21T11:15:00",
          "2017-07-21T11:30:00",
          "2017-07-21T11:45:00",
          "2017-07-21T12:00:00",
          "2017-07-21T12:15:00",
          "2017-07-21T12:30:00",
          "2017-07-21T12:45:00",
          "2017-07-21T13:00:00",
          "2017-07-21T13:15:00",
          "2017-07-21T13:30:00",
          "2017-07-21T13:45:00",
          "2017-07-21T14:00:00",
          "2017-07-21T14:15:00",
          "2017-07-21T14:30:00",
          "2017-07-21T14:45:00",
          "2017-07-21T15:00:00",
          "2017-07-21T15:15:00",
          "2017-07-21T15:30:00",
          "2017-07-21T15:45:00",
          "2017-07-21T16:00:00",
          "2017-07-21T16:15:00",
          "2017-07-21T16:30:00",
          "2017-07-21T16:45:00",
          "2017-07-21T17:00:00",
          "2017-07-21T17:15:00",
          "2017-07-21T17:30:00",
          "2017-07-21T17:45:00",
          "2017-07-21T18:00:00",
          "2017-07-21T18:15:00",
          "2017-07-21T18:30:00",
          "2017-07-21T18:45:00",
          "2017-07-21T19:00:00",
          "2017-07-21T19:15:00",
          "2017-07-21T19:30:00",
          "2017-07-21T19:45:00",
          "2017-07-21T20:00:00",
          "2017-07-21T20:15:00",
          "2017-07-21T20:30:00",
          "2017-07-21T20:45:00",
          "2017-07-21T21:00:00",
          "2017-07-21T21:15:00",
          "2017-07-21T21:30:00",
          "2017-07-21T21:45:00",
          "2017-07-21T22:00:00",
          "2017-07-21T22:15:00",
          "2017-07-21T22:30:00",
          "2017-07-21T22:45:00",
          "2017-07-21T23:00:00",
          "2017-07-21T23:15:00",
          "2017-07-21T23:30:00",
          "2017-07-21T23:45:00"
         ],
         "y": [
          -1.6304467575318804,
          -1.6543303453732785,
          -1.6778750469225376,
          -1.701047668232517,
          -1.7180414505884762,
          -1.7345874431868058,
          -1.7506759465828108,
          -1.7662627160423598,
          -1.7784045635811538,
          -1.7899676667731368,
          -1.8009170440786824,
          -1.8112235384740156,
          -1.8208221574703394,
          -1.8296943785047262,
          -1.8377934136367373,
          -1.845085486685997,
          -1.8486232358700059,
          -1.8513300454920065,
          -1.853224372868759,
          -1.8543344805711164,
          -1.8430034356257743,
          -1.8310567503430115,
          -1.8185820425121841,
          -1.8056044523376582,
          -1.7776196570750726,
          -1.7493543709327692,
          -1.720906558116871,
          -1.692334293876342,
          -1.6349298347885894,
          -1.5779506390381655,
          -1.5215487980825182,
          -1.4656848860303406,
          -1.4048186429140812,
          -1.3448264510713852,
          -1.286131232219138,
          -1.2297435140576425,
          -1.1749528380185486,
          -1.1104671984150694,
          -1.0415026165609933,
          -0.9753781791648038,
          -0.917580311600493,
          -0.8610144362508035,
          -0.8055548345566482,
          -0.7511051032999089,
          -0.7129456990428359,
          -0.6753943909109061,
          -0.638430209523976,
          -0.6020585055208574,
          -0.5722791290152689,
          -0.5430273486476176,
          -0.5143004978571738,
          -0.48609442829718585,
          -0.46723528620035887,
          -0.4488013260304106,
          -0.4307823865876259,
          -0.4131325681359841,
          -0.4104428948853349,
          0.287926012111346,
          -0.40392714881849173,
          -0.4011478688426222,
          -0.4173135032390854,
          -0.4343224876517583,
          -0.451807947513154,
          -0.4697284198857469,
          -0.49409280699922387,
          -0.5190986651204871,
          -0.5447854083698054,
          -0.5710551811714982,
          -0.6040391432667028,
          -0.6378295011326479,
          -0.6724949946862792,
          -0.70808871917138,
          -0.7602170532659062,
          0.19242056323259846,
          -0.867124473819455,
          0.16775359187385358,
          0.1580706700015136,
          0.14827220688400944,
          0.1383168809974752,
          0.12824304088715602,
          0.1196283982529992,
          0.1100048362826233,
          -1.2181984718377108,
          -1.2499980039227805,
          -1.2826126446130084,
          -1.3157399635203741,
          -1.3492125168322204,
          -1.3828717123608432,
          -1.4111153111416515,
          -1.4393223168861513,
          -1.4674992465173287,
          -1.495589554826816,
          -1.5235506624899322,
          -1.5513417166906598,
          -1.578925674827504,
          -1.606266811609093
         ]
        },
        {
         "name": "ExtNode   1",
         "type": "scatter",
         "x": [
          "2017-07-21T00:00:00",
          "2017-07-21T00:15:00",
          "2017-07-21T00:30:00",
          "2017-07-21T00:45:00",
          "2017-07-21T01:00:00",
          "2017-07-21T01:15:00",
          "2017-07-21T01:30:00",
          "2017-07-21T01:45:00",
          "2017-07-21T02:00:00",
          "2017-07-21T02:15:00",
          "2017-07-21T02:30:00",
          "2017-07-21T02:45:00",
          "2017-07-21T03:00:00",
          "2017-07-21T03:15:00",
          "2017-07-21T03:30:00",
          "2017-07-21T03:45:00",
          "2017-07-21T04:00:00",
          "2017-07-21T04:15:00",
          "2017-07-21T04:30:00",
          "2017-07-21T04:45:00",
          "2017-07-21T05:00:00",
          "2017-07-21T05:15:00",
          "2017-07-21T05:30:00",
          "2017-07-21T05:45:00",
          "2017-07-21T06:00:00",
          "2017-07-21T06:15:00",
          "2017-07-21T06:30:00",
          "2017-07-21T06:45:00",
          "2017-07-21T07:00:00",
          "2017-07-21T07:15:00",
          "2017-07-21T07:30:00",
          "2017-07-21T07:45:00",
          "2017-07-21T08:00:00",
          "2017-07-21T08:15:00",
          "2017-07-21T08:30:00",
          "2017-07-21T08:45:00",
          "2017-07-21T09:00:00",
          "2017-07-21T09:15:00",
          "2017-07-21T09:30:00",
          "2017-07-21T09:45:00",
          "2017-07-21T10:00:00",
          "2017-07-21T10:15:00",
          "2017-07-21T10:30:00",
          "2017-07-21T10:45:00",
          "2017-07-21T11:00:00",
          "2017-07-21T11:15:00",
          "2017-07-21T11:30:00",
          "2017-07-21T11:45:00",
          "2017-07-21T12:00:00",
          "2017-07-21T12:15:00",
          "2017-07-21T12:30:00",
          "2017-07-21T12:45:00",
          "2017-07-21T13:00:00",
          "2017-07-21T13:15:00",
          "2017-07-21T13:30:00",
          "2017-07-21T13:45:00",
          "2017-07-21T14:00:00",
          "2017-07-21T14:15:00",
          "2017-07-21T14:30:00",
          "2017-07-21T14:45:00",
          "2017-07-21T15:00:00",
          "2017-07-21T15:15:00",
          "2017-07-21T15:30:00",
          "2017-07-21T15:45:00",
          "2017-07-21T16:00:00",
          "2017-07-21T16:15:00",
          "2017-07-21T16:30:00",
          "2017-07-21T16:45:00",
          "2017-07-21T17:00:00",
          "2017-07-21T17:15:00",
          "2017-07-21T17:30:00",
          "2017-07-21T17:45:00",
          "2017-07-21T18:00:00",
          "2017-07-21T18:15:00",
          "2017-07-21T18:30:00",
          "2017-07-21T18:45:00",
          "2017-07-21T19:00:00",
          "2017-07-21T19:15:00",
          "2017-07-21T19:30:00",
          "2017-07-21T19:45:00",
          "2017-07-21T20:00:00",
          "2017-07-21T20:15:00",
          "2017-07-21T20:30:00",
          "2017-07-21T20:45:00",
          "2017-07-21T21:00:00",
          "2017-07-21T21:15:00",
          "2017-07-21T21:30:00",
          "2017-07-21T21:45:00",
          "2017-07-21T22:00:00",
          "2017-07-21T22:15:00",
          "2017-07-21T22:30:00",
          "2017-07-21T22:45:00",
          "2017-07-21T23:00:00",
          "2017-07-21T23:15:00",
          "2017-07-21T23:30:00",
          "2017-07-21T23:45:00"
         ],
         "y": [
          -1.220128607422096,
          -1.221074320835096,
          -1.2220214995686638,
          -1.22297014673844,
          -1.223603403823251,
          -1.22423730455621,
          -1.2248718730550188,
          -1.2255070863795792,
          -1.2259839318732995,
          -1.2264611596382742,
          -1.2269387470986337,
          -1.2274167058740186,
          -1.2278950367578785,
          -1.22837373988649,
          -1.228852816123737,
          -1.2293322654146444,
          -1.229652110061492,
          -1.2299721208518384,
          -1.2302922859752892,
          -1.2306126292415793,
          -1.2302922859752892,
          -1.2299721208518384,
          -1.229652110061492,
          -1.2293322654146444,
          -1.2282141349784637,
          -1.227098021604382,
          -1.2259839318732995,
          -1.2248718730550188,
          -1.2221795132246696,
          -1.2194989354607229,
          -1.216830087471869,
          -1.2141728790083408,
          -1.2112167358088064,
          -1.2082749334494292,
          -1.2053473679912776,
          -1.202433935744027,
          -1.1998390805742971,
          -1.1972553742883887,
          -1.194682769193382,
          -1.1921211817992112,
          -1.1898700431753046,
          -1.1876273906339463,
          -1.1853931541022964,
          -1.1831673091732824,
          -1.1816880365291824,
          -1.1802124542996562,
          -1.17874055964352,
          -1.1772723152218647,
          -1.1761003611337908,
          -1.1749307122061141,
          -1.1737634078956884,
          -1.1725983940899012,
          -1.1718714392224163,
          -1.1711454067690283,
          -1.1704202485285544,
          -1.1696959878893791,
          -1.1696959878893791,
          -1.1696959878893791,
          -1.1696959878893791,
          -1.1696959878893791,
          -1.170565204094426,
          -1.1714357110351834,
          -1.172307513058915,
          -1.173180612331458,
          -1.1743467818467053,
          -1.175515246039145,
          -1.176686058148321,
          -1.1778591787859185,
          -1.1793288751678173,
          -1.180802249767492,
          -1.1822793065794102,
          -1.1837600470712175,
          -1.1859881338118907,
          -1.1882246014464226,
          -1.1904695206106666,
          -1.192722915780877,
          -1.1943808321103428,
          -1.1960433575131442,
          -1.1977105122426508,
          -1.1993823144531688,
          -1.2007536322837784,
          -1.2021280729293953,
          -1.203505660408357,
          -1.204886416408894,
          -1.2062703277363207,
          -1.20765741801079,
          -1.2090477093206846,
          -1.2104411894857454,
          -1.2115272352449862,
          -1.212615216346421,
          -1.2137051631642586,
          -1.2147970560828898,
          -1.2158909254471064,
          -1.2169867511522214,
          -1.218084563406861,
          -1.2191843557749409
         ]
        },
        {
         "name": "ExtNode   2",
         "type": "scatter",
         "x": [
          "2017-07-21T00:00:00",
          "2017-07-21T00:15:00",
          "2017-07-21T00:30:00",
          "2017-07-21T00:45:00",
          "2017-07-21T01:00:00",
          "2017-07-21T01:15:00",
          "2017-07-21T01:30:00",
          "2017-07-21T01:45:00",
          "2017-07-21T02:00:00",
          "2017-07-21T02:15:00",
          "2017-07-21T02:30:00",
          "2017-07-21T02:45:00",
          "2017-07-21T03:00:00",
          "2017-07-21T03:15:00",
          "2017-07-21T03:30:00",
          "2017-07-21T03:45:00",
          "2017-07-21T04:00:00",
          "2017-07-21T04:15:00",
          "2017-07-21T04:30:00",
          "2017-07-21T04:45:00",
          "2017-07-21T05:00:00",
          "2017-07-21T05:15:00",
          "2017-07-21T05:30:00",
          "2017-07-21T05:45:00",
          "2017-07-21T06:00:00",
          "2017-07-21T06:15:00",
          "2017-07-21T06:30:00",
          "2017-07-21T06:45:00",
          "2017-07-21T07:00:00",
          "2017-07-21T07:15:00",
          "2017-07-21T07:30:00",
          "2017-07-21T07:45:00",
          "2017-07-21T08:00:00",
          "2017-07-21T08:15:00",
          "2017-07-21T08:30:00",
          "2017-07-21T08:45:00",
          "2017-07-21T09:00:00",
          "2017-07-21T09:15:00",
          "2017-07-21T09:30:00",
          "2017-07-21T09:45:00",
          "2017-07-21T10:00:00",
          "2017-07-21T10:15:00",
          "2017-07-21T10:30:00",
          "2017-07-21T10:45:00",
          "2017-07-21T11:00:00",
          "2017-07-21T11:15:00",
          "2017-07-21T11:30:00",
          "2017-07-21T11:45:00",
          "2017-07-21T12:00:00",
          "2017-07-21T12:15:00",
          "2017-07-21T12:30:00",
          "2017-07-21T12:45:00",
          "2017-07-21T13:00:00",
          "2017-07-21T13:15:00",
          "2017-07-21T13:30:00",
          "2017-07-21T13:45:00",
          "2017-07-21T14:00:00",
          "2017-07-21T14:15:00",
          "2017-07-21T14:30:00",
          "2017-07-21T14:45:00",
          "2017-07-21T15:00:00",
          "2017-07-21T15:15:00",
          "2017-07-21T15:30:00",
          "2017-07-21T15:45:00",
          "2017-07-21T16:00:00",
          "2017-07-21T16:15:00",
          "2017-07-21T16:30:00",
          "2017-07-21T16:45:00",
          "2017-07-21T17:00:00",
          "2017-07-21T17:15:00",
          "2017-07-21T17:30:00",
          "2017-07-21T17:45:00",
          "2017-07-21T18:00:00",
          "2017-07-21T18:15:00",
          "2017-07-21T18:30:00",
          "2017-07-21T18:45:00",
          "2017-07-21T19:00:00",
          "2017-07-21T19:15:00",
          "2017-07-21T19:30:00",
          "2017-07-21T19:45:00",
          "2017-07-21T20:00:00",
          "2017-07-21T20:15:00",
          "2017-07-21T20:30:00",
          "2017-07-21T20:45:00",
          "2017-07-21T21:00:00",
          "2017-07-21T21:15:00",
          "2017-07-21T21:30:00",
          "2017-07-21T21:45:00",
          "2017-07-21T22:00:00",
          "2017-07-21T22:15:00",
          "2017-07-21T22:30:00",
          "2017-07-21T22:45:00",
          "2017-07-21T23:00:00",
          "2017-07-21T23:15:00",
          "2017-07-21T23:30:00",
          "2017-07-21T23:45:00"
         ],
         "y": [
          0.11869238989497168,
          0.11878438756182573,
          0.11887652777299769,
          0.11896881083157278,
          0.1190304131875514,
          0.11909207815671399,
          0.11915380808519654,
          0.11921560074141867,
          0.11926198759844014,
          0.11930841164227006,
          0.11935487067675964,
          0.1194013658322511,
          0.11944789718593019,
          0.11949446475105363,
          0.11954106861165885,
          0.11958770876239794,
          0.11961882279849095,
          0.11964995299678921,
          0.11968109820839411,
          0.1197122607494832,
          0.11968109820839411,
          0.11964995299678921,
          0.11961882279849095,
          0.11958770876239794,
          0.11947893861072925,
          0.11937036467601642,
          0.11926198759844014,
          0.11915380808519654,
          0.11889189911857004,
          0.11863113629474413,
          0.11837151452689398,
          0.11811302503564955,
          0.11782545559494459,
          0.11753928121094187,
          0.11725449177260867,
          0.11697107719309653,
          0.11671865334232126,
          0.11646731403923824,
          0.11621705464434748,
          0.11596786703585324,
          0.11574887944583118,
          0.11553071736994944,
          0.1153133739916211,
          0.11509684693656053,
          0.11495294538030945,
          0.11480940282238268,
          0.1146662189863938,
          0.11452339024006648,
          0.11440938419946181,
          0.11429560240160909,
          0.1141820486848154,
          0.11406871778508203,
          0.11399800064096893,
          0.11392737322799812,
          0.11385683085722646,
          0.11378637580384302,
          0.11378637580384302,
          0.11378637580384302,
          0.11378637580384302,
          0.11378637580384302,
          0.11387093193020942,
          0.11395561361752514,
          0.11404042128868577,
          0.114125355154381,
          0.11423879847990044,
          0.11435246502838044,
          0.11446635997888871,
          0.11458047949978557,
          0.11472344949075738,
          0.11486677729356613,
          0.11501046329678807,
          0.11515450764319367,
          0.11537125277853029,
          0.11558881319539993,
          0.11580719576515879,
          0.11602640286882236,
          0.1161876826308025,
          0.11634941075693546,
          0.11651158921744048,
          0.11667421977834286,
          0.11680761964261169,
          0.1169413232899196,
          0.11707533305673658,
          0.11720965105286307,
          0.11734427599473872,
          0.11747921018009864,
          0.11761445575766959,
          0.11775001154257304,
          0.1178556605421256,
          0.11796149780903689,
          0.11806752629806719,
          0.11817374410103759,
          0.1182801541698467,
          0.11838675454873897,
          0.11849354817636686,
          0.11860053442663715
         ]
        }
       ],
       "layout": {
        "template": {
         "data": {
          "bar": [
           {
            "error_x": {
             "color": "#2a3f5f"
            },
            "error_y": {
             "color": "#2a3f5f"
            },
            "marker": {
             "line": {
              "color": "#E5ECF6",
              "width": 0.5
             },
             "pattern": {
              "fillmode": "overlay",
              "size": 10,
              "solidity": 0.2
             }
            },
            "type": "bar"
           }
          ],
          "barpolar": [
           {
            "marker": {
             "line": {
              "color": "#E5ECF6",
              "width": 0.5
             },
             "pattern": {
              "fillmode": "overlay",
              "size": 10,
              "solidity": 0.2
             }
            },
            "type": "barpolar"
           }
          ],
          "carpet": [
           {
            "aaxis": {
             "endlinecolor": "#2a3f5f",
             "gridcolor": "white",
             "linecolor": "white",
             "minorgridcolor": "white",
             "startlinecolor": "#2a3f5f"
            },
            "baxis": {
             "endlinecolor": "#2a3f5f",
             "gridcolor": "white",
             "linecolor": "white",
             "minorgridcolor": "white",
             "startlinecolor": "#2a3f5f"
            },
            "type": "carpet"
           }
          ],
          "choropleth": [
           {
            "colorbar": {
             "outlinewidth": 0,
             "ticks": ""
            },
            "type": "choropleth"
           }
          ],
          "contour": [
           {
            "colorbar": {
             "outlinewidth": 0,
             "ticks": ""
            },
            "colorscale": [
             [
              0,
              "#0d0887"
             ],
             [
              0.1111111111111111,
              "#46039f"
             ],
             [
              0.2222222222222222,
              "#7201a8"
             ],
             [
              0.3333333333333333,
              "#9c179e"
             ],
             [
              0.4444444444444444,
              "#bd3786"
             ],
             [
              0.5555555555555556,
              "#d8576b"
             ],
             [
              0.6666666666666666,
              "#ed7953"
             ],
             [
              0.7777777777777778,
              "#fb9f3a"
             ],
             [
              0.8888888888888888,
              "#fdca26"
             ],
             [
              1,
              "#f0f921"
             ]
            ],
            "type": "contour"
           }
          ],
          "contourcarpet": [
           {
            "colorbar": {
             "outlinewidth": 0,
             "ticks": ""
            },
            "type": "contourcarpet"
           }
          ],
          "heatmap": [
           {
            "colorbar": {
             "outlinewidth": 0,
             "ticks": ""
            },
            "colorscale": [
             [
              0,
              "#0d0887"
             ],
             [
              0.1111111111111111,
              "#46039f"
             ],
             [
              0.2222222222222222,
              "#7201a8"
             ],
             [
              0.3333333333333333,
              "#9c179e"
             ],
             [
              0.4444444444444444,
              "#bd3786"
             ],
             [
              0.5555555555555556,
              "#d8576b"
             ],
             [
              0.6666666666666666,
              "#ed7953"
             ],
             [
              0.7777777777777778,
              "#fb9f3a"
             ],
             [
              0.8888888888888888,
              "#fdca26"
             ],
             [
              1,
              "#f0f921"
             ]
            ],
            "type": "heatmap"
           }
          ],
          "heatmapgl": [
           {
            "colorbar": {
             "outlinewidth": 0,
             "ticks": ""
            },
            "colorscale": [
             [
              0,
              "#0d0887"
             ],
             [
              0.1111111111111111,
              "#46039f"
             ],
             [
              0.2222222222222222,
              "#7201a8"
             ],
             [
              0.3333333333333333,
              "#9c179e"
             ],
             [
              0.4444444444444444,
              "#bd3786"
             ],
             [
              0.5555555555555556,
              "#d8576b"
             ],
             [
              0.6666666666666666,
              "#ed7953"
             ],
             [
              0.7777777777777778,
              "#fb9f3a"
             ],
             [
              0.8888888888888888,
              "#fdca26"
             ],
             [
              1,
              "#f0f921"
             ]
            ],
            "type": "heatmapgl"
           }
          ],
          "histogram": [
           {
            "marker": {
             "pattern": {
              "fillmode": "overlay",
              "size": 10,
              "solidity": 0.2
             }
            },
            "type": "histogram"
           }
          ],
          "histogram2d": [
           {
            "colorbar": {
             "outlinewidth": 0,
             "ticks": ""
            },
            "colorscale": [
             [
              0,
              "#0d0887"
             ],
             [
              0.1111111111111111,
              "#46039f"
             ],
             [
              0.2222222222222222,
              "#7201a8"
             ],
             [
              0.3333333333333333,
              "#9c179e"
             ],
             [
              0.4444444444444444,
              "#bd3786"
             ],
             [
              0.5555555555555556,
              "#d8576b"
             ],
             [
              0.6666666666666666,
              "#ed7953"
             ],
             [
              0.7777777777777778,
              "#fb9f3a"
             ],
             [
              0.8888888888888888,
              "#fdca26"
             ],
             [
              1,
              "#f0f921"
             ]
            ],
            "type": "histogram2d"
           }
          ],
          "histogram2dcontour": [
           {
            "colorbar": {
             "outlinewidth": 0,
             "ticks": ""
            },
            "colorscale": [
             [
              0,
              "#0d0887"
             ],
             [
              0.1111111111111111,
              "#46039f"
             ],
             [
              0.2222222222222222,
              "#7201a8"
             ],
             [
              0.3333333333333333,
              "#9c179e"
             ],
             [
              0.4444444444444444,
              "#bd3786"
             ],
             [
              0.5555555555555556,
              "#d8576b"
             ],
             [
              0.6666666666666666,
              "#ed7953"
             ],
             [
              0.7777777777777778,
              "#fb9f3a"
             ],
             [
              0.8888888888888888,
              "#fdca26"
             ],
             [
              1,
              "#f0f921"
             ]
            ],
            "type": "histogram2dcontour"
           }
          ],
          "mesh3d": [
           {
            "colorbar": {
             "outlinewidth": 0,
             "ticks": ""
            },
            "type": "mesh3d"
           }
          ],
          "parcoords": [
           {
            "line": {
             "colorbar": {
              "outlinewidth": 0,
              "ticks": ""
             }
            },
            "type": "parcoords"
           }
          ],
          "pie": [
           {
            "automargin": true,
            "type": "pie"
           }
          ],
          "scatter": [
           {
            "fillpattern": {
             "fillmode": "overlay",
             "size": 10,
             "solidity": 0.2
            },
            "type": "scatter"
           }
          ],
          "scatter3d": [
           {
            "line": {
             "colorbar": {
              "outlinewidth": 0,
              "ticks": ""
             }
            },
            "marker": {
             "colorbar": {
              "outlinewidth": 0,
              "ticks": ""
             }
            },
            "type": "scatter3d"
           }
          ],
          "scattercarpet": [
           {
            "marker": {
             "colorbar": {
              "outlinewidth": 0,
              "ticks": ""
             }
            },
            "type": "scattercarpet"
           }
          ],
          "scattergeo": [
           {
            "marker": {
             "colorbar": {
              "outlinewidth": 0,
              "ticks": ""
             }
            },
            "type": "scattergeo"
           }
          ],
          "scattergl": [
           {
            "marker": {
             "colorbar": {
              "outlinewidth": 0,
              "ticks": ""
             }
            },
            "type": "scattergl"
           }
          ],
          "scattermapbox": [
           {
            "marker": {
             "colorbar": {
              "outlinewidth": 0,
              "ticks": ""
             }
            },
            "type": "scattermapbox"
           }
          ],
          "scatterpolar": [
           {
            "marker": {
             "colorbar": {
              "outlinewidth": 0,
              "ticks": ""
             }
            },
            "type": "scatterpolar"
           }
          ],
          "scatterpolargl": [
           {
            "marker": {
             "colorbar": {
              "outlinewidth": 0,
              "ticks": ""
             }
            },
            "type": "scatterpolargl"
           }
          ],
          "scatterternary": [
           {
            "marker": {
             "colorbar": {
              "outlinewidth": 0,
              "ticks": ""
             }
            },
            "type": "scatterternary"
           }
          ],
          "surface": [
           {
            "colorbar": {
             "outlinewidth": 0,
             "ticks": ""
            },
            "colorscale": [
             [
              0,
              "#0d0887"
             ],
             [
              0.1111111111111111,
              "#46039f"
             ],
             [
              0.2222222222222222,
              "#7201a8"
             ],
             [
              0.3333333333333333,
              "#9c179e"
             ],
             [
              0.4444444444444444,
              "#bd3786"
             ],
             [
              0.5555555555555556,
              "#d8576b"
             ],
             [
              0.6666666666666666,
              "#ed7953"
             ],
             [
              0.7777777777777778,
              "#fb9f3a"
             ],
             [
              0.8888888888888888,
              "#fdca26"
             ],
             [
              1,
              "#f0f921"
             ]
            ],
            "type": "surface"
           }
          ],
          "table": [
           {
            "cells": {
             "fill": {
              "color": "#EBF0F8"
             },
             "line": {
              "color": "white"
             }
            },
            "header": {
             "fill": {
              "color": "#C8D4E3"
             },
             "line": {
              "color": "white"
             }
            },
            "type": "table"
           }
          ]
         },
         "layout": {
          "annotationdefaults": {
           "arrowcolor": "#2a3f5f",
           "arrowhead": 0,
           "arrowwidth": 1
          },
          "autotypenumbers": "strict",
          "coloraxis": {
           "colorbar": {
            "outlinewidth": 0,
            "ticks": ""
           }
          },
          "colorscale": {
           "diverging": [
            [
             0,
             "#8e0152"
            ],
            [
             0.1,
             "#c51b7d"
            ],
            [
             0.2,
             "#de77ae"
            ],
            [
             0.3,
             "#f1b6da"
            ],
            [
             0.4,
             "#fde0ef"
            ],
            [
             0.5,
             "#f7f7f7"
            ],
            [
             0.6,
             "#e6f5d0"
            ],
            [
             0.7,
             "#b8e186"
            ],
            [
             0.8,
             "#7fbc41"
            ],
            [
             0.9,
             "#4d9221"
            ],
            [
             1,
             "#276419"
            ]
           ],
           "sequential": [
            [
             0,
             "#0d0887"
            ],
            [
             0.1111111111111111,
             "#46039f"
            ],
            [
             0.2222222222222222,
             "#7201a8"
            ],
            [
             0.3333333333333333,
             "#9c179e"
            ],
            [
             0.4444444444444444,
             "#bd3786"
            ],
            [
             0.5555555555555556,
             "#d8576b"
            ],
            [
             0.6666666666666666,
             "#ed7953"
            ],
            [
             0.7777777777777778,
             "#fb9f3a"
            ],
            [
             0.8888888888888888,
             "#fdca26"
            ],
            [
             1,
             "#f0f921"
            ]
           ],
           "sequentialminus": [
            [
             0,
             "#0d0887"
            ],
            [
             0.1111111111111111,
             "#46039f"
            ],
            [
             0.2222222222222222,
             "#7201a8"
            ],
            [
             0.3333333333333333,
             "#9c179e"
            ],
            [
             0.4444444444444444,
             "#bd3786"
            ],
            [
             0.5555555555555556,
             "#d8576b"
            ],
            [
             0.6666666666666666,
             "#ed7953"
            ],
            [
             0.7777777777777778,
             "#fb9f3a"
            ],
            [
             0.8888888888888888,
             "#fdca26"
            ],
            [
             1,
             "#f0f921"
            ]
           ]
          },
          "colorway": [
           "#636efa",
           "#EF553B",
           "#00cc96",
           "#ab63fa",
           "#FFA15A",
           "#19d3f3",
           "#FF6692",
           "#B6E880",
           "#FF97FF",
           "#FECB52"
          ],
          "font": {
           "color": "#2a3f5f"
          },
          "geo": {
           "bgcolor": "white",
           "lakecolor": "white",
           "landcolor": "#E5ECF6",
           "showlakes": true,
           "showland": true,
           "subunitcolor": "white"
          },
          "hoverlabel": {
           "align": "left"
          },
          "hovermode": "closest",
          "mapbox": {
           "style": "light"
          },
          "paper_bgcolor": "white",
          "plot_bgcolor": "#E5ECF6",
          "polar": {
           "angularaxis": {
            "gridcolor": "white",
            "linecolor": "white",
            "ticks": ""
           },
           "bgcolor": "#E5ECF6",
           "radialaxis": {
            "gridcolor": "white",
            "linecolor": "white",
            "ticks": ""
           }
          },
          "scene": {
           "xaxis": {
            "backgroundcolor": "#E5ECF6",
            "gridcolor": "white",
            "gridwidth": 2,
            "linecolor": "white",
            "showbackground": true,
            "ticks": "",
            "zerolinecolor": "white"
           },
           "yaxis": {
            "backgroundcolor": "#E5ECF6",
            "gridcolor": "white",
            "gridwidth": 2,
            "linecolor": "white",
            "showbackground": true,
            "ticks": "",
            "zerolinecolor": "white"
           },
           "zaxis": {
            "backgroundcolor": "#E5ECF6",
            "gridcolor": "white",
            "gridwidth": 2,
            "linecolor": "white",
            "showbackground": true,
            "ticks": "",
            "zerolinecolor": "white"
           }
          },
          "shapedefaults": {
           "line": {
            "color": "#2a3f5f"
           }
          },
          "ternary": {
           "aaxis": {
            "gridcolor": "white",
            "linecolor": "white",
            "ticks": ""
           },
           "baxis": {
            "gridcolor": "white",
            "linecolor": "white",
            "ticks": ""
           },
           "bgcolor": "#E5ECF6",
           "caxis": {
            "gridcolor": "white",
            "linecolor": "white",
            "ticks": ""
           }
          },
          "title": {
           "x": 0.05
          },
          "xaxis": {
           "automargin": true,
           "gridcolor": "white",
           "linecolor": "white",
           "ticks": "",
           "title": {
            "standoff": 15
           },
           "zerolinecolor": "white",
           "zerolinewidth": 2
          },
          "yaxis": {
           "automargin": true,
           "gridcolor": "white",
           "linecolor": "white",
           "ticks": "",
           "title": {
            "standoff": 15
           },
           "zerolinecolor": "white",
           "zerolinewidth": 2
          }
         }
        },
        "title": {
         "text": "AFN Node Total Pressure [Pa] <br><sup> 7/21 to 7/21 between 0 and 23 @4 </sup>"
        }
       }
      }
     },
     "metadata": {},
     "output_type": "display_data"
    }
   ],
   "source": [
    "fig = go.Figure()\n",
    "\n",
    "title = None\n",
    "for dataset in node_pressure_datasets:\n",
    "    if dataset.header.analysis_period.st_month == 7:\n",
    "\n",
    "        fig.add_trace(go.Scatter(\n",
    "            x=dataset.datetimes, y=dataset.values, name=dataset.header.metadata[\"System\"]))\n",
    "\n",
    "        if not title:\n",
    "            print(\"creating title\")\n",
    "            title = create_plot_title(dataset)\n",
    "            fig.update_layout(title_text=title)\n",
    "    \n",
    "\n",
    "        \n",
    "fig.show()"
   ]
  },
  {
   "cell_type": "code",
   "execution_count": 50,
   "metadata": {},
   "outputs": [
    {
     "name": "stdout",
     "output_type": "stream",
     "text": [
      "creating title\n"
     ]
    },
    {
     "data": {
      "application/vnd.plotly.v1+json": {
       "config": {
        "plotlyServerURL": "https://plotly.com"
       },
       "data": [
        {
         "name": "BLOCK 00 STOREY 0",
         "type": "scatter",
         "x": [
          "2017-07-21T00:00:00",
          "2017-07-21T00:15:00",
          "2017-07-21T00:30:00",
          "2017-07-21T00:45:00",
          "2017-07-21T01:00:00",
          "2017-07-21T01:15:00",
          "2017-07-21T01:30:00",
          "2017-07-21T01:45:00",
          "2017-07-21T02:00:00",
          "2017-07-21T02:15:00",
          "2017-07-21T02:30:00",
          "2017-07-21T02:45:00",
          "2017-07-21T03:00:00",
          "2017-07-21T03:15:00",
          "2017-07-21T03:30:00",
          "2017-07-21T03:45:00",
          "2017-07-21T04:00:00",
          "2017-07-21T04:15:00",
          "2017-07-21T04:30:00",
          "2017-07-21T04:45:00",
          "2017-07-21T05:00:00",
          "2017-07-21T05:15:00",
          "2017-07-21T05:30:00",
          "2017-07-21T05:45:00",
          "2017-07-21T06:00:00",
          "2017-07-21T06:15:00",
          "2017-07-21T06:30:00",
          "2017-07-21T06:45:00",
          "2017-07-21T07:00:00",
          "2017-07-21T07:15:00",
          "2017-07-21T07:30:00",
          "2017-07-21T07:45:00",
          "2017-07-21T08:00:00",
          "2017-07-21T08:15:00",
          "2017-07-21T08:30:00",
          "2017-07-21T08:45:00",
          "2017-07-21T09:00:00",
          "2017-07-21T09:15:00",
          "2017-07-21T09:30:00",
          "2017-07-21T09:45:00",
          "2017-07-21T10:00:00",
          "2017-07-21T10:15:00",
          "2017-07-21T10:30:00",
          "2017-07-21T10:45:00",
          "2017-07-21T11:00:00",
          "2017-07-21T11:15:00",
          "2017-07-21T11:30:00",
          "2017-07-21T11:45:00",
          "2017-07-21T12:00:00",
          "2017-07-21T12:15:00",
          "2017-07-21T12:30:00",
          "2017-07-21T12:45:00",
          "2017-07-21T13:00:00",
          "2017-07-21T13:15:00",
          "2017-07-21T13:30:00",
          "2017-07-21T13:45:00",
          "2017-07-21T14:00:00",
          "2017-07-21T14:15:00",
          "2017-07-21T14:30:00",
          "2017-07-21T14:45:00",
          "2017-07-21T15:00:00",
          "2017-07-21T15:15:00",
          "2017-07-21T15:30:00",
          "2017-07-21T15:45:00",
          "2017-07-21T16:00:00",
          "2017-07-21T16:15:00",
          "2017-07-21T16:30:00",
          "2017-07-21T16:45:00",
          "2017-07-21T17:00:00",
          "2017-07-21T17:15:00",
          "2017-07-21T17:30:00",
          "2017-07-21T17:45:00",
          "2017-07-21T18:00:00",
          "2017-07-21T18:15:00",
          "2017-07-21T18:30:00",
          "2017-07-21T18:45:00",
          "2017-07-21T19:00:00",
          "2017-07-21T19:15:00",
          "2017-07-21T19:30:00",
          "2017-07-21T19:45:00",
          "2017-07-21T20:00:00",
          "2017-07-21T20:15:00",
          "2017-07-21T20:30:00",
          "2017-07-21T20:45:00",
          "2017-07-21T21:00:00",
          "2017-07-21T21:15:00",
          "2017-07-21T21:30:00",
          "2017-07-21T21:45:00",
          "2017-07-21T22:00:00",
          "2017-07-21T22:15:00",
          "2017-07-21T22:30:00",
          "2017-07-21T22:45:00",
          "2017-07-21T23:00:00",
          "2017-07-21T23:15:00",
          "2017-07-21T23:30:00",
          "2017-07-21T23:45:00"
         ],
         "y": [
          27.979204412183858,
          28.07197891858651,
          28.1578839562065,
          28.236483795475596,
          28.30728996567872,
          28.37038709321576,
          28.42562343721549,
          28.47261916710017,
          28.510930446335564,
          28.54043859231147,
          28.56094412038525,
          28.572097589603807,
          28.573510044660797,
          28.564798596592127,
          28.545599622483483,
          28.515606365045883,
          28.47458265968143,
          28.422887499797206,
          28.360804207219534,
          28.288621639906417,
          28.206784205233205,
          28.117227621857733,
          28.021195500717816,
          27.91920015675969,
          27.81161672075224,
          27.700404710321127,
          27.586829125160982,
          27.471462095114816,
          27.354723173281382,
          27.2397356042808,
          27.127175528296554,
          27.015151961406303,
          26.90205210669777,
          26.78737715686771,
          26.670959059523785,
          26.552668048111943,
          26.432260031721366,
          26.30938042683393,
          26.184837484771233,
          26.061228460756084,
          25.941481226614634,
          25.827582337730064,
          25.720883110396993,
          25.622214591332135,
          25.532108729727796,
          25.44965308645978,
          25.374342009080866,
          25.30618646898898,
          25.245392793449017,
          25.191514786708776,
          25.14430165401166,
          25.10371105530538,
          25.069808716599915,
          25.041492912755924,
          25.018104468379995,
          24.99949473304793,
          24.98574003098876,
          24.975143162683633,
          24.983872682181165,
          24.98613274682634,
          24.98322712638919,
          24.979404455505072,
          24.97787087967442,
          24.98050078013407,
          24.988174140141904,
          25.00085521944274,
          25.019151706438635,
          25.043480935730805,
          25.07278864045991,
          25.10634860992927,
          25.14528587585246,
          25.190985701379063,
          25.244453736774304,
          25.305061468651918,
          25.381659475946154,
          25.460743111947853,
          25.549212492339105,
          25.64629736671298,
          25.750161434653698,
          25.859782639134668,
          25.97489461883375,
          26.095794016282767,
          26.222371079317753,
          26.354290759538756,
          26.490051482983,
          26.627764437926693,
          26.765743587999502,
          26.902665640682358,
          27.037516691730183,
          27.16981218785526,
          27.299071439602137,
          27.42473637997094,
          27.54622418019182,
          27.662969833299375,
          27.77443833126319,
          27.88011988043771
         ]
        },
        {
         "name": "BLOCK 01 STOREY 0",
         "type": "scatter",
         "x": [
          "2017-07-21T00:00:00",
          "2017-07-21T00:15:00",
          "2017-07-21T00:30:00",
          "2017-07-21T00:45:00",
          "2017-07-21T01:00:00",
          "2017-07-21T01:15:00",
          "2017-07-21T01:30:00",
          "2017-07-21T01:45:00",
          "2017-07-21T02:00:00",
          "2017-07-21T02:15:00",
          "2017-07-21T02:30:00",
          "2017-07-21T02:45:00",
          "2017-07-21T03:00:00",
          "2017-07-21T03:15:00",
          "2017-07-21T03:30:00",
          "2017-07-21T03:45:00",
          "2017-07-21T04:00:00",
          "2017-07-21T04:15:00",
          "2017-07-21T04:30:00",
          "2017-07-21T04:45:00",
          "2017-07-21T05:00:00",
          "2017-07-21T05:15:00",
          "2017-07-21T05:30:00",
          "2017-07-21T05:45:00",
          "2017-07-21T06:00:00",
          "2017-07-21T06:15:00",
          "2017-07-21T06:30:00",
          "2017-07-21T06:45:00",
          "2017-07-21T07:00:00",
          "2017-07-21T07:15:00",
          "2017-07-21T07:30:00",
          "2017-07-21T07:45:00",
          "2017-07-21T08:00:00",
          "2017-07-21T08:15:00",
          "2017-07-21T08:30:00",
          "2017-07-21T08:45:00",
          "2017-07-21T09:00:00",
          "2017-07-21T09:15:00",
          "2017-07-21T09:30:00",
          "2017-07-21T09:45:00",
          "2017-07-21T10:00:00",
          "2017-07-21T10:15:00",
          "2017-07-21T10:30:00",
          "2017-07-21T10:45:00",
          "2017-07-21T11:00:00",
          "2017-07-21T11:15:00",
          "2017-07-21T11:30:00",
          "2017-07-21T11:45:00",
          "2017-07-21T12:00:00",
          "2017-07-21T12:15:00",
          "2017-07-21T12:30:00",
          "2017-07-21T12:45:00",
          "2017-07-21T13:00:00",
          "2017-07-21T13:15:00",
          "2017-07-21T13:30:00",
          "2017-07-21T13:45:00",
          "2017-07-21T14:00:00",
          "2017-07-21T14:15:00",
          "2017-07-21T14:30:00",
          "2017-07-21T14:45:00",
          "2017-07-21T15:00:00",
          "2017-07-21T15:15:00",
          "2017-07-21T15:30:00",
          "2017-07-21T15:45:00",
          "2017-07-21T16:00:00",
          "2017-07-21T16:15:00",
          "2017-07-21T16:30:00",
          "2017-07-21T16:45:00",
          "2017-07-21T17:00:00",
          "2017-07-21T17:15:00",
          "2017-07-21T17:30:00",
          "2017-07-21T17:45:00",
          "2017-07-21T18:00:00",
          "2017-07-21T18:15:00",
          "2017-07-21T18:30:00",
          "2017-07-21T18:45:00",
          "2017-07-21T19:00:00",
          "2017-07-21T19:15:00",
          "2017-07-21T19:30:00",
          "2017-07-21T19:45:00",
          "2017-07-21T20:00:00",
          "2017-07-21T20:15:00",
          "2017-07-21T20:30:00",
          "2017-07-21T20:45:00",
          "2017-07-21T21:00:00",
          "2017-07-21T21:15:00",
          "2017-07-21T21:30:00",
          "2017-07-21T21:45:00",
          "2017-07-21T22:00:00",
          "2017-07-21T22:15:00",
          "2017-07-21T22:30:00",
          "2017-07-21T22:45:00",
          "2017-07-21T23:00:00",
          "2017-07-21T23:15:00",
          "2017-07-21T23:30:00",
          "2017-07-21T23:45:00"
         ],
         "y": [
          28.025581670833777,
          28.123525529241867,
          28.215788777033467,
          28.30191837557715,
          28.38138254118108,
          28.454104229478435,
          28.51976600619818,
          28.577821998139452,
          28.627645260208507,
          28.668844010104937,
          28.700969835040645,
          28.72346355088018,
          28.73572421398816,
          28.737157855095145,
          28.727204058087334,
          28.705381867921,
          28.671305556877904,
          28.62510427448728,
          28.5670609389981,
          28.497588384303484,
          28.41728762581535,
          28.328008130063576,
          28.230981104113,
          28.12679091488047,
          28.015981897214946,
          27.900441238795302,
          27.78152211285577,
          27.660009903952677,
          27.536542172413107,
          27.414209065202858,
          27.294707431405126,
          27.176491074507144,
          27.05836525307641,
          26.940299127933116,
          26.82261948601334,
          26.705748060912338,
          26.590155577036963,
          26.476006024546596,
          26.36368702152061,
          26.253744421081414,
          26.14676710712866,
          26.043037525857915,
          25.94292443879749,
          25.84679824455427,
          25.75500794516441,
          25.667270554878073,
          25.583638585814988,
          25.504437578267392,
          25.430035258119158,
          25.3605064884442,
          25.295936493096715,
          25.236421027477935,
          25.182082499404956,
          25.132636786325616,
          25.08786184537399,
          25.04765150881877,
          25.011951814364064,
          24.980362552303006,
          24.92540997333144,
          24.889108018929804,
          24.871486764778428,
          24.864062805942535,
          24.862080134018463,
          24.864948936871727,
          24.87369828824419,
          24.88925262410798,
          24.91205879650141,
          24.940840656285676,
          24.976574375073938,
          25.020141362054133,
          25.072269936448333,
          25.133431711173454,
          25.203818452034938,
          25.28271765853415,
          25.354203322691856,
          25.440918423216235,
          25.531551638844103,
          25.628957612165298,
          25.73631758247647,
          25.85421989453053,
          25.981506877777605,
          26.116452954230486,
          26.257347630723626,
          26.39821457878799,
          26.537717282514194,
          26.6758223367631,
          26.812444599403566,
          26.947239608677283,
          27.079741082288802,
          27.209896748007374,
          27.33749262800515,
          27.46214707968136,
          27.58341563163306,
          27.700854067770678,
          27.81403183049651,
          27.922525785584327
         ]
        },
        {
         "name": "ExtNode   1",
         "type": "scatter",
         "x": [
          "2017-07-21T00:00:00",
          "2017-07-21T00:15:00",
          "2017-07-21T00:30:00",
          "2017-07-21T00:45:00",
          "2017-07-21T01:00:00",
          "2017-07-21T01:15:00",
          "2017-07-21T01:30:00",
          "2017-07-21T01:45:00",
          "2017-07-21T02:00:00",
          "2017-07-21T02:15:00",
          "2017-07-21T02:30:00",
          "2017-07-21T02:45:00",
          "2017-07-21T03:00:00",
          "2017-07-21T03:15:00",
          "2017-07-21T03:30:00",
          "2017-07-21T03:45:00",
          "2017-07-21T04:00:00",
          "2017-07-21T04:15:00",
          "2017-07-21T04:30:00",
          "2017-07-21T04:45:00",
          "2017-07-21T05:00:00",
          "2017-07-21T05:15:00",
          "2017-07-21T05:30:00",
          "2017-07-21T05:45:00",
          "2017-07-21T06:00:00",
          "2017-07-21T06:15:00",
          "2017-07-21T06:30:00",
          "2017-07-21T06:45:00",
          "2017-07-21T07:00:00",
          "2017-07-21T07:15:00",
          "2017-07-21T07:30:00",
          "2017-07-21T07:45:00",
          "2017-07-21T08:00:00",
          "2017-07-21T08:15:00",
          "2017-07-21T08:30:00",
          "2017-07-21T08:45:00",
          "2017-07-21T09:00:00",
          "2017-07-21T09:15:00",
          "2017-07-21T09:30:00",
          "2017-07-21T09:45:00",
          "2017-07-21T10:00:00",
          "2017-07-21T10:15:00",
          "2017-07-21T10:30:00",
          "2017-07-21T10:45:00",
          "2017-07-21T11:00:00",
          "2017-07-21T11:15:00",
          "2017-07-21T11:30:00",
          "2017-07-21T11:45:00",
          "2017-07-21T12:00:00",
          "2017-07-21T12:15:00",
          "2017-07-21T12:30:00",
          "2017-07-21T12:45:00",
          "2017-07-21T13:00:00",
          "2017-07-21T13:15:00",
          "2017-07-21T13:30:00",
          "2017-07-21T13:45:00",
          "2017-07-21T14:00:00",
          "2017-07-21T14:15:00",
          "2017-07-21T14:30:00",
          "2017-07-21T14:45:00",
          "2017-07-21T15:00:00",
          "2017-07-21T15:15:00",
          "2017-07-21T15:30:00",
          "2017-07-21T15:45:00",
          "2017-07-21T16:00:00",
          "2017-07-21T16:15:00",
          "2017-07-21T16:30:00",
          "2017-07-21T16:45:00",
          "2017-07-21T17:00:00",
          "2017-07-21T17:15:00",
          "2017-07-21T17:30:00",
          "2017-07-21T17:45:00",
          "2017-07-21T18:00:00",
          "2017-07-21T18:15:00",
          "2017-07-21T18:30:00",
          "2017-07-21T18:45:00",
          "2017-07-21T19:00:00",
          "2017-07-21T19:15:00",
          "2017-07-21T19:30:00",
          "2017-07-21T19:45:00",
          "2017-07-21T20:00:00",
          "2017-07-21T20:15:00",
          "2017-07-21T20:30:00",
          "2017-07-21T20:45:00",
          "2017-07-21T21:00:00",
          "2017-07-21T21:15:00",
          "2017-07-21T21:30:00",
          "2017-07-21T21:45:00",
          "2017-07-21T22:00:00",
          "2017-07-21T22:15:00",
          "2017-07-21T22:30:00",
          "2017-07-21T22:45:00",
          "2017-07-21T23:00:00",
          "2017-07-21T23:15:00",
          "2017-07-21T23:30:00",
          "2017-07-21T23:45:00"
         ],
         "y": [
          21.417749997699026,
          21.189749997699025,
          20.961749997699027,
          20.73374999769903,
          20.581749997699028,
          20.429749997699027,
          20.277749997699026,
          20.125749997699025,
          20.011749997699027,
          19.897749997699027,
          19.78374999769903,
          19.66974999769903,
          19.555749997699028,
          19.441749997699027,
          19.32774999769903,
          19.213749997699026,
          19.137749997699025,
          19.061749997699025,
          18.985749997699028,
          18.909749997699027,
          18.985749997699028,
          19.061749997699025,
          19.137749997699025,
          19.213749997699026,
          19.479749997699027,
          19.745749997699026,
          20.011749997699027,
          20.277749997699026,
          20.923749997699026,
          21.569749997699027,
          22.215749997699028,
          22.86174999769903,
          23.58374999769903,
          24.305749997699024,
          25.027749997699026,
          25.749749997699027,
          26.395749997699028,
          27.04174999769903,
          27.687749997699026,
          28.333749997699027,
          28.903749997699027,
          29.473749997699027,
          30.043749997699027,
          30.613749997699028,
          30.993749997699027,
          31.373749997699026,
          31.753749997699025,
          32.13374999769903,
          32.43774999769903,
          32.741749997699024,
          33.045749997699026,
          33.34974999769903,
          33.539749997699026,
          33.729749997699024,
          33.91974999769903,
          34.109749997699026,
          34.109749997699026,
          34.109749997699026,
          34.109749997699026,
          34.109749997699026,
          33.881749997699025,
          33.65374999769902,
          33.42574999769903,
          33.19774999769903,
          32.893749997699025,
          32.58974999769902,
          32.28574999769903,
          31.981749997699026,
          31.601749997699027,
          31.22174999769903,
          30.841749997699026,
          30.461749997699027,
          29.891749997699026,
          29.321749997699026,
          28.751749997699026,
          28.181749997699026,
          27.763749997699026,
          27.345749997699027,
          26.927749997699024,
          26.509749997699025,
          26.167749997699026,
          25.825749997699027,
          25.48374999769903,
          25.141749997699026,
          24.799749997699024,
          24.457749997699025,
          24.115749997699027,
          23.773749997699028,
          23.507749997699026,
          23.241749997699024,
          22.975749997699026,
          22.709749997699028,
          22.44374999769903,
          22.177749997699028,
          21.911749997699026,
          21.645749997699028
         ]
        },
        {
         "name": "ExtNode   2",
         "type": "scatter",
         "x": [
          "2017-07-21T00:00:00",
          "2017-07-21T00:15:00",
          "2017-07-21T00:30:00",
          "2017-07-21T00:45:00",
          "2017-07-21T01:00:00",
          "2017-07-21T01:15:00",
          "2017-07-21T01:30:00",
          "2017-07-21T01:45:00",
          "2017-07-21T02:00:00",
          "2017-07-21T02:15:00",
          "2017-07-21T02:30:00",
          "2017-07-21T02:45:00",
          "2017-07-21T03:00:00",
          "2017-07-21T03:15:00",
          "2017-07-21T03:30:00",
          "2017-07-21T03:45:00",
          "2017-07-21T04:00:00",
          "2017-07-21T04:15:00",
          "2017-07-21T04:30:00",
          "2017-07-21T04:45:00",
          "2017-07-21T05:00:00",
          "2017-07-21T05:15:00",
          "2017-07-21T05:30:00",
          "2017-07-21T05:45:00",
          "2017-07-21T06:00:00",
          "2017-07-21T06:15:00",
          "2017-07-21T06:30:00",
          "2017-07-21T06:45:00",
          "2017-07-21T07:00:00",
          "2017-07-21T07:15:00",
          "2017-07-21T07:30:00",
          "2017-07-21T07:45:00",
          "2017-07-21T08:00:00",
          "2017-07-21T08:15:00",
          "2017-07-21T08:30:00",
          "2017-07-21T08:45:00",
          "2017-07-21T09:00:00",
          "2017-07-21T09:15:00",
          "2017-07-21T09:30:00",
          "2017-07-21T09:45:00",
          "2017-07-21T10:00:00",
          "2017-07-21T10:15:00",
          "2017-07-21T10:30:00",
          "2017-07-21T10:45:00",
          "2017-07-21T11:00:00",
          "2017-07-21T11:15:00",
          "2017-07-21T11:30:00",
          "2017-07-21T11:45:00",
          "2017-07-21T12:00:00",
          "2017-07-21T12:15:00",
          "2017-07-21T12:30:00",
          "2017-07-21T12:45:00",
          "2017-07-21T13:00:00",
          "2017-07-21T13:15:00",
          "2017-07-21T13:30:00",
          "2017-07-21T13:45:00",
          "2017-07-21T14:00:00",
          "2017-07-21T14:15:00",
          "2017-07-21T14:30:00",
          "2017-07-21T14:45:00",
          "2017-07-21T15:00:00",
          "2017-07-21T15:15:00",
          "2017-07-21T15:30:00",
          "2017-07-21T15:45:00",
          "2017-07-21T16:00:00",
          "2017-07-21T16:15:00",
          "2017-07-21T16:30:00",
          "2017-07-21T16:45:00",
          "2017-07-21T17:00:00",
          "2017-07-21T17:15:00",
          "2017-07-21T17:30:00",
          "2017-07-21T17:45:00",
          "2017-07-21T18:00:00",
          "2017-07-21T18:15:00",
          "2017-07-21T18:30:00",
          "2017-07-21T18:45:00",
          "2017-07-21T19:00:00",
          "2017-07-21T19:15:00",
          "2017-07-21T19:30:00",
          "2017-07-21T19:45:00",
          "2017-07-21T20:00:00",
          "2017-07-21T20:15:00",
          "2017-07-21T20:30:00",
          "2017-07-21T20:45:00",
          "2017-07-21T21:00:00",
          "2017-07-21T21:15:00",
          "2017-07-21T21:30:00",
          "2017-07-21T21:45:00",
          "2017-07-21T22:00:00",
          "2017-07-21T22:15:00",
          "2017-07-21T22:30:00",
          "2017-07-21T22:45:00",
          "2017-07-21T23:00:00",
          "2017-07-21T23:15:00",
          "2017-07-21T23:30:00",
          "2017-07-21T23:45:00"
         ],
         "y": [
          21.417749997699026,
          21.189749997699025,
          20.961749997699027,
          20.73374999769903,
          20.581749997699028,
          20.429749997699027,
          20.277749997699026,
          20.125749997699025,
          20.011749997699027,
          19.897749997699027,
          19.78374999769903,
          19.66974999769903,
          19.555749997699028,
          19.441749997699027,
          19.32774999769903,
          19.213749997699026,
          19.137749997699025,
          19.061749997699025,
          18.985749997699028,
          18.909749997699027,
          18.985749997699028,
          19.061749997699025,
          19.137749997699025,
          19.213749997699026,
          19.479749997699027,
          19.745749997699026,
          20.011749997699027,
          20.277749997699026,
          20.923749997699026,
          21.569749997699027,
          22.215749997699028,
          22.86174999769903,
          23.58374999769903,
          24.305749997699024,
          25.027749997699026,
          25.749749997699027,
          26.395749997699028,
          27.04174999769903,
          27.687749997699026,
          28.333749997699027,
          28.903749997699027,
          29.473749997699027,
          30.043749997699027,
          30.613749997699028,
          30.993749997699027,
          31.373749997699026,
          31.753749997699025,
          32.13374999769903,
          32.43774999769903,
          32.741749997699024,
          33.045749997699026,
          33.34974999769903,
          33.539749997699026,
          33.729749997699024,
          33.91974999769903,
          34.109749997699026,
          34.109749997699026,
          34.109749997699026,
          34.109749997699026,
          34.109749997699026,
          33.881749997699025,
          33.65374999769902,
          33.42574999769903,
          33.19774999769903,
          32.893749997699025,
          32.58974999769902,
          32.28574999769903,
          31.981749997699026,
          31.601749997699027,
          31.22174999769903,
          30.841749997699026,
          30.461749997699027,
          29.891749997699026,
          29.321749997699026,
          28.751749997699026,
          28.181749997699026,
          27.763749997699026,
          27.345749997699027,
          26.927749997699024,
          26.509749997699025,
          26.167749997699026,
          25.825749997699027,
          25.48374999769903,
          25.141749997699026,
          24.799749997699024,
          24.457749997699025,
          24.115749997699027,
          23.773749997699028,
          23.507749997699026,
          23.241749997699024,
          22.975749997699026,
          22.709749997699028,
          22.44374999769903,
          22.177749997699028,
          21.911749997699026,
          21.645749997699028
         ]
        }
       ],
       "layout": {
        "template": {
         "data": {
          "bar": [
           {
            "error_x": {
             "color": "#2a3f5f"
            },
            "error_y": {
             "color": "#2a3f5f"
            },
            "marker": {
             "line": {
              "color": "#E5ECF6",
              "width": 0.5
             },
             "pattern": {
              "fillmode": "overlay",
              "size": 10,
              "solidity": 0.2
             }
            },
            "type": "bar"
           }
          ],
          "barpolar": [
           {
            "marker": {
             "line": {
              "color": "#E5ECF6",
              "width": 0.5
             },
             "pattern": {
              "fillmode": "overlay",
              "size": 10,
              "solidity": 0.2
             }
            },
            "type": "barpolar"
           }
          ],
          "carpet": [
           {
            "aaxis": {
             "endlinecolor": "#2a3f5f",
             "gridcolor": "white",
             "linecolor": "white",
             "minorgridcolor": "white",
             "startlinecolor": "#2a3f5f"
            },
            "baxis": {
             "endlinecolor": "#2a3f5f",
             "gridcolor": "white",
             "linecolor": "white",
             "minorgridcolor": "white",
             "startlinecolor": "#2a3f5f"
            },
            "type": "carpet"
           }
          ],
          "choropleth": [
           {
            "colorbar": {
             "outlinewidth": 0,
             "ticks": ""
            },
            "type": "choropleth"
           }
          ],
          "contour": [
           {
            "colorbar": {
             "outlinewidth": 0,
             "ticks": ""
            },
            "colorscale": [
             [
              0,
              "#0d0887"
             ],
             [
              0.1111111111111111,
              "#46039f"
             ],
             [
              0.2222222222222222,
              "#7201a8"
             ],
             [
              0.3333333333333333,
              "#9c179e"
             ],
             [
              0.4444444444444444,
              "#bd3786"
             ],
             [
              0.5555555555555556,
              "#d8576b"
             ],
             [
              0.6666666666666666,
              "#ed7953"
             ],
             [
              0.7777777777777778,
              "#fb9f3a"
             ],
             [
              0.8888888888888888,
              "#fdca26"
             ],
             [
              1,
              "#f0f921"
             ]
            ],
            "type": "contour"
           }
          ],
          "contourcarpet": [
           {
            "colorbar": {
             "outlinewidth": 0,
             "ticks": ""
            },
            "type": "contourcarpet"
           }
          ],
          "heatmap": [
           {
            "colorbar": {
             "outlinewidth": 0,
             "ticks": ""
            },
            "colorscale": [
             [
              0,
              "#0d0887"
             ],
             [
              0.1111111111111111,
              "#46039f"
             ],
             [
              0.2222222222222222,
              "#7201a8"
             ],
             [
              0.3333333333333333,
              "#9c179e"
             ],
             [
              0.4444444444444444,
              "#bd3786"
             ],
             [
              0.5555555555555556,
              "#d8576b"
             ],
             [
              0.6666666666666666,
              "#ed7953"
             ],
             [
              0.7777777777777778,
              "#fb9f3a"
             ],
             [
              0.8888888888888888,
              "#fdca26"
             ],
             [
              1,
              "#f0f921"
             ]
            ],
            "type": "heatmap"
           }
          ],
          "heatmapgl": [
           {
            "colorbar": {
             "outlinewidth": 0,
             "ticks": ""
            },
            "colorscale": [
             [
              0,
              "#0d0887"
             ],
             [
              0.1111111111111111,
              "#46039f"
             ],
             [
              0.2222222222222222,
              "#7201a8"
             ],
             [
              0.3333333333333333,
              "#9c179e"
             ],
             [
              0.4444444444444444,
              "#bd3786"
             ],
             [
              0.5555555555555556,
              "#d8576b"
             ],
             [
              0.6666666666666666,
              "#ed7953"
             ],
             [
              0.7777777777777778,
              "#fb9f3a"
             ],
             [
              0.8888888888888888,
              "#fdca26"
             ],
             [
              1,
              "#f0f921"
             ]
            ],
            "type": "heatmapgl"
           }
          ],
          "histogram": [
           {
            "marker": {
             "pattern": {
              "fillmode": "overlay",
              "size": 10,
              "solidity": 0.2
             }
            },
            "type": "histogram"
           }
          ],
          "histogram2d": [
           {
            "colorbar": {
             "outlinewidth": 0,
             "ticks": ""
            },
            "colorscale": [
             [
              0,
              "#0d0887"
             ],
             [
              0.1111111111111111,
              "#46039f"
             ],
             [
              0.2222222222222222,
              "#7201a8"
             ],
             [
              0.3333333333333333,
              "#9c179e"
             ],
             [
              0.4444444444444444,
              "#bd3786"
             ],
             [
              0.5555555555555556,
              "#d8576b"
             ],
             [
              0.6666666666666666,
              "#ed7953"
             ],
             [
              0.7777777777777778,
              "#fb9f3a"
             ],
             [
              0.8888888888888888,
              "#fdca26"
             ],
             [
              1,
              "#f0f921"
             ]
            ],
            "type": "histogram2d"
           }
          ],
          "histogram2dcontour": [
           {
            "colorbar": {
             "outlinewidth": 0,
             "ticks": ""
            },
            "colorscale": [
             [
              0,
              "#0d0887"
             ],
             [
              0.1111111111111111,
              "#46039f"
             ],
             [
              0.2222222222222222,
              "#7201a8"
             ],
             [
              0.3333333333333333,
              "#9c179e"
             ],
             [
              0.4444444444444444,
              "#bd3786"
             ],
             [
              0.5555555555555556,
              "#d8576b"
             ],
             [
              0.6666666666666666,
              "#ed7953"
             ],
             [
              0.7777777777777778,
              "#fb9f3a"
             ],
             [
              0.8888888888888888,
              "#fdca26"
             ],
             [
              1,
              "#f0f921"
             ]
            ],
            "type": "histogram2dcontour"
           }
          ],
          "mesh3d": [
           {
            "colorbar": {
             "outlinewidth": 0,
             "ticks": ""
            },
            "type": "mesh3d"
           }
          ],
          "parcoords": [
           {
            "line": {
             "colorbar": {
              "outlinewidth": 0,
              "ticks": ""
             }
            },
            "type": "parcoords"
           }
          ],
          "pie": [
           {
            "automargin": true,
            "type": "pie"
           }
          ],
          "scatter": [
           {
            "fillpattern": {
             "fillmode": "overlay",
             "size": 10,
             "solidity": 0.2
            },
            "type": "scatter"
           }
          ],
          "scatter3d": [
           {
            "line": {
             "colorbar": {
              "outlinewidth": 0,
              "ticks": ""
             }
            },
            "marker": {
             "colorbar": {
              "outlinewidth": 0,
              "ticks": ""
             }
            },
            "type": "scatter3d"
           }
          ],
          "scattercarpet": [
           {
            "marker": {
             "colorbar": {
              "outlinewidth": 0,
              "ticks": ""
             }
            },
            "type": "scattercarpet"
           }
          ],
          "scattergeo": [
           {
            "marker": {
             "colorbar": {
              "outlinewidth": 0,
              "ticks": ""
             }
            },
            "type": "scattergeo"
           }
          ],
          "scattergl": [
           {
            "marker": {
             "colorbar": {
              "outlinewidth": 0,
              "ticks": ""
             }
            },
            "type": "scattergl"
           }
          ],
          "scattermapbox": [
           {
            "marker": {
             "colorbar": {
              "outlinewidth": 0,
              "ticks": ""
             }
            },
            "type": "scattermapbox"
           }
          ],
          "scatterpolar": [
           {
            "marker": {
             "colorbar": {
              "outlinewidth": 0,
              "ticks": ""
             }
            },
            "type": "scatterpolar"
           }
          ],
          "scatterpolargl": [
           {
            "marker": {
             "colorbar": {
              "outlinewidth": 0,
              "ticks": ""
             }
            },
            "type": "scatterpolargl"
           }
          ],
          "scatterternary": [
           {
            "marker": {
             "colorbar": {
              "outlinewidth": 0,
              "ticks": ""
             }
            },
            "type": "scatterternary"
           }
          ],
          "surface": [
           {
            "colorbar": {
             "outlinewidth": 0,
             "ticks": ""
            },
            "colorscale": [
             [
              0,
              "#0d0887"
             ],
             [
              0.1111111111111111,
              "#46039f"
             ],
             [
              0.2222222222222222,
              "#7201a8"
             ],
             [
              0.3333333333333333,
              "#9c179e"
             ],
             [
              0.4444444444444444,
              "#bd3786"
             ],
             [
              0.5555555555555556,
              "#d8576b"
             ],
             [
              0.6666666666666666,
              "#ed7953"
             ],
             [
              0.7777777777777778,
              "#fb9f3a"
             ],
             [
              0.8888888888888888,
              "#fdca26"
             ],
             [
              1,
              "#f0f921"
             ]
            ],
            "type": "surface"
           }
          ],
          "table": [
           {
            "cells": {
             "fill": {
              "color": "#EBF0F8"
             },
             "line": {
              "color": "white"
             }
            },
            "header": {
             "fill": {
              "color": "#C8D4E3"
             },
             "line": {
              "color": "white"
             }
            },
            "type": "table"
           }
          ]
         },
         "layout": {
          "annotationdefaults": {
           "arrowcolor": "#2a3f5f",
           "arrowhead": 0,
           "arrowwidth": 1
          },
          "autotypenumbers": "strict",
          "coloraxis": {
           "colorbar": {
            "outlinewidth": 0,
            "ticks": ""
           }
          },
          "colorscale": {
           "diverging": [
            [
             0,
             "#8e0152"
            ],
            [
             0.1,
             "#c51b7d"
            ],
            [
             0.2,
             "#de77ae"
            ],
            [
             0.3,
             "#f1b6da"
            ],
            [
             0.4,
             "#fde0ef"
            ],
            [
             0.5,
             "#f7f7f7"
            ],
            [
             0.6,
             "#e6f5d0"
            ],
            [
             0.7,
             "#b8e186"
            ],
            [
             0.8,
             "#7fbc41"
            ],
            [
             0.9,
             "#4d9221"
            ],
            [
             1,
             "#276419"
            ]
           ],
           "sequential": [
            [
             0,
             "#0d0887"
            ],
            [
             0.1111111111111111,
             "#46039f"
            ],
            [
             0.2222222222222222,
             "#7201a8"
            ],
            [
             0.3333333333333333,
             "#9c179e"
            ],
            [
             0.4444444444444444,
             "#bd3786"
            ],
            [
             0.5555555555555556,
             "#d8576b"
            ],
            [
             0.6666666666666666,
             "#ed7953"
            ],
            [
             0.7777777777777778,
             "#fb9f3a"
            ],
            [
             0.8888888888888888,
             "#fdca26"
            ],
            [
             1,
             "#f0f921"
            ]
           ],
           "sequentialminus": [
            [
             0,
             "#0d0887"
            ],
            [
             0.1111111111111111,
             "#46039f"
            ],
            [
             0.2222222222222222,
             "#7201a8"
            ],
            [
             0.3333333333333333,
             "#9c179e"
            ],
            [
             0.4444444444444444,
             "#bd3786"
            ],
            [
             0.5555555555555556,
             "#d8576b"
            ],
            [
             0.6666666666666666,
             "#ed7953"
            ],
            [
             0.7777777777777778,
             "#fb9f3a"
            ],
            [
             0.8888888888888888,
             "#fdca26"
            ],
            [
             1,
             "#f0f921"
            ]
           ]
          },
          "colorway": [
           "#636efa",
           "#EF553B",
           "#00cc96",
           "#ab63fa",
           "#FFA15A",
           "#19d3f3",
           "#FF6692",
           "#B6E880",
           "#FF97FF",
           "#FECB52"
          ],
          "font": {
           "color": "#2a3f5f"
          },
          "geo": {
           "bgcolor": "white",
           "lakecolor": "white",
           "landcolor": "#E5ECF6",
           "showlakes": true,
           "showland": true,
           "subunitcolor": "white"
          },
          "hoverlabel": {
           "align": "left"
          },
          "hovermode": "closest",
          "mapbox": {
           "style": "light"
          },
          "paper_bgcolor": "white",
          "plot_bgcolor": "#E5ECF6",
          "polar": {
           "angularaxis": {
            "gridcolor": "white",
            "linecolor": "white",
            "ticks": ""
           },
           "bgcolor": "#E5ECF6",
           "radialaxis": {
            "gridcolor": "white",
            "linecolor": "white",
            "ticks": ""
           }
          },
          "scene": {
           "xaxis": {
            "backgroundcolor": "#E5ECF6",
            "gridcolor": "white",
            "gridwidth": 2,
            "linecolor": "white",
            "showbackground": true,
            "ticks": "",
            "zerolinecolor": "white"
           },
           "yaxis": {
            "backgroundcolor": "#E5ECF6",
            "gridcolor": "white",
            "gridwidth": 2,
            "linecolor": "white",
            "showbackground": true,
            "ticks": "",
            "zerolinecolor": "white"
           },
           "zaxis": {
            "backgroundcolor": "#E5ECF6",
            "gridcolor": "white",
            "gridwidth": 2,
            "linecolor": "white",
            "showbackground": true,
            "ticks": "",
            "zerolinecolor": "white"
           }
          },
          "shapedefaults": {
           "line": {
            "color": "#2a3f5f"
           }
          },
          "ternary": {
           "aaxis": {
            "gridcolor": "white",
            "linecolor": "white",
            "ticks": ""
           },
           "baxis": {
            "gridcolor": "white",
            "linecolor": "white",
            "ticks": ""
           },
           "bgcolor": "#E5ECF6",
           "caxis": {
            "gridcolor": "white",
            "linecolor": "white",
            "ticks": ""
           }
          },
          "title": {
           "x": 0.05
          },
          "xaxis": {
           "automargin": true,
           "gridcolor": "white",
           "linecolor": "white",
           "ticks": "",
           "title": {
            "standoff": 15
           },
           "zerolinecolor": "white",
           "zerolinewidth": 2
          },
          "yaxis": {
           "automargin": true,
           "gridcolor": "white",
           "linecolor": "white",
           "ticks": "",
           "title": {
            "standoff": 15
           },
           "zerolinecolor": "white",
           "zerolinewidth": 2
          }
         }
        },
        "title": {
         "text": "AFN Node Temperature [C] <br><sup> 7/21 to 7/21 between 0 and 23 @4 </sup>"
        }
       }
      }
     },
     "metadata": {},
     "output_type": "display_data"
    }
   ],
   "source": [
    "fig = go.Figure()\n",
    "\n",
    "title = None\n",
    "for dataset in node_temp_datasets:\n",
    "    if dataset.header.analysis_period.st_month == 7:\n",
    "\n",
    "        fig.add_trace(go.Scatter(\n",
    "            x=dataset.datetimes, y=dataset.values, name=dataset.header.metadata[\"System\"]))\n",
    "\n",
    "        if not title:\n",
    "            print(\"creating title\")\n",
    "            title = create_plot_title(dataset)\n",
    "            fig.update_layout(title_text=title)\n",
    "    \n",
    "\n",
    "        \n",
    "fig.show()"
   ]
  },
  {
   "cell_type": "code",
   "execution_count": 49,
   "metadata": {},
   "outputs": [
    {
     "name": "stdout",
     "output_type": "stream",
     "text": [
      "creating title\n"
     ]
    },
    {
     "data": {
      "application/vnd.plotly.v1+json": {
       "config": {
        "plotlyServerURL": "https://plotly.com"
       },
       "data": [
        {
         "name": "BLOCK 00 STOREY 0 WALL 0002 DOOR",
         "type": "scatter",
         "x": [
          "2017-07-21T00:00:00",
          "2017-07-21T00:15:00",
          "2017-07-21T00:30:00",
          "2017-07-21T00:45:00",
          "2017-07-21T01:00:00",
          "2017-07-21T01:15:00",
          "2017-07-21T01:30:00",
          "2017-07-21T01:45:00",
          "2017-07-21T02:00:00",
          "2017-07-21T02:15:00",
          "2017-07-21T02:30:00",
          "2017-07-21T02:45:00",
          "2017-07-21T03:00:00",
          "2017-07-21T03:15:00",
          "2017-07-21T03:30:00",
          "2017-07-21T03:45:00",
          "2017-07-21T04:00:00",
          "2017-07-21T04:15:00",
          "2017-07-21T04:30:00",
          "2017-07-21T04:45:00",
          "2017-07-21T05:00:00",
          "2017-07-21T05:15:00",
          "2017-07-21T05:30:00",
          "2017-07-21T05:45:00",
          "2017-07-21T06:00:00",
          "2017-07-21T06:15:00",
          "2017-07-21T06:30:00",
          "2017-07-21T06:45:00",
          "2017-07-21T07:00:00",
          "2017-07-21T07:15:00",
          "2017-07-21T07:30:00",
          "2017-07-21T07:45:00",
          "2017-07-21T08:00:00",
          "2017-07-21T08:15:00",
          "2017-07-21T08:30:00",
          "2017-07-21T08:45:00",
          "2017-07-21T09:00:00",
          "2017-07-21T09:15:00",
          "2017-07-21T09:30:00",
          "2017-07-21T09:45:00",
          "2017-07-21T10:00:00",
          "2017-07-21T10:15:00",
          "2017-07-21T10:30:00",
          "2017-07-21T10:45:00",
          "2017-07-21T11:00:00",
          "2017-07-21T11:15:00",
          "2017-07-21T11:30:00",
          "2017-07-21T11:45:00",
          "2017-07-21T12:00:00",
          "2017-07-21T12:15:00",
          "2017-07-21T12:30:00",
          "2017-07-21T12:45:00",
          "2017-07-21T13:00:00",
          "2017-07-21T13:15:00",
          "2017-07-21T13:30:00",
          "2017-07-21T13:45:00",
          "2017-07-21T14:00:00",
          "2017-07-21T14:15:00",
          "2017-07-21T14:30:00",
          "2017-07-21T14:45:00",
          "2017-07-21T15:00:00",
          "2017-07-21T15:15:00",
          "2017-07-21T15:30:00",
          "2017-07-21T15:45:00",
          "2017-07-21T16:00:00",
          "2017-07-21T16:15:00",
          "2017-07-21T16:30:00",
          "2017-07-21T16:45:00",
          "2017-07-21T17:00:00",
          "2017-07-21T17:15:00",
          "2017-07-21T17:30:00",
          "2017-07-21T17:45:00",
          "2017-07-21T18:00:00",
          "2017-07-21T18:15:00",
          "2017-07-21T18:30:00",
          "2017-07-21T18:45:00",
          "2017-07-21T19:00:00",
          "2017-07-21T19:15:00",
          "2017-07-21T19:30:00",
          "2017-07-21T19:45:00",
          "2017-07-21T20:00:00",
          "2017-07-21T20:15:00",
          "2017-07-21T20:30:00",
          "2017-07-21T20:45:00",
          "2017-07-21T21:00:00",
          "2017-07-21T21:15:00",
          "2017-07-21T21:30:00",
          "2017-07-21T21:45:00",
          "2017-07-21T22:00:00",
          "2017-07-21T22:15:00",
          "2017-07-21T22:30:00",
          "2017-07-21T22:45:00",
          "2017-07-21T23:00:00",
          "2017-07-21T23:15:00",
          "2017-07-21T23:30:00",
          "2017-07-21T23:45:00"
         ],
         "y": [
          0.6552692508487276,
          0.6662895935867384,
          0.6768560411870354,
          0.6869820282264332,
          0.6942209992752677,
          0.7011258296926421,
          0.7077052943092071,
          0.7139585932745066,
          0.7187066586382931,
          0.723152806442546,
          0.7272971968391482,
          0.7311363448129039,
          0.7346628097554317,
          0.737872198084671,
          0.7407581559216996,
          0.7433161256108435,
          0.7444169724968189,
          0.7452047622476999,
          0.7456886881464665,
          0.7458782414266539,
          0.7412665472888131,
          0.7363864030119606,
          0.7312673126630418,
          0.725917042692303,
          0.7144242793737619,
          0.702568365706155,
          0.6903663693220818,
          0.6778141721082482,
          0.651680124311517,
          0.6241640469104921,
          0.5950448747853341,
          0.5639129537381893,
          0.526667544596442,
          0.4853030353283294,
          0.438270384931602,
          0.38493273360244934,
          0.3707052340329083,
          0.37108370391250844,
          0.4139980584917075,
          0.4523985315914341,
          0.4825264535074339,
          0.5094874973831495,
          0.5338072574600888,
          0.5560015027010565,
          0.5706882968994227,
          0.5844733572691215,
          0.5974662415151872,
          0.6097428395950218,
          0.6193809465800468,
          0.6285487767039859,
          0.6372842530490622,
          0.645615273755314,
          0.650872973346229,
          0.6559042869966603,
          0.6607072563068349,
          0.6653639053873118,
          0.6655551511770064,
          0.5225508946014361,
          0.6651004328944073,
          0.6648081144746218,
          0.659593984951652,
          0.6543890622869065,
          0.6490633918920172,
          0.6435499810362967,
          0.6359489150324071,
          0.6280468686385783,
          0.6198072788764656,
          0.6111863373551336,
          0.6001100422545178,
          0.5885302440365624,
          0.5763615605177316,
          0.5634933332755123,
          0.543578437399375,
          0.34582510886376683,
          0.49784882633315775,
          0.2846869085328288,
          0.25690600900955796,
          0.2251871436170711,
          0.18766501713155356,
          0.139760682457416,
          0.07647178691205624,
          0.09255970110665292,
          0.38047664741377735,
          0.41098286846642124,
          0.44072230570248905,
          0.4681995532635336,
          0.4935581773922306,
          0.5172506672277702,
          0.5358760293156324,
          0.5536210448685245,
          0.5704479250387757,
          0.5864815262692528,
          0.6017843825530348,
          0.6164077400565152,
          0.6303953043114917,
          0.6437839294891797
         ]
        },
        {
         "name": "BLOCK 00 STOREY 0 WALL 0004_1 DOOR",
         "type": "scatter",
         "x": [
          "2017-07-21T00:00:00",
          "2017-07-21T00:15:00",
          "2017-07-21T00:30:00",
          "2017-07-21T00:45:00",
          "2017-07-21T01:00:00",
          "2017-07-21T01:15:00",
          "2017-07-21T01:30:00",
          "2017-07-21T01:45:00",
          "2017-07-21T02:00:00",
          "2017-07-21T02:15:00",
          "2017-07-21T02:30:00",
          "2017-07-21T02:45:00",
          "2017-07-21T03:00:00",
          "2017-07-21T03:15:00",
          "2017-07-21T03:30:00",
          "2017-07-21T03:45:00",
          "2017-07-21T04:00:00",
          "2017-07-21T04:15:00",
          "2017-07-21T04:30:00",
          "2017-07-21T04:45:00",
          "2017-07-21T05:00:00",
          "2017-07-21T05:15:00",
          "2017-07-21T05:30:00",
          "2017-07-21T05:45:00",
          "2017-07-21T06:00:00",
          "2017-07-21T06:15:00",
          "2017-07-21T06:30:00",
          "2017-07-21T06:45:00",
          "2017-07-21T07:00:00",
          "2017-07-21T07:15:00",
          "2017-07-21T07:30:00",
          "2017-07-21T07:45:00",
          "2017-07-21T08:00:00",
          "2017-07-21T08:15:00",
          "2017-07-21T08:30:00",
          "2017-07-21T08:45:00",
          "2017-07-21T09:00:00",
          "2017-07-21T09:15:00",
          "2017-07-21T09:30:00",
          "2017-07-21T09:45:00",
          "2017-07-21T10:00:00",
          "2017-07-21T10:15:00",
          "2017-07-21T10:30:00",
          "2017-07-21T10:45:00",
          "2017-07-21T11:00:00",
          "2017-07-21T11:15:00",
          "2017-07-21T11:30:00",
          "2017-07-21T11:45:00",
          "2017-07-21T12:00:00",
          "2017-07-21T12:15:00",
          "2017-07-21T12:30:00",
          "2017-07-21T12:45:00",
          "2017-07-21T13:00:00",
          "2017-07-21T13:15:00",
          "2017-07-21T13:30:00",
          "2017-07-21T13:45:00",
          "2017-07-21T14:00:00",
          "2017-07-21T14:15:00",
          "2017-07-21T14:30:00",
          "2017-07-21T14:45:00",
          "2017-07-21T15:00:00",
          "2017-07-21T15:15:00",
          "2017-07-21T15:30:00",
          "2017-07-21T15:45:00",
          "2017-07-21T16:00:00",
          "2017-07-21T16:15:00",
          "2017-07-21T16:30:00",
          "2017-07-21T16:45:00",
          "2017-07-21T17:00:00",
          "2017-07-21T17:15:00",
          "2017-07-21T17:30:00",
          "2017-07-21T17:45:00",
          "2017-07-21T18:00:00",
          "2017-07-21T18:15:00",
          "2017-07-21T18:30:00",
          "2017-07-21T18:45:00",
          "2017-07-21T19:00:00",
          "2017-07-21T19:15:00",
          "2017-07-21T19:30:00",
          "2017-07-21T19:45:00",
          "2017-07-21T20:00:00",
          "2017-07-21T20:15:00",
          "2017-07-21T20:30:00",
          "2017-07-21T20:45:00",
          "2017-07-21T21:00:00",
          "2017-07-21T21:15:00",
          "2017-07-21T21:30:00",
          "2017-07-21T21:45:00",
          "2017-07-21T22:00:00",
          "2017-07-21T22:15:00",
          "2017-07-21T22:30:00",
          "2017-07-21T22:45:00",
          "2017-07-21T23:00:00",
          "2017-07-21T23:15:00",
          "2017-07-21T23:30:00",
          "2017-07-21T23:45:00"
         ],
         "y": [
          0,
          0,
          0,
          0,
          0,
          0,
          0,
          0,
          0,
          0,
          0,
          0,
          0,
          0,
          0,
          0,
          0,
          0,
          0,
          0,
          0,
          0,
          0,
          0,
          0,
          0,
          0,
          0,
          0,
          0,
          0,
          0,
          0,
          0,
          0,
          0,
          0,
          0,
          0,
          0,
          0,
          0,
          0,
          0,
          0,
          0,
          0,
          0,
          0,
          0,
          0,
          0,
          0,
          0,
          0,
          0,
          0,
          0,
          0,
          0,
          0,
          0,
          0,
          0,
          0,
          0,
          0,
          0,
          0,
          0,
          0,
          0,
          0,
          0,
          0,
          0,
          0,
          0,
          0,
          0,
          0,
          0,
          0,
          0,
          0,
          0,
          0,
          0,
          0,
          0,
          0,
          0,
          0,
          0,
          0,
          0
         ]
        },
        {
         "name": "BLOCK 01 STOREY 0 WALL 0004 WINDOW",
         "type": "scatter",
         "x": [
          "2017-07-21T00:00:00",
          "2017-07-21T00:15:00",
          "2017-07-21T00:30:00",
          "2017-07-21T00:45:00",
          "2017-07-21T01:00:00",
          "2017-07-21T01:15:00",
          "2017-07-21T01:30:00",
          "2017-07-21T01:45:00",
          "2017-07-21T02:00:00",
          "2017-07-21T02:15:00",
          "2017-07-21T02:30:00",
          "2017-07-21T02:45:00",
          "2017-07-21T03:00:00",
          "2017-07-21T03:15:00",
          "2017-07-21T03:30:00",
          "2017-07-21T03:45:00",
          "2017-07-21T04:00:00",
          "2017-07-21T04:15:00",
          "2017-07-21T04:30:00",
          "2017-07-21T04:45:00",
          "2017-07-21T05:00:00",
          "2017-07-21T05:15:00",
          "2017-07-21T05:30:00",
          "2017-07-21T05:45:00",
          "2017-07-21T06:00:00",
          "2017-07-21T06:15:00",
          "2017-07-21T06:30:00",
          "2017-07-21T06:45:00",
          "2017-07-21T07:00:00",
          "2017-07-21T07:15:00",
          "2017-07-21T07:30:00",
          "2017-07-21T07:45:00",
          "2017-07-21T08:00:00",
          "2017-07-21T08:15:00",
          "2017-07-21T08:30:00",
          "2017-07-21T08:45:00",
          "2017-07-21T09:00:00",
          "2017-07-21T09:15:00",
          "2017-07-21T09:30:00",
          "2017-07-21T09:45:00",
          "2017-07-21T10:00:00",
          "2017-07-21T10:15:00",
          "2017-07-21T10:30:00",
          "2017-07-21T10:45:00",
          "2017-07-21T11:00:00",
          "2017-07-21T11:15:00",
          "2017-07-21T11:30:00",
          "2017-07-21T11:45:00",
          "2017-07-21T12:00:00",
          "2017-07-21T12:15:00",
          "2017-07-21T12:30:00",
          "2017-07-21T12:45:00",
          "2017-07-21T13:00:00",
          "2017-07-21T13:15:00",
          "2017-07-21T13:30:00",
          "2017-07-21T13:45:00",
          "2017-07-21T14:00:00",
          "2017-07-21T14:15:00",
          "2017-07-21T14:30:00",
          "2017-07-21T14:45:00",
          "2017-07-21T15:00:00",
          "2017-07-21T15:15:00",
          "2017-07-21T15:30:00",
          "2017-07-21T15:45:00",
          "2017-07-21T16:00:00",
          "2017-07-21T16:15:00",
          "2017-07-21T16:30:00",
          "2017-07-21T16:45:00",
          "2017-07-21T17:00:00",
          "2017-07-21T17:15:00",
          "2017-07-21T17:30:00",
          "2017-07-21T17:45:00",
          "2017-07-21T18:00:00",
          "2017-07-21T18:15:00",
          "2017-07-21T18:30:00",
          "2017-07-21T18:45:00",
          "2017-07-21T19:00:00",
          "2017-07-21T19:15:00",
          "2017-07-21T19:30:00",
          "2017-07-21T19:45:00",
          "2017-07-21T20:00:00",
          "2017-07-21T20:15:00",
          "2017-07-21T20:30:00",
          "2017-07-21T20:45:00",
          "2017-07-21T21:00:00",
          "2017-07-21T21:15:00",
          "2017-07-21T21:30:00",
          "2017-07-21T21:45:00",
          "2017-07-21T22:00:00",
          "2017-07-21T22:15:00",
          "2017-07-21T22:30:00",
          "2017-07-21T22:45:00",
          "2017-07-21T23:00:00",
          "2017-07-21T23:15:00",
          "2017-07-21T23:30:00",
          "2017-07-21T23:45:00"
         ],
         "y": [
          0,
          0,
          0,
          0,
          0,
          0,
          0,
          0,
          0,
          0,
          0,
          0,
          0,
          0,
          0,
          0,
          0,
          0,
          0,
          0,
          0,
          0,
          0,
          0,
          0,
          0,
          0,
          0,
          0,
          0,
          0,
          0,
          0,
          0,
          0,
          0,
          0,
          0,
          0,
          0,
          0,
          0,
          0,
          0,
          0,
          0,
          0,
          0,
          0,
          0,
          0,
          0,
          0,
          0,
          0,
          0,
          0,
          0.03051538714279224,
          0,
          0,
          0,
          0,
          0,
          0,
          0,
          0,
          0,
          0,
          0,
          0,
          0,
          0,
          0,
          0.019092430504730896,
          0,
          0.015176714992155702,
          0.013404089433524011,
          0.011396854838506804,
          0.009022302993872855,
          0.0059882513456899905,
          0.0020003894764211135,
          0.003267513885364266,
          0,
          0,
          0,
          0,
          0,
          0,
          0,
          0,
          0,
          0,
          0,
          0,
          0,
          0
         ]
        }
       ],
       "layout": {
        "template": {
         "data": {
          "bar": [
           {
            "error_x": {
             "color": "#2a3f5f"
            },
            "error_y": {
             "color": "#2a3f5f"
            },
            "marker": {
             "line": {
              "color": "#E5ECF6",
              "width": 0.5
             },
             "pattern": {
              "fillmode": "overlay",
              "size": 10,
              "solidity": 0.2
             }
            },
            "type": "bar"
           }
          ],
          "barpolar": [
           {
            "marker": {
             "line": {
              "color": "#E5ECF6",
              "width": 0.5
             },
             "pattern": {
              "fillmode": "overlay",
              "size": 10,
              "solidity": 0.2
             }
            },
            "type": "barpolar"
           }
          ],
          "carpet": [
           {
            "aaxis": {
             "endlinecolor": "#2a3f5f",
             "gridcolor": "white",
             "linecolor": "white",
             "minorgridcolor": "white",
             "startlinecolor": "#2a3f5f"
            },
            "baxis": {
             "endlinecolor": "#2a3f5f",
             "gridcolor": "white",
             "linecolor": "white",
             "minorgridcolor": "white",
             "startlinecolor": "#2a3f5f"
            },
            "type": "carpet"
           }
          ],
          "choropleth": [
           {
            "colorbar": {
             "outlinewidth": 0,
             "ticks": ""
            },
            "type": "choropleth"
           }
          ],
          "contour": [
           {
            "colorbar": {
             "outlinewidth": 0,
             "ticks": ""
            },
            "colorscale": [
             [
              0,
              "#0d0887"
             ],
             [
              0.1111111111111111,
              "#46039f"
             ],
             [
              0.2222222222222222,
              "#7201a8"
             ],
             [
              0.3333333333333333,
              "#9c179e"
             ],
             [
              0.4444444444444444,
              "#bd3786"
             ],
             [
              0.5555555555555556,
              "#d8576b"
             ],
             [
              0.6666666666666666,
              "#ed7953"
             ],
             [
              0.7777777777777778,
              "#fb9f3a"
             ],
             [
              0.8888888888888888,
              "#fdca26"
             ],
             [
              1,
              "#f0f921"
             ]
            ],
            "type": "contour"
           }
          ],
          "contourcarpet": [
           {
            "colorbar": {
             "outlinewidth": 0,
             "ticks": ""
            },
            "type": "contourcarpet"
           }
          ],
          "heatmap": [
           {
            "colorbar": {
             "outlinewidth": 0,
             "ticks": ""
            },
            "colorscale": [
             [
              0,
              "#0d0887"
             ],
             [
              0.1111111111111111,
              "#46039f"
             ],
             [
              0.2222222222222222,
              "#7201a8"
             ],
             [
              0.3333333333333333,
              "#9c179e"
             ],
             [
              0.4444444444444444,
              "#bd3786"
             ],
             [
              0.5555555555555556,
              "#d8576b"
             ],
             [
              0.6666666666666666,
              "#ed7953"
             ],
             [
              0.7777777777777778,
              "#fb9f3a"
             ],
             [
              0.8888888888888888,
              "#fdca26"
             ],
             [
              1,
              "#f0f921"
             ]
            ],
            "type": "heatmap"
           }
          ],
          "heatmapgl": [
           {
            "colorbar": {
             "outlinewidth": 0,
             "ticks": ""
            },
            "colorscale": [
             [
              0,
              "#0d0887"
             ],
             [
              0.1111111111111111,
              "#46039f"
             ],
             [
              0.2222222222222222,
              "#7201a8"
             ],
             [
              0.3333333333333333,
              "#9c179e"
             ],
             [
              0.4444444444444444,
              "#bd3786"
             ],
             [
              0.5555555555555556,
              "#d8576b"
             ],
             [
              0.6666666666666666,
              "#ed7953"
             ],
             [
              0.7777777777777778,
              "#fb9f3a"
             ],
             [
              0.8888888888888888,
              "#fdca26"
             ],
             [
              1,
              "#f0f921"
             ]
            ],
            "type": "heatmapgl"
           }
          ],
          "histogram": [
           {
            "marker": {
             "pattern": {
              "fillmode": "overlay",
              "size": 10,
              "solidity": 0.2
             }
            },
            "type": "histogram"
           }
          ],
          "histogram2d": [
           {
            "colorbar": {
             "outlinewidth": 0,
             "ticks": ""
            },
            "colorscale": [
             [
              0,
              "#0d0887"
             ],
             [
              0.1111111111111111,
              "#46039f"
             ],
             [
              0.2222222222222222,
              "#7201a8"
             ],
             [
              0.3333333333333333,
              "#9c179e"
             ],
             [
              0.4444444444444444,
              "#bd3786"
             ],
             [
              0.5555555555555556,
              "#d8576b"
             ],
             [
              0.6666666666666666,
              "#ed7953"
             ],
             [
              0.7777777777777778,
              "#fb9f3a"
             ],
             [
              0.8888888888888888,
              "#fdca26"
             ],
             [
              1,
              "#f0f921"
             ]
            ],
            "type": "histogram2d"
           }
          ],
          "histogram2dcontour": [
           {
            "colorbar": {
             "outlinewidth": 0,
             "ticks": ""
            },
            "colorscale": [
             [
              0,
              "#0d0887"
             ],
             [
              0.1111111111111111,
              "#46039f"
             ],
             [
              0.2222222222222222,
              "#7201a8"
             ],
             [
              0.3333333333333333,
              "#9c179e"
             ],
             [
              0.4444444444444444,
              "#bd3786"
             ],
             [
              0.5555555555555556,
              "#d8576b"
             ],
             [
              0.6666666666666666,
              "#ed7953"
             ],
             [
              0.7777777777777778,
              "#fb9f3a"
             ],
             [
              0.8888888888888888,
              "#fdca26"
             ],
             [
              1,
              "#f0f921"
             ]
            ],
            "type": "histogram2dcontour"
           }
          ],
          "mesh3d": [
           {
            "colorbar": {
             "outlinewidth": 0,
             "ticks": ""
            },
            "type": "mesh3d"
           }
          ],
          "parcoords": [
           {
            "line": {
             "colorbar": {
              "outlinewidth": 0,
              "ticks": ""
             }
            },
            "type": "parcoords"
           }
          ],
          "pie": [
           {
            "automargin": true,
            "type": "pie"
           }
          ],
          "scatter": [
           {
            "fillpattern": {
             "fillmode": "overlay",
             "size": 10,
             "solidity": 0.2
            },
            "type": "scatter"
           }
          ],
          "scatter3d": [
           {
            "line": {
             "colorbar": {
              "outlinewidth": 0,
              "ticks": ""
             }
            },
            "marker": {
             "colorbar": {
              "outlinewidth": 0,
              "ticks": ""
             }
            },
            "type": "scatter3d"
           }
          ],
          "scattercarpet": [
           {
            "marker": {
             "colorbar": {
              "outlinewidth": 0,
              "ticks": ""
             }
            },
            "type": "scattercarpet"
           }
          ],
          "scattergeo": [
           {
            "marker": {
             "colorbar": {
              "outlinewidth": 0,
              "ticks": ""
             }
            },
            "type": "scattergeo"
           }
          ],
          "scattergl": [
           {
            "marker": {
             "colorbar": {
              "outlinewidth": 0,
              "ticks": ""
             }
            },
            "type": "scattergl"
           }
          ],
          "scattermapbox": [
           {
            "marker": {
             "colorbar": {
              "outlinewidth": 0,
              "ticks": ""
             }
            },
            "type": "scattermapbox"
           }
          ],
          "scatterpolar": [
           {
            "marker": {
             "colorbar": {
              "outlinewidth": 0,
              "ticks": ""
             }
            },
            "type": "scatterpolar"
           }
          ],
          "scatterpolargl": [
           {
            "marker": {
             "colorbar": {
              "outlinewidth": 0,
              "ticks": ""
             }
            },
            "type": "scatterpolargl"
           }
          ],
          "scatterternary": [
           {
            "marker": {
             "colorbar": {
              "outlinewidth": 0,
              "ticks": ""
             }
            },
            "type": "scatterternary"
           }
          ],
          "surface": [
           {
            "colorbar": {
             "outlinewidth": 0,
             "ticks": ""
            },
            "colorscale": [
             [
              0,
              "#0d0887"
             ],
             [
              0.1111111111111111,
              "#46039f"
             ],
             [
              0.2222222222222222,
              "#7201a8"
             ],
             [
              0.3333333333333333,
              "#9c179e"
             ],
             [
              0.4444444444444444,
              "#bd3786"
             ],
             [
              0.5555555555555556,
              "#d8576b"
             ],
             [
              0.6666666666666666,
              "#ed7953"
             ],
             [
              0.7777777777777778,
              "#fb9f3a"
             ],
             [
              0.8888888888888888,
              "#fdca26"
             ],
             [
              1,
              "#f0f921"
             ]
            ],
            "type": "surface"
           }
          ],
          "table": [
           {
            "cells": {
             "fill": {
              "color": "#EBF0F8"
             },
             "line": {
              "color": "white"
             }
            },
            "header": {
             "fill": {
              "color": "#C8D4E3"
             },
             "line": {
              "color": "white"
             }
            },
            "type": "table"
           }
          ]
         },
         "layout": {
          "annotationdefaults": {
           "arrowcolor": "#2a3f5f",
           "arrowhead": 0,
           "arrowwidth": 1
          },
          "autotypenumbers": "strict",
          "coloraxis": {
           "colorbar": {
            "outlinewidth": 0,
            "ticks": ""
           }
          },
          "colorscale": {
           "diverging": [
            [
             0,
             "#8e0152"
            ],
            [
             0.1,
             "#c51b7d"
            ],
            [
             0.2,
             "#de77ae"
            ],
            [
             0.3,
             "#f1b6da"
            ],
            [
             0.4,
             "#fde0ef"
            ],
            [
             0.5,
             "#f7f7f7"
            ],
            [
             0.6,
             "#e6f5d0"
            ],
            [
             0.7,
             "#b8e186"
            ],
            [
             0.8,
             "#7fbc41"
            ],
            [
             0.9,
             "#4d9221"
            ],
            [
             1,
             "#276419"
            ]
           ],
           "sequential": [
            [
             0,
             "#0d0887"
            ],
            [
             0.1111111111111111,
             "#46039f"
            ],
            [
             0.2222222222222222,
             "#7201a8"
            ],
            [
             0.3333333333333333,
             "#9c179e"
            ],
            [
             0.4444444444444444,
             "#bd3786"
            ],
            [
             0.5555555555555556,
             "#d8576b"
            ],
            [
             0.6666666666666666,
             "#ed7953"
            ],
            [
             0.7777777777777778,
             "#fb9f3a"
            ],
            [
             0.8888888888888888,
             "#fdca26"
            ],
            [
             1,
             "#f0f921"
            ]
           ],
           "sequentialminus": [
            [
             0,
             "#0d0887"
            ],
            [
             0.1111111111111111,
             "#46039f"
            ],
            [
             0.2222222222222222,
             "#7201a8"
            ],
            [
             0.3333333333333333,
             "#9c179e"
            ],
            [
             0.4444444444444444,
             "#bd3786"
            ],
            [
             0.5555555555555556,
             "#d8576b"
            ],
            [
             0.6666666666666666,
             "#ed7953"
            ],
            [
             0.7777777777777778,
             "#fb9f3a"
            ],
            [
             0.8888888888888888,
             "#fdca26"
            ],
            [
             1,
             "#f0f921"
            ]
           ]
          },
          "colorway": [
           "#636efa",
           "#EF553B",
           "#00cc96",
           "#ab63fa",
           "#FFA15A",
           "#19d3f3",
           "#FF6692",
           "#B6E880",
           "#FF97FF",
           "#FECB52"
          ],
          "font": {
           "color": "#2a3f5f"
          },
          "geo": {
           "bgcolor": "white",
           "lakecolor": "white",
           "landcolor": "#E5ECF6",
           "showlakes": true,
           "showland": true,
           "subunitcolor": "white"
          },
          "hoverlabel": {
           "align": "left"
          },
          "hovermode": "closest",
          "mapbox": {
           "style": "light"
          },
          "paper_bgcolor": "white",
          "plot_bgcolor": "#E5ECF6",
          "polar": {
           "angularaxis": {
            "gridcolor": "white",
            "linecolor": "white",
            "ticks": ""
           },
           "bgcolor": "#E5ECF6",
           "radialaxis": {
            "gridcolor": "white",
            "linecolor": "white",
            "ticks": ""
           }
          },
          "scene": {
           "xaxis": {
            "backgroundcolor": "#E5ECF6",
            "gridcolor": "white",
            "gridwidth": 2,
            "linecolor": "white",
            "showbackground": true,
            "ticks": "",
            "zerolinecolor": "white"
           },
           "yaxis": {
            "backgroundcolor": "#E5ECF6",
            "gridcolor": "white",
            "gridwidth": 2,
            "linecolor": "white",
            "showbackground": true,
            "ticks": "",
            "zerolinecolor": "white"
           },
           "zaxis": {
            "backgroundcolor": "#E5ECF6",
            "gridcolor": "white",
            "gridwidth": 2,
            "linecolor": "white",
            "showbackground": true,
            "ticks": "",
            "zerolinecolor": "white"
           }
          },
          "shapedefaults": {
           "line": {
            "color": "#2a3f5f"
           }
          },
          "ternary": {
           "aaxis": {
            "gridcolor": "white",
            "linecolor": "white",
            "ticks": ""
           },
           "baxis": {
            "gridcolor": "white",
            "linecolor": "white",
            "ticks": ""
           },
           "bgcolor": "#E5ECF6",
           "caxis": {
            "gridcolor": "white",
            "linecolor": "white",
            "ticks": ""
           }
          },
          "title": {
           "x": 0.05
          },
          "xaxis": {
           "automargin": true,
           "gridcolor": "white",
           "linecolor": "white",
           "ticks": "",
           "title": {
            "standoff": 15
           },
           "zerolinecolor": "white",
           "zerolinewidth": 2
          },
          "yaxis": {
           "automargin": true,
           "gridcolor": "white",
           "linecolor": "white",
           "ticks": "",
           "title": {
            "standoff": 15
           },
           "zerolinecolor": "white",
           "zerolinewidth": 2
          }
         }
        },
        "title": {
         "text": "AFN Linkage Node 1 to Node 2 Volume Flow Rate [m3/s] <br><sup> 7/21 to 7/21 between 0 and 23 @4 </sup>"
        }
       }
      }
     },
     "metadata": {},
     "output_type": "display_data"
    }
   ],
   "source": [
    "fig = go.Figure()\n",
    "\n",
    "title = None\n",
    "for dataset in linkage_datasets:\n",
    "    if dataset.header.analysis_period.st_month == 7:\n",
    "\n",
    "        fig.add_trace(go.Scatter(\n",
    "            x=dataset.datetimes, y=dataset.values, name=dataset.header.metadata[\"System\"]))\n",
    "\n",
    "        if not title:\n",
    "            print(\"creating title\")\n",
    "            title = create_plot_title(dataset)\n",
    "            fig.update_layout(title_text=title)\n",
    "    \n",
    "\n",
    "        \n",
    "fig.show()"
   ]
  },
  {
   "cell_type": "code",
   "execution_count": 39,
   "metadata": {},
   "outputs": [
    {
     "data": {
      "text/plain": [
       "'AFN Linkage Node 1 to Node 2 Volume Flow Rate [m3/s] <br><sup> 7/21 to 7/21 between 0 and 23 @4 </sup>'"
      ]
     },
     "execution_count": 39,
     "metadata": {},
     "output_type": "execute_result"
    }
   ],
   "source": [
    "create_plot_title(linkage_datasets[-3])"
   ]
  },
  {
   "cell_type": "code",
   "execution_count": 37,
   "metadata": {},
   "outputs": [
    {
     "data": {
      "text/plain": [
       "'7/21 to 7/21 between 0 and 23 @4'"
      ]
     },
     "execution_count": 37,
     "metadata": {},
     "output_type": "execute_result"
    }
   ],
   "source": [
    "str(linkage_datasets[-3].header.analysis_period)"
   ]
  },
  {
   "cell_type": "code",
   "execution_count": 34,
   "metadata": {},
   "outputs": [
    {
     "data": {
      "text/plain": [
       "{'type': 'AFN Linkage Node 1 to Node 2 Volume Flow Rate',\n",
       " 'System': 'BLOCK 00 STOREY 0 WALL 0002 DOOR'}"
      ]
     },
     "execution_count": 34,
     "metadata": {},
     "output_type": "execute_result"
    }
   ],
   "source": [
    "linkage_datasets[-3].header.metadata"
   ]
  },
  {
   "cell_type": "code",
   "execution_count": 25,
   "metadata": {},
   "outputs": [
    {
     "data": {
      "text/plain": [
       "(1.0,\n",
       " 1.0,\n",
       " 1.0,\n",
       " 1.0,\n",
       " 1.0,\n",
       " 1.0,\n",
       " 1.0,\n",
       " 1.0,\n",
       " 1.0,\n",
       " 1.0,\n",
       " 1.0,\n",
       " 1.0,\n",
       " 1.0,\n",
       " 1.0,\n",
       " 1.0,\n",
       " 1.0,\n",
       " 1.0,\n",
       " 1.0,\n",
       " 1.0,\n",
       " 1.0,\n",
       " 1.0,\n",
       " 1.0,\n",
       " 1.0,\n",
       " 1.0,\n",
       " 1.0,\n",
       " 1.0,\n",
       " 1.0,\n",
       " 1.0,\n",
       " 1.0,\n",
       " 1.0,\n",
       " 1.0,\n",
       " 1.0,\n",
       " 1.0,\n",
       " 1.0,\n",
       " 1.0,\n",
       " 1.0,\n",
       " 1.0,\n",
       " 1.0,\n",
       " 1.0,\n",
       " 1.0,\n",
       " 1.0,\n",
       " 1.0,\n",
       " 1.0,\n",
       " 1.0,\n",
       " 1.0,\n",
       " 1.0,\n",
       " 1.0,\n",
       " 1.0,\n",
       " 1.0,\n",
       " 1.0,\n",
       " 1.0,\n",
       " 1.0,\n",
       " 1.0,\n",
       " 1.0,\n",
       " 1.0,\n",
       " 1.0,\n",
       " 1.0,\n",
       " 1.0,\n",
       " 1.0,\n",
       " 1.0,\n",
       " 1.0,\n",
       " 1.0,\n",
       " 1.0,\n",
       " 1.0,\n",
       " 1.0,\n",
       " 1.0,\n",
       " 1.0,\n",
       " 1.0,\n",
       " 1.0,\n",
       " 1.0,\n",
       " 1.0,\n",
       " 1.0,\n",
       " 1.0,\n",
       " 1.0,\n",
       " 1.0,\n",
       " 1.0,\n",
       " 1.0,\n",
       " 1.0,\n",
       " 1.0,\n",
       " 1.0,\n",
       " 1.0,\n",
       " 1.0,\n",
       " 1.0,\n",
       " 1.0,\n",
       " 1.0,\n",
       " 1.0,\n",
       " 1.0,\n",
       " 1.0,\n",
       " 1.0,\n",
       " 1.0,\n",
       " 1.0,\n",
       " 1.0,\n",
       " 1.0,\n",
       " 1.0,\n",
       " 1.0,\n",
       " 1.0)"
      ]
     },
     "execution_count": 25,
     "metadata": {},
     "output_type": "execute_result"
    }
   ],
   "source": [
    "surface_venting_datasets[-3].values"
   ]
  }
 ],
 "metadata": {
  "kernelspec": {
   "display_name": "gqenv",
   "language": "python",
   "name": "python3"
  },
  "language_info": {
   "codemirror_mode": {
    "name": "ipython",
    "version": 3
   },
   "file_extension": ".py",
   "mimetype": "text/x-python",
   "name": "python",
   "nbconvert_exporter": "python",
   "pygments_lexer": "ipython3",
   "version": "3.9.15"
  }
 },
 "nbformat": 4,
 "nbformat_minor": 2
}
