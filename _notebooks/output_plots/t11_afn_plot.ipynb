{
 "cells": [
  {
   "cell_type": "code",
   "execution_count": 1,
   "metadata": {},
   "outputs": [],
   "source": [
    "import sys\n",
    "sys.path.append(\"/Users/julietnwagwuume-ezeoke/_UILCode/gqe-phd/geomeppy/_scripts\")\n",
    "\n",
    "from case_edits.ezcase import EzCase\n",
    "from case_edits.recipes.two_zone import input\n",
    "from outputs.input_classes import PlotTypes\n",
    "from datetime import time"
   ]
  },
  {
   "cell_type": "code",
   "execution_count": 2,
   "metadata": {},
   "outputs": [
    {
     "name": "stdout",
     "output_type": "stream",
     "text": [
      "Added 5 walls \n",
      "Added 4 walls \n",
      "cases/tests/test16_ezcase/out.idf\n"
     ]
    }
   ],
   "source": [
    "ez = EzCase(input, RUN_CASE=False)"
   ]
  },
  {
   "cell_type": "code",
   "execution_count": 3,
   "metadata": {},
   "outputs": [
    {
     "data": {
      "application/vnd.plotly.v1+json": {
       "config": {
        "plotlyServerURL": "https://plotly.com"
       },
       "data": [],
       "layout": {
        "autosize": false,
        "height": 400,
        "margin": {
         "b": 50,
         "l": 50,
         "pad": 4,
         "r": 50,
         "t": 50
        },
        "shapes": [
         {
          "fillcolor": "#9dd1eb",
          "label": {
           "text": "Block 00"
          },
          "type": "rect",
          "x0": 0,
          "x1": 100,
          "xref": "x",
          "y0": 70,
          "y1": 100,
          "yref": "y"
         },
         {
          "fillcolor": "#9dd1eb",
          "label": {
           "text": "Block 01"
          },
          "type": "rect",
          "x0": 0,
          "x1": 50,
          "xref": "x",
          "y0": 0,
          "y1": 70,
          "yref": "y"
         },
         {
          "fillcolor": "#a32c54",
          "label": {
           "font": {
            "color": "#a32c54",
            "size": 9
           },
           "text": "Door"
          },
          "line": {
           "color": "#a32c54",
           "width": 3
          },
          "type": "line",
          "x0": 49.5,
          "x1": 50.5,
          "xref": "x",
          "y0": 100,
          "y1": 100,
          "yref": "y"
         },
         {
          "fillcolor": "#a32c54",
          "label": {
           "font": {
            "color": "#a32c54",
            "size": 9
           },
           "text": "Door"
          },
          "line": {
           "color": "#a32c54",
           "width": 3
          },
          "type": "line",
          "x0": 24.5,
          "x1": 25.5,
          "xref": "x",
          "y0": 70,
          "y1": 70,
          "yref": "y"
         },
         {
          "fillcolor": "#a32c54",
          "label": {
           "font": {
            "color": "#a32c54",
            "size": 9
           },
           "text": "Window"
          },
          "line": {
           "color": "#a32c54",
           "width": 3
          },
          "type": "line",
          "x0": 24.75,
          "x1": 25.25,
          "xref": "x",
          "y0": 0,
          "y1": 0,
          "yref": "y"
         }
        ],
        "template": {
         "data": {
          "bar": [
           {
            "error_x": {
             "color": "#2a3f5f"
            },
            "error_y": {
             "color": "#2a3f5f"
            },
            "marker": {
             "line": {
              "color": "#E5ECF6",
              "width": 0.5
             },
             "pattern": {
              "fillmode": "overlay",
              "size": 10,
              "solidity": 0.2
             }
            },
            "type": "bar"
           }
          ],
          "barpolar": [
           {
            "marker": {
             "line": {
              "color": "#E5ECF6",
              "width": 0.5
             },
             "pattern": {
              "fillmode": "overlay",
              "size": 10,
              "solidity": 0.2
             }
            },
            "type": "barpolar"
           }
          ],
          "carpet": [
           {
            "aaxis": {
             "endlinecolor": "#2a3f5f",
             "gridcolor": "white",
             "linecolor": "white",
             "minorgridcolor": "white",
             "startlinecolor": "#2a3f5f"
            },
            "baxis": {
             "endlinecolor": "#2a3f5f",
             "gridcolor": "white",
             "linecolor": "white",
             "minorgridcolor": "white",
             "startlinecolor": "#2a3f5f"
            },
            "type": "carpet"
           }
          ],
          "choropleth": [
           {
            "colorbar": {
             "outlinewidth": 0,
             "ticks": ""
            },
            "type": "choropleth"
           }
          ],
          "contour": [
           {
            "colorbar": {
             "outlinewidth": 0,
             "ticks": ""
            },
            "colorscale": [
             [
              0,
              "#0d0887"
             ],
             [
              0.1111111111111111,
              "#46039f"
             ],
             [
              0.2222222222222222,
              "#7201a8"
             ],
             [
              0.3333333333333333,
              "#9c179e"
             ],
             [
              0.4444444444444444,
              "#bd3786"
             ],
             [
              0.5555555555555556,
              "#d8576b"
             ],
             [
              0.6666666666666666,
              "#ed7953"
             ],
             [
              0.7777777777777778,
              "#fb9f3a"
             ],
             [
              0.8888888888888888,
              "#fdca26"
             ],
             [
              1,
              "#f0f921"
             ]
            ],
            "type": "contour"
           }
          ],
          "contourcarpet": [
           {
            "colorbar": {
             "outlinewidth": 0,
             "ticks": ""
            },
            "type": "contourcarpet"
           }
          ],
          "heatmap": [
           {
            "colorbar": {
             "outlinewidth": 0,
             "ticks": ""
            },
            "colorscale": [
             [
              0,
              "#0d0887"
             ],
             [
              0.1111111111111111,
              "#46039f"
             ],
             [
              0.2222222222222222,
              "#7201a8"
             ],
             [
              0.3333333333333333,
              "#9c179e"
             ],
             [
              0.4444444444444444,
              "#bd3786"
             ],
             [
              0.5555555555555556,
              "#d8576b"
             ],
             [
              0.6666666666666666,
              "#ed7953"
             ],
             [
              0.7777777777777778,
              "#fb9f3a"
             ],
             [
              0.8888888888888888,
              "#fdca26"
             ],
             [
              1,
              "#f0f921"
             ]
            ],
            "type": "heatmap"
           }
          ],
          "heatmapgl": [
           {
            "colorbar": {
             "outlinewidth": 0,
             "ticks": ""
            },
            "colorscale": [
             [
              0,
              "#0d0887"
             ],
             [
              0.1111111111111111,
              "#46039f"
             ],
             [
              0.2222222222222222,
              "#7201a8"
             ],
             [
              0.3333333333333333,
              "#9c179e"
             ],
             [
              0.4444444444444444,
              "#bd3786"
             ],
             [
              0.5555555555555556,
              "#d8576b"
             ],
             [
              0.6666666666666666,
              "#ed7953"
             ],
             [
              0.7777777777777778,
              "#fb9f3a"
             ],
             [
              0.8888888888888888,
              "#fdca26"
             ],
             [
              1,
              "#f0f921"
             ]
            ],
            "type": "heatmapgl"
           }
          ],
          "histogram": [
           {
            "marker": {
             "pattern": {
              "fillmode": "overlay",
              "size": 10,
              "solidity": 0.2
             }
            },
            "type": "histogram"
           }
          ],
          "histogram2d": [
           {
            "colorbar": {
             "outlinewidth": 0,
             "ticks": ""
            },
            "colorscale": [
             [
              0,
              "#0d0887"
             ],
             [
              0.1111111111111111,
              "#46039f"
             ],
             [
              0.2222222222222222,
              "#7201a8"
             ],
             [
              0.3333333333333333,
              "#9c179e"
             ],
             [
              0.4444444444444444,
              "#bd3786"
             ],
             [
              0.5555555555555556,
              "#d8576b"
             ],
             [
              0.6666666666666666,
              "#ed7953"
             ],
             [
              0.7777777777777778,
              "#fb9f3a"
             ],
             [
              0.8888888888888888,
              "#fdca26"
             ],
             [
              1,
              "#f0f921"
             ]
            ],
            "type": "histogram2d"
           }
          ],
          "histogram2dcontour": [
           {
            "colorbar": {
             "outlinewidth": 0,
             "ticks": ""
            },
            "colorscale": [
             [
              0,
              "#0d0887"
             ],
             [
              0.1111111111111111,
              "#46039f"
             ],
             [
              0.2222222222222222,
              "#7201a8"
             ],
             [
              0.3333333333333333,
              "#9c179e"
             ],
             [
              0.4444444444444444,
              "#bd3786"
             ],
             [
              0.5555555555555556,
              "#d8576b"
             ],
             [
              0.6666666666666666,
              "#ed7953"
             ],
             [
              0.7777777777777778,
              "#fb9f3a"
             ],
             [
              0.8888888888888888,
              "#fdca26"
             ],
             [
              1,
              "#f0f921"
             ]
            ],
            "type": "histogram2dcontour"
           }
          ],
          "mesh3d": [
           {
            "colorbar": {
             "outlinewidth": 0,
             "ticks": ""
            },
            "type": "mesh3d"
           }
          ],
          "parcoords": [
           {
            "line": {
             "colorbar": {
              "outlinewidth": 0,
              "ticks": ""
             }
            },
            "type": "parcoords"
           }
          ],
          "pie": [
           {
            "automargin": true,
            "type": "pie"
           }
          ],
          "scatter": [
           {
            "fillpattern": {
             "fillmode": "overlay",
             "size": 10,
             "solidity": 0.2
            },
            "type": "scatter"
           }
          ],
          "scatter3d": [
           {
            "line": {
             "colorbar": {
              "outlinewidth": 0,
              "ticks": ""
             }
            },
            "marker": {
             "colorbar": {
              "outlinewidth": 0,
              "ticks": ""
             }
            },
            "type": "scatter3d"
           }
          ],
          "scattercarpet": [
           {
            "marker": {
             "colorbar": {
              "outlinewidth": 0,
              "ticks": ""
             }
            },
            "type": "scattercarpet"
           }
          ],
          "scattergeo": [
           {
            "marker": {
             "colorbar": {
              "outlinewidth": 0,
              "ticks": ""
             }
            },
            "type": "scattergeo"
           }
          ],
          "scattergl": [
           {
            "marker": {
             "colorbar": {
              "outlinewidth": 0,
              "ticks": ""
             }
            },
            "type": "scattergl"
           }
          ],
          "scattermapbox": [
           {
            "marker": {
             "colorbar": {
              "outlinewidth": 0,
              "ticks": ""
             }
            },
            "type": "scattermapbox"
           }
          ],
          "scatterpolar": [
           {
            "marker": {
             "colorbar": {
              "outlinewidth": 0,
              "ticks": ""
             }
            },
            "type": "scatterpolar"
           }
          ],
          "scatterpolargl": [
           {
            "marker": {
             "colorbar": {
              "outlinewidth": 0,
              "ticks": ""
             }
            },
            "type": "scatterpolargl"
           }
          ],
          "scatterternary": [
           {
            "marker": {
             "colorbar": {
              "outlinewidth": 0,
              "ticks": ""
             }
            },
            "type": "scatterternary"
           }
          ],
          "surface": [
           {
            "colorbar": {
             "outlinewidth": 0,
             "ticks": ""
            },
            "colorscale": [
             [
              0,
              "#0d0887"
             ],
             [
              0.1111111111111111,
              "#46039f"
             ],
             [
              0.2222222222222222,
              "#7201a8"
             ],
             [
              0.3333333333333333,
              "#9c179e"
             ],
             [
              0.4444444444444444,
              "#bd3786"
             ],
             [
              0.5555555555555556,
              "#d8576b"
             ],
             [
              0.6666666666666666,
              "#ed7953"
             ],
             [
              0.7777777777777778,
              "#fb9f3a"
             ],
             [
              0.8888888888888888,
              "#fdca26"
             ],
             [
              1,
              "#f0f921"
             ]
            ],
            "type": "surface"
           }
          ],
          "table": [
           {
            "cells": {
             "fill": {
              "color": "#EBF0F8"
             },
             "line": {
              "color": "white"
             }
            },
            "header": {
             "fill": {
              "color": "#C8D4E3"
             },
             "line": {
              "color": "white"
             }
            },
            "type": "table"
           }
          ]
         },
         "layout": {
          "annotationdefaults": {
           "arrowcolor": "#2a3f5f",
           "arrowhead": 0,
           "arrowwidth": 1
          },
          "autotypenumbers": "strict",
          "coloraxis": {
           "colorbar": {
            "outlinewidth": 0,
            "ticks": ""
           }
          },
          "colorscale": {
           "diverging": [
            [
             0,
             "#8e0152"
            ],
            [
             0.1,
             "#c51b7d"
            ],
            [
             0.2,
             "#de77ae"
            ],
            [
             0.3,
             "#f1b6da"
            ],
            [
             0.4,
             "#fde0ef"
            ],
            [
             0.5,
             "#f7f7f7"
            ],
            [
             0.6,
             "#e6f5d0"
            ],
            [
             0.7,
             "#b8e186"
            ],
            [
             0.8,
             "#7fbc41"
            ],
            [
             0.9,
             "#4d9221"
            ],
            [
             1,
             "#276419"
            ]
           ],
           "sequential": [
            [
             0,
             "#0d0887"
            ],
            [
             0.1111111111111111,
             "#46039f"
            ],
            [
             0.2222222222222222,
             "#7201a8"
            ],
            [
             0.3333333333333333,
             "#9c179e"
            ],
            [
             0.4444444444444444,
             "#bd3786"
            ],
            [
             0.5555555555555556,
             "#d8576b"
            ],
            [
             0.6666666666666666,
             "#ed7953"
            ],
            [
             0.7777777777777778,
             "#fb9f3a"
            ],
            [
             0.8888888888888888,
             "#fdca26"
            ],
            [
             1,
             "#f0f921"
            ]
           ],
           "sequentialminus": [
            [
             0,
             "#0d0887"
            ],
            [
             0.1111111111111111,
             "#46039f"
            ],
            [
             0.2222222222222222,
             "#7201a8"
            ],
            [
             0.3333333333333333,
             "#9c179e"
            ],
            [
             0.4444444444444444,
             "#bd3786"
            ],
            [
             0.5555555555555556,
             "#d8576b"
            ],
            [
             0.6666666666666666,
             "#ed7953"
            ],
            [
             0.7777777777777778,
             "#fb9f3a"
            ],
            [
             0.8888888888888888,
             "#fdca26"
            ],
            [
             1,
             "#f0f921"
            ]
           ]
          },
          "colorway": [
           "#636efa",
           "#EF553B",
           "#00cc96",
           "#ab63fa",
           "#FFA15A",
           "#19d3f3",
           "#FF6692",
           "#B6E880",
           "#FF97FF",
           "#FECB52"
          ],
          "font": {
           "color": "#2a3f5f"
          },
          "geo": {
           "bgcolor": "white",
           "lakecolor": "white",
           "landcolor": "#E5ECF6",
           "showlakes": true,
           "showland": true,
           "subunitcolor": "white"
          },
          "hoverlabel": {
           "align": "left"
          },
          "hovermode": "closest",
          "mapbox": {
           "style": "light"
          },
          "paper_bgcolor": "white",
          "plot_bgcolor": "#E5ECF6",
          "polar": {
           "angularaxis": {
            "gridcolor": "white",
            "linecolor": "white",
            "ticks": ""
           },
           "bgcolor": "#E5ECF6",
           "radialaxis": {
            "gridcolor": "white",
            "linecolor": "white",
            "ticks": ""
           }
          },
          "scene": {
           "xaxis": {
            "backgroundcolor": "#E5ECF6",
            "gridcolor": "white",
            "gridwidth": 2,
            "linecolor": "white",
            "showbackground": true,
            "ticks": "",
            "zerolinecolor": "white"
           },
           "yaxis": {
            "backgroundcolor": "#E5ECF6",
            "gridcolor": "white",
            "gridwidth": 2,
            "linecolor": "white",
            "showbackground": true,
            "ticks": "",
            "zerolinecolor": "white"
           },
           "zaxis": {
            "backgroundcolor": "#E5ECF6",
            "gridcolor": "white",
            "gridwidth": 2,
            "linecolor": "white",
            "showbackground": true,
            "ticks": "",
            "zerolinecolor": "white"
           }
          },
          "shapedefaults": {
           "line": {
            "color": "#2a3f5f"
           }
          },
          "ternary": {
           "aaxis": {
            "gridcolor": "white",
            "linecolor": "white",
            "ticks": ""
           },
           "baxis": {
            "gridcolor": "white",
            "linecolor": "white",
            "ticks": ""
           },
           "bgcolor": "#E5ECF6",
           "caxis": {
            "gridcolor": "white",
            "linecolor": "white",
            "ticks": ""
           }
          },
          "title": {
           "x": 0.05
          },
          "xaxis": {
           "automargin": true,
           "gridcolor": "white",
           "linecolor": "white",
           "ticks": "",
           "title": {
            "standoff": 15
           },
           "zerolinecolor": "white",
           "zerolinewidth": 2
          },
          "yaxis": {
           "automargin": true,
           "gridcolor": "white",
           "linecolor": "white",
           "ticks": "",
           "title": {
            "standoff": 15
           },
           "zerolinecolor": "white",
           "zerolinewidth": 2
          }
         }
        },
        "width": 400,
        "xaxis": {
         "range": [
          -20,
          120
         ]
        },
        "yaxis": {
         "range": [
          -20,
          120
         ]
        }
       }
      }
     },
     "metadata": {},
     "output_type": "display_data"
    }
   ],
   "source": [
    "ez.show_base_plot()"
   ]
  },
  {
   "cell_type": "code",
   "execution_count": 3,
   "metadata": {},
   "outputs": [],
   "source": [
    "\n",
    "ez.plt.get_collection_for_variable(ez.eligible_vars.zone_mean_air_temp)\n",
    "ez.plt.set_analysis_period(0)\n",
    "# ez.show_eligible_outputs()"
   ]
  },
  {
   "cell_type": "code",
   "execution_count": 4,
   "metadata": {},
   "outputs": [
    {
     "data": {
      "application/vnd.plotly.v1+json": {
       "config": {
        "plotlyServerURL": "https://plotly.com"
       },
       "data": [
        {
         "name": "Environment",
         "type": "scatter",
         "x": [
          "2017-07-01T00:00:00",
          "2017-07-01T00:15:00",
          "2017-07-01T00:30:00",
          "2017-07-01T00:45:00",
          "2017-07-01T01:00:00",
          "2017-07-01T01:15:00",
          "2017-07-01T01:30:00",
          "2017-07-01T01:45:00",
          "2017-07-01T02:00:00",
          "2017-07-01T02:15:00",
          "2017-07-01T02:30:00",
          "2017-07-01T02:45:00",
          "2017-07-01T03:00:00",
          "2017-07-01T03:15:00",
          "2017-07-01T03:30:00",
          "2017-07-01T03:45:00",
          "2017-07-01T04:00:00",
          "2017-07-01T04:15:00",
          "2017-07-01T04:30:00",
          "2017-07-01T04:45:00",
          "2017-07-01T05:00:00",
          "2017-07-01T05:15:00",
          "2017-07-01T05:30:00",
          "2017-07-01T05:45:00",
          "2017-07-01T06:00:00",
          "2017-07-01T06:15:00",
          "2017-07-01T06:30:00",
          "2017-07-01T06:45:00",
          "2017-07-01T07:00:00",
          "2017-07-01T07:15:00",
          "2017-07-01T07:30:00",
          "2017-07-01T07:45:00",
          "2017-07-01T08:00:00",
          "2017-07-01T08:15:00",
          "2017-07-01T08:30:00",
          "2017-07-01T08:45:00",
          "2017-07-01T09:00:00",
          "2017-07-01T09:15:00",
          "2017-07-01T09:30:00",
          "2017-07-01T09:45:00",
          "2017-07-01T10:00:00",
          "2017-07-01T10:15:00",
          "2017-07-01T10:30:00",
          "2017-07-01T10:45:00",
          "2017-07-01T11:00:00",
          "2017-07-01T11:15:00",
          "2017-07-01T11:30:00",
          "2017-07-01T11:45:00",
          "2017-07-01T12:00:00",
          "2017-07-01T12:15:00",
          "2017-07-01T12:30:00",
          "2017-07-01T12:45:00",
          "2017-07-01T13:00:00",
          "2017-07-01T13:15:00",
          "2017-07-01T13:30:00",
          "2017-07-01T13:45:00",
          "2017-07-01T14:00:00",
          "2017-07-01T14:15:00",
          "2017-07-01T14:30:00",
          "2017-07-01T14:45:00",
          "2017-07-01T15:00:00",
          "2017-07-01T15:15:00",
          "2017-07-01T15:30:00",
          "2017-07-01T15:45:00",
          "2017-07-01T16:00:00",
          "2017-07-01T16:15:00",
          "2017-07-01T16:30:00",
          "2017-07-01T16:45:00",
          "2017-07-01T17:00:00",
          "2017-07-01T17:15:00",
          "2017-07-01T17:30:00",
          "2017-07-01T17:45:00",
          "2017-07-01T18:00:00",
          "2017-07-01T18:15:00",
          "2017-07-01T18:30:00",
          "2017-07-01T18:45:00",
          "2017-07-01T19:00:00",
          "2017-07-01T19:15:00",
          "2017-07-01T19:30:00",
          "2017-07-01T19:45:00",
          "2017-07-01T20:00:00",
          "2017-07-01T20:15:00",
          "2017-07-01T20:30:00",
          "2017-07-01T20:45:00",
          "2017-07-01T21:00:00",
          "2017-07-01T21:15:00",
          "2017-07-01T21:30:00",
          "2017-07-01T21:45:00",
          "2017-07-01T22:00:00",
          "2017-07-01T22:15:00",
          "2017-07-01T22:30:00",
          "2017-07-01T22:45:00",
          "2017-07-01T23:00:00",
          "2017-07-01T23:15:00",
          "2017-07-01T23:30:00",
          "2017-07-01T23:45:00"
         ],
         "y": [
          17.650000000000002,
          17.200000000000003,
          16.75,
          16.3,
          16.225,
          16.15,
          16.075,
          16,
          15.925,
          15.85,
          15.774999999999999,
          15.7,
          15.599999999999998,
          15.5,
          15.400000000000002,
          15.3,
          15.225000000000001,
          15.15,
          15.075,
          15,
          15.1,
          15.2,
          15.3,
          15.4,
          15.850000000000001,
          16.3,
          16.75,
          17.2,
          17.45,
          17.7,
          17.95,
          18.2,
          18.45,
          18.7,
          18.95,
          19.2,
          19.5,
          19.799999999999997,
          20.099999999999998,
          20.4,
          20.9,
          21.4,
          21.9,
          22.4,
          22.949999999999996,
          23.5,
          24.050000000000004,
          24.6,
          24.825000000000003,
          25.05,
          25.275,
          25.5,
          25.575,
          25.65,
          25.725,
          25.8,
          25.55,
          25.3,
          25.05,
          24.8,
          24.55,
          24.3,
          24.05,
          23.8,
          23.55,
          23.3,
          23.05,
          22.8,
          22.55,
          22.3,
          22.05,
          21.8,
          21.5,
          21.200000000000003,
          20.900000000000002,
          20.6,
          20.35,
          20.1,
          19.85,
          19.6,
          19.525000000000002,
          19.450000000000003,
          19.375,
          19.3,
          19.200000000000003,
          19.1,
          19,
          18.9,
          18.799999999999997,
          18.7,
          18.6,
          18.5,
          18.4,
          18.3,
          18.200000000000003,
          18.1
         ]
        }
       ],
       "layout": {
        "template": {
         "data": {
          "bar": [
           {
            "error_x": {
             "color": "#2a3f5f"
            },
            "error_y": {
             "color": "#2a3f5f"
            },
            "marker": {
             "line": {
              "color": "#E5ECF6",
              "width": 0.5
             },
             "pattern": {
              "fillmode": "overlay",
              "size": 10,
              "solidity": 0.2
             }
            },
            "type": "bar"
           }
          ],
          "barpolar": [
           {
            "marker": {
             "line": {
              "color": "#E5ECF6",
              "width": 0.5
             },
             "pattern": {
              "fillmode": "overlay",
              "size": 10,
              "solidity": 0.2
             }
            },
            "type": "barpolar"
           }
          ],
          "carpet": [
           {
            "aaxis": {
             "endlinecolor": "#2a3f5f",
             "gridcolor": "white",
             "linecolor": "white",
             "minorgridcolor": "white",
             "startlinecolor": "#2a3f5f"
            },
            "baxis": {
             "endlinecolor": "#2a3f5f",
             "gridcolor": "white",
             "linecolor": "white",
             "minorgridcolor": "white",
             "startlinecolor": "#2a3f5f"
            },
            "type": "carpet"
           }
          ],
          "choropleth": [
           {
            "colorbar": {
             "outlinewidth": 0,
             "ticks": ""
            },
            "type": "choropleth"
           }
          ],
          "contour": [
           {
            "colorbar": {
             "outlinewidth": 0,
             "ticks": ""
            },
            "colorscale": [
             [
              0,
              "#0d0887"
             ],
             [
              0.1111111111111111,
              "#46039f"
             ],
             [
              0.2222222222222222,
              "#7201a8"
             ],
             [
              0.3333333333333333,
              "#9c179e"
             ],
             [
              0.4444444444444444,
              "#bd3786"
             ],
             [
              0.5555555555555556,
              "#d8576b"
             ],
             [
              0.6666666666666666,
              "#ed7953"
             ],
             [
              0.7777777777777778,
              "#fb9f3a"
             ],
             [
              0.8888888888888888,
              "#fdca26"
             ],
             [
              1,
              "#f0f921"
             ]
            ],
            "type": "contour"
           }
          ],
          "contourcarpet": [
           {
            "colorbar": {
             "outlinewidth": 0,
             "ticks": ""
            },
            "type": "contourcarpet"
           }
          ],
          "heatmap": [
           {
            "colorbar": {
             "outlinewidth": 0,
             "ticks": ""
            },
            "colorscale": [
             [
              0,
              "#0d0887"
             ],
             [
              0.1111111111111111,
              "#46039f"
             ],
             [
              0.2222222222222222,
              "#7201a8"
             ],
             [
              0.3333333333333333,
              "#9c179e"
             ],
             [
              0.4444444444444444,
              "#bd3786"
             ],
             [
              0.5555555555555556,
              "#d8576b"
             ],
             [
              0.6666666666666666,
              "#ed7953"
             ],
             [
              0.7777777777777778,
              "#fb9f3a"
             ],
             [
              0.8888888888888888,
              "#fdca26"
             ],
             [
              1,
              "#f0f921"
             ]
            ],
            "type": "heatmap"
           }
          ],
          "heatmapgl": [
           {
            "colorbar": {
             "outlinewidth": 0,
             "ticks": ""
            },
            "colorscale": [
             [
              0,
              "#0d0887"
             ],
             [
              0.1111111111111111,
              "#46039f"
             ],
             [
              0.2222222222222222,
              "#7201a8"
             ],
             [
              0.3333333333333333,
              "#9c179e"
             ],
             [
              0.4444444444444444,
              "#bd3786"
             ],
             [
              0.5555555555555556,
              "#d8576b"
             ],
             [
              0.6666666666666666,
              "#ed7953"
             ],
             [
              0.7777777777777778,
              "#fb9f3a"
             ],
             [
              0.8888888888888888,
              "#fdca26"
             ],
             [
              1,
              "#f0f921"
             ]
            ],
            "type": "heatmapgl"
           }
          ],
          "histogram": [
           {
            "marker": {
             "pattern": {
              "fillmode": "overlay",
              "size": 10,
              "solidity": 0.2
             }
            },
            "type": "histogram"
           }
          ],
          "histogram2d": [
           {
            "colorbar": {
             "outlinewidth": 0,
             "ticks": ""
            },
            "colorscale": [
             [
              0,
              "#0d0887"
             ],
             [
              0.1111111111111111,
              "#46039f"
             ],
             [
              0.2222222222222222,
              "#7201a8"
             ],
             [
              0.3333333333333333,
              "#9c179e"
             ],
             [
              0.4444444444444444,
              "#bd3786"
             ],
             [
              0.5555555555555556,
              "#d8576b"
             ],
             [
              0.6666666666666666,
              "#ed7953"
             ],
             [
              0.7777777777777778,
              "#fb9f3a"
             ],
             [
              0.8888888888888888,
              "#fdca26"
             ],
             [
              1,
              "#f0f921"
             ]
            ],
            "type": "histogram2d"
           }
          ],
          "histogram2dcontour": [
           {
            "colorbar": {
             "outlinewidth": 0,
             "ticks": ""
            },
            "colorscale": [
             [
              0,
              "#0d0887"
             ],
             [
              0.1111111111111111,
              "#46039f"
             ],
             [
              0.2222222222222222,
              "#7201a8"
             ],
             [
              0.3333333333333333,
              "#9c179e"
             ],
             [
              0.4444444444444444,
              "#bd3786"
             ],
             [
              0.5555555555555556,
              "#d8576b"
             ],
             [
              0.6666666666666666,
              "#ed7953"
             ],
             [
              0.7777777777777778,
              "#fb9f3a"
             ],
             [
              0.8888888888888888,
              "#fdca26"
             ],
             [
              1,
              "#f0f921"
             ]
            ],
            "type": "histogram2dcontour"
           }
          ],
          "mesh3d": [
           {
            "colorbar": {
             "outlinewidth": 0,
             "ticks": ""
            },
            "type": "mesh3d"
           }
          ],
          "parcoords": [
           {
            "line": {
             "colorbar": {
              "outlinewidth": 0,
              "ticks": ""
             }
            },
            "type": "parcoords"
           }
          ],
          "pie": [
           {
            "automargin": true,
            "type": "pie"
           }
          ],
          "scatter": [
           {
            "fillpattern": {
             "fillmode": "overlay",
             "size": 10,
             "solidity": 0.2
            },
            "type": "scatter"
           }
          ],
          "scatter3d": [
           {
            "line": {
             "colorbar": {
              "outlinewidth": 0,
              "ticks": ""
             }
            },
            "marker": {
             "colorbar": {
              "outlinewidth": 0,
              "ticks": ""
             }
            },
            "type": "scatter3d"
           }
          ],
          "scattercarpet": [
           {
            "marker": {
             "colorbar": {
              "outlinewidth": 0,
              "ticks": ""
             }
            },
            "type": "scattercarpet"
           }
          ],
          "scattergeo": [
           {
            "marker": {
             "colorbar": {
              "outlinewidth": 0,
              "ticks": ""
             }
            },
            "type": "scattergeo"
           }
          ],
          "scattergl": [
           {
            "marker": {
             "colorbar": {
              "outlinewidth": 0,
              "ticks": ""
             }
            },
            "type": "scattergl"
           }
          ],
          "scattermapbox": [
           {
            "marker": {
             "colorbar": {
              "outlinewidth": 0,
              "ticks": ""
             }
            },
            "type": "scattermapbox"
           }
          ],
          "scatterpolar": [
           {
            "marker": {
             "colorbar": {
              "outlinewidth": 0,
              "ticks": ""
             }
            },
            "type": "scatterpolar"
           }
          ],
          "scatterpolargl": [
           {
            "marker": {
             "colorbar": {
              "outlinewidth": 0,
              "ticks": ""
             }
            },
            "type": "scatterpolargl"
           }
          ],
          "scatterternary": [
           {
            "marker": {
             "colorbar": {
              "outlinewidth": 0,
              "ticks": ""
             }
            },
            "type": "scatterternary"
           }
          ],
          "surface": [
           {
            "colorbar": {
             "outlinewidth": 0,
             "ticks": ""
            },
            "colorscale": [
             [
              0,
              "#0d0887"
             ],
             [
              0.1111111111111111,
              "#46039f"
             ],
             [
              0.2222222222222222,
              "#7201a8"
             ],
             [
              0.3333333333333333,
              "#9c179e"
             ],
             [
              0.4444444444444444,
              "#bd3786"
             ],
             [
              0.5555555555555556,
              "#d8576b"
             ],
             [
              0.6666666666666666,
              "#ed7953"
             ],
             [
              0.7777777777777778,
              "#fb9f3a"
             ],
             [
              0.8888888888888888,
              "#fdca26"
             ],
             [
              1,
              "#f0f921"
             ]
            ],
            "type": "surface"
           }
          ],
          "table": [
           {
            "cells": {
             "fill": {
              "color": "#EBF0F8"
             },
             "line": {
              "color": "white"
             }
            },
            "header": {
             "fill": {
              "color": "#C8D4E3"
             },
             "line": {
              "color": "white"
             }
            },
            "type": "table"
           }
          ]
         },
         "layout": {
          "annotationdefaults": {
           "arrowcolor": "#2a3f5f",
           "arrowhead": 0,
           "arrowwidth": 1
          },
          "autotypenumbers": "strict",
          "coloraxis": {
           "colorbar": {
            "outlinewidth": 0,
            "ticks": ""
           }
          },
          "colorscale": {
           "diverging": [
            [
             0,
             "#8e0152"
            ],
            [
             0.1,
             "#c51b7d"
            ],
            [
             0.2,
             "#de77ae"
            ],
            [
             0.3,
             "#f1b6da"
            ],
            [
             0.4,
             "#fde0ef"
            ],
            [
             0.5,
             "#f7f7f7"
            ],
            [
             0.6,
             "#e6f5d0"
            ],
            [
             0.7,
             "#b8e186"
            ],
            [
             0.8,
             "#7fbc41"
            ],
            [
             0.9,
             "#4d9221"
            ],
            [
             1,
             "#276419"
            ]
           ],
           "sequential": [
            [
             0,
             "#0d0887"
            ],
            [
             0.1111111111111111,
             "#46039f"
            ],
            [
             0.2222222222222222,
             "#7201a8"
            ],
            [
             0.3333333333333333,
             "#9c179e"
            ],
            [
             0.4444444444444444,
             "#bd3786"
            ],
            [
             0.5555555555555556,
             "#d8576b"
            ],
            [
             0.6666666666666666,
             "#ed7953"
            ],
            [
             0.7777777777777778,
             "#fb9f3a"
            ],
            [
             0.8888888888888888,
             "#fdca26"
            ],
            [
             1,
             "#f0f921"
            ]
           ],
           "sequentialminus": [
            [
             0,
             "#0d0887"
            ],
            [
             0.1111111111111111,
             "#46039f"
            ],
            [
             0.2222222222222222,
             "#7201a8"
            ],
            [
             0.3333333333333333,
             "#9c179e"
            ],
            [
             0.4444444444444444,
             "#bd3786"
            ],
            [
             0.5555555555555556,
             "#d8576b"
            ],
            [
             0.6666666666666666,
             "#ed7953"
            ],
            [
             0.7777777777777778,
             "#fb9f3a"
            ],
            [
             0.8888888888888888,
             "#fdca26"
            ],
            [
             1,
             "#f0f921"
            ]
           ]
          },
          "colorway": [
           "#636efa",
           "#EF553B",
           "#00cc96",
           "#ab63fa",
           "#FFA15A",
           "#19d3f3",
           "#FF6692",
           "#B6E880",
           "#FF97FF",
           "#FECB52"
          ],
          "font": {
           "color": "#2a3f5f"
          },
          "geo": {
           "bgcolor": "white",
           "lakecolor": "white",
           "landcolor": "#E5ECF6",
           "showlakes": true,
           "showland": true,
           "subunitcolor": "white"
          },
          "hoverlabel": {
           "align": "left"
          },
          "hovermode": "closest",
          "mapbox": {
           "style": "light"
          },
          "paper_bgcolor": "white",
          "plot_bgcolor": "#E5ECF6",
          "polar": {
           "angularaxis": {
            "gridcolor": "white",
            "linecolor": "white",
            "ticks": ""
           },
           "bgcolor": "#E5ECF6",
           "radialaxis": {
            "gridcolor": "white",
            "linecolor": "white",
            "ticks": ""
           }
          },
          "scene": {
           "xaxis": {
            "backgroundcolor": "#E5ECF6",
            "gridcolor": "white",
            "gridwidth": 2,
            "linecolor": "white",
            "showbackground": true,
            "ticks": "",
            "zerolinecolor": "white"
           },
           "yaxis": {
            "backgroundcolor": "#E5ECF6",
            "gridcolor": "white",
            "gridwidth": 2,
            "linecolor": "white",
            "showbackground": true,
            "ticks": "",
            "zerolinecolor": "white"
           },
           "zaxis": {
            "backgroundcolor": "#E5ECF6",
            "gridcolor": "white",
            "gridwidth": 2,
            "linecolor": "white",
            "showbackground": true,
            "ticks": "",
            "zerolinecolor": "white"
           }
          },
          "shapedefaults": {
           "line": {
            "color": "#2a3f5f"
           }
          },
          "ternary": {
           "aaxis": {
            "gridcolor": "white",
            "linecolor": "white",
            "ticks": ""
           },
           "baxis": {
            "gridcolor": "white",
            "linecolor": "white",
            "ticks": ""
           },
           "bgcolor": "#E5ECF6",
           "caxis": {
            "gridcolor": "white",
            "linecolor": "white",
            "ticks": ""
           }
          },
          "title": {
           "x": 0.05
          },
          "xaxis": {
           "automargin": true,
           "gridcolor": "white",
           "linecolor": "white",
           "ticks": "",
           "title": {
            "standoff": 15
           },
           "zerolinecolor": "white",
           "zerolinewidth": 2
          },
          "yaxis": {
           "automargin": true,
           "gridcolor": "white",
           "linecolor": "white",
           "ticks": "",
           "title": {
            "standoff": 15
           },
           "zerolinecolor": "white",
           "zerolinewidth": 2
          }
         }
        },
        "title": {
         "text": "Site Outdoor Air Drybulb Temperature [C] <br><sup> 7/1 to 7/1 between 0 and 23 @4 </sup>"
        }
       }
      }
     },
     "metadata": {},
     "output_type": "display_data"
    }
   ],
   "source": [
    "ez.plt.get_collection_for_variable(ez.eligible_vars.site_db_temp)\n",
    "ez.plt.create_plot()"
   ]
  },
  {
   "cell_type": "code",
   "execution_count": 5,
   "metadata": {},
   "outputs": [
    {
     "data": {
      "application/vnd.plotly.v1+json": {
       "config": {
        "plotlyServerURL": "https://plotly.com"
       },
       "data": [
        {
         "name": "Environment",
         "type": "scatter",
         "x": [
          "2017-07-01T00:00:00",
          "2017-07-01T00:15:00",
          "2017-07-01T00:30:00",
          "2017-07-01T00:45:00",
          "2017-07-01T01:00:00",
          "2017-07-01T01:15:00",
          "2017-07-01T01:30:00",
          "2017-07-01T01:45:00",
          "2017-07-01T02:00:00",
          "2017-07-01T02:15:00",
          "2017-07-01T02:30:00",
          "2017-07-01T02:45:00",
          "2017-07-01T03:00:00",
          "2017-07-01T03:15:00",
          "2017-07-01T03:30:00",
          "2017-07-01T03:45:00",
          "2017-07-01T04:00:00",
          "2017-07-01T04:15:00",
          "2017-07-01T04:30:00",
          "2017-07-01T04:45:00",
          "2017-07-01T05:00:00",
          "2017-07-01T05:15:00",
          "2017-07-01T05:30:00",
          "2017-07-01T05:45:00",
          "2017-07-01T06:00:00",
          "2017-07-01T06:15:00",
          "2017-07-01T06:30:00",
          "2017-07-01T06:45:00",
          "2017-07-01T07:00:00",
          "2017-07-01T07:15:00",
          "2017-07-01T07:30:00",
          "2017-07-01T07:45:00",
          "2017-07-01T08:00:00",
          "2017-07-01T08:15:00",
          "2017-07-01T08:30:00",
          "2017-07-01T08:45:00",
          "2017-07-01T09:00:00",
          "2017-07-01T09:15:00",
          "2017-07-01T09:30:00",
          "2017-07-01T09:45:00",
          "2017-07-01T10:00:00",
          "2017-07-01T10:15:00",
          "2017-07-01T10:30:00",
          "2017-07-01T10:45:00",
          "2017-07-01T11:00:00",
          "2017-07-01T11:15:00",
          "2017-07-01T11:30:00",
          "2017-07-01T11:45:00",
          "2017-07-01T12:00:00",
          "2017-07-01T12:15:00",
          "2017-07-01T12:30:00",
          "2017-07-01T12:45:00",
          "2017-07-01T13:00:00",
          "2017-07-01T13:15:00",
          "2017-07-01T13:30:00",
          "2017-07-01T13:45:00",
          "2017-07-01T14:00:00",
          "2017-07-01T14:15:00",
          "2017-07-01T14:30:00",
          "2017-07-01T14:45:00",
          "2017-07-01T15:00:00",
          "2017-07-01T15:15:00",
          "2017-07-01T15:30:00",
          "2017-07-01T15:45:00",
          "2017-07-01T16:00:00",
          "2017-07-01T16:15:00",
          "2017-07-01T16:30:00",
          "2017-07-01T16:45:00",
          "2017-07-01T17:00:00",
          "2017-07-01T17:15:00",
          "2017-07-01T17:30:00",
          "2017-07-01T17:45:00",
          "2017-07-01T18:00:00",
          "2017-07-01T18:15:00",
          "2017-07-01T18:30:00",
          "2017-07-01T18:45:00",
          "2017-07-01T19:00:00",
          "2017-07-01T19:15:00",
          "2017-07-01T19:30:00",
          "2017-07-01T19:45:00",
          "2017-07-01T20:00:00",
          "2017-07-01T20:15:00",
          "2017-07-01T20:30:00",
          "2017-07-01T20:45:00",
          "2017-07-01T21:00:00",
          "2017-07-01T21:15:00",
          "2017-07-01T21:30:00",
          "2017-07-01T21:45:00",
          "2017-07-01T22:00:00",
          "2017-07-01T22:15:00",
          "2017-07-01T22:30:00",
          "2017-07-01T22:45:00",
          "2017-07-01T23:00:00",
          "2017-07-01T23:15:00",
          "2017-07-01T23:30:00",
          "2017-07-01T23:45:00"
         ],
         "y": [
          327.5,
          325,
          322.5,
          320,
          337.5,
          355,
          12.5,
          30,
          30,
          30,
          30,
          30,
          30,
          30,
          30,
          30,
          30,
          30,
          30,
          30,
          30,
          30,
          30,
          30,
          30,
          30,
          30,
          30,
          30,
          30,
          30,
          30,
          30,
          30,
          30,
          30,
          30,
          30,
          30,
          30,
          25,
          20,
          15,
          10,
          5,
          0,
          355,
          350,
          342.5,
          335,
          327.5,
          320,
          320,
          320,
          320,
          320,
          325,
          330,
          335,
          340,
          340,
          340,
          340,
          340,
          340,
          340,
          340,
          340,
          335,
          330,
          325,
          320,
          317.5,
          315,
          312.5,
          310,
          315,
          320,
          325,
          330,
          330,
          330,
          330,
          330,
          330,
          330,
          330,
          330,
          330,
          330,
          330,
          330,
          330,
          330,
          330,
          330
         ]
        }
       ],
       "layout": {
        "template": {
         "data": {
          "bar": [
           {
            "error_x": {
             "color": "#2a3f5f"
            },
            "error_y": {
             "color": "#2a3f5f"
            },
            "marker": {
             "line": {
              "color": "#E5ECF6",
              "width": 0.5
             },
             "pattern": {
              "fillmode": "overlay",
              "size": 10,
              "solidity": 0.2
             }
            },
            "type": "bar"
           }
          ],
          "barpolar": [
           {
            "marker": {
             "line": {
              "color": "#E5ECF6",
              "width": 0.5
             },
             "pattern": {
              "fillmode": "overlay",
              "size": 10,
              "solidity": 0.2
             }
            },
            "type": "barpolar"
           }
          ],
          "carpet": [
           {
            "aaxis": {
             "endlinecolor": "#2a3f5f",
             "gridcolor": "white",
             "linecolor": "white",
             "minorgridcolor": "white",
             "startlinecolor": "#2a3f5f"
            },
            "baxis": {
             "endlinecolor": "#2a3f5f",
             "gridcolor": "white",
             "linecolor": "white",
             "minorgridcolor": "white",
             "startlinecolor": "#2a3f5f"
            },
            "type": "carpet"
           }
          ],
          "choropleth": [
           {
            "colorbar": {
             "outlinewidth": 0,
             "ticks": ""
            },
            "type": "choropleth"
           }
          ],
          "contour": [
           {
            "colorbar": {
             "outlinewidth": 0,
             "ticks": ""
            },
            "colorscale": [
             [
              0,
              "#0d0887"
             ],
             [
              0.1111111111111111,
              "#46039f"
             ],
             [
              0.2222222222222222,
              "#7201a8"
             ],
             [
              0.3333333333333333,
              "#9c179e"
             ],
             [
              0.4444444444444444,
              "#bd3786"
             ],
             [
              0.5555555555555556,
              "#d8576b"
             ],
             [
              0.6666666666666666,
              "#ed7953"
             ],
             [
              0.7777777777777778,
              "#fb9f3a"
             ],
             [
              0.8888888888888888,
              "#fdca26"
             ],
             [
              1,
              "#f0f921"
             ]
            ],
            "type": "contour"
           }
          ],
          "contourcarpet": [
           {
            "colorbar": {
             "outlinewidth": 0,
             "ticks": ""
            },
            "type": "contourcarpet"
           }
          ],
          "heatmap": [
           {
            "colorbar": {
             "outlinewidth": 0,
             "ticks": ""
            },
            "colorscale": [
             [
              0,
              "#0d0887"
             ],
             [
              0.1111111111111111,
              "#46039f"
             ],
             [
              0.2222222222222222,
              "#7201a8"
             ],
             [
              0.3333333333333333,
              "#9c179e"
             ],
             [
              0.4444444444444444,
              "#bd3786"
             ],
             [
              0.5555555555555556,
              "#d8576b"
             ],
             [
              0.6666666666666666,
              "#ed7953"
             ],
             [
              0.7777777777777778,
              "#fb9f3a"
             ],
             [
              0.8888888888888888,
              "#fdca26"
             ],
             [
              1,
              "#f0f921"
             ]
            ],
            "type": "heatmap"
           }
          ],
          "heatmapgl": [
           {
            "colorbar": {
             "outlinewidth": 0,
             "ticks": ""
            },
            "colorscale": [
             [
              0,
              "#0d0887"
             ],
             [
              0.1111111111111111,
              "#46039f"
             ],
             [
              0.2222222222222222,
              "#7201a8"
             ],
             [
              0.3333333333333333,
              "#9c179e"
             ],
             [
              0.4444444444444444,
              "#bd3786"
             ],
             [
              0.5555555555555556,
              "#d8576b"
             ],
             [
              0.6666666666666666,
              "#ed7953"
             ],
             [
              0.7777777777777778,
              "#fb9f3a"
             ],
             [
              0.8888888888888888,
              "#fdca26"
             ],
             [
              1,
              "#f0f921"
             ]
            ],
            "type": "heatmapgl"
           }
          ],
          "histogram": [
           {
            "marker": {
             "pattern": {
              "fillmode": "overlay",
              "size": 10,
              "solidity": 0.2
             }
            },
            "type": "histogram"
           }
          ],
          "histogram2d": [
           {
            "colorbar": {
             "outlinewidth": 0,
             "ticks": ""
            },
            "colorscale": [
             [
              0,
              "#0d0887"
             ],
             [
              0.1111111111111111,
              "#46039f"
             ],
             [
              0.2222222222222222,
              "#7201a8"
             ],
             [
              0.3333333333333333,
              "#9c179e"
             ],
             [
              0.4444444444444444,
              "#bd3786"
             ],
             [
              0.5555555555555556,
              "#d8576b"
             ],
             [
              0.6666666666666666,
              "#ed7953"
             ],
             [
              0.7777777777777778,
              "#fb9f3a"
             ],
             [
              0.8888888888888888,
              "#fdca26"
             ],
             [
              1,
              "#f0f921"
             ]
            ],
            "type": "histogram2d"
           }
          ],
          "histogram2dcontour": [
           {
            "colorbar": {
             "outlinewidth": 0,
             "ticks": ""
            },
            "colorscale": [
             [
              0,
              "#0d0887"
             ],
             [
              0.1111111111111111,
              "#46039f"
             ],
             [
              0.2222222222222222,
              "#7201a8"
             ],
             [
              0.3333333333333333,
              "#9c179e"
             ],
             [
              0.4444444444444444,
              "#bd3786"
             ],
             [
              0.5555555555555556,
              "#d8576b"
             ],
             [
              0.6666666666666666,
              "#ed7953"
             ],
             [
              0.7777777777777778,
              "#fb9f3a"
             ],
             [
              0.8888888888888888,
              "#fdca26"
             ],
             [
              1,
              "#f0f921"
             ]
            ],
            "type": "histogram2dcontour"
           }
          ],
          "mesh3d": [
           {
            "colorbar": {
             "outlinewidth": 0,
             "ticks": ""
            },
            "type": "mesh3d"
           }
          ],
          "parcoords": [
           {
            "line": {
             "colorbar": {
              "outlinewidth": 0,
              "ticks": ""
             }
            },
            "type": "parcoords"
           }
          ],
          "pie": [
           {
            "automargin": true,
            "type": "pie"
           }
          ],
          "scatter": [
           {
            "fillpattern": {
             "fillmode": "overlay",
             "size": 10,
             "solidity": 0.2
            },
            "type": "scatter"
           }
          ],
          "scatter3d": [
           {
            "line": {
             "colorbar": {
              "outlinewidth": 0,
              "ticks": ""
             }
            },
            "marker": {
             "colorbar": {
              "outlinewidth": 0,
              "ticks": ""
             }
            },
            "type": "scatter3d"
           }
          ],
          "scattercarpet": [
           {
            "marker": {
             "colorbar": {
              "outlinewidth": 0,
              "ticks": ""
             }
            },
            "type": "scattercarpet"
           }
          ],
          "scattergeo": [
           {
            "marker": {
             "colorbar": {
              "outlinewidth": 0,
              "ticks": ""
             }
            },
            "type": "scattergeo"
           }
          ],
          "scattergl": [
           {
            "marker": {
             "colorbar": {
              "outlinewidth": 0,
              "ticks": ""
             }
            },
            "type": "scattergl"
           }
          ],
          "scattermapbox": [
           {
            "marker": {
             "colorbar": {
              "outlinewidth": 0,
              "ticks": ""
             }
            },
            "type": "scattermapbox"
           }
          ],
          "scatterpolar": [
           {
            "marker": {
             "colorbar": {
              "outlinewidth": 0,
              "ticks": ""
             }
            },
            "type": "scatterpolar"
           }
          ],
          "scatterpolargl": [
           {
            "marker": {
             "colorbar": {
              "outlinewidth": 0,
              "ticks": ""
             }
            },
            "type": "scatterpolargl"
           }
          ],
          "scatterternary": [
           {
            "marker": {
             "colorbar": {
              "outlinewidth": 0,
              "ticks": ""
             }
            },
            "type": "scatterternary"
           }
          ],
          "surface": [
           {
            "colorbar": {
             "outlinewidth": 0,
             "ticks": ""
            },
            "colorscale": [
             [
              0,
              "#0d0887"
             ],
             [
              0.1111111111111111,
              "#46039f"
             ],
             [
              0.2222222222222222,
              "#7201a8"
             ],
             [
              0.3333333333333333,
              "#9c179e"
             ],
             [
              0.4444444444444444,
              "#bd3786"
             ],
             [
              0.5555555555555556,
              "#d8576b"
             ],
             [
              0.6666666666666666,
              "#ed7953"
             ],
             [
              0.7777777777777778,
              "#fb9f3a"
             ],
             [
              0.8888888888888888,
              "#fdca26"
             ],
             [
              1,
              "#f0f921"
             ]
            ],
            "type": "surface"
           }
          ],
          "table": [
           {
            "cells": {
             "fill": {
              "color": "#EBF0F8"
             },
             "line": {
              "color": "white"
             }
            },
            "header": {
             "fill": {
              "color": "#C8D4E3"
             },
             "line": {
              "color": "white"
             }
            },
            "type": "table"
           }
          ]
         },
         "layout": {
          "annotationdefaults": {
           "arrowcolor": "#2a3f5f",
           "arrowhead": 0,
           "arrowwidth": 1
          },
          "autotypenumbers": "strict",
          "coloraxis": {
           "colorbar": {
            "outlinewidth": 0,
            "ticks": ""
           }
          },
          "colorscale": {
           "diverging": [
            [
             0,
             "#8e0152"
            ],
            [
             0.1,
             "#c51b7d"
            ],
            [
             0.2,
             "#de77ae"
            ],
            [
             0.3,
             "#f1b6da"
            ],
            [
             0.4,
             "#fde0ef"
            ],
            [
             0.5,
             "#f7f7f7"
            ],
            [
             0.6,
             "#e6f5d0"
            ],
            [
             0.7,
             "#b8e186"
            ],
            [
             0.8,
             "#7fbc41"
            ],
            [
             0.9,
             "#4d9221"
            ],
            [
             1,
             "#276419"
            ]
           ],
           "sequential": [
            [
             0,
             "#0d0887"
            ],
            [
             0.1111111111111111,
             "#46039f"
            ],
            [
             0.2222222222222222,
             "#7201a8"
            ],
            [
             0.3333333333333333,
             "#9c179e"
            ],
            [
             0.4444444444444444,
             "#bd3786"
            ],
            [
             0.5555555555555556,
             "#d8576b"
            ],
            [
             0.6666666666666666,
             "#ed7953"
            ],
            [
             0.7777777777777778,
             "#fb9f3a"
            ],
            [
             0.8888888888888888,
             "#fdca26"
            ],
            [
             1,
             "#f0f921"
            ]
           ],
           "sequentialminus": [
            [
             0,
             "#0d0887"
            ],
            [
             0.1111111111111111,
             "#46039f"
            ],
            [
             0.2222222222222222,
             "#7201a8"
            ],
            [
             0.3333333333333333,
             "#9c179e"
            ],
            [
             0.4444444444444444,
             "#bd3786"
            ],
            [
             0.5555555555555556,
             "#d8576b"
            ],
            [
             0.6666666666666666,
             "#ed7953"
            ],
            [
             0.7777777777777778,
             "#fb9f3a"
            ],
            [
             0.8888888888888888,
             "#fdca26"
            ],
            [
             1,
             "#f0f921"
            ]
           ]
          },
          "colorway": [
           "#636efa",
           "#EF553B",
           "#00cc96",
           "#ab63fa",
           "#FFA15A",
           "#19d3f3",
           "#FF6692",
           "#B6E880",
           "#FF97FF",
           "#FECB52"
          ],
          "font": {
           "color": "#2a3f5f"
          },
          "geo": {
           "bgcolor": "white",
           "lakecolor": "white",
           "landcolor": "#E5ECF6",
           "showlakes": true,
           "showland": true,
           "subunitcolor": "white"
          },
          "hoverlabel": {
           "align": "left"
          },
          "hovermode": "closest",
          "mapbox": {
           "style": "light"
          },
          "paper_bgcolor": "white",
          "plot_bgcolor": "#E5ECF6",
          "polar": {
           "angularaxis": {
            "gridcolor": "white",
            "linecolor": "white",
            "ticks": ""
           },
           "bgcolor": "#E5ECF6",
           "radialaxis": {
            "gridcolor": "white",
            "linecolor": "white",
            "ticks": ""
           }
          },
          "scene": {
           "xaxis": {
            "backgroundcolor": "#E5ECF6",
            "gridcolor": "white",
            "gridwidth": 2,
            "linecolor": "white",
            "showbackground": true,
            "ticks": "",
            "zerolinecolor": "white"
           },
           "yaxis": {
            "backgroundcolor": "#E5ECF6",
            "gridcolor": "white",
            "gridwidth": 2,
            "linecolor": "white",
            "showbackground": true,
            "ticks": "",
            "zerolinecolor": "white"
           },
           "zaxis": {
            "backgroundcolor": "#E5ECF6",
            "gridcolor": "white",
            "gridwidth": 2,
            "linecolor": "white",
            "showbackground": true,
            "ticks": "",
            "zerolinecolor": "white"
           }
          },
          "shapedefaults": {
           "line": {
            "color": "#2a3f5f"
           }
          },
          "ternary": {
           "aaxis": {
            "gridcolor": "white",
            "linecolor": "white",
            "ticks": ""
           },
           "baxis": {
            "gridcolor": "white",
            "linecolor": "white",
            "ticks": ""
           },
           "bgcolor": "#E5ECF6",
           "caxis": {
            "gridcolor": "white",
            "linecolor": "white",
            "ticks": ""
           }
          },
          "title": {
           "x": 0.05
          },
          "xaxis": {
           "automargin": true,
           "gridcolor": "white",
           "linecolor": "white",
           "ticks": "",
           "title": {
            "standoff": 15
           },
           "zerolinecolor": "white",
           "zerolinewidth": 2
          },
          "yaxis": {
           "automargin": true,
           "gridcolor": "white",
           "linecolor": "white",
           "ticks": "",
           "title": {
            "standoff": 15
           },
           "zerolinecolor": "white",
           "zerolinewidth": 2
          }
         }
        },
        "title": {
         "text": "Site Wind Direction [deg] <br><sup> 7/1 to 7/1 between 0 and 23 @4 </sup>"
        }
       }
      }
     },
     "metadata": {},
     "output_type": "display_data"
    }
   ],
   "source": [
    "ez.plt.get_collection_for_variable(ez.eligible_vars.site_wind_direction)\n",
    "ez.plt.create_plot()"
   ]
  },
  {
   "cell_type": "code",
   "execution_count": 6,
   "metadata": {},
   "outputs": [
    {
     "data": {
      "application/vnd.plotly.v1+json": {
       "config": {
        "plotlyServerURL": "https://plotly.com"
       },
       "data": [
        {
         "name": "Environment",
         "type": "scatter",
         "x": [
          "2017-07-01T00:00:00",
          "2017-07-01T00:15:00",
          "2017-07-01T00:30:00",
          "2017-07-01T00:45:00",
          "2017-07-01T01:00:00",
          "2017-07-01T01:15:00",
          "2017-07-01T01:30:00",
          "2017-07-01T01:45:00",
          "2017-07-01T02:00:00",
          "2017-07-01T02:15:00",
          "2017-07-01T02:30:00",
          "2017-07-01T02:45:00",
          "2017-07-01T03:00:00",
          "2017-07-01T03:15:00",
          "2017-07-01T03:30:00",
          "2017-07-01T03:45:00",
          "2017-07-01T04:00:00",
          "2017-07-01T04:15:00",
          "2017-07-01T04:30:00",
          "2017-07-01T04:45:00",
          "2017-07-01T05:00:00",
          "2017-07-01T05:15:00",
          "2017-07-01T05:30:00",
          "2017-07-01T05:45:00",
          "2017-07-01T06:00:00",
          "2017-07-01T06:15:00",
          "2017-07-01T06:30:00",
          "2017-07-01T06:45:00",
          "2017-07-01T07:00:00",
          "2017-07-01T07:15:00",
          "2017-07-01T07:30:00",
          "2017-07-01T07:45:00",
          "2017-07-01T08:00:00",
          "2017-07-01T08:15:00",
          "2017-07-01T08:30:00",
          "2017-07-01T08:45:00",
          "2017-07-01T09:00:00",
          "2017-07-01T09:15:00",
          "2017-07-01T09:30:00",
          "2017-07-01T09:45:00",
          "2017-07-01T10:00:00",
          "2017-07-01T10:15:00",
          "2017-07-01T10:30:00",
          "2017-07-01T10:45:00",
          "2017-07-01T11:00:00",
          "2017-07-01T11:15:00",
          "2017-07-01T11:30:00",
          "2017-07-01T11:45:00",
          "2017-07-01T12:00:00",
          "2017-07-01T12:15:00",
          "2017-07-01T12:30:00",
          "2017-07-01T12:45:00",
          "2017-07-01T13:00:00",
          "2017-07-01T13:15:00",
          "2017-07-01T13:30:00",
          "2017-07-01T13:45:00",
          "2017-07-01T14:00:00",
          "2017-07-01T14:15:00",
          "2017-07-01T14:30:00",
          "2017-07-01T14:45:00",
          "2017-07-01T15:00:00",
          "2017-07-01T15:15:00",
          "2017-07-01T15:30:00",
          "2017-07-01T15:45:00",
          "2017-07-01T16:00:00",
          "2017-07-01T16:15:00",
          "2017-07-01T16:30:00",
          "2017-07-01T16:45:00",
          "2017-07-01T17:00:00",
          "2017-07-01T17:15:00",
          "2017-07-01T17:30:00",
          "2017-07-01T17:45:00",
          "2017-07-01T18:00:00",
          "2017-07-01T18:15:00",
          "2017-07-01T18:30:00",
          "2017-07-01T18:45:00",
          "2017-07-01T19:00:00",
          "2017-07-01T19:15:00",
          "2017-07-01T19:30:00",
          "2017-07-01T19:45:00",
          "2017-07-01T20:00:00",
          "2017-07-01T20:15:00",
          "2017-07-01T20:30:00",
          "2017-07-01T20:45:00",
          "2017-07-01T21:00:00",
          "2017-07-01T21:15:00",
          "2017-07-01T21:30:00",
          "2017-07-01T21:45:00",
          "2017-07-01T22:00:00",
          "2017-07-01T22:15:00",
          "2017-07-01T22:30:00",
          "2017-07-01T22:45:00",
          "2017-07-01T23:00:00",
          "2017-07-01T23:15:00",
          "2017-07-01T23:30:00",
          "2017-07-01T23:45:00"
         ],
         "y": [
          2.45,
          2.2,
          1.95,
          1.7,
          1.625,
          1.5499999999999998,
          1.4749999999999999,
          1.4,
          1.2999999999999998,
          1.2,
          1.1,
          1,
          0.9,
          0.8,
          0.7,
          0.6,
          0.5249999999999999,
          0.44999999999999996,
          0.375,
          0.3,
          0.22499999999999998,
          0.15,
          0.075,
          0,
          0.075,
          0.15,
          0.22499999999999998,
          0.3,
          0.625,
          0.9500000000000001,
          1.2750000000000001,
          1.6,
          1.7500000000000002,
          1.9000000000000001,
          2.0500000000000003,
          2.2,
          2.3000000000000003,
          2.4000000000000004,
          2.5,
          2.6,
          2.7,
          2.8,
          2.9,
          3,
          3.4,
          3.8,
          4.199999999999999,
          4.6,
          4.675,
          4.75,
          4.825,
          4.9,
          5.2250000000000005,
          5.550000000000001,
          5.875,
          6.2,
          6.2,
          6.2,
          6.2,
          6.2,
          6.2,
          6.2,
          6.2,
          6.2,
          6.275,
          6.35,
          6.425,
          6.5,
          6.625,
          6.75,
          6.875,
          7,
          6.4,
          5.8,
          5.199999999999999,
          4.6,
          4.574999999999999,
          4.55,
          4.525,
          4.5,
          4.375,
          4.25,
          4.125,
          4,
          3.9,
          3.8,
          3.7,
          3.6,
          3.475,
          3.35,
          3.225,
          3.1,
          3,
          2.9000000000000004,
          2.8000000000000003,
          2.7
         ]
        }
       ],
       "layout": {
        "template": {
         "data": {
          "bar": [
           {
            "error_x": {
             "color": "#2a3f5f"
            },
            "error_y": {
             "color": "#2a3f5f"
            },
            "marker": {
             "line": {
              "color": "#E5ECF6",
              "width": 0.5
             },
             "pattern": {
              "fillmode": "overlay",
              "size": 10,
              "solidity": 0.2
             }
            },
            "type": "bar"
           }
          ],
          "barpolar": [
           {
            "marker": {
             "line": {
              "color": "#E5ECF6",
              "width": 0.5
             },
             "pattern": {
              "fillmode": "overlay",
              "size": 10,
              "solidity": 0.2
             }
            },
            "type": "barpolar"
           }
          ],
          "carpet": [
           {
            "aaxis": {
             "endlinecolor": "#2a3f5f",
             "gridcolor": "white",
             "linecolor": "white",
             "minorgridcolor": "white",
             "startlinecolor": "#2a3f5f"
            },
            "baxis": {
             "endlinecolor": "#2a3f5f",
             "gridcolor": "white",
             "linecolor": "white",
             "minorgridcolor": "white",
             "startlinecolor": "#2a3f5f"
            },
            "type": "carpet"
           }
          ],
          "choropleth": [
           {
            "colorbar": {
             "outlinewidth": 0,
             "ticks": ""
            },
            "type": "choropleth"
           }
          ],
          "contour": [
           {
            "colorbar": {
             "outlinewidth": 0,
             "ticks": ""
            },
            "colorscale": [
             [
              0,
              "#0d0887"
             ],
             [
              0.1111111111111111,
              "#46039f"
             ],
             [
              0.2222222222222222,
              "#7201a8"
             ],
             [
              0.3333333333333333,
              "#9c179e"
             ],
             [
              0.4444444444444444,
              "#bd3786"
             ],
             [
              0.5555555555555556,
              "#d8576b"
             ],
             [
              0.6666666666666666,
              "#ed7953"
             ],
             [
              0.7777777777777778,
              "#fb9f3a"
             ],
             [
              0.8888888888888888,
              "#fdca26"
             ],
             [
              1,
              "#f0f921"
             ]
            ],
            "type": "contour"
           }
          ],
          "contourcarpet": [
           {
            "colorbar": {
             "outlinewidth": 0,
             "ticks": ""
            },
            "type": "contourcarpet"
           }
          ],
          "heatmap": [
           {
            "colorbar": {
             "outlinewidth": 0,
             "ticks": ""
            },
            "colorscale": [
             [
              0,
              "#0d0887"
             ],
             [
              0.1111111111111111,
              "#46039f"
             ],
             [
              0.2222222222222222,
              "#7201a8"
             ],
             [
              0.3333333333333333,
              "#9c179e"
             ],
             [
              0.4444444444444444,
              "#bd3786"
             ],
             [
              0.5555555555555556,
              "#d8576b"
             ],
             [
              0.6666666666666666,
              "#ed7953"
             ],
             [
              0.7777777777777778,
              "#fb9f3a"
             ],
             [
              0.8888888888888888,
              "#fdca26"
             ],
             [
              1,
              "#f0f921"
             ]
            ],
            "type": "heatmap"
           }
          ],
          "heatmapgl": [
           {
            "colorbar": {
             "outlinewidth": 0,
             "ticks": ""
            },
            "colorscale": [
             [
              0,
              "#0d0887"
             ],
             [
              0.1111111111111111,
              "#46039f"
             ],
             [
              0.2222222222222222,
              "#7201a8"
             ],
             [
              0.3333333333333333,
              "#9c179e"
             ],
             [
              0.4444444444444444,
              "#bd3786"
             ],
             [
              0.5555555555555556,
              "#d8576b"
             ],
             [
              0.6666666666666666,
              "#ed7953"
             ],
             [
              0.7777777777777778,
              "#fb9f3a"
             ],
             [
              0.8888888888888888,
              "#fdca26"
             ],
             [
              1,
              "#f0f921"
             ]
            ],
            "type": "heatmapgl"
           }
          ],
          "histogram": [
           {
            "marker": {
             "pattern": {
              "fillmode": "overlay",
              "size": 10,
              "solidity": 0.2
             }
            },
            "type": "histogram"
           }
          ],
          "histogram2d": [
           {
            "colorbar": {
             "outlinewidth": 0,
             "ticks": ""
            },
            "colorscale": [
             [
              0,
              "#0d0887"
             ],
             [
              0.1111111111111111,
              "#46039f"
             ],
             [
              0.2222222222222222,
              "#7201a8"
             ],
             [
              0.3333333333333333,
              "#9c179e"
             ],
             [
              0.4444444444444444,
              "#bd3786"
             ],
             [
              0.5555555555555556,
              "#d8576b"
             ],
             [
              0.6666666666666666,
              "#ed7953"
             ],
             [
              0.7777777777777778,
              "#fb9f3a"
             ],
             [
              0.8888888888888888,
              "#fdca26"
             ],
             [
              1,
              "#f0f921"
             ]
            ],
            "type": "histogram2d"
           }
          ],
          "histogram2dcontour": [
           {
            "colorbar": {
             "outlinewidth": 0,
             "ticks": ""
            },
            "colorscale": [
             [
              0,
              "#0d0887"
             ],
             [
              0.1111111111111111,
              "#46039f"
             ],
             [
              0.2222222222222222,
              "#7201a8"
             ],
             [
              0.3333333333333333,
              "#9c179e"
             ],
             [
              0.4444444444444444,
              "#bd3786"
             ],
             [
              0.5555555555555556,
              "#d8576b"
             ],
             [
              0.6666666666666666,
              "#ed7953"
             ],
             [
              0.7777777777777778,
              "#fb9f3a"
             ],
             [
              0.8888888888888888,
              "#fdca26"
             ],
             [
              1,
              "#f0f921"
             ]
            ],
            "type": "histogram2dcontour"
           }
          ],
          "mesh3d": [
           {
            "colorbar": {
             "outlinewidth": 0,
             "ticks": ""
            },
            "type": "mesh3d"
           }
          ],
          "parcoords": [
           {
            "line": {
             "colorbar": {
              "outlinewidth": 0,
              "ticks": ""
             }
            },
            "type": "parcoords"
           }
          ],
          "pie": [
           {
            "automargin": true,
            "type": "pie"
           }
          ],
          "scatter": [
           {
            "fillpattern": {
             "fillmode": "overlay",
             "size": 10,
             "solidity": 0.2
            },
            "type": "scatter"
           }
          ],
          "scatter3d": [
           {
            "line": {
             "colorbar": {
              "outlinewidth": 0,
              "ticks": ""
             }
            },
            "marker": {
             "colorbar": {
              "outlinewidth": 0,
              "ticks": ""
             }
            },
            "type": "scatter3d"
           }
          ],
          "scattercarpet": [
           {
            "marker": {
             "colorbar": {
              "outlinewidth": 0,
              "ticks": ""
             }
            },
            "type": "scattercarpet"
           }
          ],
          "scattergeo": [
           {
            "marker": {
             "colorbar": {
              "outlinewidth": 0,
              "ticks": ""
             }
            },
            "type": "scattergeo"
           }
          ],
          "scattergl": [
           {
            "marker": {
             "colorbar": {
              "outlinewidth": 0,
              "ticks": ""
             }
            },
            "type": "scattergl"
           }
          ],
          "scattermapbox": [
           {
            "marker": {
             "colorbar": {
              "outlinewidth": 0,
              "ticks": ""
             }
            },
            "type": "scattermapbox"
           }
          ],
          "scatterpolar": [
           {
            "marker": {
             "colorbar": {
              "outlinewidth": 0,
              "ticks": ""
             }
            },
            "type": "scatterpolar"
           }
          ],
          "scatterpolargl": [
           {
            "marker": {
             "colorbar": {
              "outlinewidth": 0,
              "ticks": ""
             }
            },
            "type": "scatterpolargl"
           }
          ],
          "scatterternary": [
           {
            "marker": {
             "colorbar": {
              "outlinewidth": 0,
              "ticks": ""
             }
            },
            "type": "scatterternary"
           }
          ],
          "surface": [
           {
            "colorbar": {
             "outlinewidth": 0,
             "ticks": ""
            },
            "colorscale": [
             [
              0,
              "#0d0887"
             ],
             [
              0.1111111111111111,
              "#46039f"
             ],
             [
              0.2222222222222222,
              "#7201a8"
             ],
             [
              0.3333333333333333,
              "#9c179e"
             ],
             [
              0.4444444444444444,
              "#bd3786"
             ],
             [
              0.5555555555555556,
              "#d8576b"
             ],
             [
              0.6666666666666666,
              "#ed7953"
             ],
             [
              0.7777777777777778,
              "#fb9f3a"
             ],
             [
              0.8888888888888888,
              "#fdca26"
             ],
             [
              1,
              "#f0f921"
             ]
            ],
            "type": "surface"
           }
          ],
          "table": [
           {
            "cells": {
             "fill": {
              "color": "#EBF0F8"
             },
             "line": {
              "color": "white"
             }
            },
            "header": {
             "fill": {
              "color": "#C8D4E3"
             },
             "line": {
              "color": "white"
             }
            },
            "type": "table"
           }
          ]
         },
         "layout": {
          "annotationdefaults": {
           "arrowcolor": "#2a3f5f",
           "arrowhead": 0,
           "arrowwidth": 1
          },
          "autotypenumbers": "strict",
          "coloraxis": {
           "colorbar": {
            "outlinewidth": 0,
            "ticks": ""
           }
          },
          "colorscale": {
           "diverging": [
            [
             0,
             "#8e0152"
            ],
            [
             0.1,
             "#c51b7d"
            ],
            [
             0.2,
             "#de77ae"
            ],
            [
             0.3,
             "#f1b6da"
            ],
            [
             0.4,
             "#fde0ef"
            ],
            [
             0.5,
             "#f7f7f7"
            ],
            [
             0.6,
             "#e6f5d0"
            ],
            [
             0.7,
             "#b8e186"
            ],
            [
             0.8,
             "#7fbc41"
            ],
            [
             0.9,
             "#4d9221"
            ],
            [
             1,
             "#276419"
            ]
           ],
           "sequential": [
            [
             0,
             "#0d0887"
            ],
            [
             0.1111111111111111,
             "#46039f"
            ],
            [
             0.2222222222222222,
             "#7201a8"
            ],
            [
             0.3333333333333333,
             "#9c179e"
            ],
            [
             0.4444444444444444,
             "#bd3786"
            ],
            [
             0.5555555555555556,
             "#d8576b"
            ],
            [
             0.6666666666666666,
             "#ed7953"
            ],
            [
             0.7777777777777778,
             "#fb9f3a"
            ],
            [
             0.8888888888888888,
             "#fdca26"
            ],
            [
             1,
             "#f0f921"
            ]
           ],
           "sequentialminus": [
            [
             0,
             "#0d0887"
            ],
            [
             0.1111111111111111,
             "#46039f"
            ],
            [
             0.2222222222222222,
             "#7201a8"
            ],
            [
             0.3333333333333333,
             "#9c179e"
            ],
            [
             0.4444444444444444,
             "#bd3786"
            ],
            [
             0.5555555555555556,
             "#d8576b"
            ],
            [
             0.6666666666666666,
             "#ed7953"
            ],
            [
             0.7777777777777778,
             "#fb9f3a"
            ],
            [
             0.8888888888888888,
             "#fdca26"
            ],
            [
             1,
             "#f0f921"
            ]
           ]
          },
          "colorway": [
           "#636efa",
           "#EF553B",
           "#00cc96",
           "#ab63fa",
           "#FFA15A",
           "#19d3f3",
           "#FF6692",
           "#B6E880",
           "#FF97FF",
           "#FECB52"
          ],
          "font": {
           "color": "#2a3f5f"
          },
          "geo": {
           "bgcolor": "white",
           "lakecolor": "white",
           "landcolor": "#E5ECF6",
           "showlakes": true,
           "showland": true,
           "subunitcolor": "white"
          },
          "hoverlabel": {
           "align": "left"
          },
          "hovermode": "closest",
          "mapbox": {
           "style": "light"
          },
          "paper_bgcolor": "white",
          "plot_bgcolor": "#E5ECF6",
          "polar": {
           "angularaxis": {
            "gridcolor": "white",
            "linecolor": "white",
            "ticks": ""
           },
           "bgcolor": "#E5ECF6",
           "radialaxis": {
            "gridcolor": "white",
            "linecolor": "white",
            "ticks": ""
           }
          },
          "scene": {
           "xaxis": {
            "backgroundcolor": "#E5ECF6",
            "gridcolor": "white",
            "gridwidth": 2,
            "linecolor": "white",
            "showbackground": true,
            "ticks": "",
            "zerolinecolor": "white"
           },
           "yaxis": {
            "backgroundcolor": "#E5ECF6",
            "gridcolor": "white",
            "gridwidth": 2,
            "linecolor": "white",
            "showbackground": true,
            "ticks": "",
            "zerolinecolor": "white"
           },
           "zaxis": {
            "backgroundcolor": "#E5ECF6",
            "gridcolor": "white",
            "gridwidth": 2,
            "linecolor": "white",
            "showbackground": true,
            "ticks": "",
            "zerolinecolor": "white"
           }
          },
          "shapedefaults": {
           "line": {
            "color": "#2a3f5f"
           }
          },
          "ternary": {
           "aaxis": {
            "gridcolor": "white",
            "linecolor": "white",
            "ticks": ""
           },
           "baxis": {
            "gridcolor": "white",
            "linecolor": "white",
            "ticks": ""
           },
           "bgcolor": "#E5ECF6",
           "caxis": {
            "gridcolor": "white",
            "linecolor": "white",
            "ticks": ""
           }
          },
          "title": {
           "x": 0.05
          },
          "xaxis": {
           "automargin": true,
           "gridcolor": "white",
           "linecolor": "white",
           "ticks": "",
           "title": {
            "standoff": 15
           },
           "zerolinecolor": "white",
           "zerolinewidth": 2
          },
          "yaxis": {
           "automargin": true,
           "gridcolor": "white",
           "linecolor": "white",
           "ticks": "",
           "title": {
            "standoff": 15
           },
           "zerolinecolor": "white",
           "zerolinewidth": 2
          }
         }
        },
        "title": {
         "text": "Site Wind Speed [m/s] <br><sup> 7/1 to 7/1 between 0 and 23 @4 </sup>"
        }
       }
      }
     },
     "metadata": {},
     "output_type": "display_data"
    }
   ],
   "source": [
    "ez.plt.get_collection_for_variable(ez.eligible_vars.site_wind_speed)\n",
    "ez.plt.create_plot()"
   ]
  },
  {
   "cell_type": "code",
   "execution_count": 7,
   "metadata": {},
   "outputs": [
    {
     "data": {
      "application/vnd.plotly.v1+json": {
       "config": {
        "plotlyServerURL": "https://plotly.com"
       },
       "data": [
        {
         "name": "BLOCK 00 STOREY 0",
         "type": "scatter",
         "x": [
          "2017-07-01T00:00:00",
          "2017-07-01T00:15:00",
          "2017-07-01T00:30:00",
          "2017-07-01T00:45:00",
          "2017-07-01T01:00:00",
          "2017-07-01T01:15:00",
          "2017-07-01T01:30:00",
          "2017-07-01T01:45:00",
          "2017-07-01T02:00:00",
          "2017-07-01T02:15:00",
          "2017-07-01T02:30:00",
          "2017-07-01T02:45:00",
          "2017-07-01T03:00:00",
          "2017-07-01T03:15:00",
          "2017-07-01T03:30:00",
          "2017-07-01T03:45:00",
          "2017-07-01T04:00:00",
          "2017-07-01T04:15:00",
          "2017-07-01T04:30:00",
          "2017-07-01T04:45:00",
          "2017-07-01T05:00:00",
          "2017-07-01T05:15:00",
          "2017-07-01T05:30:00",
          "2017-07-01T05:45:00",
          "2017-07-01T06:00:00",
          "2017-07-01T06:15:00",
          "2017-07-01T06:30:00",
          "2017-07-01T06:45:00",
          "2017-07-01T07:00:00",
          "2017-07-01T07:15:00",
          "2017-07-01T07:30:00",
          "2017-07-01T07:45:00",
          "2017-07-01T08:00:00",
          "2017-07-01T08:15:00",
          "2017-07-01T08:30:00",
          "2017-07-01T08:45:00",
          "2017-07-01T09:00:00",
          "2017-07-01T09:15:00",
          "2017-07-01T09:30:00",
          "2017-07-01T09:45:00",
          "2017-07-01T10:00:00",
          "2017-07-01T10:15:00",
          "2017-07-01T10:30:00",
          "2017-07-01T10:45:00",
          "2017-07-01T11:00:00",
          "2017-07-01T11:15:00",
          "2017-07-01T11:30:00",
          "2017-07-01T11:45:00",
          "2017-07-01T12:00:00",
          "2017-07-01T12:15:00",
          "2017-07-01T12:30:00",
          "2017-07-01T12:45:00",
          "2017-07-01T13:00:00",
          "2017-07-01T13:15:00",
          "2017-07-01T13:30:00",
          "2017-07-01T13:45:00",
          "2017-07-01T14:00:00",
          "2017-07-01T14:15:00",
          "2017-07-01T14:30:00",
          "2017-07-01T14:45:00",
          "2017-07-01T15:00:00",
          "2017-07-01T15:15:00",
          "2017-07-01T15:30:00",
          "2017-07-01T15:45:00",
          "2017-07-01T16:00:00",
          "2017-07-01T16:15:00",
          "2017-07-01T16:30:00",
          "2017-07-01T16:45:00",
          "2017-07-01T17:00:00",
          "2017-07-01T17:15:00",
          "2017-07-01T17:30:00",
          "2017-07-01T17:45:00",
          "2017-07-01T18:00:00",
          "2017-07-01T18:15:00",
          "2017-07-01T18:30:00",
          "2017-07-01T18:45:00",
          "2017-07-01T19:00:00",
          "2017-07-01T19:15:00",
          "2017-07-01T19:30:00",
          "2017-07-01T19:45:00",
          "2017-07-01T20:00:00",
          "2017-07-01T20:15:00",
          "2017-07-01T20:30:00",
          "2017-07-01T20:45:00",
          "2017-07-01T21:00:00",
          "2017-07-01T21:15:00",
          "2017-07-01T21:30:00",
          "2017-07-01T21:45:00",
          "2017-07-01T22:00:00",
          "2017-07-01T22:15:00",
          "2017-07-01T22:30:00",
          "2017-07-01T22:45:00",
          "2017-07-01T23:00:00",
          "2017-07-01T23:15:00",
          "2017-07-01T23:30:00",
          "2017-07-01T23:45:00"
         ],
         "y": [
          0.054735074588714225,
          0.051312182360332956,
          0.050520970807796176,
          0.05040374146973504,
          0.050493363377884286,
          0.05040132921195993,
          0.04985164403600907,
          0.049215433664263966,
          0.04879188933251844,
          0.04839333694621728,
          0.04801633559768835,
          0.04765862605867312,
          0.047340712409006495,
          0.04704120433880061,
          0.04675973992613766,
          0.046496276553801334,
          0.046253065236809346,
          0.0460177507754573,
          0.04579076886606773,
          0.04557249773358372,
          0.04475910329481955,
          0.043947491465753996,
          0.04314028939682834,
          0.04233772494090091,
          0.040179245918695435,
          0.03794470288344633,
          0.0356267494809347,
          0.03320961824442315,
          0.03208530390616536,
          0.03136081543650003,
          0.03138426522948344,
          0.03505002179431527,
          0.03663819718267317,
          0.036409122334543034,
          0.035739310500264014,
          0.03482118709209711,
          0.03251605259717433,
          0.029741000310420432,
          0.026423528182603954,
          0.02715709094494552,
          0.03276769631638027,
          0.03905719333528282,
          0.044241001235933275,
          0.04871304957183353,
          0.055374744899797164,
          0.061572417271235684,
          0.0667343522748985,
          0.07151063370759174,
          0.07148035461119898,
          0.07134955861787988,
          0.07101750225972656,
          0.07034961126173347,
          0.07102544583257094,
          0.071733680796573,
          0.07248727883624523,
          0.0733012319278921,
          0.07205228502811535,
          0.07081852337571334,
          0.06934623967585975,
          0.06879239391675739,
          0.06859355236803713,
          0.06837464407475141,
          0.06814376600186921,
          0.06790225347732377,
          0.0684940719940656,
          0.06909913627107299,
          0.06982030691997147,
          0.07173317543204076,
          0.07370566961598453,
          0.07566982662399241,
          0.07709711569875036,
          0.07838959127708699,
          0.07538387194182673,
          0.07255566465155745,
          0.06980892072800186,
          0.06703489791377291,
          0.06901510625820288,
          0.07088100684967982,
          0.07263466167982442,
          0.07428308555006427,
          0.07353944058999116,
          0.07275912642332573,
          0.07195088784060535,
          0.07111422449005372,
          0.07054411989639761,
          0.0699384659102555,
          0.06929411890240846,
          0.06860966934342026,
          0.06767909378345871,
          0.06669523386801765,
          0.0656517678405563,
          0.06453728813331308,
          0.06358446086661745,
          0.06255115033658558,
          0.061403371676238605,
          0.0600438268403903
         ]
        },
        {
         "name": "BLOCK 01 STOREY 0",
         "type": "scatter",
         "x": [
          "2017-07-01T00:00:00",
          "2017-07-01T00:15:00",
          "2017-07-01T00:30:00",
          "2017-07-01T00:45:00",
          "2017-07-01T01:00:00",
          "2017-07-01T01:15:00",
          "2017-07-01T01:30:00",
          "2017-07-01T01:45:00",
          "2017-07-01T02:00:00",
          "2017-07-01T02:15:00",
          "2017-07-01T02:30:00",
          "2017-07-01T02:45:00",
          "2017-07-01T03:00:00",
          "2017-07-01T03:15:00",
          "2017-07-01T03:30:00",
          "2017-07-01T03:45:00",
          "2017-07-01T04:00:00",
          "2017-07-01T04:15:00",
          "2017-07-01T04:30:00",
          "2017-07-01T04:45:00",
          "2017-07-01T05:00:00",
          "2017-07-01T05:15:00",
          "2017-07-01T05:30:00",
          "2017-07-01T05:45:00",
          "2017-07-01T06:00:00",
          "2017-07-01T06:15:00",
          "2017-07-01T06:30:00",
          "2017-07-01T06:45:00",
          "2017-07-01T07:00:00",
          "2017-07-01T07:15:00",
          "2017-07-01T07:30:00",
          "2017-07-01T07:45:00",
          "2017-07-01T08:00:00",
          "2017-07-01T08:15:00",
          "2017-07-01T08:30:00",
          "2017-07-01T08:45:00",
          "2017-07-01T09:00:00",
          "2017-07-01T09:15:00",
          "2017-07-01T09:30:00",
          "2017-07-01T09:45:00",
          "2017-07-01T10:00:00",
          "2017-07-01T10:15:00",
          "2017-07-01T10:30:00",
          "2017-07-01T10:45:00",
          "2017-07-01T11:00:00",
          "2017-07-01T11:15:00",
          "2017-07-01T11:30:00",
          "2017-07-01T11:45:00",
          "2017-07-01T12:00:00",
          "2017-07-01T12:15:00",
          "2017-07-01T12:30:00",
          "2017-07-01T12:45:00",
          "2017-07-01T13:00:00",
          "2017-07-01T13:15:00",
          "2017-07-01T13:30:00",
          "2017-07-01T13:45:00",
          "2017-07-01T14:00:00",
          "2017-07-01T14:15:00",
          "2017-07-01T14:30:00",
          "2017-07-01T14:45:00",
          "2017-07-01T15:00:00",
          "2017-07-01T15:15:00",
          "2017-07-01T15:30:00",
          "2017-07-01T15:45:00",
          "2017-07-01T16:00:00",
          "2017-07-01T16:15:00",
          "2017-07-01T16:30:00",
          "2017-07-01T16:45:00",
          "2017-07-01T17:00:00",
          "2017-07-01T17:15:00",
          "2017-07-01T17:30:00",
          "2017-07-01T17:45:00",
          "2017-07-01T18:00:00",
          "2017-07-01T18:15:00",
          "2017-07-01T18:30:00",
          "2017-07-01T18:45:00",
          "2017-07-01T19:00:00",
          "2017-07-01T19:15:00",
          "2017-07-01T19:30:00",
          "2017-07-01T19:45:00",
          "2017-07-01T20:00:00",
          "2017-07-01T20:15:00",
          "2017-07-01T20:30:00",
          "2017-07-01T20:45:00",
          "2017-07-01T21:00:00",
          "2017-07-01T21:15:00",
          "2017-07-01T21:30:00",
          "2017-07-01T21:45:00",
          "2017-07-01T22:00:00",
          "2017-07-01T22:15:00",
          "2017-07-01T22:30:00",
          "2017-07-01T22:45:00",
          "2017-07-01T23:00:00",
          "2017-07-01T23:15:00",
          "2017-07-01T23:30:00",
          "2017-07-01T23:45:00"
         ],
         "y": [
          0.004670654821204402,
          0.011444527770516109,
          0.015631988934259173,
          0.018562786069078165,
          0.01814700395104808,
          0.01803448201248263,
          0.018740855095848594,
          0.019605288408638042,
          0.0200804359741548,
          0.02050312093068478,
          0.02087606615802562,
          0.02120180050951192,
          0.021493005897785616,
          0.021741282784565462,
          0.021948094290222663,
          0.022114641403431622,
          0.022180977729403056,
          0.022225534614055898,
          0.022248573634636643,
          0.0222502202525574,
          0.021954125823617308,
          0.021633791965220996,
          0.02128884474057908,
          0.020918262645430855,
          0.019907391780623007,
          0.018832136265392655,
          0.017683347117962284,
          0.016447428260619994,
          0.014889865088363546,
          0.012501429095073272,
          0.008661079090655126,
          0.0012690083251151519,
          0,
          0,
          0,
          0,
          0,
          0,
          0,
          0,
          0,
          0,
          0,
          0,
          0,
          0,
          0,
          0,
          0,
          0,
          0,
          0,
          0,
          0,
          0,
          0,
          0,
          0,
          0,
          0,
          0,
          0,
          0,
          0,
          0,
          0,
          0,
          0,
          0,
          0,
          0,
          0,
          0,
          0,
          0,
          0,
          0,
          0,
          0,
          0,
          0,
          0,
          0,
          0,
          0,
          0,
          0,
          0,
          0,
          0,
          0,
          0,
          0,
          0,
          0,
          0
         ]
        }
       ],
       "layout": {
        "template": {
         "data": {
          "bar": [
           {
            "error_x": {
             "color": "#2a3f5f"
            },
            "error_y": {
             "color": "#2a3f5f"
            },
            "marker": {
             "line": {
              "color": "#E5ECF6",
              "width": 0.5
             },
             "pattern": {
              "fillmode": "overlay",
              "size": 10,
              "solidity": 0.2
             }
            },
            "type": "bar"
           }
          ],
          "barpolar": [
           {
            "marker": {
             "line": {
              "color": "#E5ECF6",
              "width": 0.5
             },
             "pattern": {
              "fillmode": "overlay",
              "size": 10,
              "solidity": 0.2
             }
            },
            "type": "barpolar"
           }
          ],
          "carpet": [
           {
            "aaxis": {
             "endlinecolor": "#2a3f5f",
             "gridcolor": "white",
             "linecolor": "white",
             "minorgridcolor": "white",
             "startlinecolor": "#2a3f5f"
            },
            "baxis": {
             "endlinecolor": "#2a3f5f",
             "gridcolor": "white",
             "linecolor": "white",
             "minorgridcolor": "white",
             "startlinecolor": "#2a3f5f"
            },
            "type": "carpet"
           }
          ],
          "choropleth": [
           {
            "colorbar": {
             "outlinewidth": 0,
             "ticks": ""
            },
            "type": "choropleth"
           }
          ],
          "contour": [
           {
            "colorbar": {
             "outlinewidth": 0,
             "ticks": ""
            },
            "colorscale": [
             [
              0,
              "#0d0887"
             ],
             [
              0.1111111111111111,
              "#46039f"
             ],
             [
              0.2222222222222222,
              "#7201a8"
             ],
             [
              0.3333333333333333,
              "#9c179e"
             ],
             [
              0.4444444444444444,
              "#bd3786"
             ],
             [
              0.5555555555555556,
              "#d8576b"
             ],
             [
              0.6666666666666666,
              "#ed7953"
             ],
             [
              0.7777777777777778,
              "#fb9f3a"
             ],
             [
              0.8888888888888888,
              "#fdca26"
             ],
             [
              1,
              "#f0f921"
             ]
            ],
            "type": "contour"
           }
          ],
          "contourcarpet": [
           {
            "colorbar": {
             "outlinewidth": 0,
             "ticks": ""
            },
            "type": "contourcarpet"
           }
          ],
          "heatmap": [
           {
            "colorbar": {
             "outlinewidth": 0,
             "ticks": ""
            },
            "colorscale": [
             [
              0,
              "#0d0887"
             ],
             [
              0.1111111111111111,
              "#46039f"
             ],
             [
              0.2222222222222222,
              "#7201a8"
             ],
             [
              0.3333333333333333,
              "#9c179e"
             ],
             [
              0.4444444444444444,
              "#bd3786"
             ],
             [
              0.5555555555555556,
              "#d8576b"
             ],
             [
              0.6666666666666666,
              "#ed7953"
             ],
             [
              0.7777777777777778,
              "#fb9f3a"
             ],
             [
              0.8888888888888888,
              "#fdca26"
             ],
             [
              1,
              "#f0f921"
             ]
            ],
            "type": "heatmap"
           }
          ],
          "heatmapgl": [
           {
            "colorbar": {
             "outlinewidth": 0,
             "ticks": ""
            },
            "colorscale": [
             [
              0,
              "#0d0887"
             ],
             [
              0.1111111111111111,
              "#46039f"
             ],
             [
              0.2222222222222222,
              "#7201a8"
             ],
             [
              0.3333333333333333,
              "#9c179e"
             ],
             [
              0.4444444444444444,
              "#bd3786"
             ],
             [
              0.5555555555555556,
              "#d8576b"
             ],
             [
              0.6666666666666666,
              "#ed7953"
             ],
             [
              0.7777777777777778,
              "#fb9f3a"
             ],
             [
              0.8888888888888888,
              "#fdca26"
             ],
             [
              1,
              "#f0f921"
             ]
            ],
            "type": "heatmapgl"
           }
          ],
          "histogram": [
           {
            "marker": {
             "pattern": {
              "fillmode": "overlay",
              "size": 10,
              "solidity": 0.2
             }
            },
            "type": "histogram"
           }
          ],
          "histogram2d": [
           {
            "colorbar": {
             "outlinewidth": 0,
             "ticks": ""
            },
            "colorscale": [
             [
              0,
              "#0d0887"
             ],
             [
              0.1111111111111111,
              "#46039f"
             ],
             [
              0.2222222222222222,
              "#7201a8"
             ],
             [
              0.3333333333333333,
              "#9c179e"
             ],
             [
              0.4444444444444444,
              "#bd3786"
             ],
             [
              0.5555555555555556,
              "#d8576b"
             ],
             [
              0.6666666666666666,
              "#ed7953"
             ],
             [
              0.7777777777777778,
              "#fb9f3a"
             ],
             [
              0.8888888888888888,
              "#fdca26"
             ],
             [
              1,
              "#f0f921"
             ]
            ],
            "type": "histogram2d"
           }
          ],
          "histogram2dcontour": [
           {
            "colorbar": {
             "outlinewidth": 0,
             "ticks": ""
            },
            "colorscale": [
             [
              0,
              "#0d0887"
             ],
             [
              0.1111111111111111,
              "#46039f"
             ],
             [
              0.2222222222222222,
              "#7201a8"
             ],
             [
              0.3333333333333333,
              "#9c179e"
             ],
             [
              0.4444444444444444,
              "#bd3786"
             ],
             [
              0.5555555555555556,
              "#d8576b"
             ],
             [
              0.6666666666666666,
              "#ed7953"
             ],
             [
              0.7777777777777778,
              "#fb9f3a"
             ],
             [
              0.8888888888888888,
              "#fdca26"
             ],
             [
              1,
              "#f0f921"
             ]
            ],
            "type": "histogram2dcontour"
           }
          ],
          "mesh3d": [
           {
            "colorbar": {
             "outlinewidth": 0,
             "ticks": ""
            },
            "type": "mesh3d"
           }
          ],
          "parcoords": [
           {
            "line": {
             "colorbar": {
              "outlinewidth": 0,
              "ticks": ""
             }
            },
            "type": "parcoords"
           }
          ],
          "pie": [
           {
            "automargin": true,
            "type": "pie"
           }
          ],
          "scatter": [
           {
            "fillpattern": {
             "fillmode": "overlay",
             "size": 10,
             "solidity": 0.2
            },
            "type": "scatter"
           }
          ],
          "scatter3d": [
           {
            "line": {
             "colorbar": {
              "outlinewidth": 0,
              "ticks": ""
             }
            },
            "marker": {
             "colorbar": {
              "outlinewidth": 0,
              "ticks": ""
             }
            },
            "type": "scatter3d"
           }
          ],
          "scattercarpet": [
           {
            "marker": {
             "colorbar": {
              "outlinewidth": 0,
              "ticks": ""
             }
            },
            "type": "scattercarpet"
           }
          ],
          "scattergeo": [
           {
            "marker": {
             "colorbar": {
              "outlinewidth": 0,
              "ticks": ""
             }
            },
            "type": "scattergeo"
           }
          ],
          "scattergl": [
           {
            "marker": {
             "colorbar": {
              "outlinewidth": 0,
              "ticks": ""
             }
            },
            "type": "scattergl"
           }
          ],
          "scattermapbox": [
           {
            "marker": {
             "colorbar": {
              "outlinewidth": 0,
              "ticks": ""
             }
            },
            "type": "scattermapbox"
           }
          ],
          "scatterpolar": [
           {
            "marker": {
             "colorbar": {
              "outlinewidth": 0,
              "ticks": ""
             }
            },
            "type": "scatterpolar"
           }
          ],
          "scatterpolargl": [
           {
            "marker": {
             "colorbar": {
              "outlinewidth": 0,
              "ticks": ""
             }
            },
            "type": "scatterpolargl"
           }
          ],
          "scatterternary": [
           {
            "marker": {
             "colorbar": {
              "outlinewidth": 0,
              "ticks": ""
             }
            },
            "type": "scatterternary"
           }
          ],
          "surface": [
           {
            "colorbar": {
             "outlinewidth": 0,
             "ticks": ""
            },
            "colorscale": [
             [
              0,
              "#0d0887"
             ],
             [
              0.1111111111111111,
              "#46039f"
             ],
             [
              0.2222222222222222,
              "#7201a8"
             ],
             [
              0.3333333333333333,
              "#9c179e"
             ],
             [
              0.4444444444444444,
              "#bd3786"
             ],
             [
              0.5555555555555556,
              "#d8576b"
             ],
             [
              0.6666666666666666,
              "#ed7953"
             ],
             [
              0.7777777777777778,
              "#fb9f3a"
             ],
             [
              0.8888888888888888,
              "#fdca26"
             ],
             [
              1,
              "#f0f921"
             ]
            ],
            "type": "surface"
           }
          ],
          "table": [
           {
            "cells": {
             "fill": {
              "color": "#EBF0F8"
             },
             "line": {
              "color": "white"
             }
            },
            "header": {
             "fill": {
              "color": "#C8D4E3"
             },
             "line": {
              "color": "white"
             }
            },
            "type": "table"
           }
          ]
         },
         "layout": {
          "annotationdefaults": {
           "arrowcolor": "#2a3f5f",
           "arrowhead": 0,
           "arrowwidth": 1
          },
          "autotypenumbers": "strict",
          "coloraxis": {
           "colorbar": {
            "outlinewidth": 0,
            "ticks": ""
           }
          },
          "colorscale": {
           "diverging": [
            [
             0,
             "#8e0152"
            ],
            [
             0.1,
             "#c51b7d"
            ],
            [
             0.2,
             "#de77ae"
            ],
            [
             0.3,
             "#f1b6da"
            ],
            [
             0.4,
             "#fde0ef"
            ],
            [
             0.5,
             "#f7f7f7"
            ],
            [
             0.6,
             "#e6f5d0"
            ],
            [
             0.7,
             "#b8e186"
            ],
            [
             0.8,
             "#7fbc41"
            ],
            [
             0.9,
             "#4d9221"
            ],
            [
             1,
             "#276419"
            ]
           ],
           "sequential": [
            [
             0,
             "#0d0887"
            ],
            [
             0.1111111111111111,
             "#46039f"
            ],
            [
             0.2222222222222222,
             "#7201a8"
            ],
            [
             0.3333333333333333,
             "#9c179e"
            ],
            [
             0.4444444444444444,
             "#bd3786"
            ],
            [
             0.5555555555555556,
             "#d8576b"
            ],
            [
             0.6666666666666666,
             "#ed7953"
            ],
            [
             0.7777777777777778,
             "#fb9f3a"
            ],
            [
             0.8888888888888888,
             "#fdca26"
            ],
            [
             1,
             "#f0f921"
            ]
           ],
           "sequentialminus": [
            [
             0,
             "#0d0887"
            ],
            [
             0.1111111111111111,
             "#46039f"
            ],
            [
             0.2222222222222222,
             "#7201a8"
            ],
            [
             0.3333333333333333,
             "#9c179e"
            ],
            [
             0.4444444444444444,
             "#bd3786"
            ],
            [
             0.5555555555555556,
             "#d8576b"
            ],
            [
             0.6666666666666666,
             "#ed7953"
            ],
            [
             0.7777777777777778,
             "#fb9f3a"
            ],
            [
             0.8888888888888888,
             "#fdca26"
            ],
            [
             1,
             "#f0f921"
            ]
           ]
          },
          "colorway": [
           "#636efa",
           "#EF553B",
           "#00cc96",
           "#ab63fa",
           "#FFA15A",
           "#19d3f3",
           "#FF6692",
           "#B6E880",
           "#FF97FF",
           "#FECB52"
          ],
          "font": {
           "color": "#2a3f5f"
          },
          "geo": {
           "bgcolor": "white",
           "lakecolor": "white",
           "landcolor": "#E5ECF6",
           "showlakes": true,
           "showland": true,
           "subunitcolor": "white"
          },
          "hoverlabel": {
           "align": "left"
          },
          "hovermode": "closest",
          "mapbox": {
           "style": "light"
          },
          "paper_bgcolor": "white",
          "plot_bgcolor": "#E5ECF6",
          "polar": {
           "angularaxis": {
            "gridcolor": "white",
            "linecolor": "white",
            "ticks": ""
           },
           "bgcolor": "#E5ECF6",
           "radialaxis": {
            "gridcolor": "white",
            "linecolor": "white",
            "ticks": ""
           }
          },
          "scene": {
           "xaxis": {
            "backgroundcolor": "#E5ECF6",
            "gridcolor": "white",
            "gridwidth": 2,
            "linecolor": "white",
            "showbackground": true,
            "ticks": "",
            "zerolinecolor": "white"
           },
           "yaxis": {
            "backgroundcolor": "#E5ECF6",
            "gridcolor": "white",
            "gridwidth": 2,
            "linecolor": "white",
            "showbackground": true,
            "ticks": "",
            "zerolinecolor": "white"
           },
           "zaxis": {
            "backgroundcolor": "#E5ECF6",
            "gridcolor": "white",
            "gridwidth": 2,
            "linecolor": "white",
            "showbackground": true,
            "ticks": "",
            "zerolinecolor": "white"
           }
          },
          "shapedefaults": {
           "line": {
            "color": "#2a3f5f"
           }
          },
          "ternary": {
           "aaxis": {
            "gridcolor": "white",
            "linecolor": "white",
            "ticks": ""
           },
           "baxis": {
            "gridcolor": "white",
            "linecolor": "white",
            "ticks": ""
           },
           "bgcolor": "#E5ECF6",
           "caxis": {
            "gridcolor": "white",
            "linecolor": "white",
            "ticks": ""
           }
          },
          "title": {
           "x": 0.05
          },
          "xaxis": {
           "automargin": true,
           "gridcolor": "white",
           "linecolor": "white",
           "ticks": "",
           "title": {
            "standoff": 15
           },
           "zerolinecolor": "white",
           "zerolinewidth": 2
          },
          "yaxis": {
           "automargin": true,
           "gridcolor": "white",
           "linecolor": "white",
           "ticks": "",
           "title": {
            "standoff": 15
           },
           "zerolinecolor": "white",
           "zerolinewidth": 2
          }
         }
        },
        "title": {
         "text": "AFN Zone Ventilation Air Change Rate [ach] <br><sup> 7/1 to 7/1 between 0 and 23 @4 </sup>"
        }
       }
      }
     },
     "metadata": {},
     "output_type": "display_data"
    }
   ],
   "source": [
    "ez.plt.get_collection_for_variable(ez.eligible_vars.zone_ach)\n",
    "ez.plt.create_plot()"
   ]
  },
  {
   "cell_type": "code",
   "execution_count": 8,
   "metadata": {},
   "outputs": [
    {
     "data": {
      "application/vnd.plotly.v1+json": {
       "config": {
        "plotlyServerURL": "https://plotly.com"
       },
       "data": [
        {
         "name": "BLOCK 00 STOREY 0",
         "type": "scatter",
         "x": [
          "2017-07-01T00:00:00",
          "2017-07-01T00:15:00",
          "2017-07-01T00:30:00",
          "2017-07-01T00:45:00",
          "2017-07-01T01:00:00",
          "2017-07-01T01:15:00",
          "2017-07-01T01:30:00",
          "2017-07-01T01:45:00",
          "2017-07-01T02:00:00",
          "2017-07-01T02:15:00",
          "2017-07-01T02:30:00",
          "2017-07-01T02:45:00",
          "2017-07-01T03:00:00",
          "2017-07-01T03:15:00",
          "2017-07-01T03:30:00",
          "2017-07-01T03:45:00",
          "2017-07-01T04:00:00",
          "2017-07-01T04:15:00",
          "2017-07-01T04:30:00",
          "2017-07-01T04:45:00",
          "2017-07-01T05:00:00",
          "2017-07-01T05:15:00",
          "2017-07-01T05:30:00",
          "2017-07-01T05:45:00",
          "2017-07-01T06:00:00",
          "2017-07-01T06:15:00",
          "2017-07-01T06:30:00",
          "2017-07-01T06:45:00",
          "2017-07-01T07:00:00",
          "2017-07-01T07:15:00",
          "2017-07-01T07:30:00",
          "2017-07-01T07:45:00",
          "2017-07-01T08:00:00",
          "2017-07-01T08:15:00",
          "2017-07-01T08:30:00",
          "2017-07-01T08:45:00",
          "2017-07-01T09:00:00",
          "2017-07-01T09:15:00",
          "2017-07-01T09:30:00",
          "2017-07-01T09:45:00",
          "2017-07-01T10:00:00",
          "2017-07-01T10:15:00",
          "2017-07-01T10:30:00",
          "2017-07-01T10:45:00",
          "2017-07-01T11:00:00",
          "2017-07-01T11:15:00",
          "2017-07-01T11:30:00",
          "2017-07-01T11:45:00",
          "2017-07-01T12:00:00",
          "2017-07-01T12:15:00",
          "2017-07-01T12:30:00",
          "2017-07-01T12:45:00",
          "2017-07-01T13:00:00",
          "2017-07-01T13:15:00",
          "2017-07-01T13:30:00",
          "2017-07-01T13:45:00",
          "2017-07-01T14:00:00",
          "2017-07-01T14:15:00",
          "2017-07-01T14:30:00",
          "2017-07-01T14:45:00",
          "2017-07-01T15:00:00",
          "2017-07-01T15:15:00",
          "2017-07-01T15:30:00",
          "2017-07-01T15:45:00",
          "2017-07-01T16:00:00",
          "2017-07-01T16:15:00",
          "2017-07-01T16:30:00",
          "2017-07-01T16:45:00",
          "2017-07-01T17:00:00",
          "2017-07-01T17:15:00",
          "2017-07-01T17:30:00",
          "2017-07-01T17:45:00",
          "2017-07-01T18:00:00",
          "2017-07-01T18:15:00",
          "2017-07-01T18:30:00",
          "2017-07-01T18:45:00",
          "2017-07-01T19:00:00",
          "2017-07-01T19:15:00",
          "2017-07-01T19:30:00",
          "2017-07-01T19:45:00",
          "2017-07-01T20:00:00",
          "2017-07-01T20:15:00",
          "2017-07-01T20:30:00",
          "2017-07-01T20:45:00",
          "2017-07-01T21:00:00",
          "2017-07-01T21:15:00",
          "2017-07-01T21:30:00",
          "2017-07-01T21:45:00",
          "2017-07-01T22:00:00",
          "2017-07-01T22:15:00",
          "2017-07-01T22:30:00",
          "2017-07-01T22:45:00",
          "2017-07-01T23:00:00",
          "2017-07-01T23:15:00",
          "2017-07-01T23:30:00",
          "2017-07-01T23:45:00"
         ],
         "y": [
          0,
          0,
          0,
          0,
          0,
          0,
          0,
          0,
          0,
          0,
          0,
          0,
          0,
          0,
          0,
          0,
          0,
          0,
          0,
          0,
          0,
          0,
          0,
          0,
          0,
          0,
          0,
          0,
          0,
          0,
          0,
          0,
          0,
          0,
          0,
          0,
          0,
          0,
          0,
          0,
          4.105541720210217,
          177.8154736312802,
          390.6854946687806,
          630.895374790071,
          963.4906699090055,
          1334.4368597404864,
          1719.9829855869737,
          2124.578633391425,
          2167.3015544378854,
          2202.298085212601,
          2227.434356553614,
          2238.6781461273054,
          2185.3659811396883,
          2130.30587777733,
          2074.120474425816,
          2017.3717023153517,
          1675.9403711858297,
          1349.779609849276,
          1034.915749514852,
          746.1823448175389,
          468.0907397658323,
          195.22000612367052,
          0,
          0,
          0,
          0,
          0,
          0,
          0,
          0,
          0,
          0,
          0,
          0,
          0,
          0,
          0,
          0,
          0,
          0,
          0,
          0,
          0,
          0,
          0,
          0,
          0,
          0,
          0,
          0,
          0,
          0,
          0,
          0,
          0,
          0
         ]
        },
        {
         "name": "BLOCK 01 STOREY 0",
         "type": "scatter",
         "x": [
          "2017-07-01T00:00:00",
          "2017-07-01T00:15:00",
          "2017-07-01T00:30:00",
          "2017-07-01T00:45:00",
          "2017-07-01T01:00:00",
          "2017-07-01T01:15:00",
          "2017-07-01T01:30:00",
          "2017-07-01T01:45:00",
          "2017-07-01T02:00:00",
          "2017-07-01T02:15:00",
          "2017-07-01T02:30:00",
          "2017-07-01T02:45:00",
          "2017-07-01T03:00:00",
          "2017-07-01T03:15:00",
          "2017-07-01T03:30:00",
          "2017-07-01T03:45:00",
          "2017-07-01T04:00:00",
          "2017-07-01T04:15:00",
          "2017-07-01T04:30:00",
          "2017-07-01T04:45:00",
          "2017-07-01T05:00:00",
          "2017-07-01T05:15:00",
          "2017-07-01T05:30:00",
          "2017-07-01T05:45:00",
          "2017-07-01T06:00:00",
          "2017-07-01T06:15:00",
          "2017-07-01T06:30:00",
          "2017-07-01T06:45:00",
          "2017-07-01T07:00:00",
          "2017-07-01T07:15:00",
          "2017-07-01T07:30:00",
          "2017-07-01T07:45:00",
          "2017-07-01T08:00:00",
          "2017-07-01T08:15:00",
          "2017-07-01T08:30:00",
          "2017-07-01T08:45:00",
          "2017-07-01T09:00:00",
          "2017-07-01T09:15:00",
          "2017-07-01T09:30:00",
          "2017-07-01T09:45:00",
          "2017-07-01T10:00:00",
          "2017-07-01T10:15:00",
          "2017-07-01T10:30:00",
          "2017-07-01T10:45:00",
          "2017-07-01T11:00:00",
          "2017-07-01T11:15:00",
          "2017-07-01T11:30:00",
          "2017-07-01T11:45:00",
          "2017-07-01T12:00:00",
          "2017-07-01T12:15:00",
          "2017-07-01T12:30:00",
          "2017-07-01T12:45:00",
          "2017-07-01T13:00:00",
          "2017-07-01T13:15:00",
          "2017-07-01T13:30:00",
          "2017-07-01T13:45:00",
          "2017-07-01T14:00:00",
          "2017-07-01T14:15:00",
          "2017-07-01T14:30:00",
          "2017-07-01T14:45:00",
          "2017-07-01T15:00:00",
          "2017-07-01T15:15:00",
          "2017-07-01T15:30:00",
          "2017-07-01T15:45:00",
          "2017-07-01T16:00:00",
          "2017-07-01T16:15:00",
          "2017-07-01T16:30:00",
          "2017-07-01T16:45:00",
          "2017-07-01T17:00:00",
          "2017-07-01T17:15:00",
          "2017-07-01T17:30:00",
          "2017-07-01T17:45:00",
          "2017-07-01T18:00:00",
          "2017-07-01T18:15:00",
          "2017-07-01T18:30:00",
          "2017-07-01T18:45:00",
          "2017-07-01T19:00:00",
          "2017-07-01T19:15:00",
          "2017-07-01T19:30:00",
          "2017-07-01T19:45:00",
          "2017-07-01T20:00:00",
          "2017-07-01T20:15:00",
          "2017-07-01T20:30:00",
          "2017-07-01T20:45:00",
          "2017-07-01T21:00:00",
          "2017-07-01T21:15:00",
          "2017-07-01T21:30:00",
          "2017-07-01T21:45:00",
          "2017-07-01T22:00:00",
          "2017-07-01T22:15:00",
          "2017-07-01T22:30:00",
          "2017-07-01T22:45:00",
          "2017-07-01T23:00:00",
          "2017-07-01T23:15:00",
          "2017-07-01T23:30:00",
          "2017-07-01T23:45:00"
         ],
         "y": [
          0,
          0,
          0,
          0,
          0,
          0,
          0,
          0,
          0,
          0,
          0,
          0,
          0,
          0,
          0,
          0,
          0,
          0,
          0,
          0,
          0,
          0,
          0,
          0,
          0,
          0,
          0,
          0,
          0,
          0,
          0,
          0,
          0,
          0,
          0,
          0,
          0,
          0,
          0,
          0,
          0,
          0,
          0,
          0,
          0,
          0,
          0,
          0,
          0,
          0,
          0,
          0,
          0,
          0,
          0,
          0,
          0,
          0,
          0,
          0,
          0,
          0,
          0,
          0,
          0,
          0,
          0,
          0,
          0,
          0,
          0,
          0,
          0,
          0,
          0,
          0,
          0,
          0,
          0,
          0,
          0,
          0,
          0,
          0,
          0,
          0,
          0,
          0,
          0,
          0,
          0,
          0,
          0,
          0,
          0,
          0
         ]
        }
       ],
       "layout": {
        "template": {
         "data": {
          "bar": [
           {
            "error_x": {
             "color": "#2a3f5f"
            },
            "error_y": {
             "color": "#2a3f5f"
            },
            "marker": {
             "line": {
              "color": "#E5ECF6",
              "width": 0.5
             },
             "pattern": {
              "fillmode": "overlay",
              "size": 10,
              "solidity": 0.2
             }
            },
            "type": "bar"
           }
          ],
          "barpolar": [
           {
            "marker": {
             "line": {
              "color": "#E5ECF6",
              "width": 0.5
             },
             "pattern": {
              "fillmode": "overlay",
              "size": 10,
              "solidity": 0.2
             }
            },
            "type": "barpolar"
           }
          ],
          "carpet": [
           {
            "aaxis": {
             "endlinecolor": "#2a3f5f",
             "gridcolor": "white",
             "linecolor": "white",
             "minorgridcolor": "white",
             "startlinecolor": "#2a3f5f"
            },
            "baxis": {
             "endlinecolor": "#2a3f5f",
             "gridcolor": "white",
             "linecolor": "white",
             "minorgridcolor": "white",
             "startlinecolor": "#2a3f5f"
            },
            "type": "carpet"
           }
          ],
          "choropleth": [
           {
            "colorbar": {
             "outlinewidth": 0,
             "ticks": ""
            },
            "type": "choropleth"
           }
          ],
          "contour": [
           {
            "colorbar": {
             "outlinewidth": 0,
             "ticks": ""
            },
            "colorscale": [
             [
              0,
              "#0d0887"
             ],
             [
              0.1111111111111111,
              "#46039f"
             ],
             [
              0.2222222222222222,
              "#7201a8"
             ],
             [
              0.3333333333333333,
              "#9c179e"
             ],
             [
              0.4444444444444444,
              "#bd3786"
             ],
             [
              0.5555555555555556,
              "#d8576b"
             ],
             [
              0.6666666666666666,
              "#ed7953"
             ],
             [
              0.7777777777777778,
              "#fb9f3a"
             ],
             [
              0.8888888888888888,
              "#fdca26"
             ],
             [
              1,
              "#f0f921"
             ]
            ],
            "type": "contour"
           }
          ],
          "contourcarpet": [
           {
            "colorbar": {
             "outlinewidth": 0,
             "ticks": ""
            },
            "type": "contourcarpet"
           }
          ],
          "heatmap": [
           {
            "colorbar": {
             "outlinewidth": 0,
             "ticks": ""
            },
            "colorscale": [
             [
              0,
              "#0d0887"
             ],
             [
              0.1111111111111111,
              "#46039f"
             ],
             [
              0.2222222222222222,
              "#7201a8"
             ],
             [
              0.3333333333333333,
              "#9c179e"
             ],
             [
              0.4444444444444444,
              "#bd3786"
             ],
             [
              0.5555555555555556,
              "#d8576b"
             ],
             [
              0.6666666666666666,
              "#ed7953"
             ],
             [
              0.7777777777777778,
              "#fb9f3a"
             ],
             [
              0.8888888888888888,
              "#fdca26"
             ],
             [
              1,
              "#f0f921"
             ]
            ],
            "type": "heatmap"
           }
          ],
          "heatmapgl": [
           {
            "colorbar": {
             "outlinewidth": 0,
             "ticks": ""
            },
            "colorscale": [
             [
              0,
              "#0d0887"
             ],
             [
              0.1111111111111111,
              "#46039f"
             ],
             [
              0.2222222222222222,
              "#7201a8"
             ],
             [
              0.3333333333333333,
              "#9c179e"
             ],
             [
              0.4444444444444444,
              "#bd3786"
             ],
             [
              0.5555555555555556,
              "#d8576b"
             ],
             [
              0.6666666666666666,
              "#ed7953"
             ],
             [
              0.7777777777777778,
              "#fb9f3a"
             ],
             [
              0.8888888888888888,
              "#fdca26"
             ],
             [
              1,
              "#f0f921"
             ]
            ],
            "type": "heatmapgl"
           }
          ],
          "histogram": [
           {
            "marker": {
             "pattern": {
              "fillmode": "overlay",
              "size": 10,
              "solidity": 0.2
             }
            },
            "type": "histogram"
           }
          ],
          "histogram2d": [
           {
            "colorbar": {
             "outlinewidth": 0,
             "ticks": ""
            },
            "colorscale": [
             [
              0,
              "#0d0887"
             ],
             [
              0.1111111111111111,
              "#46039f"
             ],
             [
              0.2222222222222222,
              "#7201a8"
             ],
             [
              0.3333333333333333,
              "#9c179e"
             ],
             [
              0.4444444444444444,
              "#bd3786"
             ],
             [
              0.5555555555555556,
              "#d8576b"
             ],
             [
              0.6666666666666666,
              "#ed7953"
             ],
             [
              0.7777777777777778,
              "#fb9f3a"
             ],
             [
              0.8888888888888888,
              "#fdca26"
             ],
             [
              1,
              "#f0f921"
             ]
            ],
            "type": "histogram2d"
           }
          ],
          "histogram2dcontour": [
           {
            "colorbar": {
             "outlinewidth": 0,
             "ticks": ""
            },
            "colorscale": [
             [
              0,
              "#0d0887"
             ],
             [
              0.1111111111111111,
              "#46039f"
             ],
             [
              0.2222222222222222,
              "#7201a8"
             ],
             [
              0.3333333333333333,
              "#9c179e"
             ],
             [
              0.4444444444444444,
              "#bd3786"
             ],
             [
              0.5555555555555556,
              "#d8576b"
             ],
             [
              0.6666666666666666,
              "#ed7953"
             ],
             [
              0.7777777777777778,
              "#fb9f3a"
             ],
             [
              0.8888888888888888,
              "#fdca26"
             ],
             [
              1,
              "#f0f921"
             ]
            ],
            "type": "histogram2dcontour"
           }
          ],
          "mesh3d": [
           {
            "colorbar": {
             "outlinewidth": 0,
             "ticks": ""
            },
            "type": "mesh3d"
           }
          ],
          "parcoords": [
           {
            "line": {
             "colorbar": {
              "outlinewidth": 0,
              "ticks": ""
             }
            },
            "type": "parcoords"
           }
          ],
          "pie": [
           {
            "automargin": true,
            "type": "pie"
           }
          ],
          "scatter": [
           {
            "fillpattern": {
             "fillmode": "overlay",
             "size": 10,
             "solidity": 0.2
            },
            "type": "scatter"
           }
          ],
          "scatter3d": [
           {
            "line": {
             "colorbar": {
              "outlinewidth": 0,
              "ticks": ""
             }
            },
            "marker": {
             "colorbar": {
              "outlinewidth": 0,
              "ticks": ""
             }
            },
            "type": "scatter3d"
           }
          ],
          "scattercarpet": [
           {
            "marker": {
             "colorbar": {
              "outlinewidth": 0,
              "ticks": ""
             }
            },
            "type": "scattercarpet"
           }
          ],
          "scattergeo": [
           {
            "marker": {
             "colorbar": {
              "outlinewidth": 0,
              "ticks": ""
             }
            },
            "type": "scattergeo"
           }
          ],
          "scattergl": [
           {
            "marker": {
             "colorbar": {
              "outlinewidth": 0,
              "ticks": ""
             }
            },
            "type": "scattergl"
           }
          ],
          "scattermapbox": [
           {
            "marker": {
             "colorbar": {
              "outlinewidth": 0,
              "ticks": ""
             }
            },
            "type": "scattermapbox"
           }
          ],
          "scatterpolar": [
           {
            "marker": {
             "colorbar": {
              "outlinewidth": 0,
              "ticks": ""
             }
            },
            "type": "scatterpolar"
           }
          ],
          "scatterpolargl": [
           {
            "marker": {
             "colorbar": {
              "outlinewidth": 0,
              "ticks": ""
             }
            },
            "type": "scatterpolargl"
           }
          ],
          "scatterternary": [
           {
            "marker": {
             "colorbar": {
              "outlinewidth": 0,
              "ticks": ""
             }
            },
            "type": "scatterternary"
           }
          ],
          "surface": [
           {
            "colorbar": {
             "outlinewidth": 0,
             "ticks": ""
            },
            "colorscale": [
             [
              0,
              "#0d0887"
             ],
             [
              0.1111111111111111,
              "#46039f"
             ],
             [
              0.2222222222222222,
              "#7201a8"
             ],
             [
              0.3333333333333333,
              "#9c179e"
             ],
             [
              0.4444444444444444,
              "#bd3786"
             ],
             [
              0.5555555555555556,
              "#d8576b"
             ],
             [
              0.6666666666666666,
              "#ed7953"
             ],
             [
              0.7777777777777778,
              "#fb9f3a"
             ],
             [
              0.8888888888888888,
              "#fdca26"
             ],
             [
              1,
              "#f0f921"
             ]
            ],
            "type": "surface"
           }
          ],
          "table": [
           {
            "cells": {
             "fill": {
              "color": "#EBF0F8"
             },
             "line": {
              "color": "white"
             }
            },
            "header": {
             "fill": {
              "color": "#C8D4E3"
             },
             "line": {
              "color": "white"
             }
            },
            "type": "table"
           }
          ]
         },
         "layout": {
          "annotationdefaults": {
           "arrowcolor": "#2a3f5f",
           "arrowhead": 0,
           "arrowwidth": 1
          },
          "autotypenumbers": "strict",
          "coloraxis": {
           "colorbar": {
            "outlinewidth": 0,
            "ticks": ""
           }
          },
          "colorscale": {
           "diverging": [
            [
             0,
             "#8e0152"
            ],
            [
             0.1,
             "#c51b7d"
            ],
            [
             0.2,
             "#de77ae"
            ],
            [
             0.3,
             "#f1b6da"
            ],
            [
             0.4,
             "#fde0ef"
            ],
            [
             0.5,
             "#f7f7f7"
            ],
            [
             0.6,
             "#e6f5d0"
            ],
            [
             0.7,
             "#b8e186"
            ],
            [
             0.8,
             "#7fbc41"
            ],
            [
             0.9,
             "#4d9221"
            ],
            [
             1,
             "#276419"
            ]
           ],
           "sequential": [
            [
             0,
             "#0d0887"
            ],
            [
             0.1111111111111111,
             "#46039f"
            ],
            [
             0.2222222222222222,
             "#7201a8"
            ],
            [
             0.3333333333333333,
             "#9c179e"
            ],
            [
             0.4444444444444444,
             "#bd3786"
            ],
            [
             0.5555555555555556,
             "#d8576b"
            ],
            [
             0.6666666666666666,
             "#ed7953"
            ],
            [
             0.7777777777777778,
             "#fb9f3a"
            ],
            [
             0.8888888888888888,
             "#fdca26"
            ],
            [
             1,
             "#f0f921"
            ]
           ],
           "sequentialminus": [
            [
             0,
             "#0d0887"
            ],
            [
             0.1111111111111111,
             "#46039f"
            ],
            [
             0.2222222222222222,
             "#7201a8"
            ],
            [
             0.3333333333333333,
             "#9c179e"
            ],
            [
             0.4444444444444444,
             "#bd3786"
            ],
            [
             0.5555555555555556,
             "#d8576b"
            ],
            [
             0.6666666666666666,
             "#ed7953"
            ],
            [
             0.7777777777777778,
             "#fb9f3a"
            ],
            [
             0.8888888888888888,
             "#fdca26"
            ],
            [
             1,
             "#f0f921"
            ]
           ]
          },
          "colorway": [
           "#636efa",
           "#EF553B",
           "#00cc96",
           "#ab63fa",
           "#FFA15A",
           "#19d3f3",
           "#FF6692",
           "#B6E880",
           "#FF97FF",
           "#FECB52"
          ],
          "font": {
           "color": "#2a3f5f"
          },
          "geo": {
           "bgcolor": "white",
           "lakecolor": "white",
           "landcolor": "#E5ECF6",
           "showlakes": true,
           "showland": true,
           "subunitcolor": "white"
          },
          "hoverlabel": {
           "align": "left"
          },
          "hovermode": "closest",
          "mapbox": {
           "style": "light"
          },
          "paper_bgcolor": "white",
          "plot_bgcolor": "#E5ECF6",
          "polar": {
           "angularaxis": {
            "gridcolor": "white",
            "linecolor": "white",
            "ticks": ""
           },
           "bgcolor": "#E5ECF6",
           "radialaxis": {
            "gridcolor": "white",
            "linecolor": "white",
            "ticks": ""
           }
          },
          "scene": {
           "xaxis": {
            "backgroundcolor": "#E5ECF6",
            "gridcolor": "white",
            "gridwidth": 2,
            "linecolor": "white",
            "showbackground": true,
            "ticks": "",
            "zerolinecolor": "white"
           },
           "yaxis": {
            "backgroundcolor": "#E5ECF6",
            "gridcolor": "white",
            "gridwidth": 2,
            "linecolor": "white",
            "showbackground": true,
            "ticks": "",
            "zerolinecolor": "white"
           },
           "zaxis": {
            "backgroundcolor": "#E5ECF6",
            "gridcolor": "white",
            "gridwidth": 2,
            "linecolor": "white",
            "showbackground": true,
            "ticks": "",
            "zerolinecolor": "white"
           }
          },
          "shapedefaults": {
           "line": {
            "color": "#2a3f5f"
           }
          },
          "ternary": {
           "aaxis": {
            "gridcolor": "white",
            "linecolor": "white",
            "ticks": ""
           },
           "baxis": {
            "gridcolor": "white",
            "linecolor": "white",
            "ticks": ""
           },
           "bgcolor": "#E5ECF6",
           "caxis": {
            "gridcolor": "white",
            "linecolor": "white",
            "ticks": ""
           }
          },
          "title": {
           "x": 0.05
          },
          "xaxis": {
           "automargin": true,
           "gridcolor": "white",
           "linecolor": "white",
           "ticks": "",
           "title": {
            "standoff": 15
           },
           "zerolinecolor": "white",
           "zerolinewidth": 2
          },
          "yaxis": {
           "automargin": true,
           "gridcolor": "white",
           "linecolor": "white",
           "ticks": "",
           "title": {
            "standoff": 15
           },
           "zerolinecolor": "white",
           "zerolinewidth": 2
          }
         }
        },
        "title": {
         "text": "AFN Zone Ventilation Sensible Heat Gain Rate [W] <br><sup> 7/1 to 7/1 between 0 and 23 @4 </sup>"
        }
       }
      }
     },
     "metadata": {},
     "output_type": "display_data"
    }
   ],
   "source": [
    "ez.plt.get_collection_for_variable(ez.eligible_vars.zone_vent_heat_gain)\n",
    "ez.plt.create_plot()"
   ]
  },
  {
   "cell_type": "code",
   "execution_count": 9,
   "metadata": {},
   "outputs": [
    {
     "data": {
      "application/vnd.plotly.v1+json": {
       "config": {
        "plotlyServerURL": "https://plotly.com"
       },
       "data": [
        {
         "name": "BLOCK 00 STOREY 0",
         "type": "scatter",
         "x": [
          "2017-07-01T00:00:00",
          "2017-07-01T00:15:00",
          "2017-07-01T00:30:00",
          "2017-07-01T00:45:00",
          "2017-07-01T01:00:00",
          "2017-07-01T01:15:00",
          "2017-07-01T01:30:00",
          "2017-07-01T01:45:00",
          "2017-07-01T02:00:00",
          "2017-07-01T02:15:00",
          "2017-07-01T02:30:00",
          "2017-07-01T02:45:00",
          "2017-07-01T03:00:00",
          "2017-07-01T03:15:00",
          "2017-07-01T03:30:00",
          "2017-07-01T03:45:00",
          "2017-07-01T04:00:00",
          "2017-07-01T04:15:00",
          "2017-07-01T04:30:00",
          "2017-07-01T04:45:00",
          "2017-07-01T05:00:00",
          "2017-07-01T05:15:00",
          "2017-07-01T05:30:00",
          "2017-07-01T05:45:00",
          "2017-07-01T06:00:00",
          "2017-07-01T06:15:00",
          "2017-07-01T06:30:00",
          "2017-07-01T06:45:00",
          "2017-07-01T07:00:00",
          "2017-07-01T07:15:00",
          "2017-07-01T07:30:00",
          "2017-07-01T07:45:00",
          "2017-07-01T08:00:00",
          "2017-07-01T08:15:00",
          "2017-07-01T08:30:00",
          "2017-07-01T08:45:00",
          "2017-07-01T09:00:00",
          "2017-07-01T09:15:00",
          "2017-07-01T09:30:00",
          "2017-07-01T09:45:00",
          "2017-07-01T10:00:00",
          "2017-07-01T10:15:00",
          "2017-07-01T10:30:00",
          "2017-07-01T10:45:00",
          "2017-07-01T11:00:00",
          "2017-07-01T11:15:00",
          "2017-07-01T11:30:00",
          "2017-07-01T11:45:00",
          "2017-07-01T12:00:00",
          "2017-07-01T12:15:00",
          "2017-07-01T12:30:00",
          "2017-07-01T12:45:00",
          "2017-07-01T13:00:00",
          "2017-07-01T13:15:00",
          "2017-07-01T13:30:00",
          "2017-07-01T13:45:00",
          "2017-07-01T14:00:00",
          "2017-07-01T14:15:00",
          "2017-07-01T14:30:00",
          "2017-07-01T14:45:00",
          "2017-07-01T15:00:00",
          "2017-07-01T15:15:00",
          "2017-07-01T15:30:00",
          "2017-07-01T15:45:00",
          "2017-07-01T16:00:00",
          "2017-07-01T16:15:00",
          "2017-07-01T16:30:00",
          "2017-07-01T16:45:00",
          "2017-07-01T17:00:00",
          "2017-07-01T17:15:00",
          "2017-07-01T17:30:00",
          "2017-07-01T17:45:00",
          "2017-07-01T18:00:00",
          "2017-07-01T18:15:00",
          "2017-07-01T18:30:00",
          "2017-07-01T18:45:00",
          "2017-07-01T19:00:00",
          "2017-07-01T19:15:00",
          "2017-07-01T19:30:00",
          "2017-07-01T19:45:00",
          "2017-07-01T20:00:00",
          "2017-07-01T20:15:00",
          "2017-07-01T20:30:00",
          "2017-07-01T20:45:00",
          "2017-07-01T21:00:00",
          "2017-07-01T21:15:00",
          "2017-07-01T21:30:00",
          "2017-07-01T21:45:00",
          "2017-07-01T22:00:00",
          "2017-07-01T22:15:00",
          "2017-07-01T22:30:00",
          "2017-07-01T22:45:00",
          "2017-07-01T23:00:00",
          "2017-07-01T23:15:00",
          "2017-07-01T23:30:00",
          "2017-07-01T23:45:00"
         ],
         "y": [
          3639.4417692844445,
          3591.8290785047047,
          3712.163362989011,
          3876.2975137596686,
          3868.2639765621716,
          3845.300758573175,
          3787.404338954043,
          3723.00406395912,
          3674.4257390590483,
          3627.179426350736,
          3580.9189038310933,
          3535.4822300660326,
          3504.0288181693745,
          3473.183446171502,
          3443.004452168295,
          3413.584815568139,
          3373.815719600042,
          3334.4310067982447,
          3295.5278807245836,
          3257.1770608798224,
          3099.6797534446446,
          2946.5421950703826,
          2797.907505221108,
          2653.7021064749774,
          2293.2717307381704,
          1955.2426176879408,
          1640.352927448738,
          1349.023272881775,
          1194.8940266682494,
          1063.6974404632733,
          962.2560273765664,
          962.8916437029247,
          893.0420948304677,
          778.8747216286931,
          662.844071873926,
          551.8150575340765,
          416.23593541131555,
          294.3935551161622,
          188.08345667344335,
          120.43572076656925,
          0,
          0,
          0,
          0,
          0,
          0,
          0,
          0,
          0,
          0,
          0,
          0,
          0,
          0,
          0,
          0,
          0,
          0,
          0,
          0,
          0,
          0,
          72.08286861236566,
          333.49299583900756,
          595.9633446554253,
          858.3237955932746,
          1121.9038807286327,
          1408.4069295004754,
          1703.4099011154208,
          2004.842765509188,
          2296.220865245348,
          2585.0246459619107,
          2757.2608923539456,
          2909.452102492373,
          3040.0132751152296,
          3145.289094456267,
          3430.1718027262973,
          3711.8140467996773,
          3988.601296667372,
          4259.682037831926,
          4264.013610946295,
          4260.790021208433,
          4250.683257831655,
          4233.390180079596,
          4243.349332314068,
          4245.004028297259,
          4238.328551388859,
          4223.6450967545825,
          4188.828981377572,
          4146.280845489003,
          4096.219251064404,
          4038.5013343238234,
          3988.1133277829276,
          3930.3523123006453,
          3863.539398880019,
          3782.0559155728306
         ]
        },
        {
         "name": "BLOCK 01 STOREY 0",
         "type": "scatter",
         "x": [
          "2017-07-01T00:00:00",
          "2017-07-01T00:15:00",
          "2017-07-01T00:30:00",
          "2017-07-01T00:45:00",
          "2017-07-01T01:00:00",
          "2017-07-01T01:15:00",
          "2017-07-01T01:30:00",
          "2017-07-01T01:45:00",
          "2017-07-01T02:00:00",
          "2017-07-01T02:15:00",
          "2017-07-01T02:30:00",
          "2017-07-01T02:45:00",
          "2017-07-01T03:00:00",
          "2017-07-01T03:15:00",
          "2017-07-01T03:30:00",
          "2017-07-01T03:45:00",
          "2017-07-01T04:00:00",
          "2017-07-01T04:15:00",
          "2017-07-01T04:30:00",
          "2017-07-01T04:45:00",
          "2017-07-01T05:00:00",
          "2017-07-01T05:15:00",
          "2017-07-01T05:30:00",
          "2017-07-01T05:45:00",
          "2017-07-01T06:00:00",
          "2017-07-01T06:15:00",
          "2017-07-01T06:30:00",
          "2017-07-01T06:45:00",
          "2017-07-01T07:00:00",
          "2017-07-01T07:15:00",
          "2017-07-01T07:30:00",
          "2017-07-01T07:45:00",
          "2017-07-01T08:00:00",
          "2017-07-01T08:15:00",
          "2017-07-01T08:30:00",
          "2017-07-01T08:45:00",
          "2017-07-01T09:00:00",
          "2017-07-01T09:15:00",
          "2017-07-01T09:30:00",
          "2017-07-01T09:45:00",
          "2017-07-01T10:00:00",
          "2017-07-01T10:15:00",
          "2017-07-01T10:30:00",
          "2017-07-01T10:45:00",
          "2017-07-01T11:00:00",
          "2017-07-01T11:15:00",
          "2017-07-01T11:30:00",
          "2017-07-01T11:45:00",
          "2017-07-01T12:00:00",
          "2017-07-01T12:15:00",
          "2017-07-01T12:30:00",
          "2017-07-01T12:45:00",
          "2017-07-01T13:00:00",
          "2017-07-01T13:15:00",
          "2017-07-01T13:30:00",
          "2017-07-01T13:45:00",
          "2017-07-01T14:00:00",
          "2017-07-01T14:15:00",
          "2017-07-01T14:30:00",
          "2017-07-01T14:45:00",
          "2017-07-01T15:00:00",
          "2017-07-01T15:15:00",
          "2017-07-01T15:30:00",
          "2017-07-01T15:45:00",
          "2017-07-01T16:00:00",
          "2017-07-01T16:15:00",
          "2017-07-01T16:30:00",
          "2017-07-01T16:45:00",
          "2017-07-01T17:00:00",
          "2017-07-01T17:15:00",
          "2017-07-01T17:30:00",
          "2017-07-01T17:45:00",
          "2017-07-01T18:00:00",
          "2017-07-01T18:15:00",
          "2017-07-01T18:30:00",
          "2017-07-01T18:45:00",
          "2017-07-01T19:00:00",
          "2017-07-01T19:15:00",
          "2017-07-01T19:30:00",
          "2017-07-01T19:45:00",
          "2017-07-01T20:00:00",
          "2017-07-01T20:15:00",
          "2017-07-01T20:30:00",
          "2017-07-01T20:45:00",
          "2017-07-01T21:00:00",
          "2017-07-01T21:15:00",
          "2017-07-01T21:30:00",
          "2017-07-01T21:45:00",
          "2017-07-01T22:00:00",
          "2017-07-01T22:15:00",
          "2017-07-01T22:30:00",
          "2017-07-01T22:45:00",
          "2017-07-01T23:00:00",
          "2017-07-01T23:15:00",
          "2017-07-01T23:30:00",
          "2017-07-01T23:45:00"
         ],
         "y": [
          416.898248866945,
          1065.0718349399529,
          1512.3204761064644,
          1862.6486166641616,
          1808.234657249755,
          1784.7507609580177,
          1842.1295095021744,
          1913.9607048602525,
          1946.7888321264975,
          1973.8012786299869,
          1995.3401815715804,
          2011.767477590595,
          2030.544434280647,
          2044.9417223041012,
          2055.1609585846686,
          2061.3835520378666,
          2051.7728001147043,
          2040.0767729512877,
          2026.3767834727796,
          2010.733898414326,
          1924.3337149868196,
          1837.734865779607,
          1751.107263062853,
          1664.5732436608107,
          1450.998478749692,
          1247.4651999158177,
          1054.734008609855,
          873.5300176713074,
          728.9629010569578,
          561.2049271886978,
          354.5484578400407,
          47.10064301995842,
          0,
          0,
          0,
          0,
          0,
          0,
          0,
          0,
          0,
          0,
          0,
          0,
          0,
          0,
          0,
          0,
          0,
          0,
          0,
          0,
          0,
          0,
          0,
          0,
          0,
          0,
          0,
          0,
          0,
          0,
          0,
          0,
          0,
          0,
          0,
          0,
          0,
          0,
          0,
          0,
          0,
          0,
          0,
          0,
          0,
          0,
          0,
          0,
          0,
          0,
          0,
          0,
          0,
          0,
          0,
          0,
          0,
          0,
          0,
          0,
          0,
          0,
          0,
          0
         ]
        }
       ],
       "layout": {
        "template": {
         "data": {
          "bar": [
           {
            "error_x": {
             "color": "#2a3f5f"
            },
            "error_y": {
             "color": "#2a3f5f"
            },
            "marker": {
             "line": {
              "color": "#E5ECF6",
              "width": 0.5
             },
             "pattern": {
              "fillmode": "overlay",
              "size": 10,
              "solidity": 0.2
             }
            },
            "type": "bar"
           }
          ],
          "barpolar": [
           {
            "marker": {
             "line": {
              "color": "#E5ECF6",
              "width": 0.5
             },
             "pattern": {
              "fillmode": "overlay",
              "size": 10,
              "solidity": 0.2
             }
            },
            "type": "barpolar"
           }
          ],
          "carpet": [
           {
            "aaxis": {
             "endlinecolor": "#2a3f5f",
             "gridcolor": "white",
             "linecolor": "white",
             "minorgridcolor": "white",
             "startlinecolor": "#2a3f5f"
            },
            "baxis": {
             "endlinecolor": "#2a3f5f",
             "gridcolor": "white",
             "linecolor": "white",
             "minorgridcolor": "white",
             "startlinecolor": "#2a3f5f"
            },
            "type": "carpet"
           }
          ],
          "choropleth": [
           {
            "colorbar": {
             "outlinewidth": 0,
             "ticks": ""
            },
            "type": "choropleth"
           }
          ],
          "contour": [
           {
            "colorbar": {
             "outlinewidth": 0,
             "ticks": ""
            },
            "colorscale": [
             [
              0,
              "#0d0887"
             ],
             [
              0.1111111111111111,
              "#46039f"
             ],
             [
              0.2222222222222222,
              "#7201a8"
             ],
             [
              0.3333333333333333,
              "#9c179e"
             ],
             [
              0.4444444444444444,
              "#bd3786"
             ],
             [
              0.5555555555555556,
              "#d8576b"
             ],
             [
              0.6666666666666666,
              "#ed7953"
             ],
             [
              0.7777777777777778,
              "#fb9f3a"
             ],
             [
              0.8888888888888888,
              "#fdca26"
             ],
             [
              1,
              "#f0f921"
             ]
            ],
            "type": "contour"
           }
          ],
          "contourcarpet": [
           {
            "colorbar": {
             "outlinewidth": 0,
             "ticks": ""
            },
            "type": "contourcarpet"
           }
          ],
          "heatmap": [
           {
            "colorbar": {
             "outlinewidth": 0,
             "ticks": ""
            },
            "colorscale": [
             [
              0,
              "#0d0887"
             ],
             [
              0.1111111111111111,
              "#46039f"
             ],
             [
              0.2222222222222222,
              "#7201a8"
             ],
             [
              0.3333333333333333,
              "#9c179e"
             ],
             [
              0.4444444444444444,
              "#bd3786"
             ],
             [
              0.5555555555555556,
              "#d8576b"
             ],
             [
              0.6666666666666666,
              "#ed7953"
             ],
             [
              0.7777777777777778,
              "#fb9f3a"
             ],
             [
              0.8888888888888888,
              "#fdca26"
             ],
             [
              1,
              "#f0f921"
             ]
            ],
            "type": "heatmap"
           }
          ],
          "heatmapgl": [
           {
            "colorbar": {
             "outlinewidth": 0,
             "ticks": ""
            },
            "colorscale": [
             [
              0,
              "#0d0887"
             ],
             [
              0.1111111111111111,
              "#46039f"
             ],
             [
              0.2222222222222222,
              "#7201a8"
             ],
             [
              0.3333333333333333,
              "#9c179e"
             ],
             [
              0.4444444444444444,
              "#bd3786"
             ],
             [
              0.5555555555555556,
              "#d8576b"
             ],
             [
              0.6666666666666666,
              "#ed7953"
             ],
             [
              0.7777777777777778,
              "#fb9f3a"
             ],
             [
              0.8888888888888888,
              "#fdca26"
             ],
             [
              1,
              "#f0f921"
             ]
            ],
            "type": "heatmapgl"
           }
          ],
          "histogram": [
           {
            "marker": {
             "pattern": {
              "fillmode": "overlay",
              "size": 10,
              "solidity": 0.2
             }
            },
            "type": "histogram"
           }
          ],
          "histogram2d": [
           {
            "colorbar": {
             "outlinewidth": 0,
             "ticks": ""
            },
            "colorscale": [
             [
              0,
              "#0d0887"
             ],
             [
              0.1111111111111111,
              "#46039f"
             ],
             [
              0.2222222222222222,
              "#7201a8"
             ],
             [
              0.3333333333333333,
              "#9c179e"
             ],
             [
              0.4444444444444444,
              "#bd3786"
             ],
             [
              0.5555555555555556,
              "#d8576b"
             ],
             [
              0.6666666666666666,
              "#ed7953"
             ],
             [
              0.7777777777777778,
              "#fb9f3a"
             ],
             [
              0.8888888888888888,
              "#fdca26"
             ],
             [
              1,
              "#f0f921"
             ]
            ],
            "type": "histogram2d"
           }
          ],
          "histogram2dcontour": [
           {
            "colorbar": {
             "outlinewidth": 0,
             "ticks": ""
            },
            "colorscale": [
             [
              0,
              "#0d0887"
             ],
             [
              0.1111111111111111,
              "#46039f"
             ],
             [
              0.2222222222222222,
              "#7201a8"
             ],
             [
              0.3333333333333333,
              "#9c179e"
             ],
             [
              0.4444444444444444,
              "#bd3786"
             ],
             [
              0.5555555555555556,
              "#d8576b"
             ],
             [
              0.6666666666666666,
              "#ed7953"
             ],
             [
              0.7777777777777778,
              "#fb9f3a"
             ],
             [
              0.8888888888888888,
              "#fdca26"
             ],
             [
              1,
              "#f0f921"
             ]
            ],
            "type": "histogram2dcontour"
           }
          ],
          "mesh3d": [
           {
            "colorbar": {
             "outlinewidth": 0,
             "ticks": ""
            },
            "type": "mesh3d"
           }
          ],
          "parcoords": [
           {
            "line": {
             "colorbar": {
              "outlinewidth": 0,
              "ticks": ""
             }
            },
            "type": "parcoords"
           }
          ],
          "pie": [
           {
            "automargin": true,
            "type": "pie"
           }
          ],
          "scatter": [
           {
            "fillpattern": {
             "fillmode": "overlay",
             "size": 10,
             "solidity": 0.2
            },
            "type": "scatter"
           }
          ],
          "scatter3d": [
           {
            "line": {
             "colorbar": {
              "outlinewidth": 0,
              "ticks": ""
             }
            },
            "marker": {
             "colorbar": {
              "outlinewidth": 0,
              "ticks": ""
             }
            },
            "type": "scatter3d"
           }
          ],
          "scattercarpet": [
           {
            "marker": {
             "colorbar": {
              "outlinewidth": 0,
              "ticks": ""
             }
            },
            "type": "scattercarpet"
           }
          ],
          "scattergeo": [
           {
            "marker": {
             "colorbar": {
              "outlinewidth": 0,
              "ticks": ""
             }
            },
            "type": "scattergeo"
           }
          ],
          "scattergl": [
           {
            "marker": {
             "colorbar": {
              "outlinewidth": 0,
              "ticks": ""
             }
            },
            "type": "scattergl"
           }
          ],
          "scattermapbox": [
           {
            "marker": {
             "colorbar": {
              "outlinewidth": 0,
              "ticks": ""
             }
            },
            "type": "scattermapbox"
           }
          ],
          "scatterpolar": [
           {
            "marker": {
             "colorbar": {
              "outlinewidth": 0,
              "ticks": ""
             }
            },
            "type": "scatterpolar"
           }
          ],
          "scatterpolargl": [
           {
            "marker": {
             "colorbar": {
              "outlinewidth": 0,
              "ticks": ""
             }
            },
            "type": "scatterpolargl"
           }
          ],
          "scatterternary": [
           {
            "marker": {
             "colorbar": {
              "outlinewidth": 0,
              "ticks": ""
             }
            },
            "type": "scatterternary"
           }
          ],
          "surface": [
           {
            "colorbar": {
             "outlinewidth": 0,
             "ticks": ""
            },
            "colorscale": [
             [
              0,
              "#0d0887"
             ],
             [
              0.1111111111111111,
              "#46039f"
             ],
             [
              0.2222222222222222,
              "#7201a8"
             ],
             [
              0.3333333333333333,
              "#9c179e"
             ],
             [
              0.4444444444444444,
              "#bd3786"
             ],
             [
              0.5555555555555556,
              "#d8576b"
             ],
             [
              0.6666666666666666,
              "#ed7953"
             ],
             [
              0.7777777777777778,
              "#fb9f3a"
             ],
             [
              0.8888888888888888,
              "#fdca26"
             ],
             [
              1,
              "#f0f921"
             ]
            ],
            "type": "surface"
           }
          ],
          "table": [
           {
            "cells": {
             "fill": {
              "color": "#EBF0F8"
             },
             "line": {
              "color": "white"
             }
            },
            "header": {
             "fill": {
              "color": "#C8D4E3"
             },
             "line": {
              "color": "white"
             }
            },
            "type": "table"
           }
          ]
         },
         "layout": {
          "annotationdefaults": {
           "arrowcolor": "#2a3f5f",
           "arrowhead": 0,
           "arrowwidth": 1
          },
          "autotypenumbers": "strict",
          "coloraxis": {
           "colorbar": {
            "outlinewidth": 0,
            "ticks": ""
           }
          },
          "colorscale": {
           "diverging": [
            [
             0,
             "#8e0152"
            ],
            [
             0.1,
             "#c51b7d"
            ],
            [
             0.2,
             "#de77ae"
            ],
            [
             0.3,
             "#f1b6da"
            ],
            [
             0.4,
             "#fde0ef"
            ],
            [
             0.5,
             "#f7f7f7"
            ],
            [
             0.6,
             "#e6f5d0"
            ],
            [
             0.7,
             "#b8e186"
            ],
            [
             0.8,
             "#7fbc41"
            ],
            [
             0.9,
             "#4d9221"
            ],
            [
             1,
             "#276419"
            ]
           ],
           "sequential": [
            [
             0,
             "#0d0887"
            ],
            [
             0.1111111111111111,
             "#46039f"
            ],
            [
             0.2222222222222222,
             "#7201a8"
            ],
            [
             0.3333333333333333,
             "#9c179e"
            ],
            [
             0.4444444444444444,
             "#bd3786"
            ],
            [
             0.5555555555555556,
             "#d8576b"
            ],
            [
             0.6666666666666666,
             "#ed7953"
            ],
            [
             0.7777777777777778,
             "#fb9f3a"
            ],
            [
             0.8888888888888888,
             "#fdca26"
            ],
            [
             1,
             "#f0f921"
            ]
           ],
           "sequentialminus": [
            [
             0,
             "#0d0887"
            ],
            [
             0.1111111111111111,
             "#46039f"
            ],
            [
             0.2222222222222222,
             "#7201a8"
            ],
            [
             0.3333333333333333,
             "#9c179e"
            ],
            [
             0.4444444444444444,
             "#bd3786"
            ],
            [
             0.5555555555555556,
             "#d8576b"
            ],
            [
             0.6666666666666666,
             "#ed7953"
            ],
            [
             0.7777777777777778,
             "#fb9f3a"
            ],
            [
             0.8888888888888888,
             "#fdca26"
            ],
            [
             1,
             "#f0f921"
            ]
           ]
          },
          "colorway": [
           "#636efa",
           "#EF553B",
           "#00cc96",
           "#ab63fa",
           "#FFA15A",
           "#19d3f3",
           "#FF6692",
           "#B6E880",
           "#FF97FF",
           "#FECB52"
          ],
          "font": {
           "color": "#2a3f5f"
          },
          "geo": {
           "bgcolor": "white",
           "lakecolor": "white",
           "landcolor": "#E5ECF6",
           "showlakes": true,
           "showland": true,
           "subunitcolor": "white"
          },
          "hoverlabel": {
           "align": "left"
          },
          "hovermode": "closest",
          "mapbox": {
           "style": "light"
          },
          "paper_bgcolor": "white",
          "plot_bgcolor": "#E5ECF6",
          "polar": {
           "angularaxis": {
            "gridcolor": "white",
            "linecolor": "white",
            "ticks": ""
           },
           "bgcolor": "#E5ECF6",
           "radialaxis": {
            "gridcolor": "white",
            "linecolor": "white",
            "ticks": ""
           }
          },
          "scene": {
           "xaxis": {
            "backgroundcolor": "#E5ECF6",
            "gridcolor": "white",
            "gridwidth": 2,
            "linecolor": "white",
            "showbackground": true,
            "ticks": "",
            "zerolinecolor": "white"
           },
           "yaxis": {
            "backgroundcolor": "#E5ECF6",
            "gridcolor": "white",
            "gridwidth": 2,
            "linecolor": "white",
            "showbackground": true,
            "ticks": "",
            "zerolinecolor": "white"
           },
           "zaxis": {
            "backgroundcolor": "#E5ECF6",
            "gridcolor": "white",
            "gridwidth": 2,
            "linecolor": "white",
            "showbackground": true,
            "ticks": "",
            "zerolinecolor": "white"
           }
          },
          "shapedefaults": {
           "line": {
            "color": "#2a3f5f"
           }
          },
          "ternary": {
           "aaxis": {
            "gridcolor": "white",
            "linecolor": "white",
            "ticks": ""
           },
           "baxis": {
            "gridcolor": "white",
            "linecolor": "white",
            "ticks": ""
           },
           "bgcolor": "#E5ECF6",
           "caxis": {
            "gridcolor": "white",
            "linecolor": "white",
            "ticks": ""
           }
          },
          "title": {
           "x": 0.05
          },
          "xaxis": {
           "automargin": true,
           "gridcolor": "white",
           "linecolor": "white",
           "ticks": "",
           "title": {
            "standoff": 15
           },
           "zerolinecolor": "white",
           "zerolinewidth": 2
          },
          "yaxis": {
           "automargin": true,
           "gridcolor": "white",
           "linecolor": "white",
           "ticks": "",
           "title": {
            "standoff": 15
           },
           "zerolinecolor": "white",
           "zerolinewidth": 2
          }
         }
        },
        "title": {
         "text": "AFN Zone Ventilation Sensible Heat Loss Rate [W] <br><sup> 7/1 to 7/1 between 0 and 23 @4 </sup>"
        }
       }
      }
     },
     "metadata": {},
     "output_type": "display_data"
    }
   ],
   "source": [
    "ez.plt.get_collection_for_variable(ez.eligible_vars.zone_vent_heat_loss)\n",
    "ez.plt.create_plot()"
   ]
  },
  {
   "cell_type": "code",
   "execution_count": 10,
   "metadata": {},
   "outputs": [
    {
     "data": {
      "application/vnd.plotly.v1+json": {
       "config": {
        "plotlyServerURL": "https://plotly.com"
       },
       "data": [
        {
         "name": "BLOCK 00 STOREY 0 WALL 0002 DOOR",
         "type": "scatter",
         "x": [
          "2017-07-01T00:00:00",
          "2017-07-01T00:15:00",
          "2017-07-01T00:30:00",
          "2017-07-01T00:45:00",
          "2017-07-01T01:00:00",
          "2017-07-01T01:15:00",
          "2017-07-01T01:30:00",
          "2017-07-01T01:45:00",
          "2017-07-01T02:00:00",
          "2017-07-01T02:15:00",
          "2017-07-01T02:30:00",
          "2017-07-01T02:45:00",
          "2017-07-01T03:00:00",
          "2017-07-01T03:15:00",
          "2017-07-01T03:30:00",
          "2017-07-01T03:45:00",
          "2017-07-01T04:00:00",
          "2017-07-01T04:15:00",
          "2017-07-01T04:30:00",
          "2017-07-01T04:45:00",
          "2017-07-01T05:00:00",
          "2017-07-01T05:15:00",
          "2017-07-01T05:30:00",
          "2017-07-01T05:45:00",
          "2017-07-01T06:00:00",
          "2017-07-01T06:15:00",
          "2017-07-01T06:30:00",
          "2017-07-01T06:45:00",
          "2017-07-01T07:00:00",
          "2017-07-01T07:15:00",
          "2017-07-01T07:30:00",
          "2017-07-01T07:45:00",
          "2017-07-01T08:00:00",
          "2017-07-01T08:15:00",
          "2017-07-01T08:30:00",
          "2017-07-01T08:45:00",
          "2017-07-01T09:00:00",
          "2017-07-01T09:15:00",
          "2017-07-01T09:30:00",
          "2017-07-01T09:45:00",
          "2017-07-01T10:00:00",
          "2017-07-01T10:15:00",
          "2017-07-01T10:30:00",
          "2017-07-01T10:45:00",
          "2017-07-01T11:00:00",
          "2017-07-01T11:15:00",
          "2017-07-01T11:30:00",
          "2017-07-01T11:45:00",
          "2017-07-01T12:00:00",
          "2017-07-01T12:15:00",
          "2017-07-01T12:30:00",
          "2017-07-01T12:45:00",
          "2017-07-01T13:00:00",
          "2017-07-01T13:15:00",
          "2017-07-01T13:30:00",
          "2017-07-01T13:45:00",
          "2017-07-01T14:00:00",
          "2017-07-01T14:15:00",
          "2017-07-01T14:30:00",
          "2017-07-01T14:45:00",
          "2017-07-01T15:00:00",
          "2017-07-01T15:15:00",
          "2017-07-01T15:30:00",
          "2017-07-01T15:45:00",
          "2017-07-01T16:00:00",
          "2017-07-01T16:15:00",
          "2017-07-01T16:30:00",
          "2017-07-01T16:45:00",
          "2017-07-01T17:00:00",
          "2017-07-01T17:15:00",
          "2017-07-01T17:30:00",
          "2017-07-01T17:45:00",
          "2017-07-01T18:00:00",
          "2017-07-01T18:15:00",
          "2017-07-01T18:30:00",
          "2017-07-01T18:45:00",
          "2017-07-01T19:00:00",
          "2017-07-01T19:15:00",
          "2017-07-01T19:30:00",
          "2017-07-01T19:45:00",
          "2017-07-01T20:00:00",
          "2017-07-01T20:15:00",
          "2017-07-01T20:30:00",
          "2017-07-01T20:45:00",
          "2017-07-01T21:00:00",
          "2017-07-01T21:15:00",
          "2017-07-01T21:30:00",
          "2017-07-01T21:45:00",
          "2017-07-01T22:00:00",
          "2017-07-01T22:15:00",
          "2017-07-01T22:30:00",
          "2017-07-01T22:45:00",
          "2017-07-01T23:00:00",
          "2017-07-01T23:15:00",
          "2017-07-01T23:30:00",
          "2017-07-01T23:45:00"
         ],
         "y": [
          0.47106593366758853,
          0.5257005301309507,
          0.5582172812603048,
          0.5842843394508974,
          0.5811631455278756,
          0.5794313829419431,
          0.5817175500954563,
          0.5847970099855563,
          0.5859296467091252,
          0.5867733931131998,
          0.5873256316336697,
          0.5875920656237243,
          0.5878021752470503,
          0.5877592317232053,
          0.5874737149509701,
          0.5869561698852244,
          0.5857133670729482,
          0.5843295279708898,
          0.582810310756666,
          0.5811597104979992,
          0.5721920467786653,
          0.5629918716518675,
          0.5535765581788037,
          0.5439379351713766,
          0.5177429061782185,
          0.4901972165126252,
          0.46114646810713567,
          0.4303238508267237,
          0.40665973606189615,
          0.37825067365478593,
          0.3419863887226188,
          0.2744584870214045,
          0.22611805813591127,
          0.19164833466692174,
          0.1597944336039945,
          0.12904481397988096,
          0.09197928818902043,
          0.052150744896475046,
          0.00855359402313206,
          0,
          0.0287886660893945,
          0.06390574739945301,
          0.09026291337452337,
          0.11110846215537899,
          0.12265542902719746,
          0.13023564640296037,
          0.1384465457477721,
          0.14481297775622887,
          0.14587442308267595,
          0.14661508643606846,
          0.14790040130308507,
          0.15060209510572456,
          0.13115131417516412,
          0.11170782081821042,
          0.09241242870642705,
          0.0734182164745275,
          0.051518211002372485,
          0.029976775621866274,
          0.011064568068153587,
          0,
          0,
          0,
          0,
          0,
          0,
          0,
          0.0011486401770350247,
          0.012158814748872262,
          0.027876576209607533,
          0.043845787526405444,
          0.061018558482951325,
          0.07790173152716282,
          0.11584547581139286,
          0.15519124608427787,
          0.19564053905469717,
          0.23739401789179743,
          0.2478322115017764,
          0.2575461485567379,
          0.26654104975981197,
          0.2748661610729549,
          0.28278023970993055,
          0.2905091618562592,
          0.2981390326158665,
          0.30569021761231974,
          0.3131299957556641,
          0.3204202101811549,
          0.32756099909734,
          0.33457259029341413,
          0.34290827175582933,
          0.3513268427625249,
          0.35992839201490856,
          0.3688545971318145,
          0.37647415694850317,
          0.38455168509744264,
          0.39339476850014055,
          0.4038160733941296
         ]
        },
        {
         "name": "BLOCK 00 STOREY 0 WALL 0004_1 DOOR",
         "type": "scatter",
         "x": [
          "2017-07-01T00:00:00",
          "2017-07-01T00:15:00",
          "2017-07-01T00:30:00",
          "2017-07-01T00:45:00",
          "2017-07-01T01:00:00",
          "2017-07-01T01:15:00",
          "2017-07-01T01:30:00",
          "2017-07-01T01:45:00",
          "2017-07-01T02:00:00",
          "2017-07-01T02:15:00",
          "2017-07-01T02:30:00",
          "2017-07-01T02:45:00",
          "2017-07-01T03:00:00",
          "2017-07-01T03:15:00",
          "2017-07-01T03:30:00",
          "2017-07-01T03:45:00",
          "2017-07-01T04:00:00",
          "2017-07-01T04:15:00",
          "2017-07-01T04:30:00",
          "2017-07-01T04:45:00",
          "2017-07-01T05:00:00",
          "2017-07-01T05:15:00",
          "2017-07-01T05:30:00",
          "2017-07-01T05:45:00",
          "2017-07-01T06:00:00",
          "2017-07-01T06:15:00",
          "2017-07-01T06:30:00",
          "2017-07-01T06:45:00",
          "2017-07-01T07:00:00",
          "2017-07-01T07:15:00",
          "2017-07-01T07:30:00",
          "2017-07-01T07:45:00",
          "2017-07-01T08:00:00",
          "2017-07-01T08:15:00",
          "2017-07-01T08:30:00",
          "2017-07-01T08:45:00",
          "2017-07-01T09:00:00",
          "2017-07-01T09:15:00",
          "2017-07-01T09:30:00",
          "2017-07-01T09:45:00",
          "2017-07-01T10:00:00",
          "2017-07-01T10:15:00",
          "2017-07-01T10:30:00",
          "2017-07-01T10:45:00",
          "2017-07-01T11:00:00",
          "2017-07-01T11:15:00",
          "2017-07-01T11:30:00",
          "2017-07-01T11:45:00",
          "2017-07-01T12:00:00",
          "2017-07-01T12:15:00",
          "2017-07-01T12:30:00",
          "2017-07-01T12:45:00",
          "2017-07-01T13:00:00",
          "2017-07-01T13:15:00",
          "2017-07-01T13:30:00",
          "2017-07-01T13:45:00",
          "2017-07-01T14:00:00",
          "2017-07-01T14:15:00",
          "2017-07-01T14:30:00",
          "2017-07-01T14:45:00",
          "2017-07-01T15:00:00",
          "2017-07-01T15:15:00",
          "2017-07-01T15:30:00",
          "2017-07-01T15:45:00",
          "2017-07-01T16:00:00",
          "2017-07-01T16:15:00",
          "2017-07-01T16:30:00",
          "2017-07-01T16:45:00",
          "2017-07-01T17:00:00",
          "2017-07-01T17:15:00",
          "2017-07-01T17:30:00",
          "2017-07-01T17:45:00",
          "2017-07-01T18:00:00",
          "2017-07-01T18:15:00",
          "2017-07-01T18:30:00",
          "2017-07-01T18:45:00",
          "2017-07-01T19:00:00",
          "2017-07-01T19:15:00",
          "2017-07-01T19:30:00",
          "2017-07-01T19:45:00",
          "2017-07-01T20:00:00",
          "2017-07-01T20:15:00",
          "2017-07-01T20:30:00",
          "2017-07-01T20:45:00",
          "2017-07-01T21:00:00",
          "2017-07-01T21:15:00",
          "2017-07-01T21:30:00",
          "2017-07-01T21:45:00",
          "2017-07-01T22:00:00",
          "2017-07-01T22:15:00",
          "2017-07-01T22:30:00",
          "2017-07-01T22:45:00",
          "2017-07-01T23:00:00",
          "2017-07-01T23:15:00",
          "2017-07-01T23:30:00",
          "2017-07-01T23:45:00"
         ],
         "y": [
          0.1632660375993415,
          0.12341558259656248,
          0.10415259875611764,
          0.08998657570371738,
          0.08899156416067532,
          0.08700771196139365,
          0.0821436553396082,
          0.07681634489034828,
          0.07300296685610094,
          0.0694496279318677,
          0.06615116109165402,
          0.06313806827175074,
          0.06036594694802984,
          0.05786142486187071,
          0.05561158646659288,
          0.05360112970574313,
          0.052023594086804605,
          0.0506033903873465,
          0.049333362303938075,
          0.04820473471398219,
          0.04819524594188169,
          0.0482485971118131,
          0.04832876956134461,
          0.04843957280584855,
          0.05084021920777676,
          0.05333841355375699,
          0.05591377756857711,
          0.05864295012777057,
          0.062437012635369535,
          0.0696559382368469,
          0.08348583542291411,
          0.1285002168974517,
          0.16016019229693013,
          0.17785712788695576,
          0.1926212353278517,
          0.2058416394666054,
          0.21616345508928114,
          0.22596069886247952,
          0.23557722781932125,
          0.24475703700443102,
          0.25692363524601175,
          0.26930332394757817,
          0.28218319419909516,
          0.2965598935935478,
          0.3414505528105575,
          0.3865494364555911,
          0.4224278046770005,
          0.45699090048591373,
          0.4558159502936475,
          0.4541027718779083,
          0.4501402424257964,
          0.4419234924204214,
          0.46689378373036033,
          0.49212263796083633,
          0.5175792882304706,
          0.5432375327857101,
          0.5537520190396588,
          0.5640759601817634,
          0.5698187606849173,
          0.5754755295728774,
          0.5729944694385074,
          0.5703925885839003,
          0.5677071791360029,
          0.564950208569347,
          0.5691974567401153,
          0.5734230001993321,
          0.5775715952762901,
          0.5816373227677017,
          0.5815320481663443,
          0.5810774941541222,
          0.5749858993364715,
          0.5680614436396406,
          0.5045770680390399,
          0.4412402325825867,
          0.3775248861615248,
          0.32135290603382916,
          0.32788810026927284,
          0.33425085083126255,
          0.34051658629457876,
          0.34676828992654746,
          0.33949092059040464,
          0.3324779029680596,
          0.325364552974046,
          0.318066017409167,
          0.3121096251212595,
          0.3060611799406299,
          0.299873843106911,
          0.2935662627850792,
          0.2852193810382462,
          0.27659565698538147,
          0.2675846979674594,
          0.2581338477996234,
          0.2502500479169831,
          0.2418094368301766,
          0.23233851298909244,
          0.2209438885908791
         ]
        },
        {
         "name": "BLOCK 01 STOREY 0 WALL 0004 WINDOW",
         "type": "scatter",
         "x": [
          "2017-07-01T00:00:00",
          "2017-07-01T00:15:00",
          "2017-07-01T00:30:00",
          "2017-07-01T00:45:00",
          "2017-07-01T01:00:00",
          "2017-07-01T01:15:00",
          "2017-07-01T01:30:00",
          "2017-07-01T01:45:00",
          "2017-07-01T02:00:00",
          "2017-07-01T02:15:00",
          "2017-07-01T02:30:00",
          "2017-07-01T02:45:00",
          "2017-07-01T03:00:00",
          "2017-07-01T03:15:00",
          "2017-07-01T03:30:00",
          "2017-07-01T03:45:00",
          "2017-07-01T04:00:00",
          "2017-07-01T04:15:00",
          "2017-07-01T04:30:00",
          "2017-07-01T04:45:00",
          "2017-07-01T05:00:00",
          "2017-07-01T05:15:00",
          "2017-07-01T05:30:00",
          "2017-07-01T05:45:00",
          "2017-07-01T06:00:00",
          "2017-07-01T06:15:00",
          "2017-07-01T06:30:00",
          "2017-07-01T06:45:00",
          "2017-07-01T07:00:00",
          "2017-07-01T07:15:00",
          "2017-07-01T07:30:00",
          "2017-07-01T07:45:00",
          "2017-07-01T08:00:00",
          "2017-07-01T08:15:00",
          "2017-07-01T08:30:00",
          "2017-07-01T08:45:00",
          "2017-07-01T09:00:00",
          "2017-07-01T09:15:00",
          "2017-07-01T09:30:00",
          "2017-07-01T09:45:00",
          "2017-07-01T10:00:00",
          "2017-07-01T10:15:00",
          "2017-07-01T10:30:00",
          "2017-07-01T10:45:00",
          "2017-07-01T11:00:00",
          "2017-07-01T11:15:00",
          "2017-07-01T11:30:00",
          "2017-07-01T11:45:00",
          "2017-07-01T12:00:00",
          "2017-07-01T12:15:00",
          "2017-07-01T12:30:00",
          "2017-07-01T12:45:00",
          "2017-07-01T13:00:00",
          "2017-07-01T13:15:00",
          "2017-07-01T13:30:00",
          "2017-07-01T13:45:00",
          "2017-07-01T14:00:00",
          "2017-07-01T14:15:00",
          "2017-07-01T14:30:00",
          "2017-07-01T14:45:00",
          "2017-07-01T15:00:00",
          "2017-07-01T15:15:00",
          "2017-07-01T15:30:00",
          "2017-07-01T15:45:00",
          "2017-07-01T16:00:00",
          "2017-07-01T16:15:00",
          "2017-07-01T16:30:00",
          "2017-07-01T16:45:00",
          "2017-07-01T17:00:00",
          "2017-07-01T17:15:00",
          "2017-07-01T17:30:00",
          "2017-07-01T17:45:00",
          "2017-07-01T18:00:00",
          "2017-07-01T18:15:00",
          "2017-07-01T18:30:00",
          "2017-07-01T18:45:00",
          "2017-07-01T19:00:00",
          "2017-07-01T19:15:00",
          "2017-07-01T19:30:00",
          "2017-07-01T19:45:00",
          "2017-07-01T20:00:00",
          "2017-07-01T20:15:00",
          "2017-07-01T20:30:00",
          "2017-07-01T20:45:00",
          "2017-07-01T21:00:00",
          "2017-07-01T21:15:00",
          "2017-07-01T21:30:00",
          "2017-07-01T21:45:00",
          "2017-07-01T22:00:00",
          "2017-07-01T22:15:00",
          "2017-07-01T22:30:00",
          "2017-07-01T22:45:00",
          "2017-07-01T23:00:00",
          "2017-07-01T23:15:00",
          "2017-07-01T23:30:00",
          "2017-07-01T23:45:00"
         ],
         "y": [
          0.01899791826749333,
          0,
          0,
          0,
          0,
          0,
          0,
          0,
          0,
          0,
          0,
          0,
          0,
          0,
          0,
          0,
          0,
          0,
          0,
          0,
          0,
          0,
          0,
          0,
          0,
          0,
          0,
          0,
          0,
          0,
          0,
          0.027079622840798626,
          0.0766465566989029,
          0.10953458135886823,
          0.13613762578810415,
          0.15955235418196642,
          0.17778976708004815,
          0.19483429980083772,
          0.21109216020472213,
          0.22593770430107876,
          0.24424947592450802,
          0.2620296482082596,
          0.2794675205162091,
          0.2965649125717463,
          0.3414566083169955,
          0.3865557904821132,
          0.42243474086053895,
          0.4569983813403697,
          0.4558234166254909,
          0.45411020500496935,
          0.4501475988261293,
          0.4419307061566647,
          0.46690140306633615,
          0.4921306673744981,
          0.5175877318865033,
          0.5432463940843634,
          0.5537610585840401,
          0.5640851735778624,
          0.5698280760331172,
          0.5754849452928755,
          0.5730038524354948,
          0.5704019368243919,
          0.5677164911915649,
          0.5649594832040716,
          0.5692068072253263,
          0.5734324298111775,
          0.5775811011692766,
          0.5816469036141898,
          0.5815416331299595,
          0.5810870873925041,
          0.574995404175996,
          0.5680708398363321,
          0.504585418440313,
          0.441247532050246,
          0.3775311634158217,
          0.3123630819816729,
          0.3176308402657379,
          0.32267970734803725,
          0.3275261237350228,
          0.3321816763570765,
          0.318050106861414,
          0.3038199024386007,
          0.28947594581554004,
          0.27499457365717417,
          0.26277092621919895,
          0.2504246042310264,
          0.23792905903547096,
          0.2252514821898327,
          0.2092559012104905,
          0.19275555118017507,
          0.1755955118977755,
          0.15754119366160232,
          0.1421182737452565,
          0.12557759248820677,
          0.10737585228949226,
          0.08585332332351596
         ]
        }
       ],
       "layout": {
        "template": {
         "data": {
          "bar": [
           {
            "error_x": {
             "color": "#2a3f5f"
            },
            "error_y": {
             "color": "#2a3f5f"
            },
            "marker": {
             "line": {
              "color": "#E5ECF6",
              "width": 0.5
             },
             "pattern": {
              "fillmode": "overlay",
              "size": 10,
              "solidity": 0.2
             }
            },
            "type": "bar"
           }
          ],
          "barpolar": [
           {
            "marker": {
             "line": {
              "color": "#E5ECF6",
              "width": 0.5
             },
             "pattern": {
              "fillmode": "overlay",
              "size": 10,
              "solidity": 0.2
             }
            },
            "type": "barpolar"
           }
          ],
          "carpet": [
           {
            "aaxis": {
             "endlinecolor": "#2a3f5f",
             "gridcolor": "white",
             "linecolor": "white",
             "minorgridcolor": "white",
             "startlinecolor": "#2a3f5f"
            },
            "baxis": {
             "endlinecolor": "#2a3f5f",
             "gridcolor": "white",
             "linecolor": "white",
             "minorgridcolor": "white",
             "startlinecolor": "#2a3f5f"
            },
            "type": "carpet"
           }
          ],
          "choropleth": [
           {
            "colorbar": {
             "outlinewidth": 0,
             "ticks": ""
            },
            "type": "choropleth"
           }
          ],
          "contour": [
           {
            "colorbar": {
             "outlinewidth": 0,
             "ticks": ""
            },
            "colorscale": [
             [
              0,
              "#0d0887"
             ],
             [
              0.1111111111111111,
              "#46039f"
             ],
             [
              0.2222222222222222,
              "#7201a8"
             ],
             [
              0.3333333333333333,
              "#9c179e"
             ],
             [
              0.4444444444444444,
              "#bd3786"
             ],
             [
              0.5555555555555556,
              "#d8576b"
             ],
             [
              0.6666666666666666,
              "#ed7953"
             ],
             [
              0.7777777777777778,
              "#fb9f3a"
             ],
             [
              0.8888888888888888,
              "#fdca26"
             ],
             [
              1,
              "#f0f921"
             ]
            ],
            "type": "contour"
           }
          ],
          "contourcarpet": [
           {
            "colorbar": {
             "outlinewidth": 0,
             "ticks": ""
            },
            "type": "contourcarpet"
           }
          ],
          "heatmap": [
           {
            "colorbar": {
             "outlinewidth": 0,
             "ticks": ""
            },
            "colorscale": [
             [
              0,
              "#0d0887"
             ],
             [
              0.1111111111111111,
              "#46039f"
             ],
             [
              0.2222222222222222,
              "#7201a8"
             ],
             [
              0.3333333333333333,
              "#9c179e"
             ],
             [
              0.4444444444444444,
              "#bd3786"
             ],
             [
              0.5555555555555556,
              "#d8576b"
             ],
             [
              0.6666666666666666,
              "#ed7953"
             ],
             [
              0.7777777777777778,
              "#fb9f3a"
             ],
             [
              0.8888888888888888,
              "#fdca26"
             ],
             [
              1,
              "#f0f921"
             ]
            ],
            "type": "heatmap"
           }
          ],
          "heatmapgl": [
           {
            "colorbar": {
             "outlinewidth": 0,
             "ticks": ""
            },
            "colorscale": [
             [
              0,
              "#0d0887"
             ],
             [
              0.1111111111111111,
              "#46039f"
             ],
             [
              0.2222222222222222,
              "#7201a8"
             ],
             [
              0.3333333333333333,
              "#9c179e"
             ],
             [
              0.4444444444444444,
              "#bd3786"
             ],
             [
              0.5555555555555556,
              "#d8576b"
             ],
             [
              0.6666666666666666,
              "#ed7953"
             ],
             [
              0.7777777777777778,
              "#fb9f3a"
             ],
             [
              0.8888888888888888,
              "#fdca26"
             ],
             [
              1,
              "#f0f921"
             ]
            ],
            "type": "heatmapgl"
           }
          ],
          "histogram": [
           {
            "marker": {
             "pattern": {
              "fillmode": "overlay",
              "size": 10,
              "solidity": 0.2
             }
            },
            "type": "histogram"
           }
          ],
          "histogram2d": [
           {
            "colorbar": {
             "outlinewidth": 0,
             "ticks": ""
            },
            "colorscale": [
             [
              0,
              "#0d0887"
             ],
             [
              0.1111111111111111,
              "#46039f"
             ],
             [
              0.2222222222222222,
              "#7201a8"
             ],
             [
              0.3333333333333333,
              "#9c179e"
             ],
             [
              0.4444444444444444,
              "#bd3786"
             ],
             [
              0.5555555555555556,
              "#d8576b"
             ],
             [
              0.6666666666666666,
              "#ed7953"
             ],
             [
              0.7777777777777778,
              "#fb9f3a"
             ],
             [
              0.8888888888888888,
              "#fdca26"
             ],
             [
              1,
              "#f0f921"
             ]
            ],
            "type": "histogram2d"
           }
          ],
          "histogram2dcontour": [
           {
            "colorbar": {
             "outlinewidth": 0,
             "ticks": ""
            },
            "colorscale": [
             [
              0,
              "#0d0887"
             ],
             [
              0.1111111111111111,
              "#46039f"
             ],
             [
              0.2222222222222222,
              "#7201a8"
             ],
             [
              0.3333333333333333,
              "#9c179e"
             ],
             [
              0.4444444444444444,
              "#bd3786"
             ],
             [
              0.5555555555555556,
              "#d8576b"
             ],
             [
              0.6666666666666666,
              "#ed7953"
             ],
             [
              0.7777777777777778,
              "#fb9f3a"
             ],
             [
              0.8888888888888888,
              "#fdca26"
             ],
             [
              1,
              "#f0f921"
             ]
            ],
            "type": "histogram2dcontour"
           }
          ],
          "mesh3d": [
           {
            "colorbar": {
             "outlinewidth": 0,
             "ticks": ""
            },
            "type": "mesh3d"
           }
          ],
          "parcoords": [
           {
            "line": {
             "colorbar": {
              "outlinewidth": 0,
              "ticks": ""
             }
            },
            "type": "parcoords"
           }
          ],
          "pie": [
           {
            "automargin": true,
            "type": "pie"
           }
          ],
          "scatter": [
           {
            "fillpattern": {
             "fillmode": "overlay",
             "size": 10,
             "solidity": 0.2
            },
            "type": "scatter"
           }
          ],
          "scatter3d": [
           {
            "line": {
             "colorbar": {
              "outlinewidth": 0,
              "ticks": ""
             }
            },
            "marker": {
             "colorbar": {
              "outlinewidth": 0,
              "ticks": ""
             }
            },
            "type": "scatter3d"
           }
          ],
          "scattercarpet": [
           {
            "marker": {
             "colorbar": {
              "outlinewidth": 0,
              "ticks": ""
             }
            },
            "type": "scattercarpet"
           }
          ],
          "scattergeo": [
           {
            "marker": {
             "colorbar": {
              "outlinewidth": 0,
              "ticks": ""
             }
            },
            "type": "scattergeo"
           }
          ],
          "scattergl": [
           {
            "marker": {
             "colorbar": {
              "outlinewidth": 0,
              "ticks": ""
             }
            },
            "type": "scattergl"
           }
          ],
          "scattermapbox": [
           {
            "marker": {
             "colorbar": {
              "outlinewidth": 0,
              "ticks": ""
             }
            },
            "type": "scattermapbox"
           }
          ],
          "scatterpolar": [
           {
            "marker": {
             "colorbar": {
              "outlinewidth": 0,
              "ticks": ""
             }
            },
            "type": "scatterpolar"
           }
          ],
          "scatterpolargl": [
           {
            "marker": {
             "colorbar": {
              "outlinewidth": 0,
              "ticks": ""
             }
            },
            "type": "scatterpolargl"
           }
          ],
          "scatterternary": [
           {
            "marker": {
             "colorbar": {
              "outlinewidth": 0,
              "ticks": ""
             }
            },
            "type": "scatterternary"
           }
          ],
          "surface": [
           {
            "colorbar": {
             "outlinewidth": 0,
             "ticks": ""
            },
            "colorscale": [
             [
              0,
              "#0d0887"
             ],
             [
              0.1111111111111111,
              "#46039f"
             ],
             [
              0.2222222222222222,
              "#7201a8"
             ],
             [
              0.3333333333333333,
              "#9c179e"
             ],
             [
              0.4444444444444444,
              "#bd3786"
             ],
             [
              0.5555555555555556,
              "#d8576b"
             ],
             [
              0.6666666666666666,
              "#ed7953"
             ],
             [
              0.7777777777777778,
              "#fb9f3a"
             ],
             [
              0.8888888888888888,
              "#fdca26"
             ],
             [
              1,
              "#f0f921"
             ]
            ],
            "type": "surface"
           }
          ],
          "table": [
           {
            "cells": {
             "fill": {
              "color": "#EBF0F8"
             },
             "line": {
              "color": "white"
             }
            },
            "header": {
             "fill": {
              "color": "#C8D4E3"
             },
             "line": {
              "color": "white"
             }
            },
            "type": "table"
           }
          ]
         },
         "layout": {
          "annotationdefaults": {
           "arrowcolor": "#2a3f5f",
           "arrowhead": 0,
           "arrowwidth": 1
          },
          "autotypenumbers": "strict",
          "coloraxis": {
           "colorbar": {
            "outlinewidth": 0,
            "ticks": ""
           }
          },
          "colorscale": {
           "diverging": [
            [
             0,
             "#8e0152"
            ],
            [
             0.1,
             "#c51b7d"
            ],
            [
             0.2,
             "#de77ae"
            ],
            [
             0.3,
             "#f1b6da"
            ],
            [
             0.4,
             "#fde0ef"
            ],
            [
             0.5,
             "#f7f7f7"
            ],
            [
             0.6,
             "#e6f5d0"
            ],
            [
             0.7,
             "#b8e186"
            ],
            [
             0.8,
             "#7fbc41"
            ],
            [
             0.9,
             "#4d9221"
            ],
            [
             1,
             "#276419"
            ]
           ],
           "sequential": [
            [
             0,
             "#0d0887"
            ],
            [
             0.1111111111111111,
             "#46039f"
            ],
            [
             0.2222222222222222,
             "#7201a8"
            ],
            [
             0.3333333333333333,
             "#9c179e"
            ],
            [
             0.4444444444444444,
             "#bd3786"
            ],
            [
             0.5555555555555556,
             "#d8576b"
            ],
            [
             0.6666666666666666,
             "#ed7953"
            ],
            [
             0.7777777777777778,
             "#fb9f3a"
            ],
            [
             0.8888888888888888,
             "#fdca26"
            ],
            [
             1,
             "#f0f921"
            ]
           ],
           "sequentialminus": [
            [
             0,
             "#0d0887"
            ],
            [
             0.1111111111111111,
             "#46039f"
            ],
            [
             0.2222222222222222,
             "#7201a8"
            ],
            [
             0.3333333333333333,
             "#9c179e"
            ],
            [
             0.4444444444444444,
             "#bd3786"
            ],
            [
             0.5555555555555556,
             "#d8576b"
            ],
            [
             0.6666666666666666,
             "#ed7953"
            ],
            [
             0.7777777777777778,
             "#fb9f3a"
            ],
            [
             0.8888888888888888,
             "#fdca26"
            ],
            [
             1,
             "#f0f921"
            ]
           ]
          },
          "colorway": [
           "#636efa",
           "#EF553B",
           "#00cc96",
           "#ab63fa",
           "#FFA15A",
           "#19d3f3",
           "#FF6692",
           "#B6E880",
           "#FF97FF",
           "#FECB52"
          ],
          "font": {
           "color": "#2a3f5f"
          },
          "geo": {
           "bgcolor": "white",
           "lakecolor": "white",
           "landcolor": "#E5ECF6",
           "showlakes": true,
           "showland": true,
           "subunitcolor": "white"
          },
          "hoverlabel": {
           "align": "left"
          },
          "hovermode": "closest",
          "mapbox": {
           "style": "light"
          },
          "paper_bgcolor": "white",
          "plot_bgcolor": "#E5ECF6",
          "polar": {
           "angularaxis": {
            "gridcolor": "white",
            "linecolor": "white",
            "ticks": ""
           },
           "bgcolor": "#E5ECF6",
           "radialaxis": {
            "gridcolor": "white",
            "linecolor": "white",
            "ticks": ""
           }
          },
          "scene": {
           "xaxis": {
            "backgroundcolor": "#E5ECF6",
            "gridcolor": "white",
            "gridwidth": 2,
            "linecolor": "white",
            "showbackground": true,
            "ticks": "",
            "zerolinecolor": "white"
           },
           "yaxis": {
            "backgroundcolor": "#E5ECF6",
            "gridcolor": "white",
            "gridwidth": 2,
            "linecolor": "white",
            "showbackground": true,
            "ticks": "",
            "zerolinecolor": "white"
           },
           "zaxis": {
            "backgroundcolor": "#E5ECF6",
            "gridcolor": "white",
            "gridwidth": 2,
            "linecolor": "white",
            "showbackground": true,
            "ticks": "",
            "zerolinecolor": "white"
           }
          },
          "shapedefaults": {
           "line": {
            "color": "#2a3f5f"
           }
          },
          "ternary": {
           "aaxis": {
            "gridcolor": "white",
            "linecolor": "white",
            "ticks": ""
           },
           "baxis": {
            "gridcolor": "white",
            "linecolor": "white",
            "ticks": ""
           },
           "bgcolor": "#E5ECF6",
           "caxis": {
            "gridcolor": "white",
            "linecolor": "white",
            "ticks": ""
           }
          },
          "title": {
           "x": 0.05
          },
          "xaxis": {
           "automargin": true,
           "gridcolor": "white",
           "linecolor": "white",
           "ticks": "",
           "title": {
            "standoff": 15
           },
           "zerolinecolor": "white",
           "zerolinewidth": 2
          },
          "yaxis": {
           "automargin": true,
           "gridcolor": "white",
           "linecolor": "white",
           "ticks": "",
           "title": {
            "standoff": 15
           },
           "zerolinecolor": "white",
           "zerolinewidth": 2
          }
         }
        },
        "title": {
         "text": "AFN Linkage Node 1 to Node 2 Volume Flow Rate [m3/s] <br><sup> 7/1 to 7/1 between 0 and 23 @4 </sup>"
        }
       }
      }
     },
     "metadata": {},
     "output_type": "display_data"
    }
   ],
   "source": [
    "ez.plt.get_collection_for_variable(ez.eligible_vars.linkage_flow12)\n",
    "ez.plt.create_plot()"
   ]
  },
  {
   "cell_type": "code",
   "execution_count": 11,
   "metadata": {},
   "outputs": [
    {
     "data": {
      "application/vnd.plotly.v1+json": {
       "config": {
        "plotlyServerURL": "https://plotly.com"
       },
       "data": [
        {
         "name": "BLOCK 00 STOREY 0 WALL 0002 DOOR",
         "type": "scatter",
         "x": [
          "2017-07-01T00:00:00",
          "2017-07-01T00:15:00",
          "2017-07-01T00:30:00",
          "2017-07-01T00:45:00",
          "2017-07-01T01:00:00",
          "2017-07-01T01:15:00",
          "2017-07-01T01:30:00",
          "2017-07-01T01:45:00",
          "2017-07-01T02:00:00",
          "2017-07-01T02:15:00",
          "2017-07-01T02:30:00",
          "2017-07-01T02:45:00",
          "2017-07-01T03:00:00",
          "2017-07-01T03:15:00",
          "2017-07-01T03:30:00",
          "2017-07-01T03:45:00",
          "2017-07-01T04:00:00",
          "2017-07-01T04:15:00",
          "2017-07-01T04:30:00",
          "2017-07-01T04:45:00",
          "2017-07-01T05:00:00",
          "2017-07-01T05:15:00",
          "2017-07-01T05:30:00",
          "2017-07-01T05:45:00",
          "2017-07-01T06:00:00",
          "2017-07-01T06:15:00",
          "2017-07-01T06:30:00",
          "2017-07-01T06:45:00",
          "2017-07-01T07:00:00",
          "2017-07-01T07:15:00",
          "2017-07-01T07:30:00",
          "2017-07-01T07:45:00",
          "2017-07-01T08:00:00",
          "2017-07-01T08:15:00",
          "2017-07-01T08:30:00",
          "2017-07-01T08:45:00",
          "2017-07-01T09:00:00",
          "2017-07-01T09:15:00",
          "2017-07-01T09:30:00",
          "2017-07-01T09:45:00",
          "2017-07-01T10:00:00",
          "2017-07-01T10:15:00",
          "2017-07-01T10:30:00",
          "2017-07-01T10:45:00",
          "2017-07-01T11:00:00",
          "2017-07-01T11:15:00",
          "2017-07-01T11:30:00",
          "2017-07-01T11:45:00",
          "2017-07-01T12:00:00",
          "2017-07-01T12:15:00",
          "2017-07-01T12:30:00",
          "2017-07-01T12:45:00",
          "2017-07-01T13:00:00",
          "2017-07-01T13:15:00",
          "2017-07-01T13:30:00",
          "2017-07-01T13:45:00",
          "2017-07-01T14:00:00",
          "2017-07-01T14:15:00",
          "2017-07-01T14:30:00",
          "2017-07-01T14:45:00",
          "2017-07-01T15:00:00",
          "2017-07-01T15:15:00",
          "2017-07-01T15:30:00",
          "2017-07-01T15:45:00",
          "2017-07-01T16:00:00",
          "2017-07-01T16:15:00",
          "2017-07-01T16:30:00",
          "2017-07-01T16:45:00",
          "2017-07-01T17:00:00",
          "2017-07-01T17:15:00",
          "2017-07-01T17:30:00",
          "2017-07-01T17:45:00",
          "2017-07-01T18:00:00",
          "2017-07-01T18:15:00",
          "2017-07-01T18:30:00",
          "2017-07-01T18:45:00",
          "2017-07-01T19:00:00",
          "2017-07-01T19:15:00",
          "2017-07-01T19:30:00",
          "2017-07-01T19:45:00",
          "2017-07-01T20:00:00",
          "2017-07-01T20:15:00",
          "2017-07-01T20:30:00",
          "2017-07-01T20:45:00",
          "2017-07-01T21:00:00",
          "2017-07-01T21:15:00",
          "2017-07-01T21:30:00",
          "2017-07-01T21:45:00",
          "2017-07-01T22:00:00",
          "2017-07-01T22:15:00",
          "2017-07-01T22:30:00",
          "2017-07-01T22:45:00",
          "2017-07-01T23:00:00",
          "2017-07-01T23:15:00",
          "2017-07-01T23:30:00",
          "2017-07-01T23:45:00"
         ],
         "y": [
          0.44583408233628735,
          0.41744716207452576,
          0.4105162686617153,
          0.40907838628800586,
          0.40984612997047176,
          0.4091423452036863,
          0.4047236398389205,
          0.3996023993241897,
          0.39620876151642137,
          0.39301973468320517,
          0.3900076186100079,
          0.38715403833666534,
          0.38458860436545406,
          0.3821750781942793,
          0.3799102690802369,
          0.377793544334884,
          0.3758788442220752,
          0.37402892419769485,
          0.372247130620755,
          0.3705364114595933,
          0.3642032629913478,
          0.3578726787309104,
          0.3515661460251478,
          0.34528576987107545,
          0.32831583422123073,
          0.3106492649433811,
          0.2922227518930907,
          0.2729037070006738,
          0.26397193710590594,
          0.2583068976709511,
          0.2587899795737878,
          0.28933430439080987,
          0.30276656078302644,
          0.3011817917219514,
          0.29592978800753644,
          0.28859450864135455,
          0.26976475428952257,
          0.24698121917746158,
          0.21963499246340706,
          0.2259339425697416,
          0.27303396457444107,
          0.3259301827664786,
          0.36972534412665625,
          0.4076684831223482,
          0.46410615989968435,
          0.5167845598188125,
          0.5608736688641276,
          0.6018029785005673,
          0.6016895245086116,
          0.6007170661982727,
          0.5980399883628614,
          0.5925253724972189,
          0.5980438717315891,
          0.6038278290386798,
          0.6099870474021086,
          0.6166481263261591,
          0.605264627316121,
          0.5940515836290613,
          0.5808833172072355,
          0.5754442148286572,
          0.572994410423774,
          0.5703925747240584,
          0.5677071559007444,
          0.5649501906418242,
          0.569129347415757,
          0.573419685751271,
          0.5786746461673704,
          0.5937961213984815,
          0.6094030571543555,
          0.6249226062295595,
          0.635996830786234,
          0.6459550352775882,
          0.6204210712585907,
          0.5964231941464159,
          0.5731654436249977,
          0.5497519161308703,
          0.5654577765225308,
          0.5802204918145559,
          0.5940617338603115,
          0.6070423059868434,
          0.6008250680431066,
          0.5943240105948068,
          0.5876101591735641,
          0.5806802088460657,
          0.5758966311146748,
          0.5708406372160244,
          0.5654860880126074,
          0.5598203126598046,
          0.5521606788978005,
          0.5440791742874049,
          0.5355224812477895,
          0.5263959227870574,
          0.5185960028086755,
          0.5101464606636004,
          0.5007688246029207,
          0.4896681591630847
         ]
        },
        {
         "name": "BLOCK 00 STOREY 0 WALL 0004_1 DOOR",
         "type": "scatter",
         "x": [
          "2017-07-01T00:00:00",
          "2017-07-01T00:15:00",
          "2017-07-01T00:30:00",
          "2017-07-01T00:45:00",
          "2017-07-01T01:00:00",
          "2017-07-01T01:15:00",
          "2017-07-01T01:30:00",
          "2017-07-01T01:45:00",
          "2017-07-01T02:00:00",
          "2017-07-01T02:15:00",
          "2017-07-01T02:30:00",
          "2017-07-01T02:45:00",
          "2017-07-01T03:00:00",
          "2017-07-01T03:15:00",
          "2017-07-01T03:30:00",
          "2017-07-01T03:45:00",
          "2017-07-01T04:00:00",
          "2017-07-01T04:15:00",
          "2017-07-01T04:30:00",
          "2017-07-01T04:45:00",
          "2017-07-01T05:00:00",
          "2017-07-01T05:15:00",
          "2017-07-01T05:30:00",
          "2017-07-01T05:45:00",
          "2017-07-01T06:00:00",
          "2017-07-01T06:15:00",
          "2017-07-01T06:30:00",
          "2017-07-01T06:45:00",
          "2017-07-01T07:00:00",
          "2017-07-01T07:15:00",
          "2017-07-01T07:30:00",
          "2017-07-01T07:45:00",
          "2017-07-01T08:00:00",
          "2017-07-01T08:15:00",
          "2017-07-01T08:30:00",
          "2017-07-01T08:45:00",
          "2017-07-01T09:00:00",
          "2017-07-01T09:15:00",
          "2017-07-01T09:30:00",
          "2017-07-01T09:45:00",
          "2017-07-01T10:00:00",
          "2017-07-01T10:15:00",
          "2017-07-01T10:30:00",
          "2017-07-01T10:45:00",
          "2017-07-01T11:00:00",
          "2017-07-01T11:15:00",
          "2017-07-01T11:30:00",
          "2017-07-01T11:45:00",
          "2017-07-01T12:00:00",
          "2017-07-01T12:15:00",
          "2017-07-01T12:30:00",
          "2017-07-01T12:45:00",
          "2017-07-01T13:00:00",
          "2017-07-01T13:15:00",
          "2017-07-01T13:30:00",
          "2017-07-01T13:45:00",
          "2017-07-01T14:00:00",
          "2017-07-01T14:15:00",
          "2017-07-01T14:30:00",
          "2017-07-01T14:45:00",
          "2017-07-01T15:00:00",
          "2017-07-01T15:15:00",
          "2017-07-01T15:30:00",
          "2017-07-01T15:45:00",
          "2017-07-01T16:00:00",
          "2017-07-01T16:15:00",
          "2017-07-01T16:30:00",
          "2017-07-01T16:45:00",
          "2017-07-01T17:00:00",
          "2017-07-01T17:15:00",
          "2017-07-01T17:30:00",
          "2017-07-01T17:45:00",
          "2017-07-01T18:00:00",
          "2017-07-01T18:15:00",
          "2017-07-01T18:30:00",
          "2017-07-01T18:45:00",
          "2017-07-01T19:00:00",
          "2017-07-01T19:15:00",
          "2017-07-01T19:30:00",
          "2017-07-01T19:45:00",
          "2017-07-01T20:00:00",
          "2017-07-01T20:15:00",
          "2017-07-01T20:30:00",
          "2017-07-01T20:45:00",
          "2017-07-01T21:00:00",
          "2017-07-01T21:15:00",
          "2017-07-01T21:30:00",
          "2017-07-01T21:45:00",
          "2017-07-01T22:00:00",
          "2017-07-01T22:15:00",
          "2017-07-01T22:30:00",
          "2017-07-01T22:45:00",
          "2017-07-01T23:00:00",
          "2017-07-01T23:15:00",
          "2017-07-01T23:30:00",
          "2017-07-01T23:45:00"
         ],
         "y": [
          0.18849788327122327,
          0.23166894891942644,
          0.2518536105584192,
          0.26519101110496196,
          0.2603084350559108,
          0.25729671695225065,
          0.25913725732347065,
          0.262008729162311,
          0.2627179148777544,
          0.2631745177597405,
          0.26346917339321657,
          0.26357609331678966,
          0.2635795101631524,
          0.26344557327662704,
          0.2631750285587051,
          0.26276375223054466,
          0.2618581142361141,
          0.26090399168897366,
          0.2598965401360808,
          0.2588280315726513,
          0.2561840278178573,
          0.25336778834803586,
          0.25033918021924495,
          0.24709173676845814,
          0.24026729048194131,
          0.23288636499926763,
          0.2248374939961216,
          0.2160630942583609,
          0.20512481151382023,
          0.18959955434918008,
          0.16666723698732916,
          0.1136243995461199,
          0.0835215917216739,
          0.06833932309209252,
          0.05648593409560371,
          0.046292143756367615,
          0.038378186779239785,
          0.031129639702162145,
          0.02448860790309192,
          0.01882308475780111,
          0.012678958298315396,
          0.0072795851750050026,
          0.002724061520956069,
          0,
          0,
          0,
          0,
          0,
          0,
          0,
          0,
          0,
          0,
          0,
          0,
          0,
          0,
          0,
          0,
          0,
          0,
          0,
          0,
          0,
          0,
          0,
          0,
          0,
          0,
          0,
          0,
          0,
          0,
          0,
          0,
          0.008995059007793743,
          0.010264010005051465,
          0.011576517702626455,
          0.01302363676022664,
          0.014592249021995908,
          0.021486820070565654,
          0.028673109779705826,
          0.03589779065756031,
          0.0430770998360846,
          0.049386681301802536,
          0.05564075379107584,
          0.06194875556810334,
          0.06831855027086146,
          0.07596697445501702,
          0.08384332582507835,
          0.09203849073372215,
          0.10062565266098888,
          0.10814740470574054,
          0.11621099984281666,
          0.1249644571062472,
          0.13509181178446436
         ]
        },
        {
         "name": "BLOCK 01 STOREY 0 WALL 0004 WINDOW",
         "type": "scatter",
         "x": [
          "2017-07-01T00:00:00",
          "2017-07-01T00:15:00",
          "2017-07-01T00:30:00",
          "2017-07-01T00:45:00",
          "2017-07-01T01:00:00",
          "2017-07-01T01:15:00",
          "2017-07-01T01:30:00",
          "2017-07-01T01:45:00",
          "2017-07-01T02:00:00",
          "2017-07-01T02:15:00",
          "2017-07-01T02:30:00",
          "2017-07-01T02:45:00",
          "2017-07-01T03:00:00",
          "2017-07-01T03:15:00",
          "2017-07-01T03:30:00",
          "2017-07-01T03:45:00",
          "2017-07-01T04:00:00",
          "2017-07-01T04:15:00",
          "2017-07-01T04:30:00",
          "2017-07-01T04:45:00",
          "2017-07-01T05:00:00",
          "2017-07-01T05:15:00",
          "2017-07-01T05:30:00",
          "2017-07-01T05:45:00",
          "2017-07-01T06:00:00",
          "2017-07-01T06:15:00",
          "2017-07-01T06:30:00",
          "2017-07-01T06:45:00",
          "2017-07-01T07:00:00",
          "2017-07-01T07:15:00",
          "2017-07-01T07:30:00",
          "2017-07-01T07:45:00",
          "2017-07-01T08:00:00",
          "2017-07-01T08:15:00",
          "2017-07-01T08:30:00",
          "2017-07-01T08:45:00",
          "2017-07-01T09:00:00",
          "2017-07-01T09:15:00",
          "2017-07-01T09:30:00",
          "2017-07-01T09:45:00",
          "2017-07-01T10:00:00",
          "2017-07-01T10:15:00",
          "2017-07-01T10:30:00",
          "2017-07-01T10:45:00",
          "2017-07-01T11:00:00",
          "2017-07-01T11:15:00",
          "2017-07-01T11:30:00",
          "2017-07-01T11:45:00",
          "2017-07-01T12:00:00",
          "2017-07-01T12:15:00",
          "2017-07-01T12:30:00",
          "2017-07-01T12:45:00",
          "2017-07-01T13:00:00",
          "2017-07-01T13:15:00",
          "2017-07-01T13:30:00",
          "2017-07-01T13:45:00",
          "2017-07-01T14:00:00",
          "2017-07-01T14:15:00",
          "2017-07-01T14:30:00",
          "2017-07-01T14:45:00",
          "2017-07-01T15:00:00",
          "2017-07-01T15:15:00",
          "2017-07-01T15:30:00",
          "2017-07-01T15:45:00",
          "2017-07-01T16:00:00",
          "2017-07-01T16:15:00",
          "2017-07-01T16:30:00",
          "2017-07-01T16:45:00",
          "2017-07-01T17:00:00",
          "2017-07-01T17:15:00",
          "2017-07-01T17:30:00",
          "2017-07-01T17:45:00",
          "2017-07-01T18:00:00",
          "2017-07-01T18:15:00",
          "2017-07-01T18:30:00",
          "2017-07-01T18:45:00",
          "2017-07-01T19:00:00",
          "2017-07-01T19:15:00",
          "2017-07-01T19:30:00",
          "2017-07-01T19:45:00",
          "2017-07-01T20:00:00",
          "2017-07-01T20:15:00",
          "2017-07-01T20:30:00",
          "2017-07-01T20:45:00",
          "2017-07-01T21:00:00",
          "2017-07-01T21:15:00",
          "2017-07-01T21:30:00",
          "2017-07-01T21:45:00",
          "2017-07-01T22:00:00",
          "2017-07-01T22:15:00",
          "2017-07-01T22:30:00",
          "2017-07-01T22:45:00",
          "2017-07-01T23:00:00",
          "2017-07-01T23:15:00",
          "2017-07-01T23:30:00",
          "2017-07-01T23:45:00"
         ],
         "y": [
          0.04423019173694813,
          0.10825518554615611,
          0.14770349626846835,
          0.17520887802542207,
          0.17131990006636683,
          0.17029190695318358,
          0.17699689037682137,
          0.18519771107943228,
          0.18972403131279555,
          0.1937567381924899,
          0.19732134230808523,
          0.20044141008521454,
          0.203217002487273,
          0.20558762617994908,
          0.2075669530722437,
          0.2091661609376489,
          0.20983807048616382,
          0.2103041601893581,
          0.21056674190047808,
          0.2106268627328764,
          0.20799230167120966,
          0.20512266105492175,
          0.20201382653256472,
          0.1986555217492933,
          0.18943026753881764,
          0.17955097576696566,
          0.1689265570282573,
          0.1574227870602471,
          0.14269019287627968,
          0.11994578347990022,
          0.08319641365983299,
          0.012203556568552964,
          0,
          0,
          0,
          0,
          0,
          0,
          0,
          0,
          0,
          0,
          0,
          0,
          0,
          0,
          0,
          0,
          0,
          0,
          0,
          0,
          0,
          0,
          0,
          0,
          0,
          0,
          0,
          0,
          0,
          0,
          0,
          0,
          0,
          0,
          0,
          0,
          0,
          0,
          0,
          0,
          0,
          0,
          0,
          0,
          0,
          0,
          0,
          0,
          0,
          0,
          0,
          0,
          0,
          0,
          0,
          0,
          0,
          0,
          0,
          0,
          0,
          0,
          0,
          0
         ]
        }
       ],
       "layout": {
        "template": {
         "data": {
          "bar": [
           {
            "error_x": {
             "color": "#2a3f5f"
            },
            "error_y": {
             "color": "#2a3f5f"
            },
            "marker": {
             "line": {
              "color": "#E5ECF6",
              "width": 0.5
             },
             "pattern": {
              "fillmode": "overlay",
              "size": 10,
              "solidity": 0.2
             }
            },
            "type": "bar"
           }
          ],
          "barpolar": [
           {
            "marker": {
             "line": {
              "color": "#E5ECF6",
              "width": 0.5
             },
             "pattern": {
              "fillmode": "overlay",
              "size": 10,
              "solidity": 0.2
             }
            },
            "type": "barpolar"
           }
          ],
          "carpet": [
           {
            "aaxis": {
             "endlinecolor": "#2a3f5f",
             "gridcolor": "white",
             "linecolor": "white",
             "minorgridcolor": "white",
             "startlinecolor": "#2a3f5f"
            },
            "baxis": {
             "endlinecolor": "#2a3f5f",
             "gridcolor": "white",
             "linecolor": "white",
             "minorgridcolor": "white",
             "startlinecolor": "#2a3f5f"
            },
            "type": "carpet"
           }
          ],
          "choropleth": [
           {
            "colorbar": {
             "outlinewidth": 0,
             "ticks": ""
            },
            "type": "choropleth"
           }
          ],
          "contour": [
           {
            "colorbar": {
             "outlinewidth": 0,
             "ticks": ""
            },
            "colorscale": [
             [
              0,
              "#0d0887"
             ],
             [
              0.1111111111111111,
              "#46039f"
             ],
             [
              0.2222222222222222,
              "#7201a8"
             ],
             [
              0.3333333333333333,
              "#9c179e"
             ],
             [
              0.4444444444444444,
              "#bd3786"
             ],
             [
              0.5555555555555556,
              "#d8576b"
             ],
             [
              0.6666666666666666,
              "#ed7953"
             ],
             [
              0.7777777777777778,
              "#fb9f3a"
             ],
             [
              0.8888888888888888,
              "#fdca26"
             ],
             [
              1,
              "#f0f921"
             ]
            ],
            "type": "contour"
           }
          ],
          "contourcarpet": [
           {
            "colorbar": {
             "outlinewidth": 0,
             "ticks": ""
            },
            "type": "contourcarpet"
           }
          ],
          "heatmap": [
           {
            "colorbar": {
             "outlinewidth": 0,
             "ticks": ""
            },
            "colorscale": [
             [
              0,
              "#0d0887"
             ],
             [
              0.1111111111111111,
              "#46039f"
             ],
             [
              0.2222222222222222,
              "#7201a8"
             ],
             [
              0.3333333333333333,
              "#9c179e"
             ],
             [
              0.4444444444444444,
              "#bd3786"
             ],
             [
              0.5555555555555556,
              "#d8576b"
             ],
             [
              0.6666666666666666,
              "#ed7953"
             ],
             [
              0.7777777777777778,
              "#fb9f3a"
             ],
             [
              0.8888888888888888,
              "#fdca26"
             ],
             [
              1,
              "#f0f921"
             ]
            ],
            "type": "heatmap"
           }
          ],
          "heatmapgl": [
           {
            "colorbar": {
             "outlinewidth": 0,
             "ticks": ""
            },
            "colorscale": [
             [
              0,
              "#0d0887"
             ],
             [
              0.1111111111111111,
              "#46039f"
             ],
             [
              0.2222222222222222,
              "#7201a8"
             ],
             [
              0.3333333333333333,
              "#9c179e"
             ],
             [
              0.4444444444444444,
              "#bd3786"
             ],
             [
              0.5555555555555556,
              "#d8576b"
             ],
             [
              0.6666666666666666,
              "#ed7953"
             ],
             [
              0.7777777777777778,
              "#fb9f3a"
             ],
             [
              0.8888888888888888,
              "#fdca26"
             ],
             [
              1,
              "#f0f921"
             ]
            ],
            "type": "heatmapgl"
           }
          ],
          "histogram": [
           {
            "marker": {
             "pattern": {
              "fillmode": "overlay",
              "size": 10,
              "solidity": 0.2
             }
            },
            "type": "histogram"
           }
          ],
          "histogram2d": [
           {
            "colorbar": {
             "outlinewidth": 0,
             "ticks": ""
            },
            "colorscale": [
             [
              0,
              "#0d0887"
             ],
             [
              0.1111111111111111,
              "#46039f"
             ],
             [
              0.2222222222222222,
              "#7201a8"
             ],
             [
              0.3333333333333333,
              "#9c179e"
             ],
             [
              0.4444444444444444,
              "#bd3786"
             ],
             [
              0.5555555555555556,
              "#d8576b"
             ],
             [
              0.6666666666666666,
              "#ed7953"
             ],
             [
              0.7777777777777778,
              "#fb9f3a"
             ],
             [
              0.8888888888888888,
              "#fdca26"
             ],
             [
              1,
              "#f0f921"
             ]
            ],
            "type": "histogram2d"
           }
          ],
          "histogram2dcontour": [
           {
            "colorbar": {
             "outlinewidth": 0,
             "ticks": ""
            },
            "colorscale": [
             [
              0,
              "#0d0887"
             ],
             [
              0.1111111111111111,
              "#46039f"
             ],
             [
              0.2222222222222222,
              "#7201a8"
             ],
             [
              0.3333333333333333,
              "#9c179e"
             ],
             [
              0.4444444444444444,
              "#bd3786"
             ],
             [
              0.5555555555555556,
              "#d8576b"
             ],
             [
              0.6666666666666666,
              "#ed7953"
             ],
             [
              0.7777777777777778,
              "#fb9f3a"
             ],
             [
              0.8888888888888888,
              "#fdca26"
             ],
             [
              1,
              "#f0f921"
             ]
            ],
            "type": "histogram2dcontour"
           }
          ],
          "mesh3d": [
           {
            "colorbar": {
             "outlinewidth": 0,
             "ticks": ""
            },
            "type": "mesh3d"
           }
          ],
          "parcoords": [
           {
            "line": {
             "colorbar": {
              "outlinewidth": 0,
              "ticks": ""
             }
            },
            "type": "parcoords"
           }
          ],
          "pie": [
           {
            "automargin": true,
            "type": "pie"
           }
          ],
          "scatter": [
           {
            "fillpattern": {
             "fillmode": "overlay",
             "size": 10,
             "solidity": 0.2
            },
            "type": "scatter"
           }
          ],
          "scatter3d": [
           {
            "line": {
             "colorbar": {
              "outlinewidth": 0,
              "ticks": ""
             }
            },
            "marker": {
             "colorbar": {
              "outlinewidth": 0,
              "ticks": ""
             }
            },
            "type": "scatter3d"
           }
          ],
          "scattercarpet": [
           {
            "marker": {
             "colorbar": {
              "outlinewidth": 0,
              "ticks": ""
             }
            },
            "type": "scattercarpet"
           }
          ],
          "scattergeo": [
           {
            "marker": {
             "colorbar": {
              "outlinewidth": 0,
              "ticks": ""
             }
            },
            "type": "scattergeo"
           }
          ],
          "scattergl": [
           {
            "marker": {
             "colorbar": {
              "outlinewidth": 0,
              "ticks": ""
             }
            },
            "type": "scattergl"
           }
          ],
          "scattermapbox": [
           {
            "marker": {
             "colorbar": {
              "outlinewidth": 0,
              "ticks": ""
             }
            },
            "type": "scattermapbox"
           }
          ],
          "scatterpolar": [
           {
            "marker": {
             "colorbar": {
              "outlinewidth": 0,
              "ticks": ""
             }
            },
            "type": "scatterpolar"
           }
          ],
          "scatterpolargl": [
           {
            "marker": {
             "colorbar": {
              "outlinewidth": 0,
              "ticks": ""
             }
            },
            "type": "scatterpolargl"
           }
          ],
          "scatterternary": [
           {
            "marker": {
             "colorbar": {
              "outlinewidth": 0,
              "ticks": ""
             }
            },
            "type": "scatterternary"
           }
          ],
          "surface": [
           {
            "colorbar": {
             "outlinewidth": 0,
             "ticks": ""
            },
            "colorscale": [
             [
              0,
              "#0d0887"
             ],
             [
              0.1111111111111111,
              "#46039f"
             ],
             [
              0.2222222222222222,
              "#7201a8"
             ],
             [
              0.3333333333333333,
              "#9c179e"
             ],
             [
              0.4444444444444444,
              "#bd3786"
             ],
             [
              0.5555555555555556,
              "#d8576b"
             ],
             [
              0.6666666666666666,
              "#ed7953"
             ],
             [
              0.7777777777777778,
              "#fb9f3a"
             ],
             [
              0.8888888888888888,
              "#fdca26"
             ],
             [
              1,
              "#f0f921"
             ]
            ],
            "type": "surface"
           }
          ],
          "table": [
           {
            "cells": {
             "fill": {
              "color": "#EBF0F8"
             },
             "line": {
              "color": "white"
             }
            },
            "header": {
             "fill": {
              "color": "#C8D4E3"
             },
             "line": {
              "color": "white"
             }
            },
            "type": "table"
           }
          ]
         },
         "layout": {
          "annotationdefaults": {
           "arrowcolor": "#2a3f5f",
           "arrowhead": 0,
           "arrowwidth": 1
          },
          "autotypenumbers": "strict",
          "coloraxis": {
           "colorbar": {
            "outlinewidth": 0,
            "ticks": ""
           }
          },
          "colorscale": {
           "diverging": [
            [
             0,
             "#8e0152"
            ],
            [
             0.1,
             "#c51b7d"
            ],
            [
             0.2,
             "#de77ae"
            ],
            [
             0.3,
             "#f1b6da"
            ],
            [
             0.4,
             "#fde0ef"
            ],
            [
             0.5,
             "#f7f7f7"
            ],
            [
             0.6,
             "#e6f5d0"
            ],
            [
             0.7,
             "#b8e186"
            ],
            [
             0.8,
             "#7fbc41"
            ],
            [
             0.9,
             "#4d9221"
            ],
            [
             1,
             "#276419"
            ]
           ],
           "sequential": [
            [
             0,
             "#0d0887"
            ],
            [
             0.1111111111111111,
             "#46039f"
            ],
            [
             0.2222222222222222,
             "#7201a8"
            ],
            [
             0.3333333333333333,
             "#9c179e"
            ],
            [
             0.4444444444444444,
             "#bd3786"
            ],
            [
             0.5555555555555556,
             "#d8576b"
            ],
            [
             0.6666666666666666,
             "#ed7953"
            ],
            [
             0.7777777777777778,
             "#fb9f3a"
            ],
            [
             0.8888888888888888,
             "#fdca26"
            ],
            [
             1,
             "#f0f921"
            ]
           ],
           "sequentialminus": [
            [
             0,
             "#0d0887"
            ],
            [
             0.1111111111111111,
             "#46039f"
            ],
            [
             0.2222222222222222,
             "#7201a8"
            ],
            [
             0.3333333333333333,
             "#9c179e"
            ],
            [
             0.4444444444444444,
             "#bd3786"
            ],
            [
             0.5555555555555556,
             "#d8576b"
            ],
            [
             0.6666666666666666,
             "#ed7953"
            ],
            [
             0.7777777777777778,
             "#fb9f3a"
            ],
            [
             0.8888888888888888,
             "#fdca26"
            ],
            [
             1,
             "#f0f921"
            ]
           ]
          },
          "colorway": [
           "#636efa",
           "#EF553B",
           "#00cc96",
           "#ab63fa",
           "#FFA15A",
           "#19d3f3",
           "#FF6692",
           "#B6E880",
           "#FF97FF",
           "#FECB52"
          ],
          "font": {
           "color": "#2a3f5f"
          },
          "geo": {
           "bgcolor": "white",
           "lakecolor": "white",
           "landcolor": "#E5ECF6",
           "showlakes": true,
           "showland": true,
           "subunitcolor": "white"
          },
          "hoverlabel": {
           "align": "left"
          },
          "hovermode": "closest",
          "mapbox": {
           "style": "light"
          },
          "paper_bgcolor": "white",
          "plot_bgcolor": "#E5ECF6",
          "polar": {
           "angularaxis": {
            "gridcolor": "white",
            "linecolor": "white",
            "ticks": ""
           },
           "bgcolor": "#E5ECF6",
           "radialaxis": {
            "gridcolor": "white",
            "linecolor": "white",
            "ticks": ""
           }
          },
          "scene": {
           "xaxis": {
            "backgroundcolor": "#E5ECF6",
            "gridcolor": "white",
            "gridwidth": 2,
            "linecolor": "white",
            "showbackground": true,
            "ticks": "",
            "zerolinecolor": "white"
           },
           "yaxis": {
            "backgroundcolor": "#E5ECF6",
            "gridcolor": "white",
            "gridwidth": 2,
            "linecolor": "white",
            "showbackground": true,
            "ticks": "",
            "zerolinecolor": "white"
           },
           "zaxis": {
            "backgroundcolor": "#E5ECF6",
            "gridcolor": "white",
            "gridwidth": 2,
            "linecolor": "white",
            "showbackground": true,
            "ticks": "",
            "zerolinecolor": "white"
           }
          },
          "shapedefaults": {
           "line": {
            "color": "#2a3f5f"
           }
          },
          "ternary": {
           "aaxis": {
            "gridcolor": "white",
            "linecolor": "white",
            "ticks": ""
           },
           "baxis": {
            "gridcolor": "white",
            "linecolor": "white",
            "ticks": ""
           },
           "bgcolor": "#E5ECF6",
           "caxis": {
            "gridcolor": "white",
            "linecolor": "white",
            "ticks": ""
           }
          },
          "title": {
           "x": 0.05
          },
          "xaxis": {
           "automargin": true,
           "gridcolor": "white",
           "linecolor": "white",
           "ticks": "",
           "title": {
            "standoff": 15
           },
           "zerolinecolor": "white",
           "zerolinewidth": 2
          },
          "yaxis": {
           "automargin": true,
           "gridcolor": "white",
           "linecolor": "white",
           "ticks": "",
           "title": {
            "standoff": 15
           },
           "zerolinecolor": "white",
           "zerolinewidth": 2
          }
         }
        },
        "title": {
         "text": "AFN Linkage Node 2 to Node 1 Volume Flow Rate [m3/s] <br><sup> 7/1 to 7/1 between 0 and 23 @4 </sup>"
        }
       }
      }
     },
     "metadata": {},
     "output_type": "display_data"
    }
   ],
   "source": [
    "ez.plt.get_collection_for_variable(ez.eligible_vars.linkage_flow21)\n",
    "ez.plt.create_plot()"
   ]
  },
  {
   "cell_type": "code",
   "execution_count": 12,
   "metadata": {},
   "outputs": [
    {
     "data": {
      "application/vnd.plotly.v1+json": {
       "config": {
        "plotlyServerURL": "https://plotly.com"
       },
       "data": [
        {
         "name": "BLOCK 00 STOREY 0 WALL 0001",
         "type": "scatter",
         "x": [
          "2017-07-01T00:00:00",
          "2017-07-01T00:15:00",
          "2017-07-01T00:30:00",
          "2017-07-01T00:45:00",
          "2017-07-01T01:00:00",
          "2017-07-01T01:15:00",
          "2017-07-01T01:30:00",
          "2017-07-01T01:45:00",
          "2017-07-01T02:00:00",
          "2017-07-01T02:15:00",
          "2017-07-01T02:30:00",
          "2017-07-01T02:45:00",
          "2017-07-01T03:00:00",
          "2017-07-01T03:15:00",
          "2017-07-01T03:30:00",
          "2017-07-01T03:45:00",
          "2017-07-01T04:00:00",
          "2017-07-01T04:15:00",
          "2017-07-01T04:30:00",
          "2017-07-01T04:45:00",
          "2017-07-01T05:00:00",
          "2017-07-01T05:15:00",
          "2017-07-01T05:30:00",
          "2017-07-01T05:45:00",
          "2017-07-01T06:00:00",
          "2017-07-01T06:15:00",
          "2017-07-01T06:30:00",
          "2017-07-01T06:45:00",
          "2017-07-01T07:00:00",
          "2017-07-01T07:15:00",
          "2017-07-01T07:30:00",
          "2017-07-01T07:45:00",
          "2017-07-01T08:00:00",
          "2017-07-01T08:15:00",
          "2017-07-01T08:30:00",
          "2017-07-01T08:45:00",
          "2017-07-01T09:00:00",
          "2017-07-01T09:15:00",
          "2017-07-01T09:30:00",
          "2017-07-01T09:45:00",
          "2017-07-01T10:00:00",
          "2017-07-01T10:15:00",
          "2017-07-01T10:30:00",
          "2017-07-01T10:45:00",
          "2017-07-01T11:00:00",
          "2017-07-01T11:15:00",
          "2017-07-01T11:30:00",
          "2017-07-01T11:45:00",
          "2017-07-01T12:00:00",
          "2017-07-01T12:15:00",
          "2017-07-01T12:30:00",
          "2017-07-01T12:45:00",
          "2017-07-01T13:00:00",
          "2017-07-01T13:15:00",
          "2017-07-01T13:30:00",
          "2017-07-01T13:45:00",
          "2017-07-01T14:00:00",
          "2017-07-01T14:15:00",
          "2017-07-01T14:30:00",
          "2017-07-01T14:45:00",
          "2017-07-01T15:00:00",
          "2017-07-01T15:15:00",
          "2017-07-01T15:30:00",
          "2017-07-01T15:45:00",
          "2017-07-01T16:00:00",
          "2017-07-01T16:15:00",
          "2017-07-01T16:30:00",
          "2017-07-01T16:45:00",
          "2017-07-01T17:00:00",
          "2017-07-01T17:15:00",
          "2017-07-01T17:30:00",
          "2017-07-01T17:45:00",
          "2017-07-01T18:00:00",
          "2017-07-01T18:15:00",
          "2017-07-01T18:30:00",
          "2017-07-01T18:45:00",
          "2017-07-01T19:00:00",
          "2017-07-01T19:15:00",
          "2017-07-01T19:30:00",
          "2017-07-01T19:45:00",
          "2017-07-01T20:00:00",
          "2017-07-01T20:15:00",
          "2017-07-01T20:30:00",
          "2017-07-01T20:45:00",
          "2017-07-01T21:00:00",
          "2017-07-01T21:15:00",
          "2017-07-01T21:30:00",
          "2017-07-01T21:45:00",
          "2017-07-01T22:00:00",
          "2017-07-01T22:15:00",
          "2017-07-01T22:30:00",
          "2017-07-01T22:45:00",
          "2017-07-01T23:00:00",
          "2017-07-01T23:15:00",
          "2017-07-01T23:30:00",
          "2017-07-01T23:45:00"
         ],
         "y": [
          24.446174801915607,
          24.318167478381717,
          24.188651094323113,
          24.059817929291256,
          23.93166212984283,
          23.80214631852487,
          23.671620208871502,
          23.541716004337328,
          23.41066065219052,
          23.27881751236517,
          23.14618319796231,
          23.012843997193766,
          22.878921119345552,
          22.744520156922903,
          22.6097515741109,
          22.47472129974522,
          22.339520050930865,
          22.204242697112505,
          22.068959482951723,
          21.933714377726414,
          21.79878431256108,
          21.665601978087853,
          21.537312223923614,
          21.418489939946955,
          21.31415814206729,
          21.22937425425536,
          21.168111701850297,
          21.133965788023804,
          21.127683213851075,
          21.151687546145336,
          21.20679706328592,
          21.28409974740097,
          21.38310501791122,
          21.500583253975204,
          21.63434800814937,
          21.78190613130136,
          21.941601800882893,
          22.110168618015408,
          22.28639657201519,
          22.46824039535173,
          22.650716339275622,
          22.833591003839565,
          23.01592106714811,
          23.196999773228832,
          23.37620942381194,
          23.552895650168306,
          23.726654382616733,
          23.896719526394083,
          24.06228801976832,
          24.22152917157215,
          24.3731549142233,
          24.516647961669836,
          24.65217976906494,
          24.78028327269258,
          24.901754172314767,
          25.017572426428984,
          25.1286346156392,
          25.234766316517682,
          25.336093521038233,
          25.43281223418353,
          25.525201858780054,
          25.613398885911145,
          25.69736080086851,
          25.776907439876386,
          25.851755251263693,
          25.921521689240194,
          25.985774498233273,
          26.044070582189388,
          26.095218053886782,
          26.14010699355092,
          26.177633544861347,
          26.207458802968937,
          26.229250482176546,
          26.242975552680207,
          26.248537876687532,
          26.245783078921285,
          26.234582600770576,
          26.2142691201963,
          26.184716226391096,
          26.14513806796337,
          26.095810820232213,
          26.037228336893484,
          25.96994825680619,
          25.894456988006066,
          25.81129167456989,
          25.721014392588938,
          25.623638755598783,
          25.52106578304163,
          25.413531430383074,
          25.301779576328496,
          25.186489901199415,
          25.06819348974262,
          24.947402299684907,
          24.824522577661902,
          24.699897857945718,
          24.57379450140551
         ]
        },
        {
         "name": "BLOCK 00 STOREY 0 WALL 0002",
         "type": "scatter",
         "x": [
          "2017-07-01T00:00:00",
          "2017-07-01T00:15:00",
          "2017-07-01T00:30:00",
          "2017-07-01T00:45:00",
          "2017-07-01T01:00:00",
          "2017-07-01T01:15:00",
          "2017-07-01T01:30:00",
          "2017-07-01T01:45:00",
          "2017-07-01T02:00:00",
          "2017-07-01T02:15:00",
          "2017-07-01T02:30:00",
          "2017-07-01T02:45:00",
          "2017-07-01T03:00:00",
          "2017-07-01T03:15:00",
          "2017-07-01T03:30:00",
          "2017-07-01T03:45:00",
          "2017-07-01T04:00:00",
          "2017-07-01T04:15:00",
          "2017-07-01T04:30:00",
          "2017-07-01T04:45:00",
          "2017-07-01T05:00:00",
          "2017-07-01T05:15:00",
          "2017-07-01T05:30:00",
          "2017-07-01T05:45:00",
          "2017-07-01T06:00:00",
          "2017-07-01T06:15:00",
          "2017-07-01T06:30:00",
          "2017-07-01T06:45:00",
          "2017-07-01T07:00:00",
          "2017-07-01T07:15:00",
          "2017-07-01T07:30:00",
          "2017-07-01T07:45:00",
          "2017-07-01T08:00:00",
          "2017-07-01T08:15:00",
          "2017-07-01T08:30:00",
          "2017-07-01T08:45:00",
          "2017-07-01T09:00:00",
          "2017-07-01T09:15:00",
          "2017-07-01T09:30:00",
          "2017-07-01T09:45:00",
          "2017-07-01T10:00:00",
          "2017-07-01T10:15:00",
          "2017-07-01T10:30:00",
          "2017-07-01T10:45:00",
          "2017-07-01T11:00:00",
          "2017-07-01T11:15:00",
          "2017-07-01T11:30:00",
          "2017-07-01T11:45:00",
          "2017-07-01T12:00:00",
          "2017-07-01T12:15:00",
          "2017-07-01T12:30:00",
          "2017-07-01T12:45:00",
          "2017-07-01T13:00:00",
          "2017-07-01T13:15:00",
          "2017-07-01T13:30:00",
          "2017-07-01T13:45:00",
          "2017-07-01T14:00:00",
          "2017-07-01T14:15:00",
          "2017-07-01T14:30:00",
          "2017-07-01T14:45:00",
          "2017-07-01T15:00:00",
          "2017-07-01T15:15:00",
          "2017-07-01T15:30:00",
          "2017-07-01T15:45:00",
          "2017-07-01T16:00:00",
          "2017-07-01T16:15:00",
          "2017-07-01T16:30:00",
          "2017-07-01T16:45:00",
          "2017-07-01T17:00:00",
          "2017-07-01T17:15:00",
          "2017-07-01T17:30:00",
          "2017-07-01T17:45:00",
          "2017-07-01T18:00:00",
          "2017-07-01T18:15:00",
          "2017-07-01T18:30:00",
          "2017-07-01T18:45:00",
          "2017-07-01T19:00:00",
          "2017-07-01T19:15:00",
          "2017-07-01T19:30:00",
          "2017-07-01T19:45:00",
          "2017-07-01T20:00:00",
          "2017-07-01T20:15:00",
          "2017-07-01T20:30:00",
          "2017-07-01T20:45:00",
          "2017-07-01T21:00:00",
          "2017-07-01T21:15:00",
          "2017-07-01T21:30:00",
          "2017-07-01T21:45:00",
          "2017-07-01T22:00:00",
          "2017-07-01T22:15:00",
          "2017-07-01T22:30:00",
          "2017-07-01T22:45:00",
          "2017-07-01T23:00:00",
          "2017-07-01T23:15:00",
          "2017-07-01T23:30:00",
          "2017-07-01T23:45:00"
         ],
         "y": [
          24.373635248328558,
          24.252822189251155,
          24.130876950563447,
          24.007869489465616,
          23.88343889575022,
          23.757447228070916,
          23.63008662511238,
          23.503075964478537,
          23.37463532419671,
          23.245167399741117,
          23.11469997356486,
          22.983346483343453,
          22.851251341713567,
          22.718539179323788,
          22.585336359412388,
          22.45176214866103,
          22.317918468282546,
          22.18390979908232,
          22.049814402369307,
          21.915681810432304,
          21.781738548549146,
          21.648977764306277,
          21.519372318636954,
          21.395661539033537,
          21.280733717398444,
          21.177598154948406,
          21.088441396826386,
          21.015327391218396,
          20.95762958163491,
          20.91605522905724,
          20.890340278214314,
          20.879821865552344,
          20.884152534556836,
          20.90247092567529,
          20.930441287417345,
          20.96662955176826,
          21.01128285757019,
          21.063020000002055,
          21.12281703995887,
          21.190883418288696,
          21.264163087258844,
          21.34418172322492,
          21.43145669472892,
          21.52651240531349,
          21.629783598560167,
          21.741449391554045,
          21.86185509721411,
          21.990873684507054,
          22.128124061340706,
          22.27220540526609,
          22.42186008178972,
          22.57612735903216,
          22.734234424590298,
          22.89539708084634,
          23.058801775274492,
          23.223716174680124,
          23.38936239310605,
          23.554257545652582,
          23.71727842062553,
          23.8774417233996,
          24.033991813136392,
          24.186219709178342,
          24.333424152116997,
          24.474924571317494,
          24.610069131846572,
          24.738240781173165,
          24.858940370547856,
          24.97185912620192,
          25.076085728677853,
          25.173011134100868,
          25.261944288050298,
          25.342929061576324,
          25.41593246582748,
          25.481046630551624,
          25.53823395097616,
          25.587370420395636,
          25.62832810620205,
          25.660475840772836,
          25.683499197392628,
          25.695838268215386,
          25.696489890777357,
          25.684559275076776,
          25.65966438851636,
          25.621880723156966,
          25.57174807284312,
          25.510105573154778,
          25.437368803117366,
          25.355920819139993,
          25.266460058999165,
          25.17015899343684,
          25.0680855748122,
          24.961101622409924,
          24.849997326882832,
          24.735404092338822,
          24.61781900798047,
          24.497525842021215
         ]
        },
        {
         "name": "BLOCK 00 STOREY 0 WALL 0003",
         "type": "scatter",
         "x": [
          "2017-07-01T00:00:00",
          "2017-07-01T00:15:00",
          "2017-07-01T00:30:00",
          "2017-07-01T00:45:00",
          "2017-07-01T01:00:00",
          "2017-07-01T01:15:00",
          "2017-07-01T01:30:00",
          "2017-07-01T01:45:00",
          "2017-07-01T02:00:00",
          "2017-07-01T02:15:00",
          "2017-07-01T02:30:00",
          "2017-07-01T02:45:00",
          "2017-07-01T03:00:00",
          "2017-07-01T03:15:00",
          "2017-07-01T03:30:00",
          "2017-07-01T03:45:00",
          "2017-07-01T04:00:00",
          "2017-07-01T04:15:00",
          "2017-07-01T04:30:00",
          "2017-07-01T04:45:00",
          "2017-07-01T05:00:00",
          "2017-07-01T05:15:00",
          "2017-07-01T05:30:00",
          "2017-07-01T05:45:00",
          "2017-07-01T06:00:00",
          "2017-07-01T06:15:00",
          "2017-07-01T06:30:00",
          "2017-07-01T06:45:00",
          "2017-07-01T07:00:00",
          "2017-07-01T07:15:00",
          "2017-07-01T07:30:00",
          "2017-07-01T07:45:00",
          "2017-07-01T08:00:00",
          "2017-07-01T08:15:00",
          "2017-07-01T08:30:00",
          "2017-07-01T08:45:00",
          "2017-07-01T09:00:00",
          "2017-07-01T09:15:00",
          "2017-07-01T09:30:00",
          "2017-07-01T09:45:00",
          "2017-07-01T10:00:00",
          "2017-07-01T10:15:00",
          "2017-07-01T10:30:00",
          "2017-07-01T10:45:00",
          "2017-07-01T11:00:00",
          "2017-07-01T11:15:00",
          "2017-07-01T11:30:00",
          "2017-07-01T11:45:00",
          "2017-07-01T12:00:00",
          "2017-07-01T12:15:00",
          "2017-07-01T12:30:00",
          "2017-07-01T12:45:00",
          "2017-07-01T13:00:00",
          "2017-07-01T13:15:00",
          "2017-07-01T13:30:00",
          "2017-07-01T13:45:00",
          "2017-07-01T14:00:00",
          "2017-07-01T14:15:00",
          "2017-07-01T14:30:00",
          "2017-07-01T14:45:00",
          "2017-07-01T15:00:00",
          "2017-07-01T15:15:00",
          "2017-07-01T15:30:00",
          "2017-07-01T15:45:00",
          "2017-07-01T16:00:00",
          "2017-07-01T16:15:00",
          "2017-07-01T16:30:00",
          "2017-07-01T16:45:00",
          "2017-07-01T17:00:00",
          "2017-07-01T17:15:00",
          "2017-07-01T17:30:00",
          "2017-07-01T17:45:00",
          "2017-07-01T18:00:00",
          "2017-07-01T18:15:00",
          "2017-07-01T18:30:00",
          "2017-07-01T18:45:00",
          "2017-07-01T19:00:00",
          "2017-07-01T19:15:00",
          "2017-07-01T19:30:00",
          "2017-07-01T19:45:00",
          "2017-07-01T20:00:00",
          "2017-07-01T20:15:00",
          "2017-07-01T20:30:00",
          "2017-07-01T20:45:00",
          "2017-07-01T21:00:00",
          "2017-07-01T21:15:00",
          "2017-07-01T21:30:00",
          "2017-07-01T21:45:00",
          "2017-07-01T22:00:00",
          "2017-07-01T22:15:00",
          "2017-07-01T22:30:00",
          "2017-07-01T22:45:00",
          "2017-07-01T23:00:00",
          "2017-07-01T23:15:00",
          "2017-07-01T23:30:00",
          "2017-07-01T23:45:00"
         ],
         "y": [
          25.098238166075674,
          24.944608425392786,
          24.791244336363828,
          24.63783792098941,
          24.483984607946578,
          24.32962228478646,
          24.174975416074965,
          24.0216723428706,
          23.86803104487889,
          23.714356293240883,
          23.560642949926617,
          23.406965392834003,
          23.253429174799994,
          23.100123575875354,
          22.94713540974289,
          22.79453484243145,
          22.64235790373776,
          22.49059860789965,
          22.33912853834928,
          22.187271312243638,
          22.038682172539474,
          21.89240483242794,
          21.747920168813803,
          21.606344658224998,
          21.46886331975605,
          21.337320411613153,
          21.213497991102685,
          21.099751433748324,
          20.996235808686453,
          20.904828116827396,
          20.82660029572584,
          20.762288365863117,
          20.712802294996262,
          20.677680582035137,
          20.657517386244663,
          20.652378909095493,
          20.662963401701653,
          20.688043104794637,
          20.728367909070002,
          20.783804445038747,
          20.85087828095549,
          20.930609835955188,
          21.021645873385395,
          21.12213375822495,
          21.233399129696892,
          21.35486843901211,
          21.486409262033742,
          21.627508218297194,
          21.777472375731534,
          21.934740161902663,
          22.097956874102213,
          22.266314858654205,
          22.439706134523863,
          22.619037244874107,
          22.80055975254559,
          22.98791860093237,
          23.18305897319189,
          23.378292193909864,
          23.57932500749605,
          23.783629294636167,
          23.99045384840712,
          24.19878919980851,
          24.407542899292384,
          24.61555533626856,
          24.821634276354,
          25.02455088408425,
          25.223041255224853,
          25.4158080473927,
          25.600751845928425,
          25.77786785282536,
          25.94506868521579,
          26.101053737556114,
          26.244538426631927,
          26.374556865651943,
          26.490201483978115,
          26.590740339115158,
          26.675716315275213,
          26.744238202451832,
          26.795809432150236,
          26.828616701470036,
          26.84126794297525,
          26.83291334494052,
          26.80356737479125,
          26.754027087399653,
          26.68578919726877,
          26.600737908880628,
          26.500391974202827,
          26.388091799734607,
          26.26544873059703,
          26.13444163872902,
          25.996805884902408,
          25.853969286574934,
          25.70719015340139,
          25.557478239748928,
          25.405677932335568,
          25.25248216346495
         ]
        },
        {
         "name": "BLOCK 00 STOREY 0 WALL 0004_1",
         "type": "scatter",
         "x": [
          "2017-07-01T00:00:00",
          "2017-07-01T00:15:00",
          "2017-07-01T00:30:00",
          "2017-07-01T00:45:00",
          "2017-07-01T01:00:00",
          "2017-07-01T01:15:00",
          "2017-07-01T01:30:00",
          "2017-07-01T01:45:00",
          "2017-07-01T02:00:00",
          "2017-07-01T02:15:00",
          "2017-07-01T02:30:00",
          "2017-07-01T02:45:00",
          "2017-07-01T03:00:00",
          "2017-07-01T03:15:00",
          "2017-07-01T03:30:00",
          "2017-07-01T03:45:00",
          "2017-07-01T04:00:00",
          "2017-07-01T04:15:00",
          "2017-07-01T04:30:00",
          "2017-07-01T04:45:00",
          "2017-07-01T05:00:00",
          "2017-07-01T05:15:00",
          "2017-07-01T05:30:00",
          "2017-07-01T05:45:00",
          "2017-07-01T06:00:00",
          "2017-07-01T06:15:00",
          "2017-07-01T06:30:00",
          "2017-07-01T06:45:00",
          "2017-07-01T07:00:00",
          "2017-07-01T07:15:00",
          "2017-07-01T07:30:00",
          "2017-07-01T07:45:00",
          "2017-07-01T08:00:00",
          "2017-07-01T08:15:00",
          "2017-07-01T08:30:00",
          "2017-07-01T08:45:00",
          "2017-07-01T09:00:00",
          "2017-07-01T09:15:00",
          "2017-07-01T09:30:00",
          "2017-07-01T09:45:00",
          "2017-07-01T10:00:00",
          "2017-07-01T10:15:00",
          "2017-07-01T10:30:00",
          "2017-07-01T10:45:00",
          "2017-07-01T11:00:00",
          "2017-07-01T11:15:00",
          "2017-07-01T11:30:00",
          "2017-07-01T11:45:00",
          "2017-07-01T12:00:00",
          "2017-07-01T12:15:00",
          "2017-07-01T12:30:00",
          "2017-07-01T12:45:00",
          "2017-07-01T13:00:00",
          "2017-07-01T13:15:00",
          "2017-07-01T13:30:00",
          "2017-07-01T13:45:00",
          "2017-07-01T14:00:00",
          "2017-07-01T14:15:00",
          "2017-07-01T14:30:00",
          "2017-07-01T14:45:00",
          "2017-07-01T15:00:00",
          "2017-07-01T15:15:00",
          "2017-07-01T15:30:00",
          "2017-07-01T15:45:00",
          "2017-07-01T16:00:00",
          "2017-07-01T16:15:00",
          "2017-07-01T16:30:00",
          "2017-07-01T16:45:00",
          "2017-07-01T17:00:00",
          "2017-07-01T17:15:00",
          "2017-07-01T17:30:00",
          "2017-07-01T17:45:00",
          "2017-07-01T18:00:00",
          "2017-07-01T18:15:00",
          "2017-07-01T18:30:00",
          "2017-07-01T18:45:00",
          "2017-07-01T19:00:00",
          "2017-07-01T19:15:00",
          "2017-07-01T19:30:00",
          "2017-07-01T19:45:00",
          "2017-07-01T20:00:00",
          "2017-07-01T20:15:00",
          "2017-07-01T20:30:00",
          "2017-07-01T20:45:00",
          "2017-07-01T21:00:00",
          "2017-07-01T21:15:00",
          "2017-07-01T21:30:00",
          "2017-07-01T21:45:00",
          "2017-07-01T22:00:00",
          "2017-07-01T22:15:00",
          "2017-07-01T22:30:00",
          "2017-07-01T22:45:00",
          "2017-07-01T23:00:00",
          "2017-07-01T23:15:00",
          "2017-07-01T23:30:00",
          "2017-07-01T23:45:00"
         ],
         "y": [
          24.595422072991678,
          24.517333619099045,
          24.43694847382319,
          24.35407205805202,
          24.26842393801411,
          24.1800149900603,
          24.08919994982277,
          23.99779423849704,
          23.904136537678323,
          23.808589491917257,
          23.71114311163505,
          23.61184673907218,
          23.51077881425485,
          23.408006364716513,
          23.303612370609812,
          23.197691159608116,
          23.09033810684592,
          22.98166653844594,
          22.871773966376363,
          22.76073221942913,
          22.648710546105136,
          22.536144314276747,
          22.42355653827291,
          22.311604080232332,
          22.201089309499096,
          22.09347147566529,
          21.99009889964599,
          21.892827488718197,
          21.801420092460344,
          21.717317451634607,
          21.64132874572586,
          21.57408755232408,
          21.51653181352738,
          21.468463913974993,
          21.43081174999789,
          21.404068569765787,
          21.38932386095535,
          21.385783883213513,
          21.39450369034269,
          21.41544702592381,
          21.44518861558418,
          21.484783264096254,
          21.53426616155817,
          21.59366791650498,
          21.66295778316515,
          21.741985343302296,
          21.83066975699024,
          21.928614953343555,
          22.03523156735156,
          22.14900001626177,
          22.26860484169873,
          22.39306835955333,
          22.52163601709111,
          22.653605255384498,
          22.788431920328534,
          22.923832067072855,
          23.05832487833781,
          23.19480091805378,
          23.3315908243795,
          23.46763048375243,
          23.602224132512408,
          23.734798220746068,
          23.864813000260174,
          23.99174347681637,
          24.115078640169802,
          24.234307800838998,
          24.348932246926875,
          24.45847541661931,
          24.56170653441587,
          24.65958782103767,
          24.751020717454917,
          24.835656538972454,
          24.913174880104684,
          24.983500710530468,
          25.046534522111777,
          25.102143713767756,
          25.150223427791463,
          25.1902288002563,
          25.222120780019647,
          25.24512584754251,
          25.25952147076978,
          25.265612961025184,
          25.263741949755318,
          25.254154937719328,
          25.23711382480417,
          25.212894391339987,
          25.18118329024645,
          25.143641060860304,
          25.10019899565943,
          25.05160959337774,
          24.99918562550412,
          24.94170569834217,
          24.8798323815818,
          24.813970251933693,
          24.744462057645908,
          24.671610928814083
         ]
        },
        {
         "name": "BLOCK 00 STOREY 0 WALL 0004_2",
         "type": "scatter",
         "x": [
          "2017-07-01T00:00:00",
          "2017-07-01T00:15:00",
          "2017-07-01T00:30:00",
          "2017-07-01T00:45:00",
          "2017-07-01T01:00:00",
          "2017-07-01T01:15:00",
          "2017-07-01T01:30:00",
          "2017-07-01T01:45:00",
          "2017-07-01T02:00:00",
          "2017-07-01T02:15:00",
          "2017-07-01T02:30:00",
          "2017-07-01T02:45:00",
          "2017-07-01T03:00:00",
          "2017-07-01T03:15:00",
          "2017-07-01T03:30:00",
          "2017-07-01T03:45:00",
          "2017-07-01T04:00:00",
          "2017-07-01T04:15:00",
          "2017-07-01T04:30:00",
          "2017-07-01T04:45:00",
          "2017-07-01T05:00:00",
          "2017-07-01T05:15:00",
          "2017-07-01T05:30:00",
          "2017-07-01T05:45:00",
          "2017-07-01T06:00:00",
          "2017-07-01T06:15:00",
          "2017-07-01T06:30:00",
          "2017-07-01T06:45:00",
          "2017-07-01T07:00:00",
          "2017-07-01T07:15:00",
          "2017-07-01T07:30:00",
          "2017-07-01T07:45:00",
          "2017-07-01T08:00:00",
          "2017-07-01T08:15:00",
          "2017-07-01T08:30:00",
          "2017-07-01T08:45:00",
          "2017-07-01T09:00:00",
          "2017-07-01T09:15:00",
          "2017-07-01T09:30:00",
          "2017-07-01T09:45:00",
          "2017-07-01T10:00:00",
          "2017-07-01T10:15:00",
          "2017-07-01T10:30:00",
          "2017-07-01T10:45:00",
          "2017-07-01T11:00:00",
          "2017-07-01T11:15:00",
          "2017-07-01T11:30:00",
          "2017-07-01T11:45:00",
          "2017-07-01T12:00:00",
          "2017-07-01T12:15:00",
          "2017-07-01T12:30:00",
          "2017-07-01T12:45:00",
          "2017-07-01T13:00:00",
          "2017-07-01T13:15:00",
          "2017-07-01T13:30:00",
          "2017-07-01T13:45:00",
          "2017-07-01T14:00:00",
          "2017-07-01T14:15:00",
          "2017-07-01T14:30:00",
          "2017-07-01T14:45:00",
          "2017-07-01T15:00:00",
          "2017-07-01T15:15:00",
          "2017-07-01T15:30:00",
          "2017-07-01T15:45:00",
          "2017-07-01T16:00:00",
          "2017-07-01T16:15:00",
          "2017-07-01T16:30:00",
          "2017-07-01T16:45:00",
          "2017-07-01T17:00:00",
          "2017-07-01T17:15:00",
          "2017-07-01T17:30:00",
          "2017-07-01T17:45:00",
          "2017-07-01T18:00:00",
          "2017-07-01T18:15:00",
          "2017-07-01T18:30:00",
          "2017-07-01T18:45:00",
          "2017-07-01T19:00:00",
          "2017-07-01T19:15:00",
          "2017-07-01T19:30:00",
          "2017-07-01T19:45:00",
          "2017-07-01T20:00:00",
          "2017-07-01T20:15:00",
          "2017-07-01T20:30:00",
          "2017-07-01T20:45:00",
          "2017-07-01T21:00:00",
          "2017-07-01T21:15:00",
          "2017-07-01T21:30:00",
          "2017-07-01T21:45:00",
          "2017-07-01T22:00:00",
          "2017-07-01T22:15:00",
          "2017-07-01T22:30:00",
          "2017-07-01T22:45:00",
          "2017-07-01T23:00:00",
          "2017-07-01T23:15:00",
          "2017-07-01T23:30:00",
          "2017-07-01T23:45:00"
         ],
         "y": [
          24.357607465965746,
          24.235350334123304,
          24.1123704321776,
          23.988679036168612,
          23.863812520698424,
          23.737579299942034,
          23.610134266609716,
          23.483164853795547,
          23.35487088425699,
          23.22563335323177,
          23.095464442207927,
          22.964465833158005,
          22.83277345784504,
          22.700505721693876,
          22.56778467457845,
          22.434726548511804,
          22.301430933606845,
          22.16800036148448,
          22.03451085931394,
          21.90100812190768,
          21.76764450404249,
          21.63489033101753,
          21.5034170294397,
          21.37415435829584,
          21.248275316052673,
          21.12766429356907,
          21.01413219801688,
          20.91003729563224,
          20.815571010402007,
          20.732605842182743,
          20.66224036585558,
          20.605247654515104,
          20.562570654014024,
          20.53382187093568,
          20.51965140077803,
          20.520219457020765,
          20.536419676570375,
          20.56744973885809,
          20.614679126054952,
          20.67863009672644,
          20.75643473448433,
          20.849593731773044,
          20.958535066584822,
          21.083835386474135,
          21.225279508966473,
          21.37702294522931,
          21.543024728780466,
          21.721802541046152,
          21.912174692763664,
          22.111953791043263,
          22.31904509670664,
          22.531655511530673,
          22.748229477564337,
          22.967253736159172,
          23.187227014226647,
          23.40680440085307,
          23.624637714737084,
          23.838591560182465,
          24.047038661036648,
          24.248585038893737,
          24.442161606112922,
          24.626818246429167,
          24.801666786449463,
          24.965887178063234,
          25.11873309204401,
          25.259533871347134,
          25.387778847589935,
          25.503190707142846,
          25.60495167509569,
          25.694521271029913,
          25.77139561588295,
          25.83585591084646,
          25.888166588017445,
          25.928824821931375,
          25.958216861308316,
          25.976617894443667,
          25.984271926057456,
          25.98085908952686,
          25.966549899729614,
          25.940785904987,
          25.904031262482135,
          25.85690328311413,
          25.80007454138706,
          25.734142358440447,
          25.65974357555833,
          25.57753084170446,
          25.48758518708218,
          25.391877224708313,
          25.29069245095059,
          25.184806156770495,
          25.074914077883538,
          24.961589163472542,
          24.845342890787602,
          24.726561831043572,
          24.605504018493367,
          24.48206943151118
         ]
        },
        {
         "name": "BLOCK 00 STOREY 0 FLOOR 0001",
         "type": "scatter",
         "x": [
          "2017-07-01T00:00:00",
          "2017-07-01T00:15:00",
          "2017-07-01T00:30:00",
          "2017-07-01T00:45:00",
          "2017-07-01T01:00:00",
          "2017-07-01T01:15:00",
          "2017-07-01T01:30:00",
          "2017-07-01T01:45:00",
          "2017-07-01T02:00:00",
          "2017-07-01T02:15:00",
          "2017-07-01T02:30:00",
          "2017-07-01T02:45:00",
          "2017-07-01T03:00:00",
          "2017-07-01T03:15:00",
          "2017-07-01T03:30:00",
          "2017-07-01T03:45:00",
          "2017-07-01T04:00:00",
          "2017-07-01T04:15:00",
          "2017-07-01T04:30:00",
          "2017-07-01T04:45:00",
          "2017-07-01T05:00:00",
          "2017-07-01T05:15:00",
          "2017-07-01T05:30:00",
          "2017-07-01T05:45:00",
          "2017-07-01T06:00:00",
          "2017-07-01T06:15:00",
          "2017-07-01T06:30:00",
          "2017-07-01T06:45:00",
          "2017-07-01T07:00:00",
          "2017-07-01T07:15:00",
          "2017-07-01T07:30:00",
          "2017-07-01T07:45:00",
          "2017-07-01T08:00:00",
          "2017-07-01T08:15:00",
          "2017-07-01T08:30:00",
          "2017-07-01T08:45:00",
          "2017-07-01T09:00:00",
          "2017-07-01T09:15:00",
          "2017-07-01T09:30:00",
          "2017-07-01T09:45:00",
          "2017-07-01T10:00:00",
          "2017-07-01T10:15:00",
          "2017-07-01T10:30:00",
          "2017-07-01T10:45:00",
          "2017-07-01T11:00:00",
          "2017-07-01T11:15:00",
          "2017-07-01T11:30:00",
          "2017-07-01T11:45:00",
          "2017-07-01T12:00:00",
          "2017-07-01T12:15:00",
          "2017-07-01T12:30:00",
          "2017-07-01T12:45:00",
          "2017-07-01T13:00:00",
          "2017-07-01T13:15:00",
          "2017-07-01T13:30:00",
          "2017-07-01T13:45:00",
          "2017-07-01T14:00:00",
          "2017-07-01T14:15:00",
          "2017-07-01T14:30:00",
          "2017-07-01T14:45:00",
          "2017-07-01T15:00:00",
          "2017-07-01T15:15:00",
          "2017-07-01T15:30:00",
          "2017-07-01T15:45:00",
          "2017-07-01T16:00:00",
          "2017-07-01T16:15:00",
          "2017-07-01T16:30:00",
          "2017-07-01T16:45:00",
          "2017-07-01T17:00:00",
          "2017-07-01T17:15:00",
          "2017-07-01T17:30:00",
          "2017-07-01T17:45:00",
          "2017-07-01T18:00:00",
          "2017-07-01T18:15:00",
          "2017-07-01T18:30:00",
          "2017-07-01T18:45:00",
          "2017-07-01T19:00:00",
          "2017-07-01T19:15:00",
          "2017-07-01T19:30:00",
          "2017-07-01T19:45:00",
          "2017-07-01T20:00:00",
          "2017-07-01T20:15:00",
          "2017-07-01T20:30:00",
          "2017-07-01T20:45:00",
          "2017-07-01T21:00:00",
          "2017-07-01T21:15:00",
          "2017-07-01T21:30:00",
          "2017-07-01T21:45:00",
          "2017-07-01T22:00:00",
          "2017-07-01T22:15:00",
          "2017-07-01T22:30:00",
          "2017-07-01T22:45:00",
          "2017-07-01T23:00:00",
          "2017-07-01T23:15:00",
          "2017-07-01T23:30:00",
          "2017-07-01T23:45:00"
         ],
         "y": [
          23.856753158351637,
          23.763160987355395,
          23.66814250213596,
          23.571530241721337,
          23.47305548702261,
          23.372682779484165,
          23.270754869137274,
          23.169379893813115,
          23.066461491503063,
          22.962454108845776,
          22.85734177950587,
          22.75117328523376,
          22.644023373646345,
          22.535956004191505,
          22.427046221030093,
          22.317374696585922,
          22.20701864067233,
          22.09606600011465,
          21.984587988037546,
          21.87262872198937,
          21.760360367709783,
          21.64816838438735,
          21.536603099124065,
          21.426439884292137,
          21.318650986546658,
          21.214773146876695,
          21.11628597667,
          21.025264450058753,
          20.94155896229683,
          20.866855218262657,
          20.802104817990536,
          20.74794962520164,
          20.705466437796414,
          20.67418304652247,
          20.65482409442619,
          20.647640755239067,
          20.653389845759378,
          20.671453807271533,
          20.702836216511933,
          20.747565614142992,
          20.801629738882557,
          20.86603474687025,
          20.94049971072134,
          21.024729318406997,
          21.118425955981028,
          21.221022762520175,
          21.332372054277972,
          21.452015236604268,
          21.57936146631473,
          21.713176348696457,
          21.852203524047614,
          21.99538722684707,
          22.141870724643407,
          22.29086952313266,
          22.44156681511926,
          22.593278403883286,
          22.74531237725328,
          22.896439901012982,
          23.045734057650996,
          23.192340990366556,
          23.335650196827466,
          23.475125511436065,
          23.610251910544804,
          23.74052900307419,
          23.865472718370285,
          23.984603073924113,
          24.097458253302108,
          24.203607778471312,
          24.301871587769618,
          24.393300578281487,
          24.476849680933167,
          24.552232565411593,
          24.61919081798694,
          24.67769089214624,
          24.727687556868826,
          24.769119004956462,
          24.80196060062925,
          24.8255340221545,
          24.84035008351969,
          24.84576707146763,
          24.841558636573566,
          24.82830302922621,
          24.806424029728067,
          24.776294621648052,
          24.73831975273589,
          24.69291792529538,
          24.639819821920913,
          24.58098982061418,
          24.51641601491738,
          24.44672644495993,
          24.372524960354877,
          24.294271083793845,
          24.21245275408442,
          24.127475073132462,
          24.03970170829638,
          23.94944292088614
         ]
        },
        {
         "name": "BLOCK 00 STOREY 0 ROOF 0001",
         "type": "scatter",
         "x": [
          "2017-07-01T00:00:00",
          "2017-07-01T00:15:00",
          "2017-07-01T00:30:00",
          "2017-07-01T00:45:00",
          "2017-07-01T01:00:00",
          "2017-07-01T01:15:00",
          "2017-07-01T01:30:00",
          "2017-07-01T01:45:00",
          "2017-07-01T02:00:00",
          "2017-07-01T02:15:00",
          "2017-07-01T02:30:00",
          "2017-07-01T02:45:00",
          "2017-07-01T03:00:00",
          "2017-07-01T03:15:00",
          "2017-07-01T03:30:00",
          "2017-07-01T03:45:00",
          "2017-07-01T04:00:00",
          "2017-07-01T04:15:00",
          "2017-07-01T04:30:00",
          "2017-07-01T04:45:00",
          "2017-07-01T05:00:00",
          "2017-07-01T05:15:00",
          "2017-07-01T05:30:00",
          "2017-07-01T05:45:00",
          "2017-07-01T06:00:00",
          "2017-07-01T06:15:00",
          "2017-07-01T06:30:00",
          "2017-07-01T06:45:00",
          "2017-07-01T07:00:00",
          "2017-07-01T07:15:00",
          "2017-07-01T07:30:00",
          "2017-07-01T07:45:00",
          "2017-07-01T08:00:00",
          "2017-07-01T08:15:00",
          "2017-07-01T08:30:00",
          "2017-07-01T08:45:00",
          "2017-07-01T09:00:00",
          "2017-07-01T09:15:00",
          "2017-07-01T09:30:00",
          "2017-07-01T09:45:00",
          "2017-07-01T10:00:00",
          "2017-07-01T10:15:00",
          "2017-07-01T10:30:00",
          "2017-07-01T10:45:00",
          "2017-07-01T11:00:00",
          "2017-07-01T11:15:00",
          "2017-07-01T11:30:00",
          "2017-07-01T11:45:00",
          "2017-07-01T12:00:00",
          "2017-07-01T12:15:00",
          "2017-07-01T12:30:00",
          "2017-07-01T12:45:00",
          "2017-07-01T13:00:00",
          "2017-07-01T13:15:00",
          "2017-07-01T13:30:00",
          "2017-07-01T13:45:00",
          "2017-07-01T14:00:00",
          "2017-07-01T14:15:00",
          "2017-07-01T14:30:00",
          "2017-07-01T14:45:00",
          "2017-07-01T15:00:00",
          "2017-07-01T15:15:00",
          "2017-07-01T15:30:00",
          "2017-07-01T15:45:00",
          "2017-07-01T16:00:00",
          "2017-07-01T16:15:00",
          "2017-07-01T16:30:00",
          "2017-07-01T16:45:00",
          "2017-07-01T17:00:00",
          "2017-07-01T17:15:00",
          "2017-07-01T17:30:00",
          "2017-07-01T17:45:00",
          "2017-07-01T18:00:00",
          "2017-07-01T18:15:00",
          "2017-07-01T18:30:00",
          "2017-07-01T18:45:00",
          "2017-07-01T19:00:00",
          "2017-07-01T19:15:00",
          "2017-07-01T19:30:00",
          "2017-07-01T19:45:00",
          "2017-07-01T20:00:00",
          "2017-07-01T20:15:00",
          "2017-07-01T20:30:00",
          "2017-07-01T20:45:00",
          "2017-07-01T21:00:00",
          "2017-07-01T21:15:00",
          "2017-07-01T21:30:00",
          "2017-07-01T21:45:00",
          "2017-07-01T22:00:00",
          "2017-07-01T22:15:00",
          "2017-07-01T22:30:00",
          "2017-07-01T22:45:00",
          "2017-07-01T23:00:00",
          "2017-07-01T23:15:00",
          "2017-07-01T23:30:00",
          "2017-07-01T23:45:00"
         ],
         "y": [
          24.643766457814625,
          24.490876176427527,
          24.338492185145366,
          24.186294323807658,
          24.033792446901867,
          23.880472190765865,
          23.726854270905676,
          23.579238955047085,
          23.429823467970003,
          23.280330605811198,
          23.130701221427262,
          22.98098719562829,
          22.831261759184635,
          22.68157539466552,
          22.531981616072354,
          22.382528944419892,
          22.233250848758452,
          22.08418862666094,
          21.935362051367836,
          21.78676747696061,
          21.638545896714813,
          21.491229446916602,
          21.345685955977782,
          21.203245991530597,
          21.065720570023615,
          20.93592869619692,
          20.816750568519982,
          20.71161948525348,
          20.621796989049027,
          20.550009415952292,
          20.4980613591451,
          20.467209621933698,
          20.458607440869358,
          20.472091254830133,
          20.50811247514207,
          20.566619404128485,
          20.64838382190564,
          20.752010324867538,
          20.88014831200801,
          21.03018000825825,
          21.192395542404913,
          21.369068648488973,
          21.559099295914915,
          21.761548799020613,
          21.975518378192092,
          22.19986600478549,
          22.433735416194768,
          22.675724196472032,
          22.924126929646683,
          23.176330843475473,
          23.42991923778409,
          23.682992508085327,
          23.934132438191206,
          24.182166783342105,
          24.42599219933348,
          24.664618710609744,
          24.896987023746842,
          25.12134814421403,
          25.336380029080114,
          25.54102160277762,
          25.734620524287713,
          25.91669930108454,
          26.086857763482467,
          26.244742627909755,
          26.39002854904202,
          26.52238486091307,
          26.641482603030806,
          26.747008091965355,
          26.837899529971512,
          26.915242139980965,
          26.978106509216715,
          27.02633486938917,
          27.05981690057671,
          27.07872618417609,
          27.083256946741642,
          27.07364448408222,
          27.05022157135001,
          27.013173973670543,
          26.962421964009327,
          26.897579157267213,
          26.82000051585704,
          26.730348710938234,
          26.62973167203915,
          26.519245159555975,
          26.400026515776005,
          26.27318937692801,
          26.13930070423496,
          26.000457536596592,
          25.857277381265412,
          25.710724692318976,
          25.561650585494842,
          25.410683025188405,
          25.258409364550857,
          25.10528051399246,
          24.951661614191035,
          24.797827896997166
         ]
        },
        {
         "name": "BLOCK 00 STOREY 0 WALL 0002 DOOR",
         "type": "scatter",
         "x": [
          "2017-07-01T00:00:00",
          "2017-07-01T00:15:00",
          "2017-07-01T00:30:00",
          "2017-07-01T00:45:00",
          "2017-07-01T01:00:00",
          "2017-07-01T01:15:00",
          "2017-07-01T01:30:00",
          "2017-07-01T01:45:00",
          "2017-07-01T02:00:00",
          "2017-07-01T02:15:00",
          "2017-07-01T02:30:00",
          "2017-07-01T02:45:00",
          "2017-07-01T03:00:00",
          "2017-07-01T03:15:00",
          "2017-07-01T03:30:00",
          "2017-07-01T03:45:00",
          "2017-07-01T04:00:00",
          "2017-07-01T04:15:00",
          "2017-07-01T04:30:00",
          "2017-07-01T04:45:00",
          "2017-07-01T05:00:00",
          "2017-07-01T05:15:00",
          "2017-07-01T05:30:00",
          "2017-07-01T05:45:00",
          "2017-07-01T06:00:00",
          "2017-07-01T06:15:00",
          "2017-07-01T06:30:00",
          "2017-07-01T06:45:00",
          "2017-07-01T07:00:00",
          "2017-07-01T07:15:00",
          "2017-07-01T07:30:00",
          "2017-07-01T07:45:00",
          "2017-07-01T08:00:00",
          "2017-07-01T08:15:00",
          "2017-07-01T08:30:00",
          "2017-07-01T08:45:00",
          "2017-07-01T09:00:00",
          "2017-07-01T09:15:00",
          "2017-07-01T09:30:00",
          "2017-07-01T09:45:00",
          "2017-07-01T10:00:00",
          "2017-07-01T10:15:00",
          "2017-07-01T10:30:00",
          "2017-07-01T10:45:00",
          "2017-07-01T11:00:00",
          "2017-07-01T11:15:00",
          "2017-07-01T11:30:00",
          "2017-07-01T11:45:00",
          "2017-07-01T12:00:00",
          "2017-07-01T12:15:00",
          "2017-07-01T12:30:00",
          "2017-07-01T12:45:00",
          "2017-07-01T13:00:00",
          "2017-07-01T13:15:00",
          "2017-07-01T13:30:00",
          "2017-07-01T13:45:00",
          "2017-07-01T14:00:00",
          "2017-07-01T14:15:00",
          "2017-07-01T14:30:00",
          "2017-07-01T14:45:00",
          "2017-07-01T15:00:00",
          "2017-07-01T15:15:00",
          "2017-07-01T15:30:00",
          "2017-07-01T15:45:00",
          "2017-07-01T16:00:00",
          "2017-07-01T16:15:00",
          "2017-07-01T16:30:00",
          "2017-07-01T16:45:00",
          "2017-07-01T17:00:00",
          "2017-07-01T17:15:00",
          "2017-07-01T17:30:00",
          "2017-07-01T17:45:00",
          "2017-07-01T18:00:00",
          "2017-07-01T18:15:00",
          "2017-07-01T18:30:00",
          "2017-07-01T18:45:00",
          "2017-07-01T19:00:00",
          "2017-07-01T19:15:00",
          "2017-07-01T19:30:00",
          "2017-07-01T19:45:00",
          "2017-07-01T20:00:00",
          "2017-07-01T20:15:00",
          "2017-07-01T20:30:00",
          "2017-07-01T20:45:00",
          "2017-07-01T21:00:00",
          "2017-07-01T21:15:00",
          "2017-07-01T21:30:00",
          "2017-07-01T21:45:00",
          "2017-07-01T22:00:00",
          "2017-07-01T22:15:00",
          "2017-07-01T22:30:00",
          "2017-07-01T22:45:00",
          "2017-07-01T23:00:00",
          "2017-07-01T23:15:00",
          "2017-07-01T23:30:00",
          "2017-07-01T23:45:00"
         ],
         "y": [
          24.460857983697952,
          24.33442922313358,
          24.206432064504497,
          24.074772187719752,
          23.947833186513513,
          23.817993780550292,
          23.68698550747139,
          23.55650856054855,
          23.424772735104284,
          23.29219454998912,
          23.158794575945947,
          23.024677541394237,
          22.889977710845407,
          22.754810298696615,
          22.619292987037646,
          22.483537457891845,
          22.347639364011087,
          22.211697924961104,
          22.075787301708722,
          21.93995363708027,
          21.804421601485984,
          21.670186027400604,
          21.539228977704877,
          21.414297318128863,
          21.298278533846464,
          21.19416983268684,
          21.1041443166784,
          21.030256571443193,
          20.97187419210389,
          20.929711239487826,
          20.903529170162738,
          20.89272708822905,
          20.89708930645558,
          20.915632948296764,
          20.9438095415053,
          20.980683977799192,
          21.026446469523044,
          21.07967566668589,
          21.141303988688502,
          21.211494027624184,
          21.287146052524058,
          21.369743324898504,
          21.459762971060137,
          21.557690500429256,
          21.6639224282046,
          21.778603440971388,
          21.902047579441685,
          22.03410052982297,
          22.174357593346436,
          22.321382860774,
          22.473888728213808,
          22.630893663893467,
          22.79161240424164,
          22.955252075593677,
          23.120996927861377,
          23.288117391627353,
          23.455841381313295,
          23.622675974476888,
          23.787494609598888,
          23.94932216193453,
          24.10741846550084,
          24.261091228190867,
          24.40965327707035,
          24.552434120286204,
          24.68878635908931,
          24.818094301180572,
          24.939871322171502,
          25.05384603637092,
          25.159173347116592,
          25.257306358776884,
          25.34763298489407,
          25.430262993044444,
          25.505209837420807,
          25.57259693332459,
          25.63238843952609,
          25.68443569559208,
          25.728564743264474,
          25.76405141669168,
          25.790457329316588,
          25.806041166493053,
          25.809549059527658,
          25.799886573836158,
          25.776532737543977,
          25.73949794075393,
          25.689324565078593,
          25.62689908574507,
          25.552724050076026,
          25.469271469600535,
          25.377340991312785,
          25.278209139160733,
          25.173038450981654,
          25.06278074071778,
          24.948313239756185,
          24.830353590683497,
          24.709510136658174,
          24.586278992356956
         ]
        },
        {
         "name": "BLOCK 00 STOREY 0 WALL 0004_1 DOOR",
         "type": "scatter",
         "x": [
          "2017-07-01T00:00:00",
          "2017-07-01T00:15:00",
          "2017-07-01T00:30:00",
          "2017-07-01T00:45:00",
          "2017-07-01T01:00:00",
          "2017-07-01T01:15:00",
          "2017-07-01T01:30:00",
          "2017-07-01T01:45:00",
          "2017-07-01T02:00:00",
          "2017-07-01T02:15:00",
          "2017-07-01T02:30:00",
          "2017-07-01T02:45:00",
          "2017-07-01T03:00:00",
          "2017-07-01T03:15:00",
          "2017-07-01T03:30:00",
          "2017-07-01T03:45:00",
          "2017-07-01T04:00:00",
          "2017-07-01T04:15:00",
          "2017-07-01T04:30:00",
          "2017-07-01T04:45:00",
          "2017-07-01T05:00:00",
          "2017-07-01T05:15:00",
          "2017-07-01T05:30:00",
          "2017-07-01T05:45:00",
          "2017-07-01T06:00:00",
          "2017-07-01T06:15:00",
          "2017-07-01T06:30:00",
          "2017-07-01T06:45:00",
          "2017-07-01T07:00:00",
          "2017-07-01T07:15:00",
          "2017-07-01T07:30:00",
          "2017-07-01T07:45:00",
          "2017-07-01T08:00:00",
          "2017-07-01T08:15:00",
          "2017-07-01T08:30:00",
          "2017-07-01T08:45:00",
          "2017-07-01T09:00:00",
          "2017-07-01T09:15:00",
          "2017-07-01T09:30:00",
          "2017-07-01T09:45:00",
          "2017-07-01T10:00:00",
          "2017-07-01T10:15:00",
          "2017-07-01T10:30:00",
          "2017-07-01T10:45:00",
          "2017-07-01T11:00:00",
          "2017-07-01T11:15:00",
          "2017-07-01T11:30:00",
          "2017-07-01T11:45:00",
          "2017-07-01T12:00:00",
          "2017-07-01T12:15:00",
          "2017-07-01T12:30:00",
          "2017-07-01T12:45:00",
          "2017-07-01T13:00:00",
          "2017-07-01T13:15:00",
          "2017-07-01T13:30:00",
          "2017-07-01T13:45:00",
          "2017-07-01T14:00:00",
          "2017-07-01T14:15:00",
          "2017-07-01T14:30:00",
          "2017-07-01T14:45:00",
          "2017-07-01T15:00:00",
          "2017-07-01T15:15:00",
          "2017-07-01T15:30:00",
          "2017-07-01T15:45:00",
          "2017-07-01T16:00:00",
          "2017-07-01T16:15:00",
          "2017-07-01T16:30:00",
          "2017-07-01T16:45:00",
          "2017-07-01T17:00:00",
          "2017-07-01T17:15:00",
          "2017-07-01T17:30:00",
          "2017-07-01T17:45:00",
          "2017-07-01T18:00:00",
          "2017-07-01T18:15:00",
          "2017-07-01T18:30:00",
          "2017-07-01T18:45:00",
          "2017-07-01T19:00:00",
          "2017-07-01T19:15:00",
          "2017-07-01T19:30:00",
          "2017-07-01T19:45:00",
          "2017-07-01T20:00:00",
          "2017-07-01T20:15:00",
          "2017-07-01T20:30:00",
          "2017-07-01T20:45:00",
          "2017-07-01T21:00:00",
          "2017-07-01T21:15:00",
          "2017-07-01T21:30:00",
          "2017-07-01T21:45:00",
          "2017-07-01T22:00:00",
          "2017-07-01T22:15:00",
          "2017-07-01T22:30:00",
          "2017-07-01T22:45:00",
          "2017-07-01T23:00:00",
          "2017-07-01T23:15:00",
          "2017-07-01T23:30:00",
          "2017-07-01T23:45:00"
         ],
         "y": [
          24.595422072991788,
          24.517333619099208,
          24.4369484738234,
          24.354072058052264,
          24.268423938014426,
          24.18001499006063,
          24.08919994982313,
          23.99779423849741,
          23.904136537678717,
          23.80858949191764,
          23.711143111635383,
          23.61184673907247,
          23.510778814255055,
          23.408006364716652,
          23.303612370609855,
          23.197691159608073,
          23.090338106845792,
          22.981666538445744,
          22.871773966376143,
          22.760732219428846,
          22.648710546104827,
          22.53614431427641,
          22.423556538272504,
          22.311604080231877,
          22.20108930949859,
          22.093471475664668,
          21.990098899645304,
          21.892827488717415,
          21.801420092459487,
          21.717317451633658,
          21.641328745724834,
          21.574087552323007,
          21.516531813526264,
          21.468463913973824,
          21.43081174999668,
          21.404068569764597,
          21.389323860954192,
          21.38578388321241,
          21.394503690341637,
          21.415447025922827,
          21.44518861558323,
          21.48478326409538,
          21.534266161557337,
          21.593667916504206,
          21.662957783164444,
          21.741985343301696,
          21.830669756989753,
          21.928614953343136,
          22.035231567351243,
          22.149000016261528,
          22.268604841698547,
          22.393068359553183,
          22.52163601709102,
          22.653605255384416,
          22.78843192032847,
          22.923832067072762,
          23.058324878337704,
          23.194800918053645,
          23.33159082437935,
          23.467630483752284,
          23.602224132512244,
          23.734798220745922,
          23.86481300026005,
          23.991743476816247,
          24.115078640169727,
          24.23430780083896,
          24.348932246926857,
          24.458475416619276,
          24.561706534415837,
          24.659587821037594,
          24.751020717454775,
          24.835656538972266,
          24.913174880104467,
          24.983500710530222,
          25.046534522111514,
          25.102143713767465,
          25.150223427791165,
          25.190228800256023,
          25.22212078001944,
          25.245125847542308,
          25.2595214707696,
          25.265612961025017,
          25.263741949755207,
          25.254154937719267,
          25.237113824804155,
          25.21289439134002,
          25.181183290246487,
          25.143641060860364,
          25.100198995659444,
          25.05160959337774,
          24.999185625504058,
          24.941705698342023,
          24.8798323815816,
          24.813970251933366,
          24.74446205764548,
          24.671610928813553
         ]
        },
        {
         "name": "BLOCK 01 STOREY 0 WALL 0001",
         "type": "scatter",
         "x": [
          "2017-07-01T00:00:00",
          "2017-07-01T00:15:00",
          "2017-07-01T00:30:00",
          "2017-07-01T00:45:00",
          "2017-07-01T01:00:00",
          "2017-07-01T01:15:00",
          "2017-07-01T01:30:00",
          "2017-07-01T01:45:00",
          "2017-07-01T02:00:00",
          "2017-07-01T02:15:00",
          "2017-07-01T02:30:00",
          "2017-07-01T02:45:00",
          "2017-07-01T03:00:00",
          "2017-07-01T03:15:00",
          "2017-07-01T03:30:00",
          "2017-07-01T03:45:00",
          "2017-07-01T04:00:00",
          "2017-07-01T04:15:00",
          "2017-07-01T04:30:00",
          "2017-07-01T04:45:00",
          "2017-07-01T05:00:00",
          "2017-07-01T05:15:00",
          "2017-07-01T05:30:00",
          "2017-07-01T05:45:00",
          "2017-07-01T06:00:00",
          "2017-07-01T06:15:00",
          "2017-07-01T06:30:00",
          "2017-07-01T06:45:00",
          "2017-07-01T07:00:00",
          "2017-07-01T07:15:00",
          "2017-07-01T07:30:00",
          "2017-07-01T07:45:00",
          "2017-07-01T08:00:00",
          "2017-07-01T08:15:00",
          "2017-07-01T08:30:00",
          "2017-07-01T08:45:00",
          "2017-07-01T09:00:00",
          "2017-07-01T09:15:00",
          "2017-07-01T09:30:00",
          "2017-07-01T09:45:00",
          "2017-07-01T10:00:00",
          "2017-07-01T10:15:00",
          "2017-07-01T10:30:00",
          "2017-07-01T10:45:00",
          "2017-07-01T11:00:00",
          "2017-07-01T11:15:00",
          "2017-07-01T11:30:00",
          "2017-07-01T11:45:00",
          "2017-07-01T12:00:00",
          "2017-07-01T12:15:00",
          "2017-07-01T12:30:00",
          "2017-07-01T12:45:00",
          "2017-07-01T13:00:00",
          "2017-07-01T13:15:00",
          "2017-07-01T13:30:00",
          "2017-07-01T13:45:00",
          "2017-07-01T14:00:00",
          "2017-07-01T14:15:00",
          "2017-07-01T14:30:00",
          "2017-07-01T14:45:00",
          "2017-07-01T15:00:00",
          "2017-07-01T15:15:00",
          "2017-07-01T15:30:00",
          "2017-07-01T15:45:00",
          "2017-07-01T16:00:00",
          "2017-07-01T16:15:00",
          "2017-07-01T16:30:00",
          "2017-07-01T16:45:00",
          "2017-07-01T17:00:00",
          "2017-07-01T17:15:00",
          "2017-07-01T17:30:00",
          "2017-07-01T17:45:00",
          "2017-07-01T18:00:00",
          "2017-07-01T18:15:00",
          "2017-07-01T18:30:00",
          "2017-07-01T18:45:00",
          "2017-07-01T19:00:00",
          "2017-07-01T19:15:00",
          "2017-07-01T19:30:00",
          "2017-07-01T19:45:00",
          "2017-07-01T20:00:00",
          "2017-07-01T20:15:00",
          "2017-07-01T20:30:00",
          "2017-07-01T20:45:00",
          "2017-07-01T21:00:00",
          "2017-07-01T21:15:00",
          "2017-07-01T21:30:00",
          "2017-07-01T21:45:00",
          "2017-07-01T22:00:00",
          "2017-07-01T22:15:00",
          "2017-07-01T22:30:00",
          "2017-07-01T22:45:00",
          "2017-07-01T23:00:00",
          "2017-07-01T23:15:00",
          "2017-07-01T23:30:00",
          "2017-07-01T23:45:00"
         ],
         "y": [
          24.963390000532247,
          24.838863322230516,
          24.71161477674031,
          24.581667999873577,
          24.449401353010042,
          24.31582165480552,
          24.181350652353217,
          24.045862372103773,
          23.90908132279273,
          23.771519376306856,
          23.632881146521655,
          23.493622135726,
          23.353712453486043,
          23.21335949092047,
          23.07271674812199,
          22.9319153570156,
          22.791062711350428,
          22.65026797331418,
          22.50960988792678,
          22.369170959856397,
          22.229066001623416,
          22.090239257104763,
          21.954890014106237,
          21.82649840498369,
          21.70931254192816,
          21.607939705243883,
          21.526522163091386,
          21.46930251012621,
          21.43758318373923,
          21.43413301012637,
          21.46066400936386,
          21.520811917098225,
          21.60510981175723,
          21.709453728667707,
          21.832260103774306,
          21.970921875980967,
          22.123673683679012,
          22.287160796661283,
          22.459676820247246,
          22.641649549028145,
          22.825337140367495,
          23.010874036839795,
          23.196664584120686,
          23.381623886362267,
          23.564732008267463,
          23.744744469076632,
          23.92083641642408,
          24.09203084213055,
          24.25736955510306,
          24.41605962285224,
          24.567466387690306,
          24.71126474511877,
          24.847589883870903,
          24.97698765951514,
          25.10029207068283,
          25.21836841382457,
          25.3320201103133,
          25.44189414213871,
          25.548281765315984,
          25.65151558753756,
          25.75163848538193,
          25.848535847819207,
          25.941984087855822,
          26.031714459363126,
          26.11735929830204,
          26.198475502806936,
          26.274581398730525,
          26.345187899853862,
          26.409028038438915,
          26.467093196383946,
          26.518155855076742,
          26.56175834518316,
          26.597426170689108,
          26.624787889662038,
          26.643469304899785,
          26.653124213397124,
          26.653442783387916,
          26.64387325079618,
          26.624707532431344,
          26.59512163236621,
          26.55514354432675,
          26.504694618328884,
          26.4438996389296,
          26.373017736006073,
          26.292545150269646,
          26.201903373462816,
          26.105996953332586,
          26.005961308479396,
          25.901149526564325,
          25.7921959393732,
          25.679614675846164,
          25.563818442119697,
          25.445336513411227,
          25.32736931046025,
          25.20743909585502,
          25.0861016666925
         ]
        },
        {
         "name": "BLOCK 01 STOREY 0 WALL 0003",
         "type": "scatter",
         "x": [
          "2017-07-01T00:00:00",
          "2017-07-01T00:15:00",
          "2017-07-01T00:30:00",
          "2017-07-01T00:45:00",
          "2017-07-01T01:00:00",
          "2017-07-01T01:15:00",
          "2017-07-01T01:30:00",
          "2017-07-01T01:45:00",
          "2017-07-01T02:00:00",
          "2017-07-01T02:15:00",
          "2017-07-01T02:30:00",
          "2017-07-01T02:45:00",
          "2017-07-01T03:00:00",
          "2017-07-01T03:15:00",
          "2017-07-01T03:30:00",
          "2017-07-01T03:45:00",
          "2017-07-01T04:00:00",
          "2017-07-01T04:15:00",
          "2017-07-01T04:30:00",
          "2017-07-01T04:45:00",
          "2017-07-01T05:00:00",
          "2017-07-01T05:15:00",
          "2017-07-01T05:30:00",
          "2017-07-01T05:45:00",
          "2017-07-01T06:00:00",
          "2017-07-01T06:15:00",
          "2017-07-01T06:30:00",
          "2017-07-01T06:45:00",
          "2017-07-01T07:00:00",
          "2017-07-01T07:15:00",
          "2017-07-01T07:30:00",
          "2017-07-01T07:45:00",
          "2017-07-01T08:00:00",
          "2017-07-01T08:15:00",
          "2017-07-01T08:30:00",
          "2017-07-01T08:45:00",
          "2017-07-01T09:00:00",
          "2017-07-01T09:15:00",
          "2017-07-01T09:30:00",
          "2017-07-01T09:45:00",
          "2017-07-01T10:00:00",
          "2017-07-01T10:15:00",
          "2017-07-01T10:30:00",
          "2017-07-01T10:45:00",
          "2017-07-01T11:00:00",
          "2017-07-01T11:15:00",
          "2017-07-01T11:30:00",
          "2017-07-01T11:45:00",
          "2017-07-01T12:00:00",
          "2017-07-01T12:15:00",
          "2017-07-01T12:30:00",
          "2017-07-01T12:45:00",
          "2017-07-01T13:00:00",
          "2017-07-01T13:15:00",
          "2017-07-01T13:30:00",
          "2017-07-01T13:45:00",
          "2017-07-01T14:00:00",
          "2017-07-01T14:15:00",
          "2017-07-01T14:30:00",
          "2017-07-01T14:45:00",
          "2017-07-01T15:00:00",
          "2017-07-01T15:15:00",
          "2017-07-01T15:30:00",
          "2017-07-01T15:45:00",
          "2017-07-01T16:00:00",
          "2017-07-01T16:15:00",
          "2017-07-01T16:30:00",
          "2017-07-01T16:45:00",
          "2017-07-01T17:00:00",
          "2017-07-01T17:15:00",
          "2017-07-01T17:30:00",
          "2017-07-01T17:45:00",
          "2017-07-01T18:00:00",
          "2017-07-01T18:15:00",
          "2017-07-01T18:30:00",
          "2017-07-01T18:45:00",
          "2017-07-01T19:00:00",
          "2017-07-01T19:15:00",
          "2017-07-01T19:30:00",
          "2017-07-01T19:45:00",
          "2017-07-01T20:00:00",
          "2017-07-01T20:15:00",
          "2017-07-01T20:30:00",
          "2017-07-01T20:45:00",
          "2017-07-01T21:00:00",
          "2017-07-01T21:15:00",
          "2017-07-01T21:30:00",
          "2017-07-01T21:45:00",
          "2017-07-01T22:00:00",
          "2017-07-01T22:15:00",
          "2017-07-01T22:30:00",
          "2017-07-01T22:45:00",
          "2017-07-01T23:00:00",
          "2017-07-01T23:15:00",
          "2017-07-01T23:30:00",
          "2017-07-01T23:45:00"
         ],
         "y": [
          25.628173100263286,
          25.471204214954785,
          25.312371325864856,
          25.151971033940363,
          24.99043505101658,
          24.828429588369822,
          24.66609766843233,
          24.503049506132744,
          24.33680653993939,
          24.178068175833484,
          24.01737691781219,
          23.85720860335017,
          23.697442074624337,
          23.538277709563147,
          23.379835188125575,
          23.222205190008072,
          23.065451033648774,
          22.90963429281578,
          22.754787496000656,
          22.60094787884302,
          22.448107887016107,
          22.296559845811515,
          22.14681146023157,
          21.99963809238365,
          21.856110608416767,
          21.717815055862893,
          21.586434580391384,
          21.464447739145037,
          21.35207721773847,
          21.251635369596208,
          21.16462427862113,
          21.092511448060925,
          21.036425506989175,
          20.99536759291969,
          20.97002944564143,
          20.96039944684773,
          20.967170007521865,
          20.989199979997537,
          21.026824423835503,
          21.082483514445606,
          21.150035726988065,
          21.230815316515162,
          21.324284205811512,
          21.43059488142017,
          21.54656563903363,
          21.670968630213746,
          21.804720304103924,
          21.946949563947665,
          22.09675513542158,
          22.253161069233848,
          22.415207049011116,
          22.58217645515368,
          22.753780000620697,
          22.930120056736794,
          23.11152474106219,
          23.298249457628,
          23.490386751526003,
          23.687778741741624,
          23.889832396921157,
          24.095997916921334,
          24.305438141647087,
          24.517159123973723,
          24.730063473522634,
          24.943024155131997,
          25.15484641706823,
          25.364294624522476,
          25.57009097499298,
          25.770916509230567,
          25.96460923751104,
          26.151281545687755,
          26.32873897470872,
          26.495581227584413,
          26.650396001164296,
          26.791886205427556,
          26.918859536263334,
          27.0303807869736,
          27.125797696289855,
          27.204359189474133,
          27.266014597442854,
          27.30894030883394,
          27.33152789876265,
          27.33229683119415,
          27.31082322780915,
          27.267777129028268,
          27.204896861343713,
          27.124127809414205,
          27.02730804162974,
          26.917843079737985,
          26.797293283531978,
          26.66757868266996,
          26.5303621346024,
          26.387017264637443,
          26.23885123344688,
          26.08966568811112,
          25.937606137249634,
          25.783643865996567
         ]
        },
        {
         "name": "BLOCK 01 STOREY 0 WALL 0004",
         "type": "scatter",
         "x": [
          "2017-07-01T00:00:00",
          "2017-07-01T00:15:00",
          "2017-07-01T00:30:00",
          "2017-07-01T00:45:00",
          "2017-07-01T01:00:00",
          "2017-07-01T01:15:00",
          "2017-07-01T01:30:00",
          "2017-07-01T01:45:00",
          "2017-07-01T02:00:00",
          "2017-07-01T02:15:00",
          "2017-07-01T02:30:00",
          "2017-07-01T02:45:00",
          "2017-07-01T03:00:00",
          "2017-07-01T03:15:00",
          "2017-07-01T03:30:00",
          "2017-07-01T03:45:00",
          "2017-07-01T04:00:00",
          "2017-07-01T04:15:00",
          "2017-07-01T04:30:00",
          "2017-07-01T04:45:00",
          "2017-07-01T05:00:00",
          "2017-07-01T05:15:00",
          "2017-07-01T05:30:00",
          "2017-07-01T05:45:00",
          "2017-07-01T06:00:00",
          "2017-07-01T06:15:00",
          "2017-07-01T06:30:00",
          "2017-07-01T06:45:00",
          "2017-07-01T07:00:00",
          "2017-07-01T07:15:00",
          "2017-07-01T07:30:00",
          "2017-07-01T07:45:00",
          "2017-07-01T08:00:00",
          "2017-07-01T08:15:00",
          "2017-07-01T08:30:00",
          "2017-07-01T08:45:00",
          "2017-07-01T09:00:00",
          "2017-07-01T09:15:00",
          "2017-07-01T09:30:00",
          "2017-07-01T09:45:00",
          "2017-07-01T10:00:00",
          "2017-07-01T10:15:00",
          "2017-07-01T10:30:00",
          "2017-07-01T10:45:00",
          "2017-07-01T11:00:00",
          "2017-07-01T11:15:00",
          "2017-07-01T11:30:00",
          "2017-07-01T11:45:00",
          "2017-07-01T12:00:00",
          "2017-07-01T12:15:00",
          "2017-07-01T12:30:00",
          "2017-07-01T12:45:00",
          "2017-07-01T13:00:00",
          "2017-07-01T13:15:00",
          "2017-07-01T13:30:00",
          "2017-07-01T13:45:00",
          "2017-07-01T14:00:00",
          "2017-07-01T14:15:00",
          "2017-07-01T14:30:00",
          "2017-07-01T14:45:00",
          "2017-07-01T15:00:00",
          "2017-07-01T15:15:00",
          "2017-07-01T15:30:00",
          "2017-07-01T15:45:00",
          "2017-07-01T16:00:00",
          "2017-07-01T16:15:00",
          "2017-07-01T16:30:00",
          "2017-07-01T16:45:00",
          "2017-07-01T17:00:00",
          "2017-07-01T17:15:00",
          "2017-07-01T17:30:00",
          "2017-07-01T17:45:00",
          "2017-07-01T18:00:00",
          "2017-07-01T18:15:00",
          "2017-07-01T18:30:00",
          "2017-07-01T18:45:00",
          "2017-07-01T19:00:00",
          "2017-07-01T19:15:00",
          "2017-07-01T19:30:00",
          "2017-07-01T19:45:00",
          "2017-07-01T20:00:00",
          "2017-07-01T20:15:00",
          "2017-07-01T20:30:00",
          "2017-07-01T20:45:00",
          "2017-07-01T21:00:00",
          "2017-07-01T21:15:00",
          "2017-07-01T21:30:00",
          "2017-07-01T21:45:00",
          "2017-07-01T22:00:00",
          "2017-07-01T22:15:00",
          "2017-07-01T22:30:00",
          "2017-07-01T22:45:00",
          "2017-07-01T23:00:00",
          "2017-07-01T23:15:00",
          "2017-07-01T23:30:00",
          "2017-07-01T23:45:00"
         ],
         "y": [
          24.9014521772258,
          24.77990198525504,
          24.655387307668935,
          24.527956155260593,
          24.398012388996957,
          24.266595390790506,
          24.134145118118294,
          24.000543238602898,
          23.865521835486938,
          23.72959754963448,
          23.592490894277653,
          23.454664666953608,
          23.31610170499615,
          23.177017666130805,
          23.0375735362136,
          22.897906793391666,
          22.758129979663416,
          22.618356609296505,
          22.47866851190332,
          22.339141355467397,
          22.199822498360366,
          22.06105183999772,
          21.923373131619652,
          21.7875888835102,
          21.654791753571516,
          21.526608196131672,
          21.40475451066013,
          21.29172654863189,
          21.187786606947,
          21.095265267967353,
          21.015695397831827,
          20.95057531056778,
          20.901074815056997,
          20.866220552224135,
          20.846720090341396,
          20.84261413368513,
          20.854773487018292,
          20.882454418277014,
          20.92658966001934,
          20.990291387991043,
          21.06818062724314,
          21.162273135882206,
          21.272583396403775,
          21.399434534187534,
          21.544290204199324,
          21.69872938104766,
          21.865417548300663,
          22.043636363252382,
          22.231922383280363,
          22.42875169149646,
          22.632532059027625,
          22.841709309819908,
          23.054827367103673,
          23.27051224265902,
          23.4874609787948,
          23.70434749786798,
          23.919855309391544,
          24.132692369441223,
          24.34143146712842,
          24.54493865490323,
          24.742026752468444,
          24.931561600571353,
          25.112494197764498,
          25.28388944035053,
          25.44487148085611,
          25.594644413860102,
          25.732577951039204,
          25.858286251810004,
          25.970827300876643,
          26.071728981801158,
          26.16034742449189,
          26.236836105489942,
          26.30131191656157,
          26.35393977888806,
          26.39482441411444,
          26.42403535415369,
          26.441617560520772,
          26.44732383101567,
          26.441684642504864,
          26.42406625309896,
          26.394628641555467,
          26.353348281559406,
          26.300226601507497,
          26.234666880213627,
          26.162841317569445,
          26.08290110837125,
          25.99544917206712,
          25.90245545169816,
          25.80405896283224,
          25.700936396313956,
          25.593678683396785,
          25.482763082345308,
          25.368771084478773,
          25.25491486234791,
          25.138775805088862,
          25.020934068279168
         ]
        },
        {
         "name": "BLOCK 01 STOREY 0 WALL 0002_1",
         "type": "scatter",
         "x": [
          "2017-07-01T00:00:00",
          "2017-07-01T00:15:00",
          "2017-07-01T00:30:00",
          "2017-07-01T00:45:00",
          "2017-07-01T01:00:00",
          "2017-07-01T01:15:00",
          "2017-07-01T01:30:00",
          "2017-07-01T01:45:00",
          "2017-07-01T02:00:00",
          "2017-07-01T02:15:00",
          "2017-07-01T02:30:00",
          "2017-07-01T02:45:00",
          "2017-07-01T03:00:00",
          "2017-07-01T03:15:00",
          "2017-07-01T03:30:00",
          "2017-07-01T03:45:00",
          "2017-07-01T04:00:00",
          "2017-07-01T04:15:00",
          "2017-07-01T04:30:00",
          "2017-07-01T04:45:00",
          "2017-07-01T05:00:00",
          "2017-07-01T05:15:00",
          "2017-07-01T05:30:00",
          "2017-07-01T05:45:00",
          "2017-07-01T06:00:00",
          "2017-07-01T06:15:00",
          "2017-07-01T06:30:00",
          "2017-07-01T06:45:00",
          "2017-07-01T07:00:00",
          "2017-07-01T07:15:00",
          "2017-07-01T07:30:00",
          "2017-07-01T07:45:00",
          "2017-07-01T08:00:00",
          "2017-07-01T08:15:00",
          "2017-07-01T08:30:00",
          "2017-07-01T08:45:00",
          "2017-07-01T09:00:00",
          "2017-07-01T09:15:00",
          "2017-07-01T09:30:00",
          "2017-07-01T09:45:00",
          "2017-07-01T10:00:00",
          "2017-07-01T10:15:00",
          "2017-07-01T10:30:00",
          "2017-07-01T10:45:00",
          "2017-07-01T11:00:00",
          "2017-07-01T11:15:00",
          "2017-07-01T11:30:00",
          "2017-07-01T11:45:00",
          "2017-07-01T12:00:00",
          "2017-07-01T12:15:00",
          "2017-07-01T12:30:00",
          "2017-07-01T12:45:00",
          "2017-07-01T13:00:00",
          "2017-07-01T13:15:00",
          "2017-07-01T13:30:00",
          "2017-07-01T13:45:00",
          "2017-07-01T14:00:00",
          "2017-07-01T14:15:00",
          "2017-07-01T14:30:00",
          "2017-07-01T14:45:00",
          "2017-07-01T15:00:00",
          "2017-07-01T15:15:00",
          "2017-07-01T15:30:00",
          "2017-07-01T15:45:00",
          "2017-07-01T16:00:00",
          "2017-07-01T16:15:00",
          "2017-07-01T16:30:00",
          "2017-07-01T16:45:00",
          "2017-07-01T17:00:00",
          "2017-07-01T17:15:00",
          "2017-07-01T17:30:00",
          "2017-07-01T17:45:00",
          "2017-07-01T18:00:00",
          "2017-07-01T18:15:00",
          "2017-07-01T18:30:00",
          "2017-07-01T18:45:00",
          "2017-07-01T19:00:00",
          "2017-07-01T19:15:00",
          "2017-07-01T19:30:00",
          "2017-07-01T19:45:00",
          "2017-07-01T20:00:00",
          "2017-07-01T20:15:00",
          "2017-07-01T20:30:00",
          "2017-07-01T20:45:00",
          "2017-07-01T21:00:00",
          "2017-07-01T21:15:00",
          "2017-07-01T21:30:00",
          "2017-07-01T21:45:00",
          "2017-07-01T22:00:00",
          "2017-07-01T22:15:00",
          "2017-07-01T22:30:00",
          "2017-07-01T22:45:00",
          "2017-07-01T23:00:00",
          "2017-07-01T23:15:00",
          "2017-07-01T23:30:00",
          "2017-07-01T23:45:00"
         ],
         "y": [
          25.067034496875696,
          24.986680102682723,
          24.9018796561776,
          24.812858035833194,
          24.72021148247714,
          24.625098254807018,
          24.52808676559102,
          24.42919031990035,
          24.328210087398762,
          24.225617142961493,
          24.1197118194286,
          24.01770903175027,
          23.912053694535288,
          23.804262837901664,
          23.694696534516396,
          23.583554127326483,
          23.470989298669494,
          23.357150168461285,
          23.242159940991364,
          23.126145270807648,
          23.009176354860887,
          22.891544938962145,
          22.773643751191837,
          22.656007005691016,
          22.539362357417076,
          22.424869912640702,
          22.313761409169516,
          22.20804227130927,
          22.10752821515533,
          22.014136241034784,
          21.929124416008566,
          21.853862820339756,
          21.78955945360816,
          21.735457981140005,
          21.692544647522144,
          21.661173827609314,
          21.642408829415295,
          21.635508936458542,
          21.64114818368694,
          21.66196023432563,
          21.69203689430987,
          21.73295030402317,
          21.784283533356316,
          21.84585826823835,
          21.917367615679286,
          21.998141479075436,
          22.087850046263476,
          22.18593010484806,
          22.29166747931696,
          22.404264435359522,
          22.522858524062435,
          22.646604471118163,
          22.774721869335842,
          22.906487768745382,
          23.04125050021194,
          23.178349468644978,
          23.317196498793063,
          23.45764565011199,
          23.59439090264689,
          23.731194061555463,
          23.868255939605028,
          24.004572369596467,
          24.139405256569155,
          24.272140596801457,
          24.4021780215168,
          24.528932095587233,
          24.651835784082955,
          24.770347141638457,
          24.883132419658253,
          24.991225052178713,
          25.093388646775875,
          25.189158525929724,
          25.278075957355536,
          25.359785885279884,
          25.433946607371002,
          25.500247666840007,
          25.558412345117652,
          25.607918051765665,
          25.649083704853794,
          25.681114274065493,
          25.7040739898978,
          25.717878110314615,
          25.72258647924453,
          25.71836149891329,
          25.70569031895143,
          25.684844998100488,
          25.655824284953624,
          25.6202813418762,
          25.578125103875944,
          25.529840903077368,
          25.47587427340714,
          25.41659608098301,
          25.352511807164902,
          25.286780514282068,
          25.216988178376695,
          25.143724475096352
         ]
        },
        {
         "name": "BLOCK 01 STOREY 0 FLOOR 0001",
         "type": "scatter",
         "x": [
          "2017-07-01T00:00:00",
          "2017-07-01T00:15:00",
          "2017-07-01T00:30:00",
          "2017-07-01T00:45:00",
          "2017-07-01T01:00:00",
          "2017-07-01T01:15:00",
          "2017-07-01T01:30:00",
          "2017-07-01T01:45:00",
          "2017-07-01T02:00:00",
          "2017-07-01T02:15:00",
          "2017-07-01T02:30:00",
          "2017-07-01T02:45:00",
          "2017-07-01T03:00:00",
          "2017-07-01T03:15:00",
          "2017-07-01T03:30:00",
          "2017-07-01T03:45:00",
          "2017-07-01T04:00:00",
          "2017-07-01T04:15:00",
          "2017-07-01T04:30:00",
          "2017-07-01T04:45:00",
          "2017-07-01T05:00:00",
          "2017-07-01T05:15:00",
          "2017-07-01T05:30:00",
          "2017-07-01T05:45:00",
          "2017-07-01T06:00:00",
          "2017-07-01T06:15:00",
          "2017-07-01T06:30:00",
          "2017-07-01T06:45:00",
          "2017-07-01T07:00:00",
          "2017-07-01T07:15:00",
          "2017-07-01T07:30:00",
          "2017-07-01T07:45:00",
          "2017-07-01T08:00:00",
          "2017-07-01T08:15:00",
          "2017-07-01T08:30:00",
          "2017-07-01T08:45:00",
          "2017-07-01T09:00:00",
          "2017-07-01T09:15:00",
          "2017-07-01T09:30:00",
          "2017-07-01T09:45:00",
          "2017-07-01T10:00:00",
          "2017-07-01T10:15:00",
          "2017-07-01T10:30:00",
          "2017-07-01T10:45:00",
          "2017-07-01T11:00:00",
          "2017-07-01T11:15:00",
          "2017-07-01T11:30:00",
          "2017-07-01T11:45:00",
          "2017-07-01T12:00:00",
          "2017-07-01T12:15:00",
          "2017-07-01T12:30:00",
          "2017-07-01T12:45:00",
          "2017-07-01T13:00:00",
          "2017-07-01T13:15:00",
          "2017-07-01T13:30:00",
          "2017-07-01T13:45:00",
          "2017-07-01T14:00:00",
          "2017-07-01T14:15:00",
          "2017-07-01T14:30:00",
          "2017-07-01T14:45:00",
          "2017-07-01T15:00:00",
          "2017-07-01T15:15:00",
          "2017-07-01T15:30:00",
          "2017-07-01T15:45:00",
          "2017-07-01T16:00:00",
          "2017-07-01T16:15:00",
          "2017-07-01T16:30:00",
          "2017-07-01T16:45:00",
          "2017-07-01T17:00:00",
          "2017-07-01T17:15:00",
          "2017-07-01T17:30:00",
          "2017-07-01T17:45:00",
          "2017-07-01T18:00:00",
          "2017-07-01T18:15:00",
          "2017-07-01T18:30:00",
          "2017-07-01T18:45:00",
          "2017-07-01T19:00:00",
          "2017-07-01T19:15:00",
          "2017-07-01T19:30:00",
          "2017-07-01T19:45:00",
          "2017-07-01T20:00:00",
          "2017-07-01T20:15:00",
          "2017-07-01T20:30:00",
          "2017-07-01T20:45:00",
          "2017-07-01T21:00:00",
          "2017-07-01T21:15:00",
          "2017-07-01T21:30:00",
          "2017-07-01T21:45:00",
          "2017-07-01T22:00:00",
          "2017-07-01T22:15:00",
          "2017-07-01T22:30:00",
          "2017-07-01T22:45:00",
          "2017-07-01T23:00:00",
          "2017-07-01T23:15:00",
          "2017-07-01T23:30:00",
          "2017-07-01T23:45:00"
         ],
         "y": [
          24.40163188730408,
          24.30649450052508,
          24.207899509752842,
          24.105972085273383,
          24.001178138512397,
          23.894540783989687,
          23.78657813285196,
          23.67729223032526,
          23.566459312062282,
          23.454737875023753,
          23.341674639911744,
          23.227766308357047,
          23.112857509533605,
          22.99711354213719,
          22.88064707897335,
          22.76355914026243,
          22.645939496192504,
          22.5278864139733,
          22.409478008548234,
          22.290806691273957,
          22.171902715885686,
          22.053045120384997,
          21.93465415512901,
          21.817348738702666,
          21.701997627732226,
          21.589918950326226,
          21.482529152009526,
          21.38207906462495,
          21.288497237524854,
          21.203923015694084,
          21.12974479146936,
          21.067437771767082,
          21.018191188997164,
          20.98098876776847,
          20.956834164894257,
          20.945957284669106,
          20.9490128563481,
          20.965569925673794,
          20.99599996151633,
          21.043583281583338,
          21.100977182597912,
          21.169989421435126,
          21.24989770853527,
          21.340262155997138,
          21.440518877051066,
          21.549685278947955,
          21.66722625812126,
          21.792304071087703,
          21.923905661612665,
          22.06095089364004,
          22.202396727401133,
          22.347340316155535,
          22.495023657693498,
          22.644795527997456,
          22.79607442335852,
          22.948231549822246,
          23.10064261187903,
          23.252660370602438,
          23.403409038715733,
          23.552383692177298,
          23.69898181886305,
          23.842596812494378,
          23.982648419192714,
          24.118630024049246,
          24.250017619762247,
          24.376293506102265,
          24.496953636038096,
          24.611517215567442,
          24.71869669567204,
          24.819612569610406,
          24.913067744588194,
          24.99865066180026,
          25.07595892853384,
          25.144683958037167,
          25.204540892385992,
          25.255293368963162,
          25.296754314782753,
          25.32814466012236,
          25.35057931678643,
          25.363452335641814,
          25.3661020152612,
          25.358889289764388,
          25.34197450418729,
          25.315644745725088,
          25.280590778380212,
          25.237211876840547,
          25.18556071648847,
          25.127756217031877,
          25.063682226056446,
          24.993924420168867,
          24.91900403588338,
          24.83933161641085,
          24.7554753501311,
          24.67136095538457,
          24.58396427350947,
          24.494025211379483
         ]
        },
        {
         "name": "BLOCK 01 STOREY 0 ROOF 0001",
         "type": "scatter",
         "x": [
          "2017-07-01T00:00:00",
          "2017-07-01T00:15:00",
          "2017-07-01T00:30:00",
          "2017-07-01T00:45:00",
          "2017-07-01T01:00:00",
          "2017-07-01T01:15:00",
          "2017-07-01T01:30:00",
          "2017-07-01T01:45:00",
          "2017-07-01T02:00:00",
          "2017-07-01T02:15:00",
          "2017-07-01T02:30:00",
          "2017-07-01T02:45:00",
          "2017-07-01T03:00:00",
          "2017-07-01T03:15:00",
          "2017-07-01T03:30:00",
          "2017-07-01T03:45:00",
          "2017-07-01T04:00:00",
          "2017-07-01T04:15:00",
          "2017-07-01T04:30:00",
          "2017-07-01T04:45:00",
          "2017-07-01T05:00:00",
          "2017-07-01T05:15:00",
          "2017-07-01T05:30:00",
          "2017-07-01T05:45:00",
          "2017-07-01T06:00:00",
          "2017-07-01T06:15:00",
          "2017-07-01T06:30:00",
          "2017-07-01T06:45:00",
          "2017-07-01T07:00:00",
          "2017-07-01T07:15:00",
          "2017-07-01T07:30:00",
          "2017-07-01T07:45:00",
          "2017-07-01T08:00:00",
          "2017-07-01T08:15:00",
          "2017-07-01T08:30:00",
          "2017-07-01T08:45:00",
          "2017-07-01T09:00:00",
          "2017-07-01T09:15:00",
          "2017-07-01T09:30:00",
          "2017-07-01T09:45:00",
          "2017-07-01T10:00:00",
          "2017-07-01T10:15:00",
          "2017-07-01T10:30:00",
          "2017-07-01T10:45:00",
          "2017-07-01T11:00:00",
          "2017-07-01T11:15:00",
          "2017-07-01T11:30:00",
          "2017-07-01T11:45:00",
          "2017-07-01T12:00:00",
          "2017-07-01T12:15:00",
          "2017-07-01T12:30:00",
          "2017-07-01T12:45:00",
          "2017-07-01T13:00:00",
          "2017-07-01T13:15:00",
          "2017-07-01T13:30:00",
          "2017-07-01T13:45:00",
          "2017-07-01T14:00:00",
          "2017-07-01T14:15:00",
          "2017-07-01T14:30:00",
          "2017-07-01T14:45:00",
          "2017-07-01T15:00:00",
          "2017-07-01T15:15:00",
          "2017-07-01T15:30:00",
          "2017-07-01T15:45:00",
          "2017-07-01T16:00:00",
          "2017-07-01T16:15:00",
          "2017-07-01T16:30:00",
          "2017-07-01T16:45:00",
          "2017-07-01T17:00:00",
          "2017-07-01T17:15:00",
          "2017-07-01T17:30:00",
          "2017-07-01T17:45:00",
          "2017-07-01T18:00:00",
          "2017-07-01T18:15:00",
          "2017-07-01T18:30:00",
          "2017-07-01T18:45:00",
          "2017-07-01T19:00:00",
          "2017-07-01T19:15:00",
          "2017-07-01T19:30:00",
          "2017-07-01T19:45:00",
          "2017-07-01T20:00:00",
          "2017-07-01T20:15:00",
          "2017-07-01T20:30:00",
          "2017-07-01T20:45:00",
          "2017-07-01T21:00:00",
          "2017-07-01T21:15:00",
          "2017-07-01T21:30:00",
          "2017-07-01T21:45:00",
          "2017-07-01T22:00:00",
          "2017-07-01T22:15:00",
          "2017-07-01T22:30:00",
          "2017-07-01T22:45:00",
          "2017-07-01T23:00:00",
          "2017-07-01T23:15:00",
          "2017-07-01T23:30:00",
          "2017-07-01T23:45:00"
         ],
         "y": [
          25.152649054877493,
          25.003331759225926,
          24.85253640400741,
          24.700157508314145,
          24.54645968594483,
          24.39236633090428,
          24.238216082388654,
          24.083796120960834,
          23.928732472840252,
          23.77361207179158,
          23.617978871946498,
          23.462335927085576,
          23.306550331279144,
          23.15079910122751,
          22.99518980651051,
          22.83980448279019,
          22.684699782272016,
          22.529936320479035,
          22.375546720471302,
          22.221577642842263,
          22.06803501665123,
          21.915307692266204,
          21.76410918971193,
          21.615604120392636,
          21.471490131384453,
          21.334264316973332,
          21.20667297213106,
          21.092277199388334,
          20.99243394283828,
          20.910372101159886,
          20.8483829762325,
          20.808568726042168,
          20.79221507290564,
          20.798555405015307,
          20.82809390517635,
          20.88063285033629,
          20.956927240534583,
          21.05530096279725,
          21.176585498135555,
          21.328527927828045,
          21.491154160860418,
          21.669810379379182,
          21.86229538652601,
          22.067450405439338,
          22.284052856177528,
          22.510490319546847,
          22.74555681367684,
          22.987620341597218,
          23.234760319767823,
          23.48493232322272,
          23.736146969997332,
          23.98669030147894,
          24.235199373118633,
          24.480592265395618,
          24.721948434614976,
          24.95828664151894,
          25.18858129445184,
          25.41176678746359,
          25.626612445867345,
          25.832366313303044,
          26.02831173187298,
          26.21384349141364,
          26.388456915718983,
          26.551763821265535,
          26.703381737614343,
          26.842929652271312,
          26.97002711008011,
          27.084303973841326,
          27.184592971789865,
          27.27204370347536,
          27.3455802072943,
          27.404910527452383,
          27.449768595099776,
          27.480015843499903,
          27.495579163496114,
          27.496500691494013,
          27.48293285009517,
          27.455218792282277,
          27.413461327626074,
          27.357204489569604,
          27.287850064049838,
          27.205524269586586,
          27.11102931506278,
          27.005358725947048,
          26.88992604552769,
          26.765822031264335,
          26.634025909072513,
          26.496549344400243,
          26.35398317374743,
          26.20718896265042,
          26.05682668239115,
          25.90320371038736,
          25.747134148351762,
          25.59974659398669,
          25.45052440526551,
          25.301529132764696
         ]
        },
        {
         "name": "BLOCK 00 STOREY 0 WALL 0004_1 DOOR PARTNER",
         "type": "scatter",
         "x": [
          "2017-07-01T00:00:00",
          "2017-07-01T00:15:00",
          "2017-07-01T00:30:00",
          "2017-07-01T00:45:00",
          "2017-07-01T01:00:00",
          "2017-07-01T01:15:00",
          "2017-07-01T01:30:00",
          "2017-07-01T01:45:00",
          "2017-07-01T02:00:00",
          "2017-07-01T02:15:00",
          "2017-07-01T02:30:00",
          "2017-07-01T02:45:00",
          "2017-07-01T03:00:00",
          "2017-07-01T03:15:00",
          "2017-07-01T03:30:00",
          "2017-07-01T03:45:00",
          "2017-07-01T04:00:00",
          "2017-07-01T04:15:00",
          "2017-07-01T04:30:00",
          "2017-07-01T04:45:00",
          "2017-07-01T05:00:00",
          "2017-07-01T05:15:00",
          "2017-07-01T05:30:00",
          "2017-07-01T05:45:00",
          "2017-07-01T06:00:00",
          "2017-07-01T06:15:00",
          "2017-07-01T06:30:00",
          "2017-07-01T06:45:00",
          "2017-07-01T07:00:00",
          "2017-07-01T07:15:00",
          "2017-07-01T07:30:00",
          "2017-07-01T07:45:00",
          "2017-07-01T08:00:00",
          "2017-07-01T08:15:00",
          "2017-07-01T08:30:00",
          "2017-07-01T08:45:00",
          "2017-07-01T09:00:00",
          "2017-07-01T09:15:00",
          "2017-07-01T09:30:00",
          "2017-07-01T09:45:00",
          "2017-07-01T10:00:00",
          "2017-07-01T10:15:00",
          "2017-07-01T10:30:00",
          "2017-07-01T10:45:00",
          "2017-07-01T11:00:00",
          "2017-07-01T11:15:00",
          "2017-07-01T11:30:00",
          "2017-07-01T11:45:00",
          "2017-07-01T12:00:00",
          "2017-07-01T12:15:00",
          "2017-07-01T12:30:00",
          "2017-07-01T12:45:00",
          "2017-07-01T13:00:00",
          "2017-07-01T13:15:00",
          "2017-07-01T13:30:00",
          "2017-07-01T13:45:00",
          "2017-07-01T14:00:00",
          "2017-07-01T14:15:00",
          "2017-07-01T14:30:00",
          "2017-07-01T14:45:00",
          "2017-07-01T15:00:00",
          "2017-07-01T15:15:00",
          "2017-07-01T15:30:00",
          "2017-07-01T15:45:00",
          "2017-07-01T16:00:00",
          "2017-07-01T16:15:00",
          "2017-07-01T16:30:00",
          "2017-07-01T16:45:00",
          "2017-07-01T17:00:00",
          "2017-07-01T17:15:00",
          "2017-07-01T17:30:00",
          "2017-07-01T17:45:00",
          "2017-07-01T18:00:00",
          "2017-07-01T18:15:00",
          "2017-07-01T18:30:00",
          "2017-07-01T18:45:00",
          "2017-07-01T19:00:00",
          "2017-07-01T19:15:00",
          "2017-07-01T19:30:00",
          "2017-07-01T19:45:00",
          "2017-07-01T20:00:00",
          "2017-07-01T20:15:00",
          "2017-07-01T20:30:00",
          "2017-07-01T20:45:00",
          "2017-07-01T21:00:00",
          "2017-07-01T21:15:00",
          "2017-07-01T21:30:00",
          "2017-07-01T21:45:00",
          "2017-07-01T22:00:00",
          "2017-07-01T22:15:00",
          "2017-07-01T22:30:00",
          "2017-07-01T22:45:00",
          "2017-07-01T23:00:00",
          "2017-07-01T23:15:00",
          "2017-07-01T23:30:00",
          "2017-07-01T23:45:00"
         ],
         "y": [
          25.06703449687766,
          24.986680102684662,
          24.901879656179435,
          24.812858035834925,
          24.72021148247872,
          24.625098254808417,
          24.5280867655922,
          24.42919031990138,
          24.32821008739964,
          24.225617142962225,
          24.119711819428815,
          24.017709031750794,
          23.912053694535718,
          23.804262837902044,
          23.694696534516734,
          23.583554127326817,
          23.470989298669824,
          23.35715016846157,
          23.242159940991613,
          23.12614527080785,
          23.009176354860998,
          22.891544938962184,
          22.773643751191802,
          22.65600700569092,
          22.539362357416913,
          22.42486991264051,
          22.313761409169274,
          22.208042271308965,
          22.107528215154986,
          22.01413624103437,
          21.92912441600812,
          21.853862820339245,
          21.789559453607545,
          21.73545798113936,
          21.69254464752145,
          21.661173827608568,
          21.642408829414467,
          21.63550893645763,
          21.64114818368592,
          21.661960234324543,
          21.692036894308735,
          21.732950304021994,
          21.78428353335514,
          21.845858268237155,
          21.917367615678128,
          21.99814147907433,
          22.08785004626241,
          22.18593010484704,
          22.291667479316043,
          22.4042644353587,
          22.522858524061718,
          22.64660447111753,
          22.77472186933532,
          22.906487768744917,
          23.041250500211493,
          23.17834946864459,
          23.31719649879265,
          23.45764565011156,
          23.594390902646353,
          23.731194061554916,
          23.868255939604445,
          24.004572369595824,
          24.139405256568494,
          24.27214059680075,
          24.402178021516093,
          24.52893209558649,
          24.651835784082195,
          24.770347141637654,
          24.883132419657446,
          24.991225052177885,
          25.093388646775058,
          25.189158525928924,
          25.278075957354773,
          25.359785885279145,
          25.433946607370288,
          25.500247666839343,
          25.558412345117034,
          25.607918051765072,
          25.649083704853197,
          25.681114274064864,
          25.70407398989719,
          25.717878110314,
          25.722586479243933,
          25.71836149891279,
          25.70569031895104,
          25.684844998100164,
          25.655824284953393,
          25.62028134187601,
          25.578125103875767,
          25.529840903077176,
          25.47587427340687,
          25.416596080982657,
          25.35251180716446,
          25.286780514281542,
          25.21698817837613,
          25.143724475095755
         ]
        },
        {
         "name": "BLOCK 01 STOREY 0 WALL 0004 WINDOW",
         "type": "scatter",
         "x": [
          "2017-07-01T00:00:00",
          "2017-07-01T00:15:00",
          "2017-07-01T00:30:00",
          "2017-07-01T00:45:00",
          "2017-07-01T01:00:00",
          "2017-07-01T01:15:00",
          "2017-07-01T01:30:00",
          "2017-07-01T01:45:00",
          "2017-07-01T02:00:00",
          "2017-07-01T02:15:00",
          "2017-07-01T02:30:00",
          "2017-07-01T02:45:00",
          "2017-07-01T03:00:00",
          "2017-07-01T03:15:00",
          "2017-07-01T03:30:00",
          "2017-07-01T03:45:00",
          "2017-07-01T04:00:00",
          "2017-07-01T04:15:00",
          "2017-07-01T04:30:00",
          "2017-07-01T04:45:00",
          "2017-07-01T05:00:00",
          "2017-07-01T05:15:00",
          "2017-07-01T05:30:00",
          "2017-07-01T05:45:00",
          "2017-07-01T06:00:00",
          "2017-07-01T06:15:00",
          "2017-07-01T06:30:00",
          "2017-07-01T06:45:00",
          "2017-07-01T07:00:00",
          "2017-07-01T07:15:00",
          "2017-07-01T07:30:00",
          "2017-07-01T07:45:00",
          "2017-07-01T08:00:00",
          "2017-07-01T08:15:00",
          "2017-07-01T08:30:00",
          "2017-07-01T08:45:00",
          "2017-07-01T09:00:00",
          "2017-07-01T09:15:00",
          "2017-07-01T09:30:00",
          "2017-07-01T09:45:00",
          "2017-07-01T10:00:00",
          "2017-07-01T10:15:00",
          "2017-07-01T10:30:00",
          "2017-07-01T10:45:00",
          "2017-07-01T11:00:00",
          "2017-07-01T11:15:00",
          "2017-07-01T11:30:00",
          "2017-07-01T11:45:00",
          "2017-07-01T12:00:00",
          "2017-07-01T12:15:00",
          "2017-07-01T12:30:00",
          "2017-07-01T12:45:00",
          "2017-07-01T13:00:00",
          "2017-07-01T13:15:00",
          "2017-07-01T13:30:00",
          "2017-07-01T13:45:00",
          "2017-07-01T14:00:00",
          "2017-07-01T14:15:00",
          "2017-07-01T14:30:00",
          "2017-07-01T14:45:00",
          "2017-07-01T15:00:00",
          "2017-07-01T15:15:00",
          "2017-07-01T15:30:00",
          "2017-07-01T15:45:00",
          "2017-07-01T16:00:00",
          "2017-07-01T16:15:00",
          "2017-07-01T16:30:00",
          "2017-07-01T16:45:00",
          "2017-07-01T17:00:00",
          "2017-07-01T17:15:00",
          "2017-07-01T17:30:00",
          "2017-07-01T17:45:00",
          "2017-07-01T18:00:00",
          "2017-07-01T18:15:00",
          "2017-07-01T18:30:00",
          "2017-07-01T18:45:00",
          "2017-07-01T19:00:00",
          "2017-07-01T19:15:00",
          "2017-07-01T19:30:00",
          "2017-07-01T19:45:00",
          "2017-07-01T20:00:00",
          "2017-07-01T20:15:00",
          "2017-07-01T20:30:00",
          "2017-07-01T20:45:00",
          "2017-07-01T21:00:00",
          "2017-07-01T21:15:00",
          "2017-07-01T21:30:00",
          "2017-07-01T21:45:00",
          "2017-07-01T22:00:00",
          "2017-07-01T22:15:00",
          "2017-07-01T22:30:00",
          "2017-07-01T22:45:00",
          "2017-07-01T23:00:00",
          "2017-07-01T23:15:00",
          "2017-07-01T23:30:00",
          "2017-07-01T23:45:00"
         ],
         "y": [
          22.124350894234567,
          21.916400936195146,
          21.705685453628234,
          21.486326260851115,
          21.381240646457115,
          21.265942899892252,
          21.149513994273434,
          21.03290343082682,
          20.916188423296035,
          20.798746371345146,
          20.681089596765275,
          20.562770261005937,
          20.43532725695428,
          20.30817114668298,
          20.18080088666892,
          20.05322267107431,
          19.93382416425868,
          19.813746897070132,
          19.693578934951574,
          19.710012383470087,
          19.722210527095854,
          19.738702602167336,
          19.780824469619688,
          19.827585965459264,
          19.972017606145187,
          20.117190884719832,
          20.24390071211866,
          20.374574760802716,
          20.45953148068429,
          20.55561959764259,
          20.639135507567175,
          20.732278592581565,
          20.833081015830317,
          20.963702425077543,
          21.21124767444104,
          21.62863996038692,
          22.05471306677822,
          22.511584555932757,
          22.960277844811912,
          23.405673404221034,
          23.899606594435454,
          24.367227047725578,
          24.791996276557484,
          25.116396611248945,
          25.488845907787606,
          25.835824657278863,
          26.143032090391443,
          26.428634974776003,
          26.605061795995766,
          26.761535133728444,
          26.880016992038236,
          26.973735683779523,
          26.98056049515492,
          26.972542725234803,
          26.974330072292673,
          26.890902442079437,
          26.691736025955947,
          26.47001575992647,
          26.214583082782156,
          25.954791813080192,
          25.705663129455502,
          25.488018314488272,
          25.264014112811992,
          25.18175668225564,
          25.15726837121042,
          25.123577462347725,
          25.056077378991745,
          24.970394895509912,
          24.884095259382548,
          24.798779079824953,
          24.686622572841088,
          24.572784749531024,
          24.43587041855227,
          24.29605229009701,
          24.143295823094718,
          23.98685321701828,
          23.846914491818666,
          23.645670867219906,
          23.585503817254676,
          23.521329539195563,
          23.50671522022992,
          23.47938039260788,
          23.44331235089072,
          23.3992500512544,
          23.338385720692372,
          23.271268655211088,
          23.197584672341804,
          23.117703097032063,
          23.032632581761845,
          22.942696973759837,
          22.848439373427027,
          22.750372369234867,
          22.64895267713848,
          22.544743121434635,
          22.440527984078585,
          22.333508105675605
         ]
        }
       ],
       "layout": {
        "template": {
         "data": {
          "bar": [
           {
            "error_x": {
             "color": "#2a3f5f"
            },
            "error_y": {
             "color": "#2a3f5f"
            },
            "marker": {
             "line": {
              "color": "#E5ECF6",
              "width": 0.5
             },
             "pattern": {
              "fillmode": "overlay",
              "size": 10,
              "solidity": 0.2
             }
            },
            "type": "bar"
           }
          ],
          "barpolar": [
           {
            "marker": {
             "line": {
              "color": "#E5ECF6",
              "width": 0.5
             },
             "pattern": {
              "fillmode": "overlay",
              "size": 10,
              "solidity": 0.2
             }
            },
            "type": "barpolar"
           }
          ],
          "carpet": [
           {
            "aaxis": {
             "endlinecolor": "#2a3f5f",
             "gridcolor": "white",
             "linecolor": "white",
             "minorgridcolor": "white",
             "startlinecolor": "#2a3f5f"
            },
            "baxis": {
             "endlinecolor": "#2a3f5f",
             "gridcolor": "white",
             "linecolor": "white",
             "minorgridcolor": "white",
             "startlinecolor": "#2a3f5f"
            },
            "type": "carpet"
           }
          ],
          "choropleth": [
           {
            "colorbar": {
             "outlinewidth": 0,
             "ticks": ""
            },
            "type": "choropleth"
           }
          ],
          "contour": [
           {
            "colorbar": {
             "outlinewidth": 0,
             "ticks": ""
            },
            "colorscale": [
             [
              0,
              "#0d0887"
             ],
             [
              0.1111111111111111,
              "#46039f"
             ],
             [
              0.2222222222222222,
              "#7201a8"
             ],
             [
              0.3333333333333333,
              "#9c179e"
             ],
             [
              0.4444444444444444,
              "#bd3786"
             ],
             [
              0.5555555555555556,
              "#d8576b"
             ],
             [
              0.6666666666666666,
              "#ed7953"
             ],
             [
              0.7777777777777778,
              "#fb9f3a"
             ],
             [
              0.8888888888888888,
              "#fdca26"
             ],
             [
              1,
              "#f0f921"
             ]
            ],
            "type": "contour"
           }
          ],
          "contourcarpet": [
           {
            "colorbar": {
             "outlinewidth": 0,
             "ticks": ""
            },
            "type": "contourcarpet"
           }
          ],
          "heatmap": [
           {
            "colorbar": {
             "outlinewidth": 0,
             "ticks": ""
            },
            "colorscale": [
             [
              0,
              "#0d0887"
             ],
             [
              0.1111111111111111,
              "#46039f"
             ],
             [
              0.2222222222222222,
              "#7201a8"
             ],
             [
              0.3333333333333333,
              "#9c179e"
             ],
             [
              0.4444444444444444,
              "#bd3786"
             ],
             [
              0.5555555555555556,
              "#d8576b"
             ],
             [
              0.6666666666666666,
              "#ed7953"
             ],
             [
              0.7777777777777778,
              "#fb9f3a"
             ],
             [
              0.8888888888888888,
              "#fdca26"
             ],
             [
              1,
              "#f0f921"
             ]
            ],
            "type": "heatmap"
           }
          ],
          "heatmapgl": [
           {
            "colorbar": {
             "outlinewidth": 0,
             "ticks": ""
            },
            "colorscale": [
             [
              0,
              "#0d0887"
             ],
             [
              0.1111111111111111,
              "#46039f"
             ],
             [
              0.2222222222222222,
              "#7201a8"
             ],
             [
              0.3333333333333333,
              "#9c179e"
             ],
             [
              0.4444444444444444,
              "#bd3786"
             ],
             [
              0.5555555555555556,
              "#d8576b"
             ],
             [
              0.6666666666666666,
              "#ed7953"
             ],
             [
              0.7777777777777778,
              "#fb9f3a"
             ],
             [
              0.8888888888888888,
              "#fdca26"
             ],
             [
              1,
              "#f0f921"
             ]
            ],
            "type": "heatmapgl"
           }
          ],
          "histogram": [
           {
            "marker": {
             "pattern": {
              "fillmode": "overlay",
              "size": 10,
              "solidity": 0.2
             }
            },
            "type": "histogram"
           }
          ],
          "histogram2d": [
           {
            "colorbar": {
             "outlinewidth": 0,
             "ticks": ""
            },
            "colorscale": [
             [
              0,
              "#0d0887"
             ],
             [
              0.1111111111111111,
              "#46039f"
             ],
             [
              0.2222222222222222,
              "#7201a8"
             ],
             [
              0.3333333333333333,
              "#9c179e"
             ],
             [
              0.4444444444444444,
              "#bd3786"
             ],
             [
              0.5555555555555556,
              "#d8576b"
             ],
             [
              0.6666666666666666,
              "#ed7953"
             ],
             [
              0.7777777777777778,
              "#fb9f3a"
             ],
             [
              0.8888888888888888,
              "#fdca26"
             ],
             [
              1,
              "#f0f921"
             ]
            ],
            "type": "histogram2d"
           }
          ],
          "histogram2dcontour": [
           {
            "colorbar": {
             "outlinewidth": 0,
             "ticks": ""
            },
            "colorscale": [
             [
              0,
              "#0d0887"
             ],
             [
              0.1111111111111111,
              "#46039f"
             ],
             [
              0.2222222222222222,
              "#7201a8"
             ],
             [
              0.3333333333333333,
              "#9c179e"
             ],
             [
              0.4444444444444444,
              "#bd3786"
             ],
             [
              0.5555555555555556,
              "#d8576b"
             ],
             [
              0.6666666666666666,
              "#ed7953"
             ],
             [
              0.7777777777777778,
              "#fb9f3a"
             ],
             [
              0.8888888888888888,
              "#fdca26"
             ],
             [
              1,
              "#f0f921"
             ]
            ],
            "type": "histogram2dcontour"
           }
          ],
          "mesh3d": [
           {
            "colorbar": {
             "outlinewidth": 0,
             "ticks": ""
            },
            "type": "mesh3d"
           }
          ],
          "parcoords": [
           {
            "line": {
             "colorbar": {
              "outlinewidth": 0,
              "ticks": ""
             }
            },
            "type": "parcoords"
           }
          ],
          "pie": [
           {
            "automargin": true,
            "type": "pie"
           }
          ],
          "scatter": [
           {
            "fillpattern": {
             "fillmode": "overlay",
             "size": 10,
             "solidity": 0.2
            },
            "type": "scatter"
           }
          ],
          "scatter3d": [
           {
            "line": {
             "colorbar": {
              "outlinewidth": 0,
              "ticks": ""
             }
            },
            "marker": {
             "colorbar": {
              "outlinewidth": 0,
              "ticks": ""
             }
            },
            "type": "scatter3d"
           }
          ],
          "scattercarpet": [
           {
            "marker": {
             "colorbar": {
              "outlinewidth": 0,
              "ticks": ""
             }
            },
            "type": "scattercarpet"
           }
          ],
          "scattergeo": [
           {
            "marker": {
             "colorbar": {
              "outlinewidth": 0,
              "ticks": ""
             }
            },
            "type": "scattergeo"
           }
          ],
          "scattergl": [
           {
            "marker": {
             "colorbar": {
              "outlinewidth": 0,
              "ticks": ""
             }
            },
            "type": "scattergl"
           }
          ],
          "scattermapbox": [
           {
            "marker": {
             "colorbar": {
              "outlinewidth": 0,
              "ticks": ""
             }
            },
            "type": "scattermapbox"
           }
          ],
          "scatterpolar": [
           {
            "marker": {
             "colorbar": {
              "outlinewidth": 0,
              "ticks": ""
             }
            },
            "type": "scatterpolar"
           }
          ],
          "scatterpolargl": [
           {
            "marker": {
             "colorbar": {
              "outlinewidth": 0,
              "ticks": ""
             }
            },
            "type": "scatterpolargl"
           }
          ],
          "scatterternary": [
           {
            "marker": {
             "colorbar": {
              "outlinewidth": 0,
              "ticks": ""
             }
            },
            "type": "scatterternary"
           }
          ],
          "surface": [
           {
            "colorbar": {
             "outlinewidth": 0,
             "ticks": ""
            },
            "colorscale": [
             [
              0,
              "#0d0887"
             ],
             [
              0.1111111111111111,
              "#46039f"
             ],
             [
              0.2222222222222222,
              "#7201a8"
             ],
             [
              0.3333333333333333,
              "#9c179e"
             ],
             [
              0.4444444444444444,
              "#bd3786"
             ],
             [
              0.5555555555555556,
              "#d8576b"
             ],
             [
              0.6666666666666666,
              "#ed7953"
             ],
             [
              0.7777777777777778,
              "#fb9f3a"
             ],
             [
              0.8888888888888888,
              "#fdca26"
             ],
             [
              1,
              "#f0f921"
             ]
            ],
            "type": "surface"
           }
          ],
          "table": [
           {
            "cells": {
             "fill": {
              "color": "#EBF0F8"
             },
             "line": {
              "color": "white"
             }
            },
            "header": {
             "fill": {
              "color": "#C8D4E3"
             },
             "line": {
              "color": "white"
             }
            },
            "type": "table"
           }
          ]
         },
         "layout": {
          "annotationdefaults": {
           "arrowcolor": "#2a3f5f",
           "arrowhead": 0,
           "arrowwidth": 1
          },
          "autotypenumbers": "strict",
          "coloraxis": {
           "colorbar": {
            "outlinewidth": 0,
            "ticks": ""
           }
          },
          "colorscale": {
           "diverging": [
            [
             0,
             "#8e0152"
            ],
            [
             0.1,
             "#c51b7d"
            ],
            [
             0.2,
             "#de77ae"
            ],
            [
             0.3,
             "#f1b6da"
            ],
            [
             0.4,
             "#fde0ef"
            ],
            [
             0.5,
             "#f7f7f7"
            ],
            [
             0.6,
             "#e6f5d0"
            ],
            [
             0.7,
             "#b8e186"
            ],
            [
             0.8,
             "#7fbc41"
            ],
            [
             0.9,
             "#4d9221"
            ],
            [
             1,
             "#276419"
            ]
           ],
           "sequential": [
            [
             0,
             "#0d0887"
            ],
            [
             0.1111111111111111,
             "#46039f"
            ],
            [
             0.2222222222222222,
             "#7201a8"
            ],
            [
             0.3333333333333333,
             "#9c179e"
            ],
            [
             0.4444444444444444,
             "#bd3786"
            ],
            [
             0.5555555555555556,
             "#d8576b"
            ],
            [
             0.6666666666666666,
             "#ed7953"
            ],
            [
             0.7777777777777778,
             "#fb9f3a"
            ],
            [
             0.8888888888888888,
             "#fdca26"
            ],
            [
             1,
             "#f0f921"
            ]
           ],
           "sequentialminus": [
            [
             0,
             "#0d0887"
            ],
            [
             0.1111111111111111,
             "#46039f"
            ],
            [
             0.2222222222222222,
             "#7201a8"
            ],
            [
             0.3333333333333333,
             "#9c179e"
            ],
            [
             0.4444444444444444,
             "#bd3786"
            ],
            [
             0.5555555555555556,
             "#d8576b"
            ],
            [
             0.6666666666666666,
             "#ed7953"
            ],
            [
             0.7777777777777778,
             "#fb9f3a"
            ],
            [
             0.8888888888888888,
             "#fdca26"
            ],
            [
             1,
             "#f0f921"
            ]
           ]
          },
          "colorway": [
           "#636efa",
           "#EF553B",
           "#00cc96",
           "#ab63fa",
           "#FFA15A",
           "#19d3f3",
           "#FF6692",
           "#B6E880",
           "#FF97FF",
           "#FECB52"
          ],
          "font": {
           "color": "#2a3f5f"
          },
          "geo": {
           "bgcolor": "white",
           "lakecolor": "white",
           "landcolor": "#E5ECF6",
           "showlakes": true,
           "showland": true,
           "subunitcolor": "white"
          },
          "hoverlabel": {
           "align": "left"
          },
          "hovermode": "closest",
          "mapbox": {
           "style": "light"
          },
          "paper_bgcolor": "white",
          "plot_bgcolor": "#E5ECF6",
          "polar": {
           "angularaxis": {
            "gridcolor": "white",
            "linecolor": "white",
            "ticks": ""
           },
           "bgcolor": "#E5ECF6",
           "radialaxis": {
            "gridcolor": "white",
            "linecolor": "white",
            "ticks": ""
           }
          },
          "scene": {
           "xaxis": {
            "backgroundcolor": "#E5ECF6",
            "gridcolor": "white",
            "gridwidth": 2,
            "linecolor": "white",
            "showbackground": true,
            "ticks": "",
            "zerolinecolor": "white"
           },
           "yaxis": {
            "backgroundcolor": "#E5ECF6",
            "gridcolor": "white",
            "gridwidth": 2,
            "linecolor": "white",
            "showbackground": true,
            "ticks": "",
            "zerolinecolor": "white"
           },
           "zaxis": {
            "backgroundcolor": "#E5ECF6",
            "gridcolor": "white",
            "gridwidth": 2,
            "linecolor": "white",
            "showbackground": true,
            "ticks": "",
            "zerolinecolor": "white"
           }
          },
          "shapedefaults": {
           "line": {
            "color": "#2a3f5f"
           }
          },
          "ternary": {
           "aaxis": {
            "gridcolor": "white",
            "linecolor": "white",
            "ticks": ""
           },
           "baxis": {
            "gridcolor": "white",
            "linecolor": "white",
            "ticks": ""
           },
           "bgcolor": "#E5ECF6",
           "caxis": {
            "gridcolor": "white",
            "linecolor": "white",
            "ticks": ""
           }
          },
          "title": {
           "x": 0.05
          },
          "xaxis": {
           "automargin": true,
           "gridcolor": "white",
           "linecolor": "white",
           "ticks": "",
           "title": {
            "standoff": 15
           },
           "zerolinecolor": "white",
           "zerolinewidth": 2
          },
          "yaxis": {
           "automargin": true,
           "gridcolor": "white",
           "linecolor": "white",
           "ticks": "",
           "title": {
            "standoff": 15
           },
           "zerolinecolor": "white",
           "zerolinewidth": 2
          }
         }
        },
        "title": {
         "text": "Surface Inside Face Temperature [C] <br><sup> 7/1 to 7/1 between 0 and 23 @4 </sup>"
        }
       }
      }
     },
     "metadata": {},
     "output_type": "display_data"
    }
   ],
   "source": [
    "ez.plt.get_collection_for_variable(ez.eligible_vars.surf_inside_temp)\n",
    "ez.plt.create_plot()"
   ]
  },
  {
   "cell_type": "code",
   "execution_count": 13,
   "metadata": {},
   "outputs": [
    {
     "data": {
      "application/vnd.plotly.v1+json": {
       "config": {
        "plotlyServerURL": "https://plotly.com"
       },
       "data": [
        {
         "name": "BLOCK 00 STOREY 0 WALL 0001",
         "type": "scatter",
         "x": [
          "2017-07-01T00:00:00",
          "2017-07-01T00:15:00",
          "2017-07-01T00:30:00",
          "2017-07-01T00:45:00",
          "2017-07-01T01:00:00",
          "2017-07-01T01:15:00",
          "2017-07-01T01:30:00",
          "2017-07-01T01:45:00",
          "2017-07-01T02:00:00",
          "2017-07-01T02:15:00",
          "2017-07-01T02:30:00",
          "2017-07-01T02:45:00",
          "2017-07-01T03:00:00",
          "2017-07-01T03:15:00",
          "2017-07-01T03:30:00",
          "2017-07-01T03:45:00",
          "2017-07-01T04:00:00",
          "2017-07-01T04:15:00",
          "2017-07-01T04:30:00",
          "2017-07-01T04:45:00",
          "2017-07-01T05:00:00",
          "2017-07-01T05:15:00",
          "2017-07-01T05:30:00",
          "2017-07-01T05:45:00",
          "2017-07-01T06:00:00",
          "2017-07-01T06:15:00",
          "2017-07-01T06:30:00",
          "2017-07-01T06:45:00",
          "2017-07-01T07:00:00",
          "2017-07-01T07:15:00",
          "2017-07-01T07:30:00",
          "2017-07-01T07:45:00",
          "2017-07-01T08:00:00",
          "2017-07-01T08:15:00",
          "2017-07-01T08:30:00",
          "2017-07-01T08:45:00",
          "2017-07-01T09:00:00",
          "2017-07-01T09:15:00",
          "2017-07-01T09:30:00",
          "2017-07-01T09:45:00",
          "2017-07-01T10:00:00",
          "2017-07-01T10:15:00",
          "2017-07-01T10:30:00",
          "2017-07-01T10:45:00",
          "2017-07-01T11:00:00",
          "2017-07-01T11:15:00",
          "2017-07-01T11:30:00",
          "2017-07-01T11:45:00",
          "2017-07-01T12:00:00",
          "2017-07-01T12:15:00",
          "2017-07-01T12:30:00",
          "2017-07-01T12:45:00",
          "2017-07-01T13:00:00",
          "2017-07-01T13:15:00",
          "2017-07-01T13:30:00",
          "2017-07-01T13:45:00",
          "2017-07-01T14:00:00",
          "2017-07-01T14:15:00",
          "2017-07-01T14:30:00",
          "2017-07-01T14:45:00",
          "2017-07-01T15:00:00",
          "2017-07-01T15:15:00",
          "2017-07-01T15:30:00",
          "2017-07-01T15:45:00",
          "2017-07-01T16:00:00",
          "2017-07-01T16:15:00",
          "2017-07-01T16:30:00",
          "2017-07-01T16:45:00",
          "2017-07-01T17:00:00",
          "2017-07-01T17:15:00",
          "2017-07-01T17:30:00",
          "2017-07-01T17:45:00",
          "2017-07-01T18:00:00",
          "2017-07-01T18:15:00",
          "2017-07-01T18:30:00",
          "2017-07-01T18:45:00",
          "2017-07-01T19:00:00",
          "2017-07-01T19:15:00",
          "2017-07-01T19:30:00",
          "2017-07-01T19:45:00",
          "2017-07-01T20:00:00",
          "2017-07-01T20:15:00",
          "2017-07-01T20:30:00",
          "2017-07-01T20:45:00",
          "2017-07-01T21:00:00",
          "2017-07-01T21:15:00",
          "2017-07-01T21:30:00",
          "2017-07-01T21:45:00",
          "2017-07-01T22:00:00",
          "2017-07-01T22:15:00",
          "2017-07-01T22:30:00",
          "2017-07-01T22:45:00",
          "2017-07-01T23:00:00",
          "2017-07-01T23:15:00",
          "2017-07-01T23:30:00",
          "2017-07-01T23:45:00"
         ],
         "y": [
          17.089079457838043,
          16.720786811285162,
          16.347089670535144,
          15.962042329000912,
          15.819227131376135,
          15.688097087226732,
          15.547021282332635,
          15.424329954535505,
          15.302671216090086,
          15.183109969956588,
          15.06493184919688,
          14.947636343719731,
          14.813929082511192,
          14.679438326910846,
          14.544280254656064,
          14.40870858589814,
          14.293881319242377,
          14.180642822109993,
          14.069228288467725,
          23.22330530816752,
          29.364823984588725,
          35.09964935539488,
          38.49153713733094,
          42.020389019400774,
          45.55498513540904,
          48.85283528655093,
          51.09263622230217,
          53.21663773129906,
          54.48100690191329,
          55.3258177500878,
          55.21868569362263,
          54.834216366731496,
          54.79215056175702,
          54.48926303518724,
          53.71361417118991,
          52.5277005955878,
          51.66555930038657,
          50.60831959356088,
          49.24738593152472,
          47.76250003045587,
          46.28542808334094,
          44.69262791606341,
          42.918911194126764,
          40.76816367208883,
          38.4039950368229,
          36.15844021723245,
          34.887912271964986,
          32.886948999166734,
          31.2556206925273,
          31.09134762248427,
          30.994677335886248,
          30.96118752256871,
          30.777776368248798,
          30.624100897408432,
          30.476576325652125,
          30.340654550792696,
          30.06639491006992,
          29.787930790963674,
          29.47510516274292,
          29.156503000285287,
          28.832560620125435,
          28.503600238613647,
          27.98349039580563,
          27.585457412840757,
          27.171943098091056,
          26.755681687567186,
          26.278938413770522,
          25.798454179858453,
          25.305177329389387,
          24.81166664663831,
          24.25482526445716,
          23.700402390564275,
          23.173818057815495,
          22.636217863123985,
          22.060327995349994,
          21.468639972628146,
          20.87477328996484,
          20.116528322789307,
          19.80754895132504,
          19.514033331359613,
          19.359552948347403,
          19.216564907071522,
          19.083607132584312,
          18.958260443824376,
          18.82023066715763,
          18.685886607618134,
          18.554686766135053,
          18.426114167533992,
          18.29874995858727,
          18.173007060983014,
          18.048591428178668,
          17.92524636565081,
          17.804056575893476,
          17.683765974621505,
          17.564191524176554,
          17.445178379484762
         ]
        },
        {
         "name": "BLOCK 00 STOREY 0 WALL 0002",
         "type": "scatter",
         "x": [
          "2017-07-01T00:00:00",
          "2017-07-01T00:15:00",
          "2017-07-01T00:30:00",
          "2017-07-01T00:45:00",
          "2017-07-01T01:00:00",
          "2017-07-01T01:15:00",
          "2017-07-01T01:30:00",
          "2017-07-01T01:45:00",
          "2017-07-01T02:00:00",
          "2017-07-01T02:15:00",
          "2017-07-01T02:30:00",
          "2017-07-01T02:45:00",
          "2017-07-01T03:00:00",
          "2017-07-01T03:15:00",
          "2017-07-01T03:30:00",
          "2017-07-01T03:45:00",
          "2017-07-01T04:00:00",
          "2017-07-01T04:15:00",
          "2017-07-01T04:30:00",
          "2017-07-01T04:45:00",
          "2017-07-01T05:00:00",
          "2017-07-01T05:15:00",
          "2017-07-01T05:30:00",
          "2017-07-01T05:45:00",
          "2017-07-01T06:00:00",
          "2017-07-01T06:15:00",
          "2017-07-01T06:30:00",
          "2017-07-01T06:45:00",
          "2017-07-01T07:00:00",
          "2017-07-01T07:15:00",
          "2017-07-01T07:30:00",
          "2017-07-01T07:45:00",
          "2017-07-01T08:00:00",
          "2017-07-01T08:15:00",
          "2017-07-01T08:30:00",
          "2017-07-01T08:45:00",
          "2017-07-01T09:00:00",
          "2017-07-01T09:15:00",
          "2017-07-01T09:30:00",
          "2017-07-01T09:45:00",
          "2017-07-01T10:00:00",
          "2017-07-01T10:15:00",
          "2017-07-01T10:30:00",
          "2017-07-01T10:45:00",
          "2017-07-01T11:00:00",
          "2017-07-01T11:15:00",
          "2017-07-01T11:30:00",
          "2017-07-01T11:45:00",
          "2017-07-01T12:00:00",
          "2017-07-01T12:15:00",
          "2017-07-01T12:30:00",
          "2017-07-01T12:45:00",
          "2017-07-01T13:00:00",
          "2017-07-01T13:15:00",
          "2017-07-01T13:30:00",
          "2017-07-01T13:45:00",
          "2017-07-01T14:00:00",
          "2017-07-01T14:15:00",
          "2017-07-01T14:30:00",
          "2017-07-01T14:45:00",
          "2017-07-01T15:00:00",
          "2017-07-01T15:15:00",
          "2017-07-01T15:30:00",
          "2017-07-01T15:45:00",
          "2017-07-01T16:00:00",
          "2017-07-01T16:15:00",
          "2017-07-01T16:30:00",
          "2017-07-01T16:45:00",
          "2017-07-01T17:00:00",
          "2017-07-01T17:15:00",
          "2017-07-01T17:30:00",
          "2017-07-01T17:45:00",
          "2017-07-01T18:00:00",
          "2017-07-01T18:15:00",
          "2017-07-01T18:30:00",
          "2017-07-01T18:45:00",
          "2017-07-01T19:00:00",
          "2017-07-01T19:15:00",
          "2017-07-01T19:30:00",
          "2017-07-01T19:45:00",
          "2017-07-01T20:00:00",
          "2017-07-01T20:15:00",
          "2017-07-01T20:30:00",
          "2017-07-01T20:45:00",
          "2017-07-01T21:00:00",
          "2017-07-01T21:15:00",
          "2017-07-01T21:30:00",
          "2017-07-01T21:45:00",
          "2017-07-01T22:00:00",
          "2017-07-01T22:15:00",
          "2017-07-01T22:30:00",
          "2017-07-01T22:45:00",
          "2017-07-01T23:00:00",
          "2017-07-01T23:15:00",
          "2017-07-01T23:30:00",
          "2017-07-01T23:45:00"
         ],
         "y": [
          17.082542754728006,
          16.70613315140166,
          16.324973403488375,
          15.936961207574921,
          15.789178225473364,
          15.653861276508472,
          15.526333510695622,
          15.404149161052212,
          15.28284855380477,
          15.163617361186123,
          15.045766983054419,
          14.928807706527161,
          14.795442596140058,
          14.66131147114845,
          14.526530287388123,
          14.391355634568784,
          14.277018208509595,
          14.164281718829454,
          14.053384425239788,
          19.36319428304872,
          22.60921297050564,
          25.121311732257503,
          26.300633710047272,
          27.331680748136996,
          28.317084364315946,
          29.048737204592552,
          29.237029815560323,
          29.28107073510176,
          28.804166947722553,
          28.11534782365869,
          27.12113021046313,
          26.07647907637474,
          25.187320182590547,
          24.44181123939899,
          24.525581547838456,
          24.815180150132395,
          25.02194685120802,
          25.24585309097906,
          25.43469997862703,
          25.628000362538177,
          25.956594936542018,
          26.294522487855446,
          26.615563961340875,
          26.93591927842473,
          27.138021439435935,
          27.369848246409482,
          27.619625414999533,
          27.903859008606254,
          28.0868319827435,
          28.27827363958414,
          28.466956507093588,
          28.660680564852207,
          28.660434154699143,
          28.654968299998348,
          28.6326012077463,
          28.603733888986426,
          28.41032565160521,
          28.202886548115362,
          27.95830803608979,
          27.702370972317294,
          27.436607589344174,
          27.16213191304073,
          26.721823782326933,
          26.549989026196286,
          26.84150211329148,
          27.140554313462577,
          27.35837518799196,
          27.543097960753734,
          27.66365443547934,
          27.735860288979808,
          27.591035102668606,
          27.35812081703652,
          27.35461182695056,
          27.29239278785184,
          27.059343372605873,
          26.726162795206925,
          25.425918116181276,
          20.64455851152519,
          20.182446590579364,
          19.782099189056495,
          19.559952427184893,
          19.371844111131992,
          19.20763715976919,
          19.0579245233214,
          18.900715887712465,
          18.751573986333298,
          18.608784279054742,
          18.470972230245547,
          18.335688439595934,
          18.20318127141766,
          18.0728294797588,
          17.94412456924175,
          17.81857686029299,
          17.694282994216387,
          17.570929204018164,
          17.44825915891724
         ]
        },
        {
         "name": "BLOCK 00 STOREY 0 WALL 0003",
         "type": "scatter",
         "x": [
          "2017-07-01T00:00:00",
          "2017-07-01T00:15:00",
          "2017-07-01T00:30:00",
          "2017-07-01T00:45:00",
          "2017-07-01T01:00:00",
          "2017-07-01T01:15:00",
          "2017-07-01T01:30:00",
          "2017-07-01T01:45:00",
          "2017-07-01T02:00:00",
          "2017-07-01T02:15:00",
          "2017-07-01T02:30:00",
          "2017-07-01T02:45:00",
          "2017-07-01T03:00:00",
          "2017-07-01T03:15:00",
          "2017-07-01T03:30:00",
          "2017-07-01T03:45:00",
          "2017-07-01T04:00:00",
          "2017-07-01T04:15:00",
          "2017-07-01T04:30:00",
          "2017-07-01T04:45:00",
          "2017-07-01T05:00:00",
          "2017-07-01T05:15:00",
          "2017-07-01T05:30:00",
          "2017-07-01T05:45:00",
          "2017-07-01T06:00:00",
          "2017-07-01T06:15:00",
          "2017-07-01T06:30:00",
          "2017-07-01T06:45:00",
          "2017-07-01T07:00:00",
          "2017-07-01T07:15:00",
          "2017-07-01T07:30:00",
          "2017-07-01T07:45:00",
          "2017-07-01T08:00:00",
          "2017-07-01T08:15:00",
          "2017-07-01T08:30:00",
          "2017-07-01T08:45:00",
          "2017-07-01T09:00:00",
          "2017-07-01T09:15:00",
          "2017-07-01T09:30:00",
          "2017-07-01T09:45:00",
          "2017-07-01T10:00:00",
          "2017-07-01T10:15:00",
          "2017-07-01T10:30:00",
          "2017-07-01T10:45:00",
          "2017-07-01T11:00:00",
          "2017-07-01T11:15:00",
          "2017-07-01T11:30:00",
          "2017-07-01T11:45:00",
          "2017-07-01T12:00:00",
          "2017-07-01T12:15:00",
          "2017-07-01T12:30:00",
          "2017-07-01T12:45:00",
          "2017-07-01T13:00:00",
          "2017-07-01T13:15:00",
          "2017-07-01T13:30:00",
          "2017-07-01T13:45:00",
          "2017-07-01T14:00:00",
          "2017-07-01T14:15:00",
          "2017-07-01T14:30:00",
          "2017-07-01T14:45:00",
          "2017-07-01T15:00:00",
          "2017-07-01T15:15:00",
          "2017-07-01T15:30:00",
          "2017-07-01T15:45:00",
          "2017-07-01T16:00:00",
          "2017-07-01T16:15:00",
          "2017-07-01T16:30:00",
          "2017-07-01T16:45:00",
          "2017-07-01T17:00:00",
          "2017-07-01T17:15:00",
          "2017-07-01T17:30:00",
          "2017-07-01T17:45:00",
          "2017-07-01T18:00:00",
          "2017-07-01T18:15:00",
          "2017-07-01T18:30:00",
          "2017-07-01T18:45:00",
          "2017-07-01T19:00:00",
          "2017-07-01T19:15:00",
          "2017-07-01T19:30:00",
          "2017-07-01T19:45:00",
          "2017-07-01T20:00:00",
          "2017-07-01T20:15:00",
          "2017-07-01T20:30:00",
          "2017-07-01T20:45:00",
          "2017-07-01T21:00:00",
          "2017-07-01T21:15:00",
          "2017-07-01T21:30:00",
          "2017-07-01T21:45:00",
          "2017-07-01T22:00:00",
          "2017-07-01T22:15:00",
          "2017-07-01T22:30:00",
          "2017-07-01T22:45:00",
          "2017-07-01T23:00:00",
          "2017-07-01T23:15:00",
          "2017-07-01T23:30:00",
          "2017-07-01T23:45:00"
         ],
         "y": [
          17.511707885121428,
          17.126324871718214,
          16.737561341174974,
          16.347990791127856,
          16.188116332584652,
          16.039751817660537,
          15.905878000180074,
          15.773705221460368,
          15.645388432814856,
          15.520106204731244,
          15.397029690459918,
          15.275513050942584,
          15.137843996416715,
          14.999554318429643,
          14.860532588175957,
          14.720579101675574,
          14.599527638714077,
          14.479195594262741,
          14.359161276857844,
          14.85556596052331,
          15.276560572212764,
          15.782339347457087,
          16.433651212921294,
          17.11914575619019,
          17.9797865989604,
          18.853939830287302,
          19.626099174662876,
          20.406018387570466,
          20.919699601488272,
          21.41624152792947,
          21.7971704029662,
          22.163155412235476,
          22.596037310270088,
          23.01746996347348,
          23.354454000243013,
          23.85904645014638,
          24.227330578091802,
          24.585502669790333,
          24.88812055146886,
          25.179645900761876,
          25.592985324422262,
          26.005423369902495,
          26.391684687201444,
          26.769602377720165,
          27.081785974735244,
          27.14153184087774,
          27.41559107966239,
          27.72180788771435,
          28.25800174863136,
          30.110513400971097,
          31.987079649822334,
          33.85950118167434,
          35.34256097144133,
          36.70730067957835,
          38.17388629214047,
          39.26582030653659,
          40.39646735399083,
          41.44842076137309,
          42.31554154819378,
          43.08162030678898,
          43.7439594838263,
          44.300832204952066,
          44.793341432486,
          44.9852010973712,
          44.925373416868084,
          44.744913832810546,
          44.179920138918625,
          43.493494234774026,
          42.606280894094034,
          41.61879659930776,
          40.0763726286521,
          38.45128824736087,
          37.6885972108432,
          36.80826979238718,
          35.62004221095472,
          34.328890571835515,
          31.22947899401102,
          22.597155778759056,
          21.834141508177073,
          21.197243788400534,
          20.806562511752052,
          20.485503839794298,
          20.212764004389474,
          19.974922113488507,
          19.741744889860552,
          19.528022694245198,
          19.329604395299484,
          19.14339635918996,
          18.967649873792517,
          18.79955726250166,
          18.637705965467035,
          18.480983512244602,
          18.328685996996793,
          18.180365557769065,
          18.036136339715345,
          17.89227602897398
         ]
        },
        {
         "name": "BLOCK 00 STOREY 0 WALL 0004_1",
         "type": "scatter",
         "x": [
          "2017-07-01T00:00:00",
          "2017-07-01T00:15:00",
          "2017-07-01T00:30:00",
          "2017-07-01T00:45:00",
          "2017-07-01T01:00:00",
          "2017-07-01T01:15:00",
          "2017-07-01T01:30:00",
          "2017-07-01T01:45:00",
          "2017-07-01T02:00:00",
          "2017-07-01T02:15:00",
          "2017-07-01T02:30:00",
          "2017-07-01T02:45:00",
          "2017-07-01T03:00:00",
          "2017-07-01T03:15:00",
          "2017-07-01T03:30:00",
          "2017-07-01T03:45:00",
          "2017-07-01T04:00:00",
          "2017-07-01T04:15:00",
          "2017-07-01T04:30:00",
          "2017-07-01T04:45:00",
          "2017-07-01T05:00:00",
          "2017-07-01T05:15:00",
          "2017-07-01T05:30:00",
          "2017-07-01T05:45:00",
          "2017-07-01T06:00:00",
          "2017-07-01T06:15:00",
          "2017-07-01T06:30:00",
          "2017-07-01T06:45:00",
          "2017-07-01T07:00:00",
          "2017-07-01T07:15:00",
          "2017-07-01T07:30:00",
          "2017-07-01T07:45:00",
          "2017-07-01T08:00:00",
          "2017-07-01T08:15:00",
          "2017-07-01T08:30:00",
          "2017-07-01T08:45:00",
          "2017-07-01T09:00:00",
          "2017-07-01T09:15:00",
          "2017-07-01T09:30:00",
          "2017-07-01T09:45:00",
          "2017-07-01T10:00:00",
          "2017-07-01T10:15:00",
          "2017-07-01T10:30:00",
          "2017-07-01T10:45:00",
          "2017-07-01T11:00:00",
          "2017-07-01T11:15:00",
          "2017-07-01T11:30:00",
          "2017-07-01T11:45:00",
          "2017-07-01T12:00:00",
          "2017-07-01T12:15:00",
          "2017-07-01T12:30:00",
          "2017-07-01T12:45:00",
          "2017-07-01T13:00:00",
          "2017-07-01T13:15:00",
          "2017-07-01T13:30:00",
          "2017-07-01T13:45:00",
          "2017-07-01T14:00:00",
          "2017-07-01T14:15:00",
          "2017-07-01T14:30:00",
          "2017-07-01T14:45:00",
          "2017-07-01T15:00:00",
          "2017-07-01T15:15:00",
          "2017-07-01T15:30:00",
          "2017-07-01T15:45:00",
          "2017-07-01T16:00:00",
          "2017-07-01T16:15:00",
          "2017-07-01T16:30:00",
          "2017-07-01T16:45:00",
          "2017-07-01T17:00:00",
          "2017-07-01T17:15:00",
          "2017-07-01T17:30:00",
          "2017-07-01T17:45:00",
          "2017-07-01T18:00:00",
          "2017-07-01T18:15:00",
          "2017-07-01T18:30:00",
          "2017-07-01T18:45:00",
          "2017-07-01T19:00:00",
          "2017-07-01T19:15:00",
          "2017-07-01T19:30:00",
          "2017-07-01T19:45:00",
          "2017-07-01T20:00:00",
          "2017-07-01T20:15:00",
          "2017-07-01T20:30:00",
          "2017-07-01T20:45:00",
          "2017-07-01T21:00:00",
          "2017-07-01T21:15:00",
          "2017-07-01T21:30:00",
          "2017-07-01T21:45:00",
          "2017-07-01T22:00:00",
          "2017-07-01T22:15:00",
          "2017-07-01T22:30:00",
          "2017-07-01T22:45:00",
          "2017-07-01T23:00:00",
          "2017-07-01T23:15:00",
          "2017-07-01T23:30:00",
          "2017-07-01T23:45:00"
         ],
         "y": [
          25.067034496875696,
          24.986680102682723,
          24.9018796561776,
          24.812858035833194,
          24.72021148247714,
          24.625098254807018,
          24.52808676559102,
          24.42919031990035,
          24.328210087398762,
          24.225617142961493,
          24.1197118194286,
          24.01770903175027,
          23.912053694535288,
          23.804262837901664,
          23.694696534516396,
          23.583554127326483,
          23.470989298669494,
          23.357150168461285,
          23.242159940991364,
          23.126145270807648,
          23.009176354860887,
          22.891544938962145,
          22.773643751191837,
          22.656007005691016,
          22.539362357417076,
          22.424869912640702,
          22.313761409169516,
          22.20804227130927,
          22.10752821515533,
          22.014136241034784,
          21.929124416008566,
          21.853862820339756,
          21.78955945360816,
          21.735457981140005,
          21.692544647522144,
          21.661173827609314,
          21.642408829415295,
          21.635508936458542,
          21.64114818368694,
          21.66196023432563,
          21.69203689430987,
          21.73295030402317,
          21.784283533356316,
          21.84585826823835,
          21.917367615679286,
          21.998141479075436,
          22.087850046263476,
          22.18593010484806,
          22.29166747931696,
          22.404264435359522,
          22.522858524062435,
          22.646604471118163,
          22.774721869335842,
          22.906487768745382,
          23.04125050021194,
          23.178349468644978,
          23.317196498793063,
          23.45764565011199,
          23.59439090264689,
          23.731194061555463,
          23.868255939605028,
          24.004572369596467,
          24.139405256569155,
          24.272140596801457,
          24.4021780215168,
          24.528932095587233,
          24.651835784082955,
          24.770347141638457,
          24.883132419658253,
          24.991225052178713,
          25.093388646775875,
          25.189158525929724,
          25.278075957355536,
          25.359785885279884,
          25.433946607371002,
          25.500247666840007,
          25.558412345117652,
          25.607918051765665,
          25.649083704853794,
          25.681114274065493,
          25.7040739898978,
          25.717878110314615,
          25.72258647924453,
          25.71836149891329,
          25.70569031895143,
          25.684844998100488,
          25.655824284953624,
          25.6202813418762,
          25.578125103875944,
          25.529840903077368,
          25.47587427340714,
          25.41659608098301,
          25.352511807164902,
          25.286780514282068,
          25.216988178376695,
          25.143724475096352
         ]
        },
        {
         "name": "BLOCK 00 STOREY 0 WALL 0004_2",
         "type": "scatter",
         "x": [
          "2017-07-01T00:00:00",
          "2017-07-01T00:15:00",
          "2017-07-01T00:30:00",
          "2017-07-01T00:45:00",
          "2017-07-01T01:00:00",
          "2017-07-01T01:15:00",
          "2017-07-01T01:30:00",
          "2017-07-01T01:45:00",
          "2017-07-01T02:00:00",
          "2017-07-01T02:15:00",
          "2017-07-01T02:30:00",
          "2017-07-01T02:45:00",
          "2017-07-01T03:00:00",
          "2017-07-01T03:15:00",
          "2017-07-01T03:30:00",
          "2017-07-01T03:45:00",
          "2017-07-01T04:00:00",
          "2017-07-01T04:15:00",
          "2017-07-01T04:30:00",
          "2017-07-01T04:45:00",
          "2017-07-01T05:00:00",
          "2017-07-01T05:15:00",
          "2017-07-01T05:30:00",
          "2017-07-01T05:45:00",
          "2017-07-01T06:00:00",
          "2017-07-01T06:15:00",
          "2017-07-01T06:30:00",
          "2017-07-01T06:45:00",
          "2017-07-01T07:00:00",
          "2017-07-01T07:15:00",
          "2017-07-01T07:30:00",
          "2017-07-01T07:45:00",
          "2017-07-01T08:00:00",
          "2017-07-01T08:15:00",
          "2017-07-01T08:30:00",
          "2017-07-01T08:45:00",
          "2017-07-01T09:00:00",
          "2017-07-01T09:15:00",
          "2017-07-01T09:30:00",
          "2017-07-01T09:45:00",
          "2017-07-01T10:00:00",
          "2017-07-01T10:15:00",
          "2017-07-01T10:30:00",
          "2017-07-01T10:45:00",
          "2017-07-01T11:00:00",
          "2017-07-01T11:15:00",
          "2017-07-01T11:30:00",
          "2017-07-01T11:45:00",
          "2017-07-01T12:00:00",
          "2017-07-01T12:15:00",
          "2017-07-01T12:30:00",
          "2017-07-01T12:45:00",
          "2017-07-01T13:00:00",
          "2017-07-01T13:15:00",
          "2017-07-01T13:30:00",
          "2017-07-01T13:45:00",
          "2017-07-01T14:00:00",
          "2017-07-01T14:15:00",
          "2017-07-01T14:30:00",
          "2017-07-01T14:45:00",
          "2017-07-01T15:00:00",
          "2017-07-01T15:15:00",
          "2017-07-01T15:30:00",
          "2017-07-01T15:45:00",
          "2017-07-01T16:00:00",
          "2017-07-01T16:15:00",
          "2017-07-01T16:30:00",
          "2017-07-01T16:45:00",
          "2017-07-01T17:00:00",
          "2017-07-01T17:15:00",
          "2017-07-01T17:30:00",
          "2017-07-01T17:45:00",
          "2017-07-01T18:00:00",
          "2017-07-01T18:15:00",
          "2017-07-01T18:30:00",
          "2017-07-01T18:45:00",
          "2017-07-01T19:00:00",
          "2017-07-01T19:15:00",
          "2017-07-01T19:30:00",
          "2017-07-01T19:45:00",
          "2017-07-01T20:00:00",
          "2017-07-01T20:15:00",
          "2017-07-01T20:30:00",
          "2017-07-01T20:45:00",
          "2017-07-01T21:00:00",
          "2017-07-01T21:15:00",
          "2017-07-01T21:30:00",
          "2017-07-01T21:45:00",
          "2017-07-01T22:00:00",
          "2017-07-01T22:15:00",
          "2017-07-01T22:30:00",
          "2017-07-01T22:45:00",
          "2017-07-01T23:00:00",
          "2017-07-01T23:15:00",
          "2017-07-01T23:30:00",
          "2017-07-01T23:45:00"
         ],
         "y": [
          17.187359273469788,
          16.825643219675335,
          16.451186155741354,
          16.075064210708685,
          15.938647160492472,
          15.81176972712039,
          15.692566498336124,
          15.578666148030505,
          15.466954520573411,
          15.357542785843366,
          15.249690435499229,
          15.142819083269337,
          15.019459083149298,
          14.89505907454609,
          14.769551171614479,
          14.642794565549345,
          14.53478082478751,
          14.42716122408304,
          14.31955471220231,
          14.775946004394957,
          15.165448890854023,
          15.638929471917807,
          16.255658777310597,
          16.905546098000215,
          17.733799366949548,
          18.579069412281,
          19.32993939474573,
          20.090471769247813,
          20.59804963287777,
          21.09008287745985,
          21.47374359891278,
          21.84339803044601,
          22.275174362253523,
          22.86226207197261,
          24.26198168095137,
          25.77913445038155,
          27.193188917992103,
          28.574979875504706,
          29.837497166397323,
          31.032735482236895,
          32.28593891065794,
          33.464286443410714,
          34.503315147380526,
          35.25535266793531,
          35.83405173529886,
          36.33235927362767,
          36.7065446681332,
          37.013979636308036,
          37.26118115743818,
          37.3934856545491,
          37.40607181870213,
          37.34148242532734,
          36.92004727186213,
          36.434885889829175,
          35.981913468395796,
          35.333025820157786,
          34.566301703921894,
          33.73548109126674,
          32.79948349761599,
          31.817655103382947,
          30.798081716917196,
          29.749200678504376,
          28.51120893891198,
          27.542002789808407,
          27.06294202881568,
          26.604264032104524,
          26.104710224527242,
          25.612637673477337,
          25.116676076244673,
          24.6265866578424,
          24.081515617405383,
          23.54266622274469,
          23.028915014230723,
          22.50790905081753,
          21.953607178244653,
          21.387071879811867,
          20.823687228193403,
          20.11293558983342,
          19.811863152725874,
          19.525485919124577,
          19.37702683051542,
          19.240687910820824,
          19.113597362263462,
          18.993875146159763,
          18.861331538574873,
          18.7322649492694,
          18.6061635470705,
          18.482526324399434,
          18.360074696912893,
          18.239140170231813,
          18.119440418470184,
          18.000730502231185,
          17.883924959179577,
          17.767921005251456,
          17.652547215379478,
          17.53765963916603
         ]
        },
        {
         "name": "BLOCK 00 STOREY 0 FLOOR 0001",
         "type": "scatter",
         "x": [
          "2017-07-01T00:00:00",
          "2017-07-01T00:15:00",
          "2017-07-01T00:30:00",
          "2017-07-01T00:45:00",
          "2017-07-01T01:00:00",
          "2017-07-01T01:15:00",
          "2017-07-01T01:30:00",
          "2017-07-01T01:45:00",
          "2017-07-01T02:00:00",
          "2017-07-01T02:15:00",
          "2017-07-01T02:30:00",
          "2017-07-01T02:45:00",
          "2017-07-01T03:00:00",
          "2017-07-01T03:15:00",
          "2017-07-01T03:30:00",
          "2017-07-01T03:45:00",
          "2017-07-01T04:00:00",
          "2017-07-01T04:15:00",
          "2017-07-01T04:30:00",
          "2017-07-01T04:45:00",
          "2017-07-01T05:00:00",
          "2017-07-01T05:15:00",
          "2017-07-01T05:30:00",
          "2017-07-01T05:45:00",
          "2017-07-01T06:00:00",
          "2017-07-01T06:15:00",
          "2017-07-01T06:30:00",
          "2017-07-01T06:45:00",
          "2017-07-01T07:00:00",
          "2017-07-01T07:15:00",
          "2017-07-01T07:30:00",
          "2017-07-01T07:45:00",
          "2017-07-01T08:00:00",
          "2017-07-01T08:15:00",
          "2017-07-01T08:30:00",
          "2017-07-01T08:45:00",
          "2017-07-01T09:00:00",
          "2017-07-01T09:15:00",
          "2017-07-01T09:30:00",
          "2017-07-01T09:45:00",
          "2017-07-01T10:00:00",
          "2017-07-01T10:15:00",
          "2017-07-01T10:30:00",
          "2017-07-01T10:45:00",
          "2017-07-01T11:00:00",
          "2017-07-01T11:15:00",
          "2017-07-01T11:30:00",
          "2017-07-01T11:45:00",
          "2017-07-01T12:00:00",
          "2017-07-01T12:15:00",
          "2017-07-01T12:30:00",
          "2017-07-01T12:45:00",
          "2017-07-01T13:00:00",
          "2017-07-01T13:15:00",
          "2017-07-01T13:30:00",
          "2017-07-01T13:45:00",
          "2017-07-01T14:00:00",
          "2017-07-01T14:15:00",
          "2017-07-01T14:30:00",
          "2017-07-01T14:45:00",
          "2017-07-01T15:00:00",
          "2017-07-01T15:15:00",
          "2017-07-01T15:30:00",
          "2017-07-01T15:45:00",
          "2017-07-01T16:00:00",
          "2017-07-01T16:15:00",
          "2017-07-01T16:30:00",
          "2017-07-01T16:45:00",
          "2017-07-01T17:00:00",
          "2017-07-01T17:15:00",
          "2017-07-01T17:30:00",
          "2017-07-01T17:45:00",
          "2017-07-01T18:00:00",
          "2017-07-01T18:15:00",
          "2017-07-01T18:30:00",
          "2017-07-01T18:45:00",
          "2017-07-01T19:00:00",
          "2017-07-01T19:15:00",
          "2017-07-01T19:30:00",
          "2017-07-01T19:45:00",
          "2017-07-01T20:00:00",
          "2017-07-01T20:15:00",
          "2017-07-01T20:30:00",
          "2017-07-01T20:45:00",
          "2017-07-01T21:00:00",
          "2017-07-01T21:15:00",
          "2017-07-01T21:30:00",
          "2017-07-01T21:45:00",
          "2017-07-01T22:00:00",
          "2017-07-01T22:15:00",
          "2017-07-01T22:30:00",
          "2017-07-01T22:45:00",
          "2017-07-01T23:00:00",
          "2017-07-01T23:15:00",
          "2017-07-01T23:30:00",
          "2017-07-01T23:45:00"
         ],
         "y": [
          18,
          18,
          18,
          18,
          18,
          18,
          18,
          18,
          18,
          18,
          18,
          18,
          18,
          18,
          18,
          18,
          18,
          18,
          18,
          18,
          18,
          18,
          18,
          18,
          18,
          18,
          18,
          18,
          18,
          18,
          18,
          18,
          18,
          18,
          18,
          18,
          18,
          18,
          18,
          18,
          18,
          18,
          18,
          18,
          18,
          18,
          18,
          18,
          18,
          18,
          18,
          18,
          18,
          18,
          18,
          18,
          18,
          18,
          18,
          18,
          18,
          18,
          18,
          18,
          18,
          18,
          18,
          18,
          18,
          18,
          18,
          18,
          18,
          18,
          18,
          18,
          18,
          18,
          18,
          18,
          18,
          18,
          18,
          18,
          18,
          18,
          18,
          18,
          18,
          18,
          18,
          18,
          18,
          18,
          18,
          18
         ]
        },
        {
         "name": "BLOCK 00 STOREY 0 ROOF 0001",
         "type": "scatter",
         "x": [
          "2017-07-01T00:00:00",
          "2017-07-01T00:15:00",
          "2017-07-01T00:30:00",
          "2017-07-01T00:45:00",
          "2017-07-01T01:00:00",
          "2017-07-01T01:15:00",
          "2017-07-01T01:30:00",
          "2017-07-01T01:45:00",
          "2017-07-01T02:00:00",
          "2017-07-01T02:15:00",
          "2017-07-01T02:30:00",
          "2017-07-01T02:45:00",
          "2017-07-01T03:00:00",
          "2017-07-01T03:15:00",
          "2017-07-01T03:30:00",
          "2017-07-01T03:45:00",
          "2017-07-01T04:00:00",
          "2017-07-01T04:15:00",
          "2017-07-01T04:30:00",
          "2017-07-01T04:45:00",
          "2017-07-01T05:00:00",
          "2017-07-01T05:15:00",
          "2017-07-01T05:30:00",
          "2017-07-01T05:45:00",
          "2017-07-01T06:00:00",
          "2017-07-01T06:15:00",
          "2017-07-01T06:30:00",
          "2017-07-01T06:45:00",
          "2017-07-01T07:00:00",
          "2017-07-01T07:15:00",
          "2017-07-01T07:30:00",
          "2017-07-01T07:45:00",
          "2017-07-01T08:00:00",
          "2017-07-01T08:15:00",
          "2017-07-01T08:30:00",
          "2017-07-01T08:45:00",
          "2017-07-01T09:00:00",
          "2017-07-01T09:15:00",
          "2017-07-01T09:30:00",
          "2017-07-01T09:45:00",
          "2017-07-01T10:00:00",
          "2017-07-01T10:15:00",
          "2017-07-01T10:30:00",
          "2017-07-01T10:45:00",
          "2017-07-01T11:00:00",
          "2017-07-01T11:15:00",
          "2017-07-01T11:30:00",
          "2017-07-01T11:45:00",
          "2017-07-01T12:00:00",
          "2017-07-01T12:15:00",
          "2017-07-01T12:30:00",
          "2017-07-01T12:45:00",
          "2017-07-01T13:00:00",
          "2017-07-01T13:15:00",
          "2017-07-01T13:30:00",
          "2017-07-01T13:45:00",
          "2017-07-01T14:00:00",
          "2017-07-01T14:15:00",
          "2017-07-01T14:30:00",
          "2017-07-01T14:45:00",
          "2017-07-01T15:00:00",
          "2017-07-01T15:15:00",
          "2017-07-01T15:30:00",
          "2017-07-01T15:45:00",
          "2017-07-01T16:00:00",
          "2017-07-01T16:15:00",
          "2017-07-01T16:30:00",
          "2017-07-01T16:45:00",
          "2017-07-01T17:00:00",
          "2017-07-01T17:15:00",
          "2017-07-01T17:30:00",
          "2017-07-01T17:45:00",
          "2017-07-01T18:00:00",
          "2017-07-01T18:15:00",
          "2017-07-01T18:30:00",
          "2017-07-01T18:45:00",
          "2017-07-01T19:00:00",
          "2017-07-01T19:15:00",
          "2017-07-01T19:30:00",
          "2017-07-01T19:45:00",
          "2017-07-01T20:00:00",
          "2017-07-01T20:15:00",
          "2017-07-01T20:30:00",
          "2017-07-01T20:45:00",
          "2017-07-01T21:00:00",
          "2017-07-01T21:15:00",
          "2017-07-01T21:30:00",
          "2017-07-01T21:45:00",
          "2017-07-01T22:00:00",
          "2017-07-01T22:15:00",
          "2017-07-01T22:30:00",
          "2017-07-01T22:45:00",
          "2017-07-01T23:00:00",
          "2017-07-01T23:15:00",
          "2017-07-01T23:30:00",
          "2017-07-01T23:45:00"
         ],
         "y": [
          14.581620153884456,
          14.061250922946407,
          13.518419475209582,
          12.953124792406538,
          12.723953845727014,
          12.505154511301399,
          12.294043523483923,
          12.087341591863968,
          11.861712872750438,
          11.633270951709823,
          11.400946107716063,
          11.164056394554029,
          10.899870621954532,
          10.62899041783479,
          10.351789968554447,
          10.069441072634392,
          9.835329164175507,
          9.603363391851154,
          9.375752511482316,
          10.254983486890715,
          11.41809954849418,
          13.169017783426813,
          15.47555490199435,
          18.309763102791354,
          21.10441831945186,
          24.197057059747138,
          26.96702778747323,
          29.849184037662365,
          32.31136389409451,
          34.629624953137395,
          36.40463931729018,
          38.04234738667814,
          40.01429169616379,
          41.8927347906393,
          43.439975439486275,
          44.91932979622335,
          46.51006007499027,
          48.016719635149364,
          49.25008860543344,
          50.407405755408206,
          51.608830317773716,
          52.71473242031236,
          53.577083775199654,
          54.35362904458052,
          53.995855775831906,
          53.627244715996035,
          53.07585419356589,
          52.49692151815191,
          52.55062056143438,
          52.51210880208247,
          52.30974498745927,
          52.042850084633365,
          50.94405713916553,
          49.84144922245178,
          48.61580513307749,
          47.390585308047314,
          46.54490232636212,
          45.645415998049344,
          44.58056065456184,
          43.478361039951224,
          42.34055363889136,
          41.1720217772802,
          39.83502689998488,
          38.48368573888638,
          37.036050440786134,
          35.59944416725832,
          34.0088691715003,
          32.45766320207485,
          30.906984509477052,
          29.419532464686966,
          27.80875607817199,
          26.30595437722837,
          25.098658554539757,
          23.89667650944988,
          22.642271235797708,
          21.40031707332479,
          20.222715643375434,
          19.002422801404023,
          18.600421779770492,
          18.221481347088087,
          17.98484020884515,
          17.767531708782677,
          17.564329992598495,
          17.371404506231293,
          17.169549529446904,
          16.9734601769647,
          16.781816054749267,
          16.593602019718915,
          16.399906294036292,
          16.206758847429953,
          16.013540152391204,
          15.819693983314137,
          15.634909434061042,
          15.450138635461123,
          15.26493292536761,
          15.07886908658449
         ]
        },
        {
         "name": "BLOCK 00 STOREY 0 WALL 0002 DOOR",
         "type": "scatter",
         "x": [
          "2017-07-01T00:00:00",
          "2017-07-01T00:15:00",
          "2017-07-01T00:30:00",
          "2017-07-01T00:45:00",
          "2017-07-01T01:00:00",
          "2017-07-01T01:15:00",
          "2017-07-01T01:30:00",
          "2017-07-01T01:45:00",
          "2017-07-01T02:00:00",
          "2017-07-01T02:15:00",
          "2017-07-01T02:30:00",
          "2017-07-01T02:45:00",
          "2017-07-01T03:00:00",
          "2017-07-01T03:15:00",
          "2017-07-01T03:30:00",
          "2017-07-01T03:45:00",
          "2017-07-01T04:00:00",
          "2017-07-01T04:15:00",
          "2017-07-01T04:30:00",
          "2017-07-01T04:45:00",
          "2017-07-01T05:00:00",
          "2017-07-01T05:15:00",
          "2017-07-01T05:30:00",
          "2017-07-01T05:45:00",
          "2017-07-01T06:00:00",
          "2017-07-01T06:15:00",
          "2017-07-01T06:30:00",
          "2017-07-01T06:45:00",
          "2017-07-01T07:00:00",
          "2017-07-01T07:15:00",
          "2017-07-01T07:30:00",
          "2017-07-01T07:45:00",
          "2017-07-01T08:00:00",
          "2017-07-01T08:15:00",
          "2017-07-01T08:30:00",
          "2017-07-01T08:45:00",
          "2017-07-01T09:00:00",
          "2017-07-01T09:15:00",
          "2017-07-01T09:30:00",
          "2017-07-01T09:45:00",
          "2017-07-01T10:00:00",
          "2017-07-01T10:15:00",
          "2017-07-01T10:30:00",
          "2017-07-01T10:45:00",
          "2017-07-01T11:00:00",
          "2017-07-01T11:15:00",
          "2017-07-01T11:30:00",
          "2017-07-01T11:45:00",
          "2017-07-01T12:00:00",
          "2017-07-01T12:15:00",
          "2017-07-01T12:30:00",
          "2017-07-01T12:45:00",
          "2017-07-01T13:00:00",
          "2017-07-01T13:15:00",
          "2017-07-01T13:30:00",
          "2017-07-01T13:45:00",
          "2017-07-01T14:00:00",
          "2017-07-01T14:15:00",
          "2017-07-01T14:30:00",
          "2017-07-01T14:45:00",
          "2017-07-01T15:00:00",
          "2017-07-01T15:15:00",
          "2017-07-01T15:30:00",
          "2017-07-01T15:45:00",
          "2017-07-01T16:00:00",
          "2017-07-01T16:15:00",
          "2017-07-01T16:30:00",
          "2017-07-01T16:45:00",
          "2017-07-01T17:00:00",
          "2017-07-01T17:15:00",
          "2017-07-01T17:30:00",
          "2017-07-01T17:45:00",
          "2017-07-01T18:00:00",
          "2017-07-01T18:15:00",
          "2017-07-01T18:30:00",
          "2017-07-01T18:45:00",
          "2017-07-01T19:00:00",
          "2017-07-01T19:15:00",
          "2017-07-01T19:30:00",
          "2017-07-01T19:45:00",
          "2017-07-01T20:00:00",
          "2017-07-01T20:15:00",
          "2017-07-01T20:30:00",
          "2017-07-01T20:45:00",
          "2017-07-01T21:00:00",
          "2017-07-01T21:15:00",
          "2017-07-01T21:30:00",
          "2017-07-01T21:45:00",
          "2017-07-01T22:00:00",
          "2017-07-01T22:15:00",
          "2017-07-01T22:30:00",
          "2017-07-01T22:45:00",
          "2017-07-01T23:00:00",
          "2017-07-01T23:15:00",
          "2017-07-01T23:30:00",
          "2017-07-01T23:45:00"
         ],
         "y": [
          17.058824886342585,
          16.692345620671645,
          16.319942731542596,
          15.94398715264016,
          15.788958625062449,
          15.648155503808315,
          15.515868076034042,
          15.389624758000641,
          15.265534166578593,
          15.144392960843774,
          15.025527964235048,
          14.908484957654839,
          14.77624736901476,
          14.644234733570514,
          14.512499827219244,
          14.381302658443465,
          14.270241105577945,
          14.161234525052501,
          14.05448839632967,
          19.42679893782594,
          22.658378079000624,
          25.158915373791743,
          26.327796118251,
          27.354206331846687,
          28.344191939685043,
          29.087388174244,
          29.292285493192665,
          29.357558393849274,
          29.00759662282285,
          28.465930240571364,
          27.602603570000586,
          26.656059387511498,
          25.776696572564713,
          25.028134094187475,
          25.15905058086643,
          25.500198048162595,
          25.73110546660165,
          25.97960950315396,
          26.18652537165534,
          26.396156919202422,
          26.732829105698762,
          27.075288699743012,
          27.39575784852396,
          27.712697319851138,
          27.92036740731592,
          28.148758570213168,
          28.38569853654264,
          28.652595427426355,
          28.832078405128044,
          29.021926107315117,
          29.20840060214342,
          29.400627764984748,
          29.401537830773314,
          29.395341579970058,
          29.367069991163504,
          29.32890946440125,
          29.146261452869528,
          28.94811278519429,
          28.70591048982829,
          28.45014627886254,
          28.182478804707948,
          27.904186264591647,
          27.426849170525333,
          27.270126730393393,
          27.672346616077835,
          28.088331231570738,
          28.41132752909829,
          28.69763948020217,
          28.911829751604817,
          29.06960840788683,
          28.966642883986648,
          28.756736833319707,
          28.78558825248886,
          28.732039537724887,
          28.46431728248416,
          28.06806892596514,
          26.593132485423215,
          21.050746510972765,
          20.509964352849448,
          20.046228728182808,
          19.770576186434308,
          19.54019709451761,
          19.341218964975138,
          19.165290902694352,
          18.986640413993268,
          18.818064603772143,
          18.65864979573609,
          18.506393251603335,
          18.358665751364676,
          18.215191679974172,
          18.075119271880105,
          17.937760890784755,
          17.804260142841503,
          17.672809335423004,
          17.54300294516745,
          17.414508435907038
         ]
        },
        {
         "name": "BLOCK 00 STOREY 0 WALL 0004_1 DOOR",
         "type": "scatter",
         "x": [
          "2017-07-01T00:00:00",
          "2017-07-01T00:15:00",
          "2017-07-01T00:30:00",
          "2017-07-01T00:45:00",
          "2017-07-01T01:00:00",
          "2017-07-01T01:15:00",
          "2017-07-01T01:30:00",
          "2017-07-01T01:45:00",
          "2017-07-01T02:00:00",
          "2017-07-01T02:15:00",
          "2017-07-01T02:30:00",
          "2017-07-01T02:45:00",
          "2017-07-01T03:00:00",
          "2017-07-01T03:15:00",
          "2017-07-01T03:30:00",
          "2017-07-01T03:45:00",
          "2017-07-01T04:00:00",
          "2017-07-01T04:15:00",
          "2017-07-01T04:30:00",
          "2017-07-01T04:45:00",
          "2017-07-01T05:00:00",
          "2017-07-01T05:15:00",
          "2017-07-01T05:30:00",
          "2017-07-01T05:45:00",
          "2017-07-01T06:00:00",
          "2017-07-01T06:15:00",
          "2017-07-01T06:30:00",
          "2017-07-01T06:45:00",
          "2017-07-01T07:00:00",
          "2017-07-01T07:15:00",
          "2017-07-01T07:30:00",
          "2017-07-01T07:45:00",
          "2017-07-01T08:00:00",
          "2017-07-01T08:15:00",
          "2017-07-01T08:30:00",
          "2017-07-01T08:45:00",
          "2017-07-01T09:00:00",
          "2017-07-01T09:15:00",
          "2017-07-01T09:30:00",
          "2017-07-01T09:45:00",
          "2017-07-01T10:00:00",
          "2017-07-01T10:15:00",
          "2017-07-01T10:30:00",
          "2017-07-01T10:45:00",
          "2017-07-01T11:00:00",
          "2017-07-01T11:15:00",
          "2017-07-01T11:30:00",
          "2017-07-01T11:45:00",
          "2017-07-01T12:00:00",
          "2017-07-01T12:15:00",
          "2017-07-01T12:30:00",
          "2017-07-01T12:45:00",
          "2017-07-01T13:00:00",
          "2017-07-01T13:15:00",
          "2017-07-01T13:30:00",
          "2017-07-01T13:45:00",
          "2017-07-01T14:00:00",
          "2017-07-01T14:15:00",
          "2017-07-01T14:30:00",
          "2017-07-01T14:45:00",
          "2017-07-01T15:00:00",
          "2017-07-01T15:15:00",
          "2017-07-01T15:30:00",
          "2017-07-01T15:45:00",
          "2017-07-01T16:00:00",
          "2017-07-01T16:15:00",
          "2017-07-01T16:30:00",
          "2017-07-01T16:45:00",
          "2017-07-01T17:00:00",
          "2017-07-01T17:15:00",
          "2017-07-01T17:30:00",
          "2017-07-01T17:45:00",
          "2017-07-01T18:00:00",
          "2017-07-01T18:15:00",
          "2017-07-01T18:30:00",
          "2017-07-01T18:45:00",
          "2017-07-01T19:00:00",
          "2017-07-01T19:15:00",
          "2017-07-01T19:30:00",
          "2017-07-01T19:45:00",
          "2017-07-01T20:00:00",
          "2017-07-01T20:15:00",
          "2017-07-01T20:30:00",
          "2017-07-01T20:45:00",
          "2017-07-01T21:00:00",
          "2017-07-01T21:15:00",
          "2017-07-01T21:30:00",
          "2017-07-01T21:45:00",
          "2017-07-01T22:00:00",
          "2017-07-01T22:15:00",
          "2017-07-01T22:30:00",
          "2017-07-01T22:45:00",
          "2017-07-01T23:00:00",
          "2017-07-01T23:15:00",
          "2017-07-01T23:30:00",
          "2017-07-01T23:45:00"
         ],
         "y": [
          25.06703449687766,
          24.986680102684662,
          24.901879656179435,
          24.812858035834925,
          24.72021148247872,
          24.625098254808417,
          24.5280867655922,
          24.42919031990138,
          24.32821008739964,
          24.225617142962225,
          24.119711819428815,
          24.017709031750794,
          23.912053694535718,
          23.804262837902044,
          23.694696534516734,
          23.583554127326817,
          23.470989298669824,
          23.35715016846157,
          23.242159940991613,
          23.12614527080785,
          23.009176354860998,
          22.891544938962184,
          22.773643751191802,
          22.65600700569092,
          22.539362357416913,
          22.42486991264051,
          22.313761409169274,
          22.208042271308965,
          22.107528215154986,
          22.01413624103437,
          21.92912441600812,
          21.853862820339245,
          21.789559453607545,
          21.73545798113936,
          21.69254464752145,
          21.661173827608568,
          21.642408829414467,
          21.63550893645763,
          21.64114818368592,
          21.661960234324543,
          21.692036894308735,
          21.732950304021994,
          21.78428353335514,
          21.845858268237155,
          21.917367615678128,
          21.99814147907433,
          22.08785004626241,
          22.18593010484704,
          22.291667479316043,
          22.4042644353587,
          22.522858524061718,
          22.64660447111753,
          22.77472186933532,
          22.906487768744917,
          23.041250500211493,
          23.17834946864459,
          23.31719649879265,
          23.45764565011156,
          23.594390902646353,
          23.731194061554916,
          23.868255939604445,
          24.004572369595824,
          24.139405256568494,
          24.27214059680075,
          24.402178021516093,
          24.52893209558649,
          24.651835784082195,
          24.770347141637654,
          24.883132419657446,
          24.991225052177885,
          25.093388646775058,
          25.189158525928924,
          25.278075957354773,
          25.359785885279145,
          25.433946607370288,
          25.500247666839343,
          25.558412345117034,
          25.607918051765072,
          25.649083704853197,
          25.681114274064864,
          25.70407398989719,
          25.717878110314,
          25.722586479243933,
          25.71836149891279,
          25.70569031895104,
          25.684844998100164,
          25.655824284953393,
          25.62028134187601,
          25.578125103875767,
          25.529840903077176,
          25.47587427340687,
          25.416596080982657,
          25.35251180716446,
          25.286780514281542,
          25.21698817837613,
          25.143724475095755
         ]
        },
        {
         "name": "BLOCK 01 STOREY 0 WALL 0001",
         "type": "scatter",
         "x": [
          "2017-07-01T00:00:00",
          "2017-07-01T00:15:00",
          "2017-07-01T00:30:00",
          "2017-07-01T00:45:00",
          "2017-07-01T01:00:00",
          "2017-07-01T01:15:00",
          "2017-07-01T01:30:00",
          "2017-07-01T01:45:00",
          "2017-07-01T02:00:00",
          "2017-07-01T02:15:00",
          "2017-07-01T02:30:00",
          "2017-07-01T02:45:00",
          "2017-07-01T03:00:00",
          "2017-07-01T03:15:00",
          "2017-07-01T03:30:00",
          "2017-07-01T03:45:00",
          "2017-07-01T04:00:00",
          "2017-07-01T04:15:00",
          "2017-07-01T04:30:00",
          "2017-07-01T04:45:00",
          "2017-07-01T05:00:00",
          "2017-07-01T05:15:00",
          "2017-07-01T05:30:00",
          "2017-07-01T05:45:00",
          "2017-07-01T06:00:00",
          "2017-07-01T06:15:00",
          "2017-07-01T06:30:00",
          "2017-07-01T06:45:00",
          "2017-07-01T07:00:00",
          "2017-07-01T07:15:00",
          "2017-07-01T07:30:00",
          "2017-07-01T07:45:00",
          "2017-07-01T08:00:00",
          "2017-07-01T08:15:00",
          "2017-07-01T08:30:00",
          "2017-07-01T08:45:00",
          "2017-07-01T09:00:00",
          "2017-07-01T09:15:00",
          "2017-07-01T09:30:00",
          "2017-07-01T09:45:00",
          "2017-07-01T10:00:00",
          "2017-07-01T10:15:00",
          "2017-07-01T10:30:00",
          "2017-07-01T10:45:00",
          "2017-07-01T11:00:00",
          "2017-07-01T11:15:00",
          "2017-07-01T11:30:00",
          "2017-07-01T11:45:00",
          "2017-07-01T12:00:00",
          "2017-07-01T12:15:00",
          "2017-07-01T12:30:00",
          "2017-07-01T12:45:00",
          "2017-07-01T13:00:00",
          "2017-07-01T13:15:00",
          "2017-07-01T13:30:00",
          "2017-07-01T13:45:00",
          "2017-07-01T14:00:00",
          "2017-07-01T14:15:00",
          "2017-07-01T14:30:00",
          "2017-07-01T14:45:00",
          "2017-07-01T15:00:00",
          "2017-07-01T15:15:00",
          "2017-07-01T15:30:00",
          "2017-07-01T15:45:00",
          "2017-07-01T16:00:00",
          "2017-07-01T16:15:00",
          "2017-07-01T16:30:00",
          "2017-07-01T16:45:00",
          "2017-07-01T17:00:00",
          "2017-07-01T17:15:00",
          "2017-07-01T17:30:00",
          "2017-07-01T17:45:00",
          "2017-07-01T18:00:00",
          "2017-07-01T18:15:00",
          "2017-07-01T18:30:00",
          "2017-07-01T18:45:00",
          "2017-07-01T19:00:00",
          "2017-07-01T19:15:00",
          "2017-07-01T19:30:00",
          "2017-07-01T19:45:00",
          "2017-07-01T20:00:00",
          "2017-07-01T20:15:00",
          "2017-07-01T20:30:00",
          "2017-07-01T20:45:00",
          "2017-07-01T21:00:00",
          "2017-07-01T21:15:00",
          "2017-07-01T21:30:00",
          "2017-07-01T21:45:00",
          "2017-07-01T22:00:00",
          "2017-07-01T22:15:00",
          "2017-07-01T22:30:00",
          "2017-07-01T22:45:00",
          "2017-07-01T23:00:00",
          "2017-07-01T23:15:00",
          "2017-07-01T23:30:00",
          "2017-07-01T23:45:00"
         ],
         "y": [
          17.218027950315772,
          16.852886670596646,
          16.479164835202596,
          16.10273801257433,
          15.96564750414788,
          15.837744487339364,
          15.705272201437227,
          15.586711852626514,
          15.46989863616072,
          15.35525722649821,
          15.24208027230176,
          15.129857476268128,
          15.00151733001436,
          14.87240689735358,
          14.74262123759873,
          14.61233720359031,
          14.501527310597513,
          14.392102321222122,
          14.28418714251674,
          20.158788102861212,
          25.490800598679964,
          31.015829069028246,
          35.00243200518854,
          39.14637120527046,
          43.16765633102951,
          46.854948824705275,
          49.45275286875891,
          51.86495644761872,
          53.38036395881184,
          54.43853262464849,
          54.52243226167838,
          54.29681164711531,
          54.383748943709776,
          54.17750795157082,
          53.42433218906303,
          52.25520383660913,
          51.41194806228555,
          50.37107654861114,
          49.02601018736748,
          47.555346348177196,
          46.09150075791958,
          44.511126319407076,
          42.74953415838765,
          40.64435927838872,
          38.29619661378915,
          36.06548485332018,
          34.800689565880376,
          32.80927858443215,
          31.182955378381628,
          31.020845773907283,
          30.924610500351832,
          30.889640337656317,
          30.70479753139331,
          30.548742578002752,
          30.37100194795911,
          30.23307594281159,
          29.95449032717734,
          29.6717879608826,
          29.355913652101815,
          29.034583074907705,
          28.70828973019133,
          28.37741133343404,
          27.86416444876404,
          27.468539015276555,
          27.05828462087908,
          26.645834796961875,
          26.17609289055094,
          25.70336034966253,
          25.219017136739122,
          24.735161496128494,
          24.191308055026987,
          23.650676819411327,
          23.13697877199473,
          22.61432398277706,
          22.05653866027613,
          21.485289377795084,
          20.912517652139073,
          20.18694367222612,
          19.88198472917817,
          19.592034943072534,
          19.439680542022952,
          19.30160286342833,
          19.172091264072147,
          19.049773622453216,
          18.914618430951357,
          18.78301895744809,
          18.654486255694838,
          18.528521382572738,
          18.403936122808478,
          18.280971368764963,
          18.15934073441465,
          18.038795735255405,
          17.920165430248797,
          17.802424463228,
          17.685400045284464,
          17.56894622092135
         ]
        },
        {
         "name": "BLOCK 01 STOREY 0 WALL 0003",
         "type": "scatter",
         "x": [
          "2017-07-01T00:00:00",
          "2017-07-01T00:15:00",
          "2017-07-01T00:30:00",
          "2017-07-01T00:45:00",
          "2017-07-01T01:00:00",
          "2017-07-01T01:15:00",
          "2017-07-01T01:30:00",
          "2017-07-01T01:45:00",
          "2017-07-01T02:00:00",
          "2017-07-01T02:15:00",
          "2017-07-01T02:30:00",
          "2017-07-01T02:45:00",
          "2017-07-01T03:00:00",
          "2017-07-01T03:15:00",
          "2017-07-01T03:30:00",
          "2017-07-01T03:45:00",
          "2017-07-01T04:00:00",
          "2017-07-01T04:15:00",
          "2017-07-01T04:30:00",
          "2017-07-01T04:45:00",
          "2017-07-01T05:00:00",
          "2017-07-01T05:15:00",
          "2017-07-01T05:30:00",
          "2017-07-01T05:45:00",
          "2017-07-01T06:00:00",
          "2017-07-01T06:15:00",
          "2017-07-01T06:30:00",
          "2017-07-01T06:45:00",
          "2017-07-01T07:00:00",
          "2017-07-01T07:15:00",
          "2017-07-01T07:30:00",
          "2017-07-01T07:45:00",
          "2017-07-01T08:00:00",
          "2017-07-01T08:15:00",
          "2017-07-01T08:30:00",
          "2017-07-01T08:45:00",
          "2017-07-01T09:00:00",
          "2017-07-01T09:15:00",
          "2017-07-01T09:30:00",
          "2017-07-01T09:45:00",
          "2017-07-01T10:00:00",
          "2017-07-01T10:15:00",
          "2017-07-01T10:30:00",
          "2017-07-01T10:45:00",
          "2017-07-01T11:00:00",
          "2017-07-01T11:15:00",
          "2017-07-01T11:30:00",
          "2017-07-01T11:45:00",
          "2017-07-01T12:00:00",
          "2017-07-01T12:15:00",
          "2017-07-01T12:30:00",
          "2017-07-01T12:45:00",
          "2017-07-01T13:00:00",
          "2017-07-01T13:15:00",
          "2017-07-01T13:30:00",
          "2017-07-01T13:45:00",
          "2017-07-01T14:00:00",
          "2017-07-01T14:15:00",
          "2017-07-01T14:30:00",
          "2017-07-01T14:45:00",
          "2017-07-01T15:00:00",
          "2017-07-01T15:15:00",
          "2017-07-01T15:30:00",
          "2017-07-01T15:45:00",
          "2017-07-01T16:00:00",
          "2017-07-01T16:15:00",
          "2017-07-01T16:30:00",
          "2017-07-01T16:45:00",
          "2017-07-01T17:00:00",
          "2017-07-01T17:15:00",
          "2017-07-01T17:30:00",
          "2017-07-01T17:45:00",
          "2017-07-01T18:00:00",
          "2017-07-01T18:15:00",
          "2017-07-01T18:30:00",
          "2017-07-01T18:45:00",
          "2017-07-01T19:00:00",
          "2017-07-01T19:15:00",
          "2017-07-01T19:30:00",
          "2017-07-01T19:45:00",
          "2017-07-01T20:00:00",
          "2017-07-01T20:15:00",
          "2017-07-01T20:30:00",
          "2017-07-01T20:45:00",
          "2017-07-01T21:00:00",
          "2017-07-01T21:15:00",
          "2017-07-01T21:30:00",
          "2017-07-01T21:45:00",
          "2017-07-01T22:00:00",
          "2017-07-01T22:15:00",
          "2017-07-01T22:30:00",
          "2017-07-01T22:45:00",
          "2017-07-01T23:00:00",
          "2017-07-01T23:15:00",
          "2017-07-01T23:30:00",
          "2017-07-01T23:45:00"
         ],
         "y": [
          17.543229344393914,
          17.159830165540555,
          16.773230722909737,
          16.386033897472267,
          16.227272479765194,
          16.079889625804974,
          15.945328807845554,
          15.815183596521912,
          15.687961874768352,
          15.563850995568025,
          15.441967686480858,
          15.32165868445835,
          15.185228357217293,
          15.04818851976115,
          14.910441116609904,
          14.77179068599602,
          14.651786373470582,
          14.53249579664553,
          14.413486676455022,
          14.91152598930869,
          15.334947364981153,
          15.840205457317818,
          16.490615691256522,
          17.175230731677786,
          18.034576079503847,
          18.907316434191852,
          19.67812932332497,
          20.456715936482382,
          20.967502452218035,
          21.461392769028315,
          21.839874364812513,
          22.203617487788048,
          22.635112042973017,
          23.055221625977826,
          23.39096119368164,
          23.8943629833972,
          24.261655238852022,
          24.61888763302162,
          24.92060138784075,
          25.21125696989939,
          25.623760030627892,
          26.035374621685687,
          26.420839285393857,
          26.797989784323146,
          27.10879918519408,
          27.165562819207253,
          27.43803999351304,
          27.742811469110475,
          28.27838362933341,
          30.13036924592366,
          32.00638343743317,
          33.878291828863375,
          35.36044531960525,
          36.724359492566506,
          38.190184204972205,
          39.281414573298015,
          40.41182923268682,
          41.463572670561895,
          42.33050600914084,
          43.09641685224362,
          43.758603229461556,
          44.31533676476419,
          44.80771922983007,
          44.99946604954258,
          44.93945643599495,
          44.75883141200736,
          44.19368872761613,
          43.50713331460778,
          42.61975236223308,
          41.632118040568834,
          40.08956361591009,
          38.46437171818741,
          37.70236618953918,
          36.82282865465474,
          35.63553511265784,
          34.34548890057266,
          31.246392361027254,
          22.614516037526034,
          21.851887496500062,
          21.21528507084191,
          20.825103883231105,
          20.50458303511987,
          20.232420037721045,
          19.995194565209697,
          19.76261444135314,
          19.549519542274613,
          19.35175858432304,
          19.1662362398837,
          18.991276036190136,
          18.824003598137967,
          18.663000542209666,
          18.50714528230908,
          18.355622150315497,
          18.208007196692535,
          18.063855638163748,
          17.922436684081948
         ]
        },
        {
         "name": "BLOCK 01 STOREY 0 WALL 0004",
         "type": "scatter",
         "x": [
          "2017-07-01T00:00:00",
          "2017-07-01T00:15:00",
          "2017-07-01T00:30:00",
          "2017-07-01T00:45:00",
          "2017-07-01T01:00:00",
          "2017-07-01T01:15:00",
          "2017-07-01T01:30:00",
          "2017-07-01T01:45:00",
          "2017-07-01T02:00:00",
          "2017-07-01T02:15:00",
          "2017-07-01T02:30:00",
          "2017-07-01T02:45:00",
          "2017-07-01T03:00:00",
          "2017-07-01T03:15:00",
          "2017-07-01T03:30:00",
          "2017-07-01T03:45:00",
          "2017-07-01T04:00:00",
          "2017-07-01T04:15:00",
          "2017-07-01T04:30:00",
          "2017-07-01T04:45:00",
          "2017-07-01T05:00:00",
          "2017-07-01T05:15:00",
          "2017-07-01T05:30:00",
          "2017-07-01T05:45:00",
          "2017-07-01T06:00:00",
          "2017-07-01T06:15:00",
          "2017-07-01T06:30:00",
          "2017-07-01T06:45:00",
          "2017-07-01T07:00:00",
          "2017-07-01T07:15:00",
          "2017-07-01T07:30:00",
          "2017-07-01T07:45:00",
          "2017-07-01T08:00:00",
          "2017-07-01T08:15:00",
          "2017-07-01T08:30:00",
          "2017-07-01T08:45:00",
          "2017-07-01T09:00:00",
          "2017-07-01T09:15:00",
          "2017-07-01T09:30:00",
          "2017-07-01T09:45:00",
          "2017-07-01T10:00:00",
          "2017-07-01T10:15:00",
          "2017-07-01T10:30:00",
          "2017-07-01T10:45:00",
          "2017-07-01T11:00:00",
          "2017-07-01T11:15:00",
          "2017-07-01T11:30:00",
          "2017-07-01T11:45:00",
          "2017-07-01T12:00:00",
          "2017-07-01T12:15:00",
          "2017-07-01T12:30:00",
          "2017-07-01T12:45:00",
          "2017-07-01T13:00:00",
          "2017-07-01T13:15:00",
          "2017-07-01T13:30:00",
          "2017-07-01T13:45:00",
          "2017-07-01T14:00:00",
          "2017-07-01T14:15:00",
          "2017-07-01T14:30:00",
          "2017-07-01T14:45:00",
          "2017-07-01T15:00:00",
          "2017-07-01T15:15:00",
          "2017-07-01T15:30:00",
          "2017-07-01T15:45:00",
          "2017-07-01T16:00:00",
          "2017-07-01T16:15:00",
          "2017-07-01T16:30:00",
          "2017-07-01T16:45:00",
          "2017-07-01T17:00:00",
          "2017-07-01T17:15:00",
          "2017-07-01T17:30:00",
          "2017-07-01T17:45:00",
          "2017-07-01T18:00:00",
          "2017-07-01T18:15:00",
          "2017-07-01T18:30:00",
          "2017-07-01T18:45:00",
          "2017-07-01T19:00:00",
          "2017-07-01T19:15:00",
          "2017-07-01T19:30:00",
          "2017-07-01T19:45:00",
          "2017-07-01T20:00:00",
          "2017-07-01T20:15:00",
          "2017-07-01T20:30:00",
          "2017-07-01T20:45:00",
          "2017-07-01T21:00:00",
          "2017-07-01T21:15:00",
          "2017-07-01T21:30:00",
          "2017-07-01T21:45:00",
          "2017-07-01T22:00:00",
          "2017-07-01T22:15:00",
          "2017-07-01T22:30:00",
          "2017-07-01T22:45:00",
          "2017-07-01T23:00:00",
          "2017-07-01T23:15:00",
          "2017-07-01T23:30:00",
          "2017-07-01T23:45:00"
         ],
         "y": [
          17.080580759158483,
          16.71457599544565,
          16.342674695658978,
          15.960736857579105,
          15.820215493787186,
          15.691457007374737,
          15.570443368769135,
          15.454761903202105,
          15.340815942887325,
          15.229073628147772,
          15.118774612937443,
          15.009321704834527,
          14.882965223249592,
          14.755388464769098,
          14.626482638252238,
          14.496091999774729,
          14.385225433482148,
          14.274622402661446,
          14.163939673729619,
          14.66720858920043,
          15.092813665911626,
          15.6045990951548,
          16.274781874666242,
          16.972475435748105,
          17.845746622147523,
          18.731816237220688,
          19.514875900221625,
          20.30489117749406,
          20.83078060623313,
          21.338058490838414,
          21.72845608845503,
          22.10276960393444,
          22.542065653783833,
          23.1348872738476,
          24.533831018879372,
          26.056818217322032,
          27.465504387563122,
          28.840954885265074,
          30.09401048831545,
          31.27923988280175,
          32.52189090224014,
          33.68929009362096,
          34.71660798739594,
          35.406842568009345,
          35.96860617446309,
          36.45129400128537,
          36.81268151762281,
          37.11059255198835,
          37.36298230224459,
          37.54050754561395,
          37.600856942232475,
          37.584913967389745,
          37.20619796329606,
          36.759592035179516,
          36.38336571307527,
          35.75689898754437,
          35.01195235077717,
          34.19293179801733,
          33.254419016181565,
          32.25696535455841,
          31.20692538261196,
          30.110849020413088,
          28.795936179941744,
          27.757716833254804,
          27.268754752095006,
          26.80075450357945,
          26.288595566569608,
          25.78365458457573,
          25.27362585888405,
          24.76886481126713,
          24.204759945677395,
          23.64599080748998,
          23.115049443638625,
          22.574302065520225,
          21.996167715410177,
          21.402889521106665,
          20.810582282582114,
          20.05469982385079,
          19.7486861865357,
          19.45816176694936,
          19.30596854827311,
          19.16557887114135,
          19.03552235236755,
          18.913128659349507,
          18.77817106774088,
          18.646917502648186,
          18.518795602086417,
          18.39326962962764,
          18.268844815596527,
          18.145990575615272,
          18.024407262741814,
          17.903834557398383,
          17.785397633550705,
          17.667790272593813,
          17.550828687646185,
          17.434358860992145
         ]
        },
        {
         "name": "BLOCK 01 STOREY 0 WALL 0002_1",
         "type": "scatter",
         "x": [
          "2017-07-01T00:00:00",
          "2017-07-01T00:15:00",
          "2017-07-01T00:30:00",
          "2017-07-01T00:45:00",
          "2017-07-01T01:00:00",
          "2017-07-01T01:15:00",
          "2017-07-01T01:30:00",
          "2017-07-01T01:45:00",
          "2017-07-01T02:00:00",
          "2017-07-01T02:15:00",
          "2017-07-01T02:30:00",
          "2017-07-01T02:45:00",
          "2017-07-01T03:00:00",
          "2017-07-01T03:15:00",
          "2017-07-01T03:30:00",
          "2017-07-01T03:45:00",
          "2017-07-01T04:00:00",
          "2017-07-01T04:15:00",
          "2017-07-01T04:30:00",
          "2017-07-01T04:45:00",
          "2017-07-01T05:00:00",
          "2017-07-01T05:15:00",
          "2017-07-01T05:30:00",
          "2017-07-01T05:45:00",
          "2017-07-01T06:00:00",
          "2017-07-01T06:15:00",
          "2017-07-01T06:30:00",
          "2017-07-01T06:45:00",
          "2017-07-01T07:00:00",
          "2017-07-01T07:15:00",
          "2017-07-01T07:30:00",
          "2017-07-01T07:45:00",
          "2017-07-01T08:00:00",
          "2017-07-01T08:15:00",
          "2017-07-01T08:30:00",
          "2017-07-01T08:45:00",
          "2017-07-01T09:00:00",
          "2017-07-01T09:15:00",
          "2017-07-01T09:30:00",
          "2017-07-01T09:45:00",
          "2017-07-01T10:00:00",
          "2017-07-01T10:15:00",
          "2017-07-01T10:30:00",
          "2017-07-01T10:45:00",
          "2017-07-01T11:00:00",
          "2017-07-01T11:15:00",
          "2017-07-01T11:30:00",
          "2017-07-01T11:45:00",
          "2017-07-01T12:00:00",
          "2017-07-01T12:15:00",
          "2017-07-01T12:30:00",
          "2017-07-01T12:45:00",
          "2017-07-01T13:00:00",
          "2017-07-01T13:15:00",
          "2017-07-01T13:30:00",
          "2017-07-01T13:45:00",
          "2017-07-01T14:00:00",
          "2017-07-01T14:15:00",
          "2017-07-01T14:30:00",
          "2017-07-01T14:45:00",
          "2017-07-01T15:00:00",
          "2017-07-01T15:15:00",
          "2017-07-01T15:30:00",
          "2017-07-01T15:45:00",
          "2017-07-01T16:00:00",
          "2017-07-01T16:15:00",
          "2017-07-01T16:30:00",
          "2017-07-01T16:45:00",
          "2017-07-01T17:00:00",
          "2017-07-01T17:15:00",
          "2017-07-01T17:30:00",
          "2017-07-01T17:45:00",
          "2017-07-01T18:00:00",
          "2017-07-01T18:15:00",
          "2017-07-01T18:30:00",
          "2017-07-01T18:45:00",
          "2017-07-01T19:00:00",
          "2017-07-01T19:15:00",
          "2017-07-01T19:30:00",
          "2017-07-01T19:45:00",
          "2017-07-01T20:00:00",
          "2017-07-01T20:15:00",
          "2017-07-01T20:30:00",
          "2017-07-01T20:45:00",
          "2017-07-01T21:00:00",
          "2017-07-01T21:15:00",
          "2017-07-01T21:30:00",
          "2017-07-01T21:45:00",
          "2017-07-01T22:00:00",
          "2017-07-01T22:15:00",
          "2017-07-01T22:30:00",
          "2017-07-01T22:45:00",
          "2017-07-01T23:00:00",
          "2017-07-01T23:15:00",
          "2017-07-01T23:30:00",
          "2017-07-01T23:45:00"
         ],
         "y": [
          24.595422072991678,
          24.517333619099045,
          24.43694847382319,
          24.35407205805202,
          24.26842393801411,
          24.1800149900603,
          24.08919994982277,
          23.99779423849704,
          23.904136537678323,
          23.808589491917257,
          23.71114311163505,
          23.61184673907218,
          23.51077881425485,
          23.408006364716513,
          23.303612370609812,
          23.197691159608116,
          23.09033810684592,
          22.98166653844594,
          22.871773966376363,
          22.76073221942913,
          22.648710546105136,
          22.536144314276747,
          22.42355653827291,
          22.311604080232332,
          22.201089309499096,
          22.09347147566529,
          21.99009889964599,
          21.892827488718197,
          21.801420092460344,
          21.717317451634607,
          21.64132874572586,
          21.57408755232408,
          21.51653181352738,
          21.468463913974993,
          21.43081174999789,
          21.404068569765787,
          21.38932386095535,
          21.385783883213513,
          21.39450369034269,
          21.41544702592381,
          21.44518861558418,
          21.484783264096254,
          21.53426616155817,
          21.59366791650498,
          21.66295778316515,
          21.741985343302296,
          21.83066975699024,
          21.928614953343555,
          22.03523156735156,
          22.14900001626177,
          22.26860484169873,
          22.39306835955333,
          22.52163601709111,
          22.653605255384498,
          22.788431920328534,
          22.923832067072855,
          23.05832487833781,
          23.19480091805378,
          23.3315908243795,
          23.46763048375243,
          23.602224132512408,
          23.734798220746068,
          23.864813000260174,
          23.99174347681637,
          24.115078640169802,
          24.234307800838998,
          24.348932246926875,
          24.45847541661931,
          24.56170653441587,
          24.65958782103767,
          24.751020717454917,
          24.835656538972454,
          24.913174880104684,
          24.983500710530468,
          25.046534522111777,
          25.102143713767756,
          25.150223427791463,
          25.1902288002563,
          25.222120780019647,
          25.24512584754251,
          25.25952147076978,
          25.265612961025184,
          25.263741949755318,
          25.254154937719328,
          25.23711382480417,
          25.212894391339987,
          25.18118329024645,
          25.143641060860304,
          25.10019899565943,
          25.05160959337774,
          24.99918562550412,
          24.94170569834217,
          24.8798323815818,
          24.813970251933693,
          24.744462057645908,
          24.671610928814083
         ]
        },
        {
         "name": "BLOCK 01 STOREY 0 FLOOR 0001",
         "type": "scatter",
         "x": [
          "2017-07-01T00:00:00",
          "2017-07-01T00:15:00",
          "2017-07-01T00:30:00",
          "2017-07-01T00:45:00",
          "2017-07-01T01:00:00",
          "2017-07-01T01:15:00",
          "2017-07-01T01:30:00",
          "2017-07-01T01:45:00",
          "2017-07-01T02:00:00",
          "2017-07-01T02:15:00",
          "2017-07-01T02:30:00",
          "2017-07-01T02:45:00",
          "2017-07-01T03:00:00",
          "2017-07-01T03:15:00",
          "2017-07-01T03:30:00",
          "2017-07-01T03:45:00",
          "2017-07-01T04:00:00",
          "2017-07-01T04:15:00",
          "2017-07-01T04:30:00",
          "2017-07-01T04:45:00",
          "2017-07-01T05:00:00",
          "2017-07-01T05:15:00",
          "2017-07-01T05:30:00",
          "2017-07-01T05:45:00",
          "2017-07-01T06:00:00",
          "2017-07-01T06:15:00",
          "2017-07-01T06:30:00",
          "2017-07-01T06:45:00",
          "2017-07-01T07:00:00",
          "2017-07-01T07:15:00",
          "2017-07-01T07:30:00",
          "2017-07-01T07:45:00",
          "2017-07-01T08:00:00",
          "2017-07-01T08:15:00",
          "2017-07-01T08:30:00",
          "2017-07-01T08:45:00",
          "2017-07-01T09:00:00",
          "2017-07-01T09:15:00",
          "2017-07-01T09:30:00",
          "2017-07-01T09:45:00",
          "2017-07-01T10:00:00",
          "2017-07-01T10:15:00",
          "2017-07-01T10:30:00",
          "2017-07-01T10:45:00",
          "2017-07-01T11:00:00",
          "2017-07-01T11:15:00",
          "2017-07-01T11:30:00",
          "2017-07-01T11:45:00",
          "2017-07-01T12:00:00",
          "2017-07-01T12:15:00",
          "2017-07-01T12:30:00",
          "2017-07-01T12:45:00",
          "2017-07-01T13:00:00",
          "2017-07-01T13:15:00",
          "2017-07-01T13:30:00",
          "2017-07-01T13:45:00",
          "2017-07-01T14:00:00",
          "2017-07-01T14:15:00",
          "2017-07-01T14:30:00",
          "2017-07-01T14:45:00",
          "2017-07-01T15:00:00",
          "2017-07-01T15:15:00",
          "2017-07-01T15:30:00",
          "2017-07-01T15:45:00",
          "2017-07-01T16:00:00",
          "2017-07-01T16:15:00",
          "2017-07-01T16:30:00",
          "2017-07-01T16:45:00",
          "2017-07-01T17:00:00",
          "2017-07-01T17:15:00",
          "2017-07-01T17:30:00",
          "2017-07-01T17:45:00",
          "2017-07-01T18:00:00",
          "2017-07-01T18:15:00",
          "2017-07-01T18:30:00",
          "2017-07-01T18:45:00",
          "2017-07-01T19:00:00",
          "2017-07-01T19:15:00",
          "2017-07-01T19:30:00",
          "2017-07-01T19:45:00",
          "2017-07-01T20:00:00",
          "2017-07-01T20:15:00",
          "2017-07-01T20:30:00",
          "2017-07-01T20:45:00",
          "2017-07-01T21:00:00",
          "2017-07-01T21:15:00",
          "2017-07-01T21:30:00",
          "2017-07-01T21:45:00",
          "2017-07-01T22:00:00",
          "2017-07-01T22:15:00",
          "2017-07-01T22:30:00",
          "2017-07-01T22:45:00",
          "2017-07-01T23:00:00",
          "2017-07-01T23:15:00",
          "2017-07-01T23:30:00",
          "2017-07-01T23:45:00"
         ],
         "y": [
          18,
          18,
          18,
          18,
          18,
          18,
          18,
          18,
          18,
          18,
          18,
          18,
          18,
          18,
          18,
          18,
          18,
          18,
          18,
          18,
          18,
          18,
          18,
          18,
          18,
          18,
          18,
          18,
          18,
          18,
          18,
          18,
          18,
          18,
          18,
          18,
          18,
          18,
          18,
          18,
          18,
          18,
          18,
          18,
          18,
          18,
          18,
          18,
          18,
          18,
          18,
          18,
          18,
          18,
          18,
          18,
          18,
          18,
          18,
          18,
          18,
          18,
          18,
          18,
          18,
          18,
          18,
          18,
          18,
          18,
          18,
          18,
          18,
          18,
          18,
          18,
          18,
          18,
          18,
          18,
          18,
          18,
          18,
          18,
          18,
          18,
          18,
          18,
          18,
          18,
          18,
          18,
          18,
          18,
          18,
          18
         ]
        },
        {
         "name": "BLOCK 01 STOREY 0 ROOF 0001",
         "type": "scatter",
         "x": [
          "2017-07-01T00:00:00",
          "2017-07-01T00:15:00",
          "2017-07-01T00:30:00",
          "2017-07-01T00:45:00",
          "2017-07-01T01:00:00",
          "2017-07-01T01:15:00",
          "2017-07-01T01:30:00",
          "2017-07-01T01:45:00",
          "2017-07-01T02:00:00",
          "2017-07-01T02:15:00",
          "2017-07-01T02:30:00",
          "2017-07-01T02:45:00",
          "2017-07-01T03:00:00",
          "2017-07-01T03:15:00",
          "2017-07-01T03:30:00",
          "2017-07-01T03:45:00",
          "2017-07-01T04:00:00",
          "2017-07-01T04:15:00",
          "2017-07-01T04:30:00",
          "2017-07-01T04:45:00",
          "2017-07-01T05:00:00",
          "2017-07-01T05:15:00",
          "2017-07-01T05:30:00",
          "2017-07-01T05:45:00",
          "2017-07-01T06:00:00",
          "2017-07-01T06:15:00",
          "2017-07-01T06:30:00",
          "2017-07-01T06:45:00",
          "2017-07-01T07:00:00",
          "2017-07-01T07:15:00",
          "2017-07-01T07:30:00",
          "2017-07-01T07:45:00",
          "2017-07-01T08:00:00",
          "2017-07-01T08:15:00",
          "2017-07-01T08:30:00",
          "2017-07-01T08:45:00",
          "2017-07-01T09:00:00",
          "2017-07-01T09:15:00",
          "2017-07-01T09:30:00",
          "2017-07-01T09:45:00",
          "2017-07-01T10:00:00",
          "2017-07-01T10:15:00",
          "2017-07-01T10:30:00",
          "2017-07-01T10:45:00",
          "2017-07-01T11:00:00",
          "2017-07-01T11:15:00",
          "2017-07-01T11:30:00",
          "2017-07-01T11:45:00",
          "2017-07-01T12:00:00",
          "2017-07-01T12:15:00",
          "2017-07-01T12:30:00",
          "2017-07-01T12:45:00",
          "2017-07-01T13:00:00",
          "2017-07-01T13:15:00",
          "2017-07-01T13:30:00",
          "2017-07-01T13:45:00",
          "2017-07-01T14:00:00",
          "2017-07-01T14:15:00",
          "2017-07-01T14:30:00",
          "2017-07-01T14:45:00",
          "2017-07-01T15:00:00",
          "2017-07-01T15:15:00",
          "2017-07-01T15:30:00",
          "2017-07-01T15:45:00",
          "2017-07-01T16:00:00",
          "2017-07-01T16:15:00",
          "2017-07-01T16:30:00",
          "2017-07-01T16:45:00",
          "2017-07-01T17:00:00",
          "2017-07-01T17:15:00",
          "2017-07-01T17:30:00",
          "2017-07-01T17:45:00",
          "2017-07-01T18:00:00",
          "2017-07-01T18:15:00",
          "2017-07-01T18:30:00",
          "2017-07-01T18:45:00",
          "2017-07-01T19:00:00",
          "2017-07-01T19:15:00",
          "2017-07-01T19:30:00",
          "2017-07-01T19:45:00",
          "2017-07-01T20:00:00",
          "2017-07-01T20:15:00",
          "2017-07-01T20:30:00",
          "2017-07-01T20:45:00",
          "2017-07-01T21:00:00",
          "2017-07-01T21:15:00",
          "2017-07-01T21:30:00",
          "2017-07-01T21:45:00",
          "2017-07-01T22:00:00",
          "2017-07-01T22:15:00",
          "2017-07-01T22:30:00",
          "2017-07-01T22:45:00",
          "2017-07-01T23:00:00",
          "2017-07-01T23:15:00",
          "2017-07-01T23:30:00",
          "2017-07-01T23:45:00"
         ],
         "y": [
          14.610055226529198,
          14.091462927840666,
          13.550617144089024,
          12.987547268479034,
          12.759593237312515,
          12.541998673304988,
          12.33209669942541,
          12.126617083775264,
          11.902437096024409,
          11.67549730031059,
          11.444725860616993,
          11.20943515848884,
          10.946889578192751,
          10.677675591245421,
          10.402150000505593,
          10.121460791434679,
          9.888715815260035,
          9.658047134033747,
          9.431639545463707,
          10.312143139838952,
          11.476541031819616,
          13.229016640074475,
          15.53814376096198,
          18.345199275886394,
          21.155457871837314,
          24.243512539493175,
          27.011818873500623,
          29.892072872592887,
          32.352015406311,
          34.66806746163315,
          36.44097698526124,
          38.07667360218753,
          40.047235698464014,
          41.92430356352541,
          43.47027986343973,
          44.948450778781265,
          46.538186660542024,
          48.04387638053937,
          49.276335090468024,
          50.4327921981022,
          51.633393442991625,
          52.73849967213161,
          53.60009852310474,
          54.37593265174591,
          54.01688270059359,
          53.6471343101357,
          53.09466137169147,
          52.514716270493324,
          52.567983010708474,
          52.529038685306304,
          52.32628459414336,
          52.05903413702265,
          50.959557388319496,
          49.856333569995236,
          48.630106296819,
          47.40433679993754,
          46.558507192485536,
          45.658877048727895,
          44.59389419697139,
          43.491580160513045,
          42.353666972237676,
          41.185036587766525,
          39.84795068893367,
          38.49652697712013,
          37.048730263518806,
          35.61197000433941,
          34.021247713480044,
          32.46990391245024,
          30.919042028764434,
          29.43141664249064,
          27.820476004250615,
          26.317521377354243,
          25.11084608778051,
          23.90960222036866,
          22.65607385213158,
          21.415155755903935,
          20.237666763407617,
          19.016969395881283,
          18.615732331632298,
          18.23706210153461,
          18.000899772945868,
          17.7841052794567,
          17.581456046231246,
          17.38912198181733,
          17.187838407575665,
          16.992351400217007,
          16.801339555293172,
          16.613786851711662,
          16.420852600473424,
          16.22850498170572,
          16.03612323535735,
          15.84315018972487,
          15.659182611773714,
          15.475247805895265,
          15.29089641323093,
          15.105704790491462
         ]
        },
        {
         "name": "BLOCK 00 STOREY 0 WALL 0004_1 DOOR PARTNER",
         "type": "scatter",
         "x": [
          "2017-07-01T00:00:00",
          "2017-07-01T00:15:00",
          "2017-07-01T00:30:00",
          "2017-07-01T00:45:00",
          "2017-07-01T01:00:00",
          "2017-07-01T01:15:00",
          "2017-07-01T01:30:00",
          "2017-07-01T01:45:00",
          "2017-07-01T02:00:00",
          "2017-07-01T02:15:00",
          "2017-07-01T02:30:00",
          "2017-07-01T02:45:00",
          "2017-07-01T03:00:00",
          "2017-07-01T03:15:00",
          "2017-07-01T03:30:00",
          "2017-07-01T03:45:00",
          "2017-07-01T04:00:00",
          "2017-07-01T04:15:00",
          "2017-07-01T04:30:00",
          "2017-07-01T04:45:00",
          "2017-07-01T05:00:00",
          "2017-07-01T05:15:00",
          "2017-07-01T05:30:00",
          "2017-07-01T05:45:00",
          "2017-07-01T06:00:00",
          "2017-07-01T06:15:00",
          "2017-07-01T06:30:00",
          "2017-07-01T06:45:00",
          "2017-07-01T07:00:00",
          "2017-07-01T07:15:00",
          "2017-07-01T07:30:00",
          "2017-07-01T07:45:00",
          "2017-07-01T08:00:00",
          "2017-07-01T08:15:00",
          "2017-07-01T08:30:00",
          "2017-07-01T08:45:00",
          "2017-07-01T09:00:00",
          "2017-07-01T09:15:00",
          "2017-07-01T09:30:00",
          "2017-07-01T09:45:00",
          "2017-07-01T10:00:00",
          "2017-07-01T10:15:00",
          "2017-07-01T10:30:00",
          "2017-07-01T10:45:00",
          "2017-07-01T11:00:00",
          "2017-07-01T11:15:00",
          "2017-07-01T11:30:00",
          "2017-07-01T11:45:00",
          "2017-07-01T12:00:00",
          "2017-07-01T12:15:00",
          "2017-07-01T12:30:00",
          "2017-07-01T12:45:00",
          "2017-07-01T13:00:00",
          "2017-07-01T13:15:00",
          "2017-07-01T13:30:00",
          "2017-07-01T13:45:00",
          "2017-07-01T14:00:00",
          "2017-07-01T14:15:00",
          "2017-07-01T14:30:00",
          "2017-07-01T14:45:00",
          "2017-07-01T15:00:00",
          "2017-07-01T15:15:00",
          "2017-07-01T15:30:00",
          "2017-07-01T15:45:00",
          "2017-07-01T16:00:00",
          "2017-07-01T16:15:00",
          "2017-07-01T16:30:00",
          "2017-07-01T16:45:00",
          "2017-07-01T17:00:00",
          "2017-07-01T17:15:00",
          "2017-07-01T17:30:00",
          "2017-07-01T17:45:00",
          "2017-07-01T18:00:00",
          "2017-07-01T18:15:00",
          "2017-07-01T18:30:00",
          "2017-07-01T18:45:00",
          "2017-07-01T19:00:00",
          "2017-07-01T19:15:00",
          "2017-07-01T19:30:00",
          "2017-07-01T19:45:00",
          "2017-07-01T20:00:00",
          "2017-07-01T20:15:00",
          "2017-07-01T20:30:00",
          "2017-07-01T20:45:00",
          "2017-07-01T21:00:00",
          "2017-07-01T21:15:00",
          "2017-07-01T21:30:00",
          "2017-07-01T21:45:00",
          "2017-07-01T22:00:00",
          "2017-07-01T22:15:00",
          "2017-07-01T22:30:00",
          "2017-07-01T22:45:00",
          "2017-07-01T23:00:00",
          "2017-07-01T23:15:00",
          "2017-07-01T23:30:00",
          "2017-07-01T23:45:00"
         ],
         "y": [
          24.595422072991788,
          24.517333619099208,
          24.4369484738234,
          24.354072058052264,
          24.268423938014426,
          24.18001499006063,
          24.08919994982313,
          23.99779423849741,
          23.904136537678717,
          23.80858949191764,
          23.711143111635383,
          23.61184673907247,
          23.510778814255055,
          23.408006364716652,
          23.303612370609855,
          23.197691159608073,
          23.090338106845792,
          22.981666538445744,
          22.871773966376143,
          22.760732219428846,
          22.648710546104827,
          22.53614431427641,
          22.423556538272504,
          22.311604080231877,
          22.20108930949859,
          22.093471475664668,
          21.990098899645304,
          21.892827488717415,
          21.801420092459487,
          21.717317451633658,
          21.641328745724834,
          21.574087552323007,
          21.516531813526264,
          21.468463913973824,
          21.43081174999668,
          21.404068569764597,
          21.389323860954192,
          21.38578388321241,
          21.394503690341637,
          21.415447025922827,
          21.44518861558323,
          21.48478326409538,
          21.534266161557337,
          21.593667916504206,
          21.662957783164444,
          21.741985343301696,
          21.830669756989753,
          21.928614953343136,
          22.035231567351243,
          22.149000016261528,
          22.268604841698547,
          22.393068359553183,
          22.52163601709102,
          22.653605255384416,
          22.78843192032847,
          22.923832067072762,
          23.058324878337704,
          23.194800918053645,
          23.33159082437935,
          23.467630483752284,
          23.602224132512244,
          23.734798220745922,
          23.86481300026005,
          23.991743476816247,
          24.115078640169727,
          24.23430780083896,
          24.348932246926857,
          24.458475416619276,
          24.561706534415837,
          24.659587821037594,
          24.751020717454775,
          24.835656538972266,
          24.913174880104467,
          24.983500710530222,
          25.046534522111514,
          25.102143713767465,
          25.150223427791165,
          25.190228800256023,
          25.22212078001944,
          25.245125847542308,
          25.2595214707696,
          25.265612961025017,
          25.263741949755207,
          25.254154937719267,
          25.237113824804155,
          25.21289439134002,
          25.181183290246487,
          25.143641060860364,
          25.100198995659444,
          25.05160959337774,
          24.999185625504058,
          24.941705698342023,
          24.8798323815816,
          24.813970251933366,
          24.74446205764548,
          24.671610928813553
         ]
        },
        {
         "name": "BLOCK 01 STOREY 0 WALL 0004 WINDOW",
         "type": "scatter",
         "x": [
          "2017-07-01T00:00:00",
          "2017-07-01T00:15:00",
          "2017-07-01T00:30:00",
          "2017-07-01T00:45:00",
          "2017-07-01T01:00:00",
          "2017-07-01T01:15:00",
          "2017-07-01T01:30:00",
          "2017-07-01T01:45:00",
          "2017-07-01T02:00:00",
          "2017-07-01T02:15:00",
          "2017-07-01T02:30:00",
          "2017-07-01T02:45:00",
          "2017-07-01T03:00:00",
          "2017-07-01T03:15:00",
          "2017-07-01T03:30:00",
          "2017-07-01T03:45:00",
          "2017-07-01T04:00:00",
          "2017-07-01T04:15:00",
          "2017-07-01T04:30:00",
          "2017-07-01T04:45:00",
          "2017-07-01T05:00:00",
          "2017-07-01T05:15:00",
          "2017-07-01T05:30:00",
          "2017-07-01T05:45:00",
          "2017-07-01T06:00:00",
          "2017-07-01T06:15:00",
          "2017-07-01T06:30:00",
          "2017-07-01T06:45:00",
          "2017-07-01T07:00:00",
          "2017-07-01T07:15:00",
          "2017-07-01T07:30:00",
          "2017-07-01T07:45:00",
          "2017-07-01T08:00:00",
          "2017-07-01T08:15:00",
          "2017-07-01T08:30:00",
          "2017-07-01T08:45:00",
          "2017-07-01T09:00:00",
          "2017-07-01T09:15:00",
          "2017-07-01T09:30:00",
          "2017-07-01T09:45:00",
          "2017-07-01T10:00:00",
          "2017-07-01T10:15:00",
          "2017-07-01T10:30:00",
          "2017-07-01T10:45:00",
          "2017-07-01T11:00:00",
          "2017-07-01T11:15:00",
          "2017-07-01T11:30:00",
          "2017-07-01T11:45:00",
          "2017-07-01T12:00:00",
          "2017-07-01T12:15:00",
          "2017-07-01T12:30:00",
          "2017-07-01T12:45:00",
          "2017-07-01T13:00:00",
          "2017-07-01T13:15:00",
          "2017-07-01T13:30:00",
          "2017-07-01T13:45:00",
          "2017-07-01T14:00:00",
          "2017-07-01T14:15:00",
          "2017-07-01T14:30:00",
          "2017-07-01T14:45:00",
          "2017-07-01T15:00:00",
          "2017-07-01T15:15:00",
          "2017-07-01T15:30:00",
          "2017-07-01T15:45:00",
          "2017-07-01T16:00:00",
          "2017-07-01T16:15:00",
          "2017-07-01T16:30:00",
          "2017-07-01T16:45:00",
          "2017-07-01T17:00:00",
          "2017-07-01T17:15:00",
          "2017-07-01T17:30:00",
          "2017-07-01T17:45:00",
          "2017-07-01T18:00:00",
          "2017-07-01T18:15:00",
          "2017-07-01T18:30:00",
          "2017-07-01T18:45:00",
          "2017-07-01T19:00:00",
          "2017-07-01T19:15:00",
          "2017-07-01T19:30:00",
          "2017-07-01T19:45:00",
          "2017-07-01T20:00:00",
          "2017-07-01T20:15:00",
          "2017-07-01T20:30:00",
          "2017-07-01T20:45:00",
          "2017-07-01T21:00:00",
          "2017-07-01T21:15:00",
          "2017-07-01T21:30:00",
          "2017-07-01T21:45:00",
          "2017-07-01T22:00:00",
          "2017-07-01T22:15:00",
          "2017-07-01T22:30:00",
          "2017-07-01T22:45:00",
          "2017-07-01T23:00:00",
          "2017-07-01T23:15:00",
          "2017-07-01T23:30:00",
          "2017-07-01T23:45:00"
         ],
         "y": [
          17.727121317086585,
          17.379109138300976,
          17.032495302982625,
          16.69594191816111,
          16.600100225767903,
          16.51253160755232,
          16.426118701409678,
          16.33974460733714,
          16.253771715382413,
          16.167393402401615,
          16.08082787160106,
          15.993825378700876,
          15.886756824697386,
          15.778762340953449,
          15.670478950949985,
          15.56201506221339,
          15.472350363168857,
          15.383104194186444,
          15.293756737379283,
          15.356192436652293,
          15.468272007036717,
          15.590953404015067,
          15.752052958605134,
          15.906700363818345,
          16.29972647448068,
          16.678432911864547,
          17.020882041729237,
          17.373299976731346,
          17.60400672008194,
          17.838157188241837,
          18.0422364519344,
          18.260902874135297,
          18.49598978463871,
          18.727636347709563,
          19.080162168568506,
          19.56349112565863,
          20.090928001184636,
          20.640284010622736,
          21.177497824908187,
          21.706229729592906,
          22.360857755452685,
          22.99042543098301,
          23.575257020861955,
          24.060459347292408,
          24.59696152194806,
          25.10729511621122,
          25.579168318790664,
          26.0302638095597,
          26.231371498377598,
          26.412409820312405,
          26.556886604291265,
          26.676855260021284,
          26.653602436366725,
          26.586183146470148,
          26.54979340104444,
          26.41664418856419,
          26.046670759457925,
          25.658781744948556,
          25.243843576081872,
          24.827702263581727,
          24.423897222428536,
          24.050528565055288,
          23.67642548062628,
          23.425905985398686,
          23.231401605606493,
          23.033524373529303,
          22.812941995346478,
          22.585945553829106,
          22.35438656988731,
          22.12260285627883,
          21.86967132890851,
          21.616434831224694,
          21.31522698102151,
          21.011486635598715,
          20.698762079454127,
          20.384975526080893,
          20.119028423081204,
          19.80335828492258,
          19.632724065151194,
          19.45190879667632,
          19.39012889576634,
          19.332934989648493,
          19.274043612209198,
          19.21264440244414,
          19.12879005354739,
          19.041547864941663,
          18.951831212416664,
          18.859915585798433,
          18.76612873358323,
          18.67060822311896,
          18.573542021616788,
          18.475094060313154,
          18.375468941808208,
          18.274809054320144,
          18.17426619797743,
          18.072499327971173
         ]
        }
       ],
       "layout": {
        "template": {
         "data": {
          "bar": [
           {
            "error_x": {
             "color": "#2a3f5f"
            },
            "error_y": {
             "color": "#2a3f5f"
            },
            "marker": {
             "line": {
              "color": "#E5ECF6",
              "width": 0.5
             },
             "pattern": {
              "fillmode": "overlay",
              "size": 10,
              "solidity": 0.2
             }
            },
            "type": "bar"
           }
          ],
          "barpolar": [
           {
            "marker": {
             "line": {
              "color": "#E5ECF6",
              "width": 0.5
             },
             "pattern": {
              "fillmode": "overlay",
              "size": 10,
              "solidity": 0.2
             }
            },
            "type": "barpolar"
           }
          ],
          "carpet": [
           {
            "aaxis": {
             "endlinecolor": "#2a3f5f",
             "gridcolor": "white",
             "linecolor": "white",
             "minorgridcolor": "white",
             "startlinecolor": "#2a3f5f"
            },
            "baxis": {
             "endlinecolor": "#2a3f5f",
             "gridcolor": "white",
             "linecolor": "white",
             "minorgridcolor": "white",
             "startlinecolor": "#2a3f5f"
            },
            "type": "carpet"
           }
          ],
          "choropleth": [
           {
            "colorbar": {
             "outlinewidth": 0,
             "ticks": ""
            },
            "type": "choropleth"
           }
          ],
          "contour": [
           {
            "colorbar": {
             "outlinewidth": 0,
             "ticks": ""
            },
            "colorscale": [
             [
              0,
              "#0d0887"
             ],
             [
              0.1111111111111111,
              "#46039f"
             ],
             [
              0.2222222222222222,
              "#7201a8"
             ],
             [
              0.3333333333333333,
              "#9c179e"
             ],
             [
              0.4444444444444444,
              "#bd3786"
             ],
             [
              0.5555555555555556,
              "#d8576b"
             ],
             [
              0.6666666666666666,
              "#ed7953"
             ],
             [
              0.7777777777777778,
              "#fb9f3a"
             ],
             [
              0.8888888888888888,
              "#fdca26"
             ],
             [
              1,
              "#f0f921"
             ]
            ],
            "type": "contour"
           }
          ],
          "contourcarpet": [
           {
            "colorbar": {
             "outlinewidth": 0,
             "ticks": ""
            },
            "type": "contourcarpet"
           }
          ],
          "heatmap": [
           {
            "colorbar": {
             "outlinewidth": 0,
             "ticks": ""
            },
            "colorscale": [
             [
              0,
              "#0d0887"
             ],
             [
              0.1111111111111111,
              "#46039f"
             ],
             [
              0.2222222222222222,
              "#7201a8"
             ],
             [
              0.3333333333333333,
              "#9c179e"
             ],
             [
              0.4444444444444444,
              "#bd3786"
             ],
             [
              0.5555555555555556,
              "#d8576b"
             ],
             [
              0.6666666666666666,
              "#ed7953"
             ],
             [
              0.7777777777777778,
              "#fb9f3a"
             ],
             [
              0.8888888888888888,
              "#fdca26"
             ],
             [
              1,
              "#f0f921"
             ]
            ],
            "type": "heatmap"
           }
          ],
          "heatmapgl": [
           {
            "colorbar": {
             "outlinewidth": 0,
             "ticks": ""
            },
            "colorscale": [
             [
              0,
              "#0d0887"
             ],
             [
              0.1111111111111111,
              "#46039f"
             ],
             [
              0.2222222222222222,
              "#7201a8"
             ],
             [
              0.3333333333333333,
              "#9c179e"
             ],
             [
              0.4444444444444444,
              "#bd3786"
             ],
             [
              0.5555555555555556,
              "#d8576b"
             ],
             [
              0.6666666666666666,
              "#ed7953"
             ],
             [
              0.7777777777777778,
              "#fb9f3a"
             ],
             [
              0.8888888888888888,
              "#fdca26"
             ],
             [
              1,
              "#f0f921"
             ]
            ],
            "type": "heatmapgl"
           }
          ],
          "histogram": [
           {
            "marker": {
             "pattern": {
              "fillmode": "overlay",
              "size": 10,
              "solidity": 0.2
             }
            },
            "type": "histogram"
           }
          ],
          "histogram2d": [
           {
            "colorbar": {
             "outlinewidth": 0,
             "ticks": ""
            },
            "colorscale": [
             [
              0,
              "#0d0887"
             ],
             [
              0.1111111111111111,
              "#46039f"
             ],
             [
              0.2222222222222222,
              "#7201a8"
             ],
             [
              0.3333333333333333,
              "#9c179e"
             ],
             [
              0.4444444444444444,
              "#bd3786"
             ],
             [
              0.5555555555555556,
              "#d8576b"
             ],
             [
              0.6666666666666666,
              "#ed7953"
             ],
             [
              0.7777777777777778,
              "#fb9f3a"
             ],
             [
              0.8888888888888888,
              "#fdca26"
             ],
             [
              1,
              "#f0f921"
             ]
            ],
            "type": "histogram2d"
           }
          ],
          "histogram2dcontour": [
           {
            "colorbar": {
             "outlinewidth": 0,
             "ticks": ""
            },
            "colorscale": [
             [
              0,
              "#0d0887"
             ],
             [
              0.1111111111111111,
              "#46039f"
             ],
             [
              0.2222222222222222,
              "#7201a8"
             ],
             [
              0.3333333333333333,
              "#9c179e"
             ],
             [
              0.4444444444444444,
              "#bd3786"
             ],
             [
              0.5555555555555556,
              "#d8576b"
             ],
             [
              0.6666666666666666,
              "#ed7953"
             ],
             [
              0.7777777777777778,
              "#fb9f3a"
             ],
             [
              0.8888888888888888,
              "#fdca26"
             ],
             [
              1,
              "#f0f921"
             ]
            ],
            "type": "histogram2dcontour"
           }
          ],
          "mesh3d": [
           {
            "colorbar": {
             "outlinewidth": 0,
             "ticks": ""
            },
            "type": "mesh3d"
           }
          ],
          "parcoords": [
           {
            "line": {
             "colorbar": {
              "outlinewidth": 0,
              "ticks": ""
             }
            },
            "type": "parcoords"
           }
          ],
          "pie": [
           {
            "automargin": true,
            "type": "pie"
           }
          ],
          "scatter": [
           {
            "fillpattern": {
             "fillmode": "overlay",
             "size": 10,
             "solidity": 0.2
            },
            "type": "scatter"
           }
          ],
          "scatter3d": [
           {
            "line": {
             "colorbar": {
              "outlinewidth": 0,
              "ticks": ""
             }
            },
            "marker": {
             "colorbar": {
              "outlinewidth": 0,
              "ticks": ""
             }
            },
            "type": "scatter3d"
           }
          ],
          "scattercarpet": [
           {
            "marker": {
             "colorbar": {
              "outlinewidth": 0,
              "ticks": ""
             }
            },
            "type": "scattercarpet"
           }
          ],
          "scattergeo": [
           {
            "marker": {
             "colorbar": {
              "outlinewidth": 0,
              "ticks": ""
             }
            },
            "type": "scattergeo"
           }
          ],
          "scattergl": [
           {
            "marker": {
             "colorbar": {
              "outlinewidth": 0,
              "ticks": ""
             }
            },
            "type": "scattergl"
           }
          ],
          "scattermapbox": [
           {
            "marker": {
             "colorbar": {
              "outlinewidth": 0,
              "ticks": ""
             }
            },
            "type": "scattermapbox"
           }
          ],
          "scatterpolar": [
           {
            "marker": {
             "colorbar": {
              "outlinewidth": 0,
              "ticks": ""
             }
            },
            "type": "scatterpolar"
           }
          ],
          "scatterpolargl": [
           {
            "marker": {
             "colorbar": {
              "outlinewidth": 0,
              "ticks": ""
             }
            },
            "type": "scatterpolargl"
           }
          ],
          "scatterternary": [
           {
            "marker": {
             "colorbar": {
              "outlinewidth": 0,
              "ticks": ""
             }
            },
            "type": "scatterternary"
           }
          ],
          "surface": [
           {
            "colorbar": {
             "outlinewidth": 0,
             "ticks": ""
            },
            "colorscale": [
             [
              0,
              "#0d0887"
             ],
             [
              0.1111111111111111,
              "#46039f"
             ],
             [
              0.2222222222222222,
              "#7201a8"
             ],
             [
              0.3333333333333333,
              "#9c179e"
             ],
             [
              0.4444444444444444,
              "#bd3786"
             ],
             [
              0.5555555555555556,
              "#d8576b"
             ],
             [
              0.6666666666666666,
              "#ed7953"
             ],
             [
              0.7777777777777778,
              "#fb9f3a"
             ],
             [
              0.8888888888888888,
              "#fdca26"
             ],
             [
              1,
              "#f0f921"
             ]
            ],
            "type": "surface"
           }
          ],
          "table": [
           {
            "cells": {
             "fill": {
              "color": "#EBF0F8"
             },
             "line": {
              "color": "white"
             }
            },
            "header": {
             "fill": {
              "color": "#C8D4E3"
             },
             "line": {
              "color": "white"
             }
            },
            "type": "table"
           }
          ]
         },
         "layout": {
          "annotationdefaults": {
           "arrowcolor": "#2a3f5f",
           "arrowhead": 0,
           "arrowwidth": 1
          },
          "autotypenumbers": "strict",
          "coloraxis": {
           "colorbar": {
            "outlinewidth": 0,
            "ticks": ""
           }
          },
          "colorscale": {
           "diverging": [
            [
             0,
             "#8e0152"
            ],
            [
             0.1,
             "#c51b7d"
            ],
            [
             0.2,
             "#de77ae"
            ],
            [
             0.3,
             "#f1b6da"
            ],
            [
             0.4,
             "#fde0ef"
            ],
            [
             0.5,
             "#f7f7f7"
            ],
            [
             0.6,
             "#e6f5d0"
            ],
            [
             0.7,
             "#b8e186"
            ],
            [
             0.8,
             "#7fbc41"
            ],
            [
             0.9,
             "#4d9221"
            ],
            [
             1,
             "#276419"
            ]
           ],
           "sequential": [
            [
             0,
             "#0d0887"
            ],
            [
             0.1111111111111111,
             "#46039f"
            ],
            [
             0.2222222222222222,
             "#7201a8"
            ],
            [
             0.3333333333333333,
             "#9c179e"
            ],
            [
             0.4444444444444444,
             "#bd3786"
            ],
            [
             0.5555555555555556,
             "#d8576b"
            ],
            [
             0.6666666666666666,
             "#ed7953"
            ],
            [
             0.7777777777777778,
             "#fb9f3a"
            ],
            [
             0.8888888888888888,
             "#fdca26"
            ],
            [
             1,
             "#f0f921"
            ]
           ],
           "sequentialminus": [
            [
             0,
             "#0d0887"
            ],
            [
             0.1111111111111111,
             "#46039f"
            ],
            [
             0.2222222222222222,
             "#7201a8"
            ],
            [
             0.3333333333333333,
             "#9c179e"
            ],
            [
             0.4444444444444444,
             "#bd3786"
            ],
            [
             0.5555555555555556,
             "#d8576b"
            ],
            [
             0.6666666666666666,
             "#ed7953"
            ],
            [
             0.7777777777777778,
             "#fb9f3a"
            ],
            [
             0.8888888888888888,
             "#fdca26"
            ],
            [
             1,
             "#f0f921"
            ]
           ]
          },
          "colorway": [
           "#636efa",
           "#EF553B",
           "#00cc96",
           "#ab63fa",
           "#FFA15A",
           "#19d3f3",
           "#FF6692",
           "#B6E880",
           "#FF97FF",
           "#FECB52"
          ],
          "font": {
           "color": "#2a3f5f"
          },
          "geo": {
           "bgcolor": "white",
           "lakecolor": "white",
           "landcolor": "#E5ECF6",
           "showlakes": true,
           "showland": true,
           "subunitcolor": "white"
          },
          "hoverlabel": {
           "align": "left"
          },
          "hovermode": "closest",
          "mapbox": {
           "style": "light"
          },
          "paper_bgcolor": "white",
          "plot_bgcolor": "#E5ECF6",
          "polar": {
           "angularaxis": {
            "gridcolor": "white",
            "linecolor": "white",
            "ticks": ""
           },
           "bgcolor": "#E5ECF6",
           "radialaxis": {
            "gridcolor": "white",
            "linecolor": "white",
            "ticks": ""
           }
          },
          "scene": {
           "xaxis": {
            "backgroundcolor": "#E5ECF6",
            "gridcolor": "white",
            "gridwidth": 2,
            "linecolor": "white",
            "showbackground": true,
            "ticks": "",
            "zerolinecolor": "white"
           },
           "yaxis": {
            "backgroundcolor": "#E5ECF6",
            "gridcolor": "white",
            "gridwidth": 2,
            "linecolor": "white",
            "showbackground": true,
            "ticks": "",
            "zerolinecolor": "white"
           },
           "zaxis": {
            "backgroundcolor": "#E5ECF6",
            "gridcolor": "white",
            "gridwidth": 2,
            "linecolor": "white",
            "showbackground": true,
            "ticks": "",
            "zerolinecolor": "white"
           }
          },
          "shapedefaults": {
           "line": {
            "color": "#2a3f5f"
           }
          },
          "ternary": {
           "aaxis": {
            "gridcolor": "white",
            "linecolor": "white",
            "ticks": ""
           },
           "baxis": {
            "gridcolor": "white",
            "linecolor": "white",
            "ticks": ""
           },
           "bgcolor": "#E5ECF6",
           "caxis": {
            "gridcolor": "white",
            "linecolor": "white",
            "ticks": ""
           }
          },
          "title": {
           "x": 0.05
          },
          "xaxis": {
           "automargin": true,
           "gridcolor": "white",
           "linecolor": "white",
           "ticks": "",
           "title": {
            "standoff": 15
           },
           "zerolinecolor": "white",
           "zerolinewidth": 2
          },
          "yaxis": {
           "automargin": true,
           "gridcolor": "white",
           "linecolor": "white",
           "ticks": "",
           "title": {
            "standoff": 15
           },
           "zerolinecolor": "white",
           "zerolinewidth": 2
          }
         }
        },
        "title": {
         "text": "Surface Outside Face Temperature [C] <br><sup> 7/1 to 7/1 between 0 and 23 @4 </sup>"
        }
       }
      }
     },
     "metadata": {},
     "output_type": "display_data"
    }
   ],
   "source": [
    "ez.plt.get_collection_for_variable(ez.eligible_vars.surf_outside_temp)\n",
    "ez.plt.create_plot()"
   ]
  },
  {
   "cell_type": "code",
   "execution_count": 14,
   "metadata": {},
   "outputs": [
    {
     "data": {
      "application/vnd.plotly.v1+json": {
       "config": {
        "plotlyServerURL": "https://plotly.com"
       },
       "data": [
        {
         "name": "BLOCK 00 STOREY 0 WALL 0001",
         "type": "scatter",
         "x": [
          "2017-07-01T00:00:00",
          "2017-07-01T00:15:00",
          "2017-07-01T00:30:00",
          "2017-07-01T00:45:00",
          "2017-07-01T01:00:00",
          "2017-07-01T01:15:00",
          "2017-07-01T01:30:00",
          "2017-07-01T01:45:00",
          "2017-07-01T02:00:00",
          "2017-07-01T02:15:00",
          "2017-07-01T02:30:00",
          "2017-07-01T02:45:00",
          "2017-07-01T03:00:00",
          "2017-07-01T03:15:00",
          "2017-07-01T03:30:00",
          "2017-07-01T03:45:00",
          "2017-07-01T04:00:00",
          "2017-07-01T04:15:00",
          "2017-07-01T04:30:00",
          "2017-07-01T04:45:00",
          "2017-07-01T05:00:00",
          "2017-07-01T05:15:00",
          "2017-07-01T05:30:00",
          "2017-07-01T05:45:00",
          "2017-07-01T06:00:00",
          "2017-07-01T06:15:00",
          "2017-07-01T06:30:00",
          "2017-07-01T06:45:00",
          "2017-07-01T07:00:00",
          "2017-07-01T07:15:00",
          "2017-07-01T07:30:00",
          "2017-07-01T07:45:00",
          "2017-07-01T08:00:00",
          "2017-07-01T08:15:00",
          "2017-07-01T08:30:00",
          "2017-07-01T08:45:00",
          "2017-07-01T09:00:00",
          "2017-07-01T09:15:00",
          "2017-07-01T09:30:00",
          "2017-07-01T09:45:00",
          "2017-07-01T10:00:00",
          "2017-07-01T10:15:00",
          "2017-07-01T10:30:00",
          "2017-07-01T10:45:00",
          "2017-07-01T11:00:00",
          "2017-07-01T11:15:00",
          "2017-07-01T11:30:00",
          "2017-07-01T11:45:00",
          "2017-07-01T12:00:00",
          "2017-07-01T12:15:00",
          "2017-07-01T12:30:00",
          "2017-07-01T12:45:00",
          "2017-07-01T13:00:00",
          "2017-07-01T13:15:00",
          "2017-07-01T13:30:00",
          "2017-07-01T13:45:00",
          "2017-07-01T14:00:00",
          "2017-07-01T14:15:00",
          "2017-07-01T14:30:00",
          "2017-07-01T14:45:00",
          "2017-07-01T15:00:00",
          "2017-07-01T15:15:00",
          "2017-07-01T15:30:00",
          "2017-07-01T15:45:00",
          "2017-07-01T16:00:00",
          "2017-07-01T16:15:00",
          "2017-07-01T16:30:00",
          "2017-07-01T16:45:00",
          "2017-07-01T17:00:00",
          "2017-07-01T17:15:00",
          "2017-07-01T17:30:00",
          "2017-07-01T17:45:00",
          "2017-07-01T18:00:00",
          "2017-07-01T18:15:00",
          "2017-07-01T18:30:00",
          "2017-07-01T18:45:00",
          "2017-07-01T19:00:00",
          "2017-07-01T19:15:00",
          "2017-07-01T19:30:00",
          "2017-07-01T19:45:00",
          "2017-07-01T20:00:00",
          "2017-07-01T20:15:00",
          "2017-07-01T20:30:00",
          "2017-07-01T20:45:00",
          "2017-07-01T21:00:00",
          "2017-07-01T21:15:00",
          "2017-07-01T21:30:00",
          "2017-07-01T21:45:00",
          "2017-07-01T22:00:00",
          "2017-07-01T22:15:00",
          "2017-07-01T22:30:00",
          "2017-07-01T22:45:00",
          "2017-07-01T23:00:00",
          "2017-07-01T23:15:00",
          "2017-07-01T23:30:00",
          "2017-07-01T23:45:00"
         ],
         "y": [
          0,
          0,
          0,
          0,
          0,
          0,
          0,
          0,
          0,
          0,
          0,
          0,
          0,
          0,
          0,
          0,
          0,
          0,
          0,
          164.99097727976962,
          287.9186334971599,
          399.0679404941687,
          462.07764962121115,
          525.3276913997514,
          587.4668235043856,
          646.9102166936309,
          683.7777627539291,
          717.3366416600817,
          747.3045920819568,
          773.349693832364,
          781.6535233139737,
          785.947019130707,
          786.089168554094,
          781.9356351478413,
          765.6763445081841,
          738.3983686306415,
          714.8753151153691,
          687.332096118646,
          651.4114542824562,
          612.1299963952489,
          569.6102580060096,
          523.9885605588858,
          473.0480298564209,
          410.92690119288784,
          357.26951291453037,
          302.0392454669728,
          244.6278412726152,
          186.87393894826891,
          141.03548936042856,
          141.37691868482688,
          141.647326385293,
          142.1083050534758,
          142.6275061614157,
          143.09611152984678,
          142.92054388178587,
          142.42121577369375,
          141.76237135559273,
          140.93183869749885,
          138.88263642635252,
          136.64527412480714,
          134.2261077803439,
          131.63307109207648,
          122.47043883120655,
          117.81910442296771,
          113.04120384403558,
          108.15276853582851,
          101.14709971402114,
          94.075858002414,
          86.95835598776661,
          79.81128986179712,
          70.37071211197357,
          61.039397433775484,
          51.88500996664635,
          42.835150930748206,
          33.08487790917461,
          23.55559220538086,
          14.278578604307544,
          0,
          0,
          0,
          0,
          0,
          0,
          0,
          0,
          0,
          0,
          0,
          0,
          0,
          0,
          0,
          0,
          0,
          0,
          0
         ]
        },
        {
         "name": "BLOCK 00 STOREY 0 WALL 0002",
         "type": "scatter",
         "x": [
          "2017-07-01T00:00:00",
          "2017-07-01T00:15:00",
          "2017-07-01T00:30:00",
          "2017-07-01T00:45:00",
          "2017-07-01T01:00:00",
          "2017-07-01T01:15:00",
          "2017-07-01T01:30:00",
          "2017-07-01T01:45:00",
          "2017-07-01T02:00:00",
          "2017-07-01T02:15:00",
          "2017-07-01T02:30:00",
          "2017-07-01T02:45:00",
          "2017-07-01T03:00:00",
          "2017-07-01T03:15:00",
          "2017-07-01T03:30:00",
          "2017-07-01T03:45:00",
          "2017-07-01T04:00:00",
          "2017-07-01T04:15:00",
          "2017-07-01T04:30:00",
          "2017-07-01T04:45:00",
          "2017-07-01T05:00:00",
          "2017-07-01T05:15:00",
          "2017-07-01T05:30:00",
          "2017-07-01T05:45:00",
          "2017-07-01T06:00:00",
          "2017-07-01T06:15:00",
          "2017-07-01T06:30:00",
          "2017-07-01T06:45:00",
          "2017-07-01T07:00:00",
          "2017-07-01T07:15:00",
          "2017-07-01T07:30:00",
          "2017-07-01T07:45:00",
          "2017-07-01T08:00:00",
          "2017-07-01T08:15:00",
          "2017-07-01T08:30:00",
          "2017-07-01T08:45:00",
          "2017-07-01T09:00:00",
          "2017-07-01T09:15:00",
          "2017-07-01T09:30:00",
          "2017-07-01T09:45:00",
          "2017-07-01T10:00:00",
          "2017-07-01T10:15:00",
          "2017-07-01T10:30:00",
          "2017-07-01T10:45:00",
          "2017-07-01T11:00:00",
          "2017-07-01T11:15:00",
          "2017-07-01T11:30:00",
          "2017-07-01T11:45:00",
          "2017-07-01T12:00:00",
          "2017-07-01T12:15:00",
          "2017-07-01T12:30:00",
          "2017-07-01T12:45:00",
          "2017-07-01T13:00:00",
          "2017-07-01T13:15:00",
          "2017-07-01T13:30:00",
          "2017-07-01T13:45:00",
          "2017-07-01T14:00:00",
          "2017-07-01T14:15:00",
          "2017-07-01T14:30:00",
          "2017-07-01T14:45:00",
          "2017-07-01T15:00:00",
          "2017-07-01T15:15:00",
          "2017-07-01T15:30:00",
          "2017-07-01T15:45:00",
          "2017-07-01T16:00:00",
          "2017-07-01T16:15:00",
          "2017-07-01T16:30:00",
          "2017-07-01T16:45:00",
          "2017-07-01T17:00:00",
          "2017-07-01T17:15:00",
          "2017-07-01T17:30:00",
          "2017-07-01T17:45:00",
          "2017-07-01T18:00:00",
          "2017-07-01T18:15:00",
          "2017-07-01T18:30:00",
          "2017-07-01T18:45:00",
          "2017-07-01T19:00:00",
          "2017-07-01T19:15:00",
          "2017-07-01T19:30:00",
          "2017-07-01T19:45:00",
          "2017-07-01T20:00:00",
          "2017-07-01T20:15:00",
          "2017-07-01T20:30:00",
          "2017-07-01T20:45:00",
          "2017-07-01T21:00:00",
          "2017-07-01T21:15:00",
          "2017-07-01T21:30:00",
          "2017-07-01T21:45:00",
          "2017-07-01T22:00:00",
          "2017-07-01T22:15:00",
          "2017-07-01T22:30:00",
          "2017-07-01T22:45:00",
          "2017-07-01T23:00:00",
          "2017-07-01T23:15:00",
          "2017-07-01T23:30:00",
          "2017-07-01T23:45:00"
         ],
         "y": [
          0,
          0,
          0,
          0,
          0,
          0,
          0,
          0,
          0,
          0,
          0,
          0,
          0,
          0,
          0,
          0,
          0,
          0,
          0,
          96.55333743187694,
          154.40081288461823,
          196.79442967700336,
          212.02466238453735,
          223.78530272328317,
          231.745801915673,
          235.62911476381453,
          229.00744429822154,
          219.9873251695778,
          208.7378150013492,
          195.41754645091595,
          176.79857550363624,
          157.30080862269662,
          137.0854141601493,
          120.38122093997035,
          123.91844542519308,
          131.87437274518294,
          134.91971000347272,
          137.78311883810122,
          139.28681670777368,
          140.612177182728,
          141.7599180782561,
          142.73612459536665,
          142.85759236309218,
          142.6613712747254,
          142.39175482737636,
          142.11136273416878,
          141.4726570059101,
          141.07719066841253,
          141.03548936042856,
          141.37691868482688,
          141.647326385293,
          142.1083050534758,
          142.6275061614157,
          143.09611152984678,
          142.92054388178587,
          142.42121577369375,
          141.76237135559273,
          140.93183869749885,
          138.88263642635252,
          136.64527412480714,
          134.2261077803439,
          131.63307109207648,
          122.47043883120655,
          124.6089640210553,
          146.10148498045376,
          167.21391130476968,
          184.64854909370814,
          200.68691436305718,
          215.16531378936418,
          227.91669871030382,
          231.74352483051436,
          232.2750133287959,
          229.83528868538227,
          223.646417407758,
          210.14554649178717,
          193.15797170408345,
          154.98802673482072,
          0,
          0,
          0,
          0,
          0,
          0,
          0,
          0,
          0,
          0,
          0,
          0,
          0,
          0,
          0,
          0,
          0,
          0,
          0
         ]
        },
        {
         "name": "BLOCK 00 STOREY 0 WALL 0003",
         "type": "scatter",
         "x": [
          "2017-07-01T00:00:00",
          "2017-07-01T00:15:00",
          "2017-07-01T00:30:00",
          "2017-07-01T00:45:00",
          "2017-07-01T01:00:00",
          "2017-07-01T01:15:00",
          "2017-07-01T01:30:00",
          "2017-07-01T01:45:00",
          "2017-07-01T02:00:00",
          "2017-07-01T02:15:00",
          "2017-07-01T02:30:00",
          "2017-07-01T02:45:00",
          "2017-07-01T03:00:00",
          "2017-07-01T03:15:00",
          "2017-07-01T03:30:00",
          "2017-07-01T03:45:00",
          "2017-07-01T04:00:00",
          "2017-07-01T04:15:00",
          "2017-07-01T04:30:00",
          "2017-07-01T04:45:00",
          "2017-07-01T05:00:00",
          "2017-07-01T05:15:00",
          "2017-07-01T05:30:00",
          "2017-07-01T05:45:00",
          "2017-07-01T06:00:00",
          "2017-07-01T06:15:00",
          "2017-07-01T06:30:00",
          "2017-07-01T06:45:00",
          "2017-07-01T07:00:00",
          "2017-07-01T07:15:00",
          "2017-07-01T07:30:00",
          "2017-07-01T07:45:00",
          "2017-07-01T08:00:00",
          "2017-07-01T08:15:00",
          "2017-07-01T08:30:00",
          "2017-07-01T08:45:00",
          "2017-07-01T09:00:00",
          "2017-07-01T09:15:00",
          "2017-07-01T09:30:00",
          "2017-07-01T09:45:00",
          "2017-07-01T10:00:00",
          "2017-07-01T10:15:00",
          "2017-07-01T10:30:00",
          "2017-07-01T10:45:00",
          "2017-07-01T11:00:00",
          "2017-07-01T11:15:00",
          "2017-07-01T11:30:00",
          "2017-07-01T11:45:00",
          "2017-07-01T12:00:00",
          "2017-07-01T12:15:00",
          "2017-07-01T12:30:00",
          "2017-07-01T12:45:00",
          "2017-07-01T13:00:00",
          "2017-07-01T13:15:00",
          "2017-07-01T13:30:00",
          "2017-07-01T13:45:00",
          "2017-07-01T14:00:00",
          "2017-07-01T14:15:00",
          "2017-07-01T14:30:00",
          "2017-07-01T14:45:00",
          "2017-07-01T15:00:00",
          "2017-07-01T15:15:00",
          "2017-07-01T15:30:00",
          "2017-07-01T15:45:00",
          "2017-07-01T16:00:00",
          "2017-07-01T16:15:00",
          "2017-07-01T16:30:00",
          "2017-07-01T16:45:00",
          "2017-07-01T17:00:00",
          "2017-07-01T17:15:00",
          "2017-07-01T17:30:00",
          "2017-07-01T17:45:00",
          "2017-07-01T18:00:00",
          "2017-07-01T18:15:00",
          "2017-07-01T18:30:00",
          "2017-07-01T18:45:00",
          "2017-07-01T19:00:00",
          "2017-07-01T19:15:00",
          "2017-07-01T19:30:00",
          "2017-07-01T19:45:00",
          "2017-07-01T20:00:00",
          "2017-07-01T20:15:00",
          "2017-07-01T20:30:00",
          "2017-07-01T20:45:00",
          "2017-07-01T21:00:00",
          "2017-07-01T21:15:00",
          "2017-07-01T21:30:00",
          "2017-07-01T21:45:00",
          "2017-07-01T22:00:00",
          "2017-07-01T22:15:00",
          "2017-07-01T22:30:00",
          "2017-07-01T22:45:00",
          "2017-07-01T23:00:00",
          "2017-07-01T23:15:00",
          "2017-07-01T23:30:00",
          "2017-07-01T23:45:00"
         ],
         "y": [
          0,
          0,
          0,
          0,
          0,
          0,
          0,
          0,
          0,
          0,
          0,
          0,
          0,
          0,
          0,
          0,
          0,
          0,
          0,
          11.395389804605143,
          18.404335814085233,
          25.95532187258395,
          35.55809311620969,
          45.37056409299359,
          55.376505299625705,
          65.52262081447282,
          73.53319635156736,
          81.56798825418983,
          89.61121025549629,
          97.64369671134203,
          103.47415487755178,
          109.2188100402762,
          114.86066159141993,
          120.38122093997035,
          123.91844542519308,
          131.87437274518294,
          134.91971000347272,
          137.78311883810122,
          139.28681670777368,
          140.612177182728,
          141.7599180782561,
          142.73612459536665,
          142.85759236309218,
          142.6613712747254,
          142.39175482737636,
          142.11136273416878,
          141.4726570059101,
          141.07719066841253,
          152.91322398123924,
          210.96033346346678,
          268.1569818754216,
          324.5572174380328,
          379.79811454677815,
          433.562560154852,
          494.2947800194779,
          542.8306315722842,
          588.5956821665814,
          631.424475717627,
          667.0036256381422,
          698.8773698811049,
          726.9729570602611,
          751.2241003062647,
          773.310105343711,
          783.6060046786399,
          789.7554371525955,
          791.8416885639062,
          778.8636334194797,
          761.6959313150724,
          740.5840128165197,
          715.7476107901542,
          667.5529796920442,
          616.2108182387727,
          563.4631773024463,
          507.9055586853923,
          443.31258479798436,
          379.29540730426334,
          282.4532993305733,
          0,
          0,
          0,
          0,
          0,
          0,
          0,
          0,
          0,
          0,
          0,
          0,
          0,
          0,
          0,
          0,
          0,
          0,
          0
         ]
        },
        {
         "name": "BLOCK 00 STOREY 0 WALL 0004_2",
         "type": "scatter",
         "x": [
          "2017-07-01T00:00:00",
          "2017-07-01T00:15:00",
          "2017-07-01T00:30:00",
          "2017-07-01T00:45:00",
          "2017-07-01T01:00:00",
          "2017-07-01T01:15:00",
          "2017-07-01T01:30:00",
          "2017-07-01T01:45:00",
          "2017-07-01T02:00:00",
          "2017-07-01T02:15:00",
          "2017-07-01T02:30:00",
          "2017-07-01T02:45:00",
          "2017-07-01T03:00:00",
          "2017-07-01T03:15:00",
          "2017-07-01T03:30:00",
          "2017-07-01T03:45:00",
          "2017-07-01T04:00:00",
          "2017-07-01T04:15:00",
          "2017-07-01T04:30:00",
          "2017-07-01T04:45:00",
          "2017-07-01T05:00:00",
          "2017-07-01T05:15:00",
          "2017-07-01T05:30:00",
          "2017-07-01T05:45:00",
          "2017-07-01T06:00:00",
          "2017-07-01T06:15:00",
          "2017-07-01T06:30:00",
          "2017-07-01T06:45:00",
          "2017-07-01T07:00:00",
          "2017-07-01T07:15:00",
          "2017-07-01T07:30:00",
          "2017-07-01T07:45:00",
          "2017-07-01T08:00:00",
          "2017-07-01T08:15:00",
          "2017-07-01T08:30:00",
          "2017-07-01T08:45:00",
          "2017-07-01T09:00:00",
          "2017-07-01T09:15:00",
          "2017-07-01T09:30:00",
          "2017-07-01T09:45:00",
          "2017-07-01T10:00:00",
          "2017-07-01T10:15:00",
          "2017-07-01T10:30:00",
          "2017-07-01T10:45:00",
          "2017-07-01T11:00:00",
          "2017-07-01T11:15:00",
          "2017-07-01T11:30:00",
          "2017-07-01T11:45:00",
          "2017-07-01T12:00:00",
          "2017-07-01T12:15:00",
          "2017-07-01T12:30:00",
          "2017-07-01T12:45:00",
          "2017-07-01T13:00:00",
          "2017-07-01T13:15:00",
          "2017-07-01T13:30:00",
          "2017-07-01T13:45:00",
          "2017-07-01T14:00:00",
          "2017-07-01T14:15:00",
          "2017-07-01T14:30:00",
          "2017-07-01T14:45:00",
          "2017-07-01T15:00:00",
          "2017-07-01T15:15:00",
          "2017-07-01T15:30:00",
          "2017-07-01T15:45:00",
          "2017-07-01T16:00:00",
          "2017-07-01T16:15:00",
          "2017-07-01T16:30:00",
          "2017-07-01T16:45:00",
          "2017-07-01T17:00:00",
          "2017-07-01T17:15:00",
          "2017-07-01T17:30:00",
          "2017-07-01T17:45:00",
          "2017-07-01T18:00:00",
          "2017-07-01T18:15:00",
          "2017-07-01T18:30:00",
          "2017-07-01T18:45:00",
          "2017-07-01T19:00:00",
          "2017-07-01T19:15:00",
          "2017-07-01T19:30:00",
          "2017-07-01T19:45:00",
          "2017-07-01T20:00:00",
          "2017-07-01T20:15:00",
          "2017-07-01T20:30:00",
          "2017-07-01T20:45:00",
          "2017-07-01T21:00:00",
          "2017-07-01T21:15:00",
          "2017-07-01T21:30:00",
          "2017-07-01T21:45:00",
          "2017-07-01T22:00:00",
          "2017-07-01T22:15:00",
          "2017-07-01T22:30:00",
          "2017-07-01T22:45:00",
          "2017-07-01T23:00:00",
          "2017-07-01T23:15:00",
          "2017-07-01T23:30:00",
          "2017-07-01T23:45:00"
         ],
         "y": [
          0,
          0,
          0,
          0,
          0,
          0,
          0,
          0,
          0,
          0,
          0,
          0,
          0,
          0,
          0,
          0,
          0,
          0,
          0,
          10.44672552382326,
          16.78741728210832,
          23.70584934116355,
          32.559738358585165,
          41.65021304183065,
          50.964740289949994,
          60.46944398411914,
          67.98135094231652,
          75.55063233187309,
          83.16037916187757,
          90.79094415786103,
          96.37541838756907,
          101.90117235525703,
          107.34975255695683,
          116.76760700584188,
          146.53999527769483,
          179.05572320886853,
          207.02865117664635,
          234.13239063320995,
          258.2721522423442,
          280.937472658585,
          301.9866791276404,
          321.2853701788865,
          337.01168102463475,
          345.05046244519684,
          355.92618415331964,
          364.65942399816436,
          369.7279131985981,
          372.66638323219274,
          373.227228319795,
          370.56446544020315,
          364.4980621259653,
          356.3941720038101,
          346.2492596942736,
          334.0835034677058,
          323.04719524587256,
          305.0883918642232,
          285.5124922570392,
          264.47188528873113,
          240.49215595004202,
          215.63832190585623,
          190.1224305710344,
          164.16716279566054,
          132.2182797669834,
          110.23170256264399,
          105.581466828282,
          100.84463840490203,
          94.14132987883083,
          87.40162208449152,
          80.64563431590261,
          73.89143286905956,
          65.00480500434318,
          56.26174244524382,
          47.70589690427057,
          39.30518393055451,
          30.288821412792863,
          21.51945531302394,
          13.015246454819097,
          0,
          0,
          0,
          0,
          0,
          0,
          0,
          0,
          0,
          0,
          0,
          0,
          0,
          0,
          0,
          0,
          0,
          0,
          0
         ]
        },
        {
         "name": "BLOCK 00 STOREY 0 ROOF 0001",
         "type": "scatter",
         "x": [
          "2017-07-01T00:00:00",
          "2017-07-01T00:15:00",
          "2017-07-01T00:30:00",
          "2017-07-01T00:45:00",
          "2017-07-01T01:00:00",
          "2017-07-01T01:15:00",
          "2017-07-01T01:30:00",
          "2017-07-01T01:45:00",
          "2017-07-01T02:00:00",
          "2017-07-01T02:15:00",
          "2017-07-01T02:30:00",
          "2017-07-01T02:45:00",
          "2017-07-01T03:00:00",
          "2017-07-01T03:15:00",
          "2017-07-01T03:30:00",
          "2017-07-01T03:45:00",
          "2017-07-01T04:00:00",
          "2017-07-01T04:15:00",
          "2017-07-01T04:30:00",
          "2017-07-01T04:45:00",
          "2017-07-01T05:00:00",
          "2017-07-01T05:15:00",
          "2017-07-01T05:30:00",
          "2017-07-01T05:45:00",
          "2017-07-01T06:00:00",
          "2017-07-01T06:15:00",
          "2017-07-01T06:30:00",
          "2017-07-01T06:45:00",
          "2017-07-01T07:00:00",
          "2017-07-01T07:15:00",
          "2017-07-01T07:30:00",
          "2017-07-01T07:45:00",
          "2017-07-01T08:00:00",
          "2017-07-01T08:15:00",
          "2017-07-01T08:30:00",
          "2017-07-01T08:45:00",
          "2017-07-01T09:00:00",
          "2017-07-01T09:15:00",
          "2017-07-01T09:30:00",
          "2017-07-01T09:45:00",
          "2017-07-01T10:00:00",
          "2017-07-01T10:15:00",
          "2017-07-01T10:30:00",
          "2017-07-01T10:45:00",
          "2017-07-01T11:00:00",
          "2017-07-01T11:15:00",
          "2017-07-01T11:30:00",
          "2017-07-01T11:45:00",
          "2017-07-01T12:00:00",
          "2017-07-01T12:15:00",
          "2017-07-01T12:30:00",
          "2017-07-01T12:45:00",
          "2017-07-01T13:00:00",
          "2017-07-01T13:15:00",
          "2017-07-01T13:30:00",
          "2017-07-01T13:45:00",
          "2017-07-01T14:00:00",
          "2017-07-01T14:15:00",
          "2017-07-01T14:30:00",
          "2017-07-01T14:45:00",
          "2017-07-01T15:00:00",
          "2017-07-01T15:15:00",
          "2017-07-01T15:30:00",
          "2017-07-01T15:45:00",
          "2017-07-01T16:00:00",
          "2017-07-01T16:15:00",
          "2017-07-01T16:30:00",
          "2017-07-01T16:45:00",
          "2017-07-01T17:00:00",
          "2017-07-01T17:15:00",
          "2017-07-01T17:30:00",
          "2017-07-01T17:45:00",
          "2017-07-01T18:00:00",
          "2017-07-01T18:15:00",
          "2017-07-01T18:30:00",
          "2017-07-01T18:45:00",
          "2017-07-01T19:00:00",
          "2017-07-01T19:15:00",
          "2017-07-01T19:30:00",
          "2017-07-01T19:45:00",
          "2017-07-01T20:00:00",
          "2017-07-01T20:15:00",
          "2017-07-01T20:30:00",
          "2017-07-01T20:45:00",
          "2017-07-01T21:00:00",
          "2017-07-01T21:15:00",
          "2017-07-01T21:30:00",
          "2017-07-01T21:45:00",
          "2017-07-01T22:00:00",
          "2017-07-01T22:15:00",
          "2017-07-01T22:30:00",
          "2017-07-01T22:45:00",
          "2017-07-01T23:00:00",
          "2017-07-01T23:15:00",
          "2017-07-01T23:30:00",
          "2017-07-01T23:45:00"
         ],
         "y": [
          0,
          0,
          0,
          0,
          0,
          0,
          0,
          0,
          0,
          0,
          0,
          0,
          0,
          0,
          0,
          0,
          0,
          0,
          0,
          19.310681076138252,
          40.32163934087591,
          69.15647996915166,
          104.40657755367201,
          144.67863748698568,
          189.93050591865622,
          240.07768146596214,
          285.45300481275734,
          333.64288903270614,
          384.47597912481615,
          437.75660779101725,
          484.0667567143969,
          531.3486310791874,
          579.3905647613959,
          627.9700808919999,
          669.5346750055581,
          710.7081227270921,
          751.282345876609,
          791.0474289914115,
          823.9220154635509,
          855.2939003330538,
          884.994061496689,
          912.8585216461762,
          933.8519635156391,
          952.5545802551068,
          968.8631006415055,
          982.6838744853352,
          989.5863855334317,
          993.8104456394112,
          995.3340669288505,
          994.1468092908782,
          986.4040904598226,
          976.031767668139,
          963.0909112169834,
          947.6533135635528,
          925.435051523349,
          901.0666783760348,
          874.6851279044257,
          846.4345617663348,
          811.1076725701961,
          774.5110853082792,
          736.8388903661332,
          698.2864320209343,
          652.8330056490574,
          607.3205647425057,
          561.9699101372235,
          516.9950632735431,
          465.01728242003423,
          414.6269291048522,
          366.03700943636113,
          319.4424190955623,
          266.1732378444733,
          216.9438597256802,
          171.89793326245575,
          131.14292503964953,
          92.49262972002825,
          58.94306559603575,
          30.476551490565935,
          0,
          0,
          0,
          0,
          0,
          0,
          0,
          0,
          0,
          0,
          0,
          0,
          0,
          0,
          0,
          0,
          0,
          0,
          0
         ]
        },
        {
         "name": "BLOCK 00 STOREY 0 WALL 0002 DOOR",
         "type": "scatter",
         "x": [
          "2017-07-01T00:00:00",
          "2017-07-01T00:15:00",
          "2017-07-01T00:30:00",
          "2017-07-01T00:45:00",
          "2017-07-01T01:00:00",
          "2017-07-01T01:15:00",
          "2017-07-01T01:30:00",
          "2017-07-01T01:45:00",
          "2017-07-01T02:00:00",
          "2017-07-01T02:15:00",
          "2017-07-01T02:30:00",
          "2017-07-01T02:45:00",
          "2017-07-01T03:00:00",
          "2017-07-01T03:15:00",
          "2017-07-01T03:30:00",
          "2017-07-01T03:45:00",
          "2017-07-01T04:00:00",
          "2017-07-01T04:15:00",
          "2017-07-01T04:30:00",
          "2017-07-01T04:45:00",
          "2017-07-01T05:00:00",
          "2017-07-01T05:15:00",
          "2017-07-01T05:30:00",
          "2017-07-01T05:45:00",
          "2017-07-01T06:00:00",
          "2017-07-01T06:15:00",
          "2017-07-01T06:30:00",
          "2017-07-01T06:45:00",
          "2017-07-01T07:00:00",
          "2017-07-01T07:15:00",
          "2017-07-01T07:30:00",
          "2017-07-01T07:45:00",
          "2017-07-01T08:00:00",
          "2017-07-01T08:15:00",
          "2017-07-01T08:30:00",
          "2017-07-01T08:45:00",
          "2017-07-01T09:00:00",
          "2017-07-01T09:15:00",
          "2017-07-01T09:30:00",
          "2017-07-01T09:45:00",
          "2017-07-01T10:00:00",
          "2017-07-01T10:15:00",
          "2017-07-01T10:30:00",
          "2017-07-01T10:45:00",
          "2017-07-01T11:00:00",
          "2017-07-01T11:15:00",
          "2017-07-01T11:30:00",
          "2017-07-01T11:45:00",
          "2017-07-01T12:00:00",
          "2017-07-01T12:15:00",
          "2017-07-01T12:30:00",
          "2017-07-01T12:45:00",
          "2017-07-01T13:00:00",
          "2017-07-01T13:15:00",
          "2017-07-01T13:30:00",
          "2017-07-01T13:45:00",
          "2017-07-01T14:00:00",
          "2017-07-01T14:15:00",
          "2017-07-01T14:30:00",
          "2017-07-01T14:45:00",
          "2017-07-01T15:00:00",
          "2017-07-01T15:15:00",
          "2017-07-01T15:30:00",
          "2017-07-01T15:45:00",
          "2017-07-01T16:00:00",
          "2017-07-01T16:15:00",
          "2017-07-01T16:30:00",
          "2017-07-01T16:45:00",
          "2017-07-01T17:00:00",
          "2017-07-01T17:15:00",
          "2017-07-01T17:30:00",
          "2017-07-01T17:45:00",
          "2017-07-01T18:00:00",
          "2017-07-01T18:15:00",
          "2017-07-01T18:30:00",
          "2017-07-01T18:45:00",
          "2017-07-01T19:00:00",
          "2017-07-01T19:15:00",
          "2017-07-01T19:30:00",
          "2017-07-01T19:45:00",
          "2017-07-01T20:00:00",
          "2017-07-01T20:15:00",
          "2017-07-01T20:30:00",
          "2017-07-01T20:45:00",
          "2017-07-01T21:00:00",
          "2017-07-01T21:15:00",
          "2017-07-01T21:30:00",
          "2017-07-01T21:45:00",
          "2017-07-01T22:00:00",
          "2017-07-01T22:15:00",
          "2017-07-01T22:30:00",
          "2017-07-01T22:45:00",
          "2017-07-01T23:00:00",
          "2017-07-01T23:15:00",
          "2017-07-01T23:30:00",
          "2017-07-01T23:45:00"
         ],
         "y": [
          0,
          0,
          0,
          0,
          0,
          0,
          0,
          0,
          0,
          0,
          0,
          0,
          0,
          0,
          0,
          0,
          0,
          0,
          0,
          96.55333743187694,
          154.40081288461823,
          196.79442967700336,
          212.02466238453735,
          223.78530272328317,
          231.745801915673,
          235.62911476381453,
          229.00744429822154,
          219.9873251695778,
          208.7378150013492,
          195.41754645091595,
          176.79857550363624,
          157.30080862269662,
          137.0854141601493,
          120.38122093997035,
          123.91844542519308,
          131.87437274518294,
          134.91971000347272,
          137.78311883810122,
          139.28681670777368,
          140.612177182728,
          141.7599180782561,
          142.73612459536665,
          142.85759236309218,
          142.6613712747254,
          142.39175482737636,
          142.11136273416878,
          141.4726570059101,
          141.07719066841253,
          141.03548936042856,
          141.37691868482688,
          141.647326385293,
          142.1083050534758,
          142.6275061614157,
          143.09611152984678,
          142.92054388178587,
          142.42121577369375,
          141.76237135559273,
          140.93183869749885,
          138.88263642635252,
          136.64527412480714,
          134.2261077803439,
          131.63307109207648,
          122.47043883120655,
          124.6089640210553,
          146.10148498045376,
          167.21391130476968,
          184.64854909370814,
          200.68691436305718,
          215.16531378936418,
          227.91669871030382,
          231.74352483051436,
          232.2750133287959,
          229.83528868538227,
          223.646417407758,
          210.14554649178717,
          193.15797170408345,
          154.98802673482072,
          0,
          0,
          0,
          0,
          0,
          0,
          0,
          0,
          0,
          0,
          0,
          0,
          0,
          0,
          0,
          0,
          0,
          0,
          0
         ]
        },
        {
         "name": "BLOCK 01 STOREY 0 WALL 0001",
         "type": "scatter",
         "x": [
          "2017-07-01T00:00:00",
          "2017-07-01T00:15:00",
          "2017-07-01T00:30:00",
          "2017-07-01T00:45:00",
          "2017-07-01T01:00:00",
          "2017-07-01T01:15:00",
          "2017-07-01T01:30:00",
          "2017-07-01T01:45:00",
          "2017-07-01T02:00:00",
          "2017-07-01T02:15:00",
          "2017-07-01T02:30:00",
          "2017-07-01T02:45:00",
          "2017-07-01T03:00:00",
          "2017-07-01T03:15:00",
          "2017-07-01T03:30:00",
          "2017-07-01T03:45:00",
          "2017-07-01T04:00:00",
          "2017-07-01T04:15:00",
          "2017-07-01T04:30:00",
          "2017-07-01T04:45:00",
          "2017-07-01T05:00:00",
          "2017-07-01T05:15:00",
          "2017-07-01T05:30:00",
          "2017-07-01T05:45:00",
          "2017-07-01T06:00:00",
          "2017-07-01T06:15:00",
          "2017-07-01T06:30:00",
          "2017-07-01T06:45:00",
          "2017-07-01T07:00:00",
          "2017-07-01T07:15:00",
          "2017-07-01T07:30:00",
          "2017-07-01T07:45:00",
          "2017-07-01T08:00:00",
          "2017-07-01T08:15:00",
          "2017-07-01T08:30:00",
          "2017-07-01T08:45:00",
          "2017-07-01T09:00:00",
          "2017-07-01T09:15:00",
          "2017-07-01T09:30:00",
          "2017-07-01T09:45:00",
          "2017-07-01T10:00:00",
          "2017-07-01T10:15:00",
          "2017-07-01T10:30:00",
          "2017-07-01T10:45:00",
          "2017-07-01T11:00:00",
          "2017-07-01T11:15:00",
          "2017-07-01T11:30:00",
          "2017-07-01T11:45:00",
          "2017-07-01T12:00:00",
          "2017-07-01T12:15:00",
          "2017-07-01T12:30:00",
          "2017-07-01T12:45:00",
          "2017-07-01T13:00:00",
          "2017-07-01T13:15:00",
          "2017-07-01T13:30:00",
          "2017-07-01T13:45:00",
          "2017-07-01T14:00:00",
          "2017-07-01T14:15:00",
          "2017-07-01T14:30:00",
          "2017-07-01T14:45:00",
          "2017-07-01T15:00:00",
          "2017-07-01T15:15:00",
          "2017-07-01T15:30:00",
          "2017-07-01T15:45:00",
          "2017-07-01T16:00:00",
          "2017-07-01T16:15:00",
          "2017-07-01T16:30:00",
          "2017-07-01T16:45:00",
          "2017-07-01T17:00:00",
          "2017-07-01T17:15:00",
          "2017-07-01T17:30:00",
          "2017-07-01T17:45:00",
          "2017-07-01T18:00:00",
          "2017-07-01T18:15:00",
          "2017-07-01T18:30:00",
          "2017-07-01T18:45:00",
          "2017-07-01T19:00:00",
          "2017-07-01T19:15:00",
          "2017-07-01T19:30:00",
          "2017-07-01T19:45:00",
          "2017-07-01T20:00:00",
          "2017-07-01T20:15:00",
          "2017-07-01T20:30:00",
          "2017-07-01T20:45:00",
          "2017-07-01T21:00:00",
          "2017-07-01T21:15:00",
          "2017-07-01T21:30:00",
          "2017-07-01T21:45:00",
          "2017-07-01T22:00:00",
          "2017-07-01T22:15:00",
          "2017-07-01T22:30:00",
          "2017-07-01T22:45:00",
          "2017-07-01T23:00:00",
          "2017-07-01T23:15:00",
          "2017-07-01T23:30:00",
          "2017-07-01T23:45:00"
         ],
         "y": [
          0,
          0,
          0,
          0,
          0,
          0,
          0,
          0,
          0,
          0,
          0,
          0,
          0,
          0,
          0,
          0,
          0,
          0,
          0,
          105.92147283849246,
          205.94245533795814,
          311.38325154740255,
          386.95275812020924,
          464.55520348967053,
          537.8204088525666,
          605.7784648115164,
          650.4615314388719,
          690.3149782715091,
          725.4931004193506,
          755.9284884432543,
          768.1985692899489,
          775.7922974026754,
          778.6772268025395,
          776.4502082265992,
          760.1720296933548,
          732.7212410384531,
          709.2462583893246,
          681.7661696339269,
          645.9621125623744,
          606.80614209175,
          564.4185615652684,
          518.933168211307,
          468.1447483952313,
          407.1805767558817,
          353.7191534867972,
          298.6619273139613,
          241.38709849537935,
          183.71754830501357,
          137.89914636283996,
          138.19306170798262,
          138.35585979454189,
          138.66317988403208,
          138.99755474248002,
          139.2626910516212,
          137.94787058367166,
          137.30083308062882,
          136.49587397825798,
          135.5237588370889,
          133.37458394206962,
          131.04850550724484,
          128.55367686484394,
          125.89989843207833,
          116.97561098054804,
          112.39953216960414,
          107.71282074971512,
          102.93267605596724,
          96.14297884922097,
          89.3085470518791,
          82.44926947007757,
          75.5828209412808,
          66.5379216434805,
          57.626787011101236,
          48.89992945292932,
          40.31374613351301,
          31.087694855254522,
          22.10120882270462,
          13.376198564211009,
          0,
          0,
          0,
          0,
          0,
          0,
          0,
          0,
          0,
          0,
          0,
          0,
          0,
          0,
          0,
          0,
          0,
          0,
          0
         ]
        },
        {
         "name": "BLOCK 01 STOREY 0 WALL 0003",
         "type": "scatter",
         "x": [
          "2017-07-01T00:00:00",
          "2017-07-01T00:15:00",
          "2017-07-01T00:30:00",
          "2017-07-01T00:45:00",
          "2017-07-01T01:00:00",
          "2017-07-01T01:15:00",
          "2017-07-01T01:30:00",
          "2017-07-01T01:45:00",
          "2017-07-01T02:00:00",
          "2017-07-01T02:15:00",
          "2017-07-01T02:30:00",
          "2017-07-01T02:45:00",
          "2017-07-01T03:00:00",
          "2017-07-01T03:15:00",
          "2017-07-01T03:30:00",
          "2017-07-01T03:45:00",
          "2017-07-01T04:00:00",
          "2017-07-01T04:15:00",
          "2017-07-01T04:30:00",
          "2017-07-01T04:45:00",
          "2017-07-01T05:00:00",
          "2017-07-01T05:15:00",
          "2017-07-01T05:30:00",
          "2017-07-01T05:45:00",
          "2017-07-01T06:00:00",
          "2017-07-01T06:15:00",
          "2017-07-01T06:30:00",
          "2017-07-01T06:45:00",
          "2017-07-01T07:00:00",
          "2017-07-01T07:15:00",
          "2017-07-01T07:30:00",
          "2017-07-01T07:45:00",
          "2017-07-01T08:00:00",
          "2017-07-01T08:15:00",
          "2017-07-01T08:30:00",
          "2017-07-01T08:45:00",
          "2017-07-01T09:00:00",
          "2017-07-01T09:15:00",
          "2017-07-01T09:30:00",
          "2017-07-01T09:45:00",
          "2017-07-01T10:00:00",
          "2017-07-01T10:15:00",
          "2017-07-01T10:30:00",
          "2017-07-01T10:45:00",
          "2017-07-01T11:00:00",
          "2017-07-01T11:15:00",
          "2017-07-01T11:30:00",
          "2017-07-01T11:45:00",
          "2017-07-01T12:00:00",
          "2017-07-01T12:15:00",
          "2017-07-01T12:30:00",
          "2017-07-01T12:45:00",
          "2017-07-01T13:00:00",
          "2017-07-01T13:15:00",
          "2017-07-01T13:30:00",
          "2017-07-01T13:45:00",
          "2017-07-01T14:00:00",
          "2017-07-01T14:15:00",
          "2017-07-01T14:30:00",
          "2017-07-01T14:45:00",
          "2017-07-01T15:00:00",
          "2017-07-01T15:15:00",
          "2017-07-01T15:30:00",
          "2017-07-01T15:45:00",
          "2017-07-01T16:00:00",
          "2017-07-01T16:15:00",
          "2017-07-01T16:30:00",
          "2017-07-01T16:45:00",
          "2017-07-01T17:00:00",
          "2017-07-01T17:15:00",
          "2017-07-01T17:30:00",
          "2017-07-01T17:45:00",
          "2017-07-01T18:00:00",
          "2017-07-01T18:15:00",
          "2017-07-01T18:30:00",
          "2017-07-01T18:45:00",
          "2017-07-01T19:00:00",
          "2017-07-01T19:15:00",
          "2017-07-01T19:30:00",
          "2017-07-01T19:45:00",
          "2017-07-01T20:00:00",
          "2017-07-01T20:15:00",
          "2017-07-01T20:30:00",
          "2017-07-01T20:45:00",
          "2017-07-01T21:00:00",
          "2017-07-01T21:15:00",
          "2017-07-01T21:30:00",
          "2017-07-01T21:45:00",
          "2017-07-01T22:00:00",
          "2017-07-01T22:15:00",
          "2017-07-01T22:30:00",
          "2017-07-01T22:45:00",
          "2017-07-01T23:00:00",
          "2017-07-01T23:15:00",
          "2017-07-01T23:30:00",
          "2017-07-01T23:45:00"
         ],
         "y": [
          0,
          0,
          0,
          0,
          0,
          0,
          0,
          0,
          0,
          0,
          0,
          0,
          0,
          0,
          0,
          0,
          0,
          0,
          0,
          11.395389804605143,
          18.404335814085233,
          25.95532187258395,
          35.55809311620969,
          45.37056409299359,
          55.376505299625705,
          65.52262081447282,
          73.53319635156736,
          81.56798825418983,
          89.61121025549629,
          97.64369671134203,
          103.47415487755178,
          109.2188100402762,
          114.86066159141993,
          120.38122093997035,
          123.91844542519308,
          131.87437274518294,
          134.91971000347272,
          137.78311883810122,
          139.28681670777368,
          140.612177182728,
          141.7599180782561,
          142.73612459536665,
          142.85759236309218,
          142.6613712747254,
          142.39175482737636,
          142.11136273416878,
          141.4726570059101,
          141.07719066841253,
          152.91322398123924,
          210.96033346346678,
          268.1569818754216,
          324.5572174380328,
          379.79811454677815,
          433.562560154852,
          494.2947800194779,
          542.8306315722842,
          588.5956821665814,
          631.424475717627,
          667.0036256381422,
          698.8773698811049,
          726.9729570602611,
          751.2241003062647,
          773.310105343711,
          783.6060046786399,
          789.7554371525955,
          791.8416885639062,
          778.8636334194797,
          761.6959313150724,
          740.5840128165197,
          715.7476107901542,
          667.5529796920442,
          616.2108182387727,
          563.4631773024463,
          507.9055586853923,
          443.31258479798436,
          379.29540730426334,
          282.4532993305733,
          0,
          0,
          0,
          0,
          0,
          0,
          0,
          0,
          0,
          0,
          0,
          0,
          0,
          0,
          0,
          0,
          0,
          0,
          0
         ]
        },
        {
         "name": "BLOCK 01 STOREY 0 WALL 0004",
         "type": "scatter",
         "x": [
          "2017-07-01T00:00:00",
          "2017-07-01T00:15:00",
          "2017-07-01T00:30:00",
          "2017-07-01T00:45:00",
          "2017-07-01T01:00:00",
          "2017-07-01T01:15:00",
          "2017-07-01T01:30:00",
          "2017-07-01T01:45:00",
          "2017-07-01T02:00:00",
          "2017-07-01T02:15:00",
          "2017-07-01T02:30:00",
          "2017-07-01T02:45:00",
          "2017-07-01T03:00:00",
          "2017-07-01T03:15:00",
          "2017-07-01T03:30:00",
          "2017-07-01T03:45:00",
          "2017-07-01T04:00:00",
          "2017-07-01T04:15:00",
          "2017-07-01T04:30:00",
          "2017-07-01T04:45:00",
          "2017-07-01T05:00:00",
          "2017-07-01T05:15:00",
          "2017-07-01T05:30:00",
          "2017-07-01T05:45:00",
          "2017-07-01T06:00:00",
          "2017-07-01T06:15:00",
          "2017-07-01T06:30:00",
          "2017-07-01T06:45:00",
          "2017-07-01T07:00:00",
          "2017-07-01T07:15:00",
          "2017-07-01T07:30:00",
          "2017-07-01T07:45:00",
          "2017-07-01T08:00:00",
          "2017-07-01T08:15:00",
          "2017-07-01T08:30:00",
          "2017-07-01T08:45:00",
          "2017-07-01T09:00:00",
          "2017-07-01T09:15:00",
          "2017-07-01T09:30:00",
          "2017-07-01T09:45:00",
          "2017-07-01T10:00:00",
          "2017-07-01T10:15:00",
          "2017-07-01T10:30:00",
          "2017-07-01T10:45:00",
          "2017-07-01T11:00:00",
          "2017-07-01T11:15:00",
          "2017-07-01T11:30:00",
          "2017-07-01T11:45:00",
          "2017-07-01T12:00:00",
          "2017-07-01T12:15:00",
          "2017-07-01T12:30:00",
          "2017-07-01T12:45:00",
          "2017-07-01T13:00:00",
          "2017-07-01T13:15:00",
          "2017-07-01T13:30:00",
          "2017-07-01T13:45:00",
          "2017-07-01T14:00:00",
          "2017-07-01T14:15:00",
          "2017-07-01T14:30:00",
          "2017-07-01T14:45:00",
          "2017-07-01T15:00:00",
          "2017-07-01T15:15:00",
          "2017-07-01T15:30:00",
          "2017-07-01T15:45:00",
          "2017-07-01T16:00:00",
          "2017-07-01T16:15:00",
          "2017-07-01T16:30:00",
          "2017-07-01T16:45:00",
          "2017-07-01T17:00:00",
          "2017-07-01T17:15:00",
          "2017-07-01T17:30:00",
          "2017-07-01T17:45:00",
          "2017-07-01T18:00:00",
          "2017-07-01T18:15:00",
          "2017-07-01T18:30:00",
          "2017-07-01T18:45:00",
          "2017-07-01T19:00:00",
          "2017-07-01T19:15:00",
          "2017-07-01T19:30:00",
          "2017-07-01T19:45:00",
          "2017-07-01T20:00:00",
          "2017-07-01T20:15:00",
          "2017-07-01T20:30:00",
          "2017-07-01T20:45:00",
          "2017-07-01T21:00:00",
          "2017-07-01T21:15:00",
          "2017-07-01T21:30:00",
          "2017-07-01T21:45:00",
          "2017-07-01T22:00:00",
          "2017-07-01T22:15:00",
          "2017-07-01T22:30:00",
          "2017-07-01T22:45:00",
          "2017-07-01T23:00:00",
          "2017-07-01T23:15:00",
          "2017-07-01T23:30:00",
          "2017-07-01T23:45:00"
         ],
         "y": [
          0,
          0,
          0,
          0,
          0,
          0,
          0,
          0,
          0,
          0,
          0,
          0,
          0,
          0,
          0,
          0,
          0,
          0,
          0,
          11.395389804605143,
          18.404335814085233,
          25.95532187258395,
          35.55809311620969,
          45.37056409299359,
          55.376505299625705,
          65.52262081447282,
          73.53319635156736,
          81.56798825418983,
          89.61121025549629,
          97.64369671134203,
          103.47415487755178,
          109.2188100402762,
          114.86066159141993,
          124.44720541251593,
          154.24603674929259,
          187.00370256304328,
          214.90933131903364,
          241.9246884357894,
          265.9012313670243,
          288.3908693905638,
          309.2550548405682,
          328.3629201488777,
          343.8762757391297,
          350.2953170336682,
          360.8966877010051,
          369.38766973646864,
          374.2649533915012,
          377.0853304255528,
          377.9207534197344,
          376.78673288152135,
          372.2789378064554,
          365.71008877426516,
          357.02120069323576,
          346.1802154099625,
          337.7903226485602,
          320.6264811777588,
          301.5622598109555,
          280.7076486706793,
          256.4462121594333,
          230.89721338457804,
          204.226693112939,
          176.60451709933346,
          142.0458430166047,
          117.81910442296771,
          113.04120384403558,
          108.15276853582851,
          101.14709971402114,
          94.075858002414,
          86.95835598776661,
          79.81128986179712,
          70.37071211197357,
          61.039397433775484,
          51.88500996664635,
          42.835150930748206,
          33.08487790917461,
          23.55559220538086,
          14.278578604307544,
          0,
          0,
          0,
          0,
          0,
          0,
          0,
          0,
          0,
          0,
          0,
          0,
          0,
          0,
          0,
          0,
          0,
          0,
          0
         ]
        },
        {
         "name": "BLOCK 01 STOREY 0 ROOF 0001",
         "type": "scatter",
         "x": [
          "2017-07-01T00:00:00",
          "2017-07-01T00:15:00",
          "2017-07-01T00:30:00",
          "2017-07-01T00:45:00",
          "2017-07-01T01:00:00",
          "2017-07-01T01:15:00",
          "2017-07-01T01:30:00",
          "2017-07-01T01:45:00",
          "2017-07-01T02:00:00",
          "2017-07-01T02:15:00",
          "2017-07-01T02:30:00",
          "2017-07-01T02:45:00",
          "2017-07-01T03:00:00",
          "2017-07-01T03:15:00",
          "2017-07-01T03:30:00",
          "2017-07-01T03:45:00",
          "2017-07-01T04:00:00",
          "2017-07-01T04:15:00",
          "2017-07-01T04:30:00",
          "2017-07-01T04:45:00",
          "2017-07-01T05:00:00",
          "2017-07-01T05:15:00",
          "2017-07-01T05:30:00",
          "2017-07-01T05:45:00",
          "2017-07-01T06:00:00",
          "2017-07-01T06:15:00",
          "2017-07-01T06:30:00",
          "2017-07-01T06:45:00",
          "2017-07-01T07:00:00",
          "2017-07-01T07:15:00",
          "2017-07-01T07:30:00",
          "2017-07-01T07:45:00",
          "2017-07-01T08:00:00",
          "2017-07-01T08:15:00",
          "2017-07-01T08:30:00",
          "2017-07-01T08:45:00",
          "2017-07-01T09:00:00",
          "2017-07-01T09:15:00",
          "2017-07-01T09:30:00",
          "2017-07-01T09:45:00",
          "2017-07-01T10:00:00",
          "2017-07-01T10:15:00",
          "2017-07-01T10:30:00",
          "2017-07-01T10:45:00",
          "2017-07-01T11:00:00",
          "2017-07-01T11:15:00",
          "2017-07-01T11:30:00",
          "2017-07-01T11:45:00",
          "2017-07-01T12:00:00",
          "2017-07-01T12:15:00",
          "2017-07-01T12:30:00",
          "2017-07-01T12:45:00",
          "2017-07-01T13:00:00",
          "2017-07-01T13:15:00",
          "2017-07-01T13:30:00",
          "2017-07-01T13:45:00",
          "2017-07-01T14:00:00",
          "2017-07-01T14:15:00",
          "2017-07-01T14:30:00",
          "2017-07-01T14:45:00",
          "2017-07-01T15:00:00",
          "2017-07-01T15:15:00",
          "2017-07-01T15:30:00",
          "2017-07-01T15:45:00",
          "2017-07-01T16:00:00",
          "2017-07-01T16:15:00",
          "2017-07-01T16:30:00",
          "2017-07-01T16:45:00",
          "2017-07-01T17:00:00",
          "2017-07-01T17:15:00",
          "2017-07-01T17:30:00",
          "2017-07-01T17:45:00",
          "2017-07-01T18:00:00",
          "2017-07-01T18:15:00",
          "2017-07-01T18:30:00",
          "2017-07-01T18:45:00",
          "2017-07-01T19:00:00",
          "2017-07-01T19:15:00",
          "2017-07-01T19:30:00",
          "2017-07-01T19:45:00",
          "2017-07-01T20:00:00",
          "2017-07-01T20:15:00",
          "2017-07-01T20:30:00",
          "2017-07-01T20:45:00",
          "2017-07-01T21:00:00",
          "2017-07-01T21:15:00",
          "2017-07-01T21:30:00",
          "2017-07-01T21:45:00",
          "2017-07-01T22:00:00",
          "2017-07-01T22:15:00",
          "2017-07-01T22:30:00",
          "2017-07-01T22:45:00",
          "2017-07-01T23:00:00",
          "2017-07-01T23:15:00",
          "2017-07-01T23:30:00",
          "2017-07-01T23:45:00"
         ],
         "y": [
          0,
          0,
          0,
          0,
          0,
          0,
          0,
          0,
          0,
          0,
          0,
          0,
          0,
          0,
          0,
          0,
          0,
          0,
          0,
          19.310681076138252,
          40.32163934087591,
          69.15647996915166,
          104.40657755367201,
          144.67863748698568,
          189.93050591865622,
          240.07768146596214,
          285.45300481275734,
          333.64288903270614,
          384.47597912481615,
          437.75660779101725,
          484.0667567143969,
          531.3486310791874,
          579.3905647613959,
          627.9700808919999,
          669.5346750055581,
          710.7081227270921,
          751.282345876609,
          791.0474289914115,
          823.9220154635509,
          855.2939003330538,
          884.994061496689,
          912.8585216461762,
          933.8519635156391,
          952.5545802551068,
          968.8631006415055,
          982.6838744853352,
          989.5863855334317,
          993.8104456394112,
          995.3340669288505,
          994.1468092908782,
          986.4040904598226,
          976.031767668139,
          963.0909112169834,
          947.6533135635528,
          925.435051523349,
          901.0666783760348,
          874.6851279044257,
          846.4345617663348,
          811.1076725701961,
          774.5110853082792,
          736.8388903661332,
          698.2864320209343,
          652.8330056490574,
          607.3205647425057,
          561.9699101372235,
          516.9950632735431,
          465.01728242003423,
          414.6269291048522,
          366.03700943636113,
          319.4424190955623,
          266.1732378444733,
          216.9438597256802,
          171.89793326245575,
          131.14292503964953,
          92.49262972002825,
          58.94306559603575,
          30.476551490565935,
          0,
          0,
          0,
          0,
          0,
          0,
          0,
          0,
          0,
          0,
          0,
          0,
          0,
          0,
          0,
          0,
          0,
          0,
          0
         ]
        },
        {
         "name": "BLOCK 01 STOREY 0 WALL 0004 WINDOW",
         "type": "scatter",
         "x": [
          "2017-07-01T00:00:00",
          "2017-07-01T00:15:00",
          "2017-07-01T00:30:00",
          "2017-07-01T00:45:00",
          "2017-07-01T01:00:00",
          "2017-07-01T01:15:00",
          "2017-07-01T01:30:00",
          "2017-07-01T01:45:00",
          "2017-07-01T02:00:00",
          "2017-07-01T02:15:00",
          "2017-07-01T02:30:00",
          "2017-07-01T02:45:00",
          "2017-07-01T03:00:00",
          "2017-07-01T03:15:00",
          "2017-07-01T03:30:00",
          "2017-07-01T03:45:00",
          "2017-07-01T04:00:00",
          "2017-07-01T04:15:00",
          "2017-07-01T04:30:00",
          "2017-07-01T04:45:00",
          "2017-07-01T05:00:00",
          "2017-07-01T05:15:00",
          "2017-07-01T05:30:00",
          "2017-07-01T05:45:00",
          "2017-07-01T06:00:00",
          "2017-07-01T06:15:00",
          "2017-07-01T06:30:00",
          "2017-07-01T06:45:00",
          "2017-07-01T07:00:00",
          "2017-07-01T07:15:00",
          "2017-07-01T07:30:00",
          "2017-07-01T07:45:00",
          "2017-07-01T08:00:00",
          "2017-07-01T08:15:00",
          "2017-07-01T08:30:00",
          "2017-07-01T08:45:00",
          "2017-07-01T09:00:00",
          "2017-07-01T09:15:00",
          "2017-07-01T09:30:00",
          "2017-07-01T09:45:00",
          "2017-07-01T10:00:00",
          "2017-07-01T10:15:00",
          "2017-07-01T10:30:00",
          "2017-07-01T10:45:00",
          "2017-07-01T11:00:00",
          "2017-07-01T11:15:00",
          "2017-07-01T11:30:00",
          "2017-07-01T11:45:00",
          "2017-07-01T12:00:00",
          "2017-07-01T12:15:00",
          "2017-07-01T12:30:00",
          "2017-07-01T12:45:00",
          "2017-07-01T13:00:00",
          "2017-07-01T13:15:00",
          "2017-07-01T13:30:00",
          "2017-07-01T13:45:00",
          "2017-07-01T14:00:00",
          "2017-07-01T14:15:00",
          "2017-07-01T14:30:00",
          "2017-07-01T14:45:00",
          "2017-07-01T15:00:00",
          "2017-07-01T15:15:00",
          "2017-07-01T15:30:00",
          "2017-07-01T15:45:00",
          "2017-07-01T16:00:00",
          "2017-07-01T16:15:00",
          "2017-07-01T16:30:00",
          "2017-07-01T16:45:00",
          "2017-07-01T17:00:00",
          "2017-07-01T17:15:00",
          "2017-07-01T17:30:00",
          "2017-07-01T17:45:00",
          "2017-07-01T18:00:00",
          "2017-07-01T18:15:00",
          "2017-07-01T18:30:00",
          "2017-07-01T18:45:00",
          "2017-07-01T19:00:00",
          "2017-07-01T19:15:00",
          "2017-07-01T19:30:00",
          "2017-07-01T19:45:00",
          "2017-07-01T20:00:00",
          "2017-07-01T20:15:00",
          "2017-07-01T20:30:00",
          "2017-07-01T20:45:00",
          "2017-07-01T21:00:00",
          "2017-07-01T21:15:00",
          "2017-07-01T21:30:00",
          "2017-07-01T21:45:00",
          "2017-07-01T22:00:00",
          "2017-07-01T22:15:00",
          "2017-07-01T22:30:00",
          "2017-07-01T22:45:00",
          "2017-07-01T23:00:00",
          "2017-07-01T23:15:00",
          "2017-07-01T23:30:00",
          "2017-07-01T23:45:00"
         ],
         "y": [
          0,
          0,
          0,
          0,
          0,
          0,
          0,
          0,
          0,
          0,
          0,
          0,
          0,
          0,
          0,
          0,
          0,
          0,
          0,
          11.395389804605143,
          18.404335814085233,
          25.95532187258395,
          35.55809311620969,
          45.37056409299359,
          55.376505299625705,
          65.52262081447282,
          73.53319635156736,
          81.56798825418983,
          89.61121025549629,
          97.64369671134203,
          103.47415487755178,
          109.2188100402762,
          114.86066159141993,
          124.44720541251593,
          154.24603674929259,
          187.00370256304328,
          214.90933131903364,
          241.9246884357894,
          265.9012313670243,
          288.3908693905638,
          309.2550548405682,
          328.3629201488777,
          343.8762757391297,
          350.2953170336682,
          360.8966877010051,
          369.38766973646864,
          374.2649533915012,
          377.0853304255528,
          377.9207534197344,
          376.78673288152135,
          372.2789378064554,
          365.71008877426516,
          357.02120069323576,
          346.1802154099625,
          337.7903226485602,
          320.6264811777588,
          301.5622598109555,
          280.7076486706793,
          256.4462121594333,
          230.89721338457804,
          204.226693112939,
          176.60451709933346,
          142.0458430166047,
          117.81910442296771,
          113.04120384403558,
          108.15276853582851,
          101.14709971402114,
          94.075858002414,
          86.95835598776661,
          79.81128986179712,
          70.37071211197357,
          61.039397433775484,
          51.88500996664635,
          42.835150930748206,
          33.08487790917461,
          23.55559220538086,
          14.278578604307544,
          0,
          0,
          0,
          0,
          0,
          0,
          0,
          0,
          0,
          0,
          0,
          0,
          0,
          0,
          0,
          0,
          0,
          0,
          0
         ]
        }
       ],
       "layout": {
        "template": {
         "data": {
          "bar": [
           {
            "error_x": {
             "color": "#2a3f5f"
            },
            "error_y": {
             "color": "#2a3f5f"
            },
            "marker": {
             "line": {
              "color": "#E5ECF6",
              "width": 0.5
             },
             "pattern": {
              "fillmode": "overlay",
              "size": 10,
              "solidity": 0.2
             }
            },
            "type": "bar"
           }
          ],
          "barpolar": [
           {
            "marker": {
             "line": {
              "color": "#E5ECF6",
              "width": 0.5
             },
             "pattern": {
              "fillmode": "overlay",
              "size": 10,
              "solidity": 0.2
             }
            },
            "type": "barpolar"
           }
          ],
          "carpet": [
           {
            "aaxis": {
             "endlinecolor": "#2a3f5f",
             "gridcolor": "white",
             "linecolor": "white",
             "minorgridcolor": "white",
             "startlinecolor": "#2a3f5f"
            },
            "baxis": {
             "endlinecolor": "#2a3f5f",
             "gridcolor": "white",
             "linecolor": "white",
             "minorgridcolor": "white",
             "startlinecolor": "#2a3f5f"
            },
            "type": "carpet"
           }
          ],
          "choropleth": [
           {
            "colorbar": {
             "outlinewidth": 0,
             "ticks": ""
            },
            "type": "choropleth"
           }
          ],
          "contour": [
           {
            "colorbar": {
             "outlinewidth": 0,
             "ticks": ""
            },
            "colorscale": [
             [
              0,
              "#0d0887"
             ],
             [
              0.1111111111111111,
              "#46039f"
             ],
             [
              0.2222222222222222,
              "#7201a8"
             ],
             [
              0.3333333333333333,
              "#9c179e"
             ],
             [
              0.4444444444444444,
              "#bd3786"
             ],
             [
              0.5555555555555556,
              "#d8576b"
             ],
             [
              0.6666666666666666,
              "#ed7953"
             ],
             [
              0.7777777777777778,
              "#fb9f3a"
             ],
             [
              0.8888888888888888,
              "#fdca26"
             ],
             [
              1,
              "#f0f921"
             ]
            ],
            "type": "contour"
           }
          ],
          "contourcarpet": [
           {
            "colorbar": {
             "outlinewidth": 0,
             "ticks": ""
            },
            "type": "contourcarpet"
           }
          ],
          "heatmap": [
           {
            "colorbar": {
             "outlinewidth": 0,
             "ticks": ""
            },
            "colorscale": [
             [
              0,
              "#0d0887"
             ],
             [
              0.1111111111111111,
              "#46039f"
             ],
             [
              0.2222222222222222,
              "#7201a8"
             ],
             [
              0.3333333333333333,
              "#9c179e"
             ],
             [
              0.4444444444444444,
              "#bd3786"
             ],
             [
              0.5555555555555556,
              "#d8576b"
             ],
             [
              0.6666666666666666,
              "#ed7953"
             ],
             [
              0.7777777777777778,
              "#fb9f3a"
             ],
             [
              0.8888888888888888,
              "#fdca26"
             ],
             [
              1,
              "#f0f921"
             ]
            ],
            "type": "heatmap"
           }
          ],
          "heatmapgl": [
           {
            "colorbar": {
             "outlinewidth": 0,
             "ticks": ""
            },
            "colorscale": [
             [
              0,
              "#0d0887"
             ],
             [
              0.1111111111111111,
              "#46039f"
             ],
             [
              0.2222222222222222,
              "#7201a8"
             ],
             [
              0.3333333333333333,
              "#9c179e"
             ],
             [
              0.4444444444444444,
              "#bd3786"
             ],
             [
              0.5555555555555556,
              "#d8576b"
             ],
             [
              0.6666666666666666,
              "#ed7953"
             ],
             [
              0.7777777777777778,
              "#fb9f3a"
             ],
             [
              0.8888888888888888,
              "#fdca26"
             ],
             [
              1,
              "#f0f921"
             ]
            ],
            "type": "heatmapgl"
           }
          ],
          "histogram": [
           {
            "marker": {
             "pattern": {
              "fillmode": "overlay",
              "size": 10,
              "solidity": 0.2
             }
            },
            "type": "histogram"
           }
          ],
          "histogram2d": [
           {
            "colorbar": {
             "outlinewidth": 0,
             "ticks": ""
            },
            "colorscale": [
             [
              0,
              "#0d0887"
             ],
             [
              0.1111111111111111,
              "#46039f"
             ],
             [
              0.2222222222222222,
              "#7201a8"
             ],
             [
              0.3333333333333333,
              "#9c179e"
             ],
             [
              0.4444444444444444,
              "#bd3786"
             ],
             [
              0.5555555555555556,
              "#d8576b"
             ],
             [
              0.6666666666666666,
              "#ed7953"
             ],
             [
              0.7777777777777778,
              "#fb9f3a"
             ],
             [
              0.8888888888888888,
              "#fdca26"
             ],
             [
              1,
              "#f0f921"
             ]
            ],
            "type": "histogram2d"
           }
          ],
          "histogram2dcontour": [
           {
            "colorbar": {
             "outlinewidth": 0,
             "ticks": ""
            },
            "colorscale": [
             [
              0,
              "#0d0887"
             ],
             [
              0.1111111111111111,
              "#46039f"
             ],
             [
              0.2222222222222222,
              "#7201a8"
             ],
             [
              0.3333333333333333,
              "#9c179e"
             ],
             [
              0.4444444444444444,
              "#bd3786"
             ],
             [
              0.5555555555555556,
              "#d8576b"
             ],
             [
              0.6666666666666666,
              "#ed7953"
             ],
             [
              0.7777777777777778,
              "#fb9f3a"
             ],
             [
              0.8888888888888888,
              "#fdca26"
             ],
             [
              1,
              "#f0f921"
             ]
            ],
            "type": "histogram2dcontour"
           }
          ],
          "mesh3d": [
           {
            "colorbar": {
             "outlinewidth": 0,
             "ticks": ""
            },
            "type": "mesh3d"
           }
          ],
          "parcoords": [
           {
            "line": {
             "colorbar": {
              "outlinewidth": 0,
              "ticks": ""
             }
            },
            "type": "parcoords"
           }
          ],
          "pie": [
           {
            "automargin": true,
            "type": "pie"
           }
          ],
          "scatter": [
           {
            "fillpattern": {
             "fillmode": "overlay",
             "size": 10,
             "solidity": 0.2
            },
            "type": "scatter"
           }
          ],
          "scatter3d": [
           {
            "line": {
             "colorbar": {
              "outlinewidth": 0,
              "ticks": ""
             }
            },
            "marker": {
             "colorbar": {
              "outlinewidth": 0,
              "ticks": ""
             }
            },
            "type": "scatter3d"
           }
          ],
          "scattercarpet": [
           {
            "marker": {
             "colorbar": {
              "outlinewidth": 0,
              "ticks": ""
             }
            },
            "type": "scattercarpet"
           }
          ],
          "scattergeo": [
           {
            "marker": {
             "colorbar": {
              "outlinewidth": 0,
              "ticks": ""
             }
            },
            "type": "scattergeo"
           }
          ],
          "scattergl": [
           {
            "marker": {
             "colorbar": {
              "outlinewidth": 0,
              "ticks": ""
             }
            },
            "type": "scattergl"
           }
          ],
          "scattermapbox": [
           {
            "marker": {
             "colorbar": {
              "outlinewidth": 0,
              "ticks": ""
             }
            },
            "type": "scattermapbox"
           }
          ],
          "scatterpolar": [
           {
            "marker": {
             "colorbar": {
              "outlinewidth": 0,
              "ticks": ""
             }
            },
            "type": "scatterpolar"
           }
          ],
          "scatterpolargl": [
           {
            "marker": {
             "colorbar": {
              "outlinewidth": 0,
              "ticks": ""
             }
            },
            "type": "scatterpolargl"
           }
          ],
          "scatterternary": [
           {
            "marker": {
             "colorbar": {
              "outlinewidth": 0,
              "ticks": ""
             }
            },
            "type": "scatterternary"
           }
          ],
          "surface": [
           {
            "colorbar": {
             "outlinewidth": 0,
             "ticks": ""
            },
            "colorscale": [
             [
              0,
              "#0d0887"
             ],
             [
              0.1111111111111111,
              "#46039f"
             ],
             [
              0.2222222222222222,
              "#7201a8"
             ],
             [
              0.3333333333333333,
              "#9c179e"
             ],
             [
              0.4444444444444444,
              "#bd3786"
             ],
             [
              0.5555555555555556,
              "#d8576b"
             ],
             [
              0.6666666666666666,
              "#ed7953"
             ],
             [
              0.7777777777777778,
              "#fb9f3a"
             ],
             [
              0.8888888888888888,
              "#fdca26"
             ],
             [
              1,
              "#f0f921"
             ]
            ],
            "type": "surface"
           }
          ],
          "table": [
           {
            "cells": {
             "fill": {
              "color": "#EBF0F8"
             },
             "line": {
              "color": "white"
             }
            },
            "header": {
             "fill": {
              "color": "#C8D4E3"
             },
             "line": {
              "color": "white"
             }
            },
            "type": "table"
           }
          ]
         },
         "layout": {
          "annotationdefaults": {
           "arrowcolor": "#2a3f5f",
           "arrowhead": 0,
           "arrowwidth": 1
          },
          "autotypenumbers": "strict",
          "coloraxis": {
           "colorbar": {
            "outlinewidth": 0,
            "ticks": ""
           }
          },
          "colorscale": {
           "diverging": [
            [
             0,
             "#8e0152"
            ],
            [
             0.1,
             "#c51b7d"
            ],
            [
             0.2,
             "#de77ae"
            ],
            [
             0.3,
             "#f1b6da"
            ],
            [
             0.4,
             "#fde0ef"
            ],
            [
             0.5,
             "#f7f7f7"
            ],
            [
             0.6,
             "#e6f5d0"
            ],
            [
             0.7,
             "#b8e186"
            ],
            [
             0.8,
             "#7fbc41"
            ],
            [
             0.9,
             "#4d9221"
            ],
            [
             1,
             "#276419"
            ]
           ],
           "sequential": [
            [
             0,
             "#0d0887"
            ],
            [
             0.1111111111111111,
             "#46039f"
            ],
            [
             0.2222222222222222,
             "#7201a8"
            ],
            [
             0.3333333333333333,
             "#9c179e"
            ],
            [
             0.4444444444444444,
             "#bd3786"
            ],
            [
             0.5555555555555556,
             "#d8576b"
            ],
            [
             0.6666666666666666,
             "#ed7953"
            ],
            [
             0.7777777777777778,
             "#fb9f3a"
            ],
            [
             0.8888888888888888,
             "#fdca26"
            ],
            [
             1,
             "#f0f921"
            ]
           ],
           "sequentialminus": [
            [
             0,
             "#0d0887"
            ],
            [
             0.1111111111111111,
             "#46039f"
            ],
            [
             0.2222222222222222,
             "#7201a8"
            ],
            [
             0.3333333333333333,
             "#9c179e"
            ],
            [
             0.4444444444444444,
             "#bd3786"
            ],
            [
             0.5555555555555556,
             "#d8576b"
            ],
            [
             0.6666666666666666,
             "#ed7953"
            ],
            [
             0.7777777777777778,
             "#fb9f3a"
            ],
            [
             0.8888888888888888,
             "#fdca26"
            ],
            [
             1,
             "#f0f921"
            ]
           ]
          },
          "colorway": [
           "#636efa",
           "#EF553B",
           "#00cc96",
           "#ab63fa",
           "#FFA15A",
           "#19d3f3",
           "#FF6692",
           "#B6E880",
           "#FF97FF",
           "#FECB52"
          ],
          "font": {
           "color": "#2a3f5f"
          },
          "geo": {
           "bgcolor": "white",
           "lakecolor": "white",
           "landcolor": "#E5ECF6",
           "showlakes": true,
           "showland": true,
           "subunitcolor": "white"
          },
          "hoverlabel": {
           "align": "left"
          },
          "hovermode": "closest",
          "mapbox": {
           "style": "light"
          },
          "paper_bgcolor": "white",
          "plot_bgcolor": "#E5ECF6",
          "polar": {
           "angularaxis": {
            "gridcolor": "white",
            "linecolor": "white",
            "ticks": ""
           },
           "bgcolor": "#E5ECF6",
           "radialaxis": {
            "gridcolor": "white",
            "linecolor": "white",
            "ticks": ""
           }
          },
          "scene": {
           "xaxis": {
            "backgroundcolor": "#E5ECF6",
            "gridcolor": "white",
            "gridwidth": 2,
            "linecolor": "white",
            "showbackground": true,
            "ticks": "",
            "zerolinecolor": "white"
           },
           "yaxis": {
            "backgroundcolor": "#E5ECF6",
            "gridcolor": "white",
            "gridwidth": 2,
            "linecolor": "white",
            "showbackground": true,
            "ticks": "",
            "zerolinecolor": "white"
           },
           "zaxis": {
            "backgroundcolor": "#E5ECF6",
            "gridcolor": "white",
            "gridwidth": 2,
            "linecolor": "white",
            "showbackground": true,
            "ticks": "",
            "zerolinecolor": "white"
           }
          },
          "shapedefaults": {
           "line": {
            "color": "#2a3f5f"
           }
          },
          "ternary": {
           "aaxis": {
            "gridcolor": "white",
            "linecolor": "white",
            "ticks": ""
           },
           "baxis": {
            "gridcolor": "white",
            "linecolor": "white",
            "ticks": ""
           },
           "bgcolor": "#E5ECF6",
           "caxis": {
            "gridcolor": "white",
            "linecolor": "white",
            "ticks": ""
           }
          },
          "title": {
           "x": 0.05
          },
          "xaxis": {
           "automargin": true,
           "gridcolor": "white",
           "linecolor": "white",
           "ticks": "",
           "title": {
            "standoff": 15
           },
           "zerolinecolor": "white",
           "zerolinewidth": 2
          },
          "yaxis": {
           "automargin": true,
           "gridcolor": "white",
           "linecolor": "white",
           "ticks": "",
           "title": {
            "standoff": 15
           },
           "zerolinecolor": "white",
           "zerolinewidth": 2
          }
         }
        },
        "title": {
         "text": "Surface Outside Face Incident Solar Radiation Rate per Area [W/m2] <br><sup> 7/1 to 7/1 between 0 and 23 @4 </sup>"
        }
       }
      }
     },
     "metadata": {},
     "output_type": "display_data"
    }
   ],
   "source": [
    "ez.plt.get_collection_for_variable(ez.eligible_vars.surf_incident_solar_rad)\n",
    "ez.plt.create_plot()"
   ]
  },
  {
   "cell_type": "code",
   "execution_count": null,
   "metadata": {},
   "outputs": [],
   "source": []
  },
  {
   "cell_type": "code",
   "execution_count": 15,
   "metadata": {},
   "outputs": [
    {
     "data": {
      "application/vnd.plotly.v1+json": {
       "config": {
        "plotlyServerURL": "https://plotly.com"
       },
       "data": [
        {
         "marker": {
          "cmax": 37.36,
          "cmin": 22.04,
          "colorbar": {
           "outlinewidth": 0,
           "thickness": 5,
           "ticktext": [
            22.04,
            37.36
           ],
           "tickvals": [
            22.04,
            25.87,
            29.7,
            33.53,
            37.36
           ]
          },
          "colorscale": [
           [
            0,
            "rgb(12,51,131)"
           ],
           [
            0.25,
            "rgb(10,136,186)"
           ],
           [
            0.5,
            "rgb(242,211,56)"
           ],
           [
            0.75,
            "rgb(242,143,56)"
           ],
           [
            1,
            "rgb(217,30,30)"
           ]
          ],
          "showscale": true
         },
         "mode": "markers",
         "type": "scatter",
         "x": [
          null
         ],
         "y": [
          null
         ]
        }
       ],
       "layout": {
        "shapes": [
         {
          "fillcolor": "rgb(242, 183, 56)",
          "label": {
           "font": {
            "color": "rgb(242, 183, 56)",
            "size": 9
           },
           "text": "B00-W01"
          },
          "line": {
           "color": "rgb(242, 183, 56)",
           "width": 3
          },
          "type": "line",
          "x0": 100,
          "x1": 100,
          "xref": "x",
          "y0": 70,
          "y1": 100,
          "yref": "y"
         },
         {
          "fillcolor": "rgb(144, 179, 111)",
          "label": {
           "font": {
            "color": "rgb(144, 179, 111)",
            "size": 9
           },
           "text": "B00-W02"
          },
          "line": {
           "color": "rgb(144, 179, 111)",
           "width": 3
          },
          "type": "line",
          "x0": 0,
          "x1": 100,
          "xref": "x",
          "y0": 100,
          "y1": 100,
          "yref": "y"
         },
         {
          "fillcolor": "rgb(155, 183, 105)",
          "label": {
           "font": {
            "color": "rgb(155, 183, 105)",
            "size": 9
           },
           "text": "B00-W03"
          },
          "line": {
           "color": "rgb(155, 183, 105)",
           "width": 3
          },
          "type": "line",
          "x0": 0,
          "x1": 0,
          "xref": "x",
          "y0": 70,
          "y1": 100,
          "yref": "y"
         },
         {
          "fillcolor": "rgb(12, 57, 135)",
          "label": {
           "font": {
            "color": "rgb(12, 57, 135)",
            "size": 9
           },
           "text": "B00-W04_1"
          },
          "line": {
           "color": "rgb(12, 57, 135)",
           "width": 3
          },
          "type": "line",
          "x0": 0,
          "x1": 50,
          "xref": "x",
          "y0": 70,
          "y1": 70,
          "yref": "y"
         },
         {
          "fillcolor": "rgb(218, 33, 31)",
          "label": {
           "font": {
            "color": "rgb(218, 33, 31)",
            "size": 9
           },
           "text": "B00-W04_2"
          },
          "line": {
           "color": "rgb(218, 33, 31)",
           "width": 3
          },
          "type": "line",
          "x0": 50,
          "x1": 100,
          "xref": "x",
          "y0": 70,
          "y1": 70,
          "yref": "y"
         },
         {
          "fillcolor": "rgb(242, 185, 56)",
          "label": {
           "font": {
            "color": "rgb(242, 185, 56)",
            "size": 9
           },
           "text": "B01-W01"
          },
          "line": {
           "color": "rgb(242, 185, 56)",
           "width": 3
          },
          "type": "line",
          "x0": 50,
          "x1": 50,
          "xref": "x",
          "y0": 0,
          "y1": 70,
          "yref": "y"
         },
         {
          "fillcolor": "rgb(156, 183, 104)",
          "label": {
           "font": {
            "color": "rgb(156, 183, 104)",
            "size": 9
           },
           "text": "B01-W03"
          },
          "line": {
           "color": "rgb(156, 183, 104)",
           "width": 3
          },
          "type": "line",
          "x0": 0,
          "x1": 0,
          "xref": "x",
          "y0": 0,
          "y1": 70,
          "yref": "y"
         },
         {
          "fillcolor": "rgb(217, 30, 30)",
          "label": {
           "font": {
            "color": "rgb(217, 30, 30)",
            "size": 9
           },
           "text": "B01-W04"
          },
          "line": {
           "color": "rgb(217, 30, 30)",
           "width": 3
          },
          "type": "line",
          "x0": 0,
          "x1": 50,
          "xref": "x",
          "y0": 0,
          "y1": 0,
          "yref": "y"
         },
         {
          "fillcolor": "rgb(12, 51, 131)",
          "label": {
           "font": {
            "color": "rgb(12, 51, 131)",
            "size": 9
           },
           "text": "B01-W02_1"
          },
          "line": {
           "color": "rgb(12, 51, 131)",
           "width": 3
          },
          "type": "line",
          "x0": 0,
          "x1": 50,
          "xref": "x",
          "y0": 70,
          "y1": 70,
          "yref": "y"
         },
         {
          "fillcolor": "rgb(189, 194, 86)",
          "label": {
           "font": {
            "color": "rgb(189, 194, 86)",
            "size": 9
           },
           "text": ""
          },
          "line": {
           "color": "rgb(189, 194, 86)",
           "width": 3
          },
          "type": "line",
          "x0": 49.5,
          "x1": 50.5,
          "xref": "x",
          "y0": 100,
          "y1": 100,
          "yref": "y"
         },
         {
          "fillcolor": "rgb(12, 57, 135)",
          "label": {
           "font": {
            "color": "rgb(12, 57, 135)",
            "size": 9
           },
           "text": ""
          },
          "line": {
           "color": "rgb(12, 57, 135)",
           "width": 3
          },
          "type": "line",
          "x0": 24.5,
          "x1": 25.5,
          "xref": "x",
          "y0": 70,
          "y1": 70,
          "yref": "y"
         },
         {
          "fillcolor": "rgb(32, 143, 174)",
          "label": {
           "font": {
            "color": "rgb(32, 143, 174)",
            "size": 9
           },
           "text": ""
          },
          "line": {
           "color": "rgb(32, 143, 174)",
           "width": 3
          },
          "type": "line",
          "x0": 24.75,
          "x1": 25.25,
          "xref": "x",
          "y0": 0,
          "y1": 0,
          "yref": "y"
         }
        ],
        "template": {
         "data": {
          "bar": [
           {
            "error_x": {
             "color": "#2a3f5f"
            },
            "error_y": {
             "color": "#2a3f5f"
            },
            "marker": {
             "line": {
              "color": "#E5ECF6",
              "width": 0.5
             },
             "pattern": {
              "fillmode": "overlay",
              "size": 10,
              "solidity": 0.2
             }
            },
            "type": "bar"
           }
          ],
          "barpolar": [
           {
            "marker": {
             "line": {
              "color": "#E5ECF6",
              "width": 0.5
             },
             "pattern": {
              "fillmode": "overlay",
              "size": 10,
              "solidity": 0.2
             }
            },
            "type": "barpolar"
           }
          ],
          "carpet": [
           {
            "aaxis": {
             "endlinecolor": "#2a3f5f",
             "gridcolor": "white",
             "linecolor": "white",
             "minorgridcolor": "white",
             "startlinecolor": "#2a3f5f"
            },
            "baxis": {
             "endlinecolor": "#2a3f5f",
             "gridcolor": "white",
             "linecolor": "white",
             "minorgridcolor": "white",
             "startlinecolor": "#2a3f5f"
            },
            "type": "carpet"
           }
          ],
          "choropleth": [
           {
            "colorbar": {
             "outlinewidth": 0,
             "ticks": ""
            },
            "type": "choropleth"
           }
          ],
          "contour": [
           {
            "colorbar": {
             "outlinewidth": 0,
             "ticks": ""
            },
            "colorscale": [
             [
              0,
              "#0d0887"
             ],
             [
              0.1111111111111111,
              "#46039f"
             ],
             [
              0.2222222222222222,
              "#7201a8"
             ],
             [
              0.3333333333333333,
              "#9c179e"
             ],
             [
              0.4444444444444444,
              "#bd3786"
             ],
             [
              0.5555555555555556,
              "#d8576b"
             ],
             [
              0.6666666666666666,
              "#ed7953"
             ],
             [
              0.7777777777777778,
              "#fb9f3a"
             ],
             [
              0.8888888888888888,
              "#fdca26"
             ],
             [
              1,
              "#f0f921"
             ]
            ],
            "type": "contour"
           }
          ],
          "contourcarpet": [
           {
            "colorbar": {
             "outlinewidth": 0,
             "ticks": ""
            },
            "type": "contourcarpet"
           }
          ],
          "heatmap": [
           {
            "colorbar": {
             "outlinewidth": 0,
             "ticks": ""
            },
            "colorscale": [
             [
              0,
              "#0d0887"
             ],
             [
              0.1111111111111111,
              "#46039f"
             ],
             [
              0.2222222222222222,
              "#7201a8"
             ],
             [
              0.3333333333333333,
              "#9c179e"
             ],
             [
              0.4444444444444444,
              "#bd3786"
             ],
             [
              0.5555555555555556,
              "#d8576b"
             ],
             [
              0.6666666666666666,
              "#ed7953"
             ],
             [
              0.7777777777777778,
              "#fb9f3a"
             ],
             [
              0.8888888888888888,
              "#fdca26"
             ],
             [
              1,
              "#f0f921"
             ]
            ],
            "type": "heatmap"
           }
          ],
          "heatmapgl": [
           {
            "colorbar": {
             "outlinewidth": 0,
             "ticks": ""
            },
            "colorscale": [
             [
              0,
              "#0d0887"
             ],
             [
              0.1111111111111111,
              "#46039f"
             ],
             [
              0.2222222222222222,
              "#7201a8"
             ],
             [
              0.3333333333333333,
              "#9c179e"
             ],
             [
              0.4444444444444444,
              "#bd3786"
             ],
             [
              0.5555555555555556,
              "#d8576b"
             ],
             [
              0.6666666666666666,
              "#ed7953"
             ],
             [
              0.7777777777777778,
              "#fb9f3a"
             ],
             [
              0.8888888888888888,
              "#fdca26"
             ],
             [
              1,
              "#f0f921"
             ]
            ],
            "type": "heatmapgl"
           }
          ],
          "histogram": [
           {
            "marker": {
             "pattern": {
              "fillmode": "overlay",
              "size": 10,
              "solidity": 0.2
             }
            },
            "type": "histogram"
           }
          ],
          "histogram2d": [
           {
            "colorbar": {
             "outlinewidth": 0,
             "ticks": ""
            },
            "colorscale": [
             [
              0,
              "#0d0887"
             ],
             [
              0.1111111111111111,
              "#46039f"
             ],
             [
              0.2222222222222222,
              "#7201a8"
             ],
             [
              0.3333333333333333,
              "#9c179e"
             ],
             [
              0.4444444444444444,
              "#bd3786"
             ],
             [
              0.5555555555555556,
              "#d8576b"
             ],
             [
              0.6666666666666666,
              "#ed7953"
             ],
             [
              0.7777777777777778,
              "#fb9f3a"
             ],
             [
              0.8888888888888888,
              "#fdca26"
             ],
             [
              1,
              "#f0f921"
             ]
            ],
            "type": "histogram2d"
           }
          ],
          "histogram2dcontour": [
           {
            "colorbar": {
             "outlinewidth": 0,
             "ticks": ""
            },
            "colorscale": [
             [
              0,
              "#0d0887"
             ],
             [
              0.1111111111111111,
              "#46039f"
             ],
             [
              0.2222222222222222,
              "#7201a8"
             ],
             [
              0.3333333333333333,
              "#9c179e"
             ],
             [
              0.4444444444444444,
              "#bd3786"
             ],
             [
              0.5555555555555556,
              "#d8576b"
             ],
             [
              0.6666666666666666,
              "#ed7953"
             ],
             [
              0.7777777777777778,
              "#fb9f3a"
             ],
             [
              0.8888888888888888,
              "#fdca26"
             ],
             [
              1,
              "#f0f921"
             ]
            ],
            "type": "histogram2dcontour"
           }
          ],
          "mesh3d": [
           {
            "colorbar": {
             "outlinewidth": 0,
             "ticks": ""
            },
            "type": "mesh3d"
           }
          ],
          "parcoords": [
           {
            "line": {
             "colorbar": {
              "outlinewidth": 0,
              "ticks": ""
             }
            },
            "type": "parcoords"
           }
          ],
          "pie": [
           {
            "automargin": true,
            "type": "pie"
           }
          ],
          "scatter": [
           {
            "fillpattern": {
             "fillmode": "overlay",
             "size": 10,
             "solidity": 0.2
            },
            "type": "scatter"
           }
          ],
          "scatter3d": [
           {
            "line": {
             "colorbar": {
              "outlinewidth": 0,
              "ticks": ""
             }
            },
            "marker": {
             "colorbar": {
              "outlinewidth": 0,
              "ticks": ""
             }
            },
            "type": "scatter3d"
           }
          ],
          "scattercarpet": [
           {
            "marker": {
             "colorbar": {
              "outlinewidth": 0,
              "ticks": ""
             }
            },
            "type": "scattercarpet"
           }
          ],
          "scattergeo": [
           {
            "marker": {
             "colorbar": {
              "outlinewidth": 0,
              "ticks": ""
             }
            },
            "type": "scattergeo"
           }
          ],
          "scattergl": [
           {
            "marker": {
             "colorbar": {
              "outlinewidth": 0,
              "ticks": ""
             }
            },
            "type": "scattergl"
           }
          ],
          "scattermapbox": [
           {
            "marker": {
             "colorbar": {
              "outlinewidth": 0,
              "ticks": ""
             }
            },
            "type": "scattermapbox"
           }
          ],
          "scatterpolar": [
           {
            "marker": {
             "colorbar": {
              "outlinewidth": 0,
              "ticks": ""
             }
            },
            "type": "scatterpolar"
           }
          ],
          "scatterpolargl": [
           {
            "marker": {
             "colorbar": {
              "outlinewidth": 0,
              "ticks": ""
             }
            },
            "type": "scatterpolargl"
           }
          ],
          "scatterternary": [
           {
            "marker": {
             "colorbar": {
              "outlinewidth": 0,
              "ticks": ""
             }
            },
            "type": "scatterternary"
           }
          ],
          "surface": [
           {
            "colorbar": {
             "outlinewidth": 0,
             "ticks": ""
            },
            "colorscale": [
             [
              0,
              "#0d0887"
             ],
             [
              0.1111111111111111,
              "#46039f"
             ],
             [
              0.2222222222222222,
              "#7201a8"
             ],
             [
              0.3333333333333333,
              "#9c179e"
             ],
             [
              0.4444444444444444,
              "#bd3786"
             ],
             [
              0.5555555555555556,
              "#d8576b"
             ],
             [
              0.6666666666666666,
              "#ed7953"
             ],
             [
              0.7777777777777778,
              "#fb9f3a"
             ],
             [
              0.8888888888888888,
              "#fdca26"
             ],
             [
              1,
              "#f0f921"
             ]
            ],
            "type": "surface"
           }
          ],
          "table": [
           {
            "cells": {
             "fill": {
              "color": "#EBF0F8"
             },
             "line": {
              "color": "white"
             }
            },
            "header": {
             "fill": {
              "color": "#C8D4E3"
             },
             "line": {
              "color": "white"
             }
            },
            "type": "table"
           }
          ]
         },
         "layout": {
          "annotationdefaults": {
           "arrowcolor": "#2a3f5f",
           "arrowhead": 0,
           "arrowwidth": 1
          },
          "autotypenumbers": "strict",
          "coloraxis": {
           "colorbar": {
            "outlinewidth": 0,
            "ticks": ""
           }
          },
          "colorscale": {
           "diverging": [
            [
             0,
             "#8e0152"
            ],
            [
             0.1,
             "#c51b7d"
            ],
            [
             0.2,
             "#de77ae"
            ],
            [
             0.3,
             "#f1b6da"
            ],
            [
             0.4,
             "#fde0ef"
            ],
            [
             0.5,
             "#f7f7f7"
            ],
            [
             0.6,
             "#e6f5d0"
            ],
            [
             0.7,
             "#b8e186"
            ],
            [
             0.8,
             "#7fbc41"
            ],
            [
             0.9,
             "#4d9221"
            ],
            [
             1,
             "#276419"
            ]
           ],
           "sequential": [
            [
             0,
             "#0d0887"
            ],
            [
             0.1111111111111111,
             "#46039f"
            ],
            [
             0.2222222222222222,
             "#7201a8"
            ],
            [
             0.3333333333333333,
             "#9c179e"
            ],
            [
             0.4444444444444444,
             "#bd3786"
            ],
            [
             0.5555555555555556,
             "#d8576b"
            ],
            [
             0.6666666666666666,
             "#ed7953"
            ],
            [
             0.7777777777777778,
             "#fb9f3a"
            ],
            [
             0.8888888888888888,
             "#fdca26"
            ],
            [
             1,
             "#f0f921"
            ]
           ],
           "sequentialminus": [
            [
             0,
             "#0d0887"
            ],
            [
             0.1111111111111111,
             "#46039f"
            ],
            [
             0.2222222222222222,
             "#7201a8"
            ],
            [
             0.3333333333333333,
             "#9c179e"
            ],
            [
             0.4444444444444444,
             "#bd3786"
            ],
            [
             0.5555555555555556,
             "#d8576b"
            ],
            [
             0.6666666666666666,
             "#ed7953"
            ],
            [
             0.7777777777777778,
             "#fb9f3a"
            ],
            [
             0.8888888888888888,
             "#fdca26"
            ],
            [
             1,
             "#f0f921"
            ]
           ]
          },
          "colorway": [
           "#636efa",
           "#EF553B",
           "#00cc96",
           "#ab63fa",
           "#FFA15A",
           "#19d3f3",
           "#FF6692",
           "#B6E880",
           "#FF97FF",
           "#FECB52"
          ],
          "font": {
           "color": "#2a3f5f"
          },
          "geo": {
           "bgcolor": "white",
           "lakecolor": "white",
           "landcolor": "#E5ECF6",
           "showlakes": true,
           "showland": true,
           "subunitcolor": "white"
          },
          "hoverlabel": {
           "align": "left"
          },
          "hovermode": "closest",
          "mapbox": {
           "style": "light"
          },
          "paper_bgcolor": "white",
          "plot_bgcolor": "#E5ECF6",
          "polar": {
           "angularaxis": {
            "gridcolor": "white",
            "linecolor": "white",
            "ticks": ""
           },
           "bgcolor": "#E5ECF6",
           "radialaxis": {
            "gridcolor": "white",
            "linecolor": "white",
            "ticks": ""
           }
          },
          "scene": {
           "xaxis": {
            "backgroundcolor": "#E5ECF6",
            "gridcolor": "white",
            "gridwidth": 2,
            "linecolor": "white",
            "showbackground": true,
            "ticks": "",
            "zerolinecolor": "white"
           },
           "yaxis": {
            "backgroundcolor": "#E5ECF6",
            "gridcolor": "white",
            "gridwidth": 2,
            "linecolor": "white",
            "showbackground": true,
            "ticks": "",
            "zerolinecolor": "white"
           },
           "zaxis": {
            "backgroundcolor": "#E5ECF6",
            "gridcolor": "white",
            "gridwidth": 2,
            "linecolor": "white",
            "showbackground": true,
            "ticks": "",
            "zerolinecolor": "white"
           }
          },
          "shapedefaults": {
           "line": {
            "color": "#2a3f5f"
           }
          },
          "ternary": {
           "aaxis": {
            "gridcolor": "white",
            "linecolor": "white",
            "ticks": ""
           },
           "baxis": {
            "gridcolor": "white",
            "linecolor": "white",
            "ticks": ""
           },
           "bgcolor": "#E5ECF6",
           "caxis": {
            "gridcolor": "white",
            "linecolor": "white",
            "ticks": ""
           }
          },
          "title": {
           "x": 0.05
          },
          "xaxis": {
           "automargin": true,
           "gridcolor": "white",
           "linecolor": "white",
           "ticks": "",
           "title": {
            "standoff": 15
           },
           "zerolinecolor": "white",
           "zerolinewidth": 2
          },
          "yaxis": {
           "automargin": true,
           "gridcolor": "white",
           "linecolor": "white",
           "ticks": "",
           "title": {
            "standoff": 15
           },
           "zerolinecolor": "white",
           "zerolinewidth": 2
          }
         }
        },
        "title": {
         "text": "Surface Outside Face Temperature [C] <br><sup> 7/1 to 7/1 between 0 and 23 @4 </sup><sup>- Time = 12:00 </sup>"
        },
        "xaxis": {
         "range": [
          -20,
          120
         ]
        },
        "yaxis": {
         "range": [
          -20,
          120
         ]
        }
       }
      }
     },
     "metadata": {},
     "output_type": "display_data"
    }
   ],
   "source": [
    "ez.plt.get_collection_for_variable(ez.eligible_vars.surf_outside_temp)\n",
    "ez.plt.create_plot(PlotTypes.SURFACE_2D, time(12,0))\n"
   ]
  },
  {
   "cell_type": "code",
   "execution_count": 16,
   "metadata": {},
   "outputs": [
    {
     "data": {
      "application/vnd.plotly.v1+json": {
       "config": {
        "plotlyServerURL": "https://plotly.com"
       },
       "data": [
        {
         "marker": {
          "cmax": 26.61,
          "cmin": 21.78,
          "colorbar": {
           "outlinewidth": 0,
           "thickness": 5,
           "ticktext": [
            21.78,
            26.61
           ],
           "tickvals": [
            21.78,
            22.99,
            24.2,
            25.4,
            26.61
           ]
          },
          "colorscale": [
           [
            0,
            "rgb(12,51,131)"
           ],
           [
            0.25,
            "rgb(10,136,186)"
           ],
           [
            0.5,
            "rgb(242,211,56)"
           ],
           [
            0.75,
            "rgb(242,143,56)"
           ],
           [
            1,
            "rgb(217,30,30)"
           ]
          ],
          "showscale": true
         },
         "mode": "markers",
         "type": "scatter",
         "x": [
          null
         ],
         "y": [
          null
         ]
        }
       ],
       "layout": {
        "shapes": [
         {
          "fillcolor": "rgb(216, 203, 71)",
          "label": {
           "font": {
            "color": "rgb(216, 203, 71)",
            "size": 9
           },
           "text": "B00-W01"
          },
          "line": {
           "color": "rgb(216, 203, 71)",
           "width": 3
          },
          "type": "line",
          "x0": 100,
          "x1": 100,
          "xref": "x",
          "y0": 70,
          "y1": 100,
          "yref": "y"
         },
         {
          "fillcolor": "rgb(11, 76, 147)",
          "label": {
           "font": {
            "color": "rgb(11, 76, 147)",
            "size": 9
           },
           "text": "B00-W02"
          },
          "line": {
           "color": "rgb(11, 76, 147)",
           "width": 3
          },
          "type": "line",
          "x0": 0,
          "x1": 100,
          "xref": "x",
          "y0": 100,
          "y1": 100,
          "yref": "y"
         },
         {
          "fillcolor": "rgb(12, 51, 131)",
          "label": {
           "font": {
            "color": "rgb(12, 51, 131)",
            "size": 9
           },
           "text": "B00-W03"
          },
          "line": {
           "color": "rgb(12, 51, 131)",
           "width": 3
          },
          "type": "line",
          "x0": 0,
          "x1": 0,
          "xref": "x",
          "y0": 70,
          "y1": 100,
          "yref": "y"
         },
         {
          "fillcolor": "rgb(12, 69, 143)",
          "label": {
           "font": {
            "color": "rgb(12, 69, 143)",
            "size": 9
           },
           "text": "B00-W04_1"
          },
          "line": {
           "color": "rgb(12, 69, 143)",
           "width": 3
          },
          "type": "line",
          "x0": 0,
          "x1": 50,
          "xref": "x",
          "y0": 70,
          "y1": 70,
          "yref": "y"
         },
         {
          "fillcolor": "rgb(12, 60, 137)",
          "label": {
           "font": {
            "color": "rgb(12, 60, 137)",
            "size": 9
           },
           "text": "B00-W04_2"
          },
          "line": {
           "color": "rgb(12, 60, 137)",
           "width": 3
          },
          "type": "line",
          "x0": 50,
          "x1": 100,
          "xref": "x",
          "y0": 70,
          "y1": 70,
          "yref": "y"
         },
         {
          "fillcolor": "rgb(242, 207, 56)",
          "label": {
           "font": {
            "color": "rgb(242, 207, 56)",
            "size": 9
           },
           "text": "B01-W01"
          },
          "line": {
           "color": "rgb(242, 207, 56)",
           "width": 3
          },
          "type": "line",
          "x0": 50,
          "x1": 50,
          "xref": "x",
          "y0": 0,
          "y1": 70,
          "yref": "y"
         },
         {
          "fillcolor": "rgb(11, 74, 146)",
          "label": {
           "font": {
            "color": "rgb(11, 74, 146)",
            "size": 9
           },
           "text": "B01-W03"
          },
          "line": {
           "color": "rgb(11, 74, 146)",
           "width": 3
          },
          "type": "line",
          "x0": 0,
          "x1": 0,
          "xref": "x",
          "y0": 0,
          "y1": 70,
          "yref": "y"
         },
         {
          "fillcolor": "rgb(11, 83, 151)",
          "label": {
           "font": {
            "color": "rgb(11, 83, 151)",
            "size": 9
           },
           "text": "B01-W04"
          },
          "line": {
           "color": "rgb(11, 83, 151)",
           "width": 3
          },
          "type": "line",
          "x0": 0,
          "x1": 50,
          "xref": "x",
          "y0": 0,
          "y1": 0,
          "yref": "y"
         },
         {
          "fillcolor": "rgb(11, 87, 154)",
          "label": {
           "font": {
            "color": "rgb(11, 87, 154)",
            "size": 9
           },
           "text": "B01-W02_1"
          },
          "line": {
           "color": "rgb(11, 87, 154)",
           "width": 3
          },
          "type": "line",
          "x0": 0,
          "x1": 50,
          "xref": "x",
          "y0": 70,
          "y1": 70,
          "yref": "y"
         },
         {
          "fillcolor": "rgb(11, 78, 149)",
          "label": {
           "font": {
            "color": "rgb(11, 78, 149)",
            "size": 9
           },
           "text": ""
          },
          "line": {
           "color": "rgb(11, 78, 149)",
           "width": 3
          },
          "type": "line",
          "x0": 49.5,
          "x1": 50.5,
          "xref": "x",
          "y0": 100,
          "y1": 100,
          "yref": "y"
         },
         {
          "fillcolor": "rgb(12, 69, 143)",
          "label": {
           "font": {
            "color": "rgb(12, 69, 143)",
            "size": 9
           },
           "text": ""
          },
          "line": {
           "color": "rgb(12, 69, 143)",
           "width": 3
          },
          "type": "line",
          "x0": 24.5,
          "x1": 25.5,
          "xref": "x",
          "y0": 70,
          "y1": 70,
          "yref": "y"
         },
         {
          "fillcolor": "rgb(217, 30, 30)",
          "label": {
           "font": {
            "color": "rgb(217, 30, 30)",
            "size": 9
           },
           "text": ""
          },
          "line": {
           "color": "rgb(217, 30, 30)",
           "width": 3
          },
          "type": "line",
          "x0": 24.75,
          "x1": 25.25,
          "xref": "x",
          "y0": 0,
          "y1": 0,
          "yref": "y"
         }
        ],
        "template": {
         "data": {
          "bar": [
           {
            "error_x": {
             "color": "#2a3f5f"
            },
            "error_y": {
             "color": "#2a3f5f"
            },
            "marker": {
             "line": {
              "color": "#E5ECF6",
              "width": 0.5
             },
             "pattern": {
              "fillmode": "overlay",
              "size": 10,
              "solidity": 0.2
             }
            },
            "type": "bar"
           }
          ],
          "barpolar": [
           {
            "marker": {
             "line": {
              "color": "#E5ECF6",
              "width": 0.5
             },
             "pattern": {
              "fillmode": "overlay",
              "size": 10,
              "solidity": 0.2
             }
            },
            "type": "barpolar"
           }
          ],
          "carpet": [
           {
            "aaxis": {
             "endlinecolor": "#2a3f5f",
             "gridcolor": "white",
             "linecolor": "white",
             "minorgridcolor": "white",
             "startlinecolor": "#2a3f5f"
            },
            "baxis": {
             "endlinecolor": "#2a3f5f",
             "gridcolor": "white",
             "linecolor": "white",
             "minorgridcolor": "white",
             "startlinecolor": "#2a3f5f"
            },
            "type": "carpet"
           }
          ],
          "choropleth": [
           {
            "colorbar": {
             "outlinewidth": 0,
             "ticks": ""
            },
            "type": "choropleth"
           }
          ],
          "contour": [
           {
            "colorbar": {
             "outlinewidth": 0,
             "ticks": ""
            },
            "colorscale": [
             [
              0,
              "#0d0887"
             ],
             [
              0.1111111111111111,
              "#46039f"
             ],
             [
              0.2222222222222222,
              "#7201a8"
             ],
             [
              0.3333333333333333,
              "#9c179e"
             ],
             [
              0.4444444444444444,
              "#bd3786"
             ],
             [
              0.5555555555555556,
              "#d8576b"
             ],
             [
              0.6666666666666666,
              "#ed7953"
             ],
             [
              0.7777777777777778,
              "#fb9f3a"
             ],
             [
              0.8888888888888888,
              "#fdca26"
             ],
             [
              1,
              "#f0f921"
             ]
            ],
            "type": "contour"
           }
          ],
          "contourcarpet": [
           {
            "colorbar": {
             "outlinewidth": 0,
             "ticks": ""
            },
            "type": "contourcarpet"
           }
          ],
          "heatmap": [
           {
            "colorbar": {
             "outlinewidth": 0,
             "ticks": ""
            },
            "colorscale": [
             [
              0,
              "#0d0887"
             ],
             [
              0.1111111111111111,
              "#46039f"
             ],
             [
              0.2222222222222222,
              "#7201a8"
             ],
             [
              0.3333333333333333,
              "#9c179e"
             ],
             [
              0.4444444444444444,
              "#bd3786"
             ],
             [
              0.5555555555555556,
              "#d8576b"
             ],
             [
              0.6666666666666666,
              "#ed7953"
             ],
             [
              0.7777777777777778,
              "#fb9f3a"
             ],
             [
              0.8888888888888888,
              "#fdca26"
             ],
             [
              1,
              "#f0f921"
             ]
            ],
            "type": "heatmap"
           }
          ],
          "heatmapgl": [
           {
            "colorbar": {
             "outlinewidth": 0,
             "ticks": ""
            },
            "colorscale": [
             [
              0,
              "#0d0887"
             ],
             [
              0.1111111111111111,
              "#46039f"
             ],
             [
              0.2222222222222222,
              "#7201a8"
             ],
             [
              0.3333333333333333,
              "#9c179e"
             ],
             [
              0.4444444444444444,
              "#bd3786"
             ],
             [
              0.5555555555555556,
              "#d8576b"
             ],
             [
              0.6666666666666666,
              "#ed7953"
             ],
             [
              0.7777777777777778,
              "#fb9f3a"
             ],
             [
              0.8888888888888888,
              "#fdca26"
             ],
             [
              1,
              "#f0f921"
             ]
            ],
            "type": "heatmapgl"
           }
          ],
          "histogram": [
           {
            "marker": {
             "pattern": {
              "fillmode": "overlay",
              "size": 10,
              "solidity": 0.2
             }
            },
            "type": "histogram"
           }
          ],
          "histogram2d": [
           {
            "colorbar": {
             "outlinewidth": 0,
             "ticks": ""
            },
            "colorscale": [
             [
              0,
              "#0d0887"
             ],
             [
              0.1111111111111111,
              "#46039f"
             ],
             [
              0.2222222222222222,
              "#7201a8"
             ],
             [
              0.3333333333333333,
              "#9c179e"
             ],
             [
              0.4444444444444444,
              "#bd3786"
             ],
             [
              0.5555555555555556,
              "#d8576b"
             ],
             [
              0.6666666666666666,
              "#ed7953"
             ],
             [
              0.7777777777777778,
              "#fb9f3a"
             ],
             [
              0.8888888888888888,
              "#fdca26"
             ],
             [
              1,
              "#f0f921"
             ]
            ],
            "type": "histogram2d"
           }
          ],
          "histogram2dcontour": [
           {
            "colorbar": {
             "outlinewidth": 0,
             "ticks": ""
            },
            "colorscale": [
             [
              0,
              "#0d0887"
             ],
             [
              0.1111111111111111,
              "#46039f"
             ],
             [
              0.2222222222222222,
              "#7201a8"
             ],
             [
              0.3333333333333333,
              "#9c179e"
             ],
             [
              0.4444444444444444,
              "#bd3786"
             ],
             [
              0.5555555555555556,
              "#d8576b"
             ],
             [
              0.6666666666666666,
              "#ed7953"
             ],
             [
              0.7777777777777778,
              "#fb9f3a"
             ],
             [
              0.8888888888888888,
              "#fdca26"
             ],
             [
              1,
              "#f0f921"
             ]
            ],
            "type": "histogram2dcontour"
           }
          ],
          "mesh3d": [
           {
            "colorbar": {
             "outlinewidth": 0,
             "ticks": ""
            },
            "type": "mesh3d"
           }
          ],
          "parcoords": [
           {
            "line": {
             "colorbar": {
              "outlinewidth": 0,
              "ticks": ""
             }
            },
            "type": "parcoords"
           }
          ],
          "pie": [
           {
            "automargin": true,
            "type": "pie"
           }
          ],
          "scatter": [
           {
            "fillpattern": {
             "fillmode": "overlay",
             "size": 10,
             "solidity": 0.2
            },
            "type": "scatter"
           }
          ],
          "scatter3d": [
           {
            "line": {
             "colorbar": {
              "outlinewidth": 0,
              "ticks": ""
             }
            },
            "marker": {
             "colorbar": {
              "outlinewidth": 0,
              "ticks": ""
             }
            },
            "type": "scatter3d"
           }
          ],
          "scattercarpet": [
           {
            "marker": {
             "colorbar": {
              "outlinewidth": 0,
              "ticks": ""
             }
            },
            "type": "scattercarpet"
           }
          ],
          "scattergeo": [
           {
            "marker": {
             "colorbar": {
              "outlinewidth": 0,
              "ticks": ""
             }
            },
            "type": "scattergeo"
           }
          ],
          "scattergl": [
           {
            "marker": {
             "colorbar": {
              "outlinewidth": 0,
              "ticks": ""
             }
            },
            "type": "scattergl"
           }
          ],
          "scattermapbox": [
           {
            "marker": {
             "colorbar": {
              "outlinewidth": 0,
              "ticks": ""
             }
            },
            "type": "scattermapbox"
           }
          ],
          "scatterpolar": [
           {
            "marker": {
             "colorbar": {
              "outlinewidth": 0,
              "ticks": ""
             }
            },
            "type": "scatterpolar"
           }
          ],
          "scatterpolargl": [
           {
            "marker": {
             "colorbar": {
              "outlinewidth": 0,
              "ticks": ""
             }
            },
            "type": "scatterpolargl"
           }
          ],
          "scatterternary": [
           {
            "marker": {
             "colorbar": {
              "outlinewidth": 0,
              "ticks": ""
             }
            },
            "type": "scatterternary"
           }
          ],
          "surface": [
           {
            "colorbar": {
             "outlinewidth": 0,
             "ticks": ""
            },
            "colorscale": [
             [
              0,
              "#0d0887"
             ],
             [
              0.1111111111111111,
              "#46039f"
             ],
             [
              0.2222222222222222,
              "#7201a8"
             ],
             [
              0.3333333333333333,
              "#9c179e"
             ],
             [
              0.4444444444444444,
              "#bd3786"
             ],
             [
              0.5555555555555556,
              "#d8576b"
             ],
             [
              0.6666666666666666,
              "#ed7953"
             ],
             [
              0.7777777777777778,
              "#fb9f3a"
             ],
             [
              0.8888888888888888,
              "#fdca26"
             ],
             [
              1,
              "#f0f921"
             ]
            ],
            "type": "surface"
           }
          ],
          "table": [
           {
            "cells": {
             "fill": {
              "color": "#EBF0F8"
             },
             "line": {
              "color": "white"
             }
            },
            "header": {
             "fill": {
              "color": "#C8D4E3"
             },
             "line": {
              "color": "white"
             }
            },
            "type": "table"
           }
          ]
         },
         "layout": {
          "annotationdefaults": {
           "arrowcolor": "#2a3f5f",
           "arrowhead": 0,
           "arrowwidth": 1
          },
          "autotypenumbers": "strict",
          "coloraxis": {
           "colorbar": {
            "outlinewidth": 0,
            "ticks": ""
           }
          },
          "colorscale": {
           "diverging": [
            [
             0,
             "#8e0152"
            ],
            [
             0.1,
             "#c51b7d"
            ],
            [
             0.2,
             "#de77ae"
            ],
            [
             0.3,
             "#f1b6da"
            ],
            [
             0.4,
             "#fde0ef"
            ],
            [
             0.5,
             "#f7f7f7"
            ],
            [
             0.6,
             "#e6f5d0"
            ],
            [
             0.7,
             "#b8e186"
            ],
            [
             0.8,
             "#7fbc41"
            ],
            [
             0.9,
             "#4d9221"
            ],
            [
             1,
             "#276419"
            ]
           ],
           "sequential": [
            [
             0,
             "#0d0887"
            ],
            [
             0.1111111111111111,
             "#46039f"
            ],
            [
             0.2222222222222222,
             "#7201a8"
            ],
            [
             0.3333333333333333,
             "#9c179e"
            ],
            [
             0.4444444444444444,
             "#bd3786"
            ],
            [
             0.5555555555555556,
             "#d8576b"
            ],
            [
             0.6666666666666666,
             "#ed7953"
            ],
            [
             0.7777777777777778,
             "#fb9f3a"
            ],
            [
             0.8888888888888888,
             "#fdca26"
            ],
            [
             1,
             "#f0f921"
            ]
           ],
           "sequentialminus": [
            [
             0,
             "#0d0887"
            ],
            [
             0.1111111111111111,
             "#46039f"
            ],
            [
             0.2222222222222222,
             "#7201a8"
            ],
            [
             0.3333333333333333,
             "#9c179e"
            ],
            [
             0.4444444444444444,
             "#bd3786"
            ],
            [
             0.5555555555555556,
             "#d8576b"
            ],
            [
             0.6666666666666666,
             "#ed7953"
            ],
            [
             0.7777777777777778,
             "#fb9f3a"
            ],
            [
             0.8888888888888888,
             "#fdca26"
            ],
            [
             1,
             "#f0f921"
            ]
           ]
          },
          "colorway": [
           "#636efa",
           "#EF553B",
           "#00cc96",
           "#ab63fa",
           "#FFA15A",
           "#19d3f3",
           "#FF6692",
           "#B6E880",
           "#FF97FF",
           "#FECB52"
          ],
          "font": {
           "color": "#2a3f5f"
          },
          "geo": {
           "bgcolor": "white",
           "lakecolor": "white",
           "landcolor": "#E5ECF6",
           "showlakes": true,
           "showland": true,
           "subunitcolor": "white"
          },
          "hoverlabel": {
           "align": "left"
          },
          "hovermode": "closest",
          "mapbox": {
           "style": "light"
          },
          "paper_bgcolor": "white",
          "plot_bgcolor": "#E5ECF6",
          "polar": {
           "angularaxis": {
            "gridcolor": "white",
            "linecolor": "white",
            "ticks": ""
           },
           "bgcolor": "#E5ECF6",
           "radialaxis": {
            "gridcolor": "white",
            "linecolor": "white",
            "ticks": ""
           }
          },
          "scene": {
           "xaxis": {
            "backgroundcolor": "#E5ECF6",
            "gridcolor": "white",
            "gridwidth": 2,
            "linecolor": "white",
            "showbackground": true,
            "ticks": "",
            "zerolinecolor": "white"
           },
           "yaxis": {
            "backgroundcolor": "#E5ECF6",
            "gridcolor": "white",
            "gridwidth": 2,
            "linecolor": "white",
            "showbackground": true,
            "ticks": "",
            "zerolinecolor": "white"
           },
           "zaxis": {
            "backgroundcolor": "#E5ECF6",
            "gridcolor": "white",
            "gridwidth": 2,
            "linecolor": "white",
            "showbackground": true,
            "ticks": "",
            "zerolinecolor": "white"
           }
          },
          "shapedefaults": {
           "line": {
            "color": "#2a3f5f"
           }
          },
          "ternary": {
           "aaxis": {
            "gridcolor": "white",
            "linecolor": "white",
            "ticks": ""
           },
           "baxis": {
            "gridcolor": "white",
            "linecolor": "white",
            "ticks": ""
           },
           "bgcolor": "#E5ECF6",
           "caxis": {
            "gridcolor": "white",
            "linecolor": "white",
            "ticks": ""
           }
          },
          "title": {
           "x": 0.05
          },
          "xaxis": {
           "automargin": true,
           "gridcolor": "white",
           "linecolor": "white",
           "ticks": "",
           "title": {
            "standoff": 15
           },
           "zerolinecolor": "white",
           "zerolinewidth": 2
          },
          "yaxis": {
           "automargin": true,
           "gridcolor": "white",
           "linecolor": "white",
           "ticks": "",
           "title": {
            "standoff": 15
           },
           "zerolinecolor": "white",
           "zerolinewidth": 2
          }
         }
        },
        "title": {
         "text": "Surface Inside Face Temperature [C] <br><sup> 7/1 to 7/1 between 0 and 23 @4 </sup><sup>- Time = 12:00 </sup>"
        },
        "xaxis": {
         "range": [
          -20,
          120
         ]
        },
        "yaxis": {
         "range": [
          -20,
          120
         ]
        }
       }
      }
     },
     "metadata": {},
     "output_type": "display_data"
    }
   ],
   "source": [
    "ez.plt.get_collection_for_variable(ez.eligible_vars.surf_inside_temp)\n",
    "ez.plt.create_plot(PlotTypes.SURFACE_2D, time(12,0))"
   ]
  }
 ],
 "metadata": {
  "kernelspec": {
   "display_name": "gqenv",
   "language": "python",
   "name": "python3"
  },
  "language_info": {
   "codemirror_mode": {
    "name": "ipython",
    "version": 3
   },
   "file_extension": ".py",
   "mimetype": "text/x-python",
   "name": "python",
   "nbconvert_exporter": "python",
   "pygments_lexer": "ipython3",
   "version": "3.9.15"
  }
 },
 "nbformat": 4,
 "nbformat_minor": 2
}
