{
 "cells": [
  {
   "cell_type": "code",
   "execution_count": 1,
   "metadata": {},
   "outputs": [],
   "source": [
    "import sys\n",
    "sys.path.append(\"/Users/julietnwagwuume-ezeoke/_UILCode/gqe-phd/geomeppy/_scripts\")\n",
    "\n",
    "from geomeppy import IDF\n",
    "\n",
    "from case_edits.defaults import IDD_PATH, WEATHER_FILE\n",
    "from case_edits.epcase import EneryPlusCaseEditor\n",
    "from case_edits.methods.materials import Materials"
   ]
  },
  {
   "cell_type": "code",
   "execution_count": 2,
   "metadata": {},
   "outputs": [],
   "source": [
    "TEST_CASE = \"tests/test08_windoor\"\n",
    "SURFACE_CONSTRUCTIONS_CASE = \"cases/constructions/ASHRAE_2005_HOF_Materials.idf\""
   ]
  },
  {
   "cell_type": "code",
   "execution_count": 3,
   "metadata": {},
   "outputs": [],
   "source": [
    "epcase = EneryPlusCaseEditor(TEST_CASE)\n",
    "mats = Materials(epcase)"
   ]
  },
  {
   "cell_type": "code",
   "execution_count": 5,
   "metadata": {},
   "outputs": [],
   "source": [
    "mats.study_reference_idf(SURFACE_CONSTRUCTIONS_CASE)"
   ]
  },
  {
   "cell_type": "code",
   "execution_count": null,
   "metadata": {},
   "outputs": [],
   "source": [
    "mats.ref_idf.idfobjects"
   ]
  },
  {
   "cell_type": "code",
   "execution_count": 16,
   "metadata": {},
   "outputs": [
    {
     "data": {
      "text/plain": [
       "'MATERIAL'"
      ]
     },
     "execution_count": 16,
     "metadata": {},
     "output_type": "execute_result"
    }
   ],
   "source": [
    "\"material\".upper()"
   ]
  },
  {
   "cell_type": "code",
   "execution_count": 20,
   "metadata": {},
   "outputs": [
    {
     "data": {
      "text/plain": [
       "['MATERIAL', 'MATERIAL:NOMASS', 'MATERIAL:AIRGAP']"
      ]
     },
     "execution_count": 20,
     "metadata": {},
     "output_type": "execute_result"
    }
   ],
   "source": [
    "# get all material objects ..\n",
    "# \n",
    "\n",
    "material_groups = [] \n",
    "for k,v in mats.ref_idf.idfobjects.items():\n",
    "    if v:\n",
    "        if \"MATERIAL\" in k:\n",
    "            material_groups.append(k)\n",
    "\n",
    "material_groups\n",
    "\n",
    "            "
   ]
  },
  {
   "cell_type": "code",
   "execution_count": 11,
   "metadata": {},
   "outputs": [
    {
     "data": {
      "text/plain": [
       "['Light Exterior Wall',\n",
       " 'Light Roof/Ceiling',\n",
       " 'Light Partitions',\n",
       " 'Light Floor',\n",
       " 'Light Furnishings',\n",
       " 'Medium Exterior Wall',\n",
       " 'Medium Roof/Ceiling',\n",
       " 'Medium Partitions',\n",
       " 'Medium Floor',\n",
       " 'Medium Furnishings',\n",
       " 'Heavy Exterior Wall',\n",
       " 'Heavy Roof/Ceiling',\n",
       " 'Heavy Partitions',\n",
       " 'Heavy Floor',\n",
       " 'Heavy Furnishings']"
      ]
     },
     "execution_count": 11,
     "metadata": {},
     "output_type": "execute_result"
    }
   ],
   "source": [
    "mats.constuction_names"
   ]
  },
  {
   "cell_type": "code",
   "execution_count": 5,
   "metadata": {},
   "outputs": [],
   "source": [
    "mats.get_construction_materials('Light Partitions')"
   ]
  },
  {
   "cell_type": "code",
   "execution_count": 12,
   "metadata": {},
   "outputs": [],
   "source": [
    "mats.get_construction_materials('Light Furnishings')"
   ]
  },
  {
   "cell_type": "code",
   "execution_count": 6,
   "metadata": {},
   "outputs": [
    {
     "data": {
      "text/plain": [
       "\n",
       "Construction,\n",
       "    Light Partitions,         !- Name\n",
       "    G01a 19mm gypsum board,    !- Outside Layer\n",
       "    F04 Wall air space resistance,    !- Layer 2\n",
       "    G01a 19mm gypsum board;    !- Layer 3"
      ]
     },
     "execution_count": 6,
     "metadata": {},
     "output_type": "execute_result"
    }
   ],
   "source": [
    "mats.const"
   ]
  },
  {
   "cell_type": "code",
   "execution_count": 7,
   "metadata": {},
   "outputs": [
    {
     "data": {
      "text/plain": [
       "[\n",
       " Material,\n",
       "     G01a 19mm gypsum board,    !- Name\n",
       "     MediumSmooth,             !- Roughness\n",
       "     0.019,                    !- Thickness\n",
       "     0.16,                     !- Conductivity\n",
       "     800,                      !- Density\n",
       "     1090;                     !- Specific Heat,\n",
       " \n",
       " Material:AirGap,\n",
       "     F04 Wall air space resistance,    !- Name\n",
       "     0.15;                     !- Thermal Resistance,\n",
       " \n",
       " Material,\n",
       "     G01a 19mm gypsum board,    !- Name\n",
       "     MediumSmooth,             !- Roughness\n",
       "     0.019,                    !- Thickness\n",
       "     0.16,                     !- Conductivity\n",
       "     800,                      !- Density\n",
       "     1090;                     !- Specific Heat]"
      ]
     },
     "execution_count": 7,
     "metadata": {},
     "output_type": "execute_result"
    }
   ],
   "source": [
    "mats.const_materials"
   ]
  },
  {
   "cell_type": "code",
   "execution_count": 13,
   "metadata": {},
   "outputs": [
    {
     "data": {
      "text/plain": [
       "[\n",
       "Material,\n",
       "    G01a 19mm gypsum board,    !- Name\n",
       "    MediumSmooth,             !- Roughness\n",
       "    0.019,                    !- Thickness\n",
       "    0.16,                     !- Conductivity\n",
       "    800,                      !- Density\n",
       "    1090;                     !- Specific Heat\n",
       ", \n",
       "Material,\n",
       "    G01a 19mm gypsum board,    !- Name\n",
       "    MediumSmooth,             !- Roughness\n",
       "    0.019,                    !- Thickness\n",
       "    0.16,                     !- Conductivity\n",
       "    800,                      !- Density\n",
       "    1090;                     !- Specific Heat\n",
       "]"
      ]
     },
     "execution_count": 13,
     "metadata": {},
     "output_type": "execute_result"
    }
   ],
   "source": [
    "mats.epcase.idf.idfobjects[\"MATERIAL\"]"
   ]
  },
  {
   "cell_type": "code",
   "execution_count": 14,
   "metadata": {},
   "outputs": [
    {
     "name": "stdout",
     "output_type": "stream",
     "text": [
      "True\n"
     ]
    }
   ],
   "source": [
    "if mats.const not in mats.epcase.idf.idfobjects[\"CONSTRUCTION\"]:\n",
    "    print(True)"
   ]
  },
  {
   "cell_type": "code",
   "execution_count": 15,
   "metadata": {},
   "outputs": [
    {
     "data": {
      "text/plain": [
       "[\n",
       "Construction,\n",
       "    Light Partitions,         !- Name\n",
       "    G01a 19mm gypsum board,    !- Outside Layer\n",
       "    F04 Wall air space resistance,    !- Layer 2\n",
       "    G01a 19mm gypsum board;    !- Layer 3\n",
       "]"
      ]
     },
     "execution_count": 15,
     "metadata": {},
     "output_type": "execute_result"
    }
   ],
   "source": [
    "mats.epcase.idf.idfobjects[\"CONSTRUCTION\"]"
   ]
  }
 ],
 "metadata": {
  "kernelspec": {
   "display_name": "gqenv",
   "language": "python",
   "name": "python3"
  },
  "language_info": {
   "codemirror_mode": {
    "name": "ipython",
    "version": 3
   },
   "file_extension": ".py",
   "mimetype": "text/x-python",
   "name": "python",
   "nbconvert_exporter": "python",
   "pygments_lexer": "ipython3",
   "version": "3.9.15"
  }
 },
 "nbformat": 4,
 "nbformat_minor": 2
}
