{
 "cells": [
  {
   "cell_type": "code",
   "execution_count": 3,
   "metadata": {},
   "outputs": [],
   "source": [
    "import sys\n",
    "sys.path.append(\"/Users/julietnwagwuume-ezeoke/_UILCode/gqe-phd/geomeppy/_scripts\")\n",
    "\n",
    "from recipes.two_zone import input\n",
    "from case_edits.ezcase import EzCase\n",
    "\n",
    "from methods.shadings.creator import ShadingCreator\n",
    "\n",
    "from pprint import pprint\n",
    "\n",
    "from recipes.subsurface_defaults import DEFAULT_DOOR, DEFAULT_WINDOW"
   ]
  },
  {
   "cell_type": "code",
   "execution_count": 4,
   "metadata": {},
   "outputs": [],
   "source": [
    "DEFAULT_WINDOW.SHADING = True"
   ]
  },
  {
   "cell_type": "code",
   "execution_count": 5,
   "metadata": {},
   "outputs": [
    {
     "name": "stdout",
     "output_type": "stream",
     "text": [
      "Added 5 walls \n",
      "Added 4 walls \n",
      "out.idf exists\n",
      "looking for sql\n"
     ]
    }
   ],
   "source": [
    "ez = EzCase(input, RUN_CASE=False)"
   ]
  },
  {
   "cell_type": "code",
   "execution_count": 6,
   "metadata": {},
   "outputs": [
    {
     "data": {
      "text/plain": [
       "[\n",
       "SHADING:OVERHANG,\n",
       "    Block 01 Storey 0 Wall 0004 Window Shading,    !- Name\n",
       "    Block 01 Storey 0 Wall 0004 Window,    !- Window or Door Name\n",
       "    0.01,                     !- Height above Window or Door\n",
       "    90,                       !- Tilt Angle from WindowDoor\n",
       "    0,                        !- Left extension from WindowDoor Width\n",
       "    0,                        !- Right extension from WindowDoor Width\n",
       "    0.3;                      !- Depth\n",
       "]"
      ]
     },
     "execution_count": 6,
     "metadata": {},
     "output_type": "execute_result"
    }
   ],
   "source": [
    "ez.case.idf.idfobjects[\"SHADING:OVERHANG\"]"
   ]
  },
  {
   "cell_type": "code",
   "execution_count": 3,
   "metadata": {},
   "outputs": [
    {
     "data": {
      "text/plain": [
       "Wall(Block 01 - South - W04)"
      ]
     },
     "execution_count": 3,
     "metadata": {},
     "output_type": "execute_result"
    }
   ],
   "source": [
    "window = ez.case.geometry.subsurfaces.Window_B_01_South_W04\n",
    "window.wall"
   ]
  },
  {
   "cell_type": "code",
   "execution_count": 5,
   "metadata": {},
   "outputs": [],
   "source": [
    "sc = ShadingCreator(window, ez.case.idf)\n",
    "sc.run()"
   ]
  },
  {
   "cell_type": "code",
   "execution_count": 6,
   "metadata": {},
   "outputs": [
    {
     "data": {
      "text/plain": [
       "\n",
       "SHADING:OVERHANG,\n",
       "    Block 01 Storey 0 Wall 0004 Window Shading,    !- Name\n",
       "    Block 01 Storey 0 Wall 0004 Window,    !- Window or Door Name\n",
       "    0.01,                     !- Height above Window or Door\n",
       "    90,                       !- Tilt Angle from WindowDoor\n",
       "    0,                        !- Left extension from WindowDoor Width\n",
       "    0,                        !- Right extension from WindowDoor Width\n",
       "    0.3;                      !- Depth"
      ]
     },
     "execution_count": 6,
     "metadata": {},
     "output_type": "execute_result"
    }
   ],
   "source": [
    "sc.shading"
   ]
  },
  {
   "cell_type": "code",
   "execution_count": 10,
   "metadata": {},
   "outputs": [
    {
     "data": {
      "text/plain": [
       "geomeppy.patches.EpBunch"
      ]
     },
     "execution_count": 10,
     "metadata": {},
     "output_type": "execute_result"
    }
   ],
   "source": [
    "type(sc.shading)"
   ]
  },
  {
   "cell_type": "code",
   "execution_count": 9,
   "metadata": {},
   "outputs": [
    {
     "data": {
      "text/plain": [
       "''"
      ]
     },
     "execution_count": 9,
     "metadata": {},
     "output_type": "execute_result"
    }
   ],
   "source": [
    "sc.shading.Depth"
   ]
  }
 ],
 "metadata": {
  "kernelspec": {
   "display_name": "gqenv",
   "language": "python",
   "name": "python3"
  },
  "language_info": {
   "codemirror_mode": {
    "name": "ipython",
    "version": 3
   },
   "file_extension": ".py",
   "mimetype": "text/x-python",
   "name": "python",
   "nbconvert_exporter": "python",
   "pygments_lexer": "ipython3",
   "version": "3.10.14"
  }
 },
 "nbformat": 4,
 "nbformat_minor": 2
}
