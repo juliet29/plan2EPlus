{
 "cells": [
  {
   "cell_type": "code",
   "execution_count": 2,
   "metadata": {},
   "outputs": [],
   "source": [
    "import sys\n",
    "sys.path.append(\"/Users/julietnwagwuume-ezeoke/_UILCode/gqe-phd/geomeppy/_scripts\")\n",
    "\n",
    "from case_edits.recipes.two_zone import input\n",
    "from case_edits.ezcase import EzCase\n",
    "\n",
    "from shapely import Polygon, Point\n",
    "\n",
    "from munch import Munch\n",
    "\n",
    "from case_edits.methods.dynamic_subsurfaces.recreate_wall import WallRecreation\n",
    "\n",
    "from case_edits.methods.dynamic_subsurfaces.buffer import Buffer\n",
    "\n",
    "from geometry.wall import Wall, WallNormal\n",
    "from typing import List\n",
    "import math\n",
    "\n",
    "from helpers.shapely_helpers import CoordOrganizer\n",
    "\n",
    "from pprint import pprint"
   ]
  },
  {
   "cell_type": "code",
   "execution_count": 3,
   "metadata": {},
   "outputs": [
    {
     "name": "stdout",
     "output_type": "stream",
     "text": [
      "Added 5 walls \n",
      "Added 4 walls \n",
      "cases/tests/test16_ezcase/out.idf\n"
     ]
    }
   ],
   "source": [
    "ez = EzCase(input)"
   ]
  },
  {
   "cell_type": "code",
   "execution_count": 5,
   "metadata": {},
   "outputs": [
    {
     "name": "stdout",
     "output_type": "stream",
     "text": [
      "y dir\n"
     ]
    },
    {
     "data": {
      "text/plain": [
       "<case_edits.methods.dynamic_subsurfaces.surface_polygon.SurfacePolygon at 0x10370fbe0>"
      ]
     },
     "execution_count": 5,
     "metadata": {},
     "output_type": "execute_result"
    }
   ],
   "source": [
    "wall = ez.case.geometry.walls.B_01_East_W01\n",
    "wr = WallRecreation(wall)\n",
    "wr.polygon"
   ]
  },
  {
   "cell_type": "code",
   "execution_count": 6,
   "metadata": {},
   "outputs": [],
   "source": [
    "pc = CoordOrganizer(wr.polygon.polygon.exterior.coords)\n",
    "bottom_left=(pc.x0, pc.y0)"
   ]
  },
  {
   "cell_type": "code",
   "execution_count": 7,
   "metadata": {},
   "outputs": [],
   "source": [
    "buf = Buffer(wr.polygon)\n",
    "buf.run()"
   ]
  },
  {
   "cell_type": "code",
   "execution_count": 8,
   "metadata": {},
   "outputs": [
    {
     "name": "stdout",
     "output_type": "stream",
     "text": [
      "NinePoints(top_left=<POINT (51 9)>, top_middle=<POINT (34 9)>, top_right=<POINT (119 9)>, middle_left=<POINT (51 4)>, middle_middle=<POINT (34 4)>, middle_right=<POINT (119 4)>, bottom_left=<POINT (51 1)>, bottom_middle=<POINT (34 1)>, bottom_right=<POINT (119 1)>)\n"
     ]
    }
   ],
   "source": [
    "pprint(buf.nine_points.points)"
   ]
  }
 ],
 "metadata": {
  "kernelspec": {
   "display_name": "gqenv",
   "language": "python",
   "name": "python3"
  },
  "language_info": {
   "codemirror_mode": {
    "name": "ipython",
    "version": 3
   },
   "file_extension": ".py",
   "mimetype": "text/x-python",
   "name": "python",
   "nbconvert_exporter": "python",
   "pygments_lexer": "ipython3",
   "version": "3.9.15"
  }
 },
 "nbformat": 4,
 "nbformat_minor": 2
}
