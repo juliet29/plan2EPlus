{
 "cells": [
  {
   "cell_type": "code",
   "execution_count": 1,
   "metadata": {},
   "outputs": [],
   "source": [
    "import sys\n",
    "sys.path.append(\"/Users/julietnwagwuume-ezeoke/_UILCode/gqe-phd/geomeppy/_scripts\")\n",
    "\n",
    "from case_edits.recipes.two_zone import input\n",
    "from case_edits.ezcase import EzCase\n",
    "\n",
    "from shapely import Polygon, Point\n",
    "\n",
    "from munch import Munch\n",
    "\n",
    "from case_edits.methods.dynamic_subsurfaces.recreate_wall import WallRecreation\n",
    "\n",
    "from case_edits.methods.dynamic_subsurfaces.buffer import Buffer\n",
    "\n",
    "from geometry.wall import Wall, WallNormal\n",
    "from typing import List\n",
    "import math"
   ]
  },
  {
   "cell_type": "code",
   "execution_count": 2,
   "metadata": {},
   "outputs": [
    {
     "name": "stdout",
     "output_type": "stream",
     "text": [
      "Added 5 walls \n",
      "Added 4 walls \n",
      "cases/tests/test16_ezcase/out.idf\n"
     ]
    }
   ],
   "source": [
    "ez = EzCase(input)"
   ]
  },
  {
   "cell_type": "code",
   "execution_count": 3,
   "metadata": {},
   "outputs": [
    {
     "name": "stdout",
     "output_type": "stream",
     "text": [
      "y dir\n"
     ]
    },
    {
     "data": {
      "text/plain": [
       "<case_edits.methods.dynamic_subsurfaces.surface_polygon.SurfacePolygon at 0x1074ebdf0>"
      ]
     },
     "execution_count": 3,
     "metadata": {},
     "output_type": "execute_result"
    }
   ],
   "source": [
    "wall = ez.case.geometry.walls.B_01_East_W01\n",
    "wr = WallRecreation(wall)\n",
    "wr.polygon"
   ]
  },
  {
   "cell_type": "code",
   "execution_count": 4,
   "metadata": {},
   "outputs": [],
   "source": [
    "buf = Buffer(wr.polygon)\n",
    "buf.run()"
   ]
  },
  {
   "cell_type": "code",
   "execution_count": 6,
   "metadata": {},
   "outputs": [],
   "source": [
    "from pprint import pprint"
   ]
  },
  {
   "cell_type": "code",
   "execution_count": 7,
   "metadata": {},
   "outputs": [
    {
     "name": "stdout",
     "output_type": "stream",
     "text": [
      "NinePoints(top_left=<POINT (119 9)>, top_right=<POINT (51 9)>, top_middle=<POINT (34 9)>, middle_left=<POINT (51 4)>, middle_right=<POINT (119 4)>, middle_middle=<POINT (0 0)>, bottom_left=<POINT (51 1)>, bottom_right=<POINT (119 1)>, bottom_middle=<POINT (34 1)>)\n"
     ]
    }
   ],
   "source": [
    "pprint(buf.nine_points.points)"
   ]
  },
  {
   "cell_type": "code",
   "execution_count": 6,
   "metadata": {},
   "outputs": [
    {
     "data": {
      "text/plain": [
       "Dimensions(width=70.0, height=10.0)"
      ]
     },
     "execution_count": 6,
     "metadata": {},
     "output_type": "execute_result"
    }
   ],
   "source": [
    "wr.polygon.dimensions"
   ]
  },
  {
   "cell_type": "code",
   "execution_count": 5,
   "metadata": {},
   "outputs": [
    {
     "data": {
      "text/plain": [
       "[<POINT (50 0)>,\n",
       " <POINT (120 0)>,\n",
       " <POINT (120 10)>,\n",
       " <POINT (50 10)>,\n",
       " <POINT (50 0)>]"
      ]
     },
     "execution_count": 5,
     "metadata": {},
     "output_type": "execute_result"
    }
   ],
   "source": [
    "wr.polygon.coords"
   ]
  },
  {
   "cell_type": "code",
   "execution_count": 8,
   "metadata": {},
   "outputs": [],
   "source": [
    "smaller_dim = wr.polygon.dimensions.width if wr.polygon.dimensions.width < wr.polygon.dimensions.height else wr.polygon.dimensions.height"
   ]
  },
  {
   "cell_type": "code",
   "execution_count": 9,
   "metadata": {},
   "outputs": [
    {
     "data": {
      "text/plain": [
       "10"
      ]
     },
     "execution_count": 9,
     "metadata": {},
     "output_type": "execute_result"
    }
   ],
   "source": [
    "smaller_dim"
   ]
  },
  {
   "cell_type": "code",
   "execution_count": 4,
   "metadata": {},
   "outputs": [
    {
     "data": {
      "text/plain": [
       "{'width': 70.0, 'height': 10}"
      ]
     },
     "execution_count": 4,
     "metadata": {},
     "output_type": "execute_result"
    }
   ],
   "source": [
    "wr.dimensions"
   ]
  },
  {
   "cell_type": "code",
   "execution_count": 5,
   "metadata": {},
   "outputs": [],
   "source": [
    "smaller_dim = 10e6\n",
    "smaller_dim_key = \"\"\n",
    "for k,v in wr.dimensions.items():\n",
    "    if v < smaller_dim:\n",
    "        smaller_dim = v\n",
    "        smaller_dim_key = k"
   ]
  },
  {
   "cell_type": "code",
   "execution_count": 7,
   "metadata": {},
   "outputs": [
    {
     "data": {
      "text/plain": [
       "[(50.0, 0.0), (120.0, 0.0), (120.0, 10.0), (50.0, 10.0), (50.0, 0.0)]"
      ]
     },
     "execution_count": 7,
     "metadata": {},
     "output_type": "execute_result"
    }
   ],
   "source": [
    "[c for c in wr.polygon.exterior.coords]"
   ]
  },
  {
   "cell_type": "code",
   "execution_count": 14,
   "metadata": {},
   "outputs": [],
   "source": [
    "def create_buffer_coords(coords:List[Point], buffer):\n",
    "    p1, p2, p3, p4, _ = coords #ccw starting from bottom left \n",
    "    p1n = (p1.x + buffer, p1.y + buffer)\n",
    "    p2n = (p2.x - buffer, p2.y + buffer)\n",
    "    p3n = (p3.x - buffer, p3.y - buffer)\n",
    "    p4n = (p4.x + buffer, p4.y - buffer)\n",
    "\n",
    "    new_points = [p1n, p2n, p3n, p4n]\n",
    "    polygon = Polygon(new_points)\n",
    "    coords =  [Point(c) for c in polygon.exterior.coords]\n",
    "    return polygon, coords"
   ]
  },
  {
   "cell_type": "code",
   "execution_count": 15,
   "metadata": {},
   "outputs": [
    {
     "data": {
      "text/plain": [
       "[<POINT (51 1)>,\n",
       " <POINT (119 1)>,\n",
       " <POINT (119 9)>,\n",
       " <POINT (51 9)>,\n",
       " <POINT (51 1)>]"
      ]
     },
     "execution_count": 15,
     "metadata": {},
     "output_type": "execute_result"
    }
   ],
   "source": [
    "buffer = smaller_dim*0.1\n",
    "buffer_poly, buffer_poly_coords = create_buffer_coords(wr.polygon_coords, buffer=buffer)\n",
    "\n",
    "buffer_poly_coords"
   ]
  },
  {
   "cell_type": "code",
   "execution_count": 18,
   "metadata": {},
   "outputs": [
    {
     "name": "stdout",
     "output_type": "stream",
     "text": [
      "68.0 8.0\n"
     ]
    }
   ],
   "source": [
    "width = buffer_poly_coords[1].x - buffer_poly_coords[0].x\n",
    "height =  buffer_poly_coords[2].y - buffer_poly_coords[0].y\n",
    "\n",
    "print(width, height)"
   ]
  },
  {
   "cell_type": "code",
   "execution_count": 20,
   "metadata": {},
   "outputs": [
    {
     "data": {
      "text/plain": [
       "22"
      ]
     },
     "execution_count": 20,
     "metadata": {},
     "output_type": "execute_result"
    }
   ],
   "source": [
    "width_third = math.floor(width/3)\n",
    "\n",
    "width_third"
   ]
  },
  {
   "cell_type": "code",
   "execution_count": null,
   "metadata": {},
   "outputs": [],
   "source": [
    "class BufferPoints:\n",
    "    def __init__(self) -> None:\n",
    "        pass"
   ]
  }
 ],
 "metadata": {
  "kernelspec": {
   "display_name": "gqenv",
   "language": "python",
   "name": "python3"
  },
  "language_info": {
   "codemirror_mode": {
    "name": "ipython",
    "version": 3
   },
   "file_extension": ".py",
   "mimetype": "text/x-python",
   "name": "python",
   "nbconvert_exporter": "python",
   "pygments_lexer": "ipython3",
   "version": "3.9.15"
  }
 },
 "nbformat": 4,
 "nbformat_minor": 2
}
