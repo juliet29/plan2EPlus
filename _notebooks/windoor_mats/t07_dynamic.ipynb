{
 "cells": [
  {
   "cell_type": "code",
   "execution_count": 1,
   "metadata": {},
   "outputs": [],
   "source": [
    "import sys\n",
    "sys.path.append(\"/Users/julietnwagwuume-ezeoke/_UILCode/gqe-phd/geomeppy/_scripts\")\n",
    "\n",
    "from case_edits.recipes.two_zone import input\n",
    "from case_edits.ezcase import EzCase\n",
    "\n",
    "from shapely import Polygon, Point\n",
    "\n",
    "from munch import Munch\n",
    "\n",
    "from case_edits.methods.dynamic_subsurfaces.recreate_wall import WallRecreation\n",
    "\n",
    "from geometry.wall import Wall, WallNormal"
   ]
  },
  {
   "cell_type": "code",
   "execution_count": 2,
   "metadata": {},
   "outputs": [
    {
     "name": "stdout",
     "output_type": "stream",
     "text": [
      "Added 5 walls \n",
      "Added 4 walls \n",
      "cases/tests/test16_ezcase/out.idf\n"
     ]
    },
    {
     "data": {
      "text/plain": [
       "<case_edits.ezcase.EzCase at 0x15491a460>"
      ]
     },
     "execution_count": 2,
     "metadata": {},
     "output_type": "execute_result"
    }
   ],
   "source": [
    "ez = EzCase(input)\n",
    "ez"
   ]
  },
  {
   "cell_type": "code",
   "execution_count": 3,
   "metadata": {},
   "outputs": [
    {
     "name": "stdout",
     "output_type": "stream",
     "text": [
      "y dir\n"
     ]
    },
    {
     "data": {
      "image/svg+xml": [
       "<svg xmlns=\"http://www.w3.org/2000/svg\" xmlns:xlink=\"http://www.w3.org/1999/xlink\" width=\"100.0\" height=\"100.0\" viewBox=\"47.2 -2.8000000000000003 75.6 15.600000000000001\" preserveAspectRatio=\"xMinYMin meet\"><g transform=\"matrix(1,0,0,-1,0,10.0)\"><path fill-rule=\"evenodd\" fill=\"#66cc99\" stroke=\"#555555\" stroke-width=\"1.5119999999999998\" opacity=\"0.6\" d=\"M 50.0,0.0 L 120.0,0.0 L 120.0,10.0 L 50.0,10.0 L 50.0,0.0 z\" /></g></svg>"
      ],
      "text/plain": [
       "<POLYGON ((50 0, 120 0, 120 10, 50 10, 50 0))>"
      ]
     },
     "execution_count": 3,
     "metadata": {},
     "output_type": "execute_result"
    }
   ],
   "source": [
    "wall = ez.case.geometry.walls.B_01_East_W01\n",
    "wr = WallRecreation(wall)\n",
    "wr.polygon"
   ]
  }
 ],
 "metadata": {
  "kernelspec": {
   "display_name": "gqenv",
   "language": "python",
   "name": "python3"
  },
  "language_info": {
   "codemirror_mode": {
    "name": "ipython",
    "version": 3
   },
   "file_extension": ".py",
   "mimetype": "text/x-python",
   "name": "python",
   "nbconvert_exporter": "python",
   "pygments_lexer": "ipython3",
   "version": "3.9.15"
  }
 },
 "nbformat": 4,
 "nbformat_minor": 2
}
