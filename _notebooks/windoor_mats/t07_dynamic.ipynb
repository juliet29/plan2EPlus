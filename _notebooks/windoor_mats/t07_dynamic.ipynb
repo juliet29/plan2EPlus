{
 "cells": [
  {
   "cell_type": "code",
   "execution_count": 1,
   "metadata": {},
   "outputs": [],
   "source": [
    "import sys\n",
    "sys.path.append(\"/Users/julietnwagwuume-ezeoke/_UILCode/gqe-phd/geomeppy/_scripts\")\n",
    "\n",
    "from case_edits.recipes.two_zone import input\n",
    "from case_edits.ezcase import EzCase\n",
    "\n",
    "from shapely import Polygon, Point\n",
    "\n",
    "from munch import Munch\n",
    "\n",
    "from case_edits.methods.dynamic_subsurfaces.recreate_wall import WallRecreation\n",
    "\n",
    "from case_edits.methods.dynamic_subsurfaces.buffer import Buffer\n",
    "from case_edits.methods.dynamic_subsurfaces.placement import Placement\n",
    "\n",
    "from geometry.wall import Wall, WallNormal\n",
    "from typing import List\n",
    "import math\n",
    "\n",
    "from helpers.shapely_helpers import CoordOrganizer\n",
    "\n",
    "from case_edits.methods.dynamic_subsurfaces.inputs import (\n",
    "    Dimensions,\n",
    "    NinePointsLocator,\n",
    ")\n",
    "\n",
    "from pprint import pprint"
   ]
  },
  {
   "cell_type": "code",
   "execution_count": 2,
   "metadata": {},
   "outputs": [
    {
     "name": "stdout",
     "output_type": "stream",
     "text": [
      "Added 5 walls \n",
      "Added 4 walls \n",
      "cases/tests/test16_ezcase/out.idf\n"
     ]
    }
   ],
   "source": [
    "ez = EzCase(input)"
   ]
  },
  {
   "cell_type": "code",
   "execution_count": 3,
   "metadata": {},
   "outputs": [
    {
     "name": "stdout",
     "output_type": "stream",
     "text": [
      "y dir\n"
     ]
    },
    {
     "data": {
      "text/plain": [
       "<case_edits.methods.dynamic_subsurfaces.surface_polygon.SurfacePolygon at 0x103d3b700>"
      ]
     },
     "execution_count": 3,
     "metadata": {},
     "output_type": "execute_result"
    }
   ],
   "source": [
    "wall = ez.case.geometry.walls.B_01_East_W01\n",
    "wr = WallRecreation(wall)\n",
    "wr.polygon"
   ]
  },
  {
   "cell_type": "code",
   "execution_count": 4,
   "metadata": {},
   "outputs": [],
   "source": [
    "buf = Buffer(wr.polygon)"
   ]
  },
  {
   "cell_type": "code",
   "execution_count": 6,
   "metadata": {},
   "outputs": [
    {
     "data": {
      "text/plain": [
       "Dimensions(width=70.0, height=10.0)"
      ]
     },
     "execution_count": 6,
     "metadata": {},
     "output_type": "execute_result"
    }
   ],
   "source": [
    "buf.surface.dimensions"
   ]
  },
  {
   "cell_type": "code",
   "execution_count": 7,
   "metadata": {},
   "outputs": [
    {
     "ename": "AssertionError",
     "evalue": "",
     "output_type": "error",
     "traceback": [
      "\u001b[0;31m---------------------------------------------------------------------------\u001b[0m",
      "\u001b[0;31mAssertionError\u001b[0m                            Traceback (most recent call last)",
      "Cell \u001b[0;32mIn[7], line 1\u001b[0m\n\u001b[0;32m----> 1\u001b[0m p \u001b[38;5;241m=\u001b[39m \u001b[43mPlacement\u001b[49m\u001b[43m(\u001b[49m\u001b[43mbuf\u001b[49m\u001b[43m,\u001b[49m\u001b[43m \u001b[49m\u001b[43mDimensions\u001b[49m\u001b[43m(\u001b[49m\u001b[38;5;241;43m80\u001b[39;49m\u001b[43m,\u001b[49m\u001b[43m \u001b[49m\u001b[38;5;241;43m4\u001b[39;49m\u001b[43m)\u001b[49m\u001b[43m,\u001b[49m\u001b[43m \u001b[49m\u001b[43mNinePointsLocator\u001b[49m\u001b[38;5;241;43m.\u001b[39;49m\u001b[43mmiddle_left\u001b[49m\u001b[43m)\u001b[49m\n\u001b[1;32m      2\u001b[0m p\u001b[38;5;241m.\u001b[39mstarting_corner\n",
      "File \u001b[0;32m~/_UILCode/gqe-phd/geomeppy/_scripts/case_edits/methods/dynamic_subsurfaces/placement.py:29\u001b[0m, in \u001b[0;36mPlacement.__init__\u001b[0;34m(self, buffer_surface, subsurface_dims, location)\u001b[0m\n\u001b[1;32m     26\u001b[0m \u001b[38;5;28mself\u001b[39m\u001b[38;5;241m.\u001b[39mloc \u001b[38;5;241m=\u001b[39m location\n\u001b[1;32m     27\u001b[0m \u001b[38;5;28mself\u001b[39m\u001b[38;5;241m.\u001b[39mstarting_corner \u001b[38;5;241m=\u001b[39m MutablePoint(x\u001b[38;5;241m=\u001b[39m\u001b[38;5;241m0\u001b[39m, y\u001b[38;5;241m=\u001b[39m\u001b[38;5;241m0\u001b[39m)\n\u001b[0;32m---> 29\u001b[0m \u001b[38;5;28;43mself\u001b[39;49m\u001b[38;5;241;43m.\u001b[39;49m\u001b[43mrun_prelim_checks\u001b[49m\u001b[43m(\u001b[49m\u001b[43m)\u001b[49m\n\u001b[1;32m     30\u001b[0m \u001b[38;5;28mself\u001b[39m\u001b[38;5;241m.\u001b[39mfind_starting_corner()\n",
      "File \u001b[0;32m~/_UILCode/gqe-phd/geomeppy/_scripts/case_edits/methods/dynamic_subsurfaces/placement.py:34\u001b[0m, in \u001b[0;36mPlacement.run_prelim_checks\u001b[0;34m(self)\u001b[0m\n\u001b[1;32m     32\u001b[0m \u001b[38;5;28;01mdef\u001b[39;00m \u001b[38;5;21mrun_prelim_checks\u001b[39m(\u001b[38;5;28mself\u001b[39m):\n\u001b[1;32m     33\u001b[0m     \u001b[38;5;28;01massert\u001b[39;00m \u001b[38;5;28mself\u001b[39m\u001b[38;5;241m.\u001b[39mdims\u001b[38;5;241m.\u001b[39mheight \u001b[38;5;241m<\u001b[39m \u001b[38;5;28mself\u001b[39m\u001b[38;5;241m.\u001b[39msurface_dims\u001b[38;5;241m.\u001b[39mheight\n\u001b[0;32m---> 34\u001b[0m     \u001b[38;5;28;01massert\u001b[39;00m \u001b[38;5;28mself\u001b[39m\u001b[38;5;241m.\u001b[39mdims\u001b[38;5;241m.\u001b[39mwidth \u001b[38;5;241m<\u001b[39m \u001b[38;5;28mself\u001b[39m\u001b[38;5;241m.\u001b[39msurface_dims\u001b[38;5;241m.\u001b[39mwidth\n",
      "\u001b[0;31mAssertionError\u001b[0m: "
     ]
    }
   ],
   "source": [
    "p = Placement(buf, Dimensions(80, 4), NinePointsLocator.middle_left)\n",
    "p.starting_corner"
   ]
  },
  {
   "cell_type": "markdown",
   "metadata": {},
   "source": []
  }
 ],
 "metadata": {
  "kernelspec": {
   "display_name": "gqenv",
   "language": "python",
   "name": "python3"
  },
  "language_info": {
   "codemirror_mode": {
    "name": "ipython",
    "version": 3
   },
   "file_extension": ".py",
   "mimetype": "text/x-python",
   "name": "python",
   "nbconvert_exporter": "python",
   "pygments_lexer": "ipython3",
   "version": "3.10.14"
  }
 },
 "nbformat": 4,
 "nbformat_minor": 2
}
