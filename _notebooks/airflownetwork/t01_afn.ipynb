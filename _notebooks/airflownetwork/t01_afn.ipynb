{
 "cells": [
  {
   "cell_type": "code",
   "execution_count": 1,
   "metadata": {},
   "outputs": [],
   "source": [
    "import sys\n",
    "sys.path.append(\"/Users/julietnwagwuume-ezeoke/_UILCode/gqe-phd/geomeppy/_scripts\")\n",
    "\n",
    "from case_edits.epcase import EneryPlusCaseEditor\n",
    "from case_edits.recipes.from_min import create_case\n",
    "\n",
    "from case_edits.methods.materials import Materials\n",
    "\n",
    "from case_edits.methods.subsurface import Subsurface, SubsurfaceAttributes, SubsurfaceType\n",
    "from outputs.variables import OutputVars as ov\n",
    "\n",
    "from geomeppy.patches import EpBunch\n",
    "\n",
    "from case_edits.object_getter import Getter"
   ]
  },
  {
   "cell_type": "code",
   "execution_count": 2,
   "metadata": {},
   "outputs": [],
   "source": [
    "TEST_CASE = \"tests/test11_afn\"\n",
    "SURFACE_CONSTRUCTIONS_CASE = \"cases/constructions/ASHRAE_2005_HOF_Materials.idf\""
   ]
  },
  {
   "cell_type": "code",
   "execution_count": 3,
   "metadata": {},
   "outputs": [
    {
     "name": "stdout",
     "output_type": "stream",
     "text": [
      "cases/tests/test11_afn/out.idf\n",
      "cases/tests/test11_afn/out.idf\n",
      "Added 5 walls \n",
      "Added 4 walls \n"
     ]
    }
   ],
   "source": [
    "outputs = [ov.surf_incident_solar_rad, ov.surf_net_thermal_rad, ov.zone_mean_air_temp, ov.in_surf_temp]\n",
    "output_names = [o.value for o in outputs]\n",
    "epcase = create_case(TEST_CASE, outputs=output_names)"
   ]
  },
  {
   "cell_type": "code",
   "execution_count": null,
   "metadata": {},
   "outputs": [],
   "source": []
  },
  {
   "cell_type": "code",
   "execution_count": null,
   "metadata": {},
   "outputs": [],
   "source": []
  },
  {
   "cell_type": "code",
   "execution_count": null,
   "metadata": {},
   "outputs": [],
   "source": []
  },
  {
   "cell_type": "code",
   "execution_count": 4,
   "metadata": {},
   "outputs": [],
   "source": [
    "mat = Materials(epcase)\n",
    "mat.study_reference_idf(SURFACE_CONSTRUCTIONS_CASE)\n",
    "mat.get_construction_materials('Light Furnishings')\n",
    "c = mat.get_case_constructions()\n",
    "# const = mat.case_constructions[-1]"
   ]
  },
  {
   "cell_type": "code",
   "execution_count": 5,
   "metadata": {},
   "outputs": [],
   "source": [
    "west_surf = epcase.geometry.zones.B_West.walls.B_West_West_W03\n",
    "int_surf = epcase.geometry.zones.B_West.walls.B_West_North_W02_1\n",
    "north_surf = epcase.geometry.zones.B_North.walls.B_North_North_W02\n",
    "\n",
    "window_const = epcase.idf.getobject(\"CONSTRUCTION\", \"Project External Window\")\n",
    "door_const = epcase.idf.getobject(\"CONSTRUCTION\", 'Light Furnishings')\n",
    "\n"
   ]
  },
  {
   "cell_type": "code",
   "execution_count": 6,
   "metadata": {},
   "outputs": [],
   "source": [
    "# windows\n",
    "data = SubsurfaceAttributes(type=SubsurfaceType.WINDOW, length=1, height=1, construction=window_const, surface=west_surf) # type: ignore\n",
    "Subsurface(epcase=epcase,attrs=data).create_surface()\n",
    "\n",
    "data.surface = north_surf\n",
    "Subsurface(epcase=epcase,attrs=data).create_surface()"
   ]
  },
  {
   "cell_type": "code",
   "execution_count": 7,
   "metadata": {},
   "outputs": [],
   "source": [
    "# doors \n",
    "data = SubsurfaceAttributes(type=SubsurfaceType.DOOR, length=1, height=2, construction=door_const, surface=int_surf) # type: ignore\n",
    "Subsurface(epcase=epcase,attrs=data).create_surface()\n"
   ]
  },
  {
   "cell_type": "code",
   "execution_count": 13,
   "metadata": {},
   "outputs": [],
   "source": [
    "g = Getter(epcase)\n",
    "g.get_subsurfaces()\n"
   ]
  },
  {
   "cell_type": "code",
   "execution_count": 19,
   "metadata": {},
   "outputs": [
    {
     "name": "stdout",
     "output_type": "stream",
     "text": [
      "hi\n",
      "hi\n"
     ]
    }
   ],
   "source": [
    "for i in g.subsurfaces:\n",
    "    try:\n",
    "        if i.Outside_Boundary_Condition_Object:\n",
    "            print(\"hi\")\n",
    "    except:\n",
    "        pass"
   ]
  },
  {
   "cell_type": "code",
   "execution_count": 14,
   "metadata": {},
   "outputs": [
    {
     "data": {
      "text/plain": [
       "['key',\n",
       " 'Name',\n",
       " 'Construction_Name',\n",
       " 'Building_Surface_Name',\n",
       " 'Outside_Boundary_Condition_Object',\n",
       " 'Multiplier',\n",
       " 'Starting_X_Coordinate',\n",
       " 'Starting_Z_Coordinate',\n",
       " 'Length',\n",
       " 'Height']"
      ]
     },
     "execution_count": 14,
     "metadata": {},
     "output_type": "execute_result"
    }
   ],
   "source": [
    "item = g.subsurfaces[0]\n",
    "item.fieldnames"
   ]
  },
  {
   "cell_type": "code",
   "execution_count": 15,
   "metadata": {},
   "outputs": [
    {
     "data": {
      "text/plain": [
       "'Block West Storey 0 Wall 0002_1 Door'"
      ]
     },
     "execution_count": 15,
     "metadata": {},
     "output_type": "execute_result"
    }
   ],
   "source": [
    "item.Name"
   ]
  },
  {
   "cell_type": "code",
   "execution_count": 11,
   "metadata": {},
   "outputs": [
    {
     "data": {
      "text/plain": [
       "\n",
       "AIRFLOWNETWORK:SIMULATIONCONTROL,\n",
       "    ,                         !- Name\n",
       "    NoMultizoneOrDistribution,    !- AirflowNetwork Control\n",
       "    SurfaceAverageCalculation,    !- Wind Pressure Coefficient Type\n",
       "    OpeningHeight,            !- Height Selection for Local Wind Pressure Calculation\n",
       "    LowRise,                  !- Building Type\n",
       "    500,                      !- Maximum Number of Iterations\n",
       "    ZeroNodePressures,        !- Initialization Type\n",
       "    0.0001,                   !- Relative Airflow Convergence Tolerance\n",
       "    1e-06,                    !- Absolute Airflow Convergence Tolerance\n",
       "    -0.5,                     !- Convergence Acceleration Limit\n",
       "    0,                        !- Azimuth Angle of Long Axis of Building\n",
       "    1,                        !- Ratio of Building Width Along Short Axis to Width Along Long Axis\n",
       "    No,                       !- Height Dependence of External Node Temperature\n",
       "    SkylineLU,                !- Solver\n",
       "    No,                       !- Allow Unsupported Zone Equipment\n",
       "    No;                       !- Do Distribution Duct Sizing Calculation"
      ]
     },
     "execution_count": 11,
     "metadata": {},
     "output_type": "execute_result"
    }
   ],
   "source": [
    "afn = epcase.idf.newidfobject(\"AirflowNetwork:SimulationControl\".upper())\n",
    "afn"
   ]
  },
  {
   "cell_type": "code",
   "execution_count": 12,
   "metadata": {},
   "outputs": [],
   "source": [
    "afn.Name = \"AFN_0\"\n"
   ]
  },
  {
   "cell_type": "code",
   "execution_count": 24,
   "metadata": {},
   "outputs": [
    {
     "name": "stdout",
     "output_type": "stream",
     "text": [
      "Block North Storey 0\n",
      "Block West Storey 0\n"
     ]
    }
   ],
   "source": [
    "for v in epcase.geometry.zones.values():\n",
    "    print(v.name)"
   ]
  },
  {
   "cell_type": "code",
   "execution_count": 17,
   "metadata": {},
   "outputs": [
    {
     "data": {
      "text/plain": [
       "\n",
       "AIRFLOWNETWORK:MULTIZONE:ZONE,\n",
       "    ,                         !- Zone Name\n",
       "    NoVent,                   !- Ventilation Control Mode\n",
       "    ,                         !- Ventilation Control Zone Temperature Setpoint Schedule Name\n",
       "    0,                        !- Minimum Venting Open Factor\n",
       "    0,                        !- Indoor and Outdoor Temperature Difference Lower Limit For Maximum Venting Open Factor\n",
       "    100,                      !- Indoor and Outdoor Temperature Difference Upper Limit for Minimum Venting Open Factor\n",
       "    0,                        !- Indoor and Outdoor Enthalpy Difference Lower Limit For Maximum Venting Open Factor\n",
       "    300000,                   !- Indoor and Outdoor Enthalpy Difference Upper Limit for Minimum Venting Open Factor\n",
       "    ,                         !- Venting Availability Schedule Name\n",
       "    Standard,                 !- Single Sided Wind Pressure Coefficient Algorithm\n",
       "    10;                       !- Facade Width"
      ]
     },
     "execution_count": 17,
     "metadata": {},
     "output_type": "execute_result"
    }
   ],
   "source": [
    "default_afn_zone = epcase.idf.newidfobject(\"AirflowNetwork:MultiZone:Zone\".upper())\n",
    "default_afn_zone"
   ]
  },
  {
   "cell_type": "code",
   "execution_count": 18,
   "metadata": {},
   "outputs": [],
   "source": [
    "default_afn_zone.Ventilation_Control_Mode = \"Constant\"\n",
    "default_afn_zone.Zone_Name\n",
    "\n",
    "# create one for each object .. "
   ]
  },
  {
   "cell_type": "code",
   "execution_count": 10,
   "metadata": {},
   "outputs": [
    {
     "data": {
      "text/plain": [
       "\n",
       "AIRFLOWNETWORK:MULTIZONE:SURFACE,\n",
       "    ,                         !- Surface Name\n",
       "    ,                         !- Leakage Component Name\n",
       "    ,                         !- External Node Name\n",
       "    1,                        !- WindowDoor Opening Factor or Crack Factor\n",
       "    ZoneLevel,                !- Ventilation Control Mode\n",
       "    ,                         !- Ventilation Control Zone Temperature Setpoint Schedule Name\n",
       "    0,                        !- Minimum Venting Open Factor\n",
       "    0,                        !- Indoor and Outdoor Temperature Difference Lower Limit For Maximum Venting Open Factor\n",
       "    100,                      !- Indoor and Outdoor Temperature Difference Upper Limit for Minimum Venting Open Factor\n",
       "    0,                        !- Indoor and Outdoor Enthalpy Difference Lower Limit For Maximum Venting Open Factor\n",
       "    300000,                   !- Indoor and Outdoor Enthalpy Difference Upper Limit for Minimum Venting Open Factor\n",
       "    ,                         !- Venting Availability Schedule Name\n",
       "    ,                         !- Occupant Ventilation Control Name\n",
       "    PolygonHeight,            !- Equivalent Rectangle Method\n",
       "    1;                        !- Equivalent Rectangle Aspect Ratio"
      ]
     },
     "execution_count": 10,
     "metadata": {},
     "output_type": "execute_result"
    }
   ],
   "source": [
    "afn_surf = epcase.idf.newidfobject(\"AirflowNetwork:MultiZone:Surface\".upper())\n",
    "afn_surf"
   ]
  },
  {
   "cell_type": "code",
   "execution_count": 11,
   "metadata": {},
   "outputs": [
    {
     "data": {
      "text/plain": [
       "''"
      ]
     },
     "execution_count": 11,
     "metadata": {},
     "output_type": "execute_result"
    }
   ],
   "source": [
    "afn_surf.Surface_Name"
   ]
  },
  {
   "cell_type": "code",
   "execution_count": null,
   "metadata": {},
   "outputs": [],
   "source": [
    "afn_surf.Leakage_Component_Name"
   ]
  },
  {
   "cell_type": "code",
   "execution_count": 22,
   "metadata": {},
   "outputs": [
    {
     "data": {
      "text/plain": [
       "\n",
       "AIRFLOWNETWORK:MULTIZONE:COMPONENT:SIMPLEOPENING,\n",
       "    ,                         !- Name\n",
       "    ,                         !- Air Mass Flow Coefficient When Opening is Closed\n",
       "    0.65;                     !- Air Mass Flow Exponent When Opening is Closed"
      ]
     },
     "execution_count": 22,
     "metadata": {},
     "output_type": "execute_result"
    }
   ],
   "source": [
    "leakage_component = epcase.idf.newidfobject(\"AirflowNetwork:MultiZone:Component:SimpleOpening\".upper())\n",
    "leakage_component"
   ]
  },
  {
   "cell_type": "code",
   "execution_count": null,
   "metadata": {},
   "outputs": [],
   "source": [
    "leakage_component.Discharge_Coefficient = 1\n",
    "leakage_component.Air_Mass_Flow_Coefficient_When_Opening_is_Closed = 0.001"
   ]
  },
  {
   "cell_type": "code",
   "execution_count": 25,
   "metadata": {},
   "outputs": [],
   "source": [
    "import re"
   ]
  },
  {
   "cell_type": "code",
   "execution_count": 35,
   "metadata": {},
   "outputs": [
    {
     "data": {
      "text/plain": [
       "['DOOR', 'WINDOW']"
      ]
     },
     "execution_count": 35,
     "metadata": {},
     "output_type": "execute_result"
    }
   ],
   "source": [
    "[SubsurfaceType(i).name for i in range(2)]"
   ]
  },
  {
   "cell_type": "code",
   "execution_count": null,
   "metadata": {},
   "outputs": [],
   "source": [
    "pattern = re.compile(\"Door\".upper())\n",
    "\n",
    "subsurfaces = []"
   ]
  },
  {
   "cell_type": "code",
   "execution_count": 36,
   "metadata": {},
   "outputs": [],
   "source": [
    "def get_subsurface_by_type(type):\n",
    "    for k,v in epcase.idf.idfobjects.items():\n",
    "        if bool(pattern.match(k)):\n",
    "            if len(v) > 0:\n",
    "                for item in v:\n",
    "                    subsurfaces.append(item)\n"
   ]
  },
  {
   "cell_type": "code",
   "execution_count": 31,
   "metadata": {},
   "outputs": [],
   "source": [
    "\n",
    "\n"
   ]
  },
  {
   "cell_type": "code",
   "execution_count": 32,
   "metadata": {},
   "outputs": [
    {
     "data": {
      "text/plain": [
       "[\n",
       " DOOR:INTERZONE,\n",
       "     Block West Storey 0 Wall 0002_1 Door,    !- Name\n",
       "     Light Furnishings,        !- Construction Name\n",
       "     Block West Storey 0 Wall 0002_1,    !- Building Surface Name\n",
       "     Block North Storey 0 Wall 0004_1 Door,    !- Outside Boundary Condition Object\n",
       "     1.0,                      !- Multiplier\n",
       "     2,                        !- Starting X Coordinate\n",
       "     0.02,                     !- Starting Z Coordinate\n",
       "     1,                        !- Length\n",
       "     2;                        !- Height,\n",
       " \n",
       " DOOR:INTERZONE,\n",
       "     Block North Storey 0 Wall 0004_1 Door,    !- Name\n",
       "     Light Furnishings,        !- Construction Name\n",
       "     Block North Storey 0 Wall 0004_1,    !- Building Surface Name\n",
       "     Block West Storey 0 Wall 0002_1 Door,    !- Outside Boundary Condition Object\n",
       "     1.0,                      !- Multiplier\n",
       "     2,                        !- Starting X Coordinate\n",
       "     0.02,                     !- Starting Z Coordinate\n",
       "     1,                        !- Length\n",
       "     2;                        !- Height]"
      ]
     },
     "execution_count": 32,
     "metadata": {},
     "output_type": "execute_result"
    }
   ],
   "source": [
    "subsurfaces"
   ]
  },
  {
   "cell_type": "code",
   "execution_count": 8,
   "metadata": {},
   "outputs": [
    {
     "name": "stdout",
     "output_type": "stream",
     "text": [
      "\n",
      "/Applications/EnergyPlus-22-2-0/energyplus --weather /Users/julietnwagwuume-ezeoke/_UILCode/gqe-phd/geomeppy/weather/CA_PALO-ALTO-AP_724937S_20.epw --output-directory /Users/julietnwagwuume-ezeoke/_UILCode/gqe-phd/geomeppy/cases/tests/test11_afn/results --idd /Applications/EnergyPlus-22-2-0/Energy+.idd /Users/julietnwagwuume-ezeoke/_UILCode/gqe-phd/geomeppy/cases/base/01example/Minimal_45a2c6.idf\n",
      "\n",
      "EnergyPlus Starting\n",
      "EnergyPlus, Version 22.2.0-c249759bad, YMD=2024.06.17 16:42\n",
      "Adjusting Air System Sizing\n",
      "Adjusting Standard 62.1 Ventilation Sizing\n",
      "Initializing Simulation\n",
      "Reporting Surfaces\n",
      "Beginning Primary Simulation\n",
      "Initializing New Environment Parameters\n",
      "Warming up {1}\n",
      "Warming up {2}\n",
      "Warming up {3}\n",
      "Warming up {4}\n",
      "Warming up {5}\n",
      "Warming up {6}\n",
      "Starting Simulation at 12/21 for DENVER_STAPLETON ANN HTG 99.6% CONDNS DB\n",
      "Initializing New Environment Parameters\n",
      "Warming up {1}\n",
      "Warming up {2}\n",
      "Warming up {3}\n",
      "Warming up {4}\n",
      "Warming up {5}\n",
      "Warming up {6}\n",
      "Starting Simulation at 07/21 for DENVER_STAPLETON ANN CLG .4% CONDNS DB=>MWB\n",
      "Writing tabular output file results using HTML format.\n",
      "Writing final SQL reports\n",
      "EnergyPlus Run Time=00hr 00min  0.25sec\n"
     ]
    },
    {
     "name": "stderr",
     "output_type": "stream",
     "text": [
      "EnergyPlus Completed Successfully.\n"
     ]
    }
   ],
   "source": [
    "# epcase.run_idf()"
   ]
  }
 ],
 "metadata": {
  "kernelspec": {
   "display_name": "gqenv",
   "language": "python",
   "name": "python3"
  },
  "language_info": {
   "codemirror_mode": {
    "name": "ipython",
    "version": 3
   },
   "file_extension": ".py",
   "mimetype": "text/x-python",
   "name": "python",
   "nbconvert_exporter": "python",
   "pygments_lexer": "ipython3",
   "version": "3.9.15"
  }
 },
 "nbformat": 4,
 "nbformat_minor": 2
}
