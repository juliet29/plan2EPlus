{
 "cells": [
  {
   "cell_type": "code",
   "execution_count": 1,
   "metadata": {},
   "outputs": [],
   "source": [
    "import sys\n",
    "sys.path.append(\"/Users/julietnwagwuume-ezeoke/_UILCode/gqe-phd/geomeppy/_scripts\")\n",
    "\n",
    "from case_edits.epcase import EneryPlusCaseEditor\n",
    "from case_edits.recipes.from_min import create_case\n",
    "\n",
    "from case_edits.methods.materials import Materials\n",
    "\n",
    "from case_edits.methods.subsurface import Subsurface, SubsurfaceAttributes, SubsurfaceType\n",
    "from outputs.variables import OutputVars as ov\n",
    "\n",
    "from geomeppy.patches import EpBunch"
   ]
  },
  {
   "cell_type": "code",
   "execution_count": 2,
   "metadata": {},
   "outputs": [],
   "source": [
    "TEST_CASE = \"tests/test11_afn\"\n",
    "SURFACE_CONSTRUCTIONS_CASE = \"cases/constructions/ASHRAE_2005_HOF_Materials.idf\""
   ]
  },
  {
   "cell_type": "code",
   "execution_count": 3,
   "metadata": {},
   "outputs": [
    {
     "name": "stdout",
     "output_type": "stream",
     "text": [
      "cases/tests/test11_afn/out.idf\n",
      "cases/tests/test11_afn/out.idf\n",
      "Added 5 walls \n",
      "Added 4 walls \n"
     ]
    }
   ],
   "source": [
    "outputs = [ov.surf_incident_solar_rad, ov.surf_net_thermal_rad, ov.zone_mean_air_temp, ov.in_surf_temp]\n",
    "output_names = [o.value for o in outputs]\n",
    "epcase = create_case(TEST_CASE, outputs=output_names)"
   ]
  },
  {
   "cell_type": "code",
   "execution_count": 4,
   "metadata": {},
   "outputs": [],
   "source": [
    "mat = Materials(epcase)\n",
    "mat.study_reference_idf(SURFACE_CONSTRUCTIONS_CASE)\n",
    "mat.get_construction_materials('Light Furnishings')\n",
    "c = mat.get_case_constructions()\n",
    "# const = mat.case_constructions[-1]"
   ]
  },
  {
   "cell_type": "code",
   "execution_count": 5,
   "metadata": {},
   "outputs": [],
   "source": [
    "west_surf = epcase.geometry.zones.B_West.walls.B_West_West_W03\n",
    "int_surf = epcase.geometry.zones.B_West.walls.B_West_North_W02_1\n",
    "north_surf = epcase.geometry.zones.B_North.walls.B_North_North_W02\n",
    "\n",
    "window_const = epcase.idf.getobject(\"CONSTRUCTION\", \"Project External Window\")\n",
    "door_const = epcase.idf.getobject(\"CONSTRUCTION\", 'Light Furnishings')\n",
    "\n"
   ]
  },
  {
   "cell_type": "code",
   "execution_count": 6,
   "metadata": {},
   "outputs": [],
   "source": [
    "# windows\n",
    "data = SubsurfaceAttributes(type=SubsurfaceType.WINDOW, length=1, height=1, construction=window_const, surface=west_surf) # type: ignore\n",
    "Subsurface(epcase=epcase,attrs=data).create_surface()\n",
    "\n",
    "data.surface = north_surf\n",
    "Subsurface(epcase=epcase,attrs=data).create_surface()"
   ]
  },
  {
   "cell_type": "code",
   "execution_count": 7,
   "metadata": {},
   "outputs": [],
   "source": [
    "# doors \n",
    "data = SubsurfaceAttributes(type=SubsurfaceType.DOOR, length=1, height=2, construction=door_const, surface=int_surf) # type: ignore\n",
    "Subsurface(epcase=epcase,attrs=data).create_surface()\n"
   ]
  },
  {
   "cell_type": "code",
   "execution_count": 8,
   "metadata": {},
   "outputs": [
    {
     "name": "stdout",
     "output_type": "stream",
     "text": [
      "\n",
      "/Applications/EnergyPlus-22-2-0/energyplus --weather /Users/julietnwagwuume-ezeoke/_UILCode/gqe-phd/geomeppy/weather/CA_PALO-ALTO-AP_724937S_20.epw --output-directory /Users/julietnwagwuume-ezeoke/_UILCode/gqe-phd/geomeppy/cases/tests/test11_afn/results --idd /Applications/EnergyPlus-22-2-0/Energy+.idd /Users/julietnwagwuume-ezeoke/_UILCode/gqe-phd/geomeppy/cases/base/01example/Minimal_45a2c6.idf\n",
      "\n",
      "EnergyPlus Starting\n",
      "EnergyPlus, Version 22.2.0-c249759bad, YMD=2024.06.17 16:42\n",
      "Adjusting Air System Sizing\n",
      "Adjusting Standard 62.1 Ventilation Sizing\n",
      "Initializing Simulation\n",
      "Reporting Surfaces\n",
      "Beginning Primary Simulation\n",
      "Initializing New Environment Parameters\n",
      "Warming up {1}\n",
      "Warming up {2}\n",
      "Warming up {3}\n",
      "Warming up {4}\n",
      "Warming up {5}\n",
      "Warming up {6}\n",
      "Starting Simulation at 12/21 for DENVER_STAPLETON ANN HTG 99.6% CONDNS DB\n",
      "Initializing New Environment Parameters\n",
      "Warming up {1}\n",
      "Warming up {2}\n",
      "Warming up {3}\n",
      "Warming up {4}\n",
      "Warming up {5}\n",
      "Warming up {6}\n",
      "Starting Simulation at 07/21 for DENVER_STAPLETON ANN CLG .4% CONDNS DB=>MWB\n",
      "Writing tabular output file results using HTML format.\n",
      "Writing final SQL reports\n",
      "EnergyPlus Run Time=00hr 00min  0.25sec\n"
     ]
    },
    {
     "name": "stderr",
     "output_type": "stream",
     "text": [
      "EnergyPlus Completed Successfully.\n"
     ]
    }
   ],
   "source": [
    "epcase.run_idf()"
   ]
  }
 ],
 "metadata": {
  "kernelspec": {
   "display_name": "gqenv",
   "language": "python",
   "name": "python3"
  },
  "language_info": {
   "codemirror_mode": {
    "name": "ipython",
    "version": 3
   },
   "file_extension": ".py",
   "mimetype": "text/x-python",
   "name": "python",
   "nbconvert_exporter": "python",
   "pygments_lexer": "ipython3",
   "version": "3.9.15"
  }
 },
 "nbformat": 4,
 "nbformat_minor": 2
}
