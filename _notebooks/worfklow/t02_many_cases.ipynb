{
 "cells": [
  {
   "cell_type": "code",
   "execution_count": 1,
   "metadata": {},
   "outputs": [],
   "source": [
    "import sys\n",
    "sys.path.append(\"/Users/julietnwagwuume-ezeoke/_UILCode/gqe-phd/geomeppy/_scripts\")\n",
    "\n",
    "from recipes.two_zone import input\n",
    "from recipes.tests import input as input2\n",
    "from case_edits.ezcase import EzCase, EzCaseInput\n",
    "\n",
    "from operator import attrgetter\n",
    "from dataclasses import dataclass\n",
    "import dataclasses\n",
    "\n",
    "from pprint import pprint, pformat\n",
    "from copy import deepcopy\n",
    "\n",
    "import hashlib\n",
    "\n",
    "import os\n",
    "\n",
    "from geometry.wall import WallNormal\n",
    "\n",
    "from workflow.projects import ProjectManager\n",
    "\n",
    "import pickle\n",
    "from deepdiff import DeepDiff"
   ]
  },
  {
   "cell_type": "code",
   "execution_count": 2,
   "metadata": {},
   "outputs": [],
   "source": [
    "pm = ProjectManager(\"test0\", input)"
   ]
  },
  {
   "cell_type": "code",
   "execution_count": 3,
   "metadata": {},
   "outputs": [],
   "source": [
    "pm.create_project_directory()"
   ]
  },
  {
   "cell_type": "code",
   "execution_count": 4,
   "metadata": {},
   "outputs": [
    {
     "name": "stdout",
     "output_type": "stream",
     "text": [
      "Added 5 walls \n",
      "Added 4 walls \n",
      "cases/projects/test0/a01-base_case/out.idf\n",
      "No SQL file for this case\n"
     ]
    }
   ],
   "source": [
    "pm.create_base_case()"
   ]
  },
  {
   "cell_type": "code",
   "execution_count": 6,
   "metadata": {},
   "outputs": [
    {
     "name": "stdout",
     "output_type": "stream",
     "text": [
      "Added 5 walls \n",
      "Added 4 walls \n",
      "cases/projects/test0/a02-more_windows/out.idf\n",
      "No SQL file for this case\n"
     ]
    }
   ],
   "source": [
    "def mod(input:EzCaseInput):\n",
    "    input.window_pairs.append((0,1))\n",
    "    return input\n",
    "\n",
    "\n",
    "\n",
    "pm.generate_new_case(mod, \"more_windows\")"
   ]
  }
 ],
 "metadata": {
  "kernelspec": {
   "display_name": "gqenv",
   "language": "python",
   "name": "python3"
  },
  "language_info": {
   "codemirror_mode": {
    "name": "ipython",
    "version": 3
   },
   "file_extension": ".py",
   "mimetype": "text/x-python",
   "name": "python",
   "nbconvert_exporter": "python",
   "pygments_lexer": "ipython3",
   "version": "3.10.14"
  }
 },
 "nbformat": 4,
 "nbformat_minor": 2
}
