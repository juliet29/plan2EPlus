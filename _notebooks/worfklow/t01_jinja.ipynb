{
 "cells": [
  {
   "cell_type": "code",
   "execution_count": 1,
   "metadata": {},
   "outputs": [],
   "source": [
    "import sys\n",
    "sys.path.append(\"/Users/julietnwagwuume-ezeoke/_UILCode/gqe-phd/geomeppy/_scripts\")\n",
    "\n",
    "from recipes.two_zone import input\n",
    "from recipes.weather import input as input2\n",
    "from case_edits.ezcase import EzCase\n",
    "\n",
    "from jinja2 import Template\n",
    "\n",
    "from outputs.input_classes import PlotTypes\n",
    "from datetime import time"
   ]
  },
  {
   "cell_type": "code",
   "execution_count": 2,
   "metadata": {},
   "outputs": [
    {
     "name": "stdout",
     "output_type": "stream",
     "text": [
      "Added 5 walls \n",
      "Added 4 walls \n",
      "y dir\n",
      "cases/tests/test16_ezcase/out.idf\n"
     ]
    }
   ],
   "source": [
    "ez = EzCase(input, RUN_CASE=False)"
   ]
  },
  {
   "cell_type": "code",
   "execution_count": 3,
   "metadata": {},
   "outputs": [
    {
     "name": "stdout",
     "output_type": "stream",
     "text": [
      "Added 5 walls \n",
      "Added 4 walls \n",
      "y dir\n",
      "cases/tests/test17_weather/out.idf\n",
      "\n",
      "/Applications/EnergyPlus-22-2-0/energyplus --weather /Users/julietnwagwuume-ezeoke/_UILCode/gqe-phd/geomeppy/weather_data/PALO_ALTO/CA_PALO-ALTO-AP_724937_23.EPW --output-directory /Users/julietnwagwuume-ezeoke/_UILCode/gqe-phd/geomeppy/cases/tests/test17_weather/results --idd /Applications/EnergyPlus-22-2-0/Energy+.idd /Users/julietnwagwuume-ezeoke/_UILCode/gqe-phd/geomeppy/cases/base/01example/Minimal_AP_8bd915.idf\n",
      "\n",
      "EnergyPlus Starting\n",
      "EnergyPlus, Version 22.2.0-c249759bad, YMD=2024.07.23 09:56\n",
      "Adjusting Air System Sizing\n",
      "Adjusting Standard 62.1 Ventilation Sizing\n",
      "Initializing Simulation\n",
      "Reporting Surfaces\n",
      "Beginning Primary Simulation\n",
      "Initializing New Environment Parameters\n",
      "Warming up {1}\n",
      "Warming up {2}\n",
      "Warming up {3}\n",
      "Warming up {4}\n",
      "Warming up {5}\n",
      "Warming up {6}\n",
      "Starting Simulation at 07/01/2017 for SUMMERDAY\n",
      "Writing tabular output file results using HTML format.\n",
      "Writing final SQL reports\n",
      "EnergyPlus Run Time=00hr 00min  0.33sec\n"
     ]
    },
    {
     "name": "stderr",
     "output_type": "stream",
     "text": [
      "EnergyPlus Completed Successfully.\n"
     ]
    }
   ],
   "source": [
    "ez2 = EzCase(input2, RUN_CASE=True)"
   ]
  }
 ],
 "metadata": {
  "kernelspec": {
   "display_name": "gqenv",
   "language": "python",
   "name": "python3"
  },
  "language_info": {
   "codemirror_mode": {
    "name": "ipython",
    "version": 3
   },
   "file_extension": ".py",
   "mimetype": "text/x-python",
   "name": "python",
   "nbconvert_exporter": "python",
   "pygments_lexer": "ipython3",
   "version": "3.10.14"
  }
 },
 "nbformat": 4,
 "nbformat_minor": 2
}
