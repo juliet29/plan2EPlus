{
 "cells": [
  {
   "cell_type": "code",
   "execution_count": 1,
   "metadata": {},
   "outputs": [],
   "source": [
    "import sys\n",
    "sys.path.append(\"/Users/julietnwagwuume-ezeoke/_UILCode/gqe-phd/geomeppy/_scripts\")\n",
    "\n",
    "from case_edits.epcase import EneryPlusCaseEditor\n",
    "from case_edits.recipes.modify_outputs import modify_outputs"
   ]
  },
  {
   "cell_type": "code",
   "execution_count": 2,
   "metadata": {},
   "outputs": [
    {
     "name": "stdout",
     "output_type": "stream",
     "text": [
      "`Site Outdoor Air Drybulb Temperature` is already in IDF\n"
     ]
    }
   ],
   "source": [
    "vars = [\"Site Outdoor Air Drybulb Temperature\", \"Surface Outside Face Net Thermal Radiation Heat Gain Rate\"]\n",
    "e  = modify_outputs(\"tests/test05_code_upgrade\", vars, starting_case=\"base/02twoRoom\")"
   ]
  },
  {
   "cell_type": "code",
   "execution_count": null,
   "metadata": {},
   "outputs": [],
   "source": [
    "e"
   ]
  },
  {
   "cell_type": "code",
   "execution_count": 6,
   "metadata": {},
   "outputs": [],
   "source": [
    "e = EneryPlusCaseEditor(\"tests/test05_code_upgrade\", )"
   ]
  },
  {
   "cell_type": "code",
   "execution_count": 8,
   "metadata": {},
   "outputs": [
    {
     "name": "stdout",
     "output_type": "stream",
     "text": [
      "Site Outdoor Air Drybulb Temperature is already in IDF\n",
      "Surface Outside Face Net Thermal Radiation Heat Gain Rate is already in IDF\n"
     ]
    }
   ],
   "source": [
    "\n",
    "var_names = [o.Variable_Name for o in e.idf.idfobjects[\"OUTPUT:VARIABLE\"]]\n",
    "\n",
    "for var in vars:\n",
    "    if var in var_names:\n",
    "        print(f\"`{var}` is already in IDF\")"
   ]
  },
  {
   "cell_type": "code",
   "execution_count": 6,
   "metadata": {},
   "outputs": [
    {
     "data": {
      "text/plain": [
       "[\n",
       " Output:Variable,\n",
       "     *,                        !- Key Value\n",
       "     Site Outdoor Air Drybulb Temperature,    !- Variable Name\n",
       "     Timestep;                 !- Reporting Frequency,\n",
       " \n",
       " Output:Variable,\n",
       "     *,                        !- Key Value\n",
       "     Site Outdoor Air Wetbulb Temperature,    !- Variable Name\n",
       "     Timestep;                 !- Reporting Frequency,\n",
       " \n",
       " Output:Variable,\n",
       "     *,                        !- Key Value\n",
       "     Site Outdoor Air Dewpoint Temperature,    !- Variable Name\n",
       "     Timestep;                 !- Reporting Frequency,\n",
       " \n",
       " Output:Variable,\n",
       "     *,                        !- Key Value\n",
       "     Site Solar Azimuth Angle,    !- Variable Name\n",
       "     Timestep;                 !- Reporting Frequency,\n",
       " \n",
       " Output:Variable,\n",
       "     *,                        !- Key Value\n",
       "     Site Solar Altitude Angle,    !- Variable Name\n",
       "     Timestep;                 !- Reporting Frequency,\n",
       " \n",
       " Output:Variable,\n",
       "     *,                        !- Key Value\n",
       "     Site Direct Solar Radiation Rate per Area,    !- Variable Name\n",
       "     Timestep;                 !- Reporting Frequency,\n",
       " \n",
       " Output:Variable,\n",
       "     *,                        !- Key Value\n",
       "     Site Diffuse Solar Radiation Rate per Area,    !- Variable Name\n",
       "     Timestep;                 !- Reporting Frequency,\n",
       " \n",
       " OUTPUT:VARIABLE,\n",
       "     *,                        !- Key Value\n",
       "     Site Outdoor Air Drybulb Temperature,    !- Variable Name\n",
       "     Timestep;                 !- Reporting Frequency,\n",
       " \n",
       " OUTPUT:VARIABLE,\n",
       "     *,                        !- Key Value\n",
       "     Surface Outside Face Net Thermal Radiation Heat Gain Rate,    !- Variable Name\n",
       "     Timestep;                 !- Reporting Frequency]"
      ]
     },
     "execution_count": 6,
     "metadata": {},
     "output_type": "execute_result"
    }
   ],
   "source": [
    "var_names"
   ]
  },
  {
   "cell_type": "code",
   "execution_count": 16,
   "metadata": {},
   "outputs": [
    {
     "data": {
      "text/plain": [
       "'Site Outdoor Air Drybulb Temperature'"
      ]
     },
     "execution_count": 16,
     "metadata": {},
     "output_type": "execute_result"
    }
   ],
   "source": [
    "e.idf.idfobjects[\"OUTPUT:VARIABLE\"][0].Variable_Name"
   ]
  },
  {
   "cell_type": "code",
   "execution_count": 4,
   "metadata": {},
   "outputs": [
    {
     "name": "stdout",
     "output_type": "stream",
     "text": [
      "Site Outdoor Air Drybulb Temperature\n",
      "Site Outdoor Air Wetbulb Temperature\n",
      "Site Outdoor Air Dewpoint Temperature\n",
      "Site Solar Azimuth Angle\n",
      "Site Solar Altitude Angle\n",
      "Site Direct Solar Radiation Rate per Area\n",
      "Site Diffuse Solar Radiation Rate per Area\n",
      "Site Outdoor Air Drybulb Temperature\n",
      "Surface Outside Face Net Thermal Radiation Heat Gain Rate\n"
     ]
    }
   ],
   "source": [
    "for o in e.idf.idfobjects[\"OUTPUT:VARIABLE\"]:\n",
    "    print(o.Variable_Name)\n",
    "\n",
    "# Site Outdoor Air Drybulb Temperature\n",
    "# Site Outdoor Air Wetbulb Temperature\n",
    "# Site Outdoor Air Dewpoint Temperature"
   ]
  },
  {
   "cell_type": "code",
   "execution_count": 8,
   "metadata": {},
   "outputs": [
    {
     "name": "stdout",
     "output_type": "stream",
     "text": [
      "\n",
      "/Applications/EnergyPlus-22-2-0/energyplus --weather /Users/julietnwagwuume-ezeoke/_UILCode/gqe-phd/geomeppy/weather/CA_PALO-ALTO-AP_724937S_20.epw --output-directory /Users/julietnwagwuume-ezeoke/_UILCode/gqe-phd/geomeppy/cases/tests/test05_code_upgrade/results --idd /Applications/EnergyPlus-22-2-0/Energy+.idd /Users/julietnwagwuume-ezeoke/_UILCode/gqe-phd/geomeppy/cases/base/02twoRoom/out_1e5ed5.idf\n",
      "\n",
      "EnergyPlus Starting\n",
      "EnergyPlus, Version 22.2.0-c249759bad, YMD=2024.06.05 13:45\n",
      "Adjusting Air System Sizing\n",
      "Adjusting Standard 62.1 Ventilation Sizing\n",
      "Initializing Simulation\n",
      "Reporting Surfaces\n",
      "Beginning Primary Simulation\n",
      "Initializing New Environment Parameters\n",
      "Warming up {1}\n",
      "Warming up {2}\n",
      "Warming up {3}\n",
      "Warming up {4}\n",
      "Warming up {5}\n",
      "Warming up {6}\n",
      "Starting Simulation at 12/21 for DENVER_STAPLETON ANN HTG 99.6% CONDNS DB\n",
      "Initializing New Environment Parameters\n",
      "Warming up {1}\n",
      "Warming up {2}\n",
      "Warming up {3}\n",
      "Warming up {4}\n",
      "Warming up {5}\n",
      "Warming up {6}\n",
      "Starting Simulation at 07/21 for DENVER_STAPLETON ANN CLG .4% CONDNS DB=>MWB\n",
      "Writing tabular output file results using HTML format.\n",
      "Writing final SQL reports\n",
      "EnergyPlus Run Time=00hr 00min  0.24sec\n"
     ]
    },
    {
     "name": "stderr",
     "output_type": "stream",
     "text": [
      "EnergyPlus Completed Successfully.\n"
     ]
    }
   ],
   "source": [
    "e.prepare_to_run()\n",
    "e.run_idf()"
   ]
  }
 ],
 "metadata": {
  "kernelspec": {
   "display_name": "gqenv",
   "language": "python",
   "name": "python3"
  },
  "language_info": {
   "codemirror_mode": {
    "name": "ipython",
    "version": 3
   },
   "file_extension": ".py",
   "mimetype": "text/x-python",
   "name": "python",
   "nbconvert_exporter": "python",
   "pygments_lexer": "ipython3",
   "version": "3.9.15"
  }
 },
 "nbformat": 4,
 "nbformat_minor": 2
}
