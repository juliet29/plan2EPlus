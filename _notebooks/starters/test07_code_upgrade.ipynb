{
 "cells": [
  {
   "cell_type": "code",
   "execution_count": 1,
   "metadata": {},
   "outputs": [],
   "source": [
    "import sys\n",
    "sys.path.append(\"/Users/julietnwagwuume-ezeoke/_UILCode/gqe-phd/geomeppy/_scripts\")\n",
    "\n",
    "from case_edits.epcase import EneryPlusCaseEditor\n",
    "from case_edits.recipes.from_min import create_case\n",
    "from geometry.geometry_parser import GeometryParser"
   ]
  },
  {
   "cell_type": "code",
   "execution_count": 2,
   "metadata": {},
   "outputs": [
    {
     "name": "stdout",
     "output_type": "stream",
     "text": [
      "['Block North Storey 0 Wall 0001', 'Block North Storey 0 Wall 0002', 'Block North Storey 0 Wall 0003', 'Block North Storey 0 Wall 0004']\n",
      "4\n",
      "['Block West Storey 0 Wall 0001', 'Block West Storey 0 Wall 0002', 'Block West Storey 0 Wall 0003', 'Block West Storey 0 Wall 0004']\n",
      "4\n",
      "`Site Outdoor Air Drybulb Temperature` is already in IDF\n"
     ]
    }
   ],
   "source": [
    "vars = [\"Site Outdoor Air Drybulb Temperature\", \"Surface Outside Face Net Thermal Radiation Heat Gain Rate\"]\n",
    "ep  = create_case(\"tests/test06_issue\", vars)"
   ]
  },
  {
   "cell_type": "code",
   "execution_count": 3,
   "metadata": {},
   "outputs": [
    {
     "data": {
      "text/plain": [
       "[Zone(Block North Storey 0), Zone(Block West Storey 0)]"
      ]
     },
     "execution_count": 3,
     "metadata": {},
     "output_type": "execute_result"
    }
   ],
   "source": [
    "ep.geometry.zones"
   ]
  },
  {
   "cell_type": "code",
   "execution_count": null,
   "metadata": {},
   "outputs": [],
   "source": []
  }
 ],
 "metadata": {
  "kernelspec": {
   "display_name": "gqenv",
   "language": "python",
   "name": "python3"
  },
  "language_info": {
   "codemirror_mode": {
    "name": "ipython",
    "version": 3
   },
   "file_extension": ".py",
   "mimetype": "text/x-python",
   "name": "python",
   "nbconvert_exporter": "python",
   "pygments_lexer": "ipython3",
   "version": "3.9.15"
  }
 },
 "nbformat": 4,
 "nbformat_minor": 2
}
