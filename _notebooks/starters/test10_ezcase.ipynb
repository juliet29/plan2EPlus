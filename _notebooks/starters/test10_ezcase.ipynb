{
 "cells": [
  {
   "cell_type": "code",
   "execution_count": 1,
   "metadata": {},
   "outputs": [],
   "source": [
    "import sys\n",
    "sys.path.append(\"/Users/julietnwagwuume-ezeoke/_UILCode/gqe-phd/geomeppy/_scripts\")\n",
    "\n",
    "\n",
    "from dataclasses import dataclass\n",
    "from typing import TypedDict, List, Union\n",
    "\n",
    "from munch import Munch\n",
    "\n",
    "from gplan.convert import GPLANtoGeomeppy\n",
    "from gplan.room_type import GPLANRoomType, GPLANRoomAccess\n",
    "from case_edits.epcase import EneryPlusCaseEditor\n",
    "\n",
    "from case_edits.ezcase import EzCase, EzCaseStarter"
   ]
  },
  {
   "cell_type": "code",
   "execution_count": 2,
   "metadata": {},
   "outputs": [],
   "source": [
    "TEST_CASE = \"tests/test16_ezcase\"\n",
    "PLAN_PATH = \"GPLANs/test.json\"\n",
    "# PLAN_PATH = \"GPLANs/ostwald_plans.json\""
   ]
  },
  {
   "cell_type": "code",
   "execution_count": 3,
   "metadata": {},
   "outputs": [
    {
     "name": "stdout",
     "output_type": "stream",
     "text": [
      "Added 4 walls \n",
      "Added 4 walls \n",
      "Added 4 walls \n",
      "Added 4 walls \n",
      "Added 4 walls \n",
      "Added 4 walls \n"
     ]
    }
   ],
   "source": [
    "start = EzCaseStarter(case_name=TEST_CASE, geometry=GPLANRoomAccess(PLAN_PATH, 1))\n",
    "ezcase = EzCase(start)\n",
    "ezcase.add_rooms()\n",
    "ezcase.case.get_geometry()"
   ]
  },
  {
   "cell_type": "code",
   "execution_count": 4,
   "metadata": {},
   "outputs": [
    {
     "data": {
      "application/vnd.plotly.v1+json": {
       "config": {
        "plotlyServerURL": "https://plotly.com"
       },
       "data": [
        {
         "fill": "toself",
         "fillcolor": "rgb(48, 18, 59)",
         "line": {
          "width": 0
         },
         "marker": {
          "color": "rgb(48, 18, 59)"
         },
         "name": "Block 01",
         "opacity": 0.5,
         "type": "scatter",
         "x": [
          40,
          40,
          0,
          0,
          40
         ],
         "y": [
          120,
          80,
          80,
          120,
          120
         ]
        },
        {
         "line": {
          "color": "rgb(48, 18, 59)",
          "width": 3
         },
         "marker": {
          "color": "rgb(48, 18, 59)"
         },
         "mode": "markers+lines",
         "name": "Block 01 - East - W01",
         "type": "scatter",
         "x": [
          40,
          40
         ],
         "y": [
          80,
          120
         ]
        },
        {
         "line": {
          "color": "rgb(48, 18, 59)",
          "width": 3
         },
         "marker": {
          "color": "rgb(48, 18, 59)"
         },
         "mode": "markers+lines",
         "name": "Block 01 - North - W02",
         "type": "scatter",
         "x": [
          40,
          0
         ],
         "y": [
          120,
          120
         ]
        },
        {
         "line": {
          "color": "rgb(48, 18, 59)",
          "width": 3
         },
         "marker": {
          "color": "rgb(48, 18, 59)"
         },
         "mode": "markers+lines",
         "name": "Block 01 - West - W03",
         "type": "scatter",
         "x": [
          0,
          0
         ],
         "y": [
          120,
          80
         ]
        },
        {
         "line": {
          "color": "rgb(48, 18, 59)",
          "width": 3
         },
         "marker": {
          "color": "rgb(48, 18, 59)"
         },
         "mode": "markers+lines",
         "name": "Block 01 - South - W04",
         "type": "scatter",
         "x": [
          0,
          40
         ],
         "y": [
          80,
          80
         ]
        },
        {
         "fill": "toself",
         "fillcolor": "rgb(68, 96, 208)",
         "line": {
          "width": 0
         },
         "marker": {
          "color": "rgb(68, 96, 208)"
         },
         "name": "Block 02",
         "opacity": 0.5,
         "type": "scatter",
         "x": [
          160,
          160,
          40,
          40,
          160
         ],
         "y": [
          120,
          80,
          80,
          120,
          120
         ]
        },
        {
         "line": {
          "color": "rgb(68, 96, 208)",
          "width": 3
         },
         "marker": {
          "color": "rgb(68, 96, 208)"
         },
         "mode": "markers+lines",
         "name": "Block 02 - East - W01",
         "type": "scatter",
         "x": [
          160,
          160
         ],
         "y": [
          80,
          120
         ]
        },
        {
         "line": {
          "color": "rgb(68, 96, 208)",
          "width": 3
         },
         "marker": {
          "color": "rgb(68, 96, 208)"
         },
         "mode": "markers+lines",
         "name": "Block 02 - North - W02",
         "type": "scatter",
         "x": [
          160,
          40
         ],
         "y": [
          120,
          120
         ]
        },
        {
         "line": {
          "color": "rgb(68, 96, 208)",
          "width": 3
         },
         "marker": {
          "color": "rgb(68, 96, 208)"
         },
         "mode": "markers+lines",
         "name": "Block 02 - West - W03",
         "type": "scatter",
         "x": [
          40,
          40
         ],
         "y": [
          120,
          80
         ]
        },
        {
         "line": {
          "color": "rgb(68, 96, 208)",
          "width": 3
         },
         "marker": {
          "color": "rgb(68, 96, 208)"
         },
         "mode": "markers+lines",
         "name": "Block 02 - South - W04",
         "type": "scatter",
         "x": [
          40,
          160
         ],
         "y": [
          80,
          80
         ]
        },
        {
         "fill": "toself",
         "fillcolor": "rgb(54, 167, 248)",
         "line": {
          "width": 0
         },
         "marker": {
          "color": "rgb(54, 167, 248)"
         },
         "name": "Block 03",
         "opacity": 0.5,
         "type": "scatter",
         "x": [
          160,
          160,
          120,
          120,
          160
         ],
         "y": [
          80,
          0,
          0,
          80,
          80
         ]
        },
        {
         "line": {
          "color": "rgb(54, 167, 248)",
          "width": 3
         },
         "marker": {
          "color": "rgb(54, 167, 248)"
         },
         "mode": "markers+lines",
         "name": "Block 03 - East - W01",
         "type": "scatter",
         "x": [
          160,
          160
         ],
         "y": [
          0,
          80
         ]
        },
        {
         "line": {
          "color": "rgb(54, 167, 248)",
          "width": 3
         },
         "marker": {
          "color": "rgb(54, 167, 248)"
         },
         "mode": "markers+lines",
         "name": "Block 03 - North - W02",
         "type": "scatter",
         "x": [
          160,
          120
         ],
         "y": [
          80,
          80
         ]
        },
        {
         "line": {
          "color": "rgb(54, 167, 248)",
          "width": 3
         },
         "marker": {
          "color": "rgb(54, 167, 248)"
         },
         "mode": "markers+lines",
         "name": "Block 03 - West - W03",
         "type": "scatter",
         "x": [
          120,
          120
         ],
         "y": [
          80,
          0
         ]
        },
        {
         "line": {
          "color": "rgb(54, 167, 248)",
          "width": 3
         },
         "marker": {
          "color": "rgb(54, 167, 248)"
         },
         "mode": "markers+lines",
         "name": "Block 03 - South - W04",
         "type": "scatter",
         "x": [
          120,
          160
         ],
         "y": [
          0,
          0
         ]
        },
        {
         "fill": "toself",
         "fillcolor": "rgb(33, 226, 181)",
         "line": {
          "width": 0
         },
         "marker": {
          "color": "rgb(33, 226, 181)"
         },
         "name": "Block 04",
         "opacity": 0.5,
         "type": "scatter",
         "x": [
          120,
          120,
          80,
          80,
          120
         ],
         "y": [
          40,
          0,
          0,
          40,
          40
         ]
        },
        {
         "line": {
          "color": "rgb(33, 226, 181)",
          "width": 3
         },
         "marker": {
          "color": "rgb(33, 226, 181)"
         },
         "mode": "markers+lines",
         "name": "Block 04 - East - W01",
         "type": "scatter",
         "x": [
          120,
          120
         ],
         "y": [
          0,
          40
         ]
        },
        {
         "line": {
          "color": "rgb(33, 226, 181)",
          "width": 3
         },
         "marker": {
          "color": "rgb(33, 226, 181)"
         },
         "mode": "markers+lines",
         "name": "Block 04 - North - W02",
         "type": "scatter",
         "x": [
          120,
          80
         ],
         "y": [
          40,
          40
         ]
        },
        {
         "line": {
          "color": "rgb(33, 226, 181)",
          "width": 3
         },
         "marker": {
          "color": "rgb(33, 226, 181)"
         },
         "mode": "markers+lines",
         "name": "Block 04 - West - W03",
         "type": "scatter",
         "x": [
          80,
          80
         ],
         "y": [
          40,
          0
         ]
        },
        {
         "line": {
          "color": "rgb(33, 226, 181)",
          "width": 3
         },
         "marker": {
          "color": "rgb(33, 226, 181)"
         },
         "mode": "markers+lines",
         "name": "Block 04 - South - W04",
         "type": "scatter",
         "x": [
          80,
          120
         ],
         "y": [
          0,
          0
         ]
        },
        {
         "fill": "toself",
         "fillcolor": "rgb(112, 252, 97)",
         "line": {
          "width": 0
         },
         "marker": {
          "color": "rgb(112, 252, 97)"
         },
         "name": "Block 05",
         "opacity": 0.5,
         "type": "scatter",
         "x": [
          120,
          120,
          0,
          0,
          120
         ],
         "y": [
          80,
          40,
          40,
          80,
          80
         ]
        },
        {
         "line": {
          "color": "rgb(112, 252, 97)",
          "width": 3
         },
         "marker": {
          "color": "rgb(112, 252, 97)"
         },
         "mode": "markers+lines",
         "name": "Block 05 - East - W01",
         "type": "scatter",
         "x": [
          120,
          120
         ],
         "y": [
          40,
          80
         ]
        },
        {
         "line": {
          "color": "rgb(112, 252, 97)",
          "width": 3
         },
         "marker": {
          "color": "rgb(112, 252, 97)"
         },
         "mode": "markers+lines",
         "name": "Block 05 - North - W02",
         "type": "scatter",
         "x": [
          120,
          0
         ],
         "y": [
          80,
          80
         ]
        },
        {
         "line": {
          "color": "rgb(112, 252, 97)",
          "width": 3
         },
         "marker": {
          "color": "rgb(112, 252, 97)"
         },
         "mode": "markers+lines",
         "name": "Block 05 - West - W03",
         "type": "scatter",
         "x": [
          0,
          0
         ],
         "y": [
          80,
          40
         ]
        },
        {
         "line": {
          "color": "rgb(112, 252, 97)",
          "width": 3
         },
         "marker": {
          "color": "rgb(112, 252, 97)"
         },
         "mode": "markers+lines",
         "name": "Block 05 - South - W04",
         "type": "scatter",
         "x": [
          0,
          120
         ],
         "y": [
          40,
          40
         ]
        },
        {
         "fill": "toself",
         "fillcolor": "rgb(199, 236, 54)",
         "line": {
          "width": 0
         },
         "marker": {
          "color": "rgb(199, 236, 54)"
         },
         "name": "Block 06",
         "opacity": 0.5,
         "type": "scatter",
         "x": [
          80,
          80,
          0,
          0,
          80
         ],
         "y": [
          40,
          0,
          0,
          40,
          40
         ]
        },
        {
         "line": {
          "color": "rgb(199, 236, 54)",
          "width": 3
         },
         "marker": {
          "color": "rgb(199, 236, 54)"
         },
         "mode": "markers+lines",
         "name": "Block 06 - East - W01",
         "type": "scatter",
         "x": [
          80,
          80
         ],
         "y": [
          0,
          40
         ]
        },
        {
         "line": {
          "color": "rgb(199, 236, 54)",
          "width": 3
         },
         "marker": {
          "color": "rgb(199, 236, 54)"
         },
         "mode": "markers+lines",
         "name": "Block 06 - North - W02",
         "type": "scatter",
         "x": [
          80,
          0
         ],
         "y": [
          40,
          40
         ]
        },
        {
         "line": {
          "color": "rgb(199, 236, 54)",
          "width": 3
         },
         "marker": {
          "color": "rgb(199, 236, 54)"
         },
         "mode": "markers+lines",
         "name": "Block 06 - West - W03",
         "type": "scatter",
         "x": [
          0,
          0
         ],
         "y": [
          40,
          0
         ]
        },
        {
         "line": {
          "color": "rgb(199, 236, 54)",
          "width": 3
         },
         "marker": {
          "color": "rgb(199, 236, 54)"
         },
         "mode": "markers+lines",
         "name": "Block 06 - South - W04",
         "type": "scatter",
         "x": [
          0,
          80
         ],
         "y": [
          0,
          0
         ]
        }
       ],
       "layout": {
        "template": {
         "data": {
          "bar": [
           {
            "error_x": {
             "color": "#2a3f5f"
            },
            "error_y": {
             "color": "#2a3f5f"
            },
            "marker": {
             "line": {
              "color": "#E5ECF6",
              "width": 0.5
             },
             "pattern": {
              "fillmode": "overlay",
              "size": 10,
              "solidity": 0.2
             }
            },
            "type": "bar"
           }
          ],
          "barpolar": [
           {
            "marker": {
             "line": {
              "color": "#E5ECF6",
              "width": 0.5
             },
             "pattern": {
              "fillmode": "overlay",
              "size": 10,
              "solidity": 0.2
             }
            },
            "type": "barpolar"
           }
          ],
          "carpet": [
           {
            "aaxis": {
             "endlinecolor": "#2a3f5f",
             "gridcolor": "white",
             "linecolor": "white",
             "minorgridcolor": "white",
             "startlinecolor": "#2a3f5f"
            },
            "baxis": {
             "endlinecolor": "#2a3f5f",
             "gridcolor": "white",
             "linecolor": "white",
             "minorgridcolor": "white",
             "startlinecolor": "#2a3f5f"
            },
            "type": "carpet"
           }
          ],
          "choropleth": [
           {
            "colorbar": {
             "outlinewidth": 0,
             "ticks": ""
            },
            "type": "choropleth"
           }
          ],
          "contour": [
           {
            "colorbar": {
             "outlinewidth": 0,
             "ticks": ""
            },
            "colorscale": [
             [
              0,
              "#0d0887"
             ],
             [
              0.1111111111111111,
              "#46039f"
             ],
             [
              0.2222222222222222,
              "#7201a8"
             ],
             [
              0.3333333333333333,
              "#9c179e"
             ],
             [
              0.4444444444444444,
              "#bd3786"
             ],
             [
              0.5555555555555556,
              "#d8576b"
             ],
             [
              0.6666666666666666,
              "#ed7953"
             ],
             [
              0.7777777777777778,
              "#fb9f3a"
             ],
             [
              0.8888888888888888,
              "#fdca26"
             ],
             [
              1,
              "#f0f921"
             ]
            ],
            "type": "contour"
           }
          ],
          "contourcarpet": [
           {
            "colorbar": {
             "outlinewidth": 0,
             "ticks": ""
            },
            "type": "contourcarpet"
           }
          ],
          "heatmap": [
           {
            "colorbar": {
             "outlinewidth": 0,
             "ticks": ""
            },
            "colorscale": [
             [
              0,
              "#0d0887"
             ],
             [
              0.1111111111111111,
              "#46039f"
             ],
             [
              0.2222222222222222,
              "#7201a8"
             ],
             [
              0.3333333333333333,
              "#9c179e"
             ],
             [
              0.4444444444444444,
              "#bd3786"
             ],
             [
              0.5555555555555556,
              "#d8576b"
             ],
             [
              0.6666666666666666,
              "#ed7953"
             ],
             [
              0.7777777777777778,
              "#fb9f3a"
             ],
             [
              0.8888888888888888,
              "#fdca26"
             ],
             [
              1,
              "#f0f921"
             ]
            ],
            "type": "heatmap"
           }
          ],
          "heatmapgl": [
           {
            "colorbar": {
             "outlinewidth": 0,
             "ticks": ""
            },
            "colorscale": [
             [
              0,
              "#0d0887"
             ],
             [
              0.1111111111111111,
              "#46039f"
             ],
             [
              0.2222222222222222,
              "#7201a8"
             ],
             [
              0.3333333333333333,
              "#9c179e"
             ],
             [
              0.4444444444444444,
              "#bd3786"
             ],
             [
              0.5555555555555556,
              "#d8576b"
             ],
             [
              0.6666666666666666,
              "#ed7953"
             ],
             [
              0.7777777777777778,
              "#fb9f3a"
             ],
             [
              0.8888888888888888,
              "#fdca26"
             ],
             [
              1,
              "#f0f921"
             ]
            ],
            "type": "heatmapgl"
           }
          ],
          "histogram": [
           {
            "marker": {
             "pattern": {
              "fillmode": "overlay",
              "size": 10,
              "solidity": 0.2
             }
            },
            "type": "histogram"
           }
          ],
          "histogram2d": [
           {
            "colorbar": {
             "outlinewidth": 0,
             "ticks": ""
            },
            "colorscale": [
             [
              0,
              "#0d0887"
             ],
             [
              0.1111111111111111,
              "#46039f"
             ],
             [
              0.2222222222222222,
              "#7201a8"
             ],
             [
              0.3333333333333333,
              "#9c179e"
             ],
             [
              0.4444444444444444,
              "#bd3786"
             ],
             [
              0.5555555555555556,
              "#d8576b"
             ],
             [
              0.6666666666666666,
              "#ed7953"
             ],
             [
              0.7777777777777778,
              "#fb9f3a"
             ],
             [
              0.8888888888888888,
              "#fdca26"
             ],
             [
              1,
              "#f0f921"
             ]
            ],
            "type": "histogram2d"
           }
          ],
          "histogram2dcontour": [
           {
            "colorbar": {
             "outlinewidth": 0,
             "ticks": ""
            },
            "colorscale": [
             [
              0,
              "#0d0887"
             ],
             [
              0.1111111111111111,
              "#46039f"
             ],
             [
              0.2222222222222222,
              "#7201a8"
             ],
             [
              0.3333333333333333,
              "#9c179e"
             ],
             [
              0.4444444444444444,
              "#bd3786"
             ],
             [
              0.5555555555555556,
              "#d8576b"
             ],
             [
              0.6666666666666666,
              "#ed7953"
             ],
             [
              0.7777777777777778,
              "#fb9f3a"
             ],
             [
              0.8888888888888888,
              "#fdca26"
             ],
             [
              1,
              "#f0f921"
             ]
            ],
            "type": "histogram2dcontour"
           }
          ],
          "mesh3d": [
           {
            "colorbar": {
             "outlinewidth": 0,
             "ticks": ""
            },
            "type": "mesh3d"
           }
          ],
          "parcoords": [
           {
            "line": {
             "colorbar": {
              "outlinewidth": 0,
              "ticks": ""
             }
            },
            "type": "parcoords"
           }
          ],
          "pie": [
           {
            "automargin": true,
            "type": "pie"
           }
          ],
          "scatter": [
           {
            "fillpattern": {
             "fillmode": "overlay",
             "size": 10,
             "solidity": 0.2
            },
            "type": "scatter"
           }
          ],
          "scatter3d": [
           {
            "line": {
             "colorbar": {
              "outlinewidth": 0,
              "ticks": ""
             }
            },
            "marker": {
             "colorbar": {
              "outlinewidth": 0,
              "ticks": ""
             }
            },
            "type": "scatter3d"
           }
          ],
          "scattercarpet": [
           {
            "marker": {
             "colorbar": {
              "outlinewidth": 0,
              "ticks": ""
             }
            },
            "type": "scattercarpet"
           }
          ],
          "scattergeo": [
           {
            "marker": {
             "colorbar": {
              "outlinewidth": 0,
              "ticks": ""
             }
            },
            "type": "scattergeo"
           }
          ],
          "scattergl": [
           {
            "marker": {
             "colorbar": {
              "outlinewidth": 0,
              "ticks": ""
             }
            },
            "type": "scattergl"
           }
          ],
          "scattermapbox": [
           {
            "marker": {
             "colorbar": {
              "outlinewidth": 0,
              "ticks": ""
             }
            },
            "type": "scattermapbox"
           }
          ],
          "scatterpolar": [
           {
            "marker": {
             "colorbar": {
              "outlinewidth": 0,
              "ticks": ""
             }
            },
            "type": "scatterpolar"
           }
          ],
          "scatterpolargl": [
           {
            "marker": {
             "colorbar": {
              "outlinewidth": 0,
              "ticks": ""
             }
            },
            "type": "scatterpolargl"
           }
          ],
          "scatterternary": [
           {
            "marker": {
             "colorbar": {
              "outlinewidth": 0,
              "ticks": ""
             }
            },
            "type": "scatterternary"
           }
          ],
          "surface": [
           {
            "colorbar": {
             "outlinewidth": 0,
             "ticks": ""
            },
            "colorscale": [
             [
              0,
              "#0d0887"
             ],
             [
              0.1111111111111111,
              "#46039f"
             ],
             [
              0.2222222222222222,
              "#7201a8"
             ],
             [
              0.3333333333333333,
              "#9c179e"
             ],
             [
              0.4444444444444444,
              "#bd3786"
             ],
             [
              0.5555555555555556,
              "#d8576b"
             ],
             [
              0.6666666666666666,
              "#ed7953"
             ],
             [
              0.7777777777777778,
              "#fb9f3a"
             ],
             [
              0.8888888888888888,
              "#fdca26"
             ],
             [
              1,
              "#f0f921"
             ]
            ],
            "type": "surface"
           }
          ],
          "table": [
           {
            "cells": {
             "fill": {
              "color": "#EBF0F8"
             },
             "line": {
              "color": "white"
             }
            },
            "header": {
             "fill": {
              "color": "#C8D4E3"
             },
             "line": {
              "color": "white"
             }
            },
            "type": "table"
           }
          ]
         },
         "layout": {
          "annotationdefaults": {
           "arrowcolor": "#2a3f5f",
           "arrowhead": 0,
           "arrowwidth": 1
          },
          "autotypenumbers": "strict",
          "coloraxis": {
           "colorbar": {
            "outlinewidth": 0,
            "ticks": ""
           }
          },
          "colorscale": {
           "diverging": [
            [
             0,
             "#8e0152"
            ],
            [
             0.1,
             "#c51b7d"
            ],
            [
             0.2,
             "#de77ae"
            ],
            [
             0.3,
             "#f1b6da"
            ],
            [
             0.4,
             "#fde0ef"
            ],
            [
             0.5,
             "#f7f7f7"
            ],
            [
             0.6,
             "#e6f5d0"
            ],
            [
             0.7,
             "#b8e186"
            ],
            [
             0.8,
             "#7fbc41"
            ],
            [
             0.9,
             "#4d9221"
            ],
            [
             1,
             "#276419"
            ]
           ],
           "sequential": [
            [
             0,
             "#0d0887"
            ],
            [
             0.1111111111111111,
             "#46039f"
            ],
            [
             0.2222222222222222,
             "#7201a8"
            ],
            [
             0.3333333333333333,
             "#9c179e"
            ],
            [
             0.4444444444444444,
             "#bd3786"
            ],
            [
             0.5555555555555556,
             "#d8576b"
            ],
            [
             0.6666666666666666,
             "#ed7953"
            ],
            [
             0.7777777777777778,
             "#fb9f3a"
            ],
            [
             0.8888888888888888,
             "#fdca26"
            ],
            [
             1,
             "#f0f921"
            ]
           ],
           "sequentialminus": [
            [
             0,
             "#0d0887"
            ],
            [
             0.1111111111111111,
             "#46039f"
            ],
            [
             0.2222222222222222,
             "#7201a8"
            ],
            [
             0.3333333333333333,
             "#9c179e"
            ],
            [
             0.4444444444444444,
             "#bd3786"
            ],
            [
             0.5555555555555556,
             "#d8576b"
            ],
            [
             0.6666666666666666,
             "#ed7953"
            ],
            [
             0.7777777777777778,
             "#fb9f3a"
            ],
            [
             0.8888888888888888,
             "#fdca26"
            ],
            [
             1,
             "#f0f921"
            ]
           ]
          },
          "colorway": [
           "#636efa",
           "#EF553B",
           "#00cc96",
           "#ab63fa",
           "#FFA15A",
           "#19d3f3",
           "#FF6692",
           "#B6E880",
           "#FF97FF",
           "#FECB52"
          ],
          "font": {
           "color": "#2a3f5f"
          },
          "geo": {
           "bgcolor": "white",
           "lakecolor": "white",
           "landcolor": "#E5ECF6",
           "showlakes": true,
           "showland": true,
           "subunitcolor": "white"
          },
          "hoverlabel": {
           "align": "left"
          },
          "hovermode": "closest",
          "mapbox": {
           "style": "light"
          },
          "paper_bgcolor": "white",
          "plot_bgcolor": "#E5ECF6",
          "polar": {
           "angularaxis": {
            "gridcolor": "white",
            "linecolor": "white",
            "ticks": ""
           },
           "bgcolor": "#E5ECF6",
           "radialaxis": {
            "gridcolor": "white",
            "linecolor": "white",
            "ticks": ""
           }
          },
          "scene": {
           "xaxis": {
            "backgroundcolor": "#E5ECF6",
            "gridcolor": "white",
            "gridwidth": 2,
            "linecolor": "white",
            "showbackground": true,
            "ticks": "",
            "zerolinecolor": "white"
           },
           "yaxis": {
            "backgroundcolor": "#E5ECF6",
            "gridcolor": "white",
            "gridwidth": 2,
            "linecolor": "white",
            "showbackground": true,
            "ticks": "",
            "zerolinecolor": "white"
           },
           "zaxis": {
            "backgroundcolor": "#E5ECF6",
            "gridcolor": "white",
            "gridwidth": 2,
            "linecolor": "white",
            "showbackground": true,
            "ticks": "",
            "zerolinecolor": "white"
           }
          },
          "shapedefaults": {
           "line": {
            "color": "#2a3f5f"
           }
          },
          "ternary": {
           "aaxis": {
            "gridcolor": "white",
            "linecolor": "white",
            "ticks": ""
           },
           "baxis": {
            "gridcolor": "white",
            "linecolor": "white",
            "ticks": ""
           },
           "bgcolor": "#E5ECF6",
           "caxis": {
            "gridcolor": "white",
            "linecolor": "white",
            "ticks": ""
           }
          },
          "title": {
           "x": 0.05
          },
          "xaxis": {
           "automargin": true,
           "gridcolor": "white",
           "linecolor": "white",
           "ticks": "",
           "title": {
            "standoff": 15
           },
           "zerolinecolor": "white",
           "zerolinewidth": 2
          },
          "yaxis": {
           "automargin": true,
           "gridcolor": "white",
           "linecolor": "white",
           "ticks": "",
           "title": {
            "standoff": 15
           },
           "zerolinecolor": "white",
           "zerolinewidth": 2
          }
         }
        }
       }
      }
     },
     "metadata": {},
     "output_type": "display_data"
    }
   ],
   "source": [
    "ezcase.case.geometry.plot_zones()"
   ]
  },
  {
   "cell_type": "code",
   "execution_count": 6,
   "metadata": {},
   "outputs": [
    {
     "data": {
      "text/plain": [
       "36"
      ]
     },
     "execution_count": 6,
     "metadata": {},
     "output_type": "execute_result"
    }
   ],
   "source": [
    "len(ezcase.case.idf.getsurfaces())"
   ]
  }
 ],
 "metadata": {
  "kernelspec": {
   "display_name": "Python 3",
   "language": "python",
   "name": "python3"
  },
  "language_info": {
   "codemirror_mode": {
    "name": "ipython",
    "version": 3
   },
   "file_extension": ".py",
   "mimetype": "text/x-python",
   "name": "python",
   "nbconvert_exporter": "python",
   "pygments_lexer": "ipython3",
   "version": "3.9.15"
  }
 },
 "nbformat": 4,
 "nbformat_minor": 2
}
