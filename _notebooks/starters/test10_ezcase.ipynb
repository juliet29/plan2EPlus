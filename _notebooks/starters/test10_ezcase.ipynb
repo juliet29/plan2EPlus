{
 "cells": [
  {
   "cell_type": "code",
   "execution_count": 1,
   "metadata": {},
   "outputs": [],
   "source": [
    "import sys\n",
    "sys.path.append(\"/Users/julietnwagwuume-ezeoke/_UILCode/gqe-phd/geomeppy/_scripts\")\n",
    "\n",
    "\n",
    "from dataclasses import dataclass\n",
    "from typing import TypedDict, List, Union\n",
    "\n",
    "from munch import Munch\n",
    "\n",
    "from gplan.convert import GPLANtoGeomeppy\n",
    "from gplan.room_type import GPLANRoomType, GPLANRoomAccess\n",
    "from case_edits.epcase import EneryPlusCaseEditor\n",
    "\n",
    "from case_edits.ezcase import EzCase, EzCaseInput\n",
    "\n",
    "from geomeppy.patches import EpBunch"
   ]
  },
  {
   "cell_type": "code",
   "execution_count": 2,
   "metadata": {},
   "outputs": [],
   "source": [
    "TEST_CASE = \"tests/test16_ezcase\"\n",
    "# PLAN_PATH = \"GPLANs/test.json\"\n",
    "PLAN_PATH = \"GPLANs/ostwald_plans.json\"\n",
    "PLAN_INDEX = 0\n"
   ]
  },
  {
   "cell_type": "code",
   "execution_count": 3,
   "metadata": {},
   "outputs": [
    {
     "name": "stdout",
     "output_type": "stream",
     "text": [
      "Added 4 walls \n",
      "Added 6 walls \n",
      "Added 4 walls \n",
      "Added 4 walls \n",
      "Added 6 walls \n",
      "Added 4 walls \n"
     ]
    }
   ],
   "source": [
    "start = EzCaseInput(case_name=TEST_CASE, geometry=GPLANRoomAccess(PLAN_PATH, PLAN_INDEX), door_pairs=[(5,6), (1,2)])\n",
    "ezcase = EzCase(start)"
   ]
  },
  {
   "cell_type": "code",
   "execution_count": 4,
   "metadata": {},
   "outputs": [],
   "source": [
    "ezcase.add_door()"
   ]
  },
  {
   "cell_type": "code",
   "execution_count": 5,
   "metadata": {},
   "outputs": [
    {
     "data": {
      "text/plain": [
       "[\n",
       "DOOR:INTERZONE,\n",
       "    Block 05 Storey 0 Wall 0004_3 Door,    !- Name\n",
       "    Project Door,             !- Construction Name\n",
       "    Block 05 Storey 0 Wall 0004_3,    !- Building Surface Name\n",
       "    Block 06 Storey 0 Wall 0002_1 Door,    !- Outside Boundary Condition Object\n",
       "    1.0,                      !- Multiplier\n",
       "    19.5,                     !- Starting X Coordinate\n",
       "    0.02,                     !- Starting Z Coordinate\n",
       "    1,                        !- Length\n",
       "    2;                        !- Height\n",
       ", \n",
       "DOOR:INTERZONE,\n",
       "    Block 06 Storey 0 Wall 0002_1 Door,    !- Name\n",
       "    Project Door,             !- Construction Name\n",
       "    Block 06 Storey 0 Wall 0002_1,    !- Building Surface Name\n",
       "    Block 05 Storey 0 Wall 0004_3 Door,    !- Outside Boundary Condition Object\n",
       "    1.0,                      !- Multiplier\n",
       "    19.5,                     !- Starting X Coordinate\n",
       "    0.02,                     !- Starting Z Coordinate\n",
       "    1,                        !- Length\n",
       "    2;                        !- Height\n",
       ", \n",
       "DOOR:INTERZONE,\n",
       "    Block 01 Storey 0 Wall 0001_1 Door,    !- Name\n",
       "    Project Door,             !- Construction Name\n",
       "    Block 01 Storey 0 Wall 0001_1,    !- Building Surface Name\n",
       "    Block 02 Storey 0 Wall 0003_1 Door,    !- Outside Boundary Condition Object\n",
       "    1.0,                      !- Multiplier\n",
       "    19.5,                     !- Starting X Coordinate\n",
       "    0.02,                     !- Starting Z Coordinate\n",
       "    1,                        !- Length\n",
       "    2;                        !- Height\n",
       ", \n",
       "DOOR:INTERZONE,\n",
       "    Block 02 Storey 0 Wall 0003_1 Door,    !- Name\n",
       "    Project Door,             !- Construction Name\n",
       "    Block 02 Storey 0 Wall 0003_1,    !- Building Surface Name\n",
       "    Block 01 Storey 0 Wall 0001_1 Door,    !- Outside Boundary Condition Object\n",
       "    1.0,                      !- Multiplier\n",
       "    19.5,                     !- Starting X Coordinate\n",
       "    0.02,                     !- Starting Z Coordinate\n",
       "    1,                        !- Length\n",
       "    2;                        !- Height\n",
       "]"
      ]
     },
     "execution_count": 5,
     "metadata": {},
     "output_type": "execute_result"
    }
   ],
   "source": [
    "ezcase.case.idf.idfobjects[\"DOOR:INTERZONE\"]"
   ]
  },
  {
   "cell_type": "code",
   "execution_count": 8,
   "metadata": {},
   "outputs": [
    {
     "data": {
      "application/vnd.plotly.v1+json": {
       "config": {
        "plotlyServerURL": "https://plotly.com"
       },
       "data": [
        {
         "fill": "toself",
         "fillcolor": "rgb(48, 18, 59)",
         "line": {
          "width": 0
         },
         "marker": {
          "color": "rgb(48, 18, 59)"
         },
         "name": "Block 01",
         "opacity": 0.5,
         "type": "scatter",
         "x": [
          0,
          120,
          120,
          0,
          0
         ],
         "y": [
          120,
          120,
          80,
          80,
          120
         ]
        },
        {
         "line": {
          "color": "rgb(48, 18, 59)",
          "width": 3
         },
         "marker": {
          "color": "rgb(48, 18, 59)"
         },
         "mode": "markers+lines",
         "name": "Block 01 - North - W02",
         "type": "scatter",
         "x": [
          120,
          0
         ],
         "y": [
          120,
          120
         ]
        },
        {
         "line": {
          "color": "rgb(48, 18, 59)",
          "width": 3
         },
         "marker": {
          "color": "rgb(48, 18, 59)"
         },
         "mode": "markers+lines",
         "name": "Block 01 - West - W03",
         "type": "scatter",
         "x": [
          0,
          0
         ],
         "y": [
          120,
          80
         ]
        },
        {
         "line": {
          "color": "rgb(48, 18, 59)",
          "width": 3
         },
         "marker": {
          "color": "rgb(48, 18, 59)"
         },
         "mode": "markers+lines",
         "name": "Block 01 - East - W01_1",
         "type": "scatter",
         "x": [
          120,
          120
         ],
         "y": [
          80,
          120
         ]
        },
        {
         "line": {
          "color": "rgb(48, 18, 59)",
          "width": 3
         },
         "marker": {
          "color": "rgb(48, 18, 59)"
         },
         "mode": "markers+lines",
         "name": "Block 01 - South - W04_1",
         "type": "scatter",
         "x": [
          0,
          120
         ],
         "y": [
          80,
          80
         ]
        },
        {
         "fill": "toself",
         "fillcolor": "rgb(68, 96, 208)",
         "line": {
          "width": 0
         },
         "marker": {
          "color": "rgb(68, 96, 208)"
         },
         "name": "Block 02",
         "opacity": 0.5,
         "type": "scatter",
         "x": [
          160,
          160,
          120,
          120,
          120,
          120,
          160
         ],
         "y": [
          120,
          0,
          0,
          40,
          80,
          120,
          120
         ]
        },
        {
         "line": {
          "color": "rgb(68, 96, 208)",
          "width": 3
         },
         "marker": {
          "color": "rgb(68, 96, 208)"
         },
         "mode": "markers+lines",
         "name": "Block 02 - East - W01",
         "type": "scatter",
         "x": [
          160,
          160
         ],
         "y": [
          0,
          120
         ]
        },
        {
         "line": {
          "color": "rgb(68, 96, 208)",
          "width": 3
         },
         "marker": {
          "color": "rgb(68, 96, 208)"
         },
         "mode": "markers+lines",
         "name": "Block 02 - North - W02",
         "type": "scatter",
         "x": [
          160,
          120
         ],
         "y": [
          120,
          120
         ]
        },
        {
         "line": {
          "color": "rgb(68, 96, 208)",
          "width": 3
         },
         "marker": {
          "color": "rgb(68, 96, 208)"
         },
         "mode": "markers+lines",
         "name": "Block 02 - South - W04",
         "type": "scatter",
         "x": [
          120,
          160
         ],
         "y": [
          0,
          0
         ]
        },
        {
         "line": {
          "color": "rgb(68, 96, 208)",
          "width": 3
         },
         "marker": {
          "color": "rgb(68, 96, 208)"
         },
         "mode": "markers+lines",
         "name": "Block 02 - West - W03_1",
         "type": "scatter",
         "x": [
          120,
          120
         ],
         "y": [
          120,
          80
         ]
        },
        {
         "line": {
          "color": "rgb(68, 96, 208)",
          "width": 3
         },
         "marker": {
          "color": "rgb(68, 96, 208)"
         },
         "mode": "markers+lines",
         "name": "Block 02 - West - W03_2",
         "type": "scatter",
         "x": [
          120,
          120
         ],
         "y": [
          80,
          40
         ]
        },
        {
         "line": {
          "color": "rgb(68, 96, 208)",
          "width": 3
         },
         "marker": {
          "color": "rgb(68, 96, 208)"
         },
         "mode": "markers+lines",
         "name": "Block 02 - West - W03_3",
         "type": "scatter",
         "x": [
          120,
          120
         ],
         "y": [
          40,
          0
         ]
        },
        {
         "fill": "toself",
         "fillcolor": "rgb(54, 167, 248)",
         "line": {
          "width": 0
         },
         "marker": {
          "color": "rgb(54, 167, 248)"
         },
         "name": "Block 03",
         "opacity": 0.5,
         "type": "scatter",
         "x": [
          120,
          80,
          80,
          120,
          120
         ],
         "y": [
          0,
          0,
          40,
          40,
          0
         ]
        },
        {
         "line": {
          "color": "rgb(54, 167, 248)",
          "width": 3
         },
         "marker": {
          "color": "rgb(54, 167, 248)"
         },
         "mode": "markers+lines",
         "name": "Block 03 - South - W04",
         "type": "scatter",
         "x": [
          80,
          120
         ],
         "y": [
          0,
          0
         ]
        },
        {
         "line": {
          "color": "rgb(54, 167, 248)",
          "width": 3
         },
         "marker": {
          "color": "rgb(54, 167, 248)"
         },
         "mode": "markers+lines",
         "name": "Block 03 - East - W01_1",
         "type": "scatter",
         "x": [
          120,
          120
         ],
         "y": [
          0,
          40
         ]
        },
        {
         "line": {
          "color": "rgb(54, 167, 248)",
          "width": 3
         },
         "marker": {
          "color": "rgb(54, 167, 248)"
         },
         "mode": "markers+lines",
         "name": "Block 03 - North - W02_1",
         "type": "scatter",
         "x": [
          120,
          80
         ],
         "y": [
          40,
          40
         ]
        },
        {
         "line": {
          "color": "rgb(54, 167, 248)",
          "width": 3
         },
         "marker": {
          "color": "rgb(54, 167, 248)"
         },
         "mode": "markers+lines",
         "name": "Block 03 - West - W03_1",
         "type": "scatter",
         "x": [
          80,
          80
         ],
         "y": [
          40,
          0
         ]
        },
        {
         "fill": "toself",
         "fillcolor": "rgb(33, 226, 181)",
         "line": {
          "width": 0
         },
         "marker": {
          "color": "rgb(33, 226, 181)"
         },
         "name": "Block 04",
         "opacity": 0.5,
         "type": "scatter",
         "x": [
          80,
          40,
          40,
          80,
          80
         ],
         "y": [
          0,
          0,
          40,
          40,
          0
         ]
        },
        {
         "line": {
          "color": "rgb(33, 226, 181)",
          "width": 3
         },
         "marker": {
          "color": "rgb(33, 226, 181)"
         },
         "mode": "markers+lines",
         "name": "Block 04 - South - W04",
         "type": "scatter",
         "x": [
          40,
          80
         ],
         "y": [
          0,
          0
         ]
        },
        {
         "line": {
          "color": "rgb(33, 226, 181)",
          "width": 3
         },
         "marker": {
          "color": "rgb(33, 226, 181)"
         },
         "mode": "markers+lines",
         "name": "Block 04 - East - W01_1",
         "type": "scatter",
         "x": [
          80,
          80
         ],
         "y": [
          0,
          40
         ]
        },
        {
         "line": {
          "color": "rgb(33, 226, 181)",
          "width": 3
         },
         "marker": {
          "color": "rgb(33, 226, 181)"
         },
         "mode": "markers+lines",
         "name": "Block 04 - North - W02_1",
         "type": "scatter",
         "x": [
          80,
          40
         ],
         "y": [
          40,
          40
         ]
        },
        {
         "line": {
          "color": "rgb(33, 226, 181)",
          "width": 3
         },
         "marker": {
          "color": "rgb(33, 226, 181)"
         },
         "mode": "markers+lines",
         "name": "Block 04 - West - W03_1",
         "type": "scatter",
         "x": [
          40,
          40
         ],
         "y": [
          40,
          0
         ]
        },
        {
         "fill": "toself",
         "fillcolor": "rgb(112, 252, 97)",
         "line": {
          "width": 0
         },
         "marker": {
          "color": "rgb(112, 252, 97)"
         },
         "name": "Block 05",
         "opacity": 0.5,
         "type": "scatter",
         "x": [
          0,
          0,
          120,
          120,
          80,
          40,
          0
         ],
         "y": [
          40,
          80,
          80,
          40,
          40,
          40,
          40
         ]
        },
        {
         "line": {
          "color": "rgb(112, 252, 97)",
          "width": 3
         },
         "marker": {
          "color": "rgb(112, 252, 97)"
         },
         "mode": "markers+lines",
         "name": "Block 05 - West - W03",
         "type": "scatter",
         "x": [
          0,
          0
         ],
         "y": [
          80,
          40
         ]
        },
        {
         "line": {
          "color": "rgb(112, 252, 97)",
          "width": 3
         },
         "marker": {
          "color": "rgb(112, 252, 97)"
         },
         "mode": "markers+lines",
         "name": "Block 05 - North - W02_1",
         "type": "scatter",
         "x": [
          120,
          0
         ],
         "y": [
          80,
          80
         ]
        },
        {
         "line": {
          "color": "rgb(112, 252, 97)",
          "width": 3
         },
         "marker": {
          "color": "rgb(112, 252, 97)"
         },
         "mode": "markers+lines",
         "name": "Block 05 - East - W01_1",
         "type": "scatter",
         "x": [
          120,
          120
         ],
         "y": [
          40,
          80
         ]
        },
        {
         "line": {
          "color": "rgb(112, 252, 97)",
          "width": 3
         },
         "marker": {
          "color": "rgb(112, 252, 97)"
         },
         "mode": "markers+lines",
         "name": "Block 05 - South - W04_1",
         "type": "scatter",
         "x": [
          80,
          120
         ],
         "y": [
          40,
          40
         ]
        },
        {
         "line": {
          "color": "rgb(112, 252, 97)",
          "width": 3
         },
         "marker": {
          "color": "rgb(112, 252, 97)"
         },
         "mode": "markers+lines",
         "name": "Block 05 - South - W04_2",
         "type": "scatter",
         "x": [
          40,
          80
         ],
         "y": [
          40,
          40
         ]
        },
        {
         "line": {
          "color": "rgb(112, 252, 97)",
          "width": 3
         },
         "marker": {
          "color": "rgb(112, 252, 97)"
         },
         "mode": "markers+lines",
         "name": "Block 05 - South - W04_3",
         "type": "scatter",
         "x": [
          0,
          40
         ],
         "y": [
          40,
          40
         ]
        },
        {
         "fill": "toself",
         "fillcolor": "rgb(199, 236, 54)",
         "line": {
          "width": 0
         },
         "marker": {
          "color": "rgb(199, 236, 54)"
         },
         "name": "Block 06",
         "opacity": 0.5,
         "type": "scatter",
         "x": [
          0,
          0,
          40,
          40,
          0
         ],
         "y": [
          0,
          40,
          40,
          0,
          0
         ]
        },
        {
         "line": {
          "color": "rgb(199, 236, 54)",
          "width": 3
         },
         "marker": {
          "color": "rgb(199, 236, 54)"
         },
         "mode": "markers+lines",
         "name": "Block 06 - West - W03",
         "type": "scatter",
         "x": [
          0,
          0
         ],
         "y": [
          40,
          0
         ]
        },
        {
         "line": {
          "color": "rgb(199, 236, 54)",
          "width": 3
         },
         "marker": {
          "color": "rgb(199, 236, 54)"
         },
         "mode": "markers+lines",
         "name": "Block 06 - South - W04",
         "type": "scatter",
         "x": [
          0,
          40
         ],
         "y": [
          0,
          0
         ]
        },
        {
         "line": {
          "color": "rgb(199, 236, 54)",
          "width": 3
         },
         "marker": {
          "color": "rgb(199, 236, 54)"
         },
         "mode": "markers+lines",
         "name": "Block 06 - East - W01_1",
         "type": "scatter",
         "x": [
          40,
          40
         ],
         "y": [
          0,
          40
         ]
        },
        {
         "line": {
          "color": "rgb(199, 236, 54)",
          "width": 3
         },
         "marker": {
          "color": "rgb(199, 236, 54)"
         },
         "mode": "markers+lines",
         "name": "Block 06 - North - W02_1",
         "type": "scatter",
         "x": [
          40,
          0
         ],
         "y": [
          40,
          40
         ]
        }
       ],
       "layout": {
        "template": {
         "data": {
          "bar": [
           {
            "error_x": {
             "color": "#2a3f5f"
            },
            "error_y": {
             "color": "#2a3f5f"
            },
            "marker": {
             "line": {
              "color": "#E5ECF6",
              "width": 0.5
             },
             "pattern": {
              "fillmode": "overlay",
              "size": 10,
              "solidity": 0.2
             }
            },
            "type": "bar"
           }
          ],
          "barpolar": [
           {
            "marker": {
             "line": {
              "color": "#E5ECF6",
              "width": 0.5
             },
             "pattern": {
              "fillmode": "overlay",
              "size": 10,
              "solidity": 0.2
             }
            },
            "type": "barpolar"
           }
          ],
          "carpet": [
           {
            "aaxis": {
             "endlinecolor": "#2a3f5f",
             "gridcolor": "white",
             "linecolor": "white",
             "minorgridcolor": "white",
             "startlinecolor": "#2a3f5f"
            },
            "baxis": {
             "endlinecolor": "#2a3f5f",
             "gridcolor": "white",
             "linecolor": "white",
             "minorgridcolor": "white",
             "startlinecolor": "#2a3f5f"
            },
            "type": "carpet"
           }
          ],
          "choropleth": [
           {
            "colorbar": {
             "outlinewidth": 0,
             "ticks": ""
            },
            "type": "choropleth"
           }
          ],
          "contour": [
           {
            "colorbar": {
             "outlinewidth": 0,
             "ticks": ""
            },
            "colorscale": [
             [
              0,
              "#0d0887"
             ],
             [
              0.1111111111111111,
              "#46039f"
             ],
             [
              0.2222222222222222,
              "#7201a8"
             ],
             [
              0.3333333333333333,
              "#9c179e"
             ],
             [
              0.4444444444444444,
              "#bd3786"
             ],
             [
              0.5555555555555556,
              "#d8576b"
             ],
             [
              0.6666666666666666,
              "#ed7953"
             ],
             [
              0.7777777777777778,
              "#fb9f3a"
             ],
             [
              0.8888888888888888,
              "#fdca26"
             ],
             [
              1,
              "#f0f921"
             ]
            ],
            "type": "contour"
           }
          ],
          "contourcarpet": [
           {
            "colorbar": {
             "outlinewidth": 0,
             "ticks": ""
            },
            "type": "contourcarpet"
           }
          ],
          "heatmap": [
           {
            "colorbar": {
             "outlinewidth": 0,
             "ticks": ""
            },
            "colorscale": [
             [
              0,
              "#0d0887"
             ],
             [
              0.1111111111111111,
              "#46039f"
             ],
             [
              0.2222222222222222,
              "#7201a8"
             ],
             [
              0.3333333333333333,
              "#9c179e"
             ],
             [
              0.4444444444444444,
              "#bd3786"
             ],
             [
              0.5555555555555556,
              "#d8576b"
             ],
             [
              0.6666666666666666,
              "#ed7953"
             ],
             [
              0.7777777777777778,
              "#fb9f3a"
             ],
             [
              0.8888888888888888,
              "#fdca26"
             ],
             [
              1,
              "#f0f921"
             ]
            ],
            "type": "heatmap"
           }
          ],
          "heatmapgl": [
           {
            "colorbar": {
             "outlinewidth": 0,
             "ticks": ""
            },
            "colorscale": [
             [
              0,
              "#0d0887"
             ],
             [
              0.1111111111111111,
              "#46039f"
             ],
             [
              0.2222222222222222,
              "#7201a8"
             ],
             [
              0.3333333333333333,
              "#9c179e"
             ],
             [
              0.4444444444444444,
              "#bd3786"
             ],
             [
              0.5555555555555556,
              "#d8576b"
             ],
             [
              0.6666666666666666,
              "#ed7953"
             ],
             [
              0.7777777777777778,
              "#fb9f3a"
             ],
             [
              0.8888888888888888,
              "#fdca26"
             ],
             [
              1,
              "#f0f921"
             ]
            ],
            "type": "heatmapgl"
           }
          ],
          "histogram": [
           {
            "marker": {
             "pattern": {
              "fillmode": "overlay",
              "size": 10,
              "solidity": 0.2
             }
            },
            "type": "histogram"
           }
          ],
          "histogram2d": [
           {
            "colorbar": {
             "outlinewidth": 0,
             "ticks": ""
            },
            "colorscale": [
             [
              0,
              "#0d0887"
             ],
             [
              0.1111111111111111,
              "#46039f"
             ],
             [
              0.2222222222222222,
              "#7201a8"
             ],
             [
              0.3333333333333333,
              "#9c179e"
             ],
             [
              0.4444444444444444,
              "#bd3786"
             ],
             [
              0.5555555555555556,
              "#d8576b"
             ],
             [
              0.6666666666666666,
              "#ed7953"
             ],
             [
              0.7777777777777778,
              "#fb9f3a"
             ],
             [
              0.8888888888888888,
              "#fdca26"
             ],
             [
              1,
              "#f0f921"
             ]
            ],
            "type": "histogram2d"
           }
          ],
          "histogram2dcontour": [
           {
            "colorbar": {
             "outlinewidth": 0,
             "ticks": ""
            },
            "colorscale": [
             [
              0,
              "#0d0887"
             ],
             [
              0.1111111111111111,
              "#46039f"
             ],
             [
              0.2222222222222222,
              "#7201a8"
             ],
             [
              0.3333333333333333,
              "#9c179e"
             ],
             [
              0.4444444444444444,
              "#bd3786"
             ],
             [
              0.5555555555555556,
              "#d8576b"
             ],
             [
              0.6666666666666666,
              "#ed7953"
             ],
             [
              0.7777777777777778,
              "#fb9f3a"
             ],
             [
              0.8888888888888888,
              "#fdca26"
             ],
             [
              1,
              "#f0f921"
             ]
            ],
            "type": "histogram2dcontour"
           }
          ],
          "mesh3d": [
           {
            "colorbar": {
             "outlinewidth": 0,
             "ticks": ""
            },
            "type": "mesh3d"
           }
          ],
          "parcoords": [
           {
            "line": {
             "colorbar": {
              "outlinewidth": 0,
              "ticks": ""
             }
            },
            "type": "parcoords"
           }
          ],
          "pie": [
           {
            "automargin": true,
            "type": "pie"
           }
          ],
          "scatter": [
           {
            "fillpattern": {
             "fillmode": "overlay",
             "size": 10,
             "solidity": 0.2
            },
            "type": "scatter"
           }
          ],
          "scatter3d": [
           {
            "line": {
             "colorbar": {
              "outlinewidth": 0,
              "ticks": ""
             }
            },
            "marker": {
             "colorbar": {
              "outlinewidth": 0,
              "ticks": ""
             }
            },
            "type": "scatter3d"
           }
          ],
          "scattercarpet": [
           {
            "marker": {
             "colorbar": {
              "outlinewidth": 0,
              "ticks": ""
             }
            },
            "type": "scattercarpet"
           }
          ],
          "scattergeo": [
           {
            "marker": {
             "colorbar": {
              "outlinewidth": 0,
              "ticks": ""
             }
            },
            "type": "scattergeo"
           }
          ],
          "scattergl": [
           {
            "marker": {
             "colorbar": {
              "outlinewidth": 0,
              "ticks": ""
             }
            },
            "type": "scattergl"
           }
          ],
          "scattermapbox": [
           {
            "marker": {
             "colorbar": {
              "outlinewidth": 0,
              "ticks": ""
             }
            },
            "type": "scattermapbox"
           }
          ],
          "scatterpolar": [
           {
            "marker": {
             "colorbar": {
              "outlinewidth": 0,
              "ticks": ""
             }
            },
            "type": "scatterpolar"
           }
          ],
          "scatterpolargl": [
           {
            "marker": {
             "colorbar": {
              "outlinewidth": 0,
              "ticks": ""
             }
            },
            "type": "scatterpolargl"
           }
          ],
          "scatterternary": [
           {
            "marker": {
             "colorbar": {
              "outlinewidth": 0,
              "ticks": ""
             }
            },
            "type": "scatterternary"
           }
          ],
          "surface": [
           {
            "colorbar": {
             "outlinewidth": 0,
             "ticks": ""
            },
            "colorscale": [
             [
              0,
              "#0d0887"
             ],
             [
              0.1111111111111111,
              "#46039f"
             ],
             [
              0.2222222222222222,
              "#7201a8"
             ],
             [
              0.3333333333333333,
              "#9c179e"
             ],
             [
              0.4444444444444444,
              "#bd3786"
             ],
             [
              0.5555555555555556,
              "#d8576b"
             ],
             [
              0.6666666666666666,
              "#ed7953"
             ],
             [
              0.7777777777777778,
              "#fb9f3a"
             ],
             [
              0.8888888888888888,
              "#fdca26"
             ],
             [
              1,
              "#f0f921"
             ]
            ],
            "type": "surface"
           }
          ],
          "table": [
           {
            "cells": {
             "fill": {
              "color": "#EBF0F8"
             },
             "line": {
              "color": "white"
             }
            },
            "header": {
             "fill": {
              "color": "#C8D4E3"
             },
             "line": {
              "color": "white"
             }
            },
            "type": "table"
           }
          ]
         },
         "layout": {
          "annotationdefaults": {
           "arrowcolor": "#2a3f5f",
           "arrowhead": 0,
           "arrowwidth": 1
          },
          "autotypenumbers": "strict",
          "coloraxis": {
           "colorbar": {
            "outlinewidth": 0,
            "ticks": ""
           }
          },
          "colorscale": {
           "diverging": [
            [
             0,
             "#8e0152"
            ],
            [
             0.1,
             "#c51b7d"
            ],
            [
             0.2,
             "#de77ae"
            ],
            [
             0.3,
             "#f1b6da"
            ],
            [
             0.4,
             "#fde0ef"
            ],
            [
             0.5,
             "#f7f7f7"
            ],
            [
             0.6,
             "#e6f5d0"
            ],
            [
             0.7,
             "#b8e186"
            ],
            [
             0.8,
             "#7fbc41"
            ],
            [
             0.9,
             "#4d9221"
            ],
            [
             1,
             "#276419"
            ]
           ],
           "sequential": [
            [
             0,
             "#0d0887"
            ],
            [
             0.1111111111111111,
             "#46039f"
            ],
            [
             0.2222222222222222,
             "#7201a8"
            ],
            [
             0.3333333333333333,
             "#9c179e"
            ],
            [
             0.4444444444444444,
             "#bd3786"
            ],
            [
             0.5555555555555556,
             "#d8576b"
            ],
            [
             0.6666666666666666,
             "#ed7953"
            ],
            [
             0.7777777777777778,
             "#fb9f3a"
            ],
            [
             0.8888888888888888,
             "#fdca26"
            ],
            [
             1,
             "#f0f921"
            ]
           ],
           "sequentialminus": [
            [
             0,
             "#0d0887"
            ],
            [
             0.1111111111111111,
             "#46039f"
            ],
            [
             0.2222222222222222,
             "#7201a8"
            ],
            [
             0.3333333333333333,
             "#9c179e"
            ],
            [
             0.4444444444444444,
             "#bd3786"
            ],
            [
             0.5555555555555556,
             "#d8576b"
            ],
            [
             0.6666666666666666,
             "#ed7953"
            ],
            [
             0.7777777777777778,
             "#fb9f3a"
            ],
            [
             0.8888888888888888,
             "#fdca26"
            ],
            [
             1,
             "#f0f921"
            ]
           ]
          },
          "colorway": [
           "#636efa",
           "#EF553B",
           "#00cc96",
           "#ab63fa",
           "#FFA15A",
           "#19d3f3",
           "#FF6692",
           "#B6E880",
           "#FF97FF",
           "#FECB52"
          ],
          "font": {
           "color": "#2a3f5f"
          },
          "geo": {
           "bgcolor": "white",
           "lakecolor": "white",
           "landcolor": "#E5ECF6",
           "showlakes": true,
           "showland": true,
           "subunitcolor": "white"
          },
          "hoverlabel": {
           "align": "left"
          },
          "hovermode": "closest",
          "mapbox": {
           "style": "light"
          },
          "paper_bgcolor": "white",
          "plot_bgcolor": "#E5ECF6",
          "polar": {
           "angularaxis": {
            "gridcolor": "white",
            "linecolor": "white",
            "ticks": ""
           },
           "bgcolor": "#E5ECF6",
           "radialaxis": {
            "gridcolor": "white",
            "linecolor": "white",
            "ticks": ""
           }
          },
          "scene": {
           "xaxis": {
            "backgroundcolor": "#E5ECF6",
            "gridcolor": "white",
            "gridwidth": 2,
            "linecolor": "white",
            "showbackground": true,
            "ticks": "",
            "zerolinecolor": "white"
           },
           "yaxis": {
            "backgroundcolor": "#E5ECF6",
            "gridcolor": "white",
            "gridwidth": 2,
            "linecolor": "white",
            "showbackground": true,
            "ticks": "",
            "zerolinecolor": "white"
           },
           "zaxis": {
            "backgroundcolor": "#E5ECF6",
            "gridcolor": "white",
            "gridwidth": 2,
            "linecolor": "white",
            "showbackground": true,
            "ticks": "",
            "zerolinecolor": "white"
           }
          },
          "shapedefaults": {
           "line": {
            "color": "#2a3f5f"
           }
          },
          "ternary": {
           "aaxis": {
            "gridcolor": "white",
            "linecolor": "white",
            "ticks": ""
           },
           "baxis": {
            "gridcolor": "white",
            "linecolor": "white",
            "ticks": ""
           },
           "bgcolor": "#E5ECF6",
           "caxis": {
            "gridcolor": "white",
            "linecolor": "white",
            "ticks": ""
           }
          },
          "title": {
           "x": 0.05
          },
          "xaxis": {
           "automargin": true,
           "gridcolor": "white",
           "linecolor": "white",
           "ticks": "",
           "title": {
            "standoff": 15
           },
           "zerolinecolor": "white",
           "zerolinewidth": 2
          },
          "yaxis": {
           "automargin": true,
           "gridcolor": "white",
           "linecolor": "white",
           "ticks": "",
           "title": {
            "standoff": 15
           },
           "zerolinecolor": "white",
           "zerolinewidth": 2
          }
         }
        }
       }
      }
     },
     "metadata": {},
     "output_type": "display_data"
    }
   ],
   "source": [
    "ezcase.case.geometry.plot_zones()"
   ]
  }
 ],
 "metadata": {
  "kernelspec": {
   "display_name": "Python 3",
   "language": "python",
   "name": "python3"
  },
  "language_info": {
   "codemirror_mode": {
    "name": "ipython",
    "version": 3
   },
   "file_extension": ".py",
   "mimetype": "text/x-python",
   "name": "python",
   "nbconvert_exporter": "python",
   "pygments_lexer": "ipython3",
   "version": "3.9.15"
  }
 },
 "nbformat": 4,
 "nbformat_minor": 2
}
