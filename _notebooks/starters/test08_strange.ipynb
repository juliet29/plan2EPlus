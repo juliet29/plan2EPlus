{
 "cells": [
  {
   "cell_type": "code",
   "execution_count": 1,
   "metadata": {},
   "outputs": [],
   "source": [
    "import sys\n",
    "sys.path.append(\"/Users/julietnwagwuume-ezeoke/_UILCode/gqe-phd/geomeppy/_scripts\")\n",
    "\n",
    "from outputs.sql import SQLReader\n",
    "from outputs.variables import OutputVars\n",
    "from case_edits.epcase import EneryPlusCaseEditor\n",
    "from case_edits.methods.outputs import add_output_variable, request_json, request_sql\n",
    "from geometry.geometry_parser import GeometryParser"
   ]
  },
  {
   "cell_type": "code",
   "execution_count": 2,
   "metadata": {},
   "outputs": [],
   "source": [
    "e = EneryPlusCaseEditor(\"tests/test07_issue2\")\n",
    "WEST_COORDS = [(5,0), (5,7), (0,7), (0,0)]\n",
    "NORTH_COORDS = [(10,7), (10,11), (0,11), (0,7)]\n",
    "\n",
    "e.idf.add_block(\n",
    "      name='North',\n",
    "      coordinates=NORTH_COORDS,\n",
    "      height=3\n",
    "    )\n",
    "e.idf.add_block(\n",
    "      name='West',\n",
    "      coordinates=WEST_COORDS,\n",
    "      height=3\n",
    "    )\n",
    "\n",
    "# g = GeometryParser(e.idf)\n",
    "# g.get_zones()\n",
    "# g.plot_zones()\n",
    "\n",
    "# e.idf = add_output_variable(e.idf, OutputVars.zone_mean_air_temp.value)\n",
    "# e.idf = add_output_variable(e.idf,OutputVars.surf_incident_solar_rad.value)\n",
    "# e.idf = add_output_variable(e.idf,OutputVars.surf_net_thermal_rad.value)\n",
    "# e.idf = request_sql(e.idf)\n",
    "# e.save_idf()\n",
    "# e.prepare_to_run()\n",
    "# e.run_idf()"
   ]
  },
  {
   "cell_type": "code",
   "execution_count": 3,
   "metadata": {},
   "outputs": [
    {
     "name": "stdout",
     "output_type": "stream",
     "text": [
      "Block West Storey 0 Wall 0001\n",
      "Block West Storey 0\n",
      "wall\n",
      "Block West Storey 0 Wall 0002\n",
      "Block West Storey 0\n",
      "wall\n",
      "Block West Storey 0 Wall 0003\n",
      "Block West Storey 0\n",
      "wall\n",
      "Block West Storey 0 Wall 0004\n",
      "Block West Storey 0\n",
      "wall\n",
      "Block West Storey 0 Floor 0001\n",
      "Block West Storey 0\n",
      "floor\n",
      "Block West Storey 0 Roof 0001\n",
      "Block West Storey 0\n",
      "roof\n"
     ]
    }
   ],
   "source": [
    "surfaces =[s for s in e.idf.idfobjects[\"BUILDINGSURFACE:DETAILED\"]]\n",
    "\n",
    "for s in surfaces:\n",
    "    if \"Block West Storey 0\" in s.Name:\n",
    "        print(s.Name)\n",
    "        print(s.Zone_Name)\n",
    "        print(s.Surface_Type)"
   ]
  },
  {
   "cell_type": "code",
   "execution_count": 4,
   "metadata": {},
   "outputs": [
    {
     "name": "stdout",
     "output_type": "stream",
     "text": [
      "Block North Storey 0 Wall 0001\n",
      "wall\n",
      "Block North Storey 0 Wall 0002\n",
      "wall\n",
      "Block North Storey 0 Wall 0003\n",
      "wall\n",
      "Block North Storey 0 Wall 0004\n",
      "wall\n",
      "Block North Storey 0 Floor 0001\n",
      "floor\n",
      "Block North Storey 0 Roof 0001\n",
      "roof\n"
     ]
    }
   ],
   "source": [
    "for s in surfaces:\n",
    "    if \"Block North Storey 0\" in s.Name:\n",
    "        print(s.Name)\n",
    "        print(s.Surface_Type)"
   ]
  }
 ],
 "metadata": {
  "kernelspec": {
   "display_name": "gqenv",
   "language": "python",
   "name": "python3"
  },
  "language_info": {
   "codemirror_mode": {
    "name": "ipython",
    "version": 3
   },
   "file_extension": ".py",
   "mimetype": "text/x-python",
   "name": "python",
   "nbconvert_exporter": "python",
   "pygments_lexer": "ipython3",
   "version": "3.9.15"
  }
 },
 "nbformat": 4,
 "nbformat_minor": 2
}
