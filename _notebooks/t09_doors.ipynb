{
 "cells": [
  {
   "cell_type": "code",
   "execution_count": 1,
   "metadata": {},
   "outputs": [],
   "source": [
    "%load_ext autoreload\n",
    "%autoreload 2"
   ]
  },
  {
   "cell_type": "code",
   "execution_count": 2,
   "metadata": {},
   "outputs": [],
   "source": [
    "from pathlib import Path\n",
    "import sys\n",
    "sys.path.append(str(Path.cwd() / \"_scripts\"))"
   ]
  },
  {
   "cell_type": "code",
   "execution_count": 3,
   "metadata": {},
   "outputs": [],
   "source": [
    "import matplotlib.pyplot as plt\n",
    "from datetime import datetime\n",
    "from scipy.optimize import fsolve\n",
    "import numpy as np\n",
    "from scipy.stats import bernoulli, geom\n",
    "import seaborn as sns\n",
    "import polars as pl\n",
    "from geomeppy import IDF\n",
    "from eppy.bunch_subclass import EpBunch\n",
    "\n",
    "\n",
    "from setup.setup import retrieve_test_case\n",
    "from case_edits.ezcase import create_ezcase\n",
    "from helpers.read_sql import get_sql_results\n",
    "from setup.data_wrangle2 import create_dataframe_for_case, create_wide_dataframe_for_many_qois\n",
    "from helpers.variable_interfaces import all_variables as vars\n",
    "\n",
    "from analysis.plot_subsurfaces import plot_surfaces\n",
    "from analysis.plot_helpers import plot_zone_domains\n",
    "from plan.graph_to_subsurfaces import load_attributes\n",
    "from ladybug.analysisperiod import AnalysisPeriod\n",
    "\n",
    "from helpers.helpers import chain_flatten\n",
    "from experiments.dynamic_door_sched import create_day_sched, plot_geom_dist, HOURS_PER_DAY, INTERVALS_PER_HOUR, create_year_sched, create_door_status_csv\n",
    "from helpers.ep_helpers import get_original_subsurfaces"
   ]
  },
  {
   "cell_type": "code",
   "execution_count": 4,
   "metadata": {},
   "outputs": [
    {
     "data": {
      "text/plain": [
       "CaseData(case_name='test', idf=<geomeppy.idf.IDF object at 0x1037c2f50>, sql=Energy SQLiteResult: /Users/julietnwagwuume-ezeoke/_UILCode/gqe-phd/geomeppy/cases/tests/test25_airwall/results/eplusout.sql, path_to_input=PosixPath('/Users/julietnwagwuume-ezeoke/_UILCode/gqe-phd/svg2plan/outputs2/case_bol_5'), path_to_output=PosixPath('/Users/julietnwagwuume-ezeoke/_UILCode/gqe-phd/geomeppy/cases/tests/test25_airwall'))"
      ]
     },
     "execution_count": 4,
     "metadata": {},
     "output_type": "execute_result"
    }
   ],
   "source": [
    "case = retrieve_test_case(\"test25_airwall\")\n",
    "case"
   ]
  },
  {
   "cell_type": "code",
   "execution_count": 5,
   "metadata": {},
   "outputs": [
    {
     "name": "stdout",
     "output_type": "stream",
     "text": [
      "out.idf does not exist\n"
     ]
    }
   ],
   "source": [
    "case2 = create_ezcase(case.path_to_output, case.path_to_input)"
   ]
  },
  {
   "cell_type": "code",
   "execution_count": 7,
   "metadata": {},
   "outputs": [
    {
     "data": {
      "text/plain": [
       "2"
      ]
     },
     "execution_count": 7,
     "metadata": {},
     "output_type": "execute_result"
    }
   ],
   "source": [
    "doors = [i for i in  case2.idf.idfobjects[\"AIRFLOWNETWORK:MULTIZONE:SURFACE\"] if \"Door\" in i.Surface_Name ]\n",
    "len(doors)"
   ]
  },
  {
   "cell_type": "code",
   "execution_count": null,
   "metadata": {},
   "outputs": [],
   "source": [
    "\n",
    "    \n",
    "\n",
    "\n"
   ]
  },
  {
   "cell_type": "code",
   "execution_count": 15,
   "metadata": {},
   "outputs": [
    {
     "data": {
      "text/plain": [
       "'/Users/julietnwagwuume-ezeoke/_UILCode/gqe-phd/geomeppy'"
      ]
     },
     "execution_count": 15,
     "metadata": {},
     "output_type": "execute_result"
    }
   ],
   "source": [
    "str(Path.cwd())"
   ]
  },
  {
   "cell_type": "code",
   "execution_count": 9,
   "metadata": {},
   "outputs": [],
   "source": [
    "for door in doors:\n",
    "    case2.idf = add_venting_sched_object(case2.idf, case2.idf_path.parent, door)"
   ]
  },
  {
   "cell_type": "code",
   "execution_count": 11,
   "metadata": {},
   "outputs": [
    {
     "data": {
      "text/plain": [
       "[\n",
       "SCHEDULE:FILE,\n",
       "    VentSched_Block_06_Storey_0_Wall_0002_1_Door,    !- Name\n",
       "    ,                         !- Schedule Type Limits Name\n",
       "    /Users/julietnwagwuume-ezeoke/_UILCode/gqe-phd/geomeppy/cases/tests/test25_airwall/Block_06_Storey_0_Wall_0002_1_Door.csv,    !- File Name\n",
       "    1,                        !- Column Number\n",
       "    1,                        !- Rows to Skip at Top\n",
       "    8760,                     !- Number of Hours of Data\n",
       "    Comma,                    !- Column Separator\n",
       "    No,                       !- Interpolate to Timestep\n",
       "    15,                       !- Minutes per Item\n",
       "    Yes;                      !- Adjust Schedule for Daylight Savings\n",
       ", \n",
       "SCHEDULE:FILE,\n",
       "    VentSched_Block_05_Storey_0_Wall_0002_2_Door,    !- Name\n",
       "    ,                         !- Schedule Type Limits Name\n",
       "    /Users/julietnwagwuume-ezeoke/_UILCode/gqe-phd/geomeppy/cases/tests/test25_airwall/Block_05_Storey_0_Wall_0002_2_Door.csv,    !- File Name\n",
       "    1,                        !- Column Number\n",
       "    1,                        !- Rows to Skip at Top\n",
       "    8760,                     !- Number of Hours of Data\n",
       "    Comma,                    !- Column Separator\n",
       "    No,                       !- Interpolate to Timestep\n",
       "    15,                       !- Minutes per Item\n",
       "    Yes;                      !- Adjust Schedule for Daylight Savings\n",
       "]"
      ]
     },
     "execution_count": 11,
     "metadata": {},
     "output_type": "execute_result"
    }
   ],
   "source": [
    "case2.idf.idfobjects[\"SCHEDULE:FILE\"]"
   ]
  },
  {
   "cell_type": "code",
   "execution_count": 10,
   "metadata": {},
   "outputs": [
    {
     "data": {
      "text/plain": [
       "[\n",
       " AIRFLOWNETWORK:MULTIZONE:SURFACE,\n",
       "     Block 06 Storey 0 Wall 0002_1 Door,    !- Surface Name\n",
       "     Block 06 Storey 0 Wall 0002_1 Door SimpleOpening,    !- Leakage Component Name\n",
       "     ,                         !- External Node Name\n",
       "     1,                        !- WindowDoor Opening Factor or Crack Factor\n",
       "     Constant,                 !- Ventilation Control Mode\n",
       "     ,                         !- Ventilation Control Zone Temperature Setpoint Schedule Name\n",
       "     0,                        !- Minimum Venting Open Factor\n",
       "     0,                        !- Indoor and Outdoor Temperature Difference Lower Limit For Maximum Venting Open Factor\n",
       "     100,                      !- Indoor and Outdoor Temperature Difference Upper Limit for Minimum Venting Open Factor\n",
       "     0,                        !- Indoor and Outdoor Enthalpy Difference Lower Limit For Maximum Venting Open Factor\n",
       "     300000,                   !- Indoor and Outdoor Enthalpy Difference Upper Limit for Minimum Venting Open Factor\n",
       "     VentSched_Block_06_Storey_0_Wall_0002_1_Door,    !- Venting Availability Schedule Name\n",
       "     ,                         !- Occupant Ventilation Control Name\n",
       "     PolygonHeight,            !- Equivalent Rectangle Method\n",
       "     1;                        !- Equivalent Rectangle Aspect Ratio,\n",
       " \n",
       " AIRFLOWNETWORK:MULTIZONE:SURFACE,\n",
       "     Block 05 Storey 0 Wall 0002_2 Door,    !- Surface Name\n",
       "     Block 05 Storey 0 Wall 0002_2 Door SimpleOpening,    !- Leakage Component Name\n",
       "     ,                         !- External Node Name\n",
       "     1,                        !- WindowDoor Opening Factor or Crack Factor\n",
       "     Constant,                 !- Ventilation Control Mode\n",
       "     ,                         !- Ventilation Control Zone Temperature Setpoint Schedule Name\n",
       "     0,                        !- Minimum Venting Open Factor\n",
       "     0,                        !- Indoor and Outdoor Temperature Difference Lower Limit For Maximum Venting Open Factor\n",
       "     100,                      !- Indoor and Outdoor Temperature Difference Upper Limit for Minimum Venting Open Factor\n",
       "     0,                        !- Indoor and Outdoor Enthalpy Difference Lower Limit For Maximum Venting Open Factor\n",
       "     300000,                   !- Indoor and Outdoor Enthalpy Difference Upper Limit for Minimum Venting Open Factor\n",
       "     VentSched_Block_05_Storey_0_Wall_0002_2_Door,    !- Venting Availability Schedule Name\n",
       "     ,                         !- Occupant Ventilation Control Name\n",
       "     PolygonHeight,            !- Equivalent Rectangle Method\n",
       "     1;                        !- Equivalent Rectangle Aspect Ratio]"
      ]
     },
     "execution_count": 10,
     "metadata": {},
     "output_type": "execute_result"
    }
   ],
   "source": [
    "doors"
   ]
  },
  {
   "cell_type": "code",
   "execution_count": 17,
   "metadata": {},
   "outputs": [
    {
     "name": "stdout",
     "output_type": "stream",
     "text": [
      "out.idf does not exist\n"
     ]
    }
   ],
   "source": [
    "case2.compare_and_save()"
   ]
  },
  {
   "cell_type": "code",
   "execution_count": 18,
   "metadata": {},
   "outputs": [
    {
     "name": "stdout",
     "output_type": "stream",
     "text": [
      "idf has changed - running case\n",
      "\n",
      "/Applications/EnergyPlus-22-2-0/energyplus --weather /Users/julietnwagwuume-ezeoke/_UILCode/gqe-phd/geomeppy/weather_data/PALO_ALTO/CA_PALO-ALTO-AP_724937_23.EPW --output-directory /Users/julietnwagwuume-ezeoke/_UILCode/gqe-phd/geomeppy/cases/tests/test25_airwall/results --idd /Applications/EnergyPlus-22-2-0/Energy+.idd /Users/julietnwagwuume-ezeoke/_UILCode/gqe-phd/geomeppy/cases/base/01example/Minimal_AP_38b579.idf\n",
      "\n",
      "EnergyPlus Starting\n",
      "EnergyPlus, Version 22.2.0-c249759bad, YMD=2024.11.18 12:36\n",
      "Adjusting Air System Sizing\n",
      "Adjusting Standard 62.1 Ventilation Sizing\n",
      "Initializing Simulation\n",
      "Reporting Surfaces\n",
      "Beginning Primary Simulation\n",
      "Initializing New Environment Parameters\n",
      "Warming up {1}\n",
      "Warming up {2}\n",
      "Warming up {3}\n",
      "Warming up {4}\n",
      "Warming up {5}\n",
      "Warming up {6}\n",
      "Starting Simulation at 07/01/2017 for SUMMERDAY\n",
      "Writing tabular output file results using HTML format.\n",
      "Writing final SQL reports\n",
      "EnergyPlus Run Time=00hr 00min  0.43sec\n"
     ]
    },
    {
     "name": "stderr",
     "output_type": "stream",
     "text": [
      "EnergyPlus Completed Successfully.\n"
     ]
    }
   ],
   "source": [
    "case2.run_idf()"
   ]
  },
  {
   "cell_type": "code",
   "execution_count": 19,
   "metadata": {},
   "outputs": [
    {
     "data": {
      "text/plain": [
       "Energy SQLiteResult: /Users/julietnwagwuume-ezeoke/_UILCode/gqe-phd/geomeppy/cases/tests/test25_airwall/results/eplusout.sql"
      ]
     },
     "execution_count": 19,
     "metadata": {},
     "output_type": "execute_result"
    }
   ],
   "source": [
    "sql = get_sql_results(case.path_to_output)\n",
    "sql"
   ]
  },
  {
   "cell_type": "code",
   "execution_count": 20,
   "metadata": {},
   "outputs": [
    {
     "data": {
      "text/html": [
       "<div><style>\n",
       ".dataframe > thead > tr,\n",
       ".dataframe > tbody > tr {\n",
       "  text-align: right;\n",
       "  white-space: pre-wrap;\n",
       "}\n",
       "</style>\n",
       "<small>shape: (5, 4)</small><table border=\"1\" class=\"dataframe\"><thead><tr><th>case_names</th><th>space_names</th><th>datetimes</th><th>AFN Surface Venting Window or Door Opening Factor [fraction]</th></tr><tr><td>str</td><td>str</td><td>datetime[μs]</td><td>f64</td></tr></thead><tbody><tr><td>&quot;test&quot;</td><td>&quot;BLOCK 00 STOREY 0 WALL 0002 WI…</td><td>2017-07-01 00:00:00</td><td>1.0</td></tr><tr><td>&quot;test&quot;</td><td>&quot;BLOCK 00 STOREY 0 WALL 0002 WI…</td><td>2017-07-01 00:15:00</td><td>1.0</td></tr><tr><td>&quot;test&quot;</td><td>&quot;BLOCK 00 STOREY 0 WALL 0002 WI…</td><td>2017-07-01 00:30:00</td><td>1.0</td></tr><tr><td>&quot;test&quot;</td><td>&quot;BLOCK 00 STOREY 0 WALL 0002 WI…</td><td>2017-07-01 00:45:00</td><td>1.0</td></tr><tr><td>&quot;test&quot;</td><td>&quot;BLOCK 00 STOREY 0 WALL 0002 WI…</td><td>2017-07-01 01:00:00</td><td>1.0</td></tr></tbody></table></div>"
      ],
      "text/plain": [
       "shape: (5, 4)\n",
       "┌────────────┬───────────────────────────────┬─────────────────────┬───────────────────────────────┐\n",
       "│ case_names ┆ space_names                   ┆ datetimes           ┆ AFN Surface Venting Window or │\n",
       "│ ---        ┆ ---                           ┆ ---                 ┆ …                             │\n",
       "│ str        ┆ str                           ┆ datetime[μs]        ┆ ---                           │\n",
       "│            ┆                               ┆                     ┆ f64                           │\n",
       "╞════════════╪═══════════════════════════════╪═════════════════════╪═══════════════════════════════╡\n",
       "│ test       ┆ BLOCK 00 STOREY 0 WALL 0002   ┆ 2017-07-01 00:00:00 ┆ 1.0                           │\n",
       "│            ┆ WI…                           ┆                     ┆                               │\n",
       "│ test       ┆ BLOCK 00 STOREY 0 WALL 0002   ┆ 2017-07-01 00:15:00 ┆ 1.0                           │\n",
       "│            ┆ WI…                           ┆                     ┆                               │\n",
       "│ test       ┆ BLOCK 00 STOREY 0 WALL 0002   ┆ 2017-07-01 00:30:00 ┆ 1.0                           │\n",
       "│            ┆ WI…                           ┆                     ┆                               │\n",
       "│ test       ┆ BLOCK 00 STOREY 0 WALL 0002   ┆ 2017-07-01 00:45:00 ┆ 1.0                           │\n",
       "│            ┆ WI…                           ┆                     ┆                               │\n",
       "│ test       ┆ BLOCK 00 STOREY 0 WALL 0002   ┆ 2017-07-01 01:00:00 ┆ 1.0                           │\n",
       "│            ┆ WI…                           ┆                     ┆                               │\n",
       "└────────────┴───────────────────────────────┴─────────────────────┴───────────────────────────────┘"
      ]
     },
     "execution_count": 20,
     "metadata": {},
     "output_type": "execute_result"
    }
   ],
   "source": [
    "df=create_dataframe_for_case(case, vars.afn.surface[\"opening_factor\"])\n",
    "df.head()"
   ]
  },
  {
   "cell_type": "code",
   "execution_count": 21,
   "metadata": {},
   "outputs": [
    {
     "data": {
      "text/plain": [
       "[0.0, 0.9999999999999999, 1.0, 1.000000000000002]"
      ]
     },
     "execution_count": 21,
     "metadata": {},
     "output_type": "execute_result"
    }
   ],
   "source": [
    "df[\"AFN Surface Venting Window or Door Opening Factor [fraction]\"].unique().to_list()"
   ]
  },
  {
   "cell_type": "code",
   "execution_count": 34,
   "metadata": {},
   "outputs": [
    {
     "data": {
      "image/png": "[encoded data removed]",
      "text/plain": [
       "<Figure size 700x600 with 1 Axes>"
      ]
     },
     "metadata": {},
     "output_type": "display_data"
    }
   ],
   "source": [
    "time = datetime(2017, 7, 1, 8, 15)\n",
    "fig, ax = plt.subplots(nrows=1, figsize=(7, 6))\n",
    "ax = plot_zone_domains(case.idf, ax)\n",
    "ax, data = plot_surfaces(case, time, ax)"
   ]
  },
  {
   "cell_type": "code",
   "execution_count": null,
   "metadata": {},
   "outputs": [],
   "source": []
  }
 ],
 "metadata": {
  "kernelspec": {
   "display_name": "gqenv",
   "language": "python",
   "name": "python3"
  },
  "language_info": {
   "codemirror_mode": {
    "name": "ipython",
    "version": 3
   },
   "file_extension": ".py",
   "mimetype": "text/x-python",
   "name": "python",
   "nbconvert_exporter": "python",
   "pygments_lexer": "ipython3",
   "version": "3.10.15"
  }
 },
 "nbformat": 4,
 "nbformat_minor": 2
}
