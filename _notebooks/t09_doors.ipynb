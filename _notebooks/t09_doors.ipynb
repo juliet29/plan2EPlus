{
 "cells": [
  {
   "cell_type": "code",
   "execution_count": 2,
   "metadata": {},
   "outputs": [],
   "source": [
    "%load_ext autoreload\n",
    "%autoreload 2"
   ]
  },
  {
   "cell_type": "code",
   "execution_count": 3,
   "metadata": {},
   "outputs": [],
   "source": [
    "from pathlib import Path\n",
    "import sys\n",
    "sys.path.append(str(Path.cwd() / \"_scripts\"))"
   ]
  },
  {
   "cell_type": "code",
   "execution_count": null,
   "metadata": {},
   "outputs": [],
   "source": [
    "import matplotlib.pyplot as plt\n",
    "from datetime import datetime\n",
    "import numpy as np\n",
    "import seaborn as sns\n",
    "import polars as pl\n",
    "from geomeppy import IDF\n",
    "from eppy.bunch_subclass import EpBunch\n",
    "\n",
    "\n",
    "from case_edits.ezcase import create_ezcase\n",
    "from helpers.variable_interfaces import all_variables as vars\n",
    "\n",
    "from analysis.plot_subsurfaces import plot_surfaces\n",
    "from analysis.plot_helpers import plot_zone_domains\n",
    "\n",
    "\n",
    "from setup.materials_setup import retrieve_cases"
   ]
  },
  {
   "cell_type": "code",
   "execution_count": 5,
   "metadata": {},
   "outputs": [
    {
     "data": {
      "text/plain": [
       "CaseData(case_name='Medium_case_red_b1', idf=<geomeppy.idf.IDF object at 0x1335842e0>, sql=Energy SQLiteResult: /Users/julietnwagwuume-ezeoke/_UILCode/gqe-phd/geomeppy/cases/material_exp/Medium_case_red_b1/results/eplusout.sql, path_to_input=PosixPath('/Users/julietnwagwuume-ezeoke/_UILCode/gqe-phd/svg2plan/outputs2/case_red_b1'), path_to_output=PosixPath('/Users/julietnwagwuume-ezeoke/_UILCode/gqe-phd/geomeppy/cases/material_exp/Medium_case_red_b1'))"
      ]
     },
     "execution_count": 5,
     "metadata": {},
     "output_type": "execute_result"
    }
   ],
   "source": [
    "all_cases = retrieve_cases()\n",
    "case = [i for i in all_cases if \"red\" in i.case_name][1]\n",
    "case"
   ]
  },
  {
   "cell_type": "code",
   "execution_count": 25,
   "metadata": {},
   "outputs": [
    {
     "name": "stdout",
     "output_type": "stream",
     "text": [
      "No epw! Now its EPW file Data for [\"PALO-ALTO-AP\"]\n",
      "Partner Block 00 Storey 0 not in  original AFN. Adding now.. \n",
      "Subsurf Block 00 Storey 0 Wall 0002 Window not in  original AFN. Adding now.. \n",
      "out.idf does not exist\n"
     ]
    }
   ],
   "source": [
    "case2 = create_ezcase(case.path_to_output, case.path_to_input)\n",
    "# case2.run_idf()\n",
    "# doors = [i for i in  case2.idf.idfobjects]"
   ]
  },
  {
   "cell_type": "code",
   "execution_count": 26,
   "metadata": {},
   "outputs": [
    {
     "name": "stdout",
     "output_type": "stream",
     "text": [
      "idf has changed - running case\n",
      "\n",
      "/Applications/EnergyPlus-22-2-0/energyplus --weather /Users/julietnwagwuume-ezeoke/_UILCode/gqe-phd/geomeppy/weather_data/PALO_ALTO/CA_PALO-ALTO-AP_724937_23.EPW --output-directory /Users/julietnwagwuume-ezeoke/_UILCode/gqe-phd/geomeppy/cases/material_exp/Medium_case_red_b1/results --idd /Applications/EnergyPlus-22-2-0/Energy+.idd /Users/julietnwagwuume-ezeoke/_UILCode/gqe-phd/geomeppy/cases/base/01example/Minimal_AP_b84d61.idf\n",
      "\n",
      "EnergyPlus Starting\n",
      "EnergyPlus, Version 22.2.0-c249759bad, YMD=2024.11.19 13:59\n",
      "Adjusting Air System Sizing\n",
      "Adjusting Standard 62.1 Ventilation Sizing\n",
      "Initializing Simulation\n",
      "Reporting Surfaces\n",
      "Beginning Primary Simulation\n",
      "Initializing New Environment Parameters\n",
      "Warming up {1}\n",
      "Warming up {2}\n",
      "Warming up {3}\n",
      "Warming up {4}\n",
      "Warming up {5}\n",
      "Warming up {6}\n",
      "Starting Simulation at 07/01/2017 for SUMMER\n",
      "Writing tabular output file results using HTML format.\n",
      "Writing final SQL reports\n",
      "EnergyPlus Run Time=00hr 00min  0.44sec\n"
     ]
    },
    {
     "name": "stderr",
     "output_type": "stream",
     "text": [
      "EnergyPlus Completed Successfully.\n"
     ]
    }
   ],
   "source": [
    "case2.run_idf()"
   ]
  },
  {
   "cell_type": "code",
   "execution_count": 7,
   "metadata": {},
   "outputs": [
    {
     "data": {
      "text/plain": [
       "['Block 08 Storey 0 Wall 0002_2 Door',\n",
       " 'Block 03 Storey 0 Wall 0004 Window',\n",
       " 'Block 05 Storey 0 Wall 0002_1 Door',\n",
       " 'Block 04 Storey 0 Wall 0001_1 Door',\n",
       " 'Block 05 Storey 0 Wall 0004 Window',\n",
       " 'Block 08 Storey 0 Wall 0002_3 Door',\n",
       " 'Block 09 Storey 0 Wall 0003 Window',\n",
       " 'Block 09 Storey 0 Wall 0004 Window',\n",
       " 'Block 02 Storey 0 Wall 0002 Window',\n",
       " 'Block 01 Storey 0 Wall 0002 Window',\n",
       " 'Block 03 Storey 0 Wall 0001 Window',\n",
       " 'Block 04 Storey 0 Wall 0004 Window',\n",
       " 'Block 02 Storey 0 Wall 0001 Window',\n",
       " 'Block 03 Storey 0 Wall 0002_2 Door',\n",
       " 'Block 09 Storey 0 Wall 0001_2',\n",
       " 'Block 09 Storey 0 Wall 0002_1',\n",
       " 'Block 08 Storey 0 Wall 0002_1',\n",
       " 'Block 00 Storey 0 Wall 0002 Window']"
      ]
     },
     "execution_count": 7,
     "metadata": {},
     "output_type": "execute_result"
    }
   ],
   "source": [
    "[i.Surface_Name for i in case2.idf.idfobjects[\"AIRFLOWNETWORK:MULTIZONE:SURFACE\"]]"
   ]
  },
  {
   "cell_type": "code",
   "execution_count": 15,
   "metadata": {},
   "outputs": [
    {
     "data": {
      "text/plain": [
       "['Block 08 Storey 0 Wall 0002_2 Door SimpleOpening',\n",
       " 'Block 03 Storey 0 Wall 0004 Window SimpleOpening',\n",
       " 'Block 05 Storey 0 Wall 0002_1 Door SimpleOpening',\n",
       " 'Block 04 Storey 0 Wall 0001_1 Door SimpleOpening',\n",
       " 'Block 05 Storey 0 Wall 0004 Window SimpleOpening',\n",
       " 'Block 08 Storey 0 Wall 0002_3 Door SimpleOpening',\n",
       " 'Block 09 Storey 0 Wall 0003 Window SimpleOpening',\n",
       " 'Block 09 Storey 0 Wall 0004 Window SimpleOpening',\n",
       " 'Block 02 Storey 0 Wall 0002 Window SimpleOpening',\n",
       " 'Block 01 Storey 0 Wall 0002 Window SimpleOpening',\n",
       " 'Block 03 Storey 0 Wall 0001 Window SimpleOpening',\n",
       " 'Block 04 Storey 0 Wall 0004 Window SimpleOpening',\n",
       " 'Block 02 Storey 0 Wall 0001 Window SimpleOpening',\n",
       " 'Block 03 Storey 0 Wall 0002_2 Door SimpleOpening',\n",
       " 'Block 09 Storey 0 Wall 0001_2 SimpleOpening',\n",
       " 'Block 09 Storey 0 Wall 0002_1 SimpleOpening',\n",
       " 'Block 08 Storey 0 Wall 0002_1 SimpleOpening',\n",
       " 'Block 00 Storey 0 Wall 0002 Window SimpleOpening']"
      ]
     },
     "execution_count": 15,
     "metadata": {},
     "output_type": "execute_result"
    }
   ],
   "source": [
    "[i.Name for i in case2.idf.idfobjects[\"AirflowNetwork:MultiZone:Component:SimpleOpening\".upper()]]"
   ]
  },
  {
   "cell_type": "code",
   "execution_count": 8,
   "metadata": {},
   "outputs": [],
   "source": [
    "from setup.interfaces import CaseData\n",
    "\n",
    "case2_data = CaseData(case.case_name, case2.idf, case.sql, case.path_to_input, case.path_to_output)"
   ]
  },
  {
   "cell_type": "code",
   "execution_count": null,
   "metadata": {},
   "outputs": [],
   "source": []
  },
  {
   "cell_type": "code",
   "execution_count": 27,
   "metadata": {},
   "outputs": [
    {
     "name": "stdout",
     "output_type": "stream",
     "text": [
      "Block 06 Storey 0 Wall 0002_1 Door NOT IN AFN.. \n",
      "AirBoundary Block 09 Storey 0 Wall 0001_2 NOT IN AFN.. \n",
      "AirBoundary Block 09 Storey 0 Wall 0002_1 NOT IN AFN.. \n",
      "AirBoundary Block 08 Storey 0 Wall 0002_1 NOT IN AFN.. \n"
     ]
    },
    {
     "data": {
      "image/png": "[encoded data removed]",
      "text/plain": [
       "<Figure size 700x600 with 1 Axes>"
      ]
     },
     "metadata": {},
     "output_type": "display_data"
    }
   ],
   "source": [
    "time = datetime(2017, 7, 1, 8, 15)\n",
    "fig, ax = plt.subplots(nrows=1, figsize=(7, 6))\n",
    "ax = plot_zone_domains(case2.idf, ax)\n",
    "ax, data = plot_surfaces(case2_data, time, ax)"
   ]
  },
  {
   "cell_type": "code",
   "execution_count": 17,
   "metadata": {},
   "outputs": [
    {
     "data": {
      "text/plain": [
       "['Block 08 Storey 0 Wall 0002_2 Door SimpleOpening',\n",
       " 'Block 03 Storey 0 Wall 0004 Window SimpleOpening',\n",
       " 'Block 05 Storey 0 Wall 0002_1 Door SimpleOpening',\n",
       " 'Block 04 Storey 0 Wall 0001_1 Door SimpleOpening',\n",
       " 'Block 05 Storey 0 Wall 0004 Window SimpleOpening',\n",
       " 'Block 08 Storey 0 Wall 0002_3 Door SimpleOpening',\n",
       " 'Block 09 Storey 0 Wall 0003 Window SimpleOpening',\n",
       " 'Block 09 Storey 0 Wall 0004 Window SimpleOpening',\n",
       " 'Block 02 Storey 0 Wall 0002 Window SimpleOpening',\n",
       " 'Block 01 Storey 0 Wall 0002 Window SimpleOpening',\n",
       " 'Block 03 Storey 0 Wall 0001 Window SimpleOpening',\n",
       " 'Block 04 Storey 0 Wall 0004 Window SimpleOpening',\n",
       " 'Block 02 Storey 0 Wall 0001 Window SimpleOpening',\n",
       " 'Block 03 Storey 0 Wall 0002_2 Door SimpleOpening',\n",
       " 'Block 09 Storey 0 Wall 0001_2 SimpleOpening',\n",
       " 'Block 09 Storey 0 Wall 0002_1 SimpleOpening',\n",
       " 'Block 08 Storey 0 Wall 0002_1 SimpleOpening',\n",
       " 'Block 00 Storey 0 Wall 0002 Window SimpleOpening']"
      ]
     },
     "execution_count": 17,
     "metadata": {},
     "output_type": "execute_result"
    }
   ],
   "source": [
    "[i.Name for i in case2_data.idf.idfobjects[\"AirflowNetwork:MultiZone:Component:SimpleOpening\".upper()]]"
   ]
  },
  {
   "cell_type": "code",
   "execution_count": 12,
   "metadata": {},
   "outputs": [
    {
     "name": "stdout",
     "output_type": "stream",
     "text": [
      "Block 06 Storey 0 Wall 0002_1 Door NOT IN AFN.. \n",
      "Block 00 Storey 0 Wall 0002 Window NOT IN AFN.. \n",
      "AirBoundary Block 09 Storey 0 Wall 0001_2 NOT IN AFN.. \n",
      "AirBoundary Block 09 Storey 0 Wall 0002_1 NOT IN AFN.. \n",
      "AirBoundary Block 08 Storey 0 Wall 0002_1 NOT IN AFN.. \n"
     ]
    },
    {
     "data": {
      "image/png": "[encoded data removed]",
      "text/plain": [
       "<Figure size 700x600 with 1 Axes>"
      ]
     },
     "metadata": {},
     "output_type": "display_data"
    }
   ],
   "source": [
    "time = datetime(2017, 7, 1, 8, 15)\n",
    "fig, ax = plt.subplots(nrows=1, figsize=(7, 6))\n",
    "ax = plot_zone_domains(case.idf, ax)\n",
    "ax, data = plot_surfaces(case, time, ax)"
   ]
  },
  {
   "cell_type": "code",
   "execution_count": null,
   "metadata": {},
   "outputs": [],
   "source": []
  }
 ],
 "metadata": {
  "kernelspec": {
   "display_name": "gqenv",
   "language": "python",
   "name": "python3"
  },
  "language_info": {
   "codemirror_mode": {
    "name": "ipython",
    "version": 3
   },
   "file_extension": ".py",
   "mimetype": "text/x-python",
   "name": "python",
   "nbconvert_exporter": "python",
   "pygments_lexer": "ipython3",
   "version": "3.10.15"
  }
 },
 "nbformat": 4,
 "nbformat_minor": 2
}
