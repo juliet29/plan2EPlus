{
 "cells": [
  {
   "cell_type": "code",
   "execution_count": 1,
   "metadata": {},
   "outputs": [],
   "source": [
    "%load_ext autoreload\n",
    "%autoreload 2"
   ]
  },
  {
   "cell_type": "code",
   "execution_count": 2,
   "metadata": {},
   "outputs": [],
   "source": [
    "from pathlib import Path\n",
    "import sys\n",
    "sys.path.append(str(Path.cwd() / \"_scripts\"))"
   ]
  },
  {
   "cell_type": "code",
   "execution_count": 3,
   "metadata": {},
   "outputs": [],
   "source": [
    "import networkx as nx\n",
    "from eppy.bunch_subclass import EpBunch\n",
    "\n",
    "from case_edits.ezcase import *\n",
    "from helpers.ep_helpers import *\n",
    "from helpers.ep_geom_helpers import *\n",
    "from helpers.geometry_interfaces import *\n",
    "from helpers.helpers import *\n",
    "from plan.helpers import get_plans_from_file\n",
    "from network.network2 import *\n",
    "from network.visuals import *\n",
    "from subsurfaces.logic import get_connecting_surface\n"
   ]
  },
  {
   "cell_type": "code",
   "execution_count": 4,
   "metadata": {},
   "outputs": [],
   "source": [
    "\n",
    "inputs_dir = \"case_red_d3\"\n",
    "outputs_dir = \"tests/test22_svg2plan\"\n",
    "\n",
    "case = initialize_case(outputs_dir)\n",
    "path_to_input = get_path_to_inputs(inputs_dir)\n",
    "pairs = get_subsurface_pairs_from_case(path_to_input)\n",
    "\n",
    "\n"
   ]
  },
  {
   "cell_type": "code",
   "execution_count": 5,
   "metadata": {},
   "outputs": [
    {
     "name": "stdout",
     "output_type": "stream",
     "text": [
      "out.idf exists\n",
      "IDF has changed: True\n"
     ]
    }
   ],
   "source": [
    "case = create_ezcase(outputs_dir, inputs_dir)\n",
    "idf = case.idf"
   ]
  },
  {
   "cell_type": "code",
   "execution_count": 21,
   "metadata": {},
   "outputs": [],
   "source": [
    "G, positions = create_graph_for_zone(idf, path_to_input)\n",
    "G, positions  = add_cardinal_directions(G, positions)"
   ]
  },
  {
   "cell_type": "code",
   "execution_count": 7,
   "metadata": {},
   "outputs": [],
   "source": [
    "zone_nodes = [i[0] for i in G.nodes(data=True) if \"zone_name\" in i[1].keys()]\n",
    "cardinal_nodes = [i[0] for i in G.nodes(data=True) if \"type\" in i[1].keys()] "
   ]
  },
  {
   "cell_type": "code",
   "execution_count": 22,
   "metadata": {},
   "outputs": [
    {
     "data": {
      "image/png": "[encoded data removed]",
      "text/plain": [
       "<Figure size 640x480 with 1 Axes>"
      ]
     },
     "metadata": {},
     "output_type": "display_data"
    }
   ],
   "source": [
    "draw_graph_with_node_labels(G, positions, zone_nodes)\n",
    "draw_graph_with_node_labels(G, positions, cardinal_nodes, color=CARDINAL_COLOR, shape=\"*\", size=200)"
   ]
  },
  {
   "cell_type": "code",
   "execution_count": 10,
   "metadata": {},
   "outputs": [
    {
     "data": {
      "text/plain": [
       "(<networkx.classes.digraph.DiGraph at 0x1053dcf10>,\n",
       " {'0-kitchen': (0.85, 2.4649999998509884),\n",
       "  '1-living': (0.8499999998603016, 0.8899999998975545),\n",
       "  '2-transit': (2.1199999996460974, 0.8999999999068677),\n",
       "  '3-bedroom_2': (3.1549999995622784, 0.615),\n",
       "  '4-bedroom': (3.0649999999999995, 2.4749999999999996),\n",
       "  '5-closet': (3.5099999997764826, 1.5150000000000001),\n",
       "  '6-transit_2': (2.894999999785796, 1.5149999998975545),\n",
       "  '7-bath': (2.03, 2.4749999998603016),\n",
       "  'NORTH': (2.179999999818392, 2.9749999999999996),\n",
       "  'SOUTH': (2.179999999818392, 0.11499999999999999),\n",
       "  'EAST': (0.3499999998603016, 1.545),\n",
       "  'WEST': (4.009999999776483, 1.545)})"
      ]
     },
     "execution_count": 10,
     "metadata": {},
     "output_type": "execute_result"
    }
   ],
   "source": []
  },
  {
   "cell_type": "code",
   "execution_count": 12,
   "metadata": {},
   "outputs": [],
   "source": []
  },
  {
   "cell_type": "code",
   "execution_count": 14,
   "metadata": {},
   "outputs": [
    {
     "data": {
      "text/plain": [
       "[('0-kitchen',\n",
       "  {'num': 0, 'room_name': 'kitchen', 'zone_name': 'Block 00 Storey 0'}),\n",
       " ('1-living',\n",
       "  {'num': 1, 'room_name': 'living', 'zone_name': 'Block 01 Storey 0'}),\n",
       " ('2-transit',\n",
       "  {'num': 2, 'room_name': 'transit', 'zone_name': 'Block 02 Storey 0'}),\n",
       " ('3-bedroom_2',\n",
       "  {'num': 3, 'room_name': 'bedroom_2', 'zone_name': 'Block 03 Storey 0'}),\n",
       " ('4-bedroom',\n",
       "  {'num': 4, 'room_name': 'bedroom', 'zone_name': 'Block 04 Storey 0'}),\n",
       " ('5-closet',\n",
       "  {'num': 5, 'room_name': 'closet', 'zone_name': 'Block 05 Storey 0'}),\n",
       " ('6-transit_2',\n",
       "  {'num': 6, 'room_name': 'transit_2', 'zone_name': 'Block 06 Storey 0'}),\n",
       " ('7-bath', {'num': 7, 'room_name': 'bath', 'zone_name': 'Block 07 Storey 0'})]"
      ]
     },
     "execution_count": 14,
     "metadata": {},
     "output_type": "execute_result"
    }
   ],
   "source": [
    "zone_nodes"
   ]
  },
  {
   "cell_type": "code",
   "execution_count": 8,
   "metadata": {},
   "outputs": [
    {
     "data": {
      "text/plain": [
       "{'0-kitchen': (0.85, 2.4649999998509884),\n",
       " '1-living': (0.8499999998603016, 0.8899999998975545),\n",
       " '2-transit': (2.1199999996460974, 0.8999999999068677),\n",
       " '3-bedroom_2': (3.1549999995622784, 0.615),\n",
       " '4-bedroom': (3.0649999999999995, 2.4749999999999996),\n",
       " '5-closet': (3.5099999997764826, 1.5150000000000001),\n",
       " '6-transit_2': (2.894999999785796, 1.5149999998975545),\n",
       " '7-bath': (2.03, 2.4749999998603016)}"
      ]
     },
     "execution_count": 8,
     "metadata": {},
     "output_type": "execute_result"
    }
   ],
   "source": [
    "positions"
   ]
  },
  {
   "cell_type": "code",
   "execution_count": 9,
   "metadata": {},
   "outputs": [
    {
     "data": {
      "text/plain": [
       "{'NORTH': (2.179999999818392, 2.9749999999999996),\n",
       " 'SOUTH': (2.179999999818392, 0.11499999999999999),\n",
       " 'EAST': (0.3499999998603016, 1.545),\n",
       " 'WEST': (4.009999999776483, 1.545)}"
      ]
     },
     "execution_count": 9,
     "metadata": {},
     "output_type": "execute_result"
    }
   ],
   "source": [
    "t = create_cardinal_positions(positions)\n",
    "t"
   ]
  },
  {
   "cell_type": "code",
   "execution_count": 10,
   "metadata": {},
   "outputs": [],
   "source": [
    "positions.update(t)"
   ]
  },
  {
   "cell_type": "code",
   "execution_count": 11,
   "metadata": {},
   "outputs": [
    {
     "data": {
      "text/plain": [
       "{'0-kitchen': (0.85, 2.4649999998509884),\n",
       " '1-living': (0.8499999998603016, 0.8899999998975545),\n",
       " '2-transit': (2.1199999996460974, 0.8999999999068677),\n",
       " '3-bedroom_2': (3.1549999995622784, 0.615),\n",
       " '4-bedroom': (3.0649999999999995, 2.4749999999999996),\n",
       " '5-closet': (3.5099999997764826, 1.5150000000000001),\n",
       " '6-transit_2': (2.894999999785796, 1.5149999998975545),\n",
       " '7-bath': (2.03, 2.4749999998603016),\n",
       " 'NORTH': (2.179999999818392, 2.9749999999999996),\n",
       " 'SOUTH': (2.179999999818392, 0.11499999999999999),\n",
       " 'EAST': (0.3499999998603016, 1.545),\n",
       " 'WEST': (4.009999999776483, 1.545)}"
      ]
     },
     "execution_count": 11,
     "metadata": {},
     "output_type": "execute_result"
    }
   ],
   "source": [
    "positions"
   ]
  },
  {
   "cell_type": "code",
   "execution_count": 17,
   "metadata": {},
   "outputs": [],
   "source": [
    "\n",
    "for pair in pairs:\n",
    "    surf = get_connecting_surface(idf, pair)\n",
    "    surf.subsurfaces\n",
    "\n",
    "\n"
   ]
  },
  {
   "cell_type": "code",
   "execution_count": 19,
   "metadata": {},
   "outputs": [
    {
     "data": {
      "text/plain": [
       "[SSP(pair=(1, 2), type=DOOR, dims=(0.81, 2.03),\n",
       " SSP(pair=(1, 0), type=DOOR, dims=(0.81, 2.03),\n",
       " SSP(pair=(2, 6), type=DOOR, dims=(0.81, 2.03),\n",
       " SSP(pair=(2, 3), type=DOOR, dims=(0.81, 2.03),\n",
       " SSP(pair=(2, 7), type=DOOR, dims=(0.81, 2.03),\n",
       " SSP(pair=(6, 4), type=DOOR, dims=(0.81, 2.03),\n",
       " SSP(pair=(3, 6), type=DOOR, dims=(0.81, 2.03),\n",
       " SSP(pair=(4, <WallNormal.EAST: 90.0>), type=WINDOW, dims=(0.71, 1.52),\n",
       " SSP(pair=(4, <WallNormal.NORTH: 0.0>), type=WINDOW, dims=(0.71, 1.52),\n",
       " SSP(pair=(0, <WallNormal.WEST: 270.0>), type=WINDOW, dims=(0.71, 1.52),\n",
       " SSP(pair=(1, <WallNormal.WEST: 270.0>), type=WINDOW, dims=(0.71, 1.52),\n",
       " SSP(pair=(0, <WallNormal.NORTH: 0.0>), type=WINDOW, dims=(0.71, 1.52),\n",
       " SSP(pair=(1, <WallNormal.SOUTH: 180.0>), type=WINDOW, dims=(0.71, 1.52),\n",
       " SSP(pair=(3, <WallNormal.SOUTH: 180.0>), type=WINDOW, dims=(0.71, 1.52)]"
      ]
     },
     "execution_count": 19,
     "metadata": {},
     "output_type": "execute_result"
    }
   ],
   "source": [
    "pairs"
   ]
  },
  {
   "cell_type": "code",
   "execution_count": 18,
   "metadata": {},
   "outputs": [
    {
     "data": {
      "text/plain": [
       "[\n",
       " WINDOW,\n",
       "     Block 03 Storey 0 Wall 0004 Window,    !- Name\n",
       "     Project External Window,    !- Construction Name\n",
       "     Block 03 Storey 0 Wall 0004,    !- Building Surface Name\n",
       "     ,                         !- Frame and Divider Name\n",
       "     1.0,                      !- Multiplier\n",
       "     0.26,                     !- Starting X Coordinate\n",
       "     1.4994999999999998,       !- Starting Z Coordinate\n",
       "     0.71,                     !- Length\n",
       "     1.52;                     !- Height]"
      ]
     },
     "execution_count": 18,
     "metadata": {},
     "output_type": "execute_result"
    }
   ],
   "source": [
    "surf.subsurfaces"
   ]
  },
  {
   "cell_type": "code",
   "execution_count": null,
   "metadata": {},
   "outputs": [],
   "source": [
    "def get_subsurface_by_zone_and_surf(idf, zone_num, surf):\n",
    "    zone_name = get_zone_name(zone_num)\n",
    "    subsurfaces = idf.getsubsurfaces()\n",
    "    find_zone_subsurfaces(zone_name, subsurfaces)\n"
   ]
  },
  {
   "cell_type": "code",
   "execution_count": 19,
   "metadata": {},
   "outputs": [],
   "source": [
    "# collapse all to range.. \n",
    "def create_total_range(res: list[Domain]):\n",
    "    mins = [i.width.min for i in res]\n",
    "    maxes = [i.width.max for i in res]\n",
    "    return Range(min(mins), max(maxes))\n"
   ]
  },
  {
   "cell_type": "code",
   "execution_count": 20,
   "metadata": {},
   "outputs": [
    {
     "data": {
      "text/plain": [
       "{'EAST': (1.78, 3.15),\n",
       " 'NORTH': (0.00, 1.70),\n",
       " 'SOUTH': (0.00, 1.70),\n",
       " 'WEST': (1.78, 3.15)}"
      ]
     },
     "execution_count": 20,
     "metadata": {},
     "output_type": "execute_result"
    }
   ],
   "source": [
    "ranges = {k: create_total_range(v) for k,v in domains.items()}\n",
    "ranges"
   ]
  },
  {
   "cell_type": "code",
   "execution_count": 32,
   "metadata": {},
   "outputs": [],
   "source": [
    "assert ranges[\"EAST\"] == ranges[\"WEST\"]\n",
    "assert ranges[\"NORTH\"] == ranges[\"SOUTH\"]\n",
    "# assert ranges[\"NORTH\"].__repr__() == ranges[\"SOUTH\"].__repr__()"
   ]
  },
  {
   "cell_type": "code",
   "execution_count": 33,
   "metadata": {},
   "outputs": [
    {
     "data": {
      "text/plain": [
       "Domain(width=[1.78, 3.15], height=[0.00, 1.70])"
      ]
     },
     "execution_count": 33,
     "metadata": {},
     "output_type": "execute_result"
    }
   ],
   "source": [
    "zone_domain = Domain(ranges[\"EAST\"], ranges[\"NORTH\"])\n",
    "zone_domain"
   ]
  }
 ],
 "metadata": {
  "kernelspec": {
   "display_name": "gqenv",
   "language": "python",
   "name": "python3"
  },
  "language_info": {
   "codemirror_mode": {
    "name": "ipython",
    "version": 3
   },
   "file_extension": ".py",
   "mimetype": "text/x-python",
   "name": "python",
   "nbconvert_exporter": "python",
   "pygments_lexer": "ipython3",
   "version": "3.10.14"
  }
 },
 "nbformat": 4,
 "nbformat_minor": 2
}
