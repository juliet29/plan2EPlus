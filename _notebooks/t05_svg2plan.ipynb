{
 "cells": [
  {
   "cell_type": "code",
   "execution_count": 10,
   "metadata": {},
   "outputs": [
    {
     "name": "stdout",
     "output_type": "stream",
     "text": [
      "The autoreload extension is already loaded. To reload it, use:\n",
      "  %reload_ext autoreload\n"
     ]
    }
   ],
   "source": [
    "%load_ext autoreload\n",
    "%autoreload 2"
   ]
  },
  {
   "cell_type": "code",
   "execution_count": 11,
   "metadata": {},
   "outputs": [],
   "source": [
    "from pathlib import Path\n",
    "import sys\n",
    "sys.path.append(str(Path.cwd() / \"_scripts\"))"
   ]
  },
  {
   "cell_type": "code",
   "execution_count": 12,
   "metadata": {},
   "outputs": [],
   "source": [
    "import networkx as nx\n",
    "from eppy.bunch_subclass import EpBunch\n",
    "\n",
    "from case_edits.ezcase import *\n",
    "from helpers.ep_helpers import *\n",
    "from helpers.ep_geom_helpers import *\n",
    "from helpers.geometry_interfaces import *\n",
    "from helpers.helpers import *\n",
    "from plan.helpers import get_plans_from_file\n",
    "from network.network import *\n",
    "from network.visuals import *\n",
    "from subsurfaces.logic import get_connecting_surface\n"
   ]
  },
  {
   "cell_type": "code",
   "execution_count": 13,
   "metadata": {},
   "outputs": [],
   "source": [
    "\n",
    "inputs_dir = \"case_red_d3\"\n",
    "outputs_dir = \"tests/test22_svg2plan\"\n",
    "\n",
    "case = initialize_case(outputs_dir)\n",
    "path_to_input = get_path_to_inputs(inputs_dir)\n",
    "pairs = get_subsurface_pairs_from_case(path_to_input)\n",
    "\n",
    "\n"
   ]
  },
  {
   "cell_type": "code",
   "execution_count": 14,
   "metadata": {},
   "outputs": [
    {
     "name": "stdout",
     "output_type": "stream",
     "text": [
      "out.idf exists\n",
      "IDF has changed: False\n"
     ]
    }
   ],
   "source": [
    "case = create_ezcase(outputs_dir, inputs_dir)\n",
    "idf = case.idf"
   ]
  },
  {
   "cell_type": "code",
   "execution_count": 15,
   "metadata": {},
   "outputs": [],
   "source": [
    "z = get_zones(idf)"
   ]
  },
  {
   "cell_type": "code",
   "execution_count": 16,
   "metadata": {},
   "outputs": [
    {
     "data": {
      "text/plain": [
       "[Domain(width=[1.78, 3.15], height=[0.00, 1.70]),\n",
       " Domain(width=[0.00, 1.78], height=[0.00, 1.70]),\n",
       " Domain(width=[0.00, 1.80], height=[1.70, 2.54]),\n",
       " Domain(width=[0.00, 1.23], height=[2.54, 3.77]),\n",
       " Domain(width=[1.80, 3.15], height=[2.36, 3.77]),\n",
       " Domain(width=[1.23, 1.80], height=[3.25, 3.77]),\n",
       " Domain(width=[1.23, 1.80], height=[2.54, 3.25]),\n",
       " Domain(width=[1.80, 3.15], height=[1.70, 2.36])]"
      ]
     },
     "execution_count": 16,
     "metadata": {},
     "output_type": "execute_result"
    }
   ],
   "source": [
    "[create_domain_for_zone(idf, ix) for ix, _ in enumerate(z)]"
   ]
  },
  {
   "cell_type": "code",
   "execution_count": 17,
   "metadata": {},
   "outputs": [],
   "source": [
    "\n",
    "for pair in pairs:\n",
    "    surf = get_connecting_surface(idf, pair)\n",
    "\n",
    "\n"
   ]
  },
  {
   "cell_type": "code",
   "execution_count": 19,
   "metadata": {},
   "outputs": [
    {
     "data": {
      "text/plain": [
       "[SSP(pair=(1, 2), type=DOOR, dims=(0.81, 2.03),\n",
       " SSP(pair=(1, 0), type=DOOR, dims=(0.81, 2.03),\n",
       " SSP(pair=(2, 6), type=DOOR, dims=(0.81, 2.03),\n",
       " SSP(pair=(2, 3), type=DOOR, dims=(0.81, 2.03),\n",
       " SSP(pair=(2, 7), type=DOOR, dims=(0.81, 2.03),\n",
       " SSP(pair=(6, 4), type=DOOR, dims=(0.81, 2.03),\n",
       " SSP(pair=(3, 6), type=DOOR, dims=(0.81, 2.03),\n",
       " SSP(pair=(4, <WallNormal.EAST: 90.0>), type=WINDOW, dims=(0.71, 1.52),\n",
       " SSP(pair=(4, <WallNormal.NORTH: 0.0>), type=WINDOW, dims=(0.71, 1.52),\n",
       " SSP(pair=(0, <WallNormal.WEST: 270.0>), type=WINDOW, dims=(0.71, 1.52),\n",
       " SSP(pair=(1, <WallNormal.WEST: 270.0>), type=WINDOW, dims=(0.71, 1.52),\n",
       " SSP(pair=(0, <WallNormal.NORTH: 0.0>), type=WINDOW, dims=(0.71, 1.52),\n",
       " SSP(pair=(1, <WallNormal.SOUTH: 180.0>), type=WINDOW, dims=(0.71, 1.52),\n",
       " SSP(pair=(3, <WallNormal.SOUTH: 180.0>), type=WINDOW, dims=(0.71, 1.52)]"
      ]
     },
     "execution_count": 19,
     "metadata": {},
     "output_type": "execute_result"
    }
   ],
   "source": [
    "pairs"
   ]
  },
  {
   "cell_type": "code",
   "execution_count": 18,
   "metadata": {},
   "outputs": [
    {
     "data": {
      "text/plain": [
       "[\n",
       " WINDOW,\n",
       "     Block 03 Storey 0 Wall 0004 Window,    !- Name\n",
       "     Project External Window,    !- Construction Name\n",
       "     Block 03 Storey 0 Wall 0004,    !- Building Surface Name\n",
       "     ,                         !- Frame and Divider Name\n",
       "     1.0,                      !- Multiplier\n",
       "     0.26,                     !- Starting X Coordinate\n",
       "     1.4994999999999998,       !- Starting Z Coordinate\n",
       "     0.71,                     !- Length\n",
       "     1.52;                     !- Height]"
      ]
     },
     "execution_count": 18,
     "metadata": {},
     "output_type": "execute_result"
    }
   ],
   "source": [
    "surf.subsurfaces"
   ]
  },
  {
   "cell_type": "code",
   "execution_count": null,
   "metadata": {},
   "outputs": [],
   "source": [
    "def get_subsurface_by_zone_and_surf(idf, zone_num, surf):\n",
    "    zone_name = get_zone_name(zone_num)\n",
    "    subsurfaces = idf.getsubsurfaces()\n",
    "    find_zone_subsurfaces(zone_name, subsurfaces)\n"
   ]
  },
  {
   "cell_type": "code",
   "execution_count": 19,
   "metadata": {},
   "outputs": [],
   "source": [
    "# collapse all to range.. \n",
    "def create_total_range(res: list[Domain]):\n",
    "    mins = [i.width.min for i in res]\n",
    "    maxes = [i.width.max for i in res]\n",
    "    return Range(min(mins), max(maxes))\n"
   ]
  },
  {
   "cell_type": "code",
   "execution_count": 20,
   "metadata": {},
   "outputs": [
    {
     "data": {
      "text/plain": [
       "{'EAST': (1.78, 3.15),\n",
       " 'NORTH': (0.00, 1.70),\n",
       " 'SOUTH': (0.00, 1.70),\n",
       " 'WEST': (1.78, 3.15)}"
      ]
     },
     "execution_count": 20,
     "metadata": {},
     "output_type": "execute_result"
    }
   ],
   "source": [
    "ranges = {k: create_total_range(v) for k,v in domains.items()}\n",
    "ranges"
   ]
  },
  {
   "cell_type": "code",
   "execution_count": 32,
   "metadata": {},
   "outputs": [],
   "source": [
    "assert ranges[\"EAST\"] == ranges[\"WEST\"]\n",
    "assert ranges[\"NORTH\"] == ranges[\"SOUTH\"]\n",
    "# assert ranges[\"NORTH\"].__repr__() == ranges[\"SOUTH\"].__repr__()"
   ]
  },
  {
   "cell_type": "code",
   "execution_count": 33,
   "metadata": {},
   "outputs": [
    {
     "data": {
      "text/plain": [
       "Domain(width=[1.78, 3.15], height=[0.00, 1.70])"
      ]
     },
     "execution_count": 33,
     "metadata": {},
     "output_type": "execute_result"
    }
   ],
   "source": [
    "zone_domain = Domain(ranges[\"EAST\"], ranges[\"NORTH\"])\n",
    "zone_domain"
   ]
  }
 ],
 "metadata": {
  "kernelspec": {
   "display_name": "gqenv",
   "language": "python",
   "name": "python3"
  },
  "language_info": {
   "codemirror_mode": {
    "name": "ipython",
    "version": 3
   },
   "file_extension": ".py",
   "mimetype": "text/x-python",
   "name": "python",
   "nbconvert_exporter": "python",
   "pygments_lexer": "ipython3",
   "version": "3.10.14"
  }
 },
 "nbformat": 4,
 "nbformat_minor": 2
}
