{
 "cells": [
  {
   "cell_type": "code",
   "execution_count": 1,
   "metadata": {},
   "outputs": [],
   "source": [
    "%load_ext autoreload\n",
    "%autoreload 2"
   ]
  },
  {
   "cell_type": "code",
   "execution_count": 2,
   "metadata": {},
   "outputs": [],
   "source": [
    "from pathlib import Path\n",
    "import sys\n",
    "sys.path.append(str(Path.cwd() / \"_scripts\"))"
   ]
  },
  {
   "cell_type": "code",
   "execution_count": 15,
   "metadata": {},
   "outputs": [],
   "source": [
    "from case_edits.ezcase_new import *\n",
    "from helpers.ep_helpers import *\n",
    "from helpers.helpers import *\n",
    "from plan.helpers import get_plans_from_file\n",
    "from new_subsurfaces.creator import create_partner_name, PARTNER, reverse_partner_name"
   ]
  },
  {
   "cell_type": "code",
   "execution_count": 4,
   "metadata": {},
   "outputs": [],
   "source": [
    "\n",
    "inputs_dir = \"case_red_d3\"\n",
    "outputs_dir = \"tests/test22_svg2plan\"\n",
    "\n",
    "case = initialize_case(outputs_dir)\n",
    "path_to_input = get_path_to_inputs(inputs_dir)\n",
    "pairs = get_subsurface_pairs_from_case(path_to_input)\n",
    "\n",
    "\n"
   ]
  },
  {
   "cell_type": "code",
   "execution_count": 5,
   "metadata": {},
   "outputs": [
    {
     "name": "stdout",
     "output_type": "stream",
     "text": [
      "out.idf exists\n",
      "IDF has changed: True\n"
     ]
    }
   ],
   "source": [
    "case = create_ezcase(outputs_dir, inputs_dir)\n",
    "idf = case.idf"
   ]
  },
  {
   "cell_type": "code",
   "execution_count": 15,
   "metadata": {},
   "outputs": [
    {
     "data": {
      "text/plain": [
       "[(0, 'kitchen', Coord(x=0.0, y=3.15)),\n",
       " (1, 'living', Coord(x=0.0, y=1.78)),\n",
       " (2, 'transit', Coord(x=1.7, y=1.8)),\n",
       " (3, 'bedroom_2', Coord(x=2.54, y=1.23)),\n",
       " (4, 'bedroom', Coord(x=2.36, y=3.15)),\n",
       " (5, 'closet', Coord(x=3.25, y=1.8)),\n",
       " (6, 'transit_2', Coord(x=2.54, y=1.8)),\n",
       " (7, 'bath', Coord(x=1.7, y=3.15))]"
      ]
     },
     "execution_count": 15,
     "metadata": {},
     "output_type": "execute_result"
    }
   ],
   "source": [
    "plans = get_plans_from_file(path_to_input)\n",
    "[i.get_node_data() for i in plans]\n"
   ]
  },
  {
   "cell_type": "code",
   "execution_count": 11,
   "metadata": {},
   "outputs": [],
   "source": [
    "def find_matching_subsurface(zone_name: str, subsurfaces: list[EpBunch]):\n",
    "    return [s.Name for s in subsurfaces if zone_name in s.Building_Surface_Name]\n",
    "        "
   ]
  },
  {
   "cell_type": "code",
   "execution_count": 19,
   "metadata": {},
   "outputs": [
    {
     "data": {
      "text/plain": [
       "{'Block 00 Storey 0': ['Block 01 Storey 0 Wall 0002_1 Door Partner',\n",
       "  'Block 00 Storey 0 Wall 0003 Window',\n",
       "  'Block 00 Storey 0 Wall 0002 Window'],\n",
       " 'Block 01 Storey 0': ['Block 01 Storey 0 Wall 0001_1 Door',\n",
       "  'Block 01 Storey 0 Wall 0002_1 Door',\n",
       "  'Block 01 Storey 0 Wall 0003 Window',\n",
       "  'Block 01 Storey 0 Wall 0004 Window'],\n",
       " 'Block 02 Storey 0': ['Block 01 Storey 0 Wall 0001_1 Door Partner',\n",
       "  'Block 02 Storey 0 Wall 0001_2 Door',\n",
       "  'Block 02 Storey 0 Wall 0001_1 Door',\n",
       "  'Block 02 Storey 0 Wall 0002_2 Door'],\n",
       " 'Block 03 Storey 0': ['Block 02 Storey 0 Wall 0001_1 Door Partner',\n",
       "  'Block 03 Storey 0 Wall 0002_2 Door',\n",
       "  'Block 03 Storey 0 Wall 0004 Window'],\n",
       " 'Block 04 Storey 0': ['Block 06 Storey 0 Wall 0002_1 Door Partner',\n",
       "  'Block 04 Storey 0 Wall 0001 Window',\n",
       "  'Block 04 Storey 0 Wall 0002 Window'],\n",
       " 'Block 05 Storey 0': [],\n",
       " 'Block 06 Storey 0': ['Block 02 Storey 0 Wall 0001_2 Door Partner',\n",
       "  'Block 06 Storey 0 Wall 0002_1 Door',\n",
       "  'Block 03 Storey 0 Wall 0002_2 Door Partner'],\n",
       " 'Block 07 Storey 0': ['Block 02 Storey 0 Wall 0002_2 Door Partner']}"
      ]
     },
     "execution_count": 19,
     "metadata": {},
     "output_type": "execute_result"
    }
   ],
   "source": [
    "zones = get_zones(idf)\n",
    "subsurfaces = idf.getsubsurfaces()\n",
    "zone_map = {z.Name: find_matching_subsurface(z.Name, subsurfaces) for z in zones}\n",
    "zone_map"
   ]
  },
  {
   "cell_type": "code",
   "execution_count": 21,
   "metadata": {},
   "outputs": [],
   "source": [
    "for k, v in zone_map.items():\n",
    "    for ix, name in enumerate(v):\n",
    "        if PARTNER in name:\n",
    "            zone_map[k][ix] = reverse_partner_name(name)"
   ]
  },
  {
   "cell_type": "code",
   "execution_count": 22,
   "metadata": {},
   "outputs": [
    {
     "data": {
      "text/plain": [
       "{'Block 00 Storey 0': ['Block 01 Storey 0 Wall 0002_1 Door',\n",
       "  'Block 00 Storey 0 Wall 0003 Window',\n",
       "  'Block 00 Storey 0 Wall 0002 Window'],\n",
       " 'Block 01 Storey 0': ['Block 01 Storey 0 Wall 0001_1 Door',\n",
       "  'Block 01 Storey 0 Wall 0002_1 Door',\n",
       "  'Block 01 Storey 0 Wall 0003 Window',\n",
       "  'Block 01 Storey 0 Wall 0004 Window'],\n",
       " 'Block 02 Storey 0': ['Block 01 Storey 0 Wall 0001_1 Door',\n",
       "  'Block 02 Storey 0 Wall 0001_2 Door',\n",
       "  'Block 02 Storey 0 Wall 0001_1 Door',\n",
       "  'Block 02 Storey 0 Wall 0002_2 Door'],\n",
       " 'Block 03 Storey 0': ['Block 02 Storey 0 Wall 0001_1 Door',\n",
       "  'Block 03 Storey 0 Wall 0002_2 Door',\n",
       "  'Block 03 Storey 0 Wall 0004 Window'],\n",
       " 'Block 04 Storey 0': ['Block 06 Storey 0 Wall 0002_1 Door',\n",
       "  'Block 04 Storey 0 Wall 0001 Window',\n",
       "  'Block 04 Storey 0 Wall 0002 Window'],\n",
       " 'Block 05 Storey 0': [],\n",
       " 'Block 06 Storey 0': ['Block 02 Storey 0 Wall 0001_2 Door',\n",
       "  'Block 06 Storey 0 Wall 0002_1 Door',\n",
       "  'Block 03 Storey 0 Wall 0002_2 Door'],\n",
       " 'Block 07 Storey 0': ['Block 02 Storey 0 Wall 0002_2 Door']}"
      ]
     },
     "execution_count": 22,
     "metadata": {},
     "output_type": "execute_result"
    }
   ],
   "source": [
    "zone_map"
   ]
  },
  {
   "cell_type": "code",
   "execution_count": null,
   "metadata": {},
   "outputs": [],
   "source": []
  }
 ],
 "metadata": {
  "kernelspec": {
   "display_name": "gqenv",
   "language": "python",
   "name": "python3"
  },
  "language_info": {
   "codemirror_mode": {
    "name": "ipython",
    "version": 3
   },
   "file_extension": ".py",
   "mimetype": "text/x-python",
   "name": "python",
   "nbconvert_exporter": "python",
   "pygments_lexer": "ipython3",
   "version": "3.10.14"
  }
 },
 "nbformat": 4,
 "nbformat_minor": 2
}
