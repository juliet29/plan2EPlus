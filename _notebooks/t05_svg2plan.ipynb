{
 "cells": [
  {
   "cell_type": "code",
   "execution_count": 12,
   "metadata": {},
   "outputs": [],
   "source": [
    "import matplotlib.pyplot as plt"
   ]
  },
  {
   "cell_type": "code",
   "execution_count": 13,
   "metadata": {},
   "outputs": [
    {
     "name": "stdout",
     "output_type": "stream",
     "text": [
      "The autoreload extension is already loaded. To reload it, use:\n",
      "  %reload_ext autoreload\n"
     ]
    }
   ],
   "source": [
    "%load_ext autoreload\n",
    "%autoreload 2"
   ]
  },
  {
   "cell_type": "code",
   "execution_count": 14,
   "metadata": {},
   "outputs": [],
   "source": [
    "from pathlib import Path\n",
    "import sys\n",
    "sys.path.append(str(Path.cwd() / \"_scripts\"))"
   ]
  },
  {
   "cell_type": "code",
   "execution_count": 57,
   "metadata": {},
   "outputs": [],
   "source": [
    "import networkx as nx\n",
    "from eppy.bunch_subclass import EpBunch\n",
    "from geomeppy import IDF\n",
    "\n",
    "from case_edits.ezcase import *\n",
    "from helpers.ep_helpers import *\n",
    "from helpers.ep_geom_helpers import *\n",
    "from helpers.geometry_interfaces import *\n",
    "from helpers.helpers import *\n",
    "from plan.helpers import get_plans_from_file\n",
    "from network.network import *\n",
    "from network.visuals import *\n",
    "from subsurfaces.logic import get_connecting_surface\n",
    "from helpers.variables import *\n",
    "from helpers.variable_interfaces import *\n",
    "from munch import Munch\n",
    "from helpers.read_sql import *\n",
    "\n",
    "from dataclasses import dataclass\n",
    "from pprint import pprint\n",
    "import sqlite3\n",
    "from case_edits.epcase import EneryPlusCaseEditor\n",
    "\n",
    "import seaborn as sns\n",
    "\n",
    "# Apply the default theme\n",
    "sns.set_theme()"
   ]
  },
  {
   "cell_type": "code",
   "execution_count": 59,
   "metadata": {},
   "outputs": [
    {
     "data": {
      "text/plain": [
       "['AFN Zone Ventilation Air Change Rate',\n",
       " 'AFN Zone Ventilation Volume',\n",
       " 'AFN Zone Ventilation Sensible Heat Gain Rate',\n",
       " 'AFN Zone Ventilation Sensible Heat Loss Rate',\n",
       " 'AFN Node Temperature',\n",
       " 'AFN Node Total Pressure',\n",
       " 'AFN Node Wind Pressure',\n",
       " 'AFN Linkage Node 1 to Node 2 Volume Flow Rate',\n",
       " 'AFN Linkage Node 2 to Node 1 Volume Flow Rate',\n",
       " 'AFN Surface Venting Window or Door Opening Factor',\n",
       " 'Zone Mean Air Temperature',\n",
       " 'Zone Air Heat Balance Surface Convection Rate',\n",
       " 'Zone Air Heat Balance Interzone Air Transfer Rate',\n",
       " 'Zone Air Heat Balance Outdoor Air Transfer Rate',\n",
       " 'Zone Air Heat Balance Air Energy Storage Rate',\n",
       " 'Zone Outdoor Air Wind Speed',\n",
       " 'Zone Outdoor Air Wind Direction',\n",
       " 'Site Outdoor Air Drybulb Temperature',\n",
       " 'Site Outdoor Air Wetbulb Temperature',\n",
       " 'Site Outdoor Air Dewpoint Temperature',\n",
       " 'Site Direct Solar Radiation Rate per Area',\n",
       " 'Site Diffuse Solar Radiation Rate per Area',\n",
       " 'Site Solar Azimuth Angle',\n",
       " 'Site Wind Speed',\n",
       " 'Site Wind Direction',\n",
       " 'Surface Inside Face Convection Heat Gain Rate per Area',\n",
       " 'Surface Inside Face Net Surface Thermal Radiation Heat Gain Rate per Area',\n",
       " 'Surface Inside Face Solar Radiation Heat Gain Rate per Area',\n",
       " 'Surface Inside Face Internal Gains Radiation Rate per Area',\n",
       " 'Surface Inside Face Temperature',\n",
       " 'Surface Outside Face Incident Solar Radiation Rate per Area',\n",
       " 'Surface Outside Face Net Thermal Radiation Heat Gain Rate per Area',\n",
       " 'Surface Outside Face Temperature',\n",
       " 'Surface Outside Face Outdoor Air Wind Speed',\n",
       " 'Surface Outside Face Outdoor Air Wind Direction',\n",
       " 'Surface Average Face Conduction Heat Transfer Rate per Area']"
      ]
     },
     "execution_count": 59,
     "metadata": {},
     "output_type": "execute_result"
    }
   ],
   "source": [
    "get_vars()"
   ]
  },
  {
   "cell_type": "code",
   "execution_count": 16,
   "metadata": {},
   "outputs": [],
   "source": [
    "surf_tes = \"/System/Volumes/Data/Applications/EnergyPlus-22-2-0/ExampleFiles/SurfaceZonePropTest_LocalEnv.idf\"\n",
    "sidf = IDF(surf_tes)\n"
   ]
  },
  {
   "cell_type": "code",
   "execution_count": 17,
   "metadata": {},
   "outputs": [
    {
     "data": {
      "text/plain": [
       "EPCaseEditor(tests/test23_surfs)"
      ]
     },
     "execution_count": 17,
     "metadata": {},
     "output_type": "execute_result"
    }
   ],
   "source": [
    "case2 = EneryPlusCaseEditor(\"tests/test23_surfs\", starting_case=surf_tes)\n",
    "case2"
   ]
  },
  {
   "cell_type": "code",
   "execution_count": 18,
   "metadata": {},
   "outputs": [],
   "source": [
    "from helpers.output_requests import request_sql\n",
    "\n",
    "\n",
    "case2.idf = request_sql(case2.idf )"
   ]
  },
  {
   "cell_type": "code",
   "execution_count": 19,
   "metadata": {},
   "outputs": [
    {
     "name": "stdout",
     "output_type": "stream",
     "text": [
      "out.idf exists\n",
      "IDF has changed: True\n"
     ]
    }
   ],
   "source": [
    "case2.compare_and_save()\n",
    "# case2.run_idf(force_run=True)"
   ]
  },
  {
   "cell_type": "code",
   "execution_count": 49,
   "metadata": {},
   "outputs": [],
   "source": [
    "inputs_dir = \"case_red_b1\"\n",
    "inputs_dir = \"case_amb_b1\"\n",
    "outputs_dir = \"tests/test22_svg2plan\"\n",
    "\n",
    "case = initialize_case(outputs_dir)\n",
    "path_to_input = get_path_to_inputs(inputs_dir)\n",
    "path_to_output = get_path_to_outputs(case)\n",
    "pairs = get_subsurface_pairs_from_case(path_to_input)"
   ]
  },
  {
   "cell_type": "code",
   "execution_count": 47,
   "metadata": {},
   "outputs": [
    {
     "data": {
      "text/plain": [
       "PosixPath('cases/tests/test23_surfs')"
      ]
     },
     "execution_count": 47,
     "metadata": {},
     "output_type": "execute_result"
    }
   ],
   "source": [
    "path_to_output2 = get_path_to_outputs(case2)\n",
    "path_to_output2"
   ]
  },
  {
   "cell_type": "code",
   "execution_count": 26,
   "metadata": {},
   "outputs": [
    {
     "data": {
      "text/plain": [
       "{'speed': 'Zone Average Outdoor Air Wind Speed',\n",
       " 'direction': 'Zone Outdoor Air Wind Direction'}"
      ]
     },
     "execution_count": 26,
     "metadata": {},
     "output_type": "execute_result"
    }
   ],
   "source": [
    "all_variables.zone.wind"
   ]
  },
  {
   "cell_type": "code",
   "execution_count": 51,
   "metadata": {},
   "outputs": [
    {
     "name": "stdout",
     "output_type": "stream",
     "text": [
      "out.idf exists\n",
      "IDF has changed: True\n"
     ]
    }
   ],
   "source": [
    "case = create_ezcase(outputs_dir, inputs_dir)\n",
    "idf = case.idf\n"
   ]
  },
  {
   "cell_type": "code",
   "execution_count": 54,
   "metadata": {},
   "outputs": [
    {
     "name": "stdout",
     "output_type": "stream",
     "text": [
      "idf has changed - running case\n",
      "\n",
      "/Applications/EnergyPlus-22-2-0/energyplus --weather /Users/julietnwagwuume-ezeoke/_UILCode/gqe-phd/geomeppy/weather_data/PALO_ALTO/CA_PALO-ALTO-AP_724937_23.EPW --output-directory /Users/julietnwagwuume-ezeoke/_UILCode/gqe-phd/geomeppy/cases/tests/test22_svg2plan/results --idd /Applications/EnergyPlus-22-2-0/Energy+.idd /Users/julietnwagwuume-ezeoke/_UILCode/gqe-phd/geomeppy/cases/base/01example/Minimal_AP_99c4bb.idf\n",
      "\n",
      "EnergyPlus Starting\n",
      "EnergyPlus, Version 22.2.0-c249759bad, YMD=2024.10.23 11:24\n",
      "Adjusting Air System Sizing\n",
      "Adjusting Standard 62.1 Ventilation Sizing\n",
      "Initializing Simulation\n",
      "Reporting Surfaces\n",
      "Beginning Primary Simulation\n",
      "Initializing New Environment Parameters\n",
      "Warming up {1}\n",
      "Warming up {2}\n",
      "Warming up {3}\n",
      "Warming up {4}\n",
      "Warming up {5}\n",
      "Warming up {6}\n",
      "Starting Simulation at 07/01/2017 for SUMMERDAY\n",
      "Writing tabular output file results using HTML format.\n",
      "Writing final SQL reports\n",
      "EnergyPlus Run Time=00hr 00min  0.64sec\n"
     ]
    },
    {
     "name": "stderr",
     "output_type": "stream",
     "text": [
      "EnergyPlus Completed Successfully.\n"
     ]
    }
   ],
   "source": [
    "case.run_idf(force_run=True)"
   ]
  },
  {
   "cell_type": "code",
   "execution_count": 65,
   "metadata": {},
   "outputs": [
    {
     "data": {
      "text/plain": [
       "['AFN Linkage Node 1 to Node 2 Volume Flow Rate',\n",
       " 'AFN Linkage Node 2 to Node 1 Volume Flow Rate',\n",
       " 'AFN Node Temperature',\n",
       " 'AFN Node Total Pressure',\n",
       " 'AFN Node Wind Pressure',\n",
       " 'AFN Surface Venting Window or Door Opening Factor',\n",
       " 'AFN Zone Ventilation Air Change Rate',\n",
       " 'AFN Zone Ventilation Sensible Heat Gain Rate',\n",
       " 'AFN Zone Ventilation Sensible Heat Loss Rate',\n",
       " 'AFN Zone Ventilation Volume',\n",
       " 'Site Diffuse Solar Radiation Rate per Area',\n",
       " 'Site Direct Solar Radiation Rate per Area',\n",
       " 'Site Outdoor Air Dewpoint Temperature',\n",
       " 'Site Outdoor Air Drybulb Temperature',\n",
       " 'Site Outdoor Air Wetbulb Temperature',\n",
       " 'Site Solar Altitude Angle',\n",
       " 'Site Solar Azimuth Angle',\n",
       " 'Site Wind Direction',\n",
       " 'Site Wind Speed',\n",
       " 'Surface Outside Face Outdoor Air Wind Direction',\n",
       " 'Surface Outside Face Outdoor Air Wind Speed',\n",
       " 'Zone Air Heat Balance Air Energy Storage Rate',\n",
       " 'Zone Air Heat Balance Interzone Air Transfer Rate',\n",
       " 'Zone Air Heat Balance Outdoor Air Transfer Rate',\n",
       " 'Zone Air Heat Balance Surface Convection Rate',\n",
       " 'Zone Average Outdoor Air Wind Speed',\n",
       " 'Zone Mean Air Temperature',\n",
       " 'Zone Outdoor Air Wind Direction',\n",
       " 'Zone Outside Face Outdoor Air Wind Speed']"
      ]
     },
     "execution_count": 65,
     "metadata": {},
     "output_type": "execute_result"
    }
   ],
   "source": [
    "sorted([i.Variable_Name for i in idf.idfobjects[\"OUTPUT:VARIABLE\"]])"
   ]
  },
  {
   "cell_type": "code",
   "execution_count": 26,
   "metadata": {},
   "outputs": [
    {
     "data": {
      "text/plain": [
       "['AFN Linkage Node 1 to Node 2 Volume Flow Rate',\n",
       " 'AFN Linkage Node 2 to Node 1 Volume Flow Rate',\n",
       " 'AFN Node Temperature',\n",
       " 'AFN Node Total Pressure',\n",
       " 'AFN Node Wind Pressure',\n",
       " 'AFN Surface Venting Window or Door Opening Factor',\n",
       " 'AFN Zone Ventilation Air Change Rate',\n",
       " 'AFN Zone Ventilation Sensible Heat Gain Rate',\n",
       " 'AFN Zone Ventilation Sensible Heat Loss Rate',\n",
       " 'AFN Zone Ventilation Volume',\n",
       " 'Site Diffuse Solar Radiation Rate per Area',\n",
       " 'Site Direct Solar Radiation Rate per Area',\n",
       " 'Site Outdoor Air Dewpoint Temperature',\n",
       " 'Site Outdoor Air Drybulb Temperature',\n",
       " 'Site Outdoor Air Wetbulb Temperature',\n",
       " 'Site Solar Altitude Angle',\n",
       " 'Site Solar Azimuth Angle',\n",
       " 'Site Wind Direction',\n",
       " 'Site Wind Speed',\n",
       " 'Surface Outside Face Outdoor Air Wind Direction',\n",
       " 'Surface Outside Face Outdoor Air Wind Speed',\n",
       " 'Zone Air Heat Balance Air Energy Storage Rate',\n",
       " 'Zone Air Heat Balance Interzone Air Transfer Rate',\n",
       " 'Zone Air Heat Balance Outdoor Air Transfer Rate',\n",
       " 'Zone Air Heat Balance Surface Convection Rate',\n",
       " 'Zone Mean Air Temperature',\n",
       " 'Zone Outdoor Air Wind Direction']"
      ]
     },
     "execution_count": 26,
     "metadata": {},
     "output_type": "execute_result"
    }
   ],
   "source": [
    "sql = get_sql_results(path_to_output)\n",
    "sorted(sql.available_outputs)\n",
    "# c = get_collection_for_variable(s2l, all_variables.zone.wind[\"speed\"])\n",
    "# c[0]\n"
   ]
  },
  {
   "cell_type": "code",
   "execution_count": null,
   "metadata": {},
   "outputs": [],
   "source": [
    "sql.file_path"
   ]
  },
  {
   "cell_type": "code",
   "execution_count": 189,
   "metadata": {},
   "outputs": [
    {
     "data": {
      "text/plain": [
       "{'flow12': 'AFN Linkage Node 1 to Node 2 Volume Flow Rate',\n",
       " 'flow21': 'AFN Linkage Node 2 to Node 1 Volume Flow Rate'}"
      ]
     },
     "execution_count": 189,
     "metadata": {},
     "output_type": "execute_result"
    }
   ],
   "source": [
    "all_variables.afn.linkage"
   ]
  },
  {
   "cell_type": "code",
   "execution_count": 178,
   "metadata": {},
   "outputs": [
    {
     "data": {
      "text/plain": [
       "{'temp': 'AFN Node Temperature',\n",
       " 'total_pressure': 'AFN Node Total Pressure',\n",
       " 'wind_pressure': 'AFN Node Wind Pressure'}"
      ]
     },
     "execution_count": 178,
     "metadata": {},
     "output_type": "execute_result"
    }
   ],
   "source": [
    "all_variables.afn.node"
   ]
  },
  {
   "cell_type": "code",
   "execution_count": 179,
   "metadata": {},
   "outputs": [
    {
     "data": {
      "text/plain": [
       "True"
      ]
     },
     "execution_count": 179,
     "metadata": {},
     "output_type": "execute_result"
    }
   ],
   "source": [
    "validate_request(sql, all_variables.afn.node['temp'])"
   ]
  },
  {
   "cell_type": "code",
   "execution_count": 48,
   "metadata": {},
   "outputs": [
    {
     "name": "stdout",
     "output_type": "stream",
     "text": [
      "{'type': 'AFN Linkage Node 1 to Node 2 Volume Flow Rate', 'System': 'BLOCK 06 STOREY 0 WALL 0002_1 DOOR'}\n"
     ]
    },
    {
     "data": {
      "text/plain": [
       "['BLOCK 06 STOREY 0 WALL 0002_1 DOOR',\n",
       " 'BLOCK 03 STOREY 0 WALL 0004 WINDOW',\n",
       " 'BLOCK 02 STOREY 0 WALL 0001_2 DOOR',\n",
       " 'BLOCK 04 STOREY 0 WALL 0001 WINDOW',\n",
       " 'BLOCK 01 STOREY 0 WALL 0002_1 DOOR',\n",
       " 'BLOCK 04 STOREY 0 WALL 0002 WINDOW',\n",
       " 'BLOCK 01 STOREY 0 WALL 0003 WINDOW',\n",
       " 'BLOCK 00 STOREY 0 WALL 0003 WINDOW',\n",
       " 'BLOCK 00 STOREY 0 WALL 0002 WINDOW',\n",
       " 'BLOCK 02 STOREY 0 WALL 0001_1 DOOR',\n",
       " 'BLOCK 01 STOREY 0 WALL 0001_1 DOOR',\n",
       " 'BLOCK 03 STOREY 0 WALL 0002_2 DOOR',\n",
       " 'BLOCK 01 STOREY 0 WALL 0004 WINDOW']"
      ]
     },
     "execution_count": 48,
     "metadata": {},
     "output_type": "execute_result"
    }
   ],
   "source": [
    "c = get_collection_for_variable(sql, \"AFN Linkage Node 1 to Node 2 Volume Flow Rate\")\n",
    "print(c[0].header.metadata)\n",
    "# wall_data = [i for i in c if \"WINDOW\" in i.header.metadata[\"Surface\"] and \"PARTNER\" not in i.header.metadata[\"Surface\"] ]\n",
    "[i.header.metadata[\"System\"] for i in c]"
   ]
  },
  {
   "cell_type": "code",
   "execution_count": 209,
   "metadata": {},
   "outputs": [
    {
     "data": {
      "text/plain": [
       "[-0.753328554092931,\n",
       " -0.017922458835097976,\n",
       " -0.6257111779606065,\n",
       " 0.6369792591172946,\n",
       " -0.6257111779606069,\n",
       " -0.017922458835097976,\n",
       " 0.6369792591172941]"
      ]
     },
     "execution_count": 209,
     "metadata": {},
     "output_type": "execute_result"
    }
   ],
   "source": [
    "c = get_collection_for_variable(sql, all_variables.afn.node[\"wind_pressure\"])\n",
    "ext_node_col = [i for i in c if \"ExtNode\" in i.header.metadata[\"System\"]]\n",
    "[i.average for i in ext_node_col]"
   ]
  },
  {
   "cell_type": "code",
   "execution_count": 46,
   "metadata": {},
   "outputs": [
    {
     "data": {
      "application/vnd.plotly.v1+json": {
       "config": {
        "plotlyServerURL": "https://plotly.com"
       },
       "data": [
        {
         "name": "BLOCK 00 STOREY 0 WALL 0003 WINDOW",
         "type": "scatter",
         "x": [
          "2017-07-01T00:00:00",
          "2017-07-01T01:00:00",
          "2017-07-01T02:00:00",
          "2017-07-01T03:00:00",
          "2017-07-01T04:00:00",
          "2017-07-01T05:00:00",
          "2017-07-01T06:00:00",
          "2017-07-01T07:00:00",
          "2017-07-01T08:00:00",
          "2017-07-01T09:00:00",
          "2017-07-01T10:00:00",
          "2017-07-01T11:00:00",
          "2017-07-01T12:00:00",
          "2017-07-01T13:00:00",
          "2017-07-01T14:00:00",
          "2017-07-01T15:00:00",
          "2017-07-01T16:00:00",
          "2017-07-01T17:00:00",
          "2017-07-01T18:00:00",
          "2017-07-01T19:00:00",
          "2017-07-01T20:00:00",
          "2017-07-01T21:00:00",
          "2017-07-01T22:00:00",
          "2017-07-01T23:00:00"
         ],
         "y": [
          0.678216850594032,
          0.5554918966770168,
          0.41984852655821037,
          0.297123572641195,
          0.1614802025223886,
          0.038755248605373264,
          0.1614802025223886,
          0.8719930936208983,
          1.5631283604167214,
          1.595424400921199,
          1.8214966844525433,
          1.853792724957021,
          2.1121610489928426,
          2.2284267948089624,
          2.364070164927769,
          2.7710002752841882,
          2.8808068129994124,
          2.4544990783403065,
          1.8021190601498565,
          1.388729741692542,
          1.2272495391701532,
          1.0916061690513468,
          0.9688812151343315,
          0.8332378450155251
         ]
        },
        {
         "name": "BLOCK 00 STOREY 0 WALL 0002 WINDOW",
         "type": "scatter",
         "x": [
          "2017-07-01T00:00:00",
          "2017-07-01T01:00:00",
          "2017-07-01T02:00:00",
          "2017-07-01T03:00:00",
          "2017-07-01T04:00:00",
          "2017-07-01T05:00:00",
          "2017-07-01T06:00:00",
          "2017-07-01T07:00:00",
          "2017-07-01T08:00:00",
          "2017-07-01T09:00:00",
          "2017-07-01T10:00:00",
          "2017-07-01T11:00:00",
          "2017-07-01T12:00:00",
          "2017-07-01T13:00:00",
          "2017-07-01T14:00:00",
          "2017-07-01T15:00:00",
          "2017-07-01T16:00:00",
          "2017-07-01T17:00:00",
          "2017-07-01T18:00:00",
          "2017-07-01T19:00:00",
          "2017-07-01T20:00:00",
          "2017-07-01T21:00:00",
          "2017-07-01T22:00:00",
          "2017-07-01T23:00:00"
         ],
         "y": [
          0.6782168505940323,
          0.5554918966770168,
          0.4198485265582104,
          0.29712357264119504,
          0.1614802025223886,
          0.03875524860537327,
          0.1614802025223886,
          0.8719930936208986,
          1.5631283604167217,
          1.5954244009211997,
          1.8214966844525435,
          1.8537927249570212,
          2.112161048992843,
          2.228426794808963,
          2.3640701649277696,
          2.7710002752841887,
          2.8808068129994133,
          2.454499078340307,
          1.802119060149857,
          1.388729741692542,
          1.2272495391701534,
          1.0916061690513472,
          0.9688812151343318,
          0.8332378450155253
         ]
        },
        {
         "name": "BLOCK 01 STOREY 0 WALL 0003 WINDOW",
         "type": "scatter",
         "x": [
          "2017-07-01T00:00:00",
          "2017-07-01T01:00:00",
          "2017-07-01T02:00:00",
          "2017-07-01T03:00:00",
          "2017-07-01T04:00:00",
          "2017-07-01T05:00:00",
          "2017-07-01T06:00:00",
          "2017-07-01T07:00:00",
          "2017-07-01T08:00:00",
          "2017-07-01T09:00:00",
          "2017-07-01T10:00:00",
          "2017-07-01T11:00:00",
          "2017-07-01T12:00:00",
          "2017-07-01T13:00:00",
          "2017-07-01T14:00:00",
          "2017-07-01T15:00:00",
          "2017-07-01T16:00:00",
          "2017-07-01T17:00:00",
          "2017-07-01T18:00:00",
          "2017-07-01T19:00:00",
          "2017-07-01T20:00:00",
          "2017-07-01T21:00:00",
          "2017-07-01T22:00:00",
          "2017-07-01T23:00:00"
         ],
         "y": [
          0.678216850594032,
          0.5554918966770168,
          0.41984852655821037,
          0.297123572641195,
          0.1614802025223886,
          0.038755248605373264,
          0.1614802025223886,
          0.8719930936208983,
          1.5631283604167214,
          1.595424400921199,
          1.8214966844525433,
          1.853792724957021,
          2.1121610489928426,
          2.2284267948089624,
          2.364070164927769,
          2.7710002752841882,
          2.8808068129994124,
          2.4544990783403065,
          1.8021190601498565,
          1.388729741692542,
          1.2272495391701532,
          1.0916061690513468,
          0.9688812151343315,
          0.8332378450155251
         ]
        },
        {
         "name": "BLOCK 01 STOREY 0 WALL 0004 WINDOW",
         "type": "scatter",
         "x": [
          "2017-07-01T00:00:00",
          "2017-07-01T01:00:00",
          "2017-07-01T02:00:00",
          "2017-07-01T03:00:00",
          "2017-07-01T04:00:00",
          "2017-07-01T05:00:00",
          "2017-07-01T06:00:00",
          "2017-07-01T07:00:00",
          "2017-07-01T08:00:00",
          "2017-07-01T09:00:00",
          "2017-07-01T10:00:00",
          "2017-07-01T11:00:00",
          "2017-07-01T12:00:00",
          "2017-07-01T13:00:00",
          "2017-07-01T14:00:00",
          "2017-07-01T15:00:00",
          "2017-07-01T16:00:00",
          "2017-07-01T17:00:00",
          "2017-07-01T18:00:00",
          "2017-07-01T19:00:00",
          "2017-07-01T20:00:00",
          "2017-07-01T21:00:00",
          "2017-07-01T22:00:00",
          "2017-07-01T23:00:00"
         ],
         "y": [
          0.678216850594032,
          0.5554918966770168,
          0.41984852655821037,
          0.297123572641195,
          0.1614802025223886,
          0.038755248605373264,
          0.1614802025223886,
          0.8719930936208983,
          1.5631283604167214,
          1.595424400921199,
          1.8214966844525433,
          1.853792724957021,
          2.1121610489928426,
          2.2284267948089624,
          2.364070164927769,
          2.7710002752841882,
          2.8808068129994124,
          2.4544990783403065,
          1.8021190601498565,
          1.388729741692542,
          1.2272495391701532,
          1.0916061690513468,
          0.9688812151343315,
          0.8332378450155251
         ]
        },
        {
         "name": "BLOCK 03 STOREY 0 WALL 0004 WINDOW",
         "type": "scatter",
         "x": [
          "2017-07-01T00:00:00",
          "2017-07-01T01:00:00",
          "2017-07-01T02:00:00",
          "2017-07-01T03:00:00",
          "2017-07-01T04:00:00",
          "2017-07-01T05:00:00",
          "2017-07-01T06:00:00",
          "2017-07-01T07:00:00",
          "2017-07-01T08:00:00",
          "2017-07-01T09:00:00",
          "2017-07-01T10:00:00",
          "2017-07-01T11:00:00",
          "2017-07-01T12:00:00",
          "2017-07-01T13:00:00",
          "2017-07-01T14:00:00",
          "2017-07-01T15:00:00",
          "2017-07-01T16:00:00",
          "2017-07-01T17:00:00",
          "2017-07-01T18:00:00",
          "2017-07-01T19:00:00",
          "2017-07-01T20:00:00",
          "2017-07-01T21:00:00",
          "2017-07-01T22:00:00",
          "2017-07-01T23:00:00"
         ],
         "y": [
          0.6782168505940319,
          0.5554918966770167,
          0.41984852655821026,
          0.29712357264119493,
          0.16148020252238857,
          0.038755248605373264,
          0.1614802025223886,
          0.8719930936208982,
          1.563128360416721,
          1.5954244009211989,
          1.8214966844525426,
          1.8537927249570205,
          2.112161048992842,
          2.2284267948089624,
          2.3640701649277687,
          2.7710002752841874,
          2.880806812999412,
          2.454499078340306,
          1.8021190601498562,
          1.3887297416925417,
          1.227249539170153,
          1.0916061690513466,
          0.9688812151343313,
          0.8332378450155249
         ]
        },
        {
         "name": "BLOCK 04 STOREY 0 WALL 0001 WINDOW",
         "type": "scatter",
         "x": [
          "2017-07-01T00:00:00",
          "2017-07-01T01:00:00",
          "2017-07-01T02:00:00",
          "2017-07-01T03:00:00",
          "2017-07-01T04:00:00",
          "2017-07-01T05:00:00",
          "2017-07-01T06:00:00",
          "2017-07-01T07:00:00",
          "2017-07-01T08:00:00",
          "2017-07-01T09:00:00",
          "2017-07-01T10:00:00",
          "2017-07-01T11:00:00",
          "2017-07-01T12:00:00",
          "2017-07-01T13:00:00",
          "2017-07-01T14:00:00",
          "2017-07-01T15:00:00",
          "2017-07-01T16:00:00",
          "2017-07-01T17:00:00",
          "2017-07-01T18:00:00",
          "2017-07-01T19:00:00",
          "2017-07-01T20:00:00",
          "2017-07-01T21:00:00",
          "2017-07-01T22:00:00",
          "2017-07-01T23:00:00"
         ],
         "y": [
          0.6782168505940323,
          0.5554918966770168,
          0.4198485265582104,
          0.29712357264119504,
          0.1614802025223886,
          0.03875524860537327,
          0.1614802025223886,
          0.8719930936208986,
          1.5631283604167217,
          1.5954244009211997,
          1.8214966844525435,
          1.8537927249570212,
          2.112161048992843,
          2.228426794808963,
          2.3640701649277696,
          2.7710002752841887,
          2.8808068129994133,
          2.454499078340307,
          1.802119060149857,
          1.388729741692542,
          1.2272495391701534,
          1.0916061690513472,
          0.9688812151343318,
          0.8332378450155253
         ]
        },
        {
         "name": "BLOCK 04 STOREY 0 WALL 0002 WINDOW",
         "type": "scatter",
         "x": [
          "2017-07-01T00:00:00",
          "2017-07-01T01:00:00",
          "2017-07-01T02:00:00",
          "2017-07-01T03:00:00",
          "2017-07-01T04:00:00",
          "2017-07-01T05:00:00",
          "2017-07-01T06:00:00",
          "2017-07-01T07:00:00",
          "2017-07-01T08:00:00",
          "2017-07-01T09:00:00",
          "2017-07-01T10:00:00",
          "2017-07-01T11:00:00",
          "2017-07-01T12:00:00",
          "2017-07-01T13:00:00",
          "2017-07-01T14:00:00",
          "2017-07-01T15:00:00",
          "2017-07-01T16:00:00",
          "2017-07-01T17:00:00",
          "2017-07-01T18:00:00",
          "2017-07-01T19:00:00",
          "2017-07-01T20:00:00",
          "2017-07-01T21:00:00",
          "2017-07-01T22:00:00",
          "2017-07-01T23:00:00"
         ],
         "y": [
          0.6782168505940319,
          0.5554918966770167,
          0.41984852655821026,
          0.29712357264119493,
          0.16148020252238857,
          0.038755248605373264,
          0.1614802025223886,
          0.8719930936208982,
          1.563128360416721,
          1.5954244009211989,
          1.8214966844525426,
          1.8537927249570205,
          2.112161048992842,
          2.2284267948089624,
          2.3640701649277687,
          2.7710002752841874,
          2.880806812999412,
          2.454499078340306,
          1.8021190601498562,
          1.3887297416925417,
          1.227249539170153,
          1.0916061690513466,
          0.9688812151343313,
          0.8332378450155249
         ]
        }
       ],
       "layout": {
        "template": {
         "data": {
          "bar": [
           {
            "error_x": {
             "color": "#2a3f5f"
            },
            "error_y": {
             "color": "#2a3f5f"
            },
            "marker": {
             "line": {
              "color": "#E5ECF6",
              "width": 0.5
             },
             "pattern": {
              "fillmode": "overlay",
              "size": 10,
              "solidity": 0.2
             }
            },
            "type": "bar"
           }
          ],
          "barpolar": [
           {
            "marker": {
             "line": {
              "color": "#E5ECF6",
              "width": 0.5
             },
             "pattern": {
              "fillmode": "overlay",
              "size": 10,
              "solidity": 0.2
             }
            },
            "type": "barpolar"
           }
          ],
          "carpet": [
           {
            "aaxis": {
             "endlinecolor": "#2a3f5f",
             "gridcolor": "white",
             "linecolor": "white",
             "minorgridcolor": "white",
             "startlinecolor": "#2a3f5f"
            },
            "baxis": {
             "endlinecolor": "#2a3f5f",
             "gridcolor": "white",
             "linecolor": "white",
             "minorgridcolor": "white",
             "startlinecolor": "#2a3f5f"
            },
            "type": "carpet"
           }
          ],
          "choropleth": [
           {
            "colorbar": {
             "outlinewidth": 0,
             "ticks": ""
            },
            "type": "choropleth"
           }
          ],
          "contour": [
           {
            "colorbar": {
             "outlinewidth": 0,
             "ticks": ""
            },
            "colorscale": [
             [
              0,
              "#0d0887"
             ],
             [
              0.1111111111111111,
              "#46039f"
             ],
             [
              0.2222222222222222,
              "#7201a8"
             ],
             [
              0.3333333333333333,
              "#9c179e"
             ],
             [
              0.4444444444444444,
              "#bd3786"
             ],
             [
              0.5555555555555556,
              "#d8576b"
             ],
             [
              0.6666666666666666,
              "#ed7953"
             ],
             [
              0.7777777777777778,
              "#fb9f3a"
             ],
             [
              0.8888888888888888,
              "#fdca26"
             ],
             [
              1,
              "#f0f921"
             ]
            ],
            "type": "contour"
           }
          ],
          "contourcarpet": [
           {
            "colorbar": {
             "outlinewidth": 0,
             "ticks": ""
            },
            "type": "contourcarpet"
           }
          ],
          "heatmap": [
           {
            "colorbar": {
             "outlinewidth": 0,
             "ticks": ""
            },
            "colorscale": [
             [
              0,
              "#0d0887"
             ],
             [
              0.1111111111111111,
              "#46039f"
             ],
             [
              0.2222222222222222,
              "#7201a8"
             ],
             [
              0.3333333333333333,
              "#9c179e"
             ],
             [
              0.4444444444444444,
              "#bd3786"
             ],
             [
              0.5555555555555556,
              "#d8576b"
             ],
             [
              0.6666666666666666,
              "#ed7953"
             ],
             [
              0.7777777777777778,
              "#fb9f3a"
             ],
             [
              0.8888888888888888,
              "#fdca26"
             ],
             [
              1,
              "#f0f921"
             ]
            ],
            "type": "heatmap"
           }
          ],
          "heatmapgl": [
           {
            "colorbar": {
             "outlinewidth": 0,
             "ticks": ""
            },
            "colorscale": [
             [
              0,
              "#0d0887"
             ],
             [
              0.1111111111111111,
              "#46039f"
             ],
             [
              0.2222222222222222,
              "#7201a8"
             ],
             [
              0.3333333333333333,
              "#9c179e"
             ],
             [
              0.4444444444444444,
              "#bd3786"
             ],
             [
              0.5555555555555556,
              "#d8576b"
             ],
             [
              0.6666666666666666,
              "#ed7953"
             ],
             [
              0.7777777777777778,
              "#fb9f3a"
             ],
             [
              0.8888888888888888,
              "#fdca26"
             ],
             [
              1,
              "#f0f921"
             ]
            ],
            "type": "heatmapgl"
           }
          ],
          "histogram": [
           {
            "marker": {
             "pattern": {
              "fillmode": "overlay",
              "size": 10,
              "solidity": 0.2
             }
            },
            "type": "histogram"
           }
          ],
          "histogram2d": [
           {
            "colorbar": {
             "outlinewidth": 0,
             "ticks": ""
            },
            "colorscale": [
             [
              0,
              "#0d0887"
             ],
             [
              0.1111111111111111,
              "#46039f"
             ],
             [
              0.2222222222222222,
              "#7201a8"
             ],
             [
              0.3333333333333333,
              "#9c179e"
             ],
             [
              0.4444444444444444,
              "#bd3786"
             ],
             [
              0.5555555555555556,
              "#d8576b"
             ],
             [
              0.6666666666666666,
              "#ed7953"
             ],
             [
              0.7777777777777778,
              "#fb9f3a"
             ],
             [
              0.8888888888888888,
              "#fdca26"
             ],
             [
              1,
              "#f0f921"
             ]
            ],
            "type": "histogram2d"
           }
          ],
          "histogram2dcontour": [
           {
            "colorbar": {
             "outlinewidth": 0,
             "ticks": ""
            },
            "colorscale": [
             [
              0,
              "#0d0887"
             ],
             [
              0.1111111111111111,
              "#46039f"
             ],
             [
              0.2222222222222222,
              "#7201a8"
             ],
             [
              0.3333333333333333,
              "#9c179e"
             ],
             [
              0.4444444444444444,
              "#bd3786"
             ],
             [
              0.5555555555555556,
              "#d8576b"
             ],
             [
              0.6666666666666666,
              "#ed7953"
             ],
             [
              0.7777777777777778,
              "#fb9f3a"
             ],
             [
              0.8888888888888888,
              "#fdca26"
             ],
             [
              1,
              "#f0f921"
             ]
            ],
            "type": "histogram2dcontour"
           }
          ],
          "mesh3d": [
           {
            "colorbar": {
             "outlinewidth": 0,
             "ticks": ""
            },
            "type": "mesh3d"
           }
          ],
          "parcoords": [
           {
            "line": {
             "colorbar": {
              "outlinewidth": 0,
              "ticks": ""
             }
            },
            "type": "parcoords"
           }
          ],
          "pie": [
           {
            "automargin": true,
            "type": "pie"
           }
          ],
          "scatter": [
           {
            "fillpattern": {
             "fillmode": "overlay",
             "size": 10,
             "solidity": 0.2
            },
            "type": "scatter"
           }
          ],
          "scatter3d": [
           {
            "line": {
             "colorbar": {
              "outlinewidth": 0,
              "ticks": ""
             }
            },
            "marker": {
             "colorbar": {
              "outlinewidth": 0,
              "ticks": ""
             }
            },
            "type": "scatter3d"
           }
          ],
          "scattercarpet": [
           {
            "marker": {
             "colorbar": {
              "outlinewidth": 0,
              "ticks": ""
             }
            },
            "type": "scattercarpet"
           }
          ],
          "scattergeo": [
           {
            "marker": {
             "colorbar": {
              "outlinewidth": 0,
              "ticks": ""
             }
            },
            "type": "scattergeo"
           }
          ],
          "scattergl": [
           {
            "marker": {
             "colorbar": {
              "outlinewidth": 0,
              "ticks": ""
             }
            },
            "type": "scattergl"
           }
          ],
          "scattermapbox": [
           {
            "marker": {
             "colorbar": {
              "outlinewidth": 0,
              "ticks": ""
             }
            },
            "type": "scattermapbox"
           }
          ],
          "scatterpolar": [
           {
            "marker": {
             "colorbar": {
              "outlinewidth": 0,
              "ticks": ""
             }
            },
            "type": "scatterpolar"
           }
          ],
          "scatterpolargl": [
           {
            "marker": {
             "colorbar": {
              "outlinewidth": 0,
              "ticks": ""
             }
            },
            "type": "scatterpolargl"
           }
          ],
          "scatterternary": [
           {
            "marker": {
             "colorbar": {
              "outlinewidth": 0,
              "ticks": ""
             }
            },
            "type": "scatterternary"
           }
          ],
          "surface": [
           {
            "colorbar": {
             "outlinewidth": 0,
             "ticks": ""
            },
            "colorscale": [
             [
              0,
              "#0d0887"
             ],
             [
              0.1111111111111111,
              "#46039f"
             ],
             [
              0.2222222222222222,
              "#7201a8"
             ],
             [
              0.3333333333333333,
              "#9c179e"
             ],
             [
              0.4444444444444444,
              "#bd3786"
             ],
             [
              0.5555555555555556,
              "#d8576b"
             ],
             [
              0.6666666666666666,
              "#ed7953"
             ],
             [
              0.7777777777777778,
              "#fb9f3a"
             ],
             [
              0.8888888888888888,
              "#fdca26"
             ],
             [
              1,
              "#f0f921"
             ]
            ],
            "type": "surface"
           }
          ],
          "table": [
           {
            "cells": {
             "fill": {
              "color": "#EBF0F8"
             },
             "line": {
              "color": "white"
             }
            },
            "header": {
             "fill": {
              "color": "#C8D4E3"
             },
             "line": {
              "color": "white"
             }
            },
            "type": "table"
           }
          ]
         },
         "layout": {
          "annotationdefaults": {
           "arrowcolor": "#2a3f5f",
           "arrowhead": 0,
           "arrowwidth": 1
          },
          "autotypenumbers": "strict",
          "coloraxis": {
           "colorbar": {
            "outlinewidth": 0,
            "ticks": ""
           }
          },
          "colorscale": {
           "diverging": [
            [
             0,
             "#8e0152"
            ],
            [
             0.1,
             "#c51b7d"
            ],
            [
             0.2,
             "#de77ae"
            ],
            [
             0.3,
             "#f1b6da"
            ],
            [
             0.4,
             "#fde0ef"
            ],
            [
             0.5,
             "#f7f7f7"
            ],
            [
             0.6,
             "#e6f5d0"
            ],
            [
             0.7,
             "#b8e186"
            ],
            [
             0.8,
             "#7fbc41"
            ],
            [
             0.9,
             "#4d9221"
            ],
            [
             1,
             "#276419"
            ]
           ],
           "sequential": [
            [
             0,
             "#0d0887"
            ],
            [
             0.1111111111111111,
             "#46039f"
            ],
            [
             0.2222222222222222,
             "#7201a8"
            ],
            [
             0.3333333333333333,
             "#9c179e"
            ],
            [
             0.4444444444444444,
             "#bd3786"
            ],
            [
             0.5555555555555556,
             "#d8576b"
            ],
            [
             0.6666666666666666,
             "#ed7953"
            ],
            [
             0.7777777777777778,
             "#fb9f3a"
            ],
            [
             0.8888888888888888,
             "#fdca26"
            ],
            [
             1,
             "#f0f921"
            ]
           ],
           "sequentialminus": [
            [
             0,
             "#0d0887"
            ],
            [
             0.1111111111111111,
             "#46039f"
            ],
            [
             0.2222222222222222,
             "#7201a8"
            ],
            [
             0.3333333333333333,
             "#9c179e"
            ],
            [
             0.4444444444444444,
             "#bd3786"
            ],
            [
             0.5555555555555556,
             "#d8576b"
            ],
            [
             0.6666666666666666,
             "#ed7953"
            ],
            [
             0.7777777777777778,
             "#fb9f3a"
            ],
            [
             0.8888888888888888,
             "#fdca26"
            ],
            [
             1,
             "#f0f921"
            ]
           ]
          },
          "colorway": [
           "#636efa",
           "#EF553B",
           "#00cc96",
           "#ab63fa",
           "#FFA15A",
           "#19d3f3",
           "#FF6692",
           "#B6E880",
           "#FF97FF",
           "#FECB52"
          ],
          "font": {
           "color": "#2a3f5f"
          },
          "geo": {
           "bgcolor": "white",
           "lakecolor": "white",
           "landcolor": "#E5ECF6",
           "showlakes": true,
           "showland": true,
           "subunitcolor": "white"
          },
          "hoverlabel": {
           "align": "left"
          },
          "hovermode": "closest",
          "mapbox": {
           "style": "light"
          },
          "paper_bgcolor": "white",
          "plot_bgcolor": "#E5ECF6",
          "polar": {
           "angularaxis": {
            "gridcolor": "white",
            "linecolor": "white",
            "ticks": ""
           },
           "bgcolor": "#E5ECF6",
           "radialaxis": {
            "gridcolor": "white",
            "linecolor": "white",
            "ticks": ""
           }
          },
          "scene": {
           "xaxis": {
            "backgroundcolor": "#E5ECF6",
            "gridcolor": "white",
            "gridwidth": 2,
            "linecolor": "white",
            "showbackground": true,
            "ticks": "",
            "zerolinecolor": "white"
           },
           "yaxis": {
            "backgroundcolor": "#E5ECF6",
            "gridcolor": "white",
            "gridwidth": 2,
            "linecolor": "white",
            "showbackground": true,
            "ticks": "",
            "zerolinecolor": "white"
           },
           "zaxis": {
            "backgroundcolor": "#E5ECF6",
            "gridcolor": "white",
            "gridwidth": 2,
            "linecolor": "white",
            "showbackground": true,
            "ticks": "",
            "zerolinecolor": "white"
           }
          },
          "shapedefaults": {
           "line": {
            "color": "#2a3f5f"
           }
          },
          "ternary": {
           "aaxis": {
            "gridcolor": "white",
            "linecolor": "white",
            "ticks": ""
           },
           "baxis": {
            "gridcolor": "white",
            "linecolor": "white",
            "ticks": ""
           },
           "bgcolor": "#E5ECF6",
           "caxis": {
            "gridcolor": "white",
            "linecolor": "white",
            "ticks": ""
           }
          },
          "title": {
           "x": 0.05
          },
          "xaxis": {
           "automargin": true,
           "gridcolor": "white",
           "linecolor": "white",
           "ticks": "",
           "title": {
            "standoff": 15
           },
           "zerolinecolor": "white",
           "zerolinewidth": 2
          },
          "yaxis": {
           "automargin": true,
           "gridcolor": "white",
           "linecolor": "white",
           "ticks": "",
           "title": {
            "standoff": 15
           },
           "zerolinecolor": "white",
           "zerolinewidth": 2
          }
         }
        },
        "title": {
         "text": "Surface Outside Face Outdoor Air Wind Speed [m/s] <br><sup> 7/1 to 7/1 between 0 and 23 @1 </sup>"
        }
       }
      }
     },
     "metadata": {},
     "output_type": "display_data"
    }
   ],
   "source": [
    "line_plots(wall_data)"
   ]
  },
  {
   "cell_type": "code",
   "execution_count": 204,
   "metadata": {},
   "outputs": [
    {
     "data": {
      "text/plain": [
       "ladybug.datacollection.HourlyContinuousCollection"
      ]
     },
     "execution_count": 204,
     "metadata": {},
     "output_type": "execute_result"
    }
   ],
   "source": [
    "type(c[0])"
   ]
  },
  {
   "cell_type": "code",
   "execution_count": 205,
   "metadata": {},
   "outputs": [],
   "source": [
    "from ladybug.datacollection import BaseCollection"
   ]
  },
  {
   "cell_type": "code",
   "execution_count": 187,
   "metadata": {},
   "outputs": [
    {
     "data": {
      "text/plain": [
       "{'type': 'AFN Node Temperature', 'System': 'ExtNode   7'}"
      ]
     },
     "execution_count": 187,
     "metadata": {},
     "output_type": "execute_result"
    }
   ],
   "source": [
    "c[-1].header.metadata[\"System\"]"
   ]
  },
  {
   "cell_type": "code",
   "execution_count": 52,
   "metadata": {},
   "outputs": [
    {
     "data": {
      "image/png": "[encoded data removed]",
      "text/plain": [
       "<Figure size 1200x800 with 1 Axes>"
      ]
     },
     "metadata": {},
     "output_type": "display_data"
    }
   ],
   "source": [
    "G, positions = create_base_graph(idf, path_to_input)\n",
    "G_afn_node, G_afn_edge = create_afn_graph(idf, G)\n",
    "fig = draw_afn_comparison(idf, G, G_afn_node, positions)"
   ]
  },
  {
   "cell_type": "code",
   "execution_count": 53,
   "metadata": {},
   "outputs": [
    {
     "data": {
      "image/png": "[encoded data removed]",
      "text/plain": [
       "<Figure size 1200x800 with 1 Axes>"
      ]
     },
     "metadata": {},
     "output_type": "display_data"
    }
   ],
   "source": [
    "fig = draw_afn_comparison(idf, G, G_afn_edge, positions)"
   ]
  },
  {
   "cell_type": "code",
   "execution_count": 80,
   "metadata": {},
   "outputs": [],
   "source": [
    "def set_difference(s_large:Iterable, s2:Iterable):\n",
    "    return list(set(s_large).difference(set(s2)))"
   ]
  },
  {
   "cell_type": "code",
   "execution_count": 81,
   "metadata": {},
   "outputs": [
    {
     "data": {
      "text/plain": [
       "['Block 00 Storey 0',\n",
       " 'Block 04 Storey 0',\n",
       " 'Block 01 Storey 0',\n",
       " 'Block 06 Storey 0',\n",
       " 'Block 03 Storey 0',\n",
       " 'Block 02 Storey 0']"
      ]
     },
     "execution_count": 81,
     "metadata": {},
     "output_type": "execute_result"
    }
   ],
   "source": [
    "zone_map = create_zone_map_without_partners(idf)\n",
    "filtered_zone_map = d2 = {k: v for k, v in zone_map.items() if len(v) < 2}\n",
    "afn_zones = set_difference(zone_map.keys(), filtered_zone_map.keys())\n",
    "afn_zones"
   ]
  },
  {
   "cell_type": "code",
   "execution_count": 84,
   "metadata": {},
   "outputs": [],
   "source": [
    "def list_all_dict_values(d:dict):\n",
    "    return chain_flatten([v for v in d.values()])"
   ]
  },
  {
   "cell_type": "code",
   "execution_count": 85,
   "metadata": {},
   "outputs": [
    {
     "data": {
      "text/plain": [
       "['Block 03 Storey 0 Wall 0002_2 Door',\n",
       " 'Block 04 Storey 0 Wall 0001 Window',\n",
       " 'Block 06 Storey 0 Wall 0002_1 Door',\n",
       " 'Block 01 Storey 0 Wall 0003 Window',\n",
       " 'Block 01 Storey 0 Wall 0002_1 Door',\n",
       " 'Block 03 Storey 0 Wall 0004 Window',\n",
       " 'Block 00 Storey 0 Wall 0002 Window',\n",
       " 'Block 01 Storey 0 Wall 0004 Window',\n",
       " 'Block 02 Storey 0 Wall 0001_1 Door',\n",
       " 'Block 00 Storey 0 Wall 0003 Window',\n",
       " 'Block 04 Storey 0 Wall 0002 Window',\n",
       " 'Block 01 Storey 0 Wall 0001_1 Door',\n",
       " 'Block 02 Storey 0 Wall 0001_2 Door']"
      ]
     },
     "execution_count": 85,
     "metadata": {},
     "output_type": "execute_result"
    }
   ],
   "source": [
    "afn_subsurfaces = set_difference(list_all_dict_values(zone_map), list_all_dict_values(filtered_zone_map))"
   ]
  }
 ],
 "metadata": {
  "kernelspec": {
   "display_name": "gqenv",
   "language": "python",
   "name": "python3"
  },
  "language_info": {
   "codemirror_mode": {
    "name": "ipython",
    "version": 3
   },
   "file_extension": ".py",
   "mimetype": "text/x-python",
   "name": "python",
   "nbconvert_exporter": "python",
   "pygments_lexer": "ipython3",
   "version": "3.10.14"
  }
 },
 "nbformat": 4,
 "nbformat_minor": 2
}
