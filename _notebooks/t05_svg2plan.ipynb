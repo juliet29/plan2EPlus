{
 "cells": [
  {
   "cell_type": "code",
   "execution_count": 2,
   "metadata": {},
   "outputs": [],
   "source": [
    "import matplotlib.pyplot as plt\n"
   ]
  },
  {
   "cell_type": "code",
   "execution_count": 3,
   "metadata": {},
   "outputs": [],
   "source": [
    "%load_ext autoreload\n",
    "%autoreload 2"
   ]
  },
  {
   "cell_type": "code",
   "execution_count": 4,
   "metadata": {},
   "outputs": [],
   "source": [
    "from pathlib import Path\n",
    "import sys\n",
    "sys.path.append(str(Path.cwd() / \"_scripts\"))"
   ]
  },
  {
   "cell_type": "code",
   "execution_count": 163,
   "metadata": {},
   "outputs": [],
   "source": [
    "import networkx as nx\n",
    "from eppy.bunch_subclass import EpBunch\n",
    "from geomeppy import IDF\n",
    "import seaborn as sns\n",
    "import polars as pl\n",
    "import numpy as np\n",
    "from dataclasses import dataclass\n",
    "\n",
    "from case_edits.ezcase import *\n",
    "from helpers.helpers import *\n",
    "from helpers.variables import *\n",
    "from helpers.variable_interfaces import *\n",
    "from setup.setup import *\n",
    "from setup.plots import *\n",
    "from setup.data_wrangle import *\n",
    "from analysis.data_on_network import *\n",
    "\n",
    "import matplotlib.cm as cm\n",
    "import matplotlib as mpl\n",
    "\n",
    "\n",
    "from matplotlib.colors import Colormap, Normalize, LinearSegmentedColormap\n",
    "\n",
    "from helpers.ep_helpers import *\n",
    "from subsurfaces.creator import SubsurfaceCreator\n",
    "from airflow_network.airboundary import *\n",
    "from subsurfaces.logic import find_surface_connecting_two_zones\n",
    "from analysis.dataframes import *\n",
    "\n",
    "from eppy.constructions import thermal_properties\n",
    "from constructions.constructions import *\n"
   ]
  },
  {
   "cell_type": "code",
   "execution_count": 156,
   "metadata": {},
   "outputs": [
    {
     "data": {
      "text/plain": [
       "CaseData(case_name='test', idf=<geomeppy.idf.IDF object at 0x1105aa890>, sql=Energy SQLiteResult: /Users/julietnwagwuume-ezeoke/_UILCode/gqe-phd/geomeppy/cases/tests/test25_airwall/results/eplusout.sql, path_to_input=PosixPath('/Users/julietnwagwuume-ezeoke/_UILCode/gqe-phd/svg2plan/outputs2/case_bol_5'), path_to_output=PosixPath('/Users/julietnwagwuume-ezeoke/_UILCode/gqe-phd/geomeppy/cases/tests/test25_airwall'))"
      ]
     },
     "execution_count": 156,
     "metadata": {},
     "output_type": "execute_result"
    }
   ],
   "source": [
    "# cases = retrieve_cases(AIRBOUNDARY_FOLDER)\n",
    "# case = cases[0]\n",
    "\n",
    "case = retrieve_test_case(\"test25_airwall\")\n",
    "case"
   ]
  },
  {
   "cell_type": "code",
   "execution_count": 164,
   "metadata": {},
   "outputs": [
    {
     "name": "stdout",
     "output_type": "stream",
     "text": [
      "key: window -> val:  has not been assigned!\n",
      "key: window -> val:  has not been assigned!\n",
      "key: window -> val:  has not been assigned!\n",
      "key: window -> val:  has not been assigned!\n",
      "key: window -> val:  has not been assigned!\n",
      "key: window -> val:  has not been assigned!\n",
      "key: window -> val:  has not been assigned!\n"
     ]
    }
   ],
   "source": [
    "idf = assign_cons_set(case.idf, \"Light\")"
   ]
  },
  {
   "cell_type": "code",
   "execution_count": null,
   "metadata": {},
   "outputs": [],
   "source": [
    "path_to_constructions = Path.cwd() / \"cases\" / \"constructions\"\n",
    "IDF(path_to_constructions / \"ASHRAE_2005_HOF_Materials.idf\")"
   ]
  }
 ],
 "metadata": {
  "kernelspec": {
   "display_name": "gqenv",
   "language": "python",
   "name": "python3"
  },
  "language_info": {
   "codemirror_mode": {
    "name": "ipython",
    "version": 3
   },
   "file_extension": ".py",
   "mimetype": "text/x-python",
   "name": "python",
   "nbconvert_exporter": "python",
   "pygments_lexer": "ipython3",
   "version": "3.10.14"
  }
 },
 "nbformat": 4,
 "nbformat_minor": 2
}
