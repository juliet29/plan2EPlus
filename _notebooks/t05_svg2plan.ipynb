{
 "cells": [
  {
   "cell_type": "code",
   "execution_count": 1,
   "metadata": {},
   "outputs": [],
   "source": [
    "import matplotlib.pyplot as plt\n"
   ]
  },
  {
   "cell_type": "code",
   "execution_count": 4,
   "metadata": {},
   "outputs": [],
   "source": [
    "%load_ext autoreload\n",
    "%autoreload 2"
   ]
  },
  {
   "cell_type": "code",
   "execution_count": 5,
   "metadata": {},
   "outputs": [],
   "source": [
    "from pathlib import Path\n",
    "import sys\n",
    "sys.path.append(str(Path.cwd() / \"_scripts\"))"
   ]
  },
  {
   "cell_type": "code",
   "execution_count": 161,
   "metadata": {},
   "outputs": [],
   "source": [
    "import networkx as nx\n",
    "from eppy.bunch_subclass import EpBunch\n",
    "from geomeppy import IDF\n",
    "import seaborn as sns\n",
    "import polars as pl\n",
    "import numpy as np\n",
    "\n",
    "from case_edits.ezcase import *\n",
    "\n",
    "from helpers.variables import *\n",
    "from helpers.variable_interfaces import *\n",
    "from setup.setup import *\n",
    "from setup.plots import *\n",
    "from setup.data_wrangle import *\n",
    "from network.data_on_network import *\n",
    "\n",
    "import matplotlib.cm as cm\n",
    "import matplotlib as mpl\n",
    "\n",
    "\n",
    "from matplotlib.colors import Colormap, Normalize, LinearSegmentedColormap\n",
    "from setup.setup import create_directories\n",
    "\n",
    "from helpers.ep_helpers import *\n",
    "from subsurfaces.creator import SubsurfaceCreator\n",
    "from airflow_network.airboundary import *\n",
    "from subsurfaces.logic import find_surface_connecting_two_zones\n",
    "from setup.analysis import create_data, get_airboundary_case, get_df, get_zone_df, get_airboundary_with_surf_case\n"
   ]
  },
  {
   "cell_type": "code",
   "execution_count": 178,
   "metadata": {},
   "outputs": [
    {
     "name": "stdout",
     "output_type": "stream",
     "text": [
      "out.idf does not exist\n",
      "idf has changed - running case\n",
      "\n",
      "/Applications/EnergyPlus-22-2-0/energyplus --weather /Users/julietnwagwuume-ezeoke/_UILCode/gqe-phd/geomeppy/weather_data/PALO_ALTO/CA_PALO-ALTO-AP_724937_23.EPW --output-directory /Users/julietnwagwuume-ezeoke/_UILCode/gqe-phd/geomeppy/cases/airboundary/case_amb_b1/results --idd /Applications/EnergyPlus-22-2-0/Energy+.idd /Users/julietnwagwuume-ezeoke/_UILCode/gqe-phd/geomeppy/cases/base/01example/Minimal_AP_223ea9.idf\n",
      "\n",
      "EnergyPlus Starting\n",
      "EnergyPlus, Version 22.2.0-c249759bad, YMD=2024.10.30 13:44\n",
      "Adjusting Air System Sizing\n",
      "Adjusting Standard 62.1 Ventilation Sizing\n",
      "Initializing Simulation\n",
      "Reporting Surfaces\n",
      "Beginning Primary Simulation\n",
      "Initializing New Environment Parameters\n",
      "Warming up {1}\n",
      "Warming up {2}\n",
      "Warming up {3}\n",
      "Warming up {4}\n",
      "Warming up {5}\n",
      "Warming up {6}\n",
      "Starting Simulation at 07/01/2017 for SUMMERDAY\n",
      "Writing tabular output file results using HTML format.\n",
      "Writing final SQL reports\n",
      "EnergyPlus Run Time=00hr 00min  0.49sec\n"
     ]
    },
    {
     "name": "stderr",
     "output_type": "stream",
     "text": [
      "EnergyPlus Completed Successfully.\n"
     ]
    },
    {
     "name": "stdout",
     "output_type": "stream",
     "text": [
      "out.idf does not exist\n",
      "idf has changed - running case\n",
      "\n",
      "/Applications/EnergyPlus-22-2-0/energyplus --weather /Users/julietnwagwuume-ezeoke/_UILCode/gqe-phd/geomeppy/weather_data/PALO_ALTO/CA_PALO-ALTO-AP_724937_23.EPW --output-directory /Users/julietnwagwuume-ezeoke/_UILCode/gqe-phd/geomeppy/cases/airboundary/case_bol_5/results --idd /Applications/EnergyPlus-22-2-0/Energy+.idd /Users/julietnwagwuume-ezeoke/_UILCode/gqe-phd/geomeppy/cases/base/01example/Minimal_AP_f74992.idf\n",
      "\n",
      "EnergyPlus Starting\n",
      "EnergyPlus, Version 22.2.0-c249759bad, YMD=2024.10.30 13:44\n",
      "Adjusting Air System Sizing\n",
      "Adjusting Standard 62.1 Ventilation Sizing\n",
      "Initializing Simulation\n",
      "Reporting Surfaces\n",
      "Beginning Primary Simulation\n",
      "Initializing New Environment Parameters\n",
      "Warming up {1}\n",
      "Warming up {2}\n",
      "Warming up {3}\n",
      "Warming up {4}\n",
      "Warming up {5}\n",
      "Warming up {6}\n",
      "Starting Simulation at 07/01/2017 for SUMMERDAY\n",
      "Writing tabular output file results using HTML format.\n",
      "Writing final SQL reports\n",
      "EnergyPlus Run Time=00hr 00min  0.24sec\n"
     ]
    },
    {
     "name": "stderr",
     "output_type": "stream",
     "text": [
      "EnergyPlus Completed Successfully.\n"
     ]
    },
    {
     "name": "stdout",
     "output_type": "stream",
     "text": [
      "Block 00 Storey 0 not in  original AFN. Adding now.. \n",
      "out.idf does not exist\n",
      "idf has changed - running case\n",
      "\n",
      "/Applications/EnergyPlus-22-2-0/energyplus --weather /Users/julietnwagwuume-ezeoke/_UILCode/gqe-phd/geomeppy/weather_data/PALO_ALTO/CA_PALO-ALTO-AP_724937_23.EPW --output-directory /Users/julietnwagwuume-ezeoke/_UILCode/gqe-phd/geomeppy/cases/airboundary/case_red_b1/results --idd /Applications/EnergyPlus-22-2-0/Energy+.idd /Users/julietnwagwuume-ezeoke/_UILCode/gqe-phd/geomeppy/cases/base/01example/Minimal_AP_bb2587.idf\n",
      "\n",
      "EnergyPlus Starting\n",
      "EnergyPlus, Version 22.2.0-c249759bad, YMD=2024.10.30 13:44\n",
      "Adjusting Air System Sizing\n",
      "Adjusting Standard 62.1 Ventilation Sizing\n",
      "Initializing Simulation\n",
      "Reporting Surfaces\n",
      "Beginning Primary Simulation\n",
      "Initializing New Environment Parameters\n",
      "Warming up {1}\n",
      "Warming up {2}\n",
      "Warming up {3}\n",
      "Warming up {4}\n",
      "Warming up {5}\n",
      "Warming up {6}\n",
      "Starting Simulation at 07/01/2017 for SUMMERDAY\n",
      "Writing tabular output file results using HTML format.\n",
      "Writing final SQL reports\n",
      "EnergyPlus Run Time=00hr 00min  0.30sec\n"
     ]
    },
    {
     "name": "stderr",
     "output_type": "stream",
     "text": [
      "EnergyPlus Completed Successfully.\n"
     ]
    },
    {
     "data": {
      "text/plain": [
       "True"
      ]
     },
     "execution_count": 178,
     "metadata": {},
     "output_type": "execute_result"
    }
   ],
   "source": [
    "# create_cases(AIRBOUNDARY_FOLDER)"
   ]
  },
  {
   "cell_type": "code",
   "execution_count": 176,
   "metadata": {},
   "outputs": [],
   "source": [
    "cases = retrieve_cases(AIRBOUNDARY_FOLDER)\n",
    "case= cases[2]\n"
   ]
  },
  {
   "cell_type": "code",
   "execution_count": 148,
   "metadata": {},
   "outputs": [],
   "source": [
    "surfaces = case.idf.getsurfaces()"
   ]
  },
  {
   "cell_type": "code",
   "execution_count": 171,
   "metadata": {},
   "outputs": [
    {
     "data": {
      "text/plain": [
       "'red_b1'"
      ]
     },
     "execution_count": 171,
     "metadata": {},
     "output_type": "execute_result"
    }
   ],
   "source": [
    "case.case_name"
   ]
  },
  {
   "cell_type": "code",
   "execution_count": 170,
   "metadata": {},
   "outputs": [
    {
     "data": {
      "text/plain": [
       "['Block 03 Storey 0',\n",
       " 'Block 09 Storey 0',\n",
       " 'Block 08 Storey 0',\n",
       " 'Block 05 Storey 0',\n",
       " 'Block 01 Storey 0',\n",
       " 'Block 04 Storey 0',\n",
       " 'Block 02 Storey 0']"
      ]
     },
     "execution_count": 170,
     "metadata": {},
     "output_type": "execute_result"
    }
   ],
   "source": [
    "afn_zones = case.idf.idfobjects[\"AIRFLOWNETWORK:MULTIZONE:ZONE\"]\n",
    "afn_zone_names = [i.Zone_Name for i in afn_zones]\n",
    "afn_zone_names"
   ]
  },
  {
   "cell_type": "code",
   "execution_count": 162,
   "metadata": {},
   "outputs": [],
   "source": [
    "case = get_airboundary_with_surf_case()\n"
   ]
  },
  {
   "cell_type": "code",
   "execution_count": 177,
   "metadata": {},
   "outputs": [
    {
     "name": "stdout",
     "output_type": "stream",
     "text": [
      "Block 09 Storey 0 Wall 0001_2 / Block 09 Storey 0 / Block 08 Storey 0 Wall 0003_1 / Block 08 Storey 0\n",
      "Block 09 Storey 0 Wall 0002_1 / Block 09 Storey 0 / Block 00 Storey 0 Wall 0004_2 / Block 00 Storey 0\n",
      "Block 00 Storey 0 not in  original AFN. Adding now.. \n",
      "Block 08 Storey 0 Wall 0002_1 / Block 08 Storey 0 / Block 00 Storey 0 Wall 0004_1 / Block 00 Storey 0\n"
     ]
    },
    {
     "data": {
      "text/plain": [
       "<geomeppy.idf.IDF at 0x160693e20>"
      ]
     },
     "execution_count": 177,
     "metadata": {},
     "output_type": "execute_result"
    }
   ],
   "source": [
    "idf = update_afn_for_airboundary_zones(case.idf)\n",
    "idf"
   ]
  },
  {
   "cell_type": "code",
   "execution_count": null,
   "metadata": {},
   "outputs": [],
   "source": []
  },
  {
   "cell_type": "code",
   "execution_count": 154,
   "metadata": {},
   "outputs": [
    {
     "data": {
      "text/plain": [
       "'Block 06 Storey 0 Wall 0001_1'"
      ]
     },
     "execution_count": 154,
     "metadata": {},
     "output_type": "execute_result"
    }
   ],
   "source": [
    "n = case.idf.idfobjects[\"CONSTRUCTION:AIRBOUNDARY\"][0].Name\n",
    "remain = n.split(\" \")[1:]\n",
    "res = \" \".join(remain)\n",
    "res"
   ]
  },
  {
   "cell_type": "code",
   "execution_count": 156,
   "metadata": {},
   "outputs": [
    {
     "data": {
      "text/plain": [
       "\n",
       "BUILDINGSURFACE:DETAILED,\n",
       "    Block 06 Storey 0 Wall 0001_1,    !- Name\n",
       "    wall,                     !- Surface Type\n",
       "    AirBoundary Block 06 Storey 0 Wall 0001_1,    !- Construction Name\n",
       "    Block 06 Storey 0,        !- Zone Name\n",
       "    ,                         !- Space Name\n",
       "    surface,                  !- Outside Boundary Condition\n",
       "    Block 01 Storey 0 Wall 0003_2,    !- Outside Boundary Condition Object\n",
       "    NoSun,                    !- Sun Exposure\n",
       "    NoWind,                   !- Wind Exposure\n",
       "    autocalculate,            !- View Factor to Ground\n",
       "    autocalculate,            !- Number of Vertices\n",
       "    2.5,                      !- Vertex 1 Xcoordinate\n",
       "    2.109999999869615,        !- Vertex 1 Ycoordinate\n",
       "    3.0499999998137355,       !- Vertex 1 Zcoordinate\n",
       "    2.5,                      !- Vertex 2 Xcoordinate\n",
       "    2.109999999869615,        !- Vertex 2 Ycoordinate\n",
       "    0,                        !- Vertex 2 Zcoordinate\n",
       "    2.5,                      !- Vertex 3 Xcoordinate\n",
       "    4.319999999832362,        !- Vertex 3 Ycoordinate\n",
       "    0,                        !- Vertex 3 Zcoordinate\n",
       "    2.5,                      !- Vertex 4 Xcoordinate\n",
       "    4.319999999832362,        !- Vertex 4 Ycoordinate\n",
       "    3.0499999998137355;       !- Vertex 4 Zcoordinate"
      ]
     },
     "execution_count": 156,
     "metadata": {},
     "output_type": "execute_result"
    }
   ],
   "source": [
    "get_surface_by_name(case.idf, res)"
   ]
  },
  {
   "cell_type": "code",
   "execution_count": 146,
   "metadata": {},
   "outputs": [
    {
     "data": {
      "text/plain": [
       "[\n",
       "AIRFLOWNETWORK:MULTIZONE:COMPONENT:SIMPLEOPENING,\n",
       "    Block 06 Storey 0 Wall 0001_1 SimpleOpening,    !- Name\n",
       "    0.001,                    !- Air Mass Flow Coefficient When Opening is Closed\n",
       "    0.65,                     !- Air Mass Flow Exponent When Opening is Closed\n",
       "    0.0001,                   !- Minimum Density Difference for TwoWay Flow\n",
       "    1;                        !- Discharge Coefficient\n",
       ", \n",
       "AIRFLOWNETWORK:MULTIZONE:COMPONENT:SIMPLEOPENING,\n",
       "    Block 06 Storey 0 Wall 0002_1 Door SimpleOpening,    !- Name\n",
       "    0.001,                    !- Air Mass Flow Coefficient When Opening is Closed\n",
       "    0.65,                     !- Air Mass Flow Exponent When Opening is Closed\n",
       "    0.0001,                   !- Minimum Density Difference for TwoWay Flow\n",
       "    1;                        !- Discharge Coefficient\n",
       ", \n",
       "AIRFLOWNETWORK:MULTIZONE:COMPONENT:SIMPLEOPENING,\n",
       "    Block 01 Storey 0 Wall 0004 Window SimpleOpening,    !- Name\n",
       "    0.001,                    !- Air Mass Flow Coefficient When Opening is Closed\n",
       "    0.65,                     !- Air Mass Flow Exponent When Opening is Closed\n",
       "    0.0001,                   !- Minimum Density Difference for TwoWay Flow\n",
       "    1;                        !- Discharge Coefficient\n",
       ", \n",
       "AIRFLOWNETWORK:MULTIZONE:COMPONENT:SIMPLEOPENING,\n",
       "    Block 00 Storey 0 Wall 0002 Window SimpleOpening,    !- Name\n",
       "    0.001,                    !- Air Mass Flow Coefficient When Opening is Closed\n",
       "    0.65,                     !- Air Mass Flow Exponent When Opening is Closed\n",
       "    0.0001,                   !- Minimum Density Difference for TwoWay Flow\n",
       "    1;                        !- Discharge Coefficient\n",
       ", \n",
       "AIRFLOWNETWORK:MULTIZONE:COMPONENT:SIMPLEOPENING,\n",
       "    Block 01 Storey 0 Wall 0001 Window SimpleOpening,    !- Name\n",
       "    0.001,                    !- Air Mass Flow Coefficient When Opening is Closed\n",
       "    0.65,                     !- Air Mass Flow Exponent When Opening is Closed\n",
       "    0.0001,                   !- Minimum Density Difference for TwoWay Flow\n",
       "    1;                        !- Discharge Coefficient\n",
       ", \n",
       "AIRFLOWNETWORK:MULTIZONE:COMPONENT:SIMPLEOPENING,\n",
       "    Block 00 Storey 0 Wall 0003 Window SimpleOpening,    !- Name\n",
       "    0.001,                    !- Air Mass Flow Coefficient When Opening is Closed\n",
       "    0.65,                     !- Air Mass Flow Exponent When Opening is Closed\n",
       "    0.0001,                   !- Minimum Density Difference for TwoWay Flow\n",
       "    1;                        !- Discharge Coefficient\n",
       ", \n",
       "AIRFLOWNETWORK:MULTIZONE:COMPONENT:SIMPLEOPENING,\n",
       "    Block 05 Storey 0 Wall 0003 Window SimpleOpening,    !- Name\n",
       "    0.001,                    !- Air Mass Flow Coefficient When Opening is Closed\n",
       "    0.65,                     !- Air Mass Flow Exponent When Opening is Closed\n",
       "    0.0001,                   !- Minimum Density Difference for TwoWay Flow\n",
       "    1;                        !- Discharge Coefficient\n",
       ", \n",
       "AIRFLOWNETWORK:MULTIZONE:COMPONENT:SIMPLEOPENING,\n",
       "    Block 01 Storey 0 Wall 0002 Window SimpleOpening,    !- Name\n",
       "    0.001,                    !- Air Mass Flow Coefficient When Opening is Closed\n",
       "    0.65,                     !- Air Mass Flow Exponent When Opening is Closed\n",
       "    0.0001,                   !- Minimum Density Difference for TwoWay Flow\n",
       "    1;                        !- Discharge Coefficient\n",
       ", \n",
       "AIRFLOWNETWORK:MULTIZONE:COMPONENT:SIMPLEOPENING,\n",
       "    Block 05 Storey 0 Wall 0002_2 Door SimpleOpening,    !- Name\n",
       "    0.001,                    !- Air Mass Flow Coefficient When Opening is Closed\n",
       "    0.65,                     !- Air Mass Flow Exponent When Opening is Closed\n",
       "    0.0001,                   !- Minimum Density Difference for TwoWay Flow\n",
       "    1;                        !- Discharge Coefficient\n",
       ", \n",
       "AIRFLOWNETWORK:MULTIZONE:COMPONENT:SIMPLEOPENING,\n",
       "    Block 05 Storey 0 Wall 0004 Window SimpleOpening,    !- Name\n",
       "    0.001,                    !- Air Mass Flow Coefficient When Opening is Closed\n",
       "    0.65,                     !- Air Mass Flow Exponent When Opening is Closed\n",
       "    0.0001,                   !- Minimum Density Difference for TwoWay Flow\n",
       "    1;                        !- Discharge Coefficient\n",
       "]"
      ]
     },
     "execution_count": 146,
     "metadata": {},
     "output_type": "execute_result"
    }
   ],
   "source": [
    "case.idf.idfobjects[\"AIRFLOWNETWORK:MULTIZONE:COMPONENT:SIMPLEOPENING\"] # cant use this because"
   ]
  }
 ],
 "metadata": {
  "kernelspec": {
   "display_name": "gqenv",
   "language": "python",
   "name": "python3"
  },
  "language_info": {
   "codemirror_mode": {
    "name": "ipython",
    "version": 3
   },
   "file_extension": ".py",
   "mimetype": "text/x-python",
   "name": "python",
   "nbconvert_exporter": "python",
   "pygments_lexer": "ipython3",
   "version": "3.10.14"
  }
 },
 "nbformat": 4,
 "nbformat_minor": 2
}
