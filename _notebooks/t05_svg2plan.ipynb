{
 "cells": [
  {
   "cell_type": "code",
   "execution_count": 1,
   "metadata": {},
   "outputs": [],
   "source": [
    "%load_ext autoreload\n",
    "%autoreload 2"
   ]
  },
  {
   "cell_type": "code",
   "execution_count": 2,
   "metadata": {},
   "outputs": [],
   "source": [
    "from pathlib import Path\n",
    "import sys\n",
    "sys.path.append(str(Path.cwd() / \"_scripts\"))"
   ]
  },
  {
   "cell_type": "code",
   "execution_count": 13,
   "metadata": {},
   "outputs": [],
   "source": [
    "import networkx as nx\n",
    "from eppy.bunch_subclass import EpBunch\n",
    "\n",
    "from case_edits.ezcase import *\n",
    "from helpers.ep_helpers import *\n",
    "from helpers.ep_geom_helpers import *\n",
    "from helpers.geometry_interfaces import *\n",
    "from helpers.helpers import *\n",
    "from plan.helpers import get_plans_from_file\n",
    "from network.network2 import *\n",
    "from network.visuals import *\n",
    "from subsurfaces.logic import get_connecting_surface\n"
   ]
  },
  {
   "cell_type": "code",
   "execution_count": 4,
   "metadata": {},
   "outputs": [],
   "source": [
    "\n",
    "inputs_dir = \"case_red_d3\"\n",
    "outputs_dir = \"tests/test22_svg2plan\"\n",
    "\n",
    "case = initialize_case(outputs_dir)\n",
    "path_to_input = get_path_to_inputs(inputs_dir)\n",
    "pairs = get_subsurface_pairs_from_case(path_to_input)\n",
    "\n",
    "\n"
   ]
  },
  {
   "cell_type": "code",
   "execution_count": 5,
   "metadata": {},
   "outputs": [
    {
     "name": "stdout",
     "output_type": "stream",
     "text": [
      "out.idf exists\n",
      "IDF has changed: True\n"
     ]
    }
   ],
   "source": [
    "case = create_ezcase(outputs_dir, inputs_dir)\n",
    "idf = case.idf"
   ]
  },
  {
   "cell_type": "code",
   "execution_count": 10,
   "metadata": {},
   "outputs": [],
   "source": [
    "G, positions = create_graph_for_zone(idf, path_to_input)\n",
    "G, positions  = add_cardinal_directions(G, positions)\n",
    "G = add_edges(idf, G, pairs)"
   ]
  },
  {
   "cell_type": "code",
   "execution_count": 14,
   "metadata": {},
   "outputs": [
    {
     "data": {
      "image/png": "[encoded data removed]",
      "text/plain": [
       "<Figure size 640x480 with 1 Axes>"
      ]
     },
     "metadata": {},
     "output_type": "display_data"
    }
   ],
   "source": [
    "zone_nodes, cardinal_nodes = filter_nodes(G)\n",
    "draw_graph_with_node_labels(G, positions, zone_nodes)\n",
    "draw_graph_with_node_labels(G, positions, cardinal_nodes, color=CARDINAL_COLOR, shape=\"*\", size=200)\n",
    "draw_graph_edges(G, positions)"
   ]
  },
  {
   "cell_type": "code",
   "execution_count": 26,
   "metadata": {},
   "outputs": [
    {
     "data": {
      "text/plain": [
       "NodeView(('0-kitchen', '1-living', '2-transit', '3-bedroom_2', '4-bedroom', '5-closet', '6-transit_2', '7-bath', 'NORTH', 'EAST', 'SOUTH', 'WEST'))"
      ]
     },
     "execution_count": 26,
     "metadata": {},
     "output_type": "execute_result"
    }
   ],
   "source": [
    "G.nodes"
   ]
  },
  {
   "cell_type": "code",
   "execution_count": 38,
   "metadata": {},
   "outputs": [],
   "source": [
    "\n",
    "\n",
    "    "
   ]
  },
  {
   "cell_type": "code",
   "execution_count": 37,
   "metadata": {},
   "outputs": [
    {
     "data": {
      "text/plain": [
       "'1-living'"
      ]
     },
     "execution_count": 37,
     "metadata": {},
     "output_type": "execute_result"
    }
   ],
   "source": [
    "get_node_in_G(G, pairs[0].space_a)"
   ]
  },
  {
   "cell_type": "code",
   "execution_count": 39,
   "metadata": {},
   "outputs": [
    {
     "name": "stdout",
     "output_type": "stream",
     "text": [
      "1-living 2-transit\n",
      "1-living 0-kitchen\n",
      "2-transit 6-transit_2\n",
      "2-transit 3-bedroom_2\n",
      "2-transit 7-bath\n",
      "6-transit_2 4-bedroom\n",
      "3-bedroom_2 6-transit_2\n",
      "4-bedroom EAST\n",
      "4-bedroom NORTH\n",
      "0-kitchen WEST\n",
      "1-living WEST\n",
      "0-kitchen NORTH\n",
      "1-living SOUTH\n",
      "3-bedroom_2 SOUTH\n"
     ]
    }
   ],
   "source": [
    "# edgee between node labels\n",
    "# data => type of ss. surface its on. direction of surface its on. later, in afn or not. \n",
    "for pair in pairs:\n",
    "    surf = get_connecting_surface(idf, pair)\n",
    "    assert surf\n",
    "    subsurface = surf.subsurfaces[0] #just one each\n",
    "\n",
    "    node_a = get_node_in_G(G, pair.space_a)\n",
    "    node_b = get_node_in_G(G, pair.space_b)\n",
    "    print(node_a, node_b)\n",
    "    G.add_edge(node_a, node_b, surface=surf.Name, subsurfaces=subsurface.Name, stype=pair.attrs.object_type.name)\n",
    "\n",
    "\n"
   ]
  },
  {
   "cell_type": "code",
   "execution_count": 40,
   "metadata": {},
   "outputs": [
    {
     "data": {
      "text/plain": [
       "OutEdgeView([('0-kitchen', 'WEST'), ('0-kitchen', 'NORTH'), ('1-living', '2-transit'), ('1-living', '0-kitchen'), ('1-living', 'WEST'), ('1-living', 'SOUTH'), ('2-transit', '6-transit_2'), ('2-transit', '3-bedroom_2'), ('2-transit', '7-bath'), ('3-bedroom_2', '6-transit_2'), ('3-bedroom_2', 'SOUTH'), ('4-bedroom', 'EAST'), ('4-bedroom', 'NORTH'), ('6-transit_2', '4-bedroom')])"
      ]
     },
     "execution_count": 40,
     "metadata": {},
     "output_type": "execute_result"
    }
   ],
   "source": [
    "G.edges"
   ]
  },
  {
   "cell_type": "code",
   "execution_count": 29,
   "metadata": {},
   "outputs": [
    {
     "data": {
      "text/plain": [
       "'SOUTH'"
      ]
     },
     "execution_count": 29,
     "metadata": {},
     "output_type": "execute_result"
    }
   ],
   "source": [
    "get_node_in_G(G, pairs[-1].space_b)"
   ]
  },
  {
   "cell_type": "code",
   "execution_count": 18,
   "metadata": {},
   "outputs": [
    {
     "data": {
      "text/plain": [
       "[\n",
       " WINDOW,\n",
       "     Block 03 Storey 0 Wall 0004 Window,    !- Name\n",
       "     Project External Window,    !- Construction Name\n",
       "     Block 03 Storey 0 Wall 0004,    !- Building Surface Name\n",
       "     ,                         !- Frame and Divider Name\n",
       "     1.0,                      !- Multiplier\n",
       "     0.26,                     !- Starting X Coordinate\n",
       "     1.4994999999999998,       !- Starting Z Coordinate\n",
       "     0.71,                     !- Length\n",
       "     1.52;                     !- Height]"
      ]
     },
     "execution_count": 18,
     "metadata": {},
     "output_type": "execute_result"
    }
   ],
   "source": [
    "surf.subsurfaces"
   ]
  },
  {
   "cell_type": "code",
   "execution_count": null,
   "metadata": {},
   "outputs": [],
   "source": [
    "def get_subsurface_by_zone_and_surf(idf, zone_num, surf):\n",
    "    zone_name = get_zone_name(zone_num)\n",
    "    subsurfaces = idf.getsubsurfaces()\n",
    "    find_zone_subsurfaces(zone_name, subsurfaces)\n"
   ]
  },
  {
   "cell_type": "code",
   "execution_count": 19,
   "metadata": {},
   "outputs": [],
   "source": [
    "# collapse all to range.. \n",
    "def create_total_range(res: list[Domain]):\n",
    "    mins = [i.width.min for i in res]\n",
    "    maxes = [i.width.max for i in res]\n",
    "    return Range(min(mins), max(maxes))\n"
   ]
  },
  {
   "cell_type": "code",
   "execution_count": 20,
   "metadata": {},
   "outputs": [
    {
     "data": {
      "text/plain": [
       "{'EAST': (1.78, 3.15),\n",
       " 'NORTH': (0.00, 1.70),\n",
       " 'SOUTH': (0.00, 1.70),\n",
       " 'WEST': (1.78, 3.15)}"
      ]
     },
     "execution_count": 20,
     "metadata": {},
     "output_type": "execute_result"
    }
   ],
   "source": [
    "ranges = {k: create_total_range(v) for k,v in domains.items()}\n",
    "ranges"
   ]
  },
  {
   "cell_type": "code",
   "execution_count": 32,
   "metadata": {},
   "outputs": [],
   "source": [
    "assert ranges[\"EAST\"] == ranges[\"WEST\"]\n",
    "assert ranges[\"NORTH\"] == ranges[\"SOUTH\"]\n",
    "# assert ranges[\"NORTH\"].__repr__() == ranges[\"SOUTH\"].__repr__()"
   ]
  },
  {
   "cell_type": "code",
   "execution_count": 33,
   "metadata": {},
   "outputs": [
    {
     "data": {
      "text/plain": [
       "Domain(width=[1.78, 3.15], height=[0.00, 1.70])"
      ]
     },
     "execution_count": 33,
     "metadata": {},
     "output_type": "execute_result"
    }
   ],
   "source": [
    "zone_domain = Domain(ranges[\"EAST\"], ranges[\"NORTH\"])\n",
    "zone_domain"
   ]
  }
 ],
 "metadata": {
  "kernelspec": {
   "display_name": "gqenv",
   "language": "python",
   "name": "python3"
  },
  "language_info": {
   "codemirror_mode": {
    "name": "ipython",
    "version": 3
   },
   "file_extension": ".py",
   "mimetype": "text/x-python",
   "name": "python",
   "nbconvert_exporter": "python",
   "pygments_lexer": "ipython3",
   "version": "3.10.14"
  }
 },
 "nbformat": 4,
 "nbformat_minor": 2
}
