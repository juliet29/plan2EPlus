{
 "cells": [
  {
   "cell_type": "code",
   "execution_count": 64,
   "metadata": {},
   "outputs": [
    {
     "name": "stdout",
     "output_type": "stream",
     "text": [
      "The autoreload extension is already loaded. To reload it, use:\n",
      "  %reload_ext autoreload\n"
     ]
    }
   ],
   "source": [
    "%load_ext autoreload\n",
    "%autoreload 2"
   ]
  },
  {
   "cell_type": "code",
   "execution_count": 65,
   "metadata": {},
   "outputs": [],
   "source": [
    "from pathlib import Path\n",
    "import sys\n",
    "sys.path.append(str(Path.cwd() / \"_scripts\"))"
   ]
  },
  {
   "cell_type": "code",
   "execution_count": 93,
   "metadata": {},
   "outputs": [],
   "source": [
    "import networkx as nx\n",
    "from eppy.bunch_subclass import EpBunch\n",
    "\n",
    "from case_edits.ezcase import *\n",
    "from helpers.ep_helpers import *\n",
    "from helpers.geometry_interfaces import *\n",
    "from helpers.helpers import *\n",
    "from plan.helpers import get_plans_from_file\n",
    "from network.network import *\n",
    "from network.visuals import *"
   ]
  },
  {
   "cell_type": "code",
   "execution_count": 67,
   "metadata": {},
   "outputs": [],
   "source": [
    "\n",
    "inputs_dir = \"case_red_d3\"\n",
    "outputs_dir = \"tests/test22_svg2plan\"\n",
    "\n",
    "case = initialize_case(outputs_dir)\n",
    "path_to_input = get_path_to_inputs(inputs_dir)\n",
    "pairs = get_subsurface_pairs_from_case(path_to_input)\n",
    "\n",
    "\n"
   ]
  },
  {
   "cell_type": "code",
   "execution_count": 68,
   "metadata": {},
   "outputs": [
    {
     "name": "stdout",
     "output_type": "stream",
     "text": [
      "out.idf exists\n",
      "IDF has changed: False\n"
     ]
    }
   ],
   "source": [
    "case = create_ezcase(outputs_dir, inputs_dir)\n",
    "idf = case.idf"
   ]
  },
  {
   "cell_type": "code",
   "execution_count": 141,
   "metadata": {},
   "outputs": [
    {
     "data": {
      "text/plain": [
       "{'zonesurfaces': <function eppy.function_helpers.zonesurfaces(ddtt)>}"
      ]
     },
     "execution_count": 141,
     "metadata": {},
     "output_type": "execute_result"
    }
   ],
   "source": [
    "get_zones(idf)[0][\"__functions\"]"
   ]
  },
  {
   "cell_type": "code",
   "execution_count": 146,
   "metadata": {},
   "outputs": [
    {
     "data": {
      "text/plain": [
       "[\n",
       " BUILDINGSURFACE:DETAILED,\n",
       "     Block 00 Storey 0 Wall 0002,    !- Name\n",
       "     wall,                     !- Surface Type\n",
       "     Project Wall,             !- Construction Name\n",
       "     Block 00 Storey 0,        !- Zone Name\n",
       "     ,                         !- Space Name\n",
       "     outdoors,                 !- Outside Boundary Condition\n",
       "     ,                         !- Outside Boundary Condition Object\n",
       "     SunExposed,               !- Sun Exposure\n",
       "     WindExposed,              !- Wind Exposure\n",
       "     autocalculate,            !- View Factor to Ground\n",
       "     autocalculate,            !- Number of Vertices\n",
       "     1.7,                      !- Vertex 1 Xcoordinate\n",
       "     3.15,                     !- Vertex 1 Ycoordinate\n",
       "     3.05,                     !- Vertex 1 Zcoordinate\n",
       "     1.7,                      !- Vertex 2 Xcoordinate\n",
       "     3.15,                     !- Vertex 2 Ycoordinate\n",
       "     0,                        !- Vertex 2 Zcoordinate\n",
       "     0,                        !- Vertex 3 Xcoordinate\n",
       "     3.15,                     !- Vertex 3 Ycoordinate\n",
       "     0,                        !- Vertex 3 Zcoordinate\n",
       "     0,                        !- Vertex 4 Xcoordinate\n",
       "     3.15,                     !- Vertex 4 Ycoordinate\n",
       "     3.05;                     !- Vertex 4 Zcoordinate,\n",
       " \n",
       " BUILDINGSURFACE:DETAILED,\n",
       "     Block 00 Storey 0 Wall 0003,    !- Name\n",
       "     wall,                     !- Surface Type\n",
       "     Project Wall,             !- Construction Name\n",
       "     Block 00 Storey 0,        !- Zone Name\n",
       "     ,                         !- Space Name\n",
       "     outdoors,                 !- Outside Boundary Condition\n",
       "     ,                         !- Outside Boundary Condition Object\n",
       "     SunExposed,               !- Sun Exposure\n",
       "     WindExposed,              !- Wind Exposure\n",
       "     autocalculate,            !- View Factor to Ground\n",
       "     autocalculate,            !- Number of Vertices\n",
       "     0,                        !- Vertex 1 Xcoordinate\n",
       "     3.15,                     !- Vertex 1 Ycoordinate\n",
       "     3.05,                     !- Vertex 1 Zcoordinate\n",
       "     0,                        !- Vertex 2 Xcoordinate\n",
       "     3.15,                     !- Vertex 2 Ycoordinate\n",
       "     0,                        !- Vertex 2 Zcoordinate\n",
       "     0,                        !- Vertex 3 Xcoordinate\n",
       "     1.7799999999999998,       !- Vertex 3 Ycoordinate\n",
       "     0,                        !- Vertex 3 Zcoordinate\n",
       "     0,                        !- Vertex 4 Xcoordinate\n",
       "     1.7799999999999998,       !- Vertex 4 Ycoordinate\n",
       "     3.05;                     !- Vertex 4 Zcoordinate,\n",
       " \n",
       " BUILDINGSURFACE:DETAILED,\n",
       "     Block 00 Storey 0 Floor 0001,    !- Name\n",
       "     floor,                    !- Surface Type\n",
       "     Project Floor,            !- Construction Name\n",
       "     Block 00 Storey 0,        !- Zone Name\n",
       "     ,                         !- Space Name\n",
       "     ground,                   !- Outside Boundary Condition\n",
       "     ,                         !- Outside Boundary Condition Object\n",
       "     NoSun,                    !- Sun Exposure\n",
       "     NoWind,                   !- Wind Exposure\n",
       "     autocalculate,            !- View Factor to Ground\n",
       "     autocalculate,            !- Number of Vertices\n",
       "     1.7,                      !- Vertex 1 Xcoordinate\n",
       "     3.15,                     !- Vertex 1 Ycoordinate\n",
       "     0,                        !- Vertex 1 Zcoordinate\n",
       "     1.7,                      !- Vertex 2 Xcoordinate\n",
       "     1.7799999999999998,       !- Vertex 2 Ycoordinate\n",
       "     0,                        !- Vertex 2 Zcoordinate\n",
       "     0,                        !- Vertex 3 Xcoordinate\n",
       "     1.7799999999999998,       !- Vertex 3 Ycoordinate\n",
       "     0,                        !- Vertex 3 Zcoordinate\n",
       "     0,                        !- Vertex 4 Xcoordinate\n",
       "     3.15,                     !- Vertex 4 Ycoordinate\n",
       "     0;                        !- Vertex 4 Zcoordinate,\n",
       " \n",
       " BUILDINGSURFACE:DETAILED,\n",
       "     Block 00 Storey 0 Roof 0001,    !- Name\n",
       "     roof,                     !- Surface Type\n",
       "     Project Flat Roof,        !- Construction Name\n",
       "     Block 00 Storey 0,        !- Zone Name\n",
       "     ,                         !- Space Name\n",
       "     outdoors,                 !- Outside Boundary Condition\n",
       "     ,                         !- Outside Boundary Condition Object\n",
       "     SunExposed,               !- Sun Exposure\n",
       "     WindExposed,              !- Wind Exposure\n",
       "     autocalculate,            !- View Factor to Ground\n",
       "     autocalculate,            !- Number of Vertices\n",
       "     1.7,                      !- Vertex 1 Xcoordinate\n",
       "     1.7799999999999998,       !- Vertex 1 Ycoordinate\n",
       "     3.05,                     !- Vertex 1 Zcoordinate\n",
       "     1.7,                      !- Vertex 2 Xcoordinate\n",
       "     3.15,                     !- Vertex 2 Ycoordinate\n",
       "     3.05,                     !- Vertex 2 Zcoordinate\n",
       "     0,                        !- Vertex 3 Xcoordinate\n",
       "     3.15,                     !- Vertex 3 Ycoordinate\n",
       "     3.05,                     !- Vertex 3 Zcoordinate\n",
       "     0,                        !- Vertex 4 Xcoordinate\n",
       "     1.7799999999999998,       !- Vertex 4 Ycoordinate\n",
       "     3.05;                     !- Vertex 4 Zcoordinate,\n",
       " \n",
       " BUILDINGSURFACE:DETAILED,\n",
       "     Block 00 Storey 0 Wall 0001_1,    !- Name\n",
       "     wall,                     !- Surface Type\n",
       "     Project Partition,        !- Construction Name\n",
       "     Block 00 Storey 0,        !- Zone Name\n",
       "     ,                         !- Space Name\n",
       "     surface,                  !- Outside Boundary Condition\n",
       "     Block 02 Storey 0 Wall 0003_1,    !- Outside Boundary Condition Object\n",
       "     NoSun,                    !- Sun Exposure\n",
       "     NoWind,                   !- Wind Exposure\n",
       "     autocalculate,            !- View Factor to Ground\n",
       "     autocalculate,            !- Number of Vertices\n",
       "     1.7,                      !- Vertex 1 Xcoordinate\n",
       "     1.779999999795109,        !- Vertex 1 Ycoordinate\n",
       "     3.0499999998137355,       !- Vertex 1 Zcoordinate\n",
       "     1.7,                      !- Vertex 2 Xcoordinate\n",
       "     1.779999999795109,        !- Vertex 2 Ycoordinate\n",
       "     0,                        !- Vertex 2 Zcoordinate\n",
       "     1.7,                      !- Vertex 3 Xcoordinate\n",
       "     1.7999999998137355,       !- Vertex 3 Ycoordinate\n",
       "     0,                        !- Vertex 3 Zcoordinate\n",
       "     1.7,                      !- Vertex 4 Xcoordinate\n",
       "     1.7999999998137355,       !- Vertex 4 Ycoordinate\n",
       "     3.0499999998137355;       !- Vertex 4 Zcoordinate,\n",
       " \n",
       " BUILDINGSURFACE:DETAILED,\n",
       "     Block 00 Storey 0 Wall 0001_2,    !- Name\n",
       "     wall,                     !- Surface Type\n",
       "     Project Partition,        !- Construction Name\n",
       "     Block 00 Storey 0,        !- Zone Name\n",
       "     ,                         !- Space Name\n",
       "     surface,                  !- Outside Boundary Condition\n",
       "     Block 07 Storey 0 Wall 0003_1,    !- Outside Boundary Condition Object\n",
       "     NoSun,                    !- Sun Exposure\n",
       "     NoWind,                   !- Wind Exposure\n",
       "     autocalculate,            !- View Factor to Ground\n",
       "     autocalculate,            !- Number of Vertices\n",
       "     1.7,                      !- Vertex 1 Xcoordinate\n",
       "     1.7999999998137355,       !- Vertex 1 Ycoordinate\n",
       "     3.0499999998137355,       !- Vertex 1 Zcoordinate\n",
       "     1.7,                      !- Vertex 2 Xcoordinate\n",
       "     1.7999999998137355,       !- Vertex 2 Ycoordinate\n",
       "     0,                        !- Vertex 2 Zcoordinate\n",
       "     1.7,                      !- Vertex 3 Xcoordinate\n",
       "     3.1499999999068677,       !- Vertex 3 Ycoordinate\n",
       "     0,                        !- Vertex 3 Zcoordinate\n",
       "     1.7,                      !- Vertex 4 Xcoordinate\n",
       "     3.1499999999068677,       !- Vertex 4 Ycoordinate\n",
       "     3.0499999998137355;       !- Vertex 4 Zcoordinate,\n",
       " \n",
       " BUILDINGSURFACE:DETAILED,\n",
       "     Block 00 Storey 0 Wall 0004_1,    !- Name\n",
       "     wall,                     !- Surface Type\n",
       "     Project Partition,        !- Construction Name\n",
       "     Block 00 Storey 0,        !- Zone Name\n",
       "     ,                         !- Space Name\n",
       "     surface,                  !- Outside Boundary Condition\n",
       "     Block 01 Storey 0 Wall 0002_1,    !- Outside Boundary Condition Object\n",
       "     NoSun,                    !- Sun Exposure\n",
       "     NoWind,                   !- Wind Exposure\n",
       "     autocalculate,            !- View Factor to Ground\n",
       "     autocalculate,            !- Number of Vertices\n",
       "     0,                        !- Vertex 1 Xcoordinate\n",
       "     1.7799999999999998,       !- Vertex 1 Ycoordinate\n",
       "     3.0499999998137355,       !- Vertex 1 Zcoordinate\n",
       "     0,                        !- Vertex 2 Xcoordinate\n",
       "     1.7799999999999998,       !- Vertex 2 Ycoordinate\n",
       "     0,                        !- Vertex 2 Zcoordinate\n",
       "     1.6999999997206032,       !- Vertex 3 Xcoordinate\n",
       "     1.7799999999999998,       !- Vertex 3 Ycoordinate\n",
       "     0,                        !- Vertex 3 Zcoordinate\n",
       "     1.6999999997206032,       !- Vertex 4 Xcoordinate\n",
       "     1.7799999999999998,       !- Vertex 4 Ycoordinate\n",
       "     3.0499999998137355;       !- Vertex 4 Zcoordinate]"
      ]
     },
     "execution_count": 146,
     "metadata": {},
     "output_type": "execute_result"
    }
   ],
   "source": [
    "get_zones(idf)[0].zonesurfaces"
   ]
  },
  {
   "cell_type": "code",
   "execution_count": 144,
   "metadata": {},
   "outputs": [
    {
     "data": {
      "text/plain": [
       "{}"
      ]
     },
     "execution_count": 144,
     "metadata": {},
     "output_type": "execute_result"
    }
   ],
   "source": [
    "idf.getsubsurfaces()[0][\"__functions\"]"
   ]
  },
  {
   "cell_type": "code",
   "execution_count": 137,
   "metadata": {},
   "outputs": [
    {
     "name": "stdout",
     "output_type": "stream",
     "text": [
      "Block 02 Storey 0 Wall 0001_2 Door 89.99999999999997\n",
      "Block 02 Storey 0 Wall 0001_1 Door 89.99999999999999\n",
      "Block 02 Storey 0 Wall 0001_1 Door 89.99999999999999\n",
      "Block 02 Storey 0 Wall 0001_2 Door 89.99999999999997\n"
     ]
    }
   ],
   "source": [
    "G, pos, edge_map = create_graph(idf, path_to_input)"
   ]
  },
  {
   "cell_type": "code",
   "execution_count": 128,
   "metadata": {},
   "outputs": [],
   "source": [
    "room_map = create_room_map(path_to_input)"
   ]
  },
  {
   "cell_type": "code",
   "execution_count": 129,
   "metadata": {},
   "outputs": [
    {
     "data": {
      "text/plain": [
       "{0: 'kitchen',\n",
       " 1: 'living',\n",
       " 2: 'transit',\n",
       " 3: 'bedroom_2',\n",
       " 4: 'bedroom',\n",
       " 5: 'closet',\n",
       " 6: 'transit_2',\n",
       " 7: 'bath'}"
      ]
     },
     "execution_count": 129,
     "metadata": {},
     "output_type": "execute_result"
    }
   ],
   "source": [
    "room_map"
   ]
  },
  {
   "cell_type": "code",
   "execution_count": 138,
   "metadata": {},
   "outputs": [
    {
     "data": {
      "image/png": "[encoded data removed]",
      "text/plain": [
       "<Figure size 640x480 with 1 Axes>"
      ]
     },
     "metadata": {},
     "output_type": "display_data"
    }
   ],
   "source": [
    "draw_graph_with_node_labels(G, pos)"
   ]
  },
  {
   "cell_type": "code",
   "execution_count": 98,
   "metadata": {},
   "outputs": [],
   "source": [
    "G = nx.Graph()"
   ]
  },
  {
   "cell_type": "code",
   "execution_count": 101,
   "metadata": {},
   "outputs": [],
   "source": [
    "hi = {\"hi\": 2, \"bye\": 3}\n",
    "G.add_node(\"hhii\", data=hi)"
   ]
  },
  {
   "cell_type": "code",
   "execution_count": 103,
   "metadata": {},
   "outputs": [
    {
     "data": {
      "text/plain": [
       "NodeDataView({'hhii': {'data': {'hi': 2, 'bye': 3}}})"
      ]
     },
     "execution_count": 103,
     "metadata": {},
     "output_type": "execute_result"
    }
   ],
   "source": [
    "G.nodes(data=True)"
   ]
  },
  {
   "cell_type": "code",
   "execution_count": 107,
   "metadata": {},
   "outputs": [
    {
     "name": "stdout",
     "output_type": "stream",
     "text": [
      "2.1\n"
     ]
    }
   ],
   "source": [
    "name = \"Block 01 Storey 0 Wall 0002_1 Door\"\n",
    "temp = name.split(\" \")[-2]\n",
    "res = temp.split(\"_\")\n",
    "\n",
    "if len(res) == 1:\n",
    "    print(int(res[0]))\n",
    "elif len(res) == 2:\n",
    "    r = int(res[0])\n",
    "    s = int(res[1])\n",
    "    print(float(f\"{r}.{s}\"))"
   ]
  },
  {
   "cell_type": "code",
   "execution_count": 97,
   "metadata": {},
   "outputs": [
    {
     "data": {
      "text/plain": [
       "{'Block 00 Storey 0': ['Block 01 Storey 0 Wall 0002_1 Door',\n",
       "  'Block 00 Storey 0 Wall 0003 Window',\n",
       "  'Block 00 Storey 0 Wall 0002 Window'],\n",
       " 'Block 01 Storey 0': ['Block 01 Storey 0 Wall 0001_1 Door',\n",
       "  'Block 01 Storey 0 Wall 0002_1 Door',\n",
       "  'Block 01 Storey 0 Wall 0003 Window',\n",
       "  'Block 01 Storey 0 Wall 0004 Window'],\n",
       " 'Block 02 Storey 0': ['Block 01 Storey 0 Wall 0001_1 Door',\n",
       "  'Block 02 Storey 0 Wall 0001_2 Door',\n",
       "  'Block 02 Storey 0 Wall 0001_1 Door',\n",
       "  'Block 02 Storey 0 Wall 0002_2 Door'],\n",
       " 'Block 03 Storey 0': ['Block 02 Storey 0 Wall 0001_1 Door',\n",
       "  'Block 03 Storey 0 Wall 0002_2 Door',\n",
       "  'Block 03 Storey 0 Wall 0004 Window'],\n",
       " 'Block 04 Storey 0': ['Block 06 Storey 0 Wall 0002_1 Door',\n",
       "  'Block 04 Storey 0 Wall 0001 Window',\n",
       "  'Block 04 Storey 0 Wall 0002 Window'],\n",
       " 'Block 05 Storey 0': [],\n",
       " 'Block 06 Storey 0': ['Block 02 Storey 0 Wall 0001_2 Door',\n",
       "  'Block 06 Storey 0 Wall 0002_1 Door',\n",
       "  'Block 03 Storey 0 Wall 0002_2 Door'],\n",
       " 'Block 07 Storey 0': ['Block 02 Storey 0 Wall 0002_2 Door']}"
      ]
     },
     "execution_count": 97,
     "metadata": {},
     "output_type": "execute_result"
    }
   ],
   "source": []
  }
 ],
 "metadata": {
  "kernelspec": {
   "display_name": "gqenv",
   "language": "python",
   "name": "python3"
  },
  "language_info": {
   "codemirror_mode": {
    "name": "ipython",
    "version": 3
   },
   "file_extension": ".py",
   "mimetype": "text/x-python",
   "name": "python",
   "nbconvert_exporter": "python",
   "pygments_lexer": "ipython3",
   "version": "3.10.14"
  }
 },
 "nbformat": 4,
 "nbformat_minor": 2
}
