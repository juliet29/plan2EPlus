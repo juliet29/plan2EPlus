{
 "cells": [
  {
   "cell_type": "code",
   "execution_count": 2,
   "metadata": {},
   "outputs": [],
   "source": [
    "import matplotlib.pyplot as plt\n"
   ]
  },
  {
   "cell_type": "code",
   "execution_count": 3,
   "metadata": {},
   "outputs": [],
   "source": [
    "%load_ext autoreload\n",
    "%autoreload 2"
   ]
  },
  {
   "cell_type": "code",
   "execution_count": 4,
   "metadata": {},
   "outputs": [],
   "source": [
    "from pathlib import Path\n",
    "import sys\n",
    "sys.path.append(str(Path.cwd() / \"_scripts\"))"
   ]
  },
  {
   "cell_type": "code",
   "execution_count": 236,
   "metadata": {},
   "outputs": [],
   "source": [
    "import networkx as nx\n",
    "from eppy.bunch_subclass import EpBunch\n",
    "from geomeppy import IDF\n",
    "from geomeppy import extractor\n",
    "import seaborn as sns\n",
    "import polars as pl\n",
    "import numpy as np\n",
    "from dataclasses import dataclass\n",
    "\n",
    "from case_edits.ezcase import *\n",
    "from helpers.helpers import *\n",
    "from helpers.variables import *\n",
    "from helpers.variable_interfaces import *\n",
    "from setup.setup import *\n",
    "from setup.plots import *\n",
    "from setup.data_wrangle import *\n",
    "from analysis.data_on_network import *\n",
    "\n",
    "import matplotlib.cm as cm\n",
    "import matplotlib as mpl\n",
    "\n",
    "\n",
    "from matplotlib.colors import Colormap, Normalize, LinearSegmentedColormap\n",
    "\n",
    "from helpers.ep_helpers import *\n",
    "from subsurfaces.creator import SubsurfaceCreator\n",
    "from airflow_network.airboundary import *\n",
    "from subsurfaces.logic import find_surface_connecting_two_zones\n",
    "from analysis.dataframes import *\n",
    "\n",
    "from eppy.constructions import thermal_properties\n",
    "from constructions.constructions import *\n",
    "from constructions.unified_constructions import create_unified_constructions_idf\n",
    "import re\n"
   ]
  },
  {
   "cell_type": "code",
   "execution_count": 241,
   "metadata": {},
   "outputs": [
    {
     "data": {
      "text/plain": [
       "[\n",
       " Construction,\n",
       "     Light Exterior Wall,      !- Name\n",
       "     F08 Metal surface,        !- Outside Layer\n",
       "     I02 50mm insulation board,    !- Layer 2\n",
       "     F04 Wall air space resistance,    !- Layer 3\n",
       "     G01a 19mm gypsum board;    !- Layer 4,\n",
       " \n",
       " Construction,\n",
       "     Light Roof/Ceiling,       !- Name\n",
       "     M11 100mm lightweight concrete,    !- Outside Layer\n",
       "     F05 Ceiling air space resistance,    !- Layer 2\n",
       "     F16 Acoustic tile;        !- Layer 3,\n",
       " \n",
       " Construction,\n",
       "     Light Partitions,         !- Name\n",
       "     G01a 19mm gypsum board,    !- Outside Layer\n",
       "     F04 Wall air space resistance,    !- Layer 2\n",
       "     G01a 19mm gypsum board;    !- Layer 3,\n",
       " \n",
       " Construction,\n",
       "     Light Floor,              !- Name\n",
       "     F16 Acoustic tile,        !- Outside Layer\n",
       "     F05 Ceiling air space resistance,    !- Layer 2\n",
       "     M11 100mm lightweight concrete;    !- Layer 3,\n",
       " \n",
       " Construction,\n",
       "     Light Furnishings,        !- Name\n",
       "     G05 25mm wood;            !- Outside Layer,\n",
       " \n",
       " Construction,\n",
       "     Light Window Sgl Clr 3mm,    !- Name\n",
       "     CLEAR 3MM;                !- Outside Layer]"
      ]
     },
     "execution_count": 241,
     "metadata": {},
     "output_type": "execute_result"
    }
   ],
   "source": [
    "get_cons_set_by_type(\"Light\")"
   ]
  },
  {
   "cell_type": "code",
   "execution_count": 156,
   "metadata": {},
   "outputs": [
    {
     "data": {
      "text/plain": [
       "CaseData(case_name='test', idf=<geomeppy.idf.IDF object at 0x1105aa890>, sql=Energy SQLiteResult: /Users/julietnwagwuume-ezeoke/_UILCode/gqe-phd/geomeppy/cases/tests/test25_airwall/results/eplusout.sql, path_to_input=PosixPath('/Users/julietnwagwuume-ezeoke/_UILCode/gqe-phd/svg2plan/outputs2/case_bol_5'), path_to_output=PosixPath('/Users/julietnwagwuume-ezeoke/_UILCode/gqe-phd/geomeppy/cases/tests/test25_airwall'))"
      ]
     },
     "execution_count": 156,
     "metadata": {},
     "output_type": "execute_result"
    }
   ],
   "source": [
    "# cases = retrieve_cases(AIRBOUNDARY_FOLDER)\n",
    "# case = cases[0]\n",
    "\n",
    "case = retrieve_test_case(\"test25_airwall\")\n",
    "case"
   ]
  },
  {
   "cell_type": "code",
   "execution_count": 237,
   "metadata": {},
   "outputs": [
    {
     "data": {
      "text/plain": [
       "<geomeppy.idf.IDF at 0x111264280>"
      ]
     },
     "execution_count": 237,
     "metadata": {},
     "output_type": "execute_result"
    }
   ],
   "source": [
    "idf = create_unified_constructions_idf()\n",
    "idf"
   ]
  },
  {
   "cell_type": "code",
   "execution_count": 240,
   "metadata": {},
   "outputs": [
    {
     "data": {
      "text/plain": [
       "[\n",
       " Construction,\n",
       "     Light Window Sgl Clr 3mm,    !- Name\n",
       "     CLEAR 3MM;                !- Outside Layer,\n",
       " \n",
       " Construction,\n",
       "     Medium Window Sgl Clr 6mm,    !- Name\n",
       "     CLEAR 6MM;                !- Outside Layer,\n",
       " \n",
       " Construction,\n",
       "     Heavy Window Sgl Clr 3mm,    !- Name\n",
       "     CLEAR 3MM;                !- Outside Layer]"
      ]
     },
     "execution_count": 240,
     "metadata": {},
     "output_type": "execute_result"
    }
   ],
   "source": [
    "pattern = re.compile(\"Sgl Clr \\dmm\")\n",
    "wcons = [i for i in idf.idfobjects[\"CONSTRUCTION\"] if pattern.findall(i.Name)]\n",
    "wcons\n"
   ]
  },
  {
   "cell_type": "code",
   "execution_count": 235,
   "metadata": {},
   "outputs": [
    {
     "data": {
      "text/plain": [
       "[\n",
       " Construction,\n",
       "     Light Window Sgl Clr 3mm,    !- Name\n",
       "     CLEAR 3MM;                !- Outside Layer,\n",
       " \n",
       " Construction,\n",
       "     Medium Window Sgl Clr 6mm,    !- Name\n",
       "     CLEAR 6MM;                !- Outside Layer,\n",
       " \n",
       " Construction,\n",
       "     Heavy Window Sgl Clr 3mm,    !- Name\n",
       "     CLEAR 3MM;                !- Outside Layer]"
      ]
     },
     "execution_count": 235,
     "metadata": {},
     "output_type": "execute_result"
    }
   ],
   "source": [
    "wcons = [i for i in idf.idfobjects[\"CONSTRUCTION\"] if pattern.match(i.Name)]\n",
    "\n",
    "\n",
    "new_names = [f\"{t} Window {i.Name}\" for t,i in zip([\"Light\", \"Medium\", \"Heavy\"] ,wcons)]\n",
    "for i, n in zip(wcons, new_names):\n",
    "    i.Name = n\n",
    "\n",
    "wcons"
   ]
  },
  {
   "cell_type": "code",
   "execution_count": 243,
   "metadata": {},
   "outputs": [],
   "source": [
    "idf = assign_cons_set(case.idf, \"Light\")"
   ]
  },
  {
   "cell_type": "code",
   "execution_count": 244,
   "metadata": {},
   "outputs": [
    {
     "data": {
      "text/plain": [
       "[\n",
       " DOOR:INTERZONE,\n",
       "     Block 06 Storey 0 Wall 0002_1 Door,    !- Name\n",
       "     Light Furnishings,        !- Construction Name\n",
       "     Block 06 Storey 0 Wall 0002_1,    !- Building Surface Name\n",
       "     Block 06 Storey 0 Wall 0002_1 Door Partner,    !- Outside Boundary Condition Object\n",
       "     1.0,                      !- Multiplier\n",
       "     3.650000e-02,             !- Starting X Coordinate\n",
       "     3.050000e-02,             !- Starting Z Coordinate\n",
       "     0.6570000004023314,       !- Length\n",
       "     2.744999999832362;        !- Height,\n",
       " \n",
       " DOOR:INTERZONE,\n",
       "     Block 06 Storey 0 Wall 0002_1 Door Partner,    !- Name\n",
       "     Light Furnishings,        !- Construction Name\n",
       "     Block 00 Storey 0 Wall 0004_2,    !- Building Surface Name\n",
       "     Block 06 Storey 0 Wall 0002_1 Door,    !- Outside Boundary Condition Object\n",
       "     1.0,                      !- Multiplier\n",
       "     3.650000e-02,             !- Starting X Coordinate\n",
       "     3.050000e-02,             !- Starting Z Coordinate\n",
       "     0.6570000004023314,       !- Length\n",
       "     2.744999999832362;        !- Height,\n",
       " \n",
       " DOOR:INTERZONE,\n",
       "     Block 03 Storey 0 Wall 0001_1 Door,    !- Name\n",
       "     Light Furnishings,        !- Construction Name\n",
       "     Block 03 Storey 0 Wall 0001_1,    !- Building Surface Name\n",
       "     Block 03 Storey 0 Wall 0001_1 Door Partner,    !- Outside Boundary Condition Object\n",
       "     1.0,                      !- Multiplier\n",
       "     1.000000e-01,             !- Starting X Coordinate\n",
       "     3.050000e-02,             !- Starting Z Coordinate\n",
       "     0.81,                     !- Length\n",
       "     2.03;                     !- Height,\n",
       " \n",
       " DOOR:INTERZONE,\n",
       "     Block 03 Storey 0 Wall 0001_1 Door Partner,    !- Name\n",
       "     Light Furnishings,        !- Construction Name\n",
       "     Block 06 Storey 0 Wall 0003_2,    !- Building Surface Name\n",
       "     Block 03 Storey 0 Wall 0001_1 Door,    !- Outside Boundary Condition Object\n",
       "     1.0,                      !- Multiplier\n",
       "     1.000000e-01,             !- Starting X Coordinate\n",
       "     3.050000e-02,             !- Starting Z Coordinate\n",
       "     0.81,                     !- Length\n",
       "     2.03;                     !- Height,\n",
       " \n",
       " DOOR:INTERZONE,\n",
       "     Block 05 Storey 0 Wall 0002_2 Door,    !- Name\n",
       "     Light Furnishings,        !- Construction Name\n",
       "     Block 05 Storey 0 Wall 0002_2,    !- Building Surface Name\n",
       "     Block 05 Storey 0 Wall 0002_2 Door Partner,    !- Outside Boundary Condition Object\n",
       "     1.0,                      !- Multiplier\n",
       "     3.650000e-02,             !- Starting X Coordinate\n",
       "     3.050000e-02,             !- Starting Z Coordinate\n",
       "     0.6570000004023314,       !- Length\n",
       "     2.744999999832362;        !- Height,\n",
       " \n",
       " DOOR:INTERZONE,\n",
       "     Block 05 Storey 0 Wall 0002_2 Door Partner,    !- Name\n",
       "     Light Furnishings,        !- Construction Name\n",
       "     Block 06 Storey 0 Wall 0004_1,    !- Building Surface Name\n",
       "     Block 05 Storey 0 Wall 0002_2 Door,    !- Outside Boundary Condition Object\n",
       "     1.0,                      !- Multiplier\n",
       "     3.650000e-02,             !- Starting X Coordinate\n",
       "     3.050000e-02,             !- Starting Z Coordinate\n",
       "     0.6570000004023314,       !- Length\n",
       "     2.744999999832362;        !- Height,\n",
       " \n",
       " DOOR:INTERZONE,\n",
       "     Block 05 Storey 0 Wall 0002_1 Door,    !- Name\n",
       "     Light Furnishings,        !- Construction Name\n",
       "     Block 05 Storey 0 Wall 0002_1,    !- Building Surface Name\n",
       "     Block 05 Storey 0 Wall 0002_1 Door Partner,    !- Outside Boundary Condition Object\n",
       "     1.0,                      !- Multiplier\n",
       "     4.800000e-01,             !- Starting X Coordinate\n",
       "     3.050000e-02,             !- Starting Z Coordinate\n",
       "     0.81,                     !- Length\n",
       "     2.03;                     !- Height,\n",
       " \n",
       " DOOR:INTERZONE,\n",
       "     Block 05 Storey 0 Wall 0002_1 Door Partner,    !- Name\n",
       "     Light Furnishings,        !- Construction Name\n",
       "     Block 04 Storey 0 Wall 0004_1,    !- Building Surface Name\n",
       "     Block 05 Storey 0 Wall 0002_1 Door,    !- Outside Boundary Condition Object\n",
       "     1.0,                      !- Multiplier\n",
       "     4.800000e-01,             !- Starting X Coordinate\n",
       "     3.050000e-02,             !- Starting Z Coordinate\n",
       "     0.81,                     !- Length\n",
       "     2.03;                     !- Height,\n",
       " \n",
       " DOOR:INTERZONE,\n",
       "     Block 02 Storey 0 Wall 0002_1 Door,    !- Name\n",
       "     Light Furnishings,        !- Construction Name\n",
       "     Block 02 Storey 0 Wall 0002_1,    !- Building Surface Name\n",
       "     Block 02 Storey 0 Wall 0002_1 Door Partner,    !- Outside Boundary Condition Object\n",
       "     1.0,                      !- Multiplier\n",
       "     4.800000e-01,             !- Starting X Coordinate\n",
       "     3.050000e-02,             !- Starting Z Coordinate\n",
       "     0.81,                     !- Length\n",
       "     2.03;                     !- Height,\n",
       " \n",
       " DOOR:INTERZONE,\n",
       "     Block 02 Storey 0 Wall 0002_1 Door Partner,    !- Name\n",
       "     Light Furnishings,        !- Construction Name\n",
       "     Block 00 Storey 0 Wall 0004_1,    !- Building Surface Name\n",
       "     Block 02 Storey 0 Wall 0002_1 Door,    !- Outside Boundary Condition Object\n",
       "     1.0,                      !- Multiplier\n",
       "     4.800000e-01,             !- Starting X Coordinate\n",
       "     3.050000e-02,             !- Starting Z Coordinate\n",
       "     0.81,                     !- Length\n",
       "     2.03;                     !- Height,\n",
       " \n",
       " WINDOW,\n",
       "     Block 01 Storey 0 Wall 0001 Window,    !- Name\n",
       "     Light Window Sgl Clr 3mm,    !- Construction Name\n",
       "     Block 01 Storey 0 Wall 0001,    !- Building Surface Name\n",
       "     ,                         !- Frame and Divider Name\n",
       "     1.0,                      !- Multiplier\n",
       "     2.865,                    !- Starting X Coordinate\n",
       "     1.4994999999999998,       !- Starting Z Coordinate\n",
       "     0.71,                     !- Length\n",
       "     1.52;                     !- Height,\n",
       " \n",
       " WINDOW,\n",
       "     Block 01 Storey 0 Wall 0002 Window,    !- Name\n",
       "     Light Window Sgl Clr 3mm,    !- Construction Name\n",
       "     Block 01 Storey 0 Wall 0002,    !- Building Surface Name\n",
       "     ,                         !- Frame and Divider Name\n",
       "     1.0,                      !- Multiplier\n",
       "     1.02,                     !- Starting X Coordinate\n",
       "     1.4994999999999998,       !- Starting Z Coordinate\n",
       "     0.71,                     !- Length\n",
       "     1.52;                     !- Height,\n",
       " \n",
       " WINDOW,\n",
       "     Block 00 Storey 0 Wall 0003 Window,    !- Name\n",
       "     Light Window Sgl Clr 3mm,    !- Construction Name\n",
       "     Block 00 Storey 0 Wall 0003,    !- Building Surface Name\n",
       "     ,                         !- Frame and Divider Name\n",
       "     1.0,                      !- Multiplier\n",
       "     0.7050000000000001,       !- Starting X Coordinate\n",
       "     1.4994999999999998,       !- Starting Z Coordinate\n",
       "     0.71,                     !- Length\n",
       "     1.52;                     !- Height,\n",
       " \n",
       " WINDOW,\n",
       "     Block 05 Storey 0 Wall 0003 Window,    !- Name\n",
       "     Light Window Sgl Clr 3mm,    !- Construction Name\n",
       "     Block 05 Storey 0 Wall 0003,    !- Building Surface Name\n",
       "     ,                         !- Frame and Divider Name\n",
       "     1.0,                      !- Multiplier\n",
       "     0.7,                      !- Starting X Coordinate\n",
       "     1.4994999999999998,       !- Starting Z Coordinate\n",
       "     0.71,                     !- Length\n",
       "     1.52;                     !- Height,\n",
       " \n",
       " WINDOW,\n",
       "     Block 00 Storey 0 Wall 0002 Window,    !- Name\n",
       "     Light Window Sgl Clr 3mm,    !- Construction Name\n",
       "     Block 00 Storey 0 Wall 0002,    !- Building Surface Name\n",
       "     ,                         !- Frame and Divider Name\n",
       "     1.0,                      !- Multiplier\n",
       "     0.895,                    !- Starting X Coordinate\n",
       "     1.4994999999999998,       !- Starting Z Coordinate\n",
       "     0.71,                     !- Length\n",
       "     1.52;                     !- Height,\n",
       " \n",
       " WINDOW,\n",
       "     Block 05 Storey 0 Wall 0004 Window,    !- Name\n",
       "     Light Window Sgl Clr 3mm,    !- Construction Name\n",
       "     Block 05 Storey 0 Wall 0004,    !- Building Surface Name\n",
       "     ,                         !- Frame and Divider Name\n",
       "     1.0,                      !- Multiplier\n",
       "     0.895,                    !- Starting X Coordinate\n",
       "     1.4994999999999998,       !- Starting Z Coordinate\n",
       "     0.71,                     !- Length\n",
       "     1.52;                     !- Height,\n",
       " \n",
       " WINDOW,\n",
       "     Block 01 Storey 0 Wall 0004 Window,    !- Name\n",
       "     Light Window Sgl Clr 3mm,    !- Construction Name\n",
       "     Block 01 Storey 0 Wall 0004,    !- Building Surface Name\n",
       "     ,                         !- Frame and Divider Name\n",
       "     1.0,                      !- Multiplier\n",
       "     1.02,                     !- Starting X Coordinate\n",
       "     1.4994999999999998,       !- Starting Z Coordinate\n",
       "     0.71,                     !- Length\n",
       "     1.52;                     !- Height]"
      ]
     },
     "execution_count": 244,
     "metadata": {},
     "output_type": "execute_result"
    }
   ],
   "source": [
    "idf.getsubsurfaces()"
   ]
  },
  {
   "cell_type": "code",
   "execution_count": 165,
   "metadata": {},
   "outputs": [],
   "source": [
    "path_to_constructions = Path.cwd() / \"cases\" / \"constructions\"\n",
    "cidf = IDF(path_to_constructions / \"ASHRAE_2005_HOF_Materials.idf\")\n",
    "new_idf = IDF(path_to_constructions / \"CombinedConstructs.idf\")\n",
    "extractor.copy_constructions(cidf, new_idf)"
   ]
  },
  {
   "cell_type": "code",
   "execution_count": 205,
   "metadata": {},
   "outputs": [
    {
     "data": {
      "text/plain": [
       "<geomeppy.idf.IDF at 0x11114e110>"
      ]
     },
     "execution_count": 205,
     "metadata": {},
     "output_type": "execute_result"
    }
   ],
   "source": [
    "\n",
    "# new_idf.touch()\n",
    "new_idf"
   ]
  },
  {
   "cell_type": "code",
   "execution_count": 206,
   "metadata": {},
   "outputs": [
    {
     "data": {
      "text/plain": [
       "<geomeppy.idf.IDF at 0x11114e110>"
      ]
     },
     "execution_count": 206,
     "metadata": {},
     "output_type": "execute_result"
    }
   ],
   "source": []
  },
  {
   "cell_type": "code",
   "execution_count": 166,
   "metadata": {},
   "outputs": [
    {
     "data": {
      "text/plain": [
       "<geomeppy.idf.IDF at 0x15f19b790>"
      ]
     },
     "execution_count": 166,
     "metadata": {},
     "output_type": "execute_result"
    }
   ],
   "source": [
    "win_cons_idf = IDF(path_to_constructions / \"WindowConstructs.idf\")\n",
    "win_glass_mat_idf = IDF(path_to_constructions / \"WindowGlassMaterials.idf\")\n",
    "augmented_win_cons_idf = extractor.copy_constructions(win_glass_mat_idf, win_cons_idf)"
   ]
  },
  {
   "cell_type": "code",
   "execution_count": 167,
   "metadata": {},
   "outputs": [
    {
     "data": {
      "text/plain": [
       "<geomeppy.idf.IDF at 0x110665330>"
      ]
     },
     "execution_count": 167,
     "metadata": {},
     "output_type": "execute_result"
    }
   ],
   "source": [
    "\n",
    "win_glass_mat_idf"
   ]
  },
  {
   "cell_type": "code",
   "execution_count": null,
   "metadata": {},
   "outputs": [],
   "source": [
    "win_glass_mat_idf.idfobjects[\"WindowMaterial:Glazing\".upper()]"
   ]
  },
  {
   "cell_type": "code",
   "execution_count": 185,
   "metadata": {},
   "outputs": [
    {
     "data": {
      "text/plain": [
       "<geomeppy.idf.IDF at 0x15f19b790>"
      ]
     },
     "execution_count": 185,
     "metadata": {},
     "output_type": "execute_result"
    }
   ],
   "source": [
    "augmented_win_cons_idf = extractor.copy_constructions(win_glass_mat_idf, win_cons_idf)\n"
   ]
  },
  {
   "cell_type": "code",
   "execution_count": 200,
   "metadata": {},
   "outputs": [],
   "source": [
    "import re\n",
    "from constructions.materials import get_construction_set_materials, get_construction_materials"
   ]
  },
  {
   "cell_type": "code",
   "execution_count": 196,
   "metadata": {},
   "outputs": [],
   "source": [
    "pattern = re.compile(\"Sgl Clr \\dmm\")"
   ]
  },
  {
   "cell_type": "code",
   "execution_count": 198,
   "metadata": {},
   "outputs": [
    {
     "data": {
      "text/plain": [
       "[\n",
       " Construction,\n",
       "     Sgl Clr 3mm,              !- Name\n",
       "     CLEAR 3MM;                !- Outside Layer,\n",
       " \n",
       " Construction,\n",
       "     Sgl Clr 6mm,              !- Name\n",
       "     CLEAR 6MM;                !- Outside Layer]"
      ]
     },
     "execution_count": 198,
     "metadata": {},
     "output_type": "execute_result"
    }
   ],
   "source": [
    "wcons = [i for i in augmented_win_cons_idf.idfobjects[\"CONSTRUCTION\"] if pattern.match(i.Name)]\n",
    "wcons"
   ]
  },
  {
   "cell_type": "code",
   "execution_count": 212,
   "metadata": {},
   "outputs": [],
   "source": [
    "new_names = [f\"{t} Window {i.Name}\" for t,i in zip([\"Light\", \"Heavy\"] ,wcons)]\n",
    "for i, n in zip(wcons, new_names):\n",
    "    i.Name = n"
   ]
  },
  {
   "cell_type": "code",
   "execution_count": 213,
   "metadata": {},
   "outputs": [
    {
     "data": {
      "text/plain": [
       "[\n",
       " Construction,\n",
       "     Light Window Sgl Clr 3mm,    !- Name\n",
       "     CLEAR 3MM;                !- Outside Layer,\n",
       " \n",
       " Construction,\n",
       "     Heavy Window Sgl Clr 6mm,    !- Name\n",
       "     CLEAR 6MM;                !- Outside Layer]"
      ]
     },
     "execution_count": 213,
     "metadata": {},
     "output_type": "execute_result"
    }
   ],
   "source": [
    "wcons"
   ]
  },
  {
   "cell_type": "code",
   "execution_count": 214,
   "metadata": {},
   "outputs": [
    {
     "data": {
      "text/plain": [
       "\n",
       "Construction,\n",
       "    Light Window Sgl Clr 3mm,    !- Name\n",
       "    CLEAR 3MM;                !- Outside Layer"
      ]
     },
     "execution_count": 214,
     "metadata": {},
     "output_type": "execute_result"
    }
   ],
   "source": [
    "med_window = new_idf.copyidfobject(wcons[0])\n",
    "med_window.Name = "
   ]
  },
  {
   "cell_type": "code",
   "execution_count": 204,
   "metadata": {},
   "outputs": [],
   "source": [
    "# find related objects.. \n",
    "wmats = get_construction_set_materials(wcons)\n"
   ]
  },
  {
   "cell_type": "code",
   "execution_count": 207,
   "metadata": {},
   "outputs": [],
   "source": [
    "res = wcons + wmats\n",
    "for i in res:\n",
    "    new_idf.copyidfobject(i)\n",
    "    "
   ]
  },
  {
   "cell_type": "code",
   "execution_count": 208,
   "metadata": {},
   "outputs": [],
   "source": [
    "new_idf.save()"
   ]
  },
  {
   "cell_type": "code",
   "execution_count": null,
   "metadata": {},
   "outputs": [],
   "source": [
    "# extract main constructions. "
   ]
  }
 ],
 "metadata": {
  "kernelspec": {
   "display_name": "gqenv",
   "language": "python",
   "name": "python3"
  },
  "language_info": {
   "codemirror_mode": {
    "name": "ipython",
    "version": 3
   },
   "file_extension": ".py",
   "mimetype": "text/x-python",
   "name": "python",
   "nbconvert_exporter": "python",
   "pygments_lexer": "ipython3",
   "version": "3.10.14"
  }
 },
 "nbformat": 4,
 "nbformat_minor": 2
}
