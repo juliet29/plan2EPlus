{
 "cells": [
  {
   "cell_type": "code",
   "execution_count": 2,
   "metadata": {},
   "outputs": [],
   "source": [
    "%load_ext autoreload\n",
    "%autoreload 2"
   ]
  },
  {
   "cell_type": "code",
   "execution_count": 3,
   "metadata": {},
   "outputs": [],
   "source": [
    "import sys\n",
    "from pathlib import Path\n",
    "\n",
    "sys.path.append(str(Path.cwd() / \"_scripts\"))"
   ]
  },
  {
   "cell_type": "code",
   "execution_count": 4,
   "metadata": {},
   "outputs": [],
   "source": [
    "import polars as pl\n",
    "from great_tables import GT\n",
    "import altair as alt\n",
    "\n",
    "from collections import namedtuple, defaultdict\n",
    "from itertools import product\n",
    "import functools"
   ]
  },
  {
   "cell_type": "code",
   "execution_count": 5,
   "metadata": {},
   "outputs": [],
   "source": [
    "from plan2eplus.helpers.variable_interfaces import all_variables as vars\n",
    "from plan2eplus.studies.analysis2.all_cases_v_time import create_space_and_site_dfs\n",
    "from plan2eplus.studies.experiments.name_splits import (\n",
    "    create_and_split_data_by_exp,\n",
    "    split_by_case_type_and_alias,\n",
    "    split_by_doors,\n",
    ")\n",
    "from plan2eplus.studies.experiments.retrieve import (\n",
    "    retrieve_comparison_groups,\n",
    ")\n",
    "from plan2eplus.studies.setup.data_wrangle2 import (\n",
    "    create_wide_dataframe_for_many_qois_and_cases,\n",
    ")\n",
    "\n",
    "from plan2eplus.helpers.helpers import chain_flatten, ContainsAsEqualsString\n",
    "\n",
    "from plan2eplus.studies.analysis2.experiment_charts import create_exp_chart, save_charts_for_all_groups\n",
    "\n",
    "from plan2eplus.studies.analysis2.experiment_tables import create_table, print_latex_for_all_tables"
   ]
  },
  {
   "cell_type": "markdown",
   "metadata": {},
   "source": [
    "### experimentation"
   ]
  },
  {
   "cell_type": "code",
   "execution_count": 29,
   "metadata": {},
   "outputs": [
    {
     "data": {
      "text/html": [
       "\n",
       "<style>\n",
       "  #altair-viz-4000a075e7cb45099ffd0ccde97217a8.vega-embed {\n",
       "    width: 100%;\n",
       "    display: flex;\n",
       "  }\n",
       "\n",
       "  #altair-viz-4000a075e7cb45099ffd0ccde97217a8.vega-embed details,\n",
       "  #altair-viz-4000a075e7cb45099ffd0ccde97217a8.vega-embed details summary {\n",
       "    position: relative;\n",
       "  }\n",
       "</style>\n",
       "<div id=\"altair-viz-4000a075e7cb45099ffd0ccde97217a8\"></div>\n",
       "<script type=\"text/javascript\">\n",
       "  var VEGA_DEBUG = (typeof VEGA_DEBUG == \"undefined\") ? {} : VEGA_DEBUG;\n",
       "  (function(spec, embedOpt){\n",
       "    let outputDiv = document.currentScript.previousElementSibling;\n",
       "    if (outputDiv.id !== \"altair-viz-4000a075e7cb45099ffd0ccde97217a8\") {\n",
       "      outputDiv = document.getElementById(\"altair-viz-4000a075e7cb45099ffd0ccde97217a8\");\n",
       "    }\n",
       "\n",
       "    const paths = {\n",
       "      \"vega\": \"https://cdn.jsdelivr.net/npm/vega@5?noext\",\n",
       "      \"vega-lib\": \"https://cdn.jsdelivr.net/npm/vega-lib?noext\",\n",
       "      \"vega-lite\": \"https://cdn.jsdelivr.net/npm/vega-lite@5.20.1?noext\",\n",
       "      \"vega-embed\": \"https://cdn.jsdelivr.net/npm/vega-embed@6?noext\",\n",
       "    };\n",
       "\n",
       "    function maybeLoadScript(lib, version) {\n",
       "      var key = `${lib.replace(\"-\", \"\")}_version`;\n",
       "      return (VEGA_DEBUG[key] == version) ?\n",
       "        Promise.resolve(paths[lib]) :\n",
       "        new Promise(function(resolve, reject) {\n",
       "          var s = document.createElement('script');\n",
       "          document.getElementsByTagName(\"head\")[0].appendChild(s);\n",
       "          s.async = true;\n",
       "          s.onload = () => {\n",
       "            VEGA_DEBUG[key] = version;\n",
       "            return resolve(paths[lib]);\n",
       "          };\n",
       "          s.onerror = () => reject(`Error loading script: ${paths[lib]}`);\n",
       "          s.src = paths[lib];\n",
       "        });\n",
       "    }\n",
       "\n",
       "    function showError(err) {\n",
       "      outputDiv.innerHTML = `<div class=\"error\" style=\"color:red;\">${err}</div>`;\n",
       "      throw err;\n",
       "    }\n",
       "\n",
       "    function displayChart(vegaEmbed) {\n",
       "      vegaEmbed(outputDiv, spec, embedOpt)\n",
       "        .catch(err => showError(`Javascript Error: ${err.message}<br>This usually means there's a typo in your chart specification. See the javascript console for the full traceback.`));\n",
       "    }\n",
       "\n",
       "    if(typeof define === \"function\" && define.amd) {\n",
       "      requirejs.config({paths});\n",
       "      let deps = [\"vega-embed\"];\n",
       "      require(deps, displayChart, err => showError(`Error loading script: ${err.message}`));\n",
       "    } else {\n",
       "      maybeLoadScript(\"vega\", \"5\")\n",
       "        .then(() => maybeLoadScript(\"vega-lite\", \"5.20.1\"))\n",
       "        .then(() => maybeLoadScript(\"vega-embed\", \"6\"))\n",
       "        .catch(showError)\n",
       "        .then(() => displayChart(vegaEmbed));\n",
       "    }\n",
       "  })({\"config\": {\"view\": {\"continuousWidth\": 300, \"continuousHeight\": 300}}, \"hconcat\": [{\"mark\": {\"type\": \"point\"}, \"encoding\": {\"shape\": {\"field\": \"exp_type\", \"sort\": [\"+30%\", \"Control\", \"-30%\"], \"title\": \"Window Area\", \"type\": \"nominal\"}, \"x\": {\"field\": \"case_type\", \"title\": \"Plan\", \"type\": \"nominal\"}, \"y\": {\"field\": \"AFN Zone Ventilation Volume \\\\[m3\\\\]\", \"scale\": {\"zero\": false}, \"title\": \"Vent. Vol. [m\\u00b3]\", \"type\": \"quantitative\"}}, \"height\": 150, \"width\": 100}, {\"mark\": {\"type\": \"point\"}, \"encoding\": {\"shape\": {\"field\": \"exp_type\", \"sort\": [\"+30%\", \"Control\", \"-30%\"], \"title\": \"Window Area\", \"type\": \"nominal\"}, \"x\": {\"field\": \"case_type\", \"title\": \"Plan\", \"type\": \"nominal\"}, \"y\": {\"field\": \"AFN Zone Mixing Volume \\\\[m3\\\\]\", \"scale\": {\"zero\": false}, \"title\": \"Mixing Vol. [m\\u00b3]\", \"type\": \"quantitative\"}}, \"height\": 150, \"width\": 100}, {\"mark\": {\"type\": \"point\"}, \"encoding\": {\"shape\": {\"field\": \"exp_type\", \"sort\": [\"+30%\", \"Control\", \"-30%\"], \"title\": \"Window Area\", \"type\": \"nominal\"}, \"x\": {\"field\": \"case_type\", \"title\": \"Plan\", \"type\": \"nominal\"}, \"y\": {\"field\": \"Zone Mean Air Temperature \\\\[C\\\\]\", \"scale\": {\"zero\": false}, \"title\": \"Temp [\\u00baC]\", \"type\": \"quantitative\"}}, \"height\": 150, \"width\": 100}], \"data\": {\"name\": \"data-5b4e7189b01a03360cca3eeb166606fd\"}, \"$schema\": \"https://vega.github.io/schema/vega-lite/v5.20.1.json\", \"datasets\": {\"data-5b4e7189b01a03360cca3eeb166606fd\": [{\"case_names\": \"bol_5_0.7\", \"AFN Zone Ventilation Volume [m3]\": 248.65065119843482, \"AFN Zone Mixing Volume [m3]\": 233.5103776636741, \"Zone Mean Air Temperature [C]\": 23.007273479799995, \"case_type\": \"B\", \"exp_type\": \"-30%\"}, {\"case_names\": \"amb_b1_0.7\", \"AFN Zone Ventilation Volume [m3]\": 72.70140299602488, \"AFN Zone Mixing Volume [m3]\": 333.6722900655911, \"Zone Mean Air Temperature [C]\": 23.280898701021382, \"case_type\": \"A\", \"exp_type\": \"-30%\"}, {\"case_names\": \"bol_5_1.3\", \"AFN Zone Ventilation Volume [m3]\": 406.52848545950724, \"AFN Zone Mixing Volume [m3]\": 280.4633832365123, \"Zone Mean Air Temperature [C]\": 23.107559484129062, \"case_type\": \"B\", \"exp_type\": \"+30%\"}, {\"case_names\": \"red_b1_0.7\", \"AFN Zone Ventilation Volume [m3]\": 228.1584713447136, \"AFN Zone Mixing Volume [m3]\": 350.33435390400547, \"Zone Mean Air Temperature [C]\": 22.166085704767816, \"case_type\": \"C\", \"exp_type\": \"-30%\"}, {\"case_names\": \"red_b1_1.3\", \"AFN Zone Ventilation Volume [m3]\": 376.94711975359104, \"AFN Zone Mixing Volume [m3]\": 467.3558113217106, \"Zone Mean Air Temperature [C]\": 22.13832177555651, \"case_type\": \"C\", \"exp_type\": \"+30%\"}, {\"case_names\": \"bol_5_Medium\", \"AFN Zone Ventilation Volume [m3]\": 340.07938437926214, \"AFN Zone Mixing Volume [m3]\": 250.7728769385954, \"Zone Mean Air Temperature [C]\": 23.04084662562153, \"case_type\": \"B\", \"exp_type\": \"Control\"}, {\"case_names\": \"red_b1_Medium\", \"AFN Zone Ventilation Volume [m3]\": 299.6841627691653, \"AFN Zone Mixing Volume [m3]\": 405.07523563243893, \"Zone Mean Air Temperature [C]\": 22.12630234214441, \"case_type\": \"C\", \"exp_type\": \"Control\"}, {\"case_names\": \"amb_b1_Medium\", \"AFN Zone Ventilation Volume [m3]\": 91.36268950601625, \"AFN Zone Mixing Volume [m3]\": 353.9269406744407, \"Zone Mean Air Temperature [C]\": 23.111333139939227, \"case_type\": \"A\", \"exp_type\": \"Control\"}, {\"case_names\": \"amb_b1_1.3\", \"AFN Zone Ventilation Volume [m3]\": 111.0320086563985, \"AFN Zone Mixing Volume [m3]\": 386.15219008672796, \"Zone Mean Air Temperature [C]\": 23.070914653526742, \"case_type\": \"A\", \"exp_type\": \"+30%\"}]}}, {\"mode\": \"vega-lite\"});\n",
       "</script>"
      ],
      "text/plain": [
       "alt.HConcatChart(...)"
      ]
     },
     "execution_count": 29,
     "metadata": {},
     "output_type": "execute_result"
    }
   ],
   "source": [
    "df = create_and_split_data_by_exp(\"windows\")\n",
    "create_exp_chart(df, \"windows\")"
   ]
  },
  {
   "cell_type": "markdown",
   "metadata": {},
   "source": [
    "## running to create outputs.."
   ]
  },
  {
   "cell_type": "code",
   "execution_count": 30,
   "metadata": {},
   "outputs": [
    {
     "data": {
      "text/plain": [
       "CacheInfo(hits=47, misses=1, maxsize=128, currsize=1)"
      ]
     },
     "execution_count": 30,
     "metadata": {},
     "output_type": "execute_result"
    }
   ],
   "source": [
    "# CHECK IF CACHE WORKING -> DONT DELETE \n",
    "create_and_split_data_by_exp.cache_info()"
   ]
  },
  {
   "cell_type": "code",
   "execution_count": 32,
   "metadata": {},
   "outputs": [],
   "source": [
    "# saving all charts... DO NOT DELETE \n",
    "# save_charts_for_all_groups()"
   ]
  },
  {
   "cell_type": "code",
   "execution_count": 112,
   "metadata": {},
   "outputs": [
    {
     "name": "stdout",
     "output_type": "stream",
     "text": [
      "\\begin{table}[!t]\n",
      "\\caption*{\n",
      "{\\large Windows Experiment}\n",
      "} \n",
      "\n",
      "\\fontsize{12.0pt}{14.4pt}\\selectfont\n",
      "\n",
      "\\begin{tabular*}{\\linewidth}{@{\\extracolsep{\\fill}}lrrrrrrrrr}\n",
      "\\toprule\n",
      " & \\multicolumn{3}{c}{Vent. Vol. [m³]} & \\multicolumn{3}{c}{Mixing Vol. [m³]} & \\multicolumn{3}{c}{Temp. [ºC]} \\\\ \n",
      "\\cmidrule(lr){2-4} \\cmidrule(lr){5-7} \\cmidrule(lr){8-10}\n",
      "study\\_type & Mean & Std. & Max. Diff. & Mean & Std. & Max. Diff. & Mean & Std. & Max. Diff. \\\\ \n",
      "\\midrule\\addlinespace[2.5pt]\n",
      "Across & 240 & 130 & 250 & 340 & 79 & 150 & 23 & 0.55 & 0.99 \\\\\n",
      "A & 92 & 19 & 38 & 360 & 26 & 52 & 23 & 0.11 & 0.21 \\\\\n",
      "B & 330 & 79 & 160 & 250 & 24 & 47 & 23 & 0.051 & 0.10 \\\\\n",
      "C & 300 & 74 & 150 & 410 & 59 & 120 & 22 & 0.020 & 0.040 \\\\\n",
      "\\bottomrule\n",
      "\\end{tabular*}\n",
      "\n",
      "\\end{table}\n",
      "\n",
      "\n",
      " \n",
      " \n",
      "\n",
      "\\begin{table}[!t]\n",
      "\\caption*{\n",
      "{\\large Materials Experiment}\n",
      "} \n",
      "\n",
      "\\fontsize{12.0pt}{14.4pt}\\selectfont\n",
      "\n",
      "\\begin{tabular*}{\\linewidth}{@{\\extracolsep{\\fill}}lrrrrrrrrr}\n",
      "\\toprule\n",
      " & \\multicolumn{3}{c}{Vent. Vol. [m³]} & \\multicolumn{3}{c}{Mixing Vol. [m³]} & \\multicolumn{3}{c}{Temp. [ºC]} \\\\ \n",
      "\\cmidrule(lr){2-4} \\cmidrule(lr){5-7} \\cmidrule(lr){8-10}\n",
      "study\\_type & Mean & Std. & Max. Diff. & Mean & Std. & Max. Diff. & Mean & Std. & Max. Diff. \\\\ \n",
      "\\midrule\\addlinespace[2.5pt]\n",
      "Across & 240 & 130 & 250 & 340 & 79 & 150 & 23 & 0.55 & 0.99 \\\\\n",
      "A & 92 & 0.97 & 1.9 & 360 & 5.4 & 11 & 23 & 0.11 & 0.22 \\\\\n",
      "B & 340 & 8.1 & 15 & 260 & 13 & 23 & 23 & 0.12 & 0.23 \\\\\n",
      "C & 310 & 7.1 & 14 & 420 & 11 & 21 & 22 & 0.087 & 0.17 \\\\\n",
      "\\bottomrule\n",
      "\\end{tabular*}\n",
      "\n",
      "\\end{table}\n",
      "\n",
      "\n",
      " \n",
      " \n",
      "\n",
      "\\begin{table}[!t]\n",
      "\\caption*{\n",
      "{\\large Doors Experiment}\n",
      "} \n",
      "\n",
      "\\fontsize{12.0pt}{14.4pt}\\selectfont\n",
      "\n",
      "\\begin{tabular*}{\\linewidth}{@{\\extracolsep{\\fill}}lrrrrrrrrr}\n",
      "\\toprule\n",
      " & \\multicolumn{3}{c}{Vent. Vol. [m³]} & \\multicolumn{3}{c}{Mixing Vol. [m³]} & \\multicolumn{3}{c}{Temp. [ºC]} \\\\ \n",
      "\\cmidrule(lr){2-4} \\cmidrule(lr){5-7} \\cmidrule(lr){8-10}\n",
      "study\\_type & Mean & Std. & Max. Diff. & Mean & Std. & Max. Diff. & Mean & Std. & Max. Diff. \\\\ \n",
      "\\midrule\\addlinespace[2.5pt]\n",
      "Across & 240 & 130 & 250 & 340 & 79 & 150 & 23 & 0.55 & 0.99 \\\\\n",
      "A & 83 & 11 & 21 & 280 & 73 & 150 & 23 & 0.23 & 0.44 \\\\\n",
      "B & 330 & 11 & 22 & 160 & 81 & 160 & 23 & 0.059 & 0.11 \\\\\n",
      "C & 270 & 34 & 67 & 270 & 130 & 260 & 22 & 0.11 & 0.20 \\\\\n",
      "\\bottomrule\n",
      "\\end{tabular*}\n",
      "\n",
      "\\end{table}\n",
      "\n",
      "\n",
      " \n",
      " \n",
      "\n"
     ]
    }
   ],
   "source": [
    "# print_latex_for_all_tables()"
   ]
  }
 ],
 "metadata": {
  "kernelspec": {
   "display_name": ".venv",
   "language": "python",
   "name": "python3"
  },
  "language_info": {
   "codemirror_mode": {
    "name": "ipython",
    "version": 3
   },
   "file_extension": ".py",
   "mimetype": "text/x-python",
   "name": "python",
   "nbconvert_exporter": "python",
   "pygments_lexer": "ipython3",
   "version": "3.13.1"
  }
 },
 "nbformat": 4,
 "nbformat_minor": 2
}
