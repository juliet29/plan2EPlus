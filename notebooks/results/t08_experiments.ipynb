{
 "cells": [
  {
   "cell_type": "code",
   "execution_count": 1,
   "metadata": {},
   "outputs": [],
   "source": [
    "%load_ext autoreload\n",
    "%autoreload 2"
   ]
  },
  {
   "cell_type": "code",
   "execution_count": 2,
   "metadata": {},
   "outputs": [],
   "source": [
    "import sys\n",
    "from pathlib import Path\n",
    "\n",
    "sys.path.append(str(Path.cwd() / \"_scripts\"))"
   ]
  },
  {
   "cell_type": "code",
   "execution_count": 3,
   "metadata": {},
   "outputs": [],
   "source": [
    "import polars as pl\n",
    "from great_tables import GT\n",
    "from great_tables.data import gtcars\n",
    "import altair as alt\n",
    "\n",
    "from collections import namedtuple, defaultdict\n",
    "from itertools import product\n",
    "from TexSoup import TexSoup"
   ]
  },
  {
   "cell_type": "code",
   "execution_count": 40,
   "metadata": {},
   "outputs": [],
   "source": [
    "from plan2eplus.helpers.variable_interfaces import all_variables as vars\n",
    "from plan2eplus.studies.analysis2.all_cases_v_time import create_space_and_site_dfs\n",
    "from plan2eplus.studies.experiments.name_splits import (\n",
    "    split_by_case_type,\n",
    "    split_by_case_type_and_alias,\n",
    "    split_by_doors,\n",
    ")\n",
    "from plan2eplus.studies.experiments.retrieve import (\n",
    "    retrieve_comparison_groups,\n",
    ")\n",
    "from plan2eplus.studies.experiments.scatter import (\n",
    "    create_comparison_df,\n",
    "    create_plots_for_comparison_group,\n",
    ")\n",
    "from plan2eplus.studies.setup.data_wrangle2 import (\n",
    "    create_wide_dataframe_for_many_qois_and_cases,\n",
    ")\n",
    "\n",
    "from plan2eplus.helpers.helpers import chain_flatten, ContainsAsEqualsString"
   ]
  },
  {
   "cell_type": "code",
   "execution_count": 5,
   "metadata": {},
   "outputs": [
    {
     "data": {
      "text/plain": [
       "[CaseData(case_name='bol_5_CLOSED', idf=<geomeppy.idf.IDF object at 0x14acdea50>, sql=Energy SQLiteResult: /Users/julietnwagwuume-ezeoke/_UILCode/gqe-phd/plan2eplus/cases/241119_doors/bol_5_CLOSED/results/eplusout.sql, path_to_input=PosixPath('/Users/julietnwagwuume-ezeoke/_UILCode/gqe-phd/svg2plan/outputs2/case_bol_5'), path_to_output=PosixPath('/Users/julietnwagwuume-ezeoke/_UILCode/gqe-phd/plan2eplus/cases/241119_doors/bol_5_CLOSED')),\n",
       " CaseData(case_name='amb_b1_DYNAMIC', idf=<geomeppy.idf.IDF object at 0x14facb4d0>, sql=Energy SQLiteResult: /Users/julietnwagwuume-ezeoke/_UILCode/gqe-phd/plan2eplus/cases/241119_doors/amb_b1_DYNAMIC/results/eplusout.sql, path_to_input=PosixPath('/Users/julietnwagwuume-ezeoke/_UILCode/gqe-phd/svg2plan/outputs2/case_amb_b1'), path_to_output=PosixPath('/Users/julietnwagwuume-ezeoke/_UILCode/gqe-phd/plan2eplus/cases/241119_doors/amb_b1_DYNAMIC')),\n",
       " CaseData(case_name='red_b1_DYNAMIC', idf=<geomeppy.idf.IDF object at 0x14fac8910>, sql=Energy SQLiteResult: /Users/julietnwagwuume-ezeoke/_UILCode/gqe-phd/plan2eplus/cases/241119_doors/red_b1_DYNAMIC/results/eplusout.sql, path_to_input=PosixPath('/Users/julietnwagwuume-ezeoke/_UILCode/gqe-phd/svg2plan/outputs2/case_red_b1'), path_to_output=PosixPath('/Users/julietnwagwuume-ezeoke/_UILCode/gqe-phd/plan2eplus/cases/241119_doors/red_b1_DYNAMIC')),\n",
       " CaseData(case_name='bol_5_DYNAMIC', idf=<geomeppy.idf.IDF object at 0x14acd88a0>, sql=Energy SQLiteResult: /Users/julietnwagwuume-ezeoke/_UILCode/gqe-phd/plan2eplus/cases/241119_doors/bol_5_DYNAMIC/results/eplusout.sql, path_to_input=PosixPath('/Users/julietnwagwuume-ezeoke/_UILCode/gqe-phd/svg2plan/outputs2/case_bol_5'), path_to_output=PosixPath('/Users/julietnwagwuume-ezeoke/_UILCode/gqe-phd/plan2eplus/cases/241119_doors/bol_5_DYNAMIC')),\n",
       " CaseData(case_name='red_b1_CLOSED', idf=<geomeppy.idf.IDF object at 0x14acd9ba0>, sql=Energy SQLiteResult: /Users/julietnwagwuume-ezeoke/_UILCode/gqe-phd/plan2eplus/cases/241119_doors/red_b1_CLOSED/results/eplusout.sql, path_to_input=PosixPath('/Users/julietnwagwuume-ezeoke/_UILCode/gqe-phd/svg2plan/outputs2/case_red_b1'), path_to_output=PosixPath('/Users/julietnwagwuume-ezeoke/_UILCode/gqe-phd/plan2eplus/cases/241119_doors/red_b1_CLOSED')),\n",
       " CaseData(case_name='amb_b1_CLOSED', idf=<geomeppy.idf.IDF object at 0x14ac432f0>, sql=Energy SQLiteResult: /Users/julietnwagwuume-ezeoke/_UILCode/gqe-phd/plan2eplus/cases/241119_doors/amb_b1_CLOSED/results/eplusout.sql, path_to_input=PosixPath('/Users/julietnwagwuume-ezeoke/_UILCode/gqe-phd/svg2plan/outputs2/case_amb_b1'), path_to_output=PosixPath('/Users/julietnwagwuume-ezeoke/_UILCode/gqe-phd/plan2eplus/cases/241119_doors/amb_b1_CLOSED')),\n",
       " CaseData(case_name='bol_5_Medium', idf=<geomeppy.idf.IDF object at 0x14b2bc5a0>, sql=Energy SQLiteResult: /Users/julietnwagwuume-ezeoke/_UILCode/gqe-phd/plan2eplus/cases/241119_materials/bol_5_Medium/results/eplusout.sql, path_to_input=PosixPath('/Users/julietnwagwuume-ezeoke/_UILCode/gqe-phd/svg2plan/outputs2/case_bol_5'), path_to_output=PosixPath('/Users/julietnwagwuume-ezeoke/_UILCode/gqe-phd/plan2eplus/cases/241119_materials/bol_5_Medium')),\n",
       " CaseData(case_name='red_b1_Medium', idf=<geomeppy.idf.IDF object at 0x14ac3b980>, sql=Energy SQLiteResult: /Users/julietnwagwuume-ezeoke/_UILCode/gqe-phd/plan2eplus/cases/241119_materials/red_b1_Medium/results/eplusout.sql, path_to_input=PosixPath('/Users/julietnwagwuume-ezeoke/_UILCode/gqe-phd/svg2plan/outputs2/case_red_b1'), path_to_output=PosixPath('/Users/julietnwagwuume-ezeoke/_UILCode/gqe-phd/plan2eplus/cases/241119_materials/red_b1_Medium')),\n",
       " CaseData(case_name='amb_b1_Medium', idf=<geomeppy.idf.IDF object at 0x1586a75b0>, sql=Energy SQLiteResult: /Users/julietnwagwuume-ezeoke/_UILCode/gqe-phd/plan2eplus/cases/241119_materials/amb_b1_Medium/results/eplusout.sql, path_to_input=PosixPath('/Users/julietnwagwuume-ezeoke/_UILCode/gqe-phd/svg2plan/outputs2/case_amb_b1'), path_to_output=PosixPath('/Users/julietnwagwuume-ezeoke/_UILCode/gqe-phd/plan2eplus/cases/241119_materials/amb_b1_Medium'))]"
      ]
     },
     "execution_count": 5,
     "metadata": {},
     "output_type": "execute_result"
    }
   ],
   "source": [
    "cases = retrieve_comparison_groups(\"doors\")\n",
    "cases\n",
    "\n",
    "# get_experiment_folders()"
   ]
  },
  {
   "cell_type": "code",
   "execution_count": 6,
   "metadata": {},
   "outputs": [],
   "source": [
    "df_temp = create_wide_dataframe_for_many_qois_and_cases(\n",
    "    cases, [vars.zone.temp[\"zone_mean_air_temp\"]]\n",
    ")\n",
    "\n",
    "df, df_site = create_space_and_site_dfs(\n",
    "    cases=cases,\n",
    "    space_qois=[vars.afn.zone[\"vent_vol\"], vars.afn.zone[\"mix_vol\"]],\n",
    "    site_qois=[vars.site.wind[\"speed\"]],\n",
    ")"
   ]
  },
  {
   "cell_type": "code",
   "execution_count": 7,
   "metadata": {},
   "outputs": [
    {
     "data": {
      "text/html": [
       "<div><style>\n",
       ".dataframe > thead > tr,\n",
       ".dataframe > tbody > tr {\n",
       "  text-align: right;\n",
       "  white-space: pre-wrap;\n",
       "}\n",
       "</style>\n",
       "<small>shape: (5, 8)</small><table border=\"1\" class=\"dataframe\"><thead><tr><th>case_names</th><th>space_names</th><th>datetimes</th><th>AFN Zone Ventilation Volume [m3]</th><th>AFN Zone Mixing Volume [m3]</th><th>time</th><th>Zone Mean Air Temperature [C]</th><th>combined_vent</th></tr><tr><td>str</td><td>str</td><td>datetime[μs]</td><td>f64</td><td>f64</td><td>str</td><td>f64</td><td>f64</td></tr></thead><tbody><tr><td>&quot;bol_5_CLOSED&quot;</td><td>&quot;BLOCK 00 STOREY 0&quot;</td><td>2017-07-01 00:00:00</td><td>240.133294</td><td>0.0</td><td>&quot;00:00&quot;</td><td>19.624067</td><td>240.133294</td></tr><tr><td>&quot;bol_5_CLOSED&quot;</td><td>&quot;BLOCK 00 STOREY 0&quot;</td><td>2017-07-01 00:15:00</td><td>281.920251</td><td>0.0</td><td>&quot;00:15&quot;</td><td>18.62186</td><td>281.920251</td></tr><tr><td>&quot;bol_5_CLOSED&quot;</td><td>&quot;BLOCK 00 STOREY 0&quot;</td><td>2017-07-01 00:30:00</td><td>308.423544</td><td>0.0</td><td>&quot;00:30&quot;</td><td>17.635697</td><td>308.423544</td></tr><tr><td>&quot;bol_5_CLOSED&quot;</td><td>&quot;BLOCK 00 STOREY 0&quot;</td><td>2017-07-01 00:45:00</td><td>324.762766</td><td>0.0</td><td>&quot;00:45&quot;</td><td>16.662282</td><td>324.762766</td></tr><tr><td>&quot;bol_5_CLOSED&quot;</td><td>&quot;BLOCK 00 STOREY 0&quot;</td><td>2017-07-01 01:00:00</td><td>309.539315</td><td>0.0</td><td>&quot;01:00&quot;</td><td>16.507866</td><td>309.539315</td></tr></tbody></table></div>"
      ],
      "text/plain": [
       "shape: (5, 8)\n",
       "┌────────────┬────────────┬────────────┬────────────┬────────────┬───────┬────────────┬────────────┐\n",
       "│ case_names ┆ space_name ┆ datetimes  ┆ AFN Zone   ┆ AFN Zone   ┆ time  ┆ Zone Mean  ┆ combined_v │\n",
       "│ ---        ┆ s          ┆ ---        ┆ Ventilatio ┆ Mixing     ┆ ---   ┆ Air Temper ┆ ent        │\n",
       "│ str        ┆ ---        ┆ datetime[μ ┆ n Volume   ┆ Volume     ┆ str   ┆ ature [C]  ┆ ---        │\n",
       "│            ┆ str        ┆ s]         ┆ [m…        ┆ [m3]       ┆       ┆ ---        ┆ f64        │\n",
       "│            ┆            ┆            ┆ ---        ┆ ---        ┆       ┆ f64        ┆            │\n",
       "│            ┆            ┆            ┆ f64        ┆ f64        ┆       ┆            ┆            │\n",
       "╞════════════╪════════════╪════════════╪════════════╪════════════╪═══════╪════════════╪════════════╡\n",
       "│ bol_5_CLOS ┆ BLOCK 00   ┆ 2017-07-01 ┆ 240.133294 ┆ 0.0        ┆ 00:00 ┆ 19.624067  ┆ 240.133294 │\n",
       "│ ED         ┆ STOREY 0   ┆ 00:00:00   ┆            ┆            ┆       ┆            ┆            │\n",
       "│ bol_5_CLOS ┆ BLOCK 00   ┆ 2017-07-01 ┆ 281.920251 ┆ 0.0        ┆ 00:15 ┆ 18.62186   ┆ 281.920251 │\n",
       "│ ED         ┆ STOREY 0   ┆ 00:15:00   ┆            ┆            ┆       ┆            ┆            │\n",
       "│ bol_5_CLOS ┆ BLOCK 00   ┆ 2017-07-01 ┆ 308.423544 ┆ 0.0        ┆ 00:30 ┆ 17.635697  ┆ 308.423544 │\n",
       "│ ED         ┆ STOREY 0   ┆ 00:30:00   ┆            ┆            ┆       ┆            ┆            │\n",
       "│ bol_5_CLOS ┆ BLOCK 00   ┆ 2017-07-01 ┆ 324.762766 ┆ 0.0        ┆ 00:45 ┆ 16.662282  ┆ 324.762766 │\n",
       "│ ED         ┆ STOREY 0   ┆ 00:45:00   ┆            ┆            ┆       ┆            ┆            │\n",
       "│ bol_5_CLOS ┆ BLOCK 00   ┆ 2017-07-01 ┆ 309.539315 ┆ 0.0        ┆ 01:00 ┆ 16.507866  ┆ 309.539315 │\n",
       "│ ED         ┆ STOREY 0   ┆ 01:00:00   ┆            ┆            ┆       ┆            ┆            │\n",
       "└────────────┴────────────┴────────────┴────────────┴────────────┴───────┴────────────┴────────────┘"
      ]
     },
     "execution_count": 7,
     "metadata": {},
     "output_type": "execute_result"
    }
   ],
   "source": [
    "df_vol = df.join(df_temp, on=[\"case_names\", \"space_names\", \"datetimes\"]).with_columns(\n",
    "    combined_vent=pl.col(\"AFN Zone Ventilation Volume [m3]\")\n",
    "    + pl.col(\"AFN Zone Mixing Volume [m3]\")\n",
    ")\n",
    "df_vol.head()"
   ]
  },
  {
   "cell_type": "code",
   "execution_count": 8,
   "metadata": {},
   "outputs": [],
   "source": [
    "df_agg = df_vol.group_by(\"case_names\").agg(\n",
    "    [\n",
    "        pl.mean(\"AFN Zone Ventilation Volume [m3]\"),\n",
    "        pl.mean(\"AFN Zone Mixing Volume [m3]\"),\n",
    "        pl.mean(\"combined_vent\"),\n",
    "        pl.mean(\"Zone Mean Air Temperature [C]\"),\n",
    "    ]\n",
    ")"
   ]
  },
  {
   "cell_type": "code",
   "execution_count": 29,
   "metadata": {},
   "outputs": [
    {
     "data": {
      "text/html": [
       "<div><style>\n",
       ".dataframe > thead > tr,\n",
       ".dataframe > tbody > tr {\n",
       "  text-align: right;\n",
       "  white-space: pre-wrap;\n",
       "}\n",
       "</style>\n",
       "<small>shape: (9, 7)</small><table border=\"1\" class=\"dataframe\"><thead><tr><th>case_names</th><th>AFN Zone Ventilation Volume [m3]</th><th>AFN Zone Mixing Volume [m3]</th><th>combined_vent</th><th>Zone Mean Air Temperature [C]</th><th>case_type</th><th>exp_type</th></tr><tr><td>str</td><td>f64</td><td>f64</td><td>f64</td><td>f64</td><td>str</td><td>str</td></tr></thead><tbody><tr><td>&quot;red_b1_CLOSED&quot;</td><td>232.640805</td><td>146.860422</td><td>379.501227</td><td>22.327406</td><td>&quot;C&quot;</td><td>&quot;CLOSED&quot;</td></tr><tr><td>&quot;amb_b1_CLOSED&quot;</td><td>70.374518</td><td>208.903753</td><td>279.278271</td><td>23.553939</td><td>&quot;A&quot;</td><td>&quot;CLOSED&quot;</td></tr><tr><td>&quot;amb_b1_DYNAMIC&quot;</td><td>85.99218</td><td>291.524465</td><td>377.516645</td><td>23.418397</td><td>&quot;A&quot;</td><td>&quot;DYNAMIC&quot;</td></tr><tr><td>&quot;red_b1_Medium&quot;</td><td>299.684163</td><td>405.075236</td><td>704.759398</td><td>22.126302</td><td>&quot;C&quot;</td><td>&quot;OPEN&quot;</td></tr><tr><td>&quot;bol_5_CLOSED&quot;</td><td>317.663785</td><td>92.129051</td><td>409.792836</td><td>23.154855</td><td>&quot;B&quot;</td><td>&quot;CLOSED&quot;</td></tr><tr><td>&quot;bol_5_DYNAMIC&quot;</td><td>326.89749</td><td>144.66714</td><td>471.564629</td><td>23.126356</td><td>&quot;B&quot;</td><td>&quot;DYNAMIC&quot;</td></tr><tr><td>&quot;amb_b1_Medium&quot;</td><td>91.36269</td><td>353.926941</td><td>445.28963</td><td>23.111333</td><td>&quot;A&quot;</td><td>&quot;OPEN&quot;</td></tr><tr><td>&quot;bol_5_Medium&quot;</td><td>340.079384</td><td>250.772877</td><td>590.852261</td><td>23.040847</td><td>&quot;B&quot;</td><td>&quot;OPEN&quot;</td></tr><tr><td>&quot;red_b1_DYNAMIC&quot;</td><td>262.983758</td><td>253.302264</td><td>516.286022</td><td>22.288867</td><td>&quot;C&quot;</td><td>&quot;DYNAMIC&quot;</td></tr></tbody></table></div>"
      ],
      "text/plain": [
       "shape: (9, 7)\n",
       "┌───────────────┬──────────────┬──────────────┬──────────────┬──────────────┬───────────┬──────────┐\n",
       "│ case_names    ┆ AFN Zone     ┆ AFN Zone     ┆ combined_ven ┆ Zone Mean    ┆ case_type ┆ exp_type │\n",
       "│ ---           ┆ Ventilation  ┆ Mixing       ┆ t            ┆ Air          ┆ ---       ┆ ---      │\n",
       "│ str           ┆ Volume [m…   ┆ Volume [m3]  ┆ ---          ┆ Temperature  ┆ str       ┆ str      │\n",
       "│               ┆ ---          ┆ ---          ┆ f64          ┆ [C]          ┆           ┆          │\n",
       "│               ┆ f64          ┆ f64          ┆              ┆ ---          ┆           ┆          │\n",
       "│               ┆              ┆              ┆              ┆ f64          ┆           ┆          │\n",
       "╞═══════════════╪══════════════╪══════════════╪══════════════╪══════════════╪═══════════╪══════════╡\n",
       "│ red_b1_CLOSED ┆ 232.640805   ┆ 146.860422   ┆ 379.501227   ┆ 22.327406    ┆ C         ┆ CLOSED   │\n",
       "│ amb_b1_CLOSED ┆ 70.374518    ┆ 208.903753   ┆ 279.278271   ┆ 23.553939    ┆ A         ┆ CLOSED   │\n",
       "│ amb_b1_DYNAMI ┆ 85.99218     ┆ 291.524465   ┆ 377.516645   ┆ 23.418397    ┆ A         ┆ DYNAMIC  │\n",
       "│ C             ┆              ┆              ┆              ┆              ┆           ┆          │\n",
       "│ red_b1_Medium ┆ 299.684163   ┆ 405.075236   ┆ 704.759398   ┆ 22.126302    ┆ C         ┆ OPEN     │\n",
       "│ bol_5_CLOSED  ┆ 317.663785   ┆ 92.129051    ┆ 409.792836   ┆ 23.154855    ┆ B         ┆ CLOSED   │\n",
       "│ bol_5_DYNAMIC ┆ 326.89749    ┆ 144.66714    ┆ 471.564629   ┆ 23.126356    ┆ B         ┆ DYNAMIC  │\n",
       "│ amb_b1_Medium ┆ 91.36269     ┆ 353.926941   ┆ 445.28963    ┆ 23.111333    ┆ A         ┆ OPEN     │\n",
       "│ bol_5_Medium  ┆ 340.079384   ┆ 250.772877   ┆ 590.852261   ┆ 23.040847    ┆ B         ┆ OPEN     │\n",
       "│ red_b1_DYNAMI ┆ 262.983758   ┆ 253.302264   ┆ 516.286022   ┆ 22.288867    ┆ C         ┆ DYNAMIC  │\n",
       "│ C             ┆              ┆              ┆              ┆              ┆           ┆          │\n",
       "└───────────────┴──────────────┴──────────────┴──────────────┴──────────────┴───────────┴──────────┘"
      ]
     },
     "execution_count": 29,
     "metadata": {},
     "output_type": "execute_result"
    }
   ],
   "source": [
    "df_agg = split_by_doors(split_by_case_type_and_alias(df_agg))\n",
    "df_agg"
   ]
  },
  {
   "cell_type": "markdown",
   "metadata": {},
   "source": [
    "### charts"
   ]
  },
  {
   "cell_type": "code",
   "execution_count": 44,
   "metadata": {},
   "outputs": [
    {
     "data": {
      "text/html": [
       "\n",
       "<style>\n",
       "  #altair-viz-aed5070456c546209b63a63f9090b8cb.vega-embed {\n",
       "    width: 100%;\n",
       "    display: flex;\n",
       "  }\n",
       "\n",
       "  #altair-viz-aed5070456c546209b63a63f9090b8cb.vega-embed details,\n",
       "  #altair-viz-aed5070456c546209b63a63f9090b8cb.vega-embed details summary {\n",
       "    position: relative;\n",
       "  }\n",
       "</style>\n",
       "<div id=\"altair-viz-aed5070456c546209b63a63f9090b8cb\"></div>\n",
       "<script type=\"text/javascript\">\n",
       "  var VEGA_DEBUG = (typeof VEGA_DEBUG == \"undefined\") ? {} : VEGA_DEBUG;\n",
       "  (function(spec, embedOpt){\n",
       "    let outputDiv = document.currentScript.previousElementSibling;\n",
       "    if (outputDiv.id !== \"altair-viz-aed5070456c546209b63a63f9090b8cb\") {\n",
       "      outputDiv = document.getElementById(\"altair-viz-aed5070456c546209b63a63f9090b8cb\");\n",
       "    }\n",
       "\n",
       "    const paths = {\n",
       "      \"vega\": \"https://cdn.jsdelivr.net/npm/vega@5?noext\",\n",
       "      \"vega-lib\": \"https://cdn.jsdelivr.net/npm/vega-lib?noext\",\n",
       "      \"vega-lite\": \"https://cdn.jsdelivr.net/npm/vega-lite@5.20.1?noext\",\n",
       "      \"vega-embed\": \"https://cdn.jsdelivr.net/npm/vega-embed@6?noext\",\n",
       "    };\n",
       "\n",
       "    function maybeLoadScript(lib, version) {\n",
       "      var key = `${lib.replace(\"-\", \"\")}_version`;\n",
       "      return (VEGA_DEBUG[key] == version) ?\n",
       "        Promise.resolve(paths[lib]) :\n",
       "        new Promise(function(resolve, reject) {\n",
       "          var s = document.createElement('script');\n",
       "          document.getElementsByTagName(\"head\")[0].appendChild(s);\n",
       "          s.async = true;\n",
       "          s.onload = () => {\n",
       "            VEGA_DEBUG[key] = version;\n",
       "            return resolve(paths[lib]);\n",
       "          };\n",
       "          s.onerror = () => reject(`Error loading script: ${paths[lib]}`);\n",
       "          s.src = paths[lib];\n",
       "        });\n",
       "    }\n",
       "\n",
       "    function showError(err) {\n",
       "      outputDiv.innerHTML = `<div class=\"error\" style=\"color:red;\">${err}</div>`;\n",
       "      throw err;\n",
       "    }\n",
       "\n",
       "    function displayChart(vegaEmbed) {\n",
       "      vegaEmbed(outputDiv, spec, embedOpt)\n",
       "        .catch(err => showError(`Javascript Error: ${err.message}<br>This usually means there's a typo in your chart specification. See the javascript console for the full traceback.`));\n",
       "    }\n",
       "\n",
       "    if(typeof define === \"function\" && define.amd) {\n",
       "      requirejs.config({paths});\n",
       "      let deps = [\"vega-embed\"];\n",
       "      require(deps, displayChart, err => showError(`Error loading script: ${err.message}`));\n",
       "    } else {\n",
       "      maybeLoadScript(\"vega\", \"5\")\n",
       "        .then(() => maybeLoadScript(\"vega-lite\", \"5.20.1\"))\n",
       "        .then(() => maybeLoadScript(\"vega-embed\", \"6\"))\n",
       "        .catch(showError)\n",
       "        .then(() => displayChart(vegaEmbed));\n",
       "    }\n",
       "  })({\"config\": {\"view\": {\"continuousWidth\": 300, \"continuousHeight\": 300}}, \"data\": {\"name\": \"data-0c2f57dc409394d07c0812712a06ff7c\"}, \"mark\": {\"type\": \"point\"}, \"encoding\": {\"color\": {\"field\": \"exp_type\", \"type\": \"nominal\"}}, \"$schema\": \"https://vega.github.io/schema/vega-lite/v5.20.1.json\", \"datasets\": {\"data-0c2f57dc409394d07c0812712a06ff7c\": [{\"case_names\": \"red_b1_CLOSED\", \"AFN Zone Ventilation Volume [m3]\": 232.64080497273787, \"AFN Zone Mixing Volume [m3]\": 146.86042229214576, \"combined_vent\": 379.5012272648837, \"Zone Mean Air Temperature [C]\": 22.327405829076316, \"case_type\": \"C\", \"exp_type\": \"CLOSED\"}, {\"case_names\": \"amb_b1_CLOSED\", \"AFN Zone Ventilation Volume [m3]\": 70.37451821297944, \"AFN Zone Mixing Volume [m3]\": 208.90375320107302, \"combined_vent\": 279.2782714140525, \"Zone Mean Air Temperature [C]\": 23.553939016987684, \"case_type\": \"A\", \"exp_type\": \"CLOSED\"}, {\"case_names\": \"amb_b1_DYNAMIC\", \"AFN Zone Ventilation Volume [m3]\": 85.9921798139492, \"AFN Zone Mixing Volume [m3]\": 291.5244647598151, \"combined_vent\": 377.5166445737643, \"Zone Mean Air Temperature [C]\": 23.41839725140508, \"case_type\": \"A\", \"exp_type\": \"DYNAMIC\"}, {\"case_names\": \"red_b1_Medium\", \"AFN Zone Ventilation Volume [m3]\": 299.6841627691653, \"AFN Zone Mixing Volume [m3]\": 405.07523563243893, \"combined_vent\": 704.7593984016037, \"Zone Mean Air Temperature [C]\": 22.12630234214441, \"case_type\": \"C\", \"exp_type\": \"OPEN\"}, {\"case_names\": \"bol_5_CLOSED\", \"AFN Zone Ventilation Volume [m3]\": 317.66378454243596, \"AFN Zone Mixing Volume [m3]\": 92.12905125558156, \"combined_vent\": 409.7928357980175, \"Zone Mean Air Temperature [C]\": 23.154854775280768, \"case_type\": \"B\", \"exp_type\": \"CLOSED\"}, {\"case_names\": \"bol_5_DYNAMIC\", \"AFN Zone Ventilation Volume [m3]\": 326.8974899748222, \"AFN Zone Mixing Volume [m3]\": 144.66713951740206, \"combined_vent\": 471.5646294922243, \"Zone Mean Air Temperature [C]\": 23.12635633825787, \"case_type\": \"B\", \"exp_type\": \"DYNAMIC\"}, {\"case_names\": \"amb_b1_Medium\", \"AFN Zone Ventilation Volume [m3]\": 91.36268950601625, \"AFN Zone Mixing Volume [m3]\": 353.9269406744407, \"combined_vent\": 445.2896301804569, \"Zone Mean Air Temperature [C]\": 23.111333139939227, \"case_type\": \"A\", \"exp_type\": \"OPEN\"}, {\"case_names\": \"bol_5_Medium\", \"AFN Zone Ventilation Volume [m3]\": 340.07938437926214, \"AFN Zone Mixing Volume [m3]\": 250.7728769385954, \"combined_vent\": 590.8522613178573, \"Zone Mean Air Temperature [C]\": 23.04084662562153, \"case_type\": \"B\", \"exp_type\": \"OPEN\"}, {\"case_names\": \"red_b1_DYNAMIC\", \"AFN Zone Ventilation Volume [m3]\": 262.983757644441, \"AFN Zone Mixing Volume [m3]\": 253.3022643622926, \"combined_vent\": 516.2860220067337, \"Zone Mean Air Temperature [C]\": 22.288866548468082, \"case_type\": \"C\", \"exp_type\": \"DYNAMIC\"}]}}, {\"mode\": \"vega-lite\"});\n",
       "</script>"
      ],
      "text/plain": [
       "alt.Chart(...)"
      ]
     },
     "execution_count": 45,
     "metadata": {},
     "output_type": "execute_result"
    }
   ],
   "source": [
    "alt.Chart(df_agg).mark_point().encode(\n",
    "    color=\"exp_type\",\n",
    ")"
   ]
  },
  {
   "cell_type": "markdown",
   "metadata": {},
   "source": [
    "### tables"
   ]
  },
  {
   "cell_type": "code",
   "execution_count": 11,
   "metadata": {},
   "outputs": [],
   "source": [
    "qois = [\"vent\", \"mix\", \"temp\"]\n",
    "stat_names = [\"mean\", \"std\", \"max_diff\"]\n",
    "other_cols = [\"_\".join(i) for i in list(product(qois, stat_names))]\n",
    "Stats = namedtuple(\"Stats\", [\"study_type\", *other_cols])\n",
    "Stats\n",
    "\n",
    "\n",
    "def create_stats(filter_exp: pl.Expr, exp_name: str):\n",
    "    qois = [\n",
    "        \"AFN Zone Ventilation Volume [m3]\",\n",
    "        \"AFN Zone Mixing Volume [m3]\",\n",
    "        \"Zone Mean Air Temperature [C]\",\n",
    "    ]\n",
    "\n",
    "    def get_stats(qoi):\n",
    "        case = df_agg.filter(filter_exp)[qoi]\n",
    "        return [case.mean(), case.std(), case.max() - case.min()]\n",
    "\n",
    "    all_stats = chain_flatten([get_stats(qoi) for qoi in qois])\n",
    "    return Stats(exp_name, *all_stats)"
   ]
  },
  {
   "cell_type": "code",
   "execution_count": 31,
   "metadata": {},
   "outputs": [
    {
     "data": {
      "text/html": [
       "<div><style>\n",
       ".dataframe > thead > tr,\n",
       ".dataframe > tbody > tr {\n",
       "  text-align: right;\n",
       "  white-space: pre-wrap;\n",
       "}\n",
       "</style>\n",
       "<small>shape: (4, 10)</small><table border=\"1\" class=\"dataframe\"><thead><tr><th>study_type</th><th>vent_mean</th><th>vent_std</th><th>vent_max_diff</th><th>mix_mean</th><th>mix_std</th><th>mix_max_diff</th><th>temp_mean</th><th>temp_std</th><th>temp_max_diff</th></tr><tr><td>str</td><td>f64</td><td>f64</td><td>f64</td><td>f64</td><td>f64</td><td>f64</td><td>f64</td><td>f64</td><td>f64</td></tr></thead><tbody><tr><td>&quot;Across&quot;</td><td>243.708746</td><td>133.472597</td><td>248.716695</td><td>336.591684</td><td>78.598268</td><td>154.302359</td><td>22.759494</td><td>0.549491</td><td>0.985031</td></tr><tr><td>&quot;A&quot;</td><td>82.576463</td><td>10.903035</td><td>20.988171</td><td>284.785053</td><td>72.746106</td><td>145.023187</td><td>23.361223</td><td>0.226774</td><td>0.442606</td></tr><tr><td>&quot;B&quot;</td><td>328.213553</td><td>11.265602</td><td>22.4156</td><td>162.523023</td><td>80.815161</td><td>158.643826</td><td>23.107353</td><td>0.059332</td><td>0.114008</td></tr><tr><td>&quot;C&quot;</td><td>265.102908</td><td>33.571879</td><td>67.043358</td><td>268.412641</td><td>129.768891</td><td>258.214813</td><td>22.247525</td><td>0.106736</td><td>0.201103</td></tr></tbody></table></div>"
      ],
      "text/plain": [
       "shape: (4, 10)\n",
       "┌───────────┬───────────┬───────────┬───────────┬───┬───────────┬───────────┬──────────┬───────────┐\n",
       "│ study_typ ┆ vent_mean ┆ vent_std  ┆ vent_max_ ┆ … ┆ mix_max_d ┆ temp_mean ┆ temp_std ┆ temp_max_ │\n",
       "│ e         ┆ ---       ┆ ---       ┆ diff      ┆   ┆ iff       ┆ ---       ┆ ---      ┆ diff      │\n",
       "│ ---       ┆ f64       ┆ f64       ┆ ---       ┆   ┆ ---       ┆ f64       ┆ f64      ┆ ---       │\n",
       "│ str       ┆           ┆           ┆ f64       ┆   ┆ f64       ┆           ┆          ┆ f64       │\n",
       "╞═══════════╪═══════════╪═══════════╪═══════════╪═══╪═══════════╪═══════════╪══════════╪═══════════╡\n",
       "│ Across    ┆ 243.70874 ┆ 133.47259 ┆ 248.71669 ┆ … ┆ 154.30235 ┆ 22.759494 ┆ 0.549491 ┆ 0.985031  │\n",
       "│           ┆ 6         ┆ 7         ┆ 5         ┆   ┆ 9         ┆           ┆          ┆           │\n",
       "│ A         ┆ 82.576463 ┆ 10.903035 ┆ 20.988171 ┆ … ┆ 145.02318 ┆ 23.361223 ┆ 0.226774 ┆ 0.442606  │\n",
       "│           ┆           ┆           ┆           ┆   ┆ 7         ┆           ┆          ┆           │\n",
       "│ B         ┆ 328.21355 ┆ 11.265602 ┆ 22.4156   ┆ … ┆ 158.64382 ┆ 23.107353 ┆ 0.059332 ┆ 0.114008  │\n",
       "│           ┆ 3         ┆           ┆           ┆   ┆ 6         ┆           ┆          ┆           │\n",
       "│ C         ┆ 265.10290 ┆ 33.571879 ┆ 67.043358 ┆ … ┆ 258.21481 ┆ 22.247525 ┆ 0.106736 ┆ 0.201103  │\n",
       "│           ┆ 8         ┆           ┆           ┆   ┆ 3         ┆           ┆          ┆           │\n",
       "└───────────┴───────────┴───────────┴───────────┴───┴───────────┴───────────┴──────────┴───────────┘"
      ]
     },
     "execution_count": 31,
     "metadata": {},
     "output_type": "execute_result"
    }
   ],
   "source": [
    "res = [\n",
    "    create_stats(pl.col(\"exp_type\") == \"OPEN\", \"Across\")._asdict(),\n",
    "    create_stats(pl.col(\"case_type\") == \"A\", \"A\")._asdict(),\n",
    "    create_stats(pl.col(\"case_type\") == \"B\", \"B\")._asdict(),\n",
    "    create_stats(pl.col(\"case_type\") == \"C\", \"C\")._asdict(),\n",
    "]\n",
    "\n",
    "dd = defaultdict(list)\n",
    "\n",
    "for d in res:  # you can list as many input dicts as you want here\n",
    "    for key, value in d.items():\n",
    "        dd[key].append(value)\n",
    "df_stats = pl.DataFrame(dd)\n",
    "df_stats"
   ]
  },
  {
   "cell_type": "code",
   "execution_count": 41,
   "metadata": {},
   "outputs": [],
   "source": [
    "\n",
    "\n",
    "\n",
    "\n",
    "def col_fix(i:str) -> str:\n",
    "    cstring = ContainsAsEqualsString(i)\n",
    "    match cstring:\n",
    "        case \"mean\":\n",
    "            return \"Mean\"\n",
    "        case \"std\":\n",
    "            return \"Std.\"\n",
    "        case \"max_diff\":\n",
    "            return \"Max. Diff.\"\n",
    "        case _:\n",
    "            return i\n",
    "        "
   ]
  },
  {
   "cell_type": "code",
   "execution_count": 46,
   "metadata": {},
   "outputs": [
    {
     "data": {
      "text/html": [
       "<div id=\"hcrecfaiqf\" style=\"padding-left:0px;padding-right:0px;padding-top:10px;padding-bottom:10px;overflow-x:auto;overflow-y:auto;width:auto;height:auto;\">\n",
       "<style>\n",
       "#hcrecfaiqf table {\n",
       "          font-family: -apple-system, BlinkMacSystemFont, 'Segoe UI', Roboto, Oxygen, Ubuntu, Cantarell, 'Helvetica Neue', 'Fira Sans', 'Droid Sans', Arial, sans-serif;\n",
       "          -webkit-font-smoothing: antialiased;\n",
       "          -moz-osx-font-smoothing: grayscale;\n",
       "        }\n",
       "\n",
       "#hcrecfaiqf thead, tbody, tfoot, tr, td, th { border-style: none !important; }\n",
       " tr { background-color: transparent !important; }\n",
       "#hcrecfaiqf p { margin: 0 !important; padding: 0 !important; }\n",
       " #hcrecfaiqf .gt_table { display: table !important; border-collapse: collapse !important; line-height: normal !important; margin-left: auto !important; margin-right: auto !important; color: #333333 !important; font-size: 16px !important; font-weight: normal !important; font-style: normal !important; background-color: #FFFFFF !important; width: auto !important; border-top-style: solid !important; border-top-width: 2px !important; border-top-color: #A8A8A8 !important; border-right-style: none !important; border-right-width: 2px !important; border-right-color: #D3D3D3 !important; border-bottom-style: solid !important; border-bottom-width: 2px !important; border-bottom-color: #A8A8A8 !important; border-left-style: none !important; border-left-width: 2px !important; border-left-color: #D3D3D3 !important; }\n",
       " #hcrecfaiqf .gt_caption { padding-top: 4px !important; padding-bottom: 4px !important; }\n",
       " #hcrecfaiqf .gt_title { color: #333333 !important; font-size: 125% !important; font-weight: initial !important; padding-top: 4px !important; padding-bottom: 4px !important; padding-left: 5px !important; padding-right: 5px !important; border-bottom-color: #FFFFFF !important; border-bottom-width: 0 !important; }\n",
       " #hcrecfaiqf .gt_subtitle { color: #333333 !important; font-size: 85% !important; font-weight: initial !important; padding-top: 3px !important; padding-bottom: 5px !important; padding-left: 5px !important; padding-right: 5px !important; border-top-color: #FFFFFF !important; border-top-width: 0 !important; }\n",
       " #hcrecfaiqf .gt_heading { background-color: #FFFFFF !important; text-align: center !important; border-bottom-color: #FFFFFF !important; border-left-style: none !important; border-left-width: 1px !important; border-left-color: #D3D3D3 !important; border-right-style: none !important; border-right-width: 1px !important; border-right-color: #D3D3D3 !important; }\n",
       " #hcrecfaiqf .gt_bottom_border { border-bottom-style: solid !important; border-bottom-width: 2px !important; border-bottom-color: #D3D3D3 !important; }\n",
       " #hcrecfaiqf .gt_col_headings { border-top-style: solid !important; border-top-width: 2px !important; border-top-color: #D3D3D3 !important; border-bottom-style: solid !important; border-bottom-width: 2px !important; border-bottom-color: #D3D3D3 !important; border-left-style: none !important; border-left-width: 1px !important; border-left-color: #D3D3D3 !important; border-right-style: none !important; border-right-width: 1px !important; border-right-color: #D3D3D3 !important; }\n",
       " #hcrecfaiqf .gt_col_heading { color: #333333 !important; background-color: #FFFFFF !important; font-size: 100% !important; font-weight: normal !important; text-transform: inherit !important; border-left-style: none !important; border-left-width: 1px !important; border-left-color: #D3D3D3 !important; border-right-style: none !important; border-right-width: 1px !important; border-right-color: #D3D3D3 !important; vertical-align: bottom !important; padding-top: 5px !important; padding-bottom: 5px !important; padding-left: 5px !important; padding-right: 5px !important; overflow-x: hidden !important; }\n",
       " #hcrecfaiqf .gt_column_spanner_outer { color: #333333 !important; background-color: #FFFFFF !important; font-size: 100% !important; font-weight: normal !important; text-transform: inherit !important; padding-top: 0 !important; padding-bottom: 0 !important; padding-left: 4px !important; padding-right: 4px !important; }\n",
       " #hcrecfaiqf .gt_column_spanner_outer:first-child { padding-left: 0 !important; }\n",
       " #hcrecfaiqf .gt_column_spanner_outer:last-child { padding-right: 0 !important; }\n",
       " #hcrecfaiqf .gt_column_spanner { border-bottom-style: solid !important; border-bottom-width: 2px !important; border-bottom-color: #D3D3D3 !important; vertical-align: bottom !important; padding-top: 5px !important; padding-bottom: 5px !important; overflow-x: hidden !important; display: inline-block !important; width: 100% !important; }\n",
       " #hcrecfaiqf .gt_spanner_row { border-bottom-style: hidden !important; }\n",
       " #hcrecfaiqf .gt_group_heading { padding-top: 8px !important; padding-bottom: 8px !important; padding-left: 5px !important; padding-right: 5px !important; color: #333333 !important; background-color: #FFFFFF !important; font-size: 100% !important; font-weight: initial !important; text-transform: inherit !important; border-top-style: solid !important; border-top-width: 2px !important; border-top-color: #D3D3D3 !important; border-bottom-style: solid !important; border-bottom-width: 2px !important; border-bottom-color: #D3D3D3 !important; border-left-style: none !important; border-left-width: 1px !important; border-left-color: #D3D3D3 !important; border-right-style: none !important; border-right-width: 1px !important; border-right-color: #D3D3D3 !important; vertical-align: middle !important; text-align: left !important; }\n",
       " #hcrecfaiqf .gt_empty_group_heading { padding: 0.5px !important; color: #333333 !important; background-color: #FFFFFF !important; font-size: 100% !important; font-weight: initial !important; border-top-style: solid !important; border-top-width: 2px !important; border-top-color: #D3D3D3 !important; border-bottom-style: solid !important; border-bottom-width: 2px !important; border-bottom-color: #D3D3D3 !important; vertical-align: middle !important; }\n",
       " #hcrecfaiqf .gt_from_md> :first-child { margin-top: 0 !important; }\n",
       " #hcrecfaiqf .gt_from_md> :last-child { margin-bottom: 0 !important; }\n",
       " #hcrecfaiqf .gt_row { padding-top: 8px !important; padding-bottom: 8px !important; padding-left: 5px !important; padding-right: 5px !important; margin: 10px !important; border-top-style: solid !important; border-top-width: 1px !important; border-top-color: #D3D3D3 !important; border-left-style: none !important; border-left-width: 1px !important; border-left-color: #D3D3D3 !important; border-right-style: none !important; border-right-width: 1px !important; border-right-color: #D3D3D3 !important; vertical-align: middle !important; overflow-x: hidden !important; }\n",
       " #hcrecfaiqf .gt_stub { color: #333333 !important; background-color: #FFFFFF !important; font-size: 100% !important; font-weight: initial !important; text-transform: inherit !important; border-right-style: solid !important; border-right-width: 2px !important; border-right-color: #D3D3D3 !important; padding-left: 5px !important; padding-right: 5px !important; }\n",
       " #hcrecfaiqf .gt_stub_row_group { color: #333333 !important; background-color: #FFFFFF !important; font-size: 100% !important; font-weight: initial !important; text-transform: inherit !important; border-right-style: solid !important; border-right-width: 2px !important; border-right-color: #D3D3D3 !important; padding-left: 5px !important; padding-right: 5px !important; vertical-align: top !important; }\n",
       " #hcrecfaiqf .gt_row_group_first td { border-top-width: 2px !important; }\n",
       " #hcrecfaiqf .gt_row_group_first th { border-top-width: 2px !important; }\n",
       " #hcrecfaiqf .gt_striped { background-color: rgba(128,128,128,0.05) !important; }\n",
       " #hcrecfaiqf .gt_table_body { border-top-style: solid !important; border-top-width: 2px !important; border-top-color: #D3D3D3 !important; border-bottom-style: solid !important; border-bottom-width: 2px !important; border-bottom-color: #D3D3D3 !important; }\n",
       " #hcrecfaiqf .gt_sourcenotes { color: #333333 !important; background-color: #FFFFFF !important; border-bottom-style: none !important; border-bottom-width: 2px !important; border-bottom-color: #D3D3D3 !important; border-left-style: none !important; border-left-width: 2px !important; border-left-color: #D3D3D3 !important; border-right-style: none !important; border-right-width: 2px !important; border-right-color: #D3D3D3 !important; }\n",
       " #hcrecfaiqf .gt_sourcenote { font-size: 90% !important; padding-top: 4px !important; padding-bottom: 4px !important; padding-left: 5px !important; padding-right: 5px !important; text-align: left !important; }\n",
       " #hcrecfaiqf .gt_left { text-align: left !important; }\n",
       " #hcrecfaiqf .gt_center { text-align: center !important; }\n",
       " #hcrecfaiqf .gt_right { text-align: right !important; font-variant-numeric: tabular-nums !important; }\n",
       " #hcrecfaiqf .gt_font_normal { font-weight: normal !important; }\n",
       " #hcrecfaiqf .gt_font_bold { font-weight: bold !important; }\n",
       " #hcrecfaiqf .gt_font_italic { font-style: italic !important; }\n",
       " #hcrecfaiqf .gt_super { font-size: 65% !important; }\n",
       " #hcrecfaiqf .gt_footnote_marks { font-size: 75% !important; vertical-align: 0.4em !important; position: initial !important; }\n",
       " #hcrecfaiqf .gt_asterisk { font-size: 100% !important; vertical-align: 0 !important; }\n",
       " \n",
       "</style>\n",
       "<table class=\"gt_table\" data-quarto-disable-processing=\"false\" data-quarto-bootstrap=\"false\">\n",
       "<thead>\n",
       "\n",
       "  <tr class=\"gt_heading\">\n",
       "    <td colspan=\"10\" class=\"gt_heading gt_title gt_font_normal\">Door Experiment</td>\n",
       "  </tr>\n",
       "<tr class=\"gt_col_headings gt_spanner_row\">\n",
       "  <th class=\"gt_col_heading gt_columns_bottom_border gt_left\" rowspan=\"2\" colspan=\"1\" scope=\"col\" id=\"study_type\">study_type</th>\n",
       "  <th class=\"gt_center gt_columns_top_border gt_column_spanner_outer\" rowspan=\"1\" colspan=\"3\" scope=\"colgroup\" id=\"Ventilation Volume [m3/s]\">\n",
       "    <span class=\"gt_column_spanner\">Ventilation Volume [m3/s]</span>\n",
       "  </th>\n",
       "  <th class=\"gt_center gt_columns_top_border gt_column_spanner_outer\" rowspan=\"1\" colspan=\"3\" scope=\"colgroup\" id=\"Mixing Volume [m3/s]\">\n",
       "    <span class=\"gt_column_spanner\">Mixing Volume [m3/s]</span>\n",
       "  </th>\n",
       "  <th class=\"gt_center gt_columns_top_border gt_column_spanner_outer\" rowspan=\"1\" colspan=\"3\" scope=\"colgroup\" id=\"Temperature [ºC]\">\n",
       "    <span class=\"gt_column_spanner\">Temperature [ºC]</span>\n",
       "  </th>\n",
       "</tr>\n",
       "<tr class=\"gt_col_headings\">\n",
       "  <th class=\"gt_col_heading gt_columns_bottom_border gt_right\" rowspan=\"1\" colspan=\"1\" scope=\"col\" id=\"Mean\">Mean</th>\n",
       "  <th class=\"gt_col_heading gt_columns_bottom_border gt_right\" rowspan=\"1\" colspan=\"1\" scope=\"col\" id=\"Std.\">Std.</th>\n",
       "  <th class=\"gt_col_heading gt_columns_bottom_border gt_right\" rowspan=\"1\" colspan=\"1\" scope=\"col\" id=\"Max. Diff.\">Max. Diff.</th>\n",
       "  <th class=\"gt_col_heading gt_columns_bottom_border gt_right\" rowspan=\"1\" colspan=\"1\" scope=\"col\" id=\"Mean\">Mean</th>\n",
       "  <th class=\"gt_col_heading gt_columns_bottom_border gt_right\" rowspan=\"1\" colspan=\"1\" scope=\"col\" id=\"Std.\">Std.</th>\n",
       "  <th class=\"gt_col_heading gt_columns_bottom_border gt_right\" rowspan=\"1\" colspan=\"1\" scope=\"col\" id=\"Max. Diff.\">Max. Diff.</th>\n",
       "  <th class=\"gt_col_heading gt_columns_bottom_border gt_right\" rowspan=\"1\" colspan=\"1\" scope=\"col\" id=\"Mean\">Mean</th>\n",
       "  <th class=\"gt_col_heading gt_columns_bottom_border gt_right\" rowspan=\"1\" colspan=\"1\" scope=\"col\" id=\"Std.\">Std.</th>\n",
       "  <th class=\"gt_col_heading gt_columns_bottom_border gt_right\" rowspan=\"1\" colspan=\"1\" scope=\"col\" id=\"Max. Diff.\">Max. Diff.</th>\n",
       "</tr>\n",
       "</thead>\n",
       "<tbody class=\"gt_table_body\">\n",
       "  <tr>\n",
       "    <td class=\"gt_row gt_left\">Across</td>\n",
       "    <td class=\"gt_row gt_right\">240</td>\n",
       "    <td class=\"gt_row gt_right\">130</td>\n",
       "    <td class=\"gt_row gt_right\">250</td>\n",
       "    <td class=\"gt_row gt_right\">340</td>\n",
       "    <td class=\"gt_row gt_right\">79</td>\n",
       "    <td class=\"gt_row gt_right\">150</td>\n",
       "    <td class=\"gt_row gt_right\">23</td>\n",
       "    <td class=\"gt_row gt_right\">0.55</td>\n",
       "    <td class=\"gt_row gt_right\">0.99</td>\n",
       "  </tr>\n",
       "  <tr>\n",
       "    <td class=\"gt_row gt_left\">A</td>\n",
       "    <td class=\"gt_row gt_right\">83</td>\n",
       "    <td class=\"gt_row gt_right\">11</td>\n",
       "    <td class=\"gt_row gt_right\">21</td>\n",
       "    <td class=\"gt_row gt_right\">280</td>\n",
       "    <td class=\"gt_row gt_right\">73</td>\n",
       "    <td class=\"gt_row gt_right\">150</td>\n",
       "    <td class=\"gt_row gt_right\">23</td>\n",
       "    <td class=\"gt_row gt_right\">0.23</td>\n",
       "    <td class=\"gt_row gt_right\">0.44</td>\n",
       "  </tr>\n",
       "  <tr>\n",
       "    <td class=\"gt_row gt_left\">B</td>\n",
       "    <td class=\"gt_row gt_right\">330</td>\n",
       "    <td class=\"gt_row gt_right\">11</td>\n",
       "    <td class=\"gt_row gt_right\">22</td>\n",
       "    <td class=\"gt_row gt_right\">160</td>\n",
       "    <td class=\"gt_row gt_right\">81</td>\n",
       "    <td class=\"gt_row gt_right\">160</td>\n",
       "    <td class=\"gt_row gt_right\">23</td>\n",
       "    <td class=\"gt_row gt_right\">0.059</td>\n",
       "    <td class=\"gt_row gt_right\">0.11</td>\n",
       "  </tr>\n",
       "  <tr>\n",
       "    <td class=\"gt_row gt_left\">C</td>\n",
       "    <td class=\"gt_row gt_right\">270</td>\n",
       "    <td class=\"gt_row gt_right\">34</td>\n",
       "    <td class=\"gt_row gt_right\">67</td>\n",
       "    <td class=\"gt_row gt_right\">270</td>\n",
       "    <td class=\"gt_row gt_right\">130</td>\n",
       "    <td class=\"gt_row gt_right\">260</td>\n",
       "    <td class=\"gt_row gt_right\">22</td>\n",
       "    <td class=\"gt_row gt_right\">0.11</td>\n",
       "    <td class=\"gt_row gt_right\">0.20</td>\n",
       "  </tr>\n",
       "</tbody>\n",
       "\n",
       "\n",
       "</table>\n",
       "\n",
       "</div>\n",
       "        "
      ],
      "text/plain": [
       "GT(_tbl_data=shape: (4, 10)\n",
       "┌───────────┬───────────┬───────────┬───────────┬───┬───────────┬───────────┬──────────┬───────────┐\n",
       "│ study_typ ┆ vent_mean ┆ vent_std  ┆ vent_max_ ┆ … ┆ mix_max_d ┆ temp_mean ┆ temp_std ┆ temp_max_ │\n",
       "│ e         ┆ ---       ┆ ---       ┆ diff      ┆   ┆ iff       ┆ ---       ┆ ---      ┆ diff      │\n",
       "│ ---       ┆ f64       ┆ f64       ┆ ---       ┆   ┆ ---       ┆ f64       ┆ f64      ┆ ---       │\n",
       "│ str       ┆           ┆           ┆ f64       ┆   ┆ f64       ┆           ┆          ┆ f64       │\n",
       "╞═══════════╪═══════════╪═══════════╪═══════════╪═══╪═══════════╪═══════════╪══════════╪═══════════╡\n",
       "│ Across    ┆ 243.70874 ┆ 133.47259 ┆ 248.71669 ┆ … ┆ 154.30235 ┆ 22.759494 ┆ 0.549491 ┆ 0.985031  │\n",
       "│           ┆ 6         ┆ 7         ┆ 5         ┆   ┆ 9         ┆           ┆          ┆           │\n",
       "│ A         ┆ 82.576463 ┆ 10.903035 ┆ 20.988171 ┆ … ┆ 145.02318 ┆ 23.361223 ┆ 0.226774 ┆ 0.442606  │\n",
       "│           ┆           ┆           ┆           ┆   ┆ 7         ┆           ┆          ┆           │\n",
       "│ B         ┆ 328.21355 ┆ 11.265602 ┆ 22.4156   ┆ … ┆ 158.64382 ┆ 23.107353 ┆ 0.059332 ┆ 0.114008  │\n",
       "│           ┆ 3         ┆           ┆           ┆   ┆ 6         ┆           ┆          ┆           │\n",
       "│ C         ┆ 265.10290 ┆ 33.571879 ┆ 67.043358 ┆ … ┆ 258.21481 ┆ 22.247525 ┆ 0.106736 ┆ 0.201103  │\n",
       "│           ┆ 8         ┆           ┆           ┆   ┆ 3         ┆           ┆          ┆           │\n",
       "└───────────┴───────────┴───────────┴───────────┴───┴───────────┴───────────┴──────────┴───────────┘, _body=<great_tables._gt_data.Body object at 0x15a6edb30>, _boxhead=Boxhead([ColInfo(var='study_type', type=<ColInfoTypeEnum.default: 1>, column_label='study_type', column_align='left', column_width=None), ColInfo(var='vent_mean', type=<ColInfoTypeEnum.default: 1>, column_label='Mean', column_align='right', column_width=None), ColInfo(var='vent_std', type=<ColInfoTypeEnum.default: 1>, column_label='Std.', column_align='right', column_width=None), ColInfo(var='vent_max_diff', type=<ColInfoTypeEnum.default: 1>, column_label='Max. Diff.', column_align='right', column_width=None), ColInfo(var='mix_mean', type=<ColInfoTypeEnum.default: 1>, column_label='Mean', column_align='right', column_width=None), ColInfo(var='mix_std', type=<ColInfoTypeEnum.default: 1>, column_label='Std.', column_align='right', column_width=None), ColInfo(var='mix_max_diff', type=<ColInfoTypeEnum.default: 1>, column_label='Max. Diff.', column_align='right', column_width=None), ColInfo(var='temp_mean', type=<ColInfoTypeEnum.default: 1>, column_label='Mean', column_align='right', column_width=None), ColInfo(var='temp_std', type=<ColInfoTypeEnum.default: 1>, column_label='Std.', column_align='right', column_width=None), ColInfo(var='temp_max_diff', type=<ColInfoTypeEnum.default: 1>, column_label='Max. Diff.', column_align='right', column_width=None)]), _stub=<great_tables._gt_data.Stub object at 0x14d1890d0>, _spanners=Spanners([SpannerInfo(spanner_id='Ventilation Volume [m3/s]', spanner_level=0, spanner_label='Ventilation Volume [m3/s]', spanner_units=None, spanner_pattern=None, vars=['vent_mean', 'vent_std', 'vent_max_diff'], built=None), SpannerInfo(spanner_id='Mixing Volume [m3/s]', spanner_level=0, spanner_label='Mixing Volume [m3/s]', spanner_units=None, spanner_pattern=None, vars=['mix_mean', 'mix_std', 'mix_max_diff'], built=None), SpannerInfo(spanner_id='Temperature [ºC]', spanner_level=0, spanner_label='Temperature [ºC]', spanner_units=None, spanner_pattern=None, vars=['temp_mean', 'temp_std', 'temp_max_diff'], built=None)]), _heading=Heading(title='Door Experiment', subtitle=None, preheader=None), _stubhead=None, _source_notes=[], _footnotes=[], _styles=[], _locale=<great_tables._gt_data.Locale object at 0x14d189550>, _formats=[<great_tables._gt_data.FormatInfo object at 0x14d188ad0>], _substitutions=[], _options=Options(table_id=OptionsInfo(scss=False, category='table', type='value', value=None), table_caption=OptionsInfo(scss=False, category='table', type='value', value=None), table_width=OptionsInfo(scss=True, category='table', type='px', value='auto'), table_layout=OptionsInfo(scss=True, category='table', type='value', value='fixed'), table_margin_left=OptionsInfo(scss=True, category='table', type='px', value='auto'), table_margin_right=OptionsInfo(scss=True, category='table', type='px', value='auto'), table_background_color=OptionsInfo(scss=True, category='table', type='value', value='#FFFFFF'), table_additional_css=OptionsInfo(scss=False, category='table', type='values', value=[]), table_font_names=OptionsInfo(scss=False, category='table', type='values', value=['-apple-system', 'BlinkMacSystemFont', 'Segoe UI', 'Roboto', 'Oxygen', 'Ubuntu', 'Cantarell', 'Helvetica Neue', 'Fira Sans', 'Droid Sans', 'Arial', 'sans-serif']), table_font_size=OptionsInfo(scss=True, category='table', type='px', value='16px'), table_font_weight=OptionsInfo(scss=True, category='table', type='value', value='normal'), table_font_style=OptionsInfo(scss=True, category='table', type='value', value='normal'), table_font_color=OptionsInfo(scss=True, category='table', type='value', value='#333333'), table_font_color_light=OptionsInfo(scss=True, category='table', type='value', value='#FFFFFF'), table_border_top_include=OptionsInfo(scss=False, category='table', type='boolean', value=True), table_border_top_style=OptionsInfo(scss=True, category='table', type='value', value='solid'), table_border_top_width=OptionsInfo(scss=True, category='table', type='px', value='2px'), table_border_top_color=OptionsInfo(scss=True, category='table', type='value', value='#A8A8A8'), table_border_right_style=OptionsInfo(scss=True, category='table', type='value', value='none'), table_border_right_width=OptionsInfo(scss=True, category='table', type='px', value='2px'), table_border_right_color=OptionsInfo(scss=True, category='table', type='value', value='#D3D3D3'), table_border_bottom_include=OptionsInfo(scss=False, category='table', type='boolean', value=True), table_border_bottom_style=OptionsInfo(scss=True, category='table', type='value', value='solid'), table_border_bottom_width=OptionsInfo(scss=True, category='table', type='px', value='2px'), table_border_bottom_color=OptionsInfo(scss=True, category='table', type='value', value='#A8A8A8'), table_border_left_style=OptionsInfo(scss=True, category='table', type='value', value='none'), table_border_left_width=OptionsInfo(scss=True, category='table', type='px', value='2px'), table_border_left_color=OptionsInfo(scss=True, category='table', type='value', value='#D3D3D3'), heading_background_color=OptionsInfo(scss=True, category='heading', type='value', value=None), heading_align=OptionsInfo(scss=True, category='heading', type='value', value='center'), heading_title_font_size=OptionsInfo(scss=True, category='heading', type='px', value='125%'), heading_title_font_weight=OptionsInfo(scss=True, category='heading', type='value', value='initial'), heading_subtitle_font_size=OptionsInfo(scss=True, category='heading', type='px', value='85%'), heading_subtitle_font_weight=OptionsInfo(scss=True, category='heading', type='value', value='initial'), heading_padding=OptionsInfo(scss=True, category='heading', type='px', value='4px'), heading_padding_horizontal=OptionsInfo(scss=True, category='heading', type='px', value='5px'), heading_border_bottom_style=OptionsInfo(scss=True, category='heading', type='value', value='solid'), heading_border_bottom_width=OptionsInfo(scss=True, category='heading', type='px', value='2px'), heading_border_bottom_color=OptionsInfo(scss=True, category='heading', type='value', value='#D3D3D3'), heading_border_lr_style=OptionsInfo(scss=True, category='heading', type='value', value='none'), heading_border_lr_width=OptionsInfo(scss=True, category='heading', type='px', value='1px'), heading_border_lr_color=OptionsInfo(scss=True, category='heading', type='value', value='#D3D3D3'), column_labels_background_color=OptionsInfo(scss=True, category='column_labels', type='value', value=None), column_labels_font_size=OptionsInfo(scss=True, category='column_labels', type='px', value='100%'), column_labels_font_weight=OptionsInfo(scss=True, category='column_labels', type='value', value='normal'), column_labels_text_transform=OptionsInfo(scss=True, category='column_labels', type='value', value='inherit'), column_labels_padding=OptionsInfo(scss=True, category='column_labels', type='px', value='5px'), column_labels_padding_horizontal=OptionsInfo(scss=True, category='column_labels', type='px', value='5px'), column_labels_vlines_style=OptionsInfo(scss=True, category='table_body', type='value', value='none'), column_labels_vlines_width=OptionsInfo(scss=True, category='table_body', type='px', value='1px'), column_labels_vlines_color=OptionsInfo(scss=True, category='table_body', type='value', value='#D3D3D3'), column_labels_border_top_style=OptionsInfo(scss=True, category='column_labels', type='value', value='solid'), column_labels_border_top_width=OptionsInfo(scss=True, category='column_labels', type='px', value='2px'), column_labels_border_top_color=OptionsInfo(scss=True, category='column_labels', type='value', value='#D3D3D3'), column_labels_border_bottom_style=OptionsInfo(scss=True, category='column_labels', type='value', value='solid'), column_labels_border_bottom_width=OptionsInfo(scss=True, category='column_labels', type='px', value='2px'), column_labels_border_bottom_color=OptionsInfo(scss=True, category='column_labels', type='value', value='#D3D3D3'), column_labels_border_lr_style=OptionsInfo(scss=True, category='column_labels', type='value', value='none'), column_labels_border_lr_width=OptionsInfo(scss=True, category='column_labels', type='px', value='1px'), column_labels_border_lr_color=OptionsInfo(scss=True, category='column_labels', type='value', value='#D3D3D3'), column_labels_hidden=OptionsInfo(scss=False, category='column_labels', type='boolean', value=False), row_group_background_color=OptionsInfo(scss=True, category='row_group', type='value', value=None), row_group_font_size=OptionsInfo(scss=True, category='row_group', type='px', value='100%'), row_group_font_weight=OptionsInfo(scss=True, category='row_group', type='value', value='initial'), row_group_text_transform=OptionsInfo(scss=True, category='row_group', type='value', value='inherit'), row_group_padding=OptionsInfo(scss=True, category='row_group', type='px', value='8px'), row_group_padding_horizontal=OptionsInfo(scss=True, category='row_group', type='px', value='5px'), row_group_border_top_style=OptionsInfo(scss=True, category='row_group', type='value', value='solid'), row_group_border_top_width=OptionsInfo(scss=True, category='row_group', type='px', value='2px'), row_group_border_top_color=OptionsInfo(scss=True, category='row_group', type='value', value='#D3D3D3'), row_group_border_right_style=OptionsInfo(scss=True, category='row_group', type='value', value='none'), row_group_border_right_width=OptionsInfo(scss=True, category='row_group', type='px', value='1px'), row_group_border_right_color=OptionsInfo(scss=True, category='row_group', type='value', value='#D3D3D3'), row_group_border_bottom_style=OptionsInfo(scss=True, category='row_group', type='value', value='solid'), row_group_border_bottom_width=OptionsInfo(scss=True, category='row_group', type='px', value='2px'), row_group_border_bottom_color=OptionsInfo(scss=True, category='row_group', type='value', value='#D3D3D3'), row_group_border_left_style=OptionsInfo(scss=True, category='row_group', type='value', value='none'), row_group_border_left_width=OptionsInfo(scss=True, category='row_group', type='px', value='1px'), row_group_border_left_color=OptionsInfo(scss=True, category='row_group', type='value', value='#D3D3D3'), row_group_as_column=OptionsInfo(scss=False, category='row_group', type='boolean', value=False), table_body_hlines_style=OptionsInfo(scss=True, category='table_body', type='value', value='solid'), table_body_hlines_width=OptionsInfo(scss=True, category='table_body', type='px', value='1px'), table_body_hlines_color=OptionsInfo(scss=True, category='table_body', type='value', value='#D3D3D3'), table_body_vlines_style=OptionsInfo(scss=True, category='table_body', type='value', value='none'), table_body_vlines_width=OptionsInfo(scss=True, category='table_body', type='px', value='1px'), table_body_vlines_color=OptionsInfo(scss=True, category='table_body', type='value', value='#D3D3D3'), table_body_border_top_style=OptionsInfo(scss=True, category='table_body', type='value', value='solid'), table_body_border_top_width=OptionsInfo(scss=True, category='table_body', type='px', value='2px'), table_body_border_top_color=OptionsInfo(scss=True, category='table_body', type='value', value='#D3D3D3'), table_body_border_bottom_style=OptionsInfo(scss=True, category='table_body', type='value', value='solid'), table_body_border_bottom_width=OptionsInfo(scss=True, category='table_body', type='px', value='2px'), table_body_border_bottom_color=OptionsInfo(scss=True, category='table_body', type='value', value='#D3D3D3'), data_row_padding=OptionsInfo(scss=True, category='data_row', type='px', value='8px'), data_row_padding_horizontal=OptionsInfo(scss=True, category='data_row', type='px', value='5px'), stub_background_color=OptionsInfo(scss=True, category='stub', type='value', value=None), stub_font_size=OptionsInfo(scss=True, category='stub', type='px', value='100%'), stub_font_weight=OptionsInfo(scss=True, category='stub', type='value', value='initial'), stub_text_transform=OptionsInfo(scss=True, category='stub', type='value', value='inherit'), stub_border_style=OptionsInfo(scss=True, category='stub', type='value', value='solid'), stub_border_width=OptionsInfo(scss=True, category='stub', type='px', value='2px'), stub_border_color=OptionsInfo(scss=True, category='stub', type='value', value='#D3D3D3'), stub_row_group_background_color=OptionsInfo(scss=True, category='stub', type='value', value=None), stub_row_group_font_size=OptionsInfo(scss=True, category='stub', type='px', value='100%'), stub_row_group_font_weight=OptionsInfo(scss=True, category='stub', type='value', value='initial'), stub_row_group_text_transform=OptionsInfo(scss=True, category='stub', type='value', value='inherit'), stub_row_group_border_style=OptionsInfo(scss=True, category='stub', type='value', value='solid'), stub_row_group_border_width=OptionsInfo(scss=True, category='stub', type='px', value='2px'), stub_row_group_border_color=OptionsInfo(scss=True, category='stub', type='value', value='#D3D3D3'), source_notes_padding=OptionsInfo(scss=True, category='source_notes', type='px', value='4px'), source_notes_padding_horizontal=OptionsInfo(scss=True, category='source_notes', type='px', value='5px'), source_notes_background_color=OptionsInfo(scss=True, category='source_notes', type='value', value=None), source_notes_font_size=OptionsInfo(scss=True, category='source_notes', type='px', value='90%'), source_notes_border_bottom_style=OptionsInfo(scss=True, category='source_notes', type='value', value='none'), source_notes_border_bottom_width=OptionsInfo(scss=True, category='source_notes', type='px', value='2px'), source_notes_border_bottom_color=OptionsInfo(scss=True, category='source_notes', type='value', value='#D3D3D3'), source_notes_border_lr_style=OptionsInfo(scss=True, category='source_notes', type='value', value='none'), source_notes_border_lr_width=OptionsInfo(scss=True, category='source_notes', type='px', value='2px'), source_notes_border_lr_color=OptionsInfo(scss=True, category='source_notes', type='value', value='#D3D3D3'), source_notes_multiline=OptionsInfo(scss=False, category='source_notes', type='boolean', value=True), source_notes_sep=OptionsInfo(scss=False, category='source_notes', type='value', value=' '), row_striping_background_color=OptionsInfo(scss=True, category='row', type='value', value='rgba(128,128,128,0.05)'), row_striping_include_stub=OptionsInfo(scss=False, category='row', type='boolean', value=False), row_striping_include_table_body=OptionsInfo(scss=False, category='row', type='boolean', value=False), container_width=OptionsInfo(scss=False, category='container', type='px', value='auto'), container_height=OptionsInfo(scss=False, category='container', type='px', value='auto'), container_padding_x=OptionsInfo(scss=False, category='container', type='px', value='0px'), container_padding_y=OptionsInfo(scss=False, category='container', type='px', value='10px'), container_overflow_x=OptionsInfo(scss=False, category='container', type='overflow', value='auto'), container_overflow_y=OptionsInfo(scss=False, category='container', type='overflow', value='auto'), quarto_disable_processing=OptionsInfo(scss=False, category='quarto', type='logical', value=False), quarto_use_bootstrap=OptionsInfo(scss=False, category='quarto', type='logical', value=False)), _has_built=False)"
      ]
     },
     "execution_count": 46,
     "metadata": {},
     "output_type": "execute_result"
    }
   ],
   "source": [
    "# def col_fix(i):\n",
    "#     return i\n",
    "        \n",
    "tbl = (\n",
    "    GT(df_stats)\n",
    "    .tab_header(title=\"Door Experiment\")\n",
    "    # .tab_stub(rowname_col=\"study_type\")\n",
    "    .tab_spanner(\n",
    "        label=\"Ventilation Volume [m3/s]\",\n",
    "        columns=other_cols[0:3]\n",
    "    )\n",
    "    .tab_spanner(\n",
    "        label=\"Mixing Volume [m3/s]\",\n",
    "        columns=other_cols[3:6],\n",
    "    )\n",
    "    .tab_spanner(label=\"Temperature [ºC]\", columns=other_cols[6:])\n",
    "    .fmt_number(columns=pl.selectors.numeric(), n_sigfig=2, )  #or decimals.. \n",
    "    .cols_label({i: col_fix(i) for i in other_cols})\n",
    "\n",
    ")\n",
    "tbl"
   ]
  },
  {
   "cell_type": "code",
   "execution_count": 15,
   "metadata": {},
   "outputs": [
    {
     "name": "stdout",
     "output_type": "stream",
     "text": [
      "\\begin{table}[!t]\n",
      "\\caption*{\n",
      "{\\large Door Experiment}\n",
      "} \n",
      "\n",
      "\\fontsize{12.0pt}{14.4pt}\\selectfont\n",
      "\n",
      "\\begin{tabular*}{\\linewidth}{@{\\extracolsep{\\fill}}lrrrrrrrrr}\n",
      "\\toprule\n",
      " & \\multicolumn{3}{c}{Vent} & \\multicolumn{3}{c}{Mix} & \\multicolumn{3}{c}{Temp} \\\\ \n",
      "\\cmidrule(lr){2-4} \\cmidrule(lr){5-7} \\cmidrule(lr){8-10}\n",
      "study\\_type & Mean & Std & Max Diff & Mean & Std & Max Diff & Mean & Std & Max Diff \\\\ \n",
      "\\midrule\\addlinespace[2.5pt]\n",
      "Across Plans & 240 & 130 & 250 & 340 & 79 & 150 & 23 & 0.55 & 0.99 \\\\\n",
      "Red & 270 & 34 & 67 & 270 & 130 & 260 & 22 & 0.11 & 0.20 \\\\\n",
      "Amber & 83 & 11 & 21 & 280 & 73 & 150 & 23 & 0.23 & 0.44 \\\\\n",
      "Bol & 330 & 11 & 22 & 160 & 81 & 160 & 23 & 0.059 & 0.11 \\\\\n",
      "\\bottomrule\n",
      "\\end{tabular*}\n",
      "\n",
      "\\end{table}\n",
      "\n"
     ]
    }
   ],
   "source": [
    "print(tbl.as_latex())"
   ]
  },
  {
   "cell_type": "code",
   "execution_count": 16,
   "metadata": {},
   "outputs": [],
   "source": [
    "vent = (\n",
    "    alt.Chart(df_agg)\n",
    "    .mark_point()\n",
    "    .encode(\n",
    "        x=alt.X(\"case_type:N\"),\n",
    "        y=alt.Y(r\"AFN Zone Ventilation Volume \\[m3\\]:Q\"),\n",
    "        color=\"exp_type\",\n",
    "    )\n",
    ")"
   ]
  }
 ],
 "metadata": {
  "kernelspec": {
   "display_name": ".venv",
   "language": "python",
   "name": "python3"
  },
  "language_info": {
   "codemirror_mode": {
    "name": "ipython",
    "version": 3
   },
   "file_extension": ".py",
   "mimetype": "text/x-python",
   "name": "python",
   "nbconvert_exporter": "python",
   "pygments_lexer": "ipython3",
   "version": "3.13.1"
  }
 },
 "nbformat": 4,
 "nbformat_minor": 2
}
