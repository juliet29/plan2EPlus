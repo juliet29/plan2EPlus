{
 "cells": [
  {
   "cell_type": "code",
   "execution_count": 1,
   "metadata": {},
   "outputs": [],
   "source": [
    "%load_ext autoreload\n",
    "%autoreload 2"
   ]
  },
  {
   "cell_type": "code",
   "execution_count": 2,
   "metadata": {},
   "outputs": [],
   "source": [
    "import sys\n",
    "from pathlib import Path\n",
    "\n",
    "sys.path.append(str(Path.cwd() / \"_scripts\"))"
   ]
  },
  {
   "cell_type": "code",
   "execution_count": 82,
   "metadata": {},
   "outputs": [],
   "source": [
    "import polars as pl\n",
    "from great_tables import GT\n",
    "import altair as alt\n",
    "\n",
    "from collections import namedtuple, defaultdict\n",
    "from itertools import product\n",
    "import functools"
   ]
  },
  {
   "cell_type": "code",
   "execution_count": 102,
   "metadata": {},
   "outputs": [],
   "source": [
    "from plan2eplus.helpers.variable_interfaces import all_variables as vars\n",
    "from plan2eplus.studies.analysis2.all_cases_v_time import create_space_and_site_dfs\n",
    "from plan2eplus.studies.experiments.name_splits import (\n",
    "    create_and_split_data_by_exp,\n",
    "    split_by_case_type_and_alias,\n",
    "    split_by_doors,\n",
    ")\n",
    "from plan2eplus.studies.experiments.retrieve import (\n",
    "    retrieve_comparison_groups,\n",
    ")\n",
    "from plan2eplus.studies.setup.data_wrangle2 import (\n",
    "    create_wide_dataframe_for_many_qois_and_cases,\n",
    ")\n",
    "\n",
    "from plan2eplus.helpers.helpers import chain_flatten, ContainsAsEqualsString\n",
    "\n",
    "from plan2eplus.studies.analysis2.experiment_charts import create_exp_chart, save_charts_for_all_groups\n",
    "\n",
    "from plan2eplus.studies.analysis2.experiment_tables import create_table, print_latex_for_all_tables"
   ]
  },
  {
   "cell_type": "markdown",
   "metadata": {},
   "source": [
    "## running to create outputs.."
   ]
  },
  {
   "cell_type": "code",
   "execution_count": 111,
   "metadata": {},
   "outputs": [
    {
     "data": {
      "text/plain": [
       "CacheInfo(hits=12, misses=3, maxsize=128, currsize=3)"
      ]
     },
     "execution_count": 111,
     "metadata": {},
     "output_type": "execute_result"
    }
   ],
   "source": [
    "# CHECK IF CACHE WORKING -> DONT DELETE \n",
    "create_and_split_data_by_exp.cache_info()"
   ]
  },
  {
   "cell_type": "code",
   "execution_count": 110,
   "metadata": {},
   "outputs": [],
   "source": [
    "# saving all charts... DO NOT DELETE \n",
    "save_charts_for_all_groups()"
   ]
  },
  {
   "cell_type": "code",
   "execution_count": 112,
   "metadata": {},
   "outputs": [
    {
     "name": "stdout",
     "output_type": "stream",
     "text": [
      "\\begin{table}[!t]\n",
      "\\caption*{\n",
      "{\\large Windows Experiment}\n",
      "} \n",
      "\n",
      "\\fontsize{12.0pt}{14.4pt}\\selectfont\n",
      "\n",
      "\\begin{tabular*}{\\linewidth}{@{\\extracolsep{\\fill}}lrrrrrrrrr}\n",
      "\\toprule\n",
      " & \\multicolumn{3}{c}{Vent. Vol. [m³]} & \\multicolumn{3}{c}{Mixing Vol. [m³]} & \\multicolumn{3}{c}{Temp. [ºC]} \\\\ \n",
      "\\cmidrule(lr){2-4} \\cmidrule(lr){5-7} \\cmidrule(lr){8-10}\n",
      "study\\_type & Mean & Std. & Max. Diff. & Mean & Std. & Max. Diff. & Mean & Std. & Max. Diff. \\\\ \n",
      "\\midrule\\addlinespace[2.5pt]\n",
      "Across & 240 & 130 & 250 & 340 & 79 & 150 & 23 & 0.55 & 0.99 \\\\\n",
      "A & 92 & 19 & 38 & 360 & 26 & 52 & 23 & 0.11 & 0.21 \\\\\n",
      "B & 330 & 79 & 160 & 250 & 24 & 47 & 23 & 0.051 & 0.10 \\\\\n",
      "C & 300 & 74 & 150 & 410 & 59 & 120 & 22 & 0.020 & 0.040 \\\\\n",
      "\\bottomrule\n",
      "\\end{tabular*}\n",
      "\n",
      "\\end{table}\n",
      "\n",
      "\n",
      " \n",
      " \n",
      "\n",
      "\\begin{table}[!t]\n",
      "\\caption*{\n",
      "{\\large Materials Experiment}\n",
      "} \n",
      "\n",
      "\\fontsize{12.0pt}{14.4pt}\\selectfont\n",
      "\n",
      "\\begin{tabular*}{\\linewidth}{@{\\extracolsep{\\fill}}lrrrrrrrrr}\n",
      "\\toprule\n",
      " & \\multicolumn{3}{c}{Vent. Vol. [m³]} & \\multicolumn{3}{c}{Mixing Vol. [m³]} & \\multicolumn{3}{c}{Temp. [ºC]} \\\\ \n",
      "\\cmidrule(lr){2-4} \\cmidrule(lr){5-7} \\cmidrule(lr){8-10}\n",
      "study\\_type & Mean & Std. & Max. Diff. & Mean & Std. & Max. Diff. & Mean & Std. & Max. Diff. \\\\ \n",
      "\\midrule\\addlinespace[2.5pt]\n",
      "Across & 240 & 130 & 250 & 340 & 79 & 150 & 23 & 0.55 & 0.99 \\\\\n",
      "A & 92 & 0.97 & 1.9 & 360 & 5.4 & 11 & 23 & 0.11 & 0.22 \\\\\n",
      "B & 340 & 8.1 & 15 & 260 & 13 & 23 & 23 & 0.12 & 0.23 \\\\\n",
      "C & 310 & 7.1 & 14 & 420 & 11 & 21 & 22 & 0.087 & 0.17 \\\\\n",
      "\\bottomrule\n",
      "\\end{tabular*}\n",
      "\n",
      "\\end{table}\n",
      "\n",
      "\n",
      " \n",
      " \n",
      "\n",
      "\\begin{table}[!t]\n",
      "\\caption*{\n",
      "{\\large Doors Experiment}\n",
      "} \n",
      "\n",
      "\\fontsize{12.0pt}{14.4pt}\\selectfont\n",
      "\n",
      "\\begin{tabular*}{\\linewidth}{@{\\extracolsep{\\fill}}lrrrrrrrrr}\n",
      "\\toprule\n",
      " & \\multicolumn{3}{c}{Vent. Vol. [m³]} & \\multicolumn{3}{c}{Mixing Vol. [m³]} & \\multicolumn{3}{c}{Temp. [ºC]} \\\\ \n",
      "\\cmidrule(lr){2-4} \\cmidrule(lr){5-7} \\cmidrule(lr){8-10}\n",
      "study\\_type & Mean & Std. & Max. Diff. & Mean & Std. & Max. Diff. & Mean & Std. & Max. Diff. \\\\ \n",
      "\\midrule\\addlinespace[2.5pt]\n",
      "Across & 240 & 130 & 250 & 340 & 79 & 150 & 23 & 0.55 & 0.99 \\\\\n",
      "A & 83 & 11 & 21 & 280 & 73 & 150 & 23 & 0.23 & 0.44 \\\\\n",
      "B & 330 & 11 & 22 & 160 & 81 & 160 & 23 & 0.059 & 0.11 \\\\\n",
      "C & 270 & 34 & 67 & 270 & 130 & 260 & 22 & 0.11 & 0.20 \\\\\n",
      "\\bottomrule\n",
      "\\end{tabular*}\n",
      "\n",
      "\\end{table}\n",
      "\n",
      "\n",
      " \n",
      " \n",
      "\n"
     ]
    }
   ],
   "source": [
    "print_latex_for_all_tables()"
   ]
  }
 ],
 "metadata": {
  "kernelspec": {
   "display_name": ".venv",
   "language": "python",
   "name": "python3"
  },
  "language_info": {
   "codemirror_mode": {
    "name": "ipython",
    "version": 3
   },
   "file_extension": ".py",
   "mimetype": "text/x-python",
   "name": "python",
   "nbconvert_exporter": "python",
   "pygments_lexer": "ipython3",
   "version": "3.13.1"
  }
 },
 "nbformat": 4,
 "nbformat_minor": 2
}
