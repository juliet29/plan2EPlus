{
 "cells": [
  {
   "cell_type": "code",
   "execution_count": 1,
   "metadata": {},
   "outputs": [],
   "source": [
    "%load_ext autoreload\n",
    "%autoreload 2"
   ]
  },
  {
   "cell_type": "code",
   "execution_count": null,
   "metadata": {},
   "outputs": [],
   "source": [
    "from collections import namedtuple\n",
    "\n",
    "from plan2eplus.config import PATH_TO_INPUT_CASES, PATH_TO_OUTPUT_CASES\n",
    "from plan2eplus.case_edits.ezcase import create_ezcase"
   ]
  },
  {
   "cell_type": "code",
   "execution_count": 24,
   "metadata": {},
   "outputs": [
    {
     "name": "stdout",
     "output_type": "stream",
     "text": [
      "/Users/julietnwagwuume-ezeoke/_UILCode/gqe-phd/svg2plan/outputs2/case_bol_5\n",
      "No epw! Now its EPW file Data for [\"PALO-ALTO-AP\"]\n"
     ]
    },
    {
     "ename": "ValueError",
     "evalue": "'EAST' is not in list",
     "output_type": "error",
     "traceback": [
      "\u001b[0;31m---------------------------------------------------------------------------\u001b[0m",
      "\u001b[0;31mValueError\u001b[0m                                Traceback (most recent call last)",
      "Cell \u001b[0;32mIn[24], line 3\u001b[0m\n\u001b[1;32m      1\u001b[0m inputs_dir \u001b[38;5;241m=\u001b[39m \u001b[38;5;124m\"\u001b[39m\u001b[38;5;124mcase_bol_5\u001b[39m\u001b[38;5;124m\"\u001b[39m\n\u001b[1;32m      2\u001b[0m outputs_dir \u001b[38;5;241m=\u001b[39m \u001b[38;5;124m\"\u001b[39m\u001b[38;5;124mtest/test25_airwwall\u001b[39m\u001b[38;5;124m\"\u001b[39m\n\u001b[0;32m----> 3\u001b[0m \u001b[43mcreate_ezcase\u001b[49m\u001b[43m(\u001b[49m\u001b[43moutputs_dir\u001b[49m\u001b[43m,\u001b[49m\u001b[43m \u001b[49m\u001b[43minputs_dir\u001b[49m\u001b[43m)\u001b[49m\n",
      "File \u001b[0;32m~/_UILCode/gqe-phd/plan2eplus/src/plan2eplus/case_edits/ezcase.py:91\u001b[0m, in \u001b[0;36mcreate_ezcase\u001b[0;34m(outputs_dir, inputs_dir, cons_set_type, win_change_data, epw, analysis_period)\u001b[0m\n\u001b[1;32m     88\u001b[0m case \u001b[38;5;241m=\u001b[39m EneryPlusCaseEditor(path_to_outputs, epw\u001b[38;5;241m=\u001b[39mepw, analysis_period\u001b[38;5;241m=\u001b[39manalysis_period)  \u001b[38;5;66;03m# type: ignore\u001b[39;00m\n\u001b[1;32m     90\u001b[0m \u001b[38;5;28;01mcase\u001b[39;00m\u001b[38;5;241m.\u001b[39midf \u001b[38;5;241m=\u001b[39m add_rooms(case\u001b[38;5;241m.\u001b[39midf, path_to_inputs)\n\u001b[0;32m---> 91\u001b[0m \u001b[38;5;28;01mcase\u001b[39;00m\u001b[38;5;241m.\u001b[39midf \u001b[38;5;241m=\u001b[39m \u001b[43madd_subsurfaces\u001b[49m\u001b[43m(\u001b[49m\u001b[43mcase\u001b[49m\u001b[38;5;241;43m.\u001b[39;49m\u001b[43midf\u001b[49m\u001b[43m,\u001b[49m\u001b[43m \u001b[49m\u001b[43mpath_to_inputs\u001b[49m\u001b[43m,\u001b[49m\u001b[43m \u001b[49m\u001b[43mwin_change_data\u001b[49m\u001b[43m)\u001b[49m\n\u001b[1;32m     92\u001b[0m \u001b[38;5;28;01mcase\u001b[39;00m\u001b[38;5;241m.\u001b[39midf \u001b[38;5;241m=\u001b[39m assign_cons_set(case\u001b[38;5;241m.\u001b[39midf, cons_set_type)\n\u001b[1;32m     94\u001b[0m \u001b[38;5;28;01mcase\u001b[39;00m\u001b[38;5;241m.\u001b[39midf \u001b[38;5;241m=\u001b[39m add_airflownetwork(case\u001b[38;5;241m.\u001b[39midf)\n",
      "File \u001b[0;32m~/_UILCode/gqe-phd/plan2eplus/src/plan2eplus/case_edits/ezcase.py:55\u001b[0m, in \u001b[0;36madd_subsurfaces\u001b[0;34m(_idf, path_to_inputs, win_change_data)\u001b[0m\n\u001b[1;32m     51\u001b[0m \u001b[38;5;28;01mdef\u001b[39;00m\u001b[38;5;250m \u001b[39m\u001b[38;5;21madd_subsurfaces\u001b[39m(\n\u001b[1;32m     52\u001b[0m     _idf: IDF, path_to_inputs: Path, win_change_data: WindowChangeData \u001b[38;5;241m|\u001b[39m \u001b[38;5;28;01mNone\u001b[39;00m \u001b[38;5;241m=\u001b[39m \u001b[38;5;28;01mNone\u001b[39;00m\n\u001b[1;32m     53\u001b[0m ):\n\u001b[1;32m     54\u001b[0m     idf \u001b[38;5;241m=\u001b[39m deepcopy(_idf)\n\u001b[0;32m---> 55\u001b[0m     pairs \u001b[38;5;241m=\u001b[39m \u001b[43mget_subsurface_pairs_from_case\u001b[49m\u001b[43m(\u001b[49m\u001b[43mpath_to_inputs\u001b[49m\u001b[43m,\u001b[49m\u001b[43m \u001b[49m\u001b[43mwin_change_data\u001b[49m\u001b[43m)\u001b[49m\n\u001b[1;32m     56\u001b[0m     idf \u001b[38;5;241m=\u001b[39m add_subsurfaces_to_case(idf, pairs)\n\u001b[1;32m     57\u001b[0m     \u001b[38;5;28;01mreturn\u001b[39;00m idf\n",
      "File \u001b[0;32m~/_UILCode/gqe-phd/plan2eplus/src/plan2eplus/plan/graph_to_subsurfaces.py:112\u001b[0m, in \u001b[0;36mget_subsurface_pairs_from_case\u001b[0;34m(path_to_inputs, win_change_data)\u001b[0m\n\u001b[1;32m    109\u001b[0m graph_data \u001b[38;5;241m=\u001b[39m load_data_from_json(path_to_inputs, GRAPH)\n\u001b[1;32m    110\u001b[0m edges: \u001b[38;5;28mlist\u001b[39m[GraphEdgeJSON] \u001b[38;5;241m=\u001b[39m graph_data[\u001b[38;5;124m\"\u001b[39m\u001b[38;5;124mlinks\u001b[39m\u001b[38;5;124m\"\u001b[39m]\n\u001b[1;32m    111\u001b[0m \u001b[38;5;28;01mreturn\u001b[39;00m [\n\u001b[0;32m--> 112\u001b[0m     \u001b[43mhandle_edge\u001b[49m\u001b[43m(\u001b[49m\u001b[43me\u001b[49m\u001b[43m,\u001b[49m\u001b[43m \u001b[49m\u001b[43mroom_map\u001b[49m\u001b[43m,\u001b[49m\u001b[43m \u001b[49m\u001b[43mdatabases\u001b[49m\u001b[43m)\u001b[49m \u001b[38;5;28;01mfor\u001b[39;00m e \u001b[38;5;129;01min\u001b[39;00m edges \u001b[38;5;28;01mif\u001b[39;00m e[\u001b[38;5;124m\"\u001b[39m\u001b[38;5;124mdetails\u001b[39m\u001b[38;5;124m\"\u001b[39m][\u001b[38;5;124m\"\u001b[39m\u001b[38;5;124mid\u001b[39m\u001b[38;5;124m\"\u001b[39m] \u001b[38;5;241m!=\u001b[39m \u001b[38;5;241m0\u001b[39m\n\u001b[1;32m    113\u001b[0m ]\n",
      "File \u001b[0;32m~/_UILCode/gqe-phd/plan2eplus/src/plan2eplus/plan/graph_to_subsurfaces.py:81\u001b[0m, in \u001b[0;36mhandle_edge\u001b[0;34m(e, room_map, databases)\u001b[0m\n\u001b[1;32m     73\u001b[0m \u001b[38;5;28;01mdef\u001b[39;00m\u001b[38;5;250m \u001b[39m\u001b[38;5;21mhandle_edge\u001b[39m(\n\u001b[1;32m     74\u001b[0m     e: GraphEdgeJSON,\n\u001b[1;32m     75\u001b[0m     room_map: \u001b[38;5;28mdict\u001b[39m[\u001b[38;5;28mint\u001b[39m, \u001b[38;5;28mstr\u001b[39m],\n\u001b[1;32m     76\u001b[0m     databases: \u001b[38;5;28mlist\u001b[39m[\u001b[38;5;28mdict\u001b[39m[\u001b[38;5;28mint\u001b[39m, SubsurfaceAttributes]],\n\u001b[1;32m     77\u001b[0m ):\n\u001b[1;32m     78\u001b[0m     source, target \u001b[38;5;241m=\u001b[39m e[\u001b[38;5;124m\"\u001b[39m\u001b[38;5;124msource\u001b[39m\u001b[38;5;124m\"\u001b[39m], e[\u001b[38;5;124m\"\u001b[39m\u001b[38;5;124mtarget\u001b[39m\u001b[38;5;124m\"\u001b[39m]\n\u001b[1;32m     79\u001b[0m     \u001b[38;5;28;01mreturn\u001b[39;00m SubsurfacePair(\n\u001b[1;32m     80\u001b[0m         get_node_mapping(source, room_map),\n\u001b[0;32m---> 81\u001b[0m         \u001b[43mget_node_mapping\u001b[49m\u001b[43m(\u001b[49m\u001b[43mtarget\u001b[49m\u001b[43m,\u001b[49m\u001b[43m \u001b[49m\u001b[43mroom_map\u001b[49m\u001b[43m)\u001b[49m,\n\u001b[1;32m     82\u001b[0m         get_attr(e[\u001b[38;5;124m\"\u001b[39m\u001b[38;5;124mdetails\u001b[39m\u001b[38;5;124m\"\u001b[39m], databases),\n\u001b[1;32m     83\u001b[0m     )\n",
      "File \u001b[0;32m~/_UILCode/gqe-phd/plan2eplus/src/plan2eplus/plan/graph_to_subsurfaces.py:68\u001b[0m, in \u001b[0;36mget_node_mapping\u001b[0;34m(node, room_map)\u001b[0m\n\u001b[1;32m     66\u001b[0m \u001b[38;5;28;01mdef\u001b[39;00m\u001b[38;5;250m \u001b[39m\u001b[38;5;21mget_node_mapping\u001b[39m(node: \u001b[38;5;28mstr\u001b[39m, room_map: \u001b[38;5;28mdict\u001b[39m[\u001b[38;5;28mint\u001b[39m, \u001b[38;5;28mstr\u001b[39m]):\n\u001b[1;32m     67\u001b[0m     \u001b[38;5;28;01mtry\u001b[39;00m:\n\u001b[0;32m---> 68\u001b[0m         \u001b[38;5;28;01mreturn\u001b[39;00m \u001b[43mkey_from_value\u001b[49m\u001b[43m(\u001b[49m\u001b[43mroom_map\u001b[49m\u001b[43m,\u001b[49m\u001b[43m \u001b[49m\u001b[43mnode\u001b[49m\u001b[43m)\u001b[49m\n\u001b[1;32m     69\u001b[0m     \u001b[38;5;28;01mexcept\u001b[39;00m \u001b[38;5;167;01mKeyError\u001b[39;00m:\n\u001b[1;32m     70\u001b[0m         \u001b[38;5;28;01mreturn\u001b[39;00m WallNormal[node]\n",
      "File \u001b[0;32m~/_UILCode/gqe-phd/plan2eplus/src/plan2eplus/helpers/helpers.py:16\u001b[0m, in \u001b[0;36mkey_from_value\u001b[0;34m(dict, val)\u001b[0m\n\u001b[1;32m     15\u001b[0m \u001b[38;5;28;01mdef\u001b[39;00m\u001b[38;5;250m \u001b[39m\u001b[38;5;21mkey_from_value\u001b[39m(\u001b[38;5;28mdict\u001b[39m: Dict, val):\n\u001b[0;32m---> 16\u001b[0m     \u001b[38;5;28;01mreturn\u001b[39;00m \u001b[38;5;28mlist\u001b[39m(\u001b[38;5;28mdict\u001b[39m\u001b[38;5;241m.\u001b[39mkeys())[\u001b[38;5;28;43mlist\u001b[39;49m\u001b[43m(\u001b[49m\u001b[38;5;28;43mdict\u001b[39;49m\u001b[38;5;241;43m.\u001b[39;49m\u001b[43mvalues\u001b[49m\u001b[43m(\u001b[49m\u001b[43m)\u001b[49m\u001b[43m)\u001b[49m\u001b[38;5;241;43m.\u001b[39;49m\u001b[43mindex\u001b[49m\u001b[43m(\u001b[49m\u001b[43mval\u001b[49m\u001b[43m)\u001b[49m]\n",
      "\u001b[0;31mValueError\u001b[0m: 'EAST' is not in list"
     ]
    }
   ],
   "source": [
    "inputs_dir = \"case_bol_5\"\n",
    "outputs_dir = \"test/test25_airwwall\"\n",
    "create_ezcase(outputs_dir, inputs_dir)"
   ]
  }
 ],
 "metadata": {
  "kernelspec": {
   "display_name": ".venv",
   "language": "python",
   "name": "python3"
  },
  "language_info": {
   "codemirror_mode": {
    "name": "ipython",
    "version": 3
   },
   "file_extension": ".py",
   "mimetype": "text/x-python",
   "name": "python",
   "nbconvert_exporter": "python",
   "pygments_lexer": "ipython3",
   "version": "3.13.1"
  }
 },
 "nbformat": 4,
 "nbformat_minor": 2
}
