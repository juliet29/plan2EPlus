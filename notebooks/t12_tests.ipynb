{
 "cells": [
  {
   "cell_type": "code",
   "execution_count": 25,
   "metadata": {},
   "outputs": [],
   "source": [
    "%load_ext autoreload\n",
    "%autoreload 2"
   ]
  },
  {
   "cell_type": "code",
   "execution_count": 45,
   "metadata": {},
   "outputs": [],
   "source": [
    "from collections import namedtuple\n",
    "\n",
    "from plan2eplus.case_edits.self_contained import run_ezcase\n",
    "from plan2eplus.helpers.geometry_interfaces import WallNormal\n",
    "from plan2eplus.helpers.helpers import sort_and_group_objects, sort_and_group_objects_dict\n"
   ]
  },
  {
   "cell_type": "code",
   "execution_count": 27,
   "metadata": {},
   "outputs": [
    {
     "data": {
      "text/plain": [
       "<plan2eplus.case_edits.extended_idf.ExtendedIDF at 0x10f6376f0>"
      ]
     },
     "execution_count": 27,
     "metadata": {},
     "output_type": "execute_result"
    }
   ],
   "source": [
    "idf = run_ezcase()\n",
    "idf"
   ]
  },
  {
   "cell_type": "code",
   "execution_count": 41,
   "metadata": {},
   "outputs": [
    {
     "data": {
      "text/plain": [
       "WallDir(wall='Block 00 Storey 0 Wall 0001', dir=<WallNormal.EAST: 90.0>)"
      ]
     },
     "execution_count": 41,
     "metadata": {},
     "output_type": "execute_result"
    }
   ],
   "source": [
    "# get all surfaces based on azimuth.. \n",
    "WallDir = namedtuple(\"WallDir\", [\"wall\", \"dir\"])\n",
    "walls_and_dirs = [WallDir(i.Name, WallNormal(round(float(i.azimuth)))) for i in idf.getsurfaces()] # TODO make this cleaner.. \n",
    "\n",
    "walls_and_dirs[0]"
   ]
  },
  {
   "cell_type": "code",
   "execution_count": 46,
   "metadata": {},
   "outputs": [
    {
     "data": {
      "text/plain": [
       "{0.0: [WallDir(wall='Block 00 Storey 0 Wall 0002', dir=<WallNormal.NORTH: 0.0>),\n",
       "  WallDir(wall='Block 00 Storey 0 Floor 0001', dir=<WallNormal.NORTH: 0.0>),\n",
       "  WallDir(wall='Block 00 Storey 0 Roof 0001', dir=<WallNormal.NORTH: 0.0>),\n",
       "  WallDir(wall='Block 00 Storey 0 Wall 0002', dir=<WallNormal.NORTH: 0.0>),\n",
       "  WallDir(wall='Block 00 Storey 0 Floor 0001', dir=<WallNormal.NORTH: 0.0>),\n",
       "  WallDir(wall='Block 00 Storey 0 Roof 0001', dir=<WallNormal.NORTH: 0.0>)],\n",
       " 90.0: [WallDir(wall='Block 00 Storey 0 Wall 0001', dir=<WallNormal.EAST: 90.0>),\n",
       "  WallDir(wall='Block 00 Storey 0 Wall 0001', dir=<WallNormal.EAST: 90.0>)],\n",
       " 180.0: [WallDir(wall='Block 00 Storey 0 Wall 0004', dir=<WallNormal.SOUTH: 180.0>),\n",
       "  WallDir(wall='Block 00 Storey 0 Wall 0004', dir=<WallNormal.SOUTH: 180.0>)],\n",
       " 270.0: [WallDir(wall='Block 00 Storey 0 Wall 0003', dir=<WallNormal.WEST: 270.0>),\n",
       "  WallDir(wall='Block 00 Storey 0 Wall 0003', dir=<WallNormal.WEST: 270.0>)]}"
      ]
     },
     "execution_count": 46,
     "metadata": {},
     "output_type": "execute_result"
    }
   ],
   "source": [
    "res = sort_and_group_objects_dict(walls_and_dirs, lambda x: x.dir.value)\n",
    "res"
   ]
  }
 ],
 "metadata": {
  "kernelspec": {
   "display_name": ".venv",
   "language": "python",
   "name": "python3"
  },
  "language_info": {
   "codemirror_mode": {
    "name": "ipython",
    "version": 3
   },
   "file_extension": ".py",
   "mimetype": "text/x-python",
   "name": "python",
   "nbconvert_exporter": "python",
   "pygments_lexer": "ipython3",
   "version": "3.13.1"
  }
 },
 "nbformat": 4,
 "nbformat_minor": 2
}
