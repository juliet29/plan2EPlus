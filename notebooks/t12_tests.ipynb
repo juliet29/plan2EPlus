{
 "cells": [
  {
   "cell_type": "code",
   "execution_count": 1,
   "metadata": {},
   "outputs": [],
   "source": [
    "%load_ext autoreload\n",
    "%autoreload 2"
   ]
  },
  {
   "cell_type": "code",
   "execution_count": null,
   "metadata": {},
   "outputs": [],
   "source": [
    "from collections import namedtuple\n",
    "\n",
    "from plan2eplus.config import PATH_TO_SVG2PLAN_CASES, PATH_TO_OUTPUT_CASES\n",
    "from plan2eplus.case_edits.ezcase import create_ezcase"
   ]
  },
  {
   "cell_type": "code",
   "execution_count": 5,
   "metadata": {},
   "outputs": [
    {
     "name": "stdout",
     "output_type": "stream",
     "text": [
      "/Users/julietnwagwuume-ezeoke/_UILCode/gqe-phd/svg2plan/outputs2/case_bol_5\n",
      "No epw! Now its EPW file Data for [\"PALO-ALTO-AP\"]\n",
      "out.idf does not exist\n"
     ]
    },
    {
     "data": {
      "text/plain": [
       "EPCaseEditor(test25_airwwall)"
      ]
     },
     "execution_count": 5,
     "metadata": {},
     "output_type": "execute_result"
    }
   ],
   "source": [
    "inputs_dir = \"case_bol_5\"\n",
    "outputs_dir = \"test/test25_airwwall\"\n",
    "case = create_ezcase(outputs_dir, inputs_dir)\n",
    "case"
   ]
  },
  {
   "cell_type": "code",
   "execution_count": 6,
   "metadata": {},
   "outputs": [
    {
     "name": "stdout",
     "output_type": "stream",
     "text": [
      "idf has changed - running case\n"
     ]
    },
    {
     "name": "stderr",
     "output_type": "stream",
     "text": [
      "EnergyPlus Completed Successfully.\n"
     ]
    },
    {
     "data": {
      "text/html": [
       "<pre style=\"white-space:pre;overflow-x:auto;line-height:normal;font-family:Menlo,'DejaVu Sans Mono',consolas,'Courier New',monospace\"><span style=\"color: #008000; text-decoration-color: #008000; font-weight: bold\"> Simulation for case ` test/test25_airwwall` succeeded </span> \n",
       "\n",
       "</pre>\n"
      ],
      "text/plain": [
       "\u001b[1;32m Simulation for case ` test/test25_airwwall` succeeded \u001b[0m \n",
       "\n"
      ]
     },
     "metadata": {},
     "output_type": "display_data"
    }
   ],
   "source": [
    "case.run_idf()"
   ]
  },
  {
   "cell_type": "code",
   "execution_count": 22,
   "metadata": {},
   "outputs": [],
   "source": [
    "from eppy.function_helpers import getcoords"
   ]
  },
  {
   "cell_type": "code",
   "execution_count": 23,
   "metadata": {},
   "outputs": [
    {
     "data": {
      "text/plain": [
       "[(2.5, 6.44, 3.05), (2.5, 6.44, 0.0), (0.0, 6.44, 0.0), (0.0, 6.44, 3.05)]"
      ]
     },
     "execution_count": 23,
     "metadata": {},
     "output_type": "execute_result"
    }
   ],
   "source": [
    "getcoords(case.idf.getsurfaces()[0])"
   ]
  },
  {
   "cell_type": "code",
   "execution_count": 26,
   "metadata": {},
   "outputs": [],
   "source": [
    "from eppy.bunch_subclass import addfunctions"
   ]
  },
  {
   "cell_type": "code",
   "execution_count": null,
   "metadata": {},
   "outputs": [
    {
     "data": {
      "text/plain": [
       "{'area': <function eppy.function_helpers.area(ddtt)>,\n",
       " 'height': <function eppy.function_helpers.height(ddtt)>,\n",
       " 'width': <function eppy.function_helpers.width(ddtt)>,\n",
       " 'azimuth': <function eppy.function_helpers.azimuth(ddtt)>,\n",
       " 'true_azimuth': <function eppy.function_helpers.true_azimuth(ddtt)>,\n",
       " 'tilt': <function eppy.function_helpers.tilt(ddtt)>,\n",
       " 'coords': <function eppy.function_helpers.getcoords(ddtt)>,\n",
       " 'subsurfaces': <function eppy.function_helpers.subsurfaces(ddtt)>}"
      ]
     },
     "execution_count": 28,
     "metadata": {},
     "output_type": "execute_result"
    }
   ],
   "source": [
    "case.idf.getsurfaces()[0].__functions\n",
    "\n",
    "# {'area': <function eppy.function_helpers.area(ddtt)>,\n",
    "#  'height': <function eppy.function_helpers.height(ddtt)>,\n",
    "#  'width': <function eppy.function_helpers.width(ddtt)>,\n",
    "#  'azimuth': <function eppy.function_helpers.azimuth(ddtt)>,\n",
    "#  'true_azimuth': <function eppy.function_helpers.true_azimuth(ddtt)>,\n",
    "#  'tilt': <function eppy.function_helpers.tilt(ddtt)>,\n",
    "#  'coords': <function eppy.function_helpers.getcoords(ddtt)>,\n",
    "#  'subsurfaces': <function eppy.function_helpers.subsurfaces(ddtt)>}"
   ]
  },
  {
   "cell_type": "code",
   "execution_count": null,
   "metadata": {},
   "outputs": [
    {
     "data": {
      "text/plain": [
       "[\n",
       " WINDOW,\n",
       "     Block 00 Storey 0 Wall 0002 Window,    !- Name\n",
       "     Medium Window Sgl Clr 6mm,    !- Construction Name\n",
       "     Block 00 Storey 0 Wall 0002,    !- Building Surface Name\n",
       "     ,                         !- Frame and Divider Name\n",
       "     1.0,                      !- Multiplier\n",
       "     0.895,                    !- Starting X Coordinate\n",
       "     1.4994999999999998,       !- Starting Z Coordinate\n",
       "     0.71,                     !- Length\n",
       "     1.52;                     !- Height]"
      ]
     },
     "execution_count": 29,
     "metadata": {},
     "output_type": "execute_result"
    }
   ],
   "source": [
    "case.idf.getsurfaces()[0].getreferingobjs()\n",
    "\n",
    "# [\n",
    "#  WINDOW,\n",
    "#      Block 00 Storey 0 Wall 0002 Window,    !- Name\n",
    "#      Medium Window Sgl Clr 6mm,    !- Construction Name\n",
    "#      Block 00 Storey 0 Wall 0002,    !- Building Surface Name\n",
    "#      ,                         !- Frame and Divider Name\n",
    "#      1.0,                      !- Multiplier\n",
    "#      0.895,                    !- Starting X Coordinate\n",
    "#      1.4994999999999998,       !- Starting Z Coordinate\n",
    "#      0.71,                     !- Length\n",
    "#      1.52;                     !- Height]"
   ]
  },
  {
   "cell_type": "code",
   "execution_count": null,
   "metadata": {},
   "outputs": [
    {
     "data": {
      "text/plain": [
       "\n",
       "BUILDINGSURFACE:DETAILED,\n",
       "    Block 00 Storey 0 Wall 0002,    !- Name\n",
       "    wall,                     !- Surface Type\n",
       "    Medium Exterior Wall,     !- Construction Name\n",
       "    Block 00 Storey 0,        !- Zone Name\n",
       "    ,                         !- Space Name\n",
       "    outdoors,                 !- Outside Boundary Condition\n",
       "    ,                         !- Outside Boundary Condition Object\n",
       "    SunExposed,               !- Sun Exposure\n",
       "    WindExposed,              !- Wind Exposure\n",
       "    autocalculate,            !- View Factor to Ground\n",
       "    autocalculate,            !- Number of Vertices\n",
       "    2.5,                      !- Vertex 1 Xcoordinate\n",
       "    6.44,                     !- Vertex 1 Ycoordinate\n",
       "    3.05,                     !- Vertex 1 Zcoordinate\n",
       "    2.5,                      !- Vertex 2 Xcoordinate\n",
       "    6.44,                     !- Vertex 2 Ycoordinate\n",
       "    0,                        !- Vertex 2 Zcoordinate\n",
       "    0,                        !- Vertex 3 Xcoordinate\n",
       "    6.44,                     !- Vertex 3 Ycoordinate\n",
       "    0,                        !- Vertex 3 Zcoordinate\n",
       "    0,                        !- Vertex 4 Xcoordinate\n",
       "    6.44,                     !- Vertex 4 Ycoordinate\n",
       "    3.05;                     !- Vertex 4 Zcoordinate"
      ]
     },
     "execution_count": 27,
     "metadata": {},
     "output_type": "execute_result"
    }
   ],
   "source": [
    "addfunctions(case.idf.getsurfaces()[0])"
   ]
  },
  {
   "cell_type": "code",
   "execution_count": null,
   "metadata": {},
   "outputs": [
    {
     "data": {
      "text/plain": [
       "[\n",
       " WINDOW,\n",
       "     Block 00 Storey 0 Wall 0002 Window,    !- Name\n",
       "     Medium Window Sgl Clr 6mm,    !- Construction Name\n",
       "     Block 00 Storey 0 Wall 0002,    !- Building Surface Name\n",
       "     ,                         !- Frame and Divider Name\n",
       "     1.0,                      !- Multiplier\n",
       "     0.895,                    !- Starting X Coordinate\n",
       "     1.4994999999999998,       !- Starting Z Coordinate\n",
       "     0.71,                     !- Length\n",
       "     1.52;                     !- Height]"
      ]
     },
     "execution_count": 25,
     "metadata": {},
     "output_type": "execute_result"
    }
   ],
   "source": [
    "case.idf.getsurfaces()[0].obj"
   ]
  },
  {
   "cell_type": "code",
   "execution_count": null,
   "metadata": {},
   "outputs": [],
   "source": []
  },
  {
   "cell_type": "code",
   "execution_count": null,
   "metadata": {},
   "outputs": [
    {
     "data": {
      "text/plain": [
       "\n",
       "BUILDINGSURFACE:DETAILED,\n",
       "    Block 00 Storey 0 Wall 0002,    !- Name\n",
       "    wall,                     !- Surface Type\n",
       "    Medium Exterior Wall,     !- Construction Name\n",
       "    Block 00 Storey 0,        !- Zone Name\n",
       "    ,                         !- Space Name\n",
       "    outdoors,                 !- Outside Boundary Condition\n",
       "    ,                         !- Outside Boundary Condition Object\n",
       "    SunExposed,               !- Sun Exposure\n",
       "    WindExposed,              !- Wind Exposure\n",
       "    autocalculate,            !- View Factor to Ground\n",
       "    autocalculate,            !- Number of Vertices\n",
       "    2.5,                      !- Vertex 1 Xcoordinate\n",
       "    6.44,                     !- Vertex 1 Ycoordinate\n",
       "    3.05,                     !- Vertex 1 Zcoordinate\n",
       "    2.5,                      !- Vertex 2 Xcoordinate\n",
       "    6.44,                     !- Vertex 2 Ycoordinate\n",
       "    0,                        !- Vertex 2 Zcoordinate\n",
       "    0,                        !- Vertex 3 Xcoordinate\n",
       "    6.44,                     !- Vertex 3 Ycoordinate\n",
       "    0,                        !- Vertex 3 Zcoordinate\n",
       "    0,                        !- Vertex 4 Xcoordinate\n",
       "    6.44,                     !- Vertex 4 Ycoordinate\n",
       "    3.05;                     !- Vertex 4 Zcoordinate"
      ]
     },
     "execution_count": 20,
     "metadata": {},
     "output_type": "execute_result"
    }
   ],
   "source": [
    "case.idf.getbu"
   ]
  },
  {
   "cell_type": "code",
   "execution_count": 14,
   "metadata": {},
   "outputs": [
    {
     "data": {
      "text/plain": [
       "['Block 00 Storey 0 Wall 0002',\n",
       " 'Block 00 Storey 0 Wall 0003',\n",
       " 'Block 01 Storey 0 Wall 0001',\n",
       " 'Block 01 Storey 0 Wall 0002',\n",
       " 'Block 01 Storey 0 Wall 0004',\n",
       " 'Block 02 Storey 0 Wall 0003',\n",
       " 'Block 03 Storey 0 Wall 0003',\n",
       " 'Block 04 Storey 0 Wall 0003',\n",
       " 'Block 05 Storey 0 Wall 0003',\n",
       " 'Block 05 Storey 0 Wall 0004']"
      ]
     },
     "execution_count": 14,
     "metadata": {},
     "output_type": "execute_result"
    }
   ],
   "source": [
    "[i.Name for i in case.idf.getsurfaces() if i.Outside_Boundary_Condition == \"outdoors\" and i.Surface_Type == \"wall\"]"
   ]
  }
 ],
 "metadata": {
  "kernelspec": {
   "display_name": ".venv",
   "language": "python",
   "name": "python3"
  },
  "language_info": {
   "codemirror_mode": {
    "name": "ipython",
    "version": 3
   },
   "file_extension": ".py",
   "mimetype": "text/x-python",
   "name": "python",
   "nbconvert_exporter": "python",
   "pygments_lexer": "ipython3",
   "version": "3.13.2"
  }
 },
 "nbformat": 4,
 "nbformat_minor": 2
}
