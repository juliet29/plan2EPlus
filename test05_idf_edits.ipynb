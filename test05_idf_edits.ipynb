{
 "cells": [
  {
   "cell_type": "code",
   "execution_count": 1,
   "metadata": {},
   "outputs": [],
   "source": [
    "from epcase import *\n",
    "from geometry_parser import * \n",
    "from recipies import *"
   ]
  },
  {
   "cell_type": "code",
   "execution_count": 2,
   "metadata": {},
   "outputs": [],
   "source": [
    "e = EneryPlusCase(\"test03\")"
   ]
  },
  {
   "cell_type": "code",
   "execution_count": 3,
   "metadata": {},
   "outputs": [],
   "source": [
    "e.idf = add_output_variable(e.idf,\"Zone Mean Air Temperature\" )\n"
   ]
  },
  {
   "cell_type": "code",
   "execution_count": 4,
   "metadata": {},
   "outputs": [
    {
     "data": {
      "text/plain": [
       "[\n",
       "Output:Variable,\n",
       "    *,                        !- Key Value\n",
       "    Site Outdoor Air Drybulb Temperature,    !- Variable Name\n",
       "    Timestep;                 !- Reporting Frequency\n",
       ", \n",
       "Output:Variable,\n",
       "    *,                        !- Key Value\n",
       "    Site Outdoor Air Wetbulb Temperature,    !- Variable Name\n",
       "    Timestep;                 !- Reporting Frequency\n",
       ", \n",
       "Output:Variable,\n",
       "    *,                        !- Key Value\n",
       "    Site Outdoor Air Dewpoint Temperature,    !- Variable Name\n",
       "    Timestep;                 !- Reporting Frequency\n",
       ", \n",
       "Output:Variable,\n",
       "    *,                        !- Key Value\n",
       "    Site Solar Azimuth Angle,    !- Variable Name\n",
       "    Timestep;                 !- Reporting Frequency\n",
       ", \n",
       "Output:Variable,\n",
       "    *,                        !- Key Value\n",
       "    Site Solar Altitude Angle,    !- Variable Name\n",
       "    Timestep;                 !- Reporting Frequency\n",
       ", \n",
       "Output:Variable,\n",
       "    *,                        !- Key Value\n",
       "    Site Direct Solar Radiation Rate per Area,    !- Variable Name\n",
       "    Timestep;                 !- Reporting Frequency\n",
       ", \n",
       "Output:Variable,\n",
       "    *,                        !- Key Value\n",
       "    Site Diffuse Solar Radiation Rate per Area,    !- Variable Name\n",
       "    Timestep;                 !- Reporting Frequency\n",
       ", \n",
       "OUTPUT:VARIABLE,\n",
       "    *,                        !- Key Value\n",
       "    Zone Mean Air Temperature,    !- Variable Name\n",
       "    Timestep;                 !- Reporting Frequency\n",
       "]"
      ]
     },
     "execution_count": 4,
     "metadata": {},
     "output_type": "execute_result"
    }
   ],
   "source": [
    "e.idf.idfobjects[\"OUTPUT:VARIABLE\"]"
   ]
  }
 ],
 "metadata": {
  "kernelspec": {
   "display_name": "gqenv",
   "language": "python",
   "name": "python3"
  },
  "language_info": {
   "codemirror_mode": {
    "name": "ipython",
    "version": 3
   },
   "file_extension": ".py",
   "mimetype": "text/x-python",
   "name": "python",
   "nbconvert_exporter": "python",
   "pygments_lexer": "ipython3",
   "version": "3.9.15"
  }
 },
 "nbformat": 4,
 "nbformat_minor": 2
}
