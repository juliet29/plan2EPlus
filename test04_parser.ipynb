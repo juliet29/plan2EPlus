{
 "cells": [
  {
   "cell_type": "code",
   "execution_count": 1,
   "metadata": {},
   "outputs": [],
   "source": [
    "from epcase import *\n",
    "from geometry_parser import * "
   ]
  },
  {
   "cell_type": "code",
   "execution_count": 2,
   "metadata": {},
   "outputs": [],
   "source": [
    "# in future this will come from graph2plan module \n",
    "EAST_COORDS = [(10,0), (10,7), (5,7), (5,0)]\n",
    "WEST_COORDS = [(5,0), (5,7), (0,7), (0,0)]\n",
    "NORTH_COORDS = [(10,7), (10,11), (0,11), (0,7)]"
   ]
  },
  {
   "cell_type": "code",
   "execution_count": 3,
   "metadata": {},
   "outputs": [],
   "source": [
    "e = EneryPlusCase(\"test02\")"
   ]
  },
  {
   "cell_type": "code",
   "execution_count": 4,
   "metadata": {},
   "outputs": [],
   "source": [
    "e.idf.add_block(\n",
    "      name='North',\n",
    "      coordinates=NORTH_COORDS,\n",
    "      height=3\n",
    "    )\n",
    "e.idf.add_block(\n",
    "      name='West',\n",
    "      coordinates=WEST_COORDS,\n",
    "      height=3\n",
    "    )"
   ]
  },
  {
   "cell_type": "code",
   "execution_count": 5,
   "metadata": {},
   "outputs": [
    {
     "name": "stderr",
     "output_type": "stream",
     "text": [
      "ic| len(self.walls): 4\n",
      "ic| len(self.walls): 4\n"
     ]
    },
    {
     "data": {
      "application/vnd.plotly.v1+json": {
       "config": {
        "plotlyServerURL": "https://plotly.com"
       },
       "data": [
        {
         "fill": "toself",
         "fillcolor": "rgb(48, 18, 59)",
         "line": {
          "width": 0
         },
         "marker": {
          "color": "rgb(48, 18, 59)"
         },
         "name": "Block North Storey 0",
         "opacity": 0.5,
         "type": "scatter",
         "x": [
          10,
          10,
          0,
          0,
          10
         ],
         "y": [
          11,
          7,
          7,
          11,
          11
         ]
        },
        {
         "line": {
          "color": "rgb(48, 18, 59)",
          "width": 3
         },
         "marker": {
          "color": "rgb(48, 18, 59)"
         },
         "mode": "markers+lines",
         "name": "Wall 0001",
         "type": "scatter",
         "x": [
          10,
          10
         ],
         "y": [
          7,
          11
         ]
        },
        {
         "line": {
          "color": "rgb(48, 18, 59)",
          "width": 3
         },
         "marker": {
          "color": "rgb(48, 18, 59)"
         },
         "mode": "markers+lines",
         "name": "Wall 0002",
         "type": "scatter",
         "x": [
          10,
          0
         ],
         "y": [
          11,
          11
         ]
        },
        {
         "line": {
          "color": "rgb(48, 18, 59)",
          "width": 3
         },
         "marker": {
          "color": "rgb(48, 18, 59)"
         },
         "mode": "markers+lines",
         "name": "Wall 0003",
         "type": "scatter",
         "x": [
          0,
          0
         ],
         "y": [
          11,
          7
         ]
        },
        {
         "line": {
          "color": "rgb(48, 18, 59)",
          "width": 3
         },
         "marker": {
          "color": "rgb(48, 18, 59)"
         },
         "mode": "markers+lines",
         "name": "Wall 0004",
         "type": "scatter",
         "x": [
          0,
          10
         ],
         "y": [
          7,
          7
         ]
        },
        {
         "fill": "toself",
         "fillcolor": "rgb(68, 96, 208)",
         "line": {
          "width": 0
         },
         "marker": {
          "color": "rgb(68, 96, 208)"
         },
         "name": "Block West Storey 0",
         "opacity": 0.5,
         "type": "scatter",
         "x": [
          5,
          5,
          0,
          0,
          5
         ],
         "y": [
          7,
          0,
          0,
          7,
          7
         ]
        },
        {
         "line": {
          "color": "rgb(68, 96, 208)",
          "width": 3
         },
         "marker": {
          "color": "rgb(68, 96, 208)"
         },
         "mode": "markers+lines",
         "name": "Wall 0001",
         "type": "scatter",
         "x": [
          5,
          5
         ],
         "y": [
          0,
          7
         ]
        },
        {
         "line": {
          "color": "rgb(68, 96, 208)",
          "width": 3
         },
         "marker": {
          "color": "rgb(68, 96, 208)"
         },
         "mode": "markers+lines",
         "name": "Wall 0002",
         "type": "scatter",
         "x": [
          5,
          0
         ],
         "y": [
          7,
          7
         ]
        },
        {
         "line": {
          "color": "rgb(68, 96, 208)",
          "width": 3
         },
         "marker": {
          "color": "rgb(68, 96, 208)"
         },
         "mode": "markers+lines",
         "name": "Wall 0003",
         "type": "scatter",
         "x": [
          0,
          0
         ],
         "y": [
          7,
          0
         ]
        },
        {
         "line": {
          "color": "rgb(68, 96, 208)",
          "width": 3
         },
         "marker": {
          "color": "rgb(68, 96, 208)"
         },
         "mode": "markers+lines",
         "name": "Wall 0004",
         "type": "scatter",
         "x": [
          0,
          5
         ],
         "y": [
          0,
          0
         ]
        }
       ],
       "layout": {
        "template": {
         "data": {
          "bar": [
           {
            "error_x": {
             "color": "#2a3f5f"
            },
            "error_y": {
             "color": "#2a3f5f"
            },
            "marker": {
             "line": {
              "color": "#E5ECF6",
              "width": 0.5
             },
             "pattern": {
              "fillmode": "overlay",
              "size": 10,
              "solidity": 0.2
             }
            },
            "type": "bar"
           }
          ],
          "barpolar": [
           {
            "marker": {
             "line": {
              "color": "#E5ECF6",
              "width": 0.5
             },
             "pattern": {
              "fillmode": "overlay",
              "size": 10,
              "solidity": 0.2
             }
            },
            "type": "barpolar"
           }
          ],
          "carpet": [
           {
            "aaxis": {
             "endlinecolor": "#2a3f5f",
             "gridcolor": "white",
             "linecolor": "white",
             "minorgridcolor": "white",
             "startlinecolor": "#2a3f5f"
            },
            "baxis": {
             "endlinecolor": "#2a3f5f",
             "gridcolor": "white",
             "linecolor": "white",
             "minorgridcolor": "white",
             "startlinecolor": "#2a3f5f"
            },
            "type": "carpet"
           }
          ],
          "choropleth": [
           {
            "colorbar": {
             "outlinewidth": 0,
             "ticks": ""
            },
            "type": "choropleth"
           }
          ],
          "contour": [
           {
            "colorbar": {
             "outlinewidth": 0,
             "ticks": ""
            },
            "colorscale": [
             [
              0,
              "#0d0887"
             ],
             [
              0.1111111111111111,
              "#46039f"
             ],
             [
              0.2222222222222222,
              "#7201a8"
             ],
             [
              0.3333333333333333,
              "#9c179e"
             ],
             [
              0.4444444444444444,
              "#bd3786"
             ],
             [
              0.5555555555555556,
              "#d8576b"
             ],
             [
              0.6666666666666666,
              "#ed7953"
             ],
             [
              0.7777777777777778,
              "#fb9f3a"
             ],
             [
              0.8888888888888888,
              "#fdca26"
             ],
             [
              1,
              "#f0f921"
             ]
            ],
            "type": "contour"
           }
          ],
          "contourcarpet": [
           {
            "colorbar": {
             "outlinewidth": 0,
             "ticks": ""
            },
            "type": "contourcarpet"
           }
          ],
          "heatmap": [
           {
            "colorbar": {
             "outlinewidth": 0,
             "ticks": ""
            },
            "colorscale": [
             [
              0,
              "#0d0887"
             ],
             [
              0.1111111111111111,
              "#46039f"
             ],
             [
              0.2222222222222222,
              "#7201a8"
             ],
             [
              0.3333333333333333,
              "#9c179e"
             ],
             [
              0.4444444444444444,
              "#bd3786"
             ],
             [
              0.5555555555555556,
              "#d8576b"
             ],
             [
              0.6666666666666666,
              "#ed7953"
             ],
             [
              0.7777777777777778,
              "#fb9f3a"
             ],
             [
              0.8888888888888888,
              "#fdca26"
             ],
             [
              1,
              "#f0f921"
             ]
            ],
            "type": "heatmap"
           }
          ],
          "heatmapgl": [
           {
            "colorbar": {
             "outlinewidth": 0,
             "ticks": ""
            },
            "colorscale": [
             [
              0,
              "#0d0887"
             ],
             [
              0.1111111111111111,
              "#46039f"
             ],
             [
              0.2222222222222222,
              "#7201a8"
             ],
             [
              0.3333333333333333,
              "#9c179e"
             ],
             [
              0.4444444444444444,
              "#bd3786"
             ],
             [
              0.5555555555555556,
              "#d8576b"
             ],
             [
              0.6666666666666666,
              "#ed7953"
             ],
             [
              0.7777777777777778,
              "#fb9f3a"
             ],
             [
              0.8888888888888888,
              "#fdca26"
             ],
             [
              1,
              "#f0f921"
             ]
            ],
            "type": "heatmapgl"
           }
          ],
          "histogram": [
           {
            "marker": {
             "pattern": {
              "fillmode": "overlay",
              "size": 10,
              "solidity": 0.2
             }
            },
            "type": "histogram"
           }
          ],
          "histogram2d": [
           {
            "colorbar": {
             "outlinewidth": 0,
             "ticks": ""
            },
            "colorscale": [
             [
              0,
              "#0d0887"
             ],
             [
              0.1111111111111111,
              "#46039f"
             ],
             [
              0.2222222222222222,
              "#7201a8"
             ],
             [
              0.3333333333333333,
              "#9c179e"
             ],
             [
              0.4444444444444444,
              "#bd3786"
             ],
             [
              0.5555555555555556,
              "#d8576b"
             ],
             [
              0.6666666666666666,
              "#ed7953"
             ],
             [
              0.7777777777777778,
              "#fb9f3a"
             ],
             [
              0.8888888888888888,
              "#fdca26"
             ],
             [
              1,
              "#f0f921"
             ]
            ],
            "type": "histogram2d"
           }
          ],
          "histogram2dcontour": [
           {
            "colorbar": {
             "outlinewidth": 0,
             "ticks": ""
            },
            "colorscale": [
             [
              0,
              "#0d0887"
             ],
             [
              0.1111111111111111,
              "#46039f"
             ],
             [
              0.2222222222222222,
              "#7201a8"
             ],
             [
              0.3333333333333333,
              "#9c179e"
             ],
             [
              0.4444444444444444,
              "#bd3786"
             ],
             [
              0.5555555555555556,
              "#d8576b"
             ],
             [
              0.6666666666666666,
              "#ed7953"
             ],
             [
              0.7777777777777778,
              "#fb9f3a"
             ],
             [
              0.8888888888888888,
              "#fdca26"
             ],
             [
              1,
              "#f0f921"
             ]
            ],
            "type": "histogram2dcontour"
           }
          ],
          "mesh3d": [
           {
            "colorbar": {
             "outlinewidth": 0,
             "ticks": ""
            },
            "type": "mesh3d"
           }
          ],
          "parcoords": [
           {
            "line": {
             "colorbar": {
              "outlinewidth": 0,
              "ticks": ""
             }
            },
            "type": "parcoords"
           }
          ],
          "pie": [
           {
            "automargin": true,
            "type": "pie"
           }
          ],
          "scatter": [
           {
            "fillpattern": {
             "fillmode": "overlay",
             "size": 10,
             "solidity": 0.2
            },
            "type": "scatter"
           }
          ],
          "scatter3d": [
           {
            "line": {
             "colorbar": {
              "outlinewidth": 0,
              "ticks": ""
             }
            },
            "marker": {
             "colorbar": {
              "outlinewidth": 0,
              "ticks": ""
             }
            },
            "type": "scatter3d"
           }
          ],
          "scattercarpet": [
           {
            "marker": {
             "colorbar": {
              "outlinewidth": 0,
              "ticks": ""
             }
            },
            "type": "scattercarpet"
           }
          ],
          "scattergeo": [
           {
            "marker": {
             "colorbar": {
              "outlinewidth": 0,
              "ticks": ""
             }
            },
            "type": "scattergeo"
           }
          ],
          "scattergl": [
           {
            "marker": {
             "colorbar": {
              "outlinewidth": 0,
              "ticks": ""
             }
            },
            "type": "scattergl"
           }
          ],
          "scattermapbox": [
           {
            "marker": {
             "colorbar": {
              "outlinewidth": 0,
              "ticks": ""
             }
            },
            "type": "scattermapbox"
           }
          ],
          "scatterpolar": [
           {
            "marker": {
             "colorbar": {
              "outlinewidth": 0,
              "ticks": ""
             }
            },
            "type": "scatterpolar"
           }
          ],
          "scatterpolargl": [
           {
            "marker": {
             "colorbar": {
              "outlinewidth": 0,
              "ticks": ""
             }
            },
            "type": "scatterpolargl"
           }
          ],
          "scatterternary": [
           {
            "marker": {
             "colorbar": {
              "outlinewidth": 0,
              "ticks": ""
             }
            },
            "type": "scatterternary"
           }
          ],
          "surface": [
           {
            "colorbar": {
             "outlinewidth": 0,
             "ticks": ""
            },
            "colorscale": [
             [
              0,
              "#0d0887"
             ],
             [
              0.1111111111111111,
              "#46039f"
             ],
             [
              0.2222222222222222,
              "#7201a8"
             ],
             [
              0.3333333333333333,
              "#9c179e"
             ],
             [
              0.4444444444444444,
              "#bd3786"
             ],
             [
              0.5555555555555556,
              "#d8576b"
             ],
             [
              0.6666666666666666,
              "#ed7953"
             ],
             [
              0.7777777777777778,
              "#fb9f3a"
             ],
             [
              0.8888888888888888,
              "#fdca26"
             ],
             [
              1,
              "#f0f921"
             ]
            ],
            "type": "surface"
           }
          ],
          "table": [
           {
            "cells": {
             "fill": {
              "color": "#EBF0F8"
             },
             "line": {
              "color": "white"
             }
            },
            "header": {
             "fill": {
              "color": "#C8D4E3"
             },
             "line": {
              "color": "white"
             }
            },
            "type": "table"
           }
          ]
         },
         "layout": {
          "annotationdefaults": {
           "arrowcolor": "#2a3f5f",
           "arrowhead": 0,
           "arrowwidth": 1
          },
          "autotypenumbers": "strict",
          "coloraxis": {
           "colorbar": {
            "outlinewidth": 0,
            "ticks": ""
           }
          },
          "colorscale": {
           "diverging": [
            [
             0,
             "#8e0152"
            ],
            [
             0.1,
             "#c51b7d"
            ],
            [
             0.2,
             "#de77ae"
            ],
            [
             0.3,
             "#f1b6da"
            ],
            [
             0.4,
             "#fde0ef"
            ],
            [
             0.5,
             "#f7f7f7"
            ],
            [
             0.6,
             "#e6f5d0"
            ],
            [
             0.7,
             "#b8e186"
            ],
            [
             0.8,
             "#7fbc41"
            ],
            [
             0.9,
             "#4d9221"
            ],
            [
             1,
             "#276419"
            ]
           ],
           "sequential": [
            [
             0,
             "#0d0887"
            ],
            [
             0.1111111111111111,
             "#46039f"
            ],
            [
             0.2222222222222222,
             "#7201a8"
            ],
            [
             0.3333333333333333,
             "#9c179e"
            ],
            [
             0.4444444444444444,
             "#bd3786"
            ],
            [
             0.5555555555555556,
             "#d8576b"
            ],
            [
             0.6666666666666666,
             "#ed7953"
            ],
            [
             0.7777777777777778,
             "#fb9f3a"
            ],
            [
             0.8888888888888888,
             "#fdca26"
            ],
            [
             1,
             "#f0f921"
            ]
           ],
           "sequentialminus": [
            [
             0,
             "#0d0887"
            ],
            [
             0.1111111111111111,
             "#46039f"
            ],
            [
             0.2222222222222222,
             "#7201a8"
            ],
            [
             0.3333333333333333,
             "#9c179e"
            ],
            [
             0.4444444444444444,
             "#bd3786"
            ],
            [
             0.5555555555555556,
             "#d8576b"
            ],
            [
             0.6666666666666666,
             "#ed7953"
            ],
            [
             0.7777777777777778,
             "#fb9f3a"
            ],
            [
             0.8888888888888888,
             "#fdca26"
            ],
            [
             1,
             "#f0f921"
            ]
           ]
          },
          "colorway": [
           "#636efa",
           "#EF553B",
           "#00cc96",
           "#ab63fa",
           "#FFA15A",
           "#19d3f3",
           "#FF6692",
           "#B6E880",
           "#FF97FF",
           "#FECB52"
          ],
          "font": {
           "color": "#2a3f5f"
          },
          "geo": {
           "bgcolor": "white",
           "lakecolor": "white",
           "landcolor": "#E5ECF6",
           "showlakes": true,
           "showland": true,
           "subunitcolor": "white"
          },
          "hoverlabel": {
           "align": "left"
          },
          "hovermode": "closest",
          "mapbox": {
           "style": "light"
          },
          "paper_bgcolor": "white",
          "plot_bgcolor": "#E5ECF6",
          "polar": {
           "angularaxis": {
            "gridcolor": "white",
            "linecolor": "white",
            "ticks": ""
           },
           "bgcolor": "#E5ECF6",
           "radialaxis": {
            "gridcolor": "white",
            "linecolor": "white",
            "ticks": ""
           }
          },
          "scene": {
           "xaxis": {
            "backgroundcolor": "#E5ECF6",
            "gridcolor": "white",
            "gridwidth": 2,
            "linecolor": "white",
            "showbackground": true,
            "ticks": "",
            "zerolinecolor": "white"
           },
           "yaxis": {
            "backgroundcolor": "#E5ECF6",
            "gridcolor": "white",
            "gridwidth": 2,
            "linecolor": "white",
            "showbackground": true,
            "ticks": "",
            "zerolinecolor": "white"
           },
           "zaxis": {
            "backgroundcolor": "#E5ECF6",
            "gridcolor": "white",
            "gridwidth": 2,
            "linecolor": "white",
            "showbackground": true,
            "ticks": "",
            "zerolinecolor": "white"
           }
          },
          "shapedefaults": {
           "line": {
            "color": "#2a3f5f"
           }
          },
          "ternary": {
           "aaxis": {
            "gridcolor": "white",
            "linecolor": "white",
            "ticks": ""
           },
           "baxis": {
            "gridcolor": "white",
            "linecolor": "white",
            "ticks": ""
           },
           "bgcolor": "#E5ECF6",
           "caxis": {
            "gridcolor": "white",
            "linecolor": "white",
            "ticks": ""
           }
          },
          "title": {
           "x": 0.05
          },
          "xaxis": {
           "automargin": true,
           "gridcolor": "white",
           "linecolor": "white",
           "ticks": "",
           "title": {
            "standoff": 15
           },
           "zerolinecolor": "white",
           "zerolinewidth": 2
          },
          "yaxis": {
           "automargin": true,
           "gridcolor": "white",
           "linecolor": "white",
           "ticks": "",
           "title": {
            "standoff": 15
           },
           "zerolinecolor": "white",
           "zerolinewidth": 2
          }
         }
        }
       }
      }
     },
     "metadata": {},
     "output_type": "display_data"
    }
   ],
   "source": [
    "g = GeometryParser(e.idf)\n",
    "g.get_zones()\n",
    "g.plot_zones()"
   ]
  },
  {
   "cell_type": "code",
   "execution_count": 6,
   "metadata": {},
   "outputs": [
    {
     "data": {
      "text/plain": [
       "8"
      ]
     },
     "execution_count": 6,
     "metadata": {},
     "output_type": "execute_result"
    }
   ],
   "source": [
    "len(e.idf.getsurfaces(\"wall\")) # TODO can replace c"
   ]
  },
  {
   "cell_type": "code",
   "execution_count": 7,
   "metadata": {},
   "outputs": [
    {
     "data": {
      "text/plain": [
       "[\n",
       " BUILDINGSURFACE:DETAILED,\n",
       "     Block North Storey 0 Wall 0001,    !- Name\n",
       "     wall,                     !- Surface Type\n",
       "     ,                         !- Construction Name\n",
       "     Block North Storey 0,     !- Zone Name\n",
       "     ,                         !- Space Name\n",
       "     ,                         !- Outside Boundary Condition\n",
       "     ,                         !- Outside Boundary Condition Object\n",
       "     SunExposed,               !- Sun Exposure\n",
       "     WindExposed,              !- Wind Exposure\n",
       "     autocalculate,            !- View Factor to Ground\n",
       "     autocalculate,            !- Number of Vertices\n",
       "     10,                       !- Vertex 1 Xcoordinate\n",
       "     7,                        !- Vertex 1 Ycoordinate\n",
       "     3,                        !- Vertex 1 Zcoordinate\n",
       "     10,                       !- Vertex 2 Xcoordinate\n",
       "     7,                        !- Vertex 2 Ycoordinate\n",
       "     0,                        !- Vertex 2 Zcoordinate\n",
       "     10,                       !- Vertex 3 Xcoordinate\n",
       "     11,                       !- Vertex 3 Ycoordinate\n",
       "     0,                        !- Vertex 3 Zcoordinate\n",
       "     10,                       !- Vertex 4 Xcoordinate\n",
       "     11,                       !- Vertex 4 Ycoordinate\n",
       "     3;                        !- Vertex 4 Zcoordinate,\n",
       " \n",
       " BUILDINGSURFACE:DETAILED,\n",
       "     Block North Storey 0 Wall 0002,    !- Name\n",
       "     wall,                     !- Surface Type\n",
       "     ,                         !- Construction Name\n",
       "     Block North Storey 0,     !- Zone Name\n",
       "     ,                         !- Space Name\n",
       "     ,                         !- Outside Boundary Condition\n",
       "     ,                         !- Outside Boundary Condition Object\n",
       "     SunExposed,               !- Sun Exposure\n",
       "     WindExposed,              !- Wind Exposure\n",
       "     autocalculate,            !- View Factor to Ground\n",
       "     autocalculate,            !- Number of Vertices\n",
       "     10,                       !- Vertex 1 Xcoordinate\n",
       "     11,                       !- Vertex 1 Ycoordinate\n",
       "     3,                        !- Vertex 1 Zcoordinate\n",
       "     10,                       !- Vertex 2 Xcoordinate\n",
       "     11,                       !- Vertex 2 Ycoordinate\n",
       "     0,                        !- Vertex 2 Zcoordinate\n",
       "     0,                        !- Vertex 3 Xcoordinate\n",
       "     11,                       !- Vertex 3 Ycoordinate\n",
       "     0,                        !- Vertex 3 Zcoordinate\n",
       "     0,                        !- Vertex 4 Xcoordinate\n",
       "     11,                       !- Vertex 4 Ycoordinate\n",
       "     3;                        !- Vertex 4 Zcoordinate,\n",
       " \n",
       " BUILDINGSURFACE:DETAILED,\n",
       "     Block North Storey 0 Wall 0003,    !- Name\n",
       "     wall,                     !- Surface Type\n",
       "     ,                         !- Construction Name\n",
       "     Block North Storey 0,     !- Zone Name\n",
       "     ,                         !- Space Name\n",
       "     ,                         !- Outside Boundary Condition\n",
       "     ,                         !- Outside Boundary Condition Object\n",
       "     SunExposed,               !- Sun Exposure\n",
       "     WindExposed,              !- Wind Exposure\n",
       "     autocalculate,            !- View Factor to Ground\n",
       "     autocalculate,            !- Number of Vertices\n",
       "     0,                        !- Vertex 1 Xcoordinate\n",
       "     11,                       !- Vertex 1 Ycoordinate\n",
       "     3,                        !- Vertex 1 Zcoordinate\n",
       "     0,                        !- Vertex 2 Xcoordinate\n",
       "     11,                       !- Vertex 2 Ycoordinate\n",
       "     0,                        !- Vertex 2 Zcoordinate\n",
       "     0,                        !- Vertex 3 Xcoordinate\n",
       "     7,                        !- Vertex 3 Ycoordinate\n",
       "     0,                        !- Vertex 3 Zcoordinate\n",
       "     0,                        !- Vertex 4 Xcoordinate\n",
       "     7,                        !- Vertex 4 Ycoordinate\n",
       "     3;                        !- Vertex 4 Zcoordinate,\n",
       " \n",
       " BUILDINGSURFACE:DETAILED,\n",
       "     Block North Storey 0 Wall 0004,    !- Name\n",
       "     wall,                     !- Surface Type\n",
       "     ,                         !- Construction Name\n",
       "     Block North Storey 0,     !- Zone Name\n",
       "     ,                         !- Space Name\n",
       "     ,                         !- Outside Boundary Condition\n",
       "     ,                         !- Outside Boundary Condition Object\n",
       "     SunExposed,               !- Sun Exposure\n",
       "     WindExposed,              !- Wind Exposure\n",
       "     autocalculate,            !- View Factor to Ground\n",
       "     autocalculate,            !- Number of Vertices\n",
       "     0,                        !- Vertex 1 Xcoordinate\n",
       "     7,                        !- Vertex 1 Ycoordinate\n",
       "     3,                        !- Vertex 1 Zcoordinate\n",
       "     0,                        !- Vertex 2 Xcoordinate\n",
       "     7,                        !- Vertex 2 Ycoordinate\n",
       "     0,                        !- Vertex 2 Zcoordinate\n",
       "     10,                       !- Vertex 3 Xcoordinate\n",
       "     7,                        !- Vertex 3 Ycoordinate\n",
       "     0,                        !- Vertex 3 Zcoordinate\n",
       "     10,                       !- Vertex 4 Xcoordinate\n",
       "     7,                        !- Vertex 4 Ycoordinate\n",
       "     3;                        !- Vertex 4 Zcoordinate,\n",
       " \n",
       " BUILDINGSURFACE:DETAILED,\n",
       "     Block North Storey 0 Floor 0001,    !- Name\n",
       "     floor,                    !- Surface Type\n",
       "     ,                         !- Construction Name\n",
       "     Block North Storey 0,     !- Zone Name\n",
       "     ,                         !- Space Name\n",
       "     ,                         !- Outside Boundary Condition\n",
       "     ,                         !- Outside Boundary Condition Object\n",
       "     SunExposed,               !- Sun Exposure\n",
       "     WindExposed,              !- Wind Exposure\n",
       "     autocalculate,            !- View Factor to Ground\n",
       "     autocalculate,            !- Number of Vertices\n",
       "     10,                       !- Vertex 1 Xcoordinate\n",
       "     11,                       !- Vertex 1 Ycoordinate\n",
       "     0,                        !- Vertex 1 Zcoordinate\n",
       "     10,                       !- Vertex 2 Xcoordinate\n",
       "     7,                        !- Vertex 2 Ycoordinate\n",
       "     0,                        !- Vertex 2 Zcoordinate\n",
       "     0,                        !- Vertex 3 Xcoordinate\n",
       "     7,                        !- Vertex 3 Ycoordinate\n",
       "     0,                        !- Vertex 3 Zcoordinate\n",
       "     0,                        !- Vertex 4 Xcoordinate\n",
       "     11,                       !- Vertex 4 Ycoordinate\n",
       "     0;                        !- Vertex 4 Zcoordinate,\n",
       " \n",
       " BUILDINGSURFACE:DETAILED,\n",
       "     Block North Storey 0 Roof 0001,    !- Name\n",
       "     roof,                     !- Surface Type\n",
       "     ,                         !- Construction Name\n",
       "     Block North Storey 0,     !- Zone Name\n",
       "     ,                         !- Space Name\n",
       "     ,                         !- Outside Boundary Condition\n",
       "     ,                         !- Outside Boundary Condition Object\n",
       "     SunExposed,               !- Sun Exposure\n",
       "     WindExposed,              !- Wind Exposure\n",
       "     autocalculate,            !- View Factor to Ground\n",
       "     autocalculate,            !- Number of Vertices\n",
       "     10,                       !- Vertex 1 Xcoordinate\n",
       "     7,                        !- Vertex 1 Ycoordinate\n",
       "     3,                        !- Vertex 1 Zcoordinate\n",
       "     10,                       !- Vertex 2 Xcoordinate\n",
       "     11,                       !- Vertex 2 Ycoordinate\n",
       "     3,                        !- Vertex 2 Zcoordinate\n",
       "     0,                        !- Vertex 3 Xcoordinate\n",
       "     11,                       !- Vertex 3 Ycoordinate\n",
       "     3,                        !- Vertex 3 Zcoordinate\n",
       "     0,                        !- Vertex 4 Xcoordinate\n",
       "     7,                        !- Vertex 4 Ycoordinate\n",
       "     3;                        !- Vertex 4 Zcoordinate]"
      ]
     },
     "execution_count": 7,
     "metadata": {},
     "output_type": "execute_result"
    }
   ],
   "source": [
    "[surface for surface in e.idf.idfobjects[\"BUILDINGSURFACE:DETAILED\"] if surface.Zone_Name == \"Block North Storey 0\"]"
   ]
  },
  {
   "cell_type": "code",
   "execution_count": 8,
   "metadata": {},
   "outputs": [
    {
     "data": {
      "text/plain": [
       "[\n",
       " BUILDINGSURFACE:DETAILED,\n",
       "     Block North Storey 0 Wall 0001,    !- Name\n",
       "     wall,                     !- Surface Type\n",
       "     ,                         !- Construction Name\n",
       "     Block North Storey 0,     !- Zone Name\n",
       "     ,                         !- Space Name\n",
       "     ,                         !- Outside Boundary Condition\n",
       "     ,                         !- Outside Boundary Condition Object\n",
       "     SunExposed,               !- Sun Exposure\n",
       "     WindExposed,              !- Wind Exposure\n",
       "     autocalculate,            !- View Factor to Ground\n",
       "     autocalculate,            !- Number of Vertices\n",
       "     10,                       !- Vertex 1 Xcoordinate\n",
       "     7,                        !- Vertex 1 Ycoordinate\n",
       "     3,                        !- Vertex 1 Zcoordinate\n",
       "     10,                       !- Vertex 2 Xcoordinate\n",
       "     7,                        !- Vertex 2 Ycoordinate\n",
       "     0,                        !- Vertex 2 Zcoordinate\n",
       "     10,                       !- Vertex 3 Xcoordinate\n",
       "     11,                       !- Vertex 3 Ycoordinate\n",
       "     0,                        !- Vertex 3 Zcoordinate\n",
       "     10,                       !- Vertex 4 Xcoordinate\n",
       "     11,                       !- Vertex 4 Ycoordinate\n",
       "     3;                        !- Vertex 4 Zcoordinate,\n",
       " \n",
       " BUILDINGSURFACE:DETAILED,\n",
       "     Block North Storey 0 Wall 0002,    !- Name\n",
       "     wall,                     !- Surface Type\n",
       "     ,                         !- Construction Name\n",
       "     Block North Storey 0,     !- Zone Name\n",
       "     ,                         !- Space Name\n",
       "     ,                         !- Outside Boundary Condition\n",
       "     ,                         !- Outside Boundary Condition Object\n",
       "     SunExposed,               !- Sun Exposure\n",
       "     WindExposed,              !- Wind Exposure\n",
       "     autocalculate,            !- View Factor to Ground\n",
       "     autocalculate,            !- Number of Vertices\n",
       "     10,                       !- Vertex 1 Xcoordinate\n",
       "     11,                       !- Vertex 1 Ycoordinate\n",
       "     3,                        !- Vertex 1 Zcoordinate\n",
       "     10,                       !- Vertex 2 Xcoordinate\n",
       "     11,                       !- Vertex 2 Ycoordinate\n",
       "     0,                        !- Vertex 2 Zcoordinate\n",
       "     0,                        !- Vertex 3 Xcoordinate\n",
       "     11,                       !- Vertex 3 Ycoordinate\n",
       "     0,                        !- Vertex 3 Zcoordinate\n",
       "     0,                        !- Vertex 4 Xcoordinate\n",
       "     11,                       !- Vertex 4 Ycoordinate\n",
       "     3;                        !- Vertex 4 Zcoordinate,\n",
       " \n",
       " BUILDINGSURFACE:DETAILED,\n",
       "     Block North Storey 0 Wall 0003,    !- Name\n",
       "     wall,                     !- Surface Type\n",
       "     ,                         !- Construction Name\n",
       "     Block North Storey 0,     !- Zone Name\n",
       "     ,                         !- Space Name\n",
       "     ,                         !- Outside Boundary Condition\n",
       "     ,                         !- Outside Boundary Condition Object\n",
       "     SunExposed,               !- Sun Exposure\n",
       "     WindExposed,              !- Wind Exposure\n",
       "     autocalculate,            !- View Factor to Ground\n",
       "     autocalculate,            !- Number of Vertices\n",
       "     0,                        !- Vertex 1 Xcoordinate\n",
       "     11,                       !- Vertex 1 Ycoordinate\n",
       "     3,                        !- Vertex 1 Zcoordinate\n",
       "     0,                        !- Vertex 2 Xcoordinate\n",
       "     11,                       !- Vertex 2 Ycoordinate\n",
       "     0,                        !- Vertex 2 Zcoordinate\n",
       "     0,                        !- Vertex 3 Xcoordinate\n",
       "     7,                        !- Vertex 3 Ycoordinate\n",
       "     0,                        !- Vertex 3 Zcoordinate\n",
       "     0,                        !- Vertex 4 Xcoordinate\n",
       "     7,                        !- Vertex 4 Ycoordinate\n",
       "     3;                        !- Vertex 4 Zcoordinate,\n",
       " \n",
       " BUILDINGSURFACE:DETAILED,\n",
       "     Block North Storey 0 Wall 0004,    !- Name\n",
       "     wall,                     !- Surface Type\n",
       "     ,                         !- Construction Name\n",
       "     Block North Storey 0,     !- Zone Name\n",
       "     ,                         !- Space Name\n",
       "     ,                         !- Outside Boundary Condition\n",
       "     ,                         !- Outside Boundary Condition Object\n",
       "     SunExposed,               !- Sun Exposure\n",
       "     WindExposed,              !- Wind Exposure\n",
       "     autocalculate,            !- View Factor to Ground\n",
       "     autocalculate,            !- Number of Vertices\n",
       "     0,                        !- Vertex 1 Xcoordinate\n",
       "     7,                        !- Vertex 1 Ycoordinate\n",
       "     3,                        !- Vertex 1 Zcoordinate\n",
       "     0,                        !- Vertex 2 Xcoordinate\n",
       "     7,                        !- Vertex 2 Ycoordinate\n",
       "     0,                        !- Vertex 2 Zcoordinate\n",
       "     10,                       !- Vertex 3 Xcoordinate\n",
       "     7,                        !- Vertex 3 Ycoordinate\n",
       "     0,                        !- Vertex 3 Zcoordinate\n",
       "     10,                       !- Vertex 4 Xcoordinate\n",
       "     7,                        !- Vertex 4 Ycoordinate\n",
       "     3;                        !- Vertex 4 Zcoordinate]"
      ]
     },
     "execution_count": 8,
     "metadata": {},
     "output_type": "execute_result"
    }
   ],
   "source": [
    "[surface for surface in e.idf.idfobjects[\"BUILDINGSURFACE:DETAILED\"] if surface.Zone_Name == \"Block North Storey 0\" and surface.Surface_Type == \"wall\"]"
   ]
  },
  {
   "cell_type": "code",
   "execution_count": 9,
   "metadata": {},
   "outputs": [
    {
     "data": {
      "text/plain": [
       "[\n",
       " BUILDINGSURFACE:DETAILED,\n",
       "     Block North Storey 0 Wall 0001,    !- Name\n",
       "     wall,                     !- Surface Type\n",
       "     ,                         !- Construction Name\n",
       "     Block North Storey 0,     !- Zone Name\n",
       "     ,                         !- Space Name\n",
       "     ,                         !- Outside Boundary Condition\n",
       "     ,                         !- Outside Boundary Condition Object\n",
       "     SunExposed,               !- Sun Exposure\n",
       "     WindExposed,              !- Wind Exposure\n",
       "     autocalculate,            !- View Factor to Ground\n",
       "     autocalculate,            !- Number of Vertices\n",
       "     10,                       !- Vertex 1 Xcoordinate\n",
       "     7,                        !- Vertex 1 Ycoordinate\n",
       "     3,                        !- Vertex 1 Zcoordinate\n",
       "     10,                       !- Vertex 2 Xcoordinate\n",
       "     7,                        !- Vertex 2 Ycoordinate\n",
       "     0,                        !- Vertex 2 Zcoordinate\n",
       "     10,                       !- Vertex 3 Xcoordinate\n",
       "     11,                       !- Vertex 3 Ycoordinate\n",
       "     0,                        !- Vertex 3 Zcoordinate\n",
       "     10,                       !- Vertex 4 Xcoordinate\n",
       "     11,                       !- Vertex 4 Ycoordinate\n",
       "     3;                        !- Vertex 4 Zcoordinate,\n",
       " \n",
       " BUILDINGSURFACE:DETAILED,\n",
       "     Block North Storey 0 Wall 0002,    !- Name\n",
       "     wall,                     !- Surface Type\n",
       "     ,                         !- Construction Name\n",
       "     Block North Storey 0,     !- Zone Name\n",
       "     ,                         !- Space Name\n",
       "     ,                         !- Outside Boundary Condition\n",
       "     ,                         !- Outside Boundary Condition Object\n",
       "     SunExposed,               !- Sun Exposure\n",
       "     WindExposed,              !- Wind Exposure\n",
       "     autocalculate,            !- View Factor to Ground\n",
       "     autocalculate,            !- Number of Vertices\n",
       "     10,                       !- Vertex 1 Xcoordinate\n",
       "     11,                       !- Vertex 1 Ycoordinate\n",
       "     3,                        !- Vertex 1 Zcoordinate\n",
       "     10,                       !- Vertex 2 Xcoordinate\n",
       "     11,                       !- Vertex 2 Ycoordinate\n",
       "     0,                        !- Vertex 2 Zcoordinate\n",
       "     0,                        !- Vertex 3 Xcoordinate\n",
       "     11,                       !- Vertex 3 Ycoordinate\n",
       "     0,                        !- Vertex 3 Zcoordinate\n",
       "     0,                        !- Vertex 4 Xcoordinate\n",
       "     11,                       !- Vertex 4 Ycoordinate\n",
       "     3;                        !- Vertex 4 Zcoordinate,\n",
       " \n",
       " BUILDINGSURFACE:DETAILED,\n",
       "     Block North Storey 0 Wall 0003,    !- Name\n",
       "     wall,                     !- Surface Type\n",
       "     ,                         !- Construction Name\n",
       "     Block North Storey 0,     !- Zone Name\n",
       "     ,                         !- Space Name\n",
       "     ,                         !- Outside Boundary Condition\n",
       "     ,                         !- Outside Boundary Condition Object\n",
       "     SunExposed,               !- Sun Exposure\n",
       "     WindExposed,              !- Wind Exposure\n",
       "     autocalculate,            !- View Factor to Ground\n",
       "     autocalculate,            !- Number of Vertices\n",
       "     0,                        !- Vertex 1 Xcoordinate\n",
       "     11,                       !- Vertex 1 Ycoordinate\n",
       "     3,                        !- Vertex 1 Zcoordinate\n",
       "     0,                        !- Vertex 2 Xcoordinate\n",
       "     11,                       !- Vertex 2 Ycoordinate\n",
       "     0,                        !- Vertex 2 Zcoordinate\n",
       "     0,                        !- Vertex 3 Xcoordinate\n",
       "     7,                        !- Vertex 3 Ycoordinate\n",
       "     0,                        !- Vertex 3 Zcoordinate\n",
       "     0,                        !- Vertex 4 Xcoordinate\n",
       "     7,                        !- Vertex 4 Ycoordinate\n",
       "     3;                        !- Vertex 4 Zcoordinate,\n",
       " \n",
       " BUILDINGSURFACE:DETAILED,\n",
       "     Block North Storey 0 Wall 0004,    !- Name\n",
       "     wall,                     !- Surface Type\n",
       "     ,                         !- Construction Name\n",
       "     Block North Storey 0,     !- Zone Name\n",
       "     ,                         !- Space Name\n",
       "     ,                         !- Outside Boundary Condition\n",
       "     ,                         !- Outside Boundary Condition Object\n",
       "     SunExposed,               !- Sun Exposure\n",
       "     WindExposed,              !- Wind Exposure\n",
       "     autocalculate,            !- View Factor to Ground\n",
       "     autocalculate,            !- Number of Vertices\n",
       "     0,                        !- Vertex 1 Xcoordinate\n",
       "     7,                        !- Vertex 1 Ycoordinate\n",
       "     3,                        !- Vertex 1 Zcoordinate\n",
       "     0,                        !- Vertex 2 Xcoordinate\n",
       "     7,                        !- Vertex 2 Ycoordinate\n",
       "     0,                        !- Vertex 2 Zcoordinate\n",
       "     10,                       !- Vertex 3 Xcoordinate\n",
       "     7,                        !- Vertex 3 Ycoordinate\n",
       "     0,                        !- Vertex 3 Zcoordinate\n",
       "     10,                       !- Vertex 4 Xcoordinate\n",
       "     7,                        !- Vertex 4 Ycoordinate\n",
       "     3;                        !- Vertex 4 Zcoordinate,\n",
       " \n",
       " BUILDINGSURFACE:DETAILED,\n",
       "     Block West Storey 0 Wall 0001,    !- Name\n",
       "     wall,                     !- Surface Type\n",
       "     ,                         !- Construction Name\n",
       "     Block West Storey 0,      !- Zone Name\n",
       "     ,                         !- Space Name\n",
       "     ,                         !- Outside Boundary Condition\n",
       "     ,                         !- Outside Boundary Condition Object\n",
       "     SunExposed,               !- Sun Exposure\n",
       "     WindExposed,              !- Wind Exposure\n",
       "     autocalculate,            !- View Factor to Ground\n",
       "     autocalculate,            !- Number of Vertices\n",
       "     5,                        !- Vertex 1 Xcoordinate\n",
       "     0,                        !- Vertex 1 Ycoordinate\n",
       "     3,                        !- Vertex 1 Zcoordinate\n",
       "     5,                        !- Vertex 2 Xcoordinate\n",
       "     0,                        !- Vertex 2 Ycoordinate\n",
       "     0,                        !- Vertex 2 Zcoordinate\n",
       "     5,                        !- Vertex 3 Xcoordinate\n",
       "     7,                        !- Vertex 3 Ycoordinate\n",
       "     0,                        !- Vertex 3 Zcoordinate\n",
       "     5,                        !- Vertex 4 Xcoordinate\n",
       "     7,                        !- Vertex 4 Ycoordinate\n",
       "     3;                        !- Vertex 4 Zcoordinate,\n",
       " \n",
       " BUILDINGSURFACE:DETAILED,\n",
       "     Block West Storey 0 Wall 0002,    !- Name\n",
       "     wall,                     !- Surface Type\n",
       "     ,                         !- Construction Name\n",
       "     Block West Storey 0,      !- Zone Name\n",
       "     ,                         !- Space Name\n",
       "     ,                         !- Outside Boundary Condition\n",
       "     ,                         !- Outside Boundary Condition Object\n",
       "     SunExposed,               !- Sun Exposure\n",
       "     WindExposed,              !- Wind Exposure\n",
       "     autocalculate,            !- View Factor to Ground\n",
       "     autocalculate,            !- Number of Vertices\n",
       "     5,                        !- Vertex 1 Xcoordinate\n",
       "     7,                        !- Vertex 1 Ycoordinate\n",
       "     3,                        !- Vertex 1 Zcoordinate\n",
       "     5,                        !- Vertex 2 Xcoordinate\n",
       "     7,                        !- Vertex 2 Ycoordinate\n",
       "     0,                        !- Vertex 2 Zcoordinate\n",
       "     0,                        !- Vertex 3 Xcoordinate\n",
       "     7,                        !- Vertex 3 Ycoordinate\n",
       "     0,                        !- Vertex 3 Zcoordinate\n",
       "     0,                        !- Vertex 4 Xcoordinate\n",
       "     7,                        !- Vertex 4 Ycoordinate\n",
       "     3;                        !- Vertex 4 Zcoordinate,\n",
       " \n",
       " BUILDINGSURFACE:DETAILED,\n",
       "     Block West Storey 0 Wall 0003,    !- Name\n",
       "     wall,                     !- Surface Type\n",
       "     ,                         !- Construction Name\n",
       "     Block West Storey 0,      !- Zone Name\n",
       "     ,                         !- Space Name\n",
       "     ,                         !- Outside Boundary Condition\n",
       "     ,                         !- Outside Boundary Condition Object\n",
       "     SunExposed,               !- Sun Exposure\n",
       "     WindExposed,              !- Wind Exposure\n",
       "     autocalculate,            !- View Factor to Ground\n",
       "     autocalculate,            !- Number of Vertices\n",
       "     0,                        !- Vertex 1 Xcoordinate\n",
       "     7,                        !- Vertex 1 Ycoordinate\n",
       "     3,                        !- Vertex 1 Zcoordinate\n",
       "     0,                        !- Vertex 2 Xcoordinate\n",
       "     7,                        !- Vertex 2 Ycoordinate\n",
       "     0,                        !- Vertex 2 Zcoordinate\n",
       "     0,                        !- Vertex 3 Xcoordinate\n",
       "     0,                        !- Vertex 3 Ycoordinate\n",
       "     0,                        !- Vertex 3 Zcoordinate\n",
       "     0,                        !- Vertex 4 Xcoordinate\n",
       "     0,                        !- Vertex 4 Ycoordinate\n",
       "     3;                        !- Vertex 4 Zcoordinate,\n",
       " \n",
       " BUILDINGSURFACE:DETAILED,\n",
       "     Block West Storey 0 Wall 0004,    !- Name\n",
       "     wall,                     !- Surface Type\n",
       "     ,                         !- Construction Name\n",
       "     Block West Storey 0,      !- Zone Name\n",
       "     ,                         !- Space Name\n",
       "     ,                         !- Outside Boundary Condition\n",
       "     ,                         !- Outside Boundary Condition Object\n",
       "     SunExposed,               !- Sun Exposure\n",
       "     WindExposed,              !- Wind Exposure\n",
       "     autocalculate,            !- View Factor to Ground\n",
       "     autocalculate,            !- Number of Vertices\n",
       "     0,                        !- Vertex 1 Xcoordinate\n",
       "     0,                        !- Vertex 1 Ycoordinate\n",
       "     3,                        !- Vertex 1 Zcoordinate\n",
       "     0,                        !- Vertex 2 Xcoordinate\n",
       "     0,                        !- Vertex 2 Ycoordinate\n",
       "     0,                        !- Vertex 2 Zcoordinate\n",
       "     5,                        !- Vertex 3 Xcoordinate\n",
       "     0,                        !- Vertex 3 Ycoordinate\n",
       "     0,                        !- Vertex 3 Zcoordinate\n",
       "     5,                        !- Vertex 4 Xcoordinate\n",
       "     0,                        !- Vertex 4 Ycoordinate\n",
       "     3;                        !- Vertex 4 Zcoordinate]"
      ]
     },
     "execution_count": 9,
     "metadata": {},
     "output_type": "execute_result"
    }
   ],
   "source": [
    "e.idf.getsurfaces(\"wall\")"
   ]
  },
  {
   "cell_type": "code",
   "execution_count": 10,
   "metadata": {},
   "outputs": [
    {
     "data": {
      "text/plain": [
       "\n",
       "ZONE,\n",
       "    Block North Storey 0,     !- Name\n",
       "    0,                        !- Direction of Relative North\n",
       "    0,                        !- X Origin\n",
       "    0,                        !- Y Origin\n",
       "    0,                        !- Z Origin\n",
       "    1,                        !- Type\n",
       "    1,                        !- Multiplier\n",
       "    autocalculate,            !- Ceiling Height\n",
       "    autocalculate,            !- Volume\n",
       "    autocalculate,            !- Floor Area\n",
       "    ,                         !- Zone Inside Convection Algorithm\n",
       "    ,                         !- Zone Outside Convection Algorithm\n",
       "    Yes;                      !- Part of Total Floor Area"
      ]
     },
     "execution_count": 10,
     "metadata": {},
     "output_type": "execute_result"
    }
   ],
   "source": [
    "g.zones[0].data"
   ]
  }
 ],
 "metadata": {
  "kernelspec": {
   "display_name": "gqenv",
   "language": "python",
   "name": "python3"
  },
  "language_info": {
   "codemirror_mode": {
    "name": "ipython",
    "version": 3
   },
   "file_extension": ".py",
   "mimetype": "text/x-python",
   "name": "python",
   "nbconvert_exporter": "python",
   "pygments_lexer": "ipython3",
   "version": "3.9.15"
  }
 },
 "nbformat": 4,
 "nbformat_minor": 2
}
