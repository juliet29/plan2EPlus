{
 "cells": [
  {
   "cell_type": "code",
   "execution_count": 1,
   "metadata": {},
   "outputs": [],
   "source": [
    "from helpers import *\n",
    "import fnmatch\n",
    "\n",
    "from shapely import Point, LineString\n",
    "import re"
   ]
  },
  {
   "cell_type": "markdown",
   "metadata": {},
   "source": [
    "### regex example"
   ]
  },
  {
   "cell_type": "code",
   "execution_count": 2,
   "metadata": {},
   "outputs": [
    {
     "data": {
      "text/plain": [
       "['2']"
      ]
     },
     "execution_count": 2,
     "metadata": {},
     "output_type": "execute_result"
    }
   ],
   "source": [
    "# Define the string\n",
    "# example of using regex to find the digits in a string \n",
    "\n",
    "string = \"Vertex_2_Zcoordinate\"\n",
    "\n",
    "# Define the regex pattern to match digits\n",
    "pattern = re.compile(r'\\d+')\n",
    "\n",
    "# Find all matches of the pattern in the string\n",
    "matches = pattern.findall(string)\n",
    "matches"
   ]
  },
  {
   "cell_type": "markdown",
   "metadata": {},
   "source": [
    "## start"
   ]
  },
  {
   "cell_type": "code",
   "execution_count": 3,
   "metadata": {},
   "outputs": [],
   "source": [
    "e = EneryPlusCase(\"test01\")"
   ]
  },
  {
   "cell_type": "code",
   "execution_count": 4,
   "metadata": {},
   "outputs": [],
   "source": [
    "EAST_COORDS = [(10,0), (10,7), (5,7), (5,0)]\n",
    "WEST_COORDS = [(5,0), (5,7), (0,7), (0,0)]\n",
    "NORTH_COORDS = [(10,7), (10,11), (0,11), (0,7)]\n",
    "\n",
    "e.idf.add_block(\n",
    "      name='North',\n",
    "      coordinates=NORTH_COORDS,\n",
    "      height=3\n",
    "    )"
   ]
  },
  {
   "cell_type": "code",
   "execution_count": 5,
   "metadata": {},
   "outputs": [],
   "source": [
    "def get_walls(zone_surfaces):\n",
    "    walls = []\n",
    "    num_vertices = 4 # TODO always check this.. \n",
    "    for surface in zone_surfaces:\n",
    "        valid_fieldnames = fnmatch.filter(surface.fieldnames, f\"Vertex_[0-{num_vertices}]_Zcoordinate\")\n",
    "\n",
    "        valid_values = []\n",
    "        for fieldname in valid_fieldnames:  \n",
    "                valid_values.append(surface[fieldname])\n",
    "\n",
    "        if len(set(valid_values)) == 2:\n",
    "            walls.append(surface)\n",
    "        \n",
    "    return walls\n"
   ]
  },
  {
   "cell_type": "code",
   "execution_count": 6,
   "metadata": {},
   "outputs": [],
   "source": [
    "current_zone = \"Block North Storey 0\"\n",
    "all_surfaces = e.idf.idfobjects[\"BUILDINGSURFACE:DETAILED\"]\n",
    "zone_surfaces = [a for a in all_surfaces if a.Zone_Name==current_zone]"
   ]
  },
  {
   "cell_type": "code",
   "execution_count": 7,
   "metadata": {},
   "outputs": [
    {
     "data": {
      "text/plain": [
       "\n",
       "BUILDINGSURFACE:DETAILED,\n",
       "    Block North Storey 0 Wall 0001,    !- Name\n",
       "    wall,                     !- Surface Type\n",
       "    ,                         !- Construction Name\n",
       "    Block North Storey 0,     !- Zone Name\n",
       "    ,                         !- Space Name\n",
       "    ,                         !- Outside Boundary Condition\n",
       "    ,                         !- Outside Boundary Condition Object\n",
       "    SunExposed,               !- Sun Exposure\n",
       "    WindExposed,              !- Wind Exposure\n",
       "    autocalculate,            !- View Factor to Ground\n",
       "    autocalculate,            !- Number of Vertices\n",
       "    10,                       !- Vertex 1 Xcoordinate\n",
       "    7,                        !- Vertex 1 Ycoordinate\n",
       "    3,                        !- Vertex 1 Zcoordinate\n",
       "    10,                       !- Vertex 2 Xcoordinate\n",
       "    7,                        !- Vertex 2 Ycoordinate\n",
       "    0,                        !- Vertex 2 Zcoordinate\n",
       "    10,                       !- Vertex 3 Xcoordinate\n",
       "    11,                       !- Vertex 3 Ycoordinate\n",
       "    0,                        !- Vertex 3 Zcoordinate\n",
       "    10,                       !- Vertex 4 Xcoordinate\n",
       "    11,                       !- Vertex 4 Ycoordinate\n",
       "    3;                        !- Vertex 4 Zcoordinate"
      ]
     },
     "execution_count": 7,
     "metadata": {},
     "output_type": "execute_result"
    }
   ],
   "source": [
    "walls = get_walls(zone_surfaces)\n",
    "wall = walls[0]\n",
    "wall"
   ]
  },
  {
   "cell_type": "code",
   "execution_count": 8,
   "metadata": {},
   "outputs": [
    {
     "data": {
      "text/plain": [
       "['Vertex_1_Zcoordinate',\n",
       " 'Vertex_2_Zcoordinate',\n",
       " 'Vertex_3_Zcoordinate',\n",
       " 'Vertex_4_Zcoordinate']"
      ]
     },
     "execution_count": 8,
     "metadata": {},
     "output_type": "execute_result"
    }
   ],
   "source": [
    "z_coords = fnmatch.filter(wall.fieldnames, \"Vertex_[0-4]_Zcoordinate\")\n",
    "z_coords"
   ]
  },
  {
   "cell_type": "code",
   "execution_count": 9,
   "metadata": {},
   "outputs": [
    {
     "name": "stderr",
     "output_type": "stream",
     "text": [
      "ic| vertices: [[10.0, 7.0], [10.0, 11.0]]\n"
     ]
    },
    {
     "name": "stdout",
     "output_type": "stream",
     "text": [
      "LINESTRING (10 7, 10 11)\n"
     ]
    }
   ],
   "source": [
    "# this is carried out for a specific wall \n",
    "\n",
    "z_coords = fnmatch.filter(wall.fieldnames, \"Vertex_[0-4]_Zcoordinate\")\n",
    "\n",
    "\n",
    "vertices = []\n",
    "for fieldname in z_coords:\n",
    "    if wall[fieldname] == 0:\n",
    "        matches = pattern.findall(fieldname)\n",
    "        # TODO some tests needed here.. \n",
    "        x_field = fnmatch.filter(wall.fieldnames, f\"Vertex_{matches[0]}_Xcoordinate\")[0]\n",
    "        x_val = wall[x_field]\n",
    "\n",
    "        y_field =  fnmatch.filter(wall.fieldnames, f\"Vertex_{matches[0]}_Ycoordinate\")[0]\n",
    "        y_val = wall[y_field]\n",
    "        vertices.append([x_val, y_val])\n",
    "        \n",
    "\n",
    "\n",
    "ic(vertices) \n",
    "line = LineString(vertices)     \n",
    "print(line)"
   ]
  },
  {
   "cell_type": "code",
   "execution_count": 10,
   "metadata": {},
   "outputs": [],
   "source": [
    "a = Point(2,3)"
   ]
  },
  {
   "cell_type": "markdown",
   "metadata": {},
   "source": [
    "### selecting"
   ]
  },
  {
   "cell_type": "code",
   "execution_count": 11,
   "metadata": {},
   "outputs": [],
   "source": [
    "current_zone = \"Block North Storey 0\"\n",
    "all_surfaces = e.idf.idfobjects[\"BUILDINGSURFACE:DETAILED\"]\n",
    "zone_surfaces = [a for a in all_surfaces if a.Zone_Name==current_zone]"
   ]
  },
  {
   "cell_type": "code",
   "execution_count": 12,
   "metadata": {},
   "outputs": [
    {
     "data": {
      "text/plain": [
       "'Block North Storey 0'"
      ]
     },
     "execution_count": 12,
     "metadata": {},
     "output_type": "execute_result"
    }
   ],
   "source": [
    "z = e.idf.idfobjects[\"ZONE\"][0]\n",
    "z.Name"
   ]
  },
  {
   "cell_type": "code",
   "execution_count": 13,
   "metadata": {},
   "outputs": [],
   "source": [
    "from helper_classes import *\n",
    "from geometry_parser import *"
   ]
  },
  {
   "cell_type": "code",
   "execution_count": 14,
   "metadata": {},
   "outputs": [],
   "source": [
    "zones = [Zone(i) for i in e.idf.idfobjects[\"ZONE\"]]"
   ]
  },
  {
   "cell_type": "code",
   "execution_count": 15,
   "metadata": {},
   "outputs": [
    {
     "data": {
      "text/plain": [
       "[Zone(Block North Storey 0)]"
      ]
     },
     "execution_count": 15,
     "metadata": {},
     "output_type": "execute_result"
    }
   ],
   "source": [
    "zones "
   ]
  },
  {
   "cell_type": "code",
   "execution_count": 16,
   "metadata": {},
   "outputs": [],
   "source": [
    "g = GeometryParser(e.idf)"
   ]
  },
  {
   "cell_type": "code",
   "execution_count": 20,
   "metadata": {},
   "outputs": [],
   "source": [
    "g.get_zones()\n"
   ]
  },
  {
   "cell_type": "code",
   "execution_count": 23,
   "metadata": {},
   "outputs": [
    {
     "data": {
      "text/plain": [
       "[Zone(Block North Storey 0)]"
      ]
     },
     "execution_count": 23,
     "metadata": {},
     "output_type": "execute_result"
    }
   ],
   "source": [
    "g.zones"
   ]
  },
  {
   "cell_type": "code",
   "execution_count": 22,
   "metadata": {},
   "outputs": [],
   "source": [
    "g.get_walls(g.zones[0])"
   ]
  },
  {
   "cell_type": "code",
   "execution_count": 24,
   "metadata": {},
   "outputs": [
    {
     "data": {
      "text/plain": [
       "[Wall(Block North Storey 0 Wall 0001),\n",
       " Wall(Block North Storey 0 Wall 0002),\n",
       " Wall(Block North Storey 0 Wall 0003),\n",
       " Wall(Block North Storey 0 Wall 0004)]"
      ]
     },
     "execution_count": 24,
     "metadata": {},
     "output_type": "execute_result"
    }
   ],
   "source": [
    "g.zones[0].walls"
   ]
  },
  {
   "cell_type": "code",
   "execution_count": null,
   "metadata": {},
   "outputs": [],
   "source": [
    "for zone in g.zones:\n",
    "    g.get_walls(zone)\n",
    "    \n",
    "\n"
   ]
  },
  {
   "cell_type": "code",
   "execution_count": 26,
   "metadata": {},
   "outputs": [],
   "source": [
    "g.zones[0].walls[0].line"
   ]
  },
  {
   "cell_type": "code",
   "execution_count": null,
   "metadata": {},
   "outputs": [
    {
     "name": "stdout",
     "output_type": "stream",
     "text": [
      "[[10.0, 7.0], [10.0, 11.0]]\n"
     ]
    }
   ],
   "source": [
    "g.get_wall_geometry(g.walls[0])"
   ]
  },
  {
   "cell_type": "code",
   "execution_count": null,
   "metadata": {},
   "outputs": [],
   "source": []
  }
 ],
 "metadata": {
  "kernelspec": {
   "display_name": "gqenv",
   "language": "python",
   "name": "python3"
  },
  "language_info": {
   "codemirror_mode": {
    "name": "ipython",
    "version": 3
   },
   "file_extension": ".py",
   "mimetype": "text/x-python",
   "name": "python",
   "nbconvert_exporter": "python",
   "pygments_lexer": "ipython3",
   "version": "3.9.15"
  }
 },
 "nbformat": 4,
 "nbformat_minor": 2
}
