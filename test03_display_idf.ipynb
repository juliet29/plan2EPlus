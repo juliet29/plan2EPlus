{
 "cells": [
  {
   "cell_type": "code",
   "execution_count": 3,
   "metadata": {},
   "outputs": [],
   "source": [
    "from helpers import *\n",
    "import fnmatch"
   ]
  },
  {
   "cell_type": "code",
   "execution_count": 4,
   "metadata": {},
   "outputs": [],
   "source": [
    "e = EneryPlusCase(\"test01\")"
   ]
  },
  {
   "cell_type": "code",
   "execution_count": 5,
   "metadata": {},
   "outputs": [],
   "source": [
    "EAST_COORDS = [(10,0), (10,7), (5,7), (5,0)]\n",
    "WEST_COORDS = [(5,0), (5,7), (0,7), (0,0)]\n",
    "NORTH_COORDS = [(10,7), (10,11), (0,11), (0,7)]\n",
    "\n",
    "e.idf.add_block(\n",
    "      name='North',\n",
    "      coordinates=NORTH_COORDS,\n",
    "      height=3\n",
    "    )"
   ]
  },
  {
   "cell_type": "code",
   "execution_count": 48,
   "metadata": {},
   "outputs": [],
   "source": [
    "def get_walls(zone_surfaces):\n",
    "    walls = []\n",
    "    num_vertices = 4 # TODO always check this.. \n",
    "    for surface in zone_surfaces:\n",
    "        valid_fieldnames = fnmatch.filter(surface.fieldnames, f\"Vertex_[0-{num_vertices}]_Zcoordinate\")\n",
    "\n",
    "        valid_values = []\n",
    "        for fieldname in valid_fieldnames:  \n",
    "                valid_values.append(surface[fieldname])\n",
    "\n",
    "        if len(set(valid_values)) == 2:\n",
    "            walls.append(surface)\n",
    "        \n",
    "    return walls\n"
   ]
  },
  {
   "cell_type": "code",
   "execution_count": 17,
   "metadata": {},
   "outputs": [],
   "source": [
    "current_zone = \"Block North Storey 0\"\n",
    "all_surfaces = e.idf.idfobjects[\"BUILDINGSURFACE:DETAILED\"]\n",
    "zone_surfaces = [a for a in all_surfaces if a.Zone_Name==current_zone]"
   ]
  },
  {
   "cell_type": "code",
   "execution_count": 44,
   "metadata": {},
   "outputs": [
    {
     "data": {
      "text/plain": [
       "\n",
       "BUILDINGSURFACE:DETAILED,\n",
       "    Block North Storey 0 Wall 0001,    !- Name\n",
       "    wall,                     !- Surface Type\n",
       "    ,                         !- Construction Name\n",
       "    Block North Storey 0,     !- Zone Name\n",
       "    ,                         !- Space Name\n",
       "    ,                         !- Outside Boundary Condition\n",
       "    ,                         !- Outside Boundary Condition Object\n",
       "    SunExposed,               !- Sun Exposure\n",
       "    WindExposed,              !- Wind Exposure\n",
       "    autocalculate,            !- View Factor to Ground\n",
       "    autocalculate,            !- Number of Vertices\n",
       "    10,                       !- Vertex 1 Xcoordinate\n",
       "    7,                        !- Vertex 1 Ycoordinate\n",
       "    3,                        !- Vertex 1 Zcoordinate\n",
       "    10,                       !- Vertex 2 Xcoordinate\n",
       "    7,                        !- Vertex 2 Ycoordinate\n",
       "    0,                        !- Vertex 2 Zcoordinate\n",
       "    10,                       !- Vertex 3 Xcoordinate\n",
       "    11,                       !- Vertex 3 Ycoordinate\n",
       "    0,                        !- Vertex 3 Zcoordinate\n",
       "    10,                       !- Vertex 4 Xcoordinate\n",
       "    11,                       !- Vertex 4 Ycoordinate\n",
       "    3;                        !- Vertex 4 Zcoordinate"
      ]
     },
     "execution_count": 44,
     "metadata": {},
     "output_type": "execute_result"
    }
   ],
   "source": [
    "walls = get_walls(zone_surfaces)\n",
    "wall = walls[0]\n",
    "wall"
   ]
  },
  {
   "cell_type": "code",
   "execution_count": 53,
   "metadata": {},
   "outputs": [
    {
     "data": {
      "text/plain": [
       "['Vertex_1_Zcoordinate',\n",
       " 'Vertex_2_Zcoordinate',\n",
       " 'Vertex_3_Zcoordinate',\n",
       " 'Vertex_4_Zcoordinate']"
      ]
     },
     "execution_count": 53,
     "metadata": {},
     "output_type": "execute_result"
    }
   ],
   "source": [
    "z_coords = fnmatch.filter(wall.fieldnames, \"Vertex_[0-4]_Zcoordinate\")\n",
    "z_coords"
   ]
  },
  {
   "cell_type": "code",
   "execution_count": 52,
   "metadata": {},
   "outputs": [
    {
     "data": {
      "text/plain": [
       "3.0"
      ]
     },
     "execution_count": 52,
     "metadata": {},
     "output_type": "execute_result"
    }
   ],
   "source": [
    "wall[valid_fieldnames[0]]"
   ]
  },
  {
   "cell_type": "code",
   "execution_count": 56,
   "metadata": {},
   "outputs": [],
   "source": [
    "from shapely import Point\n",
    "import re"
   ]
  },
  {
   "cell_type": "code",
   "execution_count": 59,
   "metadata": {},
   "outputs": [
    {
     "data": {
      "text/plain": [
       "['2']"
      ]
     },
     "execution_count": 59,
     "metadata": {},
     "output_type": "execute_result"
    }
   ],
   "source": [
    "# Define the string\n",
    "string = \"Vertex_2_Zcoordinate\"\n",
    "\n",
    "# Define the regex pattern to match digits\n",
    "pattern = re.compile(r'\\d+')\n",
    "\n",
    "# Find all matches of the pattern in the string\n",
    "matches = pattern.findall(string)\n",
    "matches"
   ]
  },
  {
   "cell_type": "code",
   "execution_count": 62,
   "metadata": {},
   "outputs": [
    {
     "data": {
      "text/plain": [
       "['Vertex_2_Xcoordinate']"
      ]
     },
     "execution_count": 62,
     "metadata": {},
     "output_type": "execute_result"
    }
   ],
   "source": [
    "m = matches[0]\n",
    "fnmatch.filter(wall.fieldnames, f\"Vertex_{m}_Xcoordinate\")"
   ]
  },
  {
   "cell_type": "code",
   "execution_count": 67,
   "metadata": {},
   "outputs": [
    {
     "name": "stdout",
     "output_type": "stream",
     "text": [
      "[[10.0, 7.0], [10.0, 11.0]]\n"
     ]
    }
   ],
   "source": [
    "vertices = []\n",
    "for fieldname in z_coords:\n",
    "    if wall[fieldname] == 0:\n",
    "        matches = pattern.findall(fieldname)\n",
    "        # TODO some tests needed here.. \n",
    "        x_field = fnmatch.filter(wall.fieldnames, f\"Vertex_{matches[0]}_Xcoordinate\")[0]\n",
    "        x_val = wall[x_field]\n",
    "\n",
    "        y_field =  fnmatch.filter(wall.fieldnames, f\"Vertex_{matches[0]}_Ycoordinate\")[0]\n",
    "        y_val = wall[y_field]\n",
    "        vertices.append([x_val, y_val])\n",
    "        \n",
    "print(vertices)"
   ]
  },
  {
   "cell_type": "code",
   "execution_count": 69,
   "metadata": {},
   "outputs": [],
   "source": [
    "a = Point(2,3)"
   ]
  },
  {
   "cell_type": "code",
   "execution_count": 75,
   "metadata": {},
   "outputs": [
    {
     "data": {
      "text/plain": [
       "2.0"
      ]
     },
     "execution_count": 75,
     "metadata": {},
     "output_type": "execute_result"
    }
   ],
   "source": [
    "a.x"
   ]
  },
  {
   "cell_type": "code",
   "execution_count": 77,
   "metadata": {},
   "outputs": [
    {
     "data": {
      "text/plain": [
       "3.0"
      ]
     },
     "execution_count": 77,
     "metadata": {},
     "output_type": "execute_result"
    }
   ],
   "source": [
    "a.y"
   ]
  },
  {
   "cell_type": "code",
   "execution_count": 76,
   "metadata": {},
   "outputs": [
    {
     "data": {
      "text/plain": [
       "(array('d', [2.0]), array('d', [3.0]))"
      ]
     },
     "execution_count": 76,
     "metadata": {},
     "output_type": "execute_result"
    }
   ],
   "source": [
    "a.xy"
   ]
  },
  {
   "cell_type": "code",
   "execution_count": 74,
   "metadata": {},
   "outputs": [
    {
     "data": {
      "text/plain": [
       "[(2.0, 3.0)]"
      ]
     },
     "execution_count": 74,
     "metadata": {},
     "output_type": "execute_result"
    }
   ],
   "source": [
    "[a for a in a.coords]"
   ]
  }
 ],
 "metadata": {
  "kernelspec": {
   "display_name": "gqenv",
   "language": "python",
   "name": "python3"
  },
  "language_info": {
   "codemirror_mode": {
    "name": "ipython",
    "version": 3
   },
   "file_extension": ".py",
   "mimetype": "text/x-python",
   "name": "python",
   "nbconvert_exporter": "python",
   "pygments_lexer": "ipython3",
   "version": "3.9.15"
  }
 },
 "nbformat": 4,
 "nbformat_minor": 2
}
