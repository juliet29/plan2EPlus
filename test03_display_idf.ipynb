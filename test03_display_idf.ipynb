{
 "cells": [
  {
   "cell_type": "code",
   "execution_count": 3,
   "metadata": {},
   "outputs": [],
   "source": [
    "from helpers import *\n",
    "import fnmatch"
   ]
  },
  {
   "cell_type": "code",
   "execution_count": 4,
   "metadata": {},
   "outputs": [],
   "source": [
    "e = EneryPlusCase(\"test01\")"
   ]
  },
  {
   "cell_type": "code",
   "execution_count": 5,
   "metadata": {},
   "outputs": [],
   "source": [
    "EAST_COORDS = [(10,0), (10,7), (5,7), (5,0)]\n",
    "WEST_COORDS = [(5,0), (5,7), (0,7), (0,0)]\n",
    "NORTH_COORDS = [(10,7), (10,11), (0,11), (0,7)]\n",
    "\n",
    "e.idf.add_block(\n",
    "      name='North',\n",
    "      coordinates=NORTH_COORDS,\n",
    "      height=3\n",
    "    )"
   ]
  },
  {
   "cell_type": "code",
   "execution_count": 41,
   "metadata": {},
   "outputs": [],
   "source": [
    "def get_walls(zone_surfaces):\n",
    "    walls = []\n",
    "    for surface in zone_surfaces:\n",
    "        valid_fieldnames = fnmatch.filter(surface.fieldnames, \"Vertex_?_Zcoordinate\")\n",
    "\n",
    "        valid_values = []\n",
    "        for fieldname in valid_fieldnames:  \n",
    "            if type(surface[fieldname]) is float:\n",
    "                valid_values.append(surface[fieldname])\n",
    "\n",
    "        if len(set(valid_values)) == 2:\n",
    "            walls.append(surface)\n",
    "        \n",
    "    return walls\n"
   ]
  },
  {
   "cell_type": "code",
   "execution_count": 17,
   "metadata": {},
   "outputs": [],
   "source": [
    "current_zone = \"Block North Storey 0\"\n",
    "all_surfaces = e.idf.idfobjects[\"BUILDINGSURFACE:DETAILED\"]\n",
    "zone_surfaces = [a for a in all_surfaces if a.Zone_Name==current_zone]"
   ]
  },
  {
   "cell_type": "code",
   "execution_count": 43,
   "metadata": {},
   "outputs": [
    {
     "data": {
      "text/plain": [
       "\n",
       "BUILDINGSURFACE:DETAILED,\n",
       "    Block North Storey 0 Wall 0001,    !- Name\n",
       "    wall,                     !- Surface Type\n",
       "    ,                         !- Construction Name\n",
       "    Block North Storey 0,     !- Zone Name\n",
       "    ,                         !- Space Name\n",
       "    ,                         !- Outside Boundary Condition\n",
       "    ,                         !- Outside Boundary Condition Object\n",
       "    SunExposed,               !- Sun Exposure\n",
       "    WindExposed,              !- Wind Exposure\n",
       "    autocalculate,            !- View Factor to Ground\n",
       "    autocalculate,            !- Number of Vertices\n",
       "    10,                       !- Vertex 1 Xcoordinate\n",
       "    7,                        !- Vertex 1 Ycoordinate\n",
       "    3,                        !- Vertex 1 Zcoordinate\n",
       "    10,                       !- Vertex 2 Xcoordinate\n",
       "    7,                        !- Vertex 2 Ycoordinate\n",
       "    0,                        !- Vertex 2 Zcoordinate\n",
       "    10,                       !- Vertex 3 Xcoordinate\n",
       "    11,                       !- Vertex 3 Ycoordinate\n",
       "    0,                        !- Vertex 3 Zcoordinate\n",
       "    10,                       !- Vertex 4 Xcoordinate\n",
       "    11,                       !- Vertex 4 Ycoordinate\n",
       "    3;                        !- Vertex 4 Zcoordinate"
      ]
     },
     "execution_count": 43,
     "metadata": {},
     "output_type": "execute_result"
    }
   ],
   "source": [
    "walls = get_walls(zone_surfaces)\n",
    "walls[0]"
   ]
  }
 ],
 "metadata": {
  "kernelspec": {
   "display_name": "gqenv",
   "language": "python",
   "name": "python3"
  },
  "language_info": {
   "codemirror_mode": {
    "name": "ipython",
    "version": 3
   },
   "file_extension": ".py",
   "mimetype": "text/x-python",
   "name": "python",
   "nbconvert_exporter": "python",
   "pygments_lexer": "ipython3",
   "version": "3.9.15"
  }
 },
 "nbformat": 4,
 "nbformat_minor": 2
}
